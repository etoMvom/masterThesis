{
  "cells": [
    {
      "cell_type": "markdown",
      "source": [
        "Uploading the pyCode.zip file"
      ],
      "metadata": {
        "id": "GrdHCnlrZA8I"
      }
    },
    {
      "cell_type": "code",
      "source": [
        "from google.colab import files\n",
        "uploaded = files.upload()"
      ],
      "metadata": {
        "id": "LEhB-7NftgAZ",
        "outputId": "d16d0c25-fcf3-4ec2-8167-1df9ff4bd1ae",
        "colab": {
          "base_uri": "https://localhost:8080/",
          "height": 73
        }
      },
      "execution_count": 1,
      "outputs": [
        {
          "output_type": "display_data",
          "data": {
            "text/plain": [
              "<IPython.core.display.HTML object>"
            ],
            "text/html": [
              "\n",
              "     <input type=\"file\" id=\"files-8b2b0c4e-724b-4695-a9ad-06fa9f23c224\" name=\"files[]\" multiple disabled\n",
              "        style=\"border:none\" />\n",
              "     <output id=\"result-8b2b0c4e-724b-4695-a9ad-06fa9f23c224\">\n",
              "      Upload widget is only available when the cell has been executed in the\n",
              "      current browser session. Please rerun this cell to enable.\n",
              "      </output>\n",
              "      <script>// Copyright 2017 Google LLC\n",
              "//\n",
              "// Licensed under the Apache License, Version 2.0 (the \"License\");\n",
              "// you may not use this file except in compliance with the License.\n",
              "// You may obtain a copy of the License at\n",
              "//\n",
              "//      http://www.apache.org/licenses/LICENSE-2.0\n",
              "//\n",
              "// Unless required by applicable law or agreed to in writing, software\n",
              "// distributed under the License is distributed on an \"AS IS\" BASIS,\n",
              "// WITHOUT WARRANTIES OR CONDITIONS OF ANY KIND, either express or implied.\n",
              "// See the License for the specific language governing permissions and\n",
              "// limitations under the License.\n",
              "\n",
              "/**\n",
              " * @fileoverview Helpers for google.colab Python module.\n",
              " */\n",
              "(function(scope) {\n",
              "function span(text, styleAttributes = {}) {\n",
              "  const element = document.createElement('span');\n",
              "  element.textContent = text;\n",
              "  for (const key of Object.keys(styleAttributes)) {\n",
              "    element.style[key] = styleAttributes[key];\n",
              "  }\n",
              "  return element;\n",
              "}\n",
              "\n",
              "// Max number of bytes which will be uploaded at a time.\n",
              "const MAX_PAYLOAD_SIZE = 100 * 1024;\n",
              "\n",
              "function _uploadFiles(inputId, outputId) {\n",
              "  const steps = uploadFilesStep(inputId, outputId);\n",
              "  const outputElement = document.getElementById(outputId);\n",
              "  // Cache steps on the outputElement to make it available for the next call\n",
              "  // to uploadFilesContinue from Python.\n",
              "  outputElement.steps = steps;\n",
              "\n",
              "  return _uploadFilesContinue(outputId);\n",
              "}\n",
              "\n",
              "// This is roughly an async generator (not supported in the browser yet),\n",
              "// where there are multiple asynchronous steps and the Python side is going\n",
              "// to poll for completion of each step.\n",
              "// This uses a Promise to block the python side on completion of each step,\n",
              "// then passes the result of the previous step as the input to the next step.\n",
              "function _uploadFilesContinue(outputId) {\n",
              "  const outputElement = document.getElementById(outputId);\n",
              "  const steps = outputElement.steps;\n",
              "\n",
              "  const next = steps.next(outputElement.lastPromiseValue);\n",
              "  return Promise.resolve(next.value.promise).then((value) => {\n",
              "    // Cache the last promise value to make it available to the next\n",
              "    // step of the generator.\n",
              "    outputElement.lastPromiseValue = value;\n",
              "    return next.value.response;\n",
              "  });\n",
              "}\n",
              "\n",
              "/**\n",
              " * Generator function which is called between each async step of the upload\n",
              " * process.\n",
              " * @param {string} inputId Element ID of the input file picker element.\n",
              " * @param {string} outputId Element ID of the output display.\n",
              " * @return {!Iterable<!Object>} Iterable of next steps.\n",
              " */\n",
              "function* uploadFilesStep(inputId, outputId) {\n",
              "  const inputElement = document.getElementById(inputId);\n",
              "  inputElement.disabled = false;\n",
              "\n",
              "  const outputElement = document.getElementById(outputId);\n",
              "  outputElement.innerHTML = '';\n",
              "\n",
              "  const pickedPromise = new Promise((resolve) => {\n",
              "    inputElement.addEventListener('change', (e) => {\n",
              "      resolve(e.target.files);\n",
              "    });\n",
              "  });\n",
              "\n",
              "  const cancel = document.createElement('button');\n",
              "  inputElement.parentElement.appendChild(cancel);\n",
              "  cancel.textContent = 'Cancel upload';\n",
              "  const cancelPromise = new Promise((resolve) => {\n",
              "    cancel.onclick = () => {\n",
              "      resolve(null);\n",
              "    };\n",
              "  });\n",
              "\n",
              "  // Wait for the user to pick the files.\n",
              "  const files = yield {\n",
              "    promise: Promise.race([pickedPromise, cancelPromise]),\n",
              "    response: {\n",
              "      action: 'starting',\n",
              "    }\n",
              "  };\n",
              "\n",
              "  cancel.remove();\n",
              "\n",
              "  // Disable the input element since further picks are not allowed.\n",
              "  inputElement.disabled = true;\n",
              "\n",
              "  if (!files) {\n",
              "    return {\n",
              "      response: {\n",
              "        action: 'complete',\n",
              "      }\n",
              "    };\n",
              "  }\n",
              "\n",
              "  for (const file of files) {\n",
              "    const li = document.createElement('li');\n",
              "    li.append(span(file.name, {fontWeight: 'bold'}));\n",
              "    li.append(span(\n",
              "        `(${file.type || 'n/a'}) - ${file.size} bytes, ` +\n",
              "        `last modified: ${\n",
              "            file.lastModifiedDate ? file.lastModifiedDate.toLocaleDateString() :\n",
              "                                    'n/a'} - `));\n",
              "    const percent = span('0% done');\n",
              "    li.appendChild(percent);\n",
              "\n",
              "    outputElement.appendChild(li);\n",
              "\n",
              "    const fileDataPromise = new Promise((resolve) => {\n",
              "      const reader = new FileReader();\n",
              "      reader.onload = (e) => {\n",
              "        resolve(e.target.result);\n",
              "      };\n",
              "      reader.readAsArrayBuffer(file);\n",
              "    });\n",
              "    // Wait for the data to be ready.\n",
              "    let fileData = yield {\n",
              "      promise: fileDataPromise,\n",
              "      response: {\n",
              "        action: 'continue',\n",
              "      }\n",
              "    };\n",
              "\n",
              "    // Use a chunked sending to avoid message size limits. See b/62115660.\n",
              "    let position = 0;\n",
              "    do {\n",
              "      const length = Math.min(fileData.byteLength - position, MAX_PAYLOAD_SIZE);\n",
              "      const chunk = new Uint8Array(fileData, position, length);\n",
              "      position += length;\n",
              "\n",
              "      const base64 = btoa(String.fromCharCode.apply(null, chunk));\n",
              "      yield {\n",
              "        response: {\n",
              "          action: 'append',\n",
              "          file: file.name,\n",
              "          data: base64,\n",
              "        },\n",
              "      };\n",
              "\n",
              "      let percentDone = fileData.byteLength === 0 ?\n",
              "          100 :\n",
              "          Math.round((position / fileData.byteLength) * 100);\n",
              "      percent.textContent = `${percentDone}% done`;\n",
              "\n",
              "    } while (position < fileData.byteLength);\n",
              "  }\n",
              "\n",
              "  // All done.\n",
              "  yield {\n",
              "    response: {\n",
              "      action: 'complete',\n",
              "    }\n",
              "  };\n",
              "}\n",
              "\n",
              "scope.google = scope.google || {};\n",
              "scope.google.colab = scope.google.colab || {};\n",
              "scope.google.colab._files = {\n",
              "  _uploadFiles,\n",
              "  _uploadFilesContinue,\n",
              "};\n",
              "})(self);\n",
              "</script> "
            ]
          },
          "metadata": {}
        },
        {
          "output_type": "stream",
          "name": "stdout",
          "text": [
            "Saving pyCode.zip to pyCode.zip\n"
          ]
        }
      ]
    },
    {
      "cell_type": "code",
      "source": [
        "import os\n",
        "print(os.listdir('/content/'))"
      ],
      "metadata": {
        "id": "Orz1qRZhuKzw",
        "outputId": "5490d084-db53-4d46-deed-d90c6f1b62b5",
        "colab": {
          "base_uri": "https://localhost:8080/"
        }
      },
      "execution_count": 2,
      "outputs": [
        {
          "output_type": "stream",
          "name": "stdout",
          "text": [
            "['.config', 'pyCode.zip', 'sample_data']\n"
          ]
        }
      ]
    },
    {
      "cell_type": "code",
      "source": [
        "!pip install biopython"
      ],
      "metadata": {
        "id": "kZVeHYTS0PMx",
        "outputId": "6c684039-202f-4f35-d9bd-c0429d84349c",
        "colab": {
          "base_uri": "https://localhost:8080/"
        }
      },
      "execution_count": 3,
      "outputs": [
        {
          "output_type": "stream",
          "name": "stdout",
          "text": [
            "Collecting biopython\n",
            "  Downloading biopython-1.85-cp311-cp311-manylinux_2_17_x86_64.manylinux2014_x86_64.whl.metadata (13 kB)\n",
            "Requirement already satisfied: numpy in /usr/local/lib/python3.11/dist-packages (from biopython) (2.0.2)\n",
            "Downloading biopython-1.85-cp311-cp311-manylinux_2_17_x86_64.manylinux2014_x86_64.whl (3.3 MB)\n",
            "\u001b[?25l   \u001b[90m━━━━━━━━━━━━━━━━━━━━━━━━━━━━━━━━━━━━━━━━\u001b[0m \u001b[32m0.0/3.3 MB\u001b[0m \u001b[31m?\u001b[0m eta \u001b[36m-:--:--\u001b[0m\r\u001b[2K   \u001b[91m━━━━━━━━━━━━━━━━━━━━━━━━━━━━━━━━━━━━━━━\u001b[0m\u001b[91m╸\u001b[0m \u001b[32m3.3/3.3 MB\u001b[0m \u001b[31m131.7 MB/s\u001b[0m eta \u001b[36m0:00:01\u001b[0m\r\u001b[2K   \u001b[90m━━━━━━━━━━━━━━━━━━━━━━━━━━━━━━━━━━━━━━━━\u001b[0m \u001b[32m3.3/3.3 MB\u001b[0m \u001b[31m65.5 MB/s\u001b[0m eta \u001b[36m0:00:00\u001b[0m\n",
            "\u001b[?25hInstalling collected packages: biopython\n",
            "Successfully installed biopython-1.85\n"
          ]
        }
      ]
    },
    {
      "cell_type": "code",
      "source": [
        "!pip install tqdm"
      ],
      "metadata": {
        "colab": {
          "base_uri": "https://localhost:8080/"
        },
        "id": "XjeqVLnWV8pl",
        "outputId": "b78582ff-c4ff-4b16-96a4-f656a0e2ce9d"
      },
      "execution_count": 4,
      "outputs": [
        {
          "output_type": "stream",
          "name": "stdout",
          "text": [
            "Requirement already satisfied: tqdm in /usr/local/lib/python3.11/dist-packages (4.67.1)\n"
          ]
        }
      ]
    },
    {
      "cell_type": "code",
      "source": [
        "!unzip -q 'pyCode.zip'"
      ],
      "metadata": {
        "id": "dMRSdw3ouTJ1"
      },
      "execution_count": 5,
      "outputs": []
    },
    {
      "cell_type": "code",
      "source": [
        "import os\n",
        "print(os.listdir('/content/'))"
      ],
      "metadata": {
        "id": "2dhfoNb6ubP8",
        "outputId": "e49fe108-efdf-4497-f9aa-cd7dfcbea685",
        "colab": {
          "base_uri": "https://localhost:8080/"
        }
      },
      "execution_count": 6,
      "outputs": [
        {
          "output_type": "stream",
          "name": "stdout",
          "text": [
            "['.config', 'pyCode.zip', 'pyCode', 'sample_data']\n"
          ]
        }
      ]
    },
    {
      "cell_type": "code",
      "source": [
        "!python3 /content/pyCode/main.py"
      ],
      "metadata": {
        "id": "yN8C6yI2uc-5",
        "outputId": "46dd505b-744d-4679-a92b-e3dcd76580d7",
        "colab": {
          "base_uri": "https://localhost:8080/"
        }
      },
      "execution_count": 7,
      "outputs": [
        {
          "output_type": "stream",
          "name": "stdout",
          "text": [
            "[nltk_data] Downloading package stopwords to /root/nltk_data...\n",
            "[nltk_data]   Unzipping corpora/stopwords.zip.\n",
            "[nltk_data] Downloading package wordnet to /root/nltk_data...\n",
            "tokenizer_config.json: 100% 28.0/28.0 [00:00<00:00, 122kB/s]\n",
            "config.json: 100% 385/385 [00:00<00:00, 2.31MB/s]\n",
            "vocab.txt: 100% 226k/226k [00:00<00:00, 33.9MB/s]\n",
            "2025-04-13 08:39:08.116774: E external/local_xla/xla/stream_executor/cuda/cuda_fft.cc:477] Unable to register cuFFT factory: Attempting to register factory for plugin cuFFT when one has already been registered\n",
            "WARNING: All log messages before absl::InitializeLog() is called are written to STDERR\n",
            "E0000 00:00:1744533548.135107     597 cuda_dnn.cc:8310] Unable to register cuDNN factory: Attempting to register factory for plugin cuDNN when one has already been registered\n",
            "E0000 00:00:1744533548.141153     597 cuda_blas.cc:1418] Unable to register cuBLAS factory: Attempting to register factory for plugin cuBLAS when one has already been registered\n",
            "2025-04-13 08:39:08.161095: I tensorflow/core/platform/cpu_feature_guard.cc:210] This TensorFlow binary is optimized to use available CPU instructions in performance-critical operations.\n",
            "To enable the following instructions: AVX2 AVX512F FMA, in other operations, rebuild TensorFlow with the appropriate compiler flags.\n",
            "pytorch_model.bin: 100% 440M/440M [00:03<00:00, 130MB/s]\n",
            "Searching for Tuberculosis...\n",
            "Fetching PubMed abstracts: 100% 5000/5000 [00:32<00:00, 152.51it/s]\n",
            "Searching for Cholera...\n",
            "Fetching PubMed abstracts: 100% 5000/5000 [00:33<00:00, 149.46it/s]\n",
            "Searching for Leprosy...\n",
            "Fetching PubMed abstracts: 100% 5000/5000 [00:33<00:00, 149.03it/s]\n",
            "Searching for Ebola...\n",
            "Fetching PubMed abstracts: 100% 2879/2879 [00:18<00:00, 159.88it/s]\n",
            "Searching for Leukemia...\n",
            "Fetching PubMed abstracts: 100% 5000/5000 [00:32<00:00, 151.90it/s]\n",
            "Searching for Asthma...\n",
            "Fetching PubMed abstracts: 100% 5000/5000 [00:31<00:00, 160.52it/s]\n",
            "Searching for Parkinson...\n",
            "Fetching PubMed abstracts: 100% 5000/5000 [00:31<00:00, 160.63it/s]\n",
            "Searching for Lupus...\n",
            "Fetching PubMed abstracts: 100% 5000/5000 [00:28<00:00, 175.42it/s]\n",
            "Searching for Cystic Fibrosis...\n",
            "Fetching PubMed abstracts: 100% 5000/5000 [00:31<00:00, 159.98it/s]\n",
            "<class 'pandas.core.frame.DataFrame'>\n",
            "RangeIndex: 38649 entries, 0 to 38648\n",
            "Data columns (total 9 columns):\n",
            " #   Column            Non-Null Count  Dtype \n",
            "---  ------            --------------  ----- \n",
            " 0   PMID              38649 non-null  object\n",
            " 1   Title             38649 non-null  object\n",
            " 2   Abstract          38649 non-null  object\n",
            " 3   Keywords          38649 non-null  object\n",
            " 4   PublicationYear   38649 non-null  object\n",
            " 5   MeSH_Terms        38649 non-null  object\n",
            " 6   Cleaned_Abstract  38649 non-null  object\n",
            " 7   Label             38649 non-null  int64 \n",
            " 8   Disease           38649 non-null  object\n",
            "dtypes: int64(1), object(8)\n",
            "memory usage: 2.7+ MB\n",
            "None\n",
            "\n",
            "Label\n",
            "6    4733\n",
            "7    4658\n",
            "1    4639\n",
            "0    4638\n",
            "4    4545\n",
            "8    4499\n",
            "5    4452\n",
            "2    3884\n",
            "3    2601\n",
            "Name: count, dtype: int64\n",
            "\n",
            "\n",
            "PubMedBERT_GRU_Attention(\n",
            "  (gru): GRU(768, 256, num_layers=2, batch_first=True, bidirectional=True)\n",
            "  (attention): BahdanauAttention(\n",
            "    (W): Linear(in_features=512, out_features=256, bias=True)\n",
            "    (v): Linear(in_features=256, out_features=1, bias=False)\n",
            "  )\n",
            "  (fc): Linear(in_features=512, out_features=9, bias=True)\n",
            "  (dropout): Dropout(p=0.6, inplace=False)\n",
            ")\n",
            "\n",
            "2894857 model parameters\n",
            "\n",
            "Evaluating: 100% 2054/2054 [13:26<00:00,  2.55it/s]\n",
            "Testing: 100% 363/363 [02:08<00:00,  2.83it/s]\n",
            "Epoch 1/4 | Train Loss: 0.5043, Train Acc: 84.49% | Test Loss: 0.2548, Test Acc: 92.00% | F1: 91.99%, Bal Acc: 92.10%, Recall: 92.00%, Precision: 92.10% | Time: 15m 35s\n",
            "Evaluating: 100% 2054/2054 [13:26<00:00,  2.55it/s]\n",
            "Testing: 100% 363/363 [02:08<00:00,  2.83it/s]\n",
            "Epoch 2/4 | Train Loss: 0.2580, Train Acc: 92.05% | Test Loss: 0.2353, Test Acc: 92.24% | F1: 92.20%, Bal Acc: 92.30%, Recall: 92.24%, Precision: 92.32% | Time: 15m 34s\n",
            "Evaluating: 100% 2054/2054 [13:25<00:00,  2.55it/s]\n",
            "Testing: 100% 363/363 [02:08<00:00,  2.83it/s]\n",
            "Epoch 3/4 | Train Loss: 0.2323, Train Acc: 92.67% | Test Loss: 0.2298, Test Acc: 92.14% | F1: 92.20%, Bal Acc: 92.30%, Recall: 92.14%, Precision: 92.34% | Time: 15m 33s\n",
            "Evaluating: 100% 2054/2054 [13:25<00:00,  2.55it/s]\n",
            "Testing: 100% 363/363 [02:08<00:00,  2.83it/s]\n",
            "Epoch 4/4 | Train Loss: 0.2178, Train Acc: 93.10% | Test Loss: 0.2293, Test Acc: 92.45% | F1: 92.44%, Bal Acc: 92.51%, Recall: 92.45%, Precision: 92.54% | Time: 15m 33s\n",
            "Saving final model.\n"
          ]
        }
      ]
    }
  ],
  "metadata": {
    "colab": {
      "provenance": [],
      "gpuType": "T4"
    },
    "kernelspec": {
      "display_name": "Python 3",
      "name": "python3"
    },
    "accelerator": "GPU"
  },
  "nbformat": 4,
  "nbformat_minor": 0
}