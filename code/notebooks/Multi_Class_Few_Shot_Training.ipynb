{
  "cells": [
    {
      "cell_type": "markdown",
      "source": [
        "---\n",
        "# Classification of Biomedical Texts with Deep Learning: LSTM, GRU, and Self-Attention\n",
        "\n",
        "---"
      ],
      "metadata": {
        "id": "JkCLbu33lObU"
      }
    },
    {
      "cell_type": "markdown",
      "source": [
        "**Few-shot training** is a learning paradigm in which a model is trained using only a very small number of labeled examples per class. In this study, Classification of Biomedical Texts with Deep Learning: LSTM, GRU, and Self-Attention, few-shot training is used to evaluate how well different deep learning architectures can generalize from limited annotated biomedical data.\n",
        "\n",
        "This approach is especially relevant in biomedical domains where obtaining large labeled datasets is often expensive and time-consuming. By testing various models under few-shot conditions (e.g., 1, 5, or 20 examples per class), we aim to assess their robustness, adaptability, and efficiency in low-resource settings—providing insight into which architectures are better suited for real-world biomedical applications with limited training data."
      ],
      "metadata": {
        "id": "Y0cmtg4BlRxH"
      }
    },
    {
      "cell_type": "code",
      "source": [
        "import pandas as pd\n",
        "import nltk\n",
        "from nltk.corpus import stopwords\n",
        "from collections import defaultdict\n",
        "from collections import Counter\n",
        "import random\n",
        "import time\n",
        "import re\n",
        "\n",
        "from tqdm import tqdm\n",
        "import numpy as np\n",
        "import torch\n",
        "import wandb\n",
        "\n",
        "import matplotlib.pyplot as plt\n",
        "from sklearn.manifold import TSNE\n",
        "import seaborn as sns\n",
        "\n",
        "import torch\n",
        "import torch.nn as nn\n",
        "import torch.optim as optim\n",
        "from sklearn.decomposition import PCA\n",
        "from imblearn.over_sampling import SMOTE\n",
        "from sklearn.metrics import accuracy_score, f1_score\n",
        "from sklearn.utils.class_weight import compute_class_weight\n",
        "from sklearn.model_selection import train_test_split\n",
        "from torch.utils.data.dataset import ConcatDataset\n",
        "from sklearn.utils.class_weight import compute_class_weight\n",
        "\n",
        "from torch.utils.data import DataLoader, TensorDataset, Dataset\n",
        "from sklearn.preprocessing import LabelEncoder\n",
        "from torch.nn.utils.rnn import pad_sequence\n",
        "from sklearn.metrics import f1_score, confusion_matrix, balanced_accuracy_score, precision_score, recall_score\n",
        "from sklearn.metrics import classification_report, confusion_matrix, ConfusionMatrixDisplay\n",
        "\n",
        "from imblearn.over_sampling import SMOTE\n",
        "from imblearn.over_sampling import BorderlineSMOTE\n",
        "\n",
        "device = torch.device(\"cuda\" if torch.cuda.is_available() else \"cpu\")"
      ],
      "metadata": {
        "id": "UHGb6iOAlSNQ"
      },
      "execution_count": null,
      "outputs": []
    },
    {
      "cell_type": "code",
      "source": [
        "# To ensure reproducibility of the results\n",
        "SEED = 200\n",
        "random.seed(SEED)\n",
        "np.random.seed(SEED)\n",
        "torch.manual_seed(SEED)\n",
        "torch.cuda.manual_seed(SEED)\n",
        "torch.backends.cudnn.deterministic = True"
      ],
      "metadata": {
        "id": "FKlk701glS4g"
      },
      "execution_count": null,
      "outputs": []
    },
    {
      "cell_type": "code",
      "source": [
        "from google.colab import drive\n",
        "drive.mount('/content/drive')"
      ],
      "metadata": {
        "id": "fHpE7LBQlS1C",
        "colab": {
          "base_uri": "https://localhost:8080/"
        },
        "outputId": "7aff9152-6f9d-4509-d677-d4c3578336d6"
      },
      "execution_count": null,
      "outputs": [
        {
          "output_type": "stream",
          "name": "stdout",
          "text": [
            "Mounted at /content/drive\n"
          ]
        }
      ]
    },
    {
      "cell_type": "code",
      "source": [
        "data = pd.read_csv('/content/drive/MyDrive/diseases_dataset.csv')"
      ],
      "metadata": {
        "id": "BRSgjL4UlSyf"
      },
      "execution_count": null,
      "outputs": []
    },
    {
      "cell_type": "code",
      "source": [
        "data.info()"
      ],
      "metadata": {
        "id": "NmfooAtXlSwI",
        "colab": {
          "base_uri": "https://localhost:8080/"
        },
        "outputId": "4548f491-e0ac-4cc8-da58-588f71f4e231"
      },
      "execution_count": null,
      "outputs": [
        {
          "output_type": "stream",
          "name": "stdout",
          "text": [
            "<class 'pandas.core.frame.DataFrame'>\n",
            "RangeIndex: 38652 entries, 0 to 38651\n",
            "Data columns (total 10 columns):\n",
            " #   Column              Non-Null Count  Dtype \n",
            "---  ------              --------------  ----- \n",
            " 0   PMID                38652 non-null  int64 \n",
            " 1   Title               38652 non-null  object\n",
            " 2   Abstract            38652 non-null  object\n",
            " 3   Keywords            38652 non-null  object\n",
            " 4   PublicationYear     38652 non-null  int64 \n",
            " 5   MeSH_Terms          38652 non-null  object\n",
            " 6   Cleaned_Abstract    38652 non-null  object\n",
            " 7   Disease             38652 non-null  object\n",
            " 8   Top_Relevant_Words  38652 non-null  object\n",
            " 9   Label               38652 non-null  int64 \n",
            "dtypes: int64(3), object(7)\n",
            "memory usage: 2.9+ MB\n"
          ]
        }
      ]
    },
    {
      "cell_type": "code",
      "source": [
        "X = data[\"Cleaned_Abstract\"].values\n",
        "y = data[\"Label\"].values\n",
        "\n",
        "X_train, X_temp, y_train, y_temp = train_test_split(X, y, test_size=0.3, random_state=42)\n",
        "X_val, X_test, y_val, y_test = train_test_split(X_temp, y_temp, test_size=0.5, random_state=42)\n",
        "\n",
        "print(f\"Training set: {len(X_train)} samples\")\n",
        "print(f\"Validation set: {len(X_val)} samples\")\n",
        "print(f\"Test set: {len(X_test)} samples\")"
      ],
      "metadata": {
        "id": "0c349B24lStU",
        "colab": {
          "base_uri": "https://localhost:8080/"
        },
        "outputId": "ec25e2e0-e515-430c-a145-f3c37000093b"
      },
      "execution_count": null,
      "outputs": [
        {
          "output_type": "stream",
          "name": "stdout",
          "text": [
            "Training set: 27056 samples\n",
            "Validation set: 5798 samples\n",
            "Test set: 5798 samples\n"
          ]
        }
      ]
    },
    {
      "cell_type": "code",
      "source": [
        "X_combined = np.concatenate((X_train, X_val), axis=0)\n",
        "y_combined = np.concatenate((y_train, y_val), axis=0)\n",
        "\n",
        "print(f\"Combined Input Shape: {X_combined.shape}\")\n",
        "print(f\"Combined Label Shape: {y_combined.shape}\")"
      ],
      "metadata": {
        "id": "D5XkEE7IzYHI",
        "colab": {
          "base_uri": "https://localhost:8080/"
        },
        "outputId": "b8ca7fcc-7b19-4d02-d3bb-0db2dd2ba234"
      },
      "execution_count": null,
      "outputs": [
        {
          "output_type": "stream",
          "name": "stdout",
          "text": [
            "Combined Input Shape: (32854,)\n",
            "Combined Label Shape: (32854,)\n"
          ]
        }
      ]
    },
    {
      "cell_type": "code",
      "source": [
        "def tokenize(text):\n",
        "    \"\"\"\n",
        "    Tokenizes the input text by converting it to lowercase and splitting it into words.\n",
        "\n",
        "    Args:\n",
        "        text: A string containing the text to be tokenized.\n",
        "\n",
        "    Returns:\n",
        "        A list of tokens (words) from the text.\n",
        "    \"\"\"\n",
        "    return re.findall(r'\\b\\w+\\b', text.lower())"
      ],
      "metadata": {
        "id": "PsWTm_-OlSqx"
      },
      "execution_count": null,
      "outputs": []
    },
    {
      "cell_type": "code",
      "source": [
        "all_tokens = [token for text in X_train for token in tokenize(text)]\n",
        "vocab = Counter(all_tokens)\n",
        "filtered_vocab = {word: freq for word, freq in vocab.items() if freq >= 2}\n",
        "VOCAB_SIZE =  40000\n",
        "\n",
        "sorted_filtered_vocab = dict(sorted(filtered_vocab.items(), key=lambda item: item[1], reverse=True)[:VOCAB_SIZE])\n",
        "\n",
        "word_to_index = {word: idx for idx, (word, _) in enumerate(sorted_filtered_vocab.items(), 1)}\n",
        "word_to_index[\"<PAD>\"] = 0\n",
        "word_to_index[\"<UNK>\"] = len(word_to_index)\n",
        "\n",
        "index_to_word = {idx: word for word, idx in word_to_index.items()}\n",
        "print(word_to_index[\"malaria\"])\n",
        "print(index_to_word[1])\n",
        "\n",
        "print(index_to_word[300])\n",
        "print(word_to_index[\"host\"])"
      ],
      "metadata": {
        "id": "GkL8-UdQl0su",
        "colab": {
          "base_uri": "https://localhost:8080/"
        },
        "outputId": "f0626b72-a992-4115-edaa-b64af0e72a79"
      },
      "execution_count": null,
      "outputs": [
        {
          "output_type": "stream",
          "name": "stdout",
          "text": [
            "1443\n",
            "patient\n",
            "relationship\n",
            "351\n"
          ]
        }
      ]
    },
    {
      "cell_type": "code",
      "source": [
        "def text_to_sequence(text):\n",
        "    \"\"\"\n",
        "    Converts the tokenized text into a sequence of indices based on a word-to-index mapping.\n",
        "\n",
        "    Args:\n",
        "        text: A string containing the text to be converted.\n",
        "\n",
        "    Returns:\n",
        "        A list of integers representing the sequence of token indices.\n",
        "    \"\"\"\n",
        "    return [word_to_index.get(token, word_to_index[\"<UNK>\"]) for token in tokenize(text)]\n",
        "\n",
        "def pad_to_tensor(sequences, max_len=None):\n",
        "    \"\"\"\n",
        "    Pads sequences to the specified maximum length, or truncates them if they exceed it.\n",
        "\n",
        "    Args:\n",
        "        sequences: A list of sequences (each sequence is a list of integers).\n",
        "        max_len: The maximum length to which sequences should be padded. If None, no padding is applied.\n",
        "\n",
        "    Returns:\n",
        "        A tensor containing the padded (or truncated) sequences.\n",
        "    \"\"\"\n",
        "    padded_sequences = [torch.tensor(seq, dtype=torch.long) for seq in sequences]\n",
        "    if max_len:\n",
        "        padded_sequences = [seq[:max_len] for seq in padded_sequences]\n",
        "        padded_sequences = [\n",
        "            torch.cat([seq, torch.zeros(max_len - len(seq), dtype=torch.long)], 0) if len(seq) < max_len else seq\n",
        "            for seq in padded_sequences\n",
        "        ]\n",
        "\n",
        "    return torch.stack(padded_sequences)\n",
        "\n",
        "class TextDataset(Dataset):\n",
        "    \"\"\"\n",
        "    Custom Dataset for handling text data and labels.\n",
        "\n",
        "    Args:\n",
        "        X_data: Input features (e.g., tokenized text).\n",
        "        y_data: Labels corresponding to the text data.\n",
        "        raw_text_data: (Optional) The raw text data for reference (default is None).\n",
        "    \"\"\"\n",
        "    def __init__(self, X_data, y_data, raw_text_data=None):\n",
        "        self.X = torch.tensor(X_data, dtype=torch.long)\n",
        "        self.y = torch.tensor(y_data, dtype=torch.long)\n",
        "        self.raw_text_data = raw_text_data\n",
        "\n",
        "    def __len__(self):\n",
        "        return len(self.X)\n",
        "\n",
        "    def __getitem__(self, idx):\n",
        "        input_tensor = self.X[idx]\n",
        "        target_tensor = self.y[idx]\n",
        "\n",
        "        raw_text = None\n",
        "        if self.raw_text_data is not None and idx < len(self.raw_text_data):\n",
        "            raw_text = self.raw_text_data[idx]\n",
        "\n",
        "        return input_tensor, target_tensor, raw_text\n",
        "\n",
        "def custom_collate_fn(batch):\n",
        "    inputs, targets, raw_texts = zip(*batch)\n",
        "    inputs = torch.stack(inputs)\n",
        "    targets = torch.stack(targets)\n",
        "    return inputs, targets, list(raw_texts)\n",
        "\n",
        "def load_glove_embeddings(glove_path, word_to_index, embedding_dim):\n",
        "    \"\"\"Loads GloVe embeddings and returns an embedding matrix.\"\"\"\n",
        "    embedding_matrix = np.zeros((len(word_to_index), embedding_dim), dtype='float32')\n",
        "    with open(glove_path, 'r', encoding=\"utf-8\") as f:\n",
        "        for line in f:\n",
        "            values = line.strip().split()\n",
        "            word = values[0]\n",
        "            if word in word_to_index:\n",
        "                vector = np.asarray(values[1:], dtype='float32')\n",
        "                embedding_matrix[word_to_index[word]] = vector\n",
        "\n",
        "    return torch.tensor(embedding_matrix, dtype=torch.float)"
      ],
      "metadata": {
        "id": "v3zT9Dn2l1zW"
      },
      "execution_count": null,
      "outputs": []
    },
    {
      "cell_type": "code",
      "source": [
        "EMBEDDING_DIM = 300\n",
        "embedding_matrix = load_glove_embeddings('/content/drive/MyDrive/glove/glove.6B.300d.txt', word_to_index, EMBEDDING_DIM)\n",
        "\n",
        "X_train_seq = [text_to_sequence(text) for text in X_train]\n",
        "X_val_seq = [text_to_sequence(text) for text in X_val]\n",
        "X_test_seq = [text_to_sequence(text) for text in X_test]\n",
        "\n",
        "print(X_train_seq[0])"
      ],
      "metadata": {
        "id": "hasHpOEal1vz",
        "colab": {
          "base_uri": "https://localhost:8080/"
        },
        "outputId": "98e677d5-293f-4f47-bdfa-4e4b31daee51"
      },
      "execution_count": null,
      "outputs": [
        {
          "output_type": "stream",
          "name": "stdout",
          "text": [
            "[79, 347, 3, 40, 127, 119, 11, 445, 2521, 351, 89, 42, 342, 763, 7415, 333, 5299, 6666, 133, 448, 52, 18, 1464, 79, 4, 499, 295, 233, 31, 6666, 1243, 38, 18, 699, 389, 2717, 119, 11, 445, 161, 4, 2639, 611, 83, 1490, 387, 694, 112, 6666, 79, 412, 1440, 913, 557, 3331, 40001, 622, 728, 128, 4687, 909, 2871, 458, 64, 607, 4412, 219, 4, 190, 19, 7153, 8005, 190, 287, 375, 876, 74, 1354, 458, 93, 4, 229, 9, 654, 132, 6666, 233, 31, 1243, 917, 2298, 213, 38, 4283, 18, 775, 43, 114, 136, 445, 9, 337, 6666, 40, 429, 80, 11, 301, 79]\n"
          ]
        }
      ]
    },
    {
      "cell_type": "code",
      "source": [
        "max_length = 400\n",
        "\n",
        "X_train_tensor = pad_to_tensor(X_train_seq, max_len=max_length)\n",
        "X_val_tensor = pad_to_tensor(X_val_seq, max_len=max_length)\n",
        "X_test_tensor = pad_to_tensor(X_test_seq, max_len=max_length)\n",
        "\n",
        "print(f\"Train Tensor Shape: {X_train_tensor.shape}, Type: {X_train_tensor.dtype}\")\n",
        "print(f\"Validation Tensor Shape: {X_val_tensor.shape}, Type: {X_val_tensor.dtype}\")\n",
        "print(f\"Test Tensor Shape: {X_test_tensor.shape}, Type: {X_test_tensor.dtype}\")\n",
        "\n",
        "y_train_tensor = torch.tensor(y_train)\n",
        "y_val_tensor = torch.tensor(y_val)\n",
        "y_test_tensor = torch.tensor(y_test)"
      ],
      "metadata": {
        "id": "Wf-9kAd7l1tq",
        "colab": {
          "base_uri": "https://localhost:8080/"
        },
        "outputId": "06782d3c-4b10-49f0-866c-37bb6b630f3f"
      },
      "execution_count": null,
      "outputs": [
        {
          "output_type": "stream",
          "name": "stdout",
          "text": [
            "Train Tensor Shape: torch.Size([27056, 400]), Type: torch.int64\n",
            "Validation Tensor Shape: torch.Size([5798, 400]), Type: torch.int64\n",
            "Test Tensor Shape: torch.Size([5798, 400]), Type: torch.int64\n"
          ]
        }
      ]
    },
    {
      "cell_type": "code",
      "source": [
        "X_combined_tensor = torch.cat((X_train_tensor, X_val_tensor), dim=0)\n",
        "y_combined_tensor = torch.cat((y_train_tensor, y_val_tensor), dim=0)\n",
        "\n",
        "print(f\"Combined Input Tensor Shape: {X_combined_tensor.shape}\")\n",
        "print(f\"Combined Label Tensor Shape: {y_combined_tensor.shape}\")"
      ],
      "metadata": {
        "id": "S3NGUWFxyuwf",
        "colab": {
          "base_uri": "https://localhost:8080/"
        },
        "outputId": "8242cefa-f023-4b1c-dab2-71a1159a124c"
      },
      "execution_count": null,
      "outputs": [
        {
          "output_type": "stream",
          "name": "stdout",
          "text": [
            "Combined Input Tensor Shape: torch.Size([32854, 400])\n",
            "Combined Label Tensor Shape: torch.Size([32854])\n"
          ]
        }
      ]
    },
    {
      "cell_type": "code",
      "source": [
        "train_dataset = TextDataset(X_train_tensor, y_train, raw_text_data=X_train)\n",
        "val_dataset = TextDataset(X_val_tensor, y_val, raw_text_data=X_val)\n",
        "test_dataset = TextDataset(X_test_tensor, y_test, raw_text_data=X_test)\n",
        "\n",
        "train_loader = DataLoader(train_dataset, batch_size=32, shuffle=True)\n",
        "val_loader = DataLoader(val_dataset, batch_size=32, shuffle=False)\n",
        "test_loader = DataLoader(test_dataset, batch_size=32, shuffle=False)"
      ],
      "metadata": {
        "id": "EJAvopnhuoEQ",
        "colab": {
          "base_uri": "https://localhost:8080/"
        },
        "outputId": "d53dd8db-34c2-46f3-e34c-25dcccc40f2f"
      },
      "execution_count": null,
      "outputs": [
        {
          "output_type": "stream",
          "name": "stderr",
          "text": [
            "<ipython-input-11-35ba822a06f8>:44: UserWarning: To copy construct from a tensor, it is recommended to use sourceTensor.clone().detach() or sourceTensor.clone().detach().requires_grad_(True), rather than torch.tensor(sourceTensor).\n",
            "  self.X = torch.tensor(X_data, dtype=torch.long)\n"
          ]
        }
      ]
    },
    {
      "cell_type": "code",
      "source": [
        "batch_size = 16\n",
        "\n",
        "train_loader = DataLoader(train_dataset, batch_size=batch_size, shuffle=True)\n",
        "val_loader = DataLoader(val_dataset, batch_size=batch_size, shuffle=False)\n",
        "test_loader = DataLoader(test_dataset, batch_size=batch_size, shuffle=False)\n",
        "\n",
        "combined_dataset = ConcatDataset([train_dataset, val_dataset])\n",
        "combined_loader = DataLoader(combined_dataset, batch_size=batch_size, shuffle=True)\n",
        "\n",
        "\n",
        "print(f\"Training set size: {len(train_dataset)}\")\n",
        "print(f\"Validation set size: {len(val_dataset)}\")\n",
        "print(f\"Test set size: {len(test_dataset)}\")\n",
        "print(f\"Combined dataset size: {len(combined_dataset)}\")"
      ],
      "metadata": {
        "id": "vZ7RTuttv858",
        "colab": {
          "base_uri": "https://localhost:8080/"
        },
        "outputId": "f9b17887-d71a-4ead-8118-ab04a1bc412f"
      },
      "execution_count": null,
      "outputs": [
        {
          "output_type": "stream",
          "name": "stdout",
          "text": [
            "Training set size: 27056\n",
            "Validation set size: 5798\n",
            "Test set size: 5798\n",
            "Combined dataset size: 32854\n"
          ]
        }
      ]
    },
    {
      "cell_type": "code",
      "source": [
        "NUM_CLASSES = len(torch.unique(y_train_tensor))\n",
        "VOCAB_SIZE = len(word_to_index)\n",
        "\n",
        "# ============ Define Hybrid CNN-LSTM Model ============\n",
        "class CNN_LSTM_Model(nn.Module):\n",
        "    def __init__(self, vocab_size, embedding_dim, hidden_dim, output_dim=NUM_CLASSES, num_layers=1, dropout_prob=0.3, num_filters=100, kernel_size=3):\n",
        "        super(CNN_LSTM_Model, self).__init__()\n",
        "\n",
        "        self.embedding = nn.Embedding(vocab_size, embedding_dim)\n",
        "        self.conv1 = nn.Conv1d(in_channels=embedding_dim, out_channels=num_filters, kernel_size=kernel_size, padding=1)\n",
        "        self.conv2 = nn.Conv1d(in_channels=num_filters, out_channels=num_filters, kernel_size=kernel_size, padding=1)\n",
        "        self.relu = nn.ReLU()\n",
        "        self.pool = nn.MaxPool1d(kernel_size=2, stride=2)\n",
        "\n",
        "        self.lstm = nn.LSTM(input_size=num_filters, hidden_size=hidden_dim, num_layers=num_layers, batch_first=True, dropout=dropout_prob if num_layers > 1 else 0)\n",
        "        self.dropout = nn.Dropout(dropout_prob)\n",
        "        self.fc = nn.Linear(hidden_dim, output_dim)\n",
        "\n",
        "    def forward(self, x):\n",
        "        embedded = self.embedding(x)\n",
        "        embedded = embedded.permute(0, 2, 1)\n",
        "        conv_out = self.relu(self.conv1(embedded))\n",
        "        conv_out = self.relu(self.conv2(conv_out))\n",
        "        conv_out = self.pool(conv_out)\n",
        "\n",
        "        conv_out = conv_out.permute(0, 2, 1)\n",
        "        lstm_out, _ = self.lstm(conv_out)\n",
        "        lstm_out = self.dropout(lstm_out[:, -1, :])\n",
        "        out = self.fc(lstm_out)\n",
        "        return out\n",
        "\n",
        "# ==========================  GRU Model with Word Embeddings ==========================\n",
        "class GRU_Model(nn.Module):\n",
        "    def __init__(self, vocab_size, embedding_dim, hidden_dim, output_dim=NUM_CLASSES , num_layers=1, dropout_prob=0.5, embedding_weights=None, freeze_embeddings=False):\n",
        "        super(GRU_Model, self).__init__()\n",
        "\n",
        "        if embedding_weights is not None:\n",
        "            self.embedding = nn.Embedding.from_pretrained(embedding_weights, freeze=freeze_embeddings)\n",
        "        else:\n",
        "            self.embedding = nn.Embedding(vocab_size, embedding_dim)\n",
        "\n",
        "        self.gru = nn.GRU(\n",
        "            input_size=embedding_dim,\n",
        "            hidden_size=hidden_dim,\n",
        "            num_layers=num_layers,\n",
        "            batch_first=True,\n",
        "            dropout=dropout_prob if num_layers > 1 else 0  # Dropout only if num_layers > 1\n",
        "        )\n",
        "\n",
        "        self.dropout = nn.Dropout(dropout_prob)\n",
        "        self.fc = nn.Linear(hidden_dim, output_dim)\n",
        "\n",
        "    def forward(self, x):\n",
        "        embedded = self.embedding(x)\n",
        "        gru_out, _ = self.gru(embedded)\n",
        "        gru_out = self.dropout(gru_out[:, -1, :])\n",
        "        out = self.fc(gru_out)\n",
        "        return out\n",
        "\n",
        "# ========================== Bahdanau Attention ==========================\n",
        "class BahdanauAttention(nn.Module):\n",
        "    \"\"\"\n",
        "    Bahdanau Attention Mechanism.\n",
        "\n",
        "    This class implements the Bahdanau attention mechanism as described in the paper:\n",
        "    \"Neural Machine Translation by Jointly Learning to Align and Translate\" by Bahdanau et al.\n",
        "\n",
        "    Args:\n",
        "        hidden_dim (int): The hidden dimension of the GRU or LSTM output.\n",
        "\n",
        "    Attributes:\n",
        "        W (nn.Linear): A linear layer for the transformation of the RNN outputs.\n",
        "        v (nn.Linear): A linear layer for computing attention scores.\n",
        "    \"\"\"\n",
        "    def __init__(self, hidden_dim):\n",
        "        super(BahdanauAttention, self).__init__()\n",
        "        self.W = nn.Linear(hidden_dim * 2, hidden_dim)\n",
        "        self.v = nn.Linear(hidden_dim, 1, bias=False)\n",
        "\n",
        "    def forward(self, rnn_outputs):\n",
        "        \"\"\"\n",
        "        Apply the attention mechanism on the RNN outputs.\n",
        "\n",
        "        Args:\n",
        "            rnn_outputs (Tensor): The outputs of the RNN (GRU or LSTM).\n",
        "\n",
        "        Returns:\n",
        "            Tensor: The context vector computed by the attention mechanism.\n",
        "        \"\"\"\n",
        "        score = torch.tanh(self.W(rnn_outputs))\n",
        "        attn_weights = torch.softmax(self.v(score), dim=1)\n",
        "        context = torch.sum(attn_weights * rnn_outputs, dim=1)\n",
        "        return context\n",
        "\n",
        "# ========================== Bidirectional GRU + Bahdanau Ateention  ==========================\n",
        "class GloVe_GRU_BahdanauAttention(nn.Module):\n",
        "    \"\"\"\n",
        "    Model using GloVe embeddings, GRU layers, and Bahdanau Attention for classification.\n",
        "\n",
        "    Args:\n",
        "        embedding_matrix (Tensor): Pretrained GloVe embedding matrix.\n",
        "        hidden_dim (int): Hidden size for the GRU.\n",
        "        num_classes (int): Output classes.\n",
        "        num_layers (int): GRU depth.\n",
        "        dropout_prob (float): Dropout rate.\n",
        "    \"\"\"\n",
        "    def __init__(self, embedding_matrix, hidden_dim, num_classes=NUM_CLASSES, num_layers=1, dropout_prob=0.6):\n",
        "        super(GloVe_GRU_BahdanauAttention, self).__init__()\n",
        "\n",
        "        vocab_size, embedding_dim = embedding_matrix.shape\n",
        "        self.embedding = nn.Embedding.from_pretrained(embedding_matrix, freeze=False)\n",
        "\n",
        "        self.gru = nn.GRU(\n",
        "            input_size=embedding_dim,\n",
        "            hidden_size=hidden_dim,\n",
        "            num_layers=num_layers,\n",
        "            batch_first=True,\n",
        "            bidirectional=True\n",
        "        )\n",
        "\n",
        "        self.attention = BahdanauAttention(hidden_dim)\n",
        "        self.fc = nn.Linear(hidden_dim * 2, num_classes)\n",
        "        self.dropout = nn.Dropout(dropout_prob)\n",
        "\n",
        "    def forward(self, x):\n",
        "        \"\"\"\n",
        "        Args:\n",
        "            x (Tensor): Tensor of token indices (batch_size, seq_len)\n",
        "\n",
        "        Returns:\n",
        "            Tensor: Output logits for classification.\n",
        "        \"\"\"\n",
        "        embedded = self.embedding(x)\n",
        "        gru_out, _ = self.gru(embedded)\n",
        "        context = self.attention(gru_out)\n",
        "        x = self.dropout(context)\n",
        "        output = self.fc(x)\n",
        "        return output"
      ],
      "metadata": {
        "id": "dnG9cQyel1ql"
      },
      "execution_count": null,
      "outputs": []
    },
    {
      "cell_type": "code",
      "source": [
        "clip = 5.0\n",
        "\n",
        "def epoch_time(start_time, end_time):\n",
        "    \"\"\"\n",
        "    Calculates the elapsed time between the start and end time.\n",
        "\n",
        "    Args:\n",
        "        start_time: The start time (in seconds).\n",
        "        end_time: The end time (in seconds).\n",
        "\n",
        "    Returns:\n",
        "        elapsed_mins: The elapsed time in minutes.\n",
        "        elapsed_secs: The elapsed time in seconds.\n",
        "    \"\"\"\n",
        "    elapsed_time = end_time - start_time\n",
        "    elapsed_mins = int(elapsed_time / 60)\n",
        "    elapsed_secs = int(elapsed_time - (elapsed_mins * 60))\n",
        "    return elapsed_mins, elapsed_secs\n",
        "\n",
        "def calculate_accuracy(y_pred, y_true):\n",
        "    \"\"\"\n",
        "    Computes accuracy for multi-class classification.\n",
        "    Args:\n",
        "        y_pred: Raw logits from the model (before softmax).\n",
        "        y_true: True class labels (integer class indices).\n",
        "    Returns:\n",
        "        Accuracy score.\n",
        "    \"\"\"\n",
        "    y_pred = torch.argmax(y_pred, dim=1)  # Get predicted class index\n",
        "    correct = (y_pred == y_true).sum().item()\n",
        "    total = y_true.size(0)  # Number of samples\n",
        "    return correct / total\n",
        "\n",
        "def train_epoch(model, train_loader, optimizer, criterion, device):\n",
        "    \"\"\"\n",
        "    Train the model for one epoch.\n",
        "    \"\"\"\n",
        "    model.train()\n",
        "    total_loss, total_accuracy = 0, 0\n",
        "\n",
        "    for batch in train_loader:\n",
        "        if len(batch) == 3:\n",
        "            input_tensor, target_tensor, _ = batch  # Ignore raw_text\n",
        "        input_tensor, target_tensor = input_tensor.to(device), target_tensor.to(device)\n",
        "\n",
        "        optimizer.zero_grad()\n",
        "        output = model(input_tensor)  # Forward pass\n",
        "        loss = criterion(output, target_tensor)  # Compute loss\n",
        "        loss.backward()  # Backpropagation\n",
        "\n",
        "        torch.nn.utils.clip_grad_norm_(model.parameters(), max_norm=1.0)  # Gradient clipping\n",
        "        optimizer.step()\n",
        "\n",
        "        batch_accuracy = calculate_accuracy(output, target_tensor)\n",
        "\n",
        "        total_loss += loss.item()\n",
        "        total_accuracy += batch_accuracy * len(target_tensor)\n",
        "\n",
        "    avg_loss = total_loss / len(train_loader)\n",
        "    avg_accuracy = total_accuracy / len(train_loader.dataset)\n",
        "\n",
        "    return avg_loss, avg_accuracy\n",
        "\n",
        "def validate_epoch(model, val_loader, criterion, device):\n",
        "    \"\"\"\n",
        "    Validate the model for one epoch.\n",
        "    Args:\n",
        "        model: Model instance.\n",
        "        val_loader: DataLoader for validation data.\n",
        "        criterion: Loss function (CrossEntropyLoss).\n",
        "        device: CPU/GPU.\n",
        "    Returns:\n",
        "        Average validation loss, accuracy, and F1-score.\n",
        "    \"\"\"\n",
        "    model.eval()  # Set to evaluation mode\n",
        "    total_loss, total_accuracy = 0, 0\n",
        "\n",
        "    all_labels = []\n",
        "    all_preds = []\n",
        "\n",
        "    with torch.no_grad():\n",
        "        for batch in val_loader:\n",
        "            if len(batch) == 3:\n",
        "                input_tensor, target_tensor, _ = batch  # Ignore raw_text\n",
        "            input_tensor, target_tensor = input_tensor.to(device), target_tensor.to(device)\n",
        "\n",
        "            output = model(input_tensor)  # Forward pass\n",
        "\n",
        "            loss = criterion(output, target_tensor)  # Compute loss\n",
        "            batch_accuracy = calculate_accuracy(output, target_tensor)\n",
        "\n",
        "            total_loss += loss.item()\n",
        "            total_accuracy += batch_accuracy * len(target_tensor)\n",
        "\n",
        "            preds = torch.argmax(output, dim=1).cpu().numpy()\n",
        "            all_preds.extend(preds)\n",
        "            all_labels.extend(target_tensor.cpu().numpy())\n",
        "\n",
        "    f1 = f1_score(all_labels, all_preds, average=\"weighted\", zero_division=0)\n",
        "    avg_loss = total_loss / len(val_loader)\n",
        "    avg_accuracy = total_accuracy / len(val_loader.dataset)\n",
        "\n",
        "    return avg_loss, avg_accuracy, f1\n",
        "\n",
        "def get_hidden_states(model, dataloader, device):\n",
        "    \"\"\"\n",
        "    This function extracts the hidden states from a model (either GRU or LSTM) for each sample in the dataloader.\n",
        "    The hidden states are taken from the last time step of the sequence, which are typically used for classification tasks.\n",
        "\n",
        "    Args:\n",
        "        model: A PyTorch model that contains an embedding layer and either a GRU or LSTM layer.\n",
        "        dataloader: A DataLoader containing batches of input data and their corresponding targets.\n",
        "        device: The device (CPU or GPU) to run the model on.\n",
        "\n",
        "    Returns:\n",
        "        hidden_states: A numpy array containing the hidden states for each sample in the dataloader.\n",
        "        labels: A numpy array containing the target labels corresponding to each input sample.\n",
        "    \"\"\"\n",
        "    model.eval()\n",
        "    hidden_states, labels = [], []\n",
        "\n",
        "    with torch.no_grad():\n",
        "        for batch in dataloader:\n",
        "            inputs, targets, _ = batch\n",
        "            inputs = inputs.to(device)\n",
        "\n",
        "            embedded = model.embedding(inputs)\n",
        "\n",
        "            if hasattr(model, \"gru\"):\n",
        "                gru_out, _ = model.gru(embedded)\n",
        "                hidden_state = gru_out[:, -1, :]\n",
        "\n",
        "            elif hasattr(model, \"lstm\"):\n",
        "                lstm_out, (hidden, _) = model.lstm(embedded)\n",
        "                hidden_state = hidden[-1]\n",
        "\n",
        "            else:\n",
        "                raise ValueError(\"Unsupported model type. Model must contain GRU or LSTM.\")\n",
        "\n",
        "            hidden_states.append(hidden_state.cpu().numpy())\n",
        "            labels.append(targets.cpu().numpy())\n",
        "\n",
        "    hidden_states = np.concatenate(hidden_states, axis=0)\n",
        "    labels = np.concatenate(labels, axis=0)\n",
        "\n",
        "    return hidden_states, labels\n",
        "\n",
        "def count_parameters(model):\n",
        "    \"\"\"\n",
        "    Computes the total number of trainable parameters in a model.\n",
        "\n",
        "    Args:\n",
        "        model: A PyTorch model instance.\n",
        "\n",
        "    Returns:\n",
        "        The total number of trainable parameters in the model.\n",
        "    \"\"\"\n",
        "    return sum(p.numel() for p in model.parameters() if p.requires_grad)\n",
        "\n",
        "def reinitialize_weights(model):\n",
        "    \"\"\"Reinitializes the model's weights by calling reset_parameters() for each layer that supports it.\"\"\"\n",
        "    for layer in model.children():\n",
        "        if hasattr(layer, 'reset_parameters'):\n",
        "            layer.reset_parameters()\n",
        "\n",
        "def test_epoch(model, test_loader, criterion, device):\n",
        "    \"\"\"\n",
        "    Validate the model for one epoch, including precision, F1, balanced accuracy, and recall.\n",
        "    Args:\n",
        "        model: Model instance.\n",
        "        test_loader: DataLoader for test data.\n",
        "        criterion: Loss function (CrossEntropyLoss).\n",
        "        device: CPU/GPU.\n",
        "    Returns:\n",
        "        Average test loss, accuracy, F1-score, balanced accuracy, Recall, and Precision.\n",
        "    \"\"\"\n",
        "    model.eval()  # Set model to evaluation mode\n",
        "    total_loss, total_accuracy = 0, 0\n",
        "\n",
        "    all_labels = []\n",
        "    all_preds = []\n",
        "\n",
        "    with torch.no_grad():\n",
        "        for batch in test_loader:\n",
        "            input_tensor, target_tensor, _ = batch  # Ignore raw_text\n",
        "            input_tensor, target_tensor = input_tensor.to(device), target_tensor.to(device)\n",
        "\n",
        "            output = model(input_tensor)  # Forward pass\n",
        "            loss = criterion(output, target_tensor)  # Compute loss\n",
        "            batch_accuracy = calculate_accuracy(output, target_tensor)\n",
        "\n",
        "            total_loss += loss.item()\n",
        "            total_accuracy += batch_accuracy * len(target_tensor)\n",
        "\n",
        "            preds = torch.argmax(output, dim=1).cpu().numpy()\n",
        "            all_preds.extend(preds)\n",
        "            all_labels.extend(target_tensor.cpu().numpy())\n",
        "\n",
        "    f1 = f1_score(all_labels, all_preds, average=\"weighted\", zero_division=0)\n",
        "    balanced_acc = balanced_accuracy_score(all_labels, all_preds)\n",
        "    precision = precision_score(all_labels, all_preds, average=\"weighted\", zero_division=0)\n",
        "    recall = recall_score(all_labels, all_preds, average=\"weighted\", zero_division=0)\n",
        "\n",
        "    avg_loss = total_loss / len(test_loader)\n",
        "    avg_accuracy = total_accuracy / len(test_loader.dataset)\n",
        "\n",
        "    return avg_loss, avg_accuracy, f1, balanced_acc, recall, precision"
      ],
      "metadata": {
        "id": "LMDGVSREmAHh"
      },
      "execution_count": null,
      "outputs": []
    },
    {
      "cell_type": "code",
      "source": [
        "loss_gap_ratio = 1.25\n",
        "ax_accuracy_gap = 5\n",
        "\n",
        "def get_few_shot_subset(X_tensor, y_tensor, k_shot):\n",
        "    X_few = []\n",
        "    y_few = []\n",
        "    unique_classes = torch.unique(y_tensor)\n",
        "    for cls in unique_classes:\n",
        "        indices = (y_tensor == cls).nonzero(as_tuple=True)[0]\n",
        "        selected = indices[torch.randperm(len(indices))[:k_shot]]\n",
        "        X_few.append(X_tensor[selected])\n",
        "        y_few.append(y_tensor[selected])\n",
        "    X_few = torch.cat(X_few)\n",
        "    y_few = torch.cat(y_few)\n",
        "    return X_few, y_few\n",
        "\n",
        "def train_and_evaluate_model(model, k, X_combined_tensor, y_combined_tensor, optimizer, loss_function, num_epochs, batch_size, test_loader, model_name, embedding_matrix=None):\n",
        "    reinitialize_weights(model)\n",
        "    train_losses, test_losses = [], []\n",
        "    train_accuracies, test_accuracies = [], []\n",
        "    test_f1s, test_balanced_accs, test_recalls, test_precisions = [], [], [], []\n",
        "    saved_once = False\n",
        "    X_few, y_few = get_few_shot_subset(X_combined_tensor, y_combined_tensor, k_shot=k)\n",
        "    few_shot_dataset = TextDataset(X_few, y_few, raw_text_data=X_combined)\n",
        "    few_shot_loader = DataLoader(few_shot_dataset, batch_size=batch_size, shuffle=True, collate_fn=custom_collate_fn)\n",
        "    wandb.init(project=f'Few-Shot-Training-{model_name}-', name=f\"{model_name}_K-{k}_Training\", config={'learning_rate': 7e-4, 'num_epochs': num_epochs, 'num_layers': 1, 'k_shot': k})\n",
        "    with tqdm(total=num_epochs, desc=f\"Training {model_name} with {k}-shot\", unit=\"epoch\") as pbar:\n",
        "        for epoch in range(num_epochs):\n",
        "            start_time = time.time()\n",
        "            train_loss, train_acc = train_epoch(model, few_shot_loader, optimizer, loss_function, device)\n",
        "            train_losses.append(train_loss)\n",
        "            train_accuracies.append(train_acc)\n",
        "            test_loss, test_acc, test_f1, test_balanced_acc, test_recall, test_precision = test_epoch(model, test_loader, loss_function, device)\n",
        "            test_losses.append(test_loss)\n",
        "            test_accuracies.append(test_acc)\n",
        "            test_f1s.append(test_f1)\n",
        "            test_balanced_accs.append(test_balanced_acc)\n",
        "            test_recalls.append(test_recall)\n",
        "            test_precisions.append(test_precision)\n",
        "            wandb.log({\n",
        "                \"train_loss\": train_loss,\n",
        "                \"test_loss\": test_loss,\n",
        "                \"train_acc\": train_acc,\n",
        "                \"test_acc\": test_acc,\n",
        "                \"test_f1\": test_f1,\n",
        "                \"test_balanced_acc\": test_balanced_acc,\n",
        "                \"test_recall\": test_recall,\n",
        "                \"test_precision\": test_precision,\n",
        "                \"epoch\": epoch + 1,\n",
        "                \"k_shot\": k\n",
        "            })\n",
        "\n",
        "            if (test_loss > train_loss * loss_gap_ratio or (train_acc > test_acc and train_acc - test_acc > ax_accuracy_gap / 100)) and not saved_once:\n",
        "                torch.save(model.state_dict(), f\"{model_name}_K-{k}_multi_class_loss_gap_accuracy_gap_10%.pth\")\n",
        "                saved_once = True\n",
        "                print(f\"Early stopping triggered at epoch {epoch+1}\")\n",
        "                print(f\"Model {model_name}_K-{k} saved with loss gap > 1.25 or accuracy gap > 10% at epoch {epoch}.\")\n",
        "                break\n",
        "            if epoch == num_epochs - 1 and not saved_once:\n",
        "                torch.save(model.state_dict(), f\"{model_name}_K-{k}_multi_class_final.pth\")\n",
        "                print(f\"Model {model_name}_K-{k} saved at the end of epoch {num_epochs}.\")\n",
        "                print(f\"Model metrics: \\nTest Accuracy: {test_acc:.2%}, Test F1: {test_f1:.2%}, Test Balanced Accuracy: {test_balanced_acc:.2%}, Test Recall: {test_recall:.2%}, Test Precision: {test_precision:.2%}\")\n",
        "            pbar.set_description(f\"{model_name} K-{k} Epoch {epoch+1}/{num_epochs} - Train Loss: {train_loss:.4f}, Test Loss: {test_loss:.4f}, Train Acc: {train_acc:.2%}, Test Acc: {test_acc:.2%}, Test F1: {test_f1:.2%}, Test Balanced Acc: {test_balanced_acc:.2%}, Test Recall: {test_recall:.2%}, Test Precision: {test_precision:.2%}, Time: {time.time() - start_time:.2f} sec\")\n",
        "            pbar.update(1)\n",
        "    return {\n",
        "        \"train_losses\": train_losses,\n",
        "        \"test_losses\": test_losses,\n",
        "        \"train_accuracies\": train_accuracies,\n",
        "        \"test_accuracies\": test_accuracies,\n",
        "        \"test_f1s\": test_f1s,\n",
        "        \"test_balanced_accs\": test_balanced_accs,\n",
        "        \"test_recalls\": test_recalls,\n",
        "        \"test_precisions\": test_precisions\n",
        "    }\n",
        "\n",
        "def plot_max_metrics(model_metrics, k_values):\n",
        "    fig, axes = plt.subplots(1, 4, figsize=(16, 6))\n",
        "    sns.set(style=\"whitegrid\")\n",
        "\n",
        "    for i, (model_name, metrics) in enumerate(model_metrics.items()):\n",
        "        f1_values = []\n",
        "        balanced_acc_values = []\n",
        "        recall_values = []\n",
        "        precision_values = []\n",
        "\n",
        "        for k in k_values:\n",
        "            f1_values.append(metrics['test_f1s'][k_values.index(k)])\n",
        "            balanced_acc_values.append(metrics['test_balanced_accs'][k_values.index(k)])\n",
        "            recall_values.append(metrics['test_recalls'][k_values.index(k)])\n",
        "            precision_values.append(metrics['test_precisions'][k_values.index(k)])\n",
        "\n",
        "        axes[0].plot(k_values, f1_values, label=model_name, marker='o')\n",
        "        axes[1].plot(k_values, balanced_acc_values, label=model_name, marker='o')\n",
        "        axes[2].plot(k_values, recall_values, label=model_name, marker='o')\n",
        "        axes[3].plot(k_values, precision_values, label=model_name, marker='o')\n",
        "\n",
        "    axes[0].set_title(\"F1 Score\", fontsize=16)\n",
        "    axes[0].set_xlabel(\"K-shot\", fontsize=14)\n",
        "    axes[0].set_ylabel(\"F-1 Score\", fontsize=14)\n",
        "    axes[0].legend(title=None, loc=\"upper right\", framealpha=0.005)\n",
        "    axes[0].grid(True)\n",
        "\n",
        "    axes[1].set_title(\"Balanced Accuracy\", fontsize=16)\n",
        "    axes[1].set_xlabel(\"K-shot\", fontsize=14)\n",
        "    axes[1].set_ylabel(\"Balanced Accuracy\", fontsize=14)\n",
        "    axes[1].legend(title=None, loc=\"upper right\", framealpha=0.005)\n",
        "    axes[1].grid(True)\n",
        "\n",
        "    axes[2].set_title(\"Recall\", fontsize=16)\n",
        "    axes[2].set_xlabel(\"K-shot\", fontsize=14)\n",
        "    axes[2].set_ylabel(\"Recall\", fontsize=14)\n",
        "    axes[2].legend(title=None, loc=\"upper right\", framealpha=0.005)\n",
        "    axes[2].grid(True)\n",
        "\n",
        "    axes[3].set_title(\"Precision\", fontsize=16)\n",
        "    axes[3].set_xlabel(\"K-shot\", fontsize=14)\n",
        "    axes[3].set_ylabel(\"Precision\", fontsize=14)\n",
        "    axes[3].legend(title=None, loc=\"upper right\", framealpha=0.005)\n",
        "    axes[3].grid(True)\n",
        "\n",
        "    plt.tight_layout()\n",
        "    plt.show()"
      ],
      "metadata": {
        "id": "OOu9Z5DasEfw"
      },
      "execution_count": null,
      "outputs": []
    },
    {
      "cell_type": "markdown",
      "source": [
        "---\n",
        "# Few-Shot Training\n",
        "---"
      ],
      "metadata": {
        "id": "LAh8I2oo3sPQ"
      }
    },
    {
      "cell_type": "code",
      "source": [
        "models_info = {\n",
        "    \"CNN_LSTM\": CNN_LSTM_Model(vocab_size=VOCAB_SIZE, embedding_dim=150, hidden_dim=100, num_layers=1, dropout_prob=0.3).to(device),\n",
        "    \"Glove-GRU\": GRU_Model(vocab_size=VOCAB_SIZE, embedding_dim=EMBEDDING_DIM, hidden_dim=100, num_layers=1, dropout_prob=0.4).to(device),\n",
        "    \"Glove-GRU-Bahdanau\": GloVe_GRU_BahdanauAttention(embedding_matrix=embedding_matrix, hidden_dim=100, num_layers=1, dropout_prob=0.9).to(device)\n",
        "}\n",
        "\n",
        "optimizers = {\n",
        "    \"CNN_LSTM\": torch.optim.AdamW(models_info[\"CNN_LSTM\"].parameters(), lr=7e-4),\n",
        "    \"Glove-GRU\": torch.optim.Adam(models_info[\"Glove-GRU\"].parameters(), lr=7e-4),\n",
        "    \"Glove-GRU-Bahdanau\": torch.optim.Adam(models_info[\"Glove-GRU-Bahdanau\"].parameters(), lr=1e-4)\n",
        "}\n",
        "\n",
        "model_metrics = {}\n",
        "\n",
        "k_values = [5, 10, 20, 30, 50, 60, 70, 80, 100, 150, 200, 400, 600]\n",
        "for k in k_values:\n",
        "    print(f\"\\nTraining with {k}-shot...\")\n",
        "    for model_name, model in models_info.items():\n",
        "        optimizer = optimizers[model_name]\n",
        "        if model_name not in model_metrics:\n",
        "            model_metrics[model_name] = {\n",
        "                \"test_f1s\": [],\n",
        "                \"test_balanced_accs\": [],\n",
        "                \"test_recalls\": [],\n",
        "                \"test_precisions\": []\n",
        "            }\n",
        "\n",
        "        results = train_and_evaluate_model(\n",
        "            model, k, X_combined_tensor, y_combined_tensor, optimizer, torch.nn.CrossEntropyLoss(), num_epochs=1000, batch_size=batch_size,\n",
        "            test_loader=test_loader, model_name=model_name, embedding_matrix=embedding_matrix\n",
        "        )\n",
        "\n",
        "        model_metrics[model_name]['test_f1s'].append(max(results['test_f1s']))\n",
        "        model_metrics[model_name]['test_balanced_accs'].append(max(results['test_balanced_accs']))\n",
        "        model_metrics[model_name]['test_recalls'].append(max(results['test_recalls']))\n",
        "        model_metrics[model_name]['test_precisions'].append(max(results['test_precisions']))"
      ],
      "metadata": {
        "id": "AWcB0FRAmAEE",
        "colab": {
          "base_uri": "https://localhost:8080/",
          "height": 1000
        },
        "outputId": "b5816dcd-2251-45b1-fa0f-bfbffc6baeeb"
      },
      "execution_count": null,
      "outputs": [
        {
          "output_type": "stream",
          "name": "stdout",
          "text": [
            "\n",
            "Training with 5-shot...\n"
          ]
        },
        {
          "output_type": "stream",
          "name": "stderr",
          "text": [
            "<ipython-input-11-35ba822a06f8>:44: UserWarning: To copy construct from a tensor, it is recommended to use sourceTensor.clone().detach() or sourceTensor.clone().detach().requires_grad_(True), rather than torch.tensor(sourceTensor).\n",
            "  self.X = torch.tensor(X_data, dtype=torch.long)\n",
            "<ipython-input-11-35ba822a06f8>:45: UserWarning: To copy construct from a tensor, it is recommended to use sourceTensor.clone().detach() or sourceTensor.clone().detach().requires_grad_(True), rather than torch.tensor(sourceTensor).\n",
            "  self.y = torch.tensor(y_data, dtype=torch.long)\n",
            "\u001b[34m\u001b[1mwandb\u001b[0m: Using wandb-core as the SDK backend.  Please refer to https://wandb.me/wandb-core for more information.\n"
          ]
        },
        {
          "output_type": "display_data",
          "data": {
            "text/plain": [
              "<IPython.core.display.Javascript object>"
            ],
            "application/javascript": [
              "\n",
              "        window._wandbApiKey = new Promise((resolve, reject) => {\n",
              "            function loadScript(url) {\n",
              "            return new Promise(function(resolve, reject) {\n",
              "                let newScript = document.createElement(\"script\");\n",
              "                newScript.onerror = reject;\n",
              "                newScript.onload = resolve;\n",
              "                document.body.appendChild(newScript);\n",
              "                newScript.src = url;\n",
              "            });\n",
              "            }\n",
              "            loadScript(\"https://cdn.jsdelivr.net/npm/postmate/build/postmate.min.js\").then(() => {\n",
              "            const iframe = document.createElement('iframe')\n",
              "            iframe.style.cssText = \"width:0;height:0;border:none\"\n",
              "            document.body.appendChild(iframe)\n",
              "            const handshake = new Postmate({\n",
              "                container: iframe,\n",
              "                url: 'https://wandb.ai/authorize'\n",
              "            });\n",
              "            const timeout = setTimeout(() => reject(\"Couldn't auto authenticate\"), 5000)\n",
              "            handshake.then(function(child) {\n",
              "                child.on('authorize', data => {\n",
              "                    clearTimeout(timeout)\n",
              "                    resolve(data)\n",
              "                });\n",
              "            });\n",
              "            })\n",
              "        });\n",
              "    "
            ]
          },
          "metadata": {}
        },
        {
          "output_type": "stream",
          "name": "stderr",
          "text": [
            "\u001b[34m\u001b[1mwandb\u001b[0m: Logging into wandb.ai. (Learn how to deploy a W&B server locally: https://wandb.me/wandb-server)\n",
            "\u001b[34m\u001b[1mwandb\u001b[0m: You can find your API key in your browser here: https://wandb.ai/authorize\n",
            "wandb: Paste an API key from your profile and hit enter:"
          ]
        },
        {
          "name": "stdout",
          "output_type": "stream",
          "text": [
            " ··········\n"
          ]
        },
        {
          "output_type": "stream",
          "name": "stderr",
          "text": [
            "\u001b[34m\u001b[1mwandb\u001b[0m: \u001b[33mWARNING\u001b[0m If you're specifying your api key in code, ensure this code is not shared publicly.\n",
            "\u001b[34m\u001b[1mwandb\u001b[0m: \u001b[33mWARNING\u001b[0m Consider setting the WANDB_API_KEY environment variable, or running `wandb login` from the command line.\n",
            "\u001b[34m\u001b[1mwandb\u001b[0m: No netrc file found, creating one.\n",
            "\u001b[34m\u001b[1mwandb\u001b[0m: Appending key for api.wandb.ai to your netrc file: /root/.netrc\n",
            "\u001b[34m\u001b[1mwandb\u001b[0m: Currently logged in as: \u001b[33mwilfried-mvomoeto\u001b[0m (\u001b[33mwilfried-mvomoeto-university-of-li-ge\u001b[0m) to \u001b[32mhttps://api.wandb.ai\u001b[0m. Use \u001b[1m`wandb login --relogin`\u001b[0m to force relogin\n"
          ]
        },
        {
          "output_type": "display_data",
          "data": {
            "text/plain": [
              "<IPython.core.display.HTML object>"
            ],
            "text/html": [
              "Tracking run with wandb version 0.19.9"
            ]
          },
          "metadata": {}
        },
        {
          "output_type": "display_data",
          "data": {
            "text/plain": [
              "<IPython.core.display.HTML object>"
            ],
            "text/html": [
              "Run data is saved locally in <code>/content/wandb/run-20250411_171503-i3xz168j</code>"
            ]
          },
          "metadata": {}
        },
        {
          "output_type": "display_data",
          "data": {
            "text/plain": [
              "<IPython.core.display.HTML object>"
            ],
            "text/html": [
              "Syncing run <strong><a href='https://wandb.ai/wilfried-mvomoeto-university-of-li-ge/Few-Shot-Training-CNN_LSTM-/runs/i3xz168j' target=\"_blank\">CNN_LSTM_K-5_Training</a></strong> to <a href='https://wandb.ai/wilfried-mvomoeto-university-of-li-ge/Few-Shot-Training-CNN_LSTM-' target=\"_blank\">Weights & Biases</a> (<a href='https://wandb.me/developer-guide' target=\"_blank\">docs</a>)<br>"
            ]
          },
          "metadata": {}
        },
        {
          "output_type": "display_data",
          "data": {
            "text/plain": [
              "<IPython.core.display.HTML object>"
            ],
            "text/html": [
              " View project at <a href='https://wandb.ai/wilfried-mvomoeto-university-of-li-ge/Few-Shot-Training-CNN_LSTM-' target=\"_blank\">https://wandb.ai/wilfried-mvomoeto-university-of-li-ge/Few-Shot-Training-CNN_LSTM-</a>"
            ]
          },
          "metadata": {}
        },
        {
          "output_type": "display_data",
          "data": {
            "text/plain": [
              "<IPython.core.display.HTML object>"
            ],
            "text/html": [
              " View run at <a href='https://wandb.ai/wilfried-mvomoeto-university-of-li-ge/Few-Shot-Training-CNN_LSTM-/runs/i3xz168j' target=\"_blank\">https://wandb.ai/wilfried-mvomoeto-university-of-li-ge/Few-Shot-Training-CNN_LSTM-/runs/i3xz168j</a>"
            ]
          },
          "metadata": {}
        },
        {
          "output_type": "stream",
          "name": "stderr",
          "text": [
            "CNN_LSTM K-5 Epoch 1/1000 - Train Loss: 2.2049, Test Loss: 2.2020, Train Acc: 4.44%, Test Acc: 10.52%, Test F1: 2.09%, Test Balanced Acc: 11.20%, Test Recall: 10.52%, Test Precision: 2.12%, Time: 2.49 sec:   0%|          | 1/1000 [00:03<52:55,  3.18s/epoch]"
          ]
        },
        {
          "output_type": "stream",
          "name": "stdout",
          "text": [
            "Early stopping triggered at epoch 2\n",
            "Model CNN_LSTM_K-5 saved with loss gap > 1.25 or accuracy gap > 10% at epoch 1.\n"
          ]
        },
        {
          "output_type": "stream",
          "name": "stderr",
          "text": [
            "\n",
            "<ipython-input-11-35ba822a06f8>:44: UserWarning: To copy construct from a tensor, it is recommended to use sourceTensor.clone().detach() or sourceTensor.clone().detach().requires_grad_(True), rather than torch.tensor(sourceTensor).\n",
            "  self.X = torch.tensor(X_data, dtype=torch.long)\n",
            "<ipython-input-11-35ba822a06f8>:45: UserWarning: To copy construct from a tensor, it is recommended to use sourceTensor.clone().detach() or sourceTensor.clone().detach().requires_grad_(True), rather than torch.tensor(sourceTensor).\n",
            "  self.y = torch.tensor(y_data, dtype=torch.long)\n"
          ]
        },
        {
          "output_type": "display_data",
          "data": {
            "text/plain": [
              "<IPython.core.display.HTML object>"
            ],
            "text/html": []
          },
          "metadata": {}
        },
        {
          "output_type": "display_data",
          "data": {
            "text/plain": [
              "<IPython.core.display.HTML object>"
            ],
            "text/html": [
              "<br>    <style><br>        .wandb-row {<br>            display: flex;<br>            flex-direction: row;<br>            flex-wrap: wrap;<br>            justify-content: flex-start;<br>            width: 100%;<br>        }<br>        .wandb-col {<br>            display: flex;<br>            flex-direction: column;<br>            flex-basis: 100%;<br>            flex: 1;<br>            padding: 10px;<br>        }<br>    </style><br><div class=\"wandb-row\"><div class=\"wandb-col\"><h3>Run history:</h3><br/><table class=\"wandb\"><tr><td>epoch</td><td>▁█</td></tr><tr><td>k_shot</td><td>▁▁</td></tr><tr><td>test_acc</td><td>█▁</td></tr><tr><td>test_balanced_acc</td><td>█▁</td></tr><tr><td>test_f1</td><td>█▁</td></tr><tr><td>test_loss</td><td>█▁</td></tr><tr><td>test_precision</td><td>█▁</td></tr><tr><td>test_recall</td><td>█▁</td></tr><tr><td>train_acc</td><td>▁█</td></tr><tr><td>train_loss</td><td>█▁</td></tr></table><br/></div><div class=\"wandb-col\"><h3>Run summary:</h3><br/><table class=\"wandb\"><tr><td>epoch</td><td>2</td></tr><tr><td>k_shot</td><td>5</td></tr><tr><td>test_acc</td><td>0.06744</td></tr><tr><td>test_balanced_acc</td><td>0.11055</td></tr><tr><td>test_f1</td><td>0.00858</td></tr><tr><td>test_loss</td><td>2.20047</td></tr><tr><td>test_precision</td><td>0.00458</td></tr><tr><td>test_recall</td><td>0.06744</td></tr><tr><td>train_acc</td><td>0.13333</td></tr><tr><td>train_loss</td><td>2.19563</td></tr></table><br/></div></div>"
            ]
          },
          "metadata": {}
        },
        {
          "output_type": "display_data",
          "data": {
            "text/plain": [
              "<IPython.core.display.HTML object>"
            ],
            "text/html": [
              " View run <strong style=\"color:#cdcd00\">CNN_LSTM_K-5_Training</strong> at: <a href='https://wandb.ai/wilfried-mvomoeto-university-of-li-ge/Few-Shot-Training-CNN_LSTM-/runs/i3xz168j' target=\"_blank\">https://wandb.ai/wilfried-mvomoeto-university-of-li-ge/Few-Shot-Training-CNN_LSTM-/runs/i3xz168j</a><br> View project at: <a href='https://wandb.ai/wilfried-mvomoeto-university-of-li-ge/Few-Shot-Training-CNN_LSTM-' target=\"_blank\">https://wandb.ai/wilfried-mvomoeto-university-of-li-ge/Few-Shot-Training-CNN_LSTM-</a><br>Synced 5 W&B file(s), 0 media file(s), 0 artifact file(s) and 0 other file(s)"
            ]
          },
          "metadata": {}
        },
        {
          "output_type": "display_data",
          "data": {
            "text/plain": [
              "<IPython.core.display.HTML object>"
            ],
            "text/html": [
              "Find logs at: <code>./wandb/run-20250411_171503-i3xz168j/logs</code>"
            ]
          },
          "metadata": {}
        },
        {
          "output_type": "display_data",
          "data": {
            "text/plain": [
              "<IPython.core.display.HTML object>"
            ],
            "text/html": [
              "Tracking run with wandb version 0.19.9"
            ]
          },
          "metadata": {}
        },
        {
          "output_type": "display_data",
          "data": {
            "text/plain": [
              "<IPython.core.display.HTML object>"
            ],
            "text/html": [
              "Run data is saved locally in <code>/content/wandb/run-20250411_171507-6a6tgsqg</code>"
            ]
          },
          "metadata": {}
        },
        {
          "output_type": "display_data",
          "data": {
            "text/plain": [
              "<IPython.core.display.HTML object>"
            ],
            "text/html": [
              "Syncing run <strong><a href='https://wandb.ai/wilfried-mvomoeto-university-of-li-ge/Few-Shot-Training-Glove-GRU-/runs/6a6tgsqg' target=\"_blank\">Glove-GRU_K-5_Training</a></strong> to <a href='https://wandb.ai/wilfried-mvomoeto-university-of-li-ge/Few-Shot-Training-Glove-GRU-' target=\"_blank\">Weights & Biases</a> (<a href='https://wandb.me/developer-guide' target=\"_blank\">docs</a>)<br>"
            ]
          },
          "metadata": {}
        },
        {
          "output_type": "display_data",
          "data": {
            "text/plain": [
              "<IPython.core.display.HTML object>"
            ],
            "text/html": [
              " View project at <a href='https://wandb.ai/wilfried-mvomoeto-university-of-li-ge/Few-Shot-Training-Glove-GRU-' target=\"_blank\">https://wandb.ai/wilfried-mvomoeto-university-of-li-ge/Few-Shot-Training-Glove-GRU-</a>"
            ]
          },
          "metadata": {}
        },
        {
          "output_type": "display_data",
          "data": {
            "text/plain": [
              "<IPython.core.display.HTML object>"
            ],
            "text/html": [
              " View run at <a href='https://wandb.ai/wilfried-mvomoeto-university-of-li-ge/Few-Shot-Training-Glove-GRU-/runs/6a6tgsqg' target=\"_blank\">https://wandb.ai/wilfried-mvomoeto-university-of-li-ge/Few-Shot-Training-Glove-GRU-/runs/6a6tgsqg</a>"
            ]
          },
          "metadata": {}
        },
        {
          "output_type": "stream",
          "name": "stderr",
          "text": [
            "Glove-GRU K-5 Epoch 7/1000 - Train Loss: 2.2314, Test Loss: 2.1999, Train Acc: 13.33%, Test Acc: 12.18%, Test F1: 2.74%, Test Balanced Acc: 11.12%, Test Recall: 12.18%, Test Precision: 8.78%, Time: 1.19 sec:   1%|          | 7/1000 [00:06<14:28,  1.14epoch/s]"
          ]
        },
        {
          "output_type": "stream",
          "name": "stdout",
          "text": [
            "Early stopping triggered at epoch 8\n",
            "Model Glove-GRU_K-5 saved with loss gap > 1.25 or accuracy gap > 10% at epoch 7.\n"
          ]
        },
        {
          "output_type": "stream",
          "name": "stderr",
          "text": [
            "\n",
            "<ipython-input-11-35ba822a06f8>:44: UserWarning: To copy construct from a tensor, it is recommended to use sourceTensor.clone().detach() or sourceTensor.clone().detach().requires_grad_(True), rather than torch.tensor(sourceTensor).\n",
            "  self.X = torch.tensor(X_data, dtype=torch.long)\n",
            "<ipython-input-11-35ba822a06f8>:45: UserWarning: To copy construct from a tensor, it is recommended to use sourceTensor.clone().detach() or sourceTensor.clone().detach().requires_grad_(True), rather than torch.tensor(sourceTensor).\n",
            "  self.y = torch.tensor(y_data, dtype=torch.long)\n"
          ]
        },
        {
          "output_type": "display_data",
          "data": {
            "text/plain": [
              "<IPython.core.display.HTML object>"
            ],
            "text/html": []
          },
          "metadata": {}
        },
        {
          "output_type": "display_data",
          "data": {
            "text/plain": [
              "<IPython.core.display.HTML object>"
            ],
            "text/html": [
              "<br>    <style><br>        .wandb-row {<br>            display: flex;<br>            flex-direction: row;<br>            flex-wrap: wrap;<br>            justify-content: flex-start;<br>            width: 100%;<br>        }<br>        .wandb-col {<br>            display: flex;<br>            flex-direction: column;<br>            flex-basis: 100%;<br>            flex: 1;<br>            padding: 10px;<br>        }<br>    </style><br><div class=\"wandb-row\"><div class=\"wandb-col\"><h3>Run history:</h3><br/><table class=\"wandb\"><tr><td>epoch</td><td>▁▂▃▄▅▆▇█</td></tr><tr><td>k_shot</td><td>▁▁▁▁▁▁▁▁</td></tr><tr><td>test_acc</td><td>▁▁▁▆▄███</td></tr><tr><td>test_balanced_acc</td><td>▆▆█▃▇▁▁▂</td></tr><tr><td>test_f1</td><td>▁▁▁▆▅███</td></tr><tr><td>test_loss</td><td>█▄▂▁▂▁▁▄</td></tr><tr><td>test_precision</td><td>▄▆█▆▇▁▁▆</td></tr><tr><td>test_recall</td><td>▁▁▁▆▄███</td></tr><tr><td>train_acc</td><td>▁▃▄▂▃▂▆█</td></tr><tr><td>train_loss</td><td>█▃▁▄▄▄▁▂</td></tr></table><br/></div><div class=\"wandb-col\"><h3>Run summary:</h3><br/><table class=\"wandb\"><tr><td>epoch</td><td>8</td></tr><tr><td>k_shot</td><td>5</td></tr><tr><td>test_acc</td><td>0.12194</td></tr><tr><td>test_balanced_acc</td><td>0.11141</td></tr><tr><td>test_f1</td><td>0.02778</td></tr><tr><td>test_loss</td><td>2.20811</td></tr><tr><td>test_precision</td><td>0.12163</td></tr><tr><td>test_recall</td><td>0.12194</td></tr><tr><td>train_acc</td><td>0.17778</td></tr><tr><td>train_loss</td><td>2.2426</td></tr></table><br/></div></div>"
            ]
          },
          "metadata": {}
        },
        {
          "output_type": "display_data",
          "data": {
            "text/plain": [
              "<IPython.core.display.HTML object>"
            ],
            "text/html": [
              " View run <strong style=\"color:#cdcd00\">Glove-GRU_K-5_Training</strong> at: <a href='https://wandb.ai/wilfried-mvomoeto-university-of-li-ge/Few-Shot-Training-Glove-GRU-/runs/6a6tgsqg' target=\"_blank\">https://wandb.ai/wilfried-mvomoeto-university-of-li-ge/Few-Shot-Training-Glove-GRU-/runs/6a6tgsqg</a><br> View project at: <a href='https://wandb.ai/wilfried-mvomoeto-university-of-li-ge/Few-Shot-Training-Glove-GRU-' target=\"_blank\">https://wandb.ai/wilfried-mvomoeto-university-of-li-ge/Few-Shot-Training-Glove-GRU-</a><br>Synced 5 W&B file(s), 0 media file(s), 0 artifact file(s) and 0 other file(s)"
            ]
          },
          "metadata": {}
        },
        {
          "output_type": "display_data",
          "data": {
            "text/plain": [
              "<IPython.core.display.HTML object>"
            ],
            "text/html": [
              "Find logs at: <code>./wandb/run-20250411_171507-6a6tgsqg/logs</code>"
            ]
          },
          "metadata": {}
        },
        {
          "output_type": "display_data",
          "data": {
            "text/plain": [
              "<IPython.core.display.HTML object>"
            ],
            "text/html": [
              "Tracking run with wandb version 0.19.9"
            ]
          },
          "metadata": {}
        },
        {
          "output_type": "display_data",
          "data": {
            "text/plain": [
              "<IPython.core.display.HTML object>"
            ],
            "text/html": [
              "Run data is saved locally in <code>/content/wandb/run-20250411_171515-vqfmz2t1</code>"
            ]
          },
          "metadata": {}
        },
        {
          "output_type": "display_data",
          "data": {
            "text/plain": [
              "<IPython.core.display.HTML object>"
            ],
            "text/html": [
              "Syncing run <strong><a href='https://wandb.ai/wilfried-mvomoeto-university-of-li-ge/Few-Shot-Training-Glove-GRU-Bahdanau-/runs/vqfmz2t1' target=\"_blank\">Glove-GRU-Bahdanau_K-5_Training</a></strong> to <a href='https://wandb.ai/wilfried-mvomoeto-university-of-li-ge/Few-Shot-Training-Glove-GRU-Bahdanau-' target=\"_blank\">Weights & Biases</a> (<a href='https://wandb.me/developer-guide' target=\"_blank\">docs</a>)<br>"
            ]
          },
          "metadata": {}
        },
        {
          "output_type": "display_data",
          "data": {
            "text/plain": [
              "<IPython.core.display.HTML object>"
            ],
            "text/html": [
              " View project at <a href='https://wandb.ai/wilfried-mvomoeto-university-of-li-ge/Few-Shot-Training-Glove-GRU-Bahdanau-' target=\"_blank\">https://wandb.ai/wilfried-mvomoeto-university-of-li-ge/Few-Shot-Training-Glove-GRU-Bahdanau-</a>"
            ]
          },
          "metadata": {}
        },
        {
          "output_type": "display_data",
          "data": {
            "text/plain": [
              "<IPython.core.display.HTML object>"
            ],
            "text/html": [
              " View run at <a href='https://wandb.ai/wilfried-mvomoeto-university-of-li-ge/Few-Shot-Training-Glove-GRU-Bahdanau-/runs/vqfmz2t1' target=\"_blank\">https://wandb.ai/wilfried-mvomoeto-university-of-li-ge/Few-Shot-Training-Glove-GRU-Bahdanau-/runs/vqfmz2t1</a>"
            ]
          },
          "metadata": {}
        },
        {
          "output_type": "stream",
          "name": "stderr",
          "text": [
            "Glove-GRU-Bahdanau K-5 Epoch 7/1000 - Train Loss: 2.3179, Test Loss: 2.2047, Train Acc: 8.89%, Test Acc: 11.07%, Test F1: 4.34%, Test Balanced Acc: 10.74%, Test Recall: 11.07%, Test Precision: 7.22%, Time: 0.94 sec:   1%|          | 7/1000 [00:08<20:05,  1.21s/epoch]"
          ]
        },
        {
          "output_type": "stream",
          "name": "stdout",
          "text": [
            "Early stopping triggered at epoch 8\n",
            "Model Glove-GRU-Bahdanau_K-5 saved with loss gap > 1.25 or accuracy gap > 10% at epoch 7.\n",
            "\n",
            "Training with 10-shot...\n"
          ]
        },
        {
          "output_type": "stream",
          "name": "stderr",
          "text": [
            "\n",
            "<ipython-input-11-35ba822a06f8>:44: UserWarning: To copy construct from a tensor, it is recommended to use sourceTensor.clone().detach() or sourceTensor.clone().detach().requires_grad_(True), rather than torch.tensor(sourceTensor).\n",
            "  self.X = torch.tensor(X_data, dtype=torch.long)\n",
            "<ipython-input-11-35ba822a06f8>:45: UserWarning: To copy construct from a tensor, it is recommended to use sourceTensor.clone().detach() or sourceTensor.clone().detach().requires_grad_(True), rather than torch.tensor(sourceTensor).\n",
            "  self.y = torch.tensor(y_data, dtype=torch.long)\n"
          ]
        },
        {
          "output_type": "display_data",
          "data": {
            "text/plain": [
              "<IPython.core.display.HTML object>"
            ],
            "text/html": []
          },
          "metadata": {}
        },
        {
          "output_type": "display_data",
          "data": {
            "text/plain": [
              "<IPython.core.display.HTML object>"
            ],
            "text/html": [
              "<br>    <style><br>        .wandb-row {<br>            display: flex;<br>            flex-direction: row;<br>            flex-wrap: wrap;<br>            justify-content: flex-start;<br>            width: 100%;<br>        }<br>        .wandb-col {<br>            display: flex;<br>            flex-direction: column;<br>            flex-basis: 100%;<br>            flex: 1;<br>            padding: 10px;<br>        }<br>    </style><br><div class=\"wandb-row\"><div class=\"wandb-col\"><h3>Run history:</h3><br/><table class=\"wandb\"><tr><td>epoch</td><td>▁▂▃▄▅▆▇█</td></tr><tr><td>k_shot</td><td>▁▁▁▁▁▁▁▁</td></tr><tr><td>test_acc</td><td>█▆▅▄▄▃▄▁</td></tr><tr><td>test_balanced_acc</td><td>█▆▆▅▄▃▄▁</td></tr><tr><td>test_f1</td><td>▁▁▁▂▃▅▇█</td></tr><tr><td>test_loss</td><td>█▆▅▃▂▂▁▁</td></tr><tr><td>test_precision</td><td>█▅▂▁▅▄█▇</td></tr><tr><td>test_recall</td><td>█▆▅▄▄▃▄▁</td></tr><tr><td>train_acc</td><td>▂▅▄▄▄▁▄█</td></tr><tr><td>train_loss</td><td>█▂▆▅▆▇▅▁</td></tr></table><br/></div><div class=\"wandb-col\"><h3>Run summary:</h3><br/><table class=\"wandb\"><tr><td>epoch</td><td>8</td></tr><tr><td>k_shot</td><td>5</td></tr><tr><td>test_acc</td><td>0.10987</td></tr><tr><td>test_balanced_acc</td><td>0.10627</td></tr><tr><td>test_f1</td><td>0.0478</td></tr><tr><td>test_loss</td><td>2.20422</td></tr><tr><td>test_precision</td><td>0.07069</td></tr><tr><td>test_recall</td><td>0.10987</td></tr><tr><td>train_acc</td><td>0.2</td></tr><tr><td>train_loss</td><td>2.14143</td></tr></table><br/></div></div>"
            ]
          },
          "metadata": {}
        },
        {
          "output_type": "display_data",
          "data": {
            "text/plain": [
              "<IPython.core.display.HTML object>"
            ],
            "text/html": [
              " View run <strong style=\"color:#cdcd00\">Glove-GRU-Bahdanau_K-5_Training</strong> at: <a href='https://wandb.ai/wilfried-mvomoeto-university-of-li-ge/Few-Shot-Training-Glove-GRU-Bahdanau-/runs/vqfmz2t1' target=\"_blank\">https://wandb.ai/wilfried-mvomoeto-university-of-li-ge/Few-Shot-Training-Glove-GRU-Bahdanau-/runs/vqfmz2t1</a><br> View project at: <a href='https://wandb.ai/wilfried-mvomoeto-university-of-li-ge/Few-Shot-Training-Glove-GRU-Bahdanau-' target=\"_blank\">https://wandb.ai/wilfried-mvomoeto-university-of-li-ge/Few-Shot-Training-Glove-GRU-Bahdanau-</a><br>Synced 5 W&B file(s), 0 media file(s), 0 artifact file(s) and 0 other file(s)"
            ]
          },
          "metadata": {}
        },
        {
          "output_type": "display_data",
          "data": {
            "text/plain": [
              "<IPython.core.display.HTML object>"
            ],
            "text/html": [
              "Find logs at: <code>./wandb/run-20250411_171515-vqfmz2t1/logs</code>"
            ]
          },
          "metadata": {}
        },
        {
          "output_type": "display_data",
          "data": {
            "text/plain": [
              "<IPython.core.display.HTML object>"
            ],
            "text/html": [
              "Tracking run with wandb version 0.19.9"
            ]
          },
          "metadata": {}
        },
        {
          "output_type": "display_data",
          "data": {
            "text/plain": [
              "<IPython.core.display.HTML object>"
            ],
            "text/html": [
              "Run data is saved locally in <code>/content/wandb/run-20250411_171525-nnw5rwoz</code>"
            ]
          },
          "metadata": {}
        },
        {
          "output_type": "display_data",
          "data": {
            "text/plain": [
              "<IPython.core.display.HTML object>"
            ],
            "text/html": [
              "Syncing run <strong><a href='https://wandb.ai/wilfried-mvomoeto-university-of-li-ge/Few-Shot-Training-CNN_LSTM-/runs/nnw5rwoz' target=\"_blank\">CNN_LSTM_K-10_Training</a></strong> to <a href='https://wandb.ai/wilfried-mvomoeto-university-of-li-ge/Few-Shot-Training-CNN_LSTM-' target=\"_blank\">Weights & Biases</a> (<a href='https://wandb.me/developer-guide' target=\"_blank\">docs</a>)<br>"
            ]
          },
          "metadata": {}
        },
        {
          "output_type": "display_data",
          "data": {
            "text/plain": [
              "<IPython.core.display.HTML object>"
            ],
            "text/html": [
              " View project at <a href='https://wandb.ai/wilfried-mvomoeto-university-of-li-ge/Few-Shot-Training-CNN_LSTM-' target=\"_blank\">https://wandb.ai/wilfried-mvomoeto-university-of-li-ge/Few-Shot-Training-CNN_LSTM-</a>"
            ]
          },
          "metadata": {}
        },
        {
          "output_type": "display_data",
          "data": {
            "text/plain": [
              "<IPython.core.display.HTML object>"
            ],
            "text/html": [
              " View run at <a href='https://wandb.ai/wilfried-mvomoeto-university-of-li-ge/Few-Shot-Training-CNN_LSTM-/runs/nnw5rwoz' target=\"_blank\">https://wandb.ai/wilfried-mvomoeto-university-of-li-ge/Few-Shot-Training-CNN_LSTM-/runs/nnw5rwoz</a>"
            ]
          },
          "metadata": {}
        },
        {
          "output_type": "stream",
          "name": "stderr",
          "text": [
            "CNN_LSTM K-10 Epoch 9/1000 - Train Loss: 2.1745, Test Loss: 2.1979, Train Acc: 14.44%, Test Acc: 12.26%, Test F1: 2.76%, Test Balanced Acc: 11.08%, Test Recall: 12.26%, Test Precision: 7.23%, Time: 0.66 sec:   1%|          | 9/1000 [00:06<12:40,  1.30epoch/s]"
          ]
        },
        {
          "output_type": "stream",
          "name": "stdout",
          "text": [
            "Early stopping triggered at epoch 10\n",
            "Model CNN_LSTM_K-10 saved with loss gap > 1.25 or accuracy gap > 10% at epoch 9.\n"
          ]
        },
        {
          "output_type": "stream",
          "name": "stderr",
          "text": [
            "\n",
            "<ipython-input-11-35ba822a06f8>:44: UserWarning: To copy construct from a tensor, it is recommended to use sourceTensor.clone().detach() or sourceTensor.clone().detach().requires_grad_(True), rather than torch.tensor(sourceTensor).\n",
            "  self.X = torch.tensor(X_data, dtype=torch.long)\n",
            "<ipython-input-11-35ba822a06f8>:45: UserWarning: To copy construct from a tensor, it is recommended to use sourceTensor.clone().detach() or sourceTensor.clone().detach().requires_grad_(True), rather than torch.tensor(sourceTensor).\n",
            "  self.y = torch.tensor(y_data, dtype=torch.long)\n"
          ]
        },
        {
          "output_type": "display_data",
          "data": {
            "text/plain": [
              "<IPython.core.display.HTML object>"
            ],
            "text/html": []
          },
          "metadata": {}
        },
        {
          "output_type": "display_data",
          "data": {
            "text/plain": [
              "<IPython.core.display.HTML object>"
            ],
            "text/html": [
              "<br>    <style><br>        .wandb-row {<br>            display: flex;<br>            flex-direction: row;<br>            flex-wrap: wrap;<br>            justify-content: flex-start;<br>            width: 100%;<br>        }<br>        .wandb-col {<br>            display: flex;<br>            flex-direction: column;<br>            flex-basis: 100%;<br>            flex: 1;<br>            padding: 10px;<br>        }<br>    </style><br><div class=\"wandb-row\"><div class=\"wandb-col\"><h3>Run history:</h3><br/><table class=\"wandb\"><tr><td>epoch</td><td>▁▂▃▃▄▅▆▆▇█</td></tr><tr><td>k_shot</td><td>▁▁▁▁▁▁▁▁▁▁</td></tr><tr><td>test_acc</td><td>▇█▇▆▅▁▅▅▆▆</td></tr><tr><td>test_balanced_acc</td><td>▆█▄▃▁▃▁▁▃▃</td></tr><tr><td>test_f1</td><td>▃▅██▅▁▅▅██</td></tr><tr><td>test_loss</td><td>▂▁▅▃▅▇▇█▇▄</td></tr><tr><td>test_precision</td><td>▁█▅▅▂▂▂▂█▅</td></tr><tr><td>test_recall</td><td>▇█▇▆▅▁▅▅▆▆</td></tr><tr><td>train_acc</td><td>▃▃▄▂▅▂▁▃▅█</td></tr><tr><td>train_loss</td><td>█▇▆▆▅▄▅▅▃▁</td></tr></table><br/></div><div class=\"wandb-col\"><h3>Run summary:</h3><br/><table class=\"wandb\"><tr><td>epoch</td><td>10</td></tr><tr><td>k_shot</td><td>10</td></tr><tr><td>test_acc</td><td>0.12263</td></tr><tr><td>test_balanced_acc</td><td>0.11081</td></tr><tr><td>test_f1</td><td>0.02757</td></tr><tr><td>test_loss</td><td>2.19627</td></tr><tr><td>test_precision</td><td>0.05239</td></tr><tr><td>test_recall</td><td>0.12263</td></tr><tr><td>train_acc</td><td>0.17778</td></tr><tr><td>train_loss</td><td>2.16089</td></tr></table><br/></div></div>"
            ]
          },
          "metadata": {}
        },
        {
          "output_type": "display_data",
          "data": {
            "text/plain": [
              "<IPython.core.display.HTML object>"
            ],
            "text/html": [
              " View run <strong style=\"color:#cdcd00\">CNN_LSTM_K-10_Training</strong> at: <a href='https://wandb.ai/wilfried-mvomoeto-university-of-li-ge/Few-Shot-Training-CNN_LSTM-/runs/nnw5rwoz' target=\"_blank\">https://wandb.ai/wilfried-mvomoeto-university-of-li-ge/Few-Shot-Training-CNN_LSTM-/runs/nnw5rwoz</a><br> View project at: <a href='https://wandb.ai/wilfried-mvomoeto-university-of-li-ge/Few-Shot-Training-CNN_LSTM-' target=\"_blank\">https://wandb.ai/wilfried-mvomoeto-university-of-li-ge/Few-Shot-Training-CNN_LSTM-</a><br>Synced 5 W&B file(s), 0 media file(s), 0 artifact file(s) and 0 other file(s)"
            ]
          },
          "metadata": {}
        },
        {
          "output_type": "display_data",
          "data": {
            "text/plain": [
              "<IPython.core.display.HTML object>"
            ],
            "text/html": [
              "Find logs at: <code>./wandb/run-20250411_171525-nnw5rwoz/logs</code>"
            ]
          },
          "metadata": {}
        },
        {
          "output_type": "display_data",
          "data": {
            "text/plain": [
              "<IPython.core.display.HTML object>"
            ],
            "text/html": [
              "Tracking run with wandb version 0.19.9"
            ]
          },
          "metadata": {}
        },
        {
          "output_type": "display_data",
          "data": {
            "text/plain": [
              "<IPython.core.display.HTML object>"
            ],
            "text/html": [
              "Run data is saved locally in <code>/content/wandb/run-20250411_171534-dup2wkb6</code>"
            ]
          },
          "metadata": {}
        },
        {
          "output_type": "display_data",
          "data": {
            "text/plain": [
              "<IPython.core.display.HTML object>"
            ],
            "text/html": [
              "Syncing run <strong><a href='https://wandb.ai/wilfried-mvomoeto-university-of-li-ge/Few-Shot-Training-Glove-GRU-/runs/dup2wkb6' target=\"_blank\">Glove-GRU_K-10_Training</a></strong> to <a href='https://wandb.ai/wilfried-mvomoeto-university-of-li-ge/Few-Shot-Training-Glove-GRU-' target=\"_blank\">Weights & Biases</a> (<a href='https://wandb.me/developer-guide' target=\"_blank\">docs</a>)<br>"
            ]
          },
          "metadata": {}
        },
        {
          "output_type": "display_data",
          "data": {
            "text/plain": [
              "<IPython.core.display.HTML object>"
            ],
            "text/html": [
              " View project at <a href='https://wandb.ai/wilfried-mvomoeto-university-of-li-ge/Few-Shot-Training-Glove-GRU-' target=\"_blank\">https://wandb.ai/wilfried-mvomoeto-university-of-li-ge/Few-Shot-Training-Glove-GRU-</a>"
            ]
          },
          "metadata": {}
        },
        {
          "output_type": "display_data",
          "data": {
            "text/plain": [
              "<IPython.core.display.HTML object>"
            ],
            "text/html": [
              " View run at <a href='https://wandb.ai/wilfried-mvomoeto-university-of-li-ge/Few-Shot-Training-Glove-GRU-/runs/dup2wkb6' target=\"_blank\">https://wandb.ai/wilfried-mvomoeto-university-of-li-ge/Few-Shot-Training-Glove-GRU-/runs/dup2wkb6</a>"
            ]
          },
          "metadata": {}
        },
        {
          "output_type": "stream",
          "name": "stderr",
          "text": [
            "Glove-GRU K-10 Epoch 13/1000 - Train Loss: 2.2375, Test Loss: 2.2083, Train Acc: 10.00%, Test Acc: 9.33%, Test F1: 3.13%, Test Balanced Acc: 10.75%, Test Recall: 9.33%, Test Precision: 14.08%, Time: 0.59 sec:   1%|▏         | 13/1000 [00:08<11:22,  1.45epoch/s]"
          ]
        },
        {
          "output_type": "stream",
          "name": "stdout",
          "text": [
            "Early stopping triggered at epoch 14\n",
            "Model Glove-GRU_K-10 saved with loss gap > 1.25 or accuracy gap > 10% at epoch 13.\n"
          ]
        },
        {
          "output_type": "stream",
          "name": "stderr",
          "text": [
            "\n",
            "<ipython-input-11-35ba822a06f8>:44: UserWarning: To copy construct from a tensor, it is recommended to use sourceTensor.clone().detach() or sourceTensor.clone().detach().requires_grad_(True), rather than torch.tensor(sourceTensor).\n",
            "  self.X = torch.tensor(X_data, dtype=torch.long)\n",
            "<ipython-input-11-35ba822a06f8>:45: UserWarning: To copy construct from a tensor, it is recommended to use sourceTensor.clone().detach() or sourceTensor.clone().detach().requires_grad_(True), rather than torch.tensor(sourceTensor).\n",
            "  self.y = torch.tensor(y_data, dtype=torch.long)\n"
          ]
        },
        {
          "output_type": "display_data",
          "data": {
            "text/plain": [
              "<IPython.core.display.HTML object>"
            ],
            "text/html": []
          },
          "metadata": {}
        },
        {
          "output_type": "display_data",
          "data": {
            "text/plain": [
              "<IPython.core.display.HTML object>"
            ],
            "text/html": [
              "<br>    <style><br>        .wandb-row {<br>            display: flex;<br>            flex-direction: row;<br>            flex-wrap: wrap;<br>            justify-content: flex-start;<br>            width: 100%;<br>        }<br>        .wandb-col {<br>            display: flex;<br>            flex-direction: column;<br>            flex-basis: 100%;<br>            flex: 1;<br>            padding: 10px;<br>        }<br>    </style><br><div class=\"wandb-row\"><div class=\"wandb-col\"><h3>Run history:</h3><br/><table class=\"wandb\"><tr><td>epoch</td><td>▁▂▂▃▃▄▄▅▅▆▆▇▇█</td></tr><tr><td>k_shot</td><td>▁▁▁▁▁▁▁▁▁▁▁▁▁▁</td></tr><tr><td>test_acc</td><td>▇█▇███▇▇▁█▇▆▄▇</td></tr><tr><td>test_balanced_acc</td><td>▆▅▅▅▆▅▆▆▅█▇▅▁▅</td></tr><tr><td>test_f1</td><td>▅▅▅▅▅▅▄▄▁▆▆█▆▇</td></tr><tr><td>test_loss</td><td>▅▂▄▃▁▇▃▄█▇▄▃▅▄</td></tr><tr><td>test_precision</td><td>█▁▇▇▃▇▇▇▇█▃█▆▇</td></tr><tr><td>test_recall</td><td>▇█▇███▇▇▁█▇▆▄▇</td></tr><tr><td>train_acc</td><td>▁▃▂▄▇▇▄▃▃▇▄▃▄█</td></tr><tr><td>train_loss</td><td>█▆▅▆▁▃▆▇▅▄▄▅▄▃</td></tr></table><br/></div><div class=\"wandb-col\"><h3>Run summary:</h3><br/><table class=\"wandb\"><tr><td>epoch</td><td>14</td></tr><tr><td>k_shot</td><td>10</td></tr><tr><td>test_acc</td><td>0.11176</td></tr><tr><td>test_balanced_acc</td><td>0.11111</td></tr><tr><td>test_f1</td><td>0.03521</td></tr><tr><td>test_loss</td><td>2.20384</td></tr><tr><td>test_precision</td><td>0.15788</td></tr><tr><td>test_recall</td><td>0.11176</td></tr><tr><td>train_acc</td><td>0.17778</td></tr><tr><td>train_loss</td><td>2.22357</td></tr></table><br/></div></div>"
            ]
          },
          "metadata": {}
        },
        {
          "output_type": "display_data",
          "data": {
            "text/plain": [
              "<IPython.core.display.HTML object>"
            ],
            "text/html": [
              " View run <strong style=\"color:#cdcd00\">Glove-GRU_K-10_Training</strong> at: <a href='https://wandb.ai/wilfried-mvomoeto-university-of-li-ge/Few-Shot-Training-Glove-GRU-/runs/dup2wkb6' target=\"_blank\">https://wandb.ai/wilfried-mvomoeto-university-of-li-ge/Few-Shot-Training-Glove-GRU-/runs/dup2wkb6</a><br> View project at: <a href='https://wandb.ai/wilfried-mvomoeto-university-of-li-ge/Few-Shot-Training-Glove-GRU-' target=\"_blank\">https://wandb.ai/wilfried-mvomoeto-university-of-li-ge/Few-Shot-Training-Glove-GRU-</a><br>Synced 5 W&B file(s), 0 media file(s), 0 artifact file(s) and 0 other file(s)"
            ]
          },
          "metadata": {}
        },
        {
          "output_type": "display_data",
          "data": {
            "text/plain": [
              "<IPython.core.display.HTML object>"
            ],
            "text/html": [
              "Find logs at: <code>./wandb/run-20250411_171534-dup2wkb6/logs</code>"
            ]
          },
          "metadata": {}
        },
        {
          "output_type": "display_data",
          "data": {
            "text/plain": [
              "<IPython.core.display.HTML object>"
            ],
            "text/html": [
              "Tracking run with wandb version 0.19.9"
            ]
          },
          "metadata": {}
        },
        {
          "output_type": "display_data",
          "data": {
            "text/plain": [
              "<IPython.core.display.HTML object>"
            ],
            "text/html": [
              "Run data is saved locally in <code>/content/wandb/run-20250411_171544-yg7gviod</code>"
            ]
          },
          "metadata": {}
        },
        {
          "output_type": "display_data",
          "data": {
            "text/plain": [
              "<IPython.core.display.HTML object>"
            ],
            "text/html": [
              "Syncing run <strong><a href='https://wandb.ai/wilfried-mvomoeto-university-of-li-ge/Few-Shot-Training-Glove-GRU-Bahdanau-/runs/yg7gviod' target=\"_blank\">Glove-GRU-Bahdanau_K-10_Training</a></strong> to <a href='https://wandb.ai/wilfried-mvomoeto-university-of-li-ge/Few-Shot-Training-Glove-GRU-Bahdanau-' target=\"_blank\">Weights & Biases</a> (<a href='https://wandb.me/developer-guide' target=\"_blank\">docs</a>)<br>"
            ]
          },
          "metadata": {}
        },
        {
          "output_type": "display_data",
          "data": {
            "text/plain": [
              "<IPython.core.display.HTML object>"
            ],
            "text/html": [
              " View project at <a href='https://wandb.ai/wilfried-mvomoeto-university-of-li-ge/Few-Shot-Training-Glove-GRU-Bahdanau-' target=\"_blank\">https://wandb.ai/wilfried-mvomoeto-university-of-li-ge/Few-Shot-Training-Glove-GRU-Bahdanau-</a>"
            ]
          },
          "metadata": {}
        },
        {
          "output_type": "display_data",
          "data": {
            "text/plain": [
              "<IPython.core.display.HTML object>"
            ],
            "text/html": [
              " View run at <a href='https://wandb.ai/wilfried-mvomoeto-university-of-li-ge/Few-Shot-Training-Glove-GRU-Bahdanau-/runs/yg7gviod' target=\"_blank\">https://wandb.ai/wilfried-mvomoeto-university-of-li-ge/Few-Shot-Training-Glove-GRU-Bahdanau-/runs/yg7gviod</a>"
            ]
          },
          "metadata": {}
        },
        {
          "output_type": "stream",
          "name": "stderr",
          "text": [
            "Glove-GRU-Bahdanau K-10 Epoch 1/1000 - Train Loss: 2.4951, Test Loss: 2.2013, Train Acc: 8.89%, Test Acc: 11.26%, Test F1: 3.41%, Test Balanced Acc: 10.21%, Test Recall: 11.26%, Test Precision: 4.62%, Time: 1.02 sec:   0%|          | 1/1000 [00:02<35:45,  2.15s/epoch]"
          ]
        },
        {
          "output_type": "stream",
          "name": "stdout",
          "text": [
            "Early stopping triggered at epoch 2\n",
            "Model Glove-GRU-Bahdanau_K-10 saved with loss gap > 1.25 or accuracy gap > 10% at epoch 1.\n",
            "\n",
            "Training with 20-shot...\n"
          ]
        },
        {
          "output_type": "stream",
          "name": "stderr",
          "text": [
            "\n",
            "<ipython-input-11-35ba822a06f8>:44: UserWarning: To copy construct from a tensor, it is recommended to use sourceTensor.clone().detach() or sourceTensor.clone().detach().requires_grad_(True), rather than torch.tensor(sourceTensor).\n",
            "  self.X = torch.tensor(X_data, dtype=torch.long)\n",
            "<ipython-input-11-35ba822a06f8>:45: UserWarning: To copy construct from a tensor, it is recommended to use sourceTensor.clone().detach() or sourceTensor.clone().detach().requires_grad_(True), rather than torch.tensor(sourceTensor).\n",
            "  self.y = torch.tensor(y_data, dtype=torch.long)\n"
          ]
        },
        {
          "output_type": "display_data",
          "data": {
            "text/plain": [
              "<IPython.core.display.HTML object>"
            ],
            "text/html": []
          },
          "metadata": {}
        },
        {
          "output_type": "display_data",
          "data": {
            "text/plain": [
              "<IPython.core.display.HTML object>"
            ],
            "text/html": [
              "<br>    <style><br>        .wandb-row {<br>            display: flex;<br>            flex-direction: row;<br>            flex-wrap: wrap;<br>            justify-content: flex-start;<br>            width: 100%;<br>        }<br>        .wandb-col {<br>            display: flex;<br>            flex-direction: column;<br>            flex-basis: 100%;<br>            flex: 1;<br>            padding: 10px;<br>        }<br>    </style><br><div class=\"wandb-row\"><div class=\"wandb-col\"><h3>Run history:</h3><br/><table class=\"wandb\"><tr><td>epoch</td><td>▁█</td></tr><tr><td>k_shot</td><td>▁▁</td></tr><tr><td>test_acc</td><td>█▁</td></tr><tr><td>test_balanced_acc</td><td>█▁</td></tr><tr><td>test_f1</td><td>▁█</td></tr><tr><td>test_loss</td><td>▁█</td></tr><tr><td>test_precision</td><td>█▁</td></tr><tr><td>test_recall</td><td>█▁</td></tr><tr><td>train_acc</td><td>▁█</td></tr><tr><td>train_loss</td><td>█▁</td></tr></table><br/></div><div class=\"wandb-col\"><h3>Run summary:</h3><br/><table class=\"wandb\"><tr><td>epoch</td><td>2</td></tr><tr><td>k_shot</td><td>10</td></tr><tr><td>test_acc</td><td>0.10711</td></tr><tr><td>test_balanced_acc</td><td>0.09767</td></tr><tr><td>test_f1</td><td>0.03956</td></tr><tr><td>test_loss</td><td>2.20182</td></tr><tr><td>test_precision</td><td>0.04345</td></tr><tr><td>test_recall</td><td>0.10711</td></tr><tr><td>train_acc</td><td>0.16667</td></tr><tr><td>train_loss</td><td>2.39538</td></tr></table><br/></div></div>"
            ]
          },
          "metadata": {}
        },
        {
          "output_type": "display_data",
          "data": {
            "text/plain": [
              "<IPython.core.display.HTML object>"
            ],
            "text/html": [
              " View run <strong style=\"color:#cdcd00\">Glove-GRU-Bahdanau_K-10_Training</strong> at: <a href='https://wandb.ai/wilfried-mvomoeto-university-of-li-ge/Few-Shot-Training-Glove-GRU-Bahdanau-/runs/yg7gviod' target=\"_blank\">https://wandb.ai/wilfried-mvomoeto-university-of-li-ge/Few-Shot-Training-Glove-GRU-Bahdanau-/runs/yg7gviod</a><br> View project at: <a href='https://wandb.ai/wilfried-mvomoeto-university-of-li-ge/Few-Shot-Training-Glove-GRU-Bahdanau-' target=\"_blank\">https://wandb.ai/wilfried-mvomoeto-university-of-li-ge/Few-Shot-Training-Glove-GRU-Bahdanau-</a><br>Synced 5 W&B file(s), 0 media file(s), 0 artifact file(s) and 0 other file(s)"
            ]
          },
          "metadata": {}
        },
        {
          "output_type": "display_data",
          "data": {
            "text/plain": [
              "<IPython.core.display.HTML object>"
            ],
            "text/html": [
              "Find logs at: <code>./wandb/run-20250411_171544-yg7gviod/logs</code>"
            ]
          },
          "metadata": {}
        },
        {
          "output_type": "display_data",
          "data": {
            "text/plain": [
              "<IPython.core.display.HTML object>"
            ],
            "text/html": [
              "Tracking run with wandb version 0.19.9"
            ]
          },
          "metadata": {}
        },
        {
          "output_type": "display_data",
          "data": {
            "text/plain": [
              "<IPython.core.display.HTML object>"
            ],
            "text/html": [
              "Run data is saved locally in <code>/content/wandb/run-20250411_171548-i901fyc3</code>"
            ]
          },
          "metadata": {}
        },
        {
          "output_type": "display_data",
          "data": {
            "text/plain": [
              "<IPython.core.display.HTML object>"
            ],
            "text/html": [
              "Syncing run <strong><a href='https://wandb.ai/wilfried-mvomoeto-university-of-li-ge/Few-Shot-Training-CNN_LSTM-/runs/i901fyc3' target=\"_blank\">CNN_LSTM_K-20_Training</a></strong> to <a href='https://wandb.ai/wilfried-mvomoeto-university-of-li-ge/Few-Shot-Training-CNN_LSTM-' target=\"_blank\">Weights & Biases</a> (<a href='https://wandb.me/developer-guide' target=\"_blank\">docs</a>)<br>"
            ]
          },
          "metadata": {}
        },
        {
          "output_type": "display_data",
          "data": {
            "text/plain": [
              "<IPython.core.display.HTML object>"
            ],
            "text/html": [
              " View project at <a href='https://wandb.ai/wilfried-mvomoeto-university-of-li-ge/Few-Shot-Training-CNN_LSTM-' target=\"_blank\">https://wandb.ai/wilfried-mvomoeto-university-of-li-ge/Few-Shot-Training-CNN_LSTM-</a>"
            ]
          },
          "metadata": {}
        },
        {
          "output_type": "display_data",
          "data": {
            "text/plain": [
              "<IPython.core.display.HTML object>"
            ],
            "text/html": [
              " View run at <a href='https://wandb.ai/wilfried-mvomoeto-university-of-li-ge/Few-Shot-Training-CNN_LSTM-/runs/i901fyc3' target=\"_blank\">https://wandb.ai/wilfried-mvomoeto-university-of-li-ge/Few-Shot-Training-CNN_LSTM-/runs/i901fyc3</a>"
            ]
          },
          "metadata": {}
        },
        {
          "output_type": "stream",
          "name": "stderr",
          "text": [
            "CNN_LSTM K-20 Epoch 201/1000 - Train Loss: 2.1862, Test Loss: 2.1978, Train Acc: 11.67%, Test Acc: 10.54%, Test F1: 2.12%, Test Balanced Acc: 11.22%, Test Recall: 10.54%, Test Precision: 2.23%, Time: 0.72 sec:  20%|██        | 201/1000 [02:32<10:06,  1.32epoch/s]"
          ]
        },
        {
          "output_type": "stream",
          "name": "stdout",
          "text": [
            "Early stopping triggered at epoch 202\n",
            "Model CNN_LSTM_K-20 saved with loss gap > 1.25 or accuracy gap > 10% at epoch 201.\n"
          ]
        },
        {
          "output_type": "stream",
          "name": "stderr",
          "text": [
            "\n",
            "<ipython-input-11-35ba822a06f8>:44: UserWarning: To copy construct from a tensor, it is recommended to use sourceTensor.clone().detach() or sourceTensor.clone().detach().requires_grad_(True), rather than torch.tensor(sourceTensor).\n",
            "  self.X = torch.tensor(X_data, dtype=torch.long)\n",
            "<ipython-input-11-35ba822a06f8>:45: UserWarning: To copy construct from a tensor, it is recommended to use sourceTensor.clone().detach() or sourceTensor.clone().detach().requires_grad_(True), rather than torch.tensor(sourceTensor).\n",
            "  self.y = torch.tensor(y_data, dtype=torch.long)\n"
          ]
        },
        {
          "output_type": "display_data",
          "data": {
            "text/plain": [
              "<IPython.core.display.HTML object>"
            ],
            "text/html": []
          },
          "metadata": {}
        },
        {
          "output_type": "display_data",
          "data": {
            "text/plain": [
              "<IPython.core.display.HTML object>"
            ],
            "text/html": [
              "<br>    <style><br>        .wandb-row {<br>            display: flex;<br>            flex-direction: row;<br>            flex-wrap: wrap;<br>            justify-content: flex-start;<br>            width: 100%;<br>        }<br>        .wandb-col {<br>            display: flex;<br>            flex-direction: column;<br>            flex-basis: 100%;<br>            flex: 1;<br>            padding: 10px;<br>        }<br>    </style><br><div class=\"wandb-row\"><div class=\"wandb-col\"><h3>Run history:</h3><br/><table class=\"wandb\"><tr><td>epoch</td><td>▁▁▁▁▁▂▂▂▂▂▂▂▃▃▃▃▃▃▃▃▄▄▄▄▄▅▅▅▅▆▆▆▆▆▇▇▇███</td></tr><tr><td>k_shot</td><td>▁▁▁▁▁▁▁▁▁▁▁▁▁▁▁▁▁▁▁▁▁▁▁▁▁▁▁▁▁▁▁▁▁▁▁▁▁▁▁▁</td></tr><tr><td>test_acc</td><td>████▁▅▄█▄██▄▄▅▅▅▄▆▆▆▄▄▅█▇▇▅▅▅▅▆▆▆▇▁▁▁▁▁▁</td></tr><tr><td>test_balanced_acc</td><td>▄▇▇▇▇▅▅▆▄▄▅▄▄▄▄▄▆▄▅▅▅▆▂▅▂▅▅▅▅▅▅▅▅▁▁▁█▇▇▇</td></tr><tr><td>test_f1</td><td>▇███▆▅▅█▄▄████▅▅▅▅▅▅▅██▅▅▅▆▆▆▆▁▁▁▁▁▅▁▅▁▁</td></tr><tr><td>test_loss</td><td>▃▁▁▃▂▂▄▄▃▃▂▂▂▂▂▁▂▁▃▃██▅▅▅▄▄▃▃▅▅▄▄▃▃▃▄▄▅▅</td></tr><tr><td>test_precision</td><td>▆▃▁▁█▂▃▃▂▃▃▂▃▃▃▃▂▂▂▂▂▂▂▂▂▂▃▂▂▂▂▂▃▃▃▃▇▁▁▁</td></tr><tr><td>test_recall</td><td>█▁▁▅█▄████▇▄▄▅▅▄▆▄▇█▆▆▇██▅▆▅▅▆▁▁▁▁▅▅▁▁▁▁</td></tr><tr><td>train_acc</td><td>▄▆▃▆▅▄▇▆▆▄▂▂▃▆▃▆▁▅▅▅▆█▄▄▄▅▆▆▅▅▃▇▅▄▅▄▆▁▃▅</td></tr><tr><td>train_loss</td><td>███▇▇█▇▇▇█▇▇▇█▇▇▇▇▇▇▇▇▇█▇▇▇▇▇▇▇▇▇▇▁█▇▇▁▇</td></tr></table><br/></div><div class=\"wandb-col\"><h3>Run summary:</h3><br/><table class=\"wandb\"><tr><td>epoch</td><td>202</td></tr><tr><td>k_shot</td><td>20</td></tr><tr><td>test_acc</td><td>0.10538</td></tr><tr><td>test_balanced_acc</td><td>0.11224</td></tr><tr><td>test_f1</td><td>0.02122</td></tr><tr><td>test_loss</td><td>2.19831</td></tr><tr><td>test_precision</td><td>0.0223</td></tr><tr><td>test_recall</td><td>0.10538</td></tr><tr><td>train_acc</td><td>0.17778</td></tr><tr><td>train_loss</td><td>2.18483</td></tr></table><br/></div></div>"
            ]
          },
          "metadata": {}
        },
        {
          "output_type": "display_data",
          "data": {
            "text/plain": [
              "<IPython.core.display.HTML object>"
            ],
            "text/html": [
              " View run <strong style=\"color:#cdcd00\">CNN_LSTM_K-20_Training</strong> at: <a href='https://wandb.ai/wilfried-mvomoeto-university-of-li-ge/Few-Shot-Training-CNN_LSTM-/runs/i901fyc3' target=\"_blank\">https://wandb.ai/wilfried-mvomoeto-university-of-li-ge/Few-Shot-Training-CNN_LSTM-/runs/i901fyc3</a><br> View project at: <a href='https://wandb.ai/wilfried-mvomoeto-university-of-li-ge/Few-Shot-Training-CNN_LSTM-' target=\"_blank\">https://wandb.ai/wilfried-mvomoeto-university-of-li-ge/Few-Shot-Training-CNN_LSTM-</a><br>Synced 5 W&B file(s), 0 media file(s), 0 artifact file(s) and 0 other file(s)"
            ]
          },
          "metadata": {}
        },
        {
          "output_type": "display_data",
          "data": {
            "text/plain": [
              "<IPython.core.display.HTML object>"
            ],
            "text/html": [
              "Find logs at: <code>./wandb/run-20250411_171548-i901fyc3/logs</code>"
            ]
          },
          "metadata": {}
        },
        {
          "output_type": "display_data",
          "data": {
            "text/plain": [
              "<IPython.core.display.HTML object>"
            ],
            "text/html": [
              "Tracking run with wandb version 0.19.9"
            ]
          },
          "metadata": {}
        },
        {
          "output_type": "display_data",
          "data": {
            "text/plain": [
              "<IPython.core.display.HTML object>"
            ],
            "text/html": [
              "Run data is saved locally in <code>/content/wandb/run-20250411_171822-51pdm485</code>"
            ]
          },
          "metadata": {}
        },
        {
          "output_type": "display_data",
          "data": {
            "text/plain": [
              "<IPython.core.display.HTML object>"
            ],
            "text/html": [
              "Syncing run <strong><a href='https://wandb.ai/wilfried-mvomoeto-university-of-li-ge/Few-Shot-Training-Glove-GRU-/runs/51pdm485' target=\"_blank\">Glove-GRU_K-20_Training</a></strong> to <a href='https://wandb.ai/wilfried-mvomoeto-university-of-li-ge/Few-Shot-Training-Glove-GRU-' target=\"_blank\">Weights & Biases</a> (<a href='https://wandb.me/developer-guide' target=\"_blank\">docs</a>)<br>"
            ]
          },
          "metadata": {}
        },
        {
          "output_type": "display_data",
          "data": {
            "text/plain": [
              "<IPython.core.display.HTML object>"
            ],
            "text/html": [
              " View project at <a href='https://wandb.ai/wilfried-mvomoeto-university-of-li-ge/Few-Shot-Training-Glove-GRU-' target=\"_blank\">https://wandb.ai/wilfried-mvomoeto-university-of-li-ge/Few-Shot-Training-Glove-GRU-</a>"
            ]
          },
          "metadata": {}
        },
        {
          "output_type": "display_data",
          "data": {
            "text/plain": [
              "<IPython.core.display.HTML object>"
            ],
            "text/html": [
              " View run at <a href='https://wandb.ai/wilfried-mvomoeto-university-of-li-ge/Few-Shot-Training-Glove-GRU-/runs/51pdm485' target=\"_blank\">https://wandb.ai/wilfried-mvomoeto-university-of-li-ge/Few-Shot-Training-Glove-GRU-/runs/51pdm485</a>"
            ]
          },
          "metadata": {}
        },
        {
          "output_type": "stream",
          "name": "stderr",
          "text": [
            "Glove-GRU K-20 Epoch 26/1000 - Train Loss: 2.1270, Test Loss: 2.1934, Train Acc: 18.33%, Test Acc: 13.38%, Test F1: 8.74%, Test Balanced Acc: 12.87%, Test Recall: 13.38%, Test Precision: 12.97%, Time: 0.64 sec:   3%|▎         | 26/1000 [00:18<11:29,  1.41epoch/s]"
          ]
        },
        {
          "output_type": "stream",
          "name": "stdout",
          "text": [
            "Early stopping triggered at epoch 27\n",
            "Model Glove-GRU_K-20 saved with loss gap > 1.25 or accuracy gap > 10% at epoch 26.\n"
          ]
        },
        {
          "output_type": "stream",
          "name": "stderr",
          "text": [
            "\n",
            "<ipython-input-11-35ba822a06f8>:44: UserWarning: To copy construct from a tensor, it is recommended to use sourceTensor.clone().detach() or sourceTensor.clone().detach().requires_grad_(True), rather than torch.tensor(sourceTensor).\n",
            "  self.X = torch.tensor(X_data, dtype=torch.long)\n",
            "<ipython-input-11-35ba822a06f8>:45: UserWarning: To copy construct from a tensor, it is recommended to use sourceTensor.clone().detach() or sourceTensor.clone().detach().requires_grad_(True), rather than torch.tensor(sourceTensor).\n",
            "  self.y = torch.tensor(y_data, dtype=torch.long)\n"
          ]
        },
        {
          "output_type": "display_data",
          "data": {
            "text/plain": [
              "<IPython.core.display.HTML object>"
            ],
            "text/html": []
          },
          "metadata": {}
        },
        {
          "output_type": "display_data",
          "data": {
            "text/plain": [
              "<IPython.core.display.HTML object>"
            ],
            "text/html": [
              "<br>    <style><br>        .wandb-row {<br>            display: flex;<br>            flex-direction: row;<br>            flex-wrap: wrap;<br>            justify-content: flex-start;<br>            width: 100%;<br>        }<br>        .wandb-col {<br>            display: flex;<br>            flex-direction: column;<br>            flex-basis: 100%;<br>            flex: 1;<br>            padding: 10px;<br>        }<br>    </style><br><div class=\"wandb-row\"><div class=\"wandb-col\"><h3>Run history:</h3><br/><table class=\"wandb\"><tr><td>epoch</td><td>▁▁▂▂▂▂▃▃▃▃▄▄▄▅▅▅▅▆▆▆▆▇▇▇▇██</td></tr><tr><td>k_shot</td><td>▁▁▁▁▁▁▁▁▁▁▁▁▁▁▁▁▁▁▁▁▁▁▁▁▁▁▁</td></tr><tr><td>test_acc</td><td>▆▆▄▆▅▅▆▆▅▆▆▅▄▅▁▆▆▅▄▆▆▇▇▇▇▇█</td></tr><tr><td>test_balanced_acc</td><td>▂▂▂▂▂▂▂▂▂▂▂▂▂▂▁▃▃▂▄▄▃▆▆▅▅▆█</td></tr><tr><td>test_f1</td><td>▂▂▁▂▁▁▂▂▁▂▂▁▁▂▂▃▃▃▅▅▄▇▆▅▅█▇</td></tr><tr><td>test_loss</td><td>█▄▅▃▅▆▅▄▄▃▄▄▃▂▆▄▂▃▄▂▂▄▁▂▄▂▁</td></tr><tr><td>test_precision</td><td>▆▆▆▇▇▇▆▆▁▃▆▅▃▄▆▇▁▇▃▂▆█▃▄▇▅▅</td></tr><tr><td>test_recall</td><td>▆▆▄▆▅▅▆▆▅▆▆▅▄▅▁▆▆▅▄▆▆▇▇▇▇▇█</td></tr><tr><td>train_acc</td><td>▃▂▂▂▃▄▄▃▃▂▄▂▃▃▂▁▂▂▃▅▄▄▄▅▆▆█</td></tr><tr><td>train_loss</td><td>▇███▇▅▇▇▆▇▅▇▄▅▅▇▆▅▅▄▄▃▃▄▁▂▁</td></tr></table><br/></div><div class=\"wandb-col\"><h3>Run summary:</h3><br/><table class=\"wandb\"><tr><td>epoch</td><td>27</td></tr><tr><td>k_shot</td><td>20</td></tr><tr><td>test_acc</td><td>0.14264</td></tr><tr><td>test_balanced_acc</td><td>0.1363</td></tr><tr><td>test_f1</td><td>0.07383</td></tr><tr><td>test_loss</td><td>2.18807</td></tr><tr><td>test_precision</td><td>0.11568</td></tr><tr><td>test_recall</td><td>0.14264</td></tr><tr><td>train_acc</td><td>0.21111</td></tr><tr><td>train_loss</td><td>2.0937</td></tr></table><br/></div></div>"
            ]
          },
          "metadata": {}
        },
        {
          "output_type": "display_data",
          "data": {
            "text/plain": [
              "<IPython.core.display.HTML object>"
            ],
            "text/html": [
              " View run <strong style=\"color:#cdcd00\">Glove-GRU_K-20_Training</strong> at: <a href='https://wandb.ai/wilfried-mvomoeto-university-of-li-ge/Few-Shot-Training-Glove-GRU-/runs/51pdm485' target=\"_blank\">https://wandb.ai/wilfried-mvomoeto-university-of-li-ge/Few-Shot-Training-Glove-GRU-/runs/51pdm485</a><br> View project at: <a href='https://wandb.ai/wilfried-mvomoeto-university-of-li-ge/Few-Shot-Training-Glove-GRU-' target=\"_blank\">https://wandb.ai/wilfried-mvomoeto-university-of-li-ge/Few-Shot-Training-Glove-GRU-</a><br>Synced 5 W&B file(s), 0 media file(s), 0 artifact file(s) and 0 other file(s)"
            ]
          },
          "metadata": {}
        },
        {
          "output_type": "display_data",
          "data": {
            "text/plain": [
              "<IPython.core.display.HTML object>"
            ],
            "text/html": [
              "Find logs at: <code>./wandb/run-20250411_171822-51pdm485/logs</code>"
            ]
          },
          "metadata": {}
        },
        {
          "output_type": "display_data",
          "data": {
            "text/plain": [
              "<IPython.core.display.HTML object>"
            ],
            "text/html": [
              "Tracking run with wandb version 0.19.9"
            ]
          },
          "metadata": {}
        },
        {
          "output_type": "display_data",
          "data": {
            "text/plain": [
              "<IPython.core.display.HTML object>"
            ],
            "text/html": [
              "Run data is saved locally in <code>/content/wandb/run-20250411_171842-rr0bnhhg</code>"
            ]
          },
          "metadata": {}
        },
        {
          "output_type": "display_data",
          "data": {
            "text/plain": [
              "<IPython.core.display.HTML object>"
            ],
            "text/html": [
              "Syncing run <strong><a href='https://wandb.ai/wilfried-mvomoeto-university-of-li-ge/Few-Shot-Training-Glove-GRU-Bahdanau-/runs/rr0bnhhg' target=\"_blank\">Glove-GRU-Bahdanau_K-20_Training</a></strong> to <a href='https://wandb.ai/wilfried-mvomoeto-university-of-li-ge/Few-Shot-Training-Glove-GRU-Bahdanau-' target=\"_blank\">Weights & Biases</a> (<a href='https://wandb.me/developer-guide' target=\"_blank\">docs</a>)<br>"
            ]
          },
          "metadata": {}
        },
        {
          "output_type": "display_data",
          "data": {
            "text/plain": [
              "<IPython.core.display.HTML object>"
            ],
            "text/html": [
              " View project at <a href='https://wandb.ai/wilfried-mvomoeto-university-of-li-ge/Few-Shot-Training-Glove-GRU-Bahdanau-' target=\"_blank\">https://wandb.ai/wilfried-mvomoeto-university-of-li-ge/Few-Shot-Training-Glove-GRU-Bahdanau-</a>"
            ]
          },
          "metadata": {}
        },
        {
          "output_type": "display_data",
          "data": {
            "text/plain": [
              "<IPython.core.display.HTML object>"
            ],
            "text/html": [
              " View run at <a href='https://wandb.ai/wilfried-mvomoeto-university-of-li-ge/Few-Shot-Training-Glove-GRU-Bahdanau-/runs/rr0bnhhg' target=\"_blank\">https://wandb.ai/wilfried-mvomoeto-university-of-li-ge/Few-Shot-Training-Glove-GRU-Bahdanau-/runs/rr0bnhhg</a>"
            ]
          },
          "metadata": {}
        },
        {
          "output_type": "stream",
          "name": "stderr",
          "text": [
            "Glove-GRU-Bahdanau K-20 Epoch 53/1000 - Train Loss: 1.3124, Test Loss: 1.2978, Train Acc: 70.00%, Test Acc: 71.49%, Test F1: 67.71%, Test Balanced Acc: 72.75%, Test Recall: 71.49%, Test Precision: 72.74%, Time: 1.09 sec:   5%|▌         | 53/1000 [01:00<17:55,  1.14s/epoch]"
          ]
        },
        {
          "output_type": "stream",
          "name": "stdout",
          "text": [
            "Early stopping triggered at epoch 54\n",
            "Model Glove-GRU-Bahdanau_K-20 saved with loss gap > 1.25 or accuracy gap > 10% at epoch 53.\n",
            "\n",
            "Training with 30-shot...\n"
          ]
        },
        {
          "output_type": "stream",
          "name": "stderr",
          "text": [
            "\n",
            "<ipython-input-11-35ba822a06f8>:44: UserWarning: To copy construct from a tensor, it is recommended to use sourceTensor.clone().detach() or sourceTensor.clone().detach().requires_grad_(True), rather than torch.tensor(sourceTensor).\n",
            "  self.X = torch.tensor(X_data, dtype=torch.long)\n",
            "<ipython-input-11-35ba822a06f8>:45: UserWarning: To copy construct from a tensor, it is recommended to use sourceTensor.clone().detach() or sourceTensor.clone().detach().requires_grad_(True), rather than torch.tensor(sourceTensor).\n",
            "  self.y = torch.tensor(y_data, dtype=torch.long)\n"
          ]
        },
        {
          "output_type": "display_data",
          "data": {
            "text/plain": [
              "<IPython.core.display.HTML object>"
            ],
            "text/html": []
          },
          "metadata": {}
        },
        {
          "output_type": "display_data",
          "data": {
            "text/plain": [
              "<IPython.core.display.HTML object>"
            ],
            "text/html": [
              "<br>    <style><br>        .wandb-row {<br>            display: flex;<br>            flex-direction: row;<br>            flex-wrap: wrap;<br>            justify-content: flex-start;<br>            width: 100%;<br>        }<br>        .wandb-col {<br>            display: flex;<br>            flex-direction: column;<br>            flex-basis: 100%;<br>            flex: 1;<br>            padding: 10px;<br>        }<br>    </style><br><div class=\"wandb-row\"><div class=\"wandb-col\"><h3>Run history:</h3><br/><table class=\"wandb\"><tr><td>epoch</td><td>▁▁▁▂▂▂▂▂▂▃▃▃▃▃▃▄▄▄▄▄▅▅▅▅▅▆▆▆▆▆▆▇▇▇▇▇▇███</td></tr><tr><td>k_shot</td><td>▁▁▁▁▁▁▁▁▁▁▁▁▁▁▁▁▁▁▁▁▁▁▁▁▁▁▁▁▁▁▁▁▁▁▁▁▁▁▁▁</td></tr><tr><td>test_acc</td><td>▁▁▁▁▁▁▁▁▂▂▂▂▂▂▂▃▃▃▃▃▄▄▄▄▅▅▅▅▅▅▆▆▆▇▇█████</td></tr><tr><td>test_balanced_acc</td><td>▁▁▁▁▁▁▁▁▂▂▂▂▂▃▃▃▃▄▄▄▄▄▅▅▅▅▅▅▅▅▆▆▆▇▇█████</td></tr><tr><td>test_f1</td><td>▁▁▁▁▁▁▁▂▂▂▂▂▃▃▃▃▃▄▄▄▄▄▅▅▅▅▅▅▅▅▅▆▆▆▇█████</td></tr><tr><td>test_loss</td><td>█████████████████▇▇▇▇▇▇▇▇▇▇▆▆▆▅▅▅▄▄▃▃▂▂▁</td></tr><tr><td>test_precision</td><td>▁▁▁▂▁▂▂▂▂▃▃▃▃▄▄▄▄▅▅▅▅▅▅▆▆▆▆▆▆▆▇▇▇▇██████</td></tr><tr><td>test_recall</td><td>▁▁▁▁▁▁▂▂▂▂▂▂▂▃▃▃▃▄▄▄▄▅▅▅▅▅▅▅▅▆▆▆▇▇▇█████</td></tr><tr><td>train_acc</td><td>▁▂▂▁▁▂▁▂▂▂▂▂▂▃▃▂▃▃▃▃▄▄▄▄▄▃▅▄▅▅▅▅▅▆▆▇▇▇▆█</td></tr><tr><td>train_loss</td><td>█▇▇▇▇▇▆▇▇▆▆▆▆▆▆▆▆▆▆▆▆▆▆▆▆▅▅▅▅▅▄▄▄▃▃▃▂▂▂▁</td></tr></table><br/></div><div class=\"wandb-col\"><h3>Run summary:</h3><br/><table class=\"wandb\"><tr><td>epoch</td><td>54</td></tr><tr><td>k_shot</td><td>20</td></tr><tr><td>test_acc</td><td>0.72025</td></tr><tr><td>test_balanced_acc</td><td>0.73272</td></tr><tr><td>test_f1</td><td>0.68295</td></tr><tr><td>test_loss</td><td>1.25543</td></tr><tr><td>test_precision</td><td>0.72805</td></tr><tr><td>test_recall</td><td>0.72025</td></tr><tr><td>train_acc</td><td>0.77778</td></tr><tr><td>train_loss</td><td>1.21003</td></tr></table><br/></div></div>"
            ]
          },
          "metadata": {}
        },
        {
          "output_type": "display_data",
          "data": {
            "text/plain": [
              "<IPython.core.display.HTML object>"
            ],
            "text/html": [
              " View run <strong style=\"color:#cdcd00\">Glove-GRU-Bahdanau_K-20_Training</strong> at: <a href='https://wandb.ai/wilfried-mvomoeto-university-of-li-ge/Few-Shot-Training-Glove-GRU-Bahdanau-/runs/rr0bnhhg' target=\"_blank\">https://wandb.ai/wilfried-mvomoeto-university-of-li-ge/Few-Shot-Training-Glove-GRU-Bahdanau-/runs/rr0bnhhg</a><br> View project at: <a href='https://wandb.ai/wilfried-mvomoeto-university-of-li-ge/Few-Shot-Training-Glove-GRU-Bahdanau-' target=\"_blank\">https://wandb.ai/wilfried-mvomoeto-university-of-li-ge/Few-Shot-Training-Glove-GRU-Bahdanau-</a><br>Synced 5 W&B file(s), 0 media file(s), 0 artifact file(s) and 0 other file(s)"
            ]
          },
          "metadata": {}
        },
        {
          "output_type": "display_data",
          "data": {
            "text/plain": [
              "<IPython.core.display.HTML object>"
            ],
            "text/html": [
              "Find logs at: <code>./wandb/run-20250411_171842-rr0bnhhg/logs</code>"
            ]
          },
          "metadata": {}
        },
        {
          "output_type": "display_data",
          "data": {
            "text/plain": [
              "<IPython.core.display.HTML object>"
            ],
            "text/html": [
              "Tracking run with wandb version 0.19.9"
            ]
          },
          "metadata": {}
        },
        {
          "output_type": "display_data",
          "data": {
            "text/plain": [
              "<IPython.core.display.HTML object>"
            ],
            "text/html": [
              "Run data is saved locally in <code>/content/wandb/run-20250411_171944-swpojq39</code>"
            ]
          },
          "metadata": {}
        },
        {
          "output_type": "display_data",
          "data": {
            "text/plain": [
              "<IPython.core.display.HTML object>"
            ],
            "text/html": [
              "Syncing run <strong><a href='https://wandb.ai/wilfried-mvomoeto-university-of-li-ge/Few-Shot-Training-CNN_LSTM-/runs/swpojq39' target=\"_blank\">CNN_LSTM_K-30_Training</a></strong> to <a href='https://wandb.ai/wilfried-mvomoeto-university-of-li-ge/Few-Shot-Training-CNN_LSTM-' target=\"_blank\">Weights & Biases</a> (<a href='https://wandb.me/developer-guide' target=\"_blank\">docs</a>)<br>"
            ]
          },
          "metadata": {}
        },
        {
          "output_type": "display_data",
          "data": {
            "text/plain": [
              "<IPython.core.display.HTML object>"
            ],
            "text/html": [
              " View project at <a href='https://wandb.ai/wilfried-mvomoeto-university-of-li-ge/Few-Shot-Training-CNN_LSTM-' target=\"_blank\">https://wandb.ai/wilfried-mvomoeto-university-of-li-ge/Few-Shot-Training-CNN_LSTM-</a>"
            ]
          },
          "metadata": {}
        },
        {
          "output_type": "display_data",
          "data": {
            "text/plain": [
              "<IPython.core.display.HTML object>"
            ],
            "text/html": [
              " View run at <a href='https://wandb.ai/wilfried-mvomoeto-university-of-li-ge/Few-Shot-Training-CNN_LSTM-/runs/swpojq39' target=\"_blank\">https://wandb.ai/wilfried-mvomoeto-university-of-li-ge/Few-Shot-Training-CNN_LSTM-/runs/swpojq39</a>"
            ]
          },
          "metadata": {}
        },
        {
          "output_type": "stream",
          "name": "stderr",
          "text": [
            "CNN_LSTM K-30 Epoch 57/1000 - Train Loss: 2.1594, Test Loss: 2.2040, Train Acc: 12.59%, Test Acc: 11.35%, Test F1: 2.46%, Test Balanced Acc: 11.04%, Test Recall: 11.35%, Test Precision: 2.84%, Time: 0.77 sec:   6%|▌         | 57/1000 [00:45<12:37,  1.25epoch/s]"
          ]
        },
        {
          "output_type": "stream",
          "name": "stdout",
          "text": [
            "Early stopping triggered at epoch 58\n",
            "Model CNN_LSTM_K-30 saved with loss gap > 1.25 or accuracy gap > 10% at epoch 57.\n"
          ]
        },
        {
          "output_type": "stream",
          "name": "stderr",
          "text": [
            "\n",
            "<ipython-input-11-35ba822a06f8>:44: UserWarning: To copy construct from a tensor, it is recommended to use sourceTensor.clone().detach() or sourceTensor.clone().detach().requires_grad_(True), rather than torch.tensor(sourceTensor).\n",
            "  self.X = torch.tensor(X_data, dtype=torch.long)\n",
            "<ipython-input-11-35ba822a06f8>:45: UserWarning: To copy construct from a tensor, it is recommended to use sourceTensor.clone().detach() or sourceTensor.clone().detach().requires_grad_(True), rather than torch.tensor(sourceTensor).\n",
            "  self.y = torch.tensor(y_data, dtype=torch.long)\n"
          ]
        },
        {
          "output_type": "display_data",
          "data": {
            "text/plain": [
              "<IPython.core.display.HTML object>"
            ],
            "text/html": []
          },
          "metadata": {}
        },
        {
          "output_type": "display_data",
          "data": {
            "text/plain": [
              "<IPython.core.display.HTML object>"
            ],
            "text/html": [
              "<br>    <style><br>        .wandb-row {<br>            display: flex;<br>            flex-direction: row;<br>            flex-wrap: wrap;<br>            justify-content: flex-start;<br>            width: 100%;<br>        }<br>        .wandb-col {<br>            display: flex;<br>            flex-direction: column;<br>            flex-basis: 100%;<br>            flex: 1;<br>            padding: 10px;<br>        }<br>    </style><br><div class=\"wandb-row\"><div class=\"wandb-col\"><h3>Run history:</h3><br/><table class=\"wandb\"><tr><td>epoch</td><td>▁▁▂▂▂▂▂▃▃▃▃▄▄▄▄▄▄▄▅▅▅▅▅▅▆▆▆▆▆▆▇▇▇▇▇▇████</td></tr><tr><td>k_shot</td><td>▁▁▁▁▁▁▁▁▁▁▁▁▁▁▁▁▁▁▁▁▁▁▁▁▁▁▁▁▁▁▁▁▁▁▁▁▁▁▁▁</td></tr><tr><td>test_acc</td><td>█▂▂▂▂▂▂▇▇▇▂▂▂▂▂▂▂▂▂▂█▂▂▁▁▁▂▂▁▂▁▇▇▁▁▁▁▁▂▂</td></tr><tr><td>test_balanced_acc</td><td>▂▄▄▆▇▇▇▇▇▅▇█▇▇▇▇▇▇▆▆▃▅▃▃▁▂▇██▂▃▂▂▂▁▂▁▂▄▃</td></tr><tr><td>test_f1</td><td>▁▁▃▃▂▂▂▃▆▇▃▂▂▂▂▂▃▃▄▄▃▃▃█▃▃█▄▃▆▆▆▃▆▂▆▃▂▂▂</td></tr><tr><td>test_loss</td><td>▂▂▂▂▁▂▁▁▁▁▂▂▂▂▂▂▂▂▂▂▃▄▄▄▅▅█▅▄▄▄▄▄▄▅▅▅▅▅▅</td></tr><tr><td>test_precision</td><td>▁▁▁▂▃▂▃▂▃▂█▄▂▂▂▂▃▄▅▆▃▂▂▂▂▂▂▂▄▃▂▂▃▂▂▂▂▃▂▂</td></tr><tr><td>test_recall</td><td>▇▁▂▂▂▂▂▂▂▂▇▇▇▂▂▂▂▂▂▂▂▁█▁▁▇▁▁▇▁▁▇▁▁▇▁▁▁▁▁</td></tr><tr><td>train_acc</td><td>▁▄▅▄▁▄▆▅▃▅▅▅▅▅▆▅▂▂▄▃▄▆▅▆▄▇▃▄▄▄▄▂▅▃▃▅▅▄▃█</td></tr><tr><td>train_loss</td><td>█▇▆▅▄▃▃▃▃▃▂▃▃▃▃▃▃▂▃▂▂▂▂▁▁▂▁▂▁▁▁▁▁▁▁▁▁▁▁▁</td></tr></table><br/></div><div class=\"wandb-col\"><h3>Run summary:</h3><br/><table class=\"wandb\"><tr><td>epoch</td><td>58</td></tr><tr><td>k_shot</td><td>30</td></tr><tr><td>test_acc</td><td>0.11366</td></tr><tr><td>test_balanced_acc</td><td>0.1106</td></tr><tr><td>test_f1</td><td>0.02462</td></tr><tr><td>test_loss</td><td>2.20365</td></tr><tr><td>test_precision</td><td>0.02842</td></tr><tr><td>test_recall</td><td>0.11366</td></tr><tr><td>train_acc</td><td>0.17037</td></tr><tr><td>train_loss</td><td>2.1574</td></tr></table><br/></div></div>"
            ]
          },
          "metadata": {}
        },
        {
          "output_type": "display_data",
          "data": {
            "text/plain": [
              "<IPython.core.display.HTML object>"
            ],
            "text/html": [
              " View run <strong style=\"color:#cdcd00\">CNN_LSTM_K-30_Training</strong> at: <a href='https://wandb.ai/wilfried-mvomoeto-university-of-li-ge/Few-Shot-Training-CNN_LSTM-/runs/swpojq39' target=\"_blank\">https://wandb.ai/wilfried-mvomoeto-university-of-li-ge/Few-Shot-Training-CNN_LSTM-/runs/swpojq39</a><br> View project at: <a href='https://wandb.ai/wilfried-mvomoeto-university-of-li-ge/Few-Shot-Training-CNN_LSTM-' target=\"_blank\">https://wandb.ai/wilfried-mvomoeto-university-of-li-ge/Few-Shot-Training-CNN_LSTM-</a><br>Synced 5 W&B file(s), 0 media file(s), 0 artifact file(s) and 0 other file(s)"
            ]
          },
          "metadata": {}
        },
        {
          "output_type": "display_data",
          "data": {
            "text/plain": [
              "<IPython.core.display.HTML object>"
            ],
            "text/html": [
              "Find logs at: <code>./wandb/run-20250411_171944-swpojq39/logs</code>"
            ]
          },
          "metadata": {}
        },
        {
          "output_type": "display_data",
          "data": {
            "text/plain": [
              "<IPython.core.display.HTML object>"
            ],
            "text/html": [
              "Tracking run with wandb version 0.19.9"
            ]
          },
          "metadata": {}
        },
        {
          "output_type": "display_data",
          "data": {
            "text/plain": [
              "<IPython.core.display.HTML object>"
            ],
            "text/html": [
              "Run data is saved locally in <code>/content/wandb/run-20250411_172031-qbj78ibq</code>"
            ]
          },
          "metadata": {}
        },
        {
          "output_type": "display_data",
          "data": {
            "text/plain": [
              "<IPython.core.display.HTML object>"
            ],
            "text/html": [
              "Syncing run <strong><a href='https://wandb.ai/wilfried-mvomoeto-university-of-li-ge/Few-Shot-Training-Glove-GRU-/runs/qbj78ibq' target=\"_blank\">Glove-GRU_K-30_Training</a></strong> to <a href='https://wandb.ai/wilfried-mvomoeto-university-of-li-ge/Few-Shot-Training-Glove-GRU-' target=\"_blank\">Weights & Biases</a> (<a href='https://wandb.me/developer-guide' target=\"_blank\">docs</a>)<br>"
            ]
          },
          "metadata": {}
        },
        {
          "output_type": "display_data",
          "data": {
            "text/plain": [
              "<IPython.core.display.HTML object>"
            ],
            "text/html": [
              " View project at <a href='https://wandb.ai/wilfried-mvomoeto-university-of-li-ge/Few-Shot-Training-Glove-GRU-' target=\"_blank\">https://wandb.ai/wilfried-mvomoeto-university-of-li-ge/Few-Shot-Training-Glove-GRU-</a>"
            ]
          },
          "metadata": {}
        },
        {
          "output_type": "display_data",
          "data": {
            "text/plain": [
              "<IPython.core.display.HTML object>"
            ],
            "text/html": [
              " View run at <a href='https://wandb.ai/wilfried-mvomoeto-university-of-li-ge/Few-Shot-Training-Glove-GRU-/runs/qbj78ibq' target=\"_blank\">https://wandb.ai/wilfried-mvomoeto-university-of-li-ge/Few-Shot-Training-Glove-GRU-/runs/qbj78ibq</a>"
            ]
          },
          "metadata": {}
        },
        {
          "output_type": "stream",
          "name": "stderr",
          "text": [
            "Glove-GRU K-30 Epoch 8/1000 - Train Loss: 2.2288, Test Loss: 2.2014, Train Acc: 14.81%, Test Acc: 12.12%, Test F1: 2.95%, Test Balanced Acc: 11.08%, Test Recall: 12.12%, Test Precision: 13.44%, Time: 0.80 sec:   1%|          | 8/1000 [00:06<13:51,  1.19epoch/s]"
          ]
        },
        {
          "output_type": "stream",
          "name": "stdout",
          "text": [
            "Early stopping triggered at epoch 9\n",
            "Model Glove-GRU_K-30 saved with loss gap > 1.25 or accuracy gap > 10% at epoch 8.\n"
          ]
        },
        {
          "output_type": "stream",
          "name": "stderr",
          "text": [
            "\n",
            "<ipython-input-11-35ba822a06f8>:44: UserWarning: To copy construct from a tensor, it is recommended to use sourceTensor.clone().detach() or sourceTensor.clone().detach().requires_grad_(True), rather than torch.tensor(sourceTensor).\n",
            "  self.X = torch.tensor(X_data, dtype=torch.long)\n",
            "<ipython-input-11-35ba822a06f8>:45: UserWarning: To copy construct from a tensor, it is recommended to use sourceTensor.clone().detach() or sourceTensor.clone().detach().requires_grad_(True), rather than torch.tensor(sourceTensor).\n",
            "  self.y = torch.tensor(y_data, dtype=torch.long)\n"
          ]
        },
        {
          "output_type": "display_data",
          "data": {
            "text/plain": [
              "<IPython.core.display.HTML object>"
            ],
            "text/html": []
          },
          "metadata": {}
        },
        {
          "output_type": "display_data",
          "data": {
            "text/plain": [
              "<IPython.core.display.HTML object>"
            ],
            "text/html": [
              "<br>    <style><br>        .wandb-row {<br>            display: flex;<br>            flex-direction: row;<br>            flex-wrap: wrap;<br>            justify-content: flex-start;<br>            width: 100%;<br>        }<br>        .wandb-col {<br>            display: flex;<br>            flex-direction: column;<br>            flex-basis: 100%;<br>            flex: 1;<br>            padding: 10px;<br>        }<br>    </style><br><div class=\"wandb-row\"><div class=\"wandb-col\"><h3>Run history:</h3><br/><table class=\"wandb\"><tr><td>epoch</td><td>▁▂▃▄▅▅▆▇█</td></tr><tr><td>k_shot</td><td>▁▁▁▁▁▁▁▁▁</td></tr><tr><td>test_acc</td><td>▆█▂▅█▁▂▇▆</td></tr><tr><td>test_balanced_acc</td><td>▁▁▁▁▁▅█▁▂</td></tr><tr><td>test_f1</td><td>▂▃▁▂▃▄█▃▆</td></tr><tr><td>test_loss</td><td>▁██▃▆▆▇▄▃</td></tr><tr><td>test_precision</td><td>▆███▃▄▆▁▄</td></tr><tr><td>test_recall</td><td>▆█▂▅█▁▂▇▆</td></tr><tr><td>train_acc</td><td>▅▄▁▁▃▄▄▆█</td></tr><tr><td>train_loss</td><td>▄██▆▇▅▄▄▁</td></tr></table><br/></div><div class=\"wandb-col\"><h3>Run summary:</h3><br/><table class=\"wandb\"><tr><td>epoch</td><td>9</td></tr><tr><td>k_shot</td><td>30</td></tr><tr><td>test_acc</td><td>0.11694</td></tr><tr><td>test_balanced_acc</td><td>0.11496</td></tr><tr><td>test_f1</td><td>0.04128</td></tr><tr><td>test_loss</td><td>2.19908</td></tr><tr><td>test_precision</td><td>0.19248</td></tr><tr><td>test_recall</td><td>0.11694</td></tr><tr><td>train_acc</td><td>0.17407</td></tr><tr><td>train_loss</td><td>2.18312</td></tr></table><br/></div></div>"
            ]
          },
          "metadata": {}
        },
        {
          "output_type": "display_data",
          "data": {
            "text/plain": [
              "<IPython.core.display.HTML object>"
            ],
            "text/html": [
              " View run <strong style=\"color:#cdcd00\">Glove-GRU_K-30_Training</strong> at: <a href='https://wandb.ai/wilfried-mvomoeto-university-of-li-ge/Few-Shot-Training-Glove-GRU-/runs/qbj78ibq' target=\"_blank\">https://wandb.ai/wilfried-mvomoeto-university-of-li-ge/Few-Shot-Training-Glove-GRU-/runs/qbj78ibq</a><br> View project at: <a href='https://wandb.ai/wilfried-mvomoeto-university-of-li-ge/Few-Shot-Training-Glove-GRU-' target=\"_blank\">https://wandb.ai/wilfried-mvomoeto-university-of-li-ge/Few-Shot-Training-Glove-GRU-</a><br>Synced 5 W&B file(s), 0 media file(s), 0 artifact file(s) and 0 other file(s)"
            ]
          },
          "metadata": {}
        },
        {
          "output_type": "display_data",
          "data": {
            "text/plain": [
              "<IPython.core.display.HTML object>"
            ],
            "text/html": [
              "Find logs at: <code>./wandb/run-20250411_172031-qbj78ibq/logs</code>"
            ]
          },
          "metadata": {}
        },
        {
          "output_type": "display_data",
          "data": {
            "text/plain": [
              "<IPython.core.display.HTML object>"
            ],
            "text/html": [
              "Tracking run with wandb version 0.19.9"
            ]
          },
          "metadata": {}
        },
        {
          "output_type": "display_data",
          "data": {
            "text/plain": [
              "<IPython.core.display.HTML object>"
            ],
            "text/html": [
              "Run data is saved locally in <code>/content/wandb/run-20250411_172040-fb94aexm</code>"
            ]
          },
          "metadata": {}
        },
        {
          "output_type": "display_data",
          "data": {
            "text/plain": [
              "<IPython.core.display.HTML object>"
            ],
            "text/html": [
              "Syncing run <strong><a href='https://wandb.ai/wilfried-mvomoeto-university-of-li-ge/Few-Shot-Training-Glove-GRU-Bahdanau-/runs/fb94aexm' target=\"_blank\">Glove-GRU-Bahdanau_K-30_Training</a></strong> to <a href='https://wandb.ai/wilfried-mvomoeto-university-of-li-ge/Few-Shot-Training-Glove-GRU-Bahdanau-' target=\"_blank\">Weights & Biases</a> (<a href='https://wandb.me/developer-guide' target=\"_blank\">docs</a>)<br>"
            ]
          },
          "metadata": {}
        },
        {
          "output_type": "display_data",
          "data": {
            "text/plain": [
              "<IPython.core.display.HTML object>"
            ],
            "text/html": [
              " View project at <a href='https://wandb.ai/wilfried-mvomoeto-university-of-li-ge/Few-Shot-Training-Glove-GRU-Bahdanau-' target=\"_blank\">https://wandb.ai/wilfried-mvomoeto-university-of-li-ge/Few-Shot-Training-Glove-GRU-Bahdanau-</a>"
            ]
          },
          "metadata": {}
        },
        {
          "output_type": "display_data",
          "data": {
            "text/plain": [
              "<IPython.core.display.HTML object>"
            ],
            "text/html": [
              " View run at <a href='https://wandb.ai/wilfried-mvomoeto-university-of-li-ge/Few-Shot-Training-Glove-GRU-Bahdanau-/runs/fb94aexm' target=\"_blank\">https://wandb.ai/wilfried-mvomoeto-university-of-li-ge/Few-Shot-Training-Glove-GRU-Bahdanau-/runs/fb94aexm</a>"
            ]
          },
          "metadata": {}
        },
        {
          "output_type": "stream",
          "name": "stderr",
          "text": [
            "Glove-GRU-Bahdanau K-30 Epoch 31/1000 - Train Loss: 1.3328, Test Loss: 1.3946, Train Acc: 60.37%, Test Acc: 60.75%, Test F1: 59.01%, Test Balanced Acc: 61.49%, Test Recall: 60.75%, Test Precision: 61.26%, Time: 1.14 sec:   3%|▎         | 31/1000 [00:37<19:28,  1.21s/epoch]"
          ]
        },
        {
          "output_type": "stream",
          "name": "stdout",
          "text": [
            "Early stopping triggered at epoch 32\n",
            "Model Glove-GRU-Bahdanau_K-30 saved with loss gap > 1.25 or accuracy gap > 10% at epoch 31.\n",
            "\n",
            "Training with 50-shot...\n"
          ]
        },
        {
          "output_type": "stream",
          "name": "stderr",
          "text": [
            "\n",
            "<ipython-input-11-35ba822a06f8>:44: UserWarning: To copy construct from a tensor, it is recommended to use sourceTensor.clone().detach() or sourceTensor.clone().detach().requires_grad_(True), rather than torch.tensor(sourceTensor).\n",
            "  self.X = torch.tensor(X_data, dtype=torch.long)\n",
            "<ipython-input-11-35ba822a06f8>:45: UserWarning: To copy construct from a tensor, it is recommended to use sourceTensor.clone().detach() or sourceTensor.clone().detach().requires_grad_(True), rather than torch.tensor(sourceTensor).\n",
            "  self.y = torch.tensor(y_data, dtype=torch.long)\n"
          ]
        },
        {
          "output_type": "display_data",
          "data": {
            "text/plain": [
              "<IPython.core.display.HTML object>"
            ],
            "text/html": []
          },
          "metadata": {}
        },
        {
          "output_type": "display_data",
          "data": {
            "text/plain": [
              "<IPython.core.display.HTML object>"
            ],
            "text/html": [
              "<br>    <style><br>        .wandb-row {<br>            display: flex;<br>            flex-direction: row;<br>            flex-wrap: wrap;<br>            justify-content: flex-start;<br>            width: 100%;<br>        }<br>        .wandb-col {<br>            display: flex;<br>            flex-direction: column;<br>            flex-basis: 100%;<br>            flex: 1;<br>            padding: 10px;<br>        }<br>    </style><br><div class=\"wandb-row\"><div class=\"wandb-col\"><h3>Run history:</h3><br/><table class=\"wandb\"><tr><td>epoch</td><td>▁▁▁▂▂▂▂▃▃▃▃▃▄▄▄▄▅▅▅▅▆▆▆▆▆▇▇▇▇███</td></tr><tr><td>k_shot</td><td>▁▁▁▁▁▁▁▁▁▁▁▁▁▁▁▁▁▁▁▁▁▁▁▁▁▁▁▁▁▁▁▁</td></tr><tr><td>test_acc</td><td>▁▁▁▁▂▂▂▃▄▄▄▅▅▅▅▆▆▆▇▇▇▇▇▇▇▇██████</td></tr><tr><td>test_balanced_acc</td><td>▁▁▁▁▁▂▂▃▃▄▄▅▅▅▅▆▆▆▇▇▇▇▇▇▇▇██████</td></tr><tr><td>test_f1</td><td>▁▁▂▂▂▂▃▄▄▄▄▅▅▅▅▆▆▆▆▆▇▇▇▇▇▇▇█████</td></tr><tr><td>test_loss</td><td>████████▇▇▇▇▆▆▆▆▆▅▅▅▄▄▄▃▃▂▂▂▂▁▁▁</td></tr><tr><td>test_precision</td><td>▁▁▁▂▂▂▃▄▄▄▄▅▅▅▅▆▆▆▆▇▇▇▇▇▇▇██████</td></tr><tr><td>test_recall</td><td>▁▁▁▁▂▂▂▃▄▄▄▅▅▅▅▆▆▆▇▇▇▇▇▇▇▇██████</td></tr><tr><td>train_acc</td><td>▁▁▁▂▂▂▂▂▂▃▃▃▄▃▄▅▄▅▄▅▅▅▆▆▆▇▇▇▇▇▇█</td></tr><tr><td>train_loss</td><td>█▇▇▇▇▇▆▆▆▆▆▆▅▅▅▅▅▄▄▄▄▄▃▃▃▃▂▂▁▁▁▁</td></tr></table><br/></div><div class=\"wandb-col\"><h3>Run summary:</h3><br/><table class=\"wandb\"><tr><td>epoch</td><td>32</td></tr><tr><td>k_shot</td><td>30</td></tr><tr><td>test_acc</td><td>0.6128</td></tr><tr><td>test_balanced_acc</td><td>0.62067</td></tr><tr><td>test_f1</td><td>0.59707</td></tr><tr><td>test_loss</td><td>1.3735</td></tr><tr><td>test_precision</td><td>0.61696</td></tr><tr><td>test_recall</td><td>0.6128</td></tr><tr><td>train_acc</td><td>0.66296</td></tr><tr><td>train_loss</td><td>1.31204</td></tr></table><br/></div></div>"
            ]
          },
          "metadata": {}
        },
        {
          "output_type": "display_data",
          "data": {
            "text/plain": [
              "<IPython.core.display.HTML object>"
            ],
            "text/html": [
              " View run <strong style=\"color:#cdcd00\">Glove-GRU-Bahdanau_K-30_Training</strong> at: <a href='https://wandb.ai/wilfried-mvomoeto-university-of-li-ge/Few-Shot-Training-Glove-GRU-Bahdanau-/runs/fb94aexm' target=\"_blank\">https://wandb.ai/wilfried-mvomoeto-university-of-li-ge/Few-Shot-Training-Glove-GRU-Bahdanau-/runs/fb94aexm</a><br> View project at: <a href='https://wandb.ai/wilfried-mvomoeto-university-of-li-ge/Few-Shot-Training-Glove-GRU-Bahdanau-' target=\"_blank\">https://wandb.ai/wilfried-mvomoeto-university-of-li-ge/Few-Shot-Training-Glove-GRU-Bahdanau-</a><br>Synced 5 W&B file(s), 0 media file(s), 0 artifact file(s) and 0 other file(s)"
            ]
          },
          "metadata": {}
        },
        {
          "output_type": "display_data",
          "data": {
            "text/plain": [
              "<IPython.core.display.HTML object>"
            ],
            "text/html": [
              "Find logs at: <code>./wandb/run-20250411_172040-fb94aexm/logs</code>"
            ]
          },
          "metadata": {}
        },
        {
          "output_type": "display_data",
          "data": {
            "text/plain": [
              "<IPython.core.display.HTML object>"
            ],
            "text/html": [
              "Tracking run with wandb version 0.19.9"
            ]
          },
          "metadata": {}
        },
        {
          "output_type": "display_data",
          "data": {
            "text/plain": [
              "<IPython.core.display.HTML object>"
            ],
            "text/html": [
              "Run data is saved locally in <code>/content/wandb/run-20250411_172118-pjl9156j</code>"
            ]
          },
          "metadata": {}
        },
        {
          "output_type": "display_data",
          "data": {
            "text/plain": [
              "<IPython.core.display.HTML object>"
            ],
            "text/html": [
              "Syncing run <strong><a href='https://wandb.ai/wilfried-mvomoeto-university-of-li-ge/Few-Shot-Training-CNN_LSTM-/runs/pjl9156j' target=\"_blank\">CNN_LSTM_K-50_Training</a></strong> to <a href='https://wandb.ai/wilfried-mvomoeto-university-of-li-ge/Few-Shot-Training-CNN_LSTM-' target=\"_blank\">Weights & Biases</a> (<a href='https://wandb.me/developer-guide' target=\"_blank\">docs</a>)<br>"
            ]
          },
          "metadata": {}
        },
        {
          "output_type": "display_data",
          "data": {
            "text/plain": [
              "<IPython.core.display.HTML object>"
            ],
            "text/html": [
              " View project at <a href='https://wandb.ai/wilfried-mvomoeto-university-of-li-ge/Few-Shot-Training-CNN_LSTM-' target=\"_blank\">https://wandb.ai/wilfried-mvomoeto-university-of-li-ge/Few-Shot-Training-CNN_LSTM-</a>"
            ]
          },
          "metadata": {}
        },
        {
          "output_type": "display_data",
          "data": {
            "text/plain": [
              "<IPython.core.display.HTML object>"
            ],
            "text/html": [
              " View run at <a href='https://wandb.ai/wilfried-mvomoeto-university-of-li-ge/Few-Shot-Training-CNN_LSTM-/runs/pjl9156j' target=\"_blank\">https://wandb.ai/wilfried-mvomoeto-university-of-li-ge/Few-Shot-Training-CNN_LSTM-/runs/pjl9156j</a>"
            ]
          },
          "metadata": {}
        },
        {
          "output_type": "stream",
          "name": "stderr",
          "text": [
            "CNN_LSTM K-50 Epoch 69/1000 - Train Loss: 2.1694, Test Loss: 2.2139, Train Acc: 8.67%, Test Acc: 6.71%, Test F1: 0.92%, Test Balanced Acc: 10.97%, Test Recall: 6.71%, Test Precision: 3.17%, Time: 0.84 sec:   7%|▋         | 69/1000 [01:01<13:49,  1.12epoch/s]"
          ]
        },
        {
          "output_type": "stream",
          "name": "stdout",
          "text": [
            "Early stopping triggered at epoch 70\n",
            "Model CNN_LSTM_K-50 saved with loss gap > 1.25 or accuracy gap > 10% at epoch 69.\n"
          ]
        },
        {
          "output_type": "stream",
          "name": "stderr",
          "text": [
            "\n",
            "<ipython-input-11-35ba822a06f8>:44: UserWarning: To copy construct from a tensor, it is recommended to use sourceTensor.clone().detach() or sourceTensor.clone().detach().requires_grad_(True), rather than torch.tensor(sourceTensor).\n",
            "  self.X = torch.tensor(X_data, dtype=torch.long)\n",
            "<ipython-input-11-35ba822a06f8>:45: UserWarning: To copy construct from a tensor, it is recommended to use sourceTensor.clone().detach() or sourceTensor.clone().detach().requires_grad_(True), rather than torch.tensor(sourceTensor).\n",
            "  self.y = torch.tensor(y_data, dtype=torch.long)\n"
          ]
        },
        {
          "output_type": "display_data",
          "data": {
            "text/plain": [
              "<IPython.core.display.HTML object>"
            ],
            "text/html": []
          },
          "metadata": {}
        },
        {
          "output_type": "display_data",
          "data": {
            "text/plain": [
              "<IPython.core.display.HTML object>"
            ],
            "text/html": [
              "<br>    <style><br>        .wandb-row {<br>            display: flex;<br>            flex-direction: row;<br>            flex-wrap: wrap;<br>            justify-content: flex-start;<br>            width: 100%;<br>        }<br>        .wandb-col {<br>            display: flex;<br>            flex-direction: column;<br>            flex-basis: 100%;<br>            flex: 1;<br>            padding: 10px;<br>        }<br>    </style><br><div class=\"wandb-row\"><div class=\"wandb-col\"><h3>Run history:</h3><br/><table class=\"wandb\"><tr><td>epoch</td><td>▁▁▁▁▁▂▂▂▂▂▂▃▃▃▃▄▄▄▄▄▄▅▅▅▅▅▆▆▆▆▆▆▆▆▇▇▇▇██</td></tr><tr><td>k_shot</td><td>▁▁▁▁▁▁▁▁▁▁▁▁▁▁▁▁▁▁▁▁▁▁▁▁▁▁▁▁▁▁▁▁▁▁▁▁▁▁▁▁</td></tr><tr><td>test_acc</td><td>█▇▇▇▁█▇▇▇█▇▇▇█▇▇▇▇▇▇▇▇███▇▇▇▇▇▇▇▇▇▇▇▇▇▇▁</td></tr><tr><td>test_balanced_acc</td><td>▆█▆▆▅▆▅▅▅▅▃▆▅▅▅▅▅▅▂▄▄▃▃▂▄▁▁▃▃▂▃▃▅▅▁▃▃▃▃▂</td></tr><tr><td>test_f1</td><td>▇▇▇▇▁▇▇▇▇▇▇▇▇▇▇▇██▇▇▆▇▆▆▆▇▇▆▆▇▇▇▇▇▆▇▇▇█▁</td></tr><tr><td>test_loss</td><td>▃▁▂▂▂▁▁▂▂▂▃▂▂▃▃▅▆▆▆▃▆▄▅▅▅▅▆▆▇▆▆▆▆▆▆▆▆▆▇█</td></tr><tr><td>test_precision</td><td>▅▄▃▃▃▃▃▃▃▁▄▃▃▃▃▃▃▃▃▃▃▅█▃▃▃▃▃▃▃▃▃▃▃▃▄▃▃▃▂</td></tr><tr><td>test_recall</td><td>▇▇▇▁█▇▇▆▆▇█▇▇▇▇██▇▇███▇▇▇▇▇▇▇▇▇▇▇▇▇▇▇▇▇▁</td></tr><tr><td>train_acc</td><td>▅▇▅▄▆▅▄▃▂█▄▅█▇▆▂▅▅▁▄▆▅▃▅▄▅▇▅▅▆▃▁▄▇▆▅▆▅▅▇</td></tr><tr><td>train_loss</td><td>██▇▇▆▆▆▂▅▆▆▅▆▅▅▅▅▅▅▆▅▆▅▅▅▅▅▅▅▅▅▅▁▅▅▅▅▅▅▅</td></tr></table><br/></div><div class=\"wandb-col\"><h3>Run summary:</h3><br/><table class=\"wandb\"><tr><td>epoch</td><td>70</td></tr><tr><td>k_shot</td><td>50</td></tr><tr><td>test_acc</td><td>0.06726</td></tr><tr><td>test_balanced_acc</td><td>0.10989</td></tr><tr><td>test_f1</td><td>0.00955</td></tr><tr><td>test_loss</td><td>2.21438</td></tr><tr><td>test_precision</td><td>0.0393</td></tr><tr><td>test_recall</td><td>0.06726</td></tr><tr><td>train_acc</td><td>0.13333</td></tr><tr><td>train_loss</td><td>2.17044</td></tr></table><br/></div></div>"
            ]
          },
          "metadata": {}
        },
        {
          "output_type": "display_data",
          "data": {
            "text/plain": [
              "<IPython.core.display.HTML object>"
            ],
            "text/html": [
              " View run <strong style=\"color:#cdcd00\">CNN_LSTM_K-50_Training</strong> at: <a href='https://wandb.ai/wilfried-mvomoeto-university-of-li-ge/Few-Shot-Training-CNN_LSTM-/runs/pjl9156j' target=\"_blank\">https://wandb.ai/wilfried-mvomoeto-university-of-li-ge/Few-Shot-Training-CNN_LSTM-/runs/pjl9156j</a><br> View project at: <a href='https://wandb.ai/wilfried-mvomoeto-university-of-li-ge/Few-Shot-Training-CNN_LSTM-' target=\"_blank\">https://wandb.ai/wilfried-mvomoeto-university-of-li-ge/Few-Shot-Training-CNN_LSTM-</a><br>Synced 5 W&B file(s), 0 media file(s), 0 artifact file(s) and 0 other file(s)"
            ]
          },
          "metadata": {}
        },
        {
          "output_type": "display_data",
          "data": {
            "text/plain": [
              "<IPython.core.display.HTML object>"
            ],
            "text/html": [
              "Find logs at: <code>./wandb/run-20250411_172118-pjl9156j/logs</code>"
            ]
          },
          "metadata": {}
        },
        {
          "output_type": "display_data",
          "data": {
            "text/plain": [
              "<IPython.core.display.HTML object>"
            ],
            "text/html": [
              "Tracking run with wandb version 0.19.9"
            ]
          },
          "metadata": {}
        },
        {
          "output_type": "display_data",
          "data": {
            "text/plain": [
              "<IPython.core.display.HTML object>"
            ],
            "text/html": [
              "Run data is saved locally in <code>/content/wandb/run-20250411_172221-k965i1fq</code>"
            ]
          },
          "metadata": {}
        },
        {
          "output_type": "display_data",
          "data": {
            "text/plain": [
              "<IPython.core.display.HTML object>"
            ],
            "text/html": [
              "Syncing run <strong><a href='https://wandb.ai/wilfried-mvomoeto-university-of-li-ge/Few-Shot-Training-Glove-GRU-/runs/k965i1fq' target=\"_blank\">Glove-GRU_K-50_Training</a></strong> to <a href='https://wandb.ai/wilfried-mvomoeto-university-of-li-ge/Few-Shot-Training-Glove-GRU-' target=\"_blank\">Weights & Biases</a> (<a href='https://wandb.me/developer-guide' target=\"_blank\">docs</a>)<br>"
            ]
          },
          "metadata": {}
        },
        {
          "output_type": "display_data",
          "data": {
            "text/plain": [
              "<IPython.core.display.HTML object>"
            ],
            "text/html": [
              " View project at <a href='https://wandb.ai/wilfried-mvomoeto-university-of-li-ge/Few-Shot-Training-Glove-GRU-' target=\"_blank\">https://wandb.ai/wilfried-mvomoeto-university-of-li-ge/Few-Shot-Training-Glove-GRU-</a>"
            ]
          },
          "metadata": {}
        },
        {
          "output_type": "display_data",
          "data": {
            "text/plain": [
              "<IPython.core.display.HTML object>"
            ],
            "text/html": [
              " View run at <a href='https://wandb.ai/wilfried-mvomoeto-university-of-li-ge/Few-Shot-Training-Glove-GRU-/runs/k965i1fq' target=\"_blank\">https://wandb.ai/wilfried-mvomoeto-university-of-li-ge/Few-Shot-Training-Glove-GRU-/runs/k965i1fq</a>"
            ]
          },
          "metadata": {}
        },
        {
          "output_type": "stream",
          "name": "stderr",
          "text": [
            "Glove-GRU K-50 Epoch 11/1000 - Train Loss: 2.1026, Test Loss: 2.1847, Train Acc: 17.78%, Test Acc: 14.19%, Test F1: 8.03%, Test Balanced Acc: 15.74%, Test Recall: 14.19%, Test Precision: 26.33%, Time: 0.78 sec:   1%|          | 11/1000 [00:09<14:55,  1.10epoch/s]"
          ]
        },
        {
          "output_type": "stream",
          "name": "stdout",
          "text": [
            "Early stopping triggered at epoch 12\n",
            "Model Glove-GRU_K-50 saved with loss gap > 1.25 or accuracy gap > 10% at epoch 11.\n"
          ]
        },
        {
          "output_type": "stream",
          "name": "stderr",
          "text": [
            "\n",
            "<ipython-input-11-35ba822a06f8>:44: UserWarning: To copy construct from a tensor, it is recommended to use sourceTensor.clone().detach() or sourceTensor.clone().detach().requires_grad_(True), rather than torch.tensor(sourceTensor).\n",
            "  self.X = torch.tensor(X_data, dtype=torch.long)\n",
            "<ipython-input-11-35ba822a06f8>:45: UserWarning: To copy construct from a tensor, it is recommended to use sourceTensor.clone().detach() or sourceTensor.clone().detach().requires_grad_(True), rather than torch.tensor(sourceTensor).\n",
            "  self.y = torch.tensor(y_data, dtype=torch.long)\n"
          ]
        },
        {
          "output_type": "display_data",
          "data": {
            "text/plain": [
              "<IPython.core.display.HTML object>"
            ],
            "text/html": []
          },
          "metadata": {}
        },
        {
          "output_type": "display_data",
          "data": {
            "text/plain": [
              "<IPython.core.display.HTML object>"
            ],
            "text/html": [
              "<br>    <style><br>        .wandb-row {<br>            display: flex;<br>            flex-direction: row;<br>            flex-wrap: wrap;<br>            justify-content: flex-start;<br>            width: 100%;<br>        }<br>        .wandb-col {<br>            display: flex;<br>            flex-direction: column;<br>            flex-basis: 100%;<br>            flex: 1;<br>            padding: 10px;<br>        }<br>    </style><br><div class=\"wandb-row\"><div class=\"wandb-col\"><h3>Run history:</h3><br/><table class=\"wandb\"><tr><td>epoch</td><td>▁▂▂▃▄▄▅▅▆▇▇█</td></tr><tr><td>k_shot</td><td>▁▁▁▁▁▁▁▁▁▁▁▁</td></tr><tr><td>test_acc</td><td>▄▄▅▃▅▄▄▅█▅█▁</td></tr><tr><td>test_balanced_acc</td><td>▁▁▂▁▂▂▁▃▄▅█▅</td></tr><tr><td>test_f1</td><td>▁▁▃▁▄▄▃▅▆▅█▂</td></tr><tr><td>test_loss</td><td>█▄▅▄▃▃▃▃▂▂▁▃</td></tr><tr><td>test_precision</td><td>█▅▆▇▄▃▃▇▄▁▄▄</td></tr><tr><td>test_recall</td><td>▄▄▅▃▅▄▄▅█▅█▁</td></tr><tr><td>train_acc</td><td>▂▁▃▂▄▄▄▄▄▆▆█</td></tr><tr><td>train_loss</td><td>▇█▆▇▆▆▅▅▄▃▃▁</td></tr></table><br/></div><div class=\"wandb-col\"><h3>Run summary:</h3><br/><table class=\"wandb\"><tr><td>epoch</td><td>12</td></tr><tr><td>k_shot</td><td>50</td></tr><tr><td>test_acc</td><td>0.10883</td></tr><tr><td>test_balanced_acc</td><td>0.13667</td></tr><tr><td>test_f1</td><td>0.03745</td></tr><tr><td>test_loss</td><td>2.19744</td></tr><tr><td>test_precision</td><td>0.24017</td></tr><tr><td>test_recall</td><td>0.10883</td></tr><tr><td>train_acc</td><td>0.21333</td></tr><tr><td>train_loss</td><td>2.04245</td></tr></table><br/></div></div>"
            ]
          },
          "metadata": {}
        },
        {
          "output_type": "display_data",
          "data": {
            "text/plain": [
              "<IPython.core.display.HTML object>"
            ],
            "text/html": [
              " View run <strong style=\"color:#cdcd00\">Glove-GRU_K-50_Training</strong> at: <a href='https://wandb.ai/wilfried-mvomoeto-university-of-li-ge/Few-Shot-Training-Glove-GRU-/runs/k965i1fq' target=\"_blank\">https://wandb.ai/wilfried-mvomoeto-university-of-li-ge/Few-Shot-Training-Glove-GRU-/runs/k965i1fq</a><br> View project at: <a href='https://wandb.ai/wilfried-mvomoeto-university-of-li-ge/Few-Shot-Training-Glove-GRU-' target=\"_blank\">https://wandb.ai/wilfried-mvomoeto-university-of-li-ge/Few-Shot-Training-Glove-GRU-</a><br>Synced 5 W&B file(s), 0 media file(s), 0 artifact file(s) and 0 other file(s)"
            ]
          },
          "metadata": {}
        },
        {
          "output_type": "display_data",
          "data": {
            "text/plain": [
              "<IPython.core.display.HTML object>"
            ],
            "text/html": [
              "Find logs at: <code>./wandb/run-20250411_172221-k965i1fq/logs</code>"
            ]
          },
          "metadata": {}
        },
        {
          "output_type": "display_data",
          "data": {
            "text/plain": [
              "<IPython.core.display.HTML object>"
            ],
            "text/html": [
              "Tracking run with wandb version 0.19.9"
            ]
          },
          "metadata": {}
        },
        {
          "output_type": "display_data",
          "data": {
            "text/plain": [
              "<IPython.core.display.HTML object>"
            ],
            "text/html": [
              "Run data is saved locally in <code>/content/wandb/run-20250411_172233-k9xcxhy4</code>"
            ]
          },
          "metadata": {}
        },
        {
          "output_type": "display_data",
          "data": {
            "text/plain": [
              "<IPython.core.display.HTML object>"
            ],
            "text/html": [
              "Syncing run <strong><a href='https://wandb.ai/wilfried-mvomoeto-university-of-li-ge/Few-Shot-Training-Glove-GRU-Bahdanau-/runs/k9xcxhy4' target=\"_blank\">Glove-GRU-Bahdanau_K-50_Training</a></strong> to <a href='https://wandb.ai/wilfried-mvomoeto-university-of-li-ge/Few-Shot-Training-Glove-GRU-Bahdanau-' target=\"_blank\">Weights & Biases</a> (<a href='https://wandb.me/developer-guide' target=\"_blank\">docs</a>)<br>"
            ]
          },
          "metadata": {}
        },
        {
          "output_type": "display_data",
          "data": {
            "text/plain": [
              "<IPython.core.display.HTML object>"
            ],
            "text/html": [
              " View project at <a href='https://wandb.ai/wilfried-mvomoeto-university-of-li-ge/Few-Shot-Training-Glove-GRU-Bahdanau-' target=\"_blank\">https://wandb.ai/wilfried-mvomoeto-university-of-li-ge/Few-Shot-Training-Glove-GRU-Bahdanau-</a>"
            ]
          },
          "metadata": {}
        },
        {
          "output_type": "display_data",
          "data": {
            "text/plain": [
              "<IPython.core.display.HTML object>"
            ],
            "text/html": [
              " View run at <a href='https://wandb.ai/wilfried-mvomoeto-university-of-li-ge/Few-Shot-Training-Glove-GRU-Bahdanau-/runs/k9xcxhy4' target=\"_blank\">https://wandb.ai/wilfried-mvomoeto-university-of-li-ge/Few-Shot-Training-Glove-GRU-Bahdanau-/runs/k9xcxhy4</a>"
            ]
          },
          "metadata": {}
        },
        {
          "output_type": "stream",
          "name": "stderr",
          "text": [
            "Glove-GRU-Bahdanau K-50 Epoch 24/1000 - Train Loss: 1.3848, Test Loss: 1.4383, Train Acc: 56.89%, Test Acc: 55.07%, Test F1: 54.21%, Test Balanced Acc: 54.44%, Test Recall: 55.07%, Test Precision: 54.35%, Time: 1.27 sec:   2%|▏         | 24/1000 [00:32<22:07,  1.36s/epoch]"
          ]
        },
        {
          "output_type": "stream",
          "name": "stdout",
          "text": [
            "Early stopping triggered at epoch 25\n",
            "Model Glove-GRU-Bahdanau_K-50 saved with loss gap > 1.25 or accuracy gap > 10% at epoch 24.\n",
            "\n",
            "Training with 60-shot...\n"
          ]
        },
        {
          "output_type": "stream",
          "name": "stderr",
          "text": [
            "\n",
            "<ipython-input-11-35ba822a06f8>:44: UserWarning: To copy construct from a tensor, it is recommended to use sourceTensor.clone().detach() or sourceTensor.clone().detach().requires_grad_(True), rather than torch.tensor(sourceTensor).\n",
            "  self.X = torch.tensor(X_data, dtype=torch.long)\n",
            "<ipython-input-11-35ba822a06f8>:45: UserWarning: To copy construct from a tensor, it is recommended to use sourceTensor.clone().detach() or sourceTensor.clone().detach().requires_grad_(True), rather than torch.tensor(sourceTensor).\n",
            "  self.y = torch.tensor(y_data, dtype=torch.long)\n"
          ]
        },
        {
          "output_type": "display_data",
          "data": {
            "text/plain": [
              "<IPython.core.display.HTML object>"
            ],
            "text/html": []
          },
          "metadata": {}
        },
        {
          "output_type": "display_data",
          "data": {
            "text/plain": [
              "<IPython.core.display.HTML object>"
            ],
            "text/html": [
              "<br>    <style><br>        .wandb-row {<br>            display: flex;<br>            flex-direction: row;<br>            flex-wrap: wrap;<br>            justify-content: flex-start;<br>            width: 100%;<br>        }<br>        .wandb-col {<br>            display: flex;<br>            flex-direction: column;<br>            flex-basis: 100%;<br>            flex: 1;<br>            padding: 10px;<br>        }<br>    </style><br><div class=\"wandb-row\"><div class=\"wandb-col\"><h3>Run history:</h3><br/><table class=\"wandb\"><tr><td>epoch</td><td>▁▁▂▂▂▂▃▃▃▄▄▄▅▅▅▅▆▆▆▇▇▇▇██</td></tr><tr><td>k_shot</td><td>▁▁▁▁▁▁▁▁▁▁▁▁▁▁▁▁▁▁▁▁▁▁▁▁▁</td></tr><tr><td>test_acc</td><td>▁▁▁▂▂▃▄▄▅▅▅▅▆▆▆▇▇▇▇██████</td></tr><tr><td>test_balanced_acc</td><td>▁▁▁▂▂▃▄▄▅▅▅▅▆▆▆▇▇▇▇██████</td></tr><tr><td>test_f1</td><td>▁▁▂▂▂▃▄▄▅▅▅▅▆▆▆▇▇▇▇▇█████</td></tr><tr><td>test_loss</td><td>██████▇▆▆▆▅▅▅▄▄▄▃▃▂▂▂▂▁▁▁</td></tr><tr><td>test_precision</td><td>▁▁▂▂▃▄▄▅▅▅▅▅▆▆▆▇▇▇▇▇█████</td></tr><tr><td>test_recall</td><td>▁▁▁▂▂▃▄▄▅▅▅▅▆▆▆▇▇▇▇██████</td></tr><tr><td>train_acc</td><td>▁▁▁▂▂▂▂▃▃▃▄▄▄▅▅▅▆▆▆▇▆▇█▇█</td></tr><tr><td>train_loss</td><td>████▇▇▇▇▆▆▅▅▅▅▅▄▄▃▃▂▂▂▂▂▁</td></tr></table><br/></div><div class=\"wandb-col\"><h3>Run summary:</h3><br/><table class=\"wandb\"><tr><td>epoch</td><td>25</td></tr><tr><td>k_shot</td><td>50</td></tr><tr><td>test_acc</td><td>0.55485</td></tr><tr><td>test_balanced_acc</td><td>0.54934</td></tr><tr><td>test_f1</td><td>0.54887</td></tr><tr><td>test_loss</td><td>1.41758</td></tr><tr><td>test_precision</td><td>0.55168</td></tr><tr><td>test_recall</td><td>0.55485</td></tr><tr><td>train_acc</td><td>0.61111</td></tr><tr><td>train_loss</td><td>1.27478</td></tr></table><br/></div></div>"
            ]
          },
          "metadata": {}
        },
        {
          "output_type": "display_data",
          "data": {
            "text/plain": [
              "<IPython.core.display.HTML object>"
            ],
            "text/html": [
              " View run <strong style=\"color:#cdcd00\">Glove-GRU-Bahdanau_K-50_Training</strong> at: <a href='https://wandb.ai/wilfried-mvomoeto-university-of-li-ge/Few-Shot-Training-Glove-GRU-Bahdanau-/runs/k9xcxhy4' target=\"_blank\">https://wandb.ai/wilfried-mvomoeto-university-of-li-ge/Few-Shot-Training-Glove-GRU-Bahdanau-/runs/k9xcxhy4</a><br> View project at: <a href='https://wandb.ai/wilfried-mvomoeto-university-of-li-ge/Few-Shot-Training-Glove-GRU-Bahdanau-' target=\"_blank\">https://wandb.ai/wilfried-mvomoeto-university-of-li-ge/Few-Shot-Training-Glove-GRU-Bahdanau-</a><br>Synced 5 W&B file(s), 0 media file(s), 0 artifact file(s) and 0 other file(s)"
            ]
          },
          "metadata": {}
        },
        {
          "output_type": "display_data",
          "data": {
            "text/plain": [
              "<IPython.core.display.HTML object>"
            ],
            "text/html": [
              "Find logs at: <code>./wandb/run-20250411_172233-k9xcxhy4/logs</code>"
            ]
          },
          "metadata": {}
        },
        {
          "output_type": "display_data",
          "data": {
            "text/plain": [
              "<IPython.core.display.HTML object>"
            ],
            "text/html": [
              "Tracking run with wandb version 0.19.9"
            ]
          },
          "metadata": {}
        },
        {
          "output_type": "display_data",
          "data": {
            "text/plain": [
              "<IPython.core.display.HTML object>"
            ],
            "text/html": [
              "Run data is saved locally in <code>/content/wandb/run-20250411_172307-ubawde8v</code>"
            ]
          },
          "metadata": {}
        },
        {
          "output_type": "display_data",
          "data": {
            "text/plain": [
              "<IPython.core.display.HTML object>"
            ],
            "text/html": [
              "Syncing run <strong><a href='https://wandb.ai/wilfried-mvomoeto-university-of-li-ge/Few-Shot-Training-CNN_LSTM-/runs/ubawde8v' target=\"_blank\">CNN_LSTM_K-60_Training</a></strong> to <a href='https://wandb.ai/wilfried-mvomoeto-university-of-li-ge/Few-Shot-Training-CNN_LSTM-' target=\"_blank\">Weights & Biases</a> (<a href='https://wandb.me/developer-guide' target=\"_blank\">docs</a>)<br>"
            ]
          },
          "metadata": {}
        },
        {
          "output_type": "display_data",
          "data": {
            "text/plain": [
              "<IPython.core.display.HTML object>"
            ],
            "text/html": [
              " View project at <a href='https://wandb.ai/wilfried-mvomoeto-university-of-li-ge/Few-Shot-Training-CNN_LSTM-' target=\"_blank\">https://wandb.ai/wilfried-mvomoeto-university-of-li-ge/Few-Shot-Training-CNN_LSTM-</a>"
            ]
          },
          "metadata": {}
        },
        {
          "output_type": "display_data",
          "data": {
            "text/plain": [
              "<IPython.core.display.HTML object>"
            ],
            "text/html": [
              " View run at <a href='https://wandb.ai/wilfried-mvomoeto-university-of-li-ge/Few-Shot-Training-CNN_LSTM-/runs/ubawde8v' target=\"_blank\">https://wandb.ai/wilfried-mvomoeto-university-of-li-ge/Few-Shot-Training-CNN_LSTM-/runs/ubawde8v</a>"
            ]
          },
          "metadata": {}
        },
        {
          "output_type": "stream",
          "name": "stderr",
          "text": [
            "CNN_LSTM K-60 Epoch 197/1000 - Train Loss: 2.1896, Test Loss: 2.2099, Train Acc: 11.11%, Test Acc: 11.59%, Test F1: 2.60%, Test Balanced Acc: 11.12%, Test Recall: 11.59%, Test Precision: 6.05%, Time: 0.89 sec:  20%|█▉        | 197/1000 [03:01<12:18,  1.09epoch/s]"
          ]
        },
        {
          "output_type": "stream",
          "name": "stdout",
          "text": [
            "Early stopping triggered at epoch 198\n",
            "Model CNN_LSTM_K-60 saved with loss gap > 1.25 or accuracy gap > 10% at epoch 197.\n"
          ]
        },
        {
          "output_type": "stream",
          "name": "stderr",
          "text": [
            "\n",
            "<ipython-input-11-35ba822a06f8>:44: UserWarning: To copy construct from a tensor, it is recommended to use sourceTensor.clone().detach() or sourceTensor.clone().detach().requires_grad_(True), rather than torch.tensor(sourceTensor).\n",
            "  self.X = torch.tensor(X_data, dtype=torch.long)\n",
            "<ipython-input-11-35ba822a06f8>:45: UserWarning: To copy construct from a tensor, it is recommended to use sourceTensor.clone().detach() or sourceTensor.clone().detach().requires_grad_(True), rather than torch.tensor(sourceTensor).\n",
            "  self.y = torch.tensor(y_data, dtype=torch.long)\n"
          ]
        },
        {
          "output_type": "display_data",
          "data": {
            "text/plain": [
              "<IPython.core.display.HTML object>"
            ],
            "text/html": []
          },
          "metadata": {}
        },
        {
          "output_type": "display_data",
          "data": {
            "text/plain": [
              "<IPython.core.display.HTML object>"
            ],
            "text/html": [
              "<br>    <style><br>        .wandb-row {<br>            display: flex;<br>            flex-direction: row;<br>            flex-wrap: wrap;<br>            justify-content: flex-start;<br>            width: 100%;<br>        }<br>        .wandb-col {<br>            display: flex;<br>            flex-direction: column;<br>            flex-basis: 100%;<br>            flex: 1;<br>            padding: 10px;<br>        }<br>    </style><br><div class=\"wandb-row\"><div class=\"wandb-col\"><h3>Run history:</h3><br/><table class=\"wandb\"><tr><td>epoch</td><td>▁▁▁▁▁▂▂▂▂▂▂▂▃▃▃▃▃▃▄▄▄▄▅▅▅▅▅▅▅▆▆▆▇▇▇▇▇███</td></tr><tr><td>k_shot</td><td>▁▁▁▁▁▁▁▁▁▁▁▁▁▁▁▁▁▁▁▁▁▁▁▁▁▁▁▁▁▁▁▁▁▁▁▁▁▁▁▁</td></tr><tr><td>test_acc</td><td>▇▇▇▆█▆▇▆▆▇▁▆▇▇▇▇▇▇▇▇▇▇▇▇▇▇▇▇▇█▆█▇▆▇▇▇▇▇▁</td></tr><tr><td>test_balanced_acc</td><td>▅▄▅▅▁▇▅▄▆▄▅▅▆▆▅▅▅▅▅▃▅▅▅▅▅▄▄▃▂▄▇▃▃▅▄█▆▅▅▅</td></tr><tr><td>test_f1</td><td>▇▇▆▆▇▇▇▇▇▅▅▇▇▇▇▅▇▁▇▇▆▅▆▇▆▆▇▇▇▆██▇▇▇▇▇▇▇▇</td></tr><tr><td>test_loss</td><td>▁▁▁▂▂▄▅▅▅▅▅▅▄▄▄▄▄▄▄▄▃▄▄▄▄▄▄▃▃▃▇▇████████</td></tr><tr><td>test_precision</td><td>▂▁▄▃▂▂▂▂▂▂▂▂▂▂▂▂▂▂▃▂▂▂▂▂▂▂▃▂▂▂▂▂▂▂▃▄▄▄▄█</td></tr><tr><td>test_recall</td><td>▇▇▇▇▇█▇▆▆▆▇▇██▇▆▇█▇▇█▇█▇█▇▇▁▇▇█▇▇▇▇█▇▇▇▇</td></tr><tr><td>train_acc</td><td>▅▄▄▆▃▆█▅▂▃▅▆▆▁▅█▄█▇▆▄▆▅▇▃▅▄▄▃▃▆▃▂▄▃▂▂▃▆▆</td></tr><tr><td>train_loss</td><td>█▇▆▃▃▂▂▂▂▃▂▂▃▂▂▂▃▂▂▂▃▂▂▂▂▂▂▂▂▂▂▁▂▂▁▁▂▂▂▂</td></tr></table><br/></div><div class=\"wandb-col\"><h3>Run summary:</h3><br/><table class=\"wandb\"><tr><td>epoch</td><td>198</td></tr><tr><td>k_shot</td><td>60</td></tr><tr><td>test_acc</td><td>0.06795</td></tr><tr><td>test_balanced_acc</td><td>0.11078</td></tr><tr><td>test_f1</td><td>0.01025</td></tr><tr><td>test_loss</td><td>2.21036</td></tr><tr><td>test_precision</td><td>0.03642</td></tr><tr><td>test_recall</td><td>0.06795</td></tr><tr><td>train_acc</td><td>0.11852</td></tr><tr><td>train_loss</td><td>2.18953</td></tr></table><br/></div></div>"
            ]
          },
          "metadata": {}
        },
        {
          "output_type": "display_data",
          "data": {
            "text/plain": [
              "<IPython.core.display.HTML object>"
            ],
            "text/html": [
              " View run <strong style=\"color:#cdcd00\">CNN_LSTM_K-60_Training</strong> at: <a href='https://wandb.ai/wilfried-mvomoeto-university-of-li-ge/Few-Shot-Training-CNN_LSTM-/runs/ubawde8v' target=\"_blank\">https://wandb.ai/wilfried-mvomoeto-university-of-li-ge/Few-Shot-Training-CNN_LSTM-/runs/ubawde8v</a><br> View project at: <a href='https://wandb.ai/wilfried-mvomoeto-university-of-li-ge/Few-Shot-Training-CNN_LSTM-' target=\"_blank\">https://wandb.ai/wilfried-mvomoeto-university-of-li-ge/Few-Shot-Training-CNN_LSTM-</a><br>Synced 5 W&B file(s), 0 media file(s), 0 artifact file(s) and 0 other file(s)"
            ]
          },
          "metadata": {}
        },
        {
          "output_type": "display_data",
          "data": {
            "text/plain": [
              "<IPython.core.display.HTML object>"
            ],
            "text/html": [
              "Find logs at: <code>./wandb/run-20250411_172307-ubawde8v/logs</code>"
            ]
          },
          "metadata": {}
        },
        {
          "output_type": "display_data",
          "data": {
            "text/plain": [
              "<IPython.core.display.HTML object>"
            ],
            "text/html": [
              "Tracking run with wandb version 0.19.9"
            ]
          },
          "metadata": {}
        },
        {
          "output_type": "display_data",
          "data": {
            "text/plain": [
              "<IPython.core.display.HTML object>"
            ],
            "text/html": [
              "Run data is saved locally in <code>/content/wandb/run-20250411_172610-hc9xze42</code>"
            ]
          },
          "metadata": {}
        },
        {
          "output_type": "display_data",
          "data": {
            "text/plain": [
              "<IPython.core.display.HTML object>"
            ],
            "text/html": [
              "Syncing run <strong><a href='https://wandb.ai/wilfried-mvomoeto-university-of-li-ge/Few-Shot-Training-Glove-GRU-/runs/hc9xze42' target=\"_blank\">Glove-GRU_K-60_Training</a></strong> to <a href='https://wandb.ai/wilfried-mvomoeto-university-of-li-ge/Few-Shot-Training-Glove-GRU-' target=\"_blank\">Weights & Biases</a> (<a href='https://wandb.me/developer-guide' target=\"_blank\">docs</a>)<br>"
            ]
          },
          "metadata": {}
        },
        {
          "output_type": "display_data",
          "data": {
            "text/plain": [
              "<IPython.core.display.HTML object>"
            ],
            "text/html": [
              " View project at <a href='https://wandb.ai/wilfried-mvomoeto-university-of-li-ge/Few-Shot-Training-Glove-GRU-' target=\"_blank\">https://wandb.ai/wilfried-mvomoeto-university-of-li-ge/Few-Shot-Training-Glove-GRU-</a>"
            ]
          },
          "metadata": {}
        },
        {
          "output_type": "display_data",
          "data": {
            "text/plain": [
              "<IPython.core.display.HTML object>"
            ],
            "text/html": [
              " View run at <a href='https://wandb.ai/wilfried-mvomoeto-university-of-li-ge/Few-Shot-Training-Glove-GRU-/runs/hc9xze42' target=\"_blank\">https://wandb.ai/wilfried-mvomoeto-university-of-li-ge/Few-Shot-Training-Glove-GRU-/runs/hc9xze42</a>"
            ]
          },
          "metadata": {}
        },
        {
          "output_type": "stream",
          "name": "stderr",
          "text": [
            "Glove-GRU K-60 Epoch 19/1000 - Train Loss: 2.0124, Test Loss: 2.1819, Train Acc: 18.52%, Test Acc: 14.07%, Test F1: 6.56%, Test Balanced Acc: 14.35%, Test Recall: 14.07%, Test Precision: 22.45%, Time: 0.81 sec:   2%|▏         | 19/1000 [00:17<14:40,  1.11epoch/s]"
          ]
        },
        {
          "output_type": "stream",
          "name": "stdout",
          "text": [
            "Early stopping triggered at epoch 20\n",
            "Model Glove-GRU_K-60 saved with loss gap > 1.25 or accuracy gap > 10% at epoch 19.\n"
          ]
        },
        {
          "output_type": "stream",
          "name": "stderr",
          "text": [
            "\n",
            "<ipython-input-11-35ba822a06f8>:44: UserWarning: To copy construct from a tensor, it is recommended to use sourceTensor.clone().detach() or sourceTensor.clone().detach().requires_grad_(True), rather than torch.tensor(sourceTensor).\n",
            "  self.X = torch.tensor(X_data, dtype=torch.long)\n",
            "<ipython-input-11-35ba822a06f8>:45: UserWarning: To copy construct from a tensor, it is recommended to use sourceTensor.clone().detach() or sourceTensor.clone().detach().requires_grad_(True), rather than torch.tensor(sourceTensor).\n",
            "  self.y = torch.tensor(y_data, dtype=torch.long)\n"
          ]
        },
        {
          "output_type": "display_data",
          "data": {
            "text/plain": [
              "<IPython.core.display.HTML object>"
            ],
            "text/html": []
          },
          "metadata": {}
        },
        {
          "output_type": "display_data",
          "data": {
            "text/plain": [
              "<IPython.core.display.HTML object>"
            ],
            "text/html": [
              "<br>    <style><br>        .wandb-row {<br>            display: flex;<br>            flex-direction: row;<br>            flex-wrap: wrap;<br>            justify-content: flex-start;<br>            width: 100%;<br>        }<br>        .wandb-col {<br>            display: flex;<br>            flex-direction: column;<br>            flex-basis: 100%;<br>            flex: 1;<br>            padding: 10px;<br>        }<br>    </style><br><div class=\"wandb-row\"><div class=\"wandb-col\"><h3>Run history:</h3><br/><table class=\"wandb\"><tr><td>epoch</td><td>▁▁▂▂▂▃▃▄▄▄▅▅▅▆▆▇▇▇██</td></tr><tr><td>k_shot</td><td>▁▁▁▁▁▁▁▁▁▁▁▁▁▁▁▁▁▁▁▁</td></tr><tr><td>test_acc</td><td>▄▅▅▁▅▅▅▄▅▅▆▅▅▆▆▅▆█▇▇</td></tr><tr><td>test_balanced_acc</td><td>▂▂▁▂▂▂▂▁▂▁▃▂▂▃█▂▄▇▆▄</td></tr><tr><td>test_f1</td><td>▂▃▃▁▃▃▃▄▃▃▅▃▃▆▅▄▆█▇▆</td></tr><tr><td>test_loss</td><td>▄▃▂▃▃▂▃▂▃▂▃▃▂▃▂▂▁▁▁█</td></tr><tr><td>test_precision</td><td>▃▃▁▃▄▃▄▄▂▃█▅█▅▇▂▅▅▄▃</td></tr><tr><td>test_recall</td><td>▄▅▅▁▅▅▅▄▅▅▆▅▅▆▆▅▆█▇▇</td></tr><tr><td>train_acc</td><td>▁▂▂▂▃▃▃▂▂▁▂▂▃▃▄▄▅▆▅█</td></tr><tr><td>train_loss</td><td>███▇▇▇▇▇▇▇▇▇▇▆▆▆▅▅▄▁</td></tr></table><br/></div><div class=\"wandb-col\"><h3>Run summary:</h3><br/><table class=\"wandb\"><tr><td>epoch</td><td>20</td></tr><tr><td>k_shot</td><td>60</td></tr><tr><td>test_acc</td><td>0.13901</td></tr><tr><td>test_balanced_acc</td><td>0.12943</td></tr><tr><td>test_f1</td><td>0.05548</td></tr><tr><td>test_loss</td><td>2.33217</td></tr><tr><td>test_precision</td><td>0.16506</td></tr><tr><td>test_recall</td><td>0.13901</td></tr><tr><td>train_acc</td><td>0.24259</td></tr><tr><td>train_loss</td><td>1.83856</td></tr></table><br/></div></div>"
            ]
          },
          "metadata": {}
        },
        {
          "output_type": "display_data",
          "data": {
            "text/plain": [
              "<IPython.core.display.HTML object>"
            ],
            "text/html": [
              " View run <strong style=\"color:#cdcd00\">Glove-GRU_K-60_Training</strong> at: <a href='https://wandb.ai/wilfried-mvomoeto-university-of-li-ge/Few-Shot-Training-Glove-GRU-/runs/hc9xze42' target=\"_blank\">https://wandb.ai/wilfried-mvomoeto-university-of-li-ge/Few-Shot-Training-Glove-GRU-/runs/hc9xze42</a><br> View project at: <a href='https://wandb.ai/wilfried-mvomoeto-university-of-li-ge/Few-Shot-Training-Glove-GRU-' target=\"_blank\">https://wandb.ai/wilfried-mvomoeto-university-of-li-ge/Few-Shot-Training-Glove-GRU-</a><br>Synced 5 W&B file(s), 0 media file(s), 0 artifact file(s) and 0 other file(s)"
            ]
          },
          "metadata": {}
        },
        {
          "output_type": "display_data",
          "data": {
            "text/plain": [
              "<IPython.core.display.HTML object>"
            ],
            "text/html": [
              "Find logs at: <code>./wandb/run-20250411_172610-hc9xze42/logs</code>"
            ]
          },
          "metadata": {}
        },
        {
          "output_type": "display_data",
          "data": {
            "text/plain": [
              "<IPython.core.display.HTML object>"
            ],
            "text/html": [
              "Tracking run with wandb version 0.19.9"
            ]
          },
          "metadata": {}
        },
        {
          "output_type": "display_data",
          "data": {
            "text/plain": [
              "<IPython.core.display.HTML object>"
            ],
            "text/html": [
              "Run data is saved locally in <code>/content/wandb/run-20250411_172629-hy8lkux2</code>"
            ]
          },
          "metadata": {}
        },
        {
          "output_type": "display_data",
          "data": {
            "text/plain": [
              "<IPython.core.display.HTML object>"
            ],
            "text/html": [
              "Syncing run <strong><a href='https://wandb.ai/wilfried-mvomoeto-university-of-li-ge/Few-Shot-Training-Glove-GRU-Bahdanau-/runs/hy8lkux2' target=\"_blank\">Glove-GRU-Bahdanau_K-60_Training</a></strong> to <a href='https://wandb.ai/wilfried-mvomoeto-university-of-li-ge/Few-Shot-Training-Glove-GRU-Bahdanau-' target=\"_blank\">Weights & Biases</a> (<a href='https://wandb.me/developer-guide' target=\"_blank\">docs</a>)<br>"
            ]
          },
          "metadata": {}
        },
        {
          "output_type": "display_data",
          "data": {
            "text/plain": [
              "<IPython.core.display.HTML object>"
            ],
            "text/html": [
              " View project at <a href='https://wandb.ai/wilfried-mvomoeto-university-of-li-ge/Few-Shot-Training-Glove-GRU-Bahdanau-' target=\"_blank\">https://wandb.ai/wilfried-mvomoeto-university-of-li-ge/Few-Shot-Training-Glove-GRU-Bahdanau-</a>"
            ]
          },
          "metadata": {}
        },
        {
          "output_type": "display_data",
          "data": {
            "text/plain": [
              "<IPython.core.display.HTML object>"
            ],
            "text/html": [
              " View run at <a href='https://wandb.ai/wilfried-mvomoeto-university-of-li-ge/Few-Shot-Training-Glove-GRU-Bahdanau-/runs/hy8lkux2' target=\"_blank\">https://wandb.ai/wilfried-mvomoeto-university-of-li-ge/Few-Shot-Training-Glove-GRU-Bahdanau-/runs/hy8lkux2</a>"
            ]
          },
          "metadata": {}
        },
        {
          "output_type": "stream",
          "name": "stderr",
          "text": [
            "Glove-GRU-Bahdanau K-60 Epoch 24/1000 - Train Loss: 1.4677, Test Loss: 1.5919, Train Acc: 51.11%, Test Acc: 47.72%, Test F1: 46.00%, Test Balanced Acc: 49.77%, Test Recall: 47.72%, Test Precision: 46.17%, Time: 1.32 sec:   2%|▏         | 24/1000 [00:34<23:06,  1.42s/epoch]"
          ]
        },
        {
          "output_type": "stream",
          "name": "stdout",
          "text": [
            "Early stopping triggered at epoch 25\n",
            "Model Glove-GRU-Bahdanau_K-60 saved with loss gap > 1.25 or accuracy gap > 10% at epoch 24.\n",
            "\n",
            "Training with 70-shot...\n"
          ]
        },
        {
          "output_type": "stream",
          "name": "stderr",
          "text": [
            "\n",
            "<ipython-input-11-35ba822a06f8>:44: UserWarning: To copy construct from a tensor, it is recommended to use sourceTensor.clone().detach() or sourceTensor.clone().detach().requires_grad_(True), rather than torch.tensor(sourceTensor).\n",
            "  self.X = torch.tensor(X_data, dtype=torch.long)\n",
            "<ipython-input-11-35ba822a06f8>:45: UserWarning: To copy construct from a tensor, it is recommended to use sourceTensor.clone().detach() or sourceTensor.clone().detach().requires_grad_(True), rather than torch.tensor(sourceTensor).\n",
            "  self.y = torch.tensor(y_data, dtype=torch.long)\n"
          ]
        },
        {
          "output_type": "display_data",
          "data": {
            "text/plain": [
              "<IPython.core.display.HTML object>"
            ],
            "text/html": []
          },
          "metadata": {}
        },
        {
          "output_type": "display_data",
          "data": {
            "text/plain": [
              "<IPython.core.display.HTML object>"
            ],
            "text/html": [
              "<br>    <style><br>        .wandb-row {<br>            display: flex;<br>            flex-direction: row;<br>            flex-wrap: wrap;<br>            justify-content: flex-start;<br>            width: 100%;<br>        }<br>        .wandb-col {<br>            display: flex;<br>            flex-direction: column;<br>            flex-basis: 100%;<br>            flex: 1;<br>            padding: 10px;<br>        }<br>    </style><br><div class=\"wandb-row\"><div class=\"wandb-col\"><h3>Run history:</h3><br/><table class=\"wandb\"><tr><td>epoch</td><td>▁▁▂▂▂▂▃▃▃▄▄▄▅▅▅▅▆▆▆▇▇▇▇██</td></tr><tr><td>k_shot</td><td>▁▁▁▁▁▁▁▁▁▁▁▁▁▁▁▁▁▁▁▁▁▁▁▁▁</td></tr><tr><td>test_acc</td><td>▁▂▃▄▄▅▅▅▅▆▆▆▆▇▇▇▇▇▇██████</td></tr><tr><td>test_balanced_acc</td><td>▁▂▃▄▄▄▅▅▅▆▆▆▆▇▇▇▇▇▇██████</td></tr><tr><td>test_f1</td><td>▁▂▂▃▄▄▄▄▅▅▆▆▆▇▇▇▇▇▇██████</td></tr><tr><td>test_loss</td><td>███▇▆▆▅▅▄▄▄▄▃▃▃▃▂▂▂▂▂▁▁▁▁</td></tr><tr><td>test_precision</td><td>▁▂▂▃▄▄▄▅▅▅▆▆▆▇▇▇▇▇▇██████</td></tr><tr><td>test_recall</td><td>▁▂▃▄▄▅▅▅▅▆▆▆▆▇▇▇▇▇▇██████</td></tr><tr><td>train_acc</td><td>▁▁▂▂▂▃▄▄▄▄▄▅▆▆▆▆▇▇▇▇▇▇▇██</td></tr><tr><td>train_loss</td><td>███▇▇▆▆▅▅▅▅▄▄▃▃▃▃▃▂▂▂▂▁▁▁</td></tr></table><br/></div><div class=\"wandb-col\"><h3>Run summary:</h3><br/><table class=\"wandb\"><tr><td>epoch</td><td>25</td></tr><tr><td>k_shot</td><td>60</td></tr><tr><td>test_acc</td><td>0.4762</td></tr><tr><td>test_balanced_acc</td><td>0.4972</td></tr><tr><td>test_f1</td><td>0.45953</td></tr><tr><td>test_loss</td><td>1.57789</td></tr><tr><td>test_precision</td><td>0.46283</td></tr><tr><td>test_recall</td><td>0.4762</td></tr><tr><td>train_acc</td><td>0.54074</td></tr><tr><td>train_loss</td><td>1.42661</td></tr></table><br/></div></div>"
            ]
          },
          "metadata": {}
        },
        {
          "output_type": "display_data",
          "data": {
            "text/plain": [
              "<IPython.core.display.HTML object>"
            ],
            "text/html": [
              " View run <strong style=\"color:#cdcd00\">Glove-GRU-Bahdanau_K-60_Training</strong> at: <a href='https://wandb.ai/wilfried-mvomoeto-university-of-li-ge/Few-Shot-Training-Glove-GRU-Bahdanau-/runs/hy8lkux2' target=\"_blank\">https://wandb.ai/wilfried-mvomoeto-university-of-li-ge/Few-Shot-Training-Glove-GRU-Bahdanau-/runs/hy8lkux2</a><br> View project at: <a href='https://wandb.ai/wilfried-mvomoeto-university-of-li-ge/Few-Shot-Training-Glove-GRU-Bahdanau-' target=\"_blank\">https://wandb.ai/wilfried-mvomoeto-university-of-li-ge/Few-Shot-Training-Glove-GRU-Bahdanau-</a><br>Synced 5 W&B file(s), 0 media file(s), 0 artifact file(s) and 0 other file(s)"
            ]
          },
          "metadata": {}
        },
        {
          "output_type": "display_data",
          "data": {
            "text/plain": [
              "<IPython.core.display.HTML object>"
            ],
            "text/html": [
              "Find logs at: <code>./wandb/run-20250411_172629-hy8lkux2/logs</code>"
            ]
          },
          "metadata": {}
        },
        {
          "output_type": "display_data",
          "data": {
            "text/plain": [
              "<IPython.core.display.HTML object>"
            ],
            "text/html": [
              "Tracking run with wandb version 0.19.9"
            ]
          },
          "metadata": {}
        },
        {
          "output_type": "display_data",
          "data": {
            "text/plain": [
              "<IPython.core.display.HTML object>"
            ],
            "text/html": [
              "Run data is saved locally in <code>/content/wandb/run-20250411_172704-gtppmcok</code>"
            ]
          },
          "metadata": {}
        },
        {
          "output_type": "display_data",
          "data": {
            "text/plain": [
              "<IPython.core.display.HTML object>"
            ],
            "text/html": [
              "Syncing run <strong><a href='https://wandb.ai/wilfried-mvomoeto-university-of-li-ge/Few-Shot-Training-CNN_LSTM-/runs/gtppmcok' target=\"_blank\">CNN_LSTM_K-70_Training</a></strong> to <a href='https://wandb.ai/wilfried-mvomoeto-university-of-li-ge/Few-Shot-Training-CNN_LSTM-' target=\"_blank\">Weights & Biases</a> (<a href='https://wandb.me/developer-guide' target=\"_blank\">docs</a>)<br>"
            ]
          },
          "metadata": {}
        },
        {
          "output_type": "display_data",
          "data": {
            "text/plain": [
              "<IPython.core.display.HTML object>"
            ],
            "text/html": [
              " View project at <a href='https://wandb.ai/wilfried-mvomoeto-university-of-li-ge/Few-Shot-Training-CNN_LSTM-' target=\"_blank\">https://wandb.ai/wilfried-mvomoeto-university-of-li-ge/Few-Shot-Training-CNN_LSTM-</a>"
            ]
          },
          "metadata": {}
        },
        {
          "output_type": "display_data",
          "data": {
            "text/plain": [
              "<IPython.core.display.HTML object>"
            ],
            "text/html": [
              " View run at <a href='https://wandb.ai/wilfried-mvomoeto-university-of-li-ge/Few-Shot-Training-CNN_LSTM-/runs/gtppmcok' target=\"_blank\">https://wandb.ai/wilfried-mvomoeto-university-of-li-ge/Few-Shot-Training-CNN_LSTM-/runs/gtppmcok</a>"
            ]
          },
          "metadata": {}
        },
        {
          "output_type": "stream",
          "name": "stderr",
          "text": [
            "CNN_LSTM K-70 Epoch 63/1000 - Train Loss: 2.1788, Test Loss: 2.2042, Train Acc: 11.27%, Test Acc: 11.57%, Test F1: 2.78%, Test Balanced Acc: 11.10%, Test Recall: 11.57%, Test Precision: 4.69%, Time: 1.08 sec:   6%|▋         | 63/1000 [01:01<15:14,  1.02epoch/s]"
          ]
        },
        {
          "output_type": "stream",
          "name": "stdout",
          "text": [
            "Early stopping triggered at epoch 64\n",
            "Model CNN_LSTM_K-70 saved with loss gap > 1.25 or accuracy gap > 10% at epoch 63.\n"
          ]
        },
        {
          "output_type": "stream",
          "name": "stderr",
          "text": [
            "\n",
            "<ipython-input-11-35ba822a06f8>:44: UserWarning: To copy construct from a tensor, it is recommended to use sourceTensor.clone().detach() or sourceTensor.clone().detach().requires_grad_(True), rather than torch.tensor(sourceTensor).\n",
            "  self.X = torch.tensor(X_data, dtype=torch.long)\n",
            "<ipython-input-11-35ba822a06f8>:45: UserWarning: To copy construct from a tensor, it is recommended to use sourceTensor.clone().detach() or sourceTensor.clone().detach().requires_grad_(True), rather than torch.tensor(sourceTensor).\n",
            "  self.y = torch.tensor(y_data, dtype=torch.long)\n"
          ]
        },
        {
          "output_type": "display_data",
          "data": {
            "text/plain": [
              "<IPython.core.display.HTML object>"
            ],
            "text/html": []
          },
          "metadata": {}
        },
        {
          "output_type": "display_data",
          "data": {
            "text/plain": [
              "<IPython.core.display.HTML object>"
            ],
            "text/html": [
              "<br>    <style><br>        .wandb-row {<br>            display: flex;<br>            flex-direction: row;<br>            flex-wrap: wrap;<br>            justify-content: flex-start;<br>            width: 100%;<br>        }<br>        .wandb-col {<br>            display: flex;<br>            flex-direction: column;<br>            flex-basis: 100%;<br>            flex: 1;<br>            padding: 10px;<br>        }<br>    </style><br><div class=\"wandb-row\"><div class=\"wandb-col\"><h3>Run history:</h3><br/><table class=\"wandb\"><tr><td>epoch</td><td>▁▁▁▁▂▂▂▂▂▂▃▃▃▃▃▃▃▄▄▄▄▄▅▅▅▅▅▆▆▆▆▆▆▇▇▇▇▇██</td></tr><tr><td>k_shot</td><td>▁▁▁▁▁▁▁▁▁▁▁▁▁▁▁▁▁▁▁▁▁▁▁▁▁▁▁▁▁▁▁▁▁▁▁▁▁▁▁▁</td></tr><tr><td>test_acc</td><td>▆██▆▆▆██▆▇█▇▆▇▇█▇▇▇▇▇██▁▇▇▆▇▁▁▇▁████▇▇▇▁</td></tr><tr><td>test_balanced_acc</td><td>▅▅▃▅▃▃▅▄▆▅█▅▄▄▅▃▃▃▄▄▂▄▂▄▃▄▂▃▁▁▂▃▃▃▃▃▃▁▁▃</td></tr><tr><td>test_f1</td><td>▅█▇▇▇▇▅▇▆█▇▇▇▇▇▇▇▅█▇▇▇▁▇▇▅▇▇▁▁▇▇█████▇█▄</td></tr><tr><td>test_loss</td><td>▁▁▁▁▁▂▃▄▅▅▅▅▅▆▆▆▅▆▆▆▆▇▇▇▇▇▇▇██▅▅▅▅▅▆▇▇▆▅</td></tr><tr><td>test_precision</td><td>▃▃▄▄▁▁▃▅▄▂▂▂▂▂▂▃▁▁▃▁▂▃▂▂▂▂▂▂▂▂▃█▁▁▂▂▂▂▃▃</td></tr><tr><td>test_recall</td><td>██▆▇▇▇▆▇▆█▆▇▇█▇▇▇▇█▇▇▇▇██▇▇▆▆▇▇▁█████▇▇▇</td></tr><tr><td>train_acc</td><td>▂▄▁▆█▄▅▅▃▇▃▅▅▆▄▃▄▅▄▄▃▄▇▄▄▆▆▅▄▆▃▄▇▃▆▄▆▄▄█</td></tr><tr><td>train_loss</td><td>█▅▄▃▃▃▃▃▂▂▂▂▂▂▂▁▂▂▂▂▂▂▂▂▂▂▂▂▂▂▂▂▂▂▂▂▂▂▁▁</td></tr></table><br/></div><div class=\"wandb-col\"><h3>Run summary:</h3><br/><table class=\"wandb\"><tr><td>epoch</td><td>64</td></tr><tr><td>k_shot</td><td>70</td></tr><tr><td>test_acc</td><td>0.07089</td></tr><tr><td>test_balanced_acc</td><td>0.1128</td></tr><tr><td>test_f1</td><td>0.01706</td></tr><tr><td>test_loss</td><td>2.21138</td></tr><tr><td>test_precision</td><td>0.05501</td></tr><tr><td>test_recall</td><td>0.07089</td></tr><tr><td>train_acc</td><td>0.13492</td></tr><tr><td>train_loss</td><td>2.17874</td></tr></table><br/></div></div>"
            ]
          },
          "metadata": {}
        },
        {
          "output_type": "display_data",
          "data": {
            "text/plain": [
              "<IPython.core.display.HTML object>"
            ],
            "text/html": [
              " View run <strong style=\"color:#cdcd00\">CNN_LSTM_K-70_Training</strong> at: <a href='https://wandb.ai/wilfried-mvomoeto-university-of-li-ge/Few-Shot-Training-CNN_LSTM-/runs/gtppmcok' target=\"_blank\">https://wandb.ai/wilfried-mvomoeto-university-of-li-ge/Few-Shot-Training-CNN_LSTM-/runs/gtppmcok</a><br> View project at: <a href='https://wandb.ai/wilfried-mvomoeto-university-of-li-ge/Few-Shot-Training-CNN_LSTM-' target=\"_blank\">https://wandb.ai/wilfried-mvomoeto-university-of-li-ge/Few-Shot-Training-CNN_LSTM-</a><br>Synced 5 W&B file(s), 0 media file(s), 0 artifact file(s) and 0 other file(s)"
            ]
          },
          "metadata": {}
        },
        {
          "output_type": "display_data",
          "data": {
            "text/plain": [
              "<IPython.core.display.HTML object>"
            ],
            "text/html": [
              "Find logs at: <code>./wandb/run-20250411_172704-gtppmcok/logs</code>"
            ]
          },
          "metadata": {}
        },
        {
          "output_type": "display_data",
          "data": {
            "text/plain": [
              "<IPython.core.display.HTML object>"
            ],
            "text/html": [
              "Tracking run with wandb version 0.19.9"
            ]
          },
          "metadata": {}
        },
        {
          "output_type": "display_data",
          "data": {
            "text/plain": [
              "<IPython.core.display.HTML object>"
            ],
            "text/html": [
              "Run data is saved locally in <code>/content/wandb/run-20250411_172807-d5mvls4m</code>"
            ]
          },
          "metadata": {}
        },
        {
          "output_type": "display_data",
          "data": {
            "text/plain": [
              "<IPython.core.display.HTML object>"
            ],
            "text/html": [
              "Syncing run <strong><a href='https://wandb.ai/wilfried-mvomoeto-university-of-li-ge/Few-Shot-Training-Glove-GRU-/runs/d5mvls4m' target=\"_blank\">Glove-GRU_K-70_Training</a></strong> to <a href='https://wandb.ai/wilfried-mvomoeto-university-of-li-ge/Few-Shot-Training-Glove-GRU-' target=\"_blank\">Weights & Biases</a> (<a href='https://wandb.me/developer-guide' target=\"_blank\">docs</a>)<br>"
            ]
          },
          "metadata": {}
        },
        {
          "output_type": "display_data",
          "data": {
            "text/plain": [
              "<IPython.core.display.HTML object>"
            ],
            "text/html": [
              " View project at <a href='https://wandb.ai/wilfried-mvomoeto-university-of-li-ge/Few-Shot-Training-Glove-GRU-' target=\"_blank\">https://wandb.ai/wilfried-mvomoeto-university-of-li-ge/Few-Shot-Training-Glove-GRU-</a>"
            ]
          },
          "metadata": {}
        },
        {
          "output_type": "display_data",
          "data": {
            "text/plain": [
              "<IPython.core.display.HTML object>"
            ],
            "text/html": [
              " View run at <a href='https://wandb.ai/wilfried-mvomoeto-university-of-li-ge/Few-Shot-Training-Glove-GRU-/runs/d5mvls4m' target=\"_blank\">https://wandb.ai/wilfried-mvomoeto-university-of-li-ge/Few-Shot-Training-Glove-GRU-/runs/d5mvls4m</a>"
            ]
          },
          "metadata": {}
        },
        {
          "output_type": "stream",
          "name": "stderr",
          "text": [
            "Glove-GRU K-70 Epoch 9/1000 - Train Loss: 2.1078, Test Loss: 2.1678, Train Acc: 18.25%, Test Acc: 17.20%, Test F1: 11.68%, Test Balanced Acc: 16.86%, Test Recall: 17.20%, Test Precision: 21.74%, Time: 0.86 sec:   1%|          | 9/1000 [00:08<16:10,  1.02epoch/s]"
          ]
        },
        {
          "output_type": "stream",
          "name": "stdout",
          "text": [
            "Early stopping triggered at epoch 10\n",
            "Model Glove-GRU_K-70 saved with loss gap > 1.25 or accuracy gap > 10% at epoch 9.\n"
          ]
        },
        {
          "output_type": "stream",
          "name": "stderr",
          "text": [
            "\n",
            "<ipython-input-11-35ba822a06f8>:44: UserWarning: To copy construct from a tensor, it is recommended to use sourceTensor.clone().detach() or sourceTensor.clone().detach().requires_grad_(True), rather than torch.tensor(sourceTensor).\n",
            "  self.X = torch.tensor(X_data, dtype=torch.long)\n",
            "<ipython-input-11-35ba822a06f8>:45: UserWarning: To copy construct from a tensor, it is recommended to use sourceTensor.clone().detach() or sourceTensor.clone().detach().requires_grad_(True), rather than torch.tensor(sourceTensor).\n",
            "  self.y = torch.tensor(y_data, dtype=torch.long)\n"
          ]
        },
        {
          "output_type": "display_data",
          "data": {
            "text/plain": [
              "<IPython.core.display.HTML object>"
            ],
            "text/html": []
          },
          "metadata": {}
        },
        {
          "output_type": "display_data",
          "data": {
            "text/plain": [
              "<IPython.core.display.HTML object>"
            ],
            "text/html": [
              "<br>    <style><br>        .wandb-row {<br>            display: flex;<br>            flex-direction: row;<br>            flex-wrap: wrap;<br>            justify-content: flex-start;<br>            width: 100%;<br>        }<br>        .wandb-col {<br>            display: flex;<br>            flex-direction: column;<br>            flex-basis: 100%;<br>            flex: 1;<br>            padding: 10px;<br>        }<br>    </style><br><div class=\"wandb-row\"><div class=\"wandb-col\"><h3>Run history:</h3><br/><table class=\"wandb\"><tr><td>epoch</td><td>▁▂▃▃▄▅▆▆▇█</td></tr><tr><td>k_shot</td><td>▁▁▁▁▁▁▁▁▁▁</td></tr><tr><td>test_acc</td><td>▅▄▁▅▅▄▆▇██</td></tr><tr><td>test_balanced_acc</td><td>▁▁▁▁▂▃▄▆██</td></tr><tr><td>test_f1</td><td>▂▂▁▂▃▄▅▅▇█</td></tr><tr><td>test_loss</td><td>▅▄█▄▅▄▄▂▂▁</td></tr><tr><td>test_precision</td><td>▄▄▂▄▁▃▇▄██</td></tr><tr><td>test_recall</td><td>▅▄▁▅▅▄▆▇██</td></tr><tr><td>train_acc</td><td>▂▁▁▃▂▃▃▅▅█</td></tr><tr><td>train_loss</td><td>▇██▇▇▆▆▄▃▁</td></tr></table><br/></div><div class=\"wandb-col\"><h3>Run summary:</h3><br/><table class=\"wandb\"><tr><td>epoch</td><td>10</td></tr><tr><td>k_shot</td><td>70</td></tr><tr><td>test_acc</td><td>0.16764</td></tr><tr><td>test_balanced_acc</td><td>0.16783</td></tr><tr><td>test_f1</td><td>0.14007</td></tr><tr><td>test_loss</td><td>2.1591</td></tr><tr><td>test_precision</td><td>0.21498</td></tr><tr><td>test_recall</td><td>0.16764</td></tr><tr><td>train_acc</td><td>0.24286</td></tr><tr><td>train_loss</td><td>2.02999</td></tr></table><br/></div></div>"
            ]
          },
          "metadata": {}
        },
        {
          "output_type": "display_data",
          "data": {
            "text/plain": [
              "<IPython.core.display.HTML object>"
            ],
            "text/html": [
              " View run <strong style=\"color:#cdcd00\">Glove-GRU_K-70_Training</strong> at: <a href='https://wandb.ai/wilfried-mvomoeto-university-of-li-ge/Few-Shot-Training-Glove-GRU-/runs/d5mvls4m' target=\"_blank\">https://wandb.ai/wilfried-mvomoeto-university-of-li-ge/Few-Shot-Training-Glove-GRU-/runs/d5mvls4m</a><br> View project at: <a href='https://wandb.ai/wilfried-mvomoeto-university-of-li-ge/Few-Shot-Training-Glove-GRU-' target=\"_blank\">https://wandb.ai/wilfried-mvomoeto-university-of-li-ge/Few-Shot-Training-Glove-GRU-</a><br>Synced 5 W&B file(s), 0 media file(s), 0 artifact file(s) and 0 other file(s)"
            ]
          },
          "metadata": {}
        },
        {
          "output_type": "display_data",
          "data": {
            "text/plain": [
              "<IPython.core.display.HTML object>"
            ],
            "text/html": [
              "Find logs at: <code>./wandb/run-20250411_172807-d5mvls4m/logs</code>"
            ]
          },
          "metadata": {}
        },
        {
          "output_type": "display_data",
          "data": {
            "text/plain": [
              "<IPython.core.display.HTML object>"
            ],
            "text/html": [
              "Tracking run with wandb version 0.19.9"
            ]
          },
          "metadata": {}
        },
        {
          "output_type": "display_data",
          "data": {
            "text/plain": [
              "<IPython.core.display.HTML object>"
            ],
            "text/html": [
              "Run data is saved locally in <code>/content/wandb/run-20250411_172818-94t4c8lc</code>"
            ]
          },
          "metadata": {}
        },
        {
          "output_type": "display_data",
          "data": {
            "text/plain": [
              "<IPython.core.display.HTML object>"
            ],
            "text/html": [
              "Syncing run <strong><a href='https://wandb.ai/wilfried-mvomoeto-university-of-li-ge/Few-Shot-Training-Glove-GRU-Bahdanau-/runs/94t4c8lc' target=\"_blank\">Glove-GRU-Bahdanau_K-70_Training</a></strong> to <a href='https://wandb.ai/wilfried-mvomoeto-university-of-li-ge/Few-Shot-Training-Glove-GRU-Bahdanau-' target=\"_blank\">Weights & Biases</a> (<a href='https://wandb.me/developer-guide' target=\"_blank\">docs</a>)<br>"
            ]
          },
          "metadata": {}
        },
        {
          "output_type": "display_data",
          "data": {
            "text/plain": [
              "<IPython.core.display.HTML object>"
            ],
            "text/html": [
              " View project at <a href='https://wandb.ai/wilfried-mvomoeto-university-of-li-ge/Few-Shot-Training-Glove-GRU-Bahdanau-' target=\"_blank\">https://wandb.ai/wilfried-mvomoeto-university-of-li-ge/Few-Shot-Training-Glove-GRU-Bahdanau-</a>"
            ]
          },
          "metadata": {}
        },
        {
          "output_type": "display_data",
          "data": {
            "text/plain": [
              "<IPython.core.display.HTML object>"
            ],
            "text/html": [
              " View run at <a href='https://wandb.ai/wilfried-mvomoeto-university-of-li-ge/Few-Shot-Training-Glove-GRU-Bahdanau-/runs/94t4c8lc' target=\"_blank\">https://wandb.ai/wilfried-mvomoeto-university-of-li-ge/Few-Shot-Training-Glove-GRU-Bahdanau-/runs/94t4c8lc</a>"
            ]
          },
          "metadata": {}
        },
        {
          "output_type": "stream",
          "name": "stderr",
          "text": [
            "Glove-GRU-Bahdanau K-70 Epoch 30/1000 - Train Loss: 1.0286, Test Loss: 1.0874, Train Acc: 69.37%, Test Acc: 67.49%, Test F1: 67.47%, Test Balanced Acc: 66.24%, Test Recall: 67.49%, Test Precision: 67.91%, Time: 1.45 sec:   3%|▎         | 30/1000 [00:44<23:54,  1.48s/epoch]"
          ]
        },
        {
          "output_type": "stream",
          "name": "stdout",
          "text": [
            "Early stopping triggered at epoch 31\n",
            "Model Glove-GRU-Bahdanau_K-70 saved with loss gap > 1.25 or accuracy gap > 10% at epoch 30.\n",
            "\n",
            "Training with 80-shot...\n"
          ]
        },
        {
          "output_type": "stream",
          "name": "stderr",
          "text": [
            "\n",
            "<ipython-input-11-35ba822a06f8>:44: UserWarning: To copy construct from a tensor, it is recommended to use sourceTensor.clone().detach() or sourceTensor.clone().detach().requires_grad_(True), rather than torch.tensor(sourceTensor).\n",
            "  self.X = torch.tensor(X_data, dtype=torch.long)\n",
            "<ipython-input-11-35ba822a06f8>:45: UserWarning: To copy construct from a tensor, it is recommended to use sourceTensor.clone().detach() or sourceTensor.clone().detach().requires_grad_(True), rather than torch.tensor(sourceTensor).\n",
            "  self.y = torch.tensor(y_data, dtype=torch.long)\n"
          ]
        },
        {
          "output_type": "display_data",
          "data": {
            "text/plain": [
              "<IPython.core.display.HTML object>"
            ],
            "text/html": []
          },
          "metadata": {}
        },
        {
          "output_type": "display_data",
          "data": {
            "text/plain": [
              "<IPython.core.display.HTML object>"
            ],
            "text/html": [
              "<br>    <style><br>        .wandb-row {<br>            display: flex;<br>            flex-direction: row;<br>            flex-wrap: wrap;<br>            justify-content: flex-start;<br>            width: 100%;<br>        }<br>        .wandb-col {<br>            display: flex;<br>            flex-direction: column;<br>            flex-basis: 100%;<br>            flex: 1;<br>            padding: 10px;<br>        }<br>    </style><br><div class=\"wandb-row\"><div class=\"wandb-col\"><h3>Run history:</h3><br/><table class=\"wandb\"><tr><td>epoch</td><td>▁▁▁▂▂▂▂▃▃▃▃▄▄▄▄▅▅▅▅▅▆▆▆▆▇▇▇▇███</td></tr><tr><td>k_shot</td><td>▁▁▁▁▁▁▁▁▁▁▁▁▁▁▁▁▁▁▁▁▁▁▁▁▁▁▁▁▁▁▁</td></tr><tr><td>test_acc</td><td>▁▂▂▃▄▄▅▅▅▅▆▆▆▆▆▇▇▇▇▇▇▇▇████████</td></tr><tr><td>test_balanced_acc</td><td>▁▂▂▃▄▄▅▅▅▆▆▆▆▆▆▇▇▇▇▇▇▇▇████████</td></tr><tr><td>test_f1</td><td>▁▁▂▃▄▄▄▅▅▅▅▆▆▆▆▇▇▇▇▇▇▇▇████████</td></tr><tr><td>test_loss</td><td>███▇▇▆▆▅▅▅▅▄▄▄▄▄▃▃▃▃▂▂▂▂▂▂▁▁▁▁▁</td></tr><tr><td>test_precision</td><td>▁▁▂▃▄▄▄▄▅▅▅▆▆▆▆▆▇▇▇▇▇▇▇████████</td></tr><tr><td>test_recall</td><td>▁▂▂▃▄▄▅▅▅▅▆▆▆▆▆▇▇▇▇▇▇▇▇████████</td></tr><tr><td>train_acc</td><td>▁▁▁▂▂▃▃▃▄▄▄▅▅▅▅▅▆▆▆▆▆▇▇▇▇▇▇█▇██</td></tr><tr><td>train_loss</td><td>███▇▇▆▆▆▆▅▅▅▄▄▄▄▄▃▃▃▃▂▂▂▂▂▂▁▁▁▁</td></tr></table><br/></div><div class=\"wandb-col\"><h3>Run summary:</h3><br/><table class=\"wandb\"><tr><td>epoch</td><td>31</td></tr><tr><td>k_shot</td><td>70</td></tr><tr><td>test_acc</td><td>0.67299</td></tr><tr><td>test_balanced_acc</td><td>0.66078</td></tr><tr><td>test_f1</td><td>0.67371</td></tr><tr><td>test_loss</td><td>1.08191</td></tr><tr><td>test_precision</td><td>0.67804</td></tr><tr><td>test_recall</td><td>0.67299</td></tr><tr><td>train_acc</td><td>0.73492</td></tr><tr><td>train_loss</td><td>0.98828</td></tr></table><br/></div></div>"
            ]
          },
          "metadata": {}
        },
        {
          "output_type": "display_data",
          "data": {
            "text/plain": [
              "<IPython.core.display.HTML object>"
            ],
            "text/html": [
              " View run <strong style=\"color:#cdcd00\">Glove-GRU-Bahdanau_K-70_Training</strong> at: <a href='https://wandb.ai/wilfried-mvomoeto-university-of-li-ge/Few-Shot-Training-Glove-GRU-Bahdanau-/runs/94t4c8lc' target=\"_blank\">https://wandb.ai/wilfried-mvomoeto-university-of-li-ge/Few-Shot-Training-Glove-GRU-Bahdanau-/runs/94t4c8lc</a><br> View project at: <a href='https://wandb.ai/wilfried-mvomoeto-university-of-li-ge/Few-Shot-Training-Glove-GRU-Bahdanau-' target=\"_blank\">https://wandb.ai/wilfried-mvomoeto-university-of-li-ge/Few-Shot-Training-Glove-GRU-Bahdanau-</a><br>Synced 5 W&B file(s), 0 media file(s), 0 artifact file(s) and 0 other file(s)"
            ]
          },
          "metadata": {}
        },
        {
          "output_type": "display_data",
          "data": {
            "text/plain": [
              "<IPython.core.display.HTML object>"
            ],
            "text/html": [
              "Find logs at: <code>./wandb/run-20250411_172818-94t4c8lc/logs</code>"
            ]
          },
          "metadata": {}
        },
        {
          "output_type": "display_data",
          "data": {
            "text/plain": [
              "<IPython.core.display.HTML object>"
            ],
            "text/html": [
              "Tracking run with wandb version 0.19.9"
            ]
          },
          "metadata": {}
        },
        {
          "output_type": "display_data",
          "data": {
            "text/plain": [
              "<IPython.core.display.HTML object>"
            ],
            "text/html": [
              "Run data is saved locally in <code>/content/wandb/run-20250411_172904-c80aevqm</code>"
            ]
          },
          "metadata": {}
        },
        {
          "output_type": "display_data",
          "data": {
            "text/plain": [
              "<IPython.core.display.HTML object>"
            ],
            "text/html": [
              "Syncing run <strong><a href='https://wandb.ai/wilfried-mvomoeto-university-of-li-ge/Few-Shot-Training-CNN_LSTM-/runs/c80aevqm' target=\"_blank\">CNN_LSTM_K-80_Training</a></strong> to <a href='https://wandb.ai/wilfried-mvomoeto-university-of-li-ge/Few-Shot-Training-CNN_LSTM-' target=\"_blank\">Weights & Biases</a> (<a href='https://wandb.me/developer-guide' target=\"_blank\">docs</a>)<br>"
            ]
          },
          "metadata": {}
        },
        {
          "output_type": "display_data",
          "data": {
            "text/plain": [
              "<IPython.core.display.HTML object>"
            ],
            "text/html": [
              " View project at <a href='https://wandb.ai/wilfried-mvomoeto-university-of-li-ge/Few-Shot-Training-CNN_LSTM-' target=\"_blank\">https://wandb.ai/wilfried-mvomoeto-university-of-li-ge/Few-Shot-Training-CNN_LSTM-</a>"
            ]
          },
          "metadata": {}
        },
        {
          "output_type": "display_data",
          "data": {
            "text/plain": [
              "<IPython.core.display.HTML object>"
            ],
            "text/html": [
              " View run at <a href='https://wandb.ai/wilfried-mvomoeto-university-of-li-ge/Few-Shot-Training-CNN_LSTM-/runs/c80aevqm' target=\"_blank\">https://wandb.ai/wilfried-mvomoeto-university-of-li-ge/Few-Shot-Training-CNN_LSTM-/runs/c80aevqm</a>"
            ]
          },
          "metadata": {}
        },
        {
          "output_type": "stream",
          "name": "stderr",
          "text": [
            "CNN_LSTM K-80 Epoch 54/1000 - Train Loss: 2.1858, Test Loss: 2.1993, Train Acc: 9.86%, Test Acc: 6.73%, Test F1: 0.89%, Test Balanced Acc: 11.01%, Test Recall: 6.73%, Test Precision: 12.67%, Time: 0.95 sec:   5%|▌         | 54/1000 [00:54<16:00,  1.02s/epoch]"
          ]
        },
        {
          "output_type": "stream",
          "name": "stdout",
          "text": [
            "Early stopping triggered at epoch 55\n",
            "Model CNN_LSTM_K-80 saved with loss gap > 1.25 or accuracy gap > 10% at epoch 54.\n"
          ]
        },
        {
          "output_type": "stream",
          "name": "stderr",
          "text": [
            "\n",
            "<ipython-input-11-35ba822a06f8>:44: UserWarning: To copy construct from a tensor, it is recommended to use sourceTensor.clone().detach() or sourceTensor.clone().detach().requires_grad_(True), rather than torch.tensor(sourceTensor).\n",
            "  self.X = torch.tensor(X_data, dtype=torch.long)\n",
            "<ipython-input-11-35ba822a06f8>:45: UserWarning: To copy construct from a tensor, it is recommended to use sourceTensor.clone().detach() or sourceTensor.clone().detach().requires_grad_(True), rather than torch.tensor(sourceTensor).\n",
            "  self.y = torch.tensor(y_data, dtype=torch.long)\n"
          ]
        },
        {
          "output_type": "display_data",
          "data": {
            "text/plain": [
              "<IPython.core.display.HTML object>"
            ],
            "text/html": []
          },
          "metadata": {}
        },
        {
          "output_type": "display_data",
          "data": {
            "text/plain": [
              "<IPython.core.display.HTML object>"
            ],
            "text/html": [
              "<br>    <style><br>        .wandb-row {<br>            display: flex;<br>            flex-direction: row;<br>            flex-wrap: wrap;<br>            justify-content: flex-start;<br>            width: 100%;<br>        }<br>        .wandb-col {<br>            display: flex;<br>            flex-direction: column;<br>            flex-basis: 100%;<br>            flex: 1;<br>            padding: 10px;<br>        }<br>    </style><br><div class=\"wandb-row\"><div class=\"wandb-col\"><h3>Run history:</h3><br/><table class=\"wandb\"><tr><td>epoch</td><td>▁▁▁▁▂▂▂▂▂▂▃▃▃▃▃▄▄▄▄▄▅▅▅▅▅▆▆▆▆▆▆▇▇▇▇▇▇▇██</td></tr><tr><td>k_shot</td><td>▁▁▁▁▁▁▁▁▁▁▁▁▁▁▁▁▁▁▁▁▁▁▁▁▁▁▁▁▁▁▁▁▁▁▁▁▁▁▁▁</td></tr><tr><td>test_acc</td><td>████▇▁█▇▇▇▁▇▇▇▇█▇▇▇▁▇▇▇▇▇▇▁▇▇▇▁▁▁▇▇▁▁▁▁▁</td></tr><tr><td>test_balanced_acc</td><td>▃▃▃▃▄▆▆▂▄▄▆▅▆▂▆▄▄▆▆▂▆▆▄▅▇█▂▆▆▄▂▂▂▆▁▁▁▁▁▁</td></tr><tr><td>test_f1</td><td>███▁█▇▇▁█▇▇▆▁▆▇▆▆█▇▇▁▁▇▇▇▇▇▇▇▆▁▁▁▇▇▁▁▁▁▁</td></tr><tr><td>test_loss</td><td>▃▁▂▄▃▄▄▃▅▅▆▆▅▄▆▆▅▅█▇▆▅▅▆▆▅▆▆▆▇█▆▆▇████▆▇</td></tr><tr><td>test_precision</td><td>▂▂▅▃█▄▅▅▁▁▁▁▄▁▁▁███▇█▅▆█▆▆▄▃█▇▇██▇▇▇▇▇▇▇</td></tr><tr><td>test_recall</td><td>███▁█▇▇▁█▇▇▇▇▇▇▇█▇▇▇▁▇▇▇▇▇▇▁▇▇▁▁▁▁▇▁▁▁▇▁</td></tr><tr><td>train_acc</td><td>▂▁▆▅▃▂▅▃▅▆▄▃▇█▄▆▄▆█▅▅▅▅▄▅▅▁▄▅▄▅▅▅▂▃▅▅▆▄▇</td></tr><tr><td>train_loss</td><td>█▄▄▄▃▂▁▂▂▂▁▁▁▁▁▁▁▁▁▁▁▁▁▁▁▁▁▁▁▁▁▁▁▁▁▁▁▁▁▁</td></tr></table><br/></div><div class=\"wandb-col\"><h3>Run summary:</h3><br/><table class=\"wandb\"><tr><td>epoch</td><td>55</td></tr><tr><td>k_shot</td><td>80</td></tr><tr><td>test_acc</td><td>0.06726</td></tr><tr><td>test_balanced_acc</td><td>0.11014</td></tr><tr><td>test_f1</td><td>0.0089</td></tr><tr><td>test_loss</td><td>2.19896</td></tr><tr><td>test_precision</td><td>0.12668</td></tr><tr><td>test_recall</td><td>0.06726</td></tr><tr><td>train_acc</td><td>0.125</td></tr><tr><td>train_loss</td><td>2.18603</td></tr></table><br/></div></div>"
            ]
          },
          "metadata": {}
        },
        {
          "output_type": "display_data",
          "data": {
            "text/plain": [
              "<IPython.core.display.HTML object>"
            ],
            "text/html": [
              " View run <strong style=\"color:#cdcd00\">CNN_LSTM_K-80_Training</strong> at: <a href='https://wandb.ai/wilfried-mvomoeto-university-of-li-ge/Few-Shot-Training-CNN_LSTM-/runs/c80aevqm' target=\"_blank\">https://wandb.ai/wilfried-mvomoeto-university-of-li-ge/Few-Shot-Training-CNN_LSTM-/runs/c80aevqm</a><br> View project at: <a href='https://wandb.ai/wilfried-mvomoeto-university-of-li-ge/Few-Shot-Training-CNN_LSTM-' target=\"_blank\">https://wandb.ai/wilfried-mvomoeto-university-of-li-ge/Few-Shot-Training-CNN_LSTM-</a><br>Synced 5 W&B file(s), 0 media file(s), 0 artifact file(s) and 0 other file(s)"
            ]
          },
          "metadata": {}
        },
        {
          "output_type": "display_data",
          "data": {
            "text/plain": [
              "<IPython.core.display.HTML object>"
            ],
            "text/html": [
              "Find logs at: <code>./wandb/run-20250411_172904-c80aevqm/logs</code>"
            ]
          },
          "metadata": {}
        },
        {
          "output_type": "display_data",
          "data": {
            "text/plain": [
              "<IPython.core.display.HTML object>"
            ],
            "text/html": [
              "Tracking run with wandb version 0.19.9"
            ]
          },
          "metadata": {}
        },
        {
          "output_type": "display_data",
          "data": {
            "text/plain": [
              "<IPython.core.display.HTML object>"
            ],
            "text/html": [
              "Run data is saved locally in <code>/content/wandb/run-20250411_173000-ah2kddhd</code>"
            ]
          },
          "metadata": {}
        },
        {
          "output_type": "display_data",
          "data": {
            "text/plain": [
              "<IPython.core.display.HTML object>"
            ],
            "text/html": [
              "Syncing run <strong><a href='https://wandb.ai/wilfried-mvomoeto-university-of-li-ge/Few-Shot-Training-Glove-GRU-/runs/ah2kddhd' target=\"_blank\">Glove-GRU_K-80_Training</a></strong> to <a href='https://wandb.ai/wilfried-mvomoeto-university-of-li-ge/Few-Shot-Training-Glove-GRU-' target=\"_blank\">Weights & Biases</a> (<a href='https://wandb.me/developer-guide' target=\"_blank\">docs</a>)<br>"
            ]
          },
          "metadata": {}
        },
        {
          "output_type": "display_data",
          "data": {
            "text/plain": [
              "<IPython.core.display.HTML object>"
            ],
            "text/html": [
              " View project at <a href='https://wandb.ai/wilfried-mvomoeto-university-of-li-ge/Few-Shot-Training-Glove-GRU-' target=\"_blank\">https://wandb.ai/wilfried-mvomoeto-university-of-li-ge/Few-Shot-Training-Glove-GRU-</a>"
            ]
          },
          "metadata": {}
        },
        {
          "output_type": "display_data",
          "data": {
            "text/plain": [
              "<IPython.core.display.HTML object>"
            ],
            "text/html": [
              " View run at <a href='https://wandb.ai/wilfried-mvomoeto-university-of-li-ge/Few-Shot-Training-Glove-GRU-/runs/ah2kddhd' target=\"_blank\">https://wandb.ai/wilfried-mvomoeto-university-of-li-ge/Few-Shot-Training-Glove-GRU-/runs/ah2kddhd</a>"
            ]
          },
          "metadata": {}
        },
        {
          "output_type": "stream",
          "name": "stderr",
          "text": [
            "Glove-GRU K-80 Epoch 6/1000 - Train Loss: 2.1166, Test Loss: 2.1565, Train Acc: 19.17%, Test Acc: 17.59%, Test F1: 11.11%, Test Balanced Acc: 17.02%, Test Recall: 17.59%, Test Precision: 21.21%, Time: 1.00 sec:   1%|          | 6/1000 [00:06<18:51,  1.14s/epoch]"
          ]
        },
        {
          "output_type": "stream",
          "name": "stdout",
          "text": [
            "Early stopping triggered at epoch 7\n",
            "Model Glove-GRU_K-80 saved with loss gap > 1.25 or accuracy gap > 10% at epoch 6.\n"
          ]
        },
        {
          "output_type": "stream",
          "name": "stderr",
          "text": [
            "\n",
            "<ipython-input-11-35ba822a06f8>:44: UserWarning: To copy construct from a tensor, it is recommended to use sourceTensor.clone().detach() or sourceTensor.clone().detach().requires_grad_(True), rather than torch.tensor(sourceTensor).\n",
            "  self.X = torch.tensor(X_data, dtype=torch.long)\n",
            "<ipython-input-11-35ba822a06f8>:45: UserWarning: To copy construct from a tensor, it is recommended to use sourceTensor.clone().detach() or sourceTensor.clone().detach().requires_grad_(True), rather than torch.tensor(sourceTensor).\n",
            "  self.y = torch.tensor(y_data, dtype=torch.long)\n"
          ]
        },
        {
          "output_type": "display_data",
          "data": {
            "text/plain": [
              "<IPython.core.display.HTML object>"
            ],
            "text/html": []
          },
          "metadata": {}
        },
        {
          "output_type": "display_data",
          "data": {
            "text/plain": [
              "<IPython.core.display.HTML object>"
            ],
            "text/html": [
              "<br>    <style><br>        .wandb-row {<br>            display: flex;<br>            flex-direction: row;<br>            flex-wrap: wrap;<br>            justify-content: flex-start;<br>            width: 100%;<br>        }<br>        .wandb-col {<br>            display: flex;<br>            flex-direction: column;<br>            flex-basis: 100%;<br>            flex: 1;<br>            padding: 10px;<br>        }<br>    </style><br><div class=\"wandb-row\"><div class=\"wandb-col\"><h3>Run history:</h3><br/><table class=\"wandb\"><tr><td>epoch</td><td>▁▂▃▅▆▇█</td></tr><tr><td>k_shot</td><td>▁▁▁▁▁▁▁</td></tr><tr><td>test_acc</td><td>▂▂▁▃▅▇█</td></tr><tr><td>test_balanced_acc</td><td>▁▁▂▂▆▆█</td></tr><tr><td>test_f1</td><td>▁▂▄▂▆▆█</td></tr><tr><td>test_loss</td><td>█▇▆▅▄▂▁</td></tr><tr><td>test_precision</td><td>▇▁▅█▆██</td></tr><tr><td>test_recall</td><td>▂▂▁▃▅▇█</td></tr><tr><td>train_acc</td><td>▁▁▂▂▃▅█</td></tr><tr><td>train_loss</td><td>██▇▆▅▃▁</td></tr></table><br/></div><div class=\"wandb-col\"><h3>Run summary:</h3><br/><table class=\"wandb\"><tr><td>epoch</td><td>7</td></tr><tr><td>k_shot</td><td>80</td></tr><tr><td>test_acc</td><td>0.1861</td></tr><tr><td>test_balanced_acc</td><td>0.18807</td></tr><tr><td>test_f1</td><td>0.14285</td></tr><tr><td>test_loss</td><td>2.14678</td></tr><tr><td>test_precision</td><td>0.2109</td></tr><tr><td>test_recall</td><td>0.1861</td></tr><tr><td>train_acc</td><td>0.25278</td></tr><tr><td>train_loss</td><td>2.05103</td></tr></table><br/></div></div>"
            ]
          },
          "metadata": {}
        },
        {
          "output_type": "display_data",
          "data": {
            "text/plain": [
              "<IPython.core.display.HTML object>"
            ],
            "text/html": [
              " View run <strong style=\"color:#cdcd00\">Glove-GRU_K-80_Training</strong> at: <a href='https://wandb.ai/wilfried-mvomoeto-university-of-li-ge/Few-Shot-Training-Glove-GRU-/runs/ah2kddhd' target=\"_blank\">https://wandb.ai/wilfried-mvomoeto-university-of-li-ge/Few-Shot-Training-Glove-GRU-/runs/ah2kddhd</a><br> View project at: <a href='https://wandb.ai/wilfried-mvomoeto-university-of-li-ge/Few-Shot-Training-Glove-GRU-' target=\"_blank\">https://wandb.ai/wilfried-mvomoeto-university-of-li-ge/Few-Shot-Training-Glove-GRU-</a><br>Synced 5 W&B file(s), 0 media file(s), 0 artifact file(s) and 0 other file(s)"
            ]
          },
          "metadata": {}
        },
        {
          "output_type": "display_data",
          "data": {
            "text/plain": [
              "<IPython.core.display.HTML object>"
            ],
            "text/html": [
              "Find logs at: <code>./wandb/run-20250411_173000-ah2kddhd/logs</code>"
            ]
          },
          "metadata": {}
        },
        {
          "output_type": "display_data",
          "data": {
            "text/plain": [
              "<IPython.core.display.HTML object>"
            ],
            "text/html": [
              "Tracking run with wandb version 0.19.9"
            ]
          },
          "metadata": {}
        },
        {
          "output_type": "display_data",
          "data": {
            "text/plain": [
              "<IPython.core.display.HTML object>"
            ],
            "text/html": [
              "Run data is saved locally in <code>/content/wandb/run-20250411_173009-wrc67gag</code>"
            ]
          },
          "metadata": {}
        },
        {
          "output_type": "display_data",
          "data": {
            "text/plain": [
              "<IPython.core.display.HTML object>"
            ],
            "text/html": [
              "Syncing run <strong><a href='https://wandb.ai/wilfried-mvomoeto-university-of-li-ge/Few-Shot-Training-Glove-GRU-Bahdanau-/runs/wrc67gag' target=\"_blank\">Glove-GRU-Bahdanau_K-80_Training</a></strong> to <a href='https://wandb.ai/wilfried-mvomoeto-university-of-li-ge/Few-Shot-Training-Glove-GRU-Bahdanau-' target=\"_blank\">Weights & Biases</a> (<a href='https://wandb.me/developer-guide' target=\"_blank\">docs</a>)<br>"
            ]
          },
          "metadata": {}
        },
        {
          "output_type": "display_data",
          "data": {
            "text/plain": [
              "<IPython.core.display.HTML object>"
            ],
            "text/html": [
              " View project at <a href='https://wandb.ai/wilfried-mvomoeto-university-of-li-ge/Few-Shot-Training-Glove-GRU-Bahdanau-' target=\"_blank\">https://wandb.ai/wilfried-mvomoeto-university-of-li-ge/Few-Shot-Training-Glove-GRU-Bahdanau-</a>"
            ]
          },
          "metadata": {}
        },
        {
          "output_type": "display_data",
          "data": {
            "text/plain": [
              "<IPython.core.display.HTML object>"
            ],
            "text/html": [
              " View run at <a href='https://wandb.ai/wilfried-mvomoeto-university-of-li-ge/Few-Shot-Training-Glove-GRU-Bahdanau-/runs/wrc67gag' target=\"_blank\">https://wandb.ai/wilfried-mvomoeto-university-of-li-ge/Few-Shot-Training-Glove-GRU-Bahdanau-/runs/wrc67gag</a>"
            ]
          },
          "metadata": {}
        },
        {
          "output_type": "stream",
          "name": "stderr",
          "text": [
            "Glove-GRU-Bahdanau K-80 Epoch 14/1000 - Train Loss: 1.6174, Test Loss: 1.7222, Train Acc: 42.50%, Test Acc: 40.57%, Test F1: 40.86%, Test Balanced Acc: 42.81%, Test Recall: 40.57%, Test Precision: 45.55%, Time: 1.44 sec:   1%|▏         | 14/1000 [00:22<25:56,  1.58s/epoch]"
          ]
        },
        {
          "output_type": "stream",
          "name": "stdout",
          "text": [
            "Early stopping triggered at epoch 15\n",
            "Model Glove-GRU-Bahdanau_K-80 saved with loss gap > 1.25 or accuracy gap > 10% at epoch 14.\n",
            "\n",
            "Training with 100-shot...\n"
          ]
        },
        {
          "output_type": "stream",
          "name": "stderr",
          "text": [
            "\n",
            "<ipython-input-11-35ba822a06f8>:44: UserWarning: To copy construct from a tensor, it is recommended to use sourceTensor.clone().detach() or sourceTensor.clone().detach().requires_grad_(True), rather than torch.tensor(sourceTensor).\n",
            "  self.X = torch.tensor(X_data, dtype=torch.long)\n",
            "<ipython-input-11-35ba822a06f8>:45: UserWarning: To copy construct from a tensor, it is recommended to use sourceTensor.clone().detach() or sourceTensor.clone().detach().requires_grad_(True), rather than torch.tensor(sourceTensor).\n",
            "  self.y = torch.tensor(y_data, dtype=torch.long)\n"
          ]
        },
        {
          "output_type": "display_data",
          "data": {
            "text/plain": [
              "<IPython.core.display.HTML object>"
            ],
            "text/html": []
          },
          "metadata": {}
        },
        {
          "output_type": "display_data",
          "data": {
            "text/plain": [
              "<IPython.core.display.HTML object>"
            ],
            "text/html": [
              "<br>    <style><br>        .wandb-row {<br>            display: flex;<br>            flex-direction: row;<br>            flex-wrap: wrap;<br>            justify-content: flex-start;<br>            width: 100%;<br>        }<br>        .wandb-col {<br>            display: flex;<br>            flex-direction: column;<br>            flex-basis: 100%;<br>            flex: 1;<br>            padding: 10px;<br>        }<br>    </style><br><div class=\"wandb-row\"><div class=\"wandb-col\"><h3>Run history:</h3><br/><table class=\"wandb\"><tr><td>epoch</td><td>▁▁▂▃▃▃▄▅▅▅▆▇▇▇█</td></tr><tr><td>k_shot</td><td>▁▁▁▁▁▁▁▁▁▁▁▁▁▁▁</td></tr><tr><td>test_acc</td><td>▁▁▂▄▅▅▆▆▆▇▇▇███</td></tr><tr><td>test_balanced_acc</td><td>▁▁▂▄▅▆▆▆▇▇▇████</td></tr><tr><td>test_f1</td><td>▁▁▂▄▅▅▅▆▆▇▇▇███</td></tr><tr><td>test_loss</td><td>███▇▆▅▄▄▃▃▂▂▂▁▁</td></tr><tr><td>test_precision</td><td>▁▁▂▄▅▅▅▆▆▇▇▇▇██</td></tr><tr><td>test_recall</td><td>▁▁▂▄▅▅▆▆▆▇▇▇███</td></tr><tr><td>train_acc</td><td>▁▁▂▂▃▄▅▅▅▆▆▆▇▇█</td></tr><tr><td>train_loss</td><td>██▇▇▆▅▅▄▄▃▂▂▂▁▁</td></tr></table><br/></div><div class=\"wandb-col\"><h3>Run summary:</h3><br/><table class=\"wandb\"><tr><td>epoch</td><td>15</td></tr><tr><td>k_shot</td><td>80</td></tr><tr><td>test_acc</td><td>0.41514</td></tr><tr><td>test_balanced_acc</td><td>0.43692</td></tr><tr><td>test_f1</td><td>0.41848</td></tr><tr><td>test_loss</td><td>1.69587</td></tr><tr><td>test_precision</td><td>0.46077</td></tr><tr><td>test_recall</td><td>0.41514</td></tr><tr><td>train_acc</td><td>0.46667</td></tr><tr><td>train_loss</td><td>1.58916</td></tr></table><br/></div></div>"
            ]
          },
          "metadata": {}
        },
        {
          "output_type": "display_data",
          "data": {
            "text/plain": [
              "<IPython.core.display.HTML object>"
            ],
            "text/html": [
              " View run <strong style=\"color:#cdcd00\">Glove-GRU-Bahdanau_K-80_Training</strong> at: <a href='https://wandb.ai/wilfried-mvomoeto-university-of-li-ge/Few-Shot-Training-Glove-GRU-Bahdanau-/runs/wrc67gag' target=\"_blank\">https://wandb.ai/wilfried-mvomoeto-university-of-li-ge/Few-Shot-Training-Glove-GRU-Bahdanau-/runs/wrc67gag</a><br> View project at: <a href='https://wandb.ai/wilfried-mvomoeto-university-of-li-ge/Few-Shot-Training-Glove-GRU-Bahdanau-' target=\"_blank\">https://wandb.ai/wilfried-mvomoeto-university-of-li-ge/Few-Shot-Training-Glove-GRU-Bahdanau-</a><br>Synced 5 W&B file(s), 0 media file(s), 0 artifact file(s) and 0 other file(s)"
            ]
          },
          "metadata": {}
        },
        {
          "output_type": "display_data",
          "data": {
            "text/plain": [
              "<IPython.core.display.HTML object>"
            ],
            "text/html": [
              "Find logs at: <code>./wandb/run-20250411_173009-wrc67gag/logs</code>"
            ]
          },
          "metadata": {}
        },
        {
          "output_type": "display_data",
          "data": {
            "text/plain": [
              "<IPython.core.display.HTML object>"
            ],
            "text/html": [
              "Tracking run with wandb version 0.19.9"
            ]
          },
          "metadata": {}
        },
        {
          "output_type": "display_data",
          "data": {
            "text/plain": [
              "<IPython.core.display.HTML object>"
            ],
            "text/html": [
              "Run data is saved locally in <code>/content/wandb/run-20250411_173032-0uqxiuvl</code>"
            ]
          },
          "metadata": {}
        },
        {
          "output_type": "display_data",
          "data": {
            "text/plain": [
              "<IPython.core.display.HTML object>"
            ],
            "text/html": [
              "Syncing run <strong><a href='https://wandb.ai/wilfried-mvomoeto-university-of-li-ge/Few-Shot-Training-CNN_LSTM-/runs/0uqxiuvl' target=\"_blank\">CNN_LSTM_K-100_Training</a></strong> to <a href='https://wandb.ai/wilfried-mvomoeto-university-of-li-ge/Few-Shot-Training-CNN_LSTM-' target=\"_blank\">Weights & Biases</a> (<a href='https://wandb.me/developer-guide' target=\"_blank\">docs</a>)<br>"
            ]
          },
          "metadata": {}
        },
        {
          "output_type": "display_data",
          "data": {
            "text/plain": [
              "<IPython.core.display.HTML object>"
            ],
            "text/html": [
              " View project at <a href='https://wandb.ai/wilfried-mvomoeto-university-of-li-ge/Few-Shot-Training-CNN_LSTM-' target=\"_blank\">https://wandb.ai/wilfried-mvomoeto-university-of-li-ge/Few-Shot-Training-CNN_LSTM-</a>"
            ]
          },
          "metadata": {}
        },
        {
          "output_type": "display_data",
          "data": {
            "text/plain": [
              "<IPython.core.display.HTML object>"
            ],
            "text/html": [
              " View run at <a href='https://wandb.ai/wilfried-mvomoeto-university-of-li-ge/Few-Shot-Training-CNN_LSTM-/runs/0uqxiuvl' target=\"_blank\">https://wandb.ai/wilfried-mvomoeto-university-of-li-ge/Few-Shot-Training-CNN_LSTM-/runs/0uqxiuvl</a>"
            ]
          },
          "metadata": {}
        },
        {
          "output_type": "stream",
          "name": "stderr",
          "text": [
            "CNN_LSTM K-100 Epoch 45/1000 - Train Loss: 2.1641, Test Loss: 2.2106, Train Acc: 11.89%, Test Acc: 12.44%, Test F1: 3.86%, Test Balanced Acc: 11.39%, Test Recall: 12.44%, Test Precision: 9.83%, Time: 1.04 sec:   4%|▍         | 45/1000 [00:50<17:43,  1.11s/epoch]"
          ]
        },
        {
          "output_type": "stream",
          "name": "stdout",
          "text": [
            "Early stopping triggered at epoch 46\n",
            "Model CNN_LSTM_K-100 saved with loss gap > 1.25 or accuracy gap > 10% at epoch 45.\n"
          ]
        },
        {
          "output_type": "stream",
          "name": "stderr",
          "text": [
            "\n",
            "<ipython-input-11-35ba822a06f8>:44: UserWarning: To copy construct from a tensor, it is recommended to use sourceTensor.clone().detach() or sourceTensor.clone().detach().requires_grad_(True), rather than torch.tensor(sourceTensor).\n",
            "  self.X = torch.tensor(X_data, dtype=torch.long)\n",
            "<ipython-input-11-35ba822a06f8>:45: UserWarning: To copy construct from a tensor, it is recommended to use sourceTensor.clone().detach() or sourceTensor.clone().detach().requires_grad_(True), rather than torch.tensor(sourceTensor).\n",
            "  self.y = torch.tensor(y_data, dtype=torch.long)\n"
          ]
        },
        {
          "output_type": "display_data",
          "data": {
            "text/plain": [
              "<IPython.core.display.HTML object>"
            ],
            "text/html": []
          },
          "metadata": {}
        },
        {
          "output_type": "display_data",
          "data": {
            "text/plain": [
              "<IPython.core.display.HTML object>"
            ],
            "text/html": [
              "<br>    <style><br>        .wandb-row {<br>            display: flex;<br>            flex-direction: row;<br>            flex-wrap: wrap;<br>            justify-content: flex-start;<br>            width: 100%;<br>        }<br>        .wandb-col {<br>            display: flex;<br>            flex-direction: column;<br>            flex-basis: 100%;<br>            flex: 1;<br>            padding: 10px;<br>        }<br>    </style><br><div class=\"wandb-row\"><div class=\"wandb-col\"><h3>Run history:</h3><br/><table class=\"wandb\"><tr><td>epoch</td><td>▁▁▁▁▂▂▂▂▂▃▃▃▃▃▄▄▄▄▄▄▅▅▅▅▅▅▆▆▆▆▆▇▇▇▇▇████</td></tr><tr><td>k_shot</td><td>▁▁▁▁▁▁▁▁▁▁▁▁▁▁▁▁▁▁▁▁▁▁▁▁▁▁▁▁▁▁▁▁▁▁▁▁▁▁▁▁</td></tr><tr><td>test_acc</td><td>▇▅▅▇▇▅▅▅▅█▇▇█▇▅▆▇▅▅▇█▆▆▇▆▇█▆▆▆▇▆▇▇██▆█▁█</td></tr><tr><td>test_balanced_acc</td><td>▃▄▄▃▃▄▄▄▄▂▃▃▃▂▅▂▃▄▅▃▄▁▆▆▆▆▅▆▅▆▇▆▇▆▅▅█▆██</td></tr><tr><td>test_f1</td><td>▃▂▂▃▃▂▂▂▂▄▃▃▄▃▂▃▅▂▂▃▅▄▃▅▄▆▆▃▂▃▆▃▆▅▅▇▄▇▁█</td></tr><tr><td>test_loss</td><td>▂▁▁▁▁▁▁▂▂▂▂▁▂▂▂▃▃▃▃▂▂▄▄▆▇██▆▄▅▆▅▆▂▃▃▃▃▅▅</td></tr><tr><td>test_precision</td><td>▁▃▄▁▁▁▁▁▂▁▂▂▁▂▃▂▃▃▃▃▄▂▃▃▃▄▄▅▅▄▅▅▅█▆▆▅▄▄▅</td></tr><tr><td>test_recall</td><td>▇▅▅▇▇▅▅▅▅█▇▇█▇▅▆▇▅▅▇█▆▆▇▆▇█▆▆▆▇▆▇▇██▆█▁█</td></tr><tr><td>train_acc</td><td>▄▁▄▄▂▁▄▄▂▃▃▃▄▆▅▃▃▄▃█▃▂▄█▄▅▅▃▄▁▄▄▆▇▆▄▆▇▆▆</td></tr><tr><td>train_loss</td><td>█▇▆▅▅▅▅▄▅▅▄▄▄▄▄▄▄▃▃▃▅▃▁▂▂▁▁▂▂▂▂▂▁▄▄▃▃▂▂▁</td></tr></table><br/></div><div class=\"wandb-col\"><h3>Run summary:</h3><br/><table class=\"wandb\"><tr><td>epoch</td><td>46</td></tr><tr><td>k_shot</td><td>100</td></tr><tr><td>test_acc</td><td>0.07244</td></tr><tr><td>test_balanced_acc</td><td>0.11468</td></tr><tr><td>test_f1</td><td>0.01944</td></tr><tr><td>test_loss</td><td>2.20679</td></tr><tr><td>test_precision</td><td>0.09073</td></tr><tr><td>test_recall</td><td>0.07244</td></tr><tr><td>train_acc</td><td>0.12444</td></tr><tr><td>train_loss</td><td>2.15926</td></tr></table><br/></div></div>"
            ]
          },
          "metadata": {}
        },
        {
          "output_type": "display_data",
          "data": {
            "text/plain": [
              "<IPython.core.display.HTML object>"
            ],
            "text/html": [
              " View run <strong style=\"color:#cdcd00\">CNN_LSTM_K-100_Training</strong> at: <a href='https://wandb.ai/wilfried-mvomoeto-university-of-li-ge/Few-Shot-Training-CNN_LSTM-/runs/0uqxiuvl' target=\"_blank\">https://wandb.ai/wilfried-mvomoeto-university-of-li-ge/Few-Shot-Training-CNN_LSTM-/runs/0uqxiuvl</a><br> View project at: <a href='https://wandb.ai/wilfried-mvomoeto-university-of-li-ge/Few-Shot-Training-CNN_LSTM-' target=\"_blank\">https://wandb.ai/wilfried-mvomoeto-university-of-li-ge/Few-Shot-Training-CNN_LSTM-</a><br>Synced 5 W&B file(s), 0 media file(s), 0 artifact file(s) and 0 other file(s)"
            ]
          },
          "metadata": {}
        },
        {
          "output_type": "display_data",
          "data": {
            "text/plain": [
              "<IPython.core.display.HTML object>"
            ],
            "text/html": [
              "Find logs at: <code>./wandb/run-20250411_173032-0uqxiuvl/logs</code>"
            ]
          },
          "metadata": {}
        },
        {
          "output_type": "display_data",
          "data": {
            "text/plain": [
              "<IPython.core.display.HTML object>"
            ],
            "text/html": [
              "Tracking run with wandb version 0.19.9"
            ]
          },
          "metadata": {}
        },
        {
          "output_type": "display_data",
          "data": {
            "text/plain": [
              "<IPython.core.display.HTML object>"
            ],
            "text/html": [
              "Run data is saved locally in <code>/content/wandb/run-20250411_173124-48cdhnvd</code>"
            ]
          },
          "metadata": {}
        },
        {
          "output_type": "display_data",
          "data": {
            "text/plain": [
              "<IPython.core.display.HTML object>"
            ],
            "text/html": [
              "Syncing run <strong><a href='https://wandb.ai/wilfried-mvomoeto-university-of-li-ge/Few-Shot-Training-Glove-GRU-/runs/48cdhnvd' target=\"_blank\">Glove-GRU_K-100_Training</a></strong> to <a href='https://wandb.ai/wilfried-mvomoeto-university-of-li-ge/Few-Shot-Training-Glove-GRU-' target=\"_blank\">Weights & Biases</a> (<a href='https://wandb.me/developer-guide' target=\"_blank\">docs</a>)<br>"
            ]
          },
          "metadata": {}
        },
        {
          "output_type": "display_data",
          "data": {
            "text/plain": [
              "<IPython.core.display.HTML object>"
            ],
            "text/html": [
              " View project at <a href='https://wandb.ai/wilfried-mvomoeto-university-of-li-ge/Few-Shot-Training-Glove-GRU-' target=\"_blank\">https://wandb.ai/wilfried-mvomoeto-university-of-li-ge/Few-Shot-Training-Glove-GRU-</a>"
            ]
          },
          "metadata": {}
        },
        {
          "output_type": "display_data",
          "data": {
            "text/plain": [
              "<IPython.core.display.HTML object>"
            ],
            "text/html": [
              " View run at <a href='https://wandb.ai/wilfried-mvomoeto-university-of-li-ge/Few-Shot-Training-Glove-GRU-/runs/48cdhnvd' target=\"_blank\">https://wandb.ai/wilfried-mvomoeto-university-of-li-ge/Few-Shot-Training-Glove-GRU-/runs/48cdhnvd</a>"
            ]
          },
          "metadata": {}
        },
        {
          "output_type": "stream",
          "name": "stderr",
          "text": [
            "Glove-GRU K-100 Epoch 12/1000 - Train Loss: 2.0797, Test Loss: 2.1625, Train Acc: 20.67%, Test Acc: 16.18%, Test F1: 9.97%, Test Balanced Acc: 15.05%, Test Recall: 16.18%, Test Precision: 12.32%, Time: 1.00 sec:   1%|          | 12/1000 [00:13<18:35,  1.13s/epoch]"
          ]
        },
        {
          "output_type": "stream",
          "name": "stdout",
          "text": [
            "Early stopping triggered at epoch 13\n",
            "Model Glove-GRU_K-100 saved with loss gap > 1.25 or accuracy gap > 10% at epoch 12.\n"
          ]
        },
        {
          "output_type": "stream",
          "name": "stderr",
          "text": [
            "\n",
            "<ipython-input-11-35ba822a06f8>:44: UserWarning: To copy construct from a tensor, it is recommended to use sourceTensor.clone().detach() or sourceTensor.clone().detach().requires_grad_(True), rather than torch.tensor(sourceTensor).\n",
            "  self.X = torch.tensor(X_data, dtype=torch.long)\n",
            "<ipython-input-11-35ba822a06f8>:45: UserWarning: To copy construct from a tensor, it is recommended to use sourceTensor.clone().detach() or sourceTensor.clone().detach().requires_grad_(True), rather than torch.tensor(sourceTensor).\n",
            "  self.y = torch.tensor(y_data, dtype=torch.long)\n"
          ]
        },
        {
          "output_type": "display_data",
          "data": {
            "text/plain": [
              "<IPython.core.display.HTML object>"
            ],
            "text/html": []
          },
          "metadata": {}
        },
        {
          "output_type": "display_data",
          "data": {
            "text/plain": [
              "<IPython.core.display.HTML object>"
            ],
            "text/html": [
              "<br>    <style><br>        .wandb-row {<br>            display: flex;<br>            flex-direction: row;<br>            flex-wrap: wrap;<br>            justify-content: flex-start;<br>            width: 100%;<br>        }<br>        .wandb-col {<br>            display: flex;<br>            flex-direction: column;<br>            flex-basis: 100%;<br>            flex: 1;<br>            padding: 10px;<br>        }<br>    </style><br><div class=\"wandb-row\"><div class=\"wandb-col\"><h3>Run history:</h3><br/><table class=\"wandb\"><tr><td>epoch</td><td>▁▂▂▃▃▄▅▅▆▆▇▇█</td></tr><tr><td>k_shot</td><td>▁▁▁▁▁▁▁▁▁▁▁▁▁</td></tr><tr><td>test_acc</td><td>▂▂▂▃▁▁▄▃▄▃▄▇█</td></tr><tr><td>test_balanced_acc</td><td>▂▂▂▃▁▂▅▃▅█▆██</td></tr><tr><td>test_f1</td><td>▁▁▁▃▃▁▆▃▅▅▅██</td></tr><tr><td>test_loss</td><td>▆█▅▆▅▅▅▅▄▅▃▂▁</td></tr><tr><td>test_precision</td><td>▂█▂▆▁▃▁▄█▂▂▅▇</td></tr><tr><td>test_recall</td><td>▂▂▂▃▁▁▄▃▄▃▄▇█</td></tr><tr><td>train_acc</td><td>▁▂▁▁▂▂▂▁▂▃▄▆█</td></tr><tr><td>train_loss</td><td>██▇█▇▇▇▇▆▅▅▃▁</td></tr></table><br/></div><div class=\"wandb-col\"><h3>Run summary:</h3><br/><table class=\"wandb\"><tr><td>epoch</td><td>13</td></tr><tr><td>k_shot</td><td>100</td></tr><tr><td>test_acc</td><td>0.16592</td></tr><tr><td>test_balanced_acc</td><td>0.15365</td></tr><tr><td>test_f1</td><td>0.09858</td></tr><tr><td>test_loss</td><td>2.15241</td></tr><tr><td>test_precision</td><td>0.15046</td></tr><tr><td>test_recall</td><td>0.16592</td></tr><tr><td>train_acc</td><td>0.24778</td></tr><tr><td>train_loss</td><td>1.97841</td></tr></table><br/></div></div>"
            ]
          },
          "metadata": {}
        },
        {
          "output_type": "display_data",
          "data": {
            "text/plain": [
              "<IPython.core.display.HTML object>"
            ],
            "text/html": [
              " View run <strong style=\"color:#cdcd00\">Glove-GRU_K-100_Training</strong> at: <a href='https://wandb.ai/wilfried-mvomoeto-university-of-li-ge/Few-Shot-Training-Glove-GRU-/runs/48cdhnvd' target=\"_blank\">https://wandb.ai/wilfried-mvomoeto-university-of-li-ge/Few-Shot-Training-Glove-GRU-/runs/48cdhnvd</a><br> View project at: <a href='https://wandb.ai/wilfried-mvomoeto-university-of-li-ge/Few-Shot-Training-Glove-GRU-' target=\"_blank\">https://wandb.ai/wilfried-mvomoeto-university-of-li-ge/Few-Shot-Training-Glove-GRU-</a><br>Synced 5 W&B file(s), 0 media file(s), 0 artifact file(s) and 0 other file(s)"
            ]
          },
          "metadata": {}
        },
        {
          "output_type": "display_data",
          "data": {
            "text/plain": [
              "<IPython.core.display.HTML object>"
            ],
            "text/html": [
              "Find logs at: <code>./wandb/run-20250411_173124-48cdhnvd/logs</code>"
            ]
          },
          "metadata": {}
        },
        {
          "output_type": "display_data",
          "data": {
            "text/plain": [
              "<IPython.core.display.HTML object>"
            ],
            "text/html": [
              "Tracking run with wandb version 0.19.9"
            ]
          },
          "metadata": {}
        },
        {
          "output_type": "display_data",
          "data": {
            "text/plain": [
              "<IPython.core.display.HTML object>"
            ],
            "text/html": [
              "Run data is saved locally in <code>/content/wandb/run-20250411_173139-oy3dwav2</code>"
            ]
          },
          "metadata": {}
        },
        {
          "output_type": "display_data",
          "data": {
            "text/plain": [
              "<IPython.core.display.HTML object>"
            ],
            "text/html": [
              "Syncing run <strong><a href='https://wandb.ai/wilfried-mvomoeto-university-of-li-ge/Few-Shot-Training-Glove-GRU-Bahdanau-/runs/oy3dwav2' target=\"_blank\">Glove-GRU-Bahdanau_K-100_Training</a></strong> to <a href='https://wandb.ai/wilfried-mvomoeto-university-of-li-ge/Few-Shot-Training-Glove-GRU-Bahdanau-' target=\"_blank\">Weights & Biases</a> (<a href='https://wandb.me/developer-guide' target=\"_blank\">docs</a>)<br>"
            ]
          },
          "metadata": {}
        },
        {
          "output_type": "display_data",
          "data": {
            "text/plain": [
              "<IPython.core.display.HTML object>"
            ],
            "text/html": [
              " View project at <a href='https://wandb.ai/wilfried-mvomoeto-university-of-li-ge/Few-Shot-Training-Glove-GRU-Bahdanau-' target=\"_blank\">https://wandb.ai/wilfried-mvomoeto-university-of-li-ge/Few-Shot-Training-Glove-GRU-Bahdanau-</a>"
            ]
          },
          "metadata": {}
        },
        {
          "output_type": "display_data",
          "data": {
            "text/plain": [
              "<IPython.core.display.HTML object>"
            ],
            "text/html": [
              " View run at <a href='https://wandb.ai/wilfried-mvomoeto-university-of-li-ge/Few-Shot-Training-Glove-GRU-Bahdanau-/runs/oy3dwav2' target=\"_blank\">https://wandb.ai/wilfried-mvomoeto-university-of-li-ge/Few-Shot-Training-Glove-GRU-Bahdanau-/runs/oy3dwav2</a>"
            ]
          },
          "metadata": {}
        },
        {
          "output_type": "stream",
          "name": "stderr",
          "text": [
            "Glove-GRU-Bahdanau K-100 Epoch 27/1000 - Train Loss: 0.5830, Test Loss: 0.6753, Train Acc: 85.67%, Test Acc: 80.73%, Test F1: 81.33%, Test Balanced Acc: 81.11%, Test Recall: 80.73%, Test Precision: 82.45%, Time: 1.68 sec:   3%|▎         | 27/1000 [00:45<27:11,  1.68s/epoch]"
          ]
        },
        {
          "output_type": "stream",
          "name": "stdout",
          "text": [
            "Early stopping triggered at epoch 28\n",
            "Model Glove-GRU-Bahdanau_K-100 saved with loss gap > 1.25 or accuracy gap > 10% at epoch 27.\n",
            "\n",
            "Training with 150-shot...\n"
          ]
        },
        {
          "output_type": "stream",
          "name": "stderr",
          "text": [
            "\n",
            "<ipython-input-11-35ba822a06f8>:44: UserWarning: To copy construct from a tensor, it is recommended to use sourceTensor.clone().detach() or sourceTensor.clone().detach().requires_grad_(True), rather than torch.tensor(sourceTensor).\n",
            "  self.X = torch.tensor(X_data, dtype=torch.long)\n",
            "<ipython-input-11-35ba822a06f8>:45: UserWarning: To copy construct from a tensor, it is recommended to use sourceTensor.clone().detach() or sourceTensor.clone().detach().requires_grad_(True), rather than torch.tensor(sourceTensor).\n",
            "  self.y = torch.tensor(y_data, dtype=torch.long)\n"
          ]
        },
        {
          "output_type": "display_data",
          "data": {
            "text/plain": [
              "<IPython.core.display.HTML object>"
            ],
            "text/html": []
          },
          "metadata": {}
        },
        {
          "output_type": "display_data",
          "data": {
            "text/plain": [
              "<IPython.core.display.HTML object>"
            ],
            "text/html": [
              "<br>    <style><br>        .wandb-row {<br>            display: flex;<br>            flex-direction: row;<br>            flex-wrap: wrap;<br>            justify-content: flex-start;<br>            width: 100%;<br>        }<br>        .wandb-col {<br>            display: flex;<br>            flex-direction: column;<br>            flex-basis: 100%;<br>            flex: 1;<br>            padding: 10px;<br>        }<br>    </style><br><div class=\"wandb-row\"><div class=\"wandb-col\"><h3>Run history:</h3><br/><table class=\"wandb\"><tr><td>epoch</td><td>▁▁▂▂▂▂▃▃▃▃▄▄▄▄▅▅▅▅▆▆▆▆▇▇▇▇██</td></tr><tr><td>k_shot</td><td>▁▁▁▁▁▁▁▁▁▁▁▁▁▁▁▁▁▁▁▁▁▁▁▁▁▁▁▁</td></tr><tr><td>test_acc</td><td>▁▁▁▂▃▄▄▅▅▅▆▆▆▇▇▇▇███████████</td></tr><tr><td>test_balanced_acc</td><td>▁▁▁▂▃▄▅▅▅▆▆▆▆▇▇▇▇███████████</td></tr><tr><td>test_f1</td><td>▁▁▁▂▂▃▄▅▅▅▅▆▆▇▇▇▇███████████</td></tr><tr><td>test_loss</td><td>████▇▇▆▆▅▅▄▄▄▃▃▃▃▂▂▂▂▂▁▁▁▁▁▁</td></tr><tr><td>test_precision</td><td>▁▁▁▂▃▃▄▄▅▅▅▆▆▇▇▇▇███████████</td></tr><tr><td>test_recall</td><td>▁▁▁▂▃▄▄▅▅▅▆▆▆▇▇▇▇███████████</td></tr><tr><td>train_acc</td><td>▁▁▁▁▂▂▃▄▄▅▅▅▅▆▆▆▇▇▇▇▇▇▇█████</td></tr><tr><td>train_loss</td><td>████▇▇▇▆▅▅▅▄▄▄▃▃▃▃▃▂▂▂▂▁▁▁▁▁</td></tr></table><br/></div><div class=\"wandb-col\"><h3>Run summary:</h3><br/><table class=\"wandb\"><tr><td>epoch</td><td>28</td></tr><tr><td>k_shot</td><td>100</td></tr><tr><td>test_acc</td><td>0.80873</td></tr><tr><td>test_balanced_acc</td><td>0.81249</td></tr><tr><td>test_f1</td><td>0.81452</td></tr><tr><td>test_loss</td><td>0.66433</td></tr><tr><td>test_precision</td><td>0.8256</td></tr><tr><td>test_recall</td><td>0.80873</td></tr><tr><td>train_acc</td><td>0.86667</td></tr><tr><td>train_loss</td><td>0.57202</td></tr></table><br/></div></div>"
            ]
          },
          "metadata": {}
        },
        {
          "output_type": "display_data",
          "data": {
            "text/plain": [
              "<IPython.core.display.HTML object>"
            ],
            "text/html": [
              " View run <strong style=\"color:#cdcd00\">Glove-GRU-Bahdanau_K-100_Training</strong> at: <a href='https://wandb.ai/wilfried-mvomoeto-university-of-li-ge/Few-Shot-Training-Glove-GRU-Bahdanau-/runs/oy3dwav2' target=\"_blank\">https://wandb.ai/wilfried-mvomoeto-university-of-li-ge/Few-Shot-Training-Glove-GRU-Bahdanau-/runs/oy3dwav2</a><br> View project at: <a href='https://wandb.ai/wilfried-mvomoeto-university-of-li-ge/Few-Shot-Training-Glove-GRU-Bahdanau-' target=\"_blank\">https://wandb.ai/wilfried-mvomoeto-university-of-li-ge/Few-Shot-Training-Glove-GRU-Bahdanau-</a><br>Synced 5 W&B file(s), 0 media file(s), 0 artifact file(s) and 0 other file(s)"
            ]
          },
          "metadata": {}
        },
        {
          "output_type": "display_data",
          "data": {
            "text/plain": [
              "<IPython.core.display.HTML object>"
            ],
            "text/html": [
              "Find logs at: <code>./wandb/run-20250411_173139-oy3dwav2/logs</code>"
            ]
          },
          "metadata": {}
        },
        {
          "output_type": "display_data",
          "data": {
            "text/plain": [
              "<IPython.core.display.HTML object>"
            ],
            "text/html": [
              "Tracking run with wandb version 0.19.9"
            ]
          },
          "metadata": {}
        },
        {
          "output_type": "display_data",
          "data": {
            "text/plain": [
              "<IPython.core.display.HTML object>"
            ],
            "text/html": [
              "Run data is saved locally in <code>/content/wandb/run-20250411_173226-gchrq7bq</code>"
            ]
          },
          "metadata": {}
        },
        {
          "output_type": "display_data",
          "data": {
            "text/plain": [
              "<IPython.core.display.HTML object>"
            ],
            "text/html": [
              "Syncing run <strong><a href='https://wandb.ai/wilfried-mvomoeto-university-of-li-ge/Few-Shot-Training-CNN_LSTM-/runs/gchrq7bq' target=\"_blank\">CNN_LSTM_K-150_Training</a></strong> to <a href='https://wandb.ai/wilfried-mvomoeto-university-of-li-ge/Few-Shot-Training-CNN_LSTM-' target=\"_blank\">Weights & Biases</a> (<a href='https://wandb.me/developer-guide' target=\"_blank\">docs</a>)<br>"
            ]
          },
          "metadata": {}
        },
        {
          "output_type": "display_data",
          "data": {
            "text/plain": [
              "<IPython.core.display.HTML object>"
            ],
            "text/html": [
              " View project at <a href='https://wandb.ai/wilfried-mvomoeto-university-of-li-ge/Few-Shot-Training-CNN_LSTM-' target=\"_blank\">https://wandb.ai/wilfried-mvomoeto-university-of-li-ge/Few-Shot-Training-CNN_LSTM-</a>"
            ]
          },
          "metadata": {}
        },
        {
          "output_type": "display_data",
          "data": {
            "text/plain": [
              "<IPython.core.display.HTML object>"
            ],
            "text/html": [
              " View run at <a href='https://wandb.ai/wilfried-mvomoeto-university-of-li-ge/Few-Shot-Training-CNN_LSTM-/runs/gchrq7bq' target=\"_blank\">https://wandb.ai/wilfried-mvomoeto-university-of-li-ge/Few-Shot-Training-CNN_LSTM-/runs/gchrq7bq</a>"
            ]
          },
          "metadata": {}
        },
        {
          "output_type": "stream",
          "name": "stderr",
          "text": [
            "CNN_LSTM K-150 Epoch 46/1000 - Train Loss: 2.1286, Test Loss: 2.1972, Train Acc: 15.11%, Test Acc: 14.21%, Test F1: 5.33%, Test Balanced Acc: 14.85%, Test Recall: 14.21%, Test Precision: 10.35%, Time: 1.24 sec:   5%|▍         | 46/1000 [01:00<20:56,  1.32s/epoch]"
          ]
        },
        {
          "output_type": "stream",
          "name": "stdout",
          "text": [
            "Early stopping triggered at epoch 47\n",
            "Model CNN_LSTM_K-150 saved with loss gap > 1.25 or accuracy gap > 10% at epoch 46.\n"
          ]
        },
        {
          "output_type": "stream",
          "name": "stderr",
          "text": [
            "\n",
            "<ipython-input-11-35ba822a06f8>:44: UserWarning: To copy construct from a tensor, it is recommended to use sourceTensor.clone().detach() or sourceTensor.clone().detach().requires_grad_(True), rather than torch.tensor(sourceTensor).\n",
            "  self.X = torch.tensor(X_data, dtype=torch.long)\n",
            "<ipython-input-11-35ba822a06f8>:45: UserWarning: To copy construct from a tensor, it is recommended to use sourceTensor.clone().detach() or sourceTensor.clone().detach().requires_grad_(True), rather than torch.tensor(sourceTensor).\n",
            "  self.y = torch.tensor(y_data, dtype=torch.long)\n"
          ]
        },
        {
          "output_type": "display_data",
          "data": {
            "text/plain": [
              "<IPython.core.display.HTML object>"
            ],
            "text/html": []
          },
          "metadata": {}
        },
        {
          "output_type": "display_data",
          "data": {
            "text/plain": [
              "<IPython.core.display.HTML object>"
            ],
            "text/html": [
              "<br>    <style><br>        .wandb-row {<br>            display: flex;<br>            flex-direction: row;<br>            flex-wrap: wrap;<br>            justify-content: flex-start;<br>            width: 100%;<br>        }<br>        .wandb-col {<br>            display: flex;<br>            flex-direction: column;<br>            flex-basis: 100%;<br>            flex: 1;<br>            padding: 10px;<br>        }<br>    </style><br><div class=\"wandb-row\"><div class=\"wandb-col\"><h3>Run history:</h3><br/><table class=\"wandb\"><tr><td>epoch</td><td>▁▁▁▁▂▂▂▂▂▃▃▃▃▃▃▄▄▄▄▄▅▅▅▅▅▅▆▆▆▆▆▆▇▇▇▇▇███</td></tr><tr><td>k_shot</td><td>▁▁▁▁▁▁▁▁▁▁▁▁▁▁▁▁▁▁▁▁▁▁▁▁▁▁▁▁▁▁▁▁▁▁▁▁▁▁▁▁</td></tr><tr><td>test_acc</td><td>▇▇▇▁▇▆▇▆▆▆▆▆▆▇▆▆▇▆▅▅▇▅▆▆▆▇▆▇▃▅▅▅▅▆▇▇▇▇█▇</td></tr><tr><td>test_balanced_acc</td><td>▁▁▁▁▁▂▁▁▂▂▁▂▁▁▂▂▂▂▂▂▁▂▂▁▁▂▂▂▄▂▂▂▂▁▂▂▂▂█▄</td></tr><tr><td>test_f1</td><td>▄▃▄▁▄▃▄▃▃▄▃▃▃▄▄▄▄▄▃▃▄▃▄▄▄▄▄▅▄▄▃▃▃▄▄▄▄▄█▅</td></tr><tr><td>test_loss</td><td>▁▁▁▂▁▁▁▁▁▁▁▁▁▁▁▁▁▁▁▂▂▂▂▂▂▂▂▅█▂▃▂▂▂▂▃▂▂▆▁</td></tr><tr><td>test_precision</td><td>▂▁▃▁▃▅▄▄▄▄▃▄▆▃▄▃▃▃▇▄▅▅▆▆▆▆▃█▂▅▃▅▆▅█▃▃▅▇▇</td></tr><tr><td>test_recall</td><td>▇▇▇▁▇▆▇▆▆▆▆▆▆▇▆▆▇▆▅▅▇▅▆▆▆▇▆▇▃▅▅▅▅▆▇▇▇▇█▇</td></tr><tr><td>train_acc</td><td>▂▂▁▂▂▂▁▁▂▂▃▃▂▂▃▂▃▂▃▂▃▃▃▄▂▃▂▄▃▄▄▄▃▄▃▃▄▄▄█</td></tr><tr><td>train_loss</td><td>██▇▇▇▇▇▇▇▇▇▇▇▇▇▇▇▇▇▆▆▆▆▆▆▆▆▆▆▆▆▆▅▅▅▅▅▅▄▁</td></tr></table><br/></div><div class=\"wandb-col\"><h3>Run summary:</h3><br/><table class=\"wandb\"><tr><td>epoch</td><td>47</td></tr><tr><td>k_shot</td><td>150</td></tr><tr><td>test_acc</td><td>0.12642</td></tr><tr><td>test_balanced_acc</td><td>0.11846</td></tr><tr><td>test_f1</td><td>0.03781</td></tr><tr><td>test_loss</td><td>2.19843</td></tr><tr><td>test_precision</td><td>0.15807</td></tr><tr><td>test_recall</td><td>0.12642</td></tr><tr><td>train_acc</td><td>0.1837</td></tr><tr><td>train_loss</td><td>2.08461</td></tr></table><br/></div></div>"
            ]
          },
          "metadata": {}
        },
        {
          "output_type": "display_data",
          "data": {
            "text/plain": [
              "<IPython.core.display.HTML object>"
            ],
            "text/html": [
              " View run <strong style=\"color:#cdcd00\">CNN_LSTM_K-150_Training</strong> at: <a href='https://wandb.ai/wilfried-mvomoeto-university-of-li-ge/Few-Shot-Training-CNN_LSTM-/runs/gchrq7bq' target=\"_blank\">https://wandb.ai/wilfried-mvomoeto-university-of-li-ge/Few-Shot-Training-CNN_LSTM-/runs/gchrq7bq</a><br> View project at: <a href='https://wandb.ai/wilfried-mvomoeto-university-of-li-ge/Few-Shot-Training-CNN_LSTM-' target=\"_blank\">https://wandb.ai/wilfried-mvomoeto-university-of-li-ge/Few-Shot-Training-CNN_LSTM-</a><br>Synced 5 W&B file(s), 0 media file(s), 0 artifact file(s) and 0 other file(s)"
            ]
          },
          "metadata": {}
        },
        {
          "output_type": "display_data",
          "data": {
            "text/plain": [
              "<IPython.core.display.HTML object>"
            ],
            "text/html": [
              "Find logs at: <code>./wandb/run-20250411_173226-gchrq7bq/logs</code>"
            ]
          },
          "metadata": {}
        },
        {
          "output_type": "display_data",
          "data": {
            "text/plain": [
              "<IPython.core.display.HTML object>"
            ],
            "text/html": [
              "Tracking run with wandb version 0.19.9"
            ]
          },
          "metadata": {}
        },
        {
          "output_type": "display_data",
          "data": {
            "text/plain": [
              "<IPython.core.display.HTML object>"
            ],
            "text/html": [
              "Run data is saved locally in <code>/content/wandb/run-20250411_173328-psduolx4</code>"
            ]
          },
          "metadata": {}
        },
        {
          "output_type": "display_data",
          "data": {
            "text/plain": [
              "<IPython.core.display.HTML object>"
            ],
            "text/html": [
              "Syncing run <strong><a href='https://wandb.ai/wilfried-mvomoeto-university-of-li-ge/Few-Shot-Training-Glove-GRU-/runs/psduolx4' target=\"_blank\">Glove-GRU_K-150_Training</a></strong> to <a href='https://wandb.ai/wilfried-mvomoeto-university-of-li-ge/Few-Shot-Training-Glove-GRU-' target=\"_blank\">Weights & Biases</a> (<a href='https://wandb.me/developer-guide' target=\"_blank\">docs</a>)<br>"
            ]
          },
          "metadata": {}
        },
        {
          "output_type": "display_data",
          "data": {
            "text/plain": [
              "<IPython.core.display.HTML object>"
            ],
            "text/html": [
              " View project at <a href='https://wandb.ai/wilfried-mvomoeto-university-of-li-ge/Few-Shot-Training-Glove-GRU-' target=\"_blank\">https://wandb.ai/wilfried-mvomoeto-university-of-li-ge/Few-Shot-Training-Glove-GRU-</a>"
            ]
          },
          "metadata": {}
        },
        {
          "output_type": "display_data",
          "data": {
            "text/plain": [
              "<IPython.core.display.HTML object>"
            ],
            "text/html": [
              " View run at <a href='https://wandb.ai/wilfried-mvomoeto-university-of-li-ge/Few-Shot-Training-Glove-GRU-/runs/psduolx4' target=\"_blank\">https://wandb.ai/wilfried-mvomoeto-university-of-li-ge/Few-Shot-Training-Glove-GRU-/runs/psduolx4</a>"
            ]
          },
          "metadata": {}
        },
        {
          "output_type": "stream",
          "name": "stderr",
          "text": [
            "Glove-GRU K-150 Epoch 7/1000 - Train Loss: 2.0546, Test Loss: 2.1188, Train Acc: 23.93%, Test Acc: 20.30%, Test F1: 13.91%, Test Balanced Acc: 20.21%, Test Recall: 20.30%, Test Precision: 32.59%, Time: 1.24 sec:   1%|          | 7/1000 [00:10<24:15,  1.47s/epoch]"
          ]
        },
        {
          "output_type": "stream",
          "name": "stdout",
          "text": [
            "Early stopping triggered at epoch 8\n",
            "Model Glove-GRU_K-150 saved with loss gap > 1.25 or accuracy gap > 10% at epoch 7.\n"
          ]
        },
        {
          "output_type": "stream",
          "name": "stderr",
          "text": [
            "\n",
            "<ipython-input-11-35ba822a06f8>:44: UserWarning: To copy construct from a tensor, it is recommended to use sourceTensor.clone().detach() or sourceTensor.clone().detach().requires_grad_(True), rather than torch.tensor(sourceTensor).\n",
            "  self.X = torch.tensor(X_data, dtype=torch.long)\n",
            "<ipython-input-11-35ba822a06f8>:45: UserWarning: To copy construct from a tensor, it is recommended to use sourceTensor.clone().detach() or sourceTensor.clone().detach().requires_grad_(True), rather than torch.tensor(sourceTensor).\n",
            "  self.y = torch.tensor(y_data, dtype=torch.long)\n"
          ]
        },
        {
          "output_type": "display_data",
          "data": {
            "text/plain": [
              "<IPython.core.display.HTML object>"
            ],
            "text/html": []
          },
          "metadata": {}
        },
        {
          "output_type": "display_data",
          "data": {
            "text/plain": [
              "<IPython.core.display.HTML object>"
            ],
            "text/html": [
              "<br>    <style><br>        .wandb-row {<br>            display: flex;<br>            flex-direction: row;<br>            flex-wrap: wrap;<br>            justify-content: flex-start;<br>            width: 100%;<br>        }<br>        .wandb-col {<br>            display: flex;<br>            flex-direction: column;<br>            flex-basis: 100%;<br>            flex: 1;<br>            padding: 10px;<br>        }<br>    </style><br><div class=\"wandb-row\"><div class=\"wandb-col\"><h3>Run history:</h3><br/><table class=\"wandb\"><tr><td>epoch</td><td>▁▂▃▄▅▆▇█</td></tr><tr><td>k_shot</td><td>▁▁▁▁▁▁▁▁</td></tr><tr><td>test_acc</td><td>▁▁▁▂▂▄▆█</td></tr><tr><td>test_balanced_acc</td><td>▁▁▁▂▂▅▅█</td></tr><tr><td>test_f1</td><td>▁▂▁▂▂▄▅█</td></tr><tr><td>test_loss</td><td>██▇█▇▄▂▁</td></tr><tr><td>test_precision</td><td>▁▁▁▃▃▆█▇</td></tr><tr><td>test_recall</td><td>▁▁▁▂▂▄▆█</td></tr><tr><td>train_acc</td><td>▁▁▁▁▂▃▅█</td></tr><tr><td>train_loss</td><td>██▇▇▇▆▄▁</td></tr></table><br/></div><div class=\"wandb-col\"><h3>Run summary:</h3><br/><table class=\"wandb\"><tr><td>epoch</td><td>8</td></tr><tr><td>k_shot</td><td>150</td></tr><tr><td>test_acc</td><td>0.24819</td></tr><tr><td>test_balanced_acc</td><td>0.25363</td></tr><tr><td>test_f1</td><td>0.23273</td></tr><tr><td>test_loss</td><td>2.10512</td></tr><tr><td>test_precision</td><td>0.27907</td></tr><tr><td>test_recall</td><td>0.24819</td></tr><tr><td>train_acc</td><td>0.31852</td></tr><tr><td>train_loss</td><td>1.85378</td></tr></table><br/></div></div>"
            ]
          },
          "metadata": {}
        },
        {
          "output_type": "display_data",
          "data": {
            "text/plain": [
              "<IPython.core.display.HTML object>"
            ],
            "text/html": [
              " View run <strong style=\"color:#cdcd00\">Glove-GRU_K-150_Training</strong> at: <a href='https://wandb.ai/wilfried-mvomoeto-university-of-li-ge/Few-Shot-Training-Glove-GRU-/runs/psduolx4' target=\"_blank\">https://wandb.ai/wilfried-mvomoeto-university-of-li-ge/Few-Shot-Training-Glove-GRU-/runs/psduolx4</a><br> View project at: <a href='https://wandb.ai/wilfried-mvomoeto-university-of-li-ge/Few-Shot-Training-Glove-GRU-' target=\"_blank\">https://wandb.ai/wilfried-mvomoeto-university-of-li-ge/Few-Shot-Training-Glove-GRU-</a><br>Synced 5 W&B file(s), 0 media file(s), 0 artifact file(s) and 0 other file(s)"
            ]
          },
          "metadata": {}
        },
        {
          "output_type": "display_data",
          "data": {
            "text/plain": [
              "<IPython.core.display.HTML object>"
            ],
            "text/html": [
              "Find logs at: <code>./wandb/run-20250411_173328-psduolx4/logs</code>"
            ]
          },
          "metadata": {}
        },
        {
          "output_type": "display_data",
          "data": {
            "text/plain": [
              "<IPython.core.display.HTML object>"
            ],
            "text/html": [
              "Tracking run with wandb version 0.19.9"
            ]
          },
          "metadata": {}
        },
        {
          "output_type": "display_data",
          "data": {
            "text/plain": [
              "<IPython.core.display.HTML object>"
            ],
            "text/html": [
              "Run data is saved locally in <code>/content/wandb/run-20250411_173340-mof3o7ku</code>"
            ]
          },
          "metadata": {}
        },
        {
          "output_type": "display_data",
          "data": {
            "text/plain": [
              "<IPython.core.display.HTML object>"
            ],
            "text/html": [
              "Syncing run <strong><a href='https://wandb.ai/wilfried-mvomoeto-university-of-li-ge/Few-Shot-Training-Glove-GRU-Bahdanau-/runs/mof3o7ku' target=\"_blank\">Glove-GRU-Bahdanau_K-150_Training</a></strong> to <a href='https://wandb.ai/wilfried-mvomoeto-university-of-li-ge/Few-Shot-Training-Glove-GRU-Bahdanau-' target=\"_blank\">Weights & Biases</a> (<a href='https://wandb.me/developer-guide' target=\"_blank\">docs</a>)<br>"
            ]
          },
          "metadata": {}
        },
        {
          "output_type": "display_data",
          "data": {
            "text/plain": [
              "<IPython.core.display.HTML object>"
            ],
            "text/html": [
              " View project at <a href='https://wandb.ai/wilfried-mvomoeto-university-of-li-ge/Few-Shot-Training-Glove-GRU-Bahdanau-' target=\"_blank\">https://wandb.ai/wilfried-mvomoeto-university-of-li-ge/Few-Shot-Training-Glove-GRU-Bahdanau-</a>"
            ]
          },
          "metadata": {}
        },
        {
          "output_type": "display_data",
          "data": {
            "text/plain": [
              "<IPython.core.display.HTML object>"
            ],
            "text/html": [
              " View run at <a href='https://wandb.ai/wilfried-mvomoeto-university-of-li-ge/Few-Shot-Training-Glove-GRU-Bahdanau-/runs/mof3o7ku' target=\"_blank\">https://wandb.ai/wilfried-mvomoeto-university-of-li-ge/Few-Shot-Training-Glove-GRU-Bahdanau-/runs/mof3o7ku</a>"
            ]
          },
          "metadata": {}
        },
        {
          "output_type": "stream",
          "name": "stderr",
          "text": [
            "Glove-GRU-Bahdanau K-150 Epoch 22/1000 - Train Loss: 1.0765, Test Loss: 1.1993, Train Acc: 64.52%, Test Acc: 61.95%, Test F1: 62.80%, Test Balanced Acc: 61.33%, Test Recall: 61.95%, Test Precision: 65.77%, Time: 1.88 sec:   2%|▏         | 22/1000 [00:44<32:52,  2.02s/epoch]"
          ]
        },
        {
          "output_type": "stream",
          "name": "stdout",
          "text": [
            "Early stopping triggered at epoch 23\n",
            "Model Glove-GRU-Bahdanau_K-150 saved with loss gap > 1.25 or accuracy gap > 10% at epoch 22.\n",
            "\n",
            "Training with 200-shot...\n"
          ]
        },
        {
          "output_type": "stream",
          "name": "stderr",
          "text": [
            "\n",
            "<ipython-input-11-35ba822a06f8>:44: UserWarning: To copy construct from a tensor, it is recommended to use sourceTensor.clone().detach() or sourceTensor.clone().detach().requires_grad_(True), rather than torch.tensor(sourceTensor).\n",
            "  self.X = torch.tensor(X_data, dtype=torch.long)\n",
            "<ipython-input-11-35ba822a06f8>:45: UserWarning: To copy construct from a tensor, it is recommended to use sourceTensor.clone().detach() or sourceTensor.clone().detach().requires_grad_(True), rather than torch.tensor(sourceTensor).\n",
            "  self.y = torch.tensor(y_data, dtype=torch.long)\n"
          ]
        },
        {
          "output_type": "display_data",
          "data": {
            "text/plain": [
              "<IPython.core.display.HTML object>"
            ],
            "text/html": []
          },
          "metadata": {}
        },
        {
          "output_type": "display_data",
          "data": {
            "text/plain": [
              "<IPython.core.display.HTML object>"
            ],
            "text/html": [
              "<br>    <style><br>        .wandb-row {<br>            display: flex;<br>            flex-direction: row;<br>            flex-wrap: wrap;<br>            justify-content: flex-start;<br>            width: 100%;<br>        }<br>        .wandb-col {<br>            display: flex;<br>            flex-direction: column;<br>            flex-basis: 100%;<br>            flex: 1;<br>            padding: 10px;<br>        }<br>    </style><br><div class=\"wandb-row\"><div class=\"wandb-col\"><h3>Run history:</h3><br/><table class=\"wandb\"><tr><td>epoch</td><td>▁▁▂▂▂▃▃▃▄▄▄▅▅▅▅▆▆▆▇▇▇██</td></tr><tr><td>k_shot</td><td>▁▁▁▁▁▁▁▁▁▁▁▁▁▁▁▁▁▁▁▁▁▁▁</td></tr><tr><td>test_acc</td><td>▁▂▃▄▄▅▅▆▆▇▇▇▇▇█████████</td></tr><tr><td>test_balanced_acc</td><td>▁▂▃▄▅▅▅▆▆▇▇▇▇▇█████████</td></tr><tr><td>test_f1</td><td>▁▁▃▄▄▅▅▆▆▆▇▇▇▇█████████</td></tr><tr><td>test_loss</td><td>██▇▆▆▅▅▄▃▃▃▂▂▂▂▂▂▁▁▁▁▁▁</td></tr><tr><td>test_precision</td><td>▁▁▃▄▄▄▅▆▆▆▆▇▇▇▇▇▇██████</td></tr><tr><td>test_recall</td><td>▁▂▃▄▄▅▅▆▆▇▇▇▇▇█████████</td></tr><tr><td>train_acc</td><td>▁▁▁▂▃▄▄▅▅▆▆▆▆▇▇▇▇▇▇████</td></tr><tr><td>train_loss</td><td>███▇▆▅▅▅▄▄▃▃▃▃▂▂▂▂▂▁▁▁▁</td></tr></table><br/></div><div class=\"wandb-col\"><h3>Run summary:</h3><br/><table class=\"wandb\"><tr><td>epoch</td><td>23</td></tr><tr><td>k_shot</td><td>150</td></tr><tr><td>test_acc</td><td>0.61659</td></tr><tr><td>test_balanced_acc</td><td>0.6104</td></tr><tr><td>test_f1</td><td>0.62438</td></tr><tr><td>test_loss</td><td>1.19359</td></tr><tr><td>test_precision</td><td>0.65604</td></tr><tr><td>test_recall</td><td>0.61659</td></tr><tr><td>train_acc</td><td>0.67407</td></tr><tr><td>train_loss</td><td>1.01384</td></tr></table><br/></div></div>"
            ]
          },
          "metadata": {}
        },
        {
          "output_type": "display_data",
          "data": {
            "text/plain": [
              "<IPython.core.display.HTML object>"
            ],
            "text/html": [
              " View run <strong style=\"color:#cdcd00\">Glove-GRU-Bahdanau_K-150_Training</strong> at: <a href='https://wandb.ai/wilfried-mvomoeto-university-of-li-ge/Few-Shot-Training-Glove-GRU-Bahdanau-/runs/mof3o7ku' target=\"_blank\">https://wandb.ai/wilfried-mvomoeto-university-of-li-ge/Few-Shot-Training-Glove-GRU-Bahdanau-/runs/mof3o7ku</a><br> View project at: <a href='https://wandb.ai/wilfried-mvomoeto-university-of-li-ge/Few-Shot-Training-Glove-GRU-Bahdanau-' target=\"_blank\">https://wandb.ai/wilfried-mvomoeto-university-of-li-ge/Few-Shot-Training-Glove-GRU-Bahdanau-</a><br>Synced 5 W&B file(s), 0 media file(s), 0 artifact file(s) and 0 other file(s)"
            ]
          },
          "metadata": {}
        },
        {
          "output_type": "display_data",
          "data": {
            "text/plain": [
              "<IPython.core.display.HTML object>"
            ],
            "text/html": [
              "Find logs at: <code>./wandb/run-20250411_173340-mof3o7ku/logs</code>"
            ]
          },
          "metadata": {}
        },
        {
          "output_type": "display_data",
          "data": {
            "text/plain": [
              "<IPython.core.display.HTML object>"
            ],
            "text/html": [
              "Tracking run with wandb version 0.19.9"
            ]
          },
          "metadata": {}
        },
        {
          "output_type": "display_data",
          "data": {
            "text/plain": [
              "<IPython.core.display.HTML object>"
            ],
            "text/html": [
              "Run data is saved locally in <code>/content/wandb/run-20250411_173426-7a2ibepq</code>"
            ]
          },
          "metadata": {}
        },
        {
          "output_type": "display_data",
          "data": {
            "text/plain": [
              "<IPython.core.display.HTML object>"
            ],
            "text/html": [
              "Syncing run <strong><a href='https://wandb.ai/wilfried-mvomoeto-university-of-li-ge/Few-Shot-Training-CNN_LSTM-/runs/7a2ibepq' target=\"_blank\">CNN_LSTM_K-200_Training</a></strong> to <a href='https://wandb.ai/wilfried-mvomoeto-university-of-li-ge/Few-Shot-Training-CNN_LSTM-' target=\"_blank\">Weights & Biases</a> (<a href='https://wandb.me/developer-guide' target=\"_blank\">docs</a>)<br>"
            ]
          },
          "metadata": {}
        },
        {
          "output_type": "display_data",
          "data": {
            "text/plain": [
              "<IPython.core.display.HTML object>"
            ],
            "text/html": [
              " View project at <a href='https://wandb.ai/wilfried-mvomoeto-university-of-li-ge/Few-Shot-Training-CNN_LSTM-' target=\"_blank\">https://wandb.ai/wilfried-mvomoeto-university-of-li-ge/Few-Shot-Training-CNN_LSTM-</a>"
            ]
          },
          "metadata": {}
        },
        {
          "output_type": "display_data",
          "data": {
            "text/plain": [
              "<IPython.core.display.HTML object>"
            ],
            "text/html": [
              " View run at <a href='https://wandb.ai/wilfried-mvomoeto-university-of-li-ge/Few-Shot-Training-CNN_LSTM-/runs/7a2ibepq' target=\"_blank\">https://wandb.ai/wilfried-mvomoeto-university-of-li-ge/Few-Shot-Training-CNN_LSTM-/runs/7a2ibepq</a>"
            ]
          },
          "metadata": {}
        },
        {
          "output_type": "stream",
          "name": "stderr",
          "text": [
            "CNN_LSTM K-200 Epoch 47/1000 - Train Loss: 2.1790, Test Loss: 2.2025, Train Acc: 12.39%, Test Acc: 11.30%, Test F1: 2.58%, Test Balanced Acc: 11.00%, Test Recall: 11.30%, Test Precision: 7.15%, Time: 1.49 sec:   5%|▍         | 47/1000 [01:12<24:31,  1.54s/epoch]"
          ]
        },
        {
          "output_type": "stream",
          "name": "stdout",
          "text": [
            "Early stopping triggered at epoch 48\n",
            "Model CNN_LSTM_K-200 saved with loss gap > 1.25 or accuracy gap > 10% at epoch 47.\n"
          ]
        },
        {
          "output_type": "stream",
          "name": "stderr",
          "text": [
            "\n",
            "<ipython-input-11-35ba822a06f8>:44: UserWarning: To copy construct from a tensor, it is recommended to use sourceTensor.clone().detach() or sourceTensor.clone().detach().requires_grad_(True), rather than torch.tensor(sourceTensor).\n",
            "  self.X = torch.tensor(X_data, dtype=torch.long)\n",
            "<ipython-input-11-35ba822a06f8>:45: UserWarning: To copy construct from a tensor, it is recommended to use sourceTensor.clone().detach() or sourceTensor.clone().detach().requires_grad_(True), rather than torch.tensor(sourceTensor).\n",
            "  self.y = torch.tensor(y_data, dtype=torch.long)\n"
          ]
        },
        {
          "output_type": "display_data",
          "data": {
            "text/plain": [
              "<IPython.core.display.HTML object>"
            ],
            "text/html": []
          },
          "metadata": {}
        },
        {
          "output_type": "display_data",
          "data": {
            "text/plain": [
              "<IPython.core.display.HTML object>"
            ],
            "text/html": [
              "<br>    <style><br>        .wandb-row {<br>            display: flex;<br>            flex-direction: row;<br>            flex-wrap: wrap;<br>            justify-content: flex-start;<br>            width: 100%;<br>        }<br>        .wandb-col {<br>            display: flex;<br>            flex-direction: column;<br>            flex-basis: 100%;<br>            flex: 1;<br>            padding: 10px;<br>        }<br>    </style><br><div class=\"wandb-row\"><div class=\"wandb-col\"><h3>Run history:</h3><br/><table class=\"wandb\"><tr><td>epoch</td><td>▁▁▁▁▂▂▂▂▂▂▃▃▃▃▃▄▄▄▄▄▅▅▅▅▅▅▆▆▆▆▆▇▇▇▇▇▇███</td></tr><tr><td>k_shot</td><td>▁▁▁▁▁▁▁▁▁▁▁▁▁▁▁▁▁▁▁▁▁▁▁▁▁▁▁▁▁▁▁▁▁▁▁▁▁▁▁▁</td></tr><tr><td>test_acc</td><td>▇▇▇▇▇▇▇▇▇█▇▇▇▇▇▇█▇▇▇▇▇▇▇▇▇▇▇▇▇▇████▇▇█▇▁</td></tr><tr><td>test_balanced_acc</td><td>▅▅▅▃▃▃▃▂▃▃▃▄▃▃▃▃▂▃▂▃▃▂▁▁▁▃▂▅▃▃▄▆█▅▇▃▃▇▂▃</td></tr><tr><td>test_f1</td><td>▆▆▆▆▆▆▆▆▆▇▆▆▆▆▆▆▆▆▆▆▆▆▅▅▅▆▆▆▆▆▇▇██▇▇▆▇▆▁</td></tr><tr><td>test_loss</td><td>▁▁▁▁▁▁▁▁▁▁▁▁▁▁▁▁█▁▁▁▁▂▂▂▂▂▂▁▂▂▂▃▂▂▂▂▂▂▂▃</td></tr><tr><td>test_precision</td><td>▂▂▂▁▁▁▂▁▅█▄▅▅▃▆▅▁▁▂▂▂▁▃▃▁▄▃▄▄▃▅▄▂▆█▇▆▅▄▄</td></tr><tr><td>test_recall</td><td>▇▇▇▇▇▇▇▇▇█▇▇▇▇▇▇█▇▇▇▇▇▇▇▇▇▇▇▇▇▇████▇▇█▇▁</td></tr><tr><td>train_acc</td><td>▅▅▄▄▄▆▅▅▄▄▃▅▆▄▂▅█▂▄▅▁▅▅▃▄▂▄▅▅▂▅▆▇▇▅▅▆▇▇▇</td></tr><tr><td>train_loss</td><td>██▇▇▆▅▅▅▅▅▅▅▅▅▅▅▅▆▅▅▅▅▅▅▄▄▄▅▅▄▄▄▃▄▃▁▅▁▁▁</td></tr></table><br/></div><div class=\"wandb-col\"><h3>Run summary:</h3><br/><table class=\"wandb\"><tr><td>epoch</td><td>48</td></tr><tr><td>k_shot</td><td>200</td></tr><tr><td>test_acc</td><td>0.0683</td></tr><tr><td>test_balanced_acc</td><td>0.11109</td></tr><tr><td>test_f1</td><td>0.01093</td></tr><tr><td>test_loss</td><td>2.20528</td></tr><tr><td>test_precision</td><td>0.06681</td></tr><tr><td>test_recall</td><td>0.0683</td></tr><tr><td>train_acc</td><td>0.11944</td></tr><tr><td>train_loss</td><td>2.17888</td></tr></table><br/></div></div>"
            ]
          },
          "metadata": {}
        },
        {
          "output_type": "display_data",
          "data": {
            "text/plain": [
              "<IPython.core.display.HTML object>"
            ],
            "text/html": [
              " View run <strong style=\"color:#cdcd00\">CNN_LSTM_K-200_Training</strong> at: <a href='https://wandb.ai/wilfried-mvomoeto-university-of-li-ge/Few-Shot-Training-CNN_LSTM-/runs/7a2ibepq' target=\"_blank\">https://wandb.ai/wilfried-mvomoeto-university-of-li-ge/Few-Shot-Training-CNN_LSTM-/runs/7a2ibepq</a><br> View project at: <a href='https://wandb.ai/wilfried-mvomoeto-university-of-li-ge/Few-Shot-Training-CNN_LSTM-' target=\"_blank\">https://wandb.ai/wilfried-mvomoeto-university-of-li-ge/Few-Shot-Training-CNN_LSTM-</a><br>Synced 5 W&B file(s), 0 media file(s), 0 artifact file(s) and 0 other file(s)"
            ]
          },
          "metadata": {}
        },
        {
          "output_type": "display_data",
          "data": {
            "text/plain": [
              "<IPython.core.display.HTML object>"
            ],
            "text/html": [
              "Find logs at: <code>./wandb/run-20250411_173426-7a2ibepq/logs</code>"
            ]
          },
          "metadata": {}
        },
        {
          "output_type": "display_data",
          "data": {
            "text/plain": [
              "<IPython.core.display.HTML object>"
            ],
            "text/html": [
              "Tracking run with wandb version 0.19.9"
            ]
          },
          "metadata": {}
        },
        {
          "output_type": "display_data",
          "data": {
            "text/plain": [
              "<IPython.core.display.HTML object>"
            ],
            "text/html": [
              "Run data is saved locally in <code>/content/wandb/run-20250411_173540-8s8s3sxg</code>"
            ]
          },
          "metadata": {}
        },
        {
          "output_type": "display_data",
          "data": {
            "text/plain": [
              "<IPython.core.display.HTML object>"
            ],
            "text/html": [
              "Syncing run <strong><a href='https://wandb.ai/wilfried-mvomoeto-university-of-li-ge/Few-Shot-Training-Glove-GRU-/runs/8s8s3sxg' target=\"_blank\">Glove-GRU_K-200_Training</a></strong> to <a href='https://wandb.ai/wilfried-mvomoeto-university-of-li-ge/Few-Shot-Training-Glove-GRU-' target=\"_blank\">Weights & Biases</a> (<a href='https://wandb.me/developer-guide' target=\"_blank\">docs</a>)<br>"
            ]
          },
          "metadata": {}
        },
        {
          "output_type": "display_data",
          "data": {
            "text/plain": [
              "<IPython.core.display.HTML object>"
            ],
            "text/html": [
              " View project at <a href='https://wandb.ai/wilfried-mvomoeto-university-of-li-ge/Few-Shot-Training-Glove-GRU-' target=\"_blank\">https://wandb.ai/wilfried-mvomoeto-university-of-li-ge/Few-Shot-Training-Glove-GRU-</a>"
            ]
          },
          "metadata": {}
        },
        {
          "output_type": "display_data",
          "data": {
            "text/plain": [
              "<IPython.core.display.HTML object>"
            ],
            "text/html": [
              " View run at <a href='https://wandb.ai/wilfried-mvomoeto-university-of-li-ge/Few-Shot-Training-Glove-GRU-/runs/8s8s3sxg' target=\"_blank\">https://wandb.ai/wilfried-mvomoeto-university-of-li-ge/Few-Shot-Training-Glove-GRU-/runs/8s8s3sxg</a>"
            ]
          },
          "metadata": {}
        },
        {
          "output_type": "stream",
          "name": "stderr",
          "text": [
            "Glove-GRU K-200 Epoch 6/1000 - Train Loss: 2.1198, Test Loss: 2.1348, Train Acc: 18.11%, Test Acc: 17.32%, Test F1: 12.27%, Test Balanced Acc: 16.61%, Test Recall: 17.32%, Test Precision: 23.04%, Time: 1.46 sec:   1%|          | 6/1000 [00:10<29:36,  1.79s/epoch]"
          ]
        },
        {
          "output_type": "stream",
          "name": "stdout",
          "text": [
            "Early stopping triggered at epoch 7\n",
            "Model Glove-GRU_K-200 saved with loss gap > 1.25 or accuracy gap > 10% at epoch 6.\n"
          ]
        },
        {
          "output_type": "stream",
          "name": "stderr",
          "text": [
            "\n",
            "<ipython-input-11-35ba822a06f8>:44: UserWarning: To copy construct from a tensor, it is recommended to use sourceTensor.clone().detach() or sourceTensor.clone().detach().requires_grad_(True), rather than torch.tensor(sourceTensor).\n",
            "  self.X = torch.tensor(X_data, dtype=torch.long)\n",
            "<ipython-input-11-35ba822a06f8>:45: UserWarning: To copy construct from a tensor, it is recommended to use sourceTensor.clone().detach() or sourceTensor.clone().detach().requires_grad_(True), rather than torch.tensor(sourceTensor).\n",
            "  self.y = torch.tensor(y_data, dtype=torch.long)\n"
          ]
        },
        {
          "output_type": "display_data",
          "data": {
            "text/plain": [
              "<IPython.core.display.HTML object>"
            ],
            "text/html": []
          },
          "metadata": {}
        },
        {
          "output_type": "display_data",
          "data": {
            "text/plain": [
              "<IPython.core.display.HTML object>"
            ],
            "text/html": [
              "<br>    <style><br>        .wandb-row {<br>            display: flex;<br>            flex-direction: row;<br>            flex-wrap: wrap;<br>            justify-content: flex-start;<br>            width: 100%;<br>        }<br>        .wandb-col {<br>            display: flex;<br>            flex-direction: column;<br>            flex-basis: 100%;<br>            flex: 1;<br>            padding: 10px;<br>        }<br>    </style><br><div class=\"wandb-row\"><div class=\"wandb-col\"><h3>Run history:</h3><br/><table class=\"wandb\"><tr><td>epoch</td><td>▁▂▃▅▆▇█</td></tr><tr><td>k_shot</td><td>▁▁▁▁▁▁▁</td></tr><tr><td>test_acc</td><td>▁▂▁▄▁▄█</td></tr><tr><td>test_balanced_acc</td><td>▁▂▁▄▁▄█</td></tr><tr><td>test_f1</td><td>▁▄▁▄▁▅█</td></tr><tr><td>test_loss</td><td>█▇▇▇▅▃▁</td></tr><tr><td>test_precision</td><td>▁▁▃▃▄█▅</td></tr><tr><td>test_recall</td><td>▁▂▁▄▁▄█</td></tr><tr><td>train_acc</td><td>▁▁▁▂▂▄█</td></tr><tr><td>train_loss</td><td>█▇▇▆▆▄▁</td></tr></table><br/></div><div class=\"wandb-col\"><h3>Run summary:</h3><br/><table class=\"wandb\"><tr><td>epoch</td><td>7</td></tr><tr><td>k_shot</td><td>200</td></tr><tr><td>test_acc</td><td>0.23094</td></tr><tr><td>test_balanced_acc</td><td>0.23516</td></tr><tr><td>test_f1</td><td>0.18419</td></tr><tr><td>test_loss</td><td>2.10134</td></tr><tr><td>test_precision</td><td>0.17201</td></tr><tr><td>test_recall</td><td>0.23094</td></tr><tr><td>train_acc</td><td>0.28778</td></tr><tr><td>train_loss</td><td>1.91709</td></tr></table><br/></div></div>"
            ]
          },
          "metadata": {}
        },
        {
          "output_type": "display_data",
          "data": {
            "text/plain": [
              "<IPython.core.display.HTML object>"
            ],
            "text/html": [
              " View run <strong style=\"color:#cdcd00\">Glove-GRU_K-200_Training</strong> at: <a href='https://wandb.ai/wilfried-mvomoeto-university-of-li-ge/Few-Shot-Training-Glove-GRU-/runs/8s8s3sxg' target=\"_blank\">https://wandb.ai/wilfried-mvomoeto-university-of-li-ge/Few-Shot-Training-Glove-GRU-/runs/8s8s3sxg</a><br> View project at: <a href='https://wandb.ai/wilfried-mvomoeto-university-of-li-ge/Few-Shot-Training-Glove-GRU-' target=\"_blank\">https://wandb.ai/wilfried-mvomoeto-university-of-li-ge/Few-Shot-Training-Glove-GRU-</a><br>Synced 5 W&B file(s), 0 media file(s), 0 artifact file(s) and 0 other file(s)"
            ]
          },
          "metadata": {}
        },
        {
          "output_type": "display_data",
          "data": {
            "text/plain": [
              "<IPython.core.display.HTML object>"
            ],
            "text/html": [
              "Find logs at: <code>./wandb/run-20250411_173540-8s8s3sxg/logs</code>"
            ]
          },
          "metadata": {}
        },
        {
          "output_type": "display_data",
          "data": {
            "text/plain": [
              "<IPython.core.display.HTML object>"
            ],
            "text/html": [
              "Tracking run with wandb version 0.19.9"
            ]
          },
          "metadata": {}
        },
        {
          "output_type": "display_data",
          "data": {
            "text/plain": [
              "<IPython.core.display.HTML object>"
            ],
            "text/html": [
              "Run data is saved locally in <code>/content/wandb/run-20250411_173552-43h45eqa</code>"
            ]
          },
          "metadata": {}
        },
        {
          "output_type": "display_data",
          "data": {
            "text/plain": [
              "<IPython.core.display.HTML object>"
            ],
            "text/html": [
              "Syncing run <strong><a href='https://wandb.ai/wilfried-mvomoeto-university-of-li-ge/Few-Shot-Training-Glove-GRU-Bahdanau-/runs/43h45eqa' target=\"_blank\">Glove-GRU-Bahdanau_K-200_Training</a></strong> to <a href='https://wandb.ai/wilfried-mvomoeto-university-of-li-ge/Few-Shot-Training-Glove-GRU-Bahdanau-' target=\"_blank\">Weights & Biases</a> (<a href='https://wandb.me/developer-guide' target=\"_blank\">docs</a>)<br>"
            ]
          },
          "metadata": {}
        },
        {
          "output_type": "display_data",
          "data": {
            "text/plain": [
              "<IPython.core.display.HTML object>"
            ],
            "text/html": [
              " View project at <a href='https://wandb.ai/wilfried-mvomoeto-university-of-li-ge/Few-Shot-Training-Glove-GRU-Bahdanau-' target=\"_blank\">https://wandb.ai/wilfried-mvomoeto-university-of-li-ge/Few-Shot-Training-Glove-GRU-Bahdanau-</a>"
            ]
          },
          "metadata": {}
        },
        {
          "output_type": "display_data",
          "data": {
            "text/plain": [
              "<IPython.core.display.HTML object>"
            ],
            "text/html": [
              " View run at <a href='https://wandb.ai/wilfried-mvomoeto-university-of-li-ge/Few-Shot-Training-Glove-GRU-Bahdanau-/runs/43h45eqa' target=\"_blank\">https://wandb.ai/wilfried-mvomoeto-university-of-li-ge/Few-Shot-Training-Glove-GRU-Bahdanau-/runs/43h45eqa</a>"
            ]
          },
          "metadata": {}
        },
        {
          "output_type": "stream",
          "name": "stderr",
          "text": [
            "Glove-GRU-Bahdanau K-200 Epoch 17/1000 - Train Loss: 0.8582, Test Loss: 0.9602, Train Acc: 75.17%, Test Acc: 71.32%, Test F1: 72.11%, Test Balanced Acc: 72.18%, Test Recall: 71.32%, Test Precision: 74.18%, Time: 2.20 sec:   2%|▏         | 17/1000 [00:40<38:56,  2.38s/epoch]"
          ]
        },
        {
          "output_type": "stream",
          "name": "stdout",
          "text": [
            "Early stopping triggered at epoch 18\n",
            "Model Glove-GRU-Bahdanau_K-200 saved with loss gap > 1.25 or accuracy gap > 10% at epoch 17.\n",
            "\n",
            "Training with 400-shot...\n"
          ]
        },
        {
          "output_type": "stream",
          "name": "stderr",
          "text": [
            "\n",
            "<ipython-input-11-35ba822a06f8>:44: UserWarning: To copy construct from a tensor, it is recommended to use sourceTensor.clone().detach() or sourceTensor.clone().detach().requires_grad_(True), rather than torch.tensor(sourceTensor).\n",
            "  self.X = torch.tensor(X_data, dtype=torch.long)\n",
            "<ipython-input-11-35ba822a06f8>:45: UserWarning: To copy construct from a tensor, it is recommended to use sourceTensor.clone().detach() or sourceTensor.clone().detach().requires_grad_(True), rather than torch.tensor(sourceTensor).\n",
            "  self.y = torch.tensor(y_data, dtype=torch.long)\n"
          ]
        },
        {
          "output_type": "display_data",
          "data": {
            "text/plain": [
              "<IPython.core.display.HTML object>"
            ],
            "text/html": []
          },
          "metadata": {}
        },
        {
          "output_type": "display_data",
          "data": {
            "text/plain": [
              "<IPython.core.display.HTML object>"
            ],
            "text/html": [
              "<br>    <style><br>        .wandb-row {<br>            display: flex;<br>            flex-direction: row;<br>            flex-wrap: wrap;<br>            justify-content: flex-start;<br>            width: 100%;<br>        }<br>        .wandb-col {<br>            display: flex;<br>            flex-direction: column;<br>            flex-basis: 100%;<br>            flex: 1;<br>            padding: 10px;<br>        }<br>    </style><br><div class=\"wandb-row\"><div class=\"wandb-col\"><h3>Run history:</h3><br/><table class=\"wandb\"><tr><td>epoch</td><td>▁▁▂▂▃▃▃▄▄▅▅▆▆▆▇▇██</td></tr><tr><td>k_shot</td><td>▁▁▁▁▁▁▁▁▁▁▁▁▁▁▁▁▁▁</td></tr><tr><td>test_acc</td><td>▁▃▄▄▅▅▆▆▆▆▇▇██████</td></tr><tr><td>test_balanced_acc</td><td>▁▃▄▄▅▆▆▆▆▆▇▇██████</td></tr><tr><td>test_f1</td><td>▁▂▃▄▅▅▆▆▆▆▇▇██████</td></tr><tr><td>test_loss</td><td>█▇▆▆▅▄▄▄▃▃▃▂▂▂▁▁▁▁</td></tr><tr><td>test_precision</td><td>▁▂▃▄▅▅▆▆▆▆▇▇██████</td></tr><tr><td>test_recall</td><td>▁▃▄▄▅▅▆▆▆▆▇▇██████</td></tr><tr><td>train_acc</td><td>▁▂▃▃▄▄▅▅▆▆▆▆▇▇████</td></tr><tr><td>train_loss</td><td>██▇▆▅▅▄▄▄▃▃▃▂▂▂▁▁▁</td></tr></table><br/></div><div class=\"wandb-col\"><h3>Run summary:</h3><br/><table class=\"wandb\"><tr><td>epoch</td><td>18</td></tr><tr><td>k_shot</td><td>200</td></tr><tr><td>test_acc</td><td>0.71128</td></tr><tr><td>test_balanced_acc</td><td>0.72044</td></tr><tr><td>test_f1</td><td>0.71939</td></tr><tr><td>test_loss</td><td>0.94736</td></tr><tr><td>test_precision</td><td>0.73917</td></tr><tr><td>test_recall</td><td>0.71128</td></tr><tr><td>train_acc</td><td>0.76556</td></tr><tr><td>train_loss</td><td>0.82284</td></tr></table><br/></div></div>"
            ]
          },
          "metadata": {}
        },
        {
          "output_type": "display_data",
          "data": {
            "text/plain": [
              "<IPython.core.display.HTML object>"
            ],
            "text/html": [
              " View run <strong style=\"color:#cdcd00\">Glove-GRU-Bahdanau_K-200_Training</strong> at: <a href='https://wandb.ai/wilfried-mvomoeto-university-of-li-ge/Few-Shot-Training-Glove-GRU-Bahdanau-/runs/43h45eqa' target=\"_blank\">https://wandb.ai/wilfried-mvomoeto-university-of-li-ge/Few-Shot-Training-Glove-GRU-Bahdanau-/runs/43h45eqa</a><br> View project at: <a href='https://wandb.ai/wilfried-mvomoeto-university-of-li-ge/Few-Shot-Training-Glove-GRU-Bahdanau-' target=\"_blank\">https://wandb.ai/wilfried-mvomoeto-university-of-li-ge/Few-Shot-Training-Glove-GRU-Bahdanau-</a><br>Synced 5 W&B file(s), 0 media file(s), 0 artifact file(s) and 0 other file(s)"
            ]
          },
          "metadata": {}
        },
        {
          "output_type": "display_data",
          "data": {
            "text/plain": [
              "<IPython.core.display.HTML object>"
            ],
            "text/html": [
              "Find logs at: <code>./wandb/run-20250411_173552-43h45eqa/logs</code>"
            ]
          },
          "metadata": {}
        },
        {
          "output_type": "display_data",
          "data": {
            "text/plain": [
              "<IPython.core.display.HTML object>"
            ],
            "text/html": [
              "Tracking run with wandb version 0.19.9"
            ]
          },
          "metadata": {}
        },
        {
          "output_type": "display_data",
          "data": {
            "text/plain": [
              "<IPython.core.display.HTML object>"
            ],
            "text/html": [
              "Run data is saved locally in <code>/content/wandb/run-20250411_173634-89984wkl</code>"
            ]
          },
          "metadata": {}
        },
        {
          "output_type": "display_data",
          "data": {
            "text/plain": [
              "<IPython.core.display.HTML object>"
            ],
            "text/html": [
              "Syncing run <strong><a href='https://wandb.ai/wilfried-mvomoeto-university-of-li-ge/Few-Shot-Training-CNN_LSTM-/runs/89984wkl' target=\"_blank\">CNN_LSTM_K-400_Training</a></strong> to <a href='https://wandb.ai/wilfried-mvomoeto-university-of-li-ge/Few-Shot-Training-CNN_LSTM-' target=\"_blank\">Weights & Biases</a> (<a href='https://wandb.me/developer-guide' target=\"_blank\">docs</a>)<br>"
            ]
          },
          "metadata": {}
        },
        {
          "output_type": "display_data",
          "data": {
            "text/plain": [
              "<IPython.core.display.HTML object>"
            ],
            "text/html": [
              " View project at <a href='https://wandb.ai/wilfried-mvomoeto-university-of-li-ge/Few-Shot-Training-CNN_LSTM-' target=\"_blank\">https://wandb.ai/wilfried-mvomoeto-university-of-li-ge/Few-Shot-Training-CNN_LSTM-</a>"
            ]
          },
          "metadata": {}
        },
        {
          "output_type": "display_data",
          "data": {
            "text/plain": [
              "<IPython.core.display.HTML object>"
            ],
            "text/html": [
              " View run at <a href='https://wandb.ai/wilfried-mvomoeto-university-of-li-ge/Few-Shot-Training-CNN_LSTM-/runs/89984wkl' target=\"_blank\">https://wandb.ai/wilfried-mvomoeto-university-of-li-ge/Few-Shot-Training-CNN_LSTM-/runs/89984wkl</a>"
            ]
          },
          "metadata": {}
        },
        {
          "output_type": "stream",
          "name": "stderr",
          "text": [
            "CNN_LSTM K-400 Epoch 85/1000 - Train Loss: 2.1592, Test Loss: 2.2214, Train Acc: 11.50%, Test Acc: 11.21%, Test F1: 2.67%, Test Balanced Acc: 10.90%, Test Recall: 11.21%, Test Precision: 6.00%, Time: 2.31 sec:   8%|▊         | 85/1000 [03:21<36:09,  2.37s/epoch]"
          ]
        },
        {
          "output_type": "stream",
          "name": "stdout",
          "text": [
            "Early stopping triggered at epoch 86\n",
            "Model CNN_LSTM_K-400 saved with loss gap > 1.25 or accuracy gap > 10% at epoch 85.\n"
          ]
        },
        {
          "output_type": "stream",
          "name": "stderr",
          "text": [
            "\n",
            "<ipython-input-11-35ba822a06f8>:44: UserWarning: To copy construct from a tensor, it is recommended to use sourceTensor.clone().detach() or sourceTensor.clone().detach().requires_grad_(True), rather than torch.tensor(sourceTensor).\n",
            "  self.X = torch.tensor(X_data, dtype=torch.long)\n",
            "<ipython-input-11-35ba822a06f8>:45: UserWarning: To copy construct from a tensor, it is recommended to use sourceTensor.clone().detach() or sourceTensor.clone().detach().requires_grad_(True), rather than torch.tensor(sourceTensor).\n",
            "  self.y = torch.tensor(y_data, dtype=torch.long)\n"
          ]
        },
        {
          "output_type": "display_data",
          "data": {
            "text/plain": [
              "<IPython.core.display.HTML object>"
            ],
            "text/html": []
          },
          "metadata": {}
        },
        {
          "output_type": "display_data",
          "data": {
            "text/plain": [
              "<IPython.core.display.HTML object>"
            ],
            "text/html": [
              "<br>    <style><br>        .wandb-row {<br>            display: flex;<br>            flex-direction: row;<br>            flex-wrap: wrap;<br>            justify-content: flex-start;<br>            width: 100%;<br>        }<br>        .wandb-col {<br>            display: flex;<br>            flex-direction: column;<br>            flex-basis: 100%;<br>            flex: 1;<br>            padding: 10px;<br>        }<br>    </style><br><div class=\"wandb-row\"><div class=\"wandb-col\"><h3>Run history:</h3><br/><table class=\"wandb\"><tr><td>epoch</td><td>▁▁▁▁▁▂▂▂▂▃▃▃▃▃▄▄▄▅▅▅▅▅▆▆▆▆▆▆▆▆▇▇▇▇▇▇████</td></tr><tr><td>k_shot</td><td>▁▁▁▁▁▁▁▁▁▁▁▁▁▁▁▁▁▁▁▁▁▁▁▁▁▁▁▁▁▁▁▁▁▁▁▁▁▁▁▁</td></tr><tr><td>test_acc</td><td>████▆▁▇██▇█▇█▁█▇█▇████▇█▁█▇█▆██▇█▆██▇▆▇▇</td></tr><tr><td>test_balanced_acc</td><td>▄▃▃▄▃▃▃▂▃▄▂▃▁▃▄▄▂▃▃▂▄▄▄▄▄▅▄▄▅▆▄▃▄▅█▆▇▄█▆</td></tr><tr><td>test_f1</td><td>▅▅▅▅▅▁▅▄▅▅▆▁▁▅▁▅▅▅▆▆▆▃▆▆▆▆▆▂▆▆▆▄▅▇▆▆██▆▃</td></tr><tr><td>test_loss</td><td>▁▁▁▁▂▂▂▂▂▂▃▂▃▂▂▂▃▃▂▃▂▄▄▄▃▃▄▃▃▄▄▆▄▄█▄▇▅▆▆</td></tr><tr><td>test_precision</td><td>▁▃▁▂▃▂▂▂▂▂▁▃▁▂▂▃▄▃▆▃▄▅▅▄▅▆▆▄▅▅▆█▅▃▆▅▅▄▅▅</td></tr><tr><td>test_recall</td><td>███▇█████▁█▁█▇██▇█▇▇██▁█▇█▁▇█▇███▆█▇█▆▇▁</td></tr><tr><td>train_acc</td><td>▃▃▃▄▅▄▄▁▄▅▅▄▅▃▅▄▆▇▆▇▇▅▅▄▄▆▅▇▅▇▄▆▆▅▆▆█▇█▇</td></tr><tr><td>train_loss</td><td>██▇▅▅▅▅▅▅▅▅▅▄▅▅▄▄▄▄▃▃▃▃▃▅▃▃▂▂▂▁▂▁▁▂▁▁▂▂▂</td></tr></table><br/></div><div class=\"wandb-col\"><h3>Run summary:</h3><br/><table class=\"wandb\"><tr><td>epoch</td><td>86</td></tr><tr><td>k_shot</td><td>400</td></tr><tr><td>test_acc</td><td>0.07106</td></tr><tr><td>test_balanced_acc</td><td>0.11308</td></tr><tr><td>test_f1</td><td>0.01809</td></tr><tr><td>test_loss</td><td>2.22731</td></tr><tr><td>test_precision</td><td>0.16413</td></tr><tr><td>test_recall</td><td>0.07106</td></tr><tr><td>train_acc</td><td>0.1275</td></tr><tr><td>train_loss</td><td>2.1671</td></tr></table><br/></div></div>"
            ]
          },
          "metadata": {}
        },
        {
          "output_type": "display_data",
          "data": {
            "text/plain": [
              "<IPython.core.display.HTML object>"
            ],
            "text/html": [
              " View run <strong style=\"color:#cdcd00\">CNN_LSTM_K-400_Training</strong> at: <a href='https://wandb.ai/wilfried-mvomoeto-university-of-li-ge/Few-Shot-Training-CNN_LSTM-/runs/89984wkl' target=\"_blank\">https://wandb.ai/wilfried-mvomoeto-university-of-li-ge/Few-Shot-Training-CNN_LSTM-/runs/89984wkl</a><br> View project at: <a href='https://wandb.ai/wilfried-mvomoeto-university-of-li-ge/Few-Shot-Training-CNN_LSTM-' target=\"_blank\">https://wandb.ai/wilfried-mvomoeto-university-of-li-ge/Few-Shot-Training-CNN_LSTM-</a><br>Synced 5 W&B file(s), 0 media file(s), 0 artifact file(s) and 0 other file(s)"
            ]
          },
          "metadata": {}
        },
        {
          "output_type": "display_data",
          "data": {
            "text/plain": [
              "<IPython.core.display.HTML object>"
            ],
            "text/html": [
              "Find logs at: <code>./wandb/run-20250411_173634-89984wkl/logs</code>"
            ]
          },
          "metadata": {}
        },
        {
          "output_type": "display_data",
          "data": {
            "text/plain": [
              "<IPython.core.display.HTML object>"
            ],
            "text/html": [
              "Tracking run with wandb version 0.19.9"
            ]
          },
          "metadata": {}
        },
        {
          "output_type": "display_data",
          "data": {
            "text/plain": [
              "<IPython.core.display.HTML object>"
            ],
            "text/html": [
              "Run data is saved locally in <code>/content/wandb/run-20250411_173957-0zz9nt69</code>"
            ]
          },
          "metadata": {}
        },
        {
          "output_type": "display_data",
          "data": {
            "text/plain": [
              "<IPython.core.display.HTML object>"
            ],
            "text/html": [
              "Syncing run <strong><a href='https://wandb.ai/wilfried-mvomoeto-university-of-li-ge/Few-Shot-Training-Glove-GRU-/runs/0zz9nt69' target=\"_blank\">Glove-GRU_K-400_Training</a></strong> to <a href='https://wandb.ai/wilfried-mvomoeto-university-of-li-ge/Few-Shot-Training-Glove-GRU-' target=\"_blank\">Weights & Biases</a> (<a href='https://wandb.me/developer-guide' target=\"_blank\">docs</a>)<br>"
            ]
          },
          "metadata": {}
        },
        {
          "output_type": "display_data",
          "data": {
            "text/plain": [
              "<IPython.core.display.HTML object>"
            ],
            "text/html": [
              " View project at <a href='https://wandb.ai/wilfried-mvomoeto-university-of-li-ge/Few-Shot-Training-Glove-GRU-' target=\"_blank\">https://wandb.ai/wilfried-mvomoeto-university-of-li-ge/Few-Shot-Training-Glove-GRU-</a>"
            ]
          },
          "metadata": {}
        },
        {
          "output_type": "display_data",
          "data": {
            "text/plain": [
              "<IPython.core.display.HTML object>"
            ],
            "text/html": [
              " View run at <a href='https://wandb.ai/wilfried-mvomoeto-university-of-li-ge/Few-Shot-Training-Glove-GRU-/runs/0zz9nt69' target=\"_blank\">https://wandb.ai/wilfried-mvomoeto-university-of-li-ge/Few-Shot-Training-Glove-GRU-/runs/0zz9nt69</a>"
            ]
          },
          "metadata": {}
        },
        {
          "output_type": "stream",
          "name": "stderr",
          "text": [
            "Glove-GRU K-400 Epoch 1/1000 - Train Loss: 2.2839, Test Loss: 2.2025, Train Acc: 11.64%, Test Acc: 11.59%, Test F1: 2.50%, Test Balanced Acc: 11.13%, Test Recall: 11.59%, Test Precision: 20.39%, Time: 2.34 sec:   0%|          | 1/1000 [00:04<1:22:27,  4.95s/epoch]"
          ]
        },
        {
          "output_type": "stream",
          "name": "stdout",
          "text": [
            "Early stopping triggered at epoch 2\n",
            "Model Glove-GRU_K-400 saved with loss gap > 1.25 or accuracy gap > 10% at epoch 1.\n"
          ]
        },
        {
          "output_type": "stream",
          "name": "stderr",
          "text": [
            "\n",
            "<ipython-input-11-35ba822a06f8>:44: UserWarning: To copy construct from a tensor, it is recommended to use sourceTensor.clone().detach() or sourceTensor.clone().detach().requires_grad_(True), rather than torch.tensor(sourceTensor).\n",
            "  self.X = torch.tensor(X_data, dtype=torch.long)\n",
            "<ipython-input-11-35ba822a06f8>:45: UserWarning: To copy construct from a tensor, it is recommended to use sourceTensor.clone().detach() or sourceTensor.clone().detach().requires_grad_(True), rather than torch.tensor(sourceTensor).\n",
            "  self.y = torch.tensor(y_data, dtype=torch.long)\n"
          ]
        },
        {
          "output_type": "display_data",
          "data": {
            "text/plain": [
              "<IPython.core.display.HTML object>"
            ],
            "text/html": []
          },
          "metadata": {}
        },
        {
          "output_type": "display_data",
          "data": {
            "text/plain": [
              "<IPython.core.display.HTML object>"
            ],
            "text/html": [
              "<br>    <style><br>        .wandb-row {<br>            display: flex;<br>            flex-direction: row;<br>            flex-wrap: wrap;<br>            justify-content: flex-start;<br>            width: 100%;<br>        }<br>        .wandb-col {<br>            display: flex;<br>            flex-direction: column;<br>            flex-basis: 100%;<br>            flex: 1;<br>            padding: 10px;<br>        }<br>    </style><br><div class=\"wandb-row\"><div class=\"wandb-col\"><h3>Run history:</h3><br/><table class=\"wandb\"><tr><td>epoch</td><td>▁█</td></tr><tr><td>k_shot</td><td>▁▁</td></tr><tr><td>test_acc</td><td>█▁</td></tr><tr><td>test_balanced_acc</td><td>█▁</td></tr><tr><td>test_f1</td><td>█▁</td></tr><tr><td>test_loss</td><td>▁█</td></tr><tr><td>test_precision</td><td>█▁</td></tr><tr><td>test_recall</td><td>█▁</td></tr><tr><td>train_acc</td><td>▁█</td></tr><tr><td>train_loss</td><td>█▁</td></tr></table><br/></div><div class=\"wandb-col\"><h3>Run summary:</h3><br/><table class=\"wandb\"><tr><td>epoch</td><td>2</td></tr><tr><td>k_shot</td><td>400</td></tr><tr><td>test_acc</td><td>0.06795</td></tr><tr><td>test_balanced_acc</td><td>0.11103</td></tr><tr><td>test_f1</td><td>0.00962</td></tr><tr><td>test_loss</td><td>2.22643</td></tr><tr><td>test_precision</td><td>0.19508</td></tr><tr><td>test_recall</td><td>0.06795</td></tr><tr><td>train_acc</td><td>0.12139</td></tr><tr><td>train_loss</td><td>2.26123</td></tr></table><br/></div></div>"
            ]
          },
          "metadata": {}
        },
        {
          "output_type": "display_data",
          "data": {
            "text/plain": [
              "<IPython.core.display.HTML object>"
            ],
            "text/html": [
              " View run <strong style=\"color:#cdcd00\">Glove-GRU_K-400_Training</strong> at: <a href='https://wandb.ai/wilfried-mvomoeto-university-of-li-ge/Few-Shot-Training-Glove-GRU-/runs/0zz9nt69' target=\"_blank\">https://wandb.ai/wilfried-mvomoeto-university-of-li-ge/Few-Shot-Training-Glove-GRU-/runs/0zz9nt69</a><br> View project at: <a href='https://wandb.ai/wilfried-mvomoeto-university-of-li-ge/Few-Shot-Training-Glove-GRU-' target=\"_blank\">https://wandb.ai/wilfried-mvomoeto-university-of-li-ge/Few-Shot-Training-Glove-GRU-</a><br>Synced 5 W&B file(s), 0 media file(s), 0 artifact file(s) and 0 other file(s)"
            ]
          },
          "metadata": {}
        },
        {
          "output_type": "display_data",
          "data": {
            "text/plain": [
              "<IPython.core.display.HTML object>"
            ],
            "text/html": [
              "Find logs at: <code>./wandb/run-20250411_173957-0zz9nt69/logs</code>"
            ]
          },
          "metadata": {}
        },
        {
          "output_type": "display_data",
          "data": {
            "text/plain": [
              "<IPython.core.display.HTML object>"
            ],
            "text/html": [
              "Tracking run with wandb version 0.19.9"
            ]
          },
          "metadata": {}
        },
        {
          "output_type": "display_data",
          "data": {
            "text/plain": [
              "<IPython.core.display.HTML object>"
            ],
            "text/html": [
              "Run data is saved locally in <code>/content/wandb/run-20250411_174004-8pijvwoy</code>"
            ]
          },
          "metadata": {}
        },
        {
          "output_type": "display_data",
          "data": {
            "text/plain": [
              "<IPython.core.display.HTML object>"
            ],
            "text/html": [
              "Syncing run <strong><a href='https://wandb.ai/wilfried-mvomoeto-university-of-li-ge/Few-Shot-Training-Glove-GRU-Bahdanau-/runs/8pijvwoy' target=\"_blank\">Glove-GRU-Bahdanau_K-400_Training</a></strong> to <a href='https://wandb.ai/wilfried-mvomoeto-university-of-li-ge/Few-Shot-Training-Glove-GRU-Bahdanau-' target=\"_blank\">Weights & Biases</a> (<a href='https://wandb.me/developer-guide' target=\"_blank\">docs</a>)<br>"
            ]
          },
          "metadata": {}
        },
        {
          "output_type": "display_data",
          "data": {
            "text/plain": [
              "<IPython.core.display.HTML object>"
            ],
            "text/html": [
              " View project at <a href='https://wandb.ai/wilfried-mvomoeto-university-of-li-ge/Few-Shot-Training-Glove-GRU-Bahdanau-' target=\"_blank\">https://wandb.ai/wilfried-mvomoeto-university-of-li-ge/Few-Shot-Training-Glove-GRU-Bahdanau-</a>"
            ]
          },
          "metadata": {}
        },
        {
          "output_type": "display_data",
          "data": {
            "text/plain": [
              "<IPython.core.display.HTML object>"
            ],
            "text/html": [
              " View run at <a href='https://wandb.ai/wilfried-mvomoeto-university-of-li-ge/Few-Shot-Training-Glove-GRU-Bahdanau-/runs/8pijvwoy' target=\"_blank\">https://wandb.ai/wilfried-mvomoeto-university-of-li-ge/Few-Shot-Training-Glove-GRU-Bahdanau-/runs/8pijvwoy</a>"
            ]
          },
          "metadata": {}
        },
        {
          "output_type": "stream",
          "name": "stderr",
          "text": [
            "Glove-GRU-Bahdanau K-400 Epoch 16/1000 - Train Loss: 0.3705, Test Loss: 0.4396, Train Acc: 89.19%, Test Acc: 86.31%, Test F1: 86.58%, Test Balanced Acc: 86.74%, Test Recall: 86.31%, Test Precision: 87.41%, Time: 3.51 sec:   2%|▏         | 16/1000 [00:59<1:00:50,  3.71s/epoch]"
          ]
        },
        {
          "output_type": "stream",
          "name": "stdout",
          "text": [
            "Early stopping triggered at epoch 17\n",
            "Model Glove-GRU-Bahdanau_K-400 saved with loss gap > 1.25 or accuracy gap > 10% at epoch 16.\n",
            "\n",
            "Training with 600-shot...\n"
          ]
        },
        {
          "output_type": "stream",
          "name": "stderr",
          "text": [
            "\n",
            "<ipython-input-11-35ba822a06f8>:44: UserWarning: To copy construct from a tensor, it is recommended to use sourceTensor.clone().detach() or sourceTensor.clone().detach().requires_grad_(True), rather than torch.tensor(sourceTensor).\n",
            "  self.X = torch.tensor(X_data, dtype=torch.long)\n",
            "<ipython-input-11-35ba822a06f8>:45: UserWarning: To copy construct from a tensor, it is recommended to use sourceTensor.clone().detach() or sourceTensor.clone().detach().requires_grad_(True), rather than torch.tensor(sourceTensor).\n",
            "  self.y = torch.tensor(y_data, dtype=torch.long)\n"
          ]
        },
        {
          "output_type": "display_data",
          "data": {
            "text/plain": [
              "<IPython.core.display.HTML object>"
            ],
            "text/html": []
          },
          "metadata": {}
        },
        {
          "output_type": "display_data",
          "data": {
            "text/plain": [
              "<IPython.core.display.HTML object>"
            ],
            "text/html": [
              "<br>    <style><br>        .wandb-row {<br>            display: flex;<br>            flex-direction: row;<br>            flex-wrap: wrap;<br>            justify-content: flex-start;<br>            width: 100%;<br>        }<br>        .wandb-col {<br>            display: flex;<br>            flex-direction: column;<br>            flex-basis: 100%;<br>            flex: 1;<br>            padding: 10px;<br>        }<br>    </style><br><div class=\"wandb-row\"><div class=\"wandb-col\"><h3>Run history:</h3><br/><table class=\"wandb\"><tr><td>epoch</td><td>▁▁▂▂▃▃▄▄▅▅▅▆▆▇▇██</td></tr><tr><td>k_shot</td><td>▁▁▁▁▁▁▁▁▁▁▁▁▁▁▁▁▁</td></tr><tr><td>test_acc</td><td>▁▄▆▇▇████████████</td></tr><tr><td>test_balanced_acc</td><td>▁▄▆▇▇████████████</td></tr><tr><td>test_f1</td><td>▁▄▆▇▇████████████</td></tr><tr><td>test_loss</td><td>█▆▄▃▃▂▁▁▁▁▁▁▁▁▁▁▁</td></tr><tr><td>test_precision</td><td>▁▄▆▇▇████████████</td></tr><tr><td>test_recall</td><td>▁▄▆▇▇████████████</td></tr><tr><td>train_acc</td><td>▁▂▅▆▆▇███████████</td></tr><tr><td>train_loss</td><td>█▇▅▄▃▃▂▂▂▁▁▁▁▁▁▁▁</td></tr></table><br/></div><div class=\"wandb-col\"><h3>Run summary:</h3><br/><table class=\"wandb\"><tr><td>epoch</td><td>17</td></tr><tr><td>k_shot</td><td>400</td></tr><tr><td>test_acc</td><td>0.8615</td></tr><tr><td>test_balanced_acc</td><td>0.86599</td></tr><tr><td>test_f1</td><td>0.86413</td></tr><tr><td>test_loss</td><td>0.45051</td></tr><tr><td>test_precision</td><td>0.87158</td></tr><tr><td>test_recall</td><td>0.8615</td></tr><tr><td>train_acc</td><td>0.895</td></tr><tr><td>train_loss</td><td>0.3604</td></tr></table><br/></div></div>"
            ]
          },
          "metadata": {}
        },
        {
          "output_type": "display_data",
          "data": {
            "text/plain": [
              "<IPython.core.display.HTML object>"
            ],
            "text/html": [
              " View run <strong style=\"color:#cdcd00\">Glove-GRU-Bahdanau_K-400_Training</strong> at: <a href='https://wandb.ai/wilfried-mvomoeto-university-of-li-ge/Few-Shot-Training-Glove-GRU-Bahdanau-/runs/8pijvwoy' target=\"_blank\">https://wandb.ai/wilfried-mvomoeto-university-of-li-ge/Few-Shot-Training-Glove-GRU-Bahdanau-/runs/8pijvwoy</a><br> View project at: <a href='https://wandb.ai/wilfried-mvomoeto-university-of-li-ge/Few-Shot-Training-Glove-GRU-Bahdanau-' target=\"_blank\">https://wandb.ai/wilfried-mvomoeto-university-of-li-ge/Few-Shot-Training-Glove-GRU-Bahdanau-</a><br>Synced 5 W&B file(s), 0 media file(s), 0 artifact file(s) and 0 other file(s)"
            ]
          },
          "metadata": {}
        },
        {
          "output_type": "display_data",
          "data": {
            "text/plain": [
              "<IPython.core.display.HTML object>"
            ],
            "text/html": [
              "Find logs at: <code>./wandb/run-20250411_174004-8pijvwoy/logs</code>"
            ]
          },
          "metadata": {}
        },
        {
          "output_type": "display_data",
          "data": {
            "text/plain": [
              "<IPython.core.display.HTML object>"
            ],
            "text/html": [
              "Tracking run with wandb version 0.19.9"
            ]
          },
          "metadata": {}
        },
        {
          "output_type": "display_data",
          "data": {
            "text/plain": [
              "<IPython.core.display.HTML object>"
            ],
            "text/html": [
              "Run data is saved locally in <code>/content/wandb/run-20250411_174105-oft4khui</code>"
            ]
          },
          "metadata": {}
        },
        {
          "output_type": "display_data",
          "data": {
            "text/plain": [
              "<IPython.core.display.HTML object>"
            ],
            "text/html": [
              "Syncing run <strong><a href='https://wandb.ai/wilfried-mvomoeto-university-of-li-ge/Few-Shot-Training-CNN_LSTM-/runs/oft4khui' target=\"_blank\">CNN_LSTM_K-600_Training</a></strong> to <a href='https://wandb.ai/wilfried-mvomoeto-university-of-li-ge/Few-Shot-Training-CNN_LSTM-' target=\"_blank\">Weights & Biases</a> (<a href='https://wandb.me/developer-guide' target=\"_blank\">docs</a>)<br>"
            ]
          },
          "metadata": {}
        },
        {
          "output_type": "display_data",
          "data": {
            "text/plain": [
              "<IPython.core.display.HTML object>"
            ],
            "text/html": [
              " View project at <a href='https://wandb.ai/wilfried-mvomoeto-university-of-li-ge/Few-Shot-Training-CNN_LSTM-' target=\"_blank\">https://wandb.ai/wilfried-mvomoeto-university-of-li-ge/Few-Shot-Training-CNN_LSTM-</a>"
            ]
          },
          "metadata": {}
        },
        {
          "output_type": "display_data",
          "data": {
            "text/plain": [
              "<IPython.core.display.HTML object>"
            ],
            "text/html": [
              " View run at <a href='https://wandb.ai/wilfried-mvomoeto-university-of-li-ge/Few-Shot-Training-CNN_LSTM-/runs/oft4khui' target=\"_blank\">https://wandb.ai/wilfried-mvomoeto-university-of-li-ge/Few-Shot-Training-CNN_LSTM-/runs/oft4khui</a>"
            ]
          },
          "metadata": {}
        },
        {
          "output_type": "stream",
          "name": "stderr",
          "text": [
            "CNN_LSTM K-600 Epoch 27/1000 - Train Loss: 2.1863, Test Loss: 2.2016, Train Acc: 10.91%, Test Acc: 11.97%, Test F1: 2.97%, Test Balanced Acc: 11.28%, Test Recall: 11.97%, Test Precision: 15.35%, Time: 3.24 sec:   3%|▎         | 27/1000 [01:29<53:43,  3.31s/epoch]"
          ]
        },
        {
          "output_type": "stream",
          "name": "stdout",
          "text": [
            "Early stopping triggered at epoch 28\n",
            "Model CNN_LSTM_K-600 saved with loss gap > 1.25 or accuracy gap > 10% at epoch 27.\n"
          ]
        },
        {
          "output_type": "stream",
          "name": "stderr",
          "text": [
            "\n",
            "<ipython-input-11-35ba822a06f8>:44: UserWarning: To copy construct from a tensor, it is recommended to use sourceTensor.clone().detach() or sourceTensor.clone().detach().requires_grad_(True), rather than torch.tensor(sourceTensor).\n",
            "  self.X = torch.tensor(X_data, dtype=torch.long)\n",
            "<ipython-input-11-35ba822a06f8>:45: UserWarning: To copy construct from a tensor, it is recommended to use sourceTensor.clone().detach() or sourceTensor.clone().detach().requires_grad_(True), rather than torch.tensor(sourceTensor).\n",
            "  self.y = torch.tensor(y_data, dtype=torch.long)\n"
          ]
        },
        {
          "output_type": "display_data",
          "data": {
            "text/plain": [
              "<IPython.core.display.HTML object>"
            ],
            "text/html": []
          },
          "metadata": {}
        },
        {
          "output_type": "display_data",
          "data": {
            "text/plain": [
              "<IPython.core.display.HTML object>"
            ],
            "text/html": [
              "<br>    <style><br>        .wandb-row {<br>            display: flex;<br>            flex-direction: row;<br>            flex-wrap: wrap;<br>            justify-content: flex-start;<br>            width: 100%;<br>        }<br>        .wandb-col {<br>            display: flex;<br>            flex-direction: column;<br>            flex-basis: 100%;<br>            flex: 1;<br>            padding: 10px;<br>        }<br>    </style><br><div class=\"wandb-row\"><div class=\"wandb-col\"><h3>Run history:</h3><br/><table class=\"wandb\"><tr><td>epoch</td><td>▁▁▂▂▂▂▃▃▃▃▄▄▄▄▅▅▅▅▆▆▆▆▇▇▇▇██</td></tr><tr><td>k_shot</td><td>▁▁▁▁▁▁▁▁▁▁▁▁▁▁▁▁▁▁▁▁▁▁▁▁▁▁▁▁</td></tr><tr><td>test_acc</td><td>█▇▇▆▇▇▇▇▇▆▇▁█▇▁▇▆▇▇█▁▁▇█▇▁█▁</td></tr><tr><td>test_balanced_acc</td><td>▅▅▃▅▄▅▄▄▄▅▃▂▃▃▁▃▄▂▅▄▃▇▆▄▅▄█▁</td></tr><tr><td>test_f1</td><td>▃▃▃▂▃▃▃▃▃▃▃▁▃▃▁▃▂▃▃▃▁▁▃▄█▁▄▁</td></tr><tr><td>test_loss</td><td>▁▄▁▃▂▃▄▃▄▄▄▅▅▆█▇▆▇▅▄▇█▄▅▆▇▆▇</td></tr><tr><td>test_precision</td><td>▅▂▁▄▄▆▃▅▄▂▆▄▃▆▄▃▂▂▃█▃▄▄▃▃▄▅▃</td></tr><tr><td>test_recall</td><td>█▇▇▆▇▇▇▇▇▆▇▁█▇▁▇▆▇▇█▁▁▇█▇▁█▁</td></tr><tr><td>train_acc</td><td>▂▂▃▂▁▃▄▅▃▅▅▆▄▄▅▆▄▅▅▇▇▆▅▅▇▆▄█</td></tr><tr><td>train_loss</td><td>▄▄▃▃▃▂▂▂▂▂▂▁▁▁▁▁▁▁▁▁▁▁█▁▁▁▁▁</td></tr></table><br/></div><div class=\"wandb-col\"><h3>Run summary:</h3><br/><table class=\"wandb\"><tr><td>epoch</td><td>28</td></tr><tr><td>k_shot</td><td>600</td></tr><tr><td>test_acc</td><td>0.0683</td></tr><tr><td>test_balanced_acc</td><td>0.1106</td></tr><tr><td>test_f1</td><td>0.01253</td></tr><tr><td>test_loss</td><td>2.20234</td></tr><tr><td>test_precision</td><td>0.07045</td></tr><tr><td>test_recall</td><td>0.0683</td></tr><tr><td>train_acc</td><td>0.11907</td></tr><tr><td>train_loss</td><td>2.18555</td></tr></table><br/></div></div>"
            ]
          },
          "metadata": {}
        },
        {
          "output_type": "display_data",
          "data": {
            "text/plain": [
              "<IPython.core.display.HTML object>"
            ],
            "text/html": [
              " View run <strong style=\"color:#cdcd00\">CNN_LSTM_K-600_Training</strong> at: <a href='https://wandb.ai/wilfried-mvomoeto-university-of-li-ge/Few-Shot-Training-CNN_LSTM-/runs/oft4khui' target=\"_blank\">https://wandb.ai/wilfried-mvomoeto-university-of-li-ge/Few-Shot-Training-CNN_LSTM-/runs/oft4khui</a><br> View project at: <a href='https://wandb.ai/wilfried-mvomoeto-university-of-li-ge/Few-Shot-Training-CNN_LSTM-' target=\"_blank\">https://wandb.ai/wilfried-mvomoeto-university-of-li-ge/Few-Shot-Training-CNN_LSTM-</a><br>Synced 5 W&B file(s), 0 media file(s), 0 artifact file(s) and 0 other file(s)"
            ]
          },
          "metadata": {}
        },
        {
          "output_type": "display_data",
          "data": {
            "text/plain": [
              "<IPython.core.display.HTML object>"
            ],
            "text/html": [
              "Find logs at: <code>./wandb/run-20250411_174105-oft4khui/logs</code>"
            ]
          },
          "metadata": {}
        },
        {
          "output_type": "display_data",
          "data": {
            "text/plain": [
              "<IPython.core.display.HTML object>"
            ],
            "text/html": [
              "Tracking run with wandb version 0.19.9"
            ]
          },
          "metadata": {}
        },
        {
          "output_type": "display_data",
          "data": {
            "text/plain": [
              "<IPython.core.display.HTML object>"
            ],
            "text/html": [
              "Run data is saved locally in <code>/content/wandb/run-20250411_174236-5lhwexmv</code>"
            ]
          },
          "metadata": {}
        },
        {
          "output_type": "display_data",
          "data": {
            "text/plain": [
              "<IPython.core.display.HTML object>"
            ],
            "text/html": [
              "Syncing run <strong><a href='https://wandb.ai/wilfried-mvomoeto-university-of-li-ge/Few-Shot-Training-Glove-GRU-/runs/5lhwexmv' target=\"_blank\">Glove-GRU_K-600_Training</a></strong> to <a href='https://wandb.ai/wilfried-mvomoeto-university-of-li-ge/Few-Shot-Training-Glove-GRU-' target=\"_blank\">Weights & Biases</a> (<a href='https://wandb.me/developer-guide' target=\"_blank\">docs</a>)<br>"
            ]
          },
          "metadata": {}
        },
        {
          "output_type": "display_data",
          "data": {
            "text/plain": [
              "<IPython.core.display.HTML object>"
            ],
            "text/html": [
              " View project at <a href='https://wandb.ai/wilfried-mvomoeto-university-of-li-ge/Few-Shot-Training-Glove-GRU-' target=\"_blank\">https://wandb.ai/wilfried-mvomoeto-university-of-li-ge/Few-Shot-Training-Glove-GRU-</a>"
            ]
          },
          "metadata": {}
        },
        {
          "output_type": "display_data",
          "data": {
            "text/plain": [
              "<IPython.core.display.HTML object>"
            ],
            "text/html": [
              " View run at <a href='https://wandb.ai/wilfried-mvomoeto-university-of-li-ge/Few-Shot-Training-Glove-GRU-/runs/5lhwexmv' target=\"_blank\">https://wandb.ai/wilfried-mvomoeto-university-of-li-ge/Few-Shot-Training-Glove-GRU-/runs/5lhwexmv</a>"
            ]
          },
          "metadata": {}
        },
        {
          "output_type": "stream",
          "name": "stderr",
          "text": [
            "Glove-GRU K-600 Epoch 6/1000 - Train Loss: 1.1780, Test Loss: 1.0601, Train Acc: 57.91%, Test Acc: 65.76%, Test F1: 61.58%, Test Balanced Acc: 67.17%, Test Recall: 65.76%, Test Precision: 65.89%, Time: 3.25 sec:   1%|          | 6/1000 [00:23<1:04:44,  3.91s/epoch]"
          ]
        },
        {
          "output_type": "stream",
          "name": "stdout",
          "text": [
            "Early stopping triggered at epoch 7\n",
            "Model Glove-GRU_K-600 saved with loss gap > 1.25 or accuracy gap > 10% at epoch 6.\n"
          ]
        },
        {
          "output_type": "stream",
          "name": "stderr",
          "text": [
            "\n",
            "<ipython-input-11-35ba822a06f8>:44: UserWarning: To copy construct from a tensor, it is recommended to use sourceTensor.clone().detach() or sourceTensor.clone().detach().requires_grad_(True), rather than torch.tensor(sourceTensor).\n",
            "  self.X = torch.tensor(X_data, dtype=torch.long)\n",
            "<ipython-input-11-35ba822a06f8>:45: UserWarning: To copy construct from a tensor, it is recommended to use sourceTensor.clone().detach() or sourceTensor.clone().detach().requires_grad_(True), rather than torch.tensor(sourceTensor).\n",
            "  self.y = torch.tensor(y_data, dtype=torch.long)\n"
          ]
        },
        {
          "output_type": "display_data",
          "data": {
            "text/plain": [
              "<IPython.core.display.HTML object>"
            ],
            "text/html": []
          },
          "metadata": {}
        },
        {
          "output_type": "display_data",
          "data": {
            "text/plain": [
              "<IPython.core.display.HTML object>"
            ],
            "text/html": [
              "<br>    <style><br>        .wandb-row {<br>            display: flex;<br>            flex-direction: row;<br>            flex-wrap: wrap;<br>            justify-content: flex-start;<br>            width: 100%;<br>        }<br>        .wandb-col {<br>            display: flex;<br>            flex-direction: column;<br>            flex-basis: 100%;<br>            flex: 1;<br>            padding: 10px;<br>        }<br>    </style><br><div class=\"wandb-row\"><div class=\"wandb-col\"><h3>Run history:</h3><br/><table class=\"wandb\"><tr><td>epoch</td><td>▁▂▃▅▆▇█</td></tr><tr><td>k_shot</td><td>▁▁▁▁▁▁▁</td></tr><tr><td>test_acc</td><td>▁▁▂▃▅▇█</td></tr><tr><td>test_balanced_acc</td><td>▁▁▂▃▅▇█</td></tr><tr><td>test_f1</td><td>▁▁▂▂▅▇█</td></tr><tr><td>test_loss</td><td>███▆▅▂▁</td></tr><tr><td>test_precision</td><td>▂▁▂▃▅▇█</td></tr><tr><td>test_recall</td><td>▁▁▂▃▅▇█</td></tr><tr><td>train_acc</td><td>▁▁▁▂▄▆█</td></tr><tr><td>train_loss</td><td>███▇▅▃▁</td></tr></table><br/></div><div class=\"wandb-col\"><h3>Run summary:</h3><br/><table class=\"wandb\"><tr><td>epoch</td><td>7</td></tr><tr><td>k_shot</td><td>600</td></tr><tr><td>test_acc</td><td>0.7068</td></tr><tr><td>test_balanced_acc</td><td>0.71785</td></tr><tr><td>test_f1</td><td>0.69085</td></tr><tr><td>test_loss</td><td>0.88667</td></tr><tr><td>test_precision</td><td>0.72045</td></tr><tr><td>test_recall</td><td>0.7068</td></tr><tr><td>train_acc</td><td>0.7637</td></tr><tr><td>train_loss</td><td>0.74108</td></tr></table><br/></div></div>"
            ]
          },
          "metadata": {}
        },
        {
          "output_type": "display_data",
          "data": {
            "text/plain": [
              "<IPython.core.display.HTML object>"
            ],
            "text/html": [
              " View run <strong style=\"color:#cdcd00\">Glove-GRU_K-600_Training</strong> at: <a href='https://wandb.ai/wilfried-mvomoeto-university-of-li-ge/Few-Shot-Training-Glove-GRU-/runs/5lhwexmv' target=\"_blank\">https://wandb.ai/wilfried-mvomoeto-university-of-li-ge/Few-Shot-Training-Glove-GRU-/runs/5lhwexmv</a><br> View project at: <a href='https://wandb.ai/wilfried-mvomoeto-university-of-li-ge/Few-Shot-Training-Glove-GRU-' target=\"_blank\">https://wandb.ai/wilfried-mvomoeto-university-of-li-ge/Few-Shot-Training-Glove-GRU-</a><br>Synced 5 W&B file(s), 0 media file(s), 0 artifact file(s) and 0 other file(s)"
            ]
          },
          "metadata": {}
        },
        {
          "output_type": "display_data",
          "data": {
            "text/plain": [
              "<IPython.core.display.HTML object>"
            ],
            "text/html": [
              "Find logs at: <code>./wandb/run-20250411_174236-5lhwexmv/logs</code>"
            ]
          },
          "metadata": {}
        },
        {
          "output_type": "display_data",
          "data": {
            "text/plain": [
              "<IPython.core.display.HTML object>"
            ],
            "text/html": [
              "Tracking run with wandb version 0.19.9"
            ]
          },
          "metadata": {}
        },
        {
          "output_type": "display_data",
          "data": {
            "text/plain": [
              "<IPython.core.display.HTML object>"
            ],
            "text/html": [
              "Run data is saved locally in <code>/content/wandb/run-20250411_174302-7hp1zx3t</code>"
            ]
          },
          "metadata": {}
        },
        {
          "output_type": "display_data",
          "data": {
            "text/plain": [
              "<IPython.core.display.HTML object>"
            ],
            "text/html": [
              "Syncing run <strong><a href='https://wandb.ai/wilfried-mvomoeto-university-of-li-ge/Few-Shot-Training-Glove-GRU-Bahdanau-/runs/7hp1zx3t' target=\"_blank\">Glove-GRU-Bahdanau_K-600_Training</a></strong> to <a href='https://wandb.ai/wilfried-mvomoeto-university-of-li-ge/Few-Shot-Training-Glove-GRU-Bahdanau-' target=\"_blank\">Weights & Biases</a> (<a href='https://wandb.me/developer-guide' target=\"_blank\">docs</a>)<br>"
            ]
          },
          "metadata": {}
        },
        {
          "output_type": "display_data",
          "data": {
            "text/plain": [
              "<IPython.core.display.HTML object>"
            ],
            "text/html": [
              " View project at <a href='https://wandb.ai/wilfried-mvomoeto-university-of-li-ge/Few-Shot-Training-Glove-GRU-Bahdanau-' target=\"_blank\">https://wandb.ai/wilfried-mvomoeto-university-of-li-ge/Few-Shot-Training-Glove-GRU-Bahdanau-</a>"
            ]
          },
          "metadata": {}
        },
        {
          "output_type": "display_data",
          "data": {
            "text/plain": [
              "<IPython.core.display.HTML object>"
            ],
            "text/html": [
              " View run at <a href='https://wandb.ai/wilfried-mvomoeto-university-of-li-ge/Few-Shot-Training-Glove-GRU-Bahdanau-/runs/7hp1zx3t' target=\"_blank\">https://wandb.ai/wilfried-mvomoeto-university-of-li-ge/Few-Shot-Training-Glove-GRU-Bahdanau-/runs/7hp1zx3t</a>"
            ]
          },
          "metadata": {}
        },
        {
          "output_type": "stream",
          "name": "stderr",
          "text": [
            "Glove-GRU-Bahdanau K-600 Epoch 13/1000 - Train Loss: 0.4434, Test Loss: 0.5261, Train Acc: 87.54%, Test Acc: 84.89%, Test F1: 85.56%, Test Balanced Acc: 84.76%, Test Recall: 84.89%, Test Precision: 87.25%, Time: 4.70 sec:   1%|▏         | 13/1000 [01:06<1:24:25,  5.13s/epoch]"
          ]
        },
        {
          "output_type": "stream",
          "name": "stdout",
          "text": [
            "Early stopping triggered at epoch 14\n",
            "Model Glove-GRU-Bahdanau_K-600 saved with loss gap > 1.25 or accuracy gap > 10% at epoch 13.\n"
          ]
        },
        {
          "output_type": "stream",
          "name": "stderr",
          "text": [
            "\n"
          ]
        }
      ]
    },
    {
      "cell_type": "code",
      "source": [
        "plot_max_metrics(model_metrics, k_values)"
      ],
      "metadata": {
        "id": "rjTNKdFumABf",
        "colab": {
          "base_uri": "https://localhost:8080/",
          "height": 601
        },
        "outputId": "d8cf0612-4ad2-44bf-fc98-b8bec4970510"
      },
      "execution_count": null,
      "outputs": [
        {
          "output_type": "display_data",
          "data": {
            "text/plain": [
              "<Figure size 1600x600 with 4 Axes>"
            ],
            "image/png": "[encoded data removed]"
          },
          "metadata": {}
        }
      ]
    },
    {
      "cell_type": "markdown",
      "source": [
        "---\n",
        "##Few-Shot Learning Performance Analysis\n",
        "\n",
        "1. **F1 Score**\n",
        "\n",
        "Glove-GRU-Bahdanau consistently achieves the highest F1 scores across all K values.\n",
        "Glove-GRU starts with very low F1 but improves significantly at higher K (e.g., 600).\n",
        "CNN_LSTM remains relatively flat and low throughout. We can interpret Glove-GRU-Bahdanau provides the best balance between precision and recall, even with fewer samples.\n",
        "\n",
        "2. **Balanced Accuracy**\n",
        "\n",
        "Glove-GRU-Bahdanau remains high and stable.\n",
        "Glove-GRU sees a sudden spike at K=600.\n",
        "CNN_LSTM performs poorly and shows almost no change. We can interpret Bahdanau-based models are more reliable for balanced class performance.\n",
        "\n",
        "3. **Recall**\n",
        "\n",
        "Glove-GRU-Bahdanau maintains high recall across all values.\n",
        "Glove-GRU increases significantly at K=600.\n",
        "CNN_LSTM remains consistently low. We can interpret Bahdanau is effective at identifying true positives, which is critical in many classification tasks.\n",
        "\n",
        "4. **Precision**\n",
        "Glove-GRU-Bahdanau demonstrates high precision even with fewer shots.\n",
        "Glove-GRU and CNN_LSTM start low but Glove-GRU shows some improvement.\n",
        "We can interpret Bahdanau makes fewer false-positive predictions, ensuring more trustworthy outputs.\n",
        "\n",
        "###Overall Conclusion\n",
        "Glove-GRU-Bahdanau is the most performant and stable model, especially in low-data scenarios (few-shot learning).\n",
        "Glove-GRU benefits significantly from more data but lags behind until high K.\n",
        "CNN_LSTM underperforms across all metrics and K values."
      ],
      "metadata": {
        "id": "y8E3KaQQ0-y_"
      }
    }
  ],
  "metadata": {
    "colab": {
      "toc_visible": true,
      "provenance": [],
      "gpuType": "T4"
    },
    "kernelspec": {
      "display_name": "Python 3",
      "name": "python3"
    },
    "accelerator": "GPU"
  },
  "nbformat": 4,
  "nbformat_minor": 0
}