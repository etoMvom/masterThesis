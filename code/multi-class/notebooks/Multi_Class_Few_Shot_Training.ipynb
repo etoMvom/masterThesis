{
  "cells": [
    {
      "cell_type": "markdown",
      "metadata": {
        "id": "JkCLbu33lObU"
      },
      "source": [
        "---\n",
        "# **Biomedical Text Classification using: LSTM, GRU and Bahdanau Attention**\n",
        "\n",
        "---"
      ]
    },
    {
      "cell_type": "markdown",
      "metadata": {
        "id": "Y0cmtg4BlRxH"
      },
      "source": [
        "**Few-shot training** is a learning paradigm in which a model is trained using only a very small number of labeled examples per class. In this study, Classification of Biomedical Texts with Deep Learning: LSTM, GRU, and Self-Attention, few-shot training is used to evaluate how well different deep learning architectures can generalize from limited annotated biomedical data.\n",
        "\n",
        "This approach is especially relevant in biomedical domains where obtaining large labeled datasets is often expensive and time-consuming. By testing various models under few-shot conditions (e.g., 1, 5, or 20 examples per class), we aim to assess their robustness, adaptability, and efficiency in low-resource settings—providing insight into which architectures are better suited for real-world biomedical applications with limited training data."
      ]
    },
    {
      "cell_type": "code",
      "execution_count": 1,
      "metadata": {
        "id": "UHGb6iOAlSNQ"
      },
      "outputs": [],
      "source": [
        "import pandas as pd\n",
        "import nltk\n",
        "from nltk.corpus import stopwords\n",
        "from collections import defaultdict\n",
        "from collections import Counter\n",
        "import random\n",
        "import time\n",
        "import re\n",
        "\n",
        "from tqdm import tqdm\n",
        "import numpy as np\n",
        "import torch\n",
        "import wandb\n",
        "\n",
        "import matplotlib.pyplot as plt\n",
        "from sklearn.manifold import TSNE\n",
        "import seaborn as sns\n",
        "\n",
        "import torch\n",
        "import torch.nn as nn\n",
        "import torch.optim as optim\n",
        "from sklearn.decomposition import PCA\n",
        "from imblearn.over_sampling import SMOTE\n",
        "from sklearn.metrics import accuracy_score, f1_score\n",
        "from sklearn.utils.class_weight import compute_class_weight\n",
        "from sklearn.model_selection import train_test_split\n",
        "from torch.utils.data.dataset import ConcatDataset\n",
        "from sklearn.utils.class_weight import compute_class_weight\n",
        "\n",
        "from torch.utils.data import DataLoader, TensorDataset, Dataset\n",
        "from sklearn.preprocessing import LabelEncoder\n",
        "from torch.nn.utils.rnn import pad_sequence\n",
        "from sklearn.metrics import f1_score, confusion_matrix, balanced_accuracy_score, precision_score, recall_score\n",
        "from sklearn.metrics import classification_report, confusion_matrix, ConfusionMatrixDisplay\n",
        "from sklearn.utils.class_weight import compute_class_weight\n",
        "\n",
        "from imblearn.over_sampling import SMOTE\n",
        "from imblearn.over_sampling import BorderlineSMOTE\n",
        "\n",
        "device = torch.device(\"cuda\" if torch.cuda.is_available() else \"cpu\")"
      ]
    },
    {
      "cell_type": "code",
      "execution_count": 2,
      "metadata": {
        "id": "FKlk701glS4g"
      },
      "outputs": [],
      "source": [
        "# To ensure reproducibility of the results\n",
        "SEED = 200\n",
        "random.seed(SEED)\n",
        "np.random.seed(SEED)\n",
        "torch.manual_seed(SEED)\n",
        "torch.cuda.manual_seed(SEED)\n",
        "torch.backends.cudnn.deterministic = True"
      ]
    },
    {
      "cell_type": "code",
      "execution_count": 3,
      "metadata": {
        "colab": {
          "base_uri": "https://localhost:8080/"
        },
        "id": "fHpE7LBQlS1C",
        "outputId": "e7b25864-44db-4d06-c8c2-ac76b8ccc959"
      },
      "outputs": [
        {
          "output_type": "stream",
          "name": "stdout",
          "text": [
            "Mounted at /content/drive\n"
          ]
        }
      ],
      "source": [
        "from google.colab import drive\n",
        "drive.mount('/content/drive')"
      ]
    },
    {
      "cell_type": "code",
      "execution_count": 4,
      "metadata": {
        "id": "BRSgjL4UlSyf"
      },
      "outputs": [],
      "source": [
        "data = pd.read_csv('/content/drive/MyDrive/diseases_dataset.csv')"
      ]
    },
    {
      "cell_type": "code",
      "execution_count": 5,
      "metadata": {
        "colab": {
          "base_uri": "https://localhost:8080/"
        },
        "id": "NmfooAtXlSwI",
        "outputId": "e99acac5-9ba6-4e97-ff52-5b887445bd76"
      },
      "outputs": [
        {
          "output_type": "stream",
          "name": "stdout",
          "text": [
            "<class 'pandas.core.frame.DataFrame'>\n",
            "RangeIndex: 38652 entries, 0 to 38651\n",
            "Data columns (total 10 columns):\n",
            " #   Column              Non-Null Count  Dtype \n",
            "---  ------              --------------  ----- \n",
            " 0   PMID                38652 non-null  int64 \n",
            " 1   Title               38652 non-null  object\n",
            " 2   Abstract            38652 non-null  object\n",
            " 3   Keywords            38652 non-null  object\n",
            " 4   PublicationYear     38652 non-null  int64 \n",
            " 5   MeSH_Terms          38652 non-null  object\n",
            " 6   Cleaned_Abstract    38652 non-null  object\n",
            " 7   Disease             38652 non-null  object\n",
            " 8   Top_Relevant_Words  38652 non-null  object\n",
            " 9   Label               38652 non-null  int64 \n",
            "dtypes: int64(3), object(7)\n",
            "memory usage: 2.9+ MB\n"
          ]
        }
      ],
      "source": [
        "data.info()"
      ]
    },
    {
      "cell_type": "code",
      "execution_count": 6,
      "metadata": {
        "colab": {
          "base_uri": "https://localhost:8080/"
        },
        "id": "0c349B24lStU",
        "outputId": "8aad1eea-502e-44bc-82e3-7bb83087238f"
      },
      "outputs": [
        {
          "output_type": "stream",
          "name": "stdout",
          "text": [
            "Training set: 27056 samples\n",
            "Validation set: 5798 samples\n",
            "Test set: 5798 samples\n"
          ]
        }
      ],
      "source": [
        "X = data[\"Cleaned_Abstract\"].values\n",
        "y = data[\"Label\"].values\n",
        "\n",
        "X_train, X_temp, y_train, y_temp = train_test_split(X, y, test_size=0.3, random_state=42)\n",
        "X_val, X_test, y_val, y_test = train_test_split(X_temp, y_temp, test_size=0.5, random_state=42)\n",
        "\n",
        "print(f\"Training set: {len(X_train)} samples\")\n",
        "print(f\"Validation set: {len(X_val)} samples\")\n",
        "print(f\"Test set: {len(X_test)} samples\")"
      ]
    },
    {
      "cell_type": "code",
      "execution_count": 7,
      "metadata": {
        "colab": {
          "base_uri": "https://localhost:8080/"
        },
        "id": "D5XkEE7IzYHI",
        "outputId": "a854f735-f6a8-4e4d-ef1c-6ac8470df2a1"
      },
      "outputs": [
        {
          "output_type": "stream",
          "name": "stdout",
          "text": [
            "Combined Input Shape: (32854,)\n",
            "Combined Label Shape: (32854,)\n"
          ]
        }
      ],
      "source": [
        "X_combined = np.concatenate((X_train, X_val), axis=0)\n",
        "y_combined = np.concatenate((y_train, y_val), axis=0)\n",
        "\n",
        "print(f\"Combined Input Shape: {X_combined.shape}\")\n",
        "print(f\"Combined Label Shape: {y_combined.shape}\")"
      ]
    },
    {
      "cell_type": "code",
      "execution_count": 8,
      "metadata": {
        "id": "PsWTm_-OlSqx"
      },
      "outputs": [],
      "source": [
        "def tokenize(text):\n",
        "    \"\"\"\n",
        "    Tokenizes the input text by converting it to lowercase and splitting it into words.\n",
        "\n",
        "    Args:\n",
        "        text: A string containing the text to be tokenized.\n",
        "\n",
        "    Returns:\n",
        "        A list of tokens (words) from the text.\n",
        "    \"\"\"\n",
        "    return re.findall(r'\\b\\w+\\b', text.lower())"
      ]
    },
    {
      "cell_type": "code",
      "execution_count": 9,
      "metadata": {
        "colab": {
          "base_uri": "https://localhost:8080/"
        },
        "id": "GkL8-UdQl0su",
        "outputId": "ce5c019f-b1a1-4064-f9f5-ceededbfd53d"
      },
      "outputs": [
        {
          "output_type": "stream",
          "name": "stdout",
          "text": [
            "1445\n",
            "patient\n",
            "relationship\n",
            "351\n"
          ]
        }
      ],
      "source": [
        "all_tokens = [token for text in X_train for token in tokenize(text)]\n",
        "vocab = Counter(all_tokens)\n",
        "filtered_vocab = {word: freq for word, freq in vocab.items() if freq >= 2}\n",
        "VOCAB_SIZE =  40000\n",
        "\n",
        "sorted_filtered_vocab = dict(sorted(filtered_vocab.items(), key=lambda item: item[1], reverse=True)[:VOCAB_SIZE])\n",
        "\n",
        "word_to_index = {word: idx for idx, (word, _) in enumerate(sorted_filtered_vocab.items(), 1)}\n",
        "word_to_index[\"<PAD>\"] = 0\n",
        "word_to_index[\"<UNK>\"] = len(word_to_index)\n",
        "\n",
        "index_to_word = {idx: word for word, idx in word_to_index.items()}\n",
        "print(word_to_index[\"malaria\"])\n",
        "print(index_to_word[1])\n",
        "\n",
        "print(index_to_word[300])\n",
        "print(word_to_index[\"host\"])"
      ]
    },
    {
      "cell_type": "code",
      "execution_count": 10,
      "metadata": {
        "id": "v3zT9Dn2l1zW"
      },
      "outputs": [],
      "source": [
        "def text_to_sequence(text):\n",
        "    \"\"\"\n",
        "    Converts the tokenized text into a sequence of indices based on a word-to-index mapping.\n",
        "\n",
        "    Args:\n",
        "        text: A string containing the text to be converted.\n",
        "\n",
        "    Returns:\n",
        "        A list of integers representing the sequence of token indices.\n",
        "    \"\"\"\n",
        "    return [word_to_index.get(token, word_to_index[\"<UNK>\"]) for token in tokenize(text)]\n",
        "\n",
        "def pad_to_tensor(sequences, max_len=None):\n",
        "    \"\"\"\n",
        "    Pads sequences to the specified maximum length, or truncates them if they exceed it.\n",
        "\n",
        "    Args:\n",
        "        sequences: A list of sequences (each sequence is a list of integers).\n",
        "        max_len: The maximum length to which sequences should be padded. If None, no padding is applied.\n",
        "\n",
        "    Returns:\n",
        "        A tensor containing the padded (or truncated) sequences.\n",
        "    \"\"\"\n",
        "    padded_sequences = [torch.tensor(seq, dtype=torch.long) for seq in sequences]\n",
        "    if max_len:\n",
        "        padded_sequences = [seq[:max_len] for seq in padded_sequences]\n",
        "        padded_sequences = [\n",
        "            torch.cat([seq, torch.zeros(max_len - len(seq), dtype=torch.long)], 0) if len(seq) < max_len else seq\n",
        "            for seq in padded_sequences\n",
        "        ]\n",
        "\n",
        "    return torch.stack(padded_sequences)\n",
        "\n",
        "class TextDataset(Dataset):\n",
        "    \"\"\"\n",
        "    Custom Dataset for handling text data and labels.\n",
        "\n",
        "    Args:\n",
        "        X_data: Input features (e.g., tokenized text).\n",
        "        y_data: Labels corresponding to the text data.\n",
        "        raw_text_data: (Optional) The raw text data for reference (default is None).\n",
        "    \"\"\"\n",
        "    def __init__(self, X_data, y_data, raw_text_data=None):\n",
        "        self.X = torch.tensor(X_data, dtype=torch.long)\n",
        "        self.y = torch.tensor(y_data, dtype=torch.long)\n",
        "        self.raw_text_data = raw_text_data\n",
        "\n",
        "    def __len__(self):\n",
        "        return len(self.X)\n",
        "\n",
        "    def __getitem__(self, idx):\n",
        "        input_tensor = self.X[idx]\n",
        "        target_tensor = self.y[idx]\n",
        "\n",
        "        raw_text = None\n",
        "        if self.raw_text_data is not None and idx < len(self.raw_text_data):\n",
        "            raw_text = self.raw_text_data[idx]\n",
        "\n",
        "        return input_tensor, target_tensor, raw_text\n",
        "\n",
        "def custom_collate_fn(batch):\n",
        "    inputs, targets, raw_texts = zip(*batch)\n",
        "    inputs = torch.stack(inputs)\n",
        "    targets = torch.stack(targets)\n",
        "    return inputs, targets, list(raw_texts)\n",
        "\n",
        "def load_glove_embeddings(glove_path, word_to_index, embedding_dim):\n",
        "    \"\"\"Loads GloVe embeddings and returns an embedding matrix.\"\"\"\n",
        "    embedding_matrix = np.zeros((len(word_to_index), embedding_dim), dtype='float32')\n",
        "    with open(glove_path, 'r', encoding=\"utf-8\") as f:\n",
        "        for line in f:\n",
        "            values = line.strip().split()\n",
        "            word = values[0]\n",
        "            if word in word_to_index:\n",
        "                vector = np.asarray(values[1:], dtype='float32')\n",
        "                embedding_matrix[word_to_index[word]] = vector\n",
        "\n",
        "    return torch.tensor(embedding_matrix, dtype=torch.float)\n",
        "\n",
        "def load_fasttext_embeddings(vec_path, word_to_index, embedding_dim=300):\n",
        "    \"\"\"\n",
        "    Loads FastText embeddings from a .txt or .vec file and returns an embedding matrix.\n",
        "\n",
        "    Note:\n",
        "        The .txt or .vec format contains a header (num_tokens, dimension),\n",
        "        followed by one word vector per line in the format: word val1 val2 ... valN.\n",
        "\n",
        "    Args:\n",
        "        vec_path (str): Path to the FastText .txt or .vec file (e.g., cc.en.300.txt or cc.en.300.vec).\n",
        "        word_to_index (dict): Mapping from words to their index in the vocabulary.\n",
        "        embedding_dim (int): Dimensionality of the embeddings (e.g., 300).\n",
        "\n",
        "    Returns:\n",
        "        torch.Tensor: Embedding matrix of shape (vocab_size, embedding_dim).\n",
        "    \"\"\"\n",
        "    embedding_matrix = np.zeros((len(word_to_index), embedding_dim), dtype='float32')\n",
        "\n",
        "    with open(vec_path, 'r', encoding='utf-8', newline='\\n', errors='ignore') as f:\n",
        "        header = f.readline()  # header contains: num_words dim\n",
        "        for line in f:\n",
        "            values = line.rstrip().split(' ')\n",
        "            if len(values) < embedding_dim + 1:\n",
        "                continue  # skip malformed lines\n",
        "            word = values[0]\n",
        "            if word in word_to_index:\n",
        "                vector = np.asarray(values[1:], dtype='float32')\n",
        "                embedding_matrix[word_to_index[word]] = vector\n",
        "\n",
        "    return torch.tensor(embedding_matrix, dtype=torch.float)"
      ]
    },
    {
      "cell_type": "code",
      "execution_count": 11,
      "metadata": {
        "colab": {
          "base_uri": "https://localhost:8080/"
        },
        "id": "hasHpOEal1vz",
        "outputId": "042b7e7e-1d31-4508-c3de-fdfbe55d582a"
      },
      "outputs": [
        {
          "output_type": "stream",
          "name": "stdout",
          "text": [
            "[79, 347, 3, 40, 127, 119, 11, 444, 2525, 351, 89, 42, 342, 763, 7428, 333, 5306, 6676, 133, 447, 52, 18, 1466, 79, 4, 498, 295, 233, 31, 6676, 1245, 38, 18, 699, 389, 2721, 119, 11, 444, 161, 4, 2644, 611, 83, 1492, 387, 694, 112, 6676, 79, 412, 1442, 913, 557, 3337, 40001, 622, 728, 128, 4693, 909, 2876, 457, 64, 607, 4418, 219, 4, 190, 19, 7165, 8017, 190, 287, 375, 876, 74, 1356, 457, 93, 4, 229, 9, 654, 132, 6676, 233, 31, 1245, 917, 2302, 213, 38, 4289, 18, 775, 43, 114, 136, 444, 9, 337, 6676, 40, 429, 80, 11, 301, 79]\n"
          ]
        }
      ],
      "source": [
        "EMBEDDING_DIM = 300\n",
        "embedding_matrix = load_glove_embeddings('/content/drive/MyDrive/glove/glove.6B.300d.txt', word_to_index, EMBEDDING_DIM)\n",
        "embedding_matrix_fastText = load_fasttext_embeddings('/content/drive/MyDrive/cc.en.300.vec/cc.en.300.vec', word_to_index, EMBEDDING_DIM)\n",
        "\n",
        "X_train_seq = [text_to_sequence(text) for text in X_train]\n",
        "X_val_seq = [text_to_sequence(text) for text in X_val]\n",
        "X_test_seq = [text_to_sequence(text) for text in X_test]\n",
        "\n",
        "print(X_train_seq[0])"
      ]
    },
    {
      "cell_type": "code",
      "execution_count": 12,
      "metadata": {
        "colab": {
          "base_uri": "https://localhost:8080/"
        },
        "id": "Wf-9kAd7l1tq",
        "outputId": "1291af01-4a0e-4b75-a519-dcdf8333fe11"
      },
      "outputs": [
        {
          "output_type": "stream",
          "name": "stdout",
          "text": [
            "Train Tensor Shape: torch.Size([27056, 400]), Type: torch.int64\n",
            "Validation Tensor Shape: torch.Size([5798, 400]), Type: torch.int64\n",
            "Test Tensor Shape: torch.Size([5798, 400]), Type: torch.int64\n"
          ]
        }
      ],
      "source": [
        "max_length = 400\n",
        "\n",
        "X_train_tensor = pad_to_tensor(X_train_seq, max_len=max_length)\n",
        "X_val_tensor = pad_to_tensor(X_val_seq, max_len=max_length)\n",
        "X_test_tensor = pad_to_tensor(X_test_seq, max_len=max_length)\n",
        "\n",
        "print(f\"Train Tensor Shape: {X_train_tensor.shape}, Type: {X_train_tensor.dtype}\")\n",
        "print(f\"Validation Tensor Shape: {X_val_tensor.shape}, Type: {X_val_tensor.dtype}\")\n",
        "print(f\"Test Tensor Shape: {X_test_tensor.shape}, Type: {X_test_tensor.dtype}\")\n",
        "\n",
        "y_train_tensor = torch.tensor(y_train)\n",
        "y_val_tensor = torch.tensor(y_val)\n",
        "y_test_tensor = torch.tensor(y_test)"
      ]
    },
    {
      "cell_type": "code",
      "execution_count": 13,
      "metadata": {
        "colab": {
          "base_uri": "https://localhost:8080/"
        },
        "id": "S3NGUWFxyuwf",
        "outputId": "0605d0d8-33b7-41b7-9bab-2886ee4fda16"
      },
      "outputs": [
        {
          "output_type": "stream",
          "name": "stdout",
          "text": [
            "Combined Input Tensor Shape: torch.Size([32854, 400])\n",
            "Combined Label Tensor Shape: torch.Size([32854])\n"
          ]
        }
      ],
      "source": [
        "X_combined_tensor = torch.cat((X_train_tensor, X_val_tensor), dim=0)\n",
        "y_combined_tensor = torch.cat((y_train_tensor, y_val_tensor), dim=0)\n",
        "\n",
        "print(f\"Combined Input Tensor Shape: {X_combined_tensor.shape}\")\n",
        "print(f\"Combined Label Tensor Shape: {y_combined_tensor.shape}\")"
      ]
    },
    {
      "cell_type": "code",
      "execution_count": 14,
      "metadata": {
        "colab": {
          "base_uri": "https://localhost:8080/"
        },
        "id": "EJAvopnhuoEQ",
        "outputId": "1bee9cc7-d45c-43bf-a106-59d42fc5beb9"
      },
      "outputs": [
        {
          "output_type": "stream",
          "name": "stderr",
          "text": [
            "<ipython-input-10-f03193db776b>:44: UserWarning: To copy construct from a tensor, it is recommended to use sourceTensor.clone().detach() or sourceTensor.clone().detach().requires_grad_(True), rather than torch.tensor(sourceTensor).\n",
            "  self.X = torch.tensor(X_data, dtype=torch.long)\n"
          ]
        }
      ],
      "source": [
        "train_dataset = TextDataset(X_train_tensor, y_train, raw_text_data=X_train)\n",
        "val_dataset = TextDataset(X_val_tensor, y_val, raw_text_data=X_val)\n",
        "test_dataset = TextDataset(X_test_tensor, y_test, raw_text_data=X_test)\n",
        "\n",
        "train_loader = DataLoader(train_dataset, batch_size=32, shuffle=True)\n",
        "val_loader = DataLoader(val_dataset, batch_size=32, shuffle=False)\n",
        "test_loader = DataLoader(test_dataset, batch_size=32, shuffle=False)"
      ]
    },
    {
      "cell_type": "code",
      "execution_count": 15,
      "metadata": {
        "colab": {
          "base_uri": "https://localhost:8080/"
        },
        "id": "vZ7RTuttv858",
        "outputId": "f7b5f571-2e4c-4b1c-b1a2-247288030ac4"
      },
      "outputs": [
        {
          "output_type": "stream",
          "name": "stdout",
          "text": [
            "Training set size: 27056\n",
            "Validation set size: 5798\n",
            "Test set size: 5798\n",
            "Combined dataset size: 32854\n"
          ]
        }
      ],
      "source": [
        "batch_size = 16\n",
        "\n",
        "train_loader = DataLoader(train_dataset, batch_size=batch_size, shuffle=True)\n",
        "val_loader = DataLoader(val_dataset, batch_size=batch_size, shuffle=False)\n",
        "test_loader = DataLoader(test_dataset, batch_size=batch_size, shuffle=False)\n",
        "\n",
        "combined_dataset = ConcatDataset([train_dataset, val_dataset])\n",
        "combined_loader = DataLoader(combined_dataset, batch_size=batch_size, shuffle=True)\n",
        "\n",
        "\n",
        "print(f\"Training set size: {len(train_dataset)}\")\n",
        "print(f\"Validation set size: {len(val_dataset)}\")\n",
        "print(f\"Test set size: {len(test_dataset)}\")\n",
        "print(f\"Combined dataset size: {len(combined_dataset)}\")"
      ]
    },
    {
      "cell_type": "code",
      "execution_count": 16,
      "metadata": {
        "id": "dnG9cQyel1ql"
      },
      "outputs": [],
      "source": [
        "NUM_CLASSES = len(torch.unique(y_train_tensor))\n",
        "VOCAB_SIZE = len(word_to_index)\n",
        "\n",
        "# ============ Define Hybrid CNN-LSTM Model ============\n",
        "class CNN_LSTM_Model(nn.Module):\n",
        "    def __init__(self, vocab_size, embedding_dim, hidden_dim, output_dim=NUM_CLASSES, num_layers=1, dropout_prob=0.3, num_filters=100, kernel_size=3):\n",
        "        super(CNN_LSTM_Model, self).__init__()\n",
        "\n",
        "        self.embedding = nn.Embedding(vocab_size, embedding_dim)\n",
        "        self.conv1 = nn.Conv1d(in_channels=embedding_dim, out_channels=num_filters, kernel_size=kernel_size, padding=1)\n",
        "        self.conv2 = nn.Conv1d(in_channels=num_filters, out_channels=num_filters, kernel_size=kernel_size, padding=1)\n",
        "        self.relu = nn.ReLU()\n",
        "        self.pool = nn.MaxPool1d(kernel_size=2, stride=2)\n",
        "\n",
        "        self.lstm = nn.LSTM(input_size=num_filters, hidden_size=hidden_dim, num_layers=num_layers, batch_first=True, dropout=dropout_prob if num_layers > 1 else 0)\n",
        "        self.dropout = nn.Dropout(dropout_prob)\n",
        "        self.fc = nn.Linear(hidden_dim, output_dim)\n",
        "\n",
        "    def forward(self, x):\n",
        "        embedded = self.embedding(x)\n",
        "        embedded = embedded.permute(0, 2, 1)\n",
        "        conv_out = self.relu(self.conv1(embedded))\n",
        "        conv_out = self.relu(self.conv2(conv_out))\n",
        "        conv_out = self.pool(conv_out)\n",
        "\n",
        "        conv_out = conv_out.permute(0, 2, 1)\n",
        "        lstm_out, _ = self.lstm(conv_out)\n",
        "        lstm_out = self.dropout(lstm_out[:, -1, :])\n",
        "        out = self.fc(lstm_out)\n",
        "        return out\n",
        "\n",
        "# ==========================  GRU Model with Word Embeddings ==========================\n",
        "class GRU_Model(nn.Module):\n",
        "    def __init__(self, vocab_size, embedding_dim, hidden_dim, output_dim=NUM_CLASSES , num_layers=1, dropout_prob=0.5, embedding_weights=None, freeze_embeddings=False):\n",
        "        super(GRU_Model, self).__init__()\n",
        "\n",
        "        if embedding_weights is not None:\n",
        "            self.embedding = nn.Embedding.from_pretrained(embedding_weights, freeze=freeze_embeddings)\n",
        "        else:\n",
        "            self.embedding = nn.Embedding(vocab_size, embedding_dim)\n",
        "\n",
        "        self.gru = nn.GRU(\n",
        "            input_size=embedding_dim,\n",
        "            hidden_size=hidden_dim,\n",
        "            num_layers=num_layers,\n",
        "            batch_first=True,\n",
        "            dropout=dropout_prob if num_layers > 1 else 0  # Dropout only if num_layers > 1\n",
        "        )\n",
        "\n",
        "        self.dropout = nn.Dropout(dropout_prob)\n",
        "        self.fc = nn.Linear(hidden_dim, output_dim)\n",
        "\n",
        "    def forward(self, x):\n",
        "        embedded = self.embedding(x)\n",
        "        gru_out, _ = self.gru(embedded)\n",
        "        gru_out = self.dropout(gru_out[:, -1, :])\n",
        "        out = self.fc(gru_out)\n",
        "        return out\n",
        "\n",
        "# ========================== Bahdanau Attention ==========================\n",
        "class BahdanauAttention(nn.Module):\n",
        "    \"\"\"\n",
        "    Bahdanau Attention Mechanism.\n",
        "\n",
        "    This class implements the Bahdanau attention mechanism as described in the paper:\n",
        "    \"Neural Machine Translation by Jointly Learning to Align and Translate\" by Bahdanau et al.\n",
        "\n",
        "    Args:\n",
        "        hidden_dim (int): The hidden dimension of the GRU or LSTM output.\n",
        "\n",
        "    Attributes:\n",
        "        W (nn.Linear): A linear layer for the transformation of the RNN outputs.\n",
        "        v (nn.Linear): A linear layer for computing attention scores.\n",
        "    \"\"\"\n",
        "    def __init__(self, hidden_dim):\n",
        "        super(BahdanauAttention, self).__init__()\n",
        "        self.W = nn.Linear(hidden_dim * 2, hidden_dim)\n",
        "        self.v = nn.Linear(hidden_dim, 1, bias=False)\n",
        "\n",
        "    def forward(self, rnn_outputs):\n",
        "        \"\"\"\n",
        "        Apply the attention mechanism on the RNN outputs.\n",
        "\n",
        "        Args:\n",
        "            rnn_outputs (Tensor): The outputs of the RNN (GRU or LSTM).\n",
        "\n",
        "        Returns:\n",
        "            Tensor: The context vector computed by the attention mechanism.\n",
        "        \"\"\"\n",
        "        score = torch.tanh(self.W(rnn_outputs))\n",
        "        attn_weights = torch.softmax(self.v(score), dim=1)\n",
        "        context = torch.sum(attn_weights * rnn_outputs, dim=1)\n",
        "        return context\n",
        "\n",
        "# ================= Generalized GRU + Bahdanau Attention Model =================\n",
        "class GRU_BahdanauAttentionModel(nn.Module):\n",
        "    \"\"\"\n",
        "    General GRU + Bahdanau Attention Model with customizable embeddings.\n",
        "\n",
        "    Args:\n",
        "        embedding_matrix (Tensor): Pretrained embedding matrix (GloVe or FastText).\n",
        "        hidden_dim (int): GRU hidden size.\n",
        "        num_classes (int): Number of output classes.\n",
        "        num_layers (int): Number of GRU layers.\n",
        "        dropout_prob (float): Dropout rate.\n",
        "    \"\"\"\n",
        "    def __init__(self, embedding_matrix, hidden_dim, num_classes=NUM_CLASSES, num_layers=1, dropout_prob=0.6):\n",
        "        super(GRU_BahdanauAttentionModel, self).__init__()\n",
        "\n",
        "        vocab_size, embedding_dim = embedding_matrix.shape\n",
        "        self.embedding = nn.Embedding.from_pretrained(embedding_matrix, freeze=False)\n",
        "\n",
        "        self.gru = nn.GRU(\n",
        "            input_size=embedding_dim,\n",
        "            hidden_size=hidden_dim,\n",
        "            num_layers=num_layers,\n",
        "            batch_first=True,\n",
        "            bidirectional=True\n",
        "        )\n",
        "\n",
        "        self.attention = BahdanauAttention(hidden_dim)\n",
        "        self.fc = nn.Linear(hidden_dim * 2, num_classes)\n",
        "        self.dropout = nn.Dropout(dropout_prob)\n",
        "\n",
        "    def forward(self, x):\n",
        "        embedded = self.embedding(x)\n",
        "        gru_out, _ = self.gru(embedded)\n",
        "        context = self.attention(gru_out)\n",
        "        x = self.dropout(context)\n",
        "        return self.fc(x)"
      ]
    },
    {
      "cell_type": "code",
      "execution_count": 17,
      "metadata": {
        "id": "LMDGVSREmAHh"
      },
      "outputs": [],
      "source": [
        "clip = 5.0\n",
        "\n",
        "def epoch_time(start_time, end_time):\n",
        "    \"\"\"\n",
        "    Calculates the elapsed time between the start and end time.\n",
        "\n",
        "    Args:\n",
        "        start_time: The start time (in seconds).\n",
        "        end_time: The end time (in seconds).\n",
        "\n",
        "    Returns:\n",
        "        elapsed_mins: The elapsed time in minutes.\n",
        "        elapsed_secs: The elapsed time in seconds.\n",
        "    \"\"\"\n",
        "    elapsed_time = end_time - start_time\n",
        "    elapsed_mins = int(elapsed_time / 60)\n",
        "    elapsed_secs = int(elapsed_time - (elapsed_mins * 60))\n",
        "    return elapsed_mins, elapsed_secs\n",
        "\n",
        "def calculate_accuracy(y_pred, y_true):\n",
        "    \"\"\"\n",
        "    Computes accuracy for multi-class classification.\n",
        "    Args:\n",
        "        y_pred: Raw logits from the model (before softmax).\n",
        "        y_true: True class labels (integer class indices).\n",
        "    Returns:\n",
        "        Accuracy score.\n",
        "    \"\"\"\n",
        "    y_pred = torch.argmax(y_pred, dim=1)  # Get predicted class index\n",
        "    correct = (y_pred == y_true).sum().item()\n",
        "    total = y_true.size(0)  # Number of samples\n",
        "    return correct / total\n",
        "\n",
        "def train_epoch(model, train_loader, optimizer, criterion, device):\n",
        "    \"\"\"\n",
        "    Train the model for one epoch.\n",
        "    \"\"\"\n",
        "    model.train()\n",
        "    total_loss, total_accuracy = 0, 0\n",
        "\n",
        "    for batch in train_loader:\n",
        "        if len(batch) == 3:\n",
        "            input_tensor, target_tensor, _ = batch  # Ignore raw_text\n",
        "        input_tensor, target_tensor = input_tensor.to(device), target_tensor.to(device)\n",
        "\n",
        "        optimizer.zero_grad()\n",
        "        output = model(input_tensor)  # Forward pass\n",
        "        loss = criterion(output, target_tensor)  # Compute loss\n",
        "        loss.backward()  # Backpropagation\n",
        "\n",
        "        torch.nn.utils.clip_grad_norm_(model.parameters(), max_norm=1.0)  # Gradient clipping\n",
        "        optimizer.step()\n",
        "\n",
        "        batch_accuracy = calculate_accuracy(output, target_tensor)\n",
        "\n",
        "        total_loss += loss.item()\n",
        "        total_accuracy += batch_accuracy * len(target_tensor)\n",
        "\n",
        "    avg_loss = total_loss / len(train_loader)\n",
        "    avg_accuracy = total_accuracy / len(train_loader.dataset)\n",
        "\n",
        "    return avg_loss, avg_accuracy\n",
        "\n",
        "def validate_epoch(model, val_loader, criterion, device):\n",
        "    \"\"\"\n",
        "    Validate the model for one epoch.\n",
        "    Args:\n",
        "        model: Model instance.\n",
        "        val_loader: DataLoader for validation data.\n",
        "        criterion: Loss function (CrossEntropyLoss).\n",
        "        device: CPU/GPU.\n",
        "    Returns:\n",
        "        Average validation loss, accuracy, and F1-score.\n",
        "    \"\"\"\n",
        "    model.eval()  # Set to evaluation mode\n",
        "    total_loss, total_accuracy = 0, 0\n",
        "\n",
        "    all_labels = []\n",
        "    all_preds = []\n",
        "\n",
        "    with torch.no_grad():\n",
        "        for batch in val_loader:\n",
        "            if len(batch) == 3:\n",
        "                input_tensor, target_tensor, _ = batch  # Ignore raw_text\n",
        "            input_tensor, target_tensor = input_tensor.to(device), target_tensor.to(device)\n",
        "\n",
        "            output = model(input_tensor)  # Forward pass\n",
        "\n",
        "            loss = criterion(output, target_tensor)  # Compute loss\n",
        "            batch_accuracy = calculate_accuracy(output, target_tensor)\n",
        "\n",
        "            total_loss += loss.item()\n",
        "            total_accuracy += batch_accuracy * len(target_tensor)\n",
        "\n",
        "            preds = torch.argmax(output, dim=1).cpu().numpy()\n",
        "            all_preds.extend(preds)\n",
        "            all_labels.extend(target_tensor.cpu().numpy())\n",
        "\n",
        "    f1 = f1_score(all_labels, all_preds, average=\"weighted\", zero_division=0)\n",
        "    avg_loss = total_loss / len(val_loader)\n",
        "    avg_accuracy = total_accuracy / len(val_loader.dataset)\n",
        "\n",
        "    return avg_loss, avg_accuracy, f1\n",
        "\n",
        "def get_hidden_states(model, dataloader, device):\n",
        "    \"\"\"\n",
        "    This function extracts the hidden states from a model (either GRU or LSTM) for each sample in the dataloader.\n",
        "    The hidden states are taken from the last time step of the sequence, which are typically used for classification tasks.\n",
        "\n",
        "    Args:\n",
        "        model: A PyTorch model that contains an embedding layer and either a GRU or LSTM layer.\n",
        "        dataloader: A DataLoader containing batches of input data and their corresponding targets.\n",
        "        device: The device (CPU or GPU) to run the model on.\n",
        "\n",
        "    Returns:\n",
        "        hidden_states: A numpy array containing the hidden states for each sample in the dataloader.\n",
        "        labels: A numpy array containing the target labels corresponding to each input sample.\n",
        "    \"\"\"\n",
        "    model.eval()\n",
        "    hidden_states, labels = [], []\n",
        "\n",
        "    with torch.no_grad():\n",
        "        for batch in dataloader:\n",
        "            inputs, targets, _ = batch\n",
        "            inputs = inputs.to(device)\n",
        "\n",
        "            embedded = model.embedding(inputs)\n",
        "\n",
        "            if hasattr(model, \"gru\"):\n",
        "                gru_out, _ = model.gru(embedded)\n",
        "                hidden_state = gru_out[:, -1, :]\n",
        "\n",
        "            elif hasattr(model, \"lstm\"):\n",
        "                lstm_out, (hidden, _) = model.lstm(embedded)\n",
        "                hidden_state = hidden[-1]\n",
        "\n",
        "            else:\n",
        "                raise ValueError(\"Unsupported model type. Model must contain GRU or LSTM.\")\n",
        "\n",
        "            hidden_states.append(hidden_state.cpu().numpy())\n",
        "            labels.append(targets.cpu().numpy())\n",
        "\n",
        "    hidden_states = np.concatenate(hidden_states, axis=0)\n",
        "    labels = np.concatenate(labels, axis=0)\n",
        "\n",
        "    return hidden_states, labels\n",
        "\n",
        "def count_parameters(model):\n",
        "    \"\"\"\n",
        "    Computes the total number of trainable parameters in a model.\n",
        "\n",
        "    Args:\n",
        "        model: A PyTorch model instance.\n",
        "\n",
        "    Returns:\n",
        "        The total number of trainable parameters in the model.\n",
        "    \"\"\"\n",
        "    return sum(p.numel() for p in model.parameters() if p.requires_grad)\n",
        "\n",
        "def reinitialize_weights(model):\n",
        "    \"\"\"Reinitializes the model's weights by calling reset_parameters() for each layer that supports it.\"\"\"\n",
        "    for layer in model.children():\n",
        "        if hasattr(layer, 'reset_parameters'):\n",
        "            layer.reset_parameters()\n",
        "\n",
        "def test_epoch(model, test_loader, criterion, device):\n",
        "    \"\"\"\n",
        "    Validate the model for one epoch, including precision, F1, balanced accuracy, and recall.\n",
        "    Args:\n",
        "        model: Model instance.\n",
        "        test_loader: DataLoader for test data.\n",
        "        criterion: Loss function (CrossEntropyLoss).\n",
        "        device: CPU/GPU.\n",
        "    Returns:\n",
        "        Average test loss, accuracy, F1-score, balanced accuracy, Recall, and Precision.\n",
        "    \"\"\"\n",
        "    model.eval()  # Set model to evaluation mode\n",
        "    total_loss, total_accuracy = 0, 0\n",
        "\n",
        "    all_labels = []\n",
        "    all_preds = []\n",
        "\n",
        "    with torch.no_grad():\n",
        "        for batch in test_loader:\n",
        "            input_tensor, target_tensor, _ = batch  # Ignore raw_text\n",
        "            input_tensor, target_tensor = input_tensor.to(device), target_tensor.to(device)\n",
        "\n",
        "            output = model(input_tensor)  # Forward pass\n",
        "            loss = criterion(output, target_tensor)  # Compute loss\n",
        "            batch_accuracy = calculate_accuracy(output, target_tensor)\n",
        "\n",
        "            total_loss += loss.item()\n",
        "            total_accuracy += batch_accuracy * len(target_tensor)\n",
        "\n",
        "            preds = torch.argmax(output, dim=1).cpu().numpy()\n",
        "            all_preds.extend(preds)\n",
        "            all_labels.extend(target_tensor.cpu().numpy())\n",
        "\n",
        "    f1 = f1_score(all_labels, all_preds, average=\"weighted\", zero_division=0)\n",
        "    balanced_acc = balanced_accuracy_score(all_labels, all_preds)\n",
        "    precision = precision_score(all_labels, all_preds, average=\"weighted\", zero_division=0)\n",
        "    recall = recall_score(all_labels, all_preds, average=\"weighted\", zero_division=0)\n",
        "\n",
        "    avg_loss = total_loss / len(test_loader)\n",
        "    avg_accuracy = total_accuracy / len(test_loader.dataset)\n",
        "\n",
        "    return avg_loss, avg_accuracy, f1, balanced_acc, recall, precision"
      ]
    },
    {
      "cell_type": "code",
      "execution_count": 18,
      "metadata": {
        "id": "OOu9Z5DasEfw"
      },
      "outputs": [],
      "source": [
        "loss_gap_ratio = 1.25\n",
        "ax_accuracy_gap = 5\n",
        "\n",
        "def get_few_shot_subset(X_tensor, y_tensor, k_shot):\n",
        "    X_few = []\n",
        "    y_few = []\n",
        "    unique_classes = torch.unique(y_tensor)\n",
        "    for cls in unique_classes:\n",
        "        indices = (y_tensor == cls).nonzero(as_tuple=True)[0]\n",
        "        selected = indices[torch.randperm(len(indices))[:k_shot]]\n",
        "        X_few.append(X_tensor[selected])\n",
        "        y_few.append(y_tensor[selected])\n",
        "    X_few = torch.cat(X_few)\n",
        "    y_few = torch.cat(y_few)\n",
        "    return X_few, y_few\n",
        "\n",
        "def train_and_evaluate_model(model, k, X_combined_tensor, y_combined_tensor, optimizer, loss_function, num_epochs, batch_size, test_loader, model_name, embedding_matrix=None):\n",
        "    reinitialize_weights(model)\n",
        "    train_losses, test_losses = [], []\n",
        "    train_accuracies, test_accuracies = [], []\n",
        "    test_f1s, test_balanced_accs, test_recalls, test_precisions = [], [], [], []\n",
        "    saved_once = False\n",
        "    X_few, y_few = get_few_shot_subset(X_combined_tensor, y_combined_tensor, k_shot=k)\n",
        "    few_shot_dataset = TextDataset(X_few, y_few, raw_text_data=X_combined)\n",
        "    few_shot_loader = DataLoader(few_shot_dataset, batch_size=batch_size, shuffle=True, collate_fn=custom_collate_fn)\n",
        "    wandb.init(entity='wilfried-mvomoeto-university-of-li-ge', project=f'Few-Shot-Training_gru_glove_fastText_Bahdanau_Multi-{model_name}-', name=f\"{model_name}_K-{k}_Training\", config={'learning_rate': 7e-4, 'num_epochs': num_epochs, 'num_layers': 1, 'k_shot': k})\n",
        "    with tqdm(total=num_epochs, desc=f\"Training {model_name} with {k}-shot\", unit=\"epoch\") as pbar:\n",
        "        for epoch in range(num_epochs):\n",
        "            start_time = time.time()\n",
        "            train_loss, train_acc = train_epoch(model, few_shot_loader, optimizer, loss_function, device)\n",
        "            train_losses.append(train_loss)\n",
        "            train_accuracies.append(train_acc)\n",
        "            test_loss, test_acc, test_f1, test_balanced_acc, test_recall, test_precision = test_epoch(model, test_loader, loss_function, device)\n",
        "            test_losses.append(test_loss)\n",
        "            test_accuracies.append(test_acc)\n",
        "            test_f1s.append(test_f1)\n",
        "            test_balanced_accs.append(test_balanced_acc)\n",
        "            test_recalls.append(test_recall)\n",
        "            test_precisions.append(test_precision)\n",
        "            wandb.log({\n",
        "                \"train_loss\": train_loss,\n",
        "                \"test_loss\": test_loss,\n",
        "                \"train_acc\": train_acc,\n",
        "                \"test_acc\": test_acc,\n",
        "                \"test_f1\": test_f1,\n",
        "                \"test_balanced_acc\": test_balanced_acc,\n",
        "                \"test_recall\": test_recall,\n",
        "                \"test_precision\": test_precision,\n",
        "                \"epoch\": epoch + 1,\n",
        "                \"k_shot\": k\n",
        "            })\n",
        "\n",
        "            if (test_loss > train_loss * loss_gap_ratio or (train_acc > test_acc and train_acc - test_acc > ax_accuracy_gap / 100)) and not saved_once:\n",
        "                torch.save(model.state_dict(), f\"{model_name}_K-{k}_multi_class_loss_gap_accuracy_gap_10%.pth\")\n",
        "                saved_once = True\n",
        "                print(f\"Early stopping triggered at epoch {epoch+1}\")\n",
        "                print(f\"Model {model_name}_K-{k} saved with loss gap > 1.25 or accuracy gap > 10% at epoch {epoch}.\")\n",
        "                break\n",
        "            if epoch == num_epochs - 1 and not saved_once:\n",
        "                torch.save(model.state_dict(), f\"{model_name}_K-{k}_multi_class_final.pth\")\n",
        "                print(f\"Model {model_name}_K-{k} saved at the end of epoch {num_epochs}.\")\n",
        "                print(f\"Model metrics: \\nTest Accuracy: {test_acc:.2%}, Test F1: {test_f1:.2%}, Test Balanced Accuracy: {test_balanced_acc:.2%}, Test Recall: {test_recall:.2%}, Test Precision: {test_precision:.2%}\")\n",
        "            pbar.set_description(f\"{model_name} K-{k} Epoch {epoch+1}/{num_epochs} - Train Loss: {train_loss:.4f}, Test Loss: {test_loss:.4f}, Train Acc: {train_acc:.2%}, Test Acc: {test_acc:.2%}, Test F1: {test_f1:.2%}, Test Balanced Acc: {test_balanced_acc:.2%}, Test Recall: {test_recall:.2%}, Test Precision: {test_precision:.2%}, Time: {time.time() - start_time:.2f} sec\")\n",
        "            pbar.update(1)\n",
        "    return {\n",
        "        \"train_losses\": train_losses,\n",
        "        \"test_losses\": test_losses,\n",
        "        \"train_accuracies\": train_accuracies,\n",
        "        \"test_accuracies\": test_accuracies,\n",
        "        \"test_f1s\": test_f1s,\n",
        "        \"test_balanced_accs\": test_balanced_accs,\n",
        "        \"test_recalls\": test_recalls,\n",
        "        \"test_precisions\": test_precisions\n",
        "    }\n",
        "\n",
        "def plot_max_metrics(model_metrics, k_values):\n",
        "    import matplotlib.pyplot as plt\n",
        "    import seaborn as sns\n",
        "\n",
        "    fig, axes = plt.subplots(1, 4, figsize=(18, 6))\n",
        "    sns.set(style=\"whitegrid\")\n",
        "\n",
        "    for model_name, metrics in model_metrics.items():\n",
        "        # Convert lists of lists to flat lists (take the last entry for each k)\n",
        "        f1_values = [v if isinstance(v, float) else v[-1] for v in metrics[\"test_f1s\"]]\n",
        "        balanced_acc_values = [v if isinstance(v, float) else v[-1] for v in metrics[\"test_balanced_accs\"]]\n",
        "        recall_values = [v if isinstance(v, float) else v[-1] for v in metrics[\"test_recalls\"]]\n",
        "        precision_values = [v if isinstance(v, float) else v[-1] for v in metrics[\"test_precisions\"]]\n",
        "\n",
        "        axes[0].plot(k_values, f1_values, label=model_name, marker='o')\n",
        "        axes[1].plot(k_values, balanced_acc_values, label=model_name, marker='o')\n",
        "        axes[2].plot(k_values, recall_values, label=model_name, marker='o')\n",
        "        axes[3].plot(k_values, precision_values, label=model_name, marker='o')\n",
        "\n",
        "    axes[0].set_title(\"F1 Score\", fontsize=16)\n",
        "    axes[0].set_xlabel(\"K-shot\", fontsize=14)\n",
        "    axes[0].set_ylabel(\"F1 Score\", fontsize=14)\n",
        "    axes[0].legend(title=None, loc=\"lower right\", framealpha=0.001)\n",
        "    axes[0].grid(True)\n",
        "\n",
        "    axes[1].set_title(\"Balanced Accuracy\", fontsize=16)\n",
        "    axes[1].set_xlabel(\"K-shot\", fontsize=14)\n",
        "    axes[1].set_ylabel(\"Balanced Accuracy\", fontsize=14)\n",
        "    axes[1].legend(title=None, loc=\"lower right\", framealpha=0.001)\n",
        "    axes[1].grid(True)\n",
        "\n",
        "    axes[2].set_title(\"Recall\", fontsize=16)\n",
        "    axes[2].set_xlabel(\"K-shot\", fontsize=14)\n",
        "    axes[2].set_ylabel(\"Recall\", fontsize=14)\n",
        "    axes[2].legend(title=None, loc=\"lower right\", framealpha=0.001)\n",
        "    axes[2].grid(True)\n",
        "\n",
        "    axes[3].set_title(\"Precision\", fontsize=16)\n",
        "    axes[3].set_xlabel(\"K-shot\", fontsize=14)\n",
        "    axes[3].set_ylabel(\"Precision\", fontsize=14)\n",
        "    axes[3].legend(title=None, loc=\"lower right\", framealpha=0.001)\n",
        "    axes[3].grid(True)\n",
        "\n",
        "    plt.tight_layout()\n",
        "    plt.show()"
      ]
    },
    {
      "cell_type": "markdown",
      "metadata": {
        "id": "LAh8I2oo3sPQ"
      },
      "source": [
        "---\n",
        "# Few-Shot Training\n",
        "---"
      ]
    },
    {
      "cell_type": "code",
      "execution_count": 19,
      "metadata": {
        "id": "ropRkp56EJ-D"
      },
      "outputs": [],
      "source": [
        "class_weights = compute_class_weight('balanced', classes=np.unique(y_train_tensor.cpu().numpy()), y=y_train_tensor.cpu().numpy())\n",
        "class_weights_tensor = torch.tensor(class_weights, dtype=torch.float).to(device)\n",
        "loss_function = nn.CrossEntropyLoss(weight=class_weights_tensor)"
      ]
    },
    {
      "cell_type": "code",
      "execution_count": 20,
      "metadata": {
        "id": "u2hFyRE_HCtv"
      },
      "outputs": [],
      "source": [
        "models_info = {\n",
        "    \"GRU-Bah-Glove\": GRU_BahdanauAttentionModel(\n",
        "        embedding_matrix=embedding_matrix, hidden_dim=100, num_classes=NUM_CLASSES, dropout_prob=0.9\n",
        "    ).to(device),\n",
        "\n",
        "    \"GRU-Bah-FastText\": GRU_BahdanauAttentionModel(\n",
        "        embedding_matrix=embedding_matrix_fastText, hidden_dim=100, num_classes=NUM_CLASSES, dropout_prob=0.9\n",
        "    ).to(device),\n",
        "\n",
        "    \"CNN_LSTM\": CNN_LSTM_Model(\n",
        "        vocab_size=VOCAB_SIZE, embedding_dim=150, hidden_dim=100, num_layers=1, dropout_prob=0.3\n",
        "    ).to(device),\n",
        "\n",
        "    \"GRU-Glove\": GRU_Model(\n",
        "        vocab_size=VOCAB_SIZE, embedding_dim=EMBEDDING_DIM, hidden_dim=100,\n",
        "        num_layers=1, dropout_prob=0.4, embedding_weights=embedding_matrix\n",
        "    ).to(device),\n",
        "\n",
        "    \"GRU-FastText\": GRU_Model(\n",
        "        vocab_size=VOCAB_SIZE, embedding_dim=EMBEDDING_DIM, hidden_dim=100,\n",
        "        num_layers=1, dropout_prob=0.4, embedding_weights=embedding_matrix_fastText\n",
        "    ).to(device)\n",
        "}\n",
        "\n",
        "optimizers = {\n",
        "    \"GRU-Bah-Glove\": torch.optim.Adam(models_info[\"GRU-Bah-Glove\"].parameters(), lr=1e-4),\n",
        "    \"GRU-Bah-FastText\": torch.optim.Adam(models_info[\"GRU-Bah-FastText\"].parameters(), lr=1e-4),\n",
        "    \"CNN_LSTM\": torch.optim.AdamW(models_info[\"CNN_LSTM\"].parameters(), lr=7e-4),\n",
        "    \"GRU-Glove\": torch.optim.Adam(models_info[\"GRU-Glove\"].parameters(), lr=7e-4),\n",
        "    \"GRU-FastText\": torch.optim.Adam(models_info[\"GRU-FastText\"].parameters(), lr=7e-4)\n",
        "}"
      ]
    },
    {
      "cell_type": "code",
      "execution_count": 21,
      "metadata": {
        "colab": {
          "base_uri": "https://localhost:8080/",
          "height": 1000
        },
        "id": "AWcB0FRAmAEE",
        "outputId": "d6893959-71a1-4675-c83b-58ec4ac91d9a"
      },
      "outputs": [
        {
          "output_type": "stream",
          "name": "stdout",
          "text": [
            "\n",
            "Training with 1-shot...\n"
          ]
        },
        {
          "output_type": "stream",
          "name": "stderr",
          "text": [
            "<ipython-input-10-f03193db776b>:44: UserWarning: To copy construct from a tensor, it is recommended to use sourceTensor.clone().detach() or sourceTensor.clone().detach().requires_grad_(True), rather than torch.tensor(sourceTensor).\n",
            "  self.X = torch.tensor(X_data, dtype=torch.long)\n",
            "<ipython-input-10-f03193db776b>:45: UserWarning: To copy construct from a tensor, it is recommended to use sourceTensor.clone().detach() or sourceTensor.clone().detach().requires_grad_(True), rather than torch.tensor(sourceTensor).\n",
            "  self.y = torch.tensor(y_data, dtype=torch.long)\n"
          ]
        },
        {
          "output_type": "display_data",
          "data": {
            "text/plain": [
              "<IPython.core.display.Javascript object>"
            ],
            "application/javascript": [
              "\n",
              "        window._wandbApiKey = new Promise((resolve, reject) => {\n",
              "            function loadScript(url) {\n",
              "            return new Promise(function(resolve, reject) {\n",
              "                let newScript = document.createElement(\"script\");\n",
              "                newScript.onerror = reject;\n",
              "                newScript.onload = resolve;\n",
              "                document.body.appendChild(newScript);\n",
              "                newScript.src = url;\n",
              "            });\n",
              "            }\n",
              "            loadScript(\"https://cdn.jsdelivr.net/npm/postmate/build/postmate.min.js\").then(() => {\n",
              "            const iframe = document.createElement('iframe')\n",
              "            iframe.style.cssText = \"width:0;height:0;border:none\"\n",
              "            document.body.appendChild(iframe)\n",
              "            const handshake = new Postmate({\n",
              "                container: iframe,\n",
              "                url: 'https://wandb.ai/authorize'\n",
              "            });\n",
              "            const timeout = setTimeout(() => reject(\"Couldn't auto authenticate\"), 5000)\n",
              "            handshake.then(function(child) {\n",
              "                child.on('authorize', data => {\n",
              "                    clearTimeout(timeout)\n",
              "                    resolve(data)\n",
              "                });\n",
              "            });\n",
              "            })\n",
              "        });\n",
              "    "
            ]
          },
          "metadata": {}
        },
        {
          "output_type": "stream",
          "name": "stderr",
          "text": [
            "\u001b[34m\u001b[1mwandb\u001b[0m: Logging into wandb.ai. (Learn how to deploy a W&B server locally: https://wandb.me/wandb-server)\n",
            "\u001b[34m\u001b[1mwandb\u001b[0m: You can find your API key in your browser here: https://wandb.ai/authorize?ref=models\n",
            "wandb: Paste an API key from your profile and hit enter:"
          ]
        },
        {
          "name": "stdout",
          "output_type": "stream",
          "text": [
            " ··········\n"
          ]
        },
        {
          "output_type": "stream",
          "name": "stderr",
          "text": [
            "\u001b[34m\u001b[1mwandb\u001b[0m: \u001b[33mWARNING\u001b[0m If you're specifying your api key in code, ensure this code is not shared publicly.\n",
            "\u001b[34m\u001b[1mwandb\u001b[0m: \u001b[33mWARNING\u001b[0m Consider setting the WANDB_API_KEY environment variable, or running `wandb login` from the command line.\n",
            "\u001b[34m\u001b[1mwandb\u001b[0m: No netrc file found, creating one.\n",
            "\u001b[34m\u001b[1mwandb\u001b[0m: Appending key for api.wandb.ai to your netrc file: /root/.netrc\n",
            "\u001b[34m\u001b[1mwandb\u001b[0m: Currently logged in as: \u001b[33mwilfried-mvomoeto\u001b[0m to \u001b[32mhttps://api.wandb.ai\u001b[0m. Use \u001b[1m`wandb login --relogin`\u001b[0m to force relogin\n"
          ]
        },
        {
          "output_type": "display_data",
          "data": {
            "text/plain": [
              "<IPython.core.display.HTML object>"
            ],
            "text/html": [
              "Tracking run with wandb version 0.19.11"
            ]
          },
          "metadata": {}
        },
        {
          "output_type": "display_data",
          "data": {
            "text/plain": [
              "<IPython.core.display.HTML object>"
            ],
            "text/html": [
              "Run data is saved locally in <code>/content/wandb/run-20250514_090013-s51iflfm</code>"
            ]
          },
          "metadata": {}
        },
        {
          "output_type": "display_data",
          "data": {
            "text/plain": [
              "<IPython.core.display.HTML object>"
            ],
            "text/html": [
              "Syncing run <strong><a href='https://wandb.ai/wilfried-mvomoeto-university-of-li-ge/Few-Shot-Training_gru_glove_fastText_Bahdanau_Multi-GRU-Bah-Glove-/runs/s51iflfm' target=\"_blank\">GRU-Bah-Glove_K-1_Training</a></strong> to <a href='https://wandb.ai/wilfried-mvomoeto-university-of-li-ge/Few-Shot-Training_gru_glove_fastText_Bahdanau_Multi-GRU-Bah-Glove-' target=\"_blank\">Weights & Biases</a> (<a href='https://wandb.me/developer-guide' target=\"_blank\">docs</a>)<br>"
            ]
          },
          "metadata": {}
        },
        {
          "output_type": "display_data",
          "data": {
            "text/plain": [
              "<IPython.core.display.HTML object>"
            ],
            "text/html": [
              " View project at <a href='https://wandb.ai/wilfried-mvomoeto-university-of-li-ge/Few-Shot-Training_gru_glove_fastText_Bahdanau_Multi-GRU-Bah-Glove-' target=\"_blank\">https://wandb.ai/wilfried-mvomoeto-university-of-li-ge/Few-Shot-Training_gru_glove_fastText_Bahdanau_Multi-GRU-Bah-Glove-</a>"
            ]
          },
          "metadata": {}
        },
        {
          "output_type": "display_data",
          "data": {
            "text/plain": [
              "<IPython.core.display.HTML object>"
            ],
            "text/html": [
              " View run at <a href='https://wandb.ai/wilfried-mvomoeto-university-of-li-ge/Few-Shot-Training_gru_glove_fastText_Bahdanau_Multi-GRU-Bah-Glove-/runs/s51iflfm' target=\"_blank\">https://wandb.ai/wilfried-mvomoeto-university-of-li-ge/Few-Shot-Training_gru_glove_fastText_Bahdanau_Multi-GRU-Bah-Glove-/runs/s51iflfm</a>"
            ]
          },
          "metadata": {}
        },
        {
          "output_type": "stream",
          "name": "stderr",
          "text": [
            "Training GRU-Bah-Glove with 1-shot:   0%|          | 0/1000 [00:02<?, ?epoch/s]"
          ]
        },
        {
          "output_type": "stream",
          "name": "stdout",
          "text": [
            "Early stopping triggered at epoch 1\n",
            "Model GRU-Bah-Glove_K-1 saved with loss gap > 1.25 or accuracy gap > 10% at epoch 0.\n"
          ]
        },
        {
          "output_type": "stream",
          "name": "stderr",
          "text": [
            "\n",
            "<ipython-input-10-f03193db776b>:44: UserWarning: To copy construct from a tensor, it is recommended to use sourceTensor.clone().detach() or sourceTensor.clone().detach().requires_grad_(True), rather than torch.tensor(sourceTensor).\n",
            "  self.X = torch.tensor(X_data, dtype=torch.long)\n",
            "<ipython-input-10-f03193db776b>:45: UserWarning: To copy construct from a tensor, it is recommended to use sourceTensor.clone().detach() or sourceTensor.clone().detach().requires_grad_(True), rather than torch.tensor(sourceTensor).\n",
            "  self.y = torch.tensor(y_data, dtype=torch.long)\n"
          ]
        },
        {
          "output_type": "display_data",
          "data": {
            "text/plain": [
              "<IPython.core.display.HTML object>"
            ],
            "text/html": [
              "Finishing previous runs because reinit is set to 'default'."
            ]
          },
          "metadata": {}
        },
        {
          "output_type": "display_data",
          "data": {
            "text/plain": [
              "<IPython.core.display.HTML object>"
            ],
            "text/html": []
          },
          "metadata": {}
        },
        {
          "output_type": "display_data",
          "data": {
            "text/plain": [
              "<IPython.core.display.HTML object>"
            ],
            "text/html": [
              "<br>    <style><br>        .wandb-row {<br>            display: flex;<br>            flex-direction: row;<br>            flex-wrap: wrap;<br>            justify-content: flex-start;<br>            width: 100%;<br>        }<br>        .wandb-col {<br>            display: flex;<br>            flex-direction: column;<br>            flex-basis: 100%;<br>            flex: 1;<br>            padding: 10px;<br>        }<br>    </style><br><div class=\"wandb-row\"><div class=\"wandb-col\"><h3>Run history:</h3><br/><table class=\"wandb\"><tr><td>epoch</td><td>▁</td></tr><tr><td>k_shot</td><td>▁</td></tr><tr><td>test_acc</td><td>▁</td></tr><tr><td>test_balanced_acc</td><td>▁</td></tr><tr><td>test_f1</td><td>▁</td></tr><tr><td>test_loss</td><td>▁</td></tr><tr><td>test_precision</td><td>▁</td></tr><tr><td>test_recall</td><td>▁</td></tr><tr><td>train_acc</td><td>▁</td></tr><tr><td>train_loss</td><td>▁</td></tr></table><br/></div><div class=\"wandb-col\"><h3>Run summary:</h3><br/><table class=\"wandb\"><tr><td>epoch</td><td>1</td></tr><tr><td>k_shot</td><td>1</td></tr><tr><td>test_acc</td><td>0.06847</td></tr><tr><td>test_balanced_acc</td><td>0.11081</td></tr><tr><td>test_f1</td><td>0.01256</td></tr><tr><td>test_loss</td><td>2.23405</td></tr><tr><td>test_precision</td><td>0.18253</td></tr><tr><td>test_recall</td><td>0.06847</td></tr><tr><td>train_acc</td><td>0.22222</td></tr><tr><td>train_loss</td><td>2.41498</td></tr></table><br/></div></div>"
            ]
          },
          "metadata": {}
        },
        {
          "output_type": "display_data",
          "data": {
            "text/plain": [
              "<IPython.core.display.HTML object>"
            ],
            "text/html": [
              " View run <strong style=\"color:#cdcd00\">GRU-Bah-Glove_K-1_Training</strong> at: <a href='https://wandb.ai/wilfried-mvomoeto-university-of-li-ge/Few-Shot-Training_gru_glove_fastText_Bahdanau_Multi-GRU-Bah-Glove-/runs/s51iflfm' target=\"_blank\">https://wandb.ai/wilfried-mvomoeto-university-of-li-ge/Few-Shot-Training_gru_glove_fastText_Bahdanau_Multi-GRU-Bah-Glove-/runs/s51iflfm</a><br> View project at: <a href='https://wandb.ai/wilfried-mvomoeto-university-of-li-ge/Few-Shot-Training_gru_glove_fastText_Bahdanau_Multi-GRU-Bah-Glove-' target=\"_blank\">https://wandb.ai/wilfried-mvomoeto-university-of-li-ge/Few-Shot-Training_gru_glove_fastText_Bahdanau_Multi-GRU-Bah-Glove-</a><br>Synced 5 W&B file(s), 0 media file(s), 0 artifact file(s) and 0 other file(s)"
            ]
          },
          "metadata": {}
        },
        {
          "output_type": "display_data",
          "data": {
            "text/plain": [
              "<IPython.core.display.HTML object>"
            ],
            "text/html": [
              "Find logs at: <code>./wandb/run-20250514_090013-s51iflfm/logs</code>"
            ]
          },
          "metadata": {}
        },
        {
          "output_type": "display_data",
          "data": {
            "text/plain": [
              "<IPython.core.display.HTML object>"
            ],
            "text/html": [
              "Tracking run with wandb version 0.19.11"
            ]
          },
          "metadata": {}
        },
        {
          "output_type": "display_data",
          "data": {
            "text/plain": [
              "<IPython.core.display.HTML object>"
            ],
            "text/html": [
              "Run data is saved locally in <code>/content/wandb/run-20250514_090016-fmx2hgue</code>"
            ]
          },
          "metadata": {}
        },
        {
          "output_type": "display_data",
          "data": {
            "text/plain": [
              "<IPython.core.display.HTML object>"
            ],
            "text/html": [
              "Syncing run <strong><a href='https://wandb.ai/wilfried-mvomoeto-university-of-li-ge/Few-Shot-Training_gru_glove_fastText_Bahdanau_Multi-GRU-Bah-FastText-/runs/fmx2hgue' target=\"_blank\">GRU-Bah-FastText_K-1_Training</a></strong> to <a href='https://wandb.ai/wilfried-mvomoeto-university-of-li-ge/Few-Shot-Training_gru_glove_fastText_Bahdanau_Multi-GRU-Bah-FastText-' target=\"_blank\">Weights & Biases</a> (<a href='https://wandb.me/developer-guide' target=\"_blank\">docs</a>)<br>"
            ]
          },
          "metadata": {}
        },
        {
          "output_type": "display_data",
          "data": {
            "text/plain": [
              "<IPython.core.display.HTML object>"
            ],
            "text/html": [
              " View project at <a href='https://wandb.ai/wilfried-mvomoeto-university-of-li-ge/Few-Shot-Training_gru_glove_fastText_Bahdanau_Multi-GRU-Bah-FastText-' target=\"_blank\">https://wandb.ai/wilfried-mvomoeto-university-of-li-ge/Few-Shot-Training_gru_glove_fastText_Bahdanau_Multi-GRU-Bah-FastText-</a>"
            ]
          },
          "metadata": {}
        },
        {
          "output_type": "display_data",
          "data": {
            "text/plain": [
              "<IPython.core.display.HTML object>"
            ],
            "text/html": [
              " View run at <a href='https://wandb.ai/wilfried-mvomoeto-university-of-li-ge/Few-Shot-Training_gru_glove_fastText_Bahdanau_Multi-GRU-Bah-FastText-/runs/fmx2hgue' target=\"_blank\">https://wandb.ai/wilfried-mvomoeto-university-of-li-ge/Few-Shot-Training_gru_glove_fastText_Bahdanau_Multi-GRU-Bah-FastText-/runs/fmx2hgue</a>"
            ]
          },
          "metadata": {}
        },
        {
          "output_type": "stream",
          "name": "stderr",
          "text": [
            "GRU-Bah-FastText K-1 Epoch 2/1000 - Train Loss: 2.6528, Test Loss: 2.2213, Train Acc: 0.00%, Test Acc: 11.66%, Test F1: 2.96%, Test Balanced Acc: 11.18%, Test Recall: 11.66%, Test Precision: 10.08%, Time: 1.04 sec:   0%|          | 2/1000 [00:03<27:03,  1.63s/epoch]"
          ]
        },
        {
          "output_type": "stream",
          "name": "stdout",
          "text": [
            "Early stopping triggered at epoch 3\n",
            "Model GRU-Bah-FastText_K-1 saved with loss gap > 1.25 or accuracy gap > 10% at epoch 2.\n"
          ]
        },
        {
          "output_type": "stream",
          "name": "stderr",
          "text": [
            "\n",
            "<ipython-input-10-f03193db776b>:44: UserWarning: To copy construct from a tensor, it is recommended to use sourceTensor.clone().detach() or sourceTensor.clone().detach().requires_grad_(True), rather than torch.tensor(sourceTensor).\n",
            "  self.X = torch.tensor(X_data, dtype=torch.long)\n",
            "<ipython-input-10-f03193db776b>:45: UserWarning: To copy construct from a tensor, it is recommended to use sourceTensor.clone().detach() or sourceTensor.clone().detach().requires_grad_(True), rather than torch.tensor(sourceTensor).\n",
            "  self.y = torch.tensor(y_data, dtype=torch.long)\n"
          ]
        },
        {
          "output_type": "display_data",
          "data": {
            "text/plain": [
              "<IPython.core.display.HTML object>"
            ],
            "text/html": [
              "Finishing previous runs because reinit is set to 'default'."
            ]
          },
          "metadata": {}
        },
        {
          "output_type": "display_data",
          "data": {
            "text/plain": [
              "<IPython.core.display.HTML object>"
            ],
            "text/html": []
          },
          "metadata": {}
        },
        {
          "output_type": "display_data",
          "data": {
            "text/plain": [
              "<IPython.core.display.HTML object>"
            ],
            "text/html": [
              "<br>    <style><br>        .wandb-row {<br>            display: flex;<br>            flex-direction: row;<br>            flex-wrap: wrap;<br>            justify-content: flex-start;<br>            width: 100%;<br>        }<br>        .wandb-col {<br>            display: flex;<br>            flex-direction: column;<br>            flex-basis: 100%;<br>            flex: 1;<br>            padding: 10px;<br>        }<br>    </style><br><div class=\"wandb-row\"><div class=\"wandb-col\"><h3>Run history:</h3><br/><table class=\"wandb\"><tr><td>epoch</td><td>▁▅█</td></tr><tr><td>k_shot</td><td>▁▁▁</td></tr><tr><td>test_acc</td><td>▁▅█</td></tr><tr><td>test_balanced_acc</td><td>▁▄█</td></tr><tr><td>test_f1</td><td>▁▄█</td></tr><tr><td>test_loss</td><td>█▅▁</td></tr><tr><td>test_precision</td><td>▃▁█</td></tr><tr><td>test_recall</td><td>▁▅█</td></tr><tr><td>train_acc</td><td>▅▁█</td></tr><tr><td>train_loss</td><td>▁█▄</td></tr></table><br/></div><div class=\"wandb-col\"><h3>Run summary:</h3><br/><table class=\"wandb\"><tr><td>epoch</td><td>3</td></tr><tr><td>k_shot</td><td>1</td></tr><tr><td>test_acc</td><td>0.11728</td></tr><tr><td>test_balanced_acc</td><td>0.11245</td></tr><tr><td>test_f1</td><td>0.0309</td></tr><tr><td>test_loss</td><td>2.21943</td></tr><tr><td>test_precision</td><td>0.13994</td></tr><tr><td>test_recall</td><td>0.11728</td></tr><tr><td>train_acc</td><td>0.22222</td></tr><tr><td>train_loss</td><td>2.4273</td></tr></table><br/></div></div>"
            ]
          },
          "metadata": {}
        },
        {
          "output_type": "display_data",
          "data": {
            "text/plain": [
              "<IPython.core.display.HTML object>"
            ],
            "text/html": [
              " View run <strong style=\"color:#cdcd00\">GRU-Bah-FastText_K-1_Training</strong> at: <a href='https://wandb.ai/wilfried-mvomoeto-university-of-li-ge/Few-Shot-Training_gru_glove_fastText_Bahdanau_Multi-GRU-Bah-FastText-/runs/fmx2hgue' target=\"_blank\">https://wandb.ai/wilfried-mvomoeto-university-of-li-ge/Few-Shot-Training_gru_glove_fastText_Bahdanau_Multi-GRU-Bah-FastText-/runs/fmx2hgue</a><br> View project at: <a href='https://wandb.ai/wilfried-mvomoeto-university-of-li-ge/Few-Shot-Training_gru_glove_fastText_Bahdanau_Multi-GRU-Bah-FastText-' target=\"_blank\">https://wandb.ai/wilfried-mvomoeto-university-of-li-ge/Few-Shot-Training_gru_glove_fastText_Bahdanau_Multi-GRU-Bah-FastText-</a><br>Synced 5 W&B file(s), 0 media file(s), 0 artifact file(s) and 0 other file(s)"
            ]
          },
          "metadata": {}
        },
        {
          "output_type": "display_data",
          "data": {
            "text/plain": [
              "<IPython.core.display.HTML object>"
            ],
            "text/html": [
              "Find logs at: <code>./wandb/run-20250514_090016-fmx2hgue/logs</code>"
            ]
          },
          "metadata": {}
        },
        {
          "output_type": "display_data",
          "data": {
            "text/plain": [
              "<IPython.core.display.HTML object>"
            ],
            "text/html": [
              "Tracking run with wandb version 0.19.11"
            ]
          },
          "metadata": {}
        },
        {
          "output_type": "display_data",
          "data": {
            "text/plain": [
              "<IPython.core.display.HTML object>"
            ],
            "text/html": [
              "Run data is saved locally in <code>/content/wandb/run-20250514_090022-ve1nqqlf</code>"
            ]
          },
          "metadata": {}
        },
        {
          "output_type": "display_data",
          "data": {
            "text/plain": [
              "<IPython.core.display.HTML object>"
            ],
            "text/html": [
              "Syncing run <strong><a href='https://wandb.ai/wilfried-mvomoeto-university-of-li-ge/Few-Shot-Training_gru_glove_fastText_Bahdanau_Multi-CNN_LSTM-/runs/ve1nqqlf' target=\"_blank\">CNN_LSTM_K-1_Training</a></strong> to <a href='https://wandb.ai/wilfried-mvomoeto-university-of-li-ge/Few-Shot-Training_gru_glove_fastText_Bahdanau_Multi-CNN_LSTM-' target=\"_blank\">Weights & Biases</a> (<a href='https://wandb.me/developer-guide' target=\"_blank\">docs</a>)<br>"
            ]
          },
          "metadata": {}
        },
        {
          "output_type": "display_data",
          "data": {
            "text/plain": [
              "<IPython.core.display.HTML object>"
            ],
            "text/html": [
              " View project at <a href='https://wandb.ai/wilfried-mvomoeto-university-of-li-ge/Few-Shot-Training_gru_glove_fastText_Bahdanau_Multi-CNN_LSTM-' target=\"_blank\">https://wandb.ai/wilfried-mvomoeto-university-of-li-ge/Few-Shot-Training_gru_glove_fastText_Bahdanau_Multi-CNN_LSTM-</a>"
            ]
          },
          "metadata": {}
        },
        {
          "output_type": "display_data",
          "data": {
            "text/plain": [
              "<IPython.core.display.HTML object>"
            ],
            "text/html": [
              " View run at <a href='https://wandb.ai/wilfried-mvomoeto-university-of-li-ge/Few-Shot-Training_gru_glove_fastText_Bahdanau_Multi-CNN_LSTM-/runs/ve1nqqlf' target=\"_blank\">https://wandb.ai/wilfried-mvomoeto-university-of-li-ge/Few-Shot-Training_gru_glove_fastText_Bahdanau_Multi-CNN_LSTM-/runs/ve1nqqlf</a>"
            ]
          },
          "metadata": {}
        },
        {
          "output_type": "stream",
          "name": "stderr",
          "text": [
            "CNN_LSTM K-1 Epoch 1/1000 - Train Loss: 2.2118, Test Loss: 2.1994, Train Acc: 0.00%, Test Acc: 12.30%, Test F1: 2.69%, Test Balanced Acc: 11.11%, Test Recall: 12.30%, Test Precision: 1.51%, Time: 1.35 sec:   0%|          | 1/1000 [00:02<33:56,  2.04s/epoch]"
          ]
        },
        {
          "output_type": "stream",
          "name": "stdout",
          "text": [
            "Early stopping triggered at epoch 2\n",
            "Model CNN_LSTM_K-1 saved with loss gap > 1.25 or accuracy gap > 10% at epoch 1.\n"
          ]
        },
        {
          "output_type": "stream",
          "name": "stderr",
          "text": [
            "\n",
            "<ipython-input-10-f03193db776b>:44: UserWarning: To copy construct from a tensor, it is recommended to use sourceTensor.clone().detach() or sourceTensor.clone().detach().requires_grad_(True), rather than torch.tensor(sourceTensor).\n",
            "  self.X = torch.tensor(X_data, dtype=torch.long)\n",
            "<ipython-input-10-f03193db776b>:45: UserWarning: To copy construct from a tensor, it is recommended to use sourceTensor.clone().detach() or sourceTensor.clone().detach().requires_grad_(True), rather than torch.tensor(sourceTensor).\n",
            "  self.y = torch.tensor(y_data, dtype=torch.long)\n"
          ]
        },
        {
          "output_type": "display_data",
          "data": {
            "text/plain": [
              "<IPython.core.display.HTML object>"
            ],
            "text/html": [
              "Finishing previous runs because reinit is set to 'default'."
            ]
          },
          "metadata": {}
        },
        {
          "output_type": "display_data",
          "data": {
            "text/plain": [
              "<IPython.core.display.HTML object>"
            ],
            "text/html": []
          },
          "metadata": {}
        },
        {
          "output_type": "display_data",
          "data": {
            "text/plain": [
              "<IPython.core.display.HTML object>"
            ],
            "text/html": [
              "<br>    <style><br>        .wandb-row {<br>            display: flex;<br>            flex-direction: row;<br>            flex-wrap: wrap;<br>            justify-content: flex-start;<br>            width: 100%;<br>        }<br>        .wandb-col {<br>            display: flex;<br>            flex-direction: column;<br>            flex-basis: 100%;<br>            flex: 1;<br>            padding: 10px;<br>        }<br>    </style><br><div class=\"wandb-row\"><div class=\"wandb-col\"><h3>Run history:</h3><br/><table class=\"wandb\"><tr><td>epoch</td><td>▁█</td></tr><tr><td>k_shot</td><td>▁▁</td></tr><tr><td>test_acc</td><td>█▁</td></tr><tr><td>test_balanced_acc</td><td>▁█</td></tr><tr><td>test_f1</td><td>█▁</td></tr><tr><td>test_loss</td><td>▁█</td></tr><tr><td>test_precision</td><td>▁█</td></tr><tr><td>test_recall</td><td>█▁</td></tr><tr><td>train_acc</td><td>▁█</td></tr><tr><td>train_loss</td><td>█▁</td></tr></table><br/></div><div class=\"wandb-col\"><h3>Run summary:</h3><br/><table class=\"wandb\"><tr><td>epoch</td><td>2</td></tr><tr><td>k_shot</td><td>1</td></tr><tr><td>test_acc</td><td>0.11832</td></tr><tr><td>test_balanced_acc</td><td>0.11141</td></tr><tr><td>test_f1</td><td>0.02625</td></tr><tr><td>test_loss</td><td>2.19945</td></tr><tr><td>test_precision</td><td>0.04467</td></tr><tr><td>test_recall</td><td>0.11832</td></tr><tr><td>train_acc</td><td>0.22222</td></tr><tr><td>train_loss</td><td>2.20884</td></tr></table><br/></div></div>"
            ]
          },
          "metadata": {}
        },
        {
          "output_type": "display_data",
          "data": {
            "text/plain": [
              "<IPython.core.display.HTML object>"
            ],
            "text/html": [
              " View run <strong style=\"color:#cdcd00\">CNN_LSTM_K-1_Training</strong> at: <a href='https://wandb.ai/wilfried-mvomoeto-university-of-li-ge/Few-Shot-Training_gru_glove_fastText_Bahdanau_Multi-CNN_LSTM-/runs/ve1nqqlf' target=\"_blank\">https://wandb.ai/wilfried-mvomoeto-university-of-li-ge/Few-Shot-Training_gru_glove_fastText_Bahdanau_Multi-CNN_LSTM-/runs/ve1nqqlf</a><br> View project at: <a href='https://wandb.ai/wilfried-mvomoeto-university-of-li-ge/Few-Shot-Training_gru_glove_fastText_Bahdanau_Multi-CNN_LSTM-' target=\"_blank\">https://wandb.ai/wilfried-mvomoeto-university-of-li-ge/Few-Shot-Training_gru_glove_fastText_Bahdanau_Multi-CNN_LSTM-</a><br>Synced 5 W&B file(s), 0 media file(s), 0 artifact file(s) and 0 other file(s)"
            ]
          },
          "metadata": {}
        },
        {
          "output_type": "display_data",
          "data": {
            "text/plain": [
              "<IPython.core.display.HTML object>"
            ],
            "text/html": [
              "Find logs at: <code>./wandb/run-20250514_090022-ve1nqqlf/logs</code>"
            ]
          },
          "metadata": {}
        },
        {
          "output_type": "display_data",
          "data": {
            "text/plain": [
              "<IPython.core.display.HTML object>"
            ],
            "text/html": [
              "Tracking run with wandb version 0.19.11"
            ]
          },
          "metadata": {}
        },
        {
          "output_type": "display_data",
          "data": {
            "text/plain": [
              "<IPython.core.display.HTML object>"
            ],
            "text/html": [
              "Run data is saved locally in <code>/content/wandb/run-20250514_090026-z9n4oly6</code>"
            ]
          },
          "metadata": {}
        },
        {
          "output_type": "display_data",
          "data": {
            "text/plain": [
              "<IPython.core.display.HTML object>"
            ],
            "text/html": [
              "Syncing run <strong><a href='https://wandb.ai/wilfried-mvomoeto-university-of-li-ge/Few-Shot-Training_gru_glove_fastText_Bahdanau_Multi-GRU-Glove-/runs/z9n4oly6' target=\"_blank\">GRU-Glove_K-1_Training</a></strong> to <a href='https://wandb.ai/wilfried-mvomoeto-university-of-li-ge/Few-Shot-Training_gru_glove_fastText_Bahdanau_Multi-GRU-Glove-' target=\"_blank\">Weights & Biases</a> (<a href='https://wandb.me/developer-guide' target=\"_blank\">docs</a>)<br>"
            ]
          },
          "metadata": {}
        },
        {
          "output_type": "display_data",
          "data": {
            "text/plain": [
              "<IPython.core.display.HTML object>"
            ],
            "text/html": [
              " View project at <a href='https://wandb.ai/wilfried-mvomoeto-university-of-li-ge/Few-Shot-Training_gru_glove_fastText_Bahdanau_Multi-GRU-Glove-' target=\"_blank\">https://wandb.ai/wilfried-mvomoeto-university-of-li-ge/Few-Shot-Training_gru_glove_fastText_Bahdanau_Multi-GRU-Glove-</a>"
            ]
          },
          "metadata": {}
        },
        {
          "output_type": "display_data",
          "data": {
            "text/plain": [
              "<IPython.core.display.HTML object>"
            ],
            "text/html": [
              " View run at <a href='https://wandb.ai/wilfried-mvomoeto-university-of-li-ge/Few-Shot-Training_gru_glove_fastText_Bahdanau_Multi-GRU-Glove-/runs/z9n4oly6' target=\"_blank\">https://wandb.ai/wilfried-mvomoeto-university-of-li-ge/Few-Shot-Training_gru_glove_fastText_Bahdanau_Multi-GRU-Glove-/runs/z9n4oly6</a>"
            ]
          },
          "metadata": {}
        },
        {
          "output_type": "stream",
          "name": "stderr",
          "text": [
            "Training GRU-Glove with 1-shot:   0%|          | 0/1000 [00:00<?, ?epoch/s]"
          ]
        },
        {
          "output_type": "stream",
          "name": "stdout",
          "text": [
            "Early stopping triggered at epoch 1\n",
            "Model GRU-Glove_K-1 saved with loss gap > 1.25 or accuracy gap > 10% at epoch 0.\n"
          ]
        },
        {
          "output_type": "stream",
          "name": "stderr",
          "text": [
            "\n",
            "<ipython-input-10-f03193db776b>:44: UserWarning: To copy construct from a tensor, it is recommended to use sourceTensor.clone().detach() or sourceTensor.clone().detach().requires_grad_(True), rather than torch.tensor(sourceTensor).\n",
            "  self.X = torch.tensor(X_data, dtype=torch.long)\n",
            "<ipython-input-10-f03193db776b>:45: UserWarning: To copy construct from a tensor, it is recommended to use sourceTensor.clone().detach() or sourceTensor.clone().detach().requires_grad_(True), rather than torch.tensor(sourceTensor).\n",
            "  self.y = torch.tensor(y_data, dtype=torch.long)\n"
          ]
        },
        {
          "output_type": "display_data",
          "data": {
            "text/plain": [
              "<IPython.core.display.HTML object>"
            ],
            "text/html": [
              "Finishing previous runs because reinit is set to 'default'."
            ]
          },
          "metadata": {}
        },
        {
          "output_type": "display_data",
          "data": {
            "text/plain": [
              "<IPython.core.display.HTML object>"
            ],
            "text/html": []
          },
          "metadata": {}
        },
        {
          "output_type": "display_data",
          "data": {
            "text/plain": [
              "<IPython.core.display.HTML object>"
            ],
            "text/html": [
              "<br>    <style><br>        .wandb-row {<br>            display: flex;<br>            flex-direction: row;<br>            flex-wrap: wrap;<br>            justify-content: flex-start;<br>            width: 100%;<br>        }<br>        .wandb-col {<br>            display: flex;<br>            flex-direction: column;<br>            flex-basis: 100%;<br>            flex: 1;<br>            padding: 10px;<br>        }<br>    </style><br><div class=\"wandb-row\"><div class=\"wandb-col\"><h3>Run history:</h3><br/><table class=\"wandb\"><tr><td>epoch</td><td>▁</td></tr><tr><td>k_shot</td><td>▁</td></tr><tr><td>test_acc</td><td>▁</td></tr><tr><td>test_balanced_acc</td><td>▁</td></tr><tr><td>test_f1</td><td>▁</td></tr><tr><td>test_loss</td><td>▁</td></tr><tr><td>test_precision</td><td>▁</td></tr><tr><td>test_recall</td><td>▁</td></tr><tr><td>train_acc</td><td>▁</td></tr><tr><td>train_loss</td><td>▁</td></tr></table><br/></div><div class=\"wandb-col\"><h3>Run summary:</h3><br/><table class=\"wandb\"><tr><td>epoch</td><td>1</td></tr><tr><td>k_shot</td><td>1</td></tr><tr><td>test_acc</td><td>0.11435</td></tr><tr><td>test_balanced_acc</td><td>0.11137</td></tr><tr><td>test_f1</td><td>0.02442</td></tr><tr><td>test_loss</td><td>2.2163</td></tr><tr><td>test_precision</td><td>0.11197</td></tr><tr><td>test_recall</td><td>0.11435</td></tr><tr><td>train_acc</td><td>0.22222</td></tr><tr><td>train_loss</td><td>2.30433</td></tr></table><br/></div></div>"
            ]
          },
          "metadata": {}
        },
        {
          "output_type": "display_data",
          "data": {
            "text/plain": [
              "<IPython.core.display.HTML object>"
            ],
            "text/html": [
              " View run <strong style=\"color:#cdcd00\">GRU-Glove_K-1_Training</strong> at: <a href='https://wandb.ai/wilfried-mvomoeto-university-of-li-ge/Few-Shot-Training_gru_glove_fastText_Bahdanau_Multi-GRU-Glove-/runs/z9n4oly6' target=\"_blank\">https://wandb.ai/wilfried-mvomoeto-university-of-li-ge/Few-Shot-Training_gru_glove_fastText_Bahdanau_Multi-GRU-Glove-/runs/z9n4oly6</a><br> View project at: <a href='https://wandb.ai/wilfried-mvomoeto-university-of-li-ge/Few-Shot-Training_gru_glove_fastText_Bahdanau_Multi-GRU-Glove-' target=\"_blank\">https://wandb.ai/wilfried-mvomoeto-university-of-li-ge/Few-Shot-Training_gru_glove_fastText_Bahdanau_Multi-GRU-Glove-</a><br>Synced 5 W&B file(s), 0 media file(s), 0 artifact file(s) and 0 other file(s)"
            ]
          },
          "metadata": {}
        },
        {
          "output_type": "display_data",
          "data": {
            "text/plain": [
              "<IPython.core.display.HTML object>"
            ],
            "text/html": [
              "Find logs at: <code>./wandb/run-20250514_090026-z9n4oly6/logs</code>"
            ]
          },
          "metadata": {}
        },
        {
          "output_type": "display_data",
          "data": {
            "text/plain": [
              "<IPython.core.display.HTML object>"
            ],
            "text/html": [
              "Tracking run with wandb version 0.19.11"
            ]
          },
          "metadata": {}
        },
        {
          "output_type": "display_data",
          "data": {
            "text/plain": [
              "<IPython.core.display.HTML object>"
            ],
            "text/html": [
              "Run data is saved locally in <code>/content/wandb/run-20250514_090029-i1mrke2u</code>"
            ]
          },
          "metadata": {}
        },
        {
          "output_type": "display_data",
          "data": {
            "text/plain": [
              "<IPython.core.display.HTML object>"
            ],
            "text/html": [
              "Syncing run <strong><a href='https://wandb.ai/wilfried-mvomoeto-university-of-li-ge/Few-Shot-Training_gru_glove_fastText_Bahdanau_Multi-GRU-FastText-/runs/i1mrke2u' target=\"_blank\">GRU-FastText_K-1_Training</a></strong> to <a href='https://wandb.ai/wilfried-mvomoeto-university-of-li-ge/Few-Shot-Training_gru_glove_fastText_Bahdanau_Multi-GRU-FastText-' target=\"_blank\">Weights & Biases</a> (<a href='https://wandb.me/developer-guide' target=\"_blank\">docs</a>)<br>"
            ]
          },
          "metadata": {}
        },
        {
          "output_type": "display_data",
          "data": {
            "text/plain": [
              "<IPython.core.display.HTML object>"
            ],
            "text/html": [
              " View project at <a href='https://wandb.ai/wilfried-mvomoeto-university-of-li-ge/Few-Shot-Training_gru_glove_fastText_Bahdanau_Multi-GRU-FastText-' target=\"_blank\">https://wandb.ai/wilfried-mvomoeto-university-of-li-ge/Few-Shot-Training_gru_glove_fastText_Bahdanau_Multi-GRU-FastText-</a>"
            ]
          },
          "metadata": {}
        },
        {
          "output_type": "display_data",
          "data": {
            "text/plain": [
              "<IPython.core.display.HTML object>"
            ],
            "text/html": [
              " View run at <a href='https://wandb.ai/wilfried-mvomoeto-university-of-li-ge/Few-Shot-Training_gru_glove_fastText_Bahdanau_Multi-GRU-FastText-/runs/i1mrke2u' target=\"_blank\">https://wandb.ai/wilfried-mvomoeto-university-of-li-ge/Few-Shot-Training_gru_glove_fastText_Bahdanau_Multi-GRU-FastText-/runs/i1mrke2u</a>"
            ]
          },
          "metadata": {}
        },
        {
          "output_type": "stream",
          "name": "stderr",
          "text": [
            "GRU-FastText K-1 Epoch 1/1000 - Train Loss: 2.2695, Test Loss: 2.2479, Train Acc: 11.11%, Test Acc: 10.49%, Test F1: 2.02%, Test Balanced Acc: 11.13%, Test Recall: 10.49%, Test Precision: 4.14%, Time: 0.75 sec:   0%|          | 1/1000 [00:01<25:46,  1.55s/epoch]"
          ]
        },
        {
          "output_type": "stream",
          "name": "stdout",
          "text": [
            "Early stopping triggered at epoch 2\n",
            "Model GRU-FastText_K-1 saved with loss gap > 1.25 or accuracy gap > 10% at epoch 1.\n",
            "\n",
            "Training with 5-shot...\n"
          ]
        },
        {
          "output_type": "stream",
          "name": "stderr",
          "text": [
            "\n",
            "<ipython-input-10-f03193db776b>:44: UserWarning: To copy construct from a tensor, it is recommended to use sourceTensor.clone().detach() or sourceTensor.clone().detach().requires_grad_(True), rather than torch.tensor(sourceTensor).\n",
            "  self.X = torch.tensor(X_data, dtype=torch.long)\n",
            "<ipython-input-10-f03193db776b>:45: UserWarning: To copy construct from a tensor, it is recommended to use sourceTensor.clone().detach() or sourceTensor.clone().detach().requires_grad_(True), rather than torch.tensor(sourceTensor).\n",
            "  self.y = torch.tensor(y_data, dtype=torch.long)\n"
          ]
        },
        {
          "output_type": "display_data",
          "data": {
            "text/plain": [
              "<IPython.core.display.HTML object>"
            ],
            "text/html": [
              "Finishing previous runs because reinit is set to 'default'."
            ]
          },
          "metadata": {}
        },
        {
          "output_type": "display_data",
          "data": {
            "text/plain": [
              "<IPython.core.display.HTML object>"
            ],
            "text/html": []
          },
          "metadata": {}
        },
        {
          "output_type": "display_data",
          "data": {
            "text/plain": [
              "<IPython.core.display.HTML object>"
            ],
            "text/html": [
              "<br>    <style><br>        .wandb-row {<br>            display: flex;<br>            flex-direction: row;<br>            flex-wrap: wrap;<br>            justify-content: flex-start;<br>            width: 100%;<br>        }<br>        .wandb-col {<br>            display: flex;<br>            flex-direction: column;<br>            flex-basis: 100%;<br>            flex: 1;<br>            padding: 10px;<br>        }<br>    </style><br><div class=\"wandb-row\"><div class=\"wandb-col\"><h3>Run history:</h3><br/><table class=\"wandb\"><tr><td>epoch</td><td>▁█</td></tr><tr><td>k_shot</td><td>▁▁</td></tr><tr><td>test_acc</td><td>█▁</td></tr><tr><td>test_balanced_acc</td><td>█▁</td></tr><tr><td>test_f1</td><td>█▁</td></tr><tr><td>test_loss</td><td>█▁</td></tr><tr><td>test_precision</td><td>█▁</td></tr><tr><td>test_recall</td><td>█▁</td></tr><tr><td>train_acc</td><td>▁█</td></tr><tr><td>train_loss</td><td>█▁</td></tr></table><br/></div><div class=\"wandb-col\"><h3>Run summary:</h3><br/><table class=\"wandb\"><tr><td>epoch</td><td>2</td></tr><tr><td>k_shot</td><td>1</td></tr><tr><td>test_acc</td><td>0.06744</td></tr><tr><td>test_balanced_acc</td><td>0.11042</td></tr><tr><td>test_f1</td><td>0.00891</td></tr><tr><td>test_loss</td><td>2.22982</td></tr><tr><td>test_precision</td><td>0.03502</td></tr><tr><td>test_recall</td><td>0.06744</td></tr><tr><td>train_acc</td><td>0.22222</td></tr><tr><td>train_loss</td><td>2.02686</td></tr></table><br/></div></div>"
            ]
          },
          "metadata": {}
        },
        {
          "output_type": "display_data",
          "data": {
            "text/plain": [
              "<IPython.core.display.HTML object>"
            ],
            "text/html": [
              " View run <strong style=\"color:#cdcd00\">GRU-FastText_K-1_Training</strong> at: <a href='https://wandb.ai/wilfried-mvomoeto-university-of-li-ge/Few-Shot-Training_gru_glove_fastText_Bahdanau_Multi-GRU-FastText-/runs/i1mrke2u' target=\"_blank\">https://wandb.ai/wilfried-mvomoeto-university-of-li-ge/Few-Shot-Training_gru_glove_fastText_Bahdanau_Multi-GRU-FastText-/runs/i1mrke2u</a><br> View project at: <a href='https://wandb.ai/wilfried-mvomoeto-university-of-li-ge/Few-Shot-Training_gru_glove_fastText_Bahdanau_Multi-GRU-FastText-' target=\"_blank\">https://wandb.ai/wilfried-mvomoeto-university-of-li-ge/Few-Shot-Training_gru_glove_fastText_Bahdanau_Multi-GRU-FastText-</a><br>Synced 5 W&B file(s), 0 media file(s), 0 artifact file(s) and 0 other file(s)"
            ]
          },
          "metadata": {}
        },
        {
          "output_type": "display_data",
          "data": {
            "text/plain": [
              "<IPython.core.display.HTML object>"
            ],
            "text/html": [
              "Find logs at: <code>./wandb/run-20250514_090029-i1mrke2u/logs</code>"
            ]
          },
          "metadata": {}
        },
        {
          "output_type": "display_data",
          "data": {
            "text/plain": [
              "<IPython.core.display.HTML object>"
            ],
            "text/html": [
              "Tracking run with wandb version 0.19.11"
            ]
          },
          "metadata": {}
        },
        {
          "output_type": "display_data",
          "data": {
            "text/plain": [
              "<IPython.core.display.HTML object>"
            ],
            "text/html": [
              "Run data is saved locally in <code>/content/wandb/run-20250514_090032-159i1p7w</code>"
            ]
          },
          "metadata": {}
        },
        {
          "output_type": "display_data",
          "data": {
            "text/plain": [
              "<IPython.core.display.HTML object>"
            ],
            "text/html": [
              "Syncing run <strong><a href='https://wandb.ai/wilfried-mvomoeto-university-of-li-ge/Few-Shot-Training_gru_glove_fastText_Bahdanau_Multi-GRU-Bah-Glove-/runs/159i1p7w' target=\"_blank\">GRU-Bah-Glove_K-5_Training</a></strong> to <a href='https://wandb.ai/wilfried-mvomoeto-university-of-li-ge/Few-Shot-Training_gru_glove_fastText_Bahdanau_Multi-GRU-Bah-Glove-' target=\"_blank\">Weights & Biases</a> (<a href='https://wandb.me/developer-guide' target=\"_blank\">docs</a>)<br>"
            ]
          },
          "metadata": {}
        },
        {
          "output_type": "display_data",
          "data": {
            "text/plain": [
              "<IPython.core.display.HTML object>"
            ],
            "text/html": [
              " View project at <a href='https://wandb.ai/wilfried-mvomoeto-university-of-li-ge/Few-Shot-Training_gru_glove_fastText_Bahdanau_Multi-GRU-Bah-Glove-' target=\"_blank\">https://wandb.ai/wilfried-mvomoeto-university-of-li-ge/Few-Shot-Training_gru_glove_fastText_Bahdanau_Multi-GRU-Bah-Glove-</a>"
            ]
          },
          "metadata": {}
        },
        {
          "output_type": "display_data",
          "data": {
            "text/plain": [
              "<IPython.core.display.HTML object>"
            ],
            "text/html": [
              " View run at <a href='https://wandb.ai/wilfried-mvomoeto-university-of-li-ge/Few-Shot-Training_gru_glove_fastText_Bahdanau_Multi-GRU-Bah-Glove-/runs/159i1p7w' target=\"_blank\">https://wandb.ai/wilfried-mvomoeto-university-of-li-ge/Few-Shot-Training_gru_glove_fastText_Bahdanau_Multi-GRU-Bah-Glove-/runs/159i1p7w</a>"
            ]
          },
          "metadata": {}
        },
        {
          "output_type": "stream",
          "name": "stderr",
          "text": [
            "Training GRU-Bah-Glove with 5-shot:   0%|          | 0/1000 [00:01<?, ?epoch/s]"
          ]
        },
        {
          "output_type": "stream",
          "name": "stdout",
          "text": [
            "Early stopping triggered at epoch 1\n",
            "Model GRU-Bah-Glove_K-5 saved with loss gap > 1.25 or accuracy gap > 10% at epoch 0.\n"
          ]
        },
        {
          "output_type": "stream",
          "name": "stderr",
          "text": [
            "\n",
            "<ipython-input-10-f03193db776b>:44: UserWarning: To copy construct from a tensor, it is recommended to use sourceTensor.clone().detach() or sourceTensor.clone().detach().requires_grad_(True), rather than torch.tensor(sourceTensor).\n",
            "  self.X = torch.tensor(X_data, dtype=torch.long)\n",
            "<ipython-input-10-f03193db776b>:45: UserWarning: To copy construct from a tensor, it is recommended to use sourceTensor.clone().detach() or sourceTensor.clone().detach().requires_grad_(True), rather than torch.tensor(sourceTensor).\n",
            "  self.y = torch.tensor(y_data, dtype=torch.long)\n"
          ]
        },
        {
          "output_type": "display_data",
          "data": {
            "text/plain": [
              "<IPython.core.display.HTML object>"
            ],
            "text/html": [
              "Finishing previous runs because reinit is set to 'default'."
            ]
          },
          "metadata": {}
        },
        {
          "output_type": "display_data",
          "data": {
            "text/plain": [
              "<IPython.core.display.HTML object>"
            ],
            "text/html": []
          },
          "metadata": {}
        },
        {
          "output_type": "display_data",
          "data": {
            "text/plain": [
              "<IPython.core.display.HTML object>"
            ],
            "text/html": [
              "<br>    <style><br>        .wandb-row {<br>            display: flex;<br>            flex-direction: row;<br>            flex-wrap: wrap;<br>            justify-content: flex-start;<br>            width: 100%;<br>        }<br>        .wandb-col {<br>            display: flex;<br>            flex-direction: column;<br>            flex-basis: 100%;<br>            flex: 1;<br>            padding: 10px;<br>        }<br>    </style><br><div class=\"wandb-row\"><div class=\"wandb-col\"><h3>Run history:</h3><br/><table class=\"wandb\"><tr><td>epoch</td><td>▁</td></tr><tr><td>k_shot</td><td>▁</td></tr><tr><td>test_acc</td><td>▁</td></tr><tr><td>test_balanced_acc</td><td>▁</td></tr><tr><td>test_f1</td><td>▁</td></tr><tr><td>test_loss</td><td>▁</td></tr><tr><td>test_precision</td><td>▁</td></tr><tr><td>test_recall</td><td>▁</td></tr><tr><td>train_acc</td><td>▁</td></tr><tr><td>train_loss</td><td>▁</td></tr></table><br/></div><div class=\"wandb-col\"><h3>Run summary:</h3><br/><table class=\"wandb\"><tr><td>epoch</td><td>1</td></tr><tr><td>k_shot</td><td>5</td></tr><tr><td>test_acc</td><td>0.12332</td></tr><tr><td>test_balanced_acc</td><td>0.11157</td></tr><tr><td>test_f1</td><td>0.03016</td></tr><tr><td>test_loss</td><td>2.22262</td></tr><tr><td>test_precision</td><td>0.08753</td></tr><tr><td>test_recall</td><td>0.12332</td></tr><tr><td>train_acc</td><td>0.17778</td></tr><tr><td>train_loss</td><td>2.45874</td></tr></table><br/></div></div>"
            ]
          },
          "metadata": {}
        },
        {
          "output_type": "display_data",
          "data": {
            "text/plain": [
              "<IPython.core.display.HTML object>"
            ],
            "text/html": [
              " View run <strong style=\"color:#cdcd00\">GRU-Bah-Glove_K-5_Training</strong> at: <a href='https://wandb.ai/wilfried-mvomoeto-university-of-li-ge/Few-Shot-Training_gru_glove_fastText_Bahdanau_Multi-GRU-Bah-Glove-/runs/159i1p7w' target=\"_blank\">https://wandb.ai/wilfried-mvomoeto-university-of-li-ge/Few-Shot-Training_gru_glove_fastText_Bahdanau_Multi-GRU-Bah-Glove-/runs/159i1p7w</a><br> View project at: <a href='https://wandb.ai/wilfried-mvomoeto-university-of-li-ge/Few-Shot-Training_gru_glove_fastText_Bahdanau_Multi-GRU-Bah-Glove-' target=\"_blank\">https://wandb.ai/wilfried-mvomoeto-university-of-li-ge/Few-Shot-Training_gru_glove_fastText_Bahdanau_Multi-GRU-Bah-Glove-</a><br>Synced 5 W&B file(s), 0 media file(s), 0 artifact file(s) and 0 other file(s)"
            ]
          },
          "metadata": {}
        },
        {
          "output_type": "display_data",
          "data": {
            "text/plain": [
              "<IPython.core.display.HTML object>"
            ],
            "text/html": [
              "Find logs at: <code>./wandb/run-20250514_090032-159i1p7w/logs</code>"
            ]
          },
          "metadata": {}
        },
        {
          "output_type": "display_data",
          "data": {
            "text/plain": [
              "<IPython.core.display.HTML object>"
            ],
            "text/html": [
              "Tracking run with wandb version 0.19.11"
            ]
          },
          "metadata": {}
        },
        {
          "output_type": "display_data",
          "data": {
            "text/plain": [
              "<IPython.core.display.HTML object>"
            ],
            "text/html": [
              "Run data is saved locally in <code>/content/wandb/run-20250514_090035-0k1cv3y2</code>"
            ]
          },
          "metadata": {}
        },
        {
          "output_type": "display_data",
          "data": {
            "text/plain": [
              "<IPython.core.display.HTML object>"
            ],
            "text/html": [
              "Syncing run <strong><a href='https://wandb.ai/wilfried-mvomoeto-university-of-li-ge/Few-Shot-Training_gru_glove_fastText_Bahdanau_Multi-GRU-Bah-FastText-/runs/0k1cv3y2' target=\"_blank\">GRU-Bah-FastText_K-5_Training</a></strong> to <a href='https://wandb.ai/wilfried-mvomoeto-university-of-li-ge/Few-Shot-Training_gru_glove_fastText_Bahdanau_Multi-GRU-Bah-FastText-' target=\"_blank\">Weights & Biases</a> (<a href='https://wandb.me/developer-guide' target=\"_blank\">docs</a>)<br>"
            ]
          },
          "metadata": {}
        },
        {
          "output_type": "display_data",
          "data": {
            "text/plain": [
              "<IPython.core.display.HTML object>"
            ],
            "text/html": [
              " View project at <a href='https://wandb.ai/wilfried-mvomoeto-university-of-li-ge/Few-Shot-Training_gru_glove_fastText_Bahdanau_Multi-GRU-Bah-FastText-' target=\"_blank\">https://wandb.ai/wilfried-mvomoeto-university-of-li-ge/Few-Shot-Training_gru_glove_fastText_Bahdanau_Multi-GRU-Bah-FastText-</a>"
            ]
          },
          "metadata": {}
        },
        {
          "output_type": "display_data",
          "data": {
            "text/plain": [
              "<IPython.core.display.HTML object>"
            ],
            "text/html": [
              " View run at <a href='https://wandb.ai/wilfried-mvomoeto-university-of-li-ge/Few-Shot-Training_gru_glove_fastText_Bahdanau_Multi-GRU-Bah-FastText-/runs/0k1cv3y2' target=\"_blank\">https://wandb.ai/wilfried-mvomoeto-university-of-li-ge/Few-Shot-Training_gru_glove_fastText_Bahdanau_Multi-GRU-Bah-FastText-/runs/0k1cv3y2</a>"
            ]
          },
          "metadata": {}
        },
        {
          "output_type": "stream",
          "name": "stderr",
          "text": [
            "GRU-Bah-FastText K-5 Epoch 8/1000 - Train Loss: 2.2796, Test Loss: 2.1961, Train Acc: 8.89%, Test Acc: 10.73%, Test F1: 4.53%, Test Balanced Acc: 10.72%, Test Recall: 10.73%, Test Precision: 7.54%, Time: 1.06 sec:   1%|          | 8/1000 [00:09<18:59,  1.15s/epoch]"
          ]
        },
        {
          "output_type": "stream",
          "name": "stdout",
          "text": [
            "Early stopping triggered at epoch 9\n",
            "Model GRU-Bah-FastText_K-5 saved with loss gap > 1.25 or accuracy gap > 10% at epoch 8.\n"
          ]
        },
        {
          "output_type": "stream",
          "name": "stderr",
          "text": [
            "\n",
            "<ipython-input-10-f03193db776b>:44: UserWarning: To copy construct from a tensor, it is recommended to use sourceTensor.clone().detach() or sourceTensor.clone().detach().requires_grad_(True), rather than torch.tensor(sourceTensor).\n",
            "  self.X = torch.tensor(X_data, dtype=torch.long)\n",
            "<ipython-input-10-f03193db776b>:45: UserWarning: To copy construct from a tensor, it is recommended to use sourceTensor.clone().detach() or sourceTensor.clone().detach().requires_grad_(True), rather than torch.tensor(sourceTensor).\n",
            "  self.y = torch.tensor(y_data, dtype=torch.long)\n"
          ]
        },
        {
          "output_type": "display_data",
          "data": {
            "text/plain": [
              "<IPython.core.display.HTML object>"
            ],
            "text/html": [
              "Finishing previous runs because reinit is set to 'default'."
            ]
          },
          "metadata": {}
        },
        {
          "output_type": "display_data",
          "data": {
            "text/plain": [
              "<IPython.core.display.HTML object>"
            ],
            "text/html": []
          },
          "metadata": {}
        },
        {
          "output_type": "display_data",
          "data": {
            "text/plain": [
              "<IPython.core.display.HTML object>"
            ],
            "text/html": [
              "<br>    <style><br>        .wandb-row {<br>            display: flex;<br>            flex-direction: row;<br>            flex-wrap: wrap;<br>            justify-content: flex-start;<br>            width: 100%;<br>        }<br>        .wandb-col {<br>            display: flex;<br>            flex-direction: column;<br>            flex-basis: 100%;<br>            flex: 1;<br>            padding: 10px;<br>        }<br>    </style><br><div class=\"wandb-row\"><div class=\"wandb-col\"><h3>Run history:</h3><br/><table class=\"wandb\"><tr><td>epoch</td><td>▁▂▃▄▅▅▆▇█</td></tr><tr><td>k_shot</td><td>▁▁▁▁▁▁▁▁▁</td></tr><tr><td>test_acc</td><td>██████▅▄▁</td></tr><tr><td>test_balanced_acc</td><td>▇███▇▇▁▁▅</td></tr><tr><td>test_f1</td><td>▁▁▂▂▂▄▅▆█</td></tr><tr><td>test_loss</td><td>█▇▅▄▃▂▂▁▁</td></tr><tr><td>test_precision</td><td>▂█▄▃▁▁▁▂▃</td></tr><tr><td>test_recall</td><td>██████▅▄▁</td></tr><tr><td>train_acc</td><td>▄▅▁▅▄▄▂▄█</td></tr><tr><td>train_loss</td><td>█▃▅▃▆▂▄▃▁</td></tr></table><br/></div><div class=\"wandb-col\"><h3>Run summary:</h3><br/><table class=\"wandb\"><tr><td>epoch</td><td>9</td></tr><tr><td>k_shot</td><td>5</td></tr><tr><td>test_acc</td><td>0.10021</td></tr><tr><td>test_balanced_acc</td><td>0.10994</td></tr><tr><td>test_f1</td><td>0.05082</td></tr><tr><td>test_loss</td><td>2.19492</td></tr><tr><td>test_precision</td><td>0.08748</td></tr><tr><td>test_recall</td><td>0.10021</td></tr><tr><td>train_acc</td><td>0.2</td></tr><tr><td>train_loss</td><td>2.2091</td></tr></table><br/></div></div>"
            ]
          },
          "metadata": {}
        },
        {
          "output_type": "display_data",
          "data": {
            "text/plain": [
              "<IPython.core.display.HTML object>"
            ],
            "text/html": [
              " View run <strong style=\"color:#cdcd00\">GRU-Bah-FastText_K-5_Training</strong> at: <a href='https://wandb.ai/wilfried-mvomoeto-university-of-li-ge/Few-Shot-Training_gru_glove_fastText_Bahdanau_Multi-GRU-Bah-FastText-/runs/0k1cv3y2' target=\"_blank\">https://wandb.ai/wilfried-mvomoeto-university-of-li-ge/Few-Shot-Training_gru_glove_fastText_Bahdanau_Multi-GRU-Bah-FastText-/runs/0k1cv3y2</a><br> View project at: <a href='https://wandb.ai/wilfried-mvomoeto-university-of-li-ge/Few-Shot-Training_gru_glove_fastText_Bahdanau_Multi-GRU-Bah-FastText-' target=\"_blank\">https://wandb.ai/wilfried-mvomoeto-university-of-li-ge/Few-Shot-Training_gru_glove_fastText_Bahdanau_Multi-GRU-Bah-FastText-</a><br>Synced 5 W&B file(s), 0 media file(s), 0 artifact file(s) and 0 other file(s)"
            ]
          },
          "metadata": {}
        },
        {
          "output_type": "display_data",
          "data": {
            "text/plain": [
              "<IPython.core.display.HTML object>"
            ],
            "text/html": [
              "Find logs at: <code>./wandb/run-20250514_090035-0k1cv3y2/logs</code>"
            ]
          },
          "metadata": {}
        },
        {
          "output_type": "display_data",
          "data": {
            "text/plain": [
              "<IPython.core.display.HTML object>"
            ],
            "text/html": [
              "Tracking run with wandb version 0.19.11"
            ]
          },
          "metadata": {}
        },
        {
          "output_type": "display_data",
          "data": {
            "text/plain": [
              "<IPython.core.display.HTML object>"
            ],
            "text/html": [
              "Run data is saved locally in <code>/content/wandb/run-20250514_090046-tqli1wti</code>"
            ]
          },
          "metadata": {}
        },
        {
          "output_type": "display_data",
          "data": {
            "text/plain": [
              "<IPython.core.display.HTML object>"
            ],
            "text/html": [
              "Syncing run <strong><a href='https://wandb.ai/wilfried-mvomoeto-university-of-li-ge/Few-Shot-Training_gru_glove_fastText_Bahdanau_Multi-CNN_LSTM-/runs/tqli1wti' target=\"_blank\">CNN_LSTM_K-5_Training</a></strong> to <a href='https://wandb.ai/wilfried-mvomoeto-university-of-li-ge/Few-Shot-Training_gru_glove_fastText_Bahdanau_Multi-CNN_LSTM-' target=\"_blank\">Weights & Biases</a> (<a href='https://wandb.me/developer-guide' target=\"_blank\">docs</a>)<br>"
            ]
          },
          "metadata": {}
        },
        {
          "output_type": "display_data",
          "data": {
            "text/plain": [
              "<IPython.core.display.HTML object>"
            ],
            "text/html": [
              " View project at <a href='https://wandb.ai/wilfried-mvomoeto-university-of-li-ge/Few-Shot-Training_gru_glove_fastText_Bahdanau_Multi-CNN_LSTM-' target=\"_blank\">https://wandb.ai/wilfried-mvomoeto-university-of-li-ge/Few-Shot-Training_gru_glove_fastText_Bahdanau_Multi-CNN_LSTM-</a>"
            ]
          },
          "metadata": {}
        },
        {
          "output_type": "display_data",
          "data": {
            "text/plain": [
              "<IPython.core.display.HTML object>"
            ],
            "text/html": [
              " View run at <a href='https://wandb.ai/wilfried-mvomoeto-university-of-li-ge/Few-Shot-Training_gru_glove_fastText_Bahdanau_Multi-CNN_LSTM-/runs/tqli1wti' target=\"_blank\">https://wandb.ai/wilfried-mvomoeto-university-of-li-ge/Few-Shot-Training_gru_glove_fastText_Bahdanau_Multi-CNN_LSTM-/runs/tqli1wti</a>"
            ]
          },
          "metadata": {}
        },
        {
          "output_type": "stream",
          "name": "stderr",
          "text": [
            "CNN_LSTM K-5 Epoch 52/1000 - Train Loss: 2.1766, Test Loss: 2.2055, Train Acc: 11.11%, Test Acc: 6.78%, Test F1: 0.86%, Test Balanced Acc: 11.11%, Test Recall: 6.78%, Test Precision: 0.46%, Time: 0.67 sec:   5%|▌         | 52/1000 [00:37<11:21,  1.39epoch/s]"
          ]
        },
        {
          "output_type": "stream",
          "name": "stdout",
          "text": [
            "Early stopping triggered at epoch 53\n",
            "Model CNN_LSTM_K-5 saved with loss gap > 1.25 or accuracy gap > 10% at epoch 52.\n"
          ]
        },
        {
          "output_type": "stream",
          "name": "stderr",
          "text": [
            "\n",
            "<ipython-input-10-f03193db776b>:44: UserWarning: To copy construct from a tensor, it is recommended to use sourceTensor.clone().detach() or sourceTensor.clone().detach().requires_grad_(True), rather than torch.tensor(sourceTensor).\n",
            "  self.X = torch.tensor(X_data, dtype=torch.long)\n",
            "<ipython-input-10-f03193db776b>:45: UserWarning: To copy construct from a tensor, it is recommended to use sourceTensor.clone().detach() or sourceTensor.clone().detach().requires_grad_(True), rather than torch.tensor(sourceTensor).\n",
            "  self.y = torch.tensor(y_data, dtype=torch.long)\n"
          ]
        },
        {
          "output_type": "display_data",
          "data": {
            "text/plain": [
              "<IPython.core.display.HTML object>"
            ],
            "text/html": [
              "Finishing previous runs because reinit is set to 'default'."
            ]
          },
          "metadata": {}
        },
        {
          "output_type": "display_data",
          "data": {
            "text/plain": [
              "<IPython.core.display.HTML object>"
            ],
            "text/html": []
          },
          "metadata": {}
        },
        {
          "output_type": "display_data",
          "data": {
            "text/plain": [
              "<IPython.core.display.HTML object>"
            ],
            "text/html": [
              "<br>    <style><br>        .wandb-row {<br>            display: flex;<br>            flex-direction: row;<br>            flex-wrap: wrap;<br>            justify-content: flex-start;<br>            width: 100%;<br>        }<br>        .wandb-col {<br>            display: flex;<br>            flex-direction: column;<br>            flex-basis: 100%;<br>            flex: 1;<br>            padding: 10px;<br>        }<br>    </style><br><div class=\"wandb-row\"><div class=\"wandb-col\"><h3>Run history:</h3><br/><table class=\"wandb\"><tr><td>epoch</td><td>▁▁▁▂▂▂▂▂▂▃▃▃▃▃▃▄▄▄▄▄▅▅▅▅▅▅▆▆▆▆▆▆▇▇▇▇▇███</td></tr><tr><td>k_shot</td><td>▁▁▁▁▁▁▁▁▁▁▁▁▁▁▁▁▁▁▁▁▁▁▁▁▁▁▁▁▁▁▁▁▁▁▁▁▁▁▁▁</td></tr><tr><td>test_acc</td><td>█▇█▇▁▁▁▁▁▁▁▁▁▁▁▁▁▁▁▁▁▁▁▁▁▁▁▁▁▁▁▁▁▁▁▁▁▁▁▁</td></tr><tr><td>test_balanced_acc</td><td>▂█▄▁▁▃▄▄▄▄▄▄▄▄▄▄▄▄▄▄▄▄▄▄▄▄▄▄▄▄▄▄▄▄▄▄▄▄▄▄</td></tr><tr><td>test_f1</td><td>█▇█▇▁▁▁▁▁▁▁▁▁▁▁▁▁▁▁▁▁▁▁▁▁▁▁▁▁▁▁▁▁▁▁▁▁▁▁▁</td></tr><tr><td>test_loss</td><td>▂▁▁▁▁▃▃▅▆▆▅▅▆▇▇▇▇▇▇▆▆▅▆▅▅▅▅▅▆▇█▇▆▇▅▅▄▃▃▄</td></tr><tr><td>test_precision</td><td>▆█▃▇▄▁▁▁▁▁▁▁▁▁▁▁▁▁▁▁▁▁▁▁▁▁▁▁▁▁▁▁▁▁▁▁▁▁▁▁</td></tr><tr><td>test_recall</td><td>█▇█▇▁▁▁▁▁▁▁▁▁▁▁▁▁▁▁▁▁▁▁▁▁▁▁▁▁▁▁▁▁▁▁▁▁▁▁▁</td></tr><tr><td>train_acc</td><td>▃█▃▆▁▃▆▆▆▆▆▆▆▆▆▆▆▆▆▆▆▆▆▆▆▆▆▆▆▆▃▆▆▆▆▆▆▆▆█</td></tr><tr><td>train_loss</td><td>█▇▇▆▆▅▄▄▄▄▅▃▃▃▁▃▂▃▁▂▃▄▅▇▄▁▄▄▂▃▃▄▂▁▃▄█▇▄▃</td></tr></table><br/></div><div class=\"wandb-col\"><h3>Run summary:</h3><br/><table class=\"wandb\"><tr><td>epoch</td><td>53</td></tr><tr><td>k_shot</td><td>5</td></tr><tr><td>test_acc</td><td>0.06778</td></tr><tr><td>test_balanced_acc</td><td>0.11111</td></tr><tr><td>test_f1</td><td>0.00861</td></tr><tr><td>test_loss</td><td>2.20742</td></tr><tr><td>test_precision</td><td>0.00459</td></tr><tr><td>test_recall</td><td>0.06778</td></tr><tr><td>train_acc</td><td>0.13333</td></tr><tr><td>train_loss</td><td>2.17615</td></tr></table><br/></div></div>"
            ]
          },
          "metadata": {}
        },
        {
          "output_type": "display_data",
          "data": {
            "text/plain": [
              "<IPython.core.display.HTML object>"
            ],
            "text/html": [
              " View run <strong style=\"color:#cdcd00\">CNN_LSTM_K-5_Training</strong> at: <a href='https://wandb.ai/wilfried-mvomoeto-university-of-li-ge/Few-Shot-Training_gru_glove_fastText_Bahdanau_Multi-CNN_LSTM-/runs/tqli1wti' target=\"_blank\">https://wandb.ai/wilfried-mvomoeto-university-of-li-ge/Few-Shot-Training_gru_glove_fastText_Bahdanau_Multi-CNN_LSTM-/runs/tqli1wti</a><br> View project at: <a href='https://wandb.ai/wilfried-mvomoeto-university-of-li-ge/Few-Shot-Training_gru_glove_fastText_Bahdanau_Multi-CNN_LSTM-' target=\"_blank\">https://wandb.ai/wilfried-mvomoeto-university-of-li-ge/Few-Shot-Training_gru_glove_fastText_Bahdanau_Multi-CNN_LSTM-</a><br>Synced 5 W&B file(s), 0 media file(s), 0 artifact file(s) and 0 other file(s)"
            ]
          },
          "metadata": {}
        },
        {
          "output_type": "display_data",
          "data": {
            "text/plain": [
              "<IPython.core.display.HTML object>"
            ],
            "text/html": [
              "Find logs at: <code>./wandb/run-20250514_090046-tqli1wti/logs</code>"
            ]
          },
          "metadata": {}
        },
        {
          "output_type": "display_data",
          "data": {
            "text/plain": [
              "<IPython.core.display.HTML object>"
            ],
            "text/html": [
              "Tracking run with wandb version 0.19.11"
            ]
          },
          "metadata": {}
        },
        {
          "output_type": "display_data",
          "data": {
            "text/plain": [
              "<IPython.core.display.HTML object>"
            ],
            "text/html": [
              "Run data is saved locally in <code>/content/wandb/run-20250514_090125-p6llp5m8</code>"
            ]
          },
          "metadata": {}
        },
        {
          "output_type": "display_data",
          "data": {
            "text/plain": [
              "<IPython.core.display.HTML object>"
            ],
            "text/html": [
              "Syncing run <strong><a href='https://wandb.ai/wilfried-mvomoeto-university-of-li-ge/Few-Shot-Training_gru_glove_fastText_Bahdanau_Multi-GRU-Glove-/runs/p6llp5m8' target=\"_blank\">GRU-Glove_K-5_Training</a></strong> to <a href='https://wandb.ai/wilfried-mvomoeto-university-of-li-ge/Few-Shot-Training_gru_glove_fastText_Bahdanau_Multi-GRU-Glove-' target=\"_blank\">Weights & Biases</a> (<a href='https://wandb.me/developer-guide' target=\"_blank\">docs</a>)<br>"
            ]
          },
          "metadata": {}
        },
        {
          "output_type": "display_data",
          "data": {
            "text/plain": [
              "<IPython.core.display.HTML object>"
            ],
            "text/html": [
              " View project at <a href='https://wandb.ai/wilfried-mvomoeto-university-of-li-ge/Few-Shot-Training_gru_glove_fastText_Bahdanau_Multi-GRU-Glove-' target=\"_blank\">https://wandb.ai/wilfried-mvomoeto-university-of-li-ge/Few-Shot-Training_gru_glove_fastText_Bahdanau_Multi-GRU-Glove-</a>"
            ]
          },
          "metadata": {}
        },
        {
          "output_type": "display_data",
          "data": {
            "text/plain": [
              "<IPython.core.display.HTML object>"
            ],
            "text/html": [
              " View run at <a href='https://wandb.ai/wilfried-mvomoeto-university-of-li-ge/Few-Shot-Training_gru_glove_fastText_Bahdanau_Multi-GRU-Glove-/runs/p6llp5m8' target=\"_blank\">https://wandb.ai/wilfried-mvomoeto-university-of-li-ge/Few-Shot-Training_gru_glove_fastText_Bahdanau_Multi-GRU-Glove-/runs/p6llp5m8</a>"
            ]
          },
          "metadata": {}
        },
        {
          "output_type": "stream",
          "name": "stderr",
          "text": [
            "GRU-Glove K-5 Epoch 1/1000 - Train Loss: 2.2774, Test Loss: 2.2058, Train Acc: 8.89%, Test Acc: 11.30%, Test F1: 2.33%, Test Balanced Acc: 11.14%, Test Recall: 11.30%, Test Precision: 3.54%, Time: 0.68 sec:   0%|          | 1/1000 [00:01<22:32,  1.35s/epoch]"
          ]
        },
        {
          "output_type": "stream",
          "name": "stdout",
          "text": [
            "Early stopping triggered at epoch 2\n",
            "Model GRU-Glove_K-5 saved with loss gap > 1.25 or accuracy gap > 10% at epoch 1.\n"
          ]
        },
        {
          "output_type": "stream",
          "name": "stderr",
          "text": [
            "\n",
            "<ipython-input-10-f03193db776b>:44: UserWarning: To copy construct from a tensor, it is recommended to use sourceTensor.clone().detach() or sourceTensor.clone().detach().requires_grad_(True), rather than torch.tensor(sourceTensor).\n",
            "  self.X = torch.tensor(X_data, dtype=torch.long)\n",
            "<ipython-input-10-f03193db776b>:45: UserWarning: To copy construct from a tensor, it is recommended to use sourceTensor.clone().detach() or sourceTensor.clone().detach().requires_grad_(True), rather than torch.tensor(sourceTensor).\n",
            "  self.y = torch.tensor(y_data, dtype=torch.long)\n"
          ]
        },
        {
          "output_type": "display_data",
          "data": {
            "text/plain": [
              "<IPython.core.display.HTML object>"
            ],
            "text/html": [
              "Finishing previous runs because reinit is set to 'default'."
            ]
          },
          "metadata": {}
        },
        {
          "output_type": "display_data",
          "data": {
            "text/plain": [
              "<IPython.core.display.HTML object>"
            ],
            "text/html": []
          },
          "metadata": {}
        },
        {
          "output_type": "display_data",
          "data": {
            "text/plain": [
              "<IPython.core.display.HTML object>"
            ],
            "text/html": [
              "<br>    <style><br>        .wandb-row {<br>            display: flex;<br>            flex-direction: row;<br>            flex-wrap: wrap;<br>            justify-content: flex-start;<br>            width: 100%;<br>        }<br>        .wandb-col {<br>            display: flex;<br>            flex-direction: column;<br>            flex-basis: 100%;<br>            flex: 1;<br>            padding: 10px;<br>        }<br>    </style><br><div class=\"wandb-row\"><div class=\"wandb-col\"><h3>Run history:</h3><br/><table class=\"wandb\"><tr><td>epoch</td><td>▁█</td></tr><tr><td>k_shot</td><td>▁▁</td></tr><tr><td>test_acc</td><td>█▁</td></tr><tr><td>test_balanced_acc</td><td>█▁</td></tr><tr><td>test_f1</td><td>█▁</td></tr><tr><td>test_loss</td><td>▁█</td></tr><tr><td>test_precision</td><td>▁█</td></tr><tr><td>test_recall</td><td>█▁</td></tr><tr><td>train_acc</td><td>▁█</td></tr><tr><td>train_loss</td><td>█▁</td></tr></table><br/></div><div class=\"wandb-col\"><h3>Run summary:</h3><br/><table class=\"wandb\"><tr><td>epoch</td><td>2</td></tr><tr><td>k_shot</td><td>5</td></tr><tr><td>test_acc</td><td>0.06761</td></tr><tr><td>test_balanced_acc</td><td>0.11072</td></tr><tr><td>test_f1</td><td>0.00893</td></tr><tr><td>test_loss</td><td>2.20713</td></tr><tr><td>test_precision</td><td>0.04219</td></tr><tr><td>test_recall</td><td>0.06761</td></tr><tr><td>train_acc</td><td>0.13333</td></tr><tr><td>train_loss</td><td>2.19987</td></tr></table><br/></div></div>"
            ]
          },
          "metadata": {}
        },
        {
          "output_type": "display_data",
          "data": {
            "text/plain": [
              "<IPython.core.display.HTML object>"
            ],
            "text/html": [
              " View run <strong style=\"color:#cdcd00\">GRU-Glove_K-5_Training</strong> at: <a href='https://wandb.ai/wilfried-mvomoeto-university-of-li-ge/Few-Shot-Training_gru_glove_fastText_Bahdanau_Multi-GRU-Glove-/runs/p6llp5m8' target=\"_blank\">https://wandb.ai/wilfried-mvomoeto-university-of-li-ge/Few-Shot-Training_gru_glove_fastText_Bahdanau_Multi-GRU-Glove-/runs/p6llp5m8</a><br> View project at: <a href='https://wandb.ai/wilfried-mvomoeto-university-of-li-ge/Few-Shot-Training_gru_glove_fastText_Bahdanau_Multi-GRU-Glove-' target=\"_blank\">https://wandb.ai/wilfried-mvomoeto-university-of-li-ge/Few-Shot-Training_gru_glove_fastText_Bahdanau_Multi-GRU-Glove-</a><br>Synced 5 W&B file(s), 0 media file(s), 0 artifact file(s) and 0 other file(s)"
            ]
          },
          "metadata": {}
        },
        {
          "output_type": "display_data",
          "data": {
            "text/plain": [
              "<IPython.core.display.HTML object>"
            ],
            "text/html": [
              "Find logs at: <code>./wandb/run-20250514_090125-p6llp5m8/logs</code>"
            ]
          },
          "metadata": {}
        },
        {
          "output_type": "display_data",
          "data": {
            "text/plain": [
              "<IPython.core.display.HTML object>"
            ],
            "text/html": [
              "Tracking run with wandb version 0.19.11"
            ]
          },
          "metadata": {}
        },
        {
          "output_type": "display_data",
          "data": {
            "text/plain": [
              "<IPython.core.display.HTML object>"
            ],
            "text/html": [
              "Run data is saved locally in <code>/content/wandb/run-20250514_090129-m5rskwd3</code>"
            ]
          },
          "metadata": {}
        },
        {
          "output_type": "display_data",
          "data": {
            "text/plain": [
              "<IPython.core.display.HTML object>"
            ],
            "text/html": [
              "Syncing run <strong><a href='https://wandb.ai/wilfried-mvomoeto-university-of-li-ge/Few-Shot-Training_gru_glove_fastText_Bahdanau_Multi-GRU-FastText-/runs/m5rskwd3' target=\"_blank\">GRU-FastText_K-5_Training</a></strong> to <a href='https://wandb.ai/wilfried-mvomoeto-university-of-li-ge/Few-Shot-Training_gru_glove_fastText_Bahdanau_Multi-GRU-FastText-' target=\"_blank\">Weights & Biases</a> (<a href='https://wandb.me/developer-guide' target=\"_blank\">docs</a>)<br>"
            ]
          },
          "metadata": {}
        },
        {
          "output_type": "display_data",
          "data": {
            "text/plain": [
              "<IPython.core.display.HTML object>"
            ],
            "text/html": [
              " View project at <a href='https://wandb.ai/wilfried-mvomoeto-university-of-li-ge/Few-Shot-Training_gru_glove_fastText_Bahdanau_Multi-GRU-FastText-' target=\"_blank\">https://wandb.ai/wilfried-mvomoeto-university-of-li-ge/Few-Shot-Training_gru_glove_fastText_Bahdanau_Multi-GRU-FastText-</a>"
            ]
          },
          "metadata": {}
        },
        {
          "output_type": "display_data",
          "data": {
            "text/plain": [
              "<IPython.core.display.HTML object>"
            ],
            "text/html": [
              " View run at <a href='https://wandb.ai/wilfried-mvomoeto-university-of-li-ge/Few-Shot-Training_gru_glove_fastText_Bahdanau_Multi-GRU-FastText-/runs/m5rskwd3' target=\"_blank\">https://wandb.ai/wilfried-mvomoeto-university-of-li-ge/Few-Shot-Training_gru_glove_fastText_Bahdanau_Multi-GRU-FastText-/runs/m5rskwd3</a>"
            ]
          },
          "metadata": {}
        },
        {
          "output_type": "stream",
          "name": "stderr",
          "text": [
            "GRU-FastText K-5 Epoch 1/1000 - Train Loss: 2.2824, Test Loss: 2.2132, Train Acc: 13.33%, Test Acc: 11.42%, Test F1: 2.44%, Test Balanced Acc: 11.12%, Test Recall: 11.42%, Test Precision: 9.10%, Time: 0.63 sec:   0%|          | 1/1000 [00:01<21:46,  1.31s/epoch]"
          ]
        },
        {
          "output_type": "stream",
          "name": "stdout",
          "text": [
            "Early stopping triggered at epoch 2\n",
            "Model GRU-FastText_K-5 saved with loss gap > 1.25 or accuracy gap > 10% at epoch 1.\n",
            "\n",
            "Training with 10-shot...\n"
          ]
        },
        {
          "output_type": "stream",
          "name": "stderr",
          "text": [
            "\n",
            "<ipython-input-10-f03193db776b>:44: UserWarning: To copy construct from a tensor, it is recommended to use sourceTensor.clone().detach() or sourceTensor.clone().detach().requires_grad_(True), rather than torch.tensor(sourceTensor).\n",
            "  self.X = torch.tensor(X_data, dtype=torch.long)\n",
            "<ipython-input-10-f03193db776b>:45: UserWarning: To copy construct from a tensor, it is recommended to use sourceTensor.clone().detach() or sourceTensor.clone().detach().requires_grad_(True), rather than torch.tensor(sourceTensor).\n",
            "  self.y = torch.tensor(y_data, dtype=torch.long)\n"
          ]
        },
        {
          "output_type": "display_data",
          "data": {
            "text/plain": [
              "<IPython.core.display.HTML object>"
            ],
            "text/html": [
              "Finishing previous runs because reinit is set to 'default'."
            ]
          },
          "metadata": {}
        },
        {
          "output_type": "display_data",
          "data": {
            "text/plain": [
              "<IPython.core.display.HTML object>"
            ],
            "text/html": []
          },
          "metadata": {}
        },
        {
          "output_type": "display_data",
          "data": {
            "text/plain": [
              "<IPython.core.display.HTML object>"
            ],
            "text/html": [
              "<br>    <style><br>        .wandb-row {<br>            display: flex;<br>            flex-direction: row;<br>            flex-wrap: wrap;<br>            justify-content: flex-start;<br>            width: 100%;<br>        }<br>        .wandb-col {<br>            display: flex;<br>            flex-direction: column;<br>            flex-basis: 100%;<br>            flex: 1;<br>            padding: 10px;<br>        }<br>    </style><br><div class=\"wandb-row\"><div class=\"wandb-col\"><h3>Run history:</h3><br/><table class=\"wandb\"><tr><td>epoch</td><td>▁█</td></tr><tr><td>k_shot</td><td>▁▁</td></tr><tr><td>test_acc</td><td>█▁</td></tr><tr><td>test_balanced_acc</td><td>█▁</td></tr><tr><td>test_f1</td><td>█▁</td></tr><tr><td>test_loss</td><td>▁█</td></tr><tr><td>test_precision</td><td>█▁</td></tr><tr><td>test_recall</td><td>█▁</td></tr><tr><td>train_acc</td><td>▁█</td></tr><tr><td>train_loss</td><td>█▁</td></tr></table><br/></div><div class=\"wandb-col\"><h3>Run summary:</h3><br/><table class=\"wandb\"><tr><td>epoch</td><td>2</td></tr><tr><td>k_shot</td><td>5</td></tr><tr><td>test_acc</td><td>0.06795</td></tr><tr><td>test_balanced_acc</td><td>0.11114</td></tr><tr><td>test_f1</td><td>0.00929</td></tr><tr><td>test_loss</td><td>2.21611</td></tr><tr><td>test_precision</td><td>0.06565</td></tr><tr><td>test_recall</td><td>0.06795</td></tr><tr><td>train_acc</td><td>0.15556</td></tr><tr><td>train_loss</td><td>2.22863</td></tr></table><br/></div></div>"
            ]
          },
          "metadata": {}
        },
        {
          "output_type": "display_data",
          "data": {
            "text/plain": [
              "<IPython.core.display.HTML object>"
            ],
            "text/html": [
              " View run <strong style=\"color:#cdcd00\">GRU-FastText_K-5_Training</strong> at: <a href='https://wandb.ai/wilfried-mvomoeto-university-of-li-ge/Few-Shot-Training_gru_glove_fastText_Bahdanau_Multi-GRU-FastText-/runs/m5rskwd3' target=\"_blank\">https://wandb.ai/wilfried-mvomoeto-university-of-li-ge/Few-Shot-Training_gru_glove_fastText_Bahdanau_Multi-GRU-FastText-/runs/m5rskwd3</a><br> View project at: <a href='https://wandb.ai/wilfried-mvomoeto-university-of-li-ge/Few-Shot-Training_gru_glove_fastText_Bahdanau_Multi-GRU-FastText-' target=\"_blank\">https://wandb.ai/wilfried-mvomoeto-university-of-li-ge/Few-Shot-Training_gru_glove_fastText_Bahdanau_Multi-GRU-FastText-</a><br>Synced 5 W&B file(s), 0 media file(s), 0 artifact file(s) and 0 other file(s)"
            ]
          },
          "metadata": {}
        },
        {
          "output_type": "display_data",
          "data": {
            "text/plain": [
              "<IPython.core.display.HTML object>"
            ],
            "text/html": [
              "Find logs at: <code>./wandb/run-20250514_090129-m5rskwd3/logs</code>"
            ]
          },
          "metadata": {}
        },
        {
          "output_type": "display_data",
          "data": {
            "text/plain": [
              "<IPython.core.display.HTML object>"
            ],
            "text/html": [
              "Tracking run with wandb version 0.19.11"
            ]
          },
          "metadata": {}
        },
        {
          "output_type": "display_data",
          "data": {
            "text/plain": [
              "<IPython.core.display.HTML object>"
            ],
            "text/html": [
              "Run data is saved locally in <code>/content/wandb/run-20250514_090132-qm2wskr4</code>"
            ]
          },
          "metadata": {}
        },
        {
          "output_type": "display_data",
          "data": {
            "text/plain": [
              "<IPython.core.display.HTML object>"
            ],
            "text/html": [
              "Syncing run <strong><a href='https://wandb.ai/wilfried-mvomoeto-university-of-li-ge/Few-Shot-Training_gru_glove_fastText_Bahdanau_Multi-GRU-Bah-Glove-/runs/qm2wskr4' target=\"_blank\">GRU-Bah-Glove_K-10_Training</a></strong> to <a href='https://wandb.ai/wilfried-mvomoeto-university-of-li-ge/Few-Shot-Training_gru_glove_fastText_Bahdanau_Multi-GRU-Bah-Glove-' target=\"_blank\">Weights & Biases</a> (<a href='https://wandb.me/developer-guide' target=\"_blank\">docs</a>)<br>"
            ]
          },
          "metadata": {}
        },
        {
          "output_type": "display_data",
          "data": {
            "text/plain": [
              "<IPython.core.display.HTML object>"
            ],
            "text/html": [
              " View project at <a href='https://wandb.ai/wilfried-mvomoeto-university-of-li-ge/Few-Shot-Training_gru_glove_fastText_Bahdanau_Multi-GRU-Bah-Glove-' target=\"_blank\">https://wandb.ai/wilfried-mvomoeto-university-of-li-ge/Few-Shot-Training_gru_glove_fastText_Bahdanau_Multi-GRU-Bah-Glove-</a>"
            ]
          },
          "metadata": {}
        },
        {
          "output_type": "display_data",
          "data": {
            "text/plain": [
              "<IPython.core.display.HTML object>"
            ],
            "text/html": [
              " View run at <a href='https://wandb.ai/wilfried-mvomoeto-university-of-li-ge/Few-Shot-Training_gru_glove_fastText_Bahdanau_Multi-GRU-Bah-Glove-/runs/qm2wskr4' target=\"_blank\">https://wandb.ai/wilfried-mvomoeto-university-of-li-ge/Few-Shot-Training_gru_glove_fastText_Bahdanau_Multi-GRU-Bah-Glove-/runs/qm2wskr4</a>"
            ]
          },
          "metadata": {}
        },
        {
          "output_type": "stream",
          "name": "stderr",
          "text": [
            "GRU-Bah-Glove K-10 Epoch 19/1000 - Train Loss: 2.1508, Test Loss: 2.1706, Train Acc: 14.44%, Test Acc: 14.14%, Test F1: 8.39%, Test Balanced Acc: 17.97%, Test Recall: 14.14%, Test Precision: 26.40%, Time: 1.11 sec:   2%|▏         | 19/1000 [00:21<18:12,  1.11s/epoch]"
          ]
        },
        {
          "output_type": "stream",
          "name": "stdout",
          "text": [
            "Early stopping triggered at epoch 20\n",
            "Model GRU-Bah-Glove_K-10 saved with loss gap > 1.25 or accuracy gap > 10% at epoch 19.\n"
          ]
        },
        {
          "output_type": "stream",
          "name": "stderr",
          "text": [
            "\n",
            "<ipython-input-10-f03193db776b>:44: UserWarning: To copy construct from a tensor, it is recommended to use sourceTensor.clone().detach() or sourceTensor.clone().detach().requires_grad_(True), rather than torch.tensor(sourceTensor).\n",
            "  self.X = torch.tensor(X_data, dtype=torch.long)\n",
            "<ipython-input-10-f03193db776b>:45: UserWarning: To copy construct from a tensor, it is recommended to use sourceTensor.clone().detach() or sourceTensor.clone().detach().requires_grad_(True), rather than torch.tensor(sourceTensor).\n",
            "  self.y = torch.tensor(y_data, dtype=torch.long)\n"
          ]
        },
        {
          "output_type": "display_data",
          "data": {
            "text/plain": [
              "<IPython.core.display.HTML object>"
            ],
            "text/html": [
              "Finishing previous runs because reinit is set to 'default'."
            ]
          },
          "metadata": {}
        },
        {
          "output_type": "display_data",
          "data": {
            "text/plain": [
              "<IPython.core.display.HTML object>"
            ],
            "text/html": []
          },
          "metadata": {}
        },
        {
          "output_type": "display_data",
          "data": {
            "text/plain": [
              "<IPython.core.display.HTML object>"
            ],
            "text/html": [
              "<br>    <style><br>        .wandb-row {<br>            display: flex;<br>            flex-direction: row;<br>            flex-wrap: wrap;<br>            justify-content: flex-start;<br>            width: 100%;<br>        }<br>        .wandb-col {<br>            display: flex;<br>            flex-direction: column;<br>            flex-basis: 100%;<br>            flex: 1;<br>            padding: 10px;<br>        }<br>    </style><br><div class=\"wandb-row\"><div class=\"wandb-col\"><h3>Run history:</h3><br/><table class=\"wandb\"><tr><td>epoch</td><td>▁▁▂▂▂▃▃▄▄▄▅▅▅▆▆▇▇▇██</td></tr><tr><td>k_shot</td><td>▁▁▁▁▁▁▁▁▁▁▁▁▁▁▁▁▁▁▁▁</td></tr><tr><td>test_acc</td><td>▃▄▃▁▁▂▂▃▄▄▅▅▆▆▇▇▇███</td></tr><tr><td>test_balanced_acc</td><td>▁▂▂▁▂▂▂▃▄▅▅▆▆▆▇▇▇███</td></tr><tr><td>test_f1</td><td>▁▃▄▄▄▄▅▅▅▅▆▆▆▆▆▆▇▇██</td></tr><tr><td>test_loss</td><td>█▇▆▆▅▅▅▅▄▄▄▃▃▃▃▂▂▂▁▁</td></tr><tr><td>test_precision</td><td>▁▁▂▂▂▃▅▅▆▅▆▇▇▇██████</td></tr><tr><td>test_recall</td><td>▃▄▃▁▁▂▂▃▄▄▅▅▆▆▇▇▇███</td></tr><tr><td>train_acc</td><td>▃▁▆▃▅▃▆▄▅▅▄▅▅▅▆▄▇▇▆█</td></tr><tr><td>train_loss</td><td>▇█▃▃▂▃▂▂▂▂▂▂▁▁▁▂▁▁▁▁</td></tr></table><br/></div><div class=\"wandb-col\"><h3>Run summary:</h3><br/><table class=\"wandb\"><tr><td>epoch</td><td>20</td></tr><tr><td>k_shot</td><td>10</td></tr><tr><td>test_acc</td><td>0.1435</td></tr><tr><td>test_balanced_acc</td><td>0.18282</td></tr><tr><td>test_f1</td><td>0.08619</td></tr><tr><td>test_loss</td><td>2.16863</td></tr><tr><td>test_precision</td><td>0.27438</td></tr><tr><td>test_recall</td><td>0.1435</td></tr><tr><td>train_acc</td><td>0.21111</td></tr><tr><td>train_loss</td><td>2.12379</td></tr></table><br/></div></div>"
            ]
          },
          "metadata": {}
        },
        {
          "output_type": "display_data",
          "data": {
            "text/plain": [
              "<IPython.core.display.HTML object>"
            ],
            "text/html": [
              " View run <strong style=\"color:#cdcd00\">GRU-Bah-Glove_K-10_Training</strong> at: <a href='https://wandb.ai/wilfried-mvomoeto-university-of-li-ge/Few-Shot-Training_gru_glove_fastText_Bahdanau_Multi-GRU-Bah-Glove-/runs/qm2wskr4' target=\"_blank\">https://wandb.ai/wilfried-mvomoeto-university-of-li-ge/Few-Shot-Training_gru_glove_fastText_Bahdanau_Multi-GRU-Bah-Glove-/runs/qm2wskr4</a><br> View project at: <a href='https://wandb.ai/wilfried-mvomoeto-university-of-li-ge/Few-Shot-Training_gru_glove_fastText_Bahdanau_Multi-GRU-Bah-Glove-' target=\"_blank\">https://wandb.ai/wilfried-mvomoeto-university-of-li-ge/Few-Shot-Training_gru_glove_fastText_Bahdanau_Multi-GRU-Bah-Glove-</a><br>Synced 5 W&B file(s), 0 media file(s), 0 artifact file(s) and 0 other file(s)"
            ]
          },
          "metadata": {}
        },
        {
          "output_type": "display_data",
          "data": {
            "text/plain": [
              "<IPython.core.display.HTML object>"
            ],
            "text/html": [
              "Find logs at: <code>./wandb/run-20250514_090132-qm2wskr4/logs</code>"
            ]
          },
          "metadata": {}
        },
        {
          "output_type": "display_data",
          "data": {
            "text/plain": [
              "<IPython.core.display.HTML object>"
            ],
            "text/html": [
              "Tracking run with wandb version 0.19.11"
            ]
          },
          "metadata": {}
        },
        {
          "output_type": "display_data",
          "data": {
            "text/plain": [
              "<IPython.core.display.HTML object>"
            ],
            "text/html": [
              "Run data is saved locally in <code>/content/wandb/run-20250514_090155-3lzwtq54</code>"
            ]
          },
          "metadata": {}
        },
        {
          "output_type": "display_data",
          "data": {
            "text/plain": [
              "<IPython.core.display.HTML object>"
            ],
            "text/html": [
              "Syncing run <strong><a href='https://wandb.ai/wilfried-mvomoeto-university-of-li-ge/Few-Shot-Training_gru_glove_fastText_Bahdanau_Multi-GRU-Bah-FastText-/runs/3lzwtq54' target=\"_blank\">GRU-Bah-FastText_K-10_Training</a></strong> to <a href='https://wandb.ai/wilfried-mvomoeto-university-of-li-ge/Few-Shot-Training_gru_glove_fastText_Bahdanau_Multi-GRU-Bah-FastText-' target=\"_blank\">Weights & Biases</a> (<a href='https://wandb.me/developer-guide' target=\"_blank\">docs</a>)<br>"
            ]
          },
          "metadata": {}
        },
        {
          "output_type": "display_data",
          "data": {
            "text/plain": [
              "<IPython.core.display.HTML object>"
            ],
            "text/html": [
              " View project at <a href='https://wandb.ai/wilfried-mvomoeto-university-of-li-ge/Few-Shot-Training_gru_glove_fastText_Bahdanau_Multi-GRU-Bah-FastText-' target=\"_blank\">https://wandb.ai/wilfried-mvomoeto-university-of-li-ge/Few-Shot-Training_gru_glove_fastText_Bahdanau_Multi-GRU-Bah-FastText-</a>"
            ]
          },
          "metadata": {}
        },
        {
          "output_type": "display_data",
          "data": {
            "text/plain": [
              "<IPython.core.display.HTML object>"
            ],
            "text/html": [
              " View run at <a href='https://wandb.ai/wilfried-mvomoeto-university-of-li-ge/Few-Shot-Training_gru_glove_fastText_Bahdanau_Multi-GRU-Bah-FastText-/runs/3lzwtq54' target=\"_blank\">https://wandb.ai/wilfried-mvomoeto-university-of-li-ge/Few-Shot-Training_gru_glove_fastText_Bahdanau_Multi-GRU-Bah-FastText-/runs/3lzwtq54</a>"
            ]
          },
          "metadata": {}
        },
        {
          "output_type": "stream",
          "name": "stderr",
          "text": [
            "GRU-Bah-FastText K-10 Epoch 5/1000 - Train Loss: 2.2475, Test Loss: 2.2004, Train Acc: 11.11%, Test Acc: 7.04%, Test F1: 1.54%, Test Balanced Acc: 11.28%, Test Recall: 7.04%, Test Precision: 9.67%, Time: 1.00 sec:   0%|          | 5/1000 [00:06<20:17,  1.22s/epoch]"
          ]
        },
        {
          "output_type": "stream",
          "name": "stdout",
          "text": [
            "Early stopping triggered at epoch 6\n",
            "Model GRU-Bah-FastText_K-10 saved with loss gap > 1.25 or accuracy gap > 10% at epoch 5.\n"
          ]
        },
        {
          "output_type": "stream",
          "name": "stderr",
          "text": [
            "\n",
            "<ipython-input-10-f03193db776b>:44: UserWarning: To copy construct from a tensor, it is recommended to use sourceTensor.clone().detach() or sourceTensor.clone().detach().requires_grad_(True), rather than torch.tensor(sourceTensor).\n",
            "  self.X = torch.tensor(X_data, dtype=torch.long)\n",
            "<ipython-input-10-f03193db776b>:45: UserWarning: To copy construct from a tensor, it is recommended to use sourceTensor.clone().detach() or sourceTensor.clone().detach().requires_grad_(True), rather than torch.tensor(sourceTensor).\n",
            "  self.y = torch.tensor(y_data, dtype=torch.long)\n"
          ]
        },
        {
          "output_type": "display_data",
          "data": {
            "text/plain": [
              "<IPython.core.display.HTML object>"
            ],
            "text/html": [
              "Finishing previous runs because reinit is set to 'default'."
            ]
          },
          "metadata": {}
        },
        {
          "output_type": "display_data",
          "data": {
            "text/plain": [
              "<IPython.core.display.HTML object>"
            ],
            "text/html": []
          },
          "metadata": {}
        },
        {
          "output_type": "display_data",
          "data": {
            "text/plain": [
              "<IPython.core.display.HTML object>"
            ],
            "text/html": [
              "<br>    <style><br>        .wandb-row {<br>            display: flex;<br>            flex-direction: row;<br>            flex-wrap: wrap;<br>            justify-content: flex-start;<br>            width: 100%;<br>        }<br>        .wandb-col {<br>            display: flex;<br>            flex-direction: column;<br>            flex-basis: 100%;<br>            flex: 1;<br>            padding: 10px;<br>        }<br>    </style><br><div class=\"wandb-row\"><div class=\"wandb-col\"><h3>Run history:</h3><br/><table class=\"wandb\"><tr><td>epoch</td><td>▁▂▄▅▇█</td></tr><tr><td>k_shot</td><td>▁▁▁▁▁▁</td></tr><tr><td>test_acc</td><td>▁▁▃▄▆█</td></tr><tr><td>test_balanced_acc</td><td>▁▁▃▅▇█</td></tr><tr><td>test_f1</td><td>▁▁▂▃▅█</td></tr><tr><td>test_loss</td><td>█▆▅▃▂▁</td></tr><tr><td>test_precision</td><td>▁▁▂█▄▃</td></tr><tr><td>test_recall</td><td>▁▁▃▄▆█</td></tr><tr><td>train_acc</td><td>▄▃▄▁▄█</td></tr><tr><td>train_loss</td><td>█▅▂▄▂▁</td></tr></table><br/></div><div class=\"wandb-col\"><h3>Run summary:</h3><br/><table class=\"wandb\"><tr><td>epoch</td><td>6</td></tr><tr><td>k_shot</td><td>10</td></tr><tr><td>test_acc</td><td>0.07158</td></tr><tr><td>test_balanced_acc</td><td>0.11332</td></tr><tr><td>test_f1</td><td>0.01894</td></tr><tr><td>test_loss</td><td>2.19847</td></tr><tr><td>test_precision</td><td>0.09333</td></tr><tr><td>test_recall</td><td>0.07158</td></tr><tr><td>train_acc</td><td>0.13333</td></tr><tr><td>train_loss</td><td>2.20125</td></tr></table><br/></div></div>"
            ]
          },
          "metadata": {}
        },
        {
          "output_type": "display_data",
          "data": {
            "text/plain": [
              "<IPython.core.display.HTML object>"
            ],
            "text/html": [
              " View run <strong style=\"color:#cdcd00\">GRU-Bah-FastText_K-10_Training</strong> at: <a href='https://wandb.ai/wilfried-mvomoeto-university-of-li-ge/Few-Shot-Training_gru_glove_fastText_Bahdanau_Multi-GRU-Bah-FastText-/runs/3lzwtq54' target=\"_blank\">https://wandb.ai/wilfried-mvomoeto-university-of-li-ge/Few-Shot-Training_gru_glove_fastText_Bahdanau_Multi-GRU-Bah-FastText-/runs/3lzwtq54</a><br> View project at: <a href='https://wandb.ai/wilfried-mvomoeto-university-of-li-ge/Few-Shot-Training_gru_glove_fastText_Bahdanau_Multi-GRU-Bah-FastText-' target=\"_blank\">https://wandb.ai/wilfried-mvomoeto-university-of-li-ge/Few-Shot-Training_gru_glove_fastText_Bahdanau_Multi-GRU-Bah-FastText-</a><br>Synced 5 W&B file(s), 0 media file(s), 0 artifact file(s) and 0 other file(s)"
            ]
          },
          "metadata": {}
        },
        {
          "output_type": "display_data",
          "data": {
            "text/plain": [
              "<IPython.core.display.HTML object>"
            ],
            "text/html": [
              "Find logs at: <code>./wandb/run-20250514_090155-3lzwtq54/logs</code>"
            ]
          },
          "metadata": {}
        },
        {
          "output_type": "display_data",
          "data": {
            "text/plain": [
              "<IPython.core.display.HTML object>"
            ],
            "text/html": [
              "Tracking run with wandb version 0.19.11"
            ]
          },
          "metadata": {}
        },
        {
          "output_type": "display_data",
          "data": {
            "text/plain": [
              "<IPython.core.display.HTML object>"
            ],
            "text/html": [
              "Run data is saved locally in <code>/content/wandb/run-20250514_090203-fwen5uu6</code>"
            ]
          },
          "metadata": {}
        },
        {
          "output_type": "display_data",
          "data": {
            "text/plain": [
              "<IPython.core.display.HTML object>"
            ],
            "text/html": [
              "Syncing run <strong><a href='https://wandb.ai/wilfried-mvomoeto-university-of-li-ge/Few-Shot-Training_gru_glove_fastText_Bahdanau_Multi-CNN_LSTM-/runs/fwen5uu6' target=\"_blank\">CNN_LSTM_K-10_Training</a></strong> to <a href='https://wandb.ai/wilfried-mvomoeto-university-of-li-ge/Few-Shot-Training_gru_glove_fastText_Bahdanau_Multi-CNN_LSTM-' target=\"_blank\">Weights & Biases</a> (<a href='https://wandb.me/developer-guide' target=\"_blank\">docs</a>)<br>"
            ]
          },
          "metadata": {}
        },
        {
          "output_type": "display_data",
          "data": {
            "text/plain": [
              "<IPython.core.display.HTML object>"
            ],
            "text/html": [
              " View project at <a href='https://wandb.ai/wilfried-mvomoeto-university-of-li-ge/Few-Shot-Training_gru_glove_fastText_Bahdanau_Multi-CNN_LSTM-' target=\"_blank\">https://wandb.ai/wilfried-mvomoeto-university-of-li-ge/Few-Shot-Training_gru_glove_fastText_Bahdanau_Multi-CNN_LSTM-</a>"
            ]
          },
          "metadata": {}
        },
        {
          "output_type": "display_data",
          "data": {
            "text/plain": [
              "<IPython.core.display.HTML object>"
            ],
            "text/html": [
              " View run at <a href='https://wandb.ai/wilfried-mvomoeto-university-of-li-ge/Few-Shot-Training_gru_glove_fastText_Bahdanau_Multi-CNN_LSTM-/runs/fwen5uu6' target=\"_blank\">https://wandb.ai/wilfried-mvomoeto-university-of-li-ge/Few-Shot-Training_gru_glove_fastText_Bahdanau_Multi-CNN_LSTM-/runs/fwen5uu6</a>"
            ]
          },
          "metadata": {}
        },
        {
          "output_type": "stream",
          "name": "stderr",
          "text": [
            "CNN_LSTM K-10 Epoch 1/1000 - Train Loss: 2.2101, Test Loss: 2.1986, Train Acc: 7.78%, Test Acc: 11.28%, Test F1: 2.32%, Test Balanced Acc: 11.11%, Test Recall: 11.28%, Test Precision: 2.24%, Time: 0.85 sec:   0%|          | 1/1000 [00:01<29:06,  1.75s/epoch]"
          ]
        },
        {
          "output_type": "stream",
          "name": "stdout",
          "text": [
            "Early stopping triggered at epoch 2\n",
            "Model CNN_LSTM_K-10 saved with loss gap > 1.25 or accuracy gap > 10% at epoch 1.\n"
          ]
        },
        {
          "output_type": "stream",
          "name": "stderr",
          "text": [
            "\n",
            "<ipython-input-10-f03193db776b>:44: UserWarning: To copy construct from a tensor, it is recommended to use sourceTensor.clone().detach() or sourceTensor.clone().detach().requires_grad_(True), rather than torch.tensor(sourceTensor).\n",
            "  self.X = torch.tensor(X_data, dtype=torch.long)\n",
            "<ipython-input-10-f03193db776b>:45: UserWarning: To copy construct from a tensor, it is recommended to use sourceTensor.clone().detach() or sourceTensor.clone().detach().requires_grad_(True), rather than torch.tensor(sourceTensor).\n",
            "  self.y = torch.tensor(y_data, dtype=torch.long)\n"
          ]
        },
        {
          "output_type": "display_data",
          "data": {
            "text/plain": [
              "<IPython.core.display.HTML object>"
            ],
            "text/html": [
              "Finishing previous runs because reinit is set to 'default'."
            ]
          },
          "metadata": {}
        },
        {
          "output_type": "display_data",
          "data": {
            "text/plain": [
              "<IPython.core.display.HTML object>"
            ],
            "text/html": []
          },
          "metadata": {}
        },
        {
          "output_type": "display_data",
          "data": {
            "text/plain": [
              "<IPython.core.display.HTML object>"
            ],
            "text/html": [
              "<br>    <style><br>        .wandb-row {<br>            display: flex;<br>            flex-direction: row;<br>            flex-wrap: wrap;<br>            justify-content: flex-start;<br>            width: 100%;<br>        }<br>        .wandb-col {<br>            display: flex;<br>            flex-direction: column;<br>            flex-basis: 100%;<br>            flex: 1;<br>            padding: 10px;<br>        }<br>    </style><br><div class=\"wandb-row\"><div class=\"wandb-col\"><h3>Run history:</h3><br/><table class=\"wandb\"><tr><td>epoch</td><td>▁█</td></tr><tr><td>k_shot</td><td>▁▁</td></tr><tr><td>test_acc</td><td>█▁</td></tr><tr><td>test_balanced_acc</td><td>▁█</td></tr><tr><td>test_f1</td><td>█▁</td></tr><tr><td>test_loss</td><td>▁█</td></tr><tr><td>test_precision</td><td>█▁</td></tr><tr><td>test_recall</td><td>█▁</td></tr><tr><td>train_acc</td><td>▁█</td></tr><tr><td>train_loss</td><td>█▁</td></tr></table><br/></div><div class=\"wandb-col\"><h3>Run summary:</h3><br/><table class=\"wandb\"><tr><td>epoch</td><td>2</td></tr><tr><td>k_shot</td><td>10</td></tr><tr><td>test_acc</td><td>0.06778</td></tr><tr><td>test_balanced_acc</td><td>0.11111</td></tr><tr><td>test_f1</td><td>0.00861</td></tr><tr><td>test_loss</td><td>2.20356</td></tr><tr><td>test_precision</td><td>0.00459</td></tr><tr><td>test_recall</td><td>0.06778</td></tr><tr><td>train_acc</td><td>0.12222</td></tr><tr><td>train_loss</td><td>2.20005</td></tr></table><br/></div></div>"
            ]
          },
          "metadata": {}
        },
        {
          "output_type": "display_data",
          "data": {
            "text/plain": [
              "<IPython.core.display.HTML object>"
            ],
            "text/html": [
              " View run <strong style=\"color:#cdcd00\">CNN_LSTM_K-10_Training</strong> at: <a href='https://wandb.ai/wilfried-mvomoeto-university-of-li-ge/Few-Shot-Training_gru_glove_fastText_Bahdanau_Multi-CNN_LSTM-/runs/fwen5uu6' target=\"_blank\">https://wandb.ai/wilfried-mvomoeto-university-of-li-ge/Few-Shot-Training_gru_glove_fastText_Bahdanau_Multi-CNN_LSTM-/runs/fwen5uu6</a><br> View project at: <a href='https://wandb.ai/wilfried-mvomoeto-university-of-li-ge/Few-Shot-Training_gru_glove_fastText_Bahdanau_Multi-CNN_LSTM-' target=\"_blank\">https://wandb.ai/wilfried-mvomoeto-university-of-li-ge/Few-Shot-Training_gru_glove_fastText_Bahdanau_Multi-CNN_LSTM-</a><br>Synced 5 W&B file(s), 0 media file(s), 0 artifact file(s) and 0 other file(s)"
            ]
          },
          "metadata": {}
        },
        {
          "output_type": "display_data",
          "data": {
            "text/plain": [
              "<IPython.core.display.HTML object>"
            ],
            "text/html": [
              "Find logs at: <code>./wandb/run-20250514_090203-fwen5uu6/logs</code>"
            ]
          },
          "metadata": {}
        },
        {
          "output_type": "display_data",
          "data": {
            "text/plain": [
              "<IPython.core.display.HTML object>"
            ],
            "text/html": [
              "Tracking run with wandb version 0.19.11"
            ]
          },
          "metadata": {}
        },
        {
          "output_type": "display_data",
          "data": {
            "text/plain": [
              "<IPython.core.display.HTML object>"
            ],
            "text/html": [
              "Run data is saved locally in <code>/content/wandb/run-20250514_090206-qbt0srnz</code>"
            ]
          },
          "metadata": {}
        },
        {
          "output_type": "display_data",
          "data": {
            "text/plain": [
              "<IPython.core.display.HTML object>"
            ],
            "text/html": [
              "Syncing run <strong><a href='https://wandb.ai/wilfried-mvomoeto-university-of-li-ge/Few-Shot-Training_gru_glove_fastText_Bahdanau_Multi-GRU-Glove-/runs/qbt0srnz' target=\"_blank\">GRU-Glove_K-10_Training</a></strong> to <a href='https://wandb.ai/wilfried-mvomoeto-university-of-li-ge/Few-Shot-Training_gru_glove_fastText_Bahdanau_Multi-GRU-Glove-' target=\"_blank\">Weights & Biases</a> (<a href='https://wandb.me/developer-guide' target=\"_blank\">docs</a>)<br>"
            ]
          },
          "metadata": {}
        },
        {
          "output_type": "display_data",
          "data": {
            "text/plain": [
              "<IPython.core.display.HTML object>"
            ],
            "text/html": [
              " View project at <a href='https://wandb.ai/wilfried-mvomoeto-university-of-li-ge/Few-Shot-Training_gru_glove_fastText_Bahdanau_Multi-GRU-Glove-' target=\"_blank\">https://wandb.ai/wilfried-mvomoeto-university-of-li-ge/Few-Shot-Training_gru_glove_fastText_Bahdanau_Multi-GRU-Glove-</a>"
            ]
          },
          "metadata": {}
        },
        {
          "output_type": "display_data",
          "data": {
            "text/plain": [
              "<IPython.core.display.HTML object>"
            ],
            "text/html": [
              " View run at <a href='https://wandb.ai/wilfried-mvomoeto-university-of-li-ge/Few-Shot-Training_gru_glove_fastText_Bahdanau_Multi-GRU-Glove-/runs/qbt0srnz' target=\"_blank\">https://wandb.ai/wilfried-mvomoeto-university-of-li-ge/Few-Shot-Training_gru_glove_fastText_Bahdanau_Multi-GRU-Glove-/runs/qbt0srnz</a>"
            ]
          },
          "metadata": {}
        },
        {
          "output_type": "stream",
          "name": "stderr",
          "text": [
            "GRU-Glove K-10 Epoch 1/1000 - Train Loss: 2.2599, Test Loss: 2.2138, Train Acc: 11.11%, Test Acc: 11.45%, Test F1: 2.48%, Test Balanced Acc: 11.14%, Test Recall: 11.45%, Test Precision: 21.46%, Time: 0.74 sec:   0%|          | 1/1000 [00:01<23:49,  1.43s/epoch]"
          ]
        },
        {
          "output_type": "stream",
          "name": "stdout",
          "text": [
            "Early stopping triggered at epoch 2\n",
            "Model GRU-Glove_K-10 saved with loss gap > 1.25 or accuracy gap > 10% at epoch 1.\n"
          ]
        },
        {
          "output_type": "stream",
          "name": "stderr",
          "text": [
            "\n",
            "<ipython-input-10-f03193db776b>:44: UserWarning: To copy construct from a tensor, it is recommended to use sourceTensor.clone().detach() or sourceTensor.clone().detach().requires_grad_(True), rather than torch.tensor(sourceTensor).\n",
            "  self.X = torch.tensor(X_data, dtype=torch.long)\n",
            "<ipython-input-10-f03193db776b>:45: UserWarning: To copy construct from a tensor, it is recommended to use sourceTensor.clone().detach() or sourceTensor.clone().detach().requires_grad_(True), rather than torch.tensor(sourceTensor).\n",
            "  self.y = torch.tensor(y_data, dtype=torch.long)\n"
          ]
        },
        {
          "output_type": "display_data",
          "data": {
            "text/plain": [
              "<IPython.core.display.HTML object>"
            ],
            "text/html": [
              "Finishing previous runs because reinit is set to 'default'."
            ]
          },
          "metadata": {}
        },
        {
          "output_type": "display_data",
          "data": {
            "text/plain": [
              "<IPython.core.display.HTML object>"
            ],
            "text/html": []
          },
          "metadata": {}
        },
        {
          "output_type": "display_data",
          "data": {
            "text/plain": [
              "<IPython.core.display.HTML object>"
            ],
            "text/html": [
              "<br>    <style><br>        .wandb-row {<br>            display: flex;<br>            flex-direction: row;<br>            flex-wrap: wrap;<br>            justify-content: flex-start;<br>            width: 100%;<br>        }<br>        .wandb-col {<br>            display: flex;<br>            flex-direction: column;<br>            flex-basis: 100%;<br>            flex: 1;<br>            padding: 10px;<br>        }<br>    </style><br><div class=\"wandb-row\"><div class=\"wandb-col\"><h3>Run history:</h3><br/><table class=\"wandb\"><tr><td>epoch</td><td>▁█</td></tr><tr><td>k_shot</td><td>▁▁</td></tr><tr><td>test_acc</td><td>█▁</td></tr><tr><td>test_balanced_acc</td><td>█▁</td></tr><tr><td>test_f1</td><td>█▁</td></tr><tr><td>test_loss</td><td>▁█</td></tr><tr><td>test_precision</td><td>▁█</td></tr><tr><td>test_recall</td><td>█▁</td></tr><tr><td>train_acc</td><td>▁█</td></tr><tr><td>train_loss</td><td>█▁</td></tr></table><br/></div><div class=\"wandb-col\"><h3>Run summary:</h3><br/><table class=\"wandb\"><tr><td>epoch</td><td>2</td></tr><tr><td>k_shot</td><td>10</td></tr><tr><td>test_acc</td><td>0.06813</td></tr><tr><td>test_balanced_acc</td><td>0.11117</td></tr><tr><td>test_f1</td><td>0.00996</td></tr><tr><td>test_loss</td><td>2.2282</td></tr><tr><td>test_precision</td><td>0.21833</td></tr><tr><td>test_recall</td><td>0.06813</td></tr><tr><td>train_acc</td><td>0.12222</td></tr><tr><td>train_loss</td><td>2.23972</td></tr></table><br/></div></div>"
            ]
          },
          "metadata": {}
        },
        {
          "output_type": "display_data",
          "data": {
            "text/plain": [
              "<IPython.core.display.HTML object>"
            ],
            "text/html": [
              " View run <strong style=\"color:#cdcd00\">GRU-Glove_K-10_Training</strong> at: <a href='https://wandb.ai/wilfried-mvomoeto-university-of-li-ge/Few-Shot-Training_gru_glove_fastText_Bahdanau_Multi-GRU-Glove-/runs/qbt0srnz' target=\"_blank\">https://wandb.ai/wilfried-mvomoeto-university-of-li-ge/Few-Shot-Training_gru_glove_fastText_Bahdanau_Multi-GRU-Glove-/runs/qbt0srnz</a><br> View project at: <a href='https://wandb.ai/wilfried-mvomoeto-university-of-li-ge/Few-Shot-Training_gru_glove_fastText_Bahdanau_Multi-GRU-Glove-' target=\"_blank\">https://wandb.ai/wilfried-mvomoeto-university-of-li-ge/Few-Shot-Training_gru_glove_fastText_Bahdanau_Multi-GRU-Glove-</a><br>Synced 5 W&B file(s), 0 media file(s), 0 artifact file(s) and 0 other file(s)"
            ]
          },
          "metadata": {}
        },
        {
          "output_type": "display_data",
          "data": {
            "text/plain": [
              "<IPython.core.display.HTML object>"
            ],
            "text/html": [
              "Find logs at: <code>./wandb/run-20250514_090206-qbt0srnz/logs</code>"
            ]
          },
          "metadata": {}
        },
        {
          "output_type": "display_data",
          "data": {
            "text/plain": [
              "<IPython.core.display.HTML object>"
            ],
            "text/html": [
              "Tracking run with wandb version 0.19.11"
            ]
          },
          "metadata": {}
        },
        {
          "output_type": "display_data",
          "data": {
            "text/plain": [
              "<IPython.core.display.HTML object>"
            ],
            "text/html": [
              "Run data is saved locally in <code>/content/wandb/run-20250514_090209-i5m5ox2h</code>"
            ]
          },
          "metadata": {}
        },
        {
          "output_type": "display_data",
          "data": {
            "text/plain": [
              "<IPython.core.display.HTML object>"
            ],
            "text/html": [
              "Syncing run <strong><a href='https://wandb.ai/wilfried-mvomoeto-university-of-li-ge/Few-Shot-Training_gru_glove_fastText_Bahdanau_Multi-GRU-FastText-/runs/i5m5ox2h' target=\"_blank\">GRU-FastText_K-10_Training</a></strong> to <a href='https://wandb.ai/wilfried-mvomoeto-university-of-li-ge/Few-Shot-Training_gru_glove_fastText_Bahdanau_Multi-GRU-FastText-' target=\"_blank\">Weights & Biases</a> (<a href='https://wandb.me/developer-guide' target=\"_blank\">docs</a>)<br>"
            ]
          },
          "metadata": {}
        },
        {
          "output_type": "display_data",
          "data": {
            "text/plain": [
              "<IPython.core.display.HTML object>"
            ],
            "text/html": [
              " View project at <a href='https://wandb.ai/wilfried-mvomoeto-university-of-li-ge/Few-Shot-Training_gru_glove_fastText_Bahdanau_Multi-GRU-FastText-' target=\"_blank\">https://wandb.ai/wilfried-mvomoeto-university-of-li-ge/Few-Shot-Training_gru_glove_fastText_Bahdanau_Multi-GRU-FastText-</a>"
            ]
          },
          "metadata": {}
        },
        {
          "output_type": "display_data",
          "data": {
            "text/plain": [
              "<IPython.core.display.HTML object>"
            ],
            "text/html": [
              " View run at <a href='https://wandb.ai/wilfried-mvomoeto-university-of-li-ge/Few-Shot-Training_gru_glove_fastText_Bahdanau_Multi-GRU-FastText-/runs/i5m5ox2h' target=\"_blank\">https://wandb.ai/wilfried-mvomoeto-university-of-li-ge/Few-Shot-Training_gru_glove_fastText_Bahdanau_Multi-GRU-FastText-/runs/i5m5ox2h</a>"
            ]
          },
          "metadata": {}
        },
        {
          "output_type": "stream",
          "name": "stderr",
          "text": [
            "GRU-FastText K-10 Epoch 8/1000 - Train Loss: 2.2553, Test Loss: 2.2036, Train Acc: 10.00%, Test Acc: 6.81%, Test F1: 0.96%, Test Balanced Acc: 11.13%, Test Recall: 6.81%, Test Precision: 11.54%, Time: 0.60 sec:   1%|          | 8/1000 [00:05<11:22,  1.45epoch/s]"
          ]
        },
        {
          "output_type": "stream",
          "name": "stdout",
          "text": [
            "Early stopping triggered at epoch 9\n",
            "Model GRU-FastText_K-10 saved with loss gap > 1.25 or accuracy gap > 10% at epoch 8.\n",
            "\n",
            "Training with 20-shot...\n"
          ]
        },
        {
          "output_type": "stream",
          "name": "stderr",
          "text": [
            "\n",
            "<ipython-input-10-f03193db776b>:44: UserWarning: To copy construct from a tensor, it is recommended to use sourceTensor.clone().detach() or sourceTensor.clone().detach().requires_grad_(True), rather than torch.tensor(sourceTensor).\n",
            "  self.X = torch.tensor(X_data, dtype=torch.long)\n",
            "<ipython-input-10-f03193db776b>:45: UserWarning: To copy construct from a tensor, it is recommended to use sourceTensor.clone().detach() or sourceTensor.clone().detach().requires_grad_(True), rather than torch.tensor(sourceTensor).\n",
            "  self.y = torch.tensor(y_data, dtype=torch.long)\n"
          ]
        },
        {
          "output_type": "display_data",
          "data": {
            "text/plain": [
              "<IPython.core.display.HTML object>"
            ],
            "text/html": [
              "Finishing previous runs because reinit is set to 'default'."
            ]
          },
          "metadata": {}
        },
        {
          "output_type": "display_data",
          "data": {
            "text/plain": [
              "<IPython.core.display.HTML object>"
            ],
            "text/html": []
          },
          "metadata": {}
        },
        {
          "output_type": "display_data",
          "data": {
            "text/plain": [
              "<IPython.core.display.HTML object>"
            ],
            "text/html": [
              "<br>    <style><br>        .wandb-row {<br>            display: flex;<br>            flex-direction: row;<br>            flex-wrap: wrap;<br>            justify-content: flex-start;<br>            width: 100%;<br>        }<br>        .wandb-col {<br>            display: flex;<br>            flex-direction: column;<br>            flex-basis: 100%;<br>            flex: 1;<br>            padding: 10px;<br>        }<br>    </style><br><div class=\"wandb-row\"><div class=\"wandb-col\"><h3>Run history:</h3><br/><table class=\"wandb\"><tr><td>epoch</td><td>▁▂▃▄▅▅▆▇█</td></tr><tr><td>k_shot</td><td>▁▁▁▁▁▁▁▁▁</td></tr><tr><td>test_acc</td><td>▁██▁▁▁▁▁▁</td></tr><tr><td>test_balanced_acc</td><td>▂█▇▁▃▂▂▁▂</td></tr><tr><td>test_f1</td><td>▁██▁▁▂▁▁▁</td></tr><tr><td>test_loss</td><td>▆▇▂█▄▁▅▁▄</td></tr><tr><td>test_precision</td><td>▃█▇▁▆▅▄▁▁</td></tr><tr><td>test_recall</td><td>▁██▁▁▁▁▁▁</td></tr><tr><td>train_acc</td><td>▅▅▁▃▅▂▅▄█</td></tr><tr><td>train_loss</td><td>▅▃█▅▇▅▄▄▁</td></tr></table><br/></div><div class=\"wandb-col\"><h3>Run summary:</h3><br/><table class=\"wandb\"><tr><td>epoch</td><td>9</td></tr><tr><td>k_shot</td><td>10</td></tr><tr><td>test_acc</td><td>0.0683</td></tr><tr><td>test_balanced_acc</td><td>0.11148</td></tr><tr><td>test_f1</td><td>0.00998</td></tr><tr><td>test_loss</td><td>2.21576</td></tr><tr><td>test_precision</td><td>0.11465</td></tr><tr><td>test_recall</td><td>0.0683</td></tr><tr><td>train_acc</td><td>0.14444</td></tr><tr><td>train_loss</td><td>2.21339</td></tr></table><br/></div></div>"
            ]
          },
          "metadata": {}
        },
        {
          "output_type": "display_data",
          "data": {
            "text/plain": [
              "<IPython.core.display.HTML object>"
            ],
            "text/html": [
              " View run <strong style=\"color:#cdcd00\">GRU-FastText_K-10_Training</strong> at: <a href='https://wandb.ai/wilfried-mvomoeto-university-of-li-ge/Few-Shot-Training_gru_glove_fastText_Bahdanau_Multi-GRU-FastText-/runs/i5m5ox2h' target=\"_blank\">https://wandb.ai/wilfried-mvomoeto-university-of-li-ge/Few-Shot-Training_gru_glove_fastText_Bahdanau_Multi-GRU-FastText-/runs/i5m5ox2h</a><br> View project at: <a href='https://wandb.ai/wilfried-mvomoeto-university-of-li-ge/Few-Shot-Training_gru_glove_fastText_Bahdanau_Multi-GRU-FastText-' target=\"_blank\">https://wandb.ai/wilfried-mvomoeto-university-of-li-ge/Few-Shot-Training_gru_glove_fastText_Bahdanau_Multi-GRU-FastText-</a><br>Synced 5 W&B file(s), 0 media file(s), 0 artifact file(s) and 0 other file(s)"
            ]
          },
          "metadata": {}
        },
        {
          "output_type": "display_data",
          "data": {
            "text/plain": [
              "<IPython.core.display.HTML object>"
            ],
            "text/html": [
              "Find logs at: <code>./wandb/run-20250514_090209-i5m5ox2h/logs</code>"
            ]
          },
          "metadata": {}
        },
        {
          "output_type": "display_data",
          "data": {
            "text/plain": [
              "<IPython.core.display.HTML object>"
            ],
            "text/html": [
              "Tracking run with wandb version 0.19.11"
            ]
          },
          "metadata": {}
        },
        {
          "output_type": "display_data",
          "data": {
            "text/plain": [
              "<IPython.core.display.HTML object>"
            ],
            "text/html": [
              "Run data is saved locally in <code>/content/wandb/run-20250514_090216-ykfacc28</code>"
            ]
          },
          "metadata": {}
        },
        {
          "output_type": "display_data",
          "data": {
            "text/plain": [
              "<IPython.core.display.HTML object>"
            ],
            "text/html": [
              "Syncing run <strong><a href='https://wandb.ai/wilfried-mvomoeto-university-of-li-ge/Few-Shot-Training_gru_glove_fastText_Bahdanau_Multi-GRU-Bah-Glove-/runs/ykfacc28' target=\"_blank\">GRU-Bah-Glove_K-20_Training</a></strong> to <a href='https://wandb.ai/wilfried-mvomoeto-university-of-li-ge/Few-Shot-Training_gru_glove_fastText_Bahdanau_Multi-GRU-Bah-Glove-' target=\"_blank\">Weights & Biases</a> (<a href='https://wandb.me/developer-guide' target=\"_blank\">docs</a>)<br>"
            ]
          },
          "metadata": {}
        },
        {
          "output_type": "display_data",
          "data": {
            "text/plain": [
              "<IPython.core.display.HTML object>"
            ],
            "text/html": [
              " View project at <a href='https://wandb.ai/wilfried-mvomoeto-university-of-li-ge/Few-Shot-Training_gru_glove_fastText_Bahdanau_Multi-GRU-Bah-Glove-' target=\"_blank\">https://wandb.ai/wilfried-mvomoeto-university-of-li-ge/Few-Shot-Training_gru_glove_fastText_Bahdanau_Multi-GRU-Bah-Glove-</a>"
            ]
          },
          "metadata": {}
        },
        {
          "output_type": "display_data",
          "data": {
            "text/plain": [
              "<IPython.core.display.HTML object>"
            ],
            "text/html": [
              " View run at <a href='https://wandb.ai/wilfried-mvomoeto-university-of-li-ge/Few-Shot-Training_gru_glove_fastText_Bahdanau_Multi-GRU-Bah-Glove-/runs/ykfacc28' target=\"_blank\">https://wandb.ai/wilfried-mvomoeto-university-of-li-ge/Few-Shot-Training_gru_glove_fastText_Bahdanau_Multi-GRU-Bah-Glove-/runs/ykfacc28</a>"
            ]
          },
          "metadata": {}
        },
        {
          "output_type": "stream",
          "name": "stderr",
          "text": [
            "GRU-Bah-Glove K-20 Epoch 7/1000 - Train Loss: 2.1857, Test Loss: 2.1819, Train Acc: 12.78%, Test Acc: 13.40%, Test F1: 10.46%, Test Balanced Acc: 16.40%, Test Recall: 13.40%, Test Precision: 18.66%, Time: 1.09 sec:   1%|          | 7/1000 [00:09<21:22,  1.29s/epoch]"
          ]
        },
        {
          "output_type": "stream",
          "name": "stdout",
          "text": [
            "Early stopping triggered at epoch 8\n",
            "Model GRU-Bah-Glove_K-20 saved with loss gap > 1.25 or accuracy gap > 10% at epoch 7.\n"
          ]
        },
        {
          "output_type": "stream",
          "name": "stderr",
          "text": [
            "\n",
            "<ipython-input-10-f03193db776b>:44: UserWarning: To copy construct from a tensor, it is recommended to use sourceTensor.clone().detach() or sourceTensor.clone().detach().requires_grad_(True), rather than torch.tensor(sourceTensor).\n",
            "  self.X = torch.tensor(X_data, dtype=torch.long)\n",
            "<ipython-input-10-f03193db776b>:45: UserWarning: To copy construct from a tensor, it is recommended to use sourceTensor.clone().detach() or sourceTensor.clone().detach().requires_grad_(True), rather than torch.tensor(sourceTensor).\n",
            "  self.y = torch.tensor(y_data, dtype=torch.long)\n"
          ]
        },
        {
          "output_type": "display_data",
          "data": {
            "text/plain": [
              "<IPython.core.display.HTML object>"
            ],
            "text/html": [
              "Finishing previous runs because reinit is set to 'default'."
            ]
          },
          "metadata": {}
        },
        {
          "output_type": "display_data",
          "data": {
            "text/plain": [
              "<IPython.core.display.HTML object>"
            ],
            "text/html": []
          },
          "metadata": {}
        },
        {
          "output_type": "display_data",
          "data": {
            "text/plain": [
              "<IPython.core.display.HTML object>"
            ],
            "text/html": [
              "<br>    <style><br>        .wandb-row {<br>            display: flex;<br>            flex-direction: row;<br>            flex-wrap: wrap;<br>            justify-content: flex-start;<br>            width: 100%;<br>        }<br>        .wandb-col {<br>            display: flex;<br>            flex-direction: column;<br>            flex-basis: 100%;<br>            flex: 1;<br>            padding: 10px;<br>        }<br>    </style><br><div class=\"wandb-row\"><div class=\"wandb-col\"><h3>Run history:</h3><br/><table class=\"wandb\"><tr><td>epoch</td><td>▁▂▃▄▅▆▇█</td></tr><tr><td>k_shot</td><td>▁▁▁▁▁▁▁▁</td></tr><tr><td>test_acc</td><td>▄▂▁▄██▇▅</td></tr><tr><td>test_balanced_acc</td><td>▁▁▃▅▇██▇</td></tr><tr><td>test_f1</td><td>▁▂▄▆███▇</td></tr><tr><td>test_loss</td><td>█▅▄▃▂▂▁▁</td></tr><tr><td>test_precision</td><td>█▄▄▁▄▃▄▆</td></tr><tr><td>test_recall</td><td>▄▂▁▄██▇▅</td></tr><tr><td>train_acc</td><td>▁▁▁▃▄▃▄█</td></tr><tr><td>train_loss</td><td>█▆▄▃▂▂▂▁</td></tr></table><br/></div><div class=\"wandb-col\"><h3>Run summary:</h3><br/><table class=\"wandb\"><tr><td>epoch</td><td>8</td></tr><tr><td>k_shot</td><td>20</td></tr><tr><td>test_acc</td><td>0.12211</td></tr><tr><td>test_balanced_acc</td><td>0.15678</td></tr><tr><td>test_f1</td><td>0.09173</td></tr><tr><td>test_loss</td><td>2.17998</td></tr><tr><td>test_precision</td><td>0.20695</td></tr><tr><td>test_recall</td><td>0.12211</td></tr><tr><td>train_acc</td><td>0.17778</td></tr><tr><td>train_loss</td><td>2.13601</td></tr></table><br/></div></div>"
            ]
          },
          "metadata": {}
        },
        {
          "output_type": "display_data",
          "data": {
            "text/plain": [
              "<IPython.core.display.HTML object>"
            ],
            "text/html": [
              " View run <strong style=\"color:#cdcd00\">GRU-Bah-Glove_K-20_Training</strong> at: <a href='https://wandb.ai/wilfried-mvomoeto-university-of-li-ge/Few-Shot-Training_gru_glove_fastText_Bahdanau_Multi-GRU-Bah-Glove-/runs/ykfacc28' target=\"_blank\">https://wandb.ai/wilfried-mvomoeto-university-of-li-ge/Few-Shot-Training_gru_glove_fastText_Bahdanau_Multi-GRU-Bah-Glove-/runs/ykfacc28</a><br> View project at: <a href='https://wandb.ai/wilfried-mvomoeto-university-of-li-ge/Few-Shot-Training_gru_glove_fastText_Bahdanau_Multi-GRU-Bah-Glove-' target=\"_blank\">https://wandb.ai/wilfried-mvomoeto-university-of-li-ge/Few-Shot-Training_gru_glove_fastText_Bahdanau_Multi-GRU-Bah-Glove-</a><br>Synced 5 W&B file(s), 0 media file(s), 0 artifact file(s) and 0 other file(s)"
            ]
          },
          "metadata": {}
        },
        {
          "output_type": "display_data",
          "data": {
            "text/plain": [
              "<IPython.core.display.HTML object>"
            ],
            "text/html": [
              "Find logs at: <code>./wandb/run-20250514_090216-ykfacc28/logs</code>"
            ]
          },
          "metadata": {}
        },
        {
          "output_type": "display_data",
          "data": {
            "text/plain": [
              "<IPython.core.display.HTML object>"
            ],
            "text/html": [
              "Tracking run with wandb version 0.19.11"
            ]
          },
          "metadata": {}
        },
        {
          "output_type": "display_data",
          "data": {
            "text/plain": [
              "<IPython.core.display.HTML object>"
            ],
            "text/html": [
              "Run data is saved locally in <code>/content/wandb/run-20250514_090227-iwpfoeve</code>"
            ]
          },
          "metadata": {}
        },
        {
          "output_type": "display_data",
          "data": {
            "text/plain": [
              "<IPython.core.display.HTML object>"
            ],
            "text/html": [
              "Syncing run <strong><a href='https://wandb.ai/wilfried-mvomoeto-university-of-li-ge/Few-Shot-Training_gru_glove_fastText_Bahdanau_Multi-GRU-Bah-FastText-/runs/iwpfoeve' target=\"_blank\">GRU-Bah-FastText_K-20_Training</a></strong> to <a href='https://wandb.ai/wilfried-mvomoeto-university-of-li-ge/Few-Shot-Training_gru_glove_fastText_Bahdanau_Multi-GRU-Bah-FastText-' target=\"_blank\">Weights & Biases</a> (<a href='https://wandb.me/developer-guide' target=\"_blank\">docs</a>)<br>"
            ]
          },
          "metadata": {}
        },
        {
          "output_type": "display_data",
          "data": {
            "text/plain": [
              "<IPython.core.display.HTML object>"
            ],
            "text/html": [
              " View project at <a href='https://wandb.ai/wilfried-mvomoeto-university-of-li-ge/Few-Shot-Training_gru_glove_fastText_Bahdanau_Multi-GRU-Bah-FastText-' target=\"_blank\">https://wandb.ai/wilfried-mvomoeto-university-of-li-ge/Few-Shot-Training_gru_glove_fastText_Bahdanau_Multi-GRU-Bah-FastText-</a>"
            ]
          },
          "metadata": {}
        },
        {
          "output_type": "display_data",
          "data": {
            "text/plain": [
              "<IPython.core.display.HTML object>"
            ],
            "text/html": [
              " View run at <a href='https://wandb.ai/wilfried-mvomoeto-university-of-li-ge/Few-Shot-Training_gru_glove_fastText_Bahdanau_Multi-GRU-Bah-FastText-/runs/iwpfoeve' target=\"_blank\">https://wandb.ai/wilfried-mvomoeto-university-of-li-ge/Few-Shot-Training_gru_glove_fastText_Bahdanau_Multi-GRU-Bah-FastText-/runs/iwpfoeve</a>"
            ]
          },
          "metadata": {}
        },
        {
          "output_type": "stream",
          "name": "stderr",
          "text": [
            "GRU-Bah-FastText K-20 Epoch 1/1000 - Train Loss: 2.4560, Test Loss: 2.2206, Train Acc: 8.33%, Test Acc: 11.09%, Test F1: 3.17%, Test Balanced Acc: 10.91%, Test Recall: 11.09%, Test Precision: 17.43%, Time: 1.16 sec:   0%|          | 1/1000 [00:02<38:54,  2.34s/epoch]"
          ]
        },
        {
          "output_type": "stream",
          "name": "stdout",
          "text": [
            "Early stopping triggered at epoch 2\n",
            "Model GRU-Bah-FastText_K-20 saved with loss gap > 1.25 or accuracy gap > 10% at epoch 1.\n"
          ]
        },
        {
          "output_type": "stream",
          "name": "stderr",
          "text": [
            "\n",
            "<ipython-input-10-f03193db776b>:44: UserWarning: To copy construct from a tensor, it is recommended to use sourceTensor.clone().detach() or sourceTensor.clone().detach().requires_grad_(True), rather than torch.tensor(sourceTensor).\n",
            "  self.X = torch.tensor(X_data, dtype=torch.long)\n",
            "<ipython-input-10-f03193db776b>:45: UserWarning: To copy construct from a tensor, it is recommended to use sourceTensor.clone().detach() or sourceTensor.clone().detach().requires_grad_(True), rather than torch.tensor(sourceTensor).\n",
            "  self.y = torch.tensor(y_data, dtype=torch.long)\n"
          ]
        },
        {
          "output_type": "display_data",
          "data": {
            "text/plain": [
              "<IPython.core.display.HTML object>"
            ],
            "text/html": [
              "Finishing previous runs because reinit is set to 'default'."
            ]
          },
          "metadata": {}
        },
        {
          "output_type": "display_data",
          "data": {
            "text/plain": [
              "<IPython.core.display.HTML object>"
            ],
            "text/html": []
          },
          "metadata": {}
        },
        {
          "output_type": "display_data",
          "data": {
            "text/plain": [
              "<IPython.core.display.HTML object>"
            ],
            "text/html": [
              "<br>    <style><br>        .wandb-row {<br>            display: flex;<br>            flex-direction: row;<br>            flex-wrap: wrap;<br>            justify-content: flex-start;<br>            width: 100%;<br>        }<br>        .wandb-col {<br>            display: flex;<br>            flex-direction: column;<br>            flex-basis: 100%;<br>            flex: 1;<br>            padding: 10px;<br>        }<br>    </style><br><div class=\"wandb-row\"><div class=\"wandb-col\"><h3>Run history:</h3><br/><table class=\"wandb\"><tr><td>epoch</td><td>▁█</td></tr><tr><td>k_shot</td><td>▁▁</td></tr><tr><td>test_acc</td><td>█▁</td></tr><tr><td>test_balanced_acc</td><td>▁█</td></tr><tr><td>test_f1</td><td>█▁</td></tr><tr><td>test_loss</td><td>█▁</td></tr><tr><td>test_precision</td><td>█▁</td></tr><tr><td>test_recall</td><td>█▁</td></tr><tr><td>train_acc</td><td>▁█</td></tr><tr><td>train_loss</td><td>█▁</td></tr></table><br/></div><div class=\"wandb-col\"><h3>Run summary:</h3><br/><table class=\"wandb\"><tr><td>epoch</td><td>2</td></tr><tr><td>k_shot</td><td>20</td></tr><tr><td>test_acc</td><td>0.07934</td></tr><tr><td>test_balanced_acc</td><td>0.11222</td></tr><tr><td>test_f1</td><td>0.03157</td></tr><tr><td>test_loss</td><td>2.20494</td></tr><tr><td>test_precision</td><td>0.14286</td></tr><tr><td>test_recall</td><td>0.07934</td></tr><tr><td>train_acc</td><td>0.13333</td></tr><tr><td>train_loss</td><td>2.27064</td></tr></table><br/></div></div>"
            ]
          },
          "metadata": {}
        },
        {
          "output_type": "display_data",
          "data": {
            "text/plain": [
              "<IPython.core.display.HTML object>"
            ],
            "text/html": [
              " View run <strong style=\"color:#cdcd00\">GRU-Bah-FastText_K-20_Training</strong> at: <a href='https://wandb.ai/wilfried-mvomoeto-university-of-li-ge/Few-Shot-Training_gru_glove_fastText_Bahdanau_Multi-GRU-Bah-FastText-/runs/iwpfoeve' target=\"_blank\">https://wandb.ai/wilfried-mvomoeto-university-of-li-ge/Few-Shot-Training_gru_glove_fastText_Bahdanau_Multi-GRU-Bah-FastText-/runs/iwpfoeve</a><br> View project at: <a href='https://wandb.ai/wilfried-mvomoeto-university-of-li-ge/Few-Shot-Training_gru_glove_fastText_Bahdanau_Multi-GRU-Bah-FastText-' target=\"_blank\">https://wandb.ai/wilfried-mvomoeto-university-of-li-ge/Few-Shot-Training_gru_glove_fastText_Bahdanau_Multi-GRU-Bah-FastText-</a><br>Synced 5 W&B file(s), 0 media file(s), 0 artifact file(s) and 0 other file(s)"
            ]
          },
          "metadata": {}
        },
        {
          "output_type": "display_data",
          "data": {
            "text/plain": [
              "<IPython.core.display.HTML object>"
            ],
            "text/html": [
              "Find logs at: <code>./wandb/run-20250514_090227-iwpfoeve/logs</code>"
            ]
          },
          "metadata": {}
        },
        {
          "output_type": "display_data",
          "data": {
            "text/plain": [
              "<IPython.core.display.HTML object>"
            ],
            "text/html": [
              "Tracking run with wandb version 0.19.11"
            ]
          },
          "metadata": {}
        },
        {
          "output_type": "display_data",
          "data": {
            "text/plain": [
              "<IPython.core.display.HTML object>"
            ],
            "text/html": [
              "Run data is saved locally in <code>/content/wandb/run-20250514_090231-7egop7cm</code>"
            ]
          },
          "metadata": {}
        },
        {
          "output_type": "display_data",
          "data": {
            "text/plain": [
              "<IPython.core.display.HTML object>"
            ],
            "text/html": [
              "Syncing run <strong><a href='https://wandb.ai/wilfried-mvomoeto-university-of-li-ge/Few-Shot-Training_gru_glove_fastText_Bahdanau_Multi-CNN_LSTM-/runs/7egop7cm' target=\"_blank\">CNN_LSTM_K-20_Training</a></strong> to <a href='https://wandb.ai/wilfried-mvomoeto-university-of-li-ge/Few-Shot-Training_gru_glove_fastText_Bahdanau_Multi-CNN_LSTM-' target=\"_blank\">Weights & Biases</a> (<a href='https://wandb.me/developer-guide' target=\"_blank\">docs</a>)<br>"
            ]
          },
          "metadata": {}
        },
        {
          "output_type": "display_data",
          "data": {
            "text/plain": [
              "<IPython.core.display.HTML object>"
            ],
            "text/html": [
              " View project at <a href='https://wandb.ai/wilfried-mvomoeto-university-of-li-ge/Few-Shot-Training_gru_glove_fastText_Bahdanau_Multi-CNN_LSTM-' target=\"_blank\">https://wandb.ai/wilfried-mvomoeto-university-of-li-ge/Few-Shot-Training_gru_glove_fastText_Bahdanau_Multi-CNN_LSTM-</a>"
            ]
          },
          "metadata": {}
        },
        {
          "output_type": "display_data",
          "data": {
            "text/plain": [
              "<IPython.core.display.HTML object>"
            ],
            "text/html": [
              " View run at <a href='https://wandb.ai/wilfried-mvomoeto-university-of-li-ge/Few-Shot-Training_gru_glove_fastText_Bahdanau_Multi-CNN_LSTM-/runs/7egop7cm' target=\"_blank\">https://wandb.ai/wilfried-mvomoeto-university-of-li-ge/Few-Shot-Training_gru_glove_fastText_Bahdanau_Multi-CNN_LSTM-/runs/7egop7cm</a>"
            ]
          },
          "metadata": {}
        },
        {
          "output_type": "stream",
          "name": "stderr",
          "text": [
            "CNN_LSTM K-20 Epoch 1000/1000 - Train Loss: 2.1746, Test Loss: 2.2190, Train Acc: 11.67%, Test Acc: 6.76%, Test F1: 0.96%, Test Balanced Acc: 11.05%, Test Recall: 6.76%, Test Precision: 1.92%, Time: 0.78 sec: 100%|██████████| 1000/1000 [12:45<00:00,  1.31epoch/s]"
          ]
        },
        {
          "output_type": "stream",
          "name": "stdout",
          "text": [
            "Model CNN_LSTM_K-20 saved at the end of epoch 1000.\n",
            "Model metrics: \n",
            "Test Accuracy: 6.76%, Test F1: 0.96%, Test Balanced Accuracy: 11.05%, Test Recall: 6.76%, Test Precision: 1.92%\n"
          ]
        },
        {
          "output_type": "stream",
          "name": "stderr",
          "text": [
            "\n",
            "<ipython-input-10-f03193db776b>:44: UserWarning: To copy construct from a tensor, it is recommended to use sourceTensor.clone().detach() or sourceTensor.clone().detach().requires_grad_(True), rather than torch.tensor(sourceTensor).\n",
            "  self.X = torch.tensor(X_data, dtype=torch.long)\n",
            "<ipython-input-10-f03193db776b>:45: UserWarning: To copy construct from a tensor, it is recommended to use sourceTensor.clone().detach() or sourceTensor.clone().detach().requires_grad_(True), rather than torch.tensor(sourceTensor).\n",
            "  self.y = torch.tensor(y_data, dtype=torch.long)\n"
          ]
        },
        {
          "output_type": "display_data",
          "data": {
            "text/plain": [
              "<IPython.core.display.HTML object>"
            ],
            "text/html": [
              "Finishing previous runs because reinit is set to 'default'."
            ]
          },
          "metadata": {}
        },
        {
          "output_type": "display_data",
          "data": {
            "text/plain": [
              "<IPython.core.display.HTML object>"
            ],
            "text/html": []
          },
          "metadata": {}
        },
        {
          "output_type": "display_data",
          "data": {
            "text/plain": [
              "<IPython.core.display.HTML object>"
            ],
            "text/html": [
              "<br>    <style><br>        .wandb-row {<br>            display: flex;<br>            flex-direction: row;<br>            flex-wrap: wrap;<br>            justify-content: flex-start;<br>            width: 100%;<br>        }<br>        .wandb-col {<br>            display: flex;<br>            flex-direction: column;<br>            flex-basis: 100%;<br>            flex: 1;<br>            padding: 10px;<br>        }<br>    </style><br><div class=\"wandb-row\"><div class=\"wandb-col\"><h3>Run history:</h3><br/><table class=\"wandb\"><tr><td>epoch</td><td>▁▁▁▂▂▂▂▂▃▃▃▃▃▃▃▄▄▄▄▄▅▅▅▅▅▅▅▅▅▅▆▆▆▆▆▇▇▇██</td></tr><tr><td>k_shot</td><td>▁▁▁▁▁▁▁▁▁▁▁▁▁▁▁▁▁▁▁▁▁▁▁▁▁▁▁▁▁▁▁▁▁▁▁▁▁▁▁▁</td></tr><tr><td>test_acc</td><td>█▁▁▁▁▁▁▁▁▁▁▁▁▁▁▁▁▁▁▁▁▁▁▁▁▁▁▁▁▁▁▁▁▁▁▁▁▁▁▁</td></tr><tr><td>test_balanced_acc</td><td>▁▁▁▁▁▁▁▁▁▁▁▁▁▁▁▁▁▁▁▁▁▁▁▁▁▁▁▁▁▁▁▁▁▁▁▁▁▁▁▁</td></tr><tr><td>test_f1</td><td>▁▁▁▁▁▁▁▁▁▁▁▁▁▁▁▁▁▁▁▁▁▁▁▁▁▁▁▁▁▁▁▁▁▁▁▁▁▁▁▁</td></tr><tr><td>test_loss</td><td>▁▃█▅▃▄▄▄▄▄▄▄▄▅▆▅▅▄▆▄▆▄▆▆▇▆▇▆▇▇▅▆▅▆▆▅▅▅▆▇</td></tr><tr><td>test_precision</td><td>▁▁▁▁▁▁▁▁▁▁▁▁▁▁▁▁▁▁▁▁▁▁▁▁▁▁▁▁▁▁▁▁▁▁▁▁▁▁▁▁</td></tr><tr><td>test_recall</td><td>▁▁▁▁▁▁▁▁▁▁▁▁▁▁▁▁▁▁▁▁▁▁▁▁▁▁▁▁▁▁▁▁▁▁▁▁▁▁▁▁</td></tr><tr><td>train_acc</td><td>▁▁▁▁▁▁▁▁▁▁▁▁▁▁▁▁▁▁▁▁▁▁▁▁▁▁▁▁▁▁▁▁▁▁▁▁▁▁▁▁</td></tr><tr><td>train_loss</td><td>█▆▇▆▇▇▇▁▆▆▆▅▅▇▆▆▆▇▆▅▆▇▆▆▅▅▅▇▄▅▅▇▆▄▇▃▇▇▇▁</td></tr></table><br/></div><div class=\"wandb-col\"><h3>Run summary:</h3><br/><table class=\"wandb\"><tr><td>epoch</td><td>1000</td></tr><tr><td>k_shot</td><td>20</td></tr><tr><td>test_acc</td><td>0.06761</td></tr><tr><td>test_balanced_acc</td><td>0.11045</td></tr><tr><td>test_f1</td><td>0.00955</td></tr><tr><td>test_loss</td><td>2.21902</td></tr><tr><td>test_precision</td><td>0.01918</td></tr><tr><td>test_recall</td><td>0.06761</td></tr><tr><td>train_acc</td><td>0.11667</td></tr><tr><td>train_loss</td><td>2.17457</td></tr></table><br/></div></div>"
            ]
          },
          "metadata": {}
        },
        {
          "output_type": "display_data",
          "data": {
            "text/plain": [
              "<IPython.core.display.HTML object>"
            ],
            "text/html": [
              " View run <strong style=\"color:#cdcd00\">CNN_LSTM_K-20_Training</strong> at: <a href='https://wandb.ai/wilfried-mvomoeto-university-of-li-ge/Few-Shot-Training_gru_glove_fastText_Bahdanau_Multi-CNN_LSTM-/runs/7egop7cm' target=\"_blank\">https://wandb.ai/wilfried-mvomoeto-university-of-li-ge/Few-Shot-Training_gru_glove_fastText_Bahdanau_Multi-CNN_LSTM-/runs/7egop7cm</a><br> View project at: <a href='https://wandb.ai/wilfried-mvomoeto-university-of-li-ge/Few-Shot-Training_gru_glove_fastText_Bahdanau_Multi-CNN_LSTM-' target=\"_blank\">https://wandb.ai/wilfried-mvomoeto-university-of-li-ge/Few-Shot-Training_gru_glove_fastText_Bahdanau_Multi-CNN_LSTM-</a><br>Synced 5 W&B file(s), 0 media file(s), 0 artifact file(s) and 0 other file(s)"
            ]
          },
          "metadata": {}
        },
        {
          "output_type": "display_data",
          "data": {
            "text/plain": [
              "<IPython.core.display.HTML object>"
            ],
            "text/html": [
              "Find logs at: <code>./wandb/run-20250514_090231-7egop7cm/logs</code>"
            ]
          },
          "metadata": {}
        },
        {
          "output_type": "display_data",
          "data": {
            "text/plain": [
              "<IPython.core.display.HTML object>"
            ],
            "text/html": [
              "Tracking run with wandb version 0.19.11"
            ]
          },
          "metadata": {}
        },
        {
          "output_type": "display_data",
          "data": {
            "text/plain": [
              "<IPython.core.display.HTML object>"
            ],
            "text/html": [
              "Run data is saved locally in <code>/content/wandb/run-20250514_091518-1vbesdk0</code>"
            ]
          },
          "metadata": {}
        },
        {
          "output_type": "display_data",
          "data": {
            "text/plain": [
              "<IPython.core.display.HTML object>"
            ],
            "text/html": [
              "Syncing run <strong><a href='https://wandb.ai/wilfried-mvomoeto-university-of-li-ge/Few-Shot-Training_gru_glove_fastText_Bahdanau_Multi-GRU-Glove-/runs/1vbesdk0' target=\"_blank\">GRU-Glove_K-20_Training</a></strong> to <a href='https://wandb.ai/wilfried-mvomoeto-university-of-li-ge/Few-Shot-Training_gru_glove_fastText_Bahdanau_Multi-GRU-Glove-' target=\"_blank\">Weights & Biases</a> (<a href='https://wandb.me/developer-guide' target=\"_blank\">docs</a>)<br>"
            ]
          },
          "metadata": {}
        },
        {
          "output_type": "display_data",
          "data": {
            "text/plain": [
              "<IPython.core.display.HTML object>"
            ],
            "text/html": [
              " View project at <a href='https://wandb.ai/wilfried-mvomoeto-university-of-li-ge/Few-Shot-Training_gru_glove_fastText_Bahdanau_Multi-GRU-Glove-' target=\"_blank\">https://wandb.ai/wilfried-mvomoeto-university-of-li-ge/Few-Shot-Training_gru_glove_fastText_Bahdanau_Multi-GRU-Glove-</a>"
            ]
          },
          "metadata": {}
        },
        {
          "output_type": "display_data",
          "data": {
            "text/plain": [
              "<IPython.core.display.HTML object>"
            ],
            "text/html": [
              " View run at <a href='https://wandb.ai/wilfried-mvomoeto-university-of-li-ge/Few-Shot-Training_gru_glove_fastText_Bahdanau_Multi-GRU-Glove-/runs/1vbesdk0' target=\"_blank\">https://wandb.ai/wilfried-mvomoeto-university-of-li-ge/Few-Shot-Training_gru_glove_fastText_Bahdanau_Multi-GRU-Glove-/runs/1vbesdk0</a>"
            ]
          },
          "metadata": {}
        },
        {
          "output_type": "stream",
          "name": "stderr",
          "text": [
            "GRU-Glove K-20 Epoch 9/1000 - Train Loss: 2.2058, Test Loss: 2.2253, Train Acc: 10.00%, Test Acc: 6.85%, Test F1: 1.06%, Test Balanced Acc: 11.15%, Test Recall: 6.85%, Test Precision: 16.75%, Time: 0.79 sec:   1%|          | 9/1000 [00:07<13:24,  1.23epoch/s]"
          ]
        },
        {
          "output_type": "stream",
          "name": "stdout",
          "text": [
            "Early stopping triggered at epoch 10\n",
            "Model GRU-Glove_K-20 saved with loss gap > 1.25 or accuracy gap > 10% at epoch 9.\n"
          ]
        },
        {
          "output_type": "stream",
          "name": "stderr",
          "text": [
            "\n",
            "<ipython-input-10-f03193db776b>:44: UserWarning: To copy construct from a tensor, it is recommended to use sourceTensor.clone().detach() or sourceTensor.clone().detach().requires_grad_(True), rather than torch.tensor(sourceTensor).\n",
            "  self.X = torch.tensor(X_data, dtype=torch.long)\n",
            "<ipython-input-10-f03193db776b>:45: UserWarning: To copy construct from a tensor, it is recommended to use sourceTensor.clone().detach() or sourceTensor.clone().detach().requires_grad_(True), rather than torch.tensor(sourceTensor).\n",
            "  self.y = torch.tensor(y_data, dtype=torch.long)\n"
          ]
        },
        {
          "output_type": "display_data",
          "data": {
            "text/plain": [
              "<IPython.core.display.HTML object>"
            ],
            "text/html": [
              "Finishing previous runs because reinit is set to 'default'."
            ]
          },
          "metadata": {}
        },
        {
          "output_type": "display_data",
          "data": {
            "text/plain": [
              "<IPython.core.display.HTML object>"
            ],
            "text/html": []
          },
          "metadata": {}
        },
        {
          "output_type": "display_data",
          "data": {
            "text/plain": [
              "<IPython.core.display.HTML object>"
            ],
            "text/html": [
              "<br>    <style><br>        .wandb-row {<br>            display: flex;<br>            flex-direction: row;<br>            flex-wrap: wrap;<br>            justify-content: flex-start;<br>            width: 100%;<br>        }<br>        .wandb-col {<br>            display: flex;<br>            flex-direction: column;<br>            flex-basis: 100%;<br>            flex: 1;<br>            padding: 10px;<br>        }<br>    </style><br><div class=\"wandb-row\"><div class=\"wandb-col\"><h3>Run history:</h3><br/><table class=\"wandb\"><tr><td>epoch</td><td>▁▂▃▃▄▅▆▆▇█</td></tr><tr><td>k_shot</td><td>▁▁▁▁▁▁▁▁▁▁</td></tr><tr><td>test_acc</td><td>▅▅▅▅█▅▁▅▅▅</td></tr><tr><td>test_balanced_acc</td><td>▅▅▅▅█▅▁▄▄▄</td></tr><tr><td>test_f1</td><td>▅▅▅▅█▅▁▅▄▄</td></tr><tr><td>test_loss</td><td>█▆▁▁▅▃▂▃▃▂</td></tr><tr><td>test_precision</td><td>▅▅▅▅█▇▁▁▂▂</td></tr><tr><td>test_recall</td><td>▅▅▅▅█▅▁▅▅▅</td></tr><tr><td>train_acc</td><td>▁▄▄▁▄▁▂▂▃█</td></tr><tr><td>train_loss</td><td>▆▅▄▄▅▆▅█▂▁</td></tr></table><br/></div><div class=\"wandb-col\"><h3>Run summary:</h3><br/><table class=\"wandb\"><tr><td>epoch</td><td>10</td></tr><tr><td>k_shot</td><td>20</td></tr><tr><td>test_acc</td><td>0.06847</td></tr><tr><td>test_balanced_acc</td><td>0.11149</td></tr><tr><td>test_f1</td><td>0.01065</td></tr><tr><td>test_loss</td><td>2.21502</td></tr><tr><td>test_precision</td><td>0.16752</td></tr><tr><td>test_recall</td><td>0.06847</td></tr><tr><td>train_acc</td><td>0.14444</td></tr><tr><td>train_loss</td><td>2.18879</td></tr></table><br/></div></div>"
            ]
          },
          "metadata": {}
        },
        {
          "output_type": "display_data",
          "data": {
            "text/plain": [
              "<IPython.core.display.HTML object>"
            ],
            "text/html": [
              " View run <strong style=\"color:#cdcd00\">GRU-Glove_K-20_Training</strong> at: <a href='https://wandb.ai/wilfried-mvomoeto-university-of-li-ge/Few-Shot-Training_gru_glove_fastText_Bahdanau_Multi-GRU-Glove-/runs/1vbesdk0' target=\"_blank\">https://wandb.ai/wilfried-mvomoeto-university-of-li-ge/Few-Shot-Training_gru_glove_fastText_Bahdanau_Multi-GRU-Glove-/runs/1vbesdk0</a><br> View project at: <a href='https://wandb.ai/wilfried-mvomoeto-university-of-li-ge/Few-Shot-Training_gru_glove_fastText_Bahdanau_Multi-GRU-Glove-' target=\"_blank\">https://wandb.ai/wilfried-mvomoeto-university-of-li-ge/Few-Shot-Training_gru_glove_fastText_Bahdanau_Multi-GRU-Glove-</a><br>Synced 5 W&B file(s), 0 media file(s), 0 artifact file(s) and 0 other file(s)"
            ]
          },
          "metadata": {}
        },
        {
          "output_type": "display_data",
          "data": {
            "text/plain": [
              "<IPython.core.display.HTML object>"
            ],
            "text/html": [
              "Find logs at: <code>./wandb/run-20250514_091518-1vbesdk0/logs</code>"
            ]
          },
          "metadata": {}
        },
        {
          "output_type": "display_data",
          "data": {
            "text/plain": [
              "<IPython.core.display.HTML object>"
            ],
            "text/html": [
              "Tracking run with wandb version 0.19.11"
            ]
          },
          "metadata": {}
        },
        {
          "output_type": "display_data",
          "data": {
            "text/plain": [
              "<IPython.core.display.HTML object>"
            ],
            "text/html": [
              "Run data is saved locally in <code>/content/wandb/run-20250514_091527-s2ol2lk6</code>"
            ]
          },
          "metadata": {}
        },
        {
          "output_type": "display_data",
          "data": {
            "text/plain": [
              "<IPython.core.display.HTML object>"
            ],
            "text/html": [
              "Syncing run <strong><a href='https://wandb.ai/wilfried-mvomoeto-university-of-li-ge/Few-Shot-Training_gru_glove_fastText_Bahdanau_Multi-GRU-FastText-/runs/s2ol2lk6' target=\"_blank\">GRU-FastText_K-20_Training</a></strong> to <a href='https://wandb.ai/wilfried-mvomoeto-university-of-li-ge/Few-Shot-Training_gru_glove_fastText_Bahdanau_Multi-GRU-FastText-' target=\"_blank\">Weights & Biases</a> (<a href='https://wandb.me/developer-guide' target=\"_blank\">docs</a>)<br>"
            ]
          },
          "metadata": {}
        },
        {
          "output_type": "display_data",
          "data": {
            "text/plain": [
              "<IPython.core.display.HTML object>"
            ],
            "text/html": [
              " View project at <a href='https://wandb.ai/wilfried-mvomoeto-university-of-li-ge/Few-Shot-Training_gru_glove_fastText_Bahdanau_Multi-GRU-FastText-' target=\"_blank\">https://wandb.ai/wilfried-mvomoeto-university-of-li-ge/Few-Shot-Training_gru_glove_fastText_Bahdanau_Multi-GRU-FastText-</a>"
            ]
          },
          "metadata": {}
        },
        {
          "output_type": "display_data",
          "data": {
            "text/plain": [
              "<IPython.core.display.HTML object>"
            ],
            "text/html": [
              " View run at <a href='https://wandb.ai/wilfried-mvomoeto-university-of-li-ge/Few-Shot-Training_gru_glove_fastText_Bahdanau_Multi-GRU-FastText-/runs/s2ol2lk6' target=\"_blank\">https://wandb.ai/wilfried-mvomoeto-university-of-li-ge/Few-Shot-Training_gru_glove_fastText_Bahdanau_Multi-GRU-FastText-/runs/s2ol2lk6</a>"
            ]
          },
          "metadata": {}
        },
        {
          "output_type": "stream",
          "name": "stderr",
          "text": [
            "GRU-FastText K-20 Epoch 1/1000 - Train Loss: 2.2570, Test Loss: 2.2411, Train Acc: 10.00%, Test Acc: 6.74%, Test F1: 0.86%, Test Balanced Acc: 11.05%, Test Recall: 6.74%, Test Precision: 0.46%, Time: 0.76 sec:   0%|          | 1/1000 [00:01<25:02,  1.50s/epoch]"
          ]
        },
        {
          "output_type": "stream",
          "name": "stdout",
          "text": [
            "Early stopping triggered at epoch 2\n",
            "Model GRU-FastText_K-20 saved with loss gap > 1.25 or accuracy gap > 10% at epoch 1.\n",
            "\n",
            "Training with 30-shot...\n"
          ]
        },
        {
          "output_type": "stream",
          "name": "stderr",
          "text": [
            "\n",
            "<ipython-input-10-f03193db776b>:44: UserWarning: To copy construct from a tensor, it is recommended to use sourceTensor.clone().detach() or sourceTensor.clone().detach().requires_grad_(True), rather than torch.tensor(sourceTensor).\n",
            "  self.X = torch.tensor(X_data, dtype=torch.long)\n",
            "<ipython-input-10-f03193db776b>:45: UserWarning: To copy construct from a tensor, it is recommended to use sourceTensor.clone().detach() or sourceTensor.clone().detach().requires_grad_(True), rather than torch.tensor(sourceTensor).\n",
            "  self.y = torch.tensor(y_data, dtype=torch.long)\n"
          ]
        },
        {
          "output_type": "display_data",
          "data": {
            "text/plain": [
              "<IPython.core.display.HTML object>"
            ],
            "text/html": [
              "Finishing previous runs because reinit is set to 'default'."
            ]
          },
          "metadata": {}
        },
        {
          "output_type": "display_data",
          "data": {
            "text/plain": [
              "<IPython.core.display.HTML object>"
            ],
            "text/html": []
          },
          "metadata": {}
        },
        {
          "output_type": "display_data",
          "data": {
            "text/plain": [
              "<IPython.core.display.HTML object>"
            ],
            "text/html": [
              "<br>    <style><br>        .wandb-row {<br>            display: flex;<br>            flex-direction: row;<br>            flex-wrap: wrap;<br>            justify-content: flex-start;<br>            width: 100%;<br>        }<br>        .wandb-col {<br>            display: flex;<br>            flex-direction: column;<br>            flex-basis: 100%;<br>            flex: 1;<br>            padding: 10px;<br>        }<br>    </style><br><div class=\"wandb-row\"><div class=\"wandb-col\"><h3>Run history:</h3><br/><table class=\"wandb\"><tr><td>epoch</td><td>▁█</td></tr><tr><td>k_shot</td><td>▁▁</td></tr><tr><td>test_acc</td><td>▁▁</td></tr><tr><td>test_balanced_acc</td><td>▁▁</td></tr><tr><td>test_f1</td><td>▁▁</td></tr><tr><td>test_loss</td><td>█▁</td></tr><tr><td>test_precision</td><td>▁▁</td></tr><tr><td>test_recall</td><td>▁▁</td></tr><tr><td>train_acc</td><td>▁█</td></tr><tr><td>train_loss</td><td>▁█</td></tr></table><br/></div><div class=\"wandb-col\"><h3>Run summary:</h3><br/><table class=\"wandb\"><tr><td>epoch</td><td>2</td></tr><tr><td>k_shot</td><td>20</td></tr><tr><td>test_acc</td><td>0.06744</td></tr><tr><td>test_balanced_acc</td><td>0.11055</td></tr><tr><td>test_f1</td><td>0.00859</td></tr><tr><td>test_loss</td><td>2.22897</td></tr><tr><td>test_precision</td><td>0.00459</td></tr><tr><td>test_recall</td><td>0.06744</td></tr><tr><td>train_acc</td><td>0.13889</td></tr><tr><td>train_loss</td><td>2.31064</td></tr></table><br/></div></div>"
            ]
          },
          "metadata": {}
        },
        {
          "output_type": "display_data",
          "data": {
            "text/plain": [
              "<IPython.core.display.HTML object>"
            ],
            "text/html": [
              " View run <strong style=\"color:#cdcd00\">GRU-FastText_K-20_Training</strong> at: <a href='https://wandb.ai/wilfried-mvomoeto-university-of-li-ge/Few-Shot-Training_gru_glove_fastText_Bahdanau_Multi-GRU-FastText-/runs/s2ol2lk6' target=\"_blank\">https://wandb.ai/wilfried-mvomoeto-university-of-li-ge/Few-Shot-Training_gru_glove_fastText_Bahdanau_Multi-GRU-FastText-/runs/s2ol2lk6</a><br> View project at: <a href='https://wandb.ai/wilfried-mvomoeto-university-of-li-ge/Few-Shot-Training_gru_glove_fastText_Bahdanau_Multi-GRU-FastText-' target=\"_blank\">https://wandb.ai/wilfried-mvomoeto-university-of-li-ge/Few-Shot-Training_gru_glove_fastText_Bahdanau_Multi-GRU-FastText-</a><br>Synced 5 W&B file(s), 0 media file(s), 0 artifact file(s) and 0 other file(s)"
            ]
          },
          "metadata": {}
        },
        {
          "output_type": "display_data",
          "data": {
            "text/plain": [
              "<IPython.core.display.HTML object>"
            ],
            "text/html": [
              "Find logs at: <code>./wandb/run-20250514_091527-s2ol2lk6/logs</code>"
            ]
          },
          "metadata": {}
        },
        {
          "output_type": "display_data",
          "data": {
            "text/plain": [
              "<IPython.core.display.HTML object>"
            ],
            "text/html": [
              "Tracking run with wandb version 0.19.11"
            ]
          },
          "metadata": {}
        },
        {
          "output_type": "display_data",
          "data": {
            "text/plain": [
              "<IPython.core.display.HTML object>"
            ],
            "text/html": [
              "Run data is saved locally in <code>/content/wandb/run-20250514_091531-tjr3ajlo</code>"
            ]
          },
          "metadata": {}
        },
        {
          "output_type": "display_data",
          "data": {
            "text/plain": [
              "<IPython.core.display.HTML object>"
            ],
            "text/html": [
              "Syncing run <strong><a href='https://wandb.ai/wilfried-mvomoeto-university-of-li-ge/Few-Shot-Training_gru_glove_fastText_Bahdanau_Multi-GRU-Bah-Glove-/runs/tjr3ajlo' target=\"_blank\">GRU-Bah-Glove_K-30_Training</a></strong> to <a href='https://wandb.ai/wilfried-mvomoeto-university-of-li-ge/Few-Shot-Training_gru_glove_fastText_Bahdanau_Multi-GRU-Bah-Glove-' target=\"_blank\">Weights & Biases</a> (<a href='https://wandb.me/developer-guide' target=\"_blank\">docs</a>)<br>"
            ]
          },
          "metadata": {}
        },
        {
          "output_type": "display_data",
          "data": {
            "text/plain": [
              "<IPython.core.display.HTML object>"
            ],
            "text/html": [
              " View project at <a href='https://wandb.ai/wilfried-mvomoeto-university-of-li-ge/Few-Shot-Training_gru_glove_fastText_Bahdanau_Multi-GRU-Bah-Glove-' target=\"_blank\">https://wandb.ai/wilfried-mvomoeto-university-of-li-ge/Few-Shot-Training_gru_glove_fastText_Bahdanau_Multi-GRU-Bah-Glove-</a>"
            ]
          },
          "metadata": {}
        },
        {
          "output_type": "display_data",
          "data": {
            "text/plain": [
              "<IPython.core.display.HTML object>"
            ],
            "text/html": [
              " View run at <a href='https://wandb.ai/wilfried-mvomoeto-university-of-li-ge/Few-Shot-Training_gru_glove_fastText_Bahdanau_Multi-GRU-Bah-Glove-/runs/tjr3ajlo' target=\"_blank\">https://wandb.ai/wilfried-mvomoeto-university-of-li-ge/Few-Shot-Training_gru_glove_fastText_Bahdanau_Multi-GRU-Bah-Glove-/runs/tjr3ajlo</a>"
            ]
          },
          "metadata": {}
        },
        {
          "output_type": "stream",
          "name": "stderr",
          "text": [
            "GRU-Bah-Glove K-30 Epoch 3/1000 - Train Loss: 2.1939, Test Loss: 2.1952, Train Acc: 12.22%, Test Acc: 8.69%, Test F1: 2.92%, Test Balanced Acc: 12.38%, Test Recall: 8.69%, Test Precision: 19.43%, Time: 1.15 sec:   0%|          | 3/1000 [00:04<26:09,  1.57s/epoch]"
          ]
        },
        {
          "output_type": "stream",
          "name": "stdout",
          "text": [
            "Early stopping triggered at epoch 4\n",
            "Model GRU-Bah-Glove_K-30 saved with loss gap > 1.25 or accuracy gap > 10% at epoch 3.\n"
          ]
        },
        {
          "output_type": "stream",
          "name": "stderr",
          "text": [
            "\n",
            "<ipython-input-10-f03193db776b>:44: UserWarning: To copy construct from a tensor, it is recommended to use sourceTensor.clone().detach() or sourceTensor.clone().detach().requires_grad_(True), rather than torch.tensor(sourceTensor).\n",
            "  self.X = torch.tensor(X_data, dtype=torch.long)\n",
            "<ipython-input-10-f03193db776b>:45: UserWarning: To copy construct from a tensor, it is recommended to use sourceTensor.clone().detach() or sourceTensor.clone().detach().requires_grad_(True), rather than torch.tensor(sourceTensor).\n",
            "  self.y = torch.tensor(y_data, dtype=torch.long)\n"
          ]
        },
        {
          "output_type": "display_data",
          "data": {
            "text/plain": [
              "<IPython.core.display.HTML object>"
            ],
            "text/html": [
              "Finishing previous runs because reinit is set to 'default'."
            ]
          },
          "metadata": {}
        },
        {
          "output_type": "display_data",
          "data": {
            "text/plain": [
              "<IPython.core.display.HTML object>"
            ],
            "text/html": []
          },
          "metadata": {}
        },
        {
          "output_type": "display_data",
          "data": {
            "text/plain": [
              "<IPython.core.display.HTML object>"
            ],
            "text/html": [
              "<br>    <style><br>        .wandb-row {<br>            display: flex;<br>            flex-direction: row;<br>            flex-wrap: wrap;<br>            justify-content: flex-start;<br>            width: 100%;<br>        }<br>        .wandb-col {<br>            display: flex;<br>            flex-direction: column;<br>            flex-basis: 100%;<br>            flex: 1;<br>            padding: 10px;<br>        }<br>    </style><br><div class=\"wandb-row\"><div class=\"wandb-col\"><h3>Run history:</h3><br/><table class=\"wandb\"><tr><td>epoch</td><td>▁▃▆█</td></tr><tr><td>k_shot</td><td>▁▁▁▁</td></tr><tr><td>test_acc</td><td>▁▇██</td></tr><tr><td>test_balanced_acc</td><td>▁▆██</td></tr><tr><td>test_f1</td><td>▁▇█▅</td></tr><tr><td>test_loss</td><td>█▄▂▁</td></tr><tr><td>test_precision</td><td>▂▆█▁</td></tr><tr><td>test_recall</td><td>▁▇██</td></tr><tr><td>train_acc</td><td>▁▃▄█</td></tr><tr><td>train_loss</td><td>█▂▁▁</td></tr></table><br/></div><div class=\"wandb-col\"><h3>Run summary:</h3><br/><table class=\"wandb\"><tr><td>epoch</td><td>4</td></tr><tr><td>k_shot</td><td>30</td></tr><tr><td>test_acc</td><td>0.08641</td></tr><tr><td>test_balanced_acc</td><td>0.12494</td></tr><tr><td>test_f1</td><td>0.02787</td></tr><tr><td>test_loss</td><td>2.19245</td></tr><tr><td>test_precision</td><td>0.09838</td></tr><tr><td>test_recall</td><td>0.08641</td></tr><tr><td>train_acc</td><td>0.14444</td></tr><tr><td>train_loss</td><td>2.18924</td></tr></table><br/></div></div>"
            ]
          },
          "metadata": {}
        },
        {
          "output_type": "display_data",
          "data": {
            "text/plain": [
              "<IPython.core.display.HTML object>"
            ],
            "text/html": [
              " View run <strong style=\"color:#cdcd00\">GRU-Bah-Glove_K-30_Training</strong> at: <a href='https://wandb.ai/wilfried-mvomoeto-university-of-li-ge/Few-Shot-Training_gru_glove_fastText_Bahdanau_Multi-GRU-Bah-Glove-/runs/tjr3ajlo' target=\"_blank\">https://wandb.ai/wilfried-mvomoeto-university-of-li-ge/Few-Shot-Training_gru_glove_fastText_Bahdanau_Multi-GRU-Bah-Glove-/runs/tjr3ajlo</a><br> View project at: <a href='https://wandb.ai/wilfried-mvomoeto-university-of-li-ge/Few-Shot-Training_gru_glove_fastText_Bahdanau_Multi-GRU-Bah-Glove-' target=\"_blank\">https://wandb.ai/wilfried-mvomoeto-university-of-li-ge/Few-Shot-Training_gru_glove_fastText_Bahdanau_Multi-GRU-Bah-Glove-</a><br>Synced 5 W&B file(s), 0 media file(s), 0 artifact file(s) and 0 other file(s)"
            ]
          },
          "metadata": {}
        },
        {
          "output_type": "display_data",
          "data": {
            "text/plain": [
              "<IPython.core.display.HTML object>"
            ],
            "text/html": [
              "Find logs at: <code>./wandb/run-20250514_091531-tjr3ajlo/logs</code>"
            ]
          },
          "metadata": {}
        },
        {
          "output_type": "display_data",
          "data": {
            "text/plain": [
              "<IPython.core.display.HTML object>"
            ],
            "text/html": [
              "Tracking run with wandb version 0.19.11"
            ]
          },
          "metadata": {}
        },
        {
          "output_type": "display_data",
          "data": {
            "text/plain": [
              "<IPython.core.display.HTML object>"
            ],
            "text/html": [
              "Run data is saved locally in <code>/content/wandb/run-20250514_091537-0gxwxqwf</code>"
            ]
          },
          "metadata": {}
        },
        {
          "output_type": "display_data",
          "data": {
            "text/plain": [
              "<IPython.core.display.HTML object>"
            ],
            "text/html": [
              "Syncing run <strong><a href='https://wandb.ai/wilfried-mvomoeto-university-of-li-ge/Few-Shot-Training_gru_glove_fastText_Bahdanau_Multi-GRU-Bah-FastText-/runs/0gxwxqwf' target=\"_blank\">GRU-Bah-FastText_K-30_Training</a></strong> to <a href='https://wandb.ai/wilfried-mvomoeto-university-of-li-ge/Few-Shot-Training_gru_glove_fastText_Bahdanau_Multi-GRU-Bah-FastText-' target=\"_blank\">Weights & Biases</a> (<a href='https://wandb.me/developer-guide' target=\"_blank\">docs</a>)<br>"
            ]
          },
          "metadata": {}
        },
        {
          "output_type": "display_data",
          "data": {
            "text/plain": [
              "<IPython.core.display.HTML object>"
            ],
            "text/html": [
              " View project at <a href='https://wandb.ai/wilfried-mvomoeto-university-of-li-ge/Few-Shot-Training_gru_glove_fastText_Bahdanau_Multi-GRU-Bah-FastText-' target=\"_blank\">https://wandb.ai/wilfried-mvomoeto-university-of-li-ge/Few-Shot-Training_gru_glove_fastText_Bahdanau_Multi-GRU-Bah-FastText-</a>"
            ]
          },
          "metadata": {}
        },
        {
          "output_type": "display_data",
          "data": {
            "text/plain": [
              "<IPython.core.display.HTML object>"
            ],
            "text/html": [
              " View run at <a href='https://wandb.ai/wilfried-mvomoeto-university-of-li-ge/Few-Shot-Training_gru_glove_fastText_Bahdanau_Multi-GRU-Bah-FastText-/runs/0gxwxqwf' target=\"_blank\">https://wandb.ai/wilfried-mvomoeto-university-of-li-ge/Few-Shot-Training_gru_glove_fastText_Bahdanau_Multi-GRU-Bah-FastText-/runs/0gxwxqwf</a>"
            ]
          },
          "metadata": {}
        },
        {
          "output_type": "stream",
          "name": "stderr",
          "text": [
            "GRU-Bah-FastText K-30 Epoch 7/1000 - Train Loss: 2.1627, Test Loss: 2.1790, Train Acc: 13.70%, Test Acc: 12.68%, Test F1: 9.08%, Test Balanced Acc: 16.10%, Test Recall: 12.68%, Test Precision: 23.94%, Time: 1.14 sec:   1%|          | 7/1000 [00:09<22:28,  1.36s/epoch]"
          ]
        },
        {
          "output_type": "stream",
          "name": "stdout",
          "text": [
            "Early stopping triggered at epoch 8\n",
            "Model GRU-Bah-FastText_K-30 saved with loss gap > 1.25 or accuracy gap > 10% at epoch 7.\n"
          ]
        },
        {
          "output_type": "stream",
          "name": "stderr",
          "text": [
            "\n",
            "<ipython-input-10-f03193db776b>:44: UserWarning: To copy construct from a tensor, it is recommended to use sourceTensor.clone().detach() or sourceTensor.clone().detach().requires_grad_(True), rather than torch.tensor(sourceTensor).\n",
            "  self.X = torch.tensor(X_data, dtype=torch.long)\n",
            "<ipython-input-10-f03193db776b>:45: UserWarning: To copy construct from a tensor, it is recommended to use sourceTensor.clone().detach() or sourceTensor.clone().detach().requires_grad_(True), rather than torch.tensor(sourceTensor).\n",
            "  self.y = torch.tensor(y_data, dtype=torch.long)\n"
          ]
        },
        {
          "output_type": "display_data",
          "data": {
            "text/plain": [
              "<IPython.core.display.HTML object>"
            ],
            "text/html": [
              "Finishing previous runs because reinit is set to 'default'."
            ]
          },
          "metadata": {}
        },
        {
          "output_type": "display_data",
          "data": {
            "text/plain": [
              "<IPython.core.display.HTML object>"
            ],
            "text/html": []
          },
          "metadata": {}
        },
        {
          "output_type": "display_data",
          "data": {
            "text/plain": [
              "<IPython.core.display.HTML object>"
            ],
            "text/html": [
              "<br>    <style><br>        .wandb-row {<br>            display: flex;<br>            flex-direction: row;<br>            flex-wrap: wrap;<br>            justify-content: flex-start;<br>            width: 100%;<br>        }<br>        .wandb-col {<br>            display: flex;<br>            flex-direction: column;<br>            flex-basis: 100%;<br>            flex: 1;<br>            padding: 10px;<br>        }<br>    </style><br><div class=\"wandb-row\"><div class=\"wandb-col\"><h3>Run history:</h3><br/><table class=\"wandb\"><tr><td>epoch</td><td>▁▂▃▄▅▆▇█</td></tr><tr><td>k_shot</td><td>▁▁▁▁▁▁▁▁</td></tr><tr><td>test_acc</td><td>▁▂▃▄▅▇▆█</td></tr><tr><td>test_balanced_acc</td><td>▁▃▄▅▆▇▇█</td></tr><tr><td>test_f1</td><td>▁▅▅▅▅▇▇█</td></tr><tr><td>test_loss</td><td>█▆▅▄▃▂▂▁</td></tr><tr><td>test_precision</td><td>▁▂▂▃▃▆▇█</td></tr><tr><td>test_recall</td><td>▁▂▃▄▅▇▆█</td></tr><tr><td>train_acc</td><td>▃▁▄▂▄▅▄█</td></tr><tr><td>train_loss</td><td>█▄▂▃▂▂▂▁</td></tr></table><br/></div><div class=\"wandb-col\"><h3>Run summary:</h3><br/><table class=\"wandb\"><tr><td>epoch</td><td>8</td></tr><tr><td>k_shot</td><td>30</td></tr><tr><td>test_acc</td><td>0.13505</td></tr><tr><td>test_balanced_acc</td><td>0.16977</td></tr><tr><td>test_f1</td><td>0.09959</td></tr><tr><td>test_loss</td><td>2.1753</td></tr><tr><td>test_precision</td><td>0.28034</td></tr><tr><td>test_recall</td><td>0.13505</td></tr><tr><td>train_acc</td><td>0.2</td></tr><tr><td>train_loss</td><td>2.14542</td></tr></table><br/></div></div>"
            ]
          },
          "metadata": {}
        },
        {
          "output_type": "display_data",
          "data": {
            "text/plain": [
              "<IPython.core.display.HTML object>"
            ],
            "text/html": [
              " View run <strong style=\"color:#cdcd00\">GRU-Bah-FastText_K-30_Training</strong> at: <a href='https://wandb.ai/wilfried-mvomoeto-university-of-li-ge/Few-Shot-Training_gru_glove_fastText_Bahdanau_Multi-GRU-Bah-FastText-/runs/0gxwxqwf' target=\"_blank\">https://wandb.ai/wilfried-mvomoeto-university-of-li-ge/Few-Shot-Training_gru_glove_fastText_Bahdanau_Multi-GRU-Bah-FastText-/runs/0gxwxqwf</a><br> View project at: <a href='https://wandb.ai/wilfried-mvomoeto-university-of-li-ge/Few-Shot-Training_gru_glove_fastText_Bahdanau_Multi-GRU-Bah-FastText-' target=\"_blank\">https://wandb.ai/wilfried-mvomoeto-university-of-li-ge/Few-Shot-Training_gru_glove_fastText_Bahdanau_Multi-GRU-Bah-FastText-</a><br>Synced 5 W&B file(s), 0 media file(s), 0 artifact file(s) and 0 other file(s)"
            ]
          },
          "metadata": {}
        },
        {
          "output_type": "display_data",
          "data": {
            "text/plain": [
              "<IPython.core.display.HTML object>"
            ],
            "text/html": [
              "Find logs at: <code>./wandb/run-20250514_091537-0gxwxqwf/logs</code>"
            ]
          },
          "metadata": {}
        },
        {
          "output_type": "display_data",
          "data": {
            "text/plain": [
              "<IPython.core.display.HTML object>"
            ],
            "text/html": [
              "Tracking run with wandb version 0.19.11"
            ]
          },
          "metadata": {}
        },
        {
          "output_type": "display_data",
          "data": {
            "text/plain": [
              "<IPython.core.display.HTML object>"
            ],
            "text/html": [
              "Run data is saved locally in <code>/content/wandb/run-20250514_091549-jt0djmom</code>"
            ]
          },
          "metadata": {}
        },
        {
          "output_type": "display_data",
          "data": {
            "text/plain": [
              "<IPython.core.display.HTML object>"
            ],
            "text/html": [
              "Syncing run <strong><a href='https://wandb.ai/wilfried-mvomoeto-university-of-li-ge/Few-Shot-Training_gru_glove_fastText_Bahdanau_Multi-CNN_LSTM-/runs/jt0djmom' target=\"_blank\">CNN_LSTM_K-30_Training</a></strong> to <a href='https://wandb.ai/wilfried-mvomoeto-university-of-li-ge/Few-Shot-Training_gru_glove_fastText_Bahdanau_Multi-CNN_LSTM-' target=\"_blank\">Weights & Biases</a> (<a href='https://wandb.me/developer-guide' target=\"_blank\">docs</a>)<br>"
            ]
          },
          "metadata": {}
        },
        {
          "output_type": "display_data",
          "data": {
            "text/plain": [
              "<IPython.core.display.HTML object>"
            ],
            "text/html": [
              " View project at <a href='https://wandb.ai/wilfried-mvomoeto-university-of-li-ge/Few-Shot-Training_gru_glove_fastText_Bahdanau_Multi-CNN_LSTM-' target=\"_blank\">https://wandb.ai/wilfried-mvomoeto-university-of-li-ge/Few-Shot-Training_gru_glove_fastText_Bahdanau_Multi-CNN_LSTM-</a>"
            ]
          },
          "metadata": {}
        },
        {
          "output_type": "display_data",
          "data": {
            "text/plain": [
              "<IPython.core.display.HTML object>"
            ],
            "text/html": [
              " View run at <a href='https://wandb.ai/wilfried-mvomoeto-university-of-li-ge/Few-Shot-Training_gru_glove_fastText_Bahdanau_Multi-CNN_LSTM-/runs/jt0djmom' target=\"_blank\">https://wandb.ai/wilfried-mvomoeto-university-of-li-ge/Few-Shot-Training_gru_glove_fastText_Bahdanau_Multi-CNN_LSTM-/runs/jt0djmom</a>"
            ]
          },
          "metadata": {}
        },
        {
          "output_type": "stream",
          "name": "stderr",
          "text": [
            "CNN_LSTM K-30 Epoch 1000/1000 - Train Loss: 2.1601, Test Loss: 2.2322, Train Acc: 11.48%, Test Acc: 6.78%, Test F1: 0.96%, Test Balanced Acc: 11.07%, Test Recall: 6.78%, Test Precision: 3.79%, Time: 0.98 sec: 100%|██████████| 1000/1000 [13:23<00:00,  1.25epoch/s]"
          ]
        },
        {
          "output_type": "stream",
          "name": "stdout",
          "text": [
            "Model CNN_LSTM_K-30 saved at the end of epoch 1000.\n",
            "Model metrics: \n",
            "Test Accuracy: 6.78%, Test F1: 0.96%, Test Balanced Accuracy: 11.07%, Test Recall: 6.78%, Test Precision: 3.79%\n"
          ]
        },
        {
          "output_type": "stream",
          "name": "stderr",
          "text": [
            "\n",
            "<ipython-input-10-f03193db776b>:44: UserWarning: To copy construct from a tensor, it is recommended to use sourceTensor.clone().detach() or sourceTensor.clone().detach().requires_grad_(True), rather than torch.tensor(sourceTensor).\n",
            "  self.X = torch.tensor(X_data, dtype=torch.long)\n",
            "<ipython-input-10-f03193db776b>:45: UserWarning: To copy construct from a tensor, it is recommended to use sourceTensor.clone().detach() or sourceTensor.clone().detach().requires_grad_(True), rather than torch.tensor(sourceTensor).\n",
            "  self.y = torch.tensor(y_data, dtype=torch.long)\n"
          ]
        },
        {
          "output_type": "display_data",
          "data": {
            "text/plain": [
              "<IPython.core.display.HTML object>"
            ],
            "text/html": [
              "Finishing previous runs because reinit is set to 'default'."
            ]
          },
          "metadata": {}
        },
        {
          "output_type": "display_data",
          "data": {
            "text/plain": [
              "<IPython.core.display.HTML object>"
            ],
            "text/html": []
          },
          "metadata": {}
        },
        {
          "output_type": "display_data",
          "data": {
            "text/plain": [
              "<IPython.core.display.HTML object>"
            ],
            "text/html": [
              "<br>    <style><br>        .wandb-row {<br>            display: flex;<br>            flex-direction: row;<br>            flex-wrap: wrap;<br>            justify-content: flex-start;<br>            width: 100%;<br>        }<br>        .wandb-col {<br>            display: flex;<br>            flex-direction: column;<br>            flex-basis: 100%;<br>            flex: 1;<br>            padding: 10px;<br>        }<br>    </style><br><div class=\"wandb-row\"><div class=\"wandb-col\"><h3>Run history:</h3><br/><table class=\"wandb\"><tr><td>epoch</td><td>▁▁▂▂▂▃▃▃▄▄▄▄▄▄▄▅▅▅▅▅▅▅▅▅▅▆▆▆▆▆▇▇▇▇▇▇▇███</td></tr><tr><td>k_shot</td><td>▁▁▁▁▁▁▁▁▁▁▁▁▁▁▁▁▁▁▁▁▁▁▁▁▁▁▁▁▁▁▁▁▁▁▁▁▁▁▁▁</td></tr><tr><td>test_acc</td><td>▄▄▄▄▄▅▅▅▅▅▅▅▅▅▅▅▅▅▅▅▅▅▅▅▅▂▃▃▅█▄▄▅▂▃▃▂▁▃▃</td></tr><tr><td>test_balanced_acc</td><td>████▅▅▅▅▅▅▅▇▇▇▇▇▇▇▇▇▇▇▇▄▄██▇▆▄▆▆▄▃▁▂▂▂▃▃</td></tr><tr><td>test_f1</td><td>▁▁▁▁▁▄▇▇█▇▇▄▇▇▇▇▇▇████████████▁█▇▇▆▃▃▁▁▃</td></tr><tr><td>test_loss</td><td>▂▂▂▂▁▂▁▃▂▂▆▆▆▆▆▆▆▇▇▇▇▇▇▇▇▆▆▇▇▇█▇▃▄▇█▇██▇</td></tr><tr><td>test_precision</td><td>▁▁▃▃▄▄▄▃▄▄▄▄▄▄▄▄▄▄▄▄▄▄▄▄▄▄▁▁▁▁▅▆▆▇▇▆▆▅█▃</td></tr><tr><td>test_recall</td><td>▅▅▅▅▆▄▇▆▆▆▆▆▆▅▆▆▇▇▇▇▇▇▇▇▇▇▇▇█▃▃▆▆▅▃▁▃▃▁▄</td></tr><tr><td>train_acc</td><td>▁▁▁▁▁███████████████████████████████████</td></tr><tr><td>train_loss</td><td>█▇███▇▇▆▅▂▁▂▂▂▃▂▁▂▂▂▂▂▃▂▂▁▁▂▁▂▄▅▅▇▃▁▂▂▂▂</td></tr></table><br/></div><div class=\"wandb-col\"><h3>Run summary:</h3><br/><table class=\"wandb\"><tr><td>epoch</td><td>1000</td></tr><tr><td>k_shot</td><td>30</td></tr><tr><td>test_acc</td><td>0.06778</td></tr><tr><td>test_balanced_acc</td><td>0.11073</td></tr><tr><td>test_f1</td><td>0.00959</td></tr><tr><td>test_loss</td><td>2.23225</td></tr><tr><td>test_precision</td><td>0.03788</td></tr><tr><td>test_recall</td><td>0.06778</td></tr><tr><td>train_acc</td><td>0.11481</td></tr><tr><td>train_loss</td><td>2.16008</td></tr></table><br/></div></div>"
            ]
          },
          "metadata": {}
        },
        {
          "output_type": "display_data",
          "data": {
            "text/plain": [
              "<IPython.core.display.HTML object>"
            ],
            "text/html": [
              " View run <strong style=\"color:#cdcd00\">CNN_LSTM_K-30_Training</strong> at: <a href='https://wandb.ai/wilfried-mvomoeto-university-of-li-ge/Few-Shot-Training_gru_glove_fastText_Bahdanau_Multi-CNN_LSTM-/runs/jt0djmom' target=\"_blank\">https://wandb.ai/wilfried-mvomoeto-university-of-li-ge/Few-Shot-Training_gru_glove_fastText_Bahdanau_Multi-CNN_LSTM-/runs/jt0djmom</a><br> View project at: <a href='https://wandb.ai/wilfried-mvomoeto-university-of-li-ge/Few-Shot-Training_gru_glove_fastText_Bahdanau_Multi-CNN_LSTM-' target=\"_blank\">https://wandb.ai/wilfried-mvomoeto-university-of-li-ge/Few-Shot-Training_gru_glove_fastText_Bahdanau_Multi-CNN_LSTM-</a><br>Synced 5 W&B file(s), 0 media file(s), 0 artifact file(s) and 0 other file(s)"
            ]
          },
          "metadata": {}
        },
        {
          "output_type": "display_data",
          "data": {
            "text/plain": [
              "<IPython.core.display.HTML object>"
            ],
            "text/html": [
              "Find logs at: <code>./wandb/run-20250514_091549-jt0djmom/logs</code>"
            ]
          },
          "metadata": {}
        },
        {
          "output_type": "display_data",
          "data": {
            "text/plain": [
              "<IPython.core.display.HTML object>"
            ],
            "text/html": [
              "Tracking run with wandb version 0.19.11"
            ]
          },
          "metadata": {}
        },
        {
          "output_type": "display_data",
          "data": {
            "text/plain": [
              "<IPython.core.display.HTML object>"
            ],
            "text/html": [
              "Run data is saved locally in <code>/content/wandb/run-20250514_092914-hkdkwymv</code>"
            ]
          },
          "metadata": {}
        },
        {
          "output_type": "display_data",
          "data": {
            "text/plain": [
              "<IPython.core.display.HTML object>"
            ],
            "text/html": [
              "Syncing run <strong><a href='https://wandb.ai/wilfried-mvomoeto-university-of-li-ge/Few-Shot-Training_gru_glove_fastText_Bahdanau_Multi-GRU-Glove-/runs/hkdkwymv' target=\"_blank\">GRU-Glove_K-30_Training</a></strong> to <a href='https://wandb.ai/wilfried-mvomoeto-university-of-li-ge/Few-Shot-Training_gru_glove_fastText_Bahdanau_Multi-GRU-Glove-' target=\"_blank\">Weights & Biases</a> (<a href='https://wandb.me/developer-guide' target=\"_blank\">docs</a>)<br>"
            ]
          },
          "metadata": {}
        },
        {
          "output_type": "display_data",
          "data": {
            "text/plain": [
              "<IPython.core.display.HTML object>"
            ],
            "text/html": [
              " View project at <a href='https://wandb.ai/wilfried-mvomoeto-university-of-li-ge/Few-Shot-Training_gru_glove_fastText_Bahdanau_Multi-GRU-Glove-' target=\"_blank\">https://wandb.ai/wilfried-mvomoeto-university-of-li-ge/Few-Shot-Training_gru_glove_fastText_Bahdanau_Multi-GRU-Glove-</a>"
            ]
          },
          "metadata": {}
        },
        {
          "output_type": "display_data",
          "data": {
            "text/plain": [
              "<IPython.core.display.HTML object>"
            ],
            "text/html": [
              " View run at <a href='https://wandb.ai/wilfried-mvomoeto-university-of-li-ge/Few-Shot-Training_gru_glove_fastText_Bahdanau_Multi-GRU-Glove-/runs/hkdkwymv' target=\"_blank\">https://wandb.ai/wilfried-mvomoeto-university-of-li-ge/Few-Shot-Training_gru_glove_fastText_Bahdanau_Multi-GRU-Glove-/runs/hkdkwymv</a>"
            ]
          },
          "metadata": {}
        },
        {
          "output_type": "stream",
          "name": "stderr",
          "text": [
            "GRU-Glove K-30 Epoch 1/1000 - Train Loss: 2.2853, Test Loss: 2.2057, Train Acc: 9.26%, Test Acc: 11.87%, Test F1: 2.70%, Test Balanced Acc: 11.21%, Test Recall: 11.87%, Test Precision: 16.86%, Time: 0.77 sec:   0%|          | 1/1000 [00:01<26:12,  1.57s/epoch]"
          ]
        },
        {
          "output_type": "stream",
          "name": "stdout",
          "text": [
            "Early stopping triggered at epoch 2\n",
            "Model GRU-Glove_K-30 saved with loss gap > 1.25 or accuracy gap > 10% at epoch 1.\n"
          ]
        },
        {
          "output_type": "stream",
          "name": "stderr",
          "text": [
            "\n",
            "<ipython-input-10-f03193db776b>:44: UserWarning: To copy construct from a tensor, it is recommended to use sourceTensor.clone().detach() or sourceTensor.clone().detach().requires_grad_(True), rather than torch.tensor(sourceTensor).\n",
            "  self.X = torch.tensor(X_data, dtype=torch.long)\n",
            "<ipython-input-10-f03193db776b>:45: UserWarning: To copy construct from a tensor, it is recommended to use sourceTensor.clone().detach() or sourceTensor.clone().detach().requires_grad_(True), rather than torch.tensor(sourceTensor).\n",
            "  self.y = torch.tensor(y_data, dtype=torch.long)\n"
          ]
        },
        {
          "output_type": "display_data",
          "data": {
            "text/plain": [
              "<IPython.core.display.HTML object>"
            ],
            "text/html": [
              "Finishing previous runs because reinit is set to 'default'."
            ]
          },
          "metadata": {}
        },
        {
          "output_type": "display_data",
          "data": {
            "text/plain": [
              "<IPython.core.display.HTML object>"
            ],
            "text/html": []
          },
          "metadata": {}
        },
        {
          "output_type": "display_data",
          "data": {
            "text/plain": [
              "<IPython.core.display.HTML object>"
            ],
            "text/html": [
              "<br>    <style><br>        .wandb-row {<br>            display: flex;<br>            flex-direction: row;<br>            flex-wrap: wrap;<br>            justify-content: flex-start;<br>            width: 100%;<br>        }<br>        .wandb-col {<br>            display: flex;<br>            flex-direction: column;<br>            flex-basis: 100%;<br>            flex: 1;<br>            padding: 10px;<br>        }<br>    </style><br><div class=\"wandb-row\"><div class=\"wandb-col\"><h3>Run history:</h3><br/><table class=\"wandb\"><tr><td>epoch</td><td>▁█</td></tr><tr><td>k_shot</td><td>▁▁</td></tr><tr><td>test_acc</td><td>█▁</td></tr><tr><td>test_balanced_acc</td><td>█▁</td></tr><tr><td>test_f1</td><td>█▁</td></tr><tr><td>test_loss</td><td>▁█</td></tr><tr><td>test_precision</td><td>█▁</td></tr><tr><td>test_recall</td><td>█▁</td></tr><tr><td>train_acc</td><td>▁█</td></tr><tr><td>train_loss</td><td>█▁</td></tr></table><br/></div><div class=\"wandb-col\"><h3>Run summary:</h3><br/><table class=\"wandb\"><tr><td>epoch</td><td>2</td></tr><tr><td>k_shot</td><td>30</td></tr><tr><td>test_acc</td><td>0.06813</td></tr><tr><td>test_balanced_acc</td><td>0.11131</td></tr><tr><td>test_f1</td><td>0.00964</td></tr><tr><td>test_loss</td><td>2.24484</td></tr><tr><td>test_precision</td><td>0.0915</td></tr><tr><td>test_recall</td><td>0.06813</td></tr><tr><td>train_acc</td><td>0.14815</td></tr><tr><td>train_loss</td><td>2.26706</td></tr></table><br/></div></div>"
            ]
          },
          "metadata": {}
        },
        {
          "output_type": "display_data",
          "data": {
            "text/plain": [
              "<IPython.core.display.HTML object>"
            ],
            "text/html": [
              " View run <strong style=\"color:#cdcd00\">GRU-Glove_K-30_Training</strong> at: <a href='https://wandb.ai/wilfried-mvomoeto-university-of-li-ge/Few-Shot-Training_gru_glove_fastText_Bahdanau_Multi-GRU-Glove-/runs/hkdkwymv' target=\"_blank\">https://wandb.ai/wilfried-mvomoeto-university-of-li-ge/Few-Shot-Training_gru_glove_fastText_Bahdanau_Multi-GRU-Glove-/runs/hkdkwymv</a><br> View project at: <a href='https://wandb.ai/wilfried-mvomoeto-university-of-li-ge/Few-Shot-Training_gru_glove_fastText_Bahdanau_Multi-GRU-Glove-' target=\"_blank\">https://wandb.ai/wilfried-mvomoeto-university-of-li-ge/Few-Shot-Training_gru_glove_fastText_Bahdanau_Multi-GRU-Glove-</a><br>Synced 5 W&B file(s), 0 media file(s), 0 artifact file(s) and 0 other file(s)"
            ]
          },
          "metadata": {}
        },
        {
          "output_type": "display_data",
          "data": {
            "text/plain": [
              "<IPython.core.display.HTML object>"
            ],
            "text/html": [
              "Find logs at: <code>./wandb/run-20250514_092914-hkdkwymv/logs</code>"
            ]
          },
          "metadata": {}
        },
        {
          "output_type": "display_data",
          "data": {
            "text/plain": [
              "<IPython.core.display.HTML object>"
            ],
            "text/html": [
              "Tracking run with wandb version 0.19.11"
            ]
          },
          "metadata": {}
        },
        {
          "output_type": "display_data",
          "data": {
            "text/plain": [
              "<IPython.core.display.HTML object>"
            ],
            "text/html": [
              "Run data is saved locally in <code>/content/wandb/run-20250514_092917-ahvn5jyq</code>"
            ]
          },
          "metadata": {}
        },
        {
          "output_type": "display_data",
          "data": {
            "text/plain": [
              "<IPython.core.display.HTML object>"
            ],
            "text/html": [
              "Syncing run <strong><a href='https://wandb.ai/wilfried-mvomoeto-university-of-li-ge/Few-Shot-Training_gru_glove_fastText_Bahdanau_Multi-GRU-FastText-/runs/ahvn5jyq' target=\"_blank\">GRU-FastText_K-30_Training</a></strong> to <a href='https://wandb.ai/wilfried-mvomoeto-university-of-li-ge/Few-Shot-Training_gru_glove_fastText_Bahdanau_Multi-GRU-FastText-' target=\"_blank\">Weights & Biases</a> (<a href='https://wandb.me/developer-guide' target=\"_blank\">docs</a>)<br>"
            ]
          },
          "metadata": {}
        },
        {
          "output_type": "display_data",
          "data": {
            "text/plain": [
              "<IPython.core.display.HTML object>"
            ],
            "text/html": [
              " View project at <a href='https://wandb.ai/wilfried-mvomoeto-university-of-li-ge/Few-Shot-Training_gru_glove_fastText_Bahdanau_Multi-GRU-FastText-' target=\"_blank\">https://wandb.ai/wilfried-mvomoeto-university-of-li-ge/Few-Shot-Training_gru_glove_fastText_Bahdanau_Multi-GRU-FastText-</a>"
            ]
          },
          "metadata": {}
        },
        {
          "output_type": "display_data",
          "data": {
            "text/plain": [
              "<IPython.core.display.HTML object>"
            ],
            "text/html": [
              " View run at <a href='https://wandb.ai/wilfried-mvomoeto-university-of-li-ge/Few-Shot-Training_gru_glove_fastText_Bahdanau_Multi-GRU-FastText-/runs/ahvn5jyq' target=\"_blank\">https://wandb.ai/wilfried-mvomoeto-university-of-li-ge/Few-Shot-Training_gru_glove_fastText_Bahdanau_Multi-GRU-FastText-/runs/ahvn5jyq</a>"
            ]
          },
          "metadata": {}
        },
        {
          "output_type": "stream",
          "name": "stderr",
          "text": [
            "GRU-FastText K-30 Epoch 5/1000 - Train Loss: 2.2313, Test Loss: 2.2379, Train Acc: 11.48%, Test Acc: 6.80%, Test F1: 0.96%, Test Balanced Acc: 11.10%, Test Recall: 6.80%, Test Precision: 21.43%, Time: 0.68 sec:   0%|          | 5/1000 [00:04<14:07,  1.17epoch/s]"
          ]
        },
        {
          "output_type": "stream",
          "name": "stdout",
          "text": [
            "Early stopping triggered at epoch 6\n",
            "Model GRU-FastText_K-30 saved with loss gap > 1.25 or accuracy gap > 10% at epoch 5.\n",
            "\n",
            "Training with 50-shot...\n"
          ]
        },
        {
          "output_type": "stream",
          "name": "stderr",
          "text": [
            "\n",
            "<ipython-input-10-f03193db776b>:44: UserWarning: To copy construct from a tensor, it is recommended to use sourceTensor.clone().detach() or sourceTensor.clone().detach().requires_grad_(True), rather than torch.tensor(sourceTensor).\n",
            "  self.X = torch.tensor(X_data, dtype=torch.long)\n",
            "<ipython-input-10-f03193db776b>:45: UserWarning: To copy construct from a tensor, it is recommended to use sourceTensor.clone().detach() or sourceTensor.clone().detach().requires_grad_(True), rather than torch.tensor(sourceTensor).\n",
            "  self.y = torch.tensor(y_data, dtype=torch.long)\n"
          ]
        },
        {
          "output_type": "display_data",
          "data": {
            "text/plain": [
              "<IPython.core.display.HTML object>"
            ],
            "text/html": [
              "Finishing previous runs because reinit is set to 'default'."
            ]
          },
          "metadata": {}
        },
        {
          "output_type": "display_data",
          "data": {
            "text/plain": [
              "<IPython.core.display.HTML object>"
            ],
            "text/html": []
          },
          "metadata": {}
        },
        {
          "output_type": "display_data",
          "data": {
            "text/plain": [
              "<IPython.core.display.HTML object>"
            ],
            "text/html": [
              "<br>    <style><br>        .wandb-row {<br>            display: flex;<br>            flex-direction: row;<br>            flex-wrap: wrap;<br>            justify-content: flex-start;<br>            width: 100%;<br>        }<br>        .wandb-col {<br>            display: flex;<br>            flex-direction: column;<br>            flex-basis: 100%;<br>            flex: 1;<br>            padding: 10px;<br>        }<br>    </style><br><div class=\"wandb-row\"><div class=\"wandb-col\"><h3>Run history:</h3><br/><table class=\"wandb\"><tr><td>epoch</td><td>▁▂▄▅▇█</td></tr><tr><td>k_shot</td><td>▁▁▁▁▁▁</td></tr><tr><td>test_acc</td><td>█▅▅▁█▅</td></tr><tr><td>test_balanced_acc</td><td>█▄▄▁█▄</td></tr><tr><td>test_f1</td><td>█▄▄▁█▄</td></tr><tr><td>test_loss</td><td>▇▁▄▁█▅</td></tr><tr><td>test_precision</td><td>█▁███▃</td></tr><tr><td>test_recall</td><td>█▅▅▁█▅</td></tr><tr><td>train_acc</td><td>▂▄▁▆▇█</td></tr><tr><td>train_loss</td><td>▇█▅▄▄▁</td></tr></table><br/></div><div class=\"wandb-col\"><h3>Run summary:</h3><br/><table class=\"wandb\"><tr><td>epoch</td><td>6</td></tr><tr><td>k_shot</td><td>30</td></tr><tr><td>test_acc</td><td>0.06778</td></tr><tr><td>test_balanced_acc</td><td>0.11075</td></tr><tr><td>test_f1</td><td>0.0096</td></tr><tr><td>test_loss</td><td>2.22262</td></tr><tr><td>test_precision</td><td>0.15338</td></tr><tr><td>test_recall</td><td>0.06778</td></tr><tr><td>train_acc</td><td>0.12593</td></tr><tr><td>train_loss</td><td>2.20308</td></tr></table><br/></div></div>"
            ]
          },
          "metadata": {}
        },
        {
          "output_type": "display_data",
          "data": {
            "text/plain": [
              "<IPython.core.display.HTML object>"
            ],
            "text/html": [
              " View run <strong style=\"color:#cdcd00\">GRU-FastText_K-30_Training</strong> at: <a href='https://wandb.ai/wilfried-mvomoeto-university-of-li-ge/Few-Shot-Training_gru_glove_fastText_Bahdanau_Multi-GRU-FastText-/runs/ahvn5jyq' target=\"_blank\">https://wandb.ai/wilfried-mvomoeto-university-of-li-ge/Few-Shot-Training_gru_glove_fastText_Bahdanau_Multi-GRU-FastText-/runs/ahvn5jyq</a><br> View project at: <a href='https://wandb.ai/wilfried-mvomoeto-university-of-li-ge/Few-Shot-Training_gru_glove_fastText_Bahdanau_Multi-GRU-FastText-' target=\"_blank\">https://wandb.ai/wilfried-mvomoeto-university-of-li-ge/Few-Shot-Training_gru_glove_fastText_Bahdanau_Multi-GRU-FastText-</a><br>Synced 5 W&B file(s), 0 media file(s), 0 artifact file(s) and 0 other file(s)"
            ]
          },
          "metadata": {}
        },
        {
          "output_type": "display_data",
          "data": {
            "text/plain": [
              "<IPython.core.display.HTML object>"
            ],
            "text/html": [
              "Find logs at: <code>./wandb/run-20250514_092917-ahvn5jyq/logs</code>"
            ]
          },
          "metadata": {}
        },
        {
          "output_type": "display_data",
          "data": {
            "text/plain": [
              "<IPython.core.display.HTML object>"
            ],
            "text/html": [
              "Tracking run with wandb version 0.19.11"
            ]
          },
          "metadata": {}
        },
        {
          "output_type": "display_data",
          "data": {
            "text/plain": [
              "<IPython.core.display.HTML object>"
            ],
            "text/html": [
              "Run data is saved locally in <code>/content/wandb/run-20250514_092923-qnsn5bnx</code>"
            ]
          },
          "metadata": {}
        },
        {
          "output_type": "display_data",
          "data": {
            "text/plain": [
              "<IPython.core.display.HTML object>"
            ],
            "text/html": [
              "Syncing run <strong><a href='https://wandb.ai/wilfried-mvomoeto-university-of-li-ge/Few-Shot-Training_gru_glove_fastText_Bahdanau_Multi-GRU-Bah-Glove-/runs/qnsn5bnx' target=\"_blank\">GRU-Bah-Glove_K-50_Training</a></strong> to <a href='https://wandb.ai/wilfried-mvomoeto-university-of-li-ge/Few-Shot-Training_gru_glove_fastText_Bahdanau_Multi-GRU-Bah-Glove-' target=\"_blank\">Weights & Biases</a> (<a href='https://wandb.me/developer-guide' target=\"_blank\">docs</a>)<br>"
            ]
          },
          "metadata": {}
        },
        {
          "output_type": "display_data",
          "data": {
            "text/plain": [
              "<IPython.core.display.HTML object>"
            ],
            "text/html": [
              " View project at <a href='https://wandb.ai/wilfried-mvomoeto-university-of-li-ge/Few-Shot-Training_gru_glove_fastText_Bahdanau_Multi-GRU-Bah-Glove-' target=\"_blank\">https://wandb.ai/wilfried-mvomoeto-university-of-li-ge/Few-Shot-Training_gru_glove_fastText_Bahdanau_Multi-GRU-Bah-Glove-</a>"
            ]
          },
          "metadata": {}
        },
        {
          "output_type": "display_data",
          "data": {
            "text/plain": [
              "<IPython.core.display.HTML object>"
            ],
            "text/html": [
              " View run at <a href='https://wandb.ai/wilfried-mvomoeto-university-of-li-ge/Few-Shot-Training_gru_glove_fastText_Bahdanau_Multi-GRU-Bah-Glove-/runs/qnsn5bnx' target=\"_blank\">https://wandb.ai/wilfried-mvomoeto-university-of-li-ge/Few-Shot-Training_gru_glove_fastText_Bahdanau_Multi-GRU-Bah-Glove-/runs/qnsn5bnx</a>"
            ]
          },
          "metadata": {}
        },
        {
          "output_type": "stream",
          "name": "stderr",
          "text": [
            "GRU-Bah-Glove K-50 Epoch 38/1000 - Train Loss: 0.5342, Test Loss: 0.6556, Train Acc: 85.78%, Test Acc: 81.37%, Test F1: 82.56%, Test Balanced Acc: 81.92%, Test Recall: 81.37%, Test Precision: 84.88%, Time: 1.25 sec:   4%|▍         | 38/1000 [00:50<21:19,  1.33s/epoch]"
          ]
        },
        {
          "output_type": "stream",
          "name": "stdout",
          "text": [
            "Early stopping triggered at epoch 39\n",
            "Model GRU-Bah-Glove_K-50 saved with loss gap > 1.25 or accuracy gap > 10% at epoch 38.\n"
          ]
        },
        {
          "output_type": "stream",
          "name": "stderr",
          "text": [
            "\n",
            "<ipython-input-10-f03193db776b>:44: UserWarning: To copy construct from a tensor, it is recommended to use sourceTensor.clone().detach() or sourceTensor.clone().detach().requires_grad_(True), rather than torch.tensor(sourceTensor).\n",
            "  self.X = torch.tensor(X_data, dtype=torch.long)\n",
            "<ipython-input-10-f03193db776b>:45: UserWarning: To copy construct from a tensor, it is recommended to use sourceTensor.clone().detach() or sourceTensor.clone().detach().requires_grad_(True), rather than torch.tensor(sourceTensor).\n",
            "  self.y = torch.tensor(y_data, dtype=torch.long)\n"
          ]
        },
        {
          "output_type": "display_data",
          "data": {
            "text/plain": [
              "<IPython.core.display.HTML object>"
            ],
            "text/html": [
              "Finishing previous runs because reinit is set to 'default'."
            ]
          },
          "metadata": {}
        },
        {
          "output_type": "display_data",
          "data": {
            "text/plain": [
              "<IPython.core.display.HTML object>"
            ],
            "text/html": []
          },
          "metadata": {}
        },
        {
          "output_type": "display_data",
          "data": {
            "text/plain": [
              "<IPython.core.display.HTML object>"
            ],
            "text/html": [
              "<br>    <style><br>        .wandb-row {<br>            display: flex;<br>            flex-direction: row;<br>            flex-wrap: wrap;<br>            justify-content: flex-start;<br>            width: 100%;<br>        }<br>        .wandb-col {<br>            display: flex;<br>            flex-direction: column;<br>            flex-basis: 100%;<br>            flex: 1;<br>            padding: 10px;<br>        }<br>    </style><br><div class=\"wandb-row\"><div class=\"wandb-col\"><h3>Run history:</h3><br/><table class=\"wandb\"><tr><td>epoch</td><td>▁▁▁▂▂▂▂▂▂▃▃▃▃▃▄▄▄▄▄▅▅▅▅▅▅▆▆▆▆▆▇▇▇▇▇▇███</td></tr><tr><td>k_shot</td><td>▁▁▁▁▁▁▁▁▁▁▁▁▁▁▁▁▁▁▁▁▁▁▁▁▁▁▁▁▁▁▁▁▁▁▁▁▁▁▁</td></tr><tr><td>test_acc</td><td>▁▁▂▂▂▂▂▂▃▃▄▅▅▆▆▆▆▇▇▇▇▇▇████████████████</td></tr><tr><td>test_balanced_acc</td><td>▁▁▂▂▂▂▂▃▃▄▄▅▅▆▆▆▆▇▇▇▇▇█████████████████</td></tr><tr><td>test_f1</td><td>▁▁▂▂▂▂▂▃▃▃▄▄▅▅▆▆▆▆▇▇▇▇▇▇███████████████</td></tr><tr><td>test_loss</td><td>███████▇▇▇▆▆▆▅▅▄▄▄▄▃▃▃▃▃▂▂▂▂▂▂▁▁▁▁▁▁▁▁▁</td></tr><tr><td>test_precision</td><td>▁▁▂▂▂▃▃▄▄▅▅▅▅▅▆▆▆▆▇▇▇▇▇▇███████████████</td></tr><tr><td>test_recall</td><td>▁▁▂▂▂▂▂▂▃▃▄▅▅▆▆▆▆▇▇▇▇▇▇████████████████</td></tr><tr><td>train_acc</td><td>▁▁▁▁▂▂▂▂▂▃▃▄▄▄▅▅▅▆▅▆▆▆▆▇▆▇▇▇▇▇▇████████</td></tr><tr><td>train_loss</td><td>████▇▇▇▇▇▆▆▆▆▅▅▅▄▄▄▄▃▃▃▃▃▂▂▂▂▂▂▂▂▁▁▁▁▁▁</td></tr></table><br/></div><div class=\"wandb-col\"><h3>Run summary:</h3><br/><table class=\"wandb\"><tr><td>epoch</td><td>39</td></tr><tr><td>k_shot</td><td>50</td></tr><tr><td>test_acc</td><td>0.81459</td></tr><tr><td>test_balanced_acc</td><td>0.81989</td></tr><tr><td>test_f1</td><td>0.82612</td></tr><tr><td>test_loss</td><td>0.64609</td></tr><tr><td>test_precision</td><td>0.84925</td></tr><tr><td>test_recall</td><td>0.81459</td></tr><tr><td>train_acc</td><td>0.86889</td></tr><tr><td>train_loss</td><td>0.52389</td></tr></table><br/></div></div>"
            ]
          },
          "metadata": {}
        },
        {
          "output_type": "display_data",
          "data": {
            "text/plain": [
              "<IPython.core.display.HTML object>"
            ],
            "text/html": [
              " View run <strong style=\"color:#cdcd00\">GRU-Bah-Glove_K-50_Training</strong> at: <a href='https://wandb.ai/wilfried-mvomoeto-university-of-li-ge/Few-Shot-Training_gru_glove_fastText_Bahdanau_Multi-GRU-Bah-Glove-/runs/qnsn5bnx' target=\"_blank\">https://wandb.ai/wilfried-mvomoeto-university-of-li-ge/Few-Shot-Training_gru_glove_fastText_Bahdanau_Multi-GRU-Bah-Glove-/runs/qnsn5bnx</a><br> View project at: <a href='https://wandb.ai/wilfried-mvomoeto-university-of-li-ge/Few-Shot-Training_gru_glove_fastText_Bahdanau_Multi-GRU-Bah-Glove-' target=\"_blank\">https://wandb.ai/wilfried-mvomoeto-university-of-li-ge/Few-Shot-Training_gru_glove_fastText_Bahdanau_Multi-GRU-Bah-Glove-</a><br>Synced 5 W&B file(s), 0 media file(s), 0 artifact file(s) and 0 other file(s)"
            ]
          },
          "metadata": {}
        },
        {
          "output_type": "display_data",
          "data": {
            "text/plain": [
              "<IPython.core.display.HTML object>"
            ],
            "text/html": [
              "Find logs at: <code>./wandb/run-20250514_092923-qnsn5bnx/logs</code>"
            ]
          },
          "metadata": {}
        },
        {
          "output_type": "display_data",
          "data": {
            "text/plain": [
              "<IPython.core.display.HTML object>"
            ],
            "text/html": [
              "Tracking run with wandb version 0.19.11"
            ]
          },
          "metadata": {}
        },
        {
          "output_type": "display_data",
          "data": {
            "text/plain": [
              "<IPython.core.display.HTML object>"
            ],
            "text/html": [
              "Run data is saved locally in <code>/content/wandb/run-20250514_093016-eb3uvr7o</code>"
            ]
          },
          "metadata": {}
        },
        {
          "output_type": "display_data",
          "data": {
            "text/plain": [
              "<IPython.core.display.HTML object>"
            ],
            "text/html": [
              "Syncing run <strong><a href='https://wandb.ai/wilfried-mvomoeto-university-of-li-ge/Few-Shot-Training_gru_glove_fastText_Bahdanau_Multi-GRU-Bah-FastText-/runs/eb3uvr7o' target=\"_blank\">GRU-Bah-FastText_K-50_Training</a></strong> to <a href='https://wandb.ai/wilfried-mvomoeto-university-of-li-ge/Few-Shot-Training_gru_glove_fastText_Bahdanau_Multi-GRU-Bah-FastText-' target=\"_blank\">Weights & Biases</a> (<a href='https://wandb.me/developer-guide' target=\"_blank\">docs</a>)<br>"
            ]
          },
          "metadata": {}
        },
        {
          "output_type": "display_data",
          "data": {
            "text/plain": [
              "<IPython.core.display.HTML object>"
            ],
            "text/html": [
              " View project at <a href='https://wandb.ai/wilfried-mvomoeto-university-of-li-ge/Few-Shot-Training_gru_glove_fastText_Bahdanau_Multi-GRU-Bah-FastText-' target=\"_blank\">https://wandb.ai/wilfried-mvomoeto-university-of-li-ge/Few-Shot-Training_gru_glove_fastText_Bahdanau_Multi-GRU-Bah-FastText-</a>"
            ]
          },
          "metadata": {}
        },
        {
          "output_type": "display_data",
          "data": {
            "text/plain": [
              "<IPython.core.display.HTML object>"
            ],
            "text/html": [
              " View run at <a href='https://wandb.ai/wilfried-mvomoeto-university-of-li-ge/Few-Shot-Training_gru_glove_fastText_Bahdanau_Multi-GRU-Bah-FastText-/runs/eb3uvr7o' target=\"_blank\">https://wandb.ai/wilfried-mvomoeto-university-of-li-ge/Few-Shot-Training_gru_glove_fastText_Bahdanau_Multi-GRU-Bah-FastText-/runs/eb3uvr7o</a>"
            ]
          },
          "metadata": {}
        },
        {
          "output_type": "stream",
          "name": "stderr",
          "text": [
            "GRU-Bah-FastText K-50 Epoch 6/1000 - Train Loss: 2.1553, Test Loss: 2.1689, Train Acc: 16.67%, Test Acc: 14.16%, Test F1: 9.71%, Test Balanced Acc: 17.97%, Test Recall: 14.16%, Test Precision: 28.82%, Time: 1.25 sec:   1%|          | 6/1000 [00:09<25:50,  1.56s/epoch]"
          ]
        },
        {
          "output_type": "stream",
          "name": "stdout",
          "text": [
            "Early stopping triggered at epoch 7\n",
            "Model GRU-Bah-FastText_K-50 saved with loss gap > 1.25 or accuracy gap > 10% at epoch 6.\n"
          ]
        },
        {
          "output_type": "stream",
          "name": "stderr",
          "text": [
            "\n",
            "<ipython-input-10-f03193db776b>:44: UserWarning: To copy construct from a tensor, it is recommended to use sourceTensor.clone().detach() or sourceTensor.clone().detach().requires_grad_(True), rather than torch.tensor(sourceTensor).\n",
            "  self.X = torch.tensor(X_data, dtype=torch.long)\n",
            "<ipython-input-10-f03193db776b>:45: UserWarning: To copy construct from a tensor, it is recommended to use sourceTensor.clone().detach() or sourceTensor.clone().detach().requires_grad_(True), rather than torch.tensor(sourceTensor).\n",
            "  self.y = torch.tensor(y_data, dtype=torch.long)\n"
          ]
        },
        {
          "output_type": "display_data",
          "data": {
            "text/plain": [
              "<IPython.core.display.HTML object>"
            ],
            "text/html": [
              "Finishing previous runs because reinit is set to 'default'."
            ]
          },
          "metadata": {}
        },
        {
          "output_type": "display_data",
          "data": {
            "text/plain": [
              "<IPython.core.display.HTML object>"
            ],
            "text/html": []
          },
          "metadata": {}
        },
        {
          "output_type": "display_data",
          "data": {
            "text/plain": [
              "<IPython.core.display.HTML object>"
            ],
            "text/html": [
              "<br>    <style><br>        .wandb-row {<br>            display: flex;<br>            flex-direction: row;<br>            flex-wrap: wrap;<br>            justify-content: flex-start;<br>            width: 100%;<br>        }<br>        .wandb-col {<br>            display: flex;<br>            flex-direction: column;<br>            flex-basis: 100%;<br>            flex: 1;<br>            padding: 10px;<br>        }<br>    </style><br><div class=\"wandb-row\"><div class=\"wandb-col\"><h3>Run history:</h3><br/><table class=\"wandb\"><tr><td>epoch</td><td>▁▂▃▅▆▇█</td></tr><tr><td>k_shot</td><td>▁▁▁▁▁▁▁</td></tr><tr><td>test_acc</td><td>▁▃▅▇█▆▅</td></tr><tr><td>test_balanced_acc</td><td>▁▂▄▇█▇▇</td></tr><tr><td>test_f1</td><td>▁▃▅▇█▆▅</td></tr><tr><td>test_loss</td><td>█▇▆▅▃▂▁</td></tr><tr><td>test_precision</td><td>▁▁▂▃▅▇█</td></tr><tr><td>test_recall</td><td>▁▃▅▇█▆▅</td></tr><tr><td>train_acc</td><td>▁▂▁▃█▆█</td></tr><tr><td>train_loss</td><td>█▅▃▃▁▁▁</td></tr></table><br/></div><div class=\"wandb-col\"><h3>Run summary:</h3><br/><table class=\"wandb\"><tr><td>epoch</td><td>7</td></tr><tr><td>k_shot</td><td>50</td></tr><tr><td>test_acc</td><td>0.1328</td></tr><tr><td>test_balanced_acc</td><td>0.17225</td></tr><tr><td>test_f1</td><td>0.09222</td></tr><tr><td>test_loss</td><td>2.16322</td></tr><tr><td>test_precision</td><td>0.31664</td></tr><tr><td>test_recall</td><td>0.1328</td></tr><tr><td>train_acc</td><td>0.18667</td></tr><tr><td>train_loss</td><td>2.15153</td></tr></table><br/></div></div>"
            ]
          },
          "metadata": {}
        },
        {
          "output_type": "display_data",
          "data": {
            "text/plain": [
              "<IPython.core.display.HTML object>"
            ],
            "text/html": [
              " View run <strong style=\"color:#cdcd00\">GRU-Bah-FastText_K-50_Training</strong> at: <a href='https://wandb.ai/wilfried-mvomoeto-university-of-li-ge/Few-Shot-Training_gru_glove_fastText_Bahdanau_Multi-GRU-Bah-FastText-/runs/eb3uvr7o' target=\"_blank\">https://wandb.ai/wilfried-mvomoeto-university-of-li-ge/Few-Shot-Training_gru_glove_fastText_Bahdanau_Multi-GRU-Bah-FastText-/runs/eb3uvr7o</a><br> View project at: <a href='https://wandb.ai/wilfried-mvomoeto-university-of-li-ge/Few-Shot-Training_gru_glove_fastText_Bahdanau_Multi-GRU-Bah-FastText-' target=\"_blank\">https://wandb.ai/wilfried-mvomoeto-university-of-li-ge/Few-Shot-Training_gru_glove_fastText_Bahdanau_Multi-GRU-Bah-FastText-</a><br>Synced 5 W&B file(s), 0 media file(s), 0 artifact file(s) and 0 other file(s)"
            ]
          },
          "metadata": {}
        },
        {
          "output_type": "display_data",
          "data": {
            "text/plain": [
              "<IPython.core.display.HTML object>"
            ],
            "text/html": [
              "Find logs at: <code>./wandb/run-20250514_093016-eb3uvr7o/logs</code>"
            ]
          },
          "metadata": {}
        },
        {
          "output_type": "display_data",
          "data": {
            "text/plain": [
              "<IPython.core.display.HTML object>"
            ],
            "text/html": [
              "Tracking run with wandb version 0.19.11"
            ]
          },
          "metadata": {}
        },
        {
          "output_type": "display_data",
          "data": {
            "text/plain": [
              "<IPython.core.display.HTML object>"
            ],
            "text/html": [
              "Run data is saved locally in <code>/content/wandb/run-20250514_093027-qaerjv88</code>"
            ]
          },
          "metadata": {}
        },
        {
          "output_type": "display_data",
          "data": {
            "text/plain": [
              "<IPython.core.display.HTML object>"
            ],
            "text/html": [
              "Syncing run <strong><a href='https://wandb.ai/wilfried-mvomoeto-university-of-li-ge/Few-Shot-Training_gru_glove_fastText_Bahdanau_Multi-CNN_LSTM-/runs/qaerjv88' target=\"_blank\">CNN_LSTM_K-50_Training</a></strong> to <a href='https://wandb.ai/wilfried-mvomoeto-university-of-li-ge/Few-Shot-Training_gru_glove_fastText_Bahdanau_Multi-CNN_LSTM-' target=\"_blank\">Weights & Biases</a> (<a href='https://wandb.me/developer-guide' target=\"_blank\">docs</a>)<br>"
            ]
          },
          "metadata": {}
        },
        {
          "output_type": "display_data",
          "data": {
            "text/plain": [
              "<IPython.core.display.HTML object>"
            ],
            "text/html": [
              " View project at <a href='https://wandb.ai/wilfried-mvomoeto-university-of-li-ge/Few-Shot-Training_gru_glove_fastText_Bahdanau_Multi-CNN_LSTM-' target=\"_blank\">https://wandb.ai/wilfried-mvomoeto-university-of-li-ge/Few-Shot-Training_gru_glove_fastText_Bahdanau_Multi-CNN_LSTM-</a>"
            ]
          },
          "metadata": {}
        },
        {
          "output_type": "display_data",
          "data": {
            "text/plain": [
              "<IPython.core.display.HTML object>"
            ],
            "text/html": [
              " View run at <a href='https://wandb.ai/wilfried-mvomoeto-university-of-li-ge/Few-Shot-Training_gru_glove_fastText_Bahdanau_Multi-CNN_LSTM-/runs/qaerjv88' target=\"_blank\">https://wandb.ai/wilfried-mvomoeto-university-of-li-ge/Few-Shot-Training_gru_glove_fastText_Bahdanau_Multi-CNN_LSTM-/runs/qaerjv88</a>"
            ]
          },
          "metadata": {}
        },
        {
          "output_type": "stream",
          "name": "stderr",
          "text": [
            "Training CNN_LSTM with 50-shot:   0%|          | 0/1000 [00:01<?, ?epoch/s]"
          ]
        },
        {
          "output_type": "stream",
          "name": "stdout",
          "text": [
            "Early stopping triggered at epoch 1\n",
            "Model CNN_LSTM_K-50 saved with loss gap > 1.25 or accuracy gap > 10% at epoch 0.\n"
          ]
        },
        {
          "output_type": "stream",
          "name": "stderr",
          "text": [
            "\n",
            "<ipython-input-10-f03193db776b>:44: UserWarning: To copy construct from a tensor, it is recommended to use sourceTensor.clone().detach() or sourceTensor.clone().detach().requires_grad_(True), rather than torch.tensor(sourceTensor).\n",
            "  self.X = torch.tensor(X_data, dtype=torch.long)\n",
            "<ipython-input-10-f03193db776b>:45: UserWarning: To copy construct from a tensor, it is recommended to use sourceTensor.clone().detach() or sourceTensor.clone().detach().requires_grad_(True), rather than torch.tensor(sourceTensor).\n",
            "  self.y = torch.tensor(y_data, dtype=torch.long)\n"
          ]
        },
        {
          "output_type": "display_data",
          "data": {
            "text/plain": [
              "<IPython.core.display.HTML object>"
            ],
            "text/html": [
              "Finishing previous runs because reinit is set to 'default'."
            ]
          },
          "metadata": {}
        },
        {
          "output_type": "display_data",
          "data": {
            "text/plain": [
              "<IPython.core.display.HTML object>"
            ],
            "text/html": []
          },
          "metadata": {}
        },
        {
          "output_type": "display_data",
          "data": {
            "text/plain": [
              "<IPython.core.display.HTML object>"
            ],
            "text/html": [
              "<br>    <style><br>        .wandb-row {<br>            display: flex;<br>            flex-direction: row;<br>            flex-wrap: wrap;<br>            justify-content: flex-start;<br>            width: 100%;<br>        }<br>        .wandb-col {<br>            display: flex;<br>            flex-direction: column;<br>            flex-basis: 100%;<br>            flex: 1;<br>            padding: 10px;<br>        }<br>    </style><br><div class=\"wandb-row\"><div class=\"wandb-col\"><h3>Run history:</h3><br/><table class=\"wandb\"><tr><td>epoch</td><td>▁</td></tr><tr><td>k_shot</td><td>▁</td></tr><tr><td>test_acc</td><td>▁</td></tr><tr><td>test_balanced_acc</td><td>▁</td></tr><tr><td>test_f1</td><td>▁</td></tr><tr><td>test_loss</td><td>▁</td></tr><tr><td>test_precision</td><td>▁</td></tr><tr><td>test_recall</td><td>▁</td></tr><tr><td>train_acc</td><td>▁</td></tr><tr><td>train_loss</td><td>▁</td></tr></table><br/></div><div class=\"wandb-col\"><h3>Run summary:</h3><br/><table class=\"wandb\"><tr><td>epoch</td><td>1</td></tr><tr><td>k_shot</td><td>50</td></tr><tr><td>test_acc</td><td>0.06778</td></tr><tr><td>test_balanced_acc</td><td>0.11111</td></tr><tr><td>test_f1</td><td>0.00861</td></tr><tr><td>test_loss</td><td>2.21751</td></tr><tr><td>test_precision</td><td>0.00459</td></tr><tr><td>test_recall</td><td>0.06778</td></tr><tr><td>train_acc</td><td>0.12</td></tr><tr><td>train_loss</td><td>2.22002</td></tr></table><br/></div></div>"
            ]
          },
          "metadata": {}
        },
        {
          "output_type": "display_data",
          "data": {
            "text/plain": [
              "<IPython.core.display.HTML object>"
            ],
            "text/html": [
              " View run <strong style=\"color:#cdcd00\">CNN_LSTM_K-50_Training</strong> at: <a href='https://wandb.ai/wilfried-mvomoeto-university-of-li-ge/Few-Shot-Training_gru_glove_fastText_Bahdanau_Multi-CNN_LSTM-/runs/qaerjv88' target=\"_blank\">https://wandb.ai/wilfried-mvomoeto-university-of-li-ge/Few-Shot-Training_gru_glove_fastText_Bahdanau_Multi-CNN_LSTM-/runs/qaerjv88</a><br> View project at: <a href='https://wandb.ai/wilfried-mvomoeto-university-of-li-ge/Few-Shot-Training_gru_glove_fastText_Bahdanau_Multi-CNN_LSTM-' target=\"_blank\">https://wandb.ai/wilfried-mvomoeto-university-of-li-ge/Few-Shot-Training_gru_glove_fastText_Bahdanau_Multi-CNN_LSTM-</a><br>Synced 5 W&B file(s), 0 media file(s), 0 artifact file(s) and 0 other file(s)"
            ]
          },
          "metadata": {}
        },
        {
          "output_type": "display_data",
          "data": {
            "text/plain": [
              "<IPython.core.display.HTML object>"
            ],
            "text/html": [
              "Find logs at: <code>./wandb/run-20250514_093027-qaerjv88/logs</code>"
            ]
          },
          "metadata": {}
        },
        {
          "output_type": "display_data",
          "data": {
            "text/plain": [
              "<IPython.core.display.HTML object>"
            ],
            "text/html": [
              "Tracking run with wandb version 0.19.11"
            ]
          },
          "metadata": {}
        },
        {
          "output_type": "display_data",
          "data": {
            "text/plain": [
              "<IPython.core.display.HTML object>"
            ],
            "text/html": [
              "Run data is saved locally in <code>/content/wandb/run-20250514_093030-4b70wmns</code>"
            ]
          },
          "metadata": {}
        },
        {
          "output_type": "display_data",
          "data": {
            "text/plain": [
              "<IPython.core.display.HTML object>"
            ],
            "text/html": [
              "Syncing run <strong><a href='https://wandb.ai/wilfried-mvomoeto-university-of-li-ge/Few-Shot-Training_gru_glove_fastText_Bahdanau_Multi-GRU-Glove-/runs/4b70wmns' target=\"_blank\">GRU-Glove_K-50_Training</a></strong> to <a href='https://wandb.ai/wilfried-mvomoeto-university-of-li-ge/Few-Shot-Training_gru_glove_fastText_Bahdanau_Multi-GRU-Glove-' target=\"_blank\">Weights & Biases</a> (<a href='https://wandb.me/developer-guide' target=\"_blank\">docs</a>)<br>"
            ]
          },
          "metadata": {}
        },
        {
          "output_type": "display_data",
          "data": {
            "text/plain": [
              "<IPython.core.display.HTML object>"
            ],
            "text/html": [
              " View project at <a href='https://wandb.ai/wilfried-mvomoeto-university-of-li-ge/Few-Shot-Training_gru_glove_fastText_Bahdanau_Multi-GRU-Glove-' target=\"_blank\">https://wandb.ai/wilfried-mvomoeto-university-of-li-ge/Few-Shot-Training_gru_glove_fastText_Bahdanau_Multi-GRU-Glove-</a>"
            ]
          },
          "metadata": {}
        },
        {
          "output_type": "display_data",
          "data": {
            "text/plain": [
              "<IPython.core.display.HTML object>"
            ],
            "text/html": [
              " View run at <a href='https://wandb.ai/wilfried-mvomoeto-university-of-li-ge/Few-Shot-Training_gru_glove_fastText_Bahdanau_Multi-GRU-Glove-/runs/4b70wmns' target=\"_blank\">https://wandb.ai/wilfried-mvomoeto-university-of-li-ge/Few-Shot-Training_gru_glove_fastText_Bahdanau_Multi-GRU-Glove-/runs/4b70wmns</a>"
            ]
          },
          "metadata": {}
        },
        {
          "output_type": "stream",
          "name": "stderr",
          "text": [
            "GRU-Glove K-50 Epoch 2/1000 - Train Loss: 2.2866, Test Loss: 2.2228, Train Acc: 10.44%, Test Acc: 10.52%, Test F1: 2.09%, Test Balanced Acc: 11.18%, Test Recall: 10.52%, Test Precision: 6.67%, Time: 0.78 sec:   0%|          | 2/1000 [00:02<21:57,  1.32s/epoch]"
          ]
        },
        {
          "output_type": "stream",
          "name": "stdout",
          "text": [
            "Early stopping triggered at epoch 3\n",
            "Model GRU-Glove_K-50 saved with loss gap > 1.25 or accuracy gap > 10% at epoch 2.\n"
          ]
        },
        {
          "output_type": "stream",
          "name": "stderr",
          "text": [
            "\n",
            "<ipython-input-10-f03193db776b>:44: UserWarning: To copy construct from a tensor, it is recommended to use sourceTensor.clone().detach() or sourceTensor.clone().detach().requires_grad_(True), rather than torch.tensor(sourceTensor).\n",
            "  self.X = torch.tensor(X_data, dtype=torch.long)\n",
            "<ipython-input-10-f03193db776b>:45: UserWarning: To copy construct from a tensor, it is recommended to use sourceTensor.clone().detach() or sourceTensor.clone().detach().requires_grad_(True), rather than torch.tensor(sourceTensor).\n",
            "  self.y = torch.tensor(y_data, dtype=torch.long)\n"
          ]
        },
        {
          "output_type": "display_data",
          "data": {
            "text/plain": [
              "<IPython.core.display.HTML object>"
            ],
            "text/html": [
              "Finishing previous runs because reinit is set to 'default'."
            ]
          },
          "metadata": {}
        },
        {
          "output_type": "display_data",
          "data": {
            "text/plain": [
              "<IPython.core.display.HTML object>"
            ],
            "text/html": []
          },
          "metadata": {}
        },
        {
          "output_type": "display_data",
          "data": {
            "text/plain": [
              "<IPython.core.display.HTML object>"
            ],
            "text/html": [
              "<br>    <style><br>        .wandb-row {<br>            display: flex;<br>            flex-direction: row;<br>            flex-wrap: wrap;<br>            justify-content: flex-start;<br>            width: 100%;<br>        }<br>        .wandb-col {<br>            display: flex;<br>            flex-direction: column;<br>            flex-basis: 100%;<br>            flex: 1;<br>            padding: 10px;<br>        }<br>    </style><br><div class=\"wandb-row\"><div class=\"wandb-col\"><h3>Run history:</h3><br/><table class=\"wandb\"><tr><td>epoch</td><td>▁▅█</td></tr><tr><td>k_shot</td><td>▁▁▁</td></tr><tr><td>test_acc</td><td>▁█▁</td></tr><tr><td>test_balanced_acc</td><td>▁█▁</td></tr><tr><td>test_f1</td><td>▁█▁</td></tr><tr><td>test_loss</td><td>█▃▁</td></tr><tr><td>test_precision</td><td>▁█▃</td></tr><tr><td>test_recall</td><td>▁█▁</td></tr><tr><td>train_acc</td><td>▁▃█</td></tr><tr><td>train_loss</td><td>▇█▁</td></tr></table><br/></div><div class=\"wandb-col\"><h3>Run summary:</h3><br/><table class=\"wandb\"><tr><td>epoch</td><td>3</td></tr><tr><td>k_shot</td><td>50</td></tr><tr><td>test_acc</td><td>0.06778</td></tr><tr><td>test_balanced_acc</td><td>0.111</td></tr><tr><td>test_f1</td><td>0.00895</td></tr><tr><td>test_loss</td><td>2.20966</td></tr><tr><td>test_precision</td><td>0.03314</td></tr><tr><td>test_recall</td><td>0.06778</td></tr><tr><td>train_acc</td><td>0.14667</td></tr><tr><td>train_loss</td><td>2.20414</td></tr></table><br/></div></div>"
            ]
          },
          "metadata": {}
        },
        {
          "output_type": "display_data",
          "data": {
            "text/plain": [
              "<IPython.core.display.HTML object>"
            ],
            "text/html": [
              " View run <strong style=\"color:#cdcd00\">GRU-Glove_K-50_Training</strong> at: <a href='https://wandb.ai/wilfried-mvomoeto-university-of-li-ge/Few-Shot-Training_gru_glove_fastText_Bahdanau_Multi-GRU-Glove-/runs/4b70wmns' target=\"_blank\">https://wandb.ai/wilfried-mvomoeto-university-of-li-ge/Few-Shot-Training_gru_glove_fastText_Bahdanau_Multi-GRU-Glove-/runs/4b70wmns</a><br> View project at: <a href='https://wandb.ai/wilfried-mvomoeto-university-of-li-ge/Few-Shot-Training_gru_glove_fastText_Bahdanau_Multi-GRU-Glove-' target=\"_blank\">https://wandb.ai/wilfried-mvomoeto-university-of-li-ge/Few-Shot-Training_gru_glove_fastText_Bahdanau_Multi-GRU-Glove-</a><br>Synced 5 W&B file(s), 0 media file(s), 0 artifact file(s) and 0 other file(s)"
            ]
          },
          "metadata": {}
        },
        {
          "output_type": "display_data",
          "data": {
            "text/plain": [
              "<IPython.core.display.HTML object>"
            ],
            "text/html": [
              "Find logs at: <code>./wandb/run-20250514_093030-4b70wmns/logs</code>"
            ]
          },
          "metadata": {}
        },
        {
          "output_type": "display_data",
          "data": {
            "text/plain": [
              "<IPython.core.display.HTML object>"
            ],
            "text/html": [
              "Tracking run with wandb version 0.19.11"
            ]
          },
          "metadata": {}
        },
        {
          "output_type": "display_data",
          "data": {
            "text/plain": [
              "<IPython.core.display.HTML object>"
            ],
            "text/html": [
              "Run data is saved locally in <code>/content/wandb/run-20250514_093034-r4ipbrhl</code>"
            ]
          },
          "metadata": {}
        },
        {
          "output_type": "display_data",
          "data": {
            "text/plain": [
              "<IPython.core.display.HTML object>"
            ],
            "text/html": [
              "Syncing run <strong><a href='https://wandb.ai/wilfried-mvomoeto-university-of-li-ge/Few-Shot-Training_gru_glove_fastText_Bahdanau_Multi-GRU-FastText-/runs/r4ipbrhl' target=\"_blank\">GRU-FastText_K-50_Training</a></strong> to <a href='https://wandb.ai/wilfried-mvomoeto-university-of-li-ge/Few-Shot-Training_gru_glove_fastText_Bahdanau_Multi-GRU-FastText-' target=\"_blank\">Weights & Biases</a> (<a href='https://wandb.me/developer-guide' target=\"_blank\">docs</a>)<br>"
            ]
          },
          "metadata": {}
        },
        {
          "output_type": "display_data",
          "data": {
            "text/plain": [
              "<IPython.core.display.HTML object>"
            ],
            "text/html": [
              " View project at <a href='https://wandb.ai/wilfried-mvomoeto-university-of-li-ge/Few-Shot-Training_gru_glove_fastText_Bahdanau_Multi-GRU-FastText-' target=\"_blank\">https://wandb.ai/wilfried-mvomoeto-university-of-li-ge/Few-Shot-Training_gru_glove_fastText_Bahdanau_Multi-GRU-FastText-</a>"
            ]
          },
          "metadata": {}
        },
        {
          "output_type": "display_data",
          "data": {
            "text/plain": [
              "<IPython.core.display.HTML object>"
            ],
            "text/html": [
              " View run at <a href='https://wandb.ai/wilfried-mvomoeto-university-of-li-ge/Few-Shot-Training_gru_glove_fastText_Bahdanau_Multi-GRU-FastText-/runs/r4ipbrhl' target=\"_blank\">https://wandb.ai/wilfried-mvomoeto-university-of-li-ge/Few-Shot-Training_gru_glove_fastText_Bahdanau_Multi-GRU-FastText-/runs/r4ipbrhl</a>"
            ]
          },
          "metadata": {}
        },
        {
          "output_type": "stream",
          "name": "stderr",
          "text": [
            "GRU-FastText K-50 Epoch 5/1000 - Train Loss: 2.2611, Test Loss: 2.2188, Train Acc: 10.44%, Test Acc: 9.99%, Test F1: 2.64%, Test Balanced Acc: 11.13%, Test Recall: 9.99%, Test Precision: 8.80%, Time: 0.79 sec:   0%|          | 5/1000 [00:04<16:13,  1.02epoch/s]"
          ]
        },
        {
          "output_type": "stream",
          "name": "stdout",
          "text": [
            "Early stopping triggered at epoch 6\n",
            "Model GRU-FastText_K-50 saved with loss gap > 1.25 or accuracy gap > 10% at epoch 5.\n",
            "\n",
            "Training with 60-shot...\n"
          ]
        },
        {
          "output_type": "stream",
          "name": "stderr",
          "text": [
            "\n",
            "<ipython-input-10-f03193db776b>:44: UserWarning: To copy construct from a tensor, it is recommended to use sourceTensor.clone().detach() or sourceTensor.clone().detach().requires_grad_(True), rather than torch.tensor(sourceTensor).\n",
            "  self.X = torch.tensor(X_data, dtype=torch.long)\n",
            "<ipython-input-10-f03193db776b>:45: UserWarning: To copy construct from a tensor, it is recommended to use sourceTensor.clone().detach() or sourceTensor.clone().detach().requires_grad_(True), rather than torch.tensor(sourceTensor).\n",
            "  self.y = torch.tensor(y_data, dtype=torch.long)\n"
          ]
        },
        {
          "output_type": "display_data",
          "data": {
            "text/plain": [
              "<IPython.core.display.HTML object>"
            ],
            "text/html": [
              "Finishing previous runs because reinit is set to 'default'."
            ]
          },
          "metadata": {}
        },
        {
          "output_type": "display_data",
          "data": {
            "text/plain": [
              "<IPython.core.display.HTML object>"
            ],
            "text/html": []
          },
          "metadata": {}
        },
        {
          "output_type": "display_data",
          "data": {
            "text/plain": [
              "<IPython.core.display.HTML object>"
            ],
            "text/html": [
              "<br>    <style><br>        .wandb-row {<br>            display: flex;<br>            flex-direction: row;<br>            flex-wrap: wrap;<br>            justify-content: flex-start;<br>            width: 100%;<br>        }<br>        .wandb-col {<br>            display: flex;<br>            flex-direction: column;<br>            flex-basis: 100%;<br>            flex: 1;<br>            padding: 10px;<br>        }<br>    </style><br><div class=\"wandb-row\"><div class=\"wandb-col\"><h3>Run history:</h3><br/><table class=\"wandb\"><tr><td>epoch</td><td>▁▂▄▅▇█</td></tr><tr><td>k_shot</td><td>▁▁▁▁▁▁</td></tr><tr><td>test_acc</td><td>▁▁▁▁█▁</td></tr><tr><td>test_balanced_acc</td><td>▃▁▃█▆█</td></tr><tr><td>test_f1</td><td>▁▁▁▁█▁</td></tr><tr><td>test_loss</td><td>█▁▁▄▂▂</td></tr><tr><td>test_precision</td><td>▅▁▅▅█▅</td></tr><tr><td>test_recall</td><td>▁▁▁▁█▁</td></tr><tr><td>train_acc</td><td>▄▄▆▁▃█</td></tr><tr><td>train_loss</td><td>█▁▅▄█▄</td></tr></table><br/></div><div class=\"wandb-col\"><h3>Run summary:</h3><br/><table class=\"wandb\"><tr><td>epoch</td><td>6</td></tr><tr><td>k_shot</td><td>50</td></tr><tr><td>test_acc</td><td>0.06813</td></tr><tr><td>test_balanced_acc</td><td>0.11144</td></tr><tr><td>test_f1</td><td>0.00931</td></tr><tr><td>test_loss</td><td>2.22531</td></tr><tr><td>test_precision</td><td>0.07914</td></tr><tr><td>test_recall</td><td>0.06813</td></tr><tr><td>train_acc</td><td>0.12222</td></tr><tr><td>train_loss</td><td>2.24867</td></tr></table><br/></div></div>"
            ]
          },
          "metadata": {}
        },
        {
          "output_type": "display_data",
          "data": {
            "text/plain": [
              "<IPython.core.display.HTML object>"
            ],
            "text/html": [
              " View run <strong style=\"color:#cdcd00\">GRU-FastText_K-50_Training</strong> at: <a href='https://wandb.ai/wilfried-mvomoeto-university-of-li-ge/Few-Shot-Training_gru_glove_fastText_Bahdanau_Multi-GRU-FastText-/runs/r4ipbrhl' target=\"_blank\">https://wandb.ai/wilfried-mvomoeto-university-of-li-ge/Few-Shot-Training_gru_glove_fastText_Bahdanau_Multi-GRU-FastText-/runs/r4ipbrhl</a><br> View project at: <a href='https://wandb.ai/wilfried-mvomoeto-university-of-li-ge/Few-Shot-Training_gru_glove_fastText_Bahdanau_Multi-GRU-FastText-' target=\"_blank\">https://wandb.ai/wilfried-mvomoeto-university-of-li-ge/Few-Shot-Training_gru_glove_fastText_Bahdanau_Multi-GRU-FastText-</a><br>Synced 5 W&B file(s), 0 media file(s), 0 artifact file(s) and 0 other file(s)"
            ]
          },
          "metadata": {}
        },
        {
          "output_type": "display_data",
          "data": {
            "text/plain": [
              "<IPython.core.display.HTML object>"
            ],
            "text/html": [
              "Find logs at: <code>./wandb/run-20250514_093034-r4ipbrhl/logs</code>"
            ]
          },
          "metadata": {}
        },
        {
          "output_type": "display_data",
          "data": {
            "text/plain": [
              "<IPython.core.display.HTML object>"
            ],
            "text/html": [
              "Tracking run with wandb version 0.19.11"
            ]
          },
          "metadata": {}
        },
        {
          "output_type": "display_data",
          "data": {
            "text/plain": [
              "<IPython.core.display.HTML object>"
            ],
            "text/html": [
              "Run data is saved locally in <code>/content/wandb/run-20250514_093041-zpsdkrsx</code>"
            ]
          },
          "metadata": {}
        },
        {
          "output_type": "display_data",
          "data": {
            "text/plain": [
              "<IPython.core.display.HTML object>"
            ],
            "text/html": [
              "Syncing run <strong><a href='https://wandb.ai/wilfried-mvomoeto-university-of-li-ge/Few-Shot-Training_gru_glove_fastText_Bahdanau_Multi-GRU-Bah-Glove-/runs/zpsdkrsx' target=\"_blank\">GRU-Bah-Glove_K-60_Training</a></strong> to <a href='https://wandb.ai/wilfried-mvomoeto-university-of-li-ge/Few-Shot-Training_gru_glove_fastText_Bahdanau_Multi-GRU-Bah-Glove-' target=\"_blank\">Weights & Biases</a> (<a href='https://wandb.me/developer-guide' target=\"_blank\">docs</a>)<br>"
            ]
          },
          "metadata": {}
        },
        {
          "output_type": "display_data",
          "data": {
            "text/plain": [
              "<IPython.core.display.HTML object>"
            ],
            "text/html": [
              " View project at <a href='https://wandb.ai/wilfried-mvomoeto-university-of-li-ge/Few-Shot-Training_gru_glove_fastText_Bahdanau_Multi-GRU-Bah-Glove-' target=\"_blank\">https://wandb.ai/wilfried-mvomoeto-university-of-li-ge/Few-Shot-Training_gru_glove_fastText_Bahdanau_Multi-GRU-Bah-Glove-</a>"
            ]
          },
          "metadata": {}
        },
        {
          "output_type": "display_data",
          "data": {
            "text/plain": [
              "<IPython.core.display.HTML object>"
            ],
            "text/html": [
              " View run at <a href='https://wandb.ai/wilfried-mvomoeto-university-of-li-ge/Few-Shot-Training_gru_glove_fastText_Bahdanau_Multi-GRU-Bah-Glove-/runs/zpsdkrsx' target=\"_blank\">https://wandb.ai/wilfried-mvomoeto-university-of-li-ge/Few-Shot-Training_gru_glove_fastText_Bahdanau_Multi-GRU-Bah-Glove-/runs/zpsdkrsx</a>"
            ]
          },
          "metadata": {}
        },
        {
          "output_type": "stream",
          "name": "stderr",
          "text": [
            "GRU-Bah-Glove K-60 Epoch 30/1000 - Train Loss: 0.8677, Test Loss: 0.9657, Train Acc: 77.04%, Test Acc: 74.04%, Test F1: 74.09%, Test Balanced Acc: 74.30%, Test Recall: 74.04%, Test Precision: 77.98%, Time: 1.32 sec:   3%|▎         | 30/1000 [00:41<22:36,  1.40s/epoch]"
          ]
        },
        {
          "output_type": "stream",
          "name": "stdout",
          "text": [
            "Early stopping triggered at epoch 31\n",
            "Model GRU-Bah-Glove_K-60 saved with loss gap > 1.25 or accuracy gap > 10% at epoch 30.\n"
          ]
        },
        {
          "output_type": "stream",
          "name": "stderr",
          "text": [
            "\n",
            "<ipython-input-10-f03193db776b>:44: UserWarning: To copy construct from a tensor, it is recommended to use sourceTensor.clone().detach() or sourceTensor.clone().detach().requires_grad_(True), rather than torch.tensor(sourceTensor).\n",
            "  self.X = torch.tensor(X_data, dtype=torch.long)\n",
            "<ipython-input-10-f03193db776b>:45: UserWarning: To copy construct from a tensor, it is recommended to use sourceTensor.clone().detach() or sourceTensor.clone().detach().requires_grad_(True), rather than torch.tensor(sourceTensor).\n",
            "  self.y = torch.tensor(y_data, dtype=torch.long)\n"
          ]
        },
        {
          "output_type": "display_data",
          "data": {
            "text/plain": [
              "<IPython.core.display.HTML object>"
            ],
            "text/html": [
              "Finishing previous runs because reinit is set to 'default'."
            ]
          },
          "metadata": {}
        },
        {
          "output_type": "display_data",
          "data": {
            "text/plain": [
              "<IPython.core.display.HTML object>"
            ],
            "text/html": []
          },
          "metadata": {}
        },
        {
          "output_type": "display_data",
          "data": {
            "text/plain": [
              "<IPython.core.display.HTML object>"
            ],
            "text/html": [
              "<br>    <style><br>        .wandb-row {<br>            display: flex;<br>            flex-direction: row;<br>            flex-wrap: wrap;<br>            justify-content: flex-start;<br>            width: 100%;<br>        }<br>        .wandb-col {<br>            display: flex;<br>            flex-direction: column;<br>            flex-basis: 100%;<br>            flex: 1;<br>            padding: 10px;<br>        }<br>    </style><br><div class=\"wandb-row\"><div class=\"wandb-col\"><h3>Run history:</h3><br/><table class=\"wandb\"><tr><td>epoch</td><td>▁▁▁▂▂▂▂▃▃▃▃▄▄▄▄▅▅▅▅▅▆▆▆▆▇▇▇▇███</td></tr><tr><td>k_shot</td><td>▁▁▁▁▁▁▁▁▁▁▁▁▁▁▁▁▁▁▁▁▁▁▁▁▁▁▁▁▁▁▁</td></tr><tr><td>test_acc</td><td>▁▁▁▁▁▂▃▃▃▃▄▄▄▅▅▆▆▆▆▆▇▇▇▇▇██████</td></tr><tr><td>test_balanced_acc</td><td>▁▁▁▁▂▂▃▃▃▄▄▄▄▅▅▆▆▆▆▆▇▇▇▇▇██████</td></tr><tr><td>test_f1</td><td>▁▁▁▁▂▂▃▃▃▄▄▄▅▅▅▆▆▆▆▆▇▇▇▇▇██████</td></tr><tr><td>test_loss</td><td>██████▇▇▇▇▇▆▆▆▆▅▅▄▄▄▄▃▃▃▃▂▂▂▁▁▁</td></tr><tr><td>test_precision</td><td>▁▁▁▂▂▃▄▄▄▄▅▅▅▅▆▆▆▇▇▇▇▇▇▇███████</td></tr><tr><td>test_recall</td><td>▁▁▁▁▁▂▃▃▃▃▄▄▄▅▅▆▆▆▆▆▇▇▇▇▇██████</td></tr><tr><td>train_acc</td><td>▁▁▁▂▂▂▂▃▃▃▃▃▄▄▄▅▅▅▅▆▆▆▆▇▇▇▇████</td></tr><tr><td>train_loss</td><td>████▇▇▇▇▇▇▆▆▆▆▅▅▅▅▄▄▄▃▃▃▃▂▂▂▂▁▁</td></tr></table><br/></div><div class=\"wandb-col\"><h3>Run summary:</h3><br/><table class=\"wandb\"><tr><td>epoch</td><td>31</td></tr><tr><td>k_shot</td><td>60</td></tr><tr><td>test_acc</td><td>0.75009</td></tr><tr><td>test_balanced_acc</td><td>0.75269</td></tr><tr><td>test_f1</td><td>0.74951</td></tr><tr><td>test_loss</td><td>0.92003</td></tr><tr><td>test_precision</td><td>0.78552</td></tr><tr><td>test_recall</td><td>0.75009</td></tr><tr><td>train_acc</td><td>0.8037</td></tr><tr><td>train_loss</td><td>0.79662</td></tr></table><br/></div></div>"
            ]
          },
          "metadata": {}
        },
        {
          "output_type": "display_data",
          "data": {
            "text/plain": [
              "<IPython.core.display.HTML object>"
            ],
            "text/html": [
              " View run <strong style=\"color:#cdcd00\">GRU-Bah-Glove_K-60_Training</strong> at: <a href='https://wandb.ai/wilfried-mvomoeto-university-of-li-ge/Few-Shot-Training_gru_glove_fastText_Bahdanau_Multi-GRU-Bah-Glove-/runs/zpsdkrsx' target=\"_blank\">https://wandb.ai/wilfried-mvomoeto-university-of-li-ge/Few-Shot-Training_gru_glove_fastText_Bahdanau_Multi-GRU-Bah-Glove-/runs/zpsdkrsx</a><br> View project at: <a href='https://wandb.ai/wilfried-mvomoeto-university-of-li-ge/Few-Shot-Training_gru_glove_fastText_Bahdanau_Multi-GRU-Bah-Glove-' target=\"_blank\">https://wandb.ai/wilfried-mvomoeto-university-of-li-ge/Few-Shot-Training_gru_glove_fastText_Bahdanau_Multi-GRU-Bah-Glove-</a><br>Synced 5 W&B file(s), 0 media file(s), 0 artifact file(s) and 0 other file(s)"
            ]
          },
          "metadata": {}
        },
        {
          "output_type": "display_data",
          "data": {
            "text/plain": [
              "<IPython.core.display.HTML object>"
            ],
            "text/html": [
              "Find logs at: <code>./wandb/run-20250514_093041-zpsdkrsx/logs</code>"
            ]
          },
          "metadata": {}
        },
        {
          "output_type": "display_data",
          "data": {
            "text/plain": [
              "<IPython.core.display.HTML object>"
            ],
            "text/html": [
              "Tracking run with wandb version 0.19.11"
            ]
          },
          "metadata": {}
        },
        {
          "output_type": "display_data",
          "data": {
            "text/plain": [
              "<IPython.core.display.HTML object>"
            ],
            "text/html": [
              "Run data is saved locally in <code>/content/wandb/run-20250514_093125-jns4ajna</code>"
            ]
          },
          "metadata": {}
        },
        {
          "output_type": "display_data",
          "data": {
            "text/plain": [
              "<IPython.core.display.HTML object>"
            ],
            "text/html": [
              "Syncing run <strong><a href='https://wandb.ai/wilfried-mvomoeto-university-of-li-ge/Few-Shot-Training_gru_glove_fastText_Bahdanau_Multi-GRU-Bah-FastText-/runs/jns4ajna' target=\"_blank\">GRU-Bah-FastText_K-60_Training</a></strong> to <a href='https://wandb.ai/wilfried-mvomoeto-university-of-li-ge/Few-Shot-Training_gru_glove_fastText_Bahdanau_Multi-GRU-Bah-FastText-' target=\"_blank\">Weights & Biases</a> (<a href='https://wandb.me/developer-guide' target=\"_blank\">docs</a>)<br>"
            ]
          },
          "metadata": {}
        },
        {
          "output_type": "display_data",
          "data": {
            "text/plain": [
              "<IPython.core.display.HTML object>"
            ],
            "text/html": [
              " View project at <a href='https://wandb.ai/wilfried-mvomoeto-university-of-li-ge/Few-Shot-Training_gru_glove_fastText_Bahdanau_Multi-GRU-Bah-FastText-' target=\"_blank\">https://wandb.ai/wilfried-mvomoeto-university-of-li-ge/Few-Shot-Training_gru_glove_fastText_Bahdanau_Multi-GRU-Bah-FastText-</a>"
            ]
          },
          "metadata": {}
        },
        {
          "output_type": "display_data",
          "data": {
            "text/plain": [
              "<IPython.core.display.HTML object>"
            ],
            "text/html": [
              " View run at <a href='https://wandb.ai/wilfried-mvomoeto-university-of-li-ge/Few-Shot-Training_gru_glove_fastText_Bahdanau_Multi-GRU-Bah-FastText-/runs/jns4ajna' target=\"_blank\">https://wandb.ai/wilfried-mvomoeto-university-of-li-ge/Few-Shot-Training_gru_glove_fastText_Bahdanau_Multi-GRU-Bah-FastText-/runs/jns4ajna</a>"
            ]
          },
          "metadata": {}
        },
        {
          "output_type": "stream",
          "name": "stderr",
          "text": [
            "GRU-Bah-FastText K-60 Epoch 31/1000 - Train Loss: 0.4855, Test Loss: 0.5361, Train Acc: 88.15%, Test Acc: 85.10%, Test F1: 85.37%, Test Balanced Acc: 85.54%, Test Recall: 85.10%, Test Precision: 86.73%, Time: 1.31 sec:   3%|▎         | 31/1000 [00:43<22:29,  1.39s/epoch]"
          ]
        },
        {
          "output_type": "stream",
          "name": "stdout",
          "text": [
            "Early stopping triggered at epoch 32\n",
            "Model GRU-Bah-FastText_K-60 saved with loss gap > 1.25 or accuracy gap > 10% at epoch 31.\n"
          ]
        },
        {
          "output_type": "stream",
          "name": "stderr",
          "text": [
            "\n",
            "<ipython-input-10-f03193db776b>:44: UserWarning: To copy construct from a tensor, it is recommended to use sourceTensor.clone().detach() or sourceTensor.clone().detach().requires_grad_(True), rather than torch.tensor(sourceTensor).\n",
            "  self.X = torch.tensor(X_data, dtype=torch.long)\n",
            "<ipython-input-10-f03193db776b>:45: UserWarning: To copy construct from a tensor, it is recommended to use sourceTensor.clone().detach() or sourceTensor.clone().detach().requires_grad_(True), rather than torch.tensor(sourceTensor).\n",
            "  self.y = torch.tensor(y_data, dtype=torch.long)\n"
          ]
        },
        {
          "output_type": "display_data",
          "data": {
            "text/plain": [
              "<IPython.core.display.HTML object>"
            ],
            "text/html": [
              "Finishing previous runs because reinit is set to 'default'."
            ]
          },
          "metadata": {}
        },
        {
          "output_type": "display_data",
          "data": {
            "text/plain": [
              "<IPython.core.display.HTML object>"
            ],
            "text/html": []
          },
          "metadata": {}
        },
        {
          "output_type": "display_data",
          "data": {
            "text/plain": [
              "<IPython.core.display.HTML object>"
            ],
            "text/html": [
              "<br>    <style><br>        .wandb-row {<br>            display: flex;<br>            flex-direction: row;<br>            flex-wrap: wrap;<br>            justify-content: flex-start;<br>            width: 100%;<br>        }<br>        .wandb-col {<br>            display: flex;<br>            flex-direction: column;<br>            flex-basis: 100%;<br>            flex: 1;<br>            padding: 10px;<br>        }<br>    </style><br><div class=\"wandb-row\"><div class=\"wandb-col\"><h3>Run history:</h3><br/><table class=\"wandb\"><tr><td>epoch</td><td>▁▁▁▂▂▂▂▃▃▃▃▃▄▄▄▄▅▅▅▅▆▆▆▆▆▇▇▇▇███</td></tr><tr><td>k_shot</td><td>▁▁▁▁▁▁▁▁▁▁▁▁▁▁▁▁▁▁▁▁▁▁▁▁▁▁▁▁▁▁▁▁</td></tr><tr><td>test_acc</td><td>▁▁▁▁▂▂▂▂▃▃▄▅▅▆▇▇▇▇██████████████</td></tr><tr><td>test_balanced_acc</td><td>▁▁▁▂▂▂▂▃▃▄▄▅▅▆▇▇▇▇██████████████</td></tr><tr><td>test_f1</td><td>▁▁▁▁▂▂▂▂▃▃▄▄▅▆▇▇▇▇██████████████</td></tr><tr><td>test_loss</td><td>████████▇▇▇▆▆▅▅▄▃▃▃▂▂▂▂▂▁▁▁▁▁▁▁▁</td></tr><tr><td>test_precision</td><td>▁▂▂▃▃▃▄▅▅▅▆▆▆▇▇▇▇▇██████████████</td></tr><tr><td>test_recall</td><td>▁▁▁▁▂▂▂▂▃▃▄▅▅▆▇▇▇▇██████████████</td></tr><tr><td>train_acc</td><td>▁▁▁▁▂▂▂▂▂▃▃▃▄▄▅▅▆▆▇▇▇▇▇▇▇▇██████</td></tr><tr><td>train_loss</td><td>██████▇▇▇▇▆▆▆▅▅▄▄▃▃▃▂▂▂▂▂▂▂▁▁▁▁▁</td></tr></table><br/></div><div class=\"wandb-col\"><h3>Run summary:</h3><br/><table class=\"wandb\"><tr><td>epoch</td><td>32</td></tr><tr><td>k_shot</td><td>60</td></tr><tr><td>test_acc</td><td>0.8515</td></tr><tr><td>test_balanced_acc</td><td>0.85596</td></tr><tr><td>test_f1</td><td>0.85424</td></tr><tr><td>test_loss</td><td>0.5286</td></tr><tr><td>test_precision</td><td>0.86734</td></tr><tr><td>test_recall</td><td>0.8515</td></tr><tr><td>train_acc</td><td>0.90556</td></tr><tr><td>train_loss</td><td>0.43603</td></tr></table><br/></div></div>"
            ]
          },
          "metadata": {}
        },
        {
          "output_type": "display_data",
          "data": {
            "text/plain": [
              "<IPython.core.display.HTML object>"
            ],
            "text/html": [
              " View run <strong style=\"color:#cdcd00\">GRU-Bah-FastText_K-60_Training</strong> at: <a href='https://wandb.ai/wilfried-mvomoeto-university-of-li-ge/Few-Shot-Training_gru_glove_fastText_Bahdanau_Multi-GRU-Bah-FastText-/runs/jns4ajna' target=\"_blank\">https://wandb.ai/wilfried-mvomoeto-university-of-li-ge/Few-Shot-Training_gru_glove_fastText_Bahdanau_Multi-GRU-Bah-FastText-/runs/jns4ajna</a><br> View project at: <a href='https://wandb.ai/wilfried-mvomoeto-university-of-li-ge/Few-Shot-Training_gru_glove_fastText_Bahdanau_Multi-GRU-Bah-FastText-' target=\"_blank\">https://wandb.ai/wilfried-mvomoeto-university-of-li-ge/Few-Shot-Training_gru_glove_fastText_Bahdanau_Multi-GRU-Bah-FastText-</a><br>Synced 5 W&B file(s), 0 media file(s), 0 artifact file(s) and 0 other file(s)"
            ]
          },
          "metadata": {}
        },
        {
          "output_type": "display_data",
          "data": {
            "text/plain": [
              "<IPython.core.display.HTML object>"
            ],
            "text/html": [
              "Find logs at: <code>./wandb/run-20250514_093125-jns4ajna/logs</code>"
            ]
          },
          "metadata": {}
        },
        {
          "output_type": "display_data",
          "data": {
            "text/plain": [
              "<IPython.core.display.HTML object>"
            ],
            "text/html": [
              "Tracking run with wandb version 0.19.11"
            ]
          },
          "metadata": {}
        },
        {
          "output_type": "display_data",
          "data": {
            "text/plain": [
              "<IPython.core.display.HTML object>"
            ],
            "text/html": [
              "Run data is saved locally in <code>/content/wandb/run-20250514_093210-by0wu4d8</code>"
            ]
          },
          "metadata": {}
        },
        {
          "output_type": "display_data",
          "data": {
            "text/plain": [
              "<IPython.core.display.HTML object>"
            ],
            "text/html": [
              "Syncing run <strong><a href='https://wandb.ai/wilfried-mvomoeto-university-of-li-ge/Few-Shot-Training_gru_glove_fastText_Bahdanau_Multi-CNN_LSTM-/runs/by0wu4d8' target=\"_blank\">CNN_LSTM_K-60_Training</a></strong> to <a href='https://wandb.ai/wilfried-mvomoeto-university-of-li-ge/Few-Shot-Training_gru_glove_fastText_Bahdanau_Multi-CNN_LSTM-' target=\"_blank\">Weights & Biases</a> (<a href='https://wandb.me/developer-guide' target=\"_blank\">docs</a>)<br>"
            ]
          },
          "metadata": {}
        },
        {
          "output_type": "display_data",
          "data": {
            "text/plain": [
              "<IPython.core.display.HTML object>"
            ],
            "text/html": [
              " View project at <a href='https://wandb.ai/wilfried-mvomoeto-university-of-li-ge/Few-Shot-Training_gru_glove_fastText_Bahdanau_Multi-CNN_LSTM-' target=\"_blank\">https://wandb.ai/wilfried-mvomoeto-university-of-li-ge/Few-Shot-Training_gru_glove_fastText_Bahdanau_Multi-CNN_LSTM-</a>"
            ]
          },
          "metadata": {}
        },
        {
          "output_type": "display_data",
          "data": {
            "text/plain": [
              "<IPython.core.display.HTML object>"
            ],
            "text/html": [
              " View run at <a href='https://wandb.ai/wilfried-mvomoeto-university-of-li-ge/Few-Shot-Training_gru_glove_fastText_Bahdanau_Multi-CNN_LSTM-/runs/by0wu4d8' target=\"_blank\">https://wandb.ai/wilfried-mvomoeto-university-of-li-ge/Few-Shot-Training_gru_glove_fastText_Bahdanau_Multi-CNN_LSTM-/runs/by0wu4d8</a>"
            ]
          },
          "metadata": {}
        },
        {
          "output_type": "stream",
          "name": "stderr",
          "text": [
            "Training CNN_LSTM with 60-shot:   0%|          | 0/1000 [00:01<?, ?epoch/s]"
          ]
        },
        {
          "output_type": "stream",
          "name": "stdout",
          "text": [
            "Early stopping triggered at epoch 1\n",
            "Model CNN_LSTM_K-60 saved with loss gap > 1.25 or accuracy gap > 10% at epoch 0.\n"
          ]
        },
        {
          "output_type": "stream",
          "name": "stderr",
          "text": [
            "\n",
            "<ipython-input-10-f03193db776b>:44: UserWarning: To copy construct from a tensor, it is recommended to use sourceTensor.clone().detach() or sourceTensor.clone().detach().requires_grad_(True), rather than torch.tensor(sourceTensor).\n",
            "  self.X = torch.tensor(X_data, dtype=torch.long)\n",
            "<ipython-input-10-f03193db776b>:45: UserWarning: To copy construct from a tensor, it is recommended to use sourceTensor.clone().detach() or sourceTensor.clone().detach().requires_grad_(True), rather than torch.tensor(sourceTensor).\n",
            "  self.y = torch.tensor(y_data, dtype=torch.long)\n"
          ]
        },
        {
          "output_type": "display_data",
          "data": {
            "text/plain": [
              "<IPython.core.display.HTML object>"
            ],
            "text/html": [
              "Finishing previous runs because reinit is set to 'default'."
            ]
          },
          "metadata": {}
        },
        {
          "output_type": "display_data",
          "data": {
            "text/plain": [
              "<IPython.core.display.HTML object>"
            ],
            "text/html": []
          },
          "metadata": {}
        },
        {
          "output_type": "display_data",
          "data": {
            "text/plain": [
              "<IPython.core.display.HTML object>"
            ],
            "text/html": [
              "<br>    <style><br>        .wandb-row {<br>            display: flex;<br>            flex-direction: row;<br>            flex-wrap: wrap;<br>            justify-content: flex-start;<br>            width: 100%;<br>        }<br>        .wandb-col {<br>            display: flex;<br>            flex-direction: column;<br>            flex-basis: 100%;<br>            flex: 1;<br>            padding: 10px;<br>        }<br>    </style><br><div class=\"wandb-row\"><div class=\"wandb-col\"><h3>Run history:</h3><br/><table class=\"wandb\"><tr><td>epoch</td><td>▁</td></tr><tr><td>k_shot</td><td>▁</td></tr><tr><td>test_acc</td><td>▁</td></tr><tr><td>test_balanced_acc</td><td>▁</td></tr><tr><td>test_f1</td><td>▁</td></tr><tr><td>test_loss</td><td>▁</td></tr><tr><td>test_precision</td><td>▁</td></tr><tr><td>test_recall</td><td>▁</td></tr><tr><td>train_acc</td><td>▁</td></tr><tr><td>train_loss</td><td>▁</td></tr></table><br/></div><div class=\"wandb-col\"><h3>Run summary:</h3><br/><table class=\"wandb\"><tr><td>epoch</td><td>1</td></tr><tr><td>k_shot</td><td>60</td></tr><tr><td>test_acc</td><td>0.06778</td></tr><tr><td>test_balanced_acc</td><td>0.11111</td></tr><tr><td>test_f1</td><td>0.00861</td></tr><tr><td>test_loss</td><td>2.2315</td></tr><tr><td>test_precision</td><td>0.00459</td></tr><tr><td>test_recall</td><td>0.06778</td></tr><tr><td>train_acc</td><td>0.12222</td></tr><tr><td>train_loss</td><td>2.20696</td></tr></table><br/></div></div>"
            ]
          },
          "metadata": {}
        },
        {
          "output_type": "display_data",
          "data": {
            "text/plain": [
              "<IPython.core.display.HTML object>"
            ],
            "text/html": [
              " View run <strong style=\"color:#cdcd00\">CNN_LSTM_K-60_Training</strong> at: <a href='https://wandb.ai/wilfried-mvomoeto-university-of-li-ge/Few-Shot-Training_gru_glove_fastText_Bahdanau_Multi-CNN_LSTM-/runs/by0wu4d8' target=\"_blank\">https://wandb.ai/wilfried-mvomoeto-university-of-li-ge/Few-Shot-Training_gru_glove_fastText_Bahdanau_Multi-CNN_LSTM-/runs/by0wu4d8</a><br> View project at: <a href='https://wandb.ai/wilfried-mvomoeto-university-of-li-ge/Few-Shot-Training_gru_glove_fastText_Bahdanau_Multi-CNN_LSTM-' target=\"_blank\">https://wandb.ai/wilfried-mvomoeto-university-of-li-ge/Few-Shot-Training_gru_glove_fastText_Bahdanau_Multi-CNN_LSTM-</a><br>Synced 5 W&B file(s), 0 media file(s), 0 artifact file(s) and 0 other file(s)"
            ]
          },
          "metadata": {}
        },
        {
          "output_type": "display_data",
          "data": {
            "text/plain": [
              "<IPython.core.display.HTML object>"
            ],
            "text/html": [
              "Find logs at: <code>./wandb/run-20250514_093210-by0wu4d8/logs</code>"
            ]
          },
          "metadata": {}
        },
        {
          "output_type": "display_data",
          "data": {
            "text/plain": [
              "<IPython.core.display.HTML object>"
            ],
            "text/html": [
              "Tracking run with wandb version 0.19.11"
            ]
          },
          "metadata": {}
        },
        {
          "output_type": "display_data",
          "data": {
            "text/plain": [
              "<IPython.core.display.HTML object>"
            ],
            "text/html": [
              "Run data is saved locally in <code>/content/wandb/run-20250514_093213-ctwx4xhs</code>"
            ]
          },
          "metadata": {}
        },
        {
          "output_type": "display_data",
          "data": {
            "text/plain": [
              "<IPython.core.display.HTML object>"
            ],
            "text/html": [
              "Syncing run <strong><a href='https://wandb.ai/wilfried-mvomoeto-university-of-li-ge/Few-Shot-Training_gru_glove_fastText_Bahdanau_Multi-GRU-Glove-/runs/ctwx4xhs' target=\"_blank\">GRU-Glove_K-60_Training</a></strong> to <a href='https://wandb.ai/wilfried-mvomoeto-university-of-li-ge/Few-Shot-Training_gru_glove_fastText_Bahdanau_Multi-GRU-Glove-' target=\"_blank\">Weights & Biases</a> (<a href='https://wandb.me/developer-guide' target=\"_blank\">docs</a>)<br>"
            ]
          },
          "metadata": {}
        },
        {
          "output_type": "display_data",
          "data": {
            "text/plain": [
              "<IPython.core.display.HTML object>"
            ],
            "text/html": [
              " View project at <a href='https://wandb.ai/wilfried-mvomoeto-university-of-li-ge/Few-Shot-Training_gru_glove_fastText_Bahdanau_Multi-GRU-Glove-' target=\"_blank\">https://wandb.ai/wilfried-mvomoeto-university-of-li-ge/Few-Shot-Training_gru_glove_fastText_Bahdanau_Multi-GRU-Glove-</a>"
            ]
          },
          "metadata": {}
        },
        {
          "output_type": "display_data",
          "data": {
            "text/plain": [
              "<IPython.core.display.HTML object>"
            ],
            "text/html": [
              " View run at <a href='https://wandb.ai/wilfried-mvomoeto-university-of-li-ge/Few-Shot-Training_gru_glove_fastText_Bahdanau_Multi-GRU-Glove-/runs/ctwx4xhs' target=\"_blank\">https://wandb.ai/wilfried-mvomoeto-university-of-li-ge/Few-Shot-Training_gru_glove_fastText_Bahdanau_Multi-GRU-Glove-/runs/ctwx4xhs</a>"
            ]
          },
          "metadata": {}
        },
        {
          "output_type": "stream",
          "name": "stderr",
          "text": [
            "GRU-Glove K-60 Epoch 1/1000 - Train Loss: 2.2849, Test Loss: 2.3053, Train Acc: 9.81%, Test Acc: 6.76%, Test F1: 0.89%, Test Balanced Acc: 11.07%, Test Recall: 6.76%, Test Precision: 6.56%, Time: 0.88 sec:   0%|          | 1/1000 [00:01<29:49,  1.79s/epoch]"
          ]
        },
        {
          "output_type": "stream",
          "name": "stdout",
          "text": [
            "Early stopping triggered at epoch 2\n",
            "Model GRU-Glove_K-60 saved with loss gap > 1.25 or accuracy gap > 10% at epoch 1.\n"
          ]
        },
        {
          "output_type": "stream",
          "name": "stderr",
          "text": [
            "\n",
            "<ipython-input-10-f03193db776b>:44: UserWarning: To copy construct from a tensor, it is recommended to use sourceTensor.clone().detach() or sourceTensor.clone().detach().requires_grad_(True), rather than torch.tensor(sourceTensor).\n",
            "  self.X = torch.tensor(X_data, dtype=torch.long)\n",
            "<ipython-input-10-f03193db776b>:45: UserWarning: To copy construct from a tensor, it is recommended to use sourceTensor.clone().detach() or sourceTensor.clone().detach().requires_grad_(True), rather than torch.tensor(sourceTensor).\n",
            "  self.y = torch.tensor(y_data, dtype=torch.long)\n"
          ]
        },
        {
          "output_type": "display_data",
          "data": {
            "text/plain": [
              "<IPython.core.display.HTML object>"
            ],
            "text/html": [
              "Finishing previous runs because reinit is set to 'default'."
            ]
          },
          "metadata": {}
        },
        {
          "output_type": "display_data",
          "data": {
            "text/plain": [
              "<IPython.core.display.HTML object>"
            ],
            "text/html": []
          },
          "metadata": {}
        },
        {
          "output_type": "display_data",
          "data": {
            "text/plain": [
              "<IPython.core.display.HTML object>"
            ],
            "text/html": [
              "<br>    <style><br>        .wandb-row {<br>            display: flex;<br>            flex-direction: row;<br>            flex-wrap: wrap;<br>            justify-content: flex-start;<br>            width: 100%;<br>        }<br>        .wandb-col {<br>            display: flex;<br>            flex-direction: column;<br>            flex-basis: 100%;<br>            flex: 1;<br>            padding: 10px;<br>        }<br>    </style><br><div class=\"wandb-row\"><div class=\"wandb-col\"><h3>Run history:</h3><br/><table class=\"wandb\"><tr><td>epoch</td><td>▁█</td></tr><tr><td>k_shot</td><td>▁▁</td></tr><tr><td>test_acc</td><td>▁█</td></tr><tr><td>test_balanced_acc</td><td>▁█</td></tr><tr><td>test_f1</td><td>▁█</td></tr><tr><td>test_loss</td><td>█▁</td></tr><tr><td>test_precision</td><td>▁█</td></tr><tr><td>test_recall</td><td>▁█</td></tr><tr><td>train_acc</td><td>▁█</td></tr><tr><td>train_loss</td><td>█▁</td></tr></table><br/></div><div class=\"wandb-col\"><h3>Run summary:</h3><br/><table class=\"wandb\"><tr><td>epoch</td><td>2</td></tr><tr><td>k_shot</td><td>60</td></tr><tr><td>test_acc</td><td>0.06795</td></tr><tr><td>test_balanced_acc</td><td>0.11103</td></tr><tr><td>test_f1</td><td>0.00962</td></tr><tr><td>test_loss</td><td>2.22367</td></tr><tr><td>test_precision</td><td>0.10502</td></tr><tr><td>test_recall</td><td>0.06795</td></tr><tr><td>train_acc</td><td>0.11852</td></tr><tr><td>train_loss</td><td>2.26074</td></tr></table><br/></div></div>"
            ]
          },
          "metadata": {}
        },
        {
          "output_type": "display_data",
          "data": {
            "text/plain": [
              "<IPython.core.display.HTML object>"
            ],
            "text/html": [
              " View run <strong style=\"color:#cdcd00\">GRU-Glove_K-60_Training</strong> at: <a href='https://wandb.ai/wilfried-mvomoeto-university-of-li-ge/Few-Shot-Training_gru_glove_fastText_Bahdanau_Multi-GRU-Glove-/runs/ctwx4xhs' target=\"_blank\">https://wandb.ai/wilfried-mvomoeto-university-of-li-ge/Few-Shot-Training_gru_glove_fastText_Bahdanau_Multi-GRU-Glove-/runs/ctwx4xhs</a><br> View project at: <a href='https://wandb.ai/wilfried-mvomoeto-university-of-li-ge/Few-Shot-Training_gru_glove_fastText_Bahdanau_Multi-GRU-Glove-' target=\"_blank\">https://wandb.ai/wilfried-mvomoeto-university-of-li-ge/Few-Shot-Training_gru_glove_fastText_Bahdanau_Multi-GRU-Glove-</a><br>Synced 5 W&B file(s), 0 media file(s), 0 artifact file(s) and 0 other file(s)"
            ]
          },
          "metadata": {}
        },
        {
          "output_type": "display_data",
          "data": {
            "text/plain": [
              "<IPython.core.display.HTML object>"
            ],
            "text/html": [
              "Find logs at: <code>./wandb/run-20250514_093213-ctwx4xhs/logs</code>"
            ]
          },
          "metadata": {}
        },
        {
          "output_type": "display_data",
          "data": {
            "text/plain": [
              "<IPython.core.display.HTML object>"
            ],
            "text/html": [
              "Tracking run with wandb version 0.19.11"
            ]
          },
          "metadata": {}
        },
        {
          "output_type": "display_data",
          "data": {
            "text/plain": [
              "<IPython.core.display.HTML object>"
            ],
            "text/html": [
              "Run data is saved locally in <code>/content/wandb/run-20250514_093216-6lnllfyg</code>"
            ]
          },
          "metadata": {}
        },
        {
          "output_type": "display_data",
          "data": {
            "text/plain": [
              "<IPython.core.display.HTML object>"
            ],
            "text/html": [
              "Syncing run <strong><a href='https://wandb.ai/wilfried-mvomoeto-university-of-li-ge/Few-Shot-Training_gru_glove_fastText_Bahdanau_Multi-GRU-FastText-/runs/6lnllfyg' target=\"_blank\">GRU-FastText_K-60_Training</a></strong> to <a href='https://wandb.ai/wilfried-mvomoeto-university-of-li-ge/Few-Shot-Training_gru_glove_fastText_Bahdanau_Multi-GRU-FastText-' target=\"_blank\">Weights & Biases</a> (<a href='https://wandb.me/developer-guide' target=\"_blank\">docs</a>)<br>"
            ]
          },
          "metadata": {}
        },
        {
          "output_type": "display_data",
          "data": {
            "text/plain": [
              "<IPython.core.display.HTML object>"
            ],
            "text/html": [
              " View project at <a href='https://wandb.ai/wilfried-mvomoeto-university-of-li-ge/Few-Shot-Training_gru_glove_fastText_Bahdanau_Multi-GRU-FastText-' target=\"_blank\">https://wandb.ai/wilfried-mvomoeto-university-of-li-ge/Few-Shot-Training_gru_glove_fastText_Bahdanau_Multi-GRU-FastText-</a>"
            ]
          },
          "metadata": {}
        },
        {
          "output_type": "display_data",
          "data": {
            "text/plain": [
              "<IPython.core.display.HTML object>"
            ],
            "text/html": [
              " View run at <a href='https://wandb.ai/wilfried-mvomoeto-university-of-li-ge/Few-Shot-Training_gru_glove_fastText_Bahdanau_Multi-GRU-FastText-/runs/6lnllfyg' target=\"_blank\">https://wandb.ai/wilfried-mvomoeto-university-of-li-ge/Few-Shot-Training_gru_glove_fastText_Bahdanau_Multi-GRU-FastText-/runs/6lnllfyg</a>"
            ]
          },
          "metadata": {}
        },
        {
          "output_type": "stream",
          "name": "stderr",
          "text": [
            "GRU-FastText K-60 Epoch 6/1000 - Train Loss: 2.2471, Test Loss: 2.2101, Train Acc: 8.52%, Test Acc: 6.74%, Test F1: 0.86%, Test Balanced Acc: 11.05%, Test Recall: 6.74%, Test Precision: 0.46%, Time: 0.95 sec:   1%|          | 6/1000 [00:06<17:13,  1.04s/epoch]"
          ]
        },
        {
          "output_type": "stream",
          "name": "stdout",
          "text": [
            "Early stopping triggered at epoch 7\n",
            "Model GRU-FastText_K-60 saved with loss gap > 1.25 or accuracy gap > 10% at epoch 6.\n",
            "\n",
            "Training with 70-shot...\n"
          ]
        },
        {
          "output_type": "stream",
          "name": "stderr",
          "text": [
            "\n",
            "<ipython-input-10-f03193db776b>:44: UserWarning: To copy construct from a tensor, it is recommended to use sourceTensor.clone().detach() or sourceTensor.clone().detach().requires_grad_(True), rather than torch.tensor(sourceTensor).\n",
            "  self.X = torch.tensor(X_data, dtype=torch.long)\n",
            "<ipython-input-10-f03193db776b>:45: UserWarning: To copy construct from a tensor, it is recommended to use sourceTensor.clone().detach() or sourceTensor.clone().detach().requires_grad_(True), rather than torch.tensor(sourceTensor).\n",
            "  self.y = torch.tensor(y_data, dtype=torch.long)\n"
          ]
        },
        {
          "output_type": "display_data",
          "data": {
            "text/plain": [
              "<IPython.core.display.HTML object>"
            ],
            "text/html": [
              "Finishing previous runs because reinit is set to 'default'."
            ]
          },
          "metadata": {}
        },
        {
          "output_type": "display_data",
          "data": {
            "text/plain": [
              "<IPython.core.display.HTML object>"
            ],
            "text/html": []
          },
          "metadata": {}
        },
        {
          "output_type": "display_data",
          "data": {
            "text/plain": [
              "<IPython.core.display.HTML object>"
            ],
            "text/html": [
              "<br>    <style><br>        .wandb-row {<br>            display: flex;<br>            flex-direction: row;<br>            flex-wrap: wrap;<br>            justify-content: flex-start;<br>            width: 100%;<br>        }<br>        .wandb-col {<br>            display: flex;<br>            flex-direction: column;<br>            flex-basis: 100%;<br>            flex: 1;<br>            padding: 10px;<br>        }<br>    </style><br><div class=\"wandb-row\"><div class=\"wandb-col\"><h3>Run history:</h3><br/><table class=\"wandb\"><tr><td>epoch</td><td>▁▂▃▅▆▇█</td></tr><tr><td>k_shot</td><td>▁▁▁▁▁▁▁</td></tr><tr><td>test_acc</td><td>▁▁▁█▁▁▁</td></tr><tr><td>test_balanced_acc</td><td>▃▁▁█▁▁▁</td></tr><tr><td>test_f1</td><td>▁▁▁█▁▁▁</td></tr><tr><td>test_loss</td><td>█▇▇▁▆▁▆</td></tr><tr><td>test_precision</td><td>█▁▁▃▁▁▁</td></tr><tr><td>test_recall</td><td>▁▁▁█▁▁▁</td></tr><tr><td>train_acc</td><td>▃▃▃▇▅▁█</td></tr><tr><td>train_loss</td><td>▇█▇▃▅▄▁</td></tr></table><br/></div><div class=\"wandb-col\"><h3>Run summary:</h3><br/><table class=\"wandb\"><tr><td>epoch</td><td>7</td></tr><tr><td>k_shot</td><td>60</td></tr><tr><td>test_acc</td><td>0.06744</td></tr><tr><td>test_balanced_acc</td><td>0.11055</td></tr><tr><td>test_f1</td><td>0.00859</td></tr><tr><td>test_loss</td><td>2.23459</td></tr><tr><td>test_precision</td><td>0.00459</td></tr><tr><td>test_recall</td><td>0.06744</td></tr><tr><td>train_acc</td><td>0.12778</td></tr><tr><td>train_loss</td><td>2.22348</td></tr></table><br/></div></div>"
            ]
          },
          "metadata": {}
        },
        {
          "output_type": "display_data",
          "data": {
            "text/plain": [
              "<IPython.core.display.HTML object>"
            ],
            "text/html": [
              " View run <strong style=\"color:#cdcd00\">GRU-FastText_K-60_Training</strong> at: <a href='https://wandb.ai/wilfried-mvomoeto-university-of-li-ge/Few-Shot-Training_gru_glove_fastText_Bahdanau_Multi-GRU-FastText-/runs/6lnllfyg' target=\"_blank\">https://wandb.ai/wilfried-mvomoeto-university-of-li-ge/Few-Shot-Training_gru_glove_fastText_Bahdanau_Multi-GRU-FastText-/runs/6lnllfyg</a><br> View project at: <a href='https://wandb.ai/wilfried-mvomoeto-university-of-li-ge/Few-Shot-Training_gru_glove_fastText_Bahdanau_Multi-GRU-FastText-' target=\"_blank\">https://wandb.ai/wilfried-mvomoeto-university-of-li-ge/Few-Shot-Training_gru_glove_fastText_Bahdanau_Multi-GRU-FastText-</a><br>Synced 5 W&B file(s), 0 media file(s), 0 artifact file(s) and 0 other file(s)"
            ]
          },
          "metadata": {}
        },
        {
          "output_type": "display_data",
          "data": {
            "text/plain": [
              "<IPython.core.display.HTML object>"
            ],
            "text/html": [
              "Find logs at: <code>./wandb/run-20250514_093216-6lnllfyg/logs</code>"
            ]
          },
          "metadata": {}
        },
        {
          "output_type": "display_data",
          "data": {
            "text/plain": [
              "<IPython.core.display.HTML object>"
            ],
            "text/html": [
              "Tracking run with wandb version 0.19.11"
            ]
          },
          "metadata": {}
        },
        {
          "output_type": "display_data",
          "data": {
            "text/plain": [
              "<IPython.core.display.HTML object>"
            ],
            "text/html": [
              "Run data is saved locally in <code>/content/wandb/run-20250514_093224-0kid8ocu</code>"
            ]
          },
          "metadata": {}
        },
        {
          "output_type": "display_data",
          "data": {
            "text/plain": [
              "<IPython.core.display.HTML object>"
            ],
            "text/html": [
              "Syncing run <strong><a href='https://wandb.ai/wilfried-mvomoeto-university-of-li-ge/Few-Shot-Training_gru_glove_fastText_Bahdanau_Multi-GRU-Bah-Glove-/runs/0kid8ocu' target=\"_blank\">GRU-Bah-Glove_K-70_Training</a></strong> to <a href='https://wandb.ai/wilfried-mvomoeto-university-of-li-ge/Few-Shot-Training_gru_glove_fastText_Bahdanau_Multi-GRU-Bah-Glove-' target=\"_blank\">Weights & Biases</a> (<a href='https://wandb.me/developer-guide' target=\"_blank\">docs</a>)<br>"
            ]
          },
          "metadata": {}
        },
        {
          "output_type": "display_data",
          "data": {
            "text/plain": [
              "<IPython.core.display.HTML object>"
            ],
            "text/html": [
              " View project at <a href='https://wandb.ai/wilfried-mvomoeto-university-of-li-ge/Few-Shot-Training_gru_glove_fastText_Bahdanau_Multi-GRU-Bah-Glove-' target=\"_blank\">https://wandb.ai/wilfried-mvomoeto-university-of-li-ge/Few-Shot-Training_gru_glove_fastText_Bahdanau_Multi-GRU-Bah-Glove-</a>"
            ]
          },
          "metadata": {}
        },
        {
          "output_type": "display_data",
          "data": {
            "text/plain": [
              "<IPython.core.display.HTML object>"
            ],
            "text/html": [
              " View run at <a href='https://wandb.ai/wilfried-mvomoeto-university-of-li-ge/Few-Shot-Training_gru_glove_fastText_Bahdanau_Multi-GRU-Bah-Glove-/runs/0kid8ocu' target=\"_blank\">https://wandb.ai/wilfried-mvomoeto-university-of-li-ge/Few-Shot-Training_gru_glove_fastText_Bahdanau_Multi-GRU-Bah-Glove-/runs/0kid8ocu</a>"
            ]
          },
          "metadata": {}
        },
        {
          "output_type": "stream",
          "name": "stderr",
          "text": [
            "GRU-Bah-Glove K-70 Epoch 7/1000 - Train Loss: 1.8838, Test Loss: 1.9101, Train Acc: 27.14%, Test Acc: 25.56%, Test F1: 22.54%, Test Balanced Acc: 28.70%, Test Recall: 25.56%, Test Precision: 26.42%, Time: 1.43 sec:   1%|          | 7/1000 [00:11<26:56,  1.63s/epoch]"
          ]
        },
        {
          "output_type": "stream",
          "name": "stdout",
          "text": [
            "Early stopping triggered at epoch 8\n",
            "Model GRU-Bah-Glove_K-70 saved with loss gap > 1.25 or accuracy gap > 10% at epoch 7.\n"
          ]
        },
        {
          "output_type": "stream",
          "name": "stderr",
          "text": [
            "\n",
            "<ipython-input-10-f03193db776b>:44: UserWarning: To copy construct from a tensor, it is recommended to use sourceTensor.clone().detach() or sourceTensor.clone().detach().requires_grad_(True), rather than torch.tensor(sourceTensor).\n",
            "  self.X = torch.tensor(X_data, dtype=torch.long)\n",
            "<ipython-input-10-f03193db776b>:45: UserWarning: To copy construct from a tensor, it is recommended to use sourceTensor.clone().detach() or sourceTensor.clone().detach().requires_grad_(True), rather than torch.tensor(sourceTensor).\n",
            "  self.y = torch.tensor(y_data, dtype=torch.long)\n"
          ]
        },
        {
          "output_type": "display_data",
          "data": {
            "text/plain": [
              "<IPython.core.display.HTML object>"
            ],
            "text/html": [
              "Finishing previous runs because reinit is set to 'default'."
            ]
          },
          "metadata": {}
        },
        {
          "output_type": "display_data",
          "data": {
            "text/plain": [
              "<IPython.core.display.HTML object>"
            ],
            "text/html": []
          },
          "metadata": {}
        },
        {
          "output_type": "display_data",
          "data": {
            "text/plain": [
              "<IPython.core.display.HTML object>"
            ],
            "text/html": [
              "<br>    <style><br>        .wandb-row {<br>            display: flex;<br>            flex-direction: row;<br>            flex-wrap: wrap;<br>            justify-content: flex-start;<br>            width: 100%;<br>        }<br>        .wandb-col {<br>            display: flex;<br>            flex-direction: column;<br>            flex-basis: 100%;<br>            flex: 1;<br>            padding: 10px;<br>        }<br>    </style><br><div class=\"wandb-row\"><div class=\"wandb-col\"><h3>Run history:</h3><br/><table class=\"wandb\"><tr><td>epoch</td><td>▁▂▃▄▅▆▇█</td></tr><tr><td>k_shot</td><td>▁▁▁▁▁▁▁▁</td></tr><tr><td>test_acc</td><td>▁▁▄▆▇███</td></tr><tr><td>test_balanced_acc</td><td>▁▂▄▆▇███</td></tr><tr><td>test_f1</td><td>▁▁▅▇▇███</td></tr><tr><td>test_loss</td><td>███▇▅▃▂▁</td></tr><tr><td>test_precision</td><td>▁▁▅▆▆▇▇█</td></tr><tr><td>test_recall</td><td>▁▁▄▆▇███</td></tr><tr><td>train_acc</td><td>▂▁▃▂▄▅▆█</td></tr><tr><td>train_loss</td><td>█▇▇▇▆▄▂▁</td></tr></table><br/></div><div class=\"wandb-col\"><h3>Run summary:</h3><br/><table class=\"wandb\"><tr><td>epoch</td><td>8</td></tr><tr><td>k_shot</td><td>70</td></tr><tr><td>test_acc</td><td>0.26354</td></tr><tr><td>test_balanced_acc</td><td>0.29631</td></tr><tr><td>test_f1</td><td>0.22871</td></tr><tr><td>test_loss</td><td>1.86655</td></tr><tr><td>test_precision</td><td>0.27891</td></tr><tr><td>test_recall</td><td>0.26354</td></tr><tr><td>train_acc</td><td>0.32857</td></tr><tr><td>train_loss</td><td>1.82323</td></tr></table><br/></div></div>"
            ]
          },
          "metadata": {}
        },
        {
          "output_type": "display_data",
          "data": {
            "text/plain": [
              "<IPython.core.display.HTML object>"
            ],
            "text/html": [
              " View run <strong style=\"color:#cdcd00\">GRU-Bah-Glove_K-70_Training</strong> at: <a href='https://wandb.ai/wilfried-mvomoeto-university-of-li-ge/Few-Shot-Training_gru_glove_fastText_Bahdanau_Multi-GRU-Bah-Glove-/runs/0kid8ocu' target=\"_blank\">https://wandb.ai/wilfried-mvomoeto-university-of-li-ge/Few-Shot-Training_gru_glove_fastText_Bahdanau_Multi-GRU-Bah-Glove-/runs/0kid8ocu</a><br> View project at: <a href='https://wandb.ai/wilfried-mvomoeto-university-of-li-ge/Few-Shot-Training_gru_glove_fastText_Bahdanau_Multi-GRU-Bah-Glove-' target=\"_blank\">https://wandb.ai/wilfried-mvomoeto-university-of-li-ge/Few-Shot-Training_gru_glove_fastText_Bahdanau_Multi-GRU-Bah-Glove-</a><br>Synced 5 W&B file(s), 0 media file(s), 0 artifact file(s) and 0 other file(s)"
            ]
          },
          "metadata": {}
        },
        {
          "output_type": "display_data",
          "data": {
            "text/plain": [
              "<IPython.core.display.HTML object>"
            ],
            "text/html": [
              "Find logs at: <code>./wandb/run-20250514_093224-0kid8ocu/logs</code>"
            ]
          },
          "metadata": {}
        },
        {
          "output_type": "display_data",
          "data": {
            "text/plain": [
              "<IPython.core.display.HTML object>"
            ],
            "text/html": [
              "Tracking run with wandb version 0.19.11"
            ]
          },
          "metadata": {}
        },
        {
          "output_type": "display_data",
          "data": {
            "text/plain": [
              "<IPython.core.display.HTML object>"
            ],
            "text/html": [
              "Run data is saved locally in <code>/content/wandb/run-20250514_093237-usa5csdq</code>"
            ]
          },
          "metadata": {}
        },
        {
          "output_type": "display_data",
          "data": {
            "text/plain": [
              "<IPython.core.display.HTML object>"
            ],
            "text/html": [
              "Syncing run <strong><a href='https://wandb.ai/wilfried-mvomoeto-university-of-li-ge/Few-Shot-Training_gru_glove_fastText_Bahdanau_Multi-GRU-Bah-FastText-/runs/usa5csdq' target=\"_blank\">GRU-Bah-FastText_K-70_Training</a></strong> to <a href='https://wandb.ai/wilfried-mvomoeto-university-of-li-ge/Few-Shot-Training_gru_glove_fastText_Bahdanau_Multi-GRU-Bah-FastText-' target=\"_blank\">Weights & Biases</a> (<a href='https://wandb.me/developer-guide' target=\"_blank\">docs</a>)<br>"
            ]
          },
          "metadata": {}
        },
        {
          "output_type": "display_data",
          "data": {
            "text/plain": [
              "<IPython.core.display.HTML object>"
            ],
            "text/html": [
              " View project at <a href='https://wandb.ai/wilfried-mvomoeto-university-of-li-ge/Few-Shot-Training_gru_glove_fastText_Bahdanau_Multi-GRU-Bah-FastText-' target=\"_blank\">https://wandb.ai/wilfried-mvomoeto-university-of-li-ge/Few-Shot-Training_gru_glove_fastText_Bahdanau_Multi-GRU-Bah-FastText-</a>"
            ]
          },
          "metadata": {}
        },
        {
          "output_type": "display_data",
          "data": {
            "text/plain": [
              "<IPython.core.display.HTML object>"
            ],
            "text/html": [
              " View run at <a href='https://wandb.ai/wilfried-mvomoeto-university-of-li-ge/Few-Shot-Training_gru_glove_fastText_Bahdanau_Multi-GRU-Bah-FastText-/runs/usa5csdq' target=\"_blank\">https://wandb.ai/wilfried-mvomoeto-university-of-li-ge/Few-Shot-Training_gru_glove_fastText_Bahdanau_Multi-GRU-Bah-FastText-/runs/usa5csdq</a>"
            ]
          },
          "metadata": {}
        },
        {
          "output_type": "stream",
          "name": "stderr",
          "text": [
            "GRU-Bah-FastText K-70 Epoch 29/1000 - Train Loss: 0.6881, Test Loss: 0.8030, Train Acc: 79.68%, Test Acc: 74.82%, Test F1: 75.16%, Test Balanced Acc: 75.66%, Test Recall: 74.82%, Test Precision: 76.12%, Time: 1.59 sec:   3%|▎         | 29/1000 [00:43<24:02,  1.49s/epoch]"
          ]
        },
        {
          "output_type": "stream",
          "name": "stdout",
          "text": [
            "Early stopping triggered at epoch 30\n",
            "Model GRU-Bah-FastText_K-70 saved with loss gap > 1.25 or accuracy gap > 10% at epoch 29.\n"
          ]
        },
        {
          "output_type": "stream",
          "name": "stderr",
          "text": [
            "\n",
            "<ipython-input-10-f03193db776b>:44: UserWarning: To copy construct from a tensor, it is recommended to use sourceTensor.clone().detach() or sourceTensor.clone().detach().requires_grad_(True), rather than torch.tensor(sourceTensor).\n",
            "  self.X = torch.tensor(X_data, dtype=torch.long)\n",
            "<ipython-input-10-f03193db776b>:45: UserWarning: To copy construct from a tensor, it is recommended to use sourceTensor.clone().detach() or sourceTensor.clone().detach().requires_grad_(True), rather than torch.tensor(sourceTensor).\n",
            "  self.y = torch.tensor(y_data, dtype=torch.long)\n"
          ]
        },
        {
          "output_type": "display_data",
          "data": {
            "text/plain": [
              "<IPython.core.display.HTML object>"
            ],
            "text/html": [
              "Finishing previous runs because reinit is set to 'default'."
            ]
          },
          "metadata": {}
        },
        {
          "output_type": "display_data",
          "data": {
            "text/plain": [
              "<IPython.core.display.HTML object>"
            ],
            "text/html": []
          },
          "metadata": {}
        },
        {
          "output_type": "display_data",
          "data": {
            "text/plain": [
              "<IPython.core.display.HTML object>"
            ],
            "text/html": [
              "<br>    <style><br>        .wandb-row {<br>            display: flex;<br>            flex-direction: row;<br>            flex-wrap: wrap;<br>            justify-content: flex-start;<br>            width: 100%;<br>        }<br>        .wandb-col {<br>            display: flex;<br>            flex-direction: column;<br>            flex-basis: 100%;<br>            flex: 1;<br>            padding: 10px;<br>        }<br>    </style><br><div class=\"wandb-row\"><div class=\"wandb-col\"><h3>Run history:</h3><br/><table class=\"wandb\"><tr><td>epoch</td><td>▁▁▁▂▂▂▂▃▃▃▃▄▄▄▄▅▅▅▅▆▆▆▆▇▇▇▇███</td></tr><tr><td>k_shot</td><td>▁▁▁▁▁▁▁▁▁▁▁▁▁▁▁▁▁▁▁▁▁▁▁▁▁▁▁▁▁▁</td></tr><tr><td>test_acc</td><td>▁▁▂▂▃▅▅▅▅▅▆▆▆▇▇▇▇▇▇███████████</td></tr><tr><td>test_balanced_acc</td><td>▁▁▂▃▃▅▅▅▅▅▆▆▆▇▇▇▇▇▇▇██████████</td></tr><tr><td>test_f1</td><td>▁▁▂▂▃▄▅▅▅▅▅▆▆▆▇▇▇▇▇▇▇█████████</td></tr><tr><td>test_loss</td><td>████▇▆▅▅▄▄▄▄▃▃▃▃▂▂▂▂▂▂▂▂▁▁▁▁▁▁</td></tr><tr><td>test_precision</td><td>▁▁▂▃▄▅▆▆▆▆▆▆▆▆▇▇▇▇▇▇▇█████████</td></tr><tr><td>test_recall</td><td>▁▁▂▂▃▅▅▅▅▅▆▆▆▇▇▇▇▇▇███████████</td></tr><tr><td>train_acc</td><td>▁▁▁▂▂▂▃▄▅▅▅▅▅▅▆▆▆▆▇▇▇▇▇▇▇█████</td></tr><tr><td>train_loss</td><td>███▇▇▇▆▅▅▄▄▄▄▄▃▃▃▃▂▂▂▂▂▂▂▁▁▁▁▁</td></tr></table><br/></div><div class=\"wandb-col\"><h3>Run summary:</h3><br/><table class=\"wandb\"><tr><td>epoch</td><td>30</td></tr><tr><td>k_shot</td><td>70</td></tr><tr><td>test_acc</td><td>0.7506</td></tr><tr><td>test_balanced_acc</td><td>0.7593</td></tr><tr><td>test_f1</td><td>0.75478</td></tr><tr><td>test_loss</td><td>0.79088</td></tr><tr><td>test_precision</td><td>0.76688</td></tr><tr><td>test_recall</td><td>0.7506</td></tr><tr><td>train_acc</td><td>0.81587</td></tr><tr><td>train_loss</td><td>0.64094</td></tr></table><br/></div></div>"
            ]
          },
          "metadata": {}
        },
        {
          "output_type": "display_data",
          "data": {
            "text/plain": [
              "<IPython.core.display.HTML object>"
            ],
            "text/html": [
              " View run <strong style=\"color:#cdcd00\">GRU-Bah-FastText_K-70_Training</strong> at: <a href='https://wandb.ai/wilfried-mvomoeto-university-of-li-ge/Few-Shot-Training_gru_glove_fastText_Bahdanau_Multi-GRU-Bah-FastText-/runs/usa5csdq' target=\"_blank\">https://wandb.ai/wilfried-mvomoeto-university-of-li-ge/Few-Shot-Training_gru_glove_fastText_Bahdanau_Multi-GRU-Bah-FastText-/runs/usa5csdq</a><br> View project at: <a href='https://wandb.ai/wilfried-mvomoeto-university-of-li-ge/Few-Shot-Training_gru_glove_fastText_Bahdanau_Multi-GRU-Bah-FastText-' target=\"_blank\">https://wandb.ai/wilfried-mvomoeto-university-of-li-ge/Few-Shot-Training_gru_glove_fastText_Bahdanau_Multi-GRU-Bah-FastText-</a><br>Synced 5 W&B file(s), 0 media file(s), 0 artifact file(s) and 0 other file(s)"
            ]
          },
          "metadata": {}
        },
        {
          "output_type": "display_data",
          "data": {
            "text/plain": [
              "<IPython.core.display.HTML object>"
            ],
            "text/html": [
              "Find logs at: <code>./wandb/run-20250514_093237-usa5csdq/logs</code>"
            ]
          },
          "metadata": {}
        },
        {
          "output_type": "display_data",
          "data": {
            "text/plain": [
              "<IPython.core.display.HTML object>"
            ],
            "text/html": [
              "Tracking run with wandb version 0.19.11"
            ]
          },
          "metadata": {}
        },
        {
          "output_type": "display_data",
          "data": {
            "text/plain": [
              "<IPython.core.display.HTML object>"
            ],
            "text/html": [
              "Run data is saved locally in <code>/content/wandb/run-20250514_093322-tyhshezq</code>"
            ]
          },
          "metadata": {}
        },
        {
          "output_type": "display_data",
          "data": {
            "text/plain": [
              "<IPython.core.display.HTML object>"
            ],
            "text/html": [
              "Syncing run <strong><a href='https://wandb.ai/wilfried-mvomoeto-university-of-li-ge/Few-Shot-Training_gru_glove_fastText_Bahdanau_Multi-CNN_LSTM-/runs/tyhshezq' target=\"_blank\">CNN_LSTM_K-70_Training</a></strong> to <a href='https://wandb.ai/wilfried-mvomoeto-university-of-li-ge/Few-Shot-Training_gru_glove_fastText_Bahdanau_Multi-CNN_LSTM-' target=\"_blank\">Weights & Biases</a> (<a href='https://wandb.me/developer-guide' target=\"_blank\">docs</a>)<br>"
            ]
          },
          "metadata": {}
        },
        {
          "output_type": "display_data",
          "data": {
            "text/plain": [
              "<IPython.core.display.HTML object>"
            ],
            "text/html": [
              " View project at <a href='https://wandb.ai/wilfried-mvomoeto-university-of-li-ge/Few-Shot-Training_gru_glove_fastText_Bahdanau_Multi-CNN_LSTM-' target=\"_blank\">https://wandb.ai/wilfried-mvomoeto-university-of-li-ge/Few-Shot-Training_gru_glove_fastText_Bahdanau_Multi-CNN_LSTM-</a>"
            ]
          },
          "metadata": {}
        },
        {
          "output_type": "display_data",
          "data": {
            "text/plain": [
              "<IPython.core.display.HTML object>"
            ],
            "text/html": [
              " View run at <a href='https://wandb.ai/wilfried-mvomoeto-university-of-li-ge/Few-Shot-Training_gru_glove_fastText_Bahdanau_Multi-CNN_LSTM-/runs/tyhshezq' target=\"_blank\">https://wandb.ai/wilfried-mvomoeto-university-of-li-ge/Few-Shot-Training_gru_glove_fastText_Bahdanau_Multi-CNN_LSTM-/runs/tyhshezq</a>"
            ]
          },
          "metadata": {}
        },
        {
          "output_type": "stream",
          "name": "stderr",
          "text": [
            "CNN_LSTM K-70 Epoch 521/1000 - Train Loss: 2.1594, Test Loss: 2.2150, Train Acc: 11.59%, Test Acc: 6.74%, Test F1: 0.86%, Test Balanced Acc: 11.05%, Test Recall: 6.74%, Test Precision: 0.46%, Time: 1.14 sec:  52%|█████▏    | 521/1000 [08:27<07:46,  1.03epoch/s]"
          ]
        },
        {
          "output_type": "stream",
          "name": "stdout",
          "text": [
            "Early stopping triggered at epoch 522\n",
            "Model CNN_LSTM_K-70 saved with loss gap > 1.25 or accuracy gap > 10% at epoch 521.\n"
          ]
        },
        {
          "output_type": "stream",
          "name": "stderr",
          "text": [
            "\n",
            "<ipython-input-10-f03193db776b>:44: UserWarning: To copy construct from a tensor, it is recommended to use sourceTensor.clone().detach() or sourceTensor.clone().detach().requires_grad_(True), rather than torch.tensor(sourceTensor).\n",
            "  self.X = torch.tensor(X_data, dtype=torch.long)\n",
            "<ipython-input-10-f03193db776b>:45: UserWarning: To copy construct from a tensor, it is recommended to use sourceTensor.clone().detach() or sourceTensor.clone().detach().requires_grad_(True), rather than torch.tensor(sourceTensor).\n",
            "  self.y = torch.tensor(y_data, dtype=torch.long)\n"
          ]
        },
        {
          "output_type": "display_data",
          "data": {
            "text/plain": [
              "<IPython.core.display.HTML object>"
            ],
            "text/html": [
              "Finishing previous runs because reinit is set to 'default'."
            ]
          },
          "metadata": {}
        },
        {
          "output_type": "display_data",
          "data": {
            "text/plain": [
              "<IPython.core.display.HTML object>"
            ],
            "text/html": []
          },
          "metadata": {}
        },
        {
          "output_type": "display_data",
          "data": {
            "text/plain": [
              "<IPython.core.display.HTML object>"
            ],
            "text/html": [
              "<br>    <style><br>        .wandb-row {<br>            display: flex;<br>            flex-direction: row;<br>            flex-wrap: wrap;<br>            justify-content: flex-start;<br>            width: 100%;<br>        }<br>        .wandb-col {<br>            display: flex;<br>            flex-direction: column;<br>            flex-basis: 100%;<br>            flex: 1;<br>            padding: 10px;<br>        }<br>    </style><br><div class=\"wandb-row\"><div class=\"wandb-col\"><h3>Run history:</h3><br/><table class=\"wandb\"><tr><td>epoch</td><td>▁▁▁▂▂▂▂▂▂▃▃▃▃▃▃▃▃▄▄▄▄▄▄▅▅▅▅▅▅▅▆▆▆▆▇▇▇▇▇█</td></tr><tr><td>k_shot</td><td>▁▁▁▁▁▁▁▁▁▁▁▁▁▁▁▁▁▁▁▁▁▁▁▁▁▁▁▁▁▁▁▁▁▁▁▁▁▁▁▁</td></tr><tr><td>test_acc</td><td>▅▁▆▅▅▃▃▅▅▅▅▅▆▅▅▆████▆▆▆▆▆▆▆▆▅▅▅▅▅▅▅▅▅▅▅▆</td></tr><tr><td>test_balanced_acc</td><td>█▄▁▄▄▃▃▃▃▂▃▄▄▃▃▄▃▃▃▃▅▅▃▄▅▅▃▃▅▅▄▄▄▄▄▄▄▄▄▄</td></tr><tr><td>test_f1</td><td>▁▁▁▁▆▃▃▆▆▆▅▅▅▅▅█▅▆▆▆▆▅▃▃▃▃▃▃▃▃▃▃▃▃▃▃▃▃▃▃</td></tr><tr><td>test_loss</td><td>▁▂▄▃▄▆▄▄▄▄▆▄▇▅▆▅▆▆▆▆▄▄▁▃▄▅▆▅▆▇▆▆▅▆▆█▆▇▆▇</td></tr><tr><td>test_precision</td><td>▂▁▆▆▃▂▂▄▄▄▅▄▄▅▆▅▄▄▆▅▆▄▄▆▅▅▃▃▃▃▃▃▃▃▄▃▃▃▃█</td></tr><tr><td>test_recall</td><td>██▆▃█▁▁▁▆▆▃▆▃▃▆▃▃▃███▃▃▆▆▆▆▆▃▃▃▃▃▃▃▃▃▃▃▃</td></tr><tr><td>train_acc</td><td>▁▁█████████████████████████████████████▁</td></tr><tr><td>train_loss</td><td>█▆▅▆▃▂▃▃▄▄▄▃▄▃▄▄▄▃▃▃▃▃▃▄▄▃▄▂▃▄▃▂▁▄▃▃▃▃▃▁</td></tr></table><br/></div><div class=\"wandb-col\"><h3>Run summary:</h3><br/><table class=\"wandb\"><tr><td>epoch</td><td>522</td></tr><tr><td>k_shot</td><td>70</td></tr><tr><td>test_acc</td><td>0.06744</td></tr><tr><td>test_balanced_acc</td><td>0.11055</td></tr><tr><td>test_f1</td><td>0.0086</td></tr><tr><td>test_loss</td><td>2.218</td></tr><tr><td>test_precision</td><td>0.0046</td></tr><tr><td>test_recall</td><td>0.06744</td></tr><tr><td>train_acc</td><td>0.11746</td></tr><tr><td>train_loss</td><td>2.16216</td></tr></table><br/></div></div>"
            ]
          },
          "metadata": {}
        },
        {
          "output_type": "display_data",
          "data": {
            "text/plain": [
              "<IPython.core.display.HTML object>"
            ],
            "text/html": [
              " View run <strong style=\"color:#cdcd00\">CNN_LSTM_K-70_Training</strong> at: <a href='https://wandb.ai/wilfried-mvomoeto-university-of-li-ge/Few-Shot-Training_gru_glove_fastText_Bahdanau_Multi-CNN_LSTM-/runs/tyhshezq' target=\"_blank\">https://wandb.ai/wilfried-mvomoeto-university-of-li-ge/Few-Shot-Training_gru_glove_fastText_Bahdanau_Multi-CNN_LSTM-/runs/tyhshezq</a><br> View project at: <a href='https://wandb.ai/wilfried-mvomoeto-university-of-li-ge/Few-Shot-Training_gru_glove_fastText_Bahdanau_Multi-CNN_LSTM-' target=\"_blank\">https://wandb.ai/wilfried-mvomoeto-university-of-li-ge/Few-Shot-Training_gru_glove_fastText_Bahdanau_Multi-CNN_LSTM-</a><br>Synced 5 W&B file(s), 0 media file(s), 0 artifact file(s) and 0 other file(s)"
            ]
          },
          "metadata": {}
        },
        {
          "output_type": "display_data",
          "data": {
            "text/plain": [
              "<IPython.core.display.HTML object>"
            ],
            "text/html": [
              "Find logs at: <code>./wandb/run-20250514_093322-tyhshezq/logs</code>"
            ]
          },
          "metadata": {}
        },
        {
          "output_type": "display_data",
          "data": {
            "text/plain": [
              "<IPython.core.display.HTML object>"
            ],
            "text/html": [
              "Tracking run with wandb version 0.19.11"
            ]
          },
          "metadata": {}
        },
        {
          "output_type": "display_data",
          "data": {
            "text/plain": [
              "<IPython.core.display.HTML object>"
            ],
            "text/html": [
              "Run data is saved locally in <code>/content/wandb/run-20250514_094151-v89eoz99</code>"
            ]
          },
          "metadata": {}
        },
        {
          "output_type": "display_data",
          "data": {
            "text/plain": [
              "<IPython.core.display.HTML object>"
            ],
            "text/html": [
              "Syncing run <strong><a href='https://wandb.ai/wilfried-mvomoeto-university-of-li-ge/Few-Shot-Training_gru_glove_fastText_Bahdanau_Multi-GRU-Glove-/runs/v89eoz99' target=\"_blank\">GRU-Glove_K-70_Training</a></strong> to <a href='https://wandb.ai/wilfried-mvomoeto-university-of-li-ge/Few-Shot-Training_gru_glove_fastText_Bahdanau_Multi-GRU-Glove-' target=\"_blank\">Weights & Biases</a> (<a href='https://wandb.me/developer-guide' target=\"_blank\">docs</a>)<br>"
            ]
          },
          "metadata": {}
        },
        {
          "output_type": "display_data",
          "data": {
            "text/plain": [
              "<IPython.core.display.HTML object>"
            ],
            "text/html": [
              " View project at <a href='https://wandb.ai/wilfried-mvomoeto-university-of-li-ge/Few-Shot-Training_gru_glove_fastText_Bahdanau_Multi-GRU-Glove-' target=\"_blank\">https://wandb.ai/wilfried-mvomoeto-university-of-li-ge/Few-Shot-Training_gru_glove_fastText_Bahdanau_Multi-GRU-Glove-</a>"
            ]
          },
          "metadata": {}
        },
        {
          "output_type": "display_data",
          "data": {
            "text/plain": [
              "<IPython.core.display.HTML object>"
            ],
            "text/html": [
              " View run at <a href='https://wandb.ai/wilfried-mvomoeto-university-of-li-ge/Few-Shot-Training_gru_glove_fastText_Bahdanau_Multi-GRU-Glove-/runs/v89eoz99' target=\"_blank\">https://wandb.ai/wilfried-mvomoeto-university-of-li-ge/Few-Shot-Training_gru_glove_fastText_Bahdanau_Multi-GRU-Glove-/runs/v89eoz99</a>"
            ]
          },
          "metadata": {}
        },
        {
          "output_type": "stream",
          "name": "stderr",
          "text": [
            "GRU-Glove K-70 Epoch 5/1000 - Train Loss: 2.2659, Test Loss: 2.2154, Train Acc: 10.32%, Test Acc: 11.59%, Test F1: 2.51%, Test Balanced Acc: 11.15%, Test Recall: 11.59%, Test Precision: 6.76%, Time: 0.87 sec:   0%|          | 5/1000 [00:05<17:52,  1.08s/epoch]"
          ]
        },
        {
          "output_type": "stream",
          "name": "stdout",
          "text": [
            "Early stopping triggered at epoch 6\n",
            "Model GRU-Glove_K-70 saved with loss gap > 1.25 or accuracy gap > 10% at epoch 5.\n"
          ]
        },
        {
          "output_type": "stream",
          "name": "stderr",
          "text": [
            "\n",
            "<ipython-input-10-f03193db776b>:44: UserWarning: To copy construct from a tensor, it is recommended to use sourceTensor.clone().detach() or sourceTensor.clone().detach().requires_grad_(True), rather than torch.tensor(sourceTensor).\n",
            "  self.X = torch.tensor(X_data, dtype=torch.long)\n",
            "<ipython-input-10-f03193db776b>:45: UserWarning: To copy construct from a tensor, it is recommended to use sourceTensor.clone().detach() or sourceTensor.clone().detach().requires_grad_(True), rather than torch.tensor(sourceTensor).\n",
            "  self.y = torch.tensor(y_data, dtype=torch.long)\n"
          ]
        },
        {
          "output_type": "display_data",
          "data": {
            "text/plain": [
              "<IPython.core.display.HTML object>"
            ],
            "text/html": [
              "Finishing previous runs because reinit is set to 'default'."
            ]
          },
          "metadata": {}
        },
        {
          "output_type": "display_data",
          "data": {
            "text/plain": [
              "<IPython.core.display.HTML object>"
            ],
            "text/html": []
          },
          "metadata": {}
        },
        {
          "output_type": "display_data",
          "data": {
            "text/plain": [
              "<IPython.core.display.HTML object>"
            ],
            "text/html": [
              "<br>    <style><br>        .wandb-row {<br>            display: flex;<br>            flex-direction: row;<br>            flex-wrap: wrap;<br>            justify-content: flex-start;<br>            width: 100%;<br>        }<br>        .wandb-col {<br>            display: flex;<br>            flex-direction: column;<br>            flex-basis: 100%;<br>            flex: 1;<br>            padding: 10px;<br>        }<br>    </style><br><div class=\"wandb-row\"><div class=\"wandb-col\"><h3>Run history:</h3><br/><table class=\"wandb\"><tr><td>epoch</td><td>▁▂▄▅▇█</td></tr><tr><td>k_shot</td><td>▁▁▁▁▁▁</td></tr><tr><td>test_acc</td><td>▁█▁▁▇▁</td></tr><tr><td>test_balanced_acc</td><td>▁▄▁▁█▁</td></tr><tr><td>test_f1</td><td>▁█▁▁▇▁</td></tr><tr><td>test_loss</td><td>▄▅▅▂▁█</td></tr><tr><td>test_precision</td><td>▂▃▁▂█▂</td></tr><tr><td>test_recall</td><td>▁█▁▁▇▁</td></tr><tr><td>train_acc</td><td>▁█▅▅▄█</td></tr><tr><td>train_loss</td><td>█▃▄▅▅▁</td></tr></table><br/></div><div class=\"wandb-col\"><h3>Run summary:</h3><br/><table class=\"wandb\"><tr><td>epoch</td><td>6</td></tr><tr><td>k_shot</td><td>70</td></tr><tr><td>test_acc</td><td>0.06761</td></tr><tr><td>test_balanced_acc</td><td>0.1107</td></tr><tr><td>test_f1</td><td>0.00893</td></tr><tr><td>test_loss</td><td>2.24086</td></tr><tr><td>test_precision</td><td>0.03503</td></tr><tr><td>test_recall</td><td>0.06761</td></tr><tr><td>train_acc</td><td>0.1254</td></tr><tr><td>train_loss</td><td>2.22446</td></tr></table><br/></div></div>"
            ]
          },
          "metadata": {}
        },
        {
          "output_type": "display_data",
          "data": {
            "text/plain": [
              "<IPython.core.display.HTML object>"
            ],
            "text/html": [
              " View run <strong style=\"color:#cdcd00\">GRU-Glove_K-70_Training</strong> at: <a href='https://wandb.ai/wilfried-mvomoeto-university-of-li-ge/Few-Shot-Training_gru_glove_fastText_Bahdanau_Multi-GRU-Glove-/runs/v89eoz99' target=\"_blank\">https://wandb.ai/wilfried-mvomoeto-university-of-li-ge/Few-Shot-Training_gru_glove_fastText_Bahdanau_Multi-GRU-Glove-/runs/v89eoz99</a><br> View project at: <a href='https://wandb.ai/wilfried-mvomoeto-university-of-li-ge/Few-Shot-Training_gru_glove_fastText_Bahdanau_Multi-GRU-Glove-' target=\"_blank\">https://wandb.ai/wilfried-mvomoeto-university-of-li-ge/Few-Shot-Training_gru_glove_fastText_Bahdanau_Multi-GRU-Glove-</a><br>Synced 5 W&B file(s), 0 media file(s), 0 artifact file(s) and 0 other file(s)"
            ]
          },
          "metadata": {}
        },
        {
          "output_type": "display_data",
          "data": {
            "text/plain": [
              "<IPython.core.display.HTML object>"
            ],
            "text/html": [
              "Find logs at: <code>./wandb/run-20250514_094151-v89eoz99/logs</code>"
            ]
          },
          "metadata": {}
        },
        {
          "output_type": "display_data",
          "data": {
            "text/plain": [
              "<IPython.core.display.HTML object>"
            ],
            "text/html": [
              "Tracking run with wandb version 0.19.11"
            ]
          },
          "metadata": {}
        },
        {
          "output_type": "display_data",
          "data": {
            "text/plain": [
              "<IPython.core.display.HTML object>"
            ],
            "text/html": [
              "Run data is saved locally in <code>/content/wandb/run-20250514_094159-3rv4l56f</code>"
            ]
          },
          "metadata": {}
        },
        {
          "output_type": "display_data",
          "data": {
            "text/plain": [
              "<IPython.core.display.HTML object>"
            ],
            "text/html": [
              "Syncing run <strong><a href='https://wandb.ai/wilfried-mvomoeto-university-of-li-ge/Few-Shot-Training_gru_glove_fastText_Bahdanau_Multi-GRU-FastText-/runs/3rv4l56f' target=\"_blank\">GRU-FastText_K-70_Training</a></strong> to <a href='https://wandb.ai/wilfried-mvomoeto-university-of-li-ge/Few-Shot-Training_gru_glove_fastText_Bahdanau_Multi-GRU-FastText-' target=\"_blank\">Weights & Biases</a> (<a href='https://wandb.me/developer-guide' target=\"_blank\">docs</a>)<br>"
            ]
          },
          "metadata": {}
        },
        {
          "output_type": "display_data",
          "data": {
            "text/plain": [
              "<IPython.core.display.HTML object>"
            ],
            "text/html": [
              " View project at <a href='https://wandb.ai/wilfried-mvomoeto-university-of-li-ge/Few-Shot-Training_gru_glove_fastText_Bahdanau_Multi-GRU-FastText-' target=\"_blank\">https://wandb.ai/wilfried-mvomoeto-university-of-li-ge/Few-Shot-Training_gru_glove_fastText_Bahdanau_Multi-GRU-FastText-</a>"
            ]
          },
          "metadata": {}
        },
        {
          "output_type": "display_data",
          "data": {
            "text/plain": [
              "<IPython.core.display.HTML object>"
            ],
            "text/html": [
              " View run at <a href='https://wandb.ai/wilfried-mvomoeto-university-of-li-ge/Few-Shot-Training_gru_glove_fastText_Bahdanau_Multi-GRU-FastText-/runs/3rv4l56f' target=\"_blank\">https://wandb.ai/wilfried-mvomoeto-university-of-li-ge/Few-Shot-Training_gru_glove_fastText_Bahdanau_Multi-GRU-FastText-/runs/3rv4l56f</a>"
            ]
          },
          "metadata": {}
        },
        {
          "output_type": "stream",
          "name": "stderr",
          "text": [
            "GRU-FastText K-70 Epoch 1/1000 - Train Loss: 2.2913, Test Loss: 2.2391, Train Acc: 9.84%, Test Acc: 8.45%, Test F1: 2.95%, Test Balanced Acc: 11.58%, Test Recall: 8.45%, Test Precision: 13.73%, Time: 1.04 sec:   0%|          | 1/1000 [00:02<36:27,  2.19s/epoch]"
          ]
        },
        {
          "output_type": "stream",
          "name": "stdout",
          "text": [
            "Early stopping triggered at epoch 2\n",
            "Model GRU-FastText_K-70 saved with loss gap > 1.25 or accuracy gap > 10% at epoch 1.\n",
            "\n",
            "Training with 80-shot...\n"
          ]
        },
        {
          "output_type": "stream",
          "name": "stderr",
          "text": [
            "\n",
            "<ipython-input-10-f03193db776b>:44: UserWarning: To copy construct from a tensor, it is recommended to use sourceTensor.clone().detach() or sourceTensor.clone().detach().requires_grad_(True), rather than torch.tensor(sourceTensor).\n",
            "  self.X = torch.tensor(X_data, dtype=torch.long)\n",
            "<ipython-input-10-f03193db776b>:45: UserWarning: To copy construct from a tensor, it is recommended to use sourceTensor.clone().detach() or sourceTensor.clone().detach().requires_grad_(True), rather than torch.tensor(sourceTensor).\n",
            "  self.y = torch.tensor(y_data, dtype=torch.long)\n"
          ]
        },
        {
          "output_type": "display_data",
          "data": {
            "text/plain": [
              "<IPython.core.display.HTML object>"
            ],
            "text/html": [
              "Finishing previous runs because reinit is set to 'default'."
            ]
          },
          "metadata": {}
        },
        {
          "output_type": "display_data",
          "data": {
            "text/plain": [
              "<IPython.core.display.HTML object>"
            ],
            "text/html": []
          },
          "metadata": {}
        },
        {
          "output_type": "display_data",
          "data": {
            "text/plain": [
              "<IPython.core.display.HTML object>"
            ],
            "text/html": [
              "<br>    <style><br>        .wandb-row {<br>            display: flex;<br>            flex-direction: row;<br>            flex-wrap: wrap;<br>            justify-content: flex-start;<br>            width: 100%;<br>        }<br>        .wandb-col {<br>            display: flex;<br>            flex-direction: column;<br>            flex-basis: 100%;<br>            flex: 1;<br>            padding: 10px;<br>        }<br>    </style><br><div class=\"wandb-row\"><div class=\"wandb-col\"><h3>Run history:</h3><br/><table class=\"wandb\"><tr><td>epoch</td><td>▁█</td></tr><tr><td>k_shot</td><td>▁▁</td></tr><tr><td>test_acc</td><td>█▁</td></tr><tr><td>test_balanced_acc</td><td>█▁</td></tr><tr><td>test_f1</td><td>█▁</td></tr><tr><td>test_loss</td><td>█▁</td></tr><tr><td>test_precision</td><td>█▁</td></tr><tr><td>test_recall</td><td>█▁</td></tr><tr><td>train_acc</td><td>▁█</td></tr><tr><td>train_loss</td><td>█▁</td></tr></table><br/></div><div class=\"wandb-col\"><h3>Run summary:</h3><br/><table class=\"wandb\"><tr><td>epoch</td><td>2</td></tr><tr><td>k_shot</td><td>70</td></tr><tr><td>test_acc</td><td>0.06795</td></tr><tr><td>test_balanced_acc</td><td>0.11114</td></tr><tr><td>test_f1</td><td>0.0093</td></tr><tr><td>test_loss</td><td>2.21311</td></tr><tr><td>test_precision</td><td>0.12714</td></tr><tr><td>test_recall</td><td>0.06795</td></tr><tr><td>train_acc</td><td>0.12381</td></tr><tr><td>train_loss</td><td>2.25443</td></tr></table><br/></div></div>"
            ]
          },
          "metadata": {}
        },
        {
          "output_type": "display_data",
          "data": {
            "text/plain": [
              "<IPython.core.display.HTML object>"
            ],
            "text/html": [
              " View run <strong style=\"color:#cdcd00\">GRU-FastText_K-70_Training</strong> at: <a href='https://wandb.ai/wilfried-mvomoeto-university-of-li-ge/Few-Shot-Training_gru_glove_fastText_Bahdanau_Multi-GRU-FastText-/runs/3rv4l56f' target=\"_blank\">https://wandb.ai/wilfried-mvomoeto-university-of-li-ge/Few-Shot-Training_gru_glove_fastText_Bahdanau_Multi-GRU-FastText-/runs/3rv4l56f</a><br> View project at: <a href='https://wandb.ai/wilfried-mvomoeto-university-of-li-ge/Few-Shot-Training_gru_glove_fastText_Bahdanau_Multi-GRU-FastText-' target=\"_blank\">https://wandb.ai/wilfried-mvomoeto-university-of-li-ge/Few-Shot-Training_gru_glove_fastText_Bahdanau_Multi-GRU-FastText-</a><br>Synced 5 W&B file(s), 0 media file(s), 0 artifact file(s) and 0 other file(s)"
            ]
          },
          "metadata": {}
        },
        {
          "output_type": "display_data",
          "data": {
            "text/plain": [
              "<IPython.core.display.HTML object>"
            ],
            "text/html": [
              "Find logs at: <code>./wandb/run-20250514_094159-3rv4l56f/logs</code>"
            ]
          },
          "metadata": {}
        },
        {
          "output_type": "display_data",
          "data": {
            "text/plain": [
              "<IPython.core.display.HTML object>"
            ],
            "text/html": [
              "Tracking run with wandb version 0.19.11"
            ]
          },
          "metadata": {}
        },
        {
          "output_type": "display_data",
          "data": {
            "text/plain": [
              "<IPython.core.display.HTML object>"
            ],
            "text/html": [
              "Run data is saved locally in <code>/content/wandb/run-20250514_094203-d0psm9kh</code>"
            ]
          },
          "metadata": {}
        },
        {
          "output_type": "display_data",
          "data": {
            "text/plain": [
              "<IPython.core.display.HTML object>"
            ],
            "text/html": [
              "Syncing run <strong><a href='https://wandb.ai/wilfried-mvomoeto-university-of-li-ge/Few-Shot-Training_gru_glove_fastText_Bahdanau_Multi-GRU-Bah-Glove-/runs/d0psm9kh' target=\"_blank\">GRU-Bah-Glove_K-80_Training</a></strong> to <a href='https://wandb.ai/wilfried-mvomoeto-university-of-li-ge/Few-Shot-Training_gru_glove_fastText_Bahdanau_Multi-GRU-Bah-Glove-' target=\"_blank\">Weights & Biases</a> (<a href='https://wandb.me/developer-guide' target=\"_blank\">docs</a>)<br>"
            ]
          },
          "metadata": {}
        },
        {
          "output_type": "display_data",
          "data": {
            "text/plain": [
              "<IPython.core.display.HTML object>"
            ],
            "text/html": [
              " View project at <a href='https://wandb.ai/wilfried-mvomoeto-university-of-li-ge/Few-Shot-Training_gru_glove_fastText_Bahdanau_Multi-GRU-Bah-Glove-' target=\"_blank\">https://wandb.ai/wilfried-mvomoeto-university-of-li-ge/Few-Shot-Training_gru_glove_fastText_Bahdanau_Multi-GRU-Bah-Glove-</a>"
            ]
          },
          "metadata": {}
        },
        {
          "output_type": "display_data",
          "data": {
            "text/plain": [
              "<IPython.core.display.HTML object>"
            ],
            "text/html": [
              " View run at <a href='https://wandb.ai/wilfried-mvomoeto-university-of-li-ge/Few-Shot-Training_gru_glove_fastText_Bahdanau_Multi-GRU-Bah-Glove-/runs/d0psm9kh' target=\"_blank\">https://wandb.ai/wilfried-mvomoeto-university-of-li-ge/Few-Shot-Training_gru_glove_fastText_Bahdanau_Multi-GRU-Bah-Glove-/runs/d0psm9kh</a>"
            ]
          },
          "metadata": {}
        },
        {
          "output_type": "stream",
          "name": "stderr",
          "text": [
            "GRU-Bah-Glove K-80 Epoch 28/1000 - Train Loss: 0.6685, Test Loss: 0.7533, Train Acc: 82.78%, Test Acc: 77.82%, Test F1: 78.25%, Test Balanced Acc: 78.53%, Test Recall: 77.82%, Test Precision: 80.43%, Time: 1.45 sec:   3%|▎         | 28/1000 [00:42<24:48,  1.53s/epoch]"
          ]
        },
        {
          "output_type": "stream",
          "name": "stdout",
          "text": [
            "Early stopping triggered at epoch 29\n",
            "Model GRU-Bah-Glove_K-80 saved with loss gap > 1.25 or accuracy gap > 10% at epoch 28.\n"
          ]
        },
        {
          "output_type": "stream",
          "name": "stderr",
          "text": [
            "\n",
            "<ipython-input-10-f03193db776b>:44: UserWarning: To copy construct from a tensor, it is recommended to use sourceTensor.clone().detach() or sourceTensor.clone().detach().requires_grad_(True), rather than torch.tensor(sourceTensor).\n",
            "  self.X = torch.tensor(X_data, dtype=torch.long)\n",
            "<ipython-input-10-f03193db776b>:45: UserWarning: To copy construct from a tensor, it is recommended to use sourceTensor.clone().detach() or sourceTensor.clone().detach().requires_grad_(True), rather than torch.tensor(sourceTensor).\n",
            "  self.y = torch.tensor(y_data, dtype=torch.long)\n"
          ]
        },
        {
          "output_type": "display_data",
          "data": {
            "text/plain": [
              "<IPython.core.display.HTML object>"
            ],
            "text/html": [
              "Finishing previous runs because reinit is set to 'default'."
            ]
          },
          "metadata": {}
        },
        {
          "output_type": "display_data",
          "data": {
            "text/plain": [
              "<IPython.core.display.HTML object>"
            ],
            "text/html": []
          },
          "metadata": {}
        },
        {
          "output_type": "display_data",
          "data": {
            "text/plain": [
              "<IPython.core.display.HTML object>"
            ],
            "text/html": [
              "<br>    <style><br>        .wandb-row {<br>            display: flex;<br>            flex-direction: row;<br>            flex-wrap: wrap;<br>            justify-content: flex-start;<br>            width: 100%;<br>        }<br>        .wandb-col {<br>            display: flex;<br>            flex-direction: column;<br>            flex-basis: 100%;<br>            flex: 1;<br>            padding: 10px;<br>        }<br>    </style><br><div class=\"wandb-row\"><div class=\"wandb-col\"><h3>Run history:</h3><br/><table class=\"wandb\"><tr><td>epoch</td><td>▁▁▁▂▂▂▃▃▃▃▃▄▄▄▅▅▅▅▅▆▆▆▇▇▇▇▇██</td></tr><tr><td>k_shot</td><td>▁▁▁▁▁▁▁▁▁▁▁▁▁▁▁▁▁▁▁▁▁▁▁▁▁▁▁▁▁</td></tr><tr><td>test_acc</td><td>▁▁▁▂▂▂▄▄▄▅▅▆▆▆▆▇▇▇▇▇▇▇███████</td></tr><tr><td>test_balanced_acc</td><td>▁▁▂▂▂▃▄▄▄▅▅▆▆▆▆▇▇▇▇▇▇▇███████</td></tr><tr><td>test_f1</td><td>▁▁▁▁▂▂▃▃▄▄▅▅▅▆▆▇▇▇▇▇▇▇███████</td></tr><tr><td>test_loss</td><td>█████▇▇▆▆▅▅▅▄▄▄▃▃▃▃▂▂▂▂▂▁▁▁▁▁</td></tr><tr><td>test_precision</td><td>▁▁▁▂▂▃▃▄▄▄▅▅▅▆▆▇▇▇▇▇▇▇███████</td></tr><tr><td>test_recall</td><td>▁▁▁▂▂▂▄▄▄▅▅▆▆▆▆▇▇▇▇▇▇▇███████</td></tr><tr><td>train_acc</td><td>▁▁▁▁▂▂▂▃▃▄▄▄▅▅▅▆▆▆▆▇▇▇▇▇▇████</td></tr><tr><td>train_loss</td><td>████▇▇▇▆▆▆▅▅▅▄▄▄▃▃▃▃▂▂▂▂▂▂▁▁▁</td></tr></table><br/></div><div class=\"wandb-col\"><h3>Run summary:</h3><br/><table class=\"wandb\"><tr><td>epoch</td><td>29</td></tr><tr><td>k_shot</td><td>80</td></tr><tr><td>test_acc</td><td>0.78061</td></tr><tr><td>test_balanced_acc</td><td>0.78778</td></tr><tr><td>test_f1</td><td>0.78448</td></tr><tr><td>test_loss</td><td>0.74195</td></tr><tr><td>test_precision</td><td>0.80466</td></tr><tr><td>test_recall</td><td>0.78061</td></tr><tr><td>train_acc</td><td>0.84167</td></tr><tr><td>train_loss</td><td>0.62651</td></tr></table><br/></div></div>"
            ]
          },
          "metadata": {}
        },
        {
          "output_type": "display_data",
          "data": {
            "text/plain": [
              "<IPython.core.display.HTML object>"
            ],
            "text/html": [
              " View run <strong style=\"color:#cdcd00\">GRU-Bah-Glove_K-80_Training</strong> at: <a href='https://wandb.ai/wilfried-mvomoeto-university-of-li-ge/Few-Shot-Training_gru_glove_fastText_Bahdanau_Multi-GRU-Bah-Glove-/runs/d0psm9kh' target=\"_blank\">https://wandb.ai/wilfried-mvomoeto-university-of-li-ge/Few-Shot-Training_gru_glove_fastText_Bahdanau_Multi-GRU-Bah-Glove-/runs/d0psm9kh</a><br> View project at: <a href='https://wandb.ai/wilfried-mvomoeto-university-of-li-ge/Few-Shot-Training_gru_glove_fastText_Bahdanau_Multi-GRU-Bah-Glove-' target=\"_blank\">https://wandb.ai/wilfried-mvomoeto-university-of-li-ge/Few-Shot-Training_gru_glove_fastText_Bahdanau_Multi-GRU-Bah-Glove-</a><br>Synced 5 W&B file(s), 0 media file(s), 0 artifact file(s) and 0 other file(s)"
            ]
          },
          "metadata": {}
        },
        {
          "output_type": "display_data",
          "data": {
            "text/plain": [
              "<IPython.core.display.HTML object>"
            ],
            "text/html": [
              "Find logs at: <code>./wandb/run-20250514_094203-d0psm9kh/logs</code>"
            ]
          },
          "metadata": {}
        },
        {
          "output_type": "display_data",
          "data": {
            "text/plain": [
              "<IPython.core.display.HTML object>"
            ],
            "text/html": [
              "Tracking run with wandb version 0.19.11"
            ]
          },
          "metadata": {}
        },
        {
          "output_type": "display_data",
          "data": {
            "text/plain": [
              "<IPython.core.display.HTML object>"
            ],
            "text/html": [
              "Run data is saved locally in <code>/content/wandb/run-20250514_094248-jzhv7iib</code>"
            ]
          },
          "metadata": {}
        },
        {
          "output_type": "display_data",
          "data": {
            "text/plain": [
              "<IPython.core.display.HTML object>"
            ],
            "text/html": [
              "Syncing run <strong><a href='https://wandb.ai/wilfried-mvomoeto-university-of-li-ge/Few-Shot-Training_gru_glove_fastText_Bahdanau_Multi-GRU-Bah-FastText-/runs/jzhv7iib' target=\"_blank\">GRU-Bah-FastText_K-80_Training</a></strong> to <a href='https://wandb.ai/wilfried-mvomoeto-university-of-li-ge/Few-Shot-Training_gru_glove_fastText_Bahdanau_Multi-GRU-Bah-FastText-' target=\"_blank\">Weights & Biases</a> (<a href='https://wandb.me/developer-guide' target=\"_blank\">docs</a>)<br>"
            ]
          },
          "metadata": {}
        },
        {
          "output_type": "display_data",
          "data": {
            "text/plain": [
              "<IPython.core.display.HTML object>"
            ],
            "text/html": [
              " View project at <a href='https://wandb.ai/wilfried-mvomoeto-university-of-li-ge/Few-Shot-Training_gru_glove_fastText_Bahdanau_Multi-GRU-Bah-FastText-' target=\"_blank\">https://wandb.ai/wilfried-mvomoeto-university-of-li-ge/Few-Shot-Training_gru_glove_fastText_Bahdanau_Multi-GRU-Bah-FastText-</a>"
            ]
          },
          "metadata": {}
        },
        {
          "output_type": "display_data",
          "data": {
            "text/plain": [
              "<IPython.core.display.HTML object>"
            ],
            "text/html": [
              " View run at <a href='https://wandb.ai/wilfried-mvomoeto-university-of-li-ge/Few-Shot-Training_gru_glove_fastText_Bahdanau_Multi-GRU-Bah-FastText-/runs/jzhv7iib' target=\"_blank\">https://wandb.ai/wilfried-mvomoeto-university-of-li-ge/Few-Shot-Training_gru_glove_fastText_Bahdanau_Multi-GRU-Bah-FastText-/runs/jzhv7iib</a>"
            ]
          },
          "metadata": {}
        },
        {
          "output_type": "stream",
          "name": "stderr",
          "text": [
            "GRU-Bah-FastText K-80 Epoch 24/1000 - Train Loss: 0.7798, Test Loss: 0.8725, Train Acc: 75.97%, Test Acc: 71.11%, Test F1: 71.16%, Test Balanced Acc: 72.22%, Test Recall: 71.11%, Test Precision: 71.79%, Time: 1.55 sec:   2%|▏         | 24/1000 [00:37<25:09,  1.55s/epoch]"
          ]
        },
        {
          "output_type": "stream",
          "name": "stdout",
          "text": [
            "Early stopping triggered at epoch 25\n",
            "Model GRU-Bah-FastText_K-80 saved with loss gap > 1.25 or accuracy gap > 10% at epoch 24.\n"
          ]
        },
        {
          "output_type": "stream",
          "name": "stderr",
          "text": [
            "\n",
            "<ipython-input-10-f03193db776b>:44: UserWarning: To copy construct from a tensor, it is recommended to use sourceTensor.clone().detach() or sourceTensor.clone().detach().requires_grad_(True), rather than torch.tensor(sourceTensor).\n",
            "  self.X = torch.tensor(X_data, dtype=torch.long)\n",
            "<ipython-input-10-f03193db776b>:45: UserWarning: To copy construct from a tensor, it is recommended to use sourceTensor.clone().detach() or sourceTensor.clone().detach().requires_grad_(True), rather than torch.tensor(sourceTensor).\n",
            "  self.y = torch.tensor(y_data, dtype=torch.long)\n"
          ]
        },
        {
          "output_type": "display_data",
          "data": {
            "text/plain": [
              "<IPython.core.display.HTML object>"
            ],
            "text/html": [
              "Finishing previous runs because reinit is set to 'default'."
            ]
          },
          "metadata": {}
        },
        {
          "output_type": "display_data",
          "data": {
            "text/plain": [
              "<IPython.core.display.HTML object>"
            ],
            "text/html": []
          },
          "metadata": {}
        },
        {
          "output_type": "display_data",
          "data": {
            "text/plain": [
              "<IPython.core.display.HTML object>"
            ],
            "text/html": [
              "<br>    <style><br>        .wandb-row {<br>            display: flex;<br>            flex-direction: row;<br>            flex-wrap: wrap;<br>            justify-content: flex-start;<br>            width: 100%;<br>        }<br>        .wandb-col {<br>            display: flex;<br>            flex-direction: column;<br>            flex-basis: 100%;<br>            flex: 1;<br>            padding: 10px;<br>        }<br>    </style><br><div class=\"wandb-row\"><div class=\"wandb-col\"><h3>Run history:</h3><br/><table class=\"wandb\"><tr><td>epoch</td><td>▁▁▂▂▂▂▃▃▃▄▄▄▅▅▅▅▆▆▆▇▇▇▇██</td></tr><tr><td>k_shot</td><td>▁▁▁▁▁▁▁▁▁▁▁▁▁▁▁▁▁▁▁▁▁▁▁▁▁</td></tr><tr><td>test_acc</td><td>▁▁▁▁▂▃▄▄▅▅▆▆▆▇▇██████████</td></tr><tr><td>test_balanced_acc</td><td>▁▁▁▁▂▃▄▄▅▆▆▆▆▇▇██████████</td></tr><tr><td>test_f1</td><td>▁▁▁▁▂▂▄▄▄▅▆▆▆▇▇▇█████████</td></tr><tr><td>test_loss</td><td>█▇▇▇▇▆▆▅▅▄▄▄▃▃▃▂▂▂▁▁▁▁▁▁▁</td></tr><tr><td>test_precision</td><td>▁▁▁▂▃▃▄▄▅▅▅▆▆▇▇▇█████████</td></tr><tr><td>test_recall</td><td>▁▁▁▁▂▃▄▄▅▅▆▆▆▇▇██████████</td></tr><tr><td>train_acc</td><td>▁▂▂▂▃▃▄▄▄▅▅▅▆▆▆▆▇▇▇█▇████</td></tr><tr><td>train_loss</td><td>█▇▇▆▆▆▅▅▄▄▄▄▃▃▃▃▂▂▂▂▂▁▁▁▁</td></tr></table><br/></div><div class=\"wandb-col\"><h3>Run summary:</h3><br/><table class=\"wandb\"><tr><td>epoch</td><td>25</td></tr><tr><td>k_shot</td><td>80</td></tr><tr><td>test_acc</td><td>0.71628</td></tr><tr><td>test_balanced_acc</td><td>0.72627</td></tr><tr><td>test_f1</td><td>0.71785</td></tr><tr><td>test_loss</td><td>0.85654</td></tr><tr><td>test_precision</td><td>0.72694</td></tr><tr><td>test_recall</td><td>0.71628</td></tr><tr><td>train_acc</td><td>0.76667</td></tr><tr><td>train_loss</td><td>0.74778</td></tr></table><br/></div></div>"
            ]
          },
          "metadata": {}
        },
        {
          "output_type": "display_data",
          "data": {
            "text/plain": [
              "<IPython.core.display.HTML object>"
            ],
            "text/html": [
              " View run <strong style=\"color:#cdcd00\">GRU-Bah-FastText_K-80_Training</strong> at: <a href='https://wandb.ai/wilfried-mvomoeto-university-of-li-ge/Few-Shot-Training_gru_glove_fastText_Bahdanau_Multi-GRU-Bah-FastText-/runs/jzhv7iib' target=\"_blank\">https://wandb.ai/wilfried-mvomoeto-university-of-li-ge/Few-Shot-Training_gru_glove_fastText_Bahdanau_Multi-GRU-Bah-FastText-/runs/jzhv7iib</a><br> View project at: <a href='https://wandb.ai/wilfried-mvomoeto-university-of-li-ge/Few-Shot-Training_gru_glove_fastText_Bahdanau_Multi-GRU-Bah-FastText-' target=\"_blank\">https://wandb.ai/wilfried-mvomoeto-university-of-li-ge/Few-Shot-Training_gru_glove_fastText_Bahdanau_Multi-GRU-Bah-FastText-</a><br>Synced 5 W&B file(s), 0 media file(s), 0 artifact file(s) and 0 other file(s)"
            ]
          },
          "metadata": {}
        },
        {
          "output_type": "display_data",
          "data": {
            "text/plain": [
              "<IPython.core.display.HTML object>"
            ],
            "text/html": [
              "Find logs at: <code>./wandb/run-20250514_094248-jzhv7iib/logs</code>"
            ]
          },
          "metadata": {}
        },
        {
          "output_type": "display_data",
          "data": {
            "text/plain": [
              "<IPython.core.display.HTML object>"
            ],
            "text/html": [
              "Tracking run with wandb version 0.19.11"
            ]
          },
          "metadata": {}
        },
        {
          "output_type": "display_data",
          "data": {
            "text/plain": [
              "<IPython.core.display.HTML object>"
            ],
            "text/html": [
              "Run data is saved locally in <code>/content/wandb/run-20250514_094327-fykp2mf4</code>"
            ]
          },
          "metadata": {}
        },
        {
          "output_type": "display_data",
          "data": {
            "text/plain": [
              "<IPython.core.display.HTML object>"
            ],
            "text/html": [
              "Syncing run <strong><a href='https://wandb.ai/wilfried-mvomoeto-university-of-li-ge/Few-Shot-Training_gru_glove_fastText_Bahdanau_Multi-CNN_LSTM-/runs/fykp2mf4' target=\"_blank\">CNN_LSTM_K-80_Training</a></strong> to <a href='https://wandb.ai/wilfried-mvomoeto-university-of-li-ge/Few-Shot-Training_gru_glove_fastText_Bahdanau_Multi-CNN_LSTM-' target=\"_blank\">Weights & Biases</a> (<a href='https://wandb.me/developer-guide' target=\"_blank\">docs</a>)<br>"
            ]
          },
          "metadata": {}
        },
        {
          "output_type": "display_data",
          "data": {
            "text/plain": [
              "<IPython.core.display.HTML object>"
            ],
            "text/html": [
              " View project at <a href='https://wandb.ai/wilfried-mvomoeto-university-of-li-ge/Few-Shot-Training_gru_glove_fastText_Bahdanau_Multi-CNN_LSTM-' target=\"_blank\">https://wandb.ai/wilfried-mvomoeto-university-of-li-ge/Few-Shot-Training_gru_glove_fastText_Bahdanau_Multi-CNN_LSTM-</a>"
            ]
          },
          "metadata": {}
        },
        {
          "output_type": "display_data",
          "data": {
            "text/plain": [
              "<IPython.core.display.HTML object>"
            ],
            "text/html": [
              " View run at <a href='https://wandb.ai/wilfried-mvomoeto-university-of-li-ge/Few-Shot-Training_gru_glove_fastText_Bahdanau_Multi-CNN_LSTM-/runs/fykp2mf4' target=\"_blank\">https://wandb.ai/wilfried-mvomoeto-university-of-li-ge/Few-Shot-Training_gru_glove_fastText_Bahdanau_Multi-CNN_LSTM-/runs/fykp2mf4</a>"
            ]
          },
          "metadata": {}
        },
        {
          "output_type": "stream",
          "name": "stderr",
          "text": [
            "CNN_LSTM K-80 Epoch 1/1000 - Train Loss: 2.2146, Test Loss: 2.2117, Train Acc: 11.39%, Test Acc: 6.78%, Test F1: 0.86%, Test Balanced Acc: 11.11%, Test Recall: 6.78%, Test Precision: 0.46%, Time: 1.08 sec:   0%|          | 1/1000 [00:02<34:57,  2.10s/epoch]"
          ]
        },
        {
          "output_type": "stream",
          "name": "stdout",
          "text": [
            "Early stopping triggered at epoch 2\n",
            "Model CNN_LSTM_K-80 saved with loss gap > 1.25 or accuracy gap > 10% at epoch 1.\n"
          ]
        },
        {
          "output_type": "stream",
          "name": "stderr",
          "text": [
            "\n",
            "<ipython-input-10-f03193db776b>:44: UserWarning: To copy construct from a tensor, it is recommended to use sourceTensor.clone().detach() or sourceTensor.clone().detach().requires_grad_(True), rather than torch.tensor(sourceTensor).\n",
            "  self.X = torch.tensor(X_data, dtype=torch.long)\n",
            "<ipython-input-10-f03193db776b>:45: UserWarning: To copy construct from a tensor, it is recommended to use sourceTensor.clone().detach() or sourceTensor.clone().detach().requires_grad_(True), rather than torch.tensor(sourceTensor).\n",
            "  self.y = torch.tensor(y_data, dtype=torch.long)\n"
          ]
        },
        {
          "output_type": "display_data",
          "data": {
            "text/plain": [
              "<IPython.core.display.HTML object>"
            ],
            "text/html": [
              "Finishing previous runs because reinit is set to 'default'."
            ]
          },
          "metadata": {}
        },
        {
          "output_type": "display_data",
          "data": {
            "text/plain": [
              "<IPython.core.display.HTML object>"
            ],
            "text/html": []
          },
          "metadata": {}
        },
        {
          "output_type": "display_data",
          "data": {
            "text/plain": [
              "<IPython.core.display.HTML object>"
            ],
            "text/html": [
              "<br>    <style><br>        .wandb-row {<br>            display: flex;<br>            flex-direction: row;<br>            flex-wrap: wrap;<br>            justify-content: flex-start;<br>            width: 100%;<br>        }<br>        .wandb-col {<br>            display: flex;<br>            flex-direction: column;<br>            flex-basis: 100%;<br>            flex: 1;<br>            padding: 10px;<br>        }<br>    </style><br><div class=\"wandb-row\"><div class=\"wandb-col\"><h3>Run history:</h3><br/><table class=\"wandb\"><tr><td>epoch</td><td>▁█</td></tr><tr><td>k_shot</td><td>▁▁</td></tr><tr><td>test_acc</td><td>▁▁</td></tr><tr><td>test_balanced_acc</td><td>▁▁</td></tr><tr><td>test_f1</td><td>▁▁</td></tr><tr><td>test_loss</td><td>▁█</td></tr><tr><td>test_precision</td><td>▁▁</td></tr><tr><td>test_recall</td><td>▁▁</td></tr><tr><td>train_acc</td><td>▁█</td></tr><tr><td>train_loss</td><td>█▁</td></tr></table><br/></div><div class=\"wandb-col\"><h3>Run summary:</h3><br/><table class=\"wandb\"><tr><td>epoch</td><td>2</td></tr><tr><td>k_shot</td><td>80</td></tr><tr><td>test_acc</td><td>0.06778</td></tr><tr><td>test_balanced_acc</td><td>0.11111</td></tr><tr><td>test_f1</td><td>0.00861</td></tr><tr><td>test_loss</td><td>2.22636</td></tr><tr><td>test_precision</td><td>0.00459</td></tr><tr><td>test_recall</td><td>0.06778</td></tr><tr><td>train_acc</td><td>0.12083</td></tr><tr><td>train_loss</td><td>2.20178</td></tr></table><br/></div></div>"
            ]
          },
          "metadata": {}
        },
        {
          "output_type": "display_data",
          "data": {
            "text/plain": [
              "<IPython.core.display.HTML object>"
            ],
            "text/html": [
              " View run <strong style=\"color:#cdcd00\">CNN_LSTM_K-80_Training</strong> at: <a href='https://wandb.ai/wilfried-mvomoeto-university-of-li-ge/Few-Shot-Training_gru_glove_fastText_Bahdanau_Multi-CNN_LSTM-/runs/fykp2mf4' target=\"_blank\">https://wandb.ai/wilfried-mvomoeto-university-of-li-ge/Few-Shot-Training_gru_glove_fastText_Bahdanau_Multi-CNN_LSTM-/runs/fykp2mf4</a><br> View project at: <a href='https://wandb.ai/wilfried-mvomoeto-university-of-li-ge/Few-Shot-Training_gru_glove_fastText_Bahdanau_Multi-CNN_LSTM-' target=\"_blank\">https://wandb.ai/wilfried-mvomoeto-university-of-li-ge/Few-Shot-Training_gru_glove_fastText_Bahdanau_Multi-CNN_LSTM-</a><br>Synced 5 W&B file(s), 0 media file(s), 0 artifact file(s) and 0 other file(s)"
            ]
          },
          "metadata": {}
        },
        {
          "output_type": "display_data",
          "data": {
            "text/plain": [
              "<IPython.core.display.HTML object>"
            ],
            "text/html": [
              "Find logs at: <code>./wandb/run-20250514_094327-fykp2mf4/logs</code>"
            ]
          },
          "metadata": {}
        },
        {
          "output_type": "display_data",
          "data": {
            "text/plain": [
              "<IPython.core.display.HTML object>"
            ],
            "text/html": [
              "Tracking run with wandb version 0.19.11"
            ]
          },
          "metadata": {}
        },
        {
          "output_type": "display_data",
          "data": {
            "text/plain": [
              "<IPython.core.display.HTML object>"
            ],
            "text/html": [
              "Run data is saved locally in <code>/content/wandb/run-20250514_094331-lc6i94p9</code>"
            ]
          },
          "metadata": {}
        },
        {
          "output_type": "display_data",
          "data": {
            "text/plain": [
              "<IPython.core.display.HTML object>"
            ],
            "text/html": [
              "Syncing run <strong><a href='https://wandb.ai/wilfried-mvomoeto-university-of-li-ge/Few-Shot-Training_gru_glove_fastText_Bahdanau_Multi-GRU-Glove-/runs/lc6i94p9' target=\"_blank\">GRU-Glove_K-80_Training</a></strong> to <a href='https://wandb.ai/wilfried-mvomoeto-university-of-li-ge/Few-Shot-Training_gru_glove_fastText_Bahdanau_Multi-GRU-Glove-' target=\"_blank\">Weights & Biases</a> (<a href='https://wandb.me/developer-guide' target=\"_blank\">docs</a>)<br>"
            ]
          },
          "metadata": {}
        },
        {
          "output_type": "display_data",
          "data": {
            "text/plain": [
              "<IPython.core.display.HTML object>"
            ],
            "text/html": [
              " View project at <a href='https://wandb.ai/wilfried-mvomoeto-university-of-li-ge/Few-Shot-Training_gru_glove_fastText_Bahdanau_Multi-GRU-Glove-' target=\"_blank\">https://wandb.ai/wilfried-mvomoeto-university-of-li-ge/Few-Shot-Training_gru_glove_fastText_Bahdanau_Multi-GRU-Glove-</a>"
            ]
          },
          "metadata": {}
        },
        {
          "output_type": "display_data",
          "data": {
            "text/plain": [
              "<IPython.core.display.HTML object>"
            ],
            "text/html": [
              " View run at <a href='https://wandb.ai/wilfried-mvomoeto-university-of-li-ge/Few-Shot-Training_gru_glove_fastText_Bahdanau_Multi-GRU-Glove-/runs/lc6i94p9' target=\"_blank\">https://wandb.ai/wilfried-mvomoeto-university-of-li-ge/Few-Shot-Training_gru_glove_fastText_Bahdanau_Multi-GRU-Glove-/runs/lc6i94p9</a>"
            ]
          },
          "metadata": {}
        },
        {
          "output_type": "stream",
          "name": "stderr",
          "text": [
            "GRU-Glove K-80 Epoch 1/1000 - Train Loss: 2.2714, Test Loss: 2.2636, Train Acc: 11.53%, Test Acc: 6.78%, Test F1: 0.93%, Test Balanced Acc: 11.09%, Test Recall: 6.78%, Test Precision: 10.68%, Time: 0.96 sec:   0%|          | 1/1000 [00:01<32:49,  1.97s/epoch]"
          ]
        },
        {
          "output_type": "stream",
          "name": "stdout",
          "text": [
            "Early stopping triggered at epoch 2\n",
            "Model GRU-Glove_K-80 saved with loss gap > 1.25 or accuracy gap > 10% at epoch 1.\n"
          ]
        },
        {
          "output_type": "stream",
          "name": "stderr",
          "text": [
            "\n",
            "<ipython-input-10-f03193db776b>:44: UserWarning: To copy construct from a tensor, it is recommended to use sourceTensor.clone().detach() or sourceTensor.clone().detach().requires_grad_(True), rather than torch.tensor(sourceTensor).\n",
            "  self.X = torch.tensor(X_data, dtype=torch.long)\n",
            "<ipython-input-10-f03193db776b>:45: UserWarning: To copy construct from a tensor, it is recommended to use sourceTensor.clone().detach() or sourceTensor.clone().detach().requires_grad_(True), rather than torch.tensor(sourceTensor).\n",
            "  self.y = torch.tensor(y_data, dtype=torch.long)\n"
          ]
        },
        {
          "output_type": "display_data",
          "data": {
            "text/plain": [
              "<IPython.core.display.HTML object>"
            ],
            "text/html": [
              "Finishing previous runs because reinit is set to 'default'."
            ]
          },
          "metadata": {}
        },
        {
          "output_type": "display_data",
          "data": {
            "text/plain": [
              "<IPython.core.display.HTML object>"
            ],
            "text/html": []
          },
          "metadata": {}
        },
        {
          "output_type": "display_data",
          "data": {
            "text/plain": [
              "<IPython.core.display.HTML object>"
            ],
            "text/html": [
              "<br>    <style><br>        .wandb-row {<br>            display: flex;<br>            flex-direction: row;<br>            flex-wrap: wrap;<br>            justify-content: flex-start;<br>            width: 100%;<br>        }<br>        .wandb-col {<br>            display: flex;<br>            flex-direction: column;<br>            flex-basis: 100%;<br>            flex: 1;<br>            padding: 10px;<br>        }<br>    </style><br><div class=\"wandb-row\"><div class=\"wandb-col\"><h3>Run history:</h3><br/><table class=\"wandb\"><tr><td>epoch</td><td>▁█</td></tr><tr><td>k_shot</td><td>▁▁</td></tr><tr><td>test_acc</td><td>█▁</td></tr><tr><td>test_balanced_acc</td><td>█▁</td></tr><tr><td>test_f1</td><td>█▁</td></tr><tr><td>test_loss</td><td>█▁</td></tr><tr><td>test_precision</td><td>█▁</td></tr><tr><td>test_recall</td><td>█▁</td></tr><tr><td>train_acc</td><td>▁█</td></tr><tr><td>train_loss</td><td>█▁</td></tr></table><br/></div><div class=\"wandb-col\"><h3>Run summary:</h3><br/><table class=\"wandb\"><tr><td>epoch</td><td>2</td></tr><tr><td>k_shot</td><td>80</td></tr><tr><td>test_acc</td><td>0.06744</td></tr><tr><td>test_balanced_acc</td><td>0.11029</td></tr><tr><td>test_f1</td><td>0.00924</td></tr><tr><td>test_loss</td><td>2.23964</td></tr><tr><td>test_precision</td><td>0.09658</td></tr><tr><td>test_recall</td><td>0.06744</td></tr><tr><td>train_acc</td><td>0.12222</td></tr><tr><td>train_loss</td><td>2.26868</td></tr></table><br/></div></div>"
            ]
          },
          "metadata": {}
        },
        {
          "output_type": "display_data",
          "data": {
            "text/plain": [
              "<IPython.core.display.HTML object>"
            ],
            "text/html": [
              " View run <strong style=\"color:#cdcd00\">GRU-Glove_K-80_Training</strong> at: <a href='https://wandb.ai/wilfried-mvomoeto-university-of-li-ge/Few-Shot-Training_gru_glove_fastText_Bahdanau_Multi-GRU-Glove-/runs/lc6i94p9' target=\"_blank\">https://wandb.ai/wilfried-mvomoeto-university-of-li-ge/Few-Shot-Training_gru_glove_fastText_Bahdanau_Multi-GRU-Glove-/runs/lc6i94p9</a><br> View project at: <a href='https://wandb.ai/wilfried-mvomoeto-university-of-li-ge/Few-Shot-Training_gru_glove_fastText_Bahdanau_Multi-GRU-Glove-' target=\"_blank\">https://wandb.ai/wilfried-mvomoeto-university-of-li-ge/Few-Shot-Training_gru_glove_fastText_Bahdanau_Multi-GRU-Glove-</a><br>Synced 5 W&B file(s), 0 media file(s), 0 artifact file(s) and 0 other file(s)"
            ]
          },
          "metadata": {}
        },
        {
          "output_type": "display_data",
          "data": {
            "text/plain": [
              "<IPython.core.display.HTML object>"
            ],
            "text/html": [
              "Find logs at: <code>./wandb/run-20250514_094331-lc6i94p9/logs</code>"
            ]
          },
          "metadata": {}
        },
        {
          "output_type": "display_data",
          "data": {
            "text/plain": [
              "<IPython.core.display.HTML object>"
            ],
            "text/html": [
              "Tracking run with wandb version 0.19.11"
            ]
          },
          "metadata": {}
        },
        {
          "output_type": "display_data",
          "data": {
            "text/plain": [
              "<IPython.core.display.HTML object>"
            ],
            "text/html": [
              "Run data is saved locally in <code>/content/wandb/run-20250514_094335-j1l3o99g</code>"
            ]
          },
          "metadata": {}
        },
        {
          "output_type": "display_data",
          "data": {
            "text/plain": [
              "<IPython.core.display.HTML object>"
            ],
            "text/html": [
              "Syncing run <strong><a href='https://wandb.ai/wilfried-mvomoeto-university-of-li-ge/Few-Shot-Training_gru_glove_fastText_Bahdanau_Multi-GRU-FastText-/runs/j1l3o99g' target=\"_blank\">GRU-FastText_K-80_Training</a></strong> to <a href='https://wandb.ai/wilfried-mvomoeto-university-of-li-ge/Few-Shot-Training_gru_glove_fastText_Bahdanau_Multi-GRU-FastText-' target=\"_blank\">Weights & Biases</a> (<a href='https://wandb.me/developer-guide' target=\"_blank\">docs</a>)<br>"
            ]
          },
          "metadata": {}
        },
        {
          "output_type": "display_data",
          "data": {
            "text/plain": [
              "<IPython.core.display.HTML object>"
            ],
            "text/html": [
              " View project at <a href='https://wandb.ai/wilfried-mvomoeto-university-of-li-ge/Few-Shot-Training_gru_glove_fastText_Bahdanau_Multi-GRU-FastText-' target=\"_blank\">https://wandb.ai/wilfried-mvomoeto-university-of-li-ge/Few-Shot-Training_gru_glove_fastText_Bahdanau_Multi-GRU-FastText-</a>"
            ]
          },
          "metadata": {}
        },
        {
          "output_type": "display_data",
          "data": {
            "text/plain": [
              "<IPython.core.display.HTML object>"
            ],
            "text/html": [
              " View run at <a href='https://wandb.ai/wilfried-mvomoeto-university-of-li-ge/Few-Shot-Training_gru_glove_fastText_Bahdanau_Multi-GRU-FastText-/runs/j1l3o99g' target=\"_blank\">https://wandb.ai/wilfried-mvomoeto-university-of-li-ge/Few-Shot-Training_gru_glove_fastText_Bahdanau_Multi-GRU-FastText-/runs/j1l3o99g</a>"
            ]
          },
          "metadata": {}
        },
        {
          "output_type": "stream",
          "name": "stderr",
          "text": [
            "Training GRU-FastText with 80-shot:   0%|          | 0/1000 [00:01<?, ?epoch/s]"
          ]
        },
        {
          "output_type": "stream",
          "name": "stdout",
          "text": [
            "Early stopping triggered at epoch 1\n",
            "Model GRU-FastText_K-80 saved with loss gap > 1.25 or accuracy gap > 10% at epoch 0.\n",
            "\n",
            "Training with 100-shot...\n"
          ]
        },
        {
          "output_type": "stream",
          "name": "stderr",
          "text": [
            "\n",
            "<ipython-input-10-f03193db776b>:44: UserWarning: To copy construct from a tensor, it is recommended to use sourceTensor.clone().detach() or sourceTensor.clone().detach().requires_grad_(True), rather than torch.tensor(sourceTensor).\n",
            "  self.X = torch.tensor(X_data, dtype=torch.long)\n",
            "<ipython-input-10-f03193db776b>:45: UserWarning: To copy construct from a tensor, it is recommended to use sourceTensor.clone().detach() or sourceTensor.clone().detach().requires_grad_(True), rather than torch.tensor(sourceTensor).\n",
            "  self.y = torch.tensor(y_data, dtype=torch.long)\n"
          ]
        },
        {
          "output_type": "display_data",
          "data": {
            "text/plain": [
              "<IPython.core.display.HTML object>"
            ],
            "text/html": [
              "Finishing previous runs because reinit is set to 'default'."
            ]
          },
          "metadata": {}
        },
        {
          "output_type": "display_data",
          "data": {
            "text/plain": [
              "<IPython.core.display.HTML object>"
            ],
            "text/html": []
          },
          "metadata": {}
        },
        {
          "output_type": "display_data",
          "data": {
            "text/plain": [
              "<IPython.core.display.HTML object>"
            ],
            "text/html": [
              "<br>    <style><br>        .wandb-row {<br>            display: flex;<br>            flex-direction: row;<br>            flex-wrap: wrap;<br>            justify-content: flex-start;<br>            width: 100%;<br>        }<br>        .wandb-col {<br>            display: flex;<br>            flex-direction: column;<br>            flex-basis: 100%;<br>            flex: 1;<br>            padding: 10px;<br>        }<br>    </style><br><div class=\"wandb-row\"><div class=\"wandb-col\"><h3>Run history:</h3><br/><table class=\"wandb\"><tr><td>epoch</td><td>▁</td></tr><tr><td>k_shot</td><td>▁</td></tr><tr><td>test_acc</td><td>▁</td></tr><tr><td>test_balanced_acc</td><td>▁</td></tr><tr><td>test_f1</td><td>▁</td></tr><tr><td>test_loss</td><td>▁</td></tr><tr><td>test_precision</td><td>▁</td></tr><tr><td>test_recall</td><td>▁</td></tr><tr><td>train_acc</td><td>▁</td></tr><tr><td>train_loss</td><td>▁</td></tr></table><br/></div><div class=\"wandb-col\"><h3>Run summary:</h3><br/><table class=\"wandb\"><tr><td>epoch</td><td>1</td></tr><tr><td>k_shot</td><td>80</td></tr><tr><td>test_acc</td><td>0.06744</td></tr><tr><td>test_balanced_acc</td><td>0.11055</td></tr><tr><td>test_f1</td><td>0.00859</td></tr><tr><td>test_loss</td><td>2.26155</td></tr><tr><td>test_precision</td><td>0.00459</td></tr><tr><td>test_recall</td><td>0.06744</td></tr><tr><td>train_acc</td><td>0.12083</td></tr><tr><td>train_loss</td><td>2.25016</td></tr></table><br/></div></div>"
            ]
          },
          "metadata": {}
        },
        {
          "output_type": "display_data",
          "data": {
            "text/plain": [
              "<IPython.core.display.HTML object>"
            ],
            "text/html": [
              " View run <strong style=\"color:#cdcd00\">GRU-FastText_K-80_Training</strong> at: <a href='https://wandb.ai/wilfried-mvomoeto-university-of-li-ge/Few-Shot-Training_gru_glove_fastText_Bahdanau_Multi-GRU-FastText-/runs/j1l3o99g' target=\"_blank\">https://wandb.ai/wilfried-mvomoeto-university-of-li-ge/Few-Shot-Training_gru_glove_fastText_Bahdanau_Multi-GRU-FastText-/runs/j1l3o99g</a><br> View project at: <a href='https://wandb.ai/wilfried-mvomoeto-university-of-li-ge/Few-Shot-Training_gru_glove_fastText_Bahdanau_Multi-GRU-FastText-' target=\"_blank\">https://wandb.ai/wilfried-mvomoeto-university-of-li-ge/Few-Shot-Training_gru_glove_fastText_Bahdanau_Multi-GRU-FastText-</a><br>Synced 5 W&B file(s), 0 media file(s), 0 artifact file(s) and 0 other file(s)"
            ]
          },
          "metadata": {}
        },
        {
          "output_type": "display_data",
          "data": {
            "text/plain": [
              "<IPython.core.display.HTML object>"
            ],
            "text/html": [
              "Find logs at: <code>./wandb/run-20250514_094335-j1l3o99g/logs</code>"
            ]
          },
          "metadata": {}
        },
        {
          "output_type": "display_data",
          "data": {
            "text/plain": [
              "<IPython.core.display.HTML object>"
            ],
            "text/html": [
              "Tracking run with wandb version 0.19.11"
            ]
          },
          "metadata": {}
        },
        {
          "output_type": "display_data",
          "data": {
            "text/plain": [
              "<IPython.core.display.HTML object>"
            ],
            "text/html": [
              "Run data is saved locally in <code>/content/wandb/run-20250514_094338-fep8hbqp</code>"
            ]
          },
          "metadata": {}
        },
        {
          "output_type": "display_data",
          "data": {
            "text/plain": [
              "<IPython.core.display.HTML object>"
            ],
            "text/html": [
              "Syncing run <strong><a href='https://wandb.ai/wilfried-mvomoeto-university-of-li-ge/Few-Shot-Training_gru_glove_fastText_Bahdanau_Multi-GRU-Bah-Glove-/runs/fep8hbqp' target=\"_blank\">GRU-Bah-Glove_K-100_Training</a></strong> to <a href='https://wandb.ai/wilfried-mvomoeto-university-of-li-ge/Few-Shot-Training_gru_glove_fastText_Bahdanau_Multi-GRU-Bah-Glove-' target=\"_blank\">Weights & Biases</a> (<a href='https://wandb.me/developer-guide' target=\"_blank\">docs</a>)<br>"
            ]
          },
          "metadata": {}
        },
        {
          "output_type": "display_data",
          "data": {
            "text/plain": [
              "<IPython.core.display.HTML object>"
            ],
            "text/html": [
              " View project at <a href='https://wandb.ai/wilfried-mvomoeto-university-of-li-ge/Few-Shot-Training_gru_glove_fastText_Bahdanau_Multi-GRU-Bah-Glove-' target=\"_blank\">https://wandb.ai/wilfried-mvomoeto-university-of-li-ge/Few-Shot-Training_gru_glove_fastText_Bahdanau_Multi-GRU-Bah-Glove-</a>"
            ]
          },
          "metadata": {}
        },
        {
          "output_type": "display_data",
          "data": {
            "text/plain": [
              "<IPython.core.display.HTML object>"
            ],
            "text/html": [
              " View run at <a href='https://wandb.ai/wilfried-mvomoeto-university-of-li-ge/Few-Shot-Training_gru_glove_fastText_Bahdanau_Multi-GRU-Bah-Glove-/runs/fep8hbqp' target=\"_blank\">https://wandb.ai/wilfried-mvomoeto-university-of-li-ge/Few-Shot-Training_gru_glove_fastText_Bahdanau_Multi-GRU-Bah-Glove-/runs/fep8hbqp</a>"
            ]
          },
          "metadata": {}
        },
        {
          "output_type": "stream",
          "name": "stderr",
          "text": [
            "GRU-Bah-Glove K-100 Epoch 34/1000 - Train Loss: 0.6619, Test Loss: 0.8262, Train Acc: 80.22%, Test Acc: 75.37%, Test F1: 75.51%, Test Balanced Acc: 76.12%, Test Recall: 75.37%, Test Precision: 77.17%, Time: 1.68 sec:   3%|▎         | 34/1000 [00:57<27:01,  1.68s/epoch]"
          ]
        },
        {
          "output_type": "stream",
          "name": "stdout",
          "text": [
            "Early stopping triggered at epoch 35\n",
            "Model GRU-Bah-Glove_K-100 saved with loss gap > 1.25 or accuracy gap > 10% at epoch 34.\n"
          ]
        },
        {
          "output_type": "stream",
          "name": "stderr",
          "text": [
            "\n",
            "<ipython-input-10-f03193db776b>:44: UserWarning: To copy construct from a tensor, it is recommended to use sourceTensor.clone().detach() or sourceTensor.clone().detach().requires_grad_(True), rather than torch.tensor(sourceTensor).\n",
            "  self.X = torch.tensor(X_data, dtype=torch.long)\n",
            "<ipython-input-10-f03193db776b>:45: UserWarning: To copy construct from a tensor, it is recommended to use sourceTensor.clone().detach() or sourceTensor.clone().detach().requires_grad_(True), rather than torch.tensor(sourceTensor).\n",
            "  self.y = torch.tensor(y_data, dtype=torch.long)\n"
          ]
        },
        {
          "output_type": "display_data",
          "data": {
            "text/plain": [
              "<IPython.core.display.HTML object>"
            ],
            "text/html": [
              "Finishing previous runs because reinit is set to 'default'."
            ]
          },
          "metadata": {}
        },
        {
          "output_type": "display_data",
          "data": {
            "text/plain": [
              "<IPython.core.display.HTML object>"
            ],
            "text/html": []
          },
          "metadata": {}
        },
        {
          "output_type": "display_data",
          "data": {
            "text/plain": [
              "<IPython.core.display.HTML object>"
            ],
            "text/html": [
              "<br>    <style><br>        .wandb-row {<br>            display: flex;<br>            flex-direction: row;<br>            flex-wrap: wrap;<br>            justify-content: flex-start;<br>            width: 100%;<br>        }<br>        .wandb-col {<br>            display: flex;<br>            flex-direction: column;<br>            flex-basis: 100%;<br>            flex: 1;<br>            padding: 10px;<br>        }<br>    </style><br><div class=\"wandb-row\"><div class=\"wandb-col\"><h3>Run history:</h3><br/><table class=\"wandb\"><tr><td>epoch</td><td>▁▁▁▂▂▂▂▂▃▃▃▃▃▄▄▄▄▅▅▅▅▅▆▆▆▆▆▇▇▇▇▇███</td></tr><tr><td>k_shot</td><td>▁▁▁▁▁▁▁▁▁▁▁▁▁▁▁▁▁▁▁▁▁▁▁▁▁▁▁▁▁▁▁▁▁▁▁</td></tr><tr><td>test_acc</td><td>▁▁▁▂▂▂▂▂▃▄▄▅▅▅▅▅▅▆▆▆▇▇▇▇▇▇▇████████</td></tr><tr><td>test_balanced_acc</td><td>▁▁▁▂▂▂▂▃▃▄▅▅▅▅▅▆▆▆▆▇▇▇▇▇▇▇▇████████</td></tr><tr><td>test_f1</td><td>▁▁▁▂▂▂▂▂▃▄▄▄▅▅▅▅▅▆▆▆▇▇▇▇▇▇▇████████</td></tr><tr><td>test_loss</td><td>██████▇▇▇▇▆▆▅▅▄▄▄▄▄▃▃▃▂▂▂▂▂▂▂▂▁▁▁▁▁</td></tr><tr><td>test_precision</td><td>▁▁▁▂▂▂▂▃▃▄▄▅▅▅▅▅▅▆▆▆▇▇▇▇▇▇▇▇███████</td></tr><tr><td>test_recall</td><td>▁▁▁▂▂▂▂▂▃▄▄▅▅▅▅▅▅▆▆▆▇▇▇▇▇▇▇████████</td></tr><tr><td>train_acc</td><td>▁▁▁▁▂▂▂▂▂▃▃▄▄▄▅▅▅▆▆▆▆▆▇▇▇▇▇▇▇██████</td></tr><tr><td>train_loss</td><td>████▇▇▇▇▇▇▆▆▅▅▅▄▄▄▄▃▃▃▃▂▂▂▂▂▂▂▁▁▁▁▁</td></tr></table><br/></div><div class=\"wandb-col\"><h3>Run summary:</h3><br/><table class=\"wandb\"><tr><td>epoch</td><td>35</td></tr><tr><td>k_shot</td><td>100</td></tr><tr><td>test_acc</td><td>0.75561</td></tr><tr><td>test_balanced_acc</td><td>0.7625</td></tr><tr><td>test_f1</td><td>0.75689</td></tr><tr><td>test_loss</td><td>0.79978</td></tr><tr><td>test_precision</td><td>0.77683</td></tr><tr><td>test_recall</td><td>0.75561</td></tr><tr><td>train_acc</td><td>0.81778</td></tr><tr><td>train_loss</td><td>0.63346</td></tr></table><br/></div></div>"
            ]
          },
          "metadata": {}
        },
        {
          "output_type": "display_data",
          "data": {
            "text/plain": [
              "<IPython.core.display.HTML object>"
            ],
            "text/html": [
              " View run <strong style=\"color:#cdcd00\">GRU-Bah-Glove_K-100_Training</strong> at: <a href='https://wandb.ai/wilfried-mvomoeto-university-of-li-ge/Few-Shot-Training_gru_glove_fastText_Bahdanau_Multi-GRU-Bah-Glove-/runs/fep8hbqp' target=\"_blank\">https://wandb.ai/wilfried-mvomoeto-university-of-li-ge/Few-Shot-Training_gru_glove_fastText_Bahdanau_Multi-GRU-Bah-Glove-/runs/fep8hbqp</a><br> View project at: <a href='https://wandb.ai/wilfried-mvomoeto-university-of-li-ge/Few-Shot-Training_gru_glove_fastText_Bahdanau_Multi-GRU-Bah-Glove-' target=\"_blank\">https://wandb.ai/wilfried-mvomoeto-university-of-li-ge/Few-Shot-Training_gru_glove_fastText_Bahdanau_Multi-GRU-Bah-Glove-</a><br>Synced 5 W&B file(s), 0 media file(s), 0 artifact file(s) and 0 other file(s)"
            ]
          },
          "metadata": {}
        },
        {
          "output_type": "display_data",
          "data": {
            "text/plain": [
              "<IPython.core.display.HTML object>"
            ],
            "text/html": [
              "Find logs at: <code>./wandb/run-20250514_094338-fep8hbqp/logs</code>"
            ]
          },
          "metadata": {}
        },
        {
          "output_type": "display_data",
          "data": {
            "text/plain": [
              "<IPython.core.display.HTML object>"
            ],
            "text/html": [
              "Tracking run with wandb version 0.19.11"
            ]
          },
          "metadata": {}
        },
        {
          "output_type": "display_data",
          "data": {
            "text/plain": [
              "<IPython.core.display.HTML object>"
            ],
            "text/html": [
              "Run data is saved locally in <code>/content/wandb/run-20250514_094437-fvgf1dpj</code>"
            ]
          },
          "metadata": {}
        },
        {
          "output_type": "display_data",
          "data": {
            "text/plain": [
              "<IPython.core.display.HTML object>"
            ],
            "text/html": [
              "Syncing run <strong><a href='https://wandb.ai/wilfried-mvomoeto-university-of-li-ge/Few-Shot-Training_gru_glove_fastText_Bahdanau_Multi-GRU-Bah-FastText-/runs/fvgf1dpj' target=\"_blank\">GRU-Bah-FastText_K-100_Training</a></strong> to <a href='https://wandb.ai/wilfried-mvomoeto-university-of-li-ge/Few-Shot-Training_gru_glove_fastText_Bahdanau_Multi-GRU-Bah-FastText-' target=\"_blank\">Weights & Biases</a> (<a href='https://wandb.me/developer-guide' target=\"_blank\">docs</a>)<br>"
            ]
          },
          "metadata": {}
        },
        {
          "output_type": "display_data",
          "data": {
            "text/plain": [
              "<IPython.core.display.HTML object>"
            ],
            "text/html": [
              " View project at <a href='https://wandb.ai/wilfried-mvomoeto-university-of-li-ge/Few-Shot-Training_gru_glove_fastText_Bahdanau_Multi-GRU-Bah-FastText-' target=\"_blank\">https://wandb.ai/wilfried-mvomoeto-university-of-li-ge/Few-Shot-Training_gru_glove_fastText_Bahdanau_Multi-GRU-Bah-FastText-</a>"
            ]
          },
          "metadata": {}
        },
        {
          "output_type": "display_data",
          "data": {
            "text/plain": [
              "<IPython.core.display.HTML object>"
            ],
            "text/html": [
              " View run at <a href='https://wandb.ai/wilfried-mvomoeto-university-of-li-ge/Few-Shot-Training_gru_glove_fastText_Bahdanau_Multi-GRU-Bah-FastText-/runs/fvgf1dpj' target=\"_blank\">https://wandb.ai/wilfried-mvomoeto-university-of-li-ge/Few-Shot-Training_gru_glove_fastText_Bahdanau_Multi-GRU-Bah-FastText-/runs/fvgf1dpj</a>"
            ]
          },
          "metadata": {}
        },
        {
          "output_type": "stream",
          "name": "stderr",
          "text": [
            "GRU-Bah-FastText K-100 Epoch 32/1000 - Train Loss: 0.5002, Test Loss: 0.6076, Train Acc: 85.44%, Test Acc: 81.32%, Test F1: 82.30%, Test Balanced Acc: 81.88%, Test Recall: 81.32%, Test Precision: 84.65%, Time: 1.67 sec:   3%|▎         | 32/1000 [00:53<26:44,  1.66s/epoch]"
          ]
        },
        {
          "output_type": "stream",
          "name": "stdout",
          "text": [
            "Early stopping triggered at epoch 33\n",
            "Model GRU-Bah-FastText_K-100 saved with loss gap > 1.25 or accuracy gap > 10% at epoch 32.\n"
          ]
        },
        {
          "output_type": "stream",
          "name": "stderr",
          "text": [
            "\n",
            "<ipython-input-10-f03193db776b>:44: UserWarning: To copy construct from a tensor, it is recommended to use sourceTensor.clone().detach() or sourceTensor.clone().detach().requires_grad_(True), rather than torch.tensor(sourceTensor).\n",
            "  self.X = torch.tensor(X_data, dtype=torch.long)\n",
            "<ipython-input-10-f03193db776b>:45: UserWarning: To copy construct from a tensor, it is recommended to use sourceTensor.clone().detach() or sourceTensor.clone().detach().requires_grad_(True), rather than torch.tensor(sourceTensor).\n",
            "  self.y = torch.tensor(y_data, dtype=torch.long)\n"
          ]
        },
        {
          "output_type": "display_data",
          "data": {
            "text/plain": [
              "<IPython.core.display.HTML object>"
            ],
            "text/html": [
              "Finishing previous runs because reinit is set to 'default'."
            ]
          },
          "metadata": {}
        },
        {
          "output_type": "display_data",
          "data": {
            "text/plain": [
              "<IPython.core.display.HTML object>"
            ],
            "text/html": []
          },
          "metadata": {}
        },
        {
          "output_type": "display_data",
          "data": {
            "text/plain": [
              "<IPython.core.display.HTML object>"
            ],
            "text/html": [
              "<br>    <style><br>        .wandb-row {<br>            display: flex;<br>            flex-direction: row;<br>            flex-wrap: wrap;<br>            justify-content: flex-start;<br>            width: 100%;<br>        }<br>        .wandb-col {<br>            display: flex;<br>            flex-direction: column;<br>            flex-basis: 100%;<br>            flex: 1;<br>            padding: 10px;<br>        }<br>    </style><br><div class=\"wandb-row\"><div class=\"wandb-col\"><h3>Run history:</h3><br/><table class=\"wandb\"><tr><td>epoch</td><td>▁▁▁▂▂▂▂▃▃▃▃▃▄▄▄▄▅▅▅▅▅▆▆▆▆▆▇▇▇▇███</td></tr><tr><td>k_shot</td><td>▁▁▁▁▁▁▁▁▁▁▁▁▁▁▁▁▁▁▁▁▁▁▁▁▁▁▁▁▁▁▁▁▁</td></tr><tr><td>test_acc</td><td>▁▁▂▃▄▄▄▅▆▆▇▇▇▇▇▇▇▇███████████████</td></tr><tr><td>test_balanced_acc</td><td>▁▁▂▃▄▄▅▅▆▆▇▇▇▇▇▇▇▇███████████████</td></tr><tr><td>test_f1</td><td>▁▁▂▃▄▄▄▅▆▆▇▇▇▇▇▇▇▇███████████████</td></tr><tr><td>test_loss</td><td>███▇▇▆▆▆▅▅▄▄▃▃▂▂▂▂▂▂▁▁▁▁▁▁▁▁▁▁▁▁▁</td></tr><tr><td>test_precision</td><td>▁▁▂▃▄▄▅▆▆▇▇▇▇▇▇▇▇▇███████████████</td></tr><tr><td>test_recall</td><td>▁▁▂▃▄▄▄▅▆▆▇▇▇▇▇▇▇▇███████████████</td></tr><tr><td>train_acc</td><td>▁▁▁▂▂▃▃▃▄▄▅▅▆▆▆▆▇▇▇▇▇▇█▇█████████</td></tr><tr><td>train_loss</td><td>████▇▇▆▆▅▅▅▄▄▄▃▃▃▃▂▂▂▂▂▂▂▁▁▁▁▁▁▁▁</td></tr></table><br/></div><div class=\"wandb-col\"><h3>Run summary:</h3><br/><table class=\"wandb\"><tr><td>epoch</td><td>33</td></tr><tr><td>k_shot</td><td>100</td></tr><tr><td>test_acc</td><td>0.8177</td></tr><tr><td>test_balanced_acc</td><td>0.82292</td></tr><tr><td>test_f1</td><td>0.82917</td></tr><tr><td>test_loss</td><td>0.60647</td></tr><tr><td>test_precision</td><td>0.85381</td></tr><tr><td>test_recall</td><td>0.8177</td></tr><tr><td>train_acc</td><td>0.87</td></tr><tr><td>train_loss</td><td>0.46705</td></tr></table><br/></div></div>"
            ]
          },
          "metadata": {}
        },
        {
          "output_type": "display_data",
          "data": {
            "text/plain": [
              "<IPython.core.display.HTML object>"
            ],
            "text/html": [
              " View run <strong style=\"color:#cdcd00\">GRU-Bah-FastText_K-100_Training</strong> at: <a href='https://wandb.ai/wilfried-mvomoeto-university-of-li-ge/Few-Shot-Training_gru_glove_fastText_Bahdanau_Multi-GRU-Bah-FastText-/runs/fvgf1dpj' target=\"_blank\">https://wandb.ai/wilfried-mvomoeto-university-of-li-ge/Few-Shot-Training_gru_glove_fastText_Bahdanau_Multi-GRU-Bah-FastText-/runs/fvgf1dpj</a><br> View project at: <a href='https://wandb.ai/wilfried-mvomoeto-university-of-li-ge/Few-Shot-Training_gru_glove_fastText_Bahdanau_Multi-GRU-Bah-FastText-' target=\"_blank\">https://wandb.ai/wilfried-mvomoeto-university-of-li-ge/Few-Shot-Training_gru_glove_fastText_Bahdanau_Multi-GRU-Bah-FastText-</a><br>Synced 5 W&B file(s), 0 media file(s), 0 artifact file(s) and 0 other file(s)"
            ]
          },
          "metadata": {}
        },
        {
          "output_type": "display_data",
          "data": {
            "text/plain": [
              "<IPython.core.display.HTML object>"
            ],
            "text/html": [
              "Find logs at: <code>./wandb/run-20250514_094437-fvgf1dpj/logs</code>"
            ]
          },
          "metadata": {}
        },
        {
          "output_type": "display_data",
          "data": {
            "text/plain": [
              "<IPython.core.display.HTML object>"
            ],
            "text/html": [
              "Tracking run with wandb version 0.19.11"
            ]
          },
          "metadata": {}
        },
        {
          "output_type": "display_data",
          "data": {
            "text/plain": [
              "<IPython.core.display.HTML object>"
            ],
            "text/html": [
              "Run data is saved locally in <code>/content/wandb/run-20250514_094532-mvez542q</code>"
            ]
          },
          "metadata": {}
        },
        {
          "output_type": "display_data",
          "data": {
            "text/plain": [
              "<IPython.core.display.HTML object>"
            ],
            "text/html": [
              "Syncing run <strong><a href='https://wandb.ai/wilfried-mvomoeto-university-of-li-ge/Few-Shot-Training_gru_glove_fastText_Bahdanau_Multi-CNN_LSTM-/runs/mvez542q' target=\"_blank\">CNN_LSTM_K-100_Training</a></strong> to <a href='https://wandb.ai/wilfried-mvomoeto-university-of-li-ge/Few-Shot-Training_gru_glove_fastText_Bahdanau_Multi-CNN_LSTM-' target=\"_blank\">Weights & Biases</a> (<a href='https://wandb.me/developer-guide' target=\"_blank\">docs</a>)<br>"
            ]
          },
          "metadata": {}
        },
        {
          "output_type": "display_data",
          "data": {
            "text/plain": [
              "<IPython.core.display.HTML object>"
            ],
            "text/html": [
              " View project at <a href='https://wandb.ai/wilfried-mvomoeto-university-of-li-ge/Few-Shot-Training_gru_glove_fastText_Bahdanau_Multi-CNN_LSTM-' target=\"_blank\">https://wandb.ai/wilfried-mvomoeto-university-of-li-ge/Few-Shot-Training_gru_glove_fastText_Bahdanau_Multi-CNN_LSTM-</a>"
            ]
          },
          "metadata": {}
        },
        {
          "output_type": "display_data",
          "data": {
            "text/plain": [
              "<IPython.core.display.HTML object>"
            ],
            "text/html": [
              " View run at <a href='https://wandb.ai/wilfried-mvomoeto-university-of-li-ge/Few-Shot-Training_gru_glove_fastText_Bahdanau_Multi-CNN_LSTM-/runs/mvez542q' target=\"_blank\">https://wandb.ai/wilfried-mvomoeto-university-of-li-ge/Few-Shot-Training_gru_glove_fastText_Bahdanau_Multi-CNN_LSTM-/runs/mvez542q</a>"
            ]
          },
          "metadata": {}
        },
        {
          "output_type": "stream",
          "name": "stderr",
          "text": [
            "CNN_LSTM K-100 Epoch 57/1000 - Train Loss: 2.1638, Test Loss: 2.2206, Train Acc: 11.78%, Test Acc: 6.95%, Test F1: 1.34%, Test Balanced Acc: 11.20%, Test Recall: 6.95%, Test Precision: 3.59%, Time: 1.04 sec:   6%|▌         | 57/1000 [01:03<17:32,  1.12s/epoch]"
          ]
        },
        {
          "output_type": "stream",
          "name": "stdout",
          "text": [
            "Early stopping triggered at epoch 58\n",
            "Model CNN_LSTM_K-100 saved with loss gap > 1.25 or accuracy gap > 10% at epoch 57.\n"
          ]
        },
        {
          "output_type": "stream",
          "name": "stderr",
          "text": [
            "\n",
            "<ipython-input-10-f03193db776b>:44: UserWarning: To copy construct from a tensor, it is recommended to use sourceTensor.clone().detach() or sourceTensor.clone().detach().requires_grad_(True), rather than torch.tensor(sourceTensor).\n",
            "  self.X = torch.tensor(X_data, dtype=torch.long)\n",
            "<ipython-input-10-f03193db776b>:45: UserWarning: To copy construct from a tensor, it is recommended to use sourceTensor.clone().detach() or sourceTensor.clone().detach().requires_grad_(True), rather than torch.tensor(sourceTensor).\n",
            "  self.y = torch.tensor(y_data, dtype=torch.long)\n"
          ]
        },
        {
          "output_type": "display_data",
          "data": {
            "text/plain": [
              "<IPython.core.display.HTML object>"
            ],
            "text/html": [
              "Finishing previous runs because reinit is set to 'default'."
            ]
          },
          "metadata": {}
        },
        {
          "output_type": "display_data",
          "data": {
            "text/plain": [
              "<IPython.core.display.HTML object>"
            ],
            "text/html": []
          },
          "metadata": {}
        },
        {
          "output_type": "display_data",
          "data": {
            "text/plain": [
              "<IPython.core.display.HTML object>"
            ],
            "text/html": [
              "<br>    <style><br>        .wandb-row {<br>            display: flex;<br>            flex-direction: row;<br>            flex-wrap: wrap;<br>            justify-content: flex-start;<br>            width: 100%;<br>        }<br>        .wandb-col {<br>            display: flex;<br>            flex-direction: column;<br>            flex-basis: 100%;<br>            flex: 1;<br>            padding: 10px;<br>        }<br>    </style><br><div class=\"wandb-row\"><div class=\"wandb-col\"><h3>Run history:</h3><br/><table class=\"wandb\"><tr><td>epoch</td><td>▁▁▁▂▂▂▂▂▂▃▃▃▃▃▄▄▄▄▄▄▅▅▅▅▅▅▆▆▆▆▇▇▇▇▇▇████</td></tr><tr><td>k_shot</td><td>▁▁▁▁▁▁▁▁▁▁▁▁▁▁▁▁▁▁▁▁▁▁▁▁▁▁▁▁▁▁▁▁▁▁▁▁▁▁▁▁</td></tr><tr><td>test_acc</td><td>▄▄▄▄▄▄▄▄▄▃▃▂▄▄▂█▂▂▂▂▁▁▃█▂▄▄▄▄▄▅▆▃▆▃▅▄▅▅▃</td></tr><tr><td>test_balanced_acc</td><td>▅▅▅▅▅▅▅▅▅▃▃▂▂▄▁▂▇▂▂▂▁▁▁▂▇█▄▄▃▃▂▄▂▅▂▄▃▄▅▃</td></tr><tr><td>test_f1</td><td>▁▁▁▁▁▁▁▁▁▁▁▃▁▃▄▄▆▁▁▁▁▁▃▆▂▂▃▃▃▃▄▆▃▆▃▂▄▄█▁</td></tr><tr><td>test_loss</td><td>▁▂▅▂▃▃▄▄▅▄▅▄▃▄▆▅▅▅▅▆▅▅▅▅▅▆▇▅▇▇█▇█▇▅▆▇▆▇▅</td></tr><tr><td>test_precision</td><td>▁▁▁▁▁▁▁▁▁▁▁▄▁▃▂▃▄▁▁▁▁▁▃▄▂▃▃▃▃▃▃▃▃▂▆█▄▅▇▁</td></tr><tr><td>test_recall</td><td>▄▄▄▄▄▄▄▄▄▃▃▃▂▄▂▂▆█▂▂▂▁▁▁█▄▄▄▄▄▄▆▃▆▃▅▄▅▅▃</td></tr><tr><td>train_acc</td><td>▁▆▆▇▇▇▇▇▇▇▇▇▇▇██████████████████████████</td></tr><tr><td>train_loss</td><td>█▄▄▅▃▃▃▃▃▃▃▃▄▃▂▂▂▂▂▂▂▂▂▂▂▂▂▂▁▂▁▂▂▂▂▁▂▂▂▂</td></tr></table><br/></div><div class=\"wandb-col\"><h3>Run summary:</h3><br/><table class=\"wandb\"><tr><td>epoch</td><td>58</td></tr><tr><td>k_shot</td><td>100</td></tr><tr><td>test_acc</td><td>0.06761</td></tr><tr><td>test_balanced_acc</td><td>0.11083</td></tr><tr><td>test_f1</td><td>0.0086</td></tr><tr><td>test_loss</td><td>2.21289</td></tr><tr><td>test_precision</td><td>0.00459</td></tr><tr><td>test_recall</td><td>0.06761</td></tr><tr><td>train_acc</td><td>0.11778</td></tr><tr><td>train_loss</td><td>2.16549</td></tr></table><br/></div></div>"
            ]
          },
          "metadata": {}
        },
        {
          "output_type": "display_data",
          "data": {
            "text/plain": [
              "<IPython.core.display.HTML object>"
            ],
            "text/html": [
              " View run <strong style=\"color:#cdcd00\">CNN_LSTM_K-100_Training</strong> at: <a href='https://wandb.ai/wilfried-mvomoeto-university-of-li-ge/Few-Shot-Training_gru_glove_fastText_Bahdanau_Multi-CNN_LSTM-/runs/mvez542q' target=\"_blank\">https://wandb.ai/wilfried-mvomoeto-university-of-li-ge/Few-Shot-Training_gru_glove_fastText_Bahdanau_Multi-CNN_LSTM-/runs/mvez542q</a><br> View project at: <a href='https://wandb.ai/wilfried-mvomoeto-university-of-li-ge/Few-Shot-Training_gru_glove_fastText_Bahdanau_Multi-CNN_LSTM-' target=\"_blank\">https://wandb.ai/wilfried-mvomoeto-university-of-li-ge/Few-Shot-Training_gru_glove_fastText_Bahdanau_Multi-CNN_LSTM-</a><br>Synced 5 W&B file(s), 0 media file(s), 0 artifact file(s) and 0 other file(s)"
            ]
          },
          "metadata": {}
        },
        {
          "output_type": "display_data",
          "data": {
            "text/plain": [
              "<IPython.core.display.HTML object>"
            ],
            "text/html": [
              "Find logs at: <code>./wandb/run-20250514_094532-mvez542q/logs</code>"
            ]
          },
          "metadata": {}
        },
        {
          "output_type": "display_data",
          "data": {
            "text/plain": [
              "<IPython.core.display.HTML object>"
            ],
            "text/html": [
              "Tracking run with wandb version 0.19.11"
            ]
          },
          "metadata": {}
        },
        {
          "output_type": "display_data",
          "data": {
            "text/plain": [
              "<IPython.core.display.HTML object>"
            ],
            "text/html": [
              "Run data is saved locally in <code>/content/wandb/run-20250514_094637-gomc5c0f</code>"
            ]
          },
          "metadata": {}
        },
        {
          "output_type": "display_data",
          "data": {
            "text/plain": [
              "<IPython.core.display.HTML object>"
            ],
            "text/html": [
              "Syncing run <strong><a href='https://wandb.ai/wilfried-mvomoeto-university-of-li-ge/Few-Shot-Training_gru_glove_fastText_Bahdanau_Multi-GRU-Glove-/runs/gomc5c0f' target=\"_blank\">GRU-Glove_K-100_Training</a></strong> to <a href='https://wandb.ai/wilfried-mvomoeto-university-of-li-ge/Few-Shot-Training_gru_glove_fastText_Bahdanau_Multi-GRU-Glove-' target=\"_blank\">Weights & Biases</a> (<a href='https://wandb.me/developer-guide' target=\"_blank\">docs</a>)<br>"
            ]
          },
          "metadata": {}
        },
        {
          "output_type": "display_data",
          "data": {
            "text/plain": [
              "<IPython.core.display.HTML object>"
            ],
            "text/html": [
              " View project at <a href='https://wandb.ai/wilfried-mvomoeto-university-of-li-ge/Few-Shot-Training_gru_glove_fastText_Bahdanau_Multi-GRU-Glove-' target=\"_blank\">https://wandb.ai/wilfried-mvomoeto-university-of-li-ge/Few-Shot-Training_gru_glove_fastText_Bahdanau_Multi-GRU-Glove-</a>"
            ]
          },
          "metadata": {}
        },
        {
          "output_type": "display_data",
          "data": {
            "text/plain": [
              "<IPython.core.display.HTML object>"
            ],
            "text/html": [
              " View run at <a href='https://wandb.ai/wilfried-mvomoeto-university-of-li-ge/Few-Shot-Training_gru_glove_fastText_Bahdanau_Multi-GRU-Glove-/runs/gomc5c0f' target=\"_blank\">https://wandb.ai/wilfried-mvomoeto-university-of-li-ge/Few-Shot-Training_gru_glove_fastText_Bahdanau_Multi-GRU-Glove-/runs/gomc5c0f</a>"
            ]
          },
          "metadata": {}
        },
        {
          "output_type": "stream",
          "name": "stderr",
          "text": [
            "GRU-Glove K-100 Epoch 3/1000 - Train Loss: 2.2613, Test Loss: 2.2337, Train Acc: 9.33%, Test Acc: 6.80%, Test F1: 0.99%, Test Balanced Acc: 11.09%, Test Recall: 6.80%, Test Precision: 19.96%, Time: 1.00 sec:   0%|          | 3/1000 [00:04<23:16,  1.40s/epoch]"
          ]
        },
        {
          "output_type": "stream",
          "name": "stdout",
          "text": [
            "Early stopping triggered at epoch 4\n",
            "Model GRU-Glove_K-100 saved with loss gap > 1.25 or accuracy gap > 10% at epoch 3.\n"
          ]
        },
        {
          "output_type": "stream",
          "name": "stderr",
          "text": [
            "\n",
            "<ipython-input-10-f03193db776b>:44: UserWarning: To copy construct from a tensor, it is recommended to use sourceTensor.clone().detach() or sourceTensor.clone().detach().requires_grad_(True), rather than torch.tensor(sourceTensor).\n",
            "  self.X = torch.tensor(X_data, dtype=torch.long)\n",
            "<ipython-input-10-f03193db776b>:45: UserWarning: To copy construct from a tensor, it is recommended to use sourceTensor.clone().detach() or sourceTensor.clone().detach().requires_grad_(True), rather than torch.tensor(sourceTensor).\n",
            "  self.y = torch.tensor(y_data, dtype=torch.long)\n"
          ]
        },
        {
          "output_type": "display_data",
          "data": {
            "text/plain": [
              "<IPython.core.display.HTML object>"
            ],
            "text/html": [
              "Finishing previous runs because reinit is set to 'default'."
            ]
          },
          "metadata": {}
        },
        {
          "output_type": "display_data",
          "data": {
            "text/plain": [
              "<IPython.core.display.HTML object>"
            ],
            "text/html": []
          },
          "metadata": {}
        },
        {
          "output_type": "display_data",
          "data": {
            "text/plain": [
              "<IPython.core.display.HTML object>"
            ],
            "text/html": [
              "<br>    <style><br>        .wandb-row {<br>            display: flex;<br>            flex-direction: row;<br>            flex-wrap: wrap;<br>            justify-content: flex-start;<br>            width: 100%;<br>        }<br>        .wandb-col {<br>            display: flex;<br>            flex-direction: column;<br>            flex-basis: 100%;<br>            flex: 1;<br>            padding: 10px;<br>        }<br>    </style><br><div class=\"wandb-row\"><div class=\"wandb-col\"><h3>Run history:</h3><br/><table class=\"wandb\"><tr><td>epoch</td><td>▁▃▆█</td></tr><tr><td>k_shot</td><td>▁▁▁▁</td></tr><tr><td>test_acc</td><td>▁▅█▅</td></tr><tr><td>test_balanced_acc</td><td>▁▅█▄</td></tr><tr><td>test_f1</td><td>▁▅█▅</td></tr><tr><td>test_loss</td><td>▂█▁█</td></tr><tr><td>test_precision</td><td>▁▅█▄</td></tr><tr><td>test_recall</td><td>▁▅█▅</td></tr><tr><td>train_acc</td><td>▆▆▁█</td></tr><tr><td>train_loss</td><td>█▃▁▂</td></tr></table><br/></div><div class=\"wandb-col\"><h3>Run summary:</h3><br/><table class=\"wandb\"><tr><td>epoch</td><td>4</td></tr><tr><td>k_shot</td><td>100</td></tr><tr><td>test_acc</td><td>0.06778</td></tr><tr><td>test_balanced_acc</td><td>0.11074</td></tr><tr><td>test_f1</td><td>0.0096</td></tr><tr><td>test_loss</td><td>2.25648</td></tr><tr><td>test_precision</td><td>0.16915</td></tr><tr><td>test_recall</td><td>0.06778</td></tr><tr><td>train_acc</td><td>0.11889</td></tr><tr><td>train_loss</td><td>2.2647</td></tr></table><br/></div></div>"
            ]
          },
          "metadata": {}
        },
        {
          "output_type": "display_data",
          "data": {
            "text/plain": [
              "<IPython.core.display.HTML object>"
            ],
            "text/html": [
              " View run <strong style=\"color:#cdcd00\">GRU-Glove_K-100_Training</strong> at: <a href='https://wandb.ai/wilfried-mvomoeto-university-of-li-ge/Few-Shot-Training_gru_glove_fastText_Bahdanau_Multi-GRU-Glove-/runs/gomc5c0f' target=\"_blank\">https://wandb.ai/wilfried-mvomoeto-university-of-li-ge/Few-Shot-Training_gru_glove_fastText_Bahdanau_Multi-GRU-Glove-/runs/gomc5c0f</a><br> View project at: <a href='https://wandb.ai/wilfried-mvomoeto-university-of-li-ge/Few-Shot-Training_gru_glove_fastText_Bahdanau_Multi-GRU-Glove-' target=\"_blank\">https://wandb.ai/wilfried-mvomoeto-university-of-li-ge/Few-Shot-Training_gru_glove_fastText_Bahdanau_Multi-GRU-Glove-</a><br>Synced 5 W&B file(s), 0 media file(s), 0 artifact file(s) and 0 other file(s)"
            ]
          },
          "metadata": {}
        },
        {
          "output_type": "display_data",
          "data": {
            "text/plain": [
              "<IPython.core.display.HTML object>"
            ],
            "text/html": [
              "Find logs at: <code>./wandb/run-20250514_094637-gomc5c0f/logs</code>"
            ]
          },
          "metadata": {}
        },
        {
          "output_type": "display_data",
          "data": {
            "text/plain": [
              "<IPython.core.display.HTML object>"
            ],
            "text/html": [
              "Tracking run with wandb version 0.19.11"
            ]
          },
          "metadata": {}
        },
        {
          "output_type": "display_data",
          "data": {
            "text/plain": [
              "<IPython.core.display.HTML object>"
            ],
            "text/html": [
              "Run data is saved locally in <code>/content/wandb/run-20250514_094644-ig09kftw</code>"
            ]
          },
          "metadata": {}
        },
        {
          "output_type": "display_data",
          "data": {
            "text/plain": [
              "<IPython.core.display.HTML object>"
            ],
            "text/html": [
              "Syncing run <strong><a href='https://wandb.ai/wilfried-mvomoeto-university-of-li-ge/Few-Shot-Training_gru_glove_fastText_Bahdanau_Multi-GRU-FastText-/runs/ig09kftw' target=\"_blank\">GRU-FastText_K-100_Training</a></strong> to <a href='https://wandb.ai/wilfried-mvomoeto-university-of-li-ge/Few-Shot-Training_gru_glove_fastText_Bahdanau_Multi-GRU-FastText-' target=\"_blank\">Weights & Biases</a> (<a href='https://wandb.me/developer-guide' target=\"_blank\">docs</a>)<br>"
            ]
          },
          "metadata": {}
        },
        {
          "output_type": "display_data",
          "data": {
            "text/plain": [
              "<IPython.core.display.HTML object>"
            ],
            "text/html": [
              " View project at <a href='https://wandb.ai/wilfried-mvomoeto-university-of-li-ge/Few-Shot-Training_gru_glove_fastText_Bahdanau_Multi-GRU-FastText-' target=\"_blank\">https://wandb.ai/wilfried-mvomoeto-university-of-li-ge/Few-Shot-Training_gru_glove_fastText_Bahdanau_Multi-GRU-FastText-</a>"
            ]
          },
          "metadata": {}
        },
        {
          "output_type": "display_data",
          "data": {
            "text/plain": [
              "<IPython.core.display.HTML object>"
            ],
            "text/html": [
              " View run at <a href='https://wandb.ai/wilfried-mvomoeto-university-of-li-ge/Few-Shot-Training_gru_glove_fastText_Bahdanau_Multi-GRU-FastText-/runs/ig09kftw' target=\"_blank\">https://wandb.ai/wilfried-mvomoeto-university-of-li-ge/Few-Shot-Training_gru_glove_fastText_Bahdanau_Multi-GRU-FastText-/runs/ig09kftw</a>"
            ]
          },
          "metadata": {}
        },
        {
          "output_type": "stream",
          "name": "stderr",
          "text": [
            "GRU-FastText K-100 Epoch 3/1000 - Train Loss: 2.2383, Test Loss: 2.2121, Train Acc: 12.33%, Test Acc: 10.47%, Test F1: 1.99%, Test Balanced Acc: 11.11%, Test Recall: 10.47%, Test Precision: 1.10%, Time: 1.00 sec:   0%|          | 3/1000 [00:04<23:09,  1.39s/epoch]"
          ]
        },
        {
          "output_type": "stream",
          "name": "stdout",
          "text": [
            "Early stopping triggered at epoch 4\n",
            "Model GRU-FastText_K-100 saved with loss gap > 1.25 or accuracy gap > 10% at epoch 3.\n",
            "\n",
            "Training with 150-shot...\n"
          ]
        },
        {
          "output_type": "stream",
          "name": "stderr",
          "text": [
            "\n",
            "<ipython-input-10-f03193db776b>:44: UserWarning: To copy construct from a tensor, it is recommended to use sourceTensor.clone().detach() or sourceTensor.clone().detach().requires_grad_(True), rather than torch.tensor(sourceTensor).\n",
            "  self.X = torch.tensor(X_data, dtype=torch.long)\n",
            "<ipython-input-10-f03193db776b>:45: UserWarning: To copy construct from a tensor, it is recommended to use sourceTensor.clone().detach() or sourceTensor.clone().detach().requires_grad_(True), rather than torch.tensor(sourceTensor).\n",
            "  self.y = torch.tensor(y_data, dtype=torch.long)\n"
          ]
        },
        {
          "output_type": "display_data",
          "data": {
            "text/plain": [
              "<IPython.core.display.HTML object>"
            ],
            "text/html": [
              "Finishing previous runs because reinit is set to 'default'."
            ]
          },
          "metadata": {}
        },
        {
          "output_type": "display_data",
          "data": {
            "text/plain": [
              "<IPython.core.display.HTML object>"
            ],
            "text/html": []
          },
          "metadata": {}
        },
        {
          "output_type": "display_data",
          "data": {
            "text/plain": [
              "<IPython.core.display.HTML object>"
            ],
            "text/html": [
              "<br>    <style><br>        .wandb-row {<br>            display: flex;<br>            flex-direction: row;<br>            flex-wrap: wrap;<br>            justify-content: flex-start;<br>            width: 100%;<br>        }<br>        .wandb-col {<br>            display: flex;<br>            flex-direction: column;<br>            flex-basis: 100%;<br>            flex: 1;<br>            padding: 10px;<br>        }<br>    </style><br><div class=\"wandb-row\"><div class=\"wandb-col\"><h3>Run history:</h3><br/><table class=\"wandb\"><tr><td>epoch</td><td>▁▃▆█</td></tr><tr><td>k_shot</td><td>▁▁▁▁</td></tr><tr><td>test_acc</td><td>▁▁█▁</td></tr><tr><td>test_balanced_acc</td><td>▃▁█▄</td></tr><tr><td>test_f1</td><td>▁▁█▁</td></tr><tr><td>test_loss</td><td>█▄▁▆</td></tr><tr><td>test_precision</td><td>▁▁█▁</td></tr><tr><td>test_recall</td><td>▁▁█▁</td></tr><tr><td>train_acc</td><td>▁▁▃█</td></tr><tr><td>train_loss</td><td>█▆▃▁</td></tr></table><br/></div><div class=\"wandb-col\"><h3>Run summary:</h3><br/><table class=\"wandb\"><tr><td>epoch</td><td>4</td></tr><tr><td>k_shot</td><td>100</td></tr><tr><td>test_acc</td><td>0.06744</td></tr><tr><td>test_balanced_acc</td><td>0.11055</td></tr><tr><td>test_f1</td><td>0.00859</td></tr><tr><td>test_loss</td><td>2.23248</td></tr><tr><td>test_precision</td><td>0.00459</td></tr><tr><td>test_recall</td><td>0.06744</td></tr><tr><td>train_acc</td><td>0.14667</td></tr><tr><td>train_loss</td><td>2.21837</td></tr></table><br/></div></div>"
            ]
          },
          "metadata": {}
        },
        {
          "output_type": "display_data",
          "data": {
            "text/plain": [
              "<IPython.core.display.HTML object>"
            ],
            "text/html": [
              " View run <strong style=\"color:#cdcd00\">GRU-FastText_K-100_Training</strong> at: <a href='https://wandb.ai/wilfried-mvomoeto-university-of-li-ge/Few-Shot-Training_gru_glove_fastText_Bahdanau_Multi-GRU-FastText-/runs/ig09kftw' target=\"_blank\">https://wandb.ai/wilfried-mvomoeto-university-of-li-ge/Few-Shot-Training_gru_glove_fastText_Bahdanau_Multi-GRU-FastText-/runs/ig09kftw</a><br> View project at: <a href='https://wandb.ai/wilfried-mvomoeto-university-of-li-ge/Few-Shot-Training_gru_glove_fastText_Bahdanau_Multi-GRU-FastText-' target=\"_blank\">https://wandb.ai/wilfried-mvomoeto-university-of-li-ge/Few-Shot-Training_gru_glove_fastText_Bahdanau_Multi-GRU-FastText-</a><br>Synced 5 W&B file(s), 0 media file(s), 0 artifact file(s) and 0 other file(s)"
            ]
          },
          "metadata": {}
        },
        {
          "output_type": "display_data",
          "data": {
            "text/plain": [
              "<IPython.core.display.HTML object>"
            ],
            "text/html": [
              "Find logs at: <code>./wandb/run-20250514_094644-ig09kftw/logs</code>"
            ]
          },
          "metadata": {}
        },
        {
          "output_type": "display_data",
          "data": {
            "text/plain": [
              "<IPython.core.display.HTML object>"
            ],
            "text/html": [
              "Tracking run with wandb version 0.19.11"
            ]
          },
          "metadata": {}
        },
        {
          "output_type": "display_data",
          "data": {
            "text/plain": [
              "<IPython.core.display.HTML object>"
            ],
            "text/html": [
              "Run data is saved locally in <code>/content/wandb/run-20250514_094650-o1q27i2x</code>"
            ]
          },
          "metadata": {}
        },
        {
          "output_type": "display_data",
          "data": {
            "text/plain": [
              "<IPython.core.display.HTML object>"
            ],
            "text/html": [
              "Syncing run <strong><a href='https://wandb.ai/wilfried-mvomoeto-university-of-li-ge/Few-Shot-Training_gru_glove_fastText_Bahdanau_Multi-GRU-Bah-Glove-/runs/o1q27i2x' target=\"_blank\">GRU-Bah-Glove_K-150_Training</a></strong> to <a href='https://wandb.ai/wilfried-mvomoeto-university-of-li-ge/Few-Shot-Training_gru_glove_fastText_Bahdanau_Multi-GRU-Bah-Glove-' target=\"_blank\">Weights & Biases</a> (<a href='https://wandb.me/developer-guide' target=\"_blank\">docs</a>)<br>"
            ]
          },
          "metadata": {}
        },
        {
          "output_type": "display_data",
          "data": {
            "text/plain": [
              "<IPython.core.display.HTML object>"
            ],
            "text/html": [
              " View project at <a href='https://wandb.ai/wilfried-mvomoeto-university-of-li-ge/Few-Shot-Training_gru_glove_fastText_Bahdanau_Multi-GRU-Bah-Glove-' target=\"_blank\">https://wandb.ai/wilfried-mvomoeto-university-of-li-ge/Few-Shot-Training_gru_glove_fastText_Bahdanau_Multi-GRU-Bah-Glove-</a>"
            ]
          },
          "metadata": {}
        },
        {
          "output_type": "display_data",
          "data": {
            "text/plain": [
              "<IPython.core.display.HTML object>"
            ],
            "text/html": [
              " View run at <a href='https://wandb.ai/wilfried-mvomoeto-university-of-li-ge/Few-Shot-Training_gru_glove_fastText_Bahdanau_Multi-GRU-Bah-Glove-/runs/o1q27i2x' target=\"_blank\">https://wandb.ai/wilfried-mvomoeto-university-of-li-ge/Few-Shot-Training_gru_glove_fastText_Bahdanau_Multi-GRU-Bah-Glove-/runs/o1q27i2x</a>"
            ]
          },
          "metadata": {}
        },
        {
          "output_type": "stream",
          "name": "stderr",
          "text": [
            "GRU-Bah-Glove K-150 Epoch 16/1000 - Train Loss: 1.0858, Test Loss: 1.2180, Train Acc: 60.96%, Test Acc: 56.09%, Test F1: 55.86%, Test Balanced Acc: 58.24%, Test Recall: 56.09%, Test Precision: 59.69%, Time: 1.89 sec:   2%|▏         | 16/1000 [00:32<33:35,  2.05s/epoch]"
          ]
        },
        {
          "output_type": "stream",
          "name": "stdout",
          "text": [
            "Early stopping triggered at epoch 17\n",
            "Model GRU-Bah-Glove_K-150 saved with loss gap > 1.25 or accuracy gap > 10% at epoch 16.\n"
          ]
        },
        {
          "output_type": "stream",
          "name": "stderr",
          "text": [
            "\n",
            "<ipython-input-10-f03193db776b>:44: UserWarning: To copy construct from a tensor, it is recommended to use sourceTensor.clone().detach() or sourceTensor.clone().detach().requires_grad_(True), rather than torch.tensor(sourceTensor).\n",
            "  self.X = torch.tensor(X_data, dtype=torch.long)\n",
            "<ipython-input-10-f03193db776b>:45: UserWarning: To copy construct from a tensor, it is recommended to use sourceTensor.clone().detach() or sourceTensor.clone().detach().requires_grad_(True), rather than torch.tensor(sourceTensor).\n",
            "  self.y = torch.tensor(y_data, dtype=torch.long)\n"
          ]
        },
        {
          "output_type": "display_data",
          "data": {
            "text/plain": [
              "<IPython.core.display.HTML object>"
            ],
            "text/html": [
              "Finishing previous runs because reinit is set to 'default'."
            ]
          },
          "metadata": {}
        },
        {
          "output_type": "display_data",
          "data": {
            "text/plain": [
              "<IPython.core.display.HTML object>"
            ],
            "text/html": []
          },
          "metadata": {}
        },
        {
          "output_type": "display_data",
          "data": {
            "text/plain": [
              "<IPython.core.display.HTML object>"
            ],
            "text/html": [
              "<br>    <style><br>        .wandb-row {<br>            display: flex;<br>            flex-direction: row;<br>            flex-wrap: wrap;<br>            justify-content: flex-start;<br>            width: 100%;<br>        }<br>        .wandb-col {<br>            display: flex;<br>            flex-direction: column;<br>            flex-basis: 100%;<br>            flex: 1;<br>            padding: 10px;<br>        }<br>    </style><br><div class=\"wandb-row\"><div class=\"wandb-col\"><h3>Run history:</h3><br/><table class=\"wandb\"><tr><td>epoch</td><td>▁▁▂▂▃▃▄▄▅▅▅▆▆▇▇██</td></tr><tr><td>k_shot</td><td>▁▁▁▁▁▁▁▁▁▁▁▁▁▁▁▁▁</td></tr><tr><td>test_acc</td><td>▁▂▄▅▆▆▇▇▇▇███████</td></tr><tr><td>test_balanced_acc</td><td>▁▂▄▅▆▆▇▇▇████████</td></tr><tr><td>test_f1</td><td>▁▂▄▄▅▆▇▇▇▇▇▇█████</td></tr><tr><td>test_loss</td><td>██▇▅▄▄▃▃▂▂▂▂▁▁▁▁▁</td></tr><tr><td>test_precision</td><td>▁▂▃▄▅▆▆▇▇▇▇██████</td></tr><tr><td>test_recall</td><td>▁▂▄▅▆▆▇▇▇▇███████</td></tr><tr><td>train_acc</td><td>▁▁▂▃▅▅▆▆▆▆▇▇▇█▇██</td></tr><tr><td>train_loss</td><td>██▇▆▅▄▄▃▃▃▂▂▂▂▁▁▁</td></tr></table><br/></div><div class=\"wandb-col\"><h3>Run summary:</h3><br/><table class=\"wandb\"><tr><td>epoch</td><td>17</td></tr><tr><td>k_shot</td><td>150</td></tr><tr><td>test_acc</td><td>0.56226</td></tr><tr><td>test_balanced_acc</td><td>0.58311</td></tr><tr><td>test_f1</td><td>0.56067</td></tr><tr><td>test_loss</td><td>1.21006</td></tr><tr><td>test_precision</td><td>0.59541</td></tr><tr><td>test_recall</td><td>0.56226</td></tr><tr><td>train_acc</td><td>0.61852</td></tr><tr><td>train_loss</td><td>1.04943</td></tr></table><br/></div></div>"
            ]
          },
          "metadata": {}
        },
        {
          "output_type": "display_data",
          "data": {
            "text/plain": [
              "<IPython.core.display.HTML object>"
            ],
            "text/html": [
              " View run <strong style=\"color:#cdcd00\">GRU-Bah-Glove_K-150_Training</strong> at: <a href='https://wandb.ai/wilfried-mvomoeto-university-of-li-ge/Few-Shot-Training_gru_glove_fastText_Bahdanau_Multi-GRU-Bah-Glove-/runs/o1q27i2x' target=\"_blank\">https://wandb.ai/wilfried-mvomoeto-university-of-li-ge/Few-Shot-Training_gru_glove_fastText_Bahdanau_Multi-GRU-Bah-Glove-/runs/o1q27i2x</a><br> View project at: <a href='https://wandb.ai/wilfried-mvomoeto-university-of-li-ge/Few-Shot-Training_gru_glove_fastText_Bahdanau_Multi-GRU-Bah-Glove-' target=\"_blank\">https://wandb.ai/wilfried-mvomoeto-university-of-li-ge/Few-Shot-Training_gru_glove_fastText_Bahdanau_Multi-GRU-Bah-Glove-</a><br>Synced 5 W&B file(s), 0 media file(s), 0 artifact file(s) and 0 other file(s)"
            ]
          },
          "metadata": {}
        },
        {
          "output_type": "display_data",
          "data": {
            "text/plain": [
              "<IPython.core.display.HTML object>"
            ],
            "text/html": [
              "Find logs at: <code>./wandb/run-20250514_094650-o1q27i2x/logs</code>"
            ]
          },
          "metadata": {}
        },
        {
          "output_type": "display_data",
          "data": {
            "text/plain": [
              "<IPython.core.display.HTML object>"
            ],
            "text/html": [
              "Tracking run with wandb version 0.19.11"
            ]
          },
          "metadata": {}
        },
        {
          "output_type": "display_data",
          "data": {
            "text/plain": [
              "<IPython.core.display.HTML object>"
            ],
            "text/html": [
              "Run data is saved locally in <code>/content/wandb/run-20250514_094725-4c3u41xa</code>"
            ]
          },
          "metadata": {}
        },
        {
          "output_type": "display_data",
          "data": {
            "text/plain": [
              "<IPython.core.display.HTML object>"
            ],
            "text/html": [
              "Syncing run <strong><a href='https://wandb.ai/wilfried-mvomoeto-university-of-li-ge/Few-Shot-Training_gru_glove_fastText_Bahdanau_Multi-GRU-Bah-FastText-/runs/4c3u41xa' target=\"_blank\">GRU-Bah-FastText_K-150_Training</a></strong> to <a href='https://wandb.ai/wilfried-mvomoeto-university-of-li-ge/Few-Shot-Training_gru_glove_fastText_Bahdanau_Multi-GRU-Bah-FastText-' target=\"_blank\">Weights & Biases</a> (<a href='https://wandb.me/developer-guide' target=\"_blank\">docs</a>)<br>"
            ]
          },
          "metadata": {}
        },
        {
          "output_type": "display_data",
          "data": {
            "text/plain": [
              "<IPython.core.display.HTML object>"
            ],
            "text/html": [
              " View project at <a href='https://wandb.ai/wilfried-mvomoeto-university-of-li-ge/Few-Shot-Training_gru_glove_fastText_Bahdanau_Multi-GRU-Bah-FastText-' target=\"_blank\">https://wandb.ai/wilfried-mvomoeto-university-of-li-ge/Few-Shot-Training_gru_glove_fastText_Bahdanau_Multi-GRU-Bah-FastText-</a>"
            ]
          },
          "metadata": {}
        },
        {
          "output_type": "display_data",
          "data": {
            "text/plain": [
              "<IPython.core.display.HTML object>"
            ],
            "text/html": [
              " View run at <a href='https://wandb.ai/wilfried-mvomoeto-university-of-li-ge/Few-Shot-Training_gru_glove_fastText_Bahdanau_Multi-GRU-Bah-FastText-/runs/4c3u41xa' target=\"_blank\">https://wandb.ai/wilfried-mvomoeto-university-of-li-ge/Few-Shot-Training_gru_glove_fastText_Bahdanau_Multi-GRU-Bah-FastText-/runs/4c3u41xa</a>"
            ]
          },
          "metadata": {}
        },
        {
          "output_type": "stream",
          "name": "stderr",
          "text": [
            "GRU-Bah-FastText K-150 Epoch 29/1000 - Train Loss: 0.5260, Test Loss: 0.6332, Train Acc: 84.30%, Test Acc: 79.39%, Test F1: 79.68%, Test Balanced Acc: 80.07%, Test Recall: 79.39%, Test Precision: 80.34%, Time: 1.87 sec:   3%|▎         | 29/1000 [00:57<32:02,  1.98s/epoch]"
          ]
        },
        {
          "output_type": "stream",
          "name": "stdout",
          "text": [
            "Early stopping triggered at epoch 30\n",
            "Model GRU-Bah-FastText_K-150 saved with loss gap > 1.25 or accuracy gap > 10% at epoch 29.\n"
          ]
        },
        {
          "output_type": "stream",
          "name": "stderr",
          "text": [
            "\n",
            "<ipython-input-10-f03193db776b>:44: UserWarning: To copy construct from a tensor, it is recommended to use sourceTensor.clone().detach() or sourceTensor.clone().detach().requires_grad_(True), rather than torch.tensor(sourceTensor).\n",
            "  self.X = torch.tensor(X_data, dtype=torch.long)\n",
            "<ipython-input-10-f03193db776b>:45: UserWarning: To copy construct from a tensor, it is recommended to use sourceTensor.clone().detach() or sourceTensor.clone().detach().requires_grad_(True), rather than torch.tensor(sourceTensor).\n",
            "  self.y = torch.tensor(y_data, dtype=torch.long)\n"
          ]
        },
        {
          "output_type": "display_data",
          "data": {
            "text/plain": [
              "<IPython.core.display.HTML object>"
            ],
            "text/html": [
              "Finishing previous runs because reinit is set to 'default'."
            ]
          },
          "metadata": {}
        },
        {
          "output_type": "display_data",
          "data": {
            "text/plain": [
              "<IPython.core.display.HTML object>"
            ],
            "text/html": []
          },
          "metadata": {}
        },
        {
          "output_type": "display_data",
          "data": {
            "text/plain": [
              "<IPython.core.display.HTML object>"
            ],
            "text/html": [
              "<br>    <style><br>        .wandb-row {<br>            display: flex;<br>            flex-direction: row;<br>            flex-wrap: wrap;<br>            justify-content: flex-start;<br>            width: 100%;<br>        }<br>        .wandb-col {<br>            display: flex;<br>            flex-direction: column;<br>            flex-basis: 100%;<br>            flex: 1;<br>            padding: 10px;<br>        }<br>    </style><br><div class=\"wandb-row\"><div class=\"wandb-col\"><h3>Run history:</h3><br/><table class=\"wandb\"><tr><td>epoch</td><td>▁▁▁▂▂▂▂▃▃▃▃▄▄▄▄▅▅▅▅▆▆▆▆▇▇▇▇███</td></tr><tr><td>k_shot</td><td>▁▁▁▁▁▁▁▁▁▁▁▁▁▁▁▁▁▁▁▁▁▁▁▁▁▁▁▁▁▁</td></tr><tr><td>test_acc</td><td>▁▁▁▂▃▃▃▃▄▅▅▆▆▇▇▇██████████████</td></tr><tr><td>test_balanced_acc</td><td>▁▁▁▂▃▃▃▃▄▅▅▆▆▇▇▇██████████████</td></tr><tr><td>test_f1</td><td>▁▁▁▂▂▃▃▃▄▅▅▆▆▇▇▇▇█████████████</td></tr><tr><td>test_loss</td><td>████▇▇▇▆▆▅▅▄▄▃▃▂▂▂▂▁▁▁▁▁▁▁▁▁▁▁</td></tr><tr><td>test_precision</td><td>▁▁▁▂▃▃▃▄▅▅▅▆▆▇▇▇▇█████████████</td></tr><tr><td>test_recall</td><td>▁▁▁▂▃▃▃▃▄▅▅▆▆▇▇▇██████████████</td></tr><tr><td>train_acc</td><td>▁▁▁▁▂▂▂▃▃▄▄▅▅▅▆▆▇▇▇▇▇█████████</td></tr><tr><td>train_loss</td><td>████▇▇▇▆▆▅▅▅▄▄▃▃▃▂▂▂▂▂▁▁▁▁▁▁▁▁</td></tr></table><br/></div><div class=\"wandb-col\"><h3>Run summary:</h3><br/><table class=\"wandb\"><tr><td>epoch</td><td>30</td></tr><tr><td>k_shot</td><td>150</td></tr><tr><td>test_acc</td><td>0.79683</td></tr><tr><td>test_balanced_acc</td><td>0.80373</td></tr><tr><td>test_f1</td><td>0.7995</td></tr><tr><td>test_loss</td><td>0.6295</td></tr><tr><td>test_precision</td><td>0.8055</td></tr><tr><td>test_recall</td><td>0.79683</td></tr><tr><td>train_acc</td><td>0.84889</td></tr><tr><td>train_loss</td><td>0.50491</td></tr></table><br/></div></div>"
            ]
          },
          "metadata": {}
        },
        {
          "output_type": "display_data",
          "data": {
            "text/plain": [
              "<IPython.core.display.HTML object>"
            ],
            "text/html": [
              " View run <strong style=\"color:#cdcd00\">GRU-Bah-FastText_K-150_Training</strong> at: <a href='https://wandb.ai/wilfried-mvomoeto-university-of-li-ge/Few-Shot-Training_gru_glove_fastText_Bahdanau_Multi-GRU-Bah-FastText-/runs/4c3u41xa' target=\"_blank\">https://wandb.ai/wilfried-mvomoeto-university-of-li-ge/Few-Shot-Training_gru_glove_fastText_Bahdanau_Multi-GRU-Bah-FastText-/runs/4c3u41xa</a><br> View project at: <a href='https://wandb.ai/wilfried-mvomoeto-university-of-li-ge/Few-Shot-Training_gru_glove_fastText_Bahdanau_Multi-GRU-Bah-FastText-' target=\"_blank\">https://wandb.ai/wilfried-mvomoeto-university-of-li-ge/Few-Shot-Training_gru_glove_fastText_Bahdanau_Multi-GRU-Bah-FastText-</a><br>Synced 5 W&B file(s), 0 media file(s), 0 artifact file(s) and 0 other file(s)"
            ]
          },
          "metadata": {}
        },
        {
          "output_type": "display_data",
          "data": {
            "text/plain": [
              "<IPython.core.display.HTML object>"
            ],
            "text/html": [
              "Find logs at: <code>./wandb/run-20250514_094725-4c3u41xa/logs</code>"
            ]
          },
          "metadata": {}
        },
        {
          "output_type": "display_data",
          "data": {
            "text/plain": [
              "<IPython.core.display.HTML object>"
            ],
            "text/html": [
              "Tracking run with wandb version 0.19.11"
            ]
          },
          "metadata": {}
        },
        {
          "output_type": "display_data",
          "data": {
            "text/plain": [
              "<IPython.core.display.HTML object>"
            ],
            "text/html": [
              "Run data is saved locally in <code>/content/wandb/run-20250514_094824-5goqpesc</code>"
            ]
          },
          "metadata": {}
        },
        {
          "output_type": "display_data",
          "data": {
            "text/plain": [
              "<IPython.core.display.HTML object>"
            ],
            "text/html": [
              "Syncing run <strong><a href='https://wandb.ai/wilfried-mvomoeto-university-of-li-ge/Few-Shot-Training_gru_glove_fastText_Bahdanau_Multi-CNN_LSTM-/runs/5goqpesc' target=\"_blank\">CNN_LSTM_K-150_Training</a></strong> to <a href='https://wandb.ai/wilfried-mvomoeto-university-of-li-ge/Few-Shot-Training_gru_glove_fastText_Bahdanau_Multi-CNN_LSTM-' target=\"_blank\">Weights & Biases</a> (<a href='https://wandb.me/developer-guide' target=\"_blank\">docs</a>)<br>"
            ]
          },
          "metadata": {}
        },
        {
          "output_type": "display_data",
          "data": {
            "text/plain": [
              "<IPython.core.display.HTML object>"
            ],
            "text/html": [
              " View project at <a href='https://wandb.ai/wilfried-mvomoeto-university-of-li-ge/Few-Shot-Training_gru_glove_fastText_Bahdanau_Multi-CNN_LSTM-' target=\"_blank\">https://wandb.ai/wilfried-mvomoeto-university-of-li-ge/Few-Shot-Training_gru_glove_fastText_Bahdanau_Multi-CNN_LSTM-</a>"
            ]
          },
          "metadata": {}
        },
        {
          "output_type": "display_data",
          "data": {
            "text/plain": [
              "<IPython.core.display.HTML object>"
            ],
            "text/html": [
              " View run at <a href='https://wandb.ai/wilfried-mvomoeto-university-of-li-ge/Few-Shot-Training_gru_glove_fastText_Bahdanau_Multi-CNN_LSTM-/runs/5goqpesc' target=\"_blank\">https://wandb.ai/wilfried-mvomoeto-university-of-li-ge/Few-Shot-Training_gru_glove_fastText_Bahdanau_Multi-CNN_LSTM-/runs/5goqpesc</a>"
            ]
          },
          "metadata": {}
        },
        {
          "output_type": "stream",
          "name": "stderr",
          "text": [
            "CNN_LSTM K-150 Epoch 8/1000 - Train Loss: 2.1725, Test Loss: 2.2049, Train Acc: 11.70%, Test Acc: 6.76%, Test F1: 0.93%, Test Balanced Acc: 11.06%, Test Recall: 6.76%, Test Precision: 3.17%, Time: 1.26 sec:   1%|          | 8/1000 [00:11<24:45,  1.50s/epoch]"
          ]
        },
        {
          "output_type": "stream",
          "name": "stdout",
          "text": [
            "Early stopping triggered at epoch 9\n",
            "Model CNN_LSTM_K-150 saved with loss gap > 1.25 or accuracy gap > 10% at epoch 8.\n"
          ]
        },
        {
          "output_type": "stream",
          "name": "stderr",
          "text": [
            "\n",
            "<ipython-input-10-f03193db776b>:44: UserWarning: To copy construct from a tensor, it is recommended to use sourceTensor.clone().detach() or sourceTensor.clone().detach().requires_grad_(True), rather than torch.tensor(sourceTensor).\n",
            "  self.X = torch.tensor(X_data, dtype=torch.long)\n",
            "<ipython-input-10-f03193db776b>:45: UserWarning: To copy construct from a tensor, it is recommended to use sourceTensor.clone().detach() or sourceTensor.clone().detach().requires_grad_(True), rather than torch.tensor(sourceTensor).\n",
            "  self.y = torch.tensor(y_data, dtype=torch.long)\n"
          ]
        },
        {
          "output_type": "display_data",
          "data": {
            "text/plain": [
              "<IPython.core.display.HTML object>"
            ],
            "text/html": [
              "Finishing previous runs because reinit is set to 'default'."
            ]
          },
          "metadata": {}
        },
        {
          "output_type": "display_data",
          "data": {
            "text/plain": [
              "<IPython.core.display.HTML object>"
            ],
            "text/html": []
          },
          "metadata": {}
        },
        {
          "output_type": "display_data",
          "data": {
            "text/plain": [
              "<IPython.core.display.HTML object>"
            ],
            "text/html": [
              "<br>    <style><br>        .wandb-row {<br>            display: flex;<br>            flex-direction: row;<br>            flex-wrap: wrap;<br>            justify-content: flex-start;<br>            width: 100%;<br>        }<br>        .wandb-col {<br>            display: flex;<br>            flex-direction: column;<br>            flex-basis: 100%;<br>            flex: 1;<br>            padding: 10px;<br>        }<br>    </style><br><div class=\"wandb-row\"><div class=\"wandb-col\"><h3>Run history:</h3><br/><table class=\"wandb\"><tr><td>epoch</td><td>▁▂▃▄▅▅▆▇█</td></tr><tr><td>k_shot</td><td>▁▁▁▁▁▁▁▁▁</td></tr><tr><td>test_acc</td><td>▃▃▃▁▆▃█▁▁</td></tr><tr><td>test_balanced_acc</td><td>▆▆▆▂█▄▇▁▁</td></tr><tr><td>test_f1</td><td>▁▁▁▃▃▄█▄▄</td></tr><tr><td>test_loss</td><td>▇▇▆▅█▄▄▁▄</td></tr><tr><td>test_precision</td><td>▁▁▁▂▆██▇▇</td></tr><tr><td>test_recall</td><td>▃▃▃▁▆▃█▁▁</td></tr><tr><td>train_acc</td><td>▁▂▃▅▆▆▇▇█</td></tr><tr><td>train_loss</td><td>█▇▆▄▄▄▂▂▁</td></tr></table><br/></div><div class=\"wandb-col\"><h3>Run summary:</h3><br/><table class=\"wandb\"><tr><td>epoch</td><td>9</td></tr><tr><td>k_shot</td><td>150</td></tr><tr><td>test_acc</td><td>0.06761</td></tr><tr><td>test_balanced_acc</td><td>0.11058</td></tr><tr><td>test_f1</td><td>0.00925</td></tr><tr><td>test_loss</td><td>2.20922</td></tr><tr><td>test_precision</td><td>0.03171</td></tr><tr><td>test_recall</td><td>0.06761</td></tr><tr><td>train_acc</td><td>0.11778</td></tr><tr><td>train_loss</td><td>2.16943</td></tr></table><br/></div></div>"
            ]
          },
          "metadata": {}
        },
        {
          "output_type": "display_data",
          "data": {
            "text/plain": [
              "<IPython.core.display.HTML object>"
            ],
            "text/html": [
              " View run <strong style=\"color:#cdcd00\">CNN_LSTM_K-150_Training</strong> at: <a href='https://wandb.ai/wilfried-mvomoeto-university-of-li-ge/Few-Shot-Training_gru_glove_fastText_Bahdanau_Multi-CNN_LSTM-/runs/5goqpesc' target=\"_blank\">https://wandb.ai/wilfried-mvomoeto-university-of-li-ge/Few-Shot-Training_gru_glove_fastText_Bahdanau_Multi-CNN_LSTM-/runs/5goqpesc</a><br> View project at: <a href='https://wandb.ai/wilfried-mvomoeto-university-of-li-ge/Few-Shot-Training_gru_glove_fastText_Bahdanau_Multi-CNN_LSTM-' target=\"_blank\">https://wandb.ai/wilfried-mvomoeto-university-of-li-ge/Few-Shot-Training_gru_glove_fastText_Bahdanau_Multi-CNN_LSTM-</a><br>Synced 5 W&B file(s), 0 media file(s), 0 artifact file(s) and 0 other file(s)"
            ]
          },
          "metadata": {}
        },
        {
          "output_type": "display_data",
          "data": {
            "text/plain": [
              "<IPython.core.display.HTML object>"
            ],
            "text/html": [
              "Find logs at: <code>./wandb/run-20250514_094824-5goqpesc/logs</code>"
            ]
          },
          "metadata": {}
        },
        {
          "output_type": "display_data",
          "data": {
            "text/plain": [
              "<IPython.core.display.HTML object>"
            ],
            "text/html": [
              "Tracking run with wandb version 0.19.11"
            ]
          },
          "metadata": {}
        },
        {
          "output_type": "display_data",
          "data": {
            "text/plain": [
              "<IPython.core.display.HTML object>"
            ],
            "text/html": [
              "Run data is saved locally in <code>/content/wandb/run-20250514_094838-ulcetdcz</code>"
            ]
          },
          "metadata": {}
        },
        {
          "output_type": "display_data",
          "data": {
            "text/plain": [
              "<IPython.core.display.HTML object>"
            ],
            "text/html": [
              "Syncing run <strong><a href='https://wandb.ai/wilfried-mvomoeto-university-of-li-ge/Few-Shot-Training_gru_glove_fastText_Bahdanau_Multi-GRU-Glove-/runs/ulcetdcz' target=\"_blank\">GRU-Glove_K-150_Training</a></strong> to <a href='https://wandb.ai/wilfried-mvomoeto-university-of-li-ge/Few-Shot-Training_gru_glove_fastText_Bahdanau_Multi-GRU-Glove-' target=\"_blank\">Weights & Biases</a> (<a href='https://wandb.me/developer-guide' target=\"_blank\">docs</a>)<br>"
            ]
          },
          "metadata": {}
        },
        {
          "output_type": "display_data",
          "data": {
            "text/plain": [
              "<IPython.core.display.HTML object>"
            ],
            "text/html": [
              " View project at <a href='https://wandb.ai/wilfried-mvomoeto-university-of-li-ge/Few-Shot-Training_gru_glove_fastText_Bahdanau_Multi-GRU-Glove-' target=\"_blank\">https://wandb.ai/wilfried-mvomoeto-university-of-li-ge/Few-Shot-Training_gru_glove_fastText_Bahdanau_Multi-GRU-Glove-</a>"
            ]
          },
          "metadata": {}
        },
        {
          "output_type": "display_data",
          "data": {
            "text/plain": [
              "<IPython.core.display.HTML object>"
            ],
            "text/html": [
              " View run at <a href='https://wandb.ai/wilfried-mvomoeto-university-of-li-ge/Few-Shot-Training_gru_glove_fastText_Bahdanau_Multi-GRU-Glove-/runs/ulcetdcz' target=\"_blank\">https://wandb.ai/wilfried-mvomoeto-university-of-li-ge/Few-Shot-Training_gru_glove_fastText_Bahdanau_Multi-GRU-Glove-/runs/ulcetdcz</a>"
            ]
          },
          "metadata": {}
        },
        {
          "output_type": "stream",
          "name": "stderr",
          "text": [
            "GRU-Glove K-150 Epoch 2/1000 - Train Loss: 2.2763, Test Loss: 2.2140, Train Acc: 10.07%, Test Acc: 6.76%, Test F1: 0.93%, Test Balanced Acc: 11.06%, Test Recall: 6.76%, Test Precision: 6.83%, Time: 1.39 sec:   0%|          | 2/1000 [00:04<35:11,  2.12s/epoch]"
          ]
        },
        {
          "output_type": "stream",
          "name": "stdout",
          "text": [
            "Early stopping triggered at epoch 3\n",
            "Model GRU-Glove_K-150 saved with loss gap > 1.25 or accuracy gap > 10% at epoch 2.\n"
          ]
        },
        {
          "output_type": "stream",
          "name": "stderr",
          "text": [
            "\n",
            "<ipython-input-10-f03193db776b>:44: UserWarning: To copy construct from a tensor, it is recommended to use sourceTensor.clone().detach() or sourceTensor.clone().detach().requires_grad_(True), rather than torch.tensor(sourceTensor).\n",
            "  self.X = torch.tensor(X_data, dtype=torch.long)\n",
            "<ipython-input-10-f03193db776b>:45: UserWarning: To copy construct from a tensor, it is recommended to use sourceTensor.clone().detach() or sourceTensor.clone().detach().requires_grad_(True), rather than torch.tensor(sourceTensor).\n",
            "  self.y = torch.tensor(y_data, dtype=torch.long)\n"
          ]
        },
        {
          "output_type": "display_data",
          "data": {
            "text/plain": [
              "<IPython.core.display.HTML object>"
            ],
            "text/html": [
              "Finishing previous runs because reinit is set to 'default'."
            ]
          },
          "metadata": {}
        },
        {
          "output_type": "display_data",
          "data": {
            "text/plain": [
              "<IPython.core.display.HTML object>"
            ],
            "text/html": []
          },
          "metadata": {}
        },
        {
          "output_type": "display_data",
          "data": {
            "text/plain": [
              "<IPython.core.display.HTML object>"
            ],
            "text/html": [
              "<br>    <style><br>        .wandb-row {<br>            display: flex;<br>            flex-direction: row;<br>            flex-wrap: wrap;<br>            justify-content: flex-start;<br>            width: 100%;<br>        }<br>        .wandb-col {<br>            display: flex;<br>            flex-direction: column;<br>            flex-basis: 100%;<br>            flex: 1;<br>            padding: 10px;<br>        }<br>    </style><br><div class=\"wandb-row\"><div class=\"wandb-col\"><h3>Run history:</h3><br/><table class=\"wandb\"><tr><td>epoch</td><td>▁▅█</td></tr><tr><td>k_shot</td><td>▁▁▁</td></tr><tr><td>test_acc</td><td>█▁▁</td></tr><tr><td>test_balanced_acc</td><td>█▁▁</td></tr><tr><td>test_f1</td><td>█▁▁</td></tr><tr><td>test_loss</td><td>█▁▄</td></tr><tr><td>test_precision</td><td>█▁▃</td></tr><tr><td>test_recall</td><td>█▁▁</td></tr><tr><td>train_acc</td><td>▄▁█</td></tr><tr><td>train_loss</td><td>██▁</td></tr></table><br/></div><div class=\"wandb-col\"><h3>Run summary:</h3><br/><table class=\"wandb\"><tr><td>epoch</td><td>3</td></tr><tr><td>k_shot</td><td>150</td></tr><tr><td>test_acc</td><td>0.06795</td></tr><tr><td>test_balanced_acc</td><td>0.11102</td></tr><tr><td>test_f1</td><td>0.00962</td></tr><tr><td>test_loss</td><td>2.21832</td></tr><tr><td>test_precision</td><td>0.08271</td></tr><tr><td>test_recall</td><td>0.06795</td></tr><tr><td>train_acc</td><td>0.12667</td></tr><tr><td>train_loss</td><td>2.21984</td></tr></table><br/></div></div>"
            ]
          },
          "metadata": {}
        },
        {
          "output_type": "display_data",
          "data": {
            "text/plain": [
              "<IPython.core.display.HTML object>"
            ],
            "text/html": [
              " View run <strong style=\"color:#cdcd00\">GRU-Glove_K-150_Training</strong> at: <a href='https://wandb.ai/wilfried-mvomoeto-university-of-li-ge/Few-Shot-Training_gru_glove_fastText_Bahdanau_Multi-GRU-Glove-/runs/ulcetdcz' target=\"_blank\">https://wandb.ai/wilfried-mvomoeto-university-of-li-ge/Few-Shot-Training_gru_glove_fastText_Bahdanau_Multi-GRU-Glove-/runs/ulcetdcz</a><br> View project at: <a href='https://wandb.ai/wilfried-mvomoeto-university-of-li-ge/Few-Shot-Training_gru_glove_fastText_Bahdanau_Multi-GRU-Glove-' target=\"_blank\">https://wandb.ai/wilfried-mvomoeto-university-of-li-ge/Few-Shot-Training_gru_glove_fastText_Bahdanau_Multi-GRU-Glove-</a><br>Synced 5 W&B file(s), 0 media file(s), 0 artifact file(s) and 0 other file(s)"
            ]
          },
          "metadata": {}
        },
        {
          "output_type": "display_data",
          "data": {
            "text/plain": [
              "<IPython.core.display.HTML object>"
            ],
            "text/html": [
              "Find logs at: <code>./wandb/run-20250514_094838-ulcetdcz/logs</code>"
            ]
          },
          "metadata": {}
        },
        {
          "output_type": "display_data",
          "data": {
            "text/plain": [
              "<IPython.core.display.HTML object>"
            ],
            "text/html": [
              "Tracking run with wandb version 0.19.11"
            ]
          },
          "metadata": {}
        },
        {
          "output_type": "display_data",
          "data": {
            "text/plain": [
              "<IPython.core.display.HTML object>"
            ],
            "text/html": [
              "Run data is saved locally in <code>/content/wandb/run-20250514_094844-br4xehdb</code>"
            ]
          },
          "metadata": {}
        },
        {
          "output_type": "display_data",
          "data": {
            "text/plain": [
              "<IPython.core.display.HTML object>"
            ],
            "text/html": [
              "Syncing run <strong><a href='https://wandb.ai/wilfried-mvomoeto-university-of-li-ge/Few-Shot-Training_gru_glove_fastText_Bahdanau_Multi-GRU-FastText-/runs/br4xehdb' target=\"_blank\">GRU-FastText_K-150_Training</a></strong> to <a href='https://wandb.ai/wilfried-mvomoeto-university-of-li-ge/Few-Shot-Training_gru_glove_fastText_Bahdanau_Multi-GRU-FastText-' target=\"_blank\">Weights & Biases</a> (<a href='https://wandb.me/developer-guide' target=\"_blank\">docs</a>)<br>"
            ]
          },
          "metadata": {}
        },
        {
          "output_type": "display_data",
          "data": {
            "text/plain": [
              "<IPython.core.display.HTML object>"
            ],
            "text/html": [
              " View project at <a href='https://wandb.ai/wilfried-mvomoeto-university-of-li-ge/Few-Shot-Training_gru_glove_fastText_Bahdanau_Multi-GRU-FastText-' target=\"_blank\">https://wandb.ai/wilfried-mvomoeto-university-of-li-ge/Few-Shot-Training_gru_glove_fastText_Bahdanau_Multi-GRU-FastText-</a>"
            ]
          },
          "metadata": {}
        },
        {
          "output_type": "display_data",
          "data": {
            "text/plain": [
              "<IPython.core.display.HTML object>"
            ],
            "text/html": [
              " View run at <a href='https://wandb.ai/wilfried-mvomoeto-university-of-li-ge/Few-Shot-Training_gru_glove_fastText_Bahdanau_Multi-GRU-FastText-/runs/br4xehdb' target=\"_blank\">https://wandb.ai/wilfried-mvomoeto-university-of-li-ge/Few-Shot-Training_gru_glove_fastText_Bahdanau_Multi-GRU-FastText-/runs/br4xehdb</a>"
            ]
          },
          "metadata": {}
        },
        {
          "output_type": "stream",
          "name": "stderr",
          "text": [
            "GRU-FastText K-150 Epoch 3/1000 - Train Loss: 2.2583, Test Loss: 2.2218, Train Acc: 11.26%, Test Acc: 6.80%, Test F1: 0.96%, Test Balanced Acc: 11.10%, Test Recall: 6.80%, Test Precision: 12.33%, Time: 1.23 sec:   0%|          | 3/1000 [00:05<28:10,  1.70s/epoch]"
          ]
        },
        {
          "output_type": "stream",
          "name": "stdout",
          "text": [
            "Early stopping triggered at epoch 4\n",
            "Model GRU-FastText_K-150 saved with loss gap > 1.25 or accuracy gap > 10% at epoch 3.\n",
            "\n",
            "Training with 200-shot...\n"
          ]
        },
        {
          "output_type": "stream",
          "name": "stderr",
          "text": [
            "\n",
            "<ipython-input-10-f03193db776b>:44: UserWarning: To copy construct from a tensor, it is recommended to use sourceTensor.clone().detach() or sourceTensor.clone().detach().requires_grad_(True), rather than torch.tensor(sourceTensor).\n",
            "  self.X = torch.tensor(X_data, dtype=torch.long)\n",
            "<ipython-input-10-f03193db776b>:45: UserWarning: To copy construct from a tensor, it is recommended to use sourceTensor.clone().detach() or sourceTensor.clone().detach().requires_grad_(True), rather than torch.tensor(sourceTensor).\n",
            "  self.y = torch.tensor(y_data, dtype=torch.long)\n"
          ]
        },
        {
          "output_type": "display_data",
          "data": {
            "text/plain": [
              "<IPython.core.display.HTML object>"
            ],
            "text/html": [
              "Finishing previous runs because reinit is set to 'default'."
            ]
          },
          "metadata": {}
        },
        {
          "output_type": "display_data",
          "data": {
            "text/plain": [
              "<IPython.core.display.HTML object>"
            ],
            "text/html": []
          },
          "metadata": {}
        },
        {
          "output_type": "display_data",
          "data": {
            "text/plain": [
              "<IPython.core.display.HTML object>"
            ],
            "text/html": [
              "<br>    <style><br>        .wandb-row {<br>            display: flex;<br>            flex-direction: row;<br>            flex-wrap: wrap;<br>            justify-content: flex-start;<br>            width: 100%;<br>        }<br>        .wandb-col {<br>            display: flex;<br>            flex-direction: column;<br>            flex-basis: 100%;<br>            flex: 1;<br>            padding: 10px;<br>        }<br>    </style><br><div class=\"wandb-row\"><div class=\"wandb-col\"><h3>Run history:</h3><br/><table class=\"wandb\"><tr><td>epoch</td><td>▁▃▆█</td></tr><tr><td>k_shot</td><td>▁▁▁▁</td></tr><tr><td>test_acc</td><td>▁▁▁█</td></tr><tr><td>test_balanced_acc</td><td>▁▁▁█</td></tr><tr><td>test_f1</td><td>▁▁▁█</td></tr><tr><td>test_loss</td><td>█▁▁▁</td></tr><tr><td>test_precision</td><td>▂▁▂█</td></tr><tr><td>test_recall</td><td>▁▁▁█</td></tr><tr><td>train_acc</td><td>▁▅▅█</td></tr><tr><td>train_loss</td><td>█▁▂▁</td></tr></table><br/></div><div class=\"wandb-col\"><h3>Run summary:</h3><br/><table class=\"wandb\"><tr><td>epoch</td><td>4</td></tr><tr><td>k_shot</td><td>150</td></tr><tr><td>test_acc</td><td>0.06813</td></tr><tr><td>test_balanced_acc</td><td>0.11119</td></tr><tr><td>test_f1</td><td>0.00996</td></tr><tr><td>test_loss</td><td>2.2262</td></tr><tr><td>test_precision</td><td>0.18333</td></tr><tr><td>test_recall</td><td>0.06813</td></tr><tr><td>train_acc</td><td>0.1237</td></tr><tr><td>train_loss</td><td>2.25152</td></tr></table><br/></div></div>"
            ]
          },
          "metadata": {}
        },
        {
          "output_type": "display_data",
          "data": {
            "text/plain": [
              "<IPython.core.display.HTML object>"
            ],
            "text/html": [
              " View run <strong style=\"color:#cdcd00\">GRU-FastText_K-150_Training</strong> at: <a href='https://wandb.ai/wilfried-mvomoeto-university-of-li-ge/Few-Shot-Training_gru_glove_fastText_Bahdanau_Multi-GRU-FastText-/runs/br4xehdb' target=\"_blank\">https://wandb.ai/wilfried-mvomoeto-university-of-li-ge/Few-Shot-Training_gru_glove_fastText_Bahdanau_Multi-GRU-FastText-/runs/br4xehdb</a><br> View project at: <a href='https://wandb.ai/wilfried-mvomoeto-university-of-li-ge/Few-Shot-Training_gru_glove_fastText_Bahdanau_Multi-GRU-FastText-' target=\"_blank\">https://wandb.ai/wilfried-mvomoeto-university-of-li-ge/Few-Shot-Training_gru_glove_fastText_Bahdanau_Multi-GRU-FastText-</a><br>Synced 5 W&B file(s), 0 media file(s), 0 artifact file(s) and 0 other file(s)"
            ]
          },
          "metadata": {}
        },
        {
          "output_type": "display_data",
          "data": {
            "text/plain": [
              "<IPython.core.display.HTML object>"
            ],
            "text/html": [
              "Find logs at: <code>./wandb/run-20250514_094844-br4xehdb/logs</code>"
            ]
          },
          "metadata": {}
        },
        {
          "output_type": "display_data",
          "data": {
            "text/plain": [
              "<IPython.core.display.HTML object>"
            ],
            "text/html": [
              "Tracking run with wandb version 0.19.11"
            ]
          },
          "metadata": {}
        },
        {
          "output_type": "display_data",
          "data": {
            "text/plain": [
              "<IPython.core.display.HTML object>"
            ],
            "text/html": [
              "Run data is saved locally in <code>/content/wandb/run-20250514_094851-070nc042</code>"
            ]
          },
          "metadata": {}
        },
        {
          "output_type": "display_data",
          "data": {
            "text/plain": [
              "<IPython.core.display.HTML object>"
            ],
            "text/html": [
              "Syncing run <strong><a href='https://wandb.ai/wilfried-mvomoeto-university-of-li-ge/Few-Shot-Training_gru_glove_fastText_Bahdanau_Multi-GRU-Bah-Glove-/runs/070nc042' target=\"_blank\">GRU-Bah-Glove_K-200_Training</a></strong> to <a href='https://wandb.ai/wilfried-mvomoeto-university-of-li-ge/Few-Shot-Training_gru_glove_fastText_Bahdanau_Multi-GRU-Bah-Glove-' target=\"_blank\">Weights & Biases</a> (<a href='https://wandb.me/developer-guide' target=\"_blank\">docs</a>)<br>"
            ]
          },
          "metadata": {}
        },
        {
          "output_type": "display_data",
          "data": {
            "text/plain": [
              "<IPython.core.display.HTML object>"
            ],
            "text/html": [
              " View project at <a href='https://wandb.ai/wilfried-mvomoeto-university-of-li-ge/Few-Shot-Training_gru_glove_fastText_Bahdanau_Multi-GRU-Bah-Glove-' target=\"_blank\">https://wandb.ai/wilfried-mvomoeto-university-of-li-ge/Few-Shot-Training_gru_glove_fastText_Bahdanau_Multi-GRU-Bah-Glove-</a>"
            ]
          },
          "metadata": {}
        },
        {
          "output_type": "display_data",
          "data": {
            "text/plain": [
              "<IPython.core.display.HTML object>"
            ],
            "text/html": [
              " View run at <a href='https://wandb.ai/wilfried-mvomoeto-university-of-li-ge/Few-Shot-Training_gru_glove_fastText_Bahdanau_Multi-GRU-Bah-Glove-/runs/070nc042' target=\"_blank\">https://wandb.ai/wilfried-mvomoeto-university-of-li-ge/Few-Shot-Training_gru_glove_fastText_Bahdanau_Multi-GRU-Bah-Glove-/runs/070nc042</a>"
            ]
          },
          "metadata": {}
        },
        {
          "output_type": "stream",
          "name": "stderr",
          "text": [
            "GRU-Bah-Glove K-200 Epoch 15/1000 - Train Loss: 0.7340, Test Loss: 0.8599, Train Acc: 73.17%, Test Acc: 69.45%, Test F1: 68.96%, Test Balanced Acc: 70.32%, Test Recall: 69.45%, Test Precision: 73.68%, Time: 2.44 sec:   2%|▏         | 15/1000 [00:36<39:46,  2.42s/epoch]"
          ]
        },
        {
          "output_type": "stream",
          "name": "stdout",
          "text": [
            "Early stopping triggered at epoch 16\n",
            "Model GRU-Bah-Glove_K-200 saved with loss gap > 1.25 or accuracy gap > 10% at epoch 15.\n"
          ]
        },
        {
          "output_type": "stream",
          "name": "stderr",
          "text": [
            "\n",
            "<ipython-input-10-f03193db776b>:44: UserWarning: To copy construct from a tensor, it is recommended to use sourceTensor.clone().detach() or sourceTensor.clone().detach().requires_grad_(True), rather than torch.tensor(sourceTensor).\n",
            "  self.X = torch.tensor(X_data, dtype=torch.long)\n",
            "<ipython-input-10-f03193db776b>:45: UserWarning: To copy construct from a tensor, it is recommended to use sourceTensor.clone().detach() or sourceTensor.clone().detach().requires_grad_(True), rather than torch.tensor(sourceTensor).\n",
            "  self.y = torch.tensor(y_data, dtype=torch.long)\n"
          ]
        },
        {
          "output_type": "display_data",
          "data": {
            "text/plain": [
              "<IPython.core.display.HTML object>"
            ],
            "text/html": [
              "Finishing previous runs because reinit is set to 'default'."
            ]
          },
          "metadata": {}
        },
        {
          "output_type": "display_data",
          "data": {
            "text/plain": [
              "<IPython.core.display.HTML object>"
            ],
            "text/html": []
          },
          "metadata": {}
        },
        {
          "output_type": "display_data",
          "data": {
            "text/plain": [
              "<IPython.core.display.HTML object>"
            ],
            "text/html": [
              "<br>    <style><br>        .wandb-row {<br>            display: flex;<br>            flex-direction: row;<br>            flex-wrap: wrap;<br>            justify-content: flex-start;<br>            width: 100%;<br>        }<br>        .wandb-col {<br>            display: flex;<br>            flex-direction: column;<br>            flex-basis: 100%;<br>            flex: 1;<br>            padding: 10px;<br>        }<br>    </style><br><div class=\"wandb-row\"><div class=\"wandb-col\"><h3>Run history:</h3><br/><table class=\"wandb\"><tr><td>epoch</td><td>▁▁▂▂▃▃▄▄▅▅▆▆▇▇██</td></tr><tr><td>k_shot</td><td>▁▁▁▁▁▁▁▁▁▁▁▁▁▁▁▁</td></tr><tr><td>test_acc</td><td>▁▄▅▆▆▇▇█████████</td></tr><tr><td>test_balanced_acc</td><td>▁▄▅▆▆▇▇█████████</td></tr><tr><td>test_f1</td><td>▁▄▅▅▆▇▇███▇█████</td></tr><tr><td>test_loss</td><td>█▆▅▄▃▃▂▂▁▁▁▁▁▁▁▁</td></tr><tr><td>test_precision</td><td>▁▃▅▅▇▇██████████</td></tr><tr><td>test_recall</td><td>▁▄▅▆▆▇▇█████████</td></tr><tr><td>train_acc</td><td>▁▂▄▅▆▆▇▇▇███████</td></tr><tr><td>train_loss</td><td>█▇▅▅▄▃▃▃▂▂▂▂▁▁▁▁</td></tr></table><br/></div><div class=\"wandb-col\"><h3>Run summary:</h3><br/><table class=\"wandb\"><tr><td>epoch</td><td>16</td></tr><tr><td>k_shot</td><td>200</td></tr><tr><td>test_acc</td><td>0.68989</td></tr><tr><td>test_balanced_acc</td><td>0.69852</td></tr><tr><td>test_f1</td><td>0.68335</td></tr><tr><td>test_loss</td><td>0.86713</td></tr><tr><td>test_precision</td><td>0.73424</td></tr><tr><td>test_recall</td><td>0.68989</td></tr><tr><td>train_acc</td><td>0.74389</td></tr><tr><td>train_loss</td><td>0.69832</td></tr></table><br/></div></div>"
            ]
          },
          "metadata": {}
        },
        {
          "output_type": "display_data",
          "data": {
            "text/plain": [
              "<IPython.core.display.HTML object>"
            ],
            "text/html": [
              " View run <strong style=\"color:#cdcd00\">GRU-Bah-Glove_K-200_Training</strong> at: <a href='https://wandb.ai/wilfried-mvomoeto-university-of-li-ge/Few-Shot-Training_gru_glove_fastText_Bahdanau_Multi-GRU-Bah-Glove-/runs/070nc042' target=\"_blank\">https://wandb.ai/wilfried-mvomoeto-university-of-li-ge/Few-Shot-Training_gru_glove_fastText_Bahdanau_Multi-GRU-Bah-Glove-/runs/070nc042</a><br> View project at: <a href='https://wandb.ai/wilfried-mvomoeto-university-of-li-ge/Few-Shot-Training_gru_glove_fastText_Bahdanau_Multi-GRU-Bah-Glove-' target=\"_blank\">https://wandb.ai/wilfried-mvomoeto-university-of-li-ge/Few-Shot-Training_gru_glove_fastText_Bahdanau_Multi-GRU-Bah-Glove-</a><br>Synced 5 W&B file(s), 0 media file(s), 0 artifact file(s) and 0 other file(s)"
            ]
          },
          "metadata": {}
        },
        {
          "output_type": "display_data",
          "data": {
            "text/plain": [
              "<IPython.core.display.HTML object>"
            ],
            "text/html": [
              "Find logs at: <code>./wandb/run-20250514_094851-070nc042/logs</code>"
            ]
          },
          "metadata": {}
        },
        {
          "output_type": "display_data",
          "data": {
            "text/plain": [
              "<IPython.core.display.HTML object>"
            ],
            "text/html": [
              "Tracking run with wandb version 0.19.11"
            ]
          },
          "metadata": {}
        },
        {
          "output_type": "display_data",
          "data": {
            "text/plain": [
              "<IPython.core.display.HTML object>"
            ],
            "text/html": [
              "Run data is saved locally in <code>/content/wandb/run-20250514_094929-1rr8a1jc</code>"
            ]
          },
          "metadata": {}
        },
        {
          "output_type": "display_data",
          "data": {
            "text/plain": [
              "<IPython.core.display.HTML object>"
            ],
            "text/html": [
              "Syncing run <strong><a href='https://wandb.ai/wilfried-mvomoeto-university-of-li-ge/Few-Shot-Training_gru_glove_fastText_Bahdanau_Multi-GRU-Bah-FastText-/runs/1rr8a1jc' target=\"_blank\">GRU-Bah-FastText_K-200_Training</a></strong> to <a href='https://wandb.ai/wilfried-mvomoeto-university-of-li-ge/Few-Shot-Training_gru_glove_fastText_Bahdanau_Multi-GRU-Bah-FastText-' target=\"_blank\">Weights & Biases</a> (<a href='https://wandb.me/developer-guide' target=\"_blank\">docs</a>)<br>"
            ]
          },
          "metadata": {}
        },
        {
          "output_type": "display_data",
          "data": {
            "text/plain": [
              "<IPython.core.display.HTML object>"
            ],
            "text/html": [
              " View project at <a href='https://wandb.ai/wilfried-mvomoeto-university-of-li-ge/Few-Shot-Training_gru_glove_fastText_Bahdanau_Multi-GRU-Bah-FastText-' target=\"_blank\">https://wandb.ai/wilfried-mvomoeto-university-of-li-ge/Few-Shot-Training_gru_glove_fastText_Bahdanau_Multi-GRU-Bah-FastText-</a>"
            ]
          },
          "metadata": {}
        },
        {
          "output_type": "display_data",
          "data": {
            "text/plain": [
              "<IPython.core.display.HTML object>"
            ],
            "text/html": [
              " View run at <a href='https://wandb.ai/wilfried-mvomoeto-university-of-li-ge/Few-Shot-Training_gru_glove_fastText_Bahdanau_Multi-GRU-Bah-FastText-/runs/1rr8a1jc' target=\"_blank\">https://wandb.ai/wilfried-mvomoeto-university-of-li-ge/Few-Shot-Training_gru_glove_fastText_Bahdanau_Multi-GRU-Bah-FastText-/runs/1rr8a1jc</a>"
            ]
          },
          "metadata": {}
        },
        {
          "output_type": "stream",
          "name": "stderr",
          "text": [
            "GRU-Bah-FastText K-200 Epoch 23/1000 - Train Loss: 0.4216, Test Loss: 0.5222, Train Acc: 87.28%, Test Acc: 83.91%, Test F1: 84.39%, Test Balanced Acc: 84.38%, Test Recall: 83.91%, Test Precision: 85.41%, Time: 2.21 sec:   2%|▏         | 23/1000 [00:53<37:55,  2.33s/epoch]"
          ]
        },
        {
          "output_type": "stream",
          "name": "stdout",
          "text": [
            "Early stopping triggered at epoch 24\n",
            "Model GRU-Bah-FastText_K-200 saved with loss gap > 1.25 or accuracy gap > 10% at epoch 23.\n"
          ]
        },
        {
          "output_type": "stream",
          "name": "stderr",
          "text": [
            "\n",
            "<ipython-input-10-f03193db776b>:44: UserWarning: To copy construct from a tensor, it is recommended to use sourceTensor.clone().detach() or sourceTensor.clone().detach().requires_grad_(True), rather than torch.tensor(sourceTensor).\n",
            "  self.X = torch.tensor(X_data, dtype=torch.long)\n",
            "<ipython-input-10-f03193db776b>:45: UserWarning: To copy construct from a tensor, it is recommended to use sourceTensor.clone().detach() or sourceTensor.clone().detach().requires_grad_(True), rather than torch.tensor(sourceTensor).\n",
            "  self.y = torch.tensor(y_data, dtype=torch.long)\n"
          ]
        },
        {
          "output_type": "display_data",
          "data": {
            "text/plain": [
              "<IPython.core.display.HTML object>"
            ],
            "text/html": [
              "Finishing previous runs because reinit is set to 'default'."
            ]
          },
          "metadata": {}
        },
        {
          "output_type": "display_data",
          "data": {
            "text/plain": [
              "<IPython.core.display.HTML object>"
            ],
            "text/html": []
          },
          "metadata": {}
        },
        {
          "output_type": "display_data",
          "data": {
            "text/plain": [
              "<IPython.core.display.HTML object>"
            ],
            "text/html": [
              "<br>    <style><br>        .wandb-row {<br>            display: flex;<br>            flex-direction: row;<br>            flex-wrap: wrap;<br>            justify-content: flex-start;<br>            width: 100%;<br>        }<br>        .wandb-col {<br>            display: flex;<br>            flex-direction: column;<br>            flex-basis: 100%;<br>            flex: 1;<br>            padding: 10px;<br>        }<br>    </style><br><div class=\"wandb-row\"><div class=\"wandb-col\"><h3>Run history:</h3><br/><table class=\"wandb\"><tr><td>epoch</td><td>▁▁▂▂▂▃▃▃▃▄▄▄▅▅▅▆▆▆▆▇▇▇██</td></tr><tr><td>k_shot</td><td>▁▁▁▁▁▁▁▁▁▁▁▁▁▁▁▁▁▁▁▁▁▁▁▁</td></tr><tr><td>test_acc</td><td>▁▂▃▃▄▄▅▅▅▆▇▇▇███████████</td></tr><tr><td>test_balanced_acc</td><td>▁▂▃▄▄▄▅▅▅▆▇▇▇███████████</td></tr><tr><td>test_f1</td><td>▁▂▃▃▄▄▄▅▅▆▇▇▇███████████</td></tr><tr><td>test_loss</td><td>█▇▆▆▅▅▅▄▄▄▃▂▂▂▂▁▁▁▁▁▁▁▁▁</td></tr><tr><td>test_precision</td><td>▁▂▃▄▄▄▅▅▅▆▇▇▇███████████</td></tr><tr><td>test_recall</td><td>▁▂▃▃▄▄▅▅▅▆▇▇▇███████████</td></tr><tr><td>train_acc</td><td>▁▂▃▃▄▄▅▅▅▅▆▆▇▇▇▇████████</td></tr><tr><td>train_loss</td><td>█▇▆▆▅▅▅▄▄▄▃▃▃▂▂▂▂▁▁▁▁▁▁▁</td></tr></table><br/></div><div class=\"wandb-col\"><h3>Run summary:</h3><br/><table class=\"wandb\"><tr><td>epoch</td><td>24</td></tr><tr><td>k_shot</td><td>200</td></tr><tr><td>test_acc</td><td>0.84132</td></tr><tr><td>test_balanced_acc</td><td>0.84561</td></tr><tr><td>test_f1</td><td>0.84561</td></tr><tr><td>test_loss</td><td>0.52657</td></tr><tr><td>test_precision</td><td>0.85505</td></tr><tr><td>test_recall</td><td>0.84132</td></tr><tr><td>train_acc</td><td>0.88444</td></tr><tr><td>train_loss</td><td>0.40961</td></tr></table><br/></div></div>"
            ]
          },
          "metadata": {}
        },
        {
          "output_type": "display_data",
          "data": {
            "text/plain": [
              "<IPython.core.display.HTML object>"
            ],
            "text/html": [
              " View run <strong style=\"color:#cdcd00\">GRU-Bah-FastText_K-200_Training</strong> at: <a href='https://wandb.ai/wilfried-mvomoeto-university-of-li-ge/Few-Shot-Training_gru_glove_fastText_Bahdanau_Multi-GRU-Bah-FastText-/runs/1rr8a1jc' target=\"_blank\">https://wandb.ai/wilfried-mvomoeto-university-of-li-ge/Few-Shot-Training_gru_glove_fastText_Bahdanau_Multi-GRU-Bah-FastText-/runs/1rr8a1jc</a><br> View project at: <a href='https://wandb.ai/wilfried-mvomoeto-university-of-li-ge/Few-Shot-Training_gru_glove_fastText_Bahdanau_Multi-GRU-Bah-FastText-' target=\"_blank\">https://wandb.ai/wilfried-mvomoeto-university-of-li-ge/Few-Shot-Training_gru_glove_fastText_Bahdanau_Multi-GRU-Bah-FastText-</a><br>Synced 5 W&B file(s), 0 media file(s), 0 artifact file(s) and 0 other file(s)"
            ]
          },
          "metadata": {}
        },
        {
          "output_type": "display_data",
          "data": {
            "text/plain": [
              "<IPython.core.display.HTML object>"
            ],
            "text/html": [
              "Find logs at: <code>./wandb/run-20250514_094929-1rr8a1jc/logs</code>"
            ]
          },
          "metadata": {}
        },
        {
          "output_type": "display_data",
          "data": {
            "text/plain": [
              "<IPython.core.display.HTML object>"
            ],
            "text/html": [
              "Tracking run with wandb version 0.19.11"
            ]
          },
          "metadata": {}
        },
        {
          "output_type": "display_data",
          "data": {
            "text/plain": [
              "<IPython.core.display.HTML object>"
            ],
            "text/html": [
              "Run data is saved locally in <code>/content/wandb/run-20250514_095025-9cgm4t00</code>"
            ]
          },
          "metadata": {}
        },
        {
          "output_type": "display_data",
          "data": {
            "text/plain": [
              "<IPython.core.display.HTML object>"
            ],
            "text/html": [
              "Syncing run <strong><a href='https://wandb.ai/wilfried-mvomoeto-university-of-li-ge/Few-Shot-Training_gru_glove_fastText_Bahdanau_Multi-CNN_LSTM-/runs/9cgm4t00' target=\"_blank\">CNN_LSTM_K-200_Training</a></strong> to <a href='https://wandb.ai/wilfried-mvomoeto-university-of-li-ge/Few-Shot-Training_gru_glove_fastText_Bahdanau_Multi-CNN_LSTM-' target=\"_blank\">Weights & Biases</a> (<a href='https://wandb.me/developer-guide' target=\"_blank\">docs</a>)<br>"
            ]
          },
          "metadata": {}
        },
        {
          "output_type": "display_data",
          "data": {
            "text/plain": [
              "<IPython.core.display.HTML object>"
            ],
            "text/html": [
              " View project at <a href='https://wandb.ai/wilfried-mvomoeto-university-of-li-ge/Few-Shot-Training_gru_glove_fastText_Bahdanau_Multi-CNN_LSTM-' target=\"_blank\">https://wandb.ai/wilfried-mvomoeto-university-of-li-ge/Few-Shot-Training_gru_glove_fastText_Bahdanau_Multi-CNN_LSTM-</a>"
            ]
          },
          "metadata": {}
        },
        {
          "output_type": "display_data",
          "data": {
            "text/plain": [
              "<IPython.core.display.HTML object>"
            ],
            "text/html": [
              " View run at <a href='https://wandb.ai/wilfried-mvomoeto-university-of-li-ge/Few-Shot-Training_gru_glove_fastText_Bahdanau_Multi-CNN_LSTM-/runs/9cgm4t00' target=\"_blank\">https://wandb.ai/wilfried-mvomoeto-university-of-li-ge/Few-Shot-Training_gru_glove_fastText_Bahdanau_Multi-CNN_LSTM-/runs/9cgm4t00</a>"
            ]
          },
          "metadata": {}
        },
        {
          "output_type": "stream",
          "name": "stderr",
          "text": [
            "CNN_LSTM K-200 Epoch 127/1000 - Train Loss: 2.1592, Test Loss: 2.2546, Train Acc: 11.89%, Test Acc: 7.61%, Test F1: 2.75%, Test Balanced Acc: 11.45%, Test Recall: 7.61%, Test Precision: 5.06%, Time: 1.47 sec:  13%|█▎        | 127/1000 [03:14<22:20,  1.54s/epoch]"
          ]
        },
        {
          "output_type": "stream",
          "name": "stdout",
          "text": [
            "Early stopping triggered at epoch 128\n",
            "Model CNN_LSTM_K-200 saved with loss gap > 1.25 or accuracy gap > 10% at epoch 127.\n"
          ]
        },
        {
          "output_type": "stream",
          "name": "stderr",
          "text": [
            "\n",
            "<ipython-input-10-f03193db776b>:44: UserWarning: To copy construct from a tensor, it is recommended to use sourceTensor.clone().detach() or sourceTensor.clone().detach().requires_grad_(True), rather than torch.tensor(sourceTensor).\n",
            "  self.X = torch.tensor(X_data, dtype=torch.long)\n",
            "<ipython-input-10-f03193db776b>:45: UserWarning: To copy construct from a tensor, it is recommended to use sourceTensor.clone().detach() or sourceTensor.clone().detach().requires_grad_(True), rather than torch.tensor(sourceTensor).\n",
            "  self.y = torch.tensor(y_data, dtype=torch.long)\n"
          ]
        },
        {
          "output_type": "display_data",
          "data": {
            "text/plain": [
              "<IPython.core.display.HTML object>"
            ],
            "text/html": [
              "Finishing previous runs because reinit is set to 'default'."
            ]
          },
          "metadata": {}
        },
        {
          "output_type": "display_data",
          "data": {
            "text/plain": [
              "<IPython.core.display.HTML object>"
            ],
            "text/html": []
          },
          "metadata": {}
        },
        {
          "output_type": "display_data",
          "data": {
            "text/plain": [
              "<IPython.core.display.HTML object>"
            ],
            "text/html": [
              "<br>    <style><br>        .wandb-row {<br>            display: flex;<br>            flex-direction: row;<br>            flex-wrap: wrap;<br>            justify-content: flex-start;<br>            width: 100%;<br>        }<br>        .wandb-col {<br>            display: flex;<br>            flex-direction: column;<br>            flex-basis: 100%;<br>            flex: 1;<br>            padding: 10px;<br>        }<br>    </style><br><div class=\"wandb-row\"><div class=\"wandb-col\"><h3>Run history:</h3><br/><table class=\"wandb\"><tr><td>epoch</td><td>▁▁▂▂▂▂▂▂▃▃▃▃▃▄▄▄▄▄▅▅▅▅▅▅▅▆▆▆▆▆▇▇▇▇▇█████</td></tr><tr><td>k_shot</td><td>▁▁▁▁▁▁▁▁▁▁▁▁▁▁▁▁▁▁▁▁▁▁▁▁▁▁▁▁▁▁▁▁▁▁▁▁▁▁▁▁</td></tr><tr><td>test_acc</td><td>▂▂▁▁▁▁▁▁▂▂▂▁▂▂▂▂▂▂▂▂▁▁▁▁▁▁▁▁▁▁▁▁▁▁▂▂▂▂▂█</td></tr><tr><td>test_balanced_acc</td><td>███▄▃██▇▆▆▆▆▆▆▆▄▃▇▄▃▄▄▁▁▁▃▃▄▄▄▃▃▃▃▃▆▄▇▄▇</td></tr><tr><td>test_f1</td><td>▁▁▂▂▂▂▁▁▂▂▂▂▂▂▂▂▁▂▂▂▁▂▁▁▁▂▂▂▁▂▂▁▁▁▂▂▂▃█▅</td></tr><tr><td>test_loss</td><td>▃▃▃▂▁▁▁▂▂▂▆▃▁▂▃▂▂▃▃▂▃▂▃▃▄▅▅▆▆▆▄▄▅▅▆▄▆▄▆█</td></tr><tr><td>test_precision</td><td>▁▂▄▆▂▄▂█▂▅▅▅▅▄▄▁▁▂▂▄▅▂▂▄▁▁▃▃▃▁▁▁▁▁▂▅▅▅▆▄</td></tr><tr><td>test_recall</td><td>▅▅▄▄▄▇▇▄▇▅▅▅▅▅▅▅▄▁▄▁▄▄▄▄▁▁▂▂▄▄▂▄▄▄▄▂▂▅▅█</td></tr><tr><td>train_acc</td><td>▁▃▃▃▃▃▃▃▃▃▃▃▃▃▃▃▃▃▃▃▃▃▃▃▃▃▃▃▃▃▃▃▃▃▃▃▄▅▇█</td></tr><tr><td>train_loss</td><td>█▆▄▄▄▃▃▃▃▃▂▃▃▃▃▂▃▂▂▂▂▃▂▂▃▂▂▂▂▁▁▁▂▁▂▁▁▂▁▁</td></tr></table><br/></div><div class=\"wandb-col\"><h3>Run summary:</h3><br/><table class=\"wandb\"><tr><td>epoch</td><td>128</td></tr><tr><td>k_shot</td><td>200</td></tr><tr><td>test_acc</td><td>0.06864</td></tr><tr><td>test_balanced_acc</td><td>0.11107</td></tr><tr><td>test_f1</td><td>0.01241</td></tr><tr><td>test_loss</td><td>2.2323</td></tr><tr><td>test_precision</td><td>0.02909</td></tr><tr><td>test_recall</td><td>0.06864</td></tr><tr><td>train_acc</td><td>0.12333</td></tr><tr><td>train_loss</td><td>2.15402</td></tr></table><br/></div></div>"
            ]
          },
          "metadata": {}
        },
        {
          "output_type": "display_data",
          "data": {
            "text/plain": [
              "<IPython.core.display.HTML object>"
            ],
            "text/html": [
              " View run <strong style=\"color:#cdcd00\">CNN_LSTM_K-200_Training</strong> at: <a href='https://wandb.ai/wilfried-mvomoeto-university-of-li-ge/Few-Shot-Training_gru_glove_fastText_Bahdanau_Multi-CNN_LSTM-/runs/9cgm4t00' target=\"_blank\">https://wandb.ai/wilfried-mvomoeto-university-of-li-ge/Few-Shot-Training_gru_glove_fastText_Bahdanau_Multi-CNN_LSTM-/runs/9cgm4t00</a><br> View project at: <a href='https://wandb.ai/wilfried-mvomoeto-university-of-li-ge/Few-Shot-Training_gru_glove_fastText_Bahdanau_Multi-CNN_LSTM-' target=\"_blank\">https://wandb.ai/wilfried-mvomoeto-university-of-li-ge/Few-Shot-Training_gru_glove_fastText_Bahdanau_Multi-CNN_LSTM-</a><br>Synced 5 W&B file(s), 0 media file(s), 0 artifact file(s) and 0 other file(s)"
            ]
          },
          "metadata": {}
        },
        {
          "output_type": "display_data",
          "data": {
            "text/plain": [
              "<IPython.core.display.HTML object>"
            ],
            "text/html": [
              "Find logs at: <code>./wandb/run-20250514_095025-9cgm4t00/logs</code>"
            ]
          },
          "metadata": {}
        },
        {
          "output_type": "display_data",
          "data": {
            "text/plain": [
              "<IPython.core.display.HTML object>"
            ],
            "text/html": [
              "Tracking run with wandb version 0.19.11"
            ]
          },
          "metadata": {}
        },
        {
          "output_type": "display_data",
          "data": {
            "text/plain": [
              "<IPython.core.display.HTML object>"
            ],
            "text/html": [
              "Run data is saved locally in <code>/content/wandb/run-20250514_095342-a957o8nt</code>"
            ]
          },
          "metadata": {}
        },
        {
          "output_type": "display_data",
          "data": {
            "text/plain": [
              "<IPython.core.display.HTML object>"
            ],
            "text/html": [
              "Syncing run <strong><a href='https://wandb.ai/wilfried-mvomoeto-university-of-li-ge/Few-Shot-Training_gru_glove_fastText_Bahdanau_Multi-GRU-Glove-/runs/a957o8nt' target=\"_blank\">GRU-Glove_K-200_Training</a></strong> to <a href='https://wandb.ai/wilfried-mvomoeto-university-of-li-ge/Few-Shot-Training_gru_glove_fastText_Bahdanau_Multi-GRU-Glove-' target=\"_blank\">Weights & Biases</a> (<a href='https://wandb.me/developer-guide' target=\"_blank\">docs</a>)<br>"
            ]
          },
          "metadata": {}
        },
        {
          "output_type": "display_data",
          "data": {
            "text/plain": [
              "<IPython.core.display.HTML object>"
            ],
            "text/html": [
              " View project at <a href='https://wandb.ai/wilfried-mvomoeto-university-of-li-ge/Few-Shot-Training_gru_glove_fastText_Bahdanau_Multi-GRU-Glove-' target=\"_blank\">https://wandb.ai/wilfried-mvomoeto-university-of-li-ge/Few-Shot-Training_gru_glove_fastText_Bahdanau_Multi-GRU-Glove-</a>"
            ]
          },
          "metadata": {}
        },
        {
          "output_type": "display_data",
          "data": {
            "text/plain": [
              "<IPython.core.display.HTML object>"
            ],
            "text/html": [
              " View run at <a href='https://wandb.ai/wilfried-mvomoeto-university-of-li-ge/Few-Shot-Training_gru_glove_fastText_Bahdanau_Multi-GRU-Glove-/runs/a957o8nt' target=\"_blank\">https://wandb.ai/wilfried-mvomoeto-university-of-li-ge/Few-Shot-Training_gru_glove_fastText_Bahdanau_Multi-GRU-Glove-/runs/a957o8nt</a>"
            ]
          },
          "metadata": {}
        },
        {
          "output_type": "stream",
          "name": "stderr",
          "text": [
            "Training GRU-Glove with 200-shot:   0%|          | 0/1000 [00:01<?, ?epoch/s]"
          ]
        },
        {
          "output_type": "stream",
          "name": "stdout",
          "text": [
            "Early stopping triggered at epoch 1\n",
            "Model GRU-Glove_K-200 saved with loss gap > 1.25 or accuracy gap > 10% at epoch 0.\n"
          ]
        },
        {
          "output_type": "stream",
          "name": "stderr",
          "text": [
            "\n",
            "<ipython-input-10-f03193db776b>:44: UserWarning: To copy construct from a tensor, it is recommended to use sourceTensor.clone().detach() or sourceTensor.clone().detach().requires_grad_(True), rather than torch.tensor(sourceTensor).\n",
            "  self.X = torch.tensor(X_data, dtype=torch.long)\n",
            "<ipython-input-10-f03193db776b>:45: UserWarning: To copy construct from a tensor, it is recommended to use sourceTensor.clone().detach() or sourceTensor.clone().detach().requires_grad_(True), rather than torch.tensor(sourceTensor).\n",
            "  self.y = torch.tensor(y_data, dtype=torch.long)\n"
          ]
        },
        {
          "output_type": "display_data",
          "data": {
            "text/plain": [
              "<IPython.core.display.HTML object>"
            ],
            "text/html": [
              "Finishing previous runs because reinit is set to 'default'."
            ]
          },
          "metadata": {}
        },
        {
          "output_type": "display_data",
          "data": {
            "text/plain": [
              "<IPython.core.display.HTML object>"
            ],
            "text/html": []
          },
          "metadata": {}
        },
        {
          "output_type": "display_data",
          "data": {
            "text/plain": [
              "<IPython.core.display.HTML object>"
            ],
            "text/html": [
              "<br>    <style><br>        .wandb-row {<br>            display: flex;<br>            flex-direction: row;<br>            flex-wrap: wrap;<br>            justify-content: flex-start;<br>            width: 100%;<br>        }<br>        .wandb-col {<br>            display: flex;<br>            flex-direction: column;<br>            flex-basis: 100%;<br>            flex: 1;<br>            padding: 10px;<br>        }<br>    </style><br><div class=\"wandb-row\"><div class=\"wandb-col\"><h3>Run history:</h3><br/><table class=\"wandb\"><tr><td>epoch</td><td>▁</td></tr><tr><td>k_shot</td><td>▁</td></tr><tr><td>test_acc</td><td>▁</td></tr><tr><td>test_balanced_acc</td><td>▁</td></tr><tr><td>test_f1</td><td>▁</td></tr><tr><td>test_loss</td><td>▁</td></tr><tr><td>test_precision</td><td>▁</td></tr><tr><td>test_recall</td><td>▁</td></tr><tr><td>train_acc</td><td>▁</td></tr><tr><td>train_loss</td><td>▁</td></tr></table><br/></div><div class=\"wandb-col\"><h3>Run summary:</h3><br/><table class=\"wandb\"><tr><td>epoch</td><td>1</td></tr><tr><td>k_shot</td><td>200</td></tr><tr><td>test_acc</td><td>0.06778</td></tr><tr><td>test_balanced_acc</td><td>0.11061</td></tr><tr><td>test_f1</td><td>0.00992</td></tr><tr><td>test_loss</td><td>2.20565</td></tr><tr><td>test_precision</td><td>0.11365</td></tr><tr><td>test_recall</td><td>0.06778</td></tr><tr><td>train_acc</td><td>0.125</td></tr><tr><td>train_loss</td><td>2.25653</td></tr></table><br/></div></div>"
            ]
          },
          "metadata": {}
        },
        {
          "output_type": "display_data",
          "data": {
            "text/plain": [
              "<IPython.core.display.HTML object>"
            ],
            "text/html": [
              " View run <strong style=\"color:#cdcd00\">GRU-Glove_K-200_Training</strong> at: <a href='https://wandb.ai/wilfried-mvomoeto-university-of-li-ge/Few-Shot-Training_gru_glove_fastText_Bahdanau_Multi-GRU-Glove-/runs/a957o8nt' target=\"_blank\">https://wandb.ai/wilfried-mvomoeto-university-of-li-ge/Few-Shot-Training_gru_glove_fastText_Bahdanau_Multi-GRU-Glove-/runs/a957o8nt</a><br> View project at: <a href='https://wandb.ai/wilfried-mvomoeto-university-of-li-ge/Few-Shot-Training_gru_glove_fastText_Bahdanau_Multi-GRU-Glove-' target=\"_blank\">https://wandb.ai/wilfried-mvomoeto-university-of-li-ge/Few-Shot-Training_gru_glove_fastText_Bahdanau_Multi-GRU-Glove-</a><br>Synced 5 W&B file(s), 0 media file(s), 0 artifact file(s) and 0 other file(s)"
            ]
          },
          "metadata": {}
        },
        {
          "output_type": "display_data",
          "data": {
            "text/plain": [
              "<IPython.core.display.HTML object>"
            ],
            "text/html": [
              "Find logs at: <code>./wandb/run-20250514_095342-a957o8nt/logs</code>"
            ]
          },
          "metadata": {}
        },
        {
          "output_type": "display_data",
          "data": {
            "text/plain": [
              "<IPython.core.display.HTML object>"
            ],
            "text/html": [
              "Tracking run with wandb version 0.19.11"
            ]
          },
          "metadata": {}
        },
        {
          "output_type": "display_data",
          "data": {
            "text/plain": [
              "<IPython.core.display.HTML object>"
            ],
            "text/html": [
              "Run data is saved locally in <code>/content/wandb/run-20250514_095346-6tb9lpfk</code>"
            ]
          },
          "metadata": {}
        },
        {
          "output_type": "display_data",
          "data": {
            "text/plain": [
              "<IPython.core.display.HTML object>"
            ],
            "text/html": [
              "Syncing run <strong><a href='https://wandb.ai/wilfried-mvomoeto-university-of-li-ge/Few-Shot-Training_gru_glove_fastText_Bahdanau_Multi-GRU-FastText-/runs/6tb9lpfk' target=\"_blank\">GRU-FastText_K-200_Training</a></strong> to <a href='https://wandb.ai/wilfried-mvomoeto-university-of-li-ge/Few-Shot-Training_gru_glove_fastText_Bahdanau_Multi-GRU-FastText-' target=\"_blank\">Weights & Biases</a> (<a href='https://wandb.me/developer-guide' target=\"_blank\">docs</a>)<br>"
            ]
          },
          "metadata": {}
        },
        {
          "output_type": "display_data",
          "data": {
            "text/plain": [
              "<IPython.core.display.HTML object>"
            ],
            "text/html": [
              " View project at <a href='https://wandb.ai/wilfried-mvomoeto-university-of-li-ge/Few-Shot-Training_gru_glove_fastText_Bahdanau_Multi-GRU-FastText-' target=\"_blank\">https://wandb.ai/wilfried-mvomoeto-university-of-li-ge/Few-Shot-Training_gru_glove_fastText_Bahdanau_Multi-GRU-FastText-</a>"
            ]
          },
          "metadata": {}
        },
        {
          "output_type": "display_data",
          "data": {
            "text/plain": [
              "<IPython.core.display.HTML object>"
            ],
            "text/html": [
              " View run at <a href='https://wandb.ai/wilfried-mvomoeto-university-of-li-ge/Few-Shot-Training_gru_glove_fastText_Bahdanau_Multi-GRU-FastText-/runs/6tb9lpfk' target=\"_blank\">https://wandb.ai/wilfried-mvomoeto-university-of-li-ge/Few-Shot-Training_gru_glove_fastText_Bahdanau_Multi-GRU-FastText-/runs/6tb9lpfk</a>"
            ]
          },
          "metadata": {}
        },
        {
          "output_type": "stream",
          "name": "stderr",
          "text": [
            "GRU-FastText K-200 Epoch 7/1000 - Train Loss: 2.2295, Test Loss: 2.2372, Train Acc: 11.17%, Test Acc: 6.81%, Test F1: 1.00%, Test Balanced Acc: 11.12%, Test Recall: 6.81%, Test Precision: 14.43%, Time: 1.56 sec:   1%|          | 7/1000 [00:12<28:35,  1.73s/epoch]"
          ]
        },
        {
          "output_type": "stream",
          "name": "stdout",
          "text": [
            "Early stopping triggered at epoch 8\n",
            "Model GRU-FastText_K-200 saved with loss gap > 1.25 or accuracy gap > 10% at epoch 7.\n",
            "\n",
            "Training with 400-shot...\n"
          ]
        },
        {
          "output_type": "stream",
          "name": "stderr",
          "text": [
            "\n",
            "<ipython-input-10-f03193db776b>:44: UserWarning: To copy construct from a tensor, it is recommended to use sourceTensor.clone().detach() or sourceTensor.clone().detach().requires_grad_(True), rather than torch.tensor(sourceTensor).\n",
            "  self.X = torch.tensor(X_data, dtype=torch.long)\n",
            "<ipython-input-10-f03193db776b>:45: UserWarning: To copy construct from a tensor, it is recommended to use sourceTensor.clone().detach() or sourceTensor.clone().detach().requires_grad_(True), rather than torch.tensor(sourceTensor).\n",
            "  self.y = torch.tensor(y_data, dtype=torch.long)\n"
          ]
        },
        {
          "output_type": "display_data",
          "data": {
            "text/plain": [
              "<IPython.core.display.HTML object>"
            ],
            "text/html": [
              "Finishing previous runs because reinit is set to 'default'."
            ]
          },
          "metadata": {}
        },
        {
          "output_type": "display_data",
          "data": {
            "text/plain": [
              "<IPython.core.display.HTML object>"
            ],
            "text/html": []
          },
          "metadata": {}
        },
        {
          "output_type": "display_data",
          "data": {
            "text/plain": [
              "<IPython.core.display.HTML object>"
            ],
            "text/html": [
              "<br>    <style><br>        .wandb-row {<br>            display: flex;<br>            flex-direction: row;<br>            flex-wrap: wrap;<br>            justify-content: flex-start;<br>            width: 100%;<br>        }<br>        .wandb-col {<br>            display: flex;<br>            flex-direction: column;<br>            flex-basis: 100%;<br>            flex: 1;<br>            padding: 10px;<br>        }<br>    </style><br><div class=\"wandb-row\"><div class=\"wandb-col\"><h3>Run history:</h3><br/><table class=\"wandb\"><tr><td>epoch</td><td>▁▂▃▄▅▆▇█</td></tr><tr><td>k_shot</td><td>▁▁▁▁▁▁▁▁</td></tr><tr><td>test_acc</td><td>▁▁▁▁▁▁▁█</td></tr><tr><td>test_balanced_acc</td><td>▁▁▁▁▁▁▁█</td></tr><tr><td>test_f1</td><td>▁▁▁▁▁▁▁█</td></tr><tr><td>test_loss</td><td>██▇▆▇▆█▁</td></tr><tr><td>test_precision</td><td>▂▂▁▂▃█▄▆</td></tr><tr><td>test_recall</td><td>▁▁▁▁▁▁▁█</td></tr><tr><td>train_acc</td><td>▂▃▄▃▁▁▃█</td></tr><tr><td>train_loss</td><td>█▆▆▆▄▅▄▁</td></tr></table><br/></div><div class=\"wandb-col\"><h3>Run summary:</h3><br/><table class=\"wandb\"><tr><td>epoch</td><td>8</td></tr><tr><td>k_shot</td><td>200</td></tr><tr><td>test_acc</td><td>0.07106</td></tr><tr><td>test_balanced_acc</td><td>0.11406</td></tr><tr><td>test_f1</td><td>0.0153</td></tr><tr><td>test_loss</td><td>2.19731</td></tr><tr><td>test_precision</td><td>0.17343</td></tr><tr><td>test_recall</td><td>0.07106</td></tr><tr><td>train_acc</td><td>0.12611</td></tr><tr><td>train_loss</td><td>2.19964</td></tr></table><br/></div></div>"
            ]
          },
          "metadata": {}
        },
        {
          "output_type": "display_data",
          "data": {
            "text/plain": [
              "<IPython.core.display.HTML object>"
            ],
            "text/html": [
              " View run <strong style=\"color:#cdcd00\">GRU-FastText_K-200_Training</strong> at: <a href='https://wandb.ai/wilfried-mvomoeto-university-of-li-ge/Few-Shot-Training_gru_glove_fastText_Bahdanau_Multi-GRU-FastText-/runs/6tb9lpfk' target=\"_blank\">https://wandb.ai/wilfried-mvomoeto-university-of-li-ge/Few-Shot-Training_gru_glove_fastText_Bahdanau_Multi-GRU-FastText-/runs/6tb9lpfk</a><br> View project at: <a href='https://wandb.ai/wilfried-mvomoeto-university-of-li-ge/Few-Shot-Training_gru_glove_fastText_Bahdanau_Multi-GRU-FastText-' target=\"_blank\">https://wandb.ai/wilfried-mvomoeto-university-of-li-ge/Few-Shot-Training_gru_glove_fastText_Bahdanau_Multi-GRU-FastText-</a><br>Synced 5 W&B file(s), 0 media file(s), 0 artifact file(s) and 0 other file(s)"
            ]
          },
          "metadata": {}
        },
        {
          "output_type": "display_data",
          "data": {
            "text/plain": [
              "<IPython.core.display.HTML object>"
            ],
            "text/html": [
              "Find logs at: <code>./wandb/run-20250514_095346-6tb9lpfk/logs</code>"
            ]
          },
          "metadata": {}
        },
        {
          "output_type": "display_data",
          "data": {
            "text/plain": [
              "<IPython.core.display.HTML object>"
            ],
            "text/html": [
              "Tracking run with wandb version 0.19.11"
            ]
          },
          "metadata": {}
        },
        {
          "output_type": "display_data",
          "data": {
            "text/plain": [
              "<IPython.core.display.HTML object>"
            ],
            "text/html": [
              "Run data is saved locally in <code>/content/wandb/run-20250514_095400-286w779c</code>"
            ]
          },
          "metadata": {}
        },
        {
          "output_type": "display_data",
          "data": {
            "text/plain": [
              "<IPython.core.display.HTML object>"
            ],
            "text/html": [
              "Syncing run <strong><a href='https://wandb.ai/wilfried-mvomoeto-university-of-li-ge/Few-Shot-Training_gru_glove_fastText_Bahdanau_Multi-GRU-Bah-Glove-/runs/286w779c' target=\"_blank\">GRU-Bah-Glove_K-400_Training</a></strong> to <a href='https://wandb.ai/wilfried-mvomoeto-university-of-li-ge/Few-Shot-Training_gru_glove_fastText_Bahdanau_Multi-GRU-Bah-Glove-' target=\"_blank\">Weights & Biases</a> (<a href='https://wandb.me/developer-guide' target=\"_blank\">docs</a>)<br>"
            ]
          },
          "metadata": {}
        },
        {
          "output_type": "display_data",
          "data": {
            "text/plain": [
              "<IPython.core.display.HTML object>"
            ],
            "text/html": [
              " View project at <a href='https://wandb.ai/wilfried-mvomoeto-university-of-li-ge/Few-Shot-Training_gru_glove_fastText_Bahdanau_Multi-GRU-Bah-Glove-' target=\"_blank\">https://wandb.ai/wilfried-mvomoeto-university-of-li-ge/Few-Shot-Training_gru_glove_fastText_Bahdanau_Multi-GRU-Bah-Glove-</a>"
            ]
          },
          "metadata": {}
        },
        {
          "output_type": "display_data",
          "data": {
            "text/plain": [
              "<IPython.core.display.HTML object>"
            ],
            "text/html": [
              " View run at <a href='https://wandb.ai/wilfried-mvomoeto-university-of-li-ge/Few-Shot-Training_gru_glove_fastText_Bahdanau_Multi-GRU-Bah-Glove-/runs/286w779c' target=\"_blank\">https://wandb.ai/wilfried-mvomoeto-university-of-li-ge/Few-Shot-Training_gru_glove_fastText_Bahdanau_Multi-GRU-Bah-Glove-/runs/286w779c</a>"
            ]
          },
          "metadata": {}
        },
        {
          "output_type": "stream",
          "name": "stderr",
          "text": [
            "GRU-Bah-Glove K-400 Epoch 16/1000 - Train Loss: 0.3942, Test Loss: 0.4595, Train Acc: 88.06%, Test Acc: 85.58%, Test F1: 85.74%, Test Balanced Acc: 85.99%, Test Recall: 85.58%, Test Precision: 86.61%, Time: 3.70 sec:   2%|▏         | 16/1000 [00:59<1:00:47,  3.71s/epoch]"
          ]
        },
        {
          "output_type": "stream",
          "name": "stdout",
          "text": [
            "Early stopping triggered at epoch 17\n",
            "Model GRU-Bah-Glove_K-400 saved with loss gap > 1.25 or accuracy gap > 10% at epoch 16.\n"
          ]
        },
        {
          "output_type": "stream",
          "name": "stderr",
          "text": [
            "\n",
            "<ipython-input-10-f03193db776b>:44: UserWarning: To copy construct from a tensor, it is recommended to use sourceTensor.clone().detach() or sourceTensor.clone().detach().requires_grad_(True), rather than torch.tensor(sourceTensor).\n",
            "  self.X = torch.tensor(X_data, dtype=torch.long)\n",
            "<ipython-input-10-f03193db776b>:45: UserWarning: To copy construct from a tensor, it is recommended to use sourceTensor.clone().detach() or sourceTensor.clone().detach().requires_grad_(True), rather than torch.tensor(sourceTensor).\n",
            "  self.y = torch.tensor(y_data, dtype=torch.long)\n"
          ]
        },
        {
          "output_type": "display_data",
          "data": {
            "text/plain": [
              "<IPython.core.display.HTML object>"
            ],
            "text/html": [
              "Finishing previous runs because reinit is set to 'default'."
            ]
          },
          "metadata": {}
        },
        {
          "output_type": "display_data",
          "data": {
            "text/plain": [
              "<IPython.core.display.HTML object>"
            ],
            "text/html": []
          },
          "metadata": {}
        },
        {
          "output_type": "display_data",
          "data": {
            "text/plain": [
              "<IPython.core.display.HTML object>"
            ],
            "text/html": [
              "<br>    <style><br>        .wandb-row {<br>            display: flex;<br>            flex-direction: row;<br>            flex-wrap: wrap;<br>            justify-content: flex-start;<br>            width: 100%;<br>        }<br>        .wandb-col {<br>            display: flex;<br>            flex-direction: column;<br>            flex-basis: 100%;<br>            flex: 1;<br>            padding: 10px;<br>        }<br>    </style><br><div class=\"wandb-row\"><div class=\"wandb-col\"><h3>Run history:</h3><br/><table class=\"wandb\"><tr><td>epoch</td><td>▁▁▂▂▃▃▄▄▅▅▅▆▆▇▇██</td></tr><tr><td>k_shot</td><td>▁▁▁▁▁▁▁▁▁▁▁▁▁▁▁▁▁</td></tr><tr><td>test_acc</td><td>▁▂▅▆▇▇▇██████████</td></tr><tr><td>test_balanced_acc</td><td>▁▃▅▆▇▇▇██████████</td></tr><tr><td>test_f1</td><td>▁▂▅▆▇▇▇██████████</td></tr><tr><td>test_loss</td><td>█▆▅▃▃▂▂▂▂▁▁▁▁▁▁▁▁</td></tr><tr><td>test_precision</td><td>▁▃▇▆▇▇███████████</td></tr><tr><td>test_recall</td><td>▁▂▅▆▇▇▇██████████</td></tr><tr><td>train_acc</td><td>▁▃▄▆▆▇▇▇█████████</td></tr><tr><td>train_loss</td><td>█▇▅▄▃▃▂▂▂▂▂▁▁▁▁▁▁</td></tr></table><br/></div><div class=\"wandb-col\"><h3>Run summary:</h3><br/><table class=\"wandb\"><tr><td>epoch</td><td>17</td></tr><tr><td>k_shot</td><td>400</td></tr><tr><td>test_acc</td><td>0.85236</td></tr><tr><td>test_balanced_acc</td><td>0.85671</td></tr><tr><td>test_f1</td><td>0.85506</td></tr><tr><td>test_loss</td><td>0.46779</td></tr><tr><td>test_precision</td><td>0.86731</td></tr><tr><td>test_recall</td><td>0.85236</td></tr><tr><td>train_acc</td><td>0.88556</td></tr><tr><td>train_loss</td><td>0.36848</td></tr></table><br/></div></div>"
            ]
          },
          "metadata": {}
        },
        {
          "output_type": "display_data",
          "data": {
            "text/plain": [
              "<IPython.core.display.HTML object>"
            ],
            "text/html": [
              " View run <strong style=\"color:#cdcd00\">GRU-Bah-Glove_K-400_Training</strong> at: <a href='https://wandb.ai/wilfried-mvomoeto-university-of-li-ge/Few-Shot-Training_gru_glove_fastText_Bahdanau_Multi-GRU-Bah-Glove-/runs/286w779c' target=\"_blank\">https://wandb.ai/wilfried-mvomoeto-university-of-li-ge/Few-Shot-Training_gru_glove_fastText_Bahdanau_Multi-GRU-Bah-Glove-/runs/286w779c</a><br> View project at: <a href='https://wandb.ai/wilfried-mvomoeto-university-of-li-ge/Few-Shot-Training_gru_glove_fastText_Bahdanau_Multi-GRU-Bah-Glove-' target=\"_blank\">https://wandb.ai/wilfried-mvomoeto-university-of-li-ge/Few-Shot-Training_gru_glove_fastText_Bahdanau_Multi-GRU-Bah-Glove-</a><br>Synced 5 W&B file(s), 0 media file(s), 0 artifact file(s) and 0 other file(s)"
            ]
          },
          "metadata": {}
        },
        {
          "output_type": "display_data",
          "data": {
            "text/plain": [
              "<IPython.core.display.HTML object>"
            ],
            "text/html": [
              "Find logs at: <code>./wandb/run-20250514_095400-286w779c/logs</code>"
            ]
          },
          "metadata": {}
        },
        {
          "output_type": "display_data",
          "data": {
            "text/plain": [
              "<IPython.core.display.HTML object>"
            ],
            "text/html": [
              "Tracking run with wandb version 0.19.11"
            ]
          },
          "metadata": {}
        },
        {
          "output_type": "display_data",
          "data": {
            "text/plain": [
              "<IPython.core.display.HTML object>"
            ],
            "text/html": [
              "Run data is saved locally in <code>/content/wandb/run-20250514_095501-33mhyiwj</code>"
            ]
          },
          "metadata": {}
        },
        {
          "output_type": "display_data",
          "data": {
            "text/plain": [
              "<IPython.core.display.HTML object>"
            ],
            "text/html": [
              "Syncing run <strong><a href='https://wandb.ai/wilfried-mvomoeto-university-of-li-ge/Few-Shot-Training_gru_glove_fastText_Bahdanau_Multi-GRU-Bah-FastText-/runs/33mhyiwj' target=\"_blank\">GRU-Bah-FastText_K-400_Training</a></strong> to <a href='https://wandb.ai/wilfried-mvomoeto-university-of-li-ge/Few-Shot-Training_gru_glove_fastText_Bahdanau_Multi-GRU-Bah-FastText-' target=\"_blank\">Weights & Biases</a> (<a href='https://wandb.me/developer-guide' target=\"_blank\">docs</a>)<br>"
            ]
          },
          "metadata": {}
        },
        {
          "output_type": "display_data",
          "data": {
            "text/plain": [
              "<IPython.core.display.HTML object>"
            ],
            "text/html": [
              " View project at <a href='https://wandb.ai/wilfried-mvomoeto-university-of-li-ge/Few-Shot-Training_gru_glove_fastText_Bahdanau_Multi-GRU-Bah-FastText-' target=\"_blank\">https://wandb.ai/wilfried-mvomoeto-university-of-li-ge/Few-Shot-Training_gru_glove_fastText_Bahdanau_Multi-GRU-Bah-FastText-</a>"
            ]
          },
          "metadata": {}
        },
        {
          "output_type": "display_data",
          "data": {
            "text/plain": [
              "<IPython.core.display.HTML object>"
            ],
            "text/html": [
              " View run at <a href='https://wandb.ai/wilfried-mvomoeto-university-of-li-ge/Few-Shot-Training_gru_glove_fastText_Bahdanau_Multi-GRU-Bah-FastText-/runs/33mhyiwj' target=\"_blank\">https://wandb.ai/wilfried-mvomoeto-university-of-li-ge/Few-Shot-Training_gru_glove_fastText_Bahdanau_Multi-GRU-Bah-FastText-/runs/33mhyiwj</a>"
            ]
          },
          "metadata": {}
        },
        {
          "output_type": "stream",
          "name": "stderr",
          "text": [
            "GRU-Bah-FastText K-400 Epoch 16/1000 - Train Loss: 0.3644, Test Loss: 0.4157, Train Acc: 89.92%, Test Acc: 87.13%, Test F1: 87.85%, Test Balanced Acc: 87.67%, Test Recall: 87.13%, Test Precision: 89.78%, Time: 3.44 sec:   2%|▏         | 16/1000 [00:59<1:00:29,  3.69s/epoch]"
          ]
        },
        {
          "output_type": "stream",
          "name": "stdout",
          "text": [
            "Early stopping triggered at epoch 17\n",
            "Model GRU-Bah-FastText_K-400 saved with loss gap > 1.25 or accuracy gap > 10% at epoch 16.\n"
          ]
        },
        {
          "output_type": "stream",
          "name": "stderr",
          "text": [
            "\n",
            "<ipython-input-10-f03193db776b>:44: UserWarning: To copy construct from a tensor, it is recommended to use sourceTensor.clone().detach() or sourceTensor.clone().detach().requires_grad_(True), rather than torch.tensor(sourceTensor).\n",
            "  self.X = torch.tensor(X_data, dtype=torch.long)\n",
            "<ipython-input-10-f03193db776b>:45: UserWarning: To copy construct from a tensor, it is recommended to use sourceTensor.clone().detach() or sourceTensor.clone().detach().requires_grad_(True), rather than torch.tensor(sourceTensor).\n",
            "  self.y = torch.tensor(y_data, dtype=torch.long)\n"
          ]
        },
        {
          "output_type": "display_data",
          "data": {
            "text/plain": [
              "<IPython.core.display.HTML object>"
            ],
            "text/html": [
              "Finishing previous runs because reinit is set to 'default'."
            ]
          },
          "metadata": {}
        },
        {
          "output_type": "display_data",
          "data": {
            "text/plain": [
              "<IPython.core.display.HTML object>"
            ],
            "text/html": []
          },
          "metadata": {}
        },
        {
          "output_type": "display_data",
          "data": {
            "text/plain": [
              "<IPython.core.display.HTML object>"
            ],
            "text/html": [
              "<br>    <style><br>        .wandb-row {<br>            display: flex;<br>            flex-direction: row;<br>            flex-wrap: wrap;<br>            justify-content: flex-start;<br>            width: 100%;<br>        }<br>        .wandb-col {<br>            display: flex;<br>            flex-direction: column;<br>            flex-basis: 100%;<br>            flex: 1;<br>            padding: 10px;<br>        }<br>    </style><br><div class=\"wandb-row\"><div class=\"wandb-col\"><h3>Run history:</h3><br/><table class=\"wandb\"><tr><td>epoch</td><td>▁▁▂▂▃▃▄▄▅▅▅▆▆▇▇██</td></tr><tr><td>k_shot</td><td>▁▁▁▁▁▁▁▁▁▁▁▁▁▁▁▁▁</td></tr><tr><td>test_acc</td><td>▁▂▄▅▆▆▇▇█████████</td></tr><tr><td>test_balanced_acc</td><td>▁▂▄▅▆▆▇▇█████████</td></tr><tr><td>test_f1</td><td>▁▂▃▅▆▆▇▇█████████</td></tr><tr><td>test_loss</td><td>█▇▆▅▄▄▃▂▂▁▁▁▁▁▁▁▁</td></tr><tr><td>test_precision</td><td>▁▂▄▅▆▇▇▇█████████</td></tr><tr><td>test_recall</td><td>▁▂▄▅▆▆▇▇█████████</td></tr><tr><td>train_acc</td><td>▁▂▃▄▅▅▆▇▇▇███████</td></tr><tr><td>train_loss</td><td>█▇▆▅▅▄▃▃▂▂▂▁▁▁▁▁▁</td></tr></table><br/></div><div class=\"wandb-col\"><h3>Run summary:</h3><br/><table class=\"wandb\"><tr><td>epoch</td><td>17</td></tr><tr><td>k_shot</td><td>400</td></tr><tr><td>test_acc</td><td>0.86564</td></tr><tr><td>test_balanced_acc</td><td>0.87118</td></tr><tr><td>test_f1</td><td>0.8757</td></tr><tr><td>test_loss</td><td>0.44147</td></tr><tr><td>test_precision</td><td>0.90212</td></tr><tr><td>test_recall</td><td>0.86564</td></tr><tr><td>train_acc</td><td>0.90194</td></tr><tr><td>train_loss</td><td>0.34231</td></tr></table><br/></div></div>"
            ]
          },
          "metadata": {}
        },
        {
          "output_type": "display_data",
          "data": {
            "text/plain": [
              "<IPython.core.display.HTML object>"
            ],
            "text/html": [
              " View run <strong style=\"color:#cdcd00\">GRU-Bah-FastText_K-400_Training</strong> at: <a href='https://wandb.ai/wilfried-mvomoeto-university-of-li-ge/Few-Shot-Training_gru_glove_fastText_Bahdanau_Multi-GRU-Bah-FastText-/runs/33mhyiwj' target=\"_blank\">https://wandb.ai/wilfried-mvomoeto-university-of-li-ge/Few-Shot-Training_gru_glove_fastText_Bahdanau_Multi-GRU-Bah-FastText-/runs/33mhyiwj</a><br> View project at: <a href='https://wandb.ai/wilfried-mvomoeto-university-of-li-ge/Few-Shot-Training_gru_glove_fastText_Bahdanau_Multi-GRU-Bah-FastText-' target=\"_blank\">https://wandb.ai/wilfried-mvomoeto-university-of-li-ge/Few-Shot-Training_gru_glove_fastText_Bahdanau_Multi-GRU-Bah-FastText-</a><br>Synced 5 W&B file(s), 0 media file(s), 0 artifact file(s) and 0 other file(s)"
            ]
          },
          "metadata": {}
        },
        {
          "output_type": "display_data",
          "data": {
            "text/plain": [
              "<IPython.core.display.HTML object>"
            ],
            "text/html": [
              "Find logs at: <code>./wandb/run-20250514_095501-33mhyiwj/logs</code>"
            ]
          },
          "metadata": {}
        },
        {
          "output_type": "display_data",
          "data": {
            "text/plain": [
              "<IPython.core.display.HTML object>"
            ],
            "text/html": [
              "Tracking run with wandb version 0.19.11"
            ]
          },
          "metadata": {}
        },
        {
          "output_type": "display_data",
          "data": {
            "text/plain": [
              "<IPython.core.display.HTML object>"
            ],
            "text/html": [
              "Run data is saved locally in <code>/content/wandb/run-20250514_095603-00ltetjk</code>"
            ]
          },
          "metadata": {}
        },
        {
          "output_type": "display_data",
          "data": {
            "text/plain": [
              "<IPython.core.display.HTML object>"
            ],
            "text/html": [
              "Syncing run <strong><a href='https://wandb.ai/wilfried-mvomoeto-university-of-li-ge/Few-Shot-Training_gru_glove_fastText_Bahdanau_Multi-CNN_LSTM-/runs/00ltetjk' target=\"_blank\">CNN_LSTM_K-400_Training</a></strong> to <a href='https://wandb.ai/wilfried-mvomoeto-university-of-li-ge/Few-Shot-Training_gru_glove_fastText_Bahdanau_Multi-CNN_LSTM-' target=\"_blank\">Weights & Biases</a> (<a href='https://wandb.me/developer-guide' target=\"_blank\">docs</a>)<br>"
            ]
          },
          "metadata": {}
        },
        {
          "output_type": "display_data",
          "data": {
            "text/plain": [
              "<IPython.core.display.HTML object>"
            ],
            "text/html": [
              " View project at <a href='https://wandb.ai/wilfried-mvomoeto-university-of-li-ge/Few-Shot-Training_gru_glove_fastText_Bahdanau_Multi-CNN_LSTM-' target=\"_blank\">https://wandb.ai/wilfried-mvomoeto-university-of-li-ge/Few-Shot-Training_gru_glove_fastText_Bahdanau_Multi-CNN_LSTM-</a>"
            ]
          },
          "metadata": {}
        },
        {
          "output_type": "display_data",
          "data": {
            "text/plain": [
              "<IPython.core.display.HTML object>"
            ],
            "text/html": [
              " View run at <a href='https://wandb.ai/wilfried-mvomoeto-university-of-li-ge/Few-Shot-Training_gru_glove_fastText_Bahdanau_Multi-CNN_LSTM-/runs/00ltetjk' target=\"_blank\">https://wandb.ai/wilfried-mvomoeto-university-of-li-ge/Few-Shot-Training_gru_glove_fastText_Bahdanau_Multi-CNN_LSTM-/runs/00ltetjk</a>"
            ]
          },
          "metadata": {}
        },
        {
          "output_type": "stream",
          "name": "stderr",
          "text": [
            "CNN_LSTM K-400 Epoch 38/1000 - Train Loss: 2.1648, Test Loss: 2.2172, Train Acc: 11.56%, Test Acc: 6.76%, Test F1: 0.96%, Test Balanced Acc: 11.05%, Test Recall: 6.76%, Test Precision: 8.71%, Time: 2.29 sec:   4%|▍         | 38/1000 [01:32<38:58,  2.43s/epoch]"
          ]
        },
        {
          "output_type": "stream",
          "name": "stdout",
          "text": [
            "Early stopping triggered at epoch 39\n",
            "Model CNN_LSTM_K-400 saved with loss gap > 1.25 or accuracy gap > 10% at epoch 38.\n"
          ]
        },
        {
          "output_type": "stream",
          "name": "stderr",
          "text": [
            "\n",
            "<ipython-input-10-f03193db776b>:44: UserWarning: To copy construct from a tensor, it is recommended to use sourceTensor.clone().detach() or sourceTensor.clone().detach().requires_grad_(True), rather than torch.tensor(sourceTensor).\n",
            "  self.X = torch.tensor(X_data, dtype=torch.long)\n",
            "<ipython-input-10-f03193db776b>:45: UserWarning: To copy construct from a tensor, it is recommended to use sourceTensor.clone().detach() or sourceTensor.clone().detach().requires_grad_(True), rather than torch.tensor(sourceTensor).\n",
            "  self.y = torch.tensor(y_data, dtype=torch.long)\n"
          ]
        },
        {
          "output_type": "display_data",
          "data": {
            "text/plain": [
              "<IPython.core.display.HTML object>"
            ],
            "text/html": [
              "Finishing previous runs because reinit is set to 'default'."
            ]
          },
          "metadata": {}
        },
        {
          "output_type": "display_data",
          "data": {
            "text/plain": [
              "<IPython.core.display.HTML object>"
            ],
            "text/html": []
          },
          "metadata": {}
        },
        {
          "output_type": "display_data",
          "data": {
            "text/plain": [
              "<IPython.core.display.HTML object>"
            ],
            "text/html": [
              "<br>    <style><br>        .wandb-row {<br>            display: flex;<br>            flex-direction: row;<br>            flex-wrap: wrap;<br>            justify-content: flex-start;<br>            width: 100%;<br>        }<br>        .wandb-col {<br>            display: flex;<br>            flex-direction: column;<br>            flex-basis: 100%;<br>            flex: 1;<br>            padding: 10px;<br>        }<br>    </style><br><div class=\"wandb-row\"><div class=\"wandb-col\"><h3>Run history:</h3><br/><table class=\"wandb\"><tr><td>epoch</td><td>▁▁▁▂▂▂▂▂▂▃▃▃▃▃▄▄▄▄▄▅▅▅▅▅▅▆▆▆▆▆▇▇▇▇▇▇███</td></tr><tr><td>k_shot</td><td>▁▁▁▁▁▁▁▁▁▁▁▁▁▁▁▁▁▁▁▁▁▁▁▁▁▁▁▁▁▁▁▁▁▁▁▁▁▁▁</td></tr><tr><td>test_acc</td><td>▅▅▅▅▅▅▄▂▇▄▄▇█▂▇▅▂▅▄▅▂▅▄▅▄▅▅▅▁▅▄▁▄▅▅▅▁▄▂</td></tr><tr><td>test_balanced_acc</td><td>▆▆▆▆▆▆▄▃▇▄▄▇█▃▇▆▃▆▄▆▃▆▄▅▄▃▅▅▂▅▃▂▃▄▄▄▁▃▃</td></tr><tr><td>test_f1</td><td>▁▁▁▁▁▁▃▁▃▃▃▃▅▃▃▃▃▃▃▁▁▃▃▅▃█▅▅▁▅▅▁▅██▆▃▆▃</td></tr><tr><td>test_loss</td><td>▂█▁▁▃▂▂▂▂▁▂▂▂▂▂▂▂▂▂▂▂▂▂▂▂▂▂▃▃▃▃▃▄▄▃▃▃▃▄</td></tr><tr><td>test_precision</td><td>▁▁▁▁▁▁▂▁▆▆▆▆█▆▆▆▆▆▄▁▁▂▄▅▄▃▃▄▁▄▄▁▄▄▆▆▂▅▂</td></tr><tr><td>test_recall</td><td>▅▅▅▅▅▅▄▂▇▄▄▇█▂▇▅▂▅▄▅▂▅▄▅▄▅▅▅▁▅▄▁▄▅▅▅▁▄▂</td></tr><tr><td>train_acc</td><td>▁▂▂▂▃▄▅▆▆▆▆▆▆▆▆▆▆▆▆▆▆▆▆▆▆▄▆▆▆▆▇▇▇▇▆▆▇▆█</td></tr><tr><td>train_loss</td><td>█▇▆▅▅▄▄▃▃▃▃▃▃▂▃▃▃▂▂▂▂▃▂▂▂█▃▂▂▂▂▂▂▂▂▂▁▁▁</td></tr></table><br/></div><div class=\"wandb-col\"><h3>Run summary:</h3><br/><table class=\"wandb\"><tr><td>epoch</td><td>39</td></tr><tr><td>k_shot</td><td>400</td></tr><tr><td>test_acc</td><td>0.06744</td></tr><tr><td>test_balanced_acc</td><td>0.11043</td></tr><tr><td>test_f1</td><td>0.00892</td></tr><tr><td>test_loss</td><td>2.22118</td></tr><tr><td>test_precision</td><td>0.02361</td></tr><tr><td>test_recall</td><td>0.06744</td></tr><tr><td>train_acc</td><td>0.1175</td></tr><tr><td>train_loss</td><td>2.16371</td></tr></table><br/></div></div>"
            ]
          },
          "metadata": {}
        },
        {
          "output_type": "display_data",
          "data": {
            "text/plain": [
              "<IPython.core.display.HTML object>"
            ],
            "text/html": [
              " View run <strong style=\"color:#cdcd00\">CNN_LSTM_K-400_Training</strong> at: <a href='https://wandb.ai/wilfried-mvomoeto-university-of-li-ge/Few-Shot-Training_gru_glove_fastText_Bahdanau_Multi-CNN_LSTM-/runs/00ltetjk' target=\"_blank\">https://wandb.ai/wilfried-mvomoeto-university-of-li-ge/Few-Shot-Training_gru_glove_fastText_Bahdanau_Multi-CNN_LSTM-/runs/00ltetjk</a><br> View project at: <a href='https://wandb.ai/wilfried-mvomoeto-university-of-li-ge/Few-Shot-Training_gru_glove_fastText_Bahdanau_Multi-CNN_LSTM-' target=\"_blank\">https://wandb.ai/wilfried-mvomoeto-university-of-li-ge/Few-Shot-Training_gru_glove_fastText_Bahdanau_Multi-CNN_LSTM-</a><br>Synced 5 W&B file(s), 0 media file(s), 0 artifact file(s) and 0 other file(s)"
            ]
          },
          "metadata": {}
        },
        {
          "output_type": "display_data",
          "data": {
            "text/plain": [
              "<IPython.core.display.HTML object>"
            ],
            "text/html": [
              "Find logs at: <code>./wandb/run-20250514_095603-00ltetjk/logs</code>"
            ]
          },
          "metadata": {}
        },
        {
          "output_type": "display_data",
          "data": {
            "text/plain": [
              "<IPython.core.display.HTML object>"
            ],
            "text/html": [
              "Tracking run with wandb version 0.19.11"
            ]
          },
          "metadata": {}
        },
        {
          "output_type": "display_data",
          "data": {
            "text/plain": [
              "<IPython.core.display.HTML object>"
            ],
            "text/html": [
              "Run data is saved locally in <code>/content/wandb/run-20250514_095738-qyrdnw7g</code>"
            ]
          },
          "metadata": {}
        },
        {
          "output_type": "display_data",
          "data": {
            "text/plain": [
              "<IPython.core.display.HTML object>"
            ],
            "text/html": [
              "Syncing run <strong><a href='https://wandb.ai/wilfried-mvomoeto-university-of-li-ge/Few-Shot-Training_gru_glove_fastText_Bahdanau_Multi-GRU-Glove-/runs/qyrdnw7g' target=\"_blank\">GRU-Glove_K-400_Training</a></strong> to <a href='https://wandb.ai/wilfried-mvomoeto-university-of-li-ge/Few-Shot-Training_gru_glove_fastText_Bahdanau_Multi-GRU-Glove-' target=\"_blank\">Weights & Biases</a> (<a href='https://wandb.me/developer-guide' target=\"_blank\">docs</a>)<br>"
            ]
          },
          "metadata": {}
        },
        {
          "output_type": "display_data",
          "data": {
            "text/plain": [
              "<IPython.core.display.HTML object>"
            ],
            "text/html": [
              " View project at <a href='https://wandb.ai/wilfried-mvomoeto-university-of-li-ge/Few-Shot-Training_gru_glove_fastText_Bahdanau_Multi-GRU-Glove-' target=\"_blank\">https://wandb.ai/wilfried-mvomoeto-university-of-li-ge/Few-Shot-Training_gru_glove_fastText_Bahdanau_Multi-GRU-Glove-</a>"
            ]
          },
          "metadata": {}
        },
        {
          "output_type": "display_data",
          "data": {
            "text/plain": [
              "<IPython.core.display.HTML object>"
            ],
            "text/html": [
              " View run at <a href='https://wandb.ai/wilfried-mvomoeto-university-of-li-ge/Few-Shot-Training_gru_glove_fastText_Bahdanau_Multi-GRU-Glove-/runs/qyrdnw7g' target=\"_blank\">https://wandb.ai/wilfried-mvomoeto-university-of-li-ge/Few-Shot-Training_gru_glove_fastText_Bahdanau_Multi-GRU-Glove-/runs/qyrdnw7g</a>"
            ]
          },
          "metadata": {}
        },
        {
          "output_type": "stream",
          "name": "stderr",
          "text": [
            "GRU-Glove K-400 Epoch 4/1000 - Train Loss: 1.7200, Test Loss: 1.8067, Train Acc: 33.67%, Test Acc: 32.55%, Test F1: 27.85%, Test Balanced Acc: 34.95%, Test Recall: 32.55%, Test Precision: 35.61%, Time: 2.35 sec:   0%|          | 4/1000 [00:11<49:45,  3.00s/epoch]"
          ]
        },
        {
          "output_type": "stream",
          "name": "stdout",
          "text": [
            "Early stopping triggered at epoch 5\n",
            "Model GRU-Glove_K-400 saved with loss gap > 1.25 or accuracy gap > 10% at epoch 4.\n"
          ]
        },
        {
          "output_type": "stream",
          "name": "stderr",
          "text": [
            "\n",
            "<ipython-input-10-f03193db776b>:44: UserWarning: To copy construct from a tensor, it is recommended to use sourceTensor.clone().detach() or sourceTensor.clone().detach().requires_grad_(True), rather than torch.tensor(sourceTensor).\n",
            "  self.X = torch.tensor(X_data, dtype=torch.long)\n",
            "<ipython-input-10-f03193db776b>:45: UserWarning: To copy construct from a tensor, it is recommended to use sourceTensor.clone().detach() or sourceTensor.clone().detach().requires_grad_(True), rather than torch.tensor(sourceTensor).\n",
            "  self.y = torch.tensor(y_data, dtype=torch.long)\n"
          ]
        },
        {
          "output_type": "display_data",
          "data": {
            "text/plain": [
              "<IPython.core.display.HTML object>"
            ],
            "text/html": [
              "Finishing previous runs because reinit is set to 'default'."
            ]
          },
          "metadata": {}
        },
        {
          "output_type": "display_data",
          "data": {
            "text/plain": [
              "<IPython.core.display.HTML object>"
            ],
            "text/html": []
          },
          "metadata": {}
        },
        {
          "output_type": "display_data",
          "data": {
            "text/plain": [
              "<IPython.core.display.HTML object>"
            ],
            "text/html": [
              "<br>    <style><br>        .wandb-row {<br>            display: flex;<br>            flex-direction: row;<br>            flex-wrap: wrap;<br>            justify-content: flex-start;<br>            width: 100%;<br>        }<br>        .wandb-col {<br>            display: flex;<br>            flex-direction: column;<br>            flex-basis: 100%;<br>            flex: 1;<br>            padding: 10px;<br>        }<br>    </style><br><div class=\"wandb-row\"><div class=\"wandb-col\"><h3>Run history:</h3><br/><table class=\"wandb\"><tr><td>epoch</td><td>▁▃▅▆█</td></tr><tr><td>k_shot</td><td>▁▁▁▁▁</td></tr><tr><td>test_acc</td><td>▁▂▄▆█</td></tr><tr><td>test_balanced_acc</td><td>▁▂▃▆█</td></tr><tr><td>test_f1</td><td>▁▂▃▆█</td></tr><tr><td>test_loss</td><td>██▇▃▁</td></tr><tr><td>test_precision</td><td>▁▂█▇█</td></tr><tr><td>test_recall</td><td>▁▂▄▆█</td></tr><tr><td>train_acc</td><td>▁▂▃▅█</td></tr><tr><td>train_loss</td><td>█▇▇▄▁</td></tr></table><br/></div><div class=\"wandb-col\"><h3>Run summary:</h3><br/><table class=\"wandb\"><tr><td>epoch</td><td>5</td></tr><tr><td>k_shot</td><td>400</td></tr><tr><td>test_acc</td><td>0.40014</td></tr><tr><td>test_balanced_acc</td><td>0.4208</td></tr><tr><td>test_f1</td><td>0.36776</td></tr><tr><td>test_loss</td><td>1.67616</td></tr><tr><td>test_precision</td><td>0.40379</td></tr><tr><td>test_recall</td><td>0.40014</td></tr><tr><td>train_acc</td><td>0.49944</td></tr><tr><td>train_loss</td><td>1.29188</td></tr></table><br/></div></div>"
            ]
          },
          "metadata": {}
        },
        {
          "output_type": "display_data",
          "data": {
            "text/plain": [
              "<IPython.core.display.HTML object>"
            ],
            "text/html": [
              " View run <strong style=\"color:#cdcd00\">GRU-Glove_K-400_Training</strong> at: <a href='https://wandb.ai/wilfried-mvomoeto-university-of-li-ge/Few-Shot-Training_gru_glove_fastText_Bahdanau_Multi-GRU-Glove-/runs/qyrdnw7g' target=\"_blank\">https://wandb.ai/wilfried-mvomoeto-university-of-li-ge/Few-Shot-Training_gru_glove_fastText_Bahdanau_Multi-GRU-Glove-/runs/qyrdnw7g</a><br> View project at: <a href='https://wandb.ai/wilfried-mvomoeto-university-of-li-ge/Few-Shot-Training_gru_glove_fastText_Bahdanau_Multi-GRU-Glove-' target=\"_blank\">https://wandb.ai/wilfried-mvomoeto-university-of-li-ge/Few-Shot-Training_gru_glove_fastText_Bahdanau_Multi-GRU-Glove-</a><br>Synced 5 W&B file(s), 0 media file(s), 0 artifact file(s) and 0 other file(s)"
            ]
          },
          "metadata": {}
        },
        {
          "output_type": "display_data",
          "data": {
            "text/plain": [
              "<IPython.core.display.HTML object>"
            ],
            "text/html": [
              "Find logs at: <code>./wandb/run-20250514_095738-qyrdnw7g/logs</code>"
            ]
          },
          "metadata": {}
        },
        {
          "output_type": "display_data",
          "data": {
            "text/plain": [
              "<IPython.core.display.HTML object>"
            ],
            "text/html": [
              "Tracking run with wandb version 0.19.11"
            ]
          },
          "metadata": {}
        },
        {
          "output_type": "display_data",
          "data": {
            "text/plain": [
              "<IPython.core.display.HTML object>"
            ],
            "text/html": [
              "Run data is saved locally in <code>/content/wandb/run-20250514_095752-irmnacuv</code>"
            ]
          },
          "metadata": {}
        },
        {
          "output_type": "display_data",
          "data": {
            "text/plain": [
              "<IPython.core.display.HTML object>"
            ],
            "text/html": [
              "Syncing run <strong><a href='https://wandb.ai/wilfried-mvomoeto-university-of-li-ge/Few-Shot-Training_gru_glove_fastText_Bahdanau_Multi-GRU-FastText-/runs/irmnacuv' target=\"_blank\">GRU-FastText_K-400_Training</a></strong> to <a href='https://wandb.ai/wilfried-mvomoeto-university-of-li-ge/Few-Shot-Training_gru_glove_fastText_Bahdanau_Multi-GRU-FastText-' target=\"_blank\">Weights & Biases</a> (<a href='https://wandb.me/developer-guide' target=\"_blank\">docs</a>)<br>"
            ]
          },
          "metadata": {}
        },
        {
          "output_type": "display_data",
          "data": {
            "text/plain": [
              "<IPython.core.display.HTML object>"
            ],
            "text/html": [
              " View project at <a href='https://wandb.ai/wilfried-mvomoeto-university-of-li-ge/Few-Shot-Training_gru_glove_fastText_Bahdanau_Multi-GRU-FastText-' target=\"_blank\">https://wandb.ai/wilfried-mvomoeto-university-of-li-ge/Few-Shot-Training_gru_glove_fastText_Bahdanau_Multi-GRU-FastText-</a>"
            ]
          },
          "metadata": {}
        },
        {
          "output_type": "display_data",
          "data": {
            "text/plain": [
              "<IPython.core.display.HTML object>"
            ],
            "text/html": [
              " View run at <a href='https://wandb.ai/wilfried-mvomoeto-university-of-li-ge/Few-Shot-Training_gru_glove_fastText_Bahdanau_Multi-GRU-FastText-/runs/irmnacuv' target=\"_blank\">https://wandb.ai/wilfried-mvomoeto-university-of-li-ge/Few-Shot-Training_gru_glove_fastText_Bahdanau_Multi-GRU-FastText-/runs/irmnacuv</a>"
            ]
          },
          "metadata": {}
        },
        {
          "output_type": "stream",
          "name": "stderr",
          "text": [
            "GRU-FastText K-400 Epoch 3/1000 - Train Loss: 1.8234, Test Loss: 1.8460, Train Acc: 30.19%, Test Acc: 31.06%, Test F1: 25.70%, Test Balanced Acc: 33.74%, Test Recall: 31.06%, Test Precision: 41.41%, Time: 2.34 sec:   0%|          | 3/1000 [00:09<53:15,  3.21s/epoch]"
          ]
        },
        {
          "output_type": "stream",
          "name": "stdout",
          "text": [
            "Early stopping triggered at epoch 4\n",
            "Model GRU-FastText_K-400 saved with loss gap > 1.25 or accuracy gap > 10% at epoch 3.\n",
            "\n",
            "Training with 600-shot...\n"
          ]
        },
        {
          "output_type": "stream",
          "name": "stderr",
          "text": [
            "\n",
            "<ipython-input-10-f03193db776b>:44: UserWarning: To copy construct from a tensor, it is recommended to use sourceTensor.clone().detach() or sourceTensor.clone().detach().requires_grad_(True), rather than torch.tensor(sourceTensor).\n",
            "  self.X = torch.tensor(X_data, dtype=torch.long)\n",
            "<ipython-input-10-f03193db776b>:45: UserWarning: To copy construct from a tensor, it is recommended to use sourceTensor.clone().detach() or sourceTensor.clone().detach().requires_grad_(True), rather than torch.tensor(sourceTensor).\n",
            "  self.y = torch.tensor(y_data, dtype=torch.long)\n"
          ]
        },
        {
          "output_type": "display_data",
          "data": {
            "text/plain": [
              "<IPython.core.display.HTML object>"
            ],
            "text/html": [
              "Finishing previous runs because reinit is set to 'default'."
            ]
          },
          "metadata": {}
        },
        {
          "output_type": "display_data",
          "data": {
            "text/plain": [
              "<IPython.core.display.HTML object>"
            ],
            "text/html": []
          },
          "metadata": {}
        },
        {
          "output_type": "display_data",
          "data": {
            "text/plain": [
              "<IPython.core.display.HTML object>"
            ],
            "text/html": [
              "<br>    <style><br>        .wandb-row {<br>            display: flex;<br>            flex-direction: row;<br>            flex-wrap: wrap;<br>            justify-content: flex-start;<br>            width: 100%;<br>        }<br>        .wandb-col {<br>            display: flex;<br>            flex-direction: column;<br>            flex-basis: 100%;<br>            flex: 1;<br>            padding: 10px;<br>        }<br>    </style><br><div class=\"wandb-row\"><div class=\"wandb-col\"><h3>Run history:</h3><br/><table class=\"wandb\"><tr><td>epoch</td><td>▁▃▆█</td></tr><tr><td>k_shot</td><td>▁▁▁▁</td></tr><tr><td>test_acc</td><td>▁▃▅█</td></tr><tr><td>test_balanced_acc</td><td>▁▂▅█</td></tr><tr><td>test_f1</td><td>▁▂▅█</td></tr><tr><td>test_loss</td><td>█▇▄▁</td></tr><tr><td>test_precision</td><td>▁▁▆█</td></tr><tr><td>test_recall</td><td>▁▃▅█</td></tr><tr><td>train_acc</td><td>▁▂▄█</td></tr><tr><td>train_loss</td><td>█▇▅▁</td></tr></table><br/></div><div class=\"wandb-col\"><h3>Run summary:</h3><br/><table class=\"wandb\"><tr><td>epoch</td><td>4</td></tr><tr><td>k_shot</td><td>400</td></tr><tr><td>test_acc</td><td>0.44826</td></tr><tr><td>test_balanced_acc</td><td>0.46956</td></tr><tr><td>test_f1</td><td>0.43099</td></tr><tr><td>test_loss</td><td>1.56446</td></tr><tr><td>test_precision</td><td>0.48305</td></tr><tr><td>test_recall</td><td>0.44826</td></tr><tr><td>train_acc</td><td>0.50389</td></tr><tr><td>train_loss</td><td>1.35773</td></tr></table><br/></div></div>"
            ]
          },
          "metadata": {}
        },
        {
          "output_type": "display_data",
          "data": {
            "text/plain": [
              "<IPython.core.display.HTML object>"
            ],
            "text/html": [
              " View run <strong style=\"color:#cdcd00\">GRU-FastText_K-400_Training</strong> at: <a href='https://wandb.ai/wilfried-mvomoeto-university-of-li-ge/Few-Shot-Training_gru_glove_fastText_Bahdanau_Multi-GRU-FastText-/runs/irmnacuv' target=\"_blank\">https://wandb.ai/wilfried-mvomoeto-university-of-li-ge/Few-Shot-Training_gru_glove_fastText_Bahdanau_Multi-GRU-FastText-/runs/irmnacuv</a><br> View project at: <a href='https://wandb.ai/wilfried-mvomoeto-university-of-li-ge/Few-Shot-Training_gru_glove_fastText_Bahdanau_Multi-GRU-FastText-' target=\"_blank\">https://wandb.ai/wilfried-mvomoeto-university-of-li-ge/Few-Shot-Training_gru_glove_fastText_Bahdanau_Multi-GRU-FastText-</a><br>Synced 5 W&B file(s), 0 media file(s), 0 artifact file(s) and 0 other file(s)"
            ]
          },
          "metadata": {}
        },
        {
          "output_type": "display_data",
          "data": {
            "text/plain": [
              "<IPython.core.display.HTML object>"
            ],
            "text/html": [
              "Find logs at: <code>./wandb/run-20250514_095752-irmnacuv/logs</code>"
            ]
          },
          "metadata": {}
        },
        {
          "output_type": "display_data",
          "data": {
            "text/plain": [
              "<IPython.core.display.HTML object>"
            ],
            "text/html": [
              "Tracking run with wandb version 0.19.11"
            ]
          },
          "metadata": {}
        },
        {
          "output_type": "display_data",
          "data": {
            "text/plain": [
              "<IPython.core.display.HTML object>"
            ],
            "text/html": [
              "Run data is saved locally in <code>/content/wandb/run-20250514_095804-ql6v64e1</code>"
            ]
          },
          "metadata": {}
        },
        {
          "output_type": "display_data",
          "data": {
            "text/plain": [
              "<IPython.core.display.HTML object>"
            ],
            "text/html": [
              "Syncing run <strong><a href='https://wandb.ai/wilfried-mvomoeto-university-of-li-ge/Few-Shot-Training_gru_glove_fastText_Bahdanau_Multi-GRU-Bah-Glove-/runs/ql6v64e1' target=\"_blank\">GRU-Bah-Glove_K-600_Training</a></strong> to <a href='https://wandb.ai/wilfried-mvomoeto-university-of-li-ge/Few-Shot-Training_gru_glove_fastText_Bahdanau_Multi-GRU-Bah-Glove-' target=\"_blank\">Weights & Biases</a> (<a href='https://wandb.me/developer-guide' target=\"_blank\">docs</a>)<br>"
            ]
          },
          "metadata": {}
        },
        {
          "output_type": "display_data",
          "data": {
            "text/plain": [
              "<IPython.core.display.HTML object>"
            ],
            "text/html": [
              " View project at <a href='https://wandb.ai/wilfried-mvomoeto-university-of-li-ge/Few-Shot-Training_gru_glove_fastText_Bahdanau_Multi-GRU-Bah-Glove-' target=\"_blank\">https://wandb.ai/wilfried-mvomoeto-university-of-li-ge/Few-Shot-Training_gru_glove_fastText_Bahdanau_Multi-GRU-Bah-Glove-</a>"
            ]
          },
          "metadata": {}
        },
        {
          "output_type": "display_data",
          "data": {
            "text/plain": [
              "<IPython.core.display.HTML object>"
            ],
            "text/html": [
              " View run at <a href='https://wandb.ai/wilfried-mvomoeto-university-of-li-ge/Few-Shot-Training_gru_glove_fastText_Bahdanau_Multi-GRU-Bah-Glove-/runs/ql6v64e1' target=\"_blank\">https://wandb.ai/wilfried-mvomoeto-university-of-li-ge/Few-Shot-Training_gru_glove_fastText_Bahdanau_Multi-GRU-Bah-Glove-/runs/ql6v64e1</a>"
            ]
          },
          "metadata": {}
        },
        {
          "output_type": "stream",
          "name": "stderr",
          "text": [
            "GRU-Bah-Glove K-600 Epoch 15/1000 - Train Loss: 0.3318, Test Loss: 0.4056, Train Acc: 90.19%, Test Acc: 87.37%, Test F1: 87.89%, Test Balanced Acc: 87.82%, Test Recall: 87.37%, Test Precision: 89.23%, Time: 4.77 sec:   2%|▏         | 15/1000 [01:15<1:22:39,  5.03s/epoch]"
          ]
        },
        {
          "output_type": "stream",
          "name": "stdout",
          "text": [
            "Early stopping triggered at epoch 16\n",
            "Model GRU-Bah-Glove_K-600 saved with loss gap > 1.25 or accuracy gap > 10% at epoch 15.\n"
          ]
        },
        {
          "output_type": "stream",
          "name": "stderr",
          "text": [
            "\n",
            "<ipython-input-10-f03193db776b>:44: UserWarning: To copy construct from a tensor, it is recommended to use sourceTensor.clone().detach() or sourceTensor.clone().detach().requires_grad_(True), rather than torch.tensor(sourceTensor).\n",
            "  self.X = torch.tensor(X_data, dtype=torch.long)\n",
            "<ipython-input-10-f03193db776b>:45: UserWarning: To copy construct from a tensor, it is recommended to use sourceTensor.clone().detach() or sourceTensor.clone().detach().requires_grad_(True), rather than torch.tensor(sourceTensor).\n",
            "  self.y = torch.tensor(y_data, dtype=torch.long)\n"
          ]
        },
        {
          "output_type": "display_data",
          "data": {
            "text/plain": [
              "<IPython.core.display.HTML object>"
            ],
            "text/html": [
              "Finishing previous runs because reinit is set to 'default'."
            ]
          },
          "metadata": {}
        },
        {
          "output_type": "display_data",
          "data": {
            "text/plain": [
              "<IPython.core.display.HTML object>"
            ],
            "text/html": []
          },
          "metadata": {}
        },
        {
          "output_type": "display_data",
          "data": {
            "text/plain": [
              "<IPython.core.display.HTML object>"
            ],
            "text/html": [
              "<br>    <style><br>        .wandb-row {<br>            display: flex;<br>            flex-direction: row;<br>            flex-wrap: wrap;<br>            justify-content: flex-start;<br>            width: 100%;<br>        }<br>        .wandb-col {<br>            display: flex;<br>            flex-direction: column;<br>            flex-basis: 100%;<br>            flex: 1;<br>            padding: 10px;<br>        }<br>    </style><br><div class=\"wandb-row\"><div class=\"wandb-col\"><h3>Run history:</h3><br/><table class=\"wandb\"><tr><td>epoch</td><td>▁▁▂▂▃▃▄▄▅▅▆▆▇▇██</td></tr><tr><td>k_shot</td><td>▁▁▁▁▁▁▁▁▁▁▁▁▁▁▁▁</td></tr><tr><td>test_acc</td><td>▁▂▃▆▆▇██████████</td></tr><tr><td>test_balanced_acc</td><td>▁▂▃▆▆▇██████████</td></tr><tr><td>test_f1</td><td>▁▂▃▅▆▇██████████</td></tr><tr><td>test_loss</td><td>█▇▆▄▃▂▂▁▁▁▁▁▁▁▁▁</td></tr><tr><td>test_precision</td><td>▁▂▄▆▆▇██████████</td></tr><tr><td>test_recall</td><td>▁▂▃▆▆▇██████████</td></tr><tr><td>train_acc</td><td>▁▂▂▄▆▆▇▇████████</td></tr><tr><td>train_loss</td><td>█▇▇▅▄▃▂▂▂▁▁▁▁▁▁▁</td></tr></table><br/></div><div class=\"wandb-col\"><h3>Run summary:</h3><br/><table class=\"wandb\"><tr><td>epoch</td><td>16</td></tr><tr><td>k_shot</td><td>600</td></tr><tr><td>test_acc</td><td>0.87582</td></tr><tr><td>test_balanced_acc</td><td>0.87947</td></tr><tr><td>test_f1</td><td>0.88041</td></tr><tr><td>test_loss</td><td>0.40785</td></tr><tr><td>test_precision</td><td>0.8907</td></tr><tr><td>test_recall</td><td>0.87582</td></tr><tr><td>train_acc</td><td>0.90611</td></tr><tr><td>train_loss</td><td>0.32478</td></tr></table><br/></div></div>"
            ]
          },
          "metadata": {}
        },
        {
          "output_type": "display_data",
          "data": {
            "text/plain": [
              "<IPython.core.display.HTML object>"
            ],
            "text/html": [
              " View run <strong style=\"color:#cdcd00\">GRU-Bah-Glove_K-600_Training</strong> at: <a href='https://wandb.ai/wilfried-mvomoeto-university-of-li-ge/Few-Shot-Training_gru_glove_fastText_Bahdanau_Multi-GRU-Bah-Glove-/runs/ql6v64e1' target=\"_blank\">https://wandb.ai/wilfried-mvomoeto-university-of-li-ge/Few-Shot-Training_gru_glove_fastText_Bahdanau_Multi-GRU-Bah-Glove-/runs/ql6v64e1</a><br> View project at: <a href='https://wandb.ai/wilfried-mvomoeto-university-of-li-ge/Few-Shot-Training_gru_glove_fastText_Bahdanau_Multi-GRU-Bah-Glove-' target=\"_blank\">https://wandb.ai/wilfried-mvomoeto-university-of-li-ge/Few-Shot-Training_gru_glove_fastText_Bahdanau_Multi-GRU-Bah-Glove-</a><br>Synced 5 W&B file(s), 0 media file(s), 0 artifact file(s) and 0 other file(s)"
            ]
          },
          "metadata": {}
        },
        {
          "output_type": "display_data",
          "data": {
            "text/plain": [
              "<IPython.core.display.HTML object>"
            ],
            "text/html": [
              "Find logs at: <code>./wandb/run-20250514_095804-ql6v64e1/logs</code>"
            ]
          },
          "metadata": {}
        },
        {
          "output_type": "display_data",
          "data": {
            "text/plain": [
              "<IPython.core.display.HTML object>"
            ],
            "text/html": [
              "Tracking run with wandb version 0.19.11"
            ]
          },
          "metadata": {}
        },
        {
          "output_type": "display_data",
          "data": {
            "text/plain": [
              "<IPython.core.display.HTML object>"
            ],
            "text/html": [
              "Run data is saved locally in <code>/content/wandb/run-20250514_095921-g1w64zmq</code>"
            ]
          },
          "metadata": {}
        },
        {
          "output_type": "display_data",
          "data": {
            "text/plain": [
              "<IPython.core.display.HTML object>"
            ],
            "text/html": [
              "Syncing run <strong><a href='https://wandb.ai/wilfried-mvomoeto-university-of-li-ge/Few-Shot-Training_gru_glove_fastText_Bahdanau_Multi-GRU-Bah-FastText-/runs/g1w64zmq' target=\"_blank\">GRU-Bah-FastText_K-600_Training</a></strong> to <a href='https://wandb.ai/wilfried-mvomoeto-university-of-li-ge/Few-Shot-Training_gru_glove_fastText_Bahdanau_Multi-GRU-Bah-FastText-' target=\"_blank\">Weights & Biases</a> (<a href='https://wandb.me/developer-guide' target=\"_blank\">docs</a>)<br>"
            ]
          },
          "metadata": {}
        },
        {
          "output_type": "display_data",
          "data": {
            "text/plain": [
              "<IPython.core.display.HTML object>"
            ],
            "text/html": [
              " View project at <a href='https://wandb.ai/wilfried-mvomoeto-university-of-li-ge/Few-Shot-Training_gru_glove_fastText_Bahdanau_Multi-GRU-Bah-FastText-' target=\"_blank\">https://wandb.ai/wilfried-mvomoeto-university-of-li-ge/Few-Shot-Training_gru_glove_fastText_Bahdanau_Multi-GRU-Bah-FastText-</a>"
            ]
          },
          "metadata": {}
        },
        {
          "output_type": "display_data",
          "data": {
            "text/plain": [
              "<IPython.core.display.HTML object>"
            ],
            "text/html": [
              " View run at <a href='https://wandb.ai/wilfried-mvomoeto-university-of-li-ge/Few-Shot-Training_gru_glove_fastText_Bahdanau_Multi-GRU-Bah-FastText-/runs/g1w64zmq' target=\"_blank\">https://wandb.ai/wilfried-mvomoeto-university-of-li-ge/Few-Shot-Training_gru_glove_fastText_Bahdanau_Multi-GRU-Bah-FastText-/runs/g1w64zmq</a>"
            ]
          },
          "metadata": {}
        },
        {
          "output_type": "stream",
          "name": "stderr",
          "text": [
            "GRU-Bah-FastText K-600 Epoch 14/1000 - Train Loss: 0.4149, Test Loss: 0.4766, Train Acc: 87.70%, Test Acc: 85.63%, Test F1: 86.08%, Test Balanced Acc: 86.01%, Test Recall: 85.63%, Test Precision: 87.13%, Time: 4.70 sec:   1%|▏         | 14/1000 [01:10<1:23:07,  5.06s/epoch]"
          ]
        },
        {
          "output_type": "stream",
          "name": "stdout",
          "text": [
            "Early stopping triggered at epoch 15\n",
            "Model GRU-Bah-FastText_K-600 saved with loss gap > 1.25 or accuracy gap > 10% at epoch 14.\n"
          ]
        },
        {
          "output_type": "stream",
          "name": "stderr",
          "text": [
            "\n",
            "<ipython-input-10-f03193db776b>:44: UserWarning: To copy construct from a tensor, it is recommended to use sourceTensor.clone().detach() or sourceTensor.clone().detach().requires_grad_(True), rather than torch.tensor(sourceTensor).\n",
            "  self.X = torch.tensor(X_data, dtype=torch.long)\n",
            "<ipython-input-10-f03193db776b>:45: UserWarning: To copy construct from a tensor, it is recommended to use sourceTensor.clone().detach() or sourceTensor.clone().detach().requires_grad_(True), rather than torch.tensor(sourceTensor).\n",
            "  self.y = torch.tensor(y_data, dtype=torch.long)\n"
          ]
        },
        {
          "output_type": "display_data",
          "data": {
            "text/plain": [
              "<IPython.core.display.HTML object>"
            ],
            "text/html": [
              "Finishing previous runs because reinit is set to 'default'."
            ]
          },
          "metadata": {}
        },
        {
          "output_type": "display_data",
          "data": {
            "text/plain": [
              "<IPython.core.display.HTML object>"
            ],
            "text/html": []
          },
          "metadata": {}
        },
        {
          "output_type": "display_data",
          "data": {
            "text/plain": [
              "<IPython.core.display.HTML object>"
            ],
            "text/html": [
              "<br>    <style><br>        .wandb-row {<br>            display: flex;<br>            flex-direction: row;<br>            flex-wrap: wrap;<br>            justify-content: flex-start;<br>            width: 100%;<br>        }<br>        .wandb-col {<br>            display: flex;<br>            flex-direction: column;<br>            flex-basis: 100%;<br>            flex: 1;<br>            padding: 10px;<br>        }<br>    </style><br><div class=\"wandb-row\"><div class=\"wandb-col\"><h3>Run history:</h3><br/><table class=\"wandb\"><tr><td>epoch</td><td>▁▁▂▃▃▃▄▅▅▅▆▇▇▇█</td></tr><tr><td>k_shot</td><td>▁▁▁▁▁▁▁▁▁▁▁▁▁▁▁</td></tr><tr><td>test_acc</td><td>▁▂▄▅▅▆▇▇▇██████</td></tr><tr><td>test_balanced_acc</td><td>▁▂▄▅▅▆▇▇▇██████</td></tr><tr><td>test_f1</td><td>▁▃▄▅▅▆▇▇▇██████</td></tr><tr><td>test_loss</td><td>█▇▆▅▄▄▃▂▂▁▁▁▁▁▁</td></tr><tr><td>test_precision</td><td>▁▂▄▅▅▆▇▇▇██████</td></tr><tr><td>test_recall</td><td>▁▂▄▅▅▆▇▇▇██████</td></tr><tr><td>train_acc</td><td>▁▃▃▄▅▅▆▇▇▇█████</td></tr><tr><td>train_loss</td><td>█▆▅▅▄▄▃▃▂▂▂▁▁▁▁</td></tr></table><br/></div><div class=\"wandb-col\"><h3>Run summary:</h3><br/><table class=\"wandb\"><tr><td>epoch</td><td>15</td></tr><tr><td>k_shot</td><td>600</td></tr><tr><td>test_acc</td><td>0.85667</td></tr><tr><td>test_balanced_acc</td><td>0.86085</td></tr><tr><td>test_f1</td><td>0.86161</td></tr><tr><td>test_loss</td><td>0.47368</td></tr><tr><td>test_precision</td><td>0.8731</td></tr><tr><td>test_recall</td><td>0.85667</td></tr><tr><td>train_acc</td><td>0.8863</td></tr><tr><td>train_loss</td><td>0.37717</td></tr></table><br/></div></div>"
            ]
          },
          "metadata": {}
        },
        {
          "output_type": "display_data",
          "data": {
            "text/plain": [
              "<IPython.core.display.HTML object>"
            ],
            "text/html": [
              " View run <strong style=\"color:#cdcd00\">GRU-Bah-FastText_K-600_Training</strong> at: <a href='https://wandb.ai/wilfried-mvomoeto-university-of-li-ge/Few-Shot-Training_gru_glove_fastText_Bahdanau_Multi-GRU-Bah-FastText-/runs/g1w64zmq' target=\"_blank\">https://wandb.ai/wilfried-mvomoeto-university-of-li-ge/Few-Shot-Training_gru_glove_fastText_Bahdanau_Multi-GRU-Bah-FastText-/runs/g1w64zmq</a><br> View project at: <a href='https://wandb.ai/wilfried-mvomoeto-university-of-li-ge/Few-Shot-Training_gru_glove_fastText_Bahdanau_Multi-GRU-Bah-FastText-' target=\"_blank\">https://wandb.ai/wilfried-mvomoeto-university-of-li-ge/Few-Shot-Training_gru_glove_fastText_Bahdanau_Multi-GRU-Bah-FastText-</a><br>Synced 5 W&B file(s), 0 media file(s), 0 artifact file(s) and 0 other file(s)"
            ]
          },
          "metadata": {}
        },
        {
          "output_type": "display_data",
          "data": {
            "text/plain": [
              "<IPython.core.display.HTML object>"
            ],
            "text/html": [
              "Find logs at: <code>./wandb/run-20250514_095921-g1w64zmq/logs</code>"
            ]
          },
          "metadata": {}
        },
        {
          "output_type": "display_data",
          "data": {
            "text/plain": [
              "<IPython.core.display.HTML object>"
            ],
            "text/html": [
              "Tracking run with wandb version 0.19.11"
            ]
          },
          "metadata": {}
        },
        {
          "output_type": "display_data",
          "data": {
            "text/plain": [
              "<IPython.core.display.HTML object>"
            ],
            "text/html": [
              "Run data is saved locally in <code>/content/wandb/run-20250514_100034-1iqi2st3</code>"
            ]
          },
          "metadata": {}
        },
        {
          "output_type": "display_data",
          "data": {
            "text/plain": [
              "<IPython.core.display.HTML object>"
            ],
            "text/html": [
              "Syncing run <strong><a href='https://wandb.ai/wilfried-mvomoeto-university-of-li-ge/Few-Shot-Training_gru_glove_fastText_Bahdanau_Multi-CNN_LSTM-/runs/1iqi2st3' target=\"_blank\">CNN_LSTM_K-600_Training</a></strong> to <a href='https://wandb.ai/wilfried-mvomoeto-university-of-li-ge/Few-Shot-Training_gru_glove_fastText_Bahdanau_Multi-CNN_LSTM-' target=\"_blank\">Weights & Biases</a> (<a href='https://wandb.me/developer-guide' target=\"_blank\">docs</a>)<br>"
            ]
          },
          "metadata": {}
        },
        {
          "output_type": "display_data",
          "data": {
            "text/plain": [
              "<IPython.core.display.HTML object>"
            ],
            "text/html": [
              " View project at <a href='https://wandb.ai/wilfried-mvomoeto-university-of-li-ge/Few-Shot-Training_gru_glove_fastText_Bahdanau_Multi-CNN_LSTM-' target=\"_blank\">https://wandb.ai/wilfried-mvomoeto-university-of-li-ge/Few-Shot-Training_gru_glove_fastText_Bahdanau_Multi-CNN_LSTM-</a>"
            ]
          },
          "metadata": {}
        },
        {
          "output_type": "display_data",
          "data": {
            "text/plain": [
              "<IPython.core.display.HTML object>"
            ],
            "text/html": [
              " View run at <a href='https://wandb.ai/wilfried-mvomoeto-university-of-li-ge/Few-Shot-Training_gru_glove_fastText_Bahdanau_Multi-CNN_LSTM-/runs/1iqi2st3' target=\"_blank\">https://wandb.ai/wilfried-mvomoeto-university-of-li-ge/Few-Shot-Training_gru_glove_fastText_Bahdanau_Multi-CNN_LSTM-/runs/1iqi2st3</a>"
            ]
          },
          "metadata": {}
        },
        {
          "output_type": "stream",
          "name": "stderr",
          "text": [
            "CNN_LSTM K-600 Epoch 11/1000 - Train Loss: 2.1634, Test Loss: 2.2130, Train Acc: 11.76%, Test Acc: 6.78%, Test F1: 0.93%, Test Balanced Acc: 11.09%, Test Recall: 6.78%, Test Precision: 5.79%, Time: 3.10 sec:   1%|          | 11/1000 [00:38<58:10,  3.53s/epoch]"
          ]
        },
        {
          "output_type": "stream",
          "name": "stdout",
          "text": [
            "Early stopping triggered at epoch 12\n",
            "Model CNN_LSTM_K-600 saved with loss gap > 1.25 or accuracy gap > 10% at epoch 11.\n"
          ]
        },
        {
          "output_type": "stream",
          "name": "stderr",
          "text": [
            "\n",
            "<ipython-input-10-f03193db776b>:44: UserWarning: To copy construct from a tensor, it is recommended to use sourceTensor.clone().detach() or sourceTensor.clone().detach().requires_grad_(True), rather than torch.tensor(sourceTensor).\n",
            "  self.X = torch.tensor(X_data, dtype=torch.long)\n",
            "<ipython-input-10-f03193db776b>:45: UserWarning: To copy construct from a tensor, it is recommended to use sourceTensor.clone().detach() or sourceTensor.clone().detach().requires_grad_(True), rather than torch.tensor(sourceTensor).\n",
            "  self.y = torch.tensor(y_data, dtype=torch.long)\n"
          ]
        },
        {
          "output_type": "display_data",
          "data": {
            "text/plain": [
              "<IPython.core.display.HTML object>"
            ],
            "text/html": [
              "Finishing previous runs because reinit is set to 'default'."
            ]
          },
          "metadata": {}
        },
        {
          "output_type": "display_data",
          "data": {
            "text/plain": [
              "<IPython.core.display.HTML object>"
            ],
            "text/html": []
          },
          "metadata": {}
        },
        {
          "output_type": "display_data",
          "data": {
            "text/plain": [
              "<IPython.core.display.HTML object>"
            ],
            "text/html": [
              "<br>    <style><br>        .wandb-row {<br>            display: flex;<br>            flex-direction: row;<br>            flex-wrap: wrap;<br>            justify-content: flex-start;<br>            width: 100%;<br>        }<br>        .wandb-col {<br>            display: flex;<br>            flex-direction: column;<br>            flex-basis: 100%;<br>            flex: 1;<br>            padding: 10px;<br>        }<br>    </style><br><div class=\"wandb-row\"><div class=\"wandb-col\"><h3>Run history:</h3><br/><table class=\"wandb\"><tr><td>epoch</td><td>▁▂▂▃▄▄▅▅▆▇▇█</td></tr><tr><td>k_shot</td><td>▁▁▁▁▁▁▁▁▁▁▁▁</td></tr><tr><td>test_acc</td><td>▅▅▁▁▅▅▅▅▅▅▅█</td></tr><tr><td>test_balanced_acc</td><td>██▁▁▂▂▂▂▂▂▂▆</td></tr><tr><td>test_f1</td><td>▁▁▁▁▆▆▆▆▆▆▆█</td></tr><tr><td>test_loss</td><td>▂▃▂▂▂▃▁▁▃█▃▄</td></tr><tr><td>test_precision</td><td>▁▁▁▁▂▄▄█▅▂▃▄</td></tr><tr><td>test_recall</td><td>▅▅▁▁▅▅▅▅▅▅▅█</td></tr><tr><td>train_acc</td><td>▁▁▃▄▅▆▇▇████</td></tr><tr><td>train_loss</td><td>█▆▆▄▃▃▂▂▂▁▁▁</td></tr></table><br/></div><div class=\"wandb-col\"><h3>Run summary:</h3><br/><table class=\"wandb\"><tr><td>epoch</td><td>12</td></tr><tr><td>k_shot</td><td>600</td></tr><tr><td>test_acc</td><td>0.06795</td></tr><tr><td>test_balanced_acc</td><td>0.11103</td></tr><tr><td>test_f1</td><td>0.00962</td></tr><tr><td>test_loss</td><td>2.21514</td></tr><tr><td>test_precision</td><td>0.10883</td></tr><tr><td>test_recall</td><td>0.06795</td></tr><tr><td>train_acc</td><td>0.11796</td></tr><tr><td>train_loss</td><td>2.16459</td></tr></table><br/></div></div>"
            ]
          },
          "metadata": {}
        },
        {
          "output_type": "display_data",
          "data": {
            "text/plain": [
              "<IPython.core.display.HTML object>"
            ],
            "text/html": [
              " View run <strong style=\"color:#cdcd00\">CNN_LSTM_K-600_Training</strong> at: <a href='https://wandb.ai/wilfried-mvomoeto-university-of-li-ge/Few-Shot-Training_gru_glove_fastText_Bahdanau_Multi-CNN_LSTM-/runs/1iqi2st3' target=\"_blank\">https://wandb.ai/wilfried-mvomoeto-university-of-li-ge/Few-Shot-Training_gru_glove_fastText_Bahdanau_Multi-CNN_LSTM-/runs/1iqi2st3</a><br> View project at: <a href='https://wandb.ai/wilfried-mvomoeto-university-of-li-ge/Few-Shot-Training_gru_glove_fastText_Bahdanau_Multi-CNN_LSTM-' target=\"_blank\">https://wandb.ai/wilfried-mvomoeto-university-of-li-ge/Few-Shot-Training_gru_glove_fastText_Bahdanau_Multi-CNN_LSTM-</a><br>Synced 5 W&B file(s), 0 media file(s), 0 artifact file(s) and 0 other file(s)"
            ]
          },
          "metadata": {}
        },
        {
          "output_type": "display_data",
          "data": {
            "text/plain": [
              "<IPython.core.display.HTML object>"
            ],
            "text/html": [
              "Find logs at: <code>./wandb/run-20250514_100034-1iqi2st3/logs</code>"
            ]
          },
          "metadata": {}
        },
        {
          "output_type": "display_data",
          "data": {
            "text/plain": [
              "<IPython.core.display.HTML object>"
            ],
            "text/html": [
              "Tracking run with wandb version 0.19.11"
            ]
          },
          "metadata": {}
        },
        {
          "output_type": "display_data",
          "data": {
            "text/plain": [
              "<IPython.core.display.HTML object>"
            ],
            "text/html": [
              "Run data is saved locally in <code>/content/wandb/run-20250514_100115-h533serv</code>"
            ]
          },
          "metadata": {}
        },
        {
          "output_type": "display_data",
          "data": {
            "text/plain": [
              "<IPython.core.display.HTML object>"
            ],
            "text/html": [
              "Syncing run <strong><a href='https://wandb.ai/wilfried-mvomoeto-university-of-li-ge/Few-Shot-Training_gru_glove_fastText_Bahdanau_Multi-GRU-Glove-/runs/h533serv' target=\"_blank\">GRU-Glove_K-600_Training</a></strong> to <a href='https://wandb.ai/wilfried-mvomoeto-university-of-li-ge/Few-Shot-Training_gru_glove_fastText_Bahdanau_Multi-GRU-Glove-' target=\"_blank\">Weights & Biases</a> (<a href='https://wandb.me/developer-guide' target=\"_blank\">docs</a>)<br>"
            ]
          },
          "metadata": {}
        },
        {
          "output_type": "display_data",
          "data": {
            "text/plain": [
              "<IPython.core.display.HTML object>"
            ],
            "text/html": [
              " View project at <a href='https://wandb.ai/wilfried-mvomoeto-university-of-li-ge/Few-Shot-Training_gru_glove_fastText_Bahdanau_Multi-GRU-Glove-' target=\"_blank\">https://wandb.ai/wilfried-mvomoeto-university-of-li-ge/Few-Shot-Training_gru_glove_fastText_Bahdanau_Multi-GRU-Glove-</a>"
            ]
          },
          "metadata": {}
        },
        {
          "output_type": "display_data",
          "data": {
            "text/plain": [
              "<IPython.core.display.HTML object>"
            ],
            "text/html": [
              " View run at <a href='https://wandb.ai/wilfried-mvomoeto-university-of-li-ge/Few-Shot-Training_gru_glove_fastText_Bahdanau_Multi-GRU-Glove-/runs/h533serv' target=\"_blank\">https://wandb.ai/wilfried-mvomoeto-university-of-li-ge/Few-Shot-Training_gru_glove_fastText_Bahdanau_Multi-GRU-Glove-/runs/h533serv</a>"
            ]
          },
          "metadata": {}
        },
        {
          "output_type": "stream",
          "name": "stderr",
          "text": [
            "GRU-Glove K-600 Epoch 9/1000 - Train Loss: 0.7487, Test Loss: 0.7528, Train Acc: 70.57%, Test Acc: 70.11%, Test F1: 66.29%, Test Balanced Acc: 71.51%, Test Recall: 70.11%, Test Precision: 72.49%, Time: 3.39 sec:   1%|          | 9/1000 [00:33<1:01:06,  3.70s/epoch]"
          ]
        },
        {
          "output_type": "stream",
          "name": "stdout",
          "text": [
            "Early stopping triggered at epoch 10\n",
            "Model GRU-Glove_K-600 saved with loss gap > 1.25 or accuracy gap > 10% at epoch 9.\n"
          ]
        },
        {
          "output_type": "stream",
          "name": "stderr",
          "text": [
            "\n",
            "<ipython-input-10-f03193db776b>:44: UserWarning: To copy construct from a tensor, it is recommended to use sourceTensor.clone().detach() or sourceTensor.clone().detach().requires_grad_(True), rather than torch.tensor(sourceTensor).\n",
            "  self.X = torch.tensor(X_data, dtype=torch.long)\n",
            "<ipython-input-10-f03193db776b>:45: UserWarning: To copy construct from a tensor, it is recommended to use sourceTensor.clone().detach() or sourceTensor.clone().detach().requires_grad_(True), rather than torch.tensor(sourceTensor).\n",
            "  self.y = torch.tensor(y_data, dtype=torch.long)\n"
          ]
        },
        {
          "output_type": "display_data",
          "data": {
            "text/plain": [
              "<IPython.core.display.HTML object>"
            ],
            "text/html": [
              "Finishing previous runs because reinit is set to 'default'."
            ]
          },
          "metadata": {}
        },
        {
          "output_type": "display_data",
          "data": {
            "text/plain": [
              "<IPython.core.display.HTML object>"
            ],
            "text/html": []
          },
          "metadata": {}
        },
        {
          "output_type": "display_data",
          "data": {
            "text/plain": [
              "<IPython.core.display.HTML object>"
            ],
            "text/html": [
              "<br>    <style><br>        .wandb-row {<br>            display: flex;<br>            flex-direction: row;<br>            flex-wrap: wrap;<br>            justify-content: flex-start;<br>            width: 100%;<br>        }<br>        .wandb-col {<br>            display: flex;<br>            flex-direction: column;<br>            flex-basis: 100%;<br>            flex: 1;<br>            padding: 10px;<br>        }<br>    </style><br><div class=\"wandb-row\"><div class=\"wandb-col\"><h3>Run history:</h3><br/><table class=\"wandb\"><tr><td>epoch</td><td>▁▂▃▃▄▅▆▆▇█</td></tr><tr><td>k_shot</td><td>▁▁▁▁▁▁▁▁▁▁</td></tr><tr><td>test_acc</td><td>▁▁▁▁▁▃▅▇██</td></tr><tr><td>test_balanced_acc</td><td>▁▁▁▁▁▃▅▇██</td></tr><tr><td>test_f1</td><td>▁▁▁▁▁▃▅▇██</td></tr><tr><td>test_loss</td><td>█████▇▄▃▁▂</td></tr><tr><td>test_precision</td><td>▂▁▁▂▂▂▄▆██</td></tr><tr><td>test_recall</td><td>▁▁▁▁▁▃▅▇██</td></tr><tr><td>train_acc</td><td>▁▁▁▁▁▂▄▆▇█</td></tr><tr><td>train_loss</td><td>█████▇▅▃▂▁</td></tr></table><br/></div><div class=\"wandb-col\"><h3>Run summary:</h3><br/><table class=\"wandb\"><tr><td>epoch</td><td>10</td></tr><tr><td>k_shot</td><td>600</td></tr><tr><td>test_acc</td><td>0.70455</td></tr><tr><td>test_balanced_acc</td><td>0.70778</td></tr><tr><td>test_f1</td><td>0.67275</td></tr><tr><td>test_loss</td><td>0.88514</td></tr><tr><td>test_precision</td><td>0.74679</td></tr><tr><td>test_recall</td><td>0.70455</td></tr><tr><td>train_acc</td><td>0.77759</td></tr><tr><td>train_loss</td><td>0.57258</td></tr></table><br/></div></div>"
            ]
          },
          "metadata": {}
        },
        {
          "output_type": "display_data",
          "data": {
            "text/plain": [
              "<IPython.core.display.HTML object>"
            ],
            "text/html": [
              " View run <strong style=\"color:#cdcd00\">GRU-Glove_K-600_Training</strong> at: <a href='https://wandb.ai/wilfried-mvomoeto-university-of-li-ge/Few-Shot-Training_gru_glove_fastText_Bahdanau_Multi-GRU-Glove-/runs/h533serv' target=\"_blank\">https://wandb.ai/wilfried-mvomoeto-university-of-li-ge/Few-Shot-Training_gru_glove_fastText_Bahdanau_Multi-GRU-Glove-/runs/h533serv</a><br> View project at: <a href='https://wandb.ai/wilfried-mvomoeto-university-of-li-ge/Few-Shot-Training_gru_glove_fastText_Bahdanau_Multi-GRU-Glove-' target=\"_blank\">https://wandb.ai/wilfried-mvomoeto-university-of-li-ge/Few-Shot-Training_gru_glove_fastText_Bahdanau_Multi-GRU-Glove-</a><br>Synced 5 W&B file(s), 0 media file(s), 0 artifact file(s) and 0 other file(s)"
            ]
          },
          "metadata": {}
        },
        {
          "output_type": "display_data",
          "data": {
            "text/plain": [
              "<IPython.core.display.HTML object>"
            ],
            "text/html": [
              "Find logs at: <code>./wandb/run-20250514_100115-h533serv/logs</code>"
            ]
          },
          "metadata": {}
        },
        {
          "output_type": "display_data",
          "data": {
            "text/plain": [
              "<IPython.core.display.HTML object>"
            ],
            "text/html": [
              "Tracking run with wandb version 0.19.11"
            ]
          },
          "metadata": {}
        },
        {
          "output_type": "display_data",
          "data": {
            "text/plain": [
              "<IPython.core.display.HTML object>"
            ],
            "text/html": [
              "Run data is saved locally in <code>/content/wandb/run-20250514_100150-cams84v7</code>"
            ]
          },
          "metadata": {}
        },
        {
          "output_type": "display_data",
          "data": {
            "text/plain": [
              "<IPython.core.display.HTML object>"
            ],
            "text/html": [
              "Syncing run <strong><a href='https://wandb.ai/wilfried-mvomoeto-university-of-li-ge/Few-Shot-Training_gru_glove_fastText_Bahdanau_Multi-GRU-FastText-/runs/cams84v7' target=\"_blank\">GRU-FastText_K-600_Training</a></strong> to <a href='https://wandb.ai/wilfried-mvomoeto-university-of-li-ge/Few-Shot-Training_gru_glove_fastText_Bahdanau_Multi-GRU-FastText-' target=\"_blank\">Weights & Biases</a> (<a href='https://wandb.me/developer-guide' target=\"_blank\">docs</a>)<br>"
            ]
          },
          "metadata": {}
        },
        {
          "output_type": "display_data",
          "data": {
            "text/plain": [
              "<IPython.core.display.HTML object>"
            ],
            "text/html": [
              " View project at <a href='https://wandb.ai/wilfried-mvomoeto-university-of-li-ge/Few-Shot-Training_gru_glove_fastText_Bahdanau_Multi-GRU-FastText-' target=\"_blank\">https://wandb.ai/wilfried-mvomoeto-university-of-li-ge/Few-Shot-Training_gru_glove_fastText_Bahdanau_Multi-GRU-FastText-</a>"
            ]
          },
          "metadata": {}
        },
        {
          "output_type": "display_data",
          "data": {
            "text/plain": [
              "<IPython.core.display.HTML object>"
            ],
            "text/html": [
              " View run at <a href='https://wandb.ai/wilfried-mvomoeto-university-of-li-ge/Few-Shot-Training_gru_glove_fastText_Bahdanau_Multi-GRU-FastText-/runs/cams84v7' target=\"_blank\">https://wandb.ai/wilfried-mvomoeto-university-of-li-ge/Few-Shot-Training_gru_glove_fastText_Bahdanau_Multi-GRU-FastText-/runs/cams84v7</a>"
            ]
          },
          "metadata": {}
        },
        {
          "output_type": "stream",
          "name": "stderr",
          "text": [
            "GRU-FastText K-600 Epoch 2/1000 - Train Loss: 2.2515, Test Loss: 2.2188, Train Acc: 10.39%, Test Acc: 6.80%, Test F1: 0.96%, Test Balanced Acc: 11.10%, Test Recall: 6.80%, Test Precision: 8.20%, Time: 3.33 sec:   0%|          | 2/1000 [00:10<1:24:48,  5.10s/epoch]"
          ]
        },
        {
          "output_type": "stream",
          "name": "stdout",
          "text": [
            "Early stopping triggered at epoch 3\n",
            "Model GRU-FastText_K-600 saved with loss gap > 1.25 or accuracy gap > 10% at epoch 2.\n"
          ]
        },
        {
          "output_type": "stream",
          "name": "stderr",
          "text": [
            "\n"
          ]
        }
      ],
      "source": [
        "model_metrics = {}\n",
        "\n",
        "k_values = [1, 5, 10, 20, 30, 50, 60, 70, 80, 100, 150, 200, 400, 600]\n",
        "for k in k_values:\n",
        "    print(f\"\\nTraining with {k}-shot...\")\n",
        "    for model_name, model in models_info.items():\n",
        "        if model_name not in optimizers:\n",
        "            print(f\"Skipping {model_name} — no optimizer found.\")\n",
        "            continue\n",
        "\n",
        "        optimizer = optimizers[model_name]\n",
        "\n",
        "        if model_name not in model_metrics:\n",
        "            model_metrics[model_name] = {\n",
        "                \"train_losses\": [],\n",
        "                \"test_losses\": [],\n",
        "                \"train_accuracies\": [],\n",
        "                \"test_accuracies\": [],\n",
        "                \"test_f1s\": [],\n",
        "                \"test_balanced_accs\": [],\n",
        "                \"test_recalls\": [],\n",
        "                \"test_precisions\": []\n",
        "            }\n",
        "\n",
        "        results = train_and_evaluate_model(\n",
        "            model=model,\n",
        "            k=k,\n",
        "            X_combined_tensor=X_combined_tensor,\n",
        "            y_combined_tensor=y_combined_tensor,\n",
        "            optimizer=optimizer,\n",
        "            loss_function=loss_function,\n",
        "            num_epochs=1000,\n",
        "            batch_size=batch_size ,\n",
        "            test_loader=test_loader,\n",
        "            model_name=model_name\n",
        "        )\n",
        "\n",
        "        for key in model_metrics[model_name]:\n",
        "            model_metrics[model_name][key].append(results[key])"
      ]
    },
    {
      "cell_type": "code",
      "execution_count": 22,
      "metadata": {
        "colab": {
          "base_uri": "https://localhost:8080/",
          "height": 506
        },
        "id": "rjTNKdFumABf",
        "outputId": "ebcde07a-8555-42ad-eaad-38f14cfe2e1a"
      },
      "outputs": [
        {
          "output_type": "display_data",
          "data": {
            "text/plain": [
              "<Figure size 1800x600 with 4 Axes>"
            ],
            "image/png": "[encoded data removed]"
          },
          "metadata": {}
        }
      ],
      "source": [
        "plot_max_metrics(model_metrics, k_values)"
      ]
    },
    {
      "cell_type": "markdown",
      "metadata": {
        "id": "y8E3KaQQ0-y_"
      },
      "source": [
        "---\n",
        "##Few-Shot Learning Performance Analysis\n",
        "\n",
        "1. **F1 Score**\n",
        "\n",
        "Glove-GRU-Bahdanau consistently achieves the highest F1 scores across all K values.\n",
        "Glove-GRU starts with very low F1 but improves significantly at higher K (e.g., 600).\n",
        "CNN_LSTM remains relatively flat and low throughout. We can interpret Glove-GRU-Bahdanau provides the best balance between precision and recall, even with fewer samples.\n",
        "\n",
        "2. **Balanced Accuracy**\n",
        "\n",
        "Glove-GRU-Bahdanau remains high and stable.\n",
        "Glove-GRU sees a sudden spike at K=600.\n",
        "CNN_LSTM performs poorly and shows almost no change. We can interpret Bahdanau-based models are more reliable for balanced class performance.\n",
        "\n",
        "3. **Recall**\n",
        "\n",
        "Glove-GRU-Bahdanau maintains high recall across all values.\n",
        "Glove-GRU increases significantly at K=600.\n",
        "CNN_LSTM remains consistently low. We can interpret Bahdanau is effective at identifying true positives, which is critical in many classification tasks.\n",
        "\n",
        "4. **Precision**\n",
        "Glove-GRU-Bahdanau demonstrates high precision even with fewer shots.\n",
        "Glove-GRU and CNN_LSTM start low but Glove-GRU shows some improvement.\n",
        "We can interpret Bahdanau makes fewer false-positive predictions, ensuring more trustworthy outputs.\n",
        "\n",
        "###Overall Conclusion\n",
        "Glove-GRU-Bahdanau is the most performant and stable model, especially in low-data scenarios (few-shot learning).\n",
        "Glove-GRU benefits significantly from more data but lags behind until high K.\n",
        "CNN_LSTM underperforms across all metrics and K values."
      ]
    }
  ],
  "metadata": {
    "accelerator": "GPU",
    "colab": {
      "gpuType": "T4",
      "provenance": [],
      "toc_visible": true
    },
    "kernelspec": {
      "display_name": "Python 3",
      "name": "python3"
    }
  },
  "nbformat": 4,
  "nbformat_minor": 0
}