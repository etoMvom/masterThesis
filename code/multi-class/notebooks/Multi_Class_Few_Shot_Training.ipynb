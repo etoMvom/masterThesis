{
  "cells": [
    {
      "cell_type": "markdown",
      "metadata": {
        "id": "JkCLbu33lObU"
      },
      "source": [
        "---\n",
        "# **Biomedical Text Classification using: LSTM, GRU and Bahdanau Attention**\n",
        "\n",
        "---"
      ]
    },
    {
      "cell_type": "markdown",
      "metadata": {
        "id": "Y0cmtg4BlRxH"
      },
      "source": [
        "**Few-shot training** is a learning paradigm in which a model is trained using only a very small number of labeled examples per class. In this study, Classification of Biomedical Texts with Deep Learning: LSTM, GRU, and Self-Attention, few-shot training is used to evaluate how well different deep learning architectures can generalize from limited annotated biomedical data.\n",
        "\n",
        "This approach is especially relevant in biomedical domains where obtaining large labeled datasets is often expensive and time-consuming. By testing various models under few-shot conditions (e.g., 1, 5, or 20 examples per class), we aim to assess their robustness, adaptability, and efficiency in low-resource settings—providing insight into which architectures are better suited for real-world biomedical applications with limited training data."
      ]
    },
    {
      "cell_type": "code",
      "execution_count": 1,
      "metadata": {
        "id": "UHGb6iOAlSNQ"
      },
      "outputs": [],
      "source": [
        "import pandas as pd\n",
        "import nltk\n",
        "from nltk.corpus import stopwords\n",
        "from collections import defaultdict\n",
        "from collections import Counter\n",
        "import random\n",
        "import time\n",
        "import re\n",
        "\n",
        "from tqdm import tqdm\n",
        "import numpy as np\n",
        "import torch\n",
        "import wandb\n",
        "\n",
        "import matplotlib.pyplot as plt\n",
        "from sklearn.manifold import TSNE\n",
        "import seaborn as sns\n",
        "\n",
        "import torch\n",
        "import torch.nn as nn\n",
        "import torch.optim as optim\n",
        "from sklearn.decomposition import PCA\n",
        "from imblearn.over_sampling import SMOTE\n",
        "from sklearn.metrics import accuracy_score, f1_score\n",
        "from sklearn.utils.class_weight import compute_class_weight\n",
        "from sklearn.model_selection import train_test_split\n",
        "from torch.utils.data.dataset import ConcatDataset\n",
        "from sklearn.utils.class_weight import compute_class_weight\n",
        "\n",
        "from torch.utils.data import DataLoader, TensorDataset, Dataset\n",
        "from sklearn.preprocessing import LabelEncoder\n",
        "from torch.nn.utils.rnn import pad_sequence\n",
        "from sklearn.metrics import f1_score, confusion_matrix, balanced_accuracy_score, precision_score, recall_score\n",
        "from sklearn.metrics import classification_report, confusion_matrix, ConfusionMatrixDisplay\n",
        "from sklearn.utils.class_weight import compute_class_weight\n",
        "\n",
        "from imblearn.over_sampling import SMOTE\n",
        "from imblearn.over_sampling import BorderlineSMOTE\n",
        "\n",
        "device = torch.device(\"cuda\" if torch.cuda.is_available() else \"cpu\")"
      ]
    },
    {
      "cell_type": "code",
      "execution_count": 2,
      "metadata": {
        "id": "FKlk701glS4g"
      },
      "outputs": [],
      "source": [
        "# To ensure reproducibility of the results\n",
        "SEED = 200\n",
        "random.seed(SEED)\n",
        "np.random.seed(SEED)\n",
        "torch.manual_seed(SEED)\n",
        "torch.cuda.manual_seed(SEED)\n",
        "torch.backends.cudnn.deterministic = True"
      ]
    },
    {
      "cell_type": "code",
      "execution_count": 3,
      "metadata": {
        "colab": {
          "base_uri": "https://localhost:8080/"
        },
        "id": "fHpE7LBQlS1C",
        "outputId": "a1293cd5-97aa-46f2-f6e2-76c8d0ff925f"
      },
      "outputs": [
        {
          "name": "stdout",
          "output_type": "stream",
          "text": [
            "Mounted at /content/drive\n"
          ]
        }
      ],
      "source": [
        "from google.colab import drive\n",
        "drive.mount('/content/drive')"
      ]
    },
    {
      "cell_type": "code",
      "execution_count": 4,
      "metadata": {
        "id": "BRSgjL4UlSyf"
      },
      "outputs": [],
      "source": [
        "data = pd.read_csv('/content/drive/MyDrive/diseases_dataset.csv')"
      ]
    },
    {
      "cell_type": "code",
      "execution_count": 5,
      "metadata": {
        "colab": {
          "base_uri": "https://localhost:8080/"
        },
        "id": "NmfooAtXlSwI",
        "outputId": "a2f3a767-3f59-42cf-d112-576776f2e677"
      },
      "outputs": [
        {
          "name": "stdout",
          "output_type": "stream",
          "text": [
            "<class 'pandas.core.frame.DataFrame'>\n",
            "RangeIndex: 38652 entries, 0 to 38651\n",
            "Data columns (total 10 columns):\n",
            " #   Column              Non-Null Count  Dtype \n",
            "---  ------              --------------  ----- \n",
            " 0   PMID                38652 non-null  int64 \n",
            " 1   Title               38652 non-null  object\n",
            " 2   Abstract            38652 non-null  object\n",
            " 3   Keywords            38652 non-null  object\n",
            " 4   PublicationYear     38652 non-null  int64 \n",
            " 5   MeSH_Terms          38652 non-null  object\n",
            " 6   Cleaned_Abstract    38652 non-null  object\n",
            " 7   Disease             38652 non-null  object\n",
            " 8   Top_Relevant_Words  38652 non-null  object\n",
            " 9   Label               38652 non-null  int64 \n",
            "dtypes: int64(3), object(7)\n",
            "memory usage: 2.9+ MB\n"
          ]
        }
      ],
      "source": [
        "data.info()"
      ]
    },
    {
      "cell_type": "code",
      "execution_count": 5,
      "metadata": {
        "colab": {
          "base_uri": "https://localhost:8080/"
        },
        "id": "0c349B24lStU",
        "outputId": "2ded0ee7-1ed9-4120-99b1-65dfafb6c27b"
      },
      "outputs": [
        {
          "name": "stdout",
          "output_type": "stream",
          "text": [
            "Training set: 27056 samples\n",
            "Validation set: 5798 samples\n",
            "Test set: 5798 samples\n"
          ]
        }
      ],
      "source": [
        "X = data[\"Cleaned_Abstract\"].values\n",
        "y = data[\"Label\"].values\n",
        "\n",
        "X_train, X_temp, y_train, y_temp = train_test_split(X, y, test_size=0.3, random_state=42)\n",
        "X_val, X_test, y_val, y_test = train_test_split(X_temp, y_temp, test_size=0.5, random_state=42)\n",
        "\n",
        "print(f\"Training set: {len(X_train)} samples\")\n",
        "print(f\"Validation set: {len(X_val)} samples\")\n",
        "print(f\"Test set: {len(X_test)} samples\")"
      ]
    },
    {
      "cell_type": "code",
      "execution_count": 6,
      "metadata": {
        "colab": {
          "base_uri": "https://localhost:8080/"
        },
        "id": "D5XkEE7IzYHI",
        "outputId": "92fec04f-da2f-4f73-8a96-18b26a34e497"
      },
      "outputs": [
        {
          "name": "stdout",
          "output_type": "stream",
          "text": [
            "Combined Input Shape: (32854,)\n",
            "Combined Label Shape: (32854,)\n"
          ]
        }
      ],
      "source": [
        "X_combined = np.concatenate((X_train, X_val), axis=0)\n",
        "y_combined = np.concatenate((y_train, y_val), axis=0)\n",
        "\n",
        "print(f\"Combined Input Shape: {X_combined.shape}\")\n",
        "print(f\"Combined Label Shape: {y_combined.shape}\")"
      ]
    },
    {
      "cell_type": "code",
      "execution_count": 7,
      "metadata": {
        "id": "PsWTm_-OlSqx"
      },
      "outputs": [],
      "source": [
        "def tokenize(text):\n",
        "    \"\"\"\n",
        "    Tokenizes the input text by converting it to lowercase and splitting it into words.\n",
        "\n",
        "    Args:\n",
        "        text: A string containing the text to be tokenized.\n",
        "\n",
        "    Returns:\n",
        "        A list of tokens (words) from the text.\n",
        "    \"\"\"\n",
        "    return re.findall(r'\\b\\w+\\b', text.lower())"
      ]
    },
    {
      "cell_type": "code",
      "execution_count": 8,
      "metadata": {
        "colab": {
          "base_uri": "https://localhost:8080/"
        },
        "id": "GkL8-UdQl0su",
        "outputId": "2dd7011e-2a96-4f12-9c38-4523a2e6a976"
      },
      "outputs": [
        {
          "name": "stdout",
          "output_type": "stream",
          "text": [
            "1445\n",
            "patient\n",
            "relationship\n",
            "351\n"
          ]
        }
      ],
      "source": [
        "all_tokens = [token for text in X_train for token in tokenize(text)]\n",
        "vocab = Counter(all_tokens)\n",
        "filtered_vocab = {word: freq for word, freq in vocab.items() if freq >= 2}\n",
        "VOCAB_SIZE =  40000\n",
        "\n",
        "sorted_filtered_vocab = dict(sorted(filtered_vocab.items(), key=lambda item: item[1], reverse=True)[:VOCAB_SIZE])\n",
        "\n",
        "word_to_index = {word: idx for idx, (word, _) in enumerate(sorted_filtered_vocab.items(), 1)}\n",
        "word_to_index[\"<PAD>\"] = 0\n",
        "word_to_index[\"<UNK>\"] = len(word_to_index)\n",
        "\n",
        "index_to_word = {idx: word for word, idx in word_to_index.items()}\n",
        "print(word_to_index[\"malaria\"])\n",
        "print(index_to_word[1])\n",
        "\n",
        "print(index_to_word[300])\n",
        "print(word_to_index[\"host\"])"
      ]
    },
    {
      "cell_type": "code",
      "execution_count": 9,
      "metadata": {
        "id": "v3zT9Dn2l1zW"
      },
      "outputs": [],
      "source": [
        "def text_to_sequence(text):\n",
        "    \"\"\"\n",
        "    Converts the tokenized text into a sequence of indices based on a word-to-index mapping.\n",
        "\n",
        "    Args:\n",
        "        text: A string containing the text to be converted.\n",
        "\n",
        "    Returns:\n",
        "        A list of integers representing the sequence of token indices.\n",
        "    \"\"\"\n",
        "    return [word_to_index.get(token, word_to_index[\"<UNK>\"]) for token in tokenize(text)]\n",
        "\n",
        "def pad_to_tensor(sequences, max_len=None):\n",
        "    \"\"\"\n",
        "    Pads sequences to the specified maximum length, or truncates them if they exceed it.\n",
        "\n",
        "    Args:\n",
        "        sequences: A list of sequences (each sequence is a list of integers).\n",
        "        max_len: The maximum length to which sequences should be padded. If None, no padding is applied.\n",
        "\n",
        "    Returns:\n",
        "        A tensor containing the padded (or truncated) sequences.\n",
        "    \"\"\"\n",
        "    padded_sequences = [torch.tensor(seq, dtype=torch.long) for seq in sequences]\n",
        "    if max_len:\n",
        "        padded_sequences = [seq[:max_len] for seq in padded_sequences]\n",
        "        padded_sequences = [\n",
        "            torch.cat([seq, torch.zeros(max_len - len(seq), dtype=torch.long)], 0) if len(seq) < max_len else seq\n",
        "            for seq in padded_sequences\n",
        "        ]\n",
        "\n",
        "    return torch.stack(padded_sequences)\n",
        "\n",
        "class TextDataset(Dataset):\n",
        "    \"\"\"\n",
        "    Custom Dataset for handling text data and labels.\n",
        "\n",
        "    Args:\n",
        "        X_data: Input features (e.g., tokenized text).\n",
        "        y_data: Labels corresponding to the text data.\n",
        "        raw_text_data: (Optional) The raw text data for reference (default is None).\n",
        "    \"\"\"\n",
        "    def __init__(self, X_data, y_data, raw_text_data=None):\n",
        "        self.X = torch.tensor(X_data, dtype=torch.long)\n",
        "        self.y = torch.tensor(y_data, dtype=torch.long)\n",
        "        self.raw_text_data = raw_text_data\n",
        "\n",
        "    def __len__(self):\n",
        "        return len(self.X)\n",
        "\n",
        "    def __getitem__(self, idx):\n",
        "        input_tensor = self.X[idx]\n",
        "        target_tensor = self.y[idx]\n",
        "\n",
        "        raw_text = None\n",
        "        if self.raw_text_data is not None and idx < len(self.raw_text_data):\n",
        "            raw_text = self.raw_text_data[idx]\n",
        "\n",
        "        return input_tensor, target_tensor, raw_text\n",
        "\n",
        "def custom_collate_fn(batch):\n",
        "    inputs, targets, raw_texts = zip(*batch)\n",
        "    inputs = torch.stack(inputs)\n",
        "    targets = torch.stack(targets)\n",
        "    return inputs, targets, list(raw_texts)\n",
        "\n",
        "def load_glove_embeddings(glove_path, word_to_index, embedding_dim):\n",
        "    \"\"\"Loads GloVe embeddings and returns an embedding matrix.\"\"\"\n",
        "    embedding_matrix = np.zeros((len(word_to_index), embedding_dim), dtype='float32')\n",
        "    with open(glove_path, 'r', encoding=\"utf-8\") as f:\n",
        "        for line in f:\n",
        "            values = line.strip().split()\n",
        "            word = values[0]\n",
        "            if word in word_to_index:\n",
        "                vector = np.asarray(values[1:], dtype='float32')\n",
        "                embedding_matrix[word_to_index[word]] = vector\n",
        "\n",
        "    return torch.tensor(embedding_matrix, dtype=torch.float)\n",
        "\n",
        "def load_fasttext_embeddings(vec_path, word_to_index, embedding_dim=300):\n",
        "    \"\"\"\n",
        "    Loads FastText embeddings from a .txt or .vec file and returns an embedding matrix.\n",
        "\n",
        "    Note:\n",
        "        The .txt or .vec format contains a header (num_tokens, dimension),\n",
        "        followed by one word vector per line in the format: word val1 val2 ... valN.\n",
        "\n",
        "    Args:\n",
        "        vec_path (str): Path to the FastText .txt or .vec file (e.g., cc.en.300.txt or cc.en.300.vec).\n",
        "        word_to_index (dict): Mapping from words to their index in the vocabulary.\n",
        "        embedding_dim (int): Dimensionality of the embeddings (e.g., 300).\n",
        "\n",
        "    Returns:\n",
        "        torch.Tensor: Embedding matrix of shape (vocab_size, embedding_dim).\n",
        "    \"\"\"\n",
        "    embedding_matrix = np.zeros((len(word_to_index), embedding_dim), dtype='float32')\n",
        "\n",
        "    with open(vec_path, 'r', encoding='utf-8', newline='\\n', errors='ignore') as f:\n",
        "        header = f.readline()  # header contains: num_words dim\n",
        "        for line in f:\n",
        "            values = line.rstrip().split(' ')\n",
        "            if len(values) < embedding_dim + 1:\n",
        "                continue  # skip malformed lines\n",
        "            word = values[0]\n",
        "            if word in word_to_index:\n",
        "                vector = np.asarray(values[1:], dtype='float32')\n",
        "                embedding_matrix[word_to_index[word]] = vector\n",
        "\n",
        "    return torch.tensor(embedding_matrix, dtype=torch.float)"
      ]
    },
    {
      "cell_type": "code",
      "execution_count": 10,
      "metadata": {
        "colab": {
          "base_uri": "https://localhost:8080/"
        },
        "id": "hasHpOEal1vz",
        "outputId": "461339ed-0c08-4f5d-d86a-33f9a99aab2e"
      },
      "outputs": [
        {
          "name": "stdout",
          "output_type": "stream",
          "text": [
            "[79, 347, 3, 40, 127, 119, 11, 444, 2525, 351, 89, 42, 342, 763, 7428, 333, 5306, 6676, 133, 447, 52, 18, 1466, 79, 4, 498, 295, 233, 31, 6676, 1245, 38, 18, 699, 389, 2721, 119, 11, 444, 161, 4, 2644, 611, 83, 1492, 387, 694, 112, 6676, 79, 412, 1442, 913, 557, 3337, 40001, 622, 728, 128, 4693, 909, 2876, 457, 64, 607, 4418, 219, 4, 190, 19, 7165, 8017, 190, 287, 375, 876, 74, 1356, 457, 93, 4, 229, 9, 654, 132, 6676, 233, 31, 1245, 917, 2302, 213, 38, 4289, 18, 775, 43, 114, 136, 444, 9, 337, 6676, 40, 429, 80, 11, 301, 79]\n"
          ]
        }
      ],
      "source": [
        "EMBEDDING_DIM = 300\n",
        "embedding_matrix = load_glove_embeddings('/content/drive/MyDrive/glove/glove.6B.300d.txt', word_to_index, EMBEDDING_DIM)\n",
        "embedding_matrix_fastText = load_fasttext_embeddings('/content/drive/MyDrive/cc.en.300.vec/cc.en.300.vec', word_to_index, EMBEDDING_DIM)\n",
        "\n",
        "X_train_seq = [text_to_sequence(text) for text in X_train]\n",
        "X_val_seq = [text_to_sequence(text) for text in X_val]\n",
        "X_test_seq = [text_to_sequence(text) for text in X_test]\n",
        "\n",
        "print(X_train_seq[0])"
      ]
    },
    {
      "cell_type": "code",
      "execution_count": 11,
      "metadata": {
        "colab": {
          "base_uri": "https://localhost:8080/"
        },
        "id": "Wf-9kAd7l1tq",
        "outputId": "b5c32b2d-94a1-4f6f-adc5-26dd230f5319"
      },
      "outputs": [
        {
          "name": "stdout",
          "output_type": "stream",
          "text": [
            "Train Tensor Shape: torch.Size([27056, 400]), Type: torch.int64\n",
            "Validation Tensor Shape: torch.Size([5798, 400]), Type: torch.int64\n",
            "Test Tensor Shape: torch.Size([5798, 400]), Type: torch.int64\n"
          ]
        }
      ],
      "source": [
        "max_length = 400\n",
        "\n",
        "X_train_tensor = pad_to_tensor(X_train_seq, max_len=max_length)\n",
        "X_val_tensor = pad_to_tensor(X_val_seq, max_len=max_length)\n",
        "X_test_tensor = pad_to_tensor(X_test_seq, max_len=max_length)\n",
        "\n",
        "print(f\"Train Tensor Shape: {X_train_tensor.shape}, Type: {X_train_tensor.dtype}\")\n",
        "print(f\"Validation Tensor Shape: {X_val_tensor.shape}, Type: {X_val_tensor.dtype}\")\n",
        "print(f\"Test Tensor Shape: {X_test_tensor.shape}, Type: {X_test_tensor.dtype}\")\n",
        "\n",
        "y_train_tensor = torch.tensor(y_train)\n",
        "y_val_tensor = torch.tensor(y_val)\n",
        "y_test_tensor = torch.tensor(y_test)"
      ]
    },
    {
      "cell_type": "code",
      "execution_count": 12,
      "metadata": {
        "colab": {
          "base_uri": "https://localhost:8080/"
        },
        "id": "S3NGUWFxyuwf",
        "outputId": "ec6878d4-f685-40c9-c780-13d35cd8c9a0"
      },
      "outputs": [
        {
          "name": "stdout",
          "output_type": "stream",
          "text": [
            "Combined Input Tensor Shape: torch.Size([32854, 400])\n",
            "Combined Label Tensor Shape: torch.Size([32854])\n"
          ]
        }
      ],
      "source": [
        "X_combined_tensor = torch.cat((X_train_tensor, X_val_tensor), dim=0)\n",
        "y_combined_tensor = torch.cat((y_train_tensor, y_val_tensor), dim=0)\n",
        "\n",
        "print(f\"Combined Input Tensor Shape: {X_combined_tensor.shape}\")\n",
        "print(f\"Combined Label Tensor Shape: {y_combined_tensor.shape}\")"
      ]
    },
    {
      "cell_type": "code",
      "execution_count": 13,
      "metadata": {
        "colab": {
          "base_uri": "https://localhost:8080/"
        },
        "id": "EJAvopnhuoEQ",
        "outputId": "7688b9ee-07b2-46a9-b50e-97b5bacb173b"
      },
      "outputs": [
        {
          "name": "stderr",
          "output_type": "stream",
          "text": [
            "<ipython-input-9-f03193db776b>:44: UserWarning: To copy construct from a tensor, it is recommended to use sourceTensor.clone().detach() or sourceTensor.clone().detach().requires_grad_(True), rather than torch.tensor(sourceTensor).\n",
            "  self.X = torch.tensor(X_data, dtype=torch.long)\n"
          ]
        }
      ],
      "source": [
        "train_dataset = TextDataset(X_train_tensor, y_train, raw_text_data=X_train)\n",
        "val_dataset = TextDataset(X_val_tensor, y_val, raw_text_data=X_val)\n",
        "test_dataset = TextDataset(X_test_tensor, y_test, raw_text_data=X_test)\n",
        "\n",
        "train_loader = DataLoader(train_dataset, batch_size=32, shuffle=True)\n",
        "val_loader = DataLoader(val_dataset, batch_size=32, shuffle=False)\n",
        "test_loader = DataLoader(test_dataset, batch_size=32, shuffle=False)"
      ]
    },
    {
      "cell_type": "code",
      "execution_count": 14,
      "metadata": {
        "colab": {
          "base_uri": "https://localhost:8080/"
        },
        "id": "vZ7RTuttv858",
        "outputId": "b011548b-cd32-4266-ff1f-1c01b1a57df3"
      },
      "outputs": [
        {
          "name": "stdout",
          "output_type": "stream",
          "text": [
            "Training set size: 27056\n",
            "Validation set size: 5798\n",
            "Test set size: 5798\n",
            "Combined dataset size: 32854\n"
          ]
        }
      ],
      "source": [
        "batch_size = 16\n",
        "\n",
        "train_loader = DataLoader(train_dataset, batch_size=batch_size, shuffle=True)\n",
        "val_loader = DataLoader(val_dataset, batch_size=batch_size, shuffle=False)\n",
        "test_loader = DataLoader(test_dataset, batch_size=batch_size, shuffle=False)\n",
        "\n",
        "combined_dataset = ConcatDataset([train_dataset, val_dataset])\n",
        "combined_loader = DataLoader(combined_dataset, batch_size=batch_size, shuffle=True)\n",
        "\n",
        "\n",
        "print(f\"Training set size: {len(train_dataset)}\")\n",
        "print(f\"Validation set size: {len(val_dataset)}\")\n",
        "print(f\"Test set size: {len(test_dataset)}\")\n",
        "print(f\"Combined dataset size: {len(combined_dataset)}\")"
      ]
    },
    {
      "cell_type": "code",
      "execution_count": 15,
      "metadata": {
        "id": "dnG9cQyel1ql"
      },
      "outputs": [],
      "source": [
        "NUM_CLASSES = len(torch.unique(y_train_tensor))\n",
        "VOCAB_SIZE = len(word_to_index)\n",
        "\n",
        "# ============ Define Hybrid CNN-LSTM Model ============\n",
        "class CNN_LSTM_Model(nn.Module):\n",
        "    def __init__(self, vocab_size, embedding_dim, hidden_dim, output_dim=NUM_CLASSES, num_layers=1, dropout_prob=0.3, num_filters=100, kernel_size=3):\n",
        "        super(CNN_LSTM_Model, self).__init__()\n",
        "\n",
        "        self.embedding = nn.Embedding(vocab_size, embedding_dim)\n",
        "        self.conv1 = nn.Conv1d(in_channels=embedding_dim, out_channels=num_filters, kernel_size=kernel_size, padding=1)\n",
        "        self.conv2 = nn.Conv1d(in_channels=num_filters, out_channels=num_filters, kernel_size=kernel_size, padding=1)\n",
        "        self.relu = nn.ReLU()\n",
        "        self.pool = nn.MaxPool1d(kernel_size=2, stride=2)\n",
        "\n",
        "        self.lstm = nn.LSTM(input_size=num_filters, hidden_size=hidden_dim, num_layers=num_layers, batch_first=True, dropout=dropout_prob if num_layers > 1 else 0)\n",
        "        self.dropout = nn.Dropout(dropout_prob)\n",
        "        self.fc = nn.Linear(hidden_dim, output_dim)\n",
        "\n",
        "    def forward(self, x):\n",
        "        embedded = self.embedding(x)\n",
        "        embedded = embedded.permute(0, 2, 1)\n",
        "        conv_out = self.relu(self.conv1(embedded))\n",
        "        conv_out = self.relu(self.conv2(conv_out))\n",
        "        conv_out = self.pool(conv_out)\n",
        "\n",
        "        conv_out = conv_out.permute(0, 2, 1)\n",
        "        lstm_out, _ = self.lstm(conv_out)\n",
        "        lstm_out = self.dropout(lstm_out[:, -1, :])\n",
        "        out = self.fc(lstm_out)\n",
        "        return out\n",
        "\n",
        "# ==========================  GRU Model with Word Embeddings ==========================\n",
        "class GRU_Model(nn.Module):\n",
        "    def __init__(self, vocab_size, embedding_dim, hidden_dim, output_dim=NUM_CLASSES , num_layers=1, dropout_prob=0.5, embedding_weights=None, freeze_embeddings=False):\n",
        "        super(GRU_Model, self).__init__()\n",
        "\n",
        "        if embedding_weights is not None:\n",
        "            self.embedding = nn.Embedding.from_pretrained(embedding_weights, freeze=freeze_embeddings)\n",
        "        else:\n",
        "            self.embedding = nn.Embedding(vocab_size, embedding_dim)\n",
        "\n",
        "        self.gru = nn.GRU(\n",
        "            input_size=embedding_dim,\n",
        "            hidden_size=hidden_dim,\n",
        "            num_layers=num_layers,\n",
        "            batch_first=True,\n",
        "            dropout=dropout_prob if num_layers > 1 else 0  # Dropout only if num_layers > 1\n",
        "        )\n",
        "\n",
        "        self.dropout = nn.Dropout(dropout_prob)\n",
        "        self.fc = nn.Linear(hidden_dim, output_dim)\n",
        "\n",
        "    def forward(self, x):\n",
        "        embedded = self.embedding(x)\n",
        "        gru_out, _ = self.gru(embedded)\n",
        "        gru_out = self.dropout(gru_out[:, -1, :])\n",
        "        out = self.fc(gru_out)\n",
        "        return out\n",
        "\n",
        "# ========================== Bahdanau Attention ==========================\n",
        "class BahdanauAttention(nn.Module):\n",
        "    \"\"\"\n",
        "    Bahdanau Attention Mechanism.\n",
        "\n",
        "    This class implements the Bahdanau attention mechanism as described in the paper:\n",
        "    \"Neural Machine Translation by Jointly Learning to Align and Translate\" by Bahdanau et al.\n",
        "\n",
        "    Args:\n",
        "        hidden_dim (int): The hidden dimension of the GRU or LSTM output.\n",
        "\n",
        "    Attributes:\n",
        "        W (nn.Linear): A linear layer for the transformation of the RNN outputs.\n",
        "        v (nn.Linear): A linear layer for computing attention scores.\n",
        "    \"\"\"\n",
        "    def __init__(self, hidden_dim):\n",
        "        super(BahdanauAttention, self).__init__()\n",
        "        self.W = nn.Linear(hidden_dim * 2, hidden_dim)\n",
        "        self.v = nn.Linear(hidden_dim, 1, bias=False)\n",
        "\n",
        "    def forward(self, rnn_outputs):\n",
        "        \"\"\"\n",
        "        Apply the attention mechanism on the RNN outputs.\n",
        "\n",
        "        Args:\n",
        "            rnn_outputs (Tensor): The outputs of the RNN (GRU or LSTM).\n",
        "\n",
        "        Returns:\n",
        "            Tensor: The context vector computed by the attention mechanism.\n",
        "        \"\"\"\n",
        "        score = torch.tanh(self.W(rnn_outputs))\n",
        "        attn_weights = torch.softmax(self.v(score), dim=1)\n",
        "        context = torch.sum(attn_weights * rnn_outputs, dim=1)\n",
        "        return context\n",
        "\n",
        "# ================= Generalized GRU + Bahdanau Attention Model =================\n",
        "class GRU_BahdanauAttentionModel(nn.Module):\n",
        "    \"\"\"\n",
        "    General GRU + Bahdanau Attention Model with customizable embeddings.\n",
        "\n",
        "    Args:\n",
        "        embedding_matrix (Tensor): Pretrained embedding matrix (GloVe or FastText).\n",
        "        hidden_dim (int): GRU hidden size.\n",
        "        num_classes (int): Number of output classes.\n",
        "        num_layers (int): Number of GRU layers.\n",
        "        dropout_prob (float): Dropout rate.\n",
        "    \"\"\"\n",
        "    def __init__(self, embedding_matrix, hidden_dim, num_classes=NUM_CLASSES, num_layers=1, dropout_prob=0.6):\n",
        "        super(GRU_BahdanauAttentionModel, self).__init__()\n",
        "\n",
        "        vocab_size, embedding_dim = embedding_matrix.shape\n",
        "        self.embedding = nn.Embedding.from_pretrained(embedding_matrix, freeze=False)\n",
        "\n",
        "        self.gru = nn.GRU(\n",
        "            input_size=embedding_dim,\n",
        "            hidden_size=hidden_dim,\n",
        "            num_layers=num_layers,\n",
        "            batch_first=True,\n",
        "            bidirectional=True\n",
        "        )\n",
        "\n",
        "        self.attention = BahdanauAttention(hidden_dim)\n",
        "        self.fc = nn.Linear(hidden_dim * 2, num_classes)\n",
        "        self.dropout = nn.Dropout(dropout_prob)\n",
        "\n",
        "    def forward(self, x):\n",
        "        embedded = self.embedding(x)\n",
        "        gru_out, _ = self.gru(embedded)\n",
        "        context = self.attention(gru_out)\n",
        "        x = self.dropout(context)\n",
        "        return self.fc(x)"
      ]
    },
    {
      "cell_type": "code",
      "execution_count": 16,
      "metadata": {
        "id": "LMDGVSREmAHh"
      },
      "outputs": [],
      "source": [
        "clip = 5.0\n",
        "\n",
        "def epoch_time(start_time, end_time):\n",
        "    \"\"\"\n",
        "    Calculates the elapsed time between the start and end time.\n",
        "\n",
        "    Args:\n",
        "        start_time: The start time (in seconds).\n",
        "        end_time: The end time (in seconds).\n",
        "\n",
        "    Returns:\n",
        "        elapsed_mins: The elapsed time in minutes.\n",
        "        elapsed_secs: The elapsed time in seconds.\n",
        "    \"\"\"\n",
        "    elapsed_time = end_time - start_time\n",
        "    elapsed_mins = int(elapsed_time / 60)\n",
        "    elapsed_secs = int(elapsed_time - (elapsed_mins * 60))\n",
        "    return elapsed_mins, elapsed_secs\n",
        "\n",
        "def calculate_accuracy(y_pred, y_true):\n",
        "    \"\"\"\n",
        "    Computes accuracy for multi-class classification.\n",
        "    Args:\n",
        "        y_pred: Raw logits from the model (before softmax).\n",
        "        y_true: True class labels (integer class indices).\n",
        "    Returns:\n",
        "        Accuracy score.\n",
        "    \"\"\"\n",
        "    y_pred = torch.argmax(y_pred, dim=1)  # Get predicted class index\n",
        "    correct = (y_pred == y_true).sum().item()\n",
        "    total = y_true.size(0)  # Number of samples\n",
        "    return correct / total\n",
        "\n",
        "def train_epoch(model, train_loader, optimizer, criterion, device):\n",
        "    \"\"\"\n",
        "    Train the model for one epoch.\n",
        "    \"\"\"\n",
        "    model.train()\n",
        "    total_loss, total_accuracy = 0, 0\n",
        "\n",
        "    for batch in train_loader:\n",
        "        if len(batch) == 3:\n",
        "            input_tensor, target_tensor, _ = batch  # Ignore raw_text\n",
        "        input_tensor, target_tensor = input_tensor.to(device), target_tensor.to(device)\n",
        "\n",
        "        optimizer.zero_grad()\n",
        "        output = model(input_tensor)  # Forward pass\n",
        "        loss = criterion(output, target_tensor)  # Compute loss\n",
        "        loss.backward()  # Backpropagation\n",
        "\n",
        "        torch.nn.utils.clip_grad_norm_(model.parameters(), max_norm=1.0)  # Gradient clipping\n",
        "        optimizer.step()\n",
        "\n",
        "        batch_accuracy = calculate_accuracy(output, target_tensor)\n",
        "\n",
        "        total_loss += loss.item()\n",
        "        total_accuracy += batch_accuracy * len(target_tensor)\n",
        "\n",
        "    avg_loss = total_loss / len(train_loader)\n",
        "    avg_accuracy = total_accuracy / len(train_loader.dataset)\n",
        "\n",
        "    return avg_loss, avg_accuracy\n",
        "\n",
        "def validate_epoch(model, val_loader, criterion, device):\n",
        "    \"\"\"\n",
        "    Validate the model for one epoch.\n",
        "    Args:\n",
        "        model: Model instance.\n",
        "        val_loader: DataLoader for validation data.\n",
        "        criterion: Loss function (CrossEntropyLoss).\n",
        "        device: CPU/GPU.\n",
        "    Returns:\n",
        "        Average validation loss, accuracy, and F1-score.\n",
        "    \"\"\"\n",
        "    model.eval()  # Set to evaluation mode\n",
        "    total_loss, total_accuracy = 0, 0\n",
        "\n",
        "    all_labels = []\n",
        "    all_preds = []\n",
        "\n",
        "    with torch.no_grad():\n",
        "        for batch in val_loader:\n",
        "            if len(batch) == 3:\n",
        "                input_tensor, target_tensor, _ = batch  # Ignore raw_text\n",
        "            input_tensor, target_tensor = input_tensor.to(device), target_tensor.to(device)\n",
        "\n",
        "            output = model(input_tensor)  # Forward pass\n",
        "\n",
        "            loss = criterion(output, target_tensor)  # Compute loss\n",
        "            batch_accuracy = calculate_accuracy(output, target_tensor)\n",
        "\n",
        "            total_loss += loss.item()\n",
        "            total_accuracy += batch_accuracy * len(target_tensor)\n",
        "\n",
        "            preds = torch.argmax(output, dim=1).cpu().numpy()\n",
        "            all_preds.extend(preds)\n",
        "            all_labels.extend(target_tensor.cpu().numpy())\n",
        "\n",
        "    f1 = f1_score(all_labels, all_preds, average=\"weighted\", zero_division=0)\n",
        "    avg_loss = total_loss / len(val_loader)\n",
        "    avg_accuracy = total_accuracy / len(val_loader.dataset)\n",
        "\n",
        "    return avg_loss, avg_accuracy, f1\n",
        "\n",
        "def get_hidden_states(model, dataloader, device):\n",
        "    \"\"\"\n",
        "    This function extracts the hidden states from a model (either GRU or LSTM) for each sample in the dataloader.\n",
        "    The hidden states are taken from the last time step of the sequence, which are typically used for classification tasks.\n",
        "\n",
        "    Args:\n",
        "        model: A PyTorch model that contains an embedding layer and either a GRU or LSTM layer.\n",
        "        dataloader: A DataLoader containing batches of input data and their corresponding targets.\n",
        "        device: The device (CPU or GPU) to run the model on.\n",
        "\n",
        "    Returns:\n",
        "        hidden_states: A numpy array containing the hidden states for each sample in the dataloader.\n",
        "        labels: A numpy array containing the target labels corresponding to each input sample.\n",
        "    \"\"\"\n",
        "    model.eval()\n",
        "    hidden_states, labels = [], []\n",
        "\n",
        "    with torch.no_grad():\n",
        "        for batch in dataloader:\n",
        "            inputs, targets, _ = batch\n",
        "            inputs = inputs.to(device)\n",
        "\n",
        "            embedded = model.embedding(inputs)\n",
        "\n",
        "            if hasattr(model, \"gru\"):\n",
        "                gru_out, _ = model.gru(embedded)\n",
        "                hidden_state = gru_out[:, -1, :]\n",
        "\n",
        "            elif hasattr(model, \"lstm\"):\n",
        "                lstm_out, (hidden, _) = model.lstm(embedded)\n",
        "                hidden_state = hidden[-1]\n",
        "\n",
        "            else:\n",
        "                raise ValueError(\"Unsupported model type. Model must contain GRU or LSTM.\")\n",
        "\n",
        "            hidden_states.append(hidden_state.cpu().numpy())\n",
        "            labels.append(targets.cpu().numpy())\n",
        "\n",
        "    hidden_states = np.concatenate(hidden_states, axis=0)\n",
        "    labels = np.concatenate(labels, axis=0)\n",
        "\n",
        "    return hidden_states, labels\n",
        "\n",
        "def count_parameters(model):\n",
        "    \"\"\"\n",
        "    Computes the total number of trainable parameters in a model.\n",
        "\n",
        "    Args:\n",
        "        model: A PyTorch model instance.\n",
        "\n",
        "    Returns:\n",
        "        The total number of trainable parameters in the model.\n",
        "    \"\"\"\n",
        "    return sum(p.numel() for p in model.parameters() if p.requires_grad)\n",
        "\n",
        "def reinitialize_weights(model):\n",
        "    \"\"\"Reinitializes the model's weights by calling reset_parameters() for each layer that supports it.\"\"\"\n",
        "    for layer in model.children():\n",
        "        if hasattr(layer, 'reset_parameters'):\n",
        "            layer.reset_parameters()\n",
        "\n",
        "def test_epoch(model, test_loader, criterion, device):\n",
        "    \"\"\"\n",
        "    Validate the model for one epoch, including precision, F1, balanced accuracy, and recall.\n",
        "    Args:\n",
        "        model: Model instance.\n",
        "        test_loader: DataLoader for test data.\n",
        "        criterion: Loss function (CrossEntropyLoss).\n",
        "        device: CPU/GPU.\n",
        "    Returns:\n",
        "        Average test loss, accuracy, F1-score, balanced accuracy, Recall, and Precision.\n",
        "    \"\"\"\n",
        "    model.eval()  # Set model to evaluation mode\n",
        "    total_loss, total_accuracy = 0, 0\n",
        "\n",
        "    all_labels = []\n",
        "    all_preds = []\n",
        "\n",
        "    with torch.no_grad():\n",
        "        for batch in test_loader:\n",
        "            input_tensor, target_tensor, _ = batch  # Ignore raw_text\n",
        "            input_tensor, target_tensor = input_tensor.to(device), target_tensor.to(device)\n",
        "\n",
        "            output = model(input_tensor)  # Forward pass\n",
        "            loss = criterion(output, target_tensor)  # Compute loss\n",
        "            batch_accuracy = calculate_accuracy(output, target_tensor)\n",
        "\n",
        "            total_loss += loss.item()\n",
        "            total_accuracy += batch_accuracy * len(target_tensor)\n",
        "\n",
        "            preds = torch.argmax(output, dim=1).cpu().numpy()\n",
        "            all_preds.extend(preds)\n",
        "            all_labels.extend(target_tensor.cpu().numpy())\n",
        "\n",
        "    f1 = f1_score(all_labels, all_preds, average=\"weighted\", zero_division=0)\n",
        "    balanced_acc = balanced_accuracy_score(all_labels, all_preds)\n",
        "    precision = precision_score(all_labels, all_preds, average=\"weighted\", zero_division=0)\n",
        "    recall = recall_score(all_labels, all_preds, average=\"weighted\", zero_division=0)\n",
        "\n",
        "    avg_loss = total_loss / len(test_loader)\n",
        "    avg_accuracy = total_accuracy / len(test_loader.dataset)\n",
        "\n",
        "    return avg_loss, avg_accuracy, f1, balanced_acc, recall, precision"
      ]
    },
    {
      "cell_type": "code",
      "execution_count": 17,
      "metadata": {
        "id": "OOu9Z5DasEfw"
      },
      "outputs": [],
      "source": [
        "loss_gap_ratio = 1.25\n",
        "ax_accuracy_gap = 5\n",
        "\n",
        "def get_few_shot_subset(X_tensor, y_tensor, k_shot):\n",
        "    X_few = []\n",
        "    y_few = []\n",
        "    unique_classes = torch.unique(y_tensor)\n",
        "    for cls in unique_classes:\n",
        "        indices = (y_tensor == cls).nonzero(as_tuple=True)[0]\n",
        "        selected = indices[torch.randperm(len(indices))[:k_shot]]\n",
        "        X_few.append(X_tensor[selected])\n",
        "        y_few.append(y_tensor[selected])\n",
        "    X_few = torch.cat(X_few)\n",
        "    y_few = torch.cat(y_few)\n",
        "    return X_few, y_few\n",
        "\n",
        "def train_and_evaluate_model(model, k, X_combined_tensor, y_combined_tensor, optimizer, loss_function, num_epochs, batch_size, test_loader, model_name, embedding_matrix=None):\n",
        "    reinitialize_weights(model)\n",
        "    train_losses, test_losses = [], []\n",
        "    train_accuracies, test_accuracies = [], []\n",
        "    test_f1s, test_balanced_accs, test_recalls, test_precisions = [], [], [], []\n",
        "    saved_once = False\n",
        "    X_few, y_few = get_few_shot_subset(X_combined_tensor, y_combined_tensor, k_shot=k)\n",
        "    few_shot_dataset = TextDataset(X_few, y_few, raw_text_data=X_combined)\n",
        "    few_shot_loader = DataLoader(few_shot_dataset, batch_size=batch_size, shuffle=True, collate_fn=custom_collate_fn)\n",
        "    wandb.init(entity='wilfried-mvomoeto-university-of-li-ge', project=f'Few-Shot-Training_gru_glove_fastText_Bahdanau-{model_name}-', name=f\"{model_name}_K-{k}_Training\", config={'learning_rate': 7e-4, 'num_epochs': num_epochs, 'num_layers': 1, 'k_shot': k})\n",
        "    with tqdm(total=num_epochs, desc=f\"Training {model_name} with {k}-shot\", unit=\"epoch\") as pbar:\n",
        "        for epoch in range(num_epochs):\n",
        "            start_time = time.time()\n",
        "            train_loss, train_acc = train_epoch(model, few_shot_loader, optimizer, loss_function, device)\n",
        "            train_losses.append(train_loss)\n",
        "            train_accuracies.append(train_acc)\n",
        "            test_loss, test_acc, test_f1, test_balanced_acc, test_recall, test_precision = test_epoch(model, test_loader, loss_function, device)\n",
        "            test_losses.append(test_loss)\n",
        "            test_accuracies.append(test_acc)\n",
        "            test_f1s.append(test_f1)\n",
        "            test_balanced_accs.append(test_balanced_acc)\n",
        "            test_recalls.append(test_recall)\n",
        "            test_precisions.append(test_precision)\n",
        "            wandb.log({\n",
        "                \"train_loss\": train_loss,\n",
        "                \"test_loss\": test_loss,\n",
        "                \"train_acc\": train_acc,\n",
        "                \"test_acc\": test_acc,\n",
        "                \"test_f1\": test_f1,\n",
        "                \"test_balanced_acc\": test_balanced_acc,\n",
        "                \"test_recall\": test_recall,\n",
        "                \"test_precision\": test_precision,\n",
        "                \"epoch\": epoch + 1,\n",
        "                \"k_shot\": k\n",
        "            })\n",
        "\n",
        "            if (test_loss > train_loss * loss_gap_ratio or (train_acc > test_acc and train_acc - test_acc > ax_accuracy_gap / 100)) and not saved_once:\n",
        "                torch.save(model.state_dict(), f\"{model_name}_K-{k}_multi_class_loss_gap_accuracy_gap_10%.pth\")\n",
        "                saved_once = True\n",
        "                print(f\"Early stopping triggered at epoch {epoch+1}\")\n",
        "                print(f\"Model {model_name}_K-{k} saved with loss gap > 1.25 or accuracy gap > 10% at epoch {epoch}.\")\n",
        "                break\n",
        "            if epoch == num_epochs - 1 and not saved_once:\n",
        "                torch.save(model.state_dict(), f\"{model_name}_K-{k}_multi_class_final.pth\")\n",
        "                print(f\"Model {model_name}_K-{k} saved at the end of epoch {num_epochs}.\")\n",
        "                print(f\"Model metrics: \\nTest Accuracy: {test_acc:.2%}, Test F1: {test_f1:.2%}, Test Balanced Accuracy: {test_balanced_acc:.2%}, Test Recall: {test_recall:.2%}, Test Precision: {test_precision:.2%}\")\n",
        "            pbar.set_description(f\"{model_name} K-{k} Epoch {epoch+1}/{num_epochs} - Train Loss: {train_loss:.4f}, Test Loss: {test_loss:.4f}, Train Acc: {train_acc:.2%}, Test Acc: {test_acc:.2%}, Test F1: {test_f1:.2%}, Test Balanced Acc: {test_balanced_acc:.2%}, Test Recall: {test_recall:.2%}, Test Precision: {test_precision:.2%}, Time: {time.time() - start_time:.2f} sec\")\n",
        "            pbar.update(1)\n",
        "    return {\n",
        "        \"train_losses\": train_losses,\n",
        "        \"test_losses\": test_losses,\n",
        "        \"train_accuracies\": train_accuracies,\n",
        "        \"test_accuracies\": test_accuracies,\n",
        "        \"test_f1s\": test_f1s,\n",
        "        \"test_balanced_accs\": test_balanced_accs,\n",
        "        \"test_recalls\": test_recalls,\n",
        "        \"test_precisions\": test_precisions\n",
        "    }\n",
        "\n",
        "def plot_max_metrics(model_metrics, k_values):\n",
        "    import matplotlib.pyplot as plt\n",
        "    import seaborn as sns\n",
        "\n",
        "    fig, axes = plt.subplots(1, 4, figsize=(18, 6))\n",
        "    sns.set(style=\"whitegrid\")\n",
        "\n",
        "    for model_name, metrics in model_metrics.items():\n",
        "        # Convert lists of lists to flat lists (take the last entry for each k)\n",
        "        f1_values = [v if isinstance(v, float) else v[-1] for v in metrics[\"test_f1s\"]]\n",
        "        balanced_acc_values = [v if isinstance(v, float) else v[-1] for v in metrics[\"test_balanced_accs\"]]\n",
        "        recall_values = [v if isinstance(v, float) else v[-1] for v in metrics[\"test_recalls\"]]\n",
        "        precision_values = [v if isinstance(v, float) else v[-1] for v in metrics[\"test_precisions\"]]\n",
        "\n",
        "        axes[0].plot(k_values, f1_values, label=model_name, marker='o')\n",
        "        axes[1].plot(k_values, balanced_acc_values, label=model_name, marker='o')\n",
        "        axes[2].plot(k_values, recall_values, label=model_name, marker='o')\n",
        "        axes[3].plot(k_values, precision_values, label=model_name, marker='o')\n",
        "\n",
        "    axes[0].set_title(\"F1 Score\", fontsize=16)\n",
        "    axes[0].set_xlabel(\"K-shot\", fontsize=14)\n",
        "    axes[0].set_ylabel(\"F1 Score\", fontsize=14)\n",
        "    axes[0].legend(title=None, loc=\"lower right\", framealpha=0.001)\n",
        "    axes[0].grid(True)\n",
        "\n",
        "    axes[1].set_title(\"Balanced Accuracy\", fontsize=16)\n",
        "    axes[1].set_xlabel(\"K-shot\", fontsize=14)\n",
        "    axes[1].set_ylabel(\"Balanced Accuracy\", fontsize=14)\n",
        "    axes[1].legend(title=None, loc=\"lower right\", framealpha=0.001)\n",
        "    axes[1].grid(True)\n",
        "\n",
        "    axes[2].set_title(\"Recall\", fontsize=16)\n",
        "    axes[2].set_xlabel(\"K-shot\", fontsize=14)\n",
        "    axes[2].set_ylabel(\"Recall\", fontsize=14)\n",
        "    axes[2].legend(title=None, loc=\"lower right\", framealpha=0.001)\n",
        "    axes[2].grid(True)\n",
        "\n",
        "    axes[3].set_title(\"Precision\", fontsize=16)\n",
        "    axes[3].set_xlabel(\"K-shot\", fontsize=14)\n",
        "    axes[3].set_ylabel(\"Precision\", fontsize=14)\n",
        "    axes[3].legend(title=None, loc=\"lower right\", framealpha=0.001)\n",
        "    axes[3].grid(True)\n",
        "\n",
        "    plt.tight_layout()\n",
        "    plt.show()"
      ]
    },
    {
      "cell_type": "markdown",
      "metadata": {
        "id": "LAh8I2oo3sPQ"
      },
      "source": [
        "---\n",
        "# Few-Shot Training\n",
        "---"
      ]
    },
    {
      "cell_type": "code",
      "execution_count": 18,
      "metadata": {
        "id": "ropRkp56EJ-D"
      },
      "outputs": [],
      "source": [
        "class_weights = compute_class_weight('balanced', classes=np.unique(y_train_tensor.cpu().numpy()), y=y_train_tensor.cpu().numpy())\n",
        "class_weights_tensor = torch.tensor(class_weights, dtype=torch.float).to(device)\n",
        "loss_function = nn.CrossEntropyLoss(weight=class_weights_tensor)"
      ]
    },
    {
      "cell_type": "code",
      "execution_count": 19,
      "metadata": {
        "id": "u2hFyRE_HCtv"
      },
      "outputs": [],
      "source": [
        "models_info = {\n",
        "    \"GRU-Bah-Glove\": GRU_BahdanauAttentionModel(\n",
        "        embedding_matrix=embedding_matrix, hidden_dim=100, num_classes=NUM_CLASSES, dropout_prob=0.9\n",
        "    ).to(device),\n",
        "\n",
        "    \"GRU-Bah-FastText\": GRU_BahdanauAttentionModel(\n",
        "        embedding_matrix=embedding_matrix_fastText, hidden_dim=100, num_classes=NUM_CLASSES, dropout_prob=0.9\n",
        "    ).to(device),\n",
        "\n",
        "    \"CNN_LSTM\": CNN_LSTM_Model(\n",
        "        vocab_size=VOCAB_SIZE, embedding_dim=150, hidden_dim=100, num_layers=1, dropout_prob=0.3\n",
        "    ).to(device),\n",
        "\n",
        "    \"GRU-Glove\": GRU_Model(\n",
        "        vocab_size=VOCAB_SIZE, embedding_dim=EMBEDDING_DIM, hidden_dim=100,\n",
        "        num_layers=1, dropout_prob=0.4, embedding_weights=embedding_matrix\n",
        "    ).to(device),\n",
        "\n",
        "    \"GRU-FastText\": GRU_Model(\n",
        "        vocab_size=VOCAB_SIZE, embedding_dim=EMBEDDING_DIM, hidden_dim=100,\n",
        "        num_layers=1, dropout_prob=0.4, embedding_weights=embedding_matrix_fastText\n",
        "    ).to(device)\n",
        "}\n",
        "\n",
        "optimizers = {\n",
        "    \"GRU-Bah-Glove\": torch.optim.Adam(models_info[\"GRU-Bah-Glove\"].parameters(), lr=1e-4),\n",
        "    \"GRU-Bah-FastText\": torch.optim.Adam(models_info[\"GRU-Bah-FastText\"].parameters(), lr=1e-4),\n",
        "    \"CNN_LSTM\": torch.optim.AdamW(models_info[\"CNN_LSTM\"].parameters(), lr=7e-4),\n",
        "    \"GRU-Glove\": torch.optim.Adam(models_info[\"GRU-Glove\"].parameters(), lr=7e-4),\n",
        "    \"GRU-FastText\": torch.optim.Adam(models_info[\"GRU-FastText\"].parameters(), lr=7e-4)\n",
        "}"
      ]
    },
    {
      "cell_type": "code",
      "execution_count": 20,
      "metadata": {
        "colab": {
          "base_uri": "https://localhost:8080/",
          "height": 1000
        },
        "id": "AWcB0FRAmAEE",
        "outputId": "c8b9f2d7-8f8b-4597-f569-66a356939d8b"
      },
      "outputs": [
        {
          "name": "stdout",
          "output_type": "stream",
          "text": [
            "\n",
            "Training with 5-shot...\n"
          ]
        },
        {
          "name": "stderr",
          "output_type": "stream",
          "text": [
            "<ipython-input-9-f03193db776b>:44: UserWarning: To copy construct from a tensor, it is recommended to use sourceTensor.clone().detach() or sourceTensor.clone().detach().requires_grad_(True), rather than torch.tensor(sourceTensor).\n",
            "  self.X = torch.tensor(X_data, dtype=torch.long)\n",
            "<ipython-input-9-f03193db776b>:45: UserWarning: To copy construct from a tensor, it is recommended to use sourceTensor.clone().detach() or sourceTensor.clone().detach().requires_grad_(True), rather than torch.tensor(sourceTensor).\n",
            "  self.y = torch.tensor(y_data, dtype=torch.long)\n",
            "\u001b[34m\u001b[1mwandb\u001b[0m: Using wandb-core as the SDK backend.  Please refer to https://wandb.me/wandb-core for more information.\n"
          ]
        },
        {
          "data": {
            "application/javascript": "\n        window._wandbApiKey = new Promise((resolve, reject) => {\n            function loadScript(url) {\n            return new Promise(function(resolve, reject) {\n                let newScript = document.createElement(\"script\");\n                newScript.onerror = reject;\n                newScript.onload = resolve;\n                document.body.appendChild(newScript);\n                newScript.src = url;\n            });\n            }\n            loadScript(\"https://cdn.jsdelivr.net/npm/postmate/build/postmate.min.js\").then(() => {\n            const iframe = document.createElement('iframe')\n            iframe.style.cssText = \"width:0;height:0;border:none\"\n            document.body.appendChild(iframe)\n            const handshake = new Postmate({\n                container: iframe,\n                url: 'https://wandb.ai/authorize'\n            });\n            const timeout = setTimeout(() => reject(\"Couldn't auto authenticate\"), 5000)\n            handshake.then(function(child) {\n                child.on('authorize', data => {\n                    clearTimeout(timeout)\n                    resolve(data)\n                });\n            });\n            })\n        });\n    ",
            "text/plain": [
              "<IPython.core.display.Javascript object>"
            ]
          },
          "metadata": {},
          "output_type": "display_data"
        },
        {
          "name": "stderr",
          "output_type": "stream",
          "text": [
            "\u001b[34m\u001b[1mwandb\u001b[0m: Logging into wandb.ai. (Learn how to deploy a W&B server locally: https://wandb.me/wandb-server)\n",
            "\u001b[34m\u001b[1mwandb\u001b[0m: You can find your API key in your browser here: https://wandb.ai/authorize\n",
            "wandb: Paste an API key from your profile and hit enter:"
          ]
        },
        {
          "name": "stdout",
          "output_type": "stream",
          "text": [
            " ··········\n"
          ]
        },
        {
          "name": "stderr",
          "output_type": "stream",
          "text": [
            "\u001b[34m\u001b[1mwandb\u001b[0m: \u001b[33mWARNING\u001b[0m If you're specifying your api key in code, ensure this code is not shared publicly.\n",
            "\u001b[34m\u001b[1mwandb\u001b[0m: \u001b[33mWARNING\u001b[0m Consider setting the WANDB_API_KEY environment variable, or running `wandb login` from the command line.\n",
            "\u001b[34m\u001b[1mwandb\u001b[0m: No netrc file found, creating one.\n",
            "\u001b[34m\u001b[1mwandb\u001b[0m: Appending key for api.wandb.ai to your netrc file: /root/.netrc\n",
            "\u001b[34m\u001b[1mwandb\u001b[0m: Currently logged in as: \u001b[33mwilfried-mvomoeto\u001b[0m to \u001b[32mhttps://api.wandb.ai\u001b[0m. Use \u001b[1m`wandb login --relogin`\u001b[0m to force relogin\n"
          ]
        },
        {
          "data": {
            "text/html": [
              "Tracking run with wandb version 0.19.9"
            ],
            "text/plain": [
              "<IPython.core.display.HTML object>"
            ]
          },
          "metadata": {},
          "output_type": "display_data"
        },
        {
          "data": {
            "text/html": [
              "Run data is saved locally in <code>/content/wandb/run-20250421_080529-j6129ozw</code>"
            ],
            "text/plain": [
              "<IPython.core.display.HTML object>"
            ]
          },
          "metadata": {},
          "output_type": "display_data"
        },
        {
          "data": {
            "text/html": [
              "Syncing run <strong><a href='https://wandb.ai/wilfried-mvomoeto-university-of-li-ge/Few-Shot-Training_gru_glove_fastText_Bahdanau-GRU-Bah-Glove-/runs/j6129ozw' target=\"_blank\">GRU-Bah-Glove_K-5_Training</a></strong> to <a href='https://wandb.ai/wilfried-mvomoeto-university-of-li-ge/Few-Shot-Training_gru_glove_fastText_Bahdanau-GRU-Bah-Glove-' target=\"_blank\">Weights & Biases</a> (<a href='https://wandb.me/developer-guide' target=\"_blank\">docs</a>)<br>"
            ],
            "text/plain": [
              "<IPython.core.display.HTML object>"
            ]
          },
          "metadata": {},
          "output_type": "display_data"
        },
        {
          "data": {
            "text/html": [
              " View project at <a href='https://wandb.ai/wilfried-mvomoeto-university-of-li-ge/Few-Shot-Training_gru_glove_fastText_Bahdanau-GRU-Bah-Glove-' target=\"_blank\">https://wandb.ai/wilfried-mvomoeto-university-of-li-ge/Few-Shot-Training_gru_glove_fastText_Bahdanau-GRU-Bah-Glove-</a>"
            ],
            "text/plain": [
              "<IPython.core.display.HTML object>"
            ]
          },
          "metadata": {},
          "output_type": "display_data"
        },
        {
          "data": {
            "text/html": [
              " View run at <a href='https://wandb.ai/wilfried-mvomoeto-university-of-li-ge/Few-Shot-Training_gru_glove_fastText_Bahdanau-GRU-Bah-Glove-/runs/j6129ozw' target=\"_blank\">https://wandb.ai/wilfried-mvomoeto-university-of-li-ge/Few-Shot-Training_gru_glove_fastText_Bahdanau-GRU-Bah-Glove-/runs/j6129ozw</a>"
            ],
            "text/plain": [
              "<IPython.core.display.HTML object>"
            ]
          },
          "metadata": {},
          "output_type": "display_data"
        },
        {
          "name": "stderr",
          "output_type": "stream",
          "text": [
            "GRU-Bah-Glove K-5 Epoch 1/1000 - Train Loss: 2.2731, Test Loss: 2.2276, Train Acc: 11.11%, Test Acc: 6.85%, Test F1: 1.19%, Test Balanced Acc: 11.10%, Test Recall: 6.85%, Test Precision: 16.99%, Time: 2.28 sec:   0%|          | 1/1000 [00:03<54:57,  3.30s/epoch]"
          ]
        },
        {
          "name": "stdout",
          "output_type": "stream",
          "text": [
            "Early stopping triggered at epoch 2\n",
            "Model GRU-Bah-Glove_K-5 saved with loss gap > 1.25 or accuracy gap > 10% at epoch 1.\n"
          ]
        },
        {
          "name": "stderr",
          "output_type": "stream",
          "text": [
            "\n",
            "<ipython-input-9-f03193db776b>:44: UserWarning: To copy construct from a tensor, it is recommended to use sourceTensor.clone().detach() or sourceTensor.clone().detach().requires_grad_(True), rather than torch.tensor(sourceTensor).\n",
            "  self.X = torch.tensor(X_data, dtype=torch.long)\n",
            "<ipython-input-9-f03193db776b>:45: UserWarning: To copy construct from a tensor, it is recommended to use sourceTensor.clone().detach() or sourceTensor.clone().detach().requires_grad_(True), rather than torch.tensor(sourceTensor).\n",
            "  self.y = torch.tensor(y_data, dtype=torch.long)\n"
          ]
        },
        {
          "data": {
            "text/html": [],
            "text/plain": [
              "<IPython.core.display.HTML object>"
            ]
          },
          "metadata": {},
          "output_type": "display_data"
        },
        {
          "data": {
            "text/html": [
              "<br>    <style><br>        .wandb-row {<br>            display: flex;<br>            flex-direction: row;<br>            flex-wrap: wrap;<br>            justify-content: flex-start;<br>            width: 100%;<br>        }<br>        .wandb-col {<br>            display: flex;<br>            flex-direction: column;<br>            flex-basis: 100%;<br>            flex: 1;<br>            padding: 10px;<br>        }<br>    </style><br><div class=\"wandb-row\"><div class=\"wandb-col\"><h3>Run history:</h3><br/><table class=\"wandb\"><tr><td>epoch</td><td>▁█</td></tr><tr><td>k_shot</td><td>▁▁</td></tr><tr><td>test_acc</td><td>▁█</td></tr><tr><td>test_balanced_acc</td><td>▁█</td></tr><tr><td>test_f1</td><td>▁█</td></tr><tr><td>test_loss</td><td>█▁</td></tr><tr><td>test_precision</td><td>▁█</td></tr><tr><td>test_recall</td><td>▁█</td></tr><tr><td>train_acc</td><td>▁█</td></tr><tr><td>train_loss</td><td>▁█</td></tr></table><br/></div><div class=\"wandb-col\"><h3>Run summary:</h3><br/><table class=\"wandb\"><tr><td>epoch</td><td>2</td></tr><tr><td>k_shot</td><td>5</td></tr><tr><td>test_acc</td><td>0.06864</td></tr><tr><td>test_balanced_acc</td><td>0.11133</td></tr><tr><td>test_f1</td><td>0.01195</td></tr><tr><td>test_loss</td><td>2.22104</td></tr><tr><td>test_precision</td><td>0.17169</td></tr><tr><td>test_recall</td><td>0.06864</td></tr><tr><td>train_acc</td><td>0.15556</td></tr><tr><td>train_loss</td><td>2.36708</td></tr></table><br/></div></div>"
            ],
            "text/plain": [
              "<IPython.core.display.HTML object>"
            ]
          },
          "metadata": {},
          "output_type": "display_data"
        },
        {
          "data": {
            "text/html": [
              " View run <strong style=\"color:#cdcd00\">GRU-Bah-Glove_K-5_Training</strong> at: <a href='https://wandb.ai/wilfried-mvomoeto-university-of-li-ge/Few-Shot-Training_gru_glove_fastText_Bahdanau-GRU-Bah-Glove-/runs/j6129ozw' target=\"_blank\">https://wandb.ai/wilfried-mvomoeto-university-of-li-ge/Few-Shot-Training_gru_glove_fastText_Bahdanau-GRU-Bah-Glove-/runs/j6129ozw</a><br> View project at: <a href='https://wandb.ai/wilfried-mvomoeto-university-of-li-ge/Few-Shot-Training_gru_glove_fastText_Bahdanau-GRU-Bah-Glove-' target=\"_blank\">https://wandb.ai/wilfried-mvomoeto-university-of-li-ge/Few-Shot-Training_gru_glove_fastText_Bahdanau-GRU-Bah-Glove-</a><br>Synced 5 W&B file(s), 0 media file(s), 0 artifact file(s) and 0 other file(s)"
            ],
            "text/plain": [
              "<IPython.core.display.HTML object>"
            ]
          },
          "metadata": {},
          "output_type": "display_data"
        },
        {
          "data": {
            "text/html": [
              "Find logs at: <code>./wandb/run-20250421_080529-j6129ozw/logs</code>"
            ],
            "text/plain": [
              "<IPython.core.display.HTML object>"
            ]
          },
          "metadata": {},
          "output_type": "display_data"
        },
        {
          "data": {
            "text/html": [
              "Tracking run with wandb version 0.19.9"
            ],
            "text/plain": [
              "<IPython.core.display.HTML object>"
            ]
          },
          "metadata": {},
          "output_type": "display_data"
        },
        {
          "data": {
            "text/html": [
              "Run data is saved locally in <code>/content/wandb/run-20250421_080533-lmpfhjaz</code>"
            ],
            "text/plain": [
              "<IPython.core.display.HTML object>"
            ]
          },
          "metadata": {},
          "output_type": "display_data"
        },
        {
          "data": {
            "text/html": [
              "Syncing run <strong><a href='https://wandb.ai/wilfried-mvomoeto-university-of-li-ge/Few-Shot-Training_gru_glove_fastText_Bahdanau-GRU-Bah-FastText-/runs/lmpfhjaz' target=\"_blank\">GRU-Bah-FastText_K-5_Training</a></strong> to <a href='https://wandb.ai/wilfried-mvomoeto-university-of-li-ge/Few-Shot-Training_gru_glove_fastText_Bahdanau-GRU-Bah-FastText-' target=\"_blank\">Weights & Biases</a> (<a href='https://wandb.me/developer-guide' target=\"_blank\">docs</a>)<br>"
            ],
            "text/plain": [
              "<IPython.core.display.HTML object>"
            ]
          },
          "metadata": {},
          "output_type": "display_data"
        },
        {
          "data": {
            "text/html": [
              " View project at <a href='https://wandb.ai/wilfried-mvomoeto-university-of-li-ge/Few-Shot-Training_gru_glove_fastText_Bahdanau-GRU-Bah-FastText-' target=\"_blank\">https://wandb.ai/wilfried-mvomoeto-university-of-li-ge/Few-Shot-Training_gru_glove_fastText_Bahdanau-GRU-Bah-FastText-</a>"
            ],
            "text/plain": [
              "<IPython.core.display.HTML object>"
            ]
          },
          "metadata": {},
          "output_type": "display_data"
        },
        {
          "data": {
            "text/html": [
              " View run at <a href='https://wandb.ai/wilfried-mvomoeto-university-of-li-ge/Few-Shot-Training_gru_glove_fastText_Bahdanau-GRU-Bah-FastText-/runs/lmpfhjaz' target=\"_blank\">https://wandb.ai/wilfried-mvomoeto-university-of-li-ge/Few-Shot-Training_gru_glove_fastText_Bahdanau-GRU-Bah-FastText-/runs/lmpfhjaz</a>"
            ],
            "text/plain": [
              "<IPython.core.display.HTML object>"
            ]
          },
          "metadata": {},
          "output_type": "display_data"
        },
        {
          "name": "stderr",
          "output_type": "stream",
          "text": [
            "GRU-Bah-FastText K-5 Epoch 7/1000 - Train Loss: 2.3284, Test Loss: 2.2000, Train Acc: 8.89%, Test Acc: 10.56%, Test F1: 4.14%, Test Balanced Acc: 10.29%, Test Recall: 10.56%, Test Precision: 12.36%, Time: 1.05 sec:   1%|          | 7/1000 [00:08<19:01,  1.15s/epoch]"
          ]
        },
        {
          "name": "stdout",
          "output_type": "stream",
          "text": [
            "Early stopping triggered at epoch 8\n",
            "Model GRU-Bah-FastText_K-5 saved with loss gap > 1.25 or accuracy gap > 10% at epoch 7.\n"
          ]
        },
        {
          "name": "stderr",
          "output_type": "stream",
          "text": [
            "\n",
            "<ipython-input-9-f03193db776b>:44: UserWarning: To copy construct from a tensor, it is recommended to use sourceTensor.clone().detach() or sourceTensor.clone().detach().requires_grad_(True), rather than torch.tensor(sourceTensor).\n",
            "  self.X = torch.tensor(X_data, dtype=torch.long)\n",
            "<ipython-input-9-f03193db776b>:45: UserWarning: To copy construct from a tensor, it is recommended to use sourceTensor.clone().detach() or sourceTensor.clone().detach().requires_grad_(True), rather than torch.tensor(sourceTensor).\n",
            "  self.y = torch.tensor(y_data, dtype=torch.long)\n"
          ]
        },
        {
          "data": {
            "text/html": [],
            "text/plain": [
              "<IPython.core.display.HTML object>"
            ]
          },
          "metadata": {},
          "output_type": "display_data"
        },
        {
          "data": {
            "text/html": [
              "<br>    <style><br>        .wandb-row {<br>            display: flex;<br>            flex-direction: row;<br>            flex-wrap: wrap;<br>            justify-content: flex-start;<br>            width: 100%;<br>        }<br>        .wandb-col {<br>            display: flex;<br>            flex-direction: column;<br>            flex-basis: 100%;<br>            flex: 1;<br>            padding: 10px;<br>        }<br>    </style><br><div class=\"wandb-row\"><div class=\"wandb-col\"><h3>Run history:</h3><br/><table class=\"wandb\"><tr><td>epoch</td><td>▁▂▃▄▅▆▇█</td></tr><tr><td>k_shot</td><td>▁▁▁▁▁▁▁▁</td></tr><tr><td>test_acc</td><td>████▆▅▃▁</td></tr><tr><td>test_balanced_acc</td><td>███▇▅▂▂▁</td></tr><tr><td>test_f1</td><td>▁▁▂▃▄▅▆█</td></tr><tr><td>test_loss</td><td>█▆▅▄▃▂▁▁</td></tr><tr><td>test_precision</td><td>▂▁▂▂█▆▄▅</td></tr><tr><td>test_recall</td><td>████▆▅▃▁</td></tr><tr><td>train_acc</td><td>▅▅▇▅▁▇▂█</td></tr><tr><td>train_loss</td><td>█▅▃▅█▃▅▁</td></tr></table><br/></div><div class=\"wandb-col\"><h3>Run summary:</h3><br/><table class=\"wandb\"><tr><td>epoch</td><td>8</td></tr><tr><td>k_shot</td><td>5</td></tr><tr><td>test_acc</td><td>0.09917</td></tr><tr><td>test_balanced_acc</td><td>0.10186</td></tr><tr><td>test_f1</td><td>0.04465</td></tr><tr><td>test_loss</td><td>2.19871</td></tr><tr><td>test_precision</td><td>0.1333</td></tr><tr><td>test_recall</td><td>0.09917</td></tr><tr><td>train_acc</td><td>0.17778</td></tr><tr><td>train_loss</td><td>2.19262</td></tr></table><br/></div></div>"
            ],
            "text/plain": [
              "<IPython.core.display.HTML object>"
            ]
          },
          "metadata": {},
          "output_type": "display_data"
        },
        {
          "data": {
            "text/html": [
              " View run <strong style=\"color:#cdcd00\">GRU-Bah-FastText_K-5_Training</strong> at: <a href='https://wandb.ai/wilfried-mvomoeto-university-of-li-ge/Few-Shot-Training_gru_glove_fastText_Bahdanau-GRU-Bah-FastText-/runs/lmpfhjaz' target=\"_blank\">https://wandb.ai/wilfried-mvomoeto-university-of-li-ge/Few-Shot-Training_gru_glove_fastText_Bahdanau-GRU-Bah-FastText-/runs/lmpfhjaz</a><br> View project at: <a href='https://wandb.ai/wilfried-mvomoeto-university-of-li-ge/Few-Shot-Training_gru_glove_fastText_Bahdanau-GRU-Bah-FastText-' target=\"_blank\">https://wandb.ai/wilfried-mvomoeto-university-of-li-ge/Few-Shot-Training_gru_glove_fastText_Bahdanau-GRU-Bah-FastText-</a><br>Synced 5 W&B file(s), 0 media file(s), 0 artifact file(s) and 0 other file(s)"
            ],
            "text/plain": [
              "<IPython.core.display.HTML object>"
            ]
          },
          "metadata": {},
          "output_type": "display_data"
        },
        {
          "data": {
            "text/html": [
              "Find logs at: <code>./wandb/run-20250421_080533-lmpfhjaz/logs</code>"
            ],
            "text/plain": [
              "<IPython.core.display.HTML object>"
            ]
          },
          "metadata": {},
          "output_type": "display_data"
        },
        {
          "data": {
            "text/html": [
              "Tracking run with wandb version 0.19.9"
            ],
            "text/plain": [
              "<IPython.core.display.HTML object>"
            ]
          },
          "metadata": {},
          "output_type": "display_data"
        },
        {
          "data": {
            "text/html": [
              "Run data is saved locally in <code>/content/wandb/run-20250421_080543-yikrw0jp</code>"
            ],
            "text/plain": [
              "<IPython.core.display.HTML object>"
            ]
          },
          "metadata": {},
          "output_type": "display_data"
        },
        {
          "data": {
            "text/html": [
              "Syncing run <strong><a href='https://wandb.ai/wilfried-mvomoeto-university-of-li-ge/Few-Shot-Training_gru_glove_fastText_Bahdanau-CNN_LSTM-/runs/yikrw0jp' target=\"_blank\">CNN_LSTM_K-5_Training</a></strong> to <a href='https://wandb.ai/wilfried-mvomoeto-university-of-li-ge/Few-Shot-Training_gru_glove_fastText_Bahdanau-CNN_LSTM-' target=\"_blank\">Weights & Biases</a> (<a href='https://wandb.me/developer-guide' target=\"_blank\">docs</a>)<br>"
            ],
            "text/plain": [
              "<IPython.core.display.HTML object>"
            ]
          },
          "metadata": {},
          "output_type": "display_data"
        },
        {
          "data": {
            "text/html": [
              " View project at <a href='https://wandb.ai/wilfried-mvomoeto-university-of-li-ge/Few-Shot-Training_gru_glove_fastText_Bahdanau-CNN_LSTM-' target=\"_blank\">https://wandb.ai/wilfried-mvomoeto-university-of-li-ge/Few-Shot-Training_gru_glove_fastText_Bahdanau-CNN_LSTM-</a>"
            ],
            "text/plain": [
              "<IPython.core.display.HTML object>"
            ]
          },
          "metadata": {},
          "output_type": "display_data"
        },
        {
          "data": {
            "text/html": [
              " View run at <a href='https://wandb.ai/wilfried-mvomoeto-university-of-li-ge/Few-Shot-Training_gru_glove_fastText_Bahdanau-CNN_LSTM-/runs/yikrw0jp' target=\"_blank\">https://wandb.ai/wilfried-mvomoeto-university-of-li-ge/Few-Shot-Training_gru_glove_fastText_Bahdanau-CNN_LSTM-/runs/yikrw0jp</a>"
            ],
            "text/plain": [
              "<IPython.core.display.HTML object>"
            ]
          },
          "metadata": {},
          "output_type": "display_data"
        },
        {
          "name": "stderr",
          "output_type": "stream",
          "text": [
            "CNN_LSTM K-5 Epoch 1/1000 - Train Loss: 2.2098, Test Loss: 2.1993, Train Acc: 8.89%, Test Acc: 11.40%, Test F1: 2.34%, Test Balanced Acc: 11.09%, Test Recall: 11.40%, Test Precision: 1.30%, Time: 1.33 sec:   0%|          | 1/1000 [00:02<33:29,  2.01s/epoch]"
          ]
        },
        {
          "name": "stdout",
          "output_type": "stream",
          "text": [
            "Early stopping triggered at epoch 2\n",
            "Model CNN_LSTM_K-5 saved with loss gap > 1.25 or accuracy gap > 10% at epoch 1.\n"
          ]
        },
        {
          "name": "stderr",
          "output_type": "stream",
          "text": [
            "\n",
            "<ipython-input-9-f03193db776b>:44: UserWarning: To copy construct from a tensor, it is recommended to use sourceTensor.clone().detach() or sourceTensor.clone().detach().requires_grad_(True), rather than torch.tensor(sourceTensor).\n",
            "  self.X = torch.tensor(X_data, dtype=torch.long)\n",
            "<ipython-input-9-f03193db776b>:45: UserWarning: To copy construct from a tensor, it is recommended to use sourceTensor.clone().detach() or sourceTensor.clone().detach().requires_grad_(True), rather than torch.tensor(sourceTensor).\n",
            "  self.y = torch.tensor(y_data, dtype=torch.long)\n"
          ]
        },
        {
          "data": {
            "text/html": [],
            "text/plain": [
              "<IPython.core.display.HTML object>"
            ]
          },
          "metadata": {},
          "output_type": "display_data"
        },
        {
          "data": {
            "text/html": [
              "<br>    <style><br>        .wandb-row {<br>            display: flex;<br>            flex-direction: row;<br>            flex-wrap: wrap;<br>            justify-content: flex-start;<br>            width: 100%;<br>        }<br>        .wandb-col {<br>            display: flex;<br>            flex-direction: column;<br>            flex-basis: 100%;<br>            flex: 1;<br>            padding: 10px;<br>        }<br>    </style><br><div class=\"wandb-row\"><div class=\"wandb-col\"><h3>Run history:</h3><br/><table class=\"wandb\"><tr><td>epoch</td><td>▁█</td></tr><tr><td>k_shot</td><td>▁▁</td></tr><tr><td>test_acc</td><td>█▁</td></tr><tr><td>test_balanced_acc</td><td>█▁</td></tr><tr><td>test_f1</td><td>█▁</td></tr><tr><td>test_loss</td><td>▁█</td></tr><tr><td>test_precision</td><td>█▁</td></tr><tr><td>test_recall</td><td>█▁</td></tr><tr><td>train_acc</td><td>▁█</td></tr><tr><td>train_loss</td><td>█▁</td></tr></table><br/></div><div class=\"wandb-col\"><h3>Run summary:</h3><br/><table class=\"wandb\"><tr><td>epoch</td><td>2</td></tr><tr><td>k_shot</td><td>5</td></tr><tr><td>test_acc</td><td>0.06744</td></tr><tr><td>test_balanced_acc</td><td>0.11055</td></tr><tr><td>test_f1</td><td>0.00858</td></tr><tr><td>test_loss</td><td>2.19992</td></tr><tr><td>test_precision</td><td>0.00458</td></tr><tr><td>test_recall</td><td>0.06744</td></tr><tr><td>train_acc</td><td>0.13333</td></tr><tr><td>train_loss</td><td>2.19795</td></tr></table><br/></div></div>"
            ],
            "text/plain": [
              "<IPython.core.display.HTML object>"
            ]
          },
          "metadata": {},
          "output_type": "display_data"
        },
        {
          "data": {
            "text/html": [
              " View run <strong style=\"color:#cdcd00\">CNN_LSTM_K-5_Training</strong> at: <a href='https://wandb.ai/wilfried-mvomoeto-university-of-li-ge/Few-Shot-Training_gru_glove_fastText_Bahdanau-CNN_LSTM-/runs/yikrw0jp' target=\"_blank\">https://wandb.ai/wilfried-mvomoeto-university-of-li-ge/Few-Shot-Training_gru_glove_fastText_Bahdanau-CNN_LSTM-/runs/yikrw0jp</a><br> View project at: <a href='https://wandb.ai/wilfried-mvomoeto-university-of-li-ge/Few-Shot-Training_gru_glove_fastText_Bahdanau-CNN_LSTM-' target=\"_blank\">https://wandb.ai/wilfried-mvomoeto-university-of-li-ge/Few-Shot-Training_gru_glove_fastText_Bahdanau-CNN_LSTM-</a><br>Synced 5 W&B file(s), 0 media file(s), 0 artifact file(s) and 0 other file(s)"
            ],
            "text/plain": [
              "<IPython.core.display.HTML object>"
            ]
          },
          "metadata": {},
          "output_type": "display_data"
        },
        {
          "data": {
            "text/html": [
              "Find logs at: <code>./wandb/run-20250421_080543-yikrw0jp/logs</code>"
            ],
            "text/plain": [
              "<IPython.core.display.HTML object>"
            ]
          },
          "metadata": {},
          "output_type": "display_data"
        },
        {
          "data": {
            "text/html": [
              "Tracking run with wandb version 0.19.9"
            ],
            "text/plain": [
              "<IPython.core.display.HTML object>"
            ]
          },
          "metadata": {},
          "output_type": "display_data"
        },
        {
          "data": {
            "text/html": [
              "Run data is saved locally in <code>/content/wandb/run-20250421_080546-lkzcusnf</code>"
            ],
            "text/plain": [
              "<IPython.core.display.HTML object>"
            ]
          },
          "metadata": {},
          "output_type": "display_data"
        },
        {
          "data": {
            "text/html": [
              "Syncing run <strong><a href='https://wandb.ai/wilfried-mvomoeto-university-of-li-ge/Few-Shot-Training_gru_glove_fastText_Bahdanau-GRU-Glove-/runs/lkzcusnf' target=\"_blank\">GRU-Glove_K-5_Training</a></strong> to <a href='https://wandb.ai/wilfried-mvomoeto-university-of-li-ge/Few-Shot-Training_gru_glove_fastText_Bahdanau-GRU-Glove-' target=\"_blank\">Weights & Biases</a> (<a href='https://wandb.me/developer-guide' target=\"_blank\">docs</a>)<br>"
            ],
            "text/plain": [
              "<IPython.core.display.HTML object>"
            ]
          },
          "metadata": {},
          "output_type": "display_data"
        },
        {
          "data": {
            "text/html": [
              " View project at <a href='https://wandb.ai/wilfried-mvomoeto-university-of-li-ge/Few-Shot-Training_gru_glove_fastText_Bahdanau-GRU-Glove-' target=\"_blank\">https://wandb.ai/wilfried-mvomoeto-university-of-li-ge/Few-Shot-Training_gru_glove_fastText_Bahdanau-GRU-Glove-</a>"
            ],
            "text/plain": [
              "<IPython.core.display.HTML object>"
            ]
          },
          "metadata": {},
          "output_type": "display_data"
        },
        {
          "data": {
            "text/html": [
              " View run at <a href='https://wandb.ai/wilfried-mvomoeto-university-of-li-ge/Few-Shot-Training_gru_glove_fastText_Bahdanau-GRU-Glove-/runs/lkzcusnf' target=\"_blank\">https://wandb.ai/wilfried-mvomoeto-university-of-li-ge/Few-Shot-Training_gru_glove_fastText_Bahdanau-GRU-Glove-/runs/lkzcusnf</a>"
            ],
            "text/plain": [
              "<IPython.core.display.HTML object>"
            ]
          },
          "metadata": {},
          "output_type": "display_data"
        },
        {
          "name": "stderr",
          "output_type": "stream",
          "text": [
            "GRU-Glove K-5 Epoch 2/1000 - Train Loss: 2.2738, Test Loss: 2.2185, Train Acc: 2.22%, Test Acc: 6.74%, Test F1: 0.92%, Test Balanced Acc: 11.03%, Test Recall: 6.74%, Test Precision: 6.54%, Time: 0.55 sec:   0%|          | 2/1000 [00:01<15:03,  1.10epoch/s]"
          ]
        },
        {
          "name": "stdout",
          "output_type": "stream",
          "text": [
            "Early stopping triggered at epoch 3\n",
            "Model GRU-Glove_K-5 saved with loss gap > 1.25 or accuracy gap > 10% at epoch 2.\n"
          ]
        },
        {
          "name": "stderr",
          "output_type": "stream",
          "text": [
            "\n",
            "<ipython-input-9-f03193db776b>:44: UserWarning: To copy construct from a tensor, it is recommended to use sourceTensor.clone().detach() or sourceTensor.clone().detach().requires_grad_(True), rather than torch.tensor(sourceTensor).\n",
            "  self.X = torch.tensor(X_data, dtype=torch.long)\n",
            "<ipython-input-9-f03193db776b>:45: UserWarning: To copy construct from a tensor, it is recommended to use sourceTensor.clone().detach() or sourceTensor.clone().detach().requires_grad_(True), rather than torch.tensor(sourceTensor).\n",
            "  self.y = torch.tensor(y_data, dtype=torch.long)\n"
          ]
        },
        {
          "data": {
            "text/html": [],
            "text/plain": [
              "<IPython.core.display.HTML object>"
            ]
          },
          "metadata": {},
          "output_type": "display_data"
        },
        {
          "data": {
            "text/html": [
              "<br>    <style><br>        .wandb-row {<br>            display: flex;<br>            flex-direction: row;<br>            flex-wrap: wrap;<br>            justify-content: flex-start;<br>            width: 100%;<br>        }<br>        .wandb-col {<br>            display: flex;<br>            flex-direction: column;<br>            flex-basis: 100%;<br>            flex: 1;<br>            padding: 10px;<br>        }<br>    </style><br><div class=\"wandb-row\"><div class=\"wandb-col\"><h3>Run history:</h3><br/><table class=\"wandb\"><tr><td>epoch</td><td>▁▅█</td></tr><tr><td>k_shot</td><td>▁▁▁</td></tr><tr><td>test_acc</td><td>█▁▁</td></tr><tr><td>test_balanced_acc</td><td>█▁▄</td></tr><tr><td>test_f1</td><td>█▁▁</td></tr><tr><td>test_loss</td><td>█▁▄</td></tr><tr><td>test_precision</td><td>▃█▁</td></tr><tr><td>test_recall</td><td>█▁▁</td></tr><tr><td>train_acc</td><td>▁▁█</td></tr><tr><td>train_loss</td><td>█▄▁</td></tr></table><br/></div><div class=\"wandb-col\"><h3>Run summary:</h3><br/><table class=\"wandb\"><tr><td>epoch</td><td>3</td></tr><tr><td>k_shot</td><td>5</td></tr><tr><td>test_acc</td><td>0.06761</td></tr><tr><td>test_balanced_acc</td><td>0.1107</td></tr><tr><td>test_f1</td><td>0.00893</td></tr><tr><td>test_loss</td><td>2.23074</td></tr><tr><td>test_precision</td><td>0.04517</td></tr><tr><td>test_recall</td><td>0.06761</td></tr><tr><td>train_acc</td><td>0.13333</td></tr><tr><td>train_loss</td><td>2.24616</td></tr></table><br/></div></div>"
            ],
            "text/plain": [
              "<IPython.core.display.HTML object>"
            ]
          },
          "metadata": {},
          "output_type": "display_data"
        },
        {
          "data": {
            "text/html": [
              " View run <strong style=\"color:#cdcd00\">GRU-Glove_K-5_Training</strong> at: <a href='https://wandb.ai/wilfried-mvomoeto-university-of-li-ge/Few-Shot-Training_gru_glove_fastText_Bahdanau-GRU-Glove-/runs/lkzcusnf' target=\"_blank\">https://wandb.ai/wilfried-mvomoeto-university-of-li-ge/Few-Shot-Training_gru_glove_fastText_Bahdanau-GRU-Glove-/runs/lkzcusnf</a><br> View project at: <a href='https://wandb.ai/wilfried-mvomoeto-university-of-li-ge/Few-Shot-Training_gru_glove_fastText_Bahdanau-GRU-Glove-' target=\"_blank\">https://wandb.ai/wilfried-mvomoeto-university-of-li-ge/Few-Shot-Training_gru_glove_fastText_Bahdanau-GRU-Glove-</a><br>Synced 5 W&B file(s), 0 media file(s), 0 artifact file(s) and 0 other file(s)"
            ],
            "text/plain": [
              "<IPython.core.display.HTML object>"
            ]
          },
          "metadata": {},
          "output_type": "display_data"
        },
        {
          "data": {
            "text/html": [
              "Find logs at: <code>./wandb/run-20250421_080546-lkzcusnf/logs</code>"
            ],
            "text/plain": [
              "<IPython.core.display.HTML object>"
            ]
          },
          "metadata": {},
          "output_type": "display_data"
        },
        {
          "data": {
            "text/html": [
              "Tracking run with wandb version 0.19.9"
            ],
            "text/plain": [
              "<IPython.core.display.HTML object>"
            ]
          },
          "metadata": {},
          "output_type": "display_data"
        },
        {
          "data": {
            "text/html": [
              "Run data is saved locally in <code>/content/wandb/run-20250421_080549-3m0tv9hi</code>"
            ],
            "text/plain": [
              "<IPython.core.display.HTML object>"
            ]
          },
          "metadata": {},
          "output_type": "display_data"
        },
        {
          "data": {
            "text/html": [
              "Syncing run <strong><a href='https://wandb.ai/wilfried-mvomoeto-university-of-li-ge/Few-Shot-Training_gru_glove_fastText_Bahdanau-GRU-FastText-/runs/3m0tv9hi' target=\"_blank\">GRU-FastText_K-5_Training</a></strong> to <a href='https://wandb.ai/wilfried-mvomoeto-university-of-li-ge/Few-Shot-Training_gru_glove_fastText_Bahdanau-GRU-FastText-' target=\"_blank\">Weights & Biases</a> (<a href='https://wandb.me/developer-guide' target=\"_blank\">docs</a>)<br>"
            ],
            "text/plain": [
              "<IPython.core.display.HTML object>"
            ]
          },
          "metadata": {},
          "output_type": "display_data"
        },
        {
          "data": {
            "text/html": [
              " View project at <a href='https://wandb.ai/wilfried-mvomoeto-university-of-li-ge/Few-Shot-Training_gru_glove_fastText_Bahdanau-GRU-FastText-' target=\"_blank\">https://wandb.ai/wilfried-mvomoeto-university-of-li-ge/Few-Shot-Training_gru_glove_fastText_Bahdanau-GRU-FastText-</a>"
            ],
            "text/plain": [
              "<IPython.core.display.HTML object>"
            ]
          },
          "metadata": {},
          "output_type": "display_data"
        },
        {
          "data": {
            "text/html": [
              " View run at <a href='https://wandb.ai/wilfried-mvomoeto-university-of-li-ge/Few-Shot-Training_gru_glove_fastText_Bahdanau-GRU-FastText-/runs/3m0tv9hi' target=\"_blank\">https://wandb.ai/wilfried-mvomoeto-university-of-li-ge/Few-Shot-Training_gru_glove_fastText_Bahdanau-GRU-FastText-/runs/3m0tv9hi</a>"
            ],
            "text/plain": [
              "<IPython.core.display.HTML object>"
            ]
          },
          "metadata": {},
          "output_type": "display_data"
        },
        {
          "name": "stderr",
          "output_type": "stream",
          "text": [
            "GRU-FastText K-5 Epoch 3/1000 - Train Loss: 2.1858, Test Loss: 2.2517, Train Acc: 11.11%, Test Acc: 6.83%, Test F1: 1.00%, Test Balanced Acc: 11.15%, Test Recall: 6.83%, Test Precision: 24.90%, Time: 0.55 sec:   0%|          | 3/1000 [00:02<13:45,  1.21epoch/s]"
          ]
        },
        {
          "name": "stdout",
          "output_type": "stream",
          "text": [
            "Early stopping triggered at epoch 4\n",
            "Model GRU-FastText_K-5 saved with loss gap > 1.25 or accuracy gap > 10% at epoch 3.\n",
            "\n",
            "Training with 10-shot...\n"
          ]
        },
        {
          "name": "stderr",
          "output_type": "stream",
          "text": [
            "\n",
            "<ipython-input-9-f03193db776b>:44: UserWarning: To copy construct from a tensor, it is recommended to use sourceTensor.clone().detach() or sourceTensor.clone().detach().requires_grad_(True), rather than torch.tensor(sourceTensor).\n",
            "  self.X = torch.tensor(X_data, dtype=torch.long)\n",
            "<ipython-input-9-f03193db776b>:45: UserWarning: To copy construct from a tensor, it is recommended to use sourceTensor.clone().detach() or sourceTensor.clone().detach().requires_grad_(True), rather than torch.tensor(sourceTensor).\n",
            "  self.y = torch.tensor(y_data, dtype=torch.long)\n"
          ]
        },
        {
          "data": {
            "text/html": [],
            "text/plain": [
              "<IPython.core.display.HTML object>"
            ]
          },
          "metadata": {},
          "output_type": "display_data"
        },
        {
          "data": {
            "text/html": [
              "<br>    <style><br>        .wandb-row {<br>            display: flex;<br>            flex-direction: row;<br>            flex-wrap: wrap;<br>            justify-content: flex-start;<br>            width: 100%;<br>        }<br>        .wandb-col {<br>            display: flex;<br>            flex-direction: column;<br>            flex-basis: 100%;<br>            flex: 1;<br>            padding: 10px;<br>        }<br>    </style><br><div class=\"wandb-row\"><div class=\"wandb-col\"><h3>Run history:</h3><br/><table class=\"wandb\"><tr><td>epoch</td><td>▁▃▆█</td></tr><tr><td>k_shot</td><td>▁▁▁▁</td></tr><tr><td>test_acc</td><td>▁▁▁▁</td></tr><tr><td>test_balanced_acc</td><td>▁▁▁▁</td></tr><tr><td>test_f1</td><td>▁▁██</td></tr><tr><td>test_loss</td><td>▁▃█▇</td></tr><tr><td>test_precision</td><td>██▁▁</td></tr><tr><td>test_recall</td><td>▁▁▁▁</td></tr><tr><td>train_acc</td><td>▁▄▆█</td></tr><tr><td>train_loss</td><td>█▄▁▃</td></tr></table><br/></div><div class=\"wandb-col\"><h3>Run summary:</h3><br/><table class=\"wandb\"><tr><td>epoch</td><td>4</td></tr><tr><td>k_shot</td><td>5</td></tr><tr><td>test_acc</td><td>0.0683</td></tr><tr><td>test_balanced_acc</td><td>0.11147</td></tr><tr><td>test_f1</td><td>0.00998</td></tr><tr><td>test_loss</td><td>2.24605</td></tr><tr><td>test_precision</td><td>0.24898</td></tr><tr><td>test_recall</td><td>0.0683</td></tr><tr><td>train_acc</td><td>0.13333</td></tr><tr><td>train_loss</td><td>2.21494</td></tr></table><br/></div></div>"
            ],
            "text/plain": [
              "<IPython.core.display.HTML object>"
            ]
          },
          "metadata": {},
          "output_type": "display_data"
        },
        {
          "data": {
            "text/html": [
              " View run <strong style=\"color:#cdcd00\">GRU-FastText_K-5_Training</strong> at: <a href='https://wandb.ai/wilfried-mvomoeto-university-of-li-ge/Few-Shot-Training_gru_glove_fastText_Bahdanau-GRU-FastText-/runs/3m0tv9hi' target=\"_blank\">https://wandb.ai/wilfried-mvomoeto-university-of-li-ge/Few-Shot-Training_gru_glove_fastText_Bahdanau-GRU-FastText-/runs/3m0tv9hi</a><br> View project at: <a href='https://wandb.ai/wilfried-mvomoeto-university-of-li-ge/Few-Shot-Training_gru_glove_fastText_Bahdanau-GRU-FastText-' target=\"_blank\">https://wandb.ai/wilfried-mvomoeto-university-of-li-ge/Few-Shot-Training_gru_glove_fastText_Bahdanau-GRU-FastText-</a><br>Synced 5 W&B file(s), 0 media file(s), 0 artifact file(s) and 0 other file(s)"
            ],
            "text/plain": [
              "<IPython.core.display.HTML object>"
            ]
          },
          "metadata": {},
          "output_type": "display_data"
        },
        {
          "data": {
            "text/html": [
              "Find logs at: <code>./wandb/run-20250421_080549-3m0tv9hi/logs</code>"
            ],
            "text/plain": [
              "<IPython.core.display.HTML object>"
            ]
          },
          "metadata": {},
          "output_type": "display_data"
        },
        {
          "data": {
            "text/html": [
              "Tracking run with wandb version 0.19.9"
            ],
            "text/plain": [
              "<IPython.core.display.HTML object>"
            ]
          },
          "metadata": {},
          "output_type": "display_data"
        },
        {
          "data": {
            "text/html": [
              "Run data is saved locally in <code>/content/wandb/run-20250421_080553-9retw4s9</code>"
            ],
            "text/plain": [
              "<IPython.core.display.HTML object>"
            ]
          },
          "metadata": {},
          "output_type": "display_data"
        },
        {
          "data": {
            "text/html": [
              "Syncing run <strong><a href='https://wandb.ai/wilfried-mvomoeto-university-of-li-ge/Few-Shot-Training_gru_glove_fastText_Bahdanau-GRU-Bah-Glove-/runs/9retw4s9' target=\"_blank\">GRU-Bah-Glove_K-10_Training</a></strong> to <a href='https://wandb.ai/wilfried-mvomoeto-university-of-li-ge/Few-Shot-Training_gru_glove_fastText_Bahdanau-GRU-Bah-Glove-' target=\"_blank\">Weights & Biases</a> (<a href='https://wandb.me/developer-guide' target=\"_blank\">docs</a>)<br>"
            ],
            "text/plain": [
              "<IPython.core.display.HTML object>"
            ]
          },
          "metadata": {},
          "output_type": "display_data"
        },
        {
          "data": {
            "text/html": [
              " View project at <a href='https://wandb.ai/wilfried-mvomoeto-university-of-li-ge/Few-Shot-Training_gru_glove_fastText_Bahdanau-GRU-Bah-Glove-' target=\"_blank\">https://wandb.ai/wilfried-mvomoeto-university-of-li-ge/Few-Shot-Training_gru_glove_fastText_Bahdanau-GRU-Bah-Glove-</a>"
            ],
            "text/plain": [
              "<IPython.core.display.HTML object>"
            ]
          },
          "metadata": {},
          "output_type": "display_data"
        },
        {
          "data": {
            "text/html": [
              " View run at <a href='https://wandb.ai/wilfried-mvomoeto-university-of-li-ge/Few-Shot-Training_gru_glove_fastText_Bahdanau-GRU-Bah-Glove-/runs/9retw4s9' target=\"_blank\">https://wandb.ai/wilfried-mvomoeto-university-of-li-ge/Few-Shot-Training_gru_glove_fastText_Bahdanau-GRU-Bah-Glove-/runs/9retw4s9</a>"
            ],
            "text/plain": [
              "<IPython.core.display.HTML object>"
            ]
          },
          "metadata": {},
          "output_type": "display_data"
        },
        {
          "name": "stderr",
          "output_type": "stream",
          "text": [
            "GRU-Bah-Glove K-10 Epoch 5/1000 - Train Loss: 2.2670, Test Loss: 2.1991, Train Acc: 11.11%, Test Acc: 9.02%, Test F1: 4.09%, Test Balanced Acc: 12.08%, Test Recall: 9.02%, Test Precision: 19.26%, Time: 1.00 sec:   0%|          | 5/1000 [00:06<20:40,  1.25s/epoch]"
          ]
        },
        {
          "name": "stdout",
          "output_type": "stream",
          "text": [
            "Early stopping triggered at epoch 6\n",
            "Model GRU-Bah-Glove_K-10 saved with loss gap > 1.25 or accuracy gap > 10% at epoch 5.\n"
          ]
        },
        {
          "name": "stderr",
          "output_type": "stream",
          "text": [
            "\n",
            "<ipython-input-9-f03193db776b>:44: UserWarning: To copy construct from a tensor, it is recommended to use sourceTensor.clone().detach() or sourceTensor.clone().detach().requires_grad_(True), rather than torch.tensor(sourceTensor).\n",
            "  self.X = torch.tensor(X_data, dtype=torch.long)\n",
            "<ipython-input-9-f03193db776b>:45: UserWarning: To copy construct from a tensor, it is recommended to use sourceTensor.clone().detach() or sourceTensor.clone().detach().requires_grad_(True), rather than torch.tensor(sourceTensor).\n",
            "  self.y = torch.tensor(y_data, dtype=torch.long)\n"
          ]
        },
        {
          "data": {
            "text/html": [],
            "text/plain": [
              "<IPython.core.display.HTML object>"
            ]
          },
          "metadata": {},
          "output_type": "display_data"
        },
        {
          "data": {
            "text/html": [
              "<br>    <style><br>        .wandb-row {<br>            display: flex;<br>            flex-direction: row;<br>            flex-wrap: wrap;<br>            justify-content: flex-start;<br>            width: 100%;<br>        }<br>        .wandb-col {<br>            display: flex;<br>            flex-direction: column;<br>            flex-basis: 100%;<br>            flex: 1;<br>            padding: 10px;<br>        }<br>    </style><br><div class=\"wandb-row\"><div class=\"wandb-col\"><h3>Run history:</h3><br/><table class=\"wandb\"><tr><td>epoch</td><td>▁▂▄▅▇█</td></tr><tr><td>k_shot</td><td>▁▁▁▁▁▁</td></tr><tr><td>test_acc</td><td>██▇▅▄▁</td></tr><tr><td>test_balanced_acc</td><td>▃▂▂▁█▆</td></tr><tr><td>test_f1</td><td>▁▂▅▆█▂</td></tr><tr><td>test_loss</td><td>█▆▄▂▂▁</td></tr><tr><td>test_precision</td><td>▁▁▇▇█▅</td></tr><tr><td>test_recall</td><td>██▇▅▄▁</td></tr><tr><td>train_acc</td><td>▂▄▁▇▄█</td></tr><tr><td>train_loss</td><td>▂▆█▁▂▁</td></tr></table><br/></div><div class=\"wandb-col\"><h3>Run summary:</h3><br/><table class=\"wandb\"><tr><td>epoch</td><td>6</td></tr><tr><td>k_shot</td><td>10</td></tr><tr><td>test_acc</td><td>0.07675</td></tr><tr><td>test_balanced_acc</td><td>0.11637</td></tr><tr><td>test_f1</td><td>0.02867</td></tr><tr><td>test_loss</td><td>2.19741</td></tr><tr><td>test_precision</td><td>0.12357</td></tr><tr><td>test_recall</td><td>0.07675</td></tr><tr><td>train_acc</td><td>0.14444</td></tr><tr><td>train_loss</td><td>2.24631</td></tr></table><br/></div></div>"
            ],
            "text/plain": [
              "<IPython.core.display.HTML object>"
            ]
          },
          "metadata": {},
          "output_type": "display_data"
        },
        {
          "data": {
            "text/html": [
              " View run <strong style=\"color:#cdcd00\">GRU-Bah-Glove_K-10_Training</strong> at: <a href='https://wandb.ai/wilfried-mvomoeto-university-of-li-ge/Few-Shot-Training_gru_glove_fastText_Bahdanau-GRU-Bah-Glove-/runs/9retw4s9' target=\"_blank\">https://wandb.ai/wilfried-mvomoeto-university-of-li-ge/Few-Shot-Training_gru_glove_fastText_Bahdanau-GRU-Bah-Glove-/runs/9retw4s9</a><br> View project at: <a href='https://wandb.ai/wilfried-mvomoeto-university-of-li-ge/Few-Shot-Training_gru_glove_fastText_Bahdanau-GRU-Bah-Glove-' target=\"_blank\">https://wandb.ai/wilfried-mvomoeto-university-of-li-ge/Few-Shot-Training_gru_glove_fastText_Bahdanau-GRU-Bah-Glove-</a><br>Synced 5 W&B file(s), 0 media file(s), 0 artifact file(s) and 0 other file(s)"
            ],
            "text/plain": [
              "<IPython.core.display.HTML object>"
            ]
          },
          "metadata": {},
          "output_type": "display_data"
        },
        {
          "data": {
            "text/html": [
              "Find logs at: <code>./wandb/run-20250421_080553-9retw4s9/logs</code>"
            ],
            "text/plain": [
              "<IPython.core.display.HTML object>"
            ]
          },
          "metadata": {},
          "output_type": "display_data"
        },
        {
          "data": {
            "text/html": [
              "Tracking run with wandb version 0.19.9"
            ],
            "text/plain": [
              "<IPython.core.display.HTML object>"
            ]
          },
          "metadata": {},
          "output_type": "display_data"
        },
        {
          "data": {
            "text/html": [
              "Run data is saved locally in <code>/content/wandb/run-20250421_080601-3q67yz0i</code>"
            ],
            "text/plain": [
              "<IPython.core.display.HTML object>"
            ]
          },
          "metadata": {},
          "output_type": "display_data"
        },
        {
          "data": {
            "text/html": [
              "Syncing run <strong><a href='https://wandb.ai/wilfried-mvomoeto-university-of-li-ge/Few-Shot-Training_gru_glove_fastText_Bahdanau-GRU-Bah-FastText-/runs/3q67yz0i' target=\"_blank\">GRU-Bah-FastText_K-10_Training</a></strong> to <a href='https://wandb.ai/wilfried-mvomoeto-university-of-li-ge/Few-Shot-Training_gru_glove_fastText_Bahdanau-GRU-Bah-FastText-' target=\"_blank\">Weights & Biases</a> (<a href='https://wandb.me/developer-guide' target=\"_blank\">docs</a>)<br>"
            ],
            "text/plain": [
              "<IPython.core.display.HTML object>"
            ]
          },
          "metadata": {},
          "output_type": "display_data"
        },
        {
          "data": {
            "text/html": [
              " View project at <a href='https://wandb.ai/wilfried-mvomoeto-university-of-li-ge/Few-Shot-Training_gru_glove_fastText_Bahdanau-GRU-Bah-FastText-' target=\"_blank\">https://wandb.ai/wilfried-mvomoeto-university-of-li-ge/Few-Shot-Training_gru_glove_fastText_Bahdanau-GRU-Bah-FastText-</a>"
            ],
            "text/plain": [
              "<IPython.core.display.HTML object>"
            ]
          },
          "metadata": {},
          "output_type": "display_data"
        },
        {
          "data": {
            "text/html": [
              " View run at <a href='https://wandb.ai/wilfried-mvomoeto-university-of-li-ge/Few-Shot-Training_gru_glove_fastText_Bahdanau-GRU-Bah-FastText-/runs/3q67yz0i' target=\"_blank\">https://wandb.ai/wilfried-mvomoeto-university-of-li-ge/Few-Shot-Training_gru_glove_fastText_Bahdanau-GRU-Bah-FastText-/runs/3q67yz0i</a>"
            ],
            "text/plain": [
              "<IPython.core.display.HTML object>"
            ]
          },
          "metadata": {},
          "output_type": "display_data"
        },
        {
          "name": "stderr",
          "output_type": "stream",
          "text": [
            "GRU-Bah-FastText K-10 Epoch 10/1000 - Train Loss: 2.1665, Test Loss: 2.1868, Train Acc: 14.44%, Test Acc: 12.49%, Test F1: 7.70%, Test Balanced Acc: 15.99%, Test Recall: 12.49%, Test Precision: 15.20%, Time: 1.00 sec:   1%|          | 10/1000 [00:11<18:58,  1.15s/epoch]"
          ]
        },
        {
          "name": "stdout",
          "output_type": "stream",
          "text": [
            "Early stopping triggered at epoch 11\n",
            "Model GRU-Bah-FastText_K-10 saved with loss gap > 1.25 or accuracy gap > 10% at epoch 10.\n"
          ]
        },
        {
          "name": "stderr",
          "output_type": "stream",
          "text": [
            "\n",
            "<ipython-input-9-f03193db776b>:44: UserWarning: To copy construct from a tensor, it is recommended to use sourceTensor.clone().detach() or sourceTensor.clone().detach().requires_grad_(True), rather than torch.tensor(sourceTensor).\n",
            "  self.X = torch.tensor(X_data, dtype=torch.long)\n",
            "<ipython-input-9-f03193db776b>:45: UserWarning: To copy construct from a tensor, it is recommended to use sourceTensor.clone().detach() or sourceTensor.clone().detach().requires_grad_(True), rather than torch.tensor(sourceTensor).\n",
            "  self.y = torch.tensor(y_data, dtype=torch.long)\n"
          ]
        },
        {
          "data": {
            "text/html": [],
            "text/plain": [
              "<IPython.core.display.HTML object>"
            ]
          },
          "metadata": {},
          "output_type": "display_data"
        },
        {
          "data": {
            "text/html": [
              "<br>    <style><br>        .wandb-row {<br>            display: flex;<br>            flex-direction: row;<br>            flex-wrap: wrap;<br>            justify-content: flex-start;<br>            width: 100%;<br>        }<br>        .wandb-col {<br>            display: flex;<br>            flex-direction: column;<br>            flex-basis: 100%;<br>            flex: 1;<br>            padding: 10px;<br>        }<br>    </style><br><div class=\"wandb-row\"><div class=\"wandb-col\"><h3>Run history:</h3><br/><table class=\"wandb\"><tr><td>epoch</td><td>▁▂▂▃▄▅▅▆▇▇█</td></tr><tr><td>k_shot</td><td>▁▁▁▁▁▁▁▁▁▁▁</td></tr><tr><td>test_acc</td><td>▅▃▂▁▁▁▃▃▅▇█</td></tr><tr><td>test_balanced_acc</td><td>▁▁▁▂▃▄▆▆▇██</td></tr><tr><td>test_f1</td><td>▃▁▄▇█▆▅▄▄▅▅</td></tr><tr><td>test_loss</td><td>█▇▆▅▅▄▃▃▂▂▁</td></tr><tr><td>test_precision</td><td>▃▁▂▅▁▂▄▄▆██</td></tr><tr><td>test_recall</td><td>▅▃▂▁▁▁▃▃▅▇█</td></tr><tr><td>train_acc</td><td>▁▂▅▅▄▃▃▁▅▅█</td></tr><tr><td>train_loss</td><td>█▅▄▄▂▃▄▃▂▂▁</td></tr></table><br/></div><div class=\"wandb-col\"><h3>Run summary:</h3><br/><table class=\"wandb\"><tr><td>epoch</td><td>11</td></tr><tr><td>k_shot</td><td>10</td></tr><tr><td>test_acc</td><td>0.12677</td></tr><tr><td>test_balanced_acc</td><td>0.16269</td></tr><tr><td>test_f1</td><td>0.07606</td></tr><tr><td>test_loss</td><td>2.18545</td></tr><tr><td>test_precision</td><td>0.15218</td></tr><tr><td>test_recall</td><td>0.12677</td></tr><tr><td>train_acc</td><td>0.21111</td></tr><tr><td>train_loss</td><td>2.11969</td></tr></table><br/></div></div>"
            ],
            "text/plain": [
              "<IPython.core.display.HTML object>"
            ]
          },
          "metadata": {},
          "output_type": "display_data"
        },
        {
          "data": {
            "text/html": [
              " View run <strong style=\"color:#cdcd00\">GRU-Bah-FastText_K-10_Training</strong> at: <a href='https://wandb.ai/wilfried-mvomoeto-university-of-li-ge/Few-Shot-Training_gru_glove_fastText_Bahdanau-GRU-Bah-FastText-/runs/3q67yz0i' target=\"_blank\">https://wandb.ai/wilfried-mvomoeto-university-of-li-ge/Few-Shot-Training_gru_glove_fastText_Bahdanau-GRU-Bah-FastText-/runs/3q67yz0i</a><br> View project at: <a href='https://wandb.ai/wilfried-mvomoeto-university-of-li-ge/Few-Shot-Training_gru_glove_fastText_Bahdanau-GRU-Bah-FastText-' target=\"_blank\">https://wandb.ai/wilfried-mvomoeto-university-of-li-ge/Few-Shot-Training_gru_glove_fastText_Bahdanau-GRU-Bah-FastText-</a><br>Synced 5 W&B file(s), 0 media file(s), 0 artifact file(s) and 0 other file(s)"
            ],
            "text/plain": [
              "<IPython.core.display.HTML object>"
            ]
          },
          "metadata": {},
          "output_type": "display_data"
        },
        {
          "data": {
            "text/html": [
              "Find logs at: <code>./wandb/run-20250421_080601-3q67yz0i/logs</code>"
            ],
            "text/plain": [
              "<IPython.core.display.HTML object>"
            ]
          },
          "metadata": {},
          "output_type": "display_data"
        },
        {
          "data": {
            "text/html": [
              "Tracking run with wandb version 0.19.9"
            ],
            "text/plain": [
              "<IPython.core.display.HTML object>"
            ]
          },
          "metadata": {},
          "output_type": "display_data"
        },
        {
          "data": {
            "text/html": [
              "Run data is saved locally in <code>/content/wandb/run-20250421_080614-gs40ytif</code>"
            ],
            "text/plain": [
              "<IPython.core.display.HTML object>"
            ]
          },
          "metadata": {},
          "output_type": "display_data"
        },
        {
          "data": {
            "text/html": [
              "Syncing run <strong><a href='https://wandb.ai/wilfried-mvomoeto-university-of-li-ge/Few-Shot-Training_gru_glove_fastText_Bahdanau-CNN_LSTM-/runs/gs40ytif' target=\"_blank\">CNN_LSTM_K-10_Training</a></strong> to <a href='https://wandb.ai/wilfried-mvomoeto-university-of-li-ge/Few-Shot-Training_gru_glove_fastText_Bahdanau-CNN_LSTM-' target=\"_blank\">Weights & Biases</a> (<a href='https://wandb.me/developer-guide' target=\"_blank\">docs</a>)<br>"
            ],
            "text/plain": [
              "<IPython.core.display.HTML object>"
            ]
          },
          "metadata": {},
          "output_type": "display_data"
        },
        {
          "data": {
            "text/html": [
              " View project at <a href='https://wandb.ai/wilfried-mvomoeto-university-of-li-ge/Few-Shot-Training_gru_glove_fastText_Bahdanau-CNN_LSTM-' target=\"_blank\">https://wandb.ai/wilfried-mvomoeto-university-of-li-ge/Few-Shot-Training_gru_glove_fastText_Bahdanau-CNN_LSTM-</a>"
            ],
            "text/plain": [
              "<IPython.core.display.HTML object>"
            ]
          },
          "metadata": {},
          "output_type": "display_data"
        },
        {
          "data": {
            "text/html": [
              " View run at <a href='https://wandb.ai/wilfried-mvomoeto-university-of-li-ge/Few-Shot-Training_gru_glove_fastText_Bahdanau-CNN_LSTM-/runs/gs40ytif' target=\"_blank\">https://wandb.ai/wilfried-mvomoeto-university-of-li-ge/Few-Shot-Training_gru_glove_fastText_Bahdanau-CNN_LSTM-/runs/gs40ytif</a>"
            ],
            "text/plain": [
              "<IPython.core.display.HTML object>"
            ]
          },
          "metadata": {},
          "output_type": "display_data"
        },
        {
          "name": "stderr",
          "output_type": "stream",
          "text": [
            "CNN_LSTM K-10 Epoch 1000/1000 - Train Loss: 2.1919, Test Loss: 2.2125, Train Acc: 11.11%, Test Acc: 6.78%, Test F1: 0.86%, Test Balanced Acc: 11.11%, Test Recall: 6.78%, Test Precision: 0.46%, Time: 0.71 sec: 100%|██████████| 1000/1000 [11:46<00:00,  1.42epoch/s]"
          ]
        },
        {
          "name": "stdout",
          "output_type": "stream",
          "text": [
            "Model CNN_LSTM_K-10 saved at the end of epoch 1000.\n",
            "Model metrics: \n",
            "Test Accuracy: 6.78%, Test F1: 0.86%, Test Balanced Accuracy: 11.11%, Test Recall: 6.78%, Test Precision: 0.46%\n"
          ]
        },
        {
          "name": "stderr",
          "output_type": "stream",
          "text": [
            "\n",
            "<ipython-input-9-f03193db776b>:44: UserWarning: To copy construct from a tensor, it is recommended to use sourceTensor.clone().detach() or sourceTensor.clone().detach().requires_grad_(True), rather than torch.tensor(sourceTensor).\n",
            "  self.X = torch.tensor(X_data, dtype=torch.long)\n",
            "<ipython-input-9-f03193db776b>:45: UserWarning: To copy construct from a tensor, it is recommended to use sourceTensor.clone().detach() or sourceTensor.clone().detach().requires_grad_(True), rather than torch.tensor(sourceTensor).\n",
            "  self.y = torch.tensor(y_data, dtype=torch.long)\n"
          ]
        },
        {
          "data": {
            "text/html": [],
            "text/plain": [
              "<IPython.core.display.HTML object>"
            ]
          },
          "metadata": {},
          "output_type": "display_data"
        },
        {
          "data": {
            "text/html": [
              "<br>    <style><br>        .wandb-row {<br>            display: flex;<br>            flex-direction: row;<br>            flex-wrap: wrap;<br>            justify-content: flex-start;<br>            width: 100%;<br>        }<br>        .wandb-col {<br>            display: flex;<br>            flex-direction: column;<br>            flex-basis: 100%;<br>            flex: 1;<br>            padding: 10px;<br>        }<br>    </style><br><div class=\"wandb-row\"><div class=\"wandb-col\"><h3>Run history:</h3><br/><table class=\"wandb\"><tr><td>epoch</td><td>▁▁▂▂▂▂▂▂▂▃▃▃▃▃▃▄▄▄▄▄▅▅▅▅▅▆▆▆▆▆▆▆▆▆▇▇▇▇▇█</td></tr><tr><td>k_shot</td><td>▁▁▁▁▁▁▁▁▁▁▁▁▁▁▁▁▁▁▁▁▁▁▁▁▁▁▁▁▁▁▁▁▁▁▁▁▁▁▁▁</td></tr><tr><td>test_acc</td><td>▁▁▁▁▁▁▁▁▁▁▁▁▁▁▁▁▁▁▁▁▁▁▁▁▁▁▁▁▁▁▁▁▁▁▁▁▁▁▁▁</td></tr><tr><td>test_balanced_acc</td><td>▁▁▁▁▁▁▁▁▁▁▁▁▁▁▁▁▁▁▁▁▁▁▁▁▁▁▁▁▁▁▁▁▁▁▁▁▁▁▁▁</td></tr><tr><td>test_f1</td><td>▁▁▁▁▁▁▁▁▁▁▁▁▁▁▁▁▁▁▁▁▁▁▁▁▁▁▁▁▁▁▁▁▁▁▁▁▁▁▁▁</td></tr><tr><td>test_loss</td><td>▅▁▅▁▂▅▃▄▄▅▅▇▆█▇▅▄▃▇▄▇▄▅▆▄▅▅▅▅▅▅▆▅▄▄▆▇▇▆▆</td></tr><tr><td>test_precision</td><td>█▁▁▁▁▁▁▁▁▁▁▁▁▁▁▁▁▁▁▁▁▁▁▁▁▁▁▁▁▁▁▁▁▁▁▁▁▁▁▁</td></tr><tr><td>test_recall</td><td>▁▁▁▁▁▁▁▁▁▁▁▁▁▁▁▁▁▁▁▁▁▁▁▁▁▁▁▁▁▁▁▁▁▁▁▁▁▁▁▁</td></tr><tr><td>train_acc</td><td>▁▁▁▁▁▁▁▁▁▁▁▁▁▁▁▁▁▁▁▁▁▁▁▁▁▁▁▁▁▁▁▁▁▁▁▁▁▁▁▁</td></tr><tr><td>train_loss</td><td>▆▃▂▆█▆▄▅▇▁▅▄▃▄█▆▄▃▅▄▄▃▆▃▃▃▅▂▄▅▅▇▆▄▄▃▃▅▆▇</td></tr></table><br/></div><div class=\"wandb-col\"><h3>Run summary:</h3><br/><table class=\"wandb\"><tr><td>epoch</td><td>1000</td></tr><tr><td>k_shot</td><td>10</td></tr><tr><td>test_acc</td><td>0.06778</td></tr><tr><td>test_balanced_acc</td><td>0.11111</td></tr><tr><td>test_f1</td><td>0.00861</td></tr><tr><td>test_loss</td><td>2.21253</td></tr><tr><td>test_precision</td><td>0.00459</td></tr><tr><td>test_recall</td><td>0.06778</td></tr><tr><td>train_acc</td><td>0.11111</td></tr><tr><td>train_loss</td><td>2.19192</td></tr></table><br/></div></div>"
            ],
            "text/plain": [
              "<IPython.core.display.HTML object>"
            ]
          },
          "metadata": {},
          "output_type": "display_data"
        },
        {
          "data": {
            "text/html": [
              " View run <strong style=\"color:#cdcd00\">CNN_LSTM_K-10_Training</strong> at: <a href='https://wandb.ai/wilfried-mvomoeto-university-of-li-ge/Few-Shot-Training_gru_glove_fastText_Bahdanau-CNN_LSTM-/runs/gs40ytif' target=\"_blank\">https://wandb.ai/wilfried-mvomoeto-university-of-li-ge/Few-Shot-Training_gru_glove_fastText_Bahdanau-CNN_LSTM-/runs/gs40ytif</a><br> View project at: <a href='https://wandb.ai/wilfried-mvomoeto-university-of-li-ge/Few-Shot-Training_gru_glove_fastText_Bahdanau-CNN_LSTM-' target=\"_blank\">https://wandb.ai/wilfried-mvomoeto-university-of-li-ge/Few-Shot-Training_gru_glove_fastText_Bahdanau-CNN_LSTM-</a><br>Synced 5 W&B file(s), 0 media file(s), 0 artifact file(s) and 0 other file(s)"
            ],
            "text/plain": [
              "<IPython.core.display.HTML object>"
            ]
          },
          "metadata": {},
          "output_type": "display_data"
        },
        {
          "data": {
            "text/html": [
              "Find logs at: <code>./wandb/run-20250421_080614-gs40ytif/logs</code>"
            ],
            "text/plain": [
              "<IPython.core.display.HTML object>"
            ]
          },
          "metadata": {},
          "output_type": "display_data"
        },
        {
          "data": {
            "text/html": [
              "Tracking run with wandb version 0.19.9"
            ],
            "text/plain": [
              "<IPython.core.display.HTML object>"
            ]
          },
          "metadata": {},
          "output_type": "display_data"
        },
        {
          "data": {
            "text/html": [
              "Run data is saved locally in <code>/content/wandb/run-20250421_081802-fbfautyu</code>"
            ],
            "text/plain": [
              "<IPython.core.display.HTML object>"
            ]
          },
          "metadata": {},
          "output_type": "display_data"
        },
        {
          "data": {
            "text/html": [
              "Syncing run <strong><a href='https://wandb.ai/wilfried-mvomoeto-university-of-li-ge/Few-Shot-Training_gru_glove_fastText_Bahdanau-GRU-Glove-/runs/fbfautyu' target=\"_blank\">GRU-Glove_K-10_Training</a></strong> to <a href='https://wandb.ai/wilfried-mvomoeto-university-of-li-ge/Few-Shot-Training_gru_glove_fastText_Bahdanau-GRU-Glove-' target=\"_blank\">Weights & Biases</a> (<a href='https://wandb.me/developer-guide' target=\"_blank\">docs</a>)<br>"
            ],
            "text/plain": [
              "<IPython.core.display.HTML object>"
            ]
          },
          "metadata": {},
          "output_type": "display_data"
        },
        {
          "data": {
            "text/html": [
              " View project at <a href='https://wandb.ai/wilfried-mvomoeto-university-of-li-ge/Few-Shot-Training_gru_glove_fastText_Bahdanau-GRU-Glove-' target=\"_blank\">https://wandb.ai/wilfried-mvomoeto-university-of-li-ge/Few-Shot-Training_gru_glove_fastText_Bahdanau-GRU-Glove-</a>"
            ],
            "text/plain": [
              "<IPython.core.display.HTML object>"
            ]
          },
          "metadata": {},
          "output_type": "display_data"
        },
        {
          "data": {
            "text/html": [
              " View run at <a href='https://wandb.ai/wilfried-mvomoeto-university-of-li-ge/Few-Shot-Training_gru_glove_fastText_Bahdanau-GRU-Glove-/runs/fbfautyu' target=\"_blank\">https://wandb.ai/wilfried-mvomoeto-university-of-li-ge/Few-Shot-Training_gru_glove_fastText_Bahdanau-GRU-Glove-/runs/fbfautyu</a>"
            ],
            "text/plain": [
              "<IPython.core.display.HTML object>"
            ]
          },
          "metadata": {},
          "output_type": "display_data"
        },
        {
          "name": "stderr",
          "output_type": "stream",
          "text": [
            "GRU-Glove K-10 Epoch 2/1000 - Train Loss: 2.2215, Test Loss: 2.2304, Train Acc: 11.11%, Test Acc: 6.80%, Test F1: 0.96%, Test Balanced Acc: 11.10%, Test Recall: 6.80%, Test Precision: 16.48%, Time: 0.66 sec:   0%|          | 2/1000 [00:02<17:25,  1.05s/epoch]"
          ]
        },
        {
          "name": "stdout",
          "output_type": "stream",
          "text": [
            "Early stopping triggered at epoch 3\n",
            "Model GRU-Glove_K-10 saved with loss gap > 1.25 or accuracy gap > 10% at epoch 2.\n"
          ]
        },
        {
          "name": "stderr",
          "output_type": "stream",
          "text": [
            "\n",
            "<ipython-input-9-f03193db776b>:44: UserWarning: To copy construct from a tensor, it is recommended to use sourceTensor.clone().detach() or sourceTensor.clone().detach().requires_grad_(True), rather than torch.tensor(sourceTensor).\n",
            "  self.X = torch.tensor(X_data, dtype=torch.long)\n",
            "<ipython-input-9-f03193db776b>:45: UserWarning: To copy construct from a tensor, it is recommended to use sourceTensor.clone().detach() or sourceTensor.clone().detach().requires_grad_(True), rather than torch.tensor(sourceTensor).\n",
            "  self.y = torch.tensor(y_data, dtype=torch.long)\n"
          ]
        },
        {
          "data": {
            "text/html": [],
            "text/plain": [
              "<IPython.core.display.HTML object>"
            ]
          },
          "metadata": {},
          "output_type": "display_data"
        },
        {
          "data": {
            "text/html": [
              "<br>    <style><br>        .wandb-row {<br>            display: flex;<br>            flex-direction: row;<br>            flex-wrap: wrap;<br>            justify-content: flex-start;<br>            width: 100%;<br>        }<br>        .wandb-col {<br>            display: flex;<br>            flex-direction: column;<br>            flex-basis: 100%;<br>            flex: 1;<br>            padding: 10px;<br>        }<br>    </style><br><div class=\"wandb-row\"><div class=\"wandb-col\"><h3>Run history:</h3><br/><table class=\"wandb\"><tr><td>epoch</td><td>▁▅█</td></tr><tr><td>k_shot</td><td>▁▁▁</td></tr><tr><td>test_acc</td><td>█▅▁</td></tr><tr><td>test_balanced_acc</td><td>█▆▁</td></tr><tr><td>test_f1</td><td>█▁▁</td></tr><tr><td>test_loss</td><td>█▅▁</td></tr><tr><td>test_precision</td><td>██▁</td></tr><tr><td>test_recall</td><td>█▅▁</td></tr><tr><td>train_acc</td><td>▁▁█</td></tr><tr><td>train_loss</td><td>█▁▃</td></tr></table><br/></div><div class=\"wandb-col\"><h3>Run summary:</h3><br/><table class=\"wandb\"><tr><td>epoch</td><td>3</td></tr><tr><td>k_shot</td><td>10</td></tr><tr><td>test_acc</td><td>0.06778</td></tr><tr><td>test_balanced_acc</td><td>0.11074</td></tr><tr><td>test_f1</td><td>0.0096</td></tr><tr><td>test_loss</td><td>2.22697</td></tr><tr><td>test_precision</td><td>0.16474</td></tr><tr><td>test_recall</td><td>0.06778</td></tr><tr><td>train_acc</td><td>0.15556</td></tr><tr><td>train_loss</td><td>2.24818</td></tr></table><br/></div></div>"
            ],
            "text/plain": [
              "<IPython.core.display.HTML object>"
            ]
          },
          "metadata": {},
          "output_type": "display_data"
        },
        {
          "data": {
            "text/html": [
              " View run <strong style=\"color:#cdcd00\">GRU-Glove_K-10_Training</strong> at: <a href='https://wandb.ai/wilfried-mvomoeto-university-of-li-ge/Few-Shot-Training_gru_glove_fastText_Bahdanau-GRU-Glove-/runs/fbfautyu' target=\"_blank\">https://wandb.ai/wilfried-mvomoeto-university-of-li-ge/Few-Shot-Training_gru_glove_fastText_Bahdanau-GRU-Glove-/runs/fbfautyu</a><br> View project at: <a href='https://wandb.ai/wilfried-mvomoeto-university-of-li-ge/Few-Shot-Training_gru_glove_fastText_Bahdanau-GRU-Glove-' target=\"_blank\">https://wandb.ai/wilfried-mvomoeto-university-of-li-ge/Few-Shot-Training_gru_glove_fastText_Bahdanau-GRU-Glove-</a><br>Synced 5 W&B file(s), 0 media file(s), 0 artifact file(s) and 0 other file(s)"
            ],
            "text/plain": [
              "<IPython.core.display.HTML object>"
            ]
          },
          "metadata": {},
          "output_type": "display_data"
        },
        {
          "data": {
            "text/html": [
              "Find logs at: <code>./wandb/run-20250421_081802-fbfautyu/logs</code>"
            ],
            "text/plain": [
              "<IPython.core.display.HTML object>"
            ]
          },
          "metadata": {},
          "output_type": "display_data"
        },
        {
          "data": {
            "text/html": [
              "Tracking run with wandb version 0.19.9"
            ],
            "text/plain": [
              "<IPython.core.display.HTML object>"
            ]
          },
          "metadata": {},
          "output_type": "display_data"
        },
        {
          "data": {
            "text/html": [
              "Run data is saved locally in <code>/content/wandb/run-20250421_081806-vhx28mpq</code>"
            ],
            "text/plain": [
              "<IPython.core.display.HTML object>"
            ]
          },
          "metadata": {},
          "output_type": "display_data"
        },
        {
          "data": {
            "text/html": [
              "Syncing run <strong><a href='https://wandb.ai/wilfried-mvomoeto-university-of-li-ge/Few-Shot-Training_gru_glove_fastText_Bahdanau-GRU-FastText-/runs/vhx28mpq' target=\"_blank\">GRU-FastText_K-10_Training</a></strong> to <a href='https://wandb.ai/wilfried-mvomoeto-university-of-li-ge/Few-Shot-Training_gru_glove_fastText_Bahdanau-GRU-FastText-' target=\"_blank\">Weights & Biases</a> (<a href='https://wandb.me/developer-guide' target=\"_blank\">docs</a>)<br>"
            ],
            "text/plain": [
              "<IPython.core.display.HTML object>"
            ]
          },
          "metadata": {},
          "output_type": "display_data"
        },
        {
          "data": {
            "text/html": [
              " View project at <a href='https://wandb.ai/wilfried-mvomoeto-university-of-li-ge/Few-Shot-Training_gru_glove_fastText_Bahdanau-GRU-FastText-' target=\"_blank\">https://wandb.ai/wilfried-mvomoeto-university-of-li-ge/Few-Shot-Training_gru_glove_fastText_Bahdanau-GRU-FastText-</a>"
            ],
            "text/plain": [
              "<IPython.core.display.HTML object>"
            ]
          },
          "metadata": {},
          "output_type": "display_data"
        },
        {
          "data": {
            "text/html": [
              " View run at <a href='https://wandb.ai/wilfried-mvomoeto-university-of-li-ge/Few-Shot-Training_gru_glove_fastText_Bahdanau-GRU-FastText-/runs/vhx28mpq' target=\"_blank\">https://wandb.ai/wilfried-mvomoeto-university-of-li-ge/Few-Shot-Training_gru_glove_fastText_Bahdanau-GRU-FastText-/runs/vhx28mpq</a>"
            ],
            "text/plain": [
              "<IPython.core.display.HTML object>"
            ]
          },
          "metadata": {},
          "output_type": "display_data"
        },
        {
          "name": "stderr",
          "output_type": "stream",
          "text": [
            "GRU-FastText K-10 Epoch 3/1000 - Train Loss: 2.2971, Test Loss: 2.2309, Train Acc: 8.89%, Test Acc: 6.76%, Test F1: 0.89%, Test Balanced Acc: 11.07%, Test Recall: 6.76%, Test Precision: 2.90%, Time: 0.63 sec:   0%|          | 3/1000 [00:02<14:36,  1.14epoch/s]"
          ]
        },
        {
          "name": "stdout",
          "output_type": "stream",
          "text": [
            "Early stopping triggered at epoch 4\n",
            "Model GRU-FastText_K-10 saved with loss gap > 1.25 or accuracy gap > 10% at epoch 3.\n",
            "\n",
            "Training with 20-shot...\n"
          ]
        },
        {
          "name": "stderr",
          "output_type": "stream",
          "text": [
            "\n",
            "<ipython-input-9-f03193db776b>:44: UserWarning: To copy construct from a tensor, it is recommended to use sourceTensor.clone().detach() or sourceTensor.clone().detach().requires_grad_(True), rather than torch.tensor(sourceTensor).\n",
            "  self.X = torch.tensor(X_data, dtype=torch.long)\n",
            "<ipython-input-9-f03193db776b>:45: UserWarning: To copy construct from a tensor, it is recommended to use sourceTensor.clone().detach() or sourceTensor.clone().detach().requires_grad_(True), rather than torch.tensor(sourceTensor).\n",
            "  self.y = torch.tensor(y_data, dtype=torch.long)\n"
          ]
        },
        {
          "data": {
            "text/html": [],
            "text/plain": [
              "<IPython.core.display.HTML object>"
            ]
          },
          "metadata": {},
          "output_type": "display_data"
        },
        {
          "data": {
            "text/html": [
              "<br>    <style><br>        .wandb-row {<br>            display: flex;<br>            flex-direction: row;<br>            flex-wrap: wrap;<br>            justify-content: flex-start;<br>            width: 100%;<br>        }<br>        .wandb-col {<br>            display: flex;<br>            flex-direction: column;<br>            flex-basis: 100%;<br>            flex: 1;<br>            padding: 10px;<br>        }<br>    </style><br><div class=\"wandb-row\"><div class=\"wandb-col\"><h3>Run history:</h3><br/><table class=\"wandb\"><tr><td>epoch</td><td>▁▃▆█</td></tr><tr><td>k_shot</td><td>▁▁▁▁</td></tr><tr><td>test_acc</td><td>██▁▁</td></tr><tr><td>test_balanced_acc</td><td>██▁▁</td></tr><tr><td>test_f1</td><td>██▁▁</td></tr><tr><td>test_loss</td><td>▃█▅▁</td></tr><tr><td>test_precision</td><td>▅█▁▁</td></tr><tr><td>test_recall</td><td>██▁▁</td></tr><tr><td>train_acc</td><td>▁▁▁█</td></tr><tr><td>train_loss</td><td>█▁▅▁</td></tr></table><br/></div><div class=\"wandb-col\"><h3>Run summary:</h3><br/><table class=\"wandb\"><tr><td>epoch</td><td>4</td></tr><tr><td>k_shot</td><td>10</td></tr><tr><td>test_acc</td><td>0.06761</td></tr><tr><td>test_balanced_acc</td><td>0.1107</td></tr><tr><td>test_f1</td><td>0.00893</td></tr><tr><td>test_loss</td><td>2.20904</td></tr><tr><td>test_precision</td><td>0.02901</td></tr><tr><td>test_recall</td><td>0.06761</td></tr><tr><td>train_acc</td><td>0.14444</td></tr><tr><td>train_loss</td><td>2.22856</td></tr></table><br/></div></div>"
            ],
            "text/plain": [
              "<IPython.core.display.HTML object>"
            ]
          },
          "metadata": {},
          "output_type": "display_data"
        },
        {
          "data": {
            "text/html": [
              " View run <strong style=\"color:#cdcd00\">GRU-FastText_K-10_Training</strong> at: <a href='https://wandb.ai/wilfried-mvomoeto-university-of-li-ge/Few-Shot-Training_gru_glove_fastText_Bahdanau-GRU-FastText-/runs/vhx28mpq' target=\"_blank\">https://wandb.ai/wilfried-mvomoeto-university-of-li-ge/Few-Shot-Training_gru_glove_fastText_Bahdanau-GRU-FastText-/runs/vhx28mpq</a><br> View project at: <a href='https://wandb.ai/wilfried-mvomoeto-university-of-li-ge/Few-Shot-Training_gru_glove_fastText_Bahdanau-GRU-FastText-' target=\"_blank\">https://wandb.ai/wilfried-mvomoeto-university-of-li-ge/Few-Shot-Training_gru_glove_fastText_Bahdanau-GRU-FastText-</a><br>Synced 5 W&B file(s), 0 media file(s), 0 artifact file(s) and 0 other file(s)"
            ],
            "text/plain": [
              "<IPython.core.display.HTML object>"
            ]
          },
          "metadata": {},
          "output_type": "display_data"
        },
        {
          "data": {
            "text/html": [
              "Find logs at: <code>./wandb/run-20250421_081806-vhx28mpq/logs</code>"
            ],
            "text/plain": [
              "<IPython.core.display.HTML object>"
            ]
          },
          "metadata": {},
          "output_type": "display_data"
        },
        {
          "data": {
            "text/html": [
              "Tracking run with wandb version 0.19.9"
            ],
            "text/plain": [
              "<IPython.core.display.HTML object>"
            ]
          },
          "metadata": {},
          "output_type": "display_data"
        },
        {
          "data": {
            "text/html": [
              "Run data is saved locally in <code>/content/wandb/run-20250421_081810-8qc419rm</code>"
            ],
            "text/plain": [
              "<IPython.core.display.HTML object>"
            ]
          },
          "metadata": {},
          "output_type": "display_data"
        },
        {
          "data": {
            "text/html": [
              "Syncing run <strong><a href='https://wandb.ai/wilfried-mvomoeto-university-of-li-ge/Few-Shot-Training_gru_glove_fastText_Bahdanau-GRU-Bah-Glove-/runs/8qc419rm' target=\"_blank\">GRU-Bah-Glove_K-20_Training</a></strong> to <a href='https://wandb.ai/wilfried-mvomoeto-university-of-li-ge/Few-Shot-Training_gru_glove_fastText_Bahdanau-GRU-Bah-Glove-' target=\"_blank\">Weights & Biases</a> (<a href='https://wandb.me/developer-guide' target=\"_blank\">docs</a>)<br>"
            ],
            "text/plain": [
              "<IPython.core.display.HTML object>"
            ]
          },
          "metadata": {},
          "output_type": "display_data"
        },
        {
          "data": {
            "text/html": [
              " View project at <a href='https://wandb.ai/wilfried-mvomoeto-university-of-li-ge/Few-Shot-Training_gru_glove_fastText_Bahdanau-GRU-Bah-Glove-' target=\"_blank\">https://wandb.ai/wilfried-mvomoeto-university-of-li-ge/Few-Shot-Training_gru_glove_fastText_Bahdanau-GRU-Bah-Glove-</a>"
            ],
            "text/plain": [
              "<IPython.core.display.HTML object>"
            ]
          },
          "metadata": {},
          "output_type": "display_data"
        },
        {
          "data": {
            "text/html": [
              " View run at <a href='https://wandb.ai/wilfried-mvomoeto-university-of-li-ge/Few-Shot-Training_gru_glove_fastText_Bahdanau-GRU-Bah-Glove-/runs/8qc419rm' target=\"_blank\">https://wandb.ai/wilfried-mvomoeto-university-of-li-ge/Few-Shot-Training_gru_glove_fastText_Bahdanau-GRU-Bah-Glove-/runs/8qc419rm</a>"
            ],
            "text/plain": [
              "<IPython.core.display.HTML object>"
            ]
          },
          "metadata": {},
          "output_type": "display_data"
        },
        {
          "name": "stderr",
          "output_type": "stream",
          "text": [
            "GRU-Bah-Glove K-20 Epoch 3/1000 - Train Loss: 2.1746, Test Loss: 2.1922, Train Acc: 11.67%, Test Acc: 7.12%, Test F1: 1.70%, Test Balanced Acc: 11.37%, Test Recall: 7.12%, Test Precision: 12.37%, Time: 1.08 sec:   0%|          | 3/1000 [00:04<24:26,  1.47s/epoch]"
          ]
        },
        {
          "name": "stdout",
          "output_type": "stream",
          "text": [
            "Early stopping triggered at epoch 4\n",
            "Model GRU-Bah-Glove_K-20 saved with loss gap > 1.25 or accuracy gap > 10% at epoch 3.\n"
          ]
        },
        {
          "name": "stderr",
          "output_type": "stream",
          "text": [
            "\n",
            "<ipython-input-9-f03193db776b>:44: UserWarning: To copy construct from a tensor, it is recommended to use sourceTensor.clone().detach() or sourceTensor.clone().detach().requires_grad_(True), rather than torch.tensor(sourceTensor).\n",
            "  self.X = torch.tensor(X_data, dtype=torch.long)\n",
            "<ipython-input-9-f03193db776b>:45: UserWarning: To copy construct from a tensor, it is recommended to use sourceTensor.clone().detach() or sourceTensor.clone().detach().requires_grad_(True), rather than torch.tensor(sourceTensor).\n",
            "  self.y = torch.tensor(y_data, dtype=torch.long)\n"
          ]
        },
        {
          "data": {
            "text/html": [],
            "text/plain": [
              "<IPython.core.display.HTML object>"
            ]
          },
          "metadata": {},
          "output_type": "display_data"
        },
        {
          "data": {
            "text/html": [
              "<br>    <style><br>        .wandb-row {<br>            display: flex;<br>            flex-direction: row;<br>            flex-wrap: wrap;<br>            justify-content: flex-start;<br>            width: 100%;<br>        }<br>        .wandb-col {<br>            display: flex;<br>            flex-direction: column;<br>            flex-basis: 100%;<br>            flex: 1;<br>            padding: 10px;<br>        }<br>    </style><br><div class=\"wandb-row\"><div class=\"wandb-col\"><h3>Run history:</h3><br/><table class=\"wandb\"><tr><td>epoch</td><td>▁▃▆█</td></tr><tr><td>k_shot</td><td>▁▁▁▁</td></tr><tr><td>test_acc</td><td>▁▂▄█</td></tr><tr><td>test_balanced_acc</td><td>▁▂▄█</td></tr><tr><td>test_f1</td><td>▁▂▄█</td></tr><tr><td>test_loss</td><td>█▄▂▁</td></tr><tr><td>test_precision</td><td>▁▃█▅</td></tr><tr><td>test_recall</td><td>▁▂▄█</td></tr><tr><td>train_acc</td><td>▂▁▅█</td></tr><tr><td>train_loss</td><td>█▅▁▂</td></tr></table><br/></div><div class=\"wandb-col\"><h3>Run summary:</h3><br/><table class=\"wandb\"><tr><td>epoch</td><td>4</td></tr><tr><td>k_shot</td><td>20</td></tr><tr><td>test_acc</td><td>0.07503</td></tr><tr><td>test_balanced_acc</td><td>0.11719</td></tr><tr><td>test_f1</td><td>0.02354</td></tr><tr><td>test_loss</td><td>2.18874</td></tr><tr><td>test_precision</td><td>0.0905</td></tr><tr><td>test_recall</td><td>0.07503</td></tr><tr><td>train_acc</td><td>0.13333</td></tr><tr><td>train_loss</td><td>2.18465</td></tr></table><br/></div></div>"
            ],
            "text/plain": [
              "<IPython.core.display.HTML object>"
            ]
          },
          "metadata": {},
          "output_type": "display_data"
        },
        {
          "data": {
            "text/html": [
              " View run <strong style=\"color:#cdcd00\">GRU-Bah-Glove_K-20_Training</strong> at: <a href='https://wandb.ai/wilfried-mvomoeto-university-of-li-ge/Few-Shot-Training_gru_glove_fastText_Bahdanau-GRU-Bah-Glove-/runs/8qc419rm' target=\"_blank\">https://wandb.ai/wilfried-mvomoeto-university-of-li-ge/Few-Shot-Training_gru_glove_fastText_Bahdanau-GRU-Bah-Glove-/runs/8qc419rm</a><br> View project at: <a href='https://wandb.ai/wilfried-mvomoeto-university-of-li-ge/Few-Shot-Training_gru_glove_fastText_Bahdanau-GRU-Bah-Glove-' target=\"_blank\">https://wandb.ai/wilfried-mvomoeto-university-of-li-ge/Few-Shot-Training_gru_glove_fastText_Bahdanau-GRU-Bah-Glove-</a><br>Synced 5 W&B file(s), 0 media file(s), 0 artifact file(s) and 0 other file(s)"
            ],
            "text/plain": [
              "<IPython.core.display.HTML object>"
            ]
          },
          "metadata": {},
          "output_type": "display_data"
        },
        {
          "data": {
            "text/html": [
              "Find logs at: <code>./wandb/run-20250421_081810-8qc419rm/logs</code>"
            ],
            "text/plain": [
              "<IPython.core.display.HTML object>"
            ]
          },
          "metadata": {},
          "output_type": "display_data"
        },
        {
          "data": {
            "text/html": [
              "Tracking run with wandb version 0.19.9"
            ],
            "text/plain": [
              "<IPython.core.display.HTML object>"
            ]
          },
          "metadata": {},
          "output_type": "display_data"
        },
        {
          "data": {
            "text/html": [
              "Run data is saved locally in <code>/content/wandb/run-20250421_081816-9qhzeq4m</code>"
            ],
            "text/plain": [
              "<IPython.core.display.HTML object>"
            ]
          },
          "metadata": {},
          "output_type": "display_data"
        },
        {
          "data": {
            "text/html": [
              "Syncing run <strong><a href='https://wandb.ai/wilfried-mvomoeto-university-of-li-ge/Few-Shot-Training_gru_glove_fastText_Bahdanau-GRU-Bah-FastText-/runs/9qhzeq4m' target=\"_blank\">GRU-Bah-FastText_K-20_Training</a></strong> to <a href='https://wandb.ai/wilfried-mvomoeto-university-of-li-ge/Few-Shot-Training_gru_glove_fastText_Bahdanau-GRU-Bah-FastText-' target=\"_blank\">Weights & Biases</a> (<a href='https://wandb.me/developer-guide' target=\"_blank\">docs</a>)<br>"
            ],
            "text/plain": [
              "<IPython.core.display.HTML object>"
            ]
          },
          "metadata": {},
          "output_type": "display_data"
        },
        {
          "data": {
            "text/html": [
              " View project at <a href='https://wandb.ai/wilfried-mvomoeto-university-of-li-ge/Few-Shot-Training_gru_glove_fastText_Bahdanau-GRU-Bah-FastText-' target=\"_blank\">https://wandb.ai/wilfried-mvomoeto-university-of-li-ge/Few-Shot-Training_gru_glove_fastText_Bahdanau-GRU-Bah-FastText-</a>"
            ],
            "text/plain": [
              "<IPython.core.display.HTML object>"
            ]
          },
          "metadata": {},
          "output_type": "display_data"
        },
        {
          "data": {
            "text/html": [
              " View run at <a href='https://wandb.ai/wilfried-mvomoeto-university-of-li-ge/Few-Shot-Training_gru_glove_fastText_Bahdanau-GRU-Bah-FastText-/runs/9qhzeq4m' target=\"_blank\">https://wandb.ai/wilfried-mvomoeto-university-of-li-ge/Few-Shot-Training_gru_glove_fastText_Bahdanau-GRU-Bah-FastText-/runs/9qhzeq4m</a>"
            ],
            "text/plain": [
              "<IPython.core.display.HTML object>"
            ]
          },
          "metadata": {},
          "output_type": "display_data"
        },
        {
          "name": "stderr",
          "output_type": "stream",
          "text": [
            "GRU-Bah-FastText K-20 Epoch 5/1000 - Train Loss: 2.2330, Test Loss: 2.1941, Train Acc: 13.33%, Test Acc: 10.76%, Test F1: 7.63%, Test Balanced Acc: 12.02%, Test Recall: 10.76%, Test Precision: 12.02%, Time: 1.07 sec:   0%|          | 5/1000 [00:06<22:47,  1.37s/epoch]"
          ]
        },
        {
          "name": "stdout",
          "output_type": "stream",
          "text": [
            "Early stopping triggered at epoch 6\n",
            "Model GRU-Bah-FastText_K-20 saved with loss gap > 1.25 or accuracy gap > 10% at epoch 5.\n"
          ]
        },
        {
          "name": "stderr",
          "output_type": "stream",
          "text": [
            "\n",
            "<ipython-input-9-f03193db776b>:44: UserWarning: To copy construct from a tensor, it is recommended to use sourceTensor.clone().detach() or sourceTensor.clone().detach().requires_grad_(True), rather than torch.tensor(sourceTensor).\n",
            "  self.X = torch.tensor(X_data, dtype=torch.long)\n",
            "<ipython-input-9-f03193db776b>:45: UserWarning: To copy construct from a tensor, it is recommended to use sourceTensor.clone().detach() or sourceTensor.clone().detach().requires_grad_(True), rather than torch.tensor(sourceTensor).\n",
            "  self.y = torch.tensor(y_data, dtype=torch.long)\n"
          ]
        },
        {
          "data": {
            "text/html": [],
            "text/plain": [
              "<IPython.core.display.HTML object>"
            ]
          },
          "metadata": {},
          "output_type": "display_data"
        },
        {
          "data": {
            "text/html": [
              "<br>    <style><br>        .wandb-row {<br>            display: flex;<br>            flex-direction: row;<br>            flex-wrap: wrap;<br>            justify-content: flex-start;<br>            width: 100%;<br>        }<br>        .wandb-col {<br>            display: flex;<br>            flex-direction: column;<br>            flex-basis: 100%;<br>            flex: 1;<br>            padding: 10px;<br>        }<br>    </style><br><div class=\"wandb-row\"><div class=\"wandb-col\"><h3>Run history:</h3><br/><table class=\"wandb\"><tr><td>epoch</td><td>▁▂▄▅▇█</td></tr><tr><td>k_shot</td><td>▁▁▁▁▁▁</td></tr><tr><td>test_acc</td><td>█▂▁▁▄▄</td></tr><tr><td>test_balanced_acc</td><td>▄▁▅▆▇█</td></tr><tr><td>test_f1</td><td>▁▆▇▆█▇</td></tr><tr><td>test_loss</td><td>█▅▄▃▂▁</td></tr><tr><td>test_precision</td><td>█▆▅▁▄▆</td></tr><tr><td>test_recall</td><td>█▂▁▁▄▄</td></tr><tr><td>train_acc</td><td>▃▇▁▅▅█</td></tr><tr><td>train_loss</td><td>█▅▄▁▃▁</td></tr></table><br/></div><div class=\"wandb-col\"><h3>Run summary:</h3><br/><table class=\"wandb\"><tr><td>epoch</td><td>6</td></tr><tr><td>k_shot</td><td>20</td></tr><tr><td>test_acc</td><td>0.10676</td></tr><tr><td>test_balanced_acc</td><td>0.12368</td></tr><tr><td>test_f1</td><td>0.07232</td></tr><tr><td>test_loss</td><td>2.19202</td></tr><tr><td>test_precision</td><td>0.12829</td></tr><tr><td>test_recall</td><td>0.10676</td></tr><tr><td>train_acc</td><td>0.16667</td></tr><tr><td>train_loss</td><td>2.18185</td></tr></table><br/></div></div>"
            ],
            "text/plain": [
              "<IPython.core.display.HTML object>"
            ]
          },
          "metadata": {},
          "output_type": "display_data"
        },
        {
          "data": {
            "text/html": [
              " View run <strong style=\"color:#cdcd00\">GRU-Bah-FastText_K-20_Training</strong> at: <a href='https://wandb.ai/wilfried-mvomoeto-university-of-li-ge/Few-Shot-Training_gru_glove_fastText_Bahdanau-GRU-Bah-FastText-/runs/9qhzeq4m' target=\"_blank\">https://wandb.ai/wilfried-mvomoeto-university-of-li-ge/Few-Shot-Training_gru_glove_fastText_Bahdanau-GRU-Bah-FastText-/runs/9qhzeq4m</a><br> View project at: <a href='https://wandb.ai/wilfried-mvomoeto-university-of-li-ge/Few-Shot-Training_gru_glove_fastText_Bahdanau-GRU-Bah-FastText-' target=\"_blank\">https://wandb.ai/wilfried-mvomoeto-university-of-li-ge/Few-Shot-Training_gru_glove_fastText_Bahdanau-GRU-Bah-FastText-</a><br>Synced 5 W&B file(s), 0 media file(s), 0 artifact file(s) and 0 other file(s)"
            ],
            "text/plain": [
              "<IPython.core.display.HTML object>"
            ]
          },
          "metadata": {},
          "output_type": "display_data"
        },
        {
          "data": {
            "text/html": [
              "Find logs at: <code>./wandb/run-20250421_081816-9qhzeq4m/logs</code>"
            ],
            "text/plain": [
              "<IPython.core.display.HTML object>"
            ]
          },
          "metadata": {},
          "output_type": "display_data"
        },
        {
          "data": {
            "text/html": [
              "Tracking run with wandb version 0.19.9"
            ],
            "text/plain": [
              "<IPython.core.display.HTML object>"
            ]
          },
          "metadata": {},
          "output_type": "display_data"
        },
        {
          "data": {
            "text/html": [
              "Run data is saved locally in <code>/content/wandb/run-20250421_081824-7n3o7dxd</code>"
            ],
            "text/plain": [
              "<IPython.core.display.HTML object>"
            ]
          },
          "metadata": {},
          "output_type": "display_data"
        },
        {
          "data": {
            "text/html": [
              "Syncing run <strong><a href='https://wandb.ai/wilfried-mvomoeto-university-of-li-ge/Few-Shot-Training_gru_glove_fastText_Bahdanau-CNN_LSTM-/runs/7n3o7dxd' target=\"_blank\">CNN_LSTM_K-20_Training</a></strong> to <a href='https://wandb.ai/wilfried-mvomoeto-university-of-li-ge/Few-Shot-Training_gru_glove_fastText_Bahdanau-CNN_LSTM-' target=\"_blank\">Weights & Biases</a> (<a href='https://wandb.me/developer-guide' target=\"_blank\">docs</a>)<br>"
            ],
            "text/plain": [
              "<IPython.core.display.HTML object>"
            ]
          },
          "metadata": {},
          "output_type": "display_data"
        },
        {
          "data": {
            "text/html": [
              " View project at <a href='https://wandb.ai/wilfried-mvomoeto-university-of-li-ge/Few-Shot-Training_gru_glove_fastText_Bahdanau-CNN_LSTM-' target=\"_blank\">https://wandb.ai/wilfried-mvomoeto-university-of-li-ge/Few-Shot-Training_gru_glove_fastText_Bahdanau-CNN_LSTM-</a>"
            ],
            "text/plain": [
              "<IPython.core.display.HTML object>"
            ]
          },
          "metadata": {},
          "output_type": "display_data"
        },
        {
          "data": {
            "text/html": [
              " View run at <a href='https://wandb.ai/wilfried-mvomoeto-university-of-li-ge/Few-Shot-Training_gru_glove_fastText_Bahdanau-CNN_LSTM-/runs/7n3o7dxd' target=\"_blank\">https://wandb.ai/wilfried-mvomoeto-university-of-li-ge/Few-Shot-Training_gru_glove_fastText_Bahdanau-CNN_LSTM-/runs/7n3o7dxd</a>"
            ],
            "text/plain": [
              "<IPython.core.display.HTML object>"
            ]
          },
          "metadata": {},
          "output_type": "display_data"
        },
        {
          "name": "stderr",
          "output_type": "stream",
          "text": [
            "CNN_LSTM K-20 Epoch 1000/1000 - Train Loss: 2.1786, Test Loss: 2.2125, Train Acc: 11.11%, Test Acc: 6.78%, Test F1: 0.86%, Test Balanced Acc: 11.11%, Test Recall: 6.78%, Test Precision: 0.46%, Time: 0.76 sec: 100%|██████████| 1000/1000 [12:27<00:00,  1.34epoch/s]"
          ]
        },
        {
          "name": "stdout",
          "output_type": "stream",
          "text": [
            "Model CNN_LSTM_K-20 saved at the end of epoch 1000.\n",
            "Model metrics: \n",
            "Test Accuracy: 6.78%, Test F1: 0.86%, Test Balanced Accuracy: 11.11%, Test Recall: 6.78%, Test Precision: 0.46%\n"
          ]
        },
        {
          "name": "stderr",
          "output_type": "stream",
          "text": [
            "\n",
            "<ipython-input-9-f03193db776b>:44: UserWarning: To copy construct from a tensor, it is recommended to use sourceTensor.clone().detach() or sourceTensor.clone().detach().requires_grad_(True), rather than torch.tensor(sourceTensor).\n",
            "  self.X = torch.tensor(X_data, dtype=torch.long)\n",
            "<ipython-input-9-f03193db776b>:45: UserWarning: To copy construct from a tensor, it is recommended to use sourceTensor.clone().detach() or sourceTensor.clone().detach().requires_grad_(True), rather than torch.tensor(sourceTensor).\n",
            "  self.y = torch.tensor(y_data, dtype=torch.long)\n"
          ]
        },
        {
          "data": {
            "text/html": [],
            "text/plain": [
              "<IPython.core.display.HTML object>"
            ]
          },
          "metadata": {},
          "output_type": "display_data"
        },
        {
          "data": {
            "text/html": [
              "<br>    <style><br>        .wandb-row {<br>            display: flex;<br>            flex-direction: row;<br>            flex-wrap: wrap;<br>            justify-content: flex-start;<br>            width: 100%;<br>        }<br>        .wandb-col {<br>            display: flex;<br>            flex-direction: column;<br>            flex-basis: 100%;<br>            flex: 1;<br>            padding: 10px;<br>        }<br>    </style><br><div class=\"wandb-row\"><div class=\"wandb-col\"><h3>Run history:</h3><br/><table class=\"wandb\"><tr><td>epoch</td><td>▁▁▁▁▂▂▃▃▃▃▄▄▄▄▄▄▄▄▄▄▅▅▅▅▅▅▅▆▆▆▇▇▇▇▇▇████</td></tr><tr><td>k_shot</td><td>▁▁▁▁▁▁▁▁▁▁▁▁▁▁▁▁▁▁▁▁▁▁▁▁▁▁▁▁▁▁▁▁▁▁▁▁▁▁▁▁</td></tr><tr><td>test_acc</td><td>▁▁▁▁▁▁▁▁▁▁▁▁▁▁▁▁▁▁▁▁▁▁▁▁▁▁▁▁▁▁▁▁▁▁▁▁▁▁▁▁</td></tr><tr><td>test_balanced_acc</td><td>▁▁▁▁▁▁▁▁▁▁▁▁▁▁▁▁▁▁▁▁▁▁▁▁▁▁▁▁▁▁▁▁▁▁▁▁▁▁▁▁</td></tr><tr><td>test_f1</td><td>▁▁▁▁▁▁▁▁▁▁▁▁▁▁▁▁▁▁▁▁▁▁▁▁▁▁▁▁▁▁▁▁▁▁▁▁▁▁▁▁</td></tr><tr><td>test_loss</td><td>▃▄▂▂▆▁▂▆██▄▅▅▅▅▄▇▇▆▅▃▃▄▅▅▄▄▃▄▅▅▅█▅▅▆▆▇▄▆</td></tr><tr><td>test_precision</td><td>▁▁▁▁▁▁▁▁▁▁▁▁▁▁▁▁▁▁▁▁▁▁▁▁▁▁▁▁▁▁▁▁▁▁▁▁▁▁▁▁</td></tr><tr><td>test_recall</td><td>▁▁▁▁▁▁▁▁▁▁▁▁▁▁▁▁▁▁▁▁▁▁▁▁▁▁▁▁▁▁▁▁▁▁▁▁▁▁▁▁</td></tr><tr><td>train_acc</td><td>▁▁▁▁▁▁▁▁▁▁▁▁▁▁▁▁▁▁▁▁▁▁▁▁▁▁▁▁▁▁▁▁▁▁▁▁▁▁▁▁</td></tr><tr><td>train_loss</td><td>▇█▇▆▅▄▆▅▃▄▆▅▃▅▁▃▅▂▄▂▅▄▆▆▆▃▅▂▆▃▂▁▅▆▄▅▅▆▅▆</td></tr></table><br/></div><div class=\"wandb-col\"><h3>Run summary:</h3><br/><table class=\"wandb\"><tr><td>epoch</td><td>1000</td></tr><tr><td>k_shot</td><td>20</td></tr><tr><td>test_acc</td><td>0.06778</td></tr><tr><td>test_balanced_acc</td><td>0.11111</td></tr><tr><td>test_f1</td><td>0.00861</td></tr><tr><td>test_loss</td><td>2.21254</td></tr><tr><td>test_precision</td><td>0.00459</td></tr><tr><td>test_recall</td><td>0.06778</td></tr><tr><td>train_acc</td><td>0.11111</td></tr><tr><td>train_loss</td><td>2.17855</td></tr></table><br/></div></div>"
            ],
            "text/plain": [
              "<IPython.core.display.HTML object>"
            ]
          },
          "metadata": {},
          "output_type": "display_data"
        },
        {
          "data": {
            "text/html": [
              " View run <strong style=\"color:#cdcd00\">CNN_LSTM_K-20_Training</strong> at: <a href='https://wandb.ai/wilfried-mvomoeto-university-of-li-ge/Few-Shot-Training_gru_glove_fastText_Bahdanau-CNN_LSTM-/runs/7n3o7dxd' target=\"_blank\">https://wandb.ai/wilfried-mvomoeto-university-of-li-ge/Few-Shot-Training_gru_glove_fastText_Bahdanau-CNN_LSTM-/runs/7n3o7dxd</a><br> View project at: <a href='https://wandb.ai/wilfried-mvomoeto-university-of-li-ge/Few-Shot-Training_gru_glove_fastText_Bahdanau-CNN_LSTM-' target=\"_blank\">https://wandb.ai/wilfried-mvomoeto-university-of-li-ge/Few-Shot-Training_gru_glove_fastText_Bahdanau-CNN_LSTM-</a><br>Synced 5 W&B file(s), 0 media file(s), 0 artifact file(s) and 0 other file(s)"
            ],
            "text/plain": [
              "<IPython.core.display.HTML object>"
            ]
          },
          "metadata": {},
          "output_type": "display_data"
        },
        {
          "data": {
            "text/html": [
              "Find logs at: <code>./wandb/run-20250421_081824-7n3o7dxd/logs</code>"
            ],
            "text/plain": [
              "<IPython.core.display.HTML object>"
            ]
          },
          "metadata": {},
          "output_type": "display_data"
        },
        {
          "data": {
            "text/html": [
              "Tracking run with wandb version 0.19.9"
            ],
            "text/plain": [
              "<IPython.core.display.HTML object>"
            ]
          },
          "metadata": {},
          "output_type": "display_data"
        },
        {
          "data": {
            "text/html": [
              "Run data is saved locally in <code>/content/wandb/run-20250421_083053-24yddbkw</code>"
            ],
            "text/plain": [
              "<IPython.core.display.HTML object>"
            ]
          },
          "metadata": {},
          "output_type": "display_data"
        },
        {
          "data": {
            "text/html": [
              "Syncing run <strong><a href='https://wandb.ai/wilfried-mvomoeto-university-of-li-ge/Few-Shot-Training_gru_glove_fastText_Bahdanau-GRU-Glove-/runs/24yddbkw' target=\"_blank\">GRU-Glove_K-20_Training</a></strong> to <a href='https://wandb.ai/wilfried-mvomoeto-university-of-li-ge/Few-Shot-Training_gru_glove_fastText_Bahdanau-GRU-Glove-' target=\"_blank\">Weights & Biases</a> (<a href='https://wandb.me/developer-guide' target=\"_blank\">docs</a>)<br>"
            ],
            "text/plain": [
              "<IPython.core.display.HTML object>"
            ]
          },
          "metadata": {},
          "output_type": "display_data"
        },
        {
          "data": {
            "text/html": [
              " View project at <a href='https://wandb.ai/wilfried-mvomoeto-university-of-li-ge/Few-Shot-Training_gru_glove_fastText_Bahdanau-GRU-Glove-' target=\"_blank\">https://wandb.ai/wilfried-mvomoeto-university-of-li-ge/Few-Shot-Training_gru_glove_fastText_Bahdanau-GRU-Glove-</a>"
            ],
            "text/plain": [
              "<IPython.core.display.HTML object>"
            ]
          },
          "metadata": {},
          "output_type": "display_data"
        },
        {
          "data": {
            "text/html": [
              " View run at <a href='https://wandb.ai/wilfried-mvomoeto-university-of-li-ge/Few-Shot-Training_gru_glove_fastText_Bahdanau-GRU-Glove-/runs/24yddbkw' target=\"_blank\">https://wandb.ai/wilfried-mvomoeto-university-of-li-ge/Few-Shot-Training_gru_glove_fastText_Bahdanau-GRU-Glove-/runs/24yddbkw</a>"
            ],
            "text/plain": [
              "<IPython.core.display.HTML object>"
            ]
          },
          "metadata": {},
          "output_type": "display_data"
        },
        {
          "name": "stderr",
          "output_type": "stream",
          "text": [
            "GRU-Glove K-20 Epoch 5/1000 - Train Loss: 2.1861, Test Loss: 2.2192, Train Acc: 10.56%, Test Acc: 6.80%, Test F1: 0.96%, Test Balanced Acc: 11.10%, Test Recall: 6.80%, Test Precision: 12.15%, Time: 0.79 sec:   0%|          | 5/1000 [00:04<14:55,  1.11epoch/s]"
          ]
        },
        {
          "name": "stdout",
          "output_type": "stream",
          "text": [
            "Early stopping triggered at epoch 6\n",
            "Model GRU-Glove_K-20 saved with loss gap > 1.25 or accuracy gap > 10% at epoch 5.\n"
          ]
        },
        {
          "name": "stderr",
          "output_type": "stream",
          "text": [
            "\n",
            "<ipython-input-9-f03193db776b>:44: UserWarning: To copy construct from a tensor, it is recommended to use sourceTensor.clone().detach() or sourceTensor.clone().detach().requires_grad_(True), rather than torch.tensor(sourceTensor).\n",
            "  self.X = torch.tensor(X_data, dtype=torch.long)\n",
            "<ipython-input-9-f03193db776b>:45: UserWarning: To copy construct from a tensor, it is recommended to use sourceTensor.clone().detach() or sourceTensor.clone().detach().requires_grad_(True), rather than torch.tensor(sourceTensor).\n",
            "  self.y = torch.tensor(y_data, dtype=torch.long)\n"
          ]
        },
        {
          "data": {
            "text/html": [],
            "text/plain": [
              "<IPython.core.display.HTML object>"
            ]
          },
          "metadata": {},
          "output_type": "display_data"
        },
        {
          "data": {
            "text/html": [
              "<br>    <style><br>        .wandb-row {<br>            display: flex;<br>            flex-direction: row;<br>            flex-wrap: wrap;<br>            justify-content: flex-start;<br>            width: 100%;<br>        }<br>        .wandb-col {<br>            display: flex;<br>            flex-direction: column;<br>            flex-basis: 100%;<br>            flex: 1;<br>            padding: 10px;<br>        }<br>    </style><br><div class=\"wandb-row\"><div class=\"wandb-col\"><h3>Run history:</h3><br/><table class=\"wandb\"><tr><td>epoch</td><td>▁▂▄▅▇█</td></tr><tr><td>k_shot</td><td>▁▁▁▁▁▁</td></tr><tr><td>test_acc</td><td>▁▁█▁▁▁</td></tr><tr><td>test_balanced_acc</td><td>▁▁▁▆▆█</td></tr><tr><td>test_f1</td><td>▁▁█▁▁▁</td></tr><tr><td>test_loss</td><td>█▇▁▇▄▄</td></tr><tr><td>test_precision</td><td>▁▁▃▆▆█</td></tr><tr><td>test_recall</td><td>▁▁█▁▁▁</td></tr><tr><td>train_acc</td><td>▁▃█▅▄▆</td></tr><tr><td>train_loss</td><td>▇█▄▄▁▃</td></tr></table><br/></div><div class=\"wandb-col\"><h3>Run summary:</h3><br/><table class=\"wandb\"><tr><td>epoch</td><td>6</td></tr><tr><td>k_shot</td><td>20</td></tr><tr><td>test_acc</td><td>0.06813</td></tr><tr><td>test_balanced_acc</td><td>0.11119</td></tr><tr><td>test_f1</td><td>0.00996</td></tr><tr><td>test_loss</td><td>2.21717</td></tr><tr><td>test_precision</td><td>0.16838</td></tr><tr><td>test_recall</td><td>0.06813</td></tr><tr><td>train_acc</td><td>0.12222</td></tr><tr><td>train_loss</td><td>2.22429</td></tr></table><br/></div></div>"
            ],
            "text/plain": [
              "<IPython.core.display.HTML object>"
            ]
          },
          "metadata": {},
          "output_type": "display_data"
        },
        {
          "data": {
            "text/html": [
              " View run <strong style=\"color:#cdcd00\">GRU-Glove_K-20_Training</strong> at: <a href='https://wandb.ai/wilfried-mvomoeto-university-of-li-ge/Few-Shot-Training_gru_glove_fastText_Bahdanau-GRU-Glove-/runs/24yddbkw' target=\"_blank\">https://wandb.ai/wilfried-mvomoeto-university-of-li-ge/Few-Shot-Training_gru_glove_fastText_Bahdanau-GRU-Glove-/runs/24yddbkw</a><br> View project at: <a href='https://wandb.ai/wilfried-mvomoeto-university-of-li-ge/Few-Shot-Training_gru_glove_fastText_Bahdanau-GRU-Glove-' target=\"_blank\">https://wandb.ai/wilfried-mvomoeto-university-of-li-ge/Few-Shot-Training_gru_glove_fastText_Bahdanau-GRU-Glove-</a><br>Synced 5 W&B file(s), 0 media file(s), 0 artifact file(s) and 0 other file(s)"
            ],
            "text/plain": [
              "<IPython.core.display.HTML object>"
            ]
          },
          "metadata": {},
          "output_type": "display_data"
        },
        {
          "data": {
            "text/html": [
              "Find logs at: <code>./wandb/run-20250421_083053-24yddbkw/logs</code>"
            ],
            "text/plain": [
              "<IPython.core.display.HTML object>"
            ]
          },
          "metadata": {},
          "output_type": "display_data"
        },
        {
          "data": {
            "text/html": [
              "Tracking run with wandb version 0.19.9"
            ],
            "text/plain": [
              "<IPython.core.display.HTML object>"
            ]
          },
          "metadata": {},
          "output_type": "display_data"
        },
        {
          "data": {
            "text/html": [
              "Run data is saved locally in <code>/content/wandb/run-20250421_083059-ssthhxd4</code>"
            ],
            "text/plain": [
              "<IPython.core.display.HTML object>"
            ]
          },
          "metadata": {},
          "output_type": "display_data"
        },
        {
          "data": {
            "text/html": [
              "Syncing run <strong><a href='https://wandb.ai/wilfried-mvomoeto-university-of-li-ge/Few-Shot-Training_gru_glove_fastText_Bahdanau-GRU-FastText-/runs/ssthhxd4' target=\"_blank\">GRU-FastText_K-20_Training</a></strong> to <a href='https://wandb.ai/wilfried-mvomoeto-university-of-li-ge/Few-Shot-Training_gru_glove_fastText_Bahdanau-GRU-FastText-' target=\"_blank\">Weights & Biases</a> (<a href='https://wandb.me/developer-guide' target=\"_blank\">docs</a>)<br>"
            ],
            "text/plain": [
              "<IPython.core.display.HTML object>"
            ]
          },
          "metadata": {},
          "output_type": "display_data"
        },
        {
          "data": {
            "text/html": [
              " View project at <a href='https://wandb.ai/wilfried-mvomoeto-university-of-li-ge/Few-Shot-Training_gru_glove_fastText_Bahdanau-GRU-FastText-' target=\"_blank\">https://wandb.ai/wilfried-mvomoeto-university-of-li-ge/Few-Shot-Training_gru_glove_fastText_Bahdanau-GRU-FastText-</a>"
            ],
            "text/plain": [
              "<IPython.core.display.HTML object>"
            ]
          },
          "metadata": {},
          "output_type": "display_data"
        },
        {
          "data": {
            "text/html": [
              " View run at <a href='https://wandb.ai/wilfried-mvomoeto-university-of-li-ge/Few-Shot-Training_gru_glove_fastText_Bahdanau-GRU-FastText-/runs/ssthhxd4' target=\"_blank\">https://wandb.ai/wilfried-mvomoeto-university-of-li-ge/Few-Shot-Training_gru_glove_fastText_Bahdanau-GRU-FastText-/runs/ssthhxd4</a>"
            ],
            "text/plain": [
              "<IPython.core.display.HTML object>"
            ]
          },
          "metadata": {},
          "output_type": "display_data"
        },
        {
          "name": "stderr",
          "output_type": "stream",
          "text": [
            "GRU-FastText K-20 Epoch 2/1000 - Train Loss: 2.2427, Test Loss: 2.2204, Train Acc: 8.89%, Test Acc: 6.81%, Test F1: 1.00%, Test Balanced Acc: 11.12%, Test Recall: 6.81%, Test Precision: 16.23%, Time: 0.64 sec:   0%|          | 2/1000 [00:02<16:51,  1.01s/epoch]"
          ]
        },
        {
          "name": "stdout",
          "output_type": "stream",
          "text": [
            "Early stopping triggered at epoch 3\n",
            "Model GRU-FastText_K-20 saved with loss gap > 1.25 or accuracy gap > 10% at epoch 2.\n",
            "\n",
            "Training with 30-shot...\n"
          ]
        },
        {
          "name": "stderr",
          "output_type": "stream",
          "text": [
            "\n",
            "<ipython-input-9-f03193db776b>:44: UserWarning: To copy construct from a tensor, it is recommended to use sourceTensor.clone().detach() or sourceTensor.clone().detach().requires_grad_(True), rather than torch.tensor(sourceTensor).\n",
            "  self.X = torch.tensor(X_data, dtype=torch.long)\n",
            "<ipython-input-9-f03193db776b>:45: UserWarning: To copy construct from a tensor, it is recommended to use sourceTensor.clone().detach() or sourceTensor.clone().detach().requires_grad_(True), rather than torch.tensor(sourceTensor).\n",
            "  self.y = torch.tensor(y_data, dtype=torch.long)\n"
          ]
        },
        {
          "data": {
            "text/html": [],
            "text/plain": [
              "<IPython.core.display.HTML object>"
            ]
          },
          "metadata": {},
          "output_type": "display_data"
        },
        {
          "data": {
            "text/html": [
              "<br>    <style><br>        .wandb-row {<br>            display: flex;<br>            flex-direction: row;<br>            flex-wrap: wrap;<br>            justify-content: flex-start;<br>            width: 100%;<br>        }<br>        .wandb-col {<br>            display: flex;<br>            flex-direction: column;<br>            flex-basis: 100%;<br>            flex: 1;<br>            padding: 10px;<br>        }<br>    </style><br><div class=\"wandb-row\"><div class=\"wandb-col\"><h3>Run history:</h3><br/><table class=\"wandb\"><tr><td>epoch</td><td>▁▅█</td></tr><tr><td>k_shot</td><td>▁▁▁</td></tr><tr><td>test_acc</td><td>██▁</td></tr><tr><td>test_balanced_acc</td><td>██▁</td></tr><tr><td>test_f1</td><td>██▁</td></tr><tr><td>test_loss</td><td>▆▁█</td></tr><tr><td>test_precision</td><td>▁██</td></tr><tr><td>test_recall</td><td>██▁</td></tr><tr><td>train_acc</td><td>▃▁█</td></tr><tr><td>train_loss</td><td>█▁▃</td></tr></table><br/></div><div class=\"wandb-col\"><h3>Run summary:</h3><br/><table class=\"wandb\"><tr><td>epoch</td><td>3</td></tr><tr><td>k_shot</td><td>20</td></tr><tr><td>test_acc</td><td>0.06795</td></tr><tr><td>test_balanced_acc</td><td>0.11092</td></tr><tr><td>test_f1</td><td>0.00994</td></tr><tr><td>test_loss</td><td>2.22879</td></tr><tr><td>test_precision</td><td>0.16226</td></tr><tr><td>test_recall</td><td>0.06795</td></tr><tr><td>train_acc</td><td>0.12222</td></tr><tr><td>train_loss</td><td>2.24503</td></tr></table><br/></div></div>"
            ],
            "text/plain": [
              "<IPython.core.display.HTML object>"
            ]
          },
          "metadata": {},
          "output_type": "display_data"
        },
        {
          "data": {
            "text/html": [
              " View run <strong style=\"color:#cdcd00\">GRU-FastText_K-20_Training</strong> at: <a href='https://wandb.ai/wilfried-mvomoeto-university-of-li-ge/Few-Shot-Training_gru_glove_fastText_Bahdanau-GRU-FastText-/runs/ssthhxd4' target=\"_blank\">https://wandb.ai/wilfried-mvomoeto-university-of-li-ge/Few-Shot-Training_gru_glove_fastText_Bahdanau-GRU-FastText-/runs/ssthhxd4</a><br> View project at: <a href='https://wandb.ai/wilfried-mvomoeto-university-of-li-ge/Few-Shot-Training_gru_glove_fastText_Bahdanau-GRU-FastText-' target=\"_blank\">https://wandb.ai/wilfried-mvomoeto-university-of-li-ge/Few-Shot-Training_gru_glove_fastText_Bahdanau-GRU-FastText-</a><br>Synced 5 W&B file(s), 0 media file(s), 0 artifact file(s) and 0 other file(s)"
            ],
            "text/plain": [
              "<IPython.core.display.HTML object>"
            ]
          },
          "metadata": {},
          "output_type": "display_data"
        },
        {
          "data": {
            "text/html": [
              "Find logs at: <code>./wandb/run-20250421_083059-ssthhxd4/logs</code>"
            ],
            "text/plain": [
              "<IPython.core.display.HTML object>"
            ]
          },
          "metadata": {},
          "output_type": "display_data"
        },
        {
          "data": {
            "text/html": [
              "Tracking run with wandb version 0.19.9"
            ],
            "text/plain": [
              "<IPython.core.display.HTML object>"
            ]
          },
          "metadata": {},
          "output_type": "display_data"
        },
        {
          "data": {
            "text/html": [
              "Run data is saved locally in <code>/content/wandb/run-20250421_083102-boqgtd9i</code>"
            ],
            "text/plain": [
              "<IPython.core.display.HTML object>"
            ]
          },
          "metadata": {},
          "output_type": "display_data"
        },
        {
          "data": {
            "text/html": [
              "Syncing run <strong><a href='https://wandb.ai/wilfried-mvomoeto-university-of-li-ge/Few-Shot-Training_gru_glove_fastText_Bahdanau-GRU-Bah-Glove-/runs/boqgtd9i' target=\"_blank\">GRU-Bah-Glove_K-30_Training</a></strong> to <a href='https://wandb.ai/wilfried-mvomoeto-university-of-li-ge/Few-Shot-Training_gru_glove_fastText_Bahdanau-GRU-Bah-Glove-' target=\"_blank\">Weights & Biases</a> (<a href='https://wandb.me/developer-guide' target=\"_blank\">docs</a>)<br>"
            ],
            "text/plain": [
              "<IPython.core.display.HTML object>"
            ]
          },
          "metadata": {},
          "output_type": "display_data"
        },
        {
          "data": {
            "text/html": [
              " View project at <a href='https://wandb.ai/wilfried-mvomoeto-university-of-li-ge/Few-Shot-Training_gru_glove_fastText_Bahdanau-GRU-Bah-Glove-' target=\"_blank\">https://wandb.ai/wilfried-mvomoeto-university-of-li-ge/Few-Shot-Training_gru_glove_fastText_Bahdanau-GRU-Bah-Glove-</a>"
            ],
            "text/plain": [
              "<IPython.core.display.HTML object>"
            ]
          },
          "metadata": {},
          "output_type": "display_data"
        },
        {
          "data": {
            "text/html": [
              " View run at <a href='https://wandb.ai/wilfried-mvomoeto-university-of-li-ge/Few-Shot-Training_gru_glove_fastText_Bahdanau-GRU-Bah-Glove-/runs/boqgtd9i' target=\"_blank\">https://wandb.ai/wilfried-mvomoeto-university-of-li-ge/Few-Shot-Training_gru_glove_fastText_Bahdanau-GRU-Bah-Glove-/runs/boqgtd9i</a>"
            ],
            "text/plain": [
              "<IPython.core.display.HTML object>"
            ]
          },
          "metadata": {},
          "output_type": "display_data"
        },
        {
          "name": "stderr",
          "output_type": "stream",
          "text": [
            "GRU-Bah-Glove K-30 Epoch 7/1000 - Train Loss: 2.1691, Test Loss: 2.1709, Train Acc: 12.59%, Test Acc: 14.80%, Test F1: 9.48%, Test Balanced Acc: 17.41%, Test Recall: 14.80%, Test Precision: 28.53%, Time: 1.21 sec:   1%|          | 7/1000 [00:09<22:32,  1.36s/epoch]"
          ]
        },
        {
          "name": "stdout",
          "output_type": "stream",
          "text": [
            "Early stopping triggered at epoch 8\n",
            "Model GRU-Bah-Glove_K-30 saved with loss gap > 1.25 or accuracy gap > 10% at epoch 7.\n"
          ]
        },
        {
          "name": "stderr",
          "output_type": "stream",
          "text": [
            "\n",
            "<ipython-input-9-f03193db776b>:44: UserWarning: To copy construct from a tensor, it is recommended to use sourceTensor.clone().detach() or sourceTensor.clone().detach().requires_grad_(True), rather than torch.tensor(sourceTensor).\n",
            "  self.X = torch.tensor(X_data, dtype=torch.long)\n",
            "<ipython-input-9-f03193db776b>:45: UserWarning: To copy construct from a tensor, it is recommended to use sourceTensor.clone().detach() or sourceTensor.clone().detach().requires_grad_(True), rather than torch.tensor(sourceTensor).\n",
            "  self.y = torch.tensor(y_data, dtype=torch.long)\n"
          ]
        },
        {
          "data": {
            "text/html": [],
            "text/plain": [
              "<IPython.core.display.HTML object>"
            ]
          },
          "metadata": {},
          "output_type": "display_data"
        },
        {
          "data": {
            "text/html": [
              "<br>    <style><br>        .wandb-row {<br>            display: flex;<br>            flex-direction: row;<br>            flex-wrap: wrap;<br>            justify-content: flex-start;<br>            width: 100%;<br>        }<br>        .wandb-col {<br>            display: flex;<br>            flex-direction: column;<br>            flex-basis: 100%;<br>            flex: 1;<br>            padding: 10px;<br>        }<br>    </style><br><div class=\"wandb-row\"><div class=\"wandb-col\"><h3>Run history:</h3><br/><table class=\"wandb\"><tr><td>epoch</td><td>▁▂▃▄▅▆▇█</td></tr><tr><td>k_shot</td><td>▁▁▁▁▁▁▁▁</td></tr><tr><td>test_acc</td><td>▁▂▃▅▇█▇▄</td></tr><tr><td>test_balanced_acc</td><td>▁▂▄▅▇██▇</td></tr><tr><td>test_f1</td><td>▁▃▅▆▇██▆</td></tr><tr><td>test_loss</td><td>█▆▅▄▃▂▂▁</td></tr><tr><td>test_precision</td><td>▁▇▅▆▇▇▇█</td></tr><tr><td>test_recall</td><td>▁▂▃▅▇█▇▄</td></tr><tr><td>train_acc</td><td>▁▄▆▅▄▅▄█</td></tr><tr><td>train_loss</td><td>█▄▃▃▃▃▂▁</td></tr></table><br/></div><div class=\"wandb-col\"><h3>Run summary:</h3><br/><table class=\"wandb\"><tr><td>epoch</td><td>8</td></tr><tr><td>k_shot</td><td>30</td></tr><tr><td>test_acc</td><td>0.13246</td></tr><tr><td>test_balanced_acc</td><td>0.1658</td></tr><tr><td>test_f1</td><td>0.08616</td></tr><tr><td>test_loss</td><td>2.16875</td></tr><tr><td>test_precision</td><td>0.31068</td></tr><tr><td>test_recall</td><td>0.13246</td></tr><tr><td>train_acc</td><td>0.18519</td></tr><tr><td>train_loss</td><td>2.13876</td></tr></table><br/></div></div>"
            ],
            "text/plain": [
              "<IPython.core.display.HTML object>"
            ]
          },
          "metadata": {},
          "output_type": "display_data"
        },
        {
          "data": {
            "text/html": [
              " View run <strong style=\"color:#cdcd00\">GRU-Bah-Glove_K-30_Training</strong> at: <a href='https://wandb.ai/wilfried-mvomoeto-university-of-li-ge/Few-Shot-Training_gru_glove_fastText_Bahdanau-GRU-Bah-Glove-/runs/boqgtd9i' target=\"_blank\">https://wandb.ai/wilfried-mvomoeto-university-of-li-ge/Few-Shot-Training_gru_glove_fastText_Bahdanau-GRU-Bah-Glove-/runs/boqgtd9i</a><br> View project at: <a href='https://wandb.ai/wilfried-mvomoeto-university-of-li-ge/Few-Shot-Training_gru_glove_fastText_Bahdanau-GRU-Bah-Glove-' target=\"_blank\">https://wandb.ai/wilfried-mvomoeto-university-of-li-ge/Few-Shot-Training_gru_glove_fastText_Bahdanau-GRU-Bah-Glove-</a><br>Synced 5 W&B file(s), 0 media file(s), 0 artifact file(s) and 0 other file(s)"
            ],
            "text/plain": [
              "<IPython.core.display.HTML object>"
            ]
          },
          "metadata": {},
          "output_type": "display_data"
        },
        {
          "data": {
            "text/html": [
              "Find logs at: <code>./wandb/run-20250421_083102-boqgtd9i/logs</code>"
            ],
            "text/plain": [
              "<IPython.core.display.HTML object>"
            ]
          },
          "metadata": {},
          "output_type": "display_data"
        },
        {
          "data": {
            "text/html": [
              "Tracking run with wandb version 0.19.9"
            ],
            "text/plain": [
              "<IPython.core.display.HTML object>"
            ]
          },
          "metadata": {},
          "output_type": "display_data"
        },
        {
          "data": {
            "text/html": [
              "Run data is saved locally in <code>/content/wandb/run-20250421_083113-6sj1hamm</code>"
            ],
            "text/plain": [
              "<IPython.core.display.HTML object>"
            ]
          },
          "metadata": {},
          "output_type": "display_data"
        },
        {
          "data": {
            "text/html": [
              "Syncing run <strong><a href='https://wandb.ai/wilfried-mvomoeto-university-of-li-ge/Few-Shot-Training_gru_glove_fastText_Bahdanau-GRU-Bah-FastText-/runs/6sj1hamm' target=\"_blank\">GRU-Bah-FastText_K-30_Training</a></strong> to <a href='https://wandb.ai/wilfried-mvomoeto-university-of-li-ge/Few-Shot-Training_gru_glove_fastText_Bahdanau-GRU-Bah-FastText-' target=\"_blank\">Weights & Biases</a> (<a href='https://wandb.me/developer-guide' target=\"_blank\">docs</a>)<br>"
            ],
            "text/plain": [
              "<IPython.core.display.HTML object>"
            ]
          },
          "metadata": {},
          "output_type": "display_data"
        },
        {
          "data": {
            "text/html": [
              " View project at <a href='https://wandb.ai/wilfried-mvomoeto-university-of-li-ge/Few-Shot-Training_gru_glove_fastText_Bahdanau-GRU-Bah-FastText-' target=\"_blank\">https://wandb.ai/wilfried-mvomoeto-university-of-li-ge/Few-Shot-Training_gru_glove_fastText_Bahdanau-GRU-Bah-FastText-</a>"
            ],
            "text/plain": [
              "<IPython.core.display.HTML object>"
            ]
          },
          "metadata": {},
          "output_type": "display_data"
        },
        {
          "data": {
            "text/html": [
              " View run at <a href='https://wandb.ai/wilfried-mvomoeto-university-of-li-ge/Few-Shot-Training_gru_glove_fastText_Bahdanau-GRU-Bah-FastText-/runs/6sj1hamm' target=\"_blank\">https://wandb.ai/wilfried-mvomoeto-university-of-li-ge/Few-Shot-Training_gru_glove_fastText_Bahdanau-GRU-Bah-FastText-/runs/6sj1hamm</a>"
            ],
            "text/plain": [
              "<IPython.core.display.HTML object>"
            ]
          },
          "metadata": {},
          "output_type": "display_data"
        },
        {
          "name": "stderr",
          "output_type": "stream",
          "text": [
            "GRU-Bah-FastText K-30 Epoch 12/1000 - Train Loss: 2.1252, Test Loss: 2.1378, Train Acc: 21.48%, Test Acc: 17.35%, Test F1: 13.61%, Test Balanced Acc: 21.58%, Test Recall: 17.35%, Test Precision: 35.15%, Time: 1.14 sec:   1%|          | 12/1000 [00:15<21:00,  1.28s/epoch]"
          ]
        },
        {
          "name": "stdout",
          "output_type": "stream",
          "text": [
            "Early stopping triggered at epoch 13\n",
            "Model GRU-Bah-FastText_K-30 saved with loss gap > 1.25 or accuracy gap > 10% at epoch 12.\n"
          ]
        },
        {
          "name": "stderr",
          "output_type": "stream",
          "text": [
            "\n",
            "<ipython-input-9-f03193db776b>:44: UserWarning: To copy construct from a tensor, it is recommended to use sourceTensor.clone().detach() or sourceTensor.clone().detach().requires_grad_(True), rather than torch.tensor(sourceTensor).\n",
            "  self.X = torch.tensor(X_data, dtype=torch.long)\n",
            "<ipython-input-9-f03193db776b>:45: UserWarning: To copy construct from a tensor, it is recommended to use sourceTensor.clone().detach() or sourceTensor.clone().detach().requires_grad_(True), rather than torch.tensor(sourceTensor).\n",
            "  self.y = torch.tensor(y_data, dtype=torch.long)\n"
          ]
        },
        {
          "data": {
            "text/html": [],
            "text/plain": [
              "<IPython.core.display.HTML object>"
            ]
          },
          "metadata": {},
          "output_type": "display_data"
        },
        {
          "data": {
            "text/html": [
              "<br>    <style><br>        .wandb-row {<br>            display: flex;<br>            flex-direction: row;<br>            flex-wrap: wrap;<br>            justify-content: flex-start;<br>            width: 100%;<br>        }<br>        .wandb-col {<br>            display: flex;<br>            flex-direction: column;<br>            flex-basis: 100%;<br>            flex: 1;<br>            padding: 10px;<br>        }<br>    </style><br><div class=\"wandb-row\"><div class=\"wandb-col\"><h3>Run history:</h3><br/><table class=\"wandb\"><tr><td>epoch</td><td>▁▂▂▃▃▄▅▅▆▆▇▇█</td></tr><tr><td>k_shot</td><td>▁▁▁▁▁▁▁▁▁▁▁▁▁</td></tr><tr><td>test_acc</td><td>▂▁▂▄▅▆▆▆▇▇███</td></tr><tr><td>test_balanced_acc</td><td>▁▂▃▅▆▇▇▇▇████</td></tr><tr><td>test_f1</td><td>▁▃▃▄▄▅▆▆▆▇▇██</td></tr><tr><td>test_loss</td><td>██▇▇▇▆▆▆▅▅▄▃▁</td></tr><tr><td>test_precision</td><td>▁▂▂▃▃▄▅▆▆▇█▇█</td></tr><tr><td>test_recall</td><td>▂▁▂▄▅▆▆▆▇▇███</td></tr><tr><td>train_acc</td><td>▂▃▁▁▂▄▃▃▄▅▄▆█</td></tr><tr><td>train_loss</td><td>█▅▄▄▄▄▃▃▃▂▃▂▁</td></tr></table><br/></div><div class=\"wandb-col\"><h3>Run summary:</h3><br/><table class=\"wandb\"><tr><td>epoch</td><td>13</td></tr><tr><td>k_shot</td><td>30</td></tr><tr><td>test_acc</td><td>0.16954</td></tr><tr><td>test_balanced_acc</td><td>0.21141</td></tr><tr><td>test_f1</td><td>0.14031</td></tr><tr><td>test_loss</td><td>2.11585</td></tr><tr><td>test_precision</td><td>0.39166</td></tr><tr><td>test_recall</td><td>0.16954</td></tr><tr><td>train_acc</td><td>0.25926</td></tr><tr><td>train_loss</td><td>2.07009</td></tr></table><br/></div></div>"
            ],
            "text/plain": [
              "<IPython.core.display.HTML object>"
            ]
          },
          "metadata": {},
          "output_type": "display_data"
        },
        {
          "data": {
            "text/html": [
              " View run <strong style=\"color:#cdcd00\">GRU-Bah-FastText_K-30_Training</strong> at: <a href='https://wandb.ai/wilfried-mvomoeto-university-of-li-ge/Few-Shot-Training_gru_glove_fastText_Bahdanau-GRU-Bah-FastText-/runs/6sj1hamm' target=\"_blank\">https://wandb.ai/wilfried-mvomoeto-university-of-li-ge/Few-Shot-Training_gru_glove_fastText_Bahdanau-GRU-Bah-FastText-/runs/6sj1hamm</a><br> View project at: <a href='https://wandb.ai/wilfried-mvomoeto-university-of-li-ge/Few-Shot-Training_gru_glove_fastText_Bahdanau-GRU-Bah-FastText-' target=\"_blank\">https://wandb.ai/wilfried-mvomoeto-university-of-li-ge/Few-Shot-Training_gru_glove_fastText_Bahdanau-GRU-Bah-FastText-</a><br>Synced 5 W&B file(s), 0 media file(s), 0 artifact file(s) and 0 other file(s)"
            ],
            "text/plain": [
              "<IPython.core.display.HTML object>"
            ]
          },
          "metadata": {},
          "output_type": "display_data"
        },
        {
          "data": {
            "text/html": [
              "Find logs at: <code>./wandb/run-20250421_083113-6sj1hamm/logs</code>"
            ],
            "text/plain": [
              "<IPython.core.display.HTML object>"
            ]
          },
          "metadata": {},
          "output_type": "display_data"
        },
        {
          "data": {
            "text/html": [
              "Tracking run with wandb version 0.19.9"
            ],
            "text/plain": [
              "<IPython.core.display.HTML object>"
            ]
          },
          "metadata": {},
          "output_type": "display_data"
        },
        {
          "data": {
            "text/html": [
              "Run data is saved locally in <code>/content/wandb/run-20250421_083130-y0g54o9s</code>"
            ],
            "text/plain": [
              "<IPython.core.display.HTML object>"
            ]
          },
          "metadata": {},
          "output_type": "display_data"
        },
        {
          "data": {
            "text/html": [
              "Syncing run <strong><a href='https://wandb.ai/wilfried-mvomoeto-university-of-li-ge/Few-Shot-Training_gru_glove_fastText_Bahdanau-CNN_LSTM-/runs/y0g54o9s' target=\"_blank\">CNN_LSTM_K-30_Training</a></strong> to <a href='https://wandb.ai/wilfried-mvomoeto-university-of-li-ge/Few-Shot-Training_gru_glove_fastText_Bahdanau-CNN_LSTM-' target=\"_blank\">Weights & Biases</a> (<a href='https://wandb.me/developer-guide' target=\"_blank\">docs</a>)<br>"
            ],
            "text/plain": [
              "<IPython.core.display.HTML object>"
            ]
          },
          "metadata": {},
          "output_type": "display_data"
        },
        {
          "data": {
            "text/html": [
              " View project at <a href='https://wandb.ai/wilfried-mvomoeto-university-of-li-ge/Few-Shot-Training_gru_glove_fastText_Bahdanau-CNN_LSTM-' target=\"_blank\">https://wandb.ai/wilfried-mvomoeto-university-of-li-ge/Few-Shot-Training_gru_glove_fastText_Bahdanau-CNN_LSTM-</a>"
            ],
            "text/plain": [
              "<IPython.core.display.HTML object>"
            ]
          },
          "metadata": {},
          "output_type": "display_data"
        },
        {
          "data": {
            "text/html": [
              " View run at <a href='https://wandb.ai/wilfried-mvomoeto-university-of-li-ge/Few-Shot-Training_gru_glove_fastText_Bahdanau-CNN_LSTM-/runs/y0g54o9s' target=\"_blank\">https://wandb.ai/wilfried-mvomoeto-university-of-li-ge/Few-Shot-Training_gru_glove_fastText_Bahdanau-CNN_LSTM-/runs/y0g54o9s</a>"
            ],
            "text/plain": [
              "<IPython.core.display.HTML object>"
            ]
          },
          "metadata": {},
          "output_type": "display_data"
        },
        {
          "name": "stderr",
          "output_type": "stream",
          "text": [
            "CNN_LSTM K-30 Epoch 1/1000 - Train Loss: 2.2231, Test Loss: 2.2046, Train Acc: 9.26%, Test Acc: 6.76%, Test F1: 0.92%, Test Balanced Acc: 11.06%, Test Recall: 6.76%, Test Precision: 1.53%, Time: 0.75 sec:   0%|          | 1/1000 [00:01<25:48,  1.55s/epoch]"
          ]
        },
        {
          "name": "stdout",
          "output_type": "stream",
          "text": [
            "Early stopping triggered at epoch 2\n",
            "Model CNN_LSTM_K-30 saved with loss gap > 1.25 or accuracy gap > 10% at epoch 1.\n"
          ]
        },
        {
          "name": "stderr",
          "output_type": "stream",
          "text": [
            "\n",
            "<ipython-input-9-f03193db776b>:44: UserWarning: To copy construct from a tensor, it is recommended to use sourceTensor.clone().detach() or sourceTensor.clone().detach().requires_grad_(True), rather than torch.tensor(sourceTensor).\n",
            "  self.X = torch.tensor(X_data, dtype=torch.long)\n",
            "<ipython-input-9-f03193db776b>:45: UserWarning: To copy construct from a tensor, it is recommended to use sourceTensor.clone().detach() or sourceTensor.clone().detach().requires_grad_(True), rather than torch.tensor(sourceTensor).\n",
            "  self.y = torch.tensor(y_data, dtype=torch.long)\n"
          ]
        },
        {
          "data": {
            "text/html": [],
            "text/plain": [
              "<IPython.core.display.HTML object>"
            ]
          },
          "metadata": {},
          "output_type": "display_data"
        },
        {
          "data": {
            "text/html": [
              "<br>    <style><br>        .wandb-row {<br>            display: flex;<br>            flex-direction: row;<br>            flex-wrap: wrap;<br>            justify-content: flex-start;<br>            width: 100%;<br>        }<br>        .wandb-col {<br>            display: flex;<br>            flex-direction: column;<br>            flex-basis: 100%;<br>            flex: 1;<br>            padding: 10px;<br>        }<br>    </style><br><div class=\"wandb-row\"><div class=\"wandb-col\"><h3>Run history:</h3><br/><table class=\"wandb\"><tr><td>epoch</td><td>▁█</td></tr><tr><td>k_shot</td><td>▁▁</td></tr><tr><td>test_acc</td><td>▁█</td></tr><tr><td>test_balanced_acc</td><td>▁█</td></tr><tr><td>test_f1</td><td>█▁</td></tr><tr><td>test_loss</td><td>▁█</td></tr><tr><td>test_precision</td><td>▁█</td></tr><tr><td>test_recall</td><td>▁█</td></tr><tr><td>train_acc</td><td>▁█</td></tr><tr><td>train_loss</td><td>█▁</td></tr></table><br/></div><div class=\"wandb-col\"><h3>Run summary:</h3><br/><table class=\"wandb\"><tr><td>epoch</td><td>2</td></tr><tr><td>k_shot</td><td>30</td></tr><tr><td>test_acc</td><td>0.06778</td></tr><tr><td>test_balanced_acc</td><td>0.11099</td></tr><tr><td>test_f1</td><td>0.00893</td></tr><tr><td>test_loss</td><td>2.22047</td></tr><tr><td>test_precision</td><td>0.03408</td></tr><tr><td>test_recall</td><td>0.06778</td></tr><tr><td>train_acc</td><td>0.13333</td></tr><tr><td>train_loss</td><td>2.20387</td></tr></table><br/></div></div>"
            ],
            "text/plain": [
              "<IPython.core.display.HTML object>"
            ]
          },
          "metadata": {},
          "output_type": "display_data"
        },
        {
          "data": {
            "text/html": [
              " View run <strong style=\"color:#cdcd00\">CNN_LSTM_K-30_Training</strong> at: <a href='https://wandb.ai/wilfried-mvomoeto-university-of-li-ge/Few-Shot-Training_gru_glove_fastText_Bahdanau-CNN_LSTM-/runs/y0g54o9s' target=\"_blank\">https://wandb.ai/wilfried-mvomoeto-university-of-li-ge/Few-Shot-Training_gru_glove_fastText_Bahdanau-CNN_LSTM-/runs/y0g54o9s</a><br> View project at: <a href='https://wandb.ai/wilfried-mvomoeto-university-of-li-ge/Few-Shot-Training_gru_glove_fastText_Bahdanau-CNN_LSTM-' target=\"_blank\">https://wandb.ai/wilfried-mvomoeto-university-of-li-ge/Few-Shot-Training_gru_glove_fastText_Bahdanau-CNN_LSTM-</a><br>Synced 5 W&B file(s), 0 media file(s), 0 artifact file(s) and 0 other file(s)"
            ],
            "text/plain": [
              "<IPython.core.display.HTML object>"
            ]
          },
          "metadata": {},
          "output_type": "display_data"
        },
        {
          "data": {
            "text/html": [
              "Find logs at: <code>./wandb/run-20250421_083130-y0g54o9s/logs</code>"
            ],
            "text/plain": [
              "<IPython.core.display.HTML object>"
            ]
          },
          "metadata": {},
          "output_type": "display_data"
        },
        {
          "data": {
            "text/html": [
              "Tracking run with wandb version 0.19.9"
            ],
            "text/plain": [
              "<IPython.core.display.HTML object>"
            ]
          },
          "metadata": {},
          "output_type": "display_data"
        },
        {
          "data": {
            "text/html": [
              "Run data is saved locally in <code>/content/wandb/run-20250421_083133-iqj8jv4l</code>"
            ],
            "text/plain": [
              "<IPython.core.display.HTML object>"
            ]
          },
          "metadata": {},
          "output_type": "display_data"
        },
        {
          "data": {
            "text/html": [
              "Syncing run <strong><a href='https://wandb.ai/wilfried-mvomoeto-university-of-li-ge/Few-Shot-Training_gru_glove_fastText_Bahdanau-GRU-Glove-/runs/iqj8jv4l' target=\"_blank\">GRU-Glove_K-30_Training</a></strong> to <a href='https://wandb.ai/wilfried-mvomoeto-university-of-li-ge/Few-Shot-Training_gru_glove_fastText_Bahdanau-GRU-Glove-' target=\"_blank\">Weights & Biases</a> (<a href='https://wandb.me/developer-guide' target=\"_blank\">docs</a>)<br>"
            ],
            "text/plain": [
              "<IPython.core.display.HTML object>"
            ]
          },
          "metadata": {},
          "output_type": "display_data"
        },
        {
          "data": {
            "text/html": [
              " View project at <a href='https://wandb.ai/wilfried-mvomoeto-university-of-li-ge/Few-Shot-Training_gru_glove_fastText_Bahdanau-GRU-Glove-' target=\"_blank\">https://wandb.ai/wilfried-mvomoeto-university-of-li-ge/Few-Shot-Training_gru_glove_fastText_Bahdanau-GRU-Glove-</a>"
            ],
            "text/plain": [
              "<IPython.core.display.HTML object>"
            ]
          },
          "metadata": {},
          "output_type": "display_data"
        },
        {
          "data": {
            "text/html": [
              " View run at <a href='https://wandb.ai/wilfried-mvomoeto-university-of-li-ge/Few-Shot-Training_gru_glove_fastText_Bahdanau-GRU-Glove-/runs/iqj8jv4l' target=\"_blank\">https://wandb.ai/wilfried-mvomoeto-university-of-li-ge/Few-Shot-Training_gru_glove_fastText_Bahdanau-GRU-Glove-/runs/iqj8jv4l</a>"
            ],
            "text/plain": [
              "<IPython.core.display.HTML object>"
            ]
          },
          "metadata": {},
          "output_type": "display_data"
        },
        {
          "name": "stderr",
          "output_type": "stream",
          "text": [
            "Training GRU-Glove with 30-shot:   0%|          | 0/1000 [00:00<?, ?epoch/s]"
          ]
        },
        {
          "name": "stdout",
          "output_type": "stream",
          "text": [
            "Early stopping triggered at epoch 1\n",
            "Model GRU-Glove_K-30 saved with loss gap > 1.25 or accuracy gap > 10% at epoch 0.\n"
          ]
        },
        {
          "name": "stderr",
          "output_type": "stream",
          "text": [
            "\n",
            "<ipython-input-9-f03193db776b>:44: UserWarning: To copy construct from a tensor, it is recommended to use sourceTensor.clone().detach() or sourceTensor.clone().detach().requires_grad_(True), rather than torch.tensor(sourceTensor).\n",
            "  self.X = torch.tensor(X_data, dtype=torch.long)\n",
            "<ipython-input-9-f03193db776b>:45: UserWarning: To copy construct from a tensor, it is recommended to use sourceTensor.clone().detach() or sourceTensor.clone().detach().requires_grad_(True), rather than torch.tensor(sourceTensor).\n",
            "  self.y = torch.tensor(y_data, dtype=torch.long)\n"
          ]
        },
        {
          "data": {
            "text/html": [],
            "text/plain": [
              "<IPython.core.display.HTML object>"
            ]
          },
          "metadata": {},
          "output_type": "display_data"
        },
        {
          "data": {
            "text/html": [
              "<br>    <style><br>        .wandb-row {<br>            display: flex;<br>            flex-direction: row;<br>            flex-wrap: wrap;<br>            justify-content: flex-start;<br>            width: 100%;<br>        }<br>        .wandb-col {<br>            display: flex;<br>            flex-direction: column;<br>            flex-basis: 100%;<br>            flex: 1;<br>            padding: 10px;<br>        }<br>    </style><br><div class=\"wandb-row\"><div class=\"wandb-col\"><h3>Run history:</h3><br/><table class=\"wandb\"><tr><td>epoch</td><td>▁</td></tr><tr><td>k_shot</td><td>▁</td></tr><tr><td>test_acc</td><td>▁</td></tr><tr><td>test_balanced_acc</td><td>▁</td></tr><tr><td>test_f1</td><td>▁</td></tr><tr><td>test_loss</td><td>▁</td></tr><tr><td>test_precision</td><td>▁</td></tr><tr><td>test_recall</td><td>▁</td></tr><tr><td>train_acc</td><td>▁</td></tr><tr><td>train_loss</td><td>▁</td></tr></table><br/></div><div class=\"wandb-col\"><h3>Run summary:</h3><br/><table class=\"wandb\"><tr><td>epoch</td><td>1</td></tr><tr><td>k_shot</td><td>30</td></tr><tr><td>test_acc</td><td>0.06761</td></tr><tr><td>test_balanced_acc</td><td>0.11071</td></tr><tr><td>test_f1</td><td>0.00894</td></tr><tr><td>test_loss</td><td>2.20802</td></tr><tr><td>test_precision</td><td>0.11876</td></tr><tr><td>test_recall</td><td>0.06761</td></tr><tr><td>train_acc</td><td>0.12593</td></tr><tr><td>train_loss</td><td>2.2849</td></tr></table><br/></div></div>"
            ],
            "text/plain": [
              "<IPython.core.display.HTML object>"
            ]
          },
          "metadata": {},
          "output_type": "display_data"
        },
        {
          "data": {
            "text/html": [
              " View run <strong style=\"color:#cdcd00\">GRU-Glove_K-30_Training</strong> at: <a href='https://wandb.ai/wilfried-mvomoeto-university-of-li-ge/Few-Shot-Training_gru_glove_fastText_Bahdanau-GRU-Glove-/runs/iqj8jv4l' target=\"_blank\">https://wandb.ai/wilfried-mvomoeto-university-of-li-ge/Few-Shot-Training_gru_glove_fastText_Bahdanau-GRU-Glove-/runs/iqj8jv4l</a><br> View project at: <a href='https://wandb.ai/wilfried-mvomoeto-university-of-li-ge/Few-Shot-Training_gru_glove_fastText_Bahdanau-GRU-Glove-' target=\"_blank\">https://wandb.ai/wilfried-mvomoeto-university-of-li-ge/Few-Shot-Training_gru_glove_fastText_Bahdanau-GRU-Glove-</a><br>Synced 5 W&B file(s), 0 media file(s), 0 artifact file(s) and 0 other file(s)"
            ],
            "text/plain": [
              "<IPython.core.display.HTML object>"
            ]
          },
          "metadata": {},
          "output_type": "display_data"
        },
        {
          "data": {
            "text/html": [
              "Find logs at: <code>./wandb/run-20250421_083133-iqj8jv4l/logs</code>"
            ],
            "text/plain": [
              "<IPython.core.display.HTML object>"
            ]
          },
          "metadata": {},
          "output_type": "display_data"
        },
        {
          "data": {
            "text/html": [
              "Tracking run with wandb version 0.19.9"
            ],
            "text/plain": [
              "<IPython.core.display.HTML object>"
            ]
          },
          "metadata": {},
          "output_type": "display_data"
        },
        {
          "data": {
            "text/html": [
              "Run data is saved locally in <code>/content/wandb/run-20250421_083136-rad5he9s</code>"
            ],
            "text/plain": [
              "<IPython.core.display.HTML object>"
            ]
          },
          "metadata": {},
          "output_type": "display_data"
        },
        {
          "data": {
            "text/html": [
              "Syncing run <strong><a href='https://wandb.ai/wilfried-mvomoeto-university-of-li-ge/Few-Shot-Training_gru_glove_fastText_Bahdanau-GRU-FastText-/runs/rad5he9s' target=\"_blank\">GRU-FastText_K-30_Training</a></strong> to <a href='https://wandb.ai/wilfried-mvomoeto-university-of-li-ge/Few-Shot-Training_gru_glove_fastText_Bahdanau-GRU-FastText-' target=\"_blank\">Weights & Biases</a> (<a href='https://wandb.me/developer-guide' target=\"_blank\">docs</a>)<br>"
            ],
            "text/plain": [
              "<IPython.core.display.HTML object>"
            ]
          },
          "metadata": {},
          "output_type": "display_data"
        },
        {
          "data": {
            "text/html": [
              " View project at <a href='https://wandb.ai/wilfried-mvomoeto-university-of-li-ge/Few-Shot-Training_gru_glove_fastText_Bahdanau-GRU-FastText-' target=\"_blank\">https://wandb.ai/wilfried-mvomoeto-university-of-li-ge/Few-Shot-Training_gru_glove_fastText_Bahdanau-GRU-FastText-</a>"
            ],
            "text/plain": [
              "<IPython.core.display.HTML object>"
            ]
          },
          "metadata": {},
          "output_type": "display_data"
        },
        {
          "data": {
            "text/html": [
              " View run at <a href='https://wandb.ai/wilfried-mvomoeto-university-of-li-ge/Few-Shot-Training_gru_glove_fastText_Bahdanau-GRU-FastText-/runs/rad5he9s' target=\"_blank\">https://wandb.ai/wilfried-mvomoeto-university-of-li-ge/Few-Shot-Training_gru_glove_fastText_Bahdanau-GRU-FastText-/runs/rad5he9s</a>"
            ],
            "text/plain": [
              "<IPython.core.display.HTML object>"
            ]
          },
          "metadata": {},
          "output_type": "display_data"
        },
        {
          "name": "stderr",
          "output_type": "stream",
          "text": [
            "GRU-FastText K-30 Epoch 8/1000 - Train Loss: 2.2121, Test Loss: 2.2126, Train Acc: 10.37%, Test Acc: 6.80%, Test F1: 0.93%, Test Balanced Acc: 11.11%, Test Recall: 6.80%, Test Precision: 4.53%, Time: 0.70 sec:   1%|          | 8/1000 [00:06<13:30,  1.22epoch/s]"
          ]
        },
        {
          "name": "stdout",
          "output_type": "stream",
          "text": [
            "Early stopping triggered at epoch 9\n",
            "Model GRU-FastText_K-30 saved with loss gap > 1.25 or accuracy gap > 10% at epoch 8.\n",
            "\n",
            "Training with 50-shot...\n"
          ]
        },
        {
          "name": "stderr",
          "output_type": "stream",
          "text": [
            "\n",
            "<ipython-input-9-f03193db776b>:44: UserWarning: To copy construct from a tensor, it is recommended to use sourceTensor.clone().detach() or sourceTensor.clone().detach().requires_grad_(True), rather than torch.tensor(sourceTensor).\n",
            "  self.X = torch.tensor(X_data, dtype=torch.long)\n",
            "<ipython-input-9-f03193db776b>:45: UserWarning: To copy construct from a tensor, it is recommended to use sourceTensor.clone().detach() or sourceTensor.clone().detach().requires_grad_(True), rather than torch.tensor(sourceTensor).\n",
            "  self.y = torch.tensor(y_data, dtype=torch.long)\n"
          ]
        },
        {
          "data": {
            "text/html": [],
            "text/plain": [
              "<IPython.core.display.HTML object>"
            ]
          },
          "metadata": {},
          "output_type": "display_data"
        },
        {
          "data": {
            "text/html": [
              "<br>    <style><br>        .wandb-row {<br>            display: flex;<br>            flex-direction: row;<br>            flex-wrap: wrap;<br>            justify-content: flex-start;<br>            width: 100%;<br>        }<br>        .wandb-col {<br>            display: flex;<br>            flex-direction: column;<br>            flex-basis: 100%;<br>            flex: 1;<br>            padding: 10px;<br>        }<br>    </style><br><div class=\"wandb-row\"><div class=\"wandb-col\"><h3>Run history:</h3><br/><table class=\"wandb\"><tr><td>epoch</td><td>▁▂▃▄▅▅▆▇█</td></tr><tr><td>k_shot</td><td>▁▁▁▁▁▁▁▁▁</td></tr><tr><td>test_acc</td><td>▁▁▁▁▁▁▁▁█</td></tr><tr><td>test_balanced_acc</td><td>▁▁▁▁▁▁▁▁█</td></tr><tr><td>test_f1</td><td>▁▁▁▁▁▁▁▁█</td></tr><tr><td>test_loss</td><td>█▄▁▃▂▃▄▂▁</td></tr><tr><td>test_precision</td><td>▃▃▃▃▁▁▁▃█</td></tr><tr><td>test_recall</td><td>▁▁▁▁▁▁▁▁█</td></tr><tr><td>train_acc</td><td>▆▅▂▁▁▆▅▄█</td></tr><tr><td>train_loss</td><td>█▇███▁▆▂▁</td></tr></table><br/></div><div class=\"wandb-col\"><h3>Run summary:</h3><br/><table class=\"wandb\"><tr><td>epoch</td><td>9</td></tr><tr><td>k_shot</td><td>30</td></tr><tr><td>test_acc</td><td>0.06813</td></tr><tr><td>test_balanced_acc</td><td>0.11131</td></tr><tr><td>test_f1</td><td>0.00963</td></tr><tr><td>test_loss</td><td>2.20778</td></tr><tr><td>test_precision</td><td>0.0594</td></tr><tr><td>test_recall</td><td>0.06813</td></tr><tr><td>train_acc</td><td>0.12593</td></tr><tr><td>train_loss</td><td>2.20223</td></tr></table><br/></div></div>"
            ],
            "text/plain": [
              "<IPython.core.display.HTML object>"
            ]
          },
          "metadata": {},
          "output_type": "display_data"
        },
        {
          "data": {
            "text/html": [
              " View run <strong style=\"color:#cdcd00\">GRU-FastText_K-30_Training</strong> at: <a href='https://wandb.ai/wilfried-mvomoeto-university-of-li-ge/Few-Shot-Training_gru_glove_fastText_Bahdanau-GRU-FastText-/runs/rad5he9s' target=\"_blank\">https://wandb.ai/wilfried-mvomoeto-university-of-li-ge/Few-Shot-Training_gru_glove_fastText_Bahdanau-GRU-FastText-/runs/rad5he9s</a><br> View project at: <a href='https://wandb.ai/wilfried-mvomoeto-university-of-li-ge/Few-Shot-Training_gru_glove_fastText_Bahdanau-GRU-FastText-' target=\"_blank\">https://wandb.ai/wilfried-mvomoeto-university-of-li-ge/Few-Shot-Training_gru_glove_fastText_Bahdanau-GRU-FastText-</a><br>Synced 5 W&B file(s), 0 media file(s), 0 artifact file(s) and 0 other file(s)"
            ],
            "text/plain": [
              "<IPython.core.display.HTML object>"
            ]
          },
          "metadata": {},
          "output_type": "display_data"
        },
        {
          "data": {
            "text/html": [
              "Find logs at: <code>./wandb/run-20250421_083136-rad5he9s/logs</code>"
            ],
            "text/plain": [
              "<IPython.core.display.HTML object>"
            ]
          },
          "metadata": {},
          "output_type": "display_data"
        },
        {
          "data": {
            "text/html": [
              "Tracking run with wandb version 0.19.9"
            ],
            "text/plain": [
              "<IPython.core.display.HTML object>"
            ]
          },
          "metadata": {},
          "output_type": "display_data"
        },
        {
          "data": {
            "text/html": [
              "Run data is saved locally in <code>/content/wandb/run-20250421_083144-as7fvd40</code>"
            ],
            "text/plain": [
              "<IPython.core.display.HTML object>"
            ]
          },
          "metadata": {},
          "output_type": "display_data"
        },
        {
          "data": {
            "text/html": [
              "Syncing run <strong><a href='https://wandb.ai/wilfried-mvomoeto-university-of-li-ge/Few-Shot-Training_gru_glove_fastText_Bahdanau-GRU-Bah-Glove-/runs/as7fvd40' target=\"_blank\">GRU-Bah-Glove_K-50_Training</a></strong> to <a href='https://wandb.ai/wilfried-mvomoeto-university-of-li-ge/Few-Shot-Training_gru_glove_fastText_Bahdanau-GRU-Bah-Glove-' target=\"_blank\">Weights & Biases</a> (<a href='https://wandb.me/developer-guide' target=\"_blank\">docs</a>)<br>"
            ],
            "text/plain": [
              "<IPython.core.display.HTML object>"
            ]
          },
          "metadata": {},
          "output_type": "display_data"
        },
        {
          "data": {
            "text/html": [
              " View project at <a href='https://wandb.ai/wilfried-mvomoeto-university-of-li-ge/Few-Shot-Training_gru_glove_fastText_Bahdanau-GRU-Bah-Glove-' target=\"_blank\">https://wandb.ai/wilfried-mvomoeto-university-of-li-ge/Few-Shot-Training_gru_glove_fastText_Bahdanau-GRU-Bah-Glove-</a>"
            ],
            "text/plain": [
              "<IPython.core.display.HTML object>"
            ]
          },
          "metadata": {},
          "output_type": "display_data"
        },
        {
          "data": {
            "text/html": [
              " View run at <a href='https://wandb.ai/wilfried-mvomoeto-university-of-li-ge/Few-Shot-Training_gru_glove_fastText_Bahdanau-GRU-Bah-Glove-/runs/as7fvd40' target=\"_blank\">https://wandb.ai/wilfried-mvomoeto-university-of-li-ge/Few-Shot-Training_gru_glove_fastText_Bahdanau-GRU-Bah-Glove-/runs/as7fvd40</a>"
            ],
            "text/plain": [
              "<IPython.core.display.HTML object>"
            ]
          },
          "metadata": {},
          "output_type": "display_data"
        },
        {
          "name": "stderr",
          "output_type": "stream",
          "text": [
            "GRU-Bah-Glove K-50 Epoch 5/1000 - Train Loss: 2.1409, Test Loss: 2.1678, Train Acc: 17.33%, Test Acc: 13.31%, Test F1: 7.61%, Test Balanced Acc: 16.99%, Test Recall: 13.31%, Test Precision: 28.27%, Time: 1.42 sec:   0%|          | 5/1000 [00:08<26:42,  1.61s/epoch]"
          ]
        },
        {
          "name": "stdout",
          "output_type": "stream",
          "text": [
            "Early stopping triggered at epoch 6\n",
            "Model GRU-Bah-Glove_K-50 saved with loss gap > 1.25 or accuracy gap > 10% at epoch 5.\n"
          ]
        },
        {
          "name": "stderr",
          "output_type": "stream",
          "text": [
            "\n",
            "<ipython-input-9-f03193db776b>:44: UserWarning: To copy construct from a tensor, it is recommended to use sourceTensor.clone().detach() or sourceTensor.clone().detach().requires_grad_(True), rather than torch.tensor(sourceTensor).\n",
            "  self.X = torch.tensor(X_data, dtype=torch.long)\n",
            "<ipython-input-9-f03193db776b>:45: UserWarning: To copy construct from a tensor, it is recommended to use sourceTensor.clone().detach() or sourceTensor.clone().detach().requires_grad_(True), rather than torch.tensor(sourceTensor).\n",
            "  self.y = torch.tensor(y_data, dtype=torch.long)\n"
          ]
        },
        {
          "data": {
            "text/html": [],
            "text/plain": [
              "<IPython.core.display.HTML object>"
            ]
          },
          "metadata": {},
          "output_type": "display_data"
        },
        {
          "data": {
            "text/html": [
              "<br>    <style><br>        .wandb-row {<br>            display: flex;<br>            flex-direction: row;<br>            flex-wrap: wrap;<br>            justify-content: flex-start;<br>            width: 100%;<br>        }<br>        .wandb-col {<br>            display: flex;<br>            flex-direction: column;<br>            flex-basis: 100%;<br>            flex: 1;<br>            padding: 10px;<br>        }<br>    </style><br><div class=\"wandb-row\"><div class=\"wandb-col\"><h3>Run history:</h3><br/><table class=\"wandb\"><tr><td>epoch</td><td>▁▂▄▅▇█</td></tr><tr><td>k_shot</td><td>▁▁▁▁▁▁</td></tr><tr><td>test_acc</td><td>▃▅▇█▄▁</td></tr><tr><td>test_balanced_acc</td><td>▁▄▇█▆▄</td></tr><tr><td>test_f1</td><td>▁▄▆██▆</td></tr><tr><td>test_loss</td><td>█▇▅▄▂▁</td></tr><tr><td>test_precision</td><td>▄▁▅▇██</td></tr><tr><td>test_recall</td><td>▃▅▇█▄▁</td></tr><tr><td>train_acc</td><td>▁▁▆▅▇█</td></tr><tr><td>train_loss</td><td>█▄▄▃▁▁</td></tr></table><br/></div><div class=\"wandb-col\"><h3>Run summary:</h3><br/><table class=\"wandb\"><tr><td>epoch</td><td>6</td></tr><tr><td>k_shot</td><td>50</td></tr><tr><td>test_acc</td><td>0.11245</td></tr><tr><td>test_balanced_acc</td><td>0.15177</td></tr><tr><td>test_f1</td><td>0.06707</td></tr><tr><td>test_loss</td><td>2.162</td></tr><tr><td>test_precision</td><td>0.27576</td></tr><tr><td>test_recall</td><td>0.11245</td></tr><tr><td>train_acc</td><td>0.18</td></tr><tr><td>train_loss</td><td>2.14333</td></tr></table><br/></div></div>"
            ],
            "text/plain": [
              "<IPython.core.display.HTML object>"
            ]
          },
          "metadata": {},
          "output_type": "display_data"
        },
        {
          "data": {
            "text/html": [
              " View run <strong style=\"color:#cdcd00\">GRU-Bah-Glove_K-50_Training</strong> at: <a href='https://wandb.ai/wilfried-mvomoeto-university-of-li-ge/Few-Shot-Training_gru_glove_fastText_Bahdanau-GRU-Bah-Glove-/runs/as7fvd40' target=\"_blank\">https://wandb.ai/wilfried-mvomoeto-university-of-li-ge/Few-Shot-Training_gru_glove_fastText_Bahdanau-GRU-Bah-Glove-/runs/as7fvd40</a><br> View project at: <a href='https://wandb.ai/wilfried-mvomoeto-university-of-li-ge/Few-Shot-Training_gru_glove_fastText_Bahdanau-GRU-Bah-Glove-' target=\"_blank\">https://wandb.ai/wilfried-mvomoeto-university-of-li-ge/Few-Shot-Training_gru_glove_fastText_Bahdanau-GRU-Bah-Glove-</a><br>Synced 5 W&B file(s), 0 media file(s), 0 artifact file(s) and 0 other file(s)"
            ],
            "text/plain": [
              "<IPython.core.display.HTML object>"
            ]
          },
          "metadata": {},
          "output_type": "display_data"
        },
        {
          "data": {
            "text/html": [
              "Find logs at: <code>./wandb/run-20250421_083144-as7fvd40/logs</code>"
            ],
            "text/plain": [
              "<IPython.core.display.HTML object>"
            ]
          },
          "metadata": {},
          "output_type": "display_data"
        },
        {
          "data": {
            "text/html": [
              "Tracking run with wandb version 0.19.9"
            ],
            "text/plain": [
              "<IPython.core.display.HTML object>"
            ]
          },
          "metadata": {},
          "output_type": "display_data"
        },
        {
          "data": {
            "text/html": [
              "Run data is saved locally in <code>/content/wandb/run-20250421_083153-ceq72wj8</code>"
            ],
            "text/plain": [
              "<IPython.core.display.HTML object>"
            ]
          },
          "metadata": {},
          "output_type": "display_data"
        },
        {
          "data": {
            "text/html": [
              "Syncing run <strong><a href='https://wandb.ai/wilfried-mvomoeto-university-of-li-ge/Few-Shot-Training_gru_glove_fastText_Bahdanau-GRU-Bah-FastText-/runs/ceq72wj8' target=\"_blank\">GRU-Bah-FastText_K-50_Training</a></strong> to <a href='https://wandb.ai/wilfried-mvomoeto-university-of-li-ge/Few-Shot-Training_gru_glove_fastText_Bahdanau-GRU-Bah-FastText-' target=\"_blank\">Weights & Biases</a> (<a href='https://wandb.me/developer-guide' target=\"_blank\">docs</a>)<br>"
            ],
            "text/plain": [
              "<IPython.core.display.HTML object>"
            ]
          },
          "metadata": {},
          "output_type": "display_data"
        },
        {
          "data": {
            "text/html": [
              " View project at <a href='https://wandb.ai/wilfried-mvomoeto-university-of-li-ge/Few-Shot-Training_gru_glove_fastText_Bahdanau-GRU-Bah-FastText-' target=\"_blank\">https://wandb.ai/wilfried-mvomoeto-university-of-li-ge/Few-Shot-Training_gru_glove_fastText_Bahdanau-GRU-Bah-FastText-</a>"
            ],
            "text/plain": [
              "<IPython.core.display.HTML object>"
            ]
          },
          "metadata": {},
          "output_type": "display_data"
        },
        {
          "data": {
            "text/html": [
              " View run at <a href='https://wandb.ai/wilfried-mvomoeto-university-of-li-ge/Few-Shot-Training_gru_glove_fastText_Bahdanau-GRU-Bah-FastText-/runs/ceq72wj8' target=\"_blank\">https://wandb.ai/wilfried-mvomoeto-university-of-li-ge/Few-Shot-Training_gru_glove_fastText_Bahdanau-GRU-Bah-FastText-/runs/ceq72wj8</a>"
            ],
            "text/plain": [
              "<IPython.core.display.HTML object>"
            ]
          },
          "metadata": {},
          "output_type": "display_data"
        },
        {
          "name": "stderr",
          "output_type": "stream",
          "text": [
            "GRU-Bah-FastText K-50 Epoch 3/1000 - Train Loss: 2.1898, Test Loss: 2.1868, Train Acc: 10.89%, Test Acc: 12.09%, Test F1: 7.41%, Test Balanced Acc: 15.01%, Test Recall: 12.09%, Test Precision: 16.55%, Time: 1.27 sec:   0%|          | 3/1000 [00:05<28:38,  1.72s/epoch]"
          ]
        },
        {
          "name": "stdout",
          "output_type": "stream",
          "text": [
            "Early stopping triggered at epoch 4\n",
            "Model GRU-Bah-FastText_K-50 saved with loss gap > 1.25 or accuracy gap > 10% at epoch 3.\n"
          ]
        },
        {
          "name": "stderr",
          "output_type": "stream",
          "text": [
            "\n",
            "<ipython-input-9-f03193db776b>:44: UserWarning: To copy construct from a tensor, it is recommended to use sourceTensor.clone().detach() or sourceTensor.clone().detach().requires_grad_(True), rather than torch.tensor(sourceTensor).\n",
            "  self.X = torch.tensor(X_data, dtype=torch.long)\n",
            "<ipython-input-9-f03193db776b>:45: UserWarning: To copy construct from a tensor, it is recommended to use sourceTensor.clone().detach() or sourceTensor.clone().detach().requires_grad_(True), rather than torch.tensor(sourceTensor).\n",
            "  self.y = torch.tensor(y_data, dtype=torch.long)\n"
          ]
        },
        {
          "data": {
            "text/html": [],
            "text/plain": [
              "<IPython.core.display.HTML object>"
            ]
          },
          "metadata": {},
          "output_type": "display_data"
        },
        {
          "data": {
            "text/html": [
              "<br>    <style><br>        .wandb-row {<br>            display: flex;<br>            flex-direction: row;<br>            flex-wrap: wrap;<br>            justify-content: flex-start;<br>            width: 100%;<br>        }<br>        .wandb-col {<br>            display: flex;<br>            flex-direction: column;<br>            flex-basis: 100%;<br>            flex: 1;<br>            padding: 10px;<br>        }<br>    </style><br><div class=\"wandb-row\"><div class=\"wandb-col\"><h3>Run history:</h3><br/><table class=\"wandb\"><tr><td>epoch</td><td>▁▃▆█</td></tr><tr><td>k_shot</td><td>▁▁▁▁</td></tr><tr><td>test_acc</td><td>▁▅█▇</td></tr><tr><td>test_balanced_acc</td><td>▁▃▇█</td></tr><tr><td>test_f1</td><td>▁▆█▇</td></tr><tr><td>test_loss</td><td>█▆▄▁</td></tr><tr><td>test_precision</td><td>▁▄▄█</td></tr><tr><td>test_recall</td><td>▁▅█▇</td></tr><tr><td>train_acc</td><td>▂▂▁█</td></tr><tr><td>train_loss</td><td>█▂▂▁</td></tr></table><br/></div><div class=\"wandb-col\"><h3>Run summary:</h3><br/><table class=\"wandb\"><tr><td>epoch</td><td>4</td></tr><tr><td>k_shot</td><td>50</td></tr><tr><td>test_acc</td><td>0.11728</td></tr><tr><td>test_balanced_acc</td><td>0.15369</td></tr><tr><td>test_f1</td><td>0.07097</td></tr><tr><td>test_loss</td><td>2.18092</td></tr><tr><td>test_precision</td><td>0.24379</td></tr><tr><td>test_recall</td><td>0.11728</td></tr><tr><td>train_acc</td><td>0.17556</td></tr><tr><td>train_loss</td><td>2.16786</td></tr></table><br/></div></div>"
            ],
            "text/plain": [
              "<IPython.core.display.HTML object>"
            ]
          },
          "metadata": {},
          "output_type": "display_data"
        },
        {
          "data": {
            "text/html": [
              " View run <strong style=\"color:#cdcd00\">GRU-Bah-FastText_K-50_Training</strong> at: <a href='https://wandb.ai/wilfried-mvomoeto-university-of-li-ge/Few-Shot-Training_gru_glove_fastText_Bahdanau-GRU-Bah-FastText-/runs/ceq72wj8' target=\"_blank\">https://wandb.ai/wilfried-mvomoeto-university-of-li-ge/Few-Shot-Training_gru_glove_fastText_Bahdanau-GRU-Bah-FastText-/runs/ceq72wj8</a><br> View project at: <a href='https://wandb.ai/wilfried-mvomoeto-university-of-li-ge/Few-Shot-Training_gru_glove_fastText_Bahdanau-GRU-Bah-FastText-' target=\"_blank\">https://wandb.ai/wilfried-mvomoeto-university-of-li-ge/Few-Shot-Training_gru_glove_fastText_Bahdanau-GRU-Bah-FastText-</a><br>Synced 5 W&B file(s), 0 media file(s), 0 artifact file(s) and 0 other file(s)"
            ],
            "text/plain": [
              "<IPython.core.display.HTML object>"
            ]
          },
          "metadata": {},
          "output_type": "display_data"
        },
        {
          "data": {
            "text/html": [
              "Find logs at: <code>./wandb/run-20250421_083153-ceq72wj8/logs</code>"
            ],
            "text/plain": [
              "<IPython.core.display.HTML object>"
            ]
          },
          "metadata": {},
          "output_type": "display_data"
        },
        {
          "data": {
            "text/html": [
              "Tracking run with wandb version 0.19.9"
            ],
            "text/plain": [
              "<IPython.core.display.HTML object>"
            ]
          },
          "metadata": {},
          "output_type": "display_data"
        },
        {
          "data": {
            "text/html": [
              "Run data is saved locally in <code>/content/wandb/run-20250421_083200-vj9rz5qm</code>"
            ],
            "text/plain": [
              "<IPython.core.display.HTML object>"
            ]
          },
          "metadata": {},
          "output_type": "display_data"
        },
        {
          "data": {
            "text/html": [
              "Syncing run <strong><a href='https://wandb.ai/wilfried-mvomoeto-university-of-li-ge/Few-Shot-Training_gru_glove_fastText_Bahdanau-CNN_LSTM-/runs/vj9rz5qm' target=\"_blank\">CNN_LSTM_K-50_Training</a></strong> to <a href='https://wandb.ai/wilfried-mvomoeto-university-of-li-ge/Few-Shot-Training_gru_glove_fastText_Bahdanau-CNN_LSTM-' target=\"_blank\">Weights & Biases</a> (<a href='https://wandb.me/developer-guide' target=\"_blank\">docs</a>)<br>"
            ],
            "text/plain": [
              "<IPython.core.display.HTML object>"
            ]
          },
          "metadata": {},
          "output_type": "display_data"
        },
        {
          "data": {
            "text/html": [
              " View project at <a href='https://wandb.ai/wilfried-mvomoeto-university-of-li-ge/Few-Shot-Training_gru_glove_fastText_Bahdanau-CNN_LSTM-' target=\"_blank\">https://wandb.ai/wilfried-mvomoeto-university-of-li-ge/Few-Shot-Training_gru_glove_fastText_Bahdanau-CNN_LSTM-</a>"
            ],
            "text/plain": [
              "<IPython.core.display.HTML object>"
            ]
          },
          "metadata": {},
          "output_type": "display_data"
        },
        {
          "data": {
            "text/html": [
              " View run at <a href='https://wandb.ai/wilfried-mvomoeto-university-of-li-ge/Few-Shot-Training_gru_glove_fastText_Bahdanau-CNN_LSTM-/runs/vj9rz5qm' target=\"_blank\">https://wandb.ai/wilfried-mvomoeto-university-of-li-ge/Few-Shot-Training_gru_glove_fastText_Bahdanau-CNN_LSTM-/runs/vj9rz5qm</a>"
            ],
            "text/plain": [
              "<IPython.core.display.HTML object>"
            ]
          },
          "metadata": {},
          "output_type": "display_data"
        },
        {
          "name": "stderr",
          "output_type": "stream",
          "text": [
            "CNN_LSTM K-50 Epoch 1/1000 - Train Loss: 2.2177, Test Loss: 2.2307, Train Acc: 10.00%, Test Acc: 6.78%, Test F1: 0.86%, Test Balanced Acc: 11.11%, Test Recall: 6.78%, Test Precision: 0.46%, Time: 1.00 sec:   0%|          | 1/1000 [00:02<34:02,  2.04s/epoch]"
          ]
        },
        {
          "name": "stdout",
          "output_type": "stream",
          "text": [
            "Early stopping triggered at epoch 2\n",
            "Model CNN_LSTM_K-50 saved with loss gap > 1.25 or accuracy gap > 10% at epoch 1.\n"
          ]
        },
        {
          "name": "stderr",
          "output_type": "stream",
          "text": [
            "\n",
            "<ipython-input-9-f03193db776b>:44: UserWarning: To copy construct from a tensor, it is recommended to use sourceTensor.clone().detach() or sourceTensor.clone().detach().requires_grad_(True), rather than torch.tensor(sourceTensor).\n",
            "  self.X = torch.tensor(X_data, dtype=torch.long)\n",
            "<ipython-input-9-f03193db776b>:45: UserWarning: To copy construct from a tensor, it is recommended to use sourceTensor.clone().detach() or sourceTensor.clone().detach().requires_grad_(True), rather than torch.tensor(sourceTensor).\n",
            "  self.y = torch.tensor(y_data, dtype=torch.long)\n"
          ]
        },
        {
          "data": {
            "text/html": [],
            "text/plain": [
              "<IPython.core.display.HTML object>"
            ]
          },
          "metadata": {},
          "output_type": "display_data"
        },
        {
          "data": {
            "text/html": [
              "<br>    <style><br>        .wandb-row {<br>            display: flex;<br>            flex-direction: row;<br>            flex-wrap: wrap;<br>            justify-content: flex-start;<br>            width: 100%;<br>        }<br>        .wandb-col {<br>            display: flex;<br>            flex-direction: column;<br>            flex-basis: 100%;<br>            flex: 1;<br>            padding: 10px;<br>        }<br>    </style><br><div class=\"wandb-row\"><div class=\"wandb-col\"><h3>Run history:</h3><br/><table class=\"wandb\"><tr><td>epoch</td><td>▁█</td></tr><tr><td>k_shot</td><td>▁▁</td></tr><tr><td>test_acc</td><td>▁▁</td></tr><tr><td>test_balanced_acc</td><td>▁▁</td></tr><tr><td>test_f1</td><td>▁▁</td></tr><tr><td>test_loss</td><td>█▁</td></tr><tr><td>test_precision</td><td>▁▁</td></tr><tr><td>test_recall</td><td>▁▁</td></tr><tr><td>train_acc</td><td>▁█</td></tr><tr><td>train_loss</td><td>█▁</td></tr></table><br/></div><div class=\"wandb-col\"><h3>Run summary:</h3><br/><table class=\"wandb\"><tr><td>epoch</td><td>2</td></tr><tr><td>k_shot</td><td>50</td></tr><tr><td>test_acc</td><td>0.06778</td></tr><tr><td>test_balanced_acc</td><td>0.11111</td></tr><tr><td>test_f1</td><td>0.00861</td></tr><tr><td>test_loss</td><td>2.22471</td></tr><tr><td>test_precision</td><td>0.00459</td></tr><tr><td>test_recall</td><td>0.06778</td></tr><tr><td>train_acc</td><td>0.12</td></tr><tr><td>train_loss</td><td>2.18265</td></tr></table><br/></div></div>"
            ],
            "text/plain": [
              "<IPython.core.display.HTML object>"
            ]
          },
          "metadata": {},
          "output_type": "display_data"
        },
        {
          "data": {
            "text/html": [
              " View run <strong style=\"color:#cdcd00\">CNN_LSTM_K-50_Training</strong> at: <a href='https://wandb.ai/wilfried-mvomoeto-university-of-li-ge/Few-Shot-Training_gru_glove_fastText_Bahdanau-CNN_LSTM-/runs/vj9rz5qm' target=\"_blank\">https://wandb.ai/wilfried-mvomoeto-university-of-li-ge/Few-Shot-Training_gru_glove_fastText_Bahdanau-CNN_LSTM-/runs/vj9rz5qm</a><br> View project at: <a href='https://wandb.ai/wilfried-mvomoeto-university-of-li-ge/Few-Shot-Training_gru_glove_fastText_Bahdanau-CNN_LSTM-' target=\"_blank\">https://wandb.ai/wilfried-mvomoeto-university-of-li-ge/Few-Shot-Training_gru_glove_fastText_Bahdanau-CNN_LSTM-</a><br>Synced 5 W&B file(s), 0 media file(s), 0 artifact file(s) and 0 other file(s)"
            ],
            "text/plain": [
              "<IPython.core.display.HTML object>"
            ]
          },
          "metadata": {},
          "output_type": "display_data"
        },
        {
          "data": {
            "text/html": [
              "Find logs at: <code>./wandb/run-20250421_083200-vj9rz5qm/logs</code>"
            ],
            "text/plain": [
              "<IPython.core.display.HTML object>"
            ]
          },
          "metadata": {},
          "output_type": "display_data"
        },
        {
          "data": {
            "text/html": [
              "Tracking run with wandb version 0.19.9"
            ],
            "text/plain": [
              "<IPython.core.display.HTML object>"
            ]
          },
          "metadata": {},
          "output_type": "display_data"
        },
        {
          "data": {
            "text/html": [
              "Run data is saved locally in <code>/content/wandb/run-20250421_083204-ihp1kjxr</code>"
            ],
            "text/plain": [
              "<IPython.core.display.HTML object>"
            ]
          },
          "metadata": {},
          "output_type": "display_data"
        },
        {
          "data": {
            "text/html": [
              "Syncing run <strong><a href='https://wandb.ai/wilfried-mvomoeto-university-of-li-ge/Few-Shot-Training_gru_glove_fastText_Bahdanau-GRU-Glove-/runs/ihp1kjxr' target=\"_blank\">GRU-Glove_K-50_Training</a></strong> to <a href='https://wandb.ai/wilfried-mvomoeto-university-of-li-ge/Few-Shot-Training_gru_glove_fastText_Bahdanau-GRU-Glove-' target=\"_blank\">Weights & Biases</a> (<a href='https://wandb.me/developer-guide' target=\"_blank\">docs</a>)<br>"
            ],
            "text/plain": [
              "<IPython.core.display.HTML object>"
            ]
          },
          "metadata": {},
          "output_type": "display_data"
        },
        {
          "data": {
            "text/html": [
              " View project at <a href='https://wandb.ai/wilfried-mvomoeto-university-of-li-ge/Few-Shot-Training_gru_glove_fastText_Bahdanau-GRU-Glove-' target=\"_blank\">https://wandb.ai/wilfried-mvomoeto-university-of-li-ge/Few-Shot-Training_gru_glove_fastText_Bahdanau-GRU-Glove-</a>"
            ],
            "text/plain": [
              "<IPython.core.display.HTML object>"
            ]
          },
          "metadata": {},
          "output_type": "display_data"
        },
        {
          "data": {
            "text/html": [
              " View run at <a href='https://wandb.ai/wilfried-mvomoeto-university-of-li-ge/Few-Shot-Training_gru_glove_fastText_Bahdanau-GRU-Glove-/runs/ihp1kjxr' target=\"_blank\">https://wandb.ai/wilfried-mvomoeto-university-of-li-ge/Few-Shot-Training_gru_glove_fastText_Bahdanau-GRU-Glove-/runs/ihp1kjxr</a>"
            ],
            "text/plain": [
              "<IPython.core.display.HTML object>"
            ]
          },
          "metadata": {},
          "output_type": "display_data"
        },
        {
          "name": "stderr",
          "output_type": "stream",
          "text": [
            "GRU-Glove K-50 Epoch 2/1000 - Train Loss: 2.2706, Test Loss: 2.2474, Train Acc: 9.56%, Test Acc: 10.45%, Test F1: 2.05%, Test Balanced Acc: 11.11%, Test Recall: 10.45%, Test Precision: 1.58%, Time: 0.77 sec:   0%|          | 2/1000 [00:02<20:40,  1.24s/epoch]"
          ]
        },
        {
          "name": "stdout",
          "output_type": "stream",
          "text": [
            "Early stopping triggered at epoch 3\n",
            "Model GRU-Glove_K-50 saved with loss gap > 1.25 or accuracy gap > 10% at epoch 2.\n"
          ]
        },
        {
          "name": "stderr",
          "output_type": "stream",
          "text": [
            "\n",
            "<ipython-input-9-f03193db776b>:44: UserWarning: To copy construct from a tensor, it is recommended to use sourceTensor.clone().detach() or sourceTensor.clone().detach().requires_grad_(True), rather than torch.tensor(sourceTensor).\n",
            "  self.X = torch.tensor(X_data, dtype=torch.long)\n",
            "<ipython-input-9-f03193db776b>:45: UserWarning: To copy construct from a tensor, it is recommended to use sourceTensor.clone().detach() or sourceTensor.clone().detach().requires_grad_(True), rather than torch.tensor(sourceTensor).\n",
            "  self.y = torch.tensor(y_data, dtype=torch.long)\n"
          ]
        },
        {
          "data": {
            "text/html": [],
            "text/plain": [
              "<IPython.core.display.HTML object>"
            ]
          },
          "metadata": {},
          "output_type": "display_data"
        },
        {
          "data": {
            "text/html": [
              "<br>    <style><br>        .wandb-row {<br>            display: flex;<br>            flex-direction: row;<br>            flex-wrap: wrap;<br>            justify-content: flex-start;<br>            width: 100%;<br>        }<br>        .wandb-col {<br>            display: flex;<br>            flex-direction: column;<br>            flex-basis: 100%;<br>            flex: 1;<br>            padding: 10px;<br>        }<br>    </style><br><div class=\"wandb-row\"><div class=\"wandb-col\"><h3>Run history:</h3><br/><table class=\"wandb\"><tr><td>epoch</td><td>▁▅█</td></tr><tr><td>k_shot</td><td>▁▁▁</td></tr><tr><td>test_acc</td><td>█▆▁</td></tr><tr><td>test_balanced_acc</td><td>▁█▂</td></tr><tr><td>test_f1</td><td>█▆▁</td></tr><tr><td>test_loss</td><td>▁▇█</td></tr><tr><td>test_precision</td><td>██▁</td></tr><tr><td>test_recall</td><td>█▆▁</td></tr><tr><td>train_acc</td><td>█▁▆</td></tr><tr><td>train_loss</td><td>▁▃█</td></tr></table><br/></div><div class=\"wandb-col\"><h3>Run summary:</h3><br/><table class=\"wandb\"><tr><td>epoch</td><td>3</td></tr><tr><td>k_shot</td><td>50</td></tr><tr><td>test_acc</td><td>0.06744</td></tr><tr><td>test_balanced_acc</td><td>0.11055</td></tr><tr><td>test_f1</td><td>0.00859</td></tr><tr><td>test_loss</td><td>2.25101</td></tr><tr><td>test_precision</td><td>0.00459</td></tr><tr><td>test_recall</td><td>0.06744</td></tr><tr><td>train_acc</td><td>0.12667</td></tr><tr><td>train_loss</td><td>2.27885</td></tr></table><br/></div></div>"
            ],
            "text/plain": [
              "<IPython.core.display.HTML object>"
            ]
          },
          "metadata": {},
          "output_type": "display_data"
        },
        {
          "data": {
            "text/html": [
              " View run <strong style=\"color:#cdcd00\">GRU-Glove_K-50_Training</strong> at: <a href='https://wandb.ai/wilfried-mvomoeto-university-of-li-ge/Few-Shot-Training_gru_glove_fastText_Bahdanau-GRU-Glove-/runs/ihp1kjxr' target=\"_blank\">https://wandb.ai/wilfried-mvomoeto-university-of-li-ge/Few-Shot-Training_gru_glove_fastText_Bahdanau-GRU-Glove-/runs/ihp1kjxr</a><br> View project at: <a href='https://wandb.ai/wilfried-mvomoeto-university-of-li-ge/Few-Shot-Training_gru_glove_fastText_Bahdanau-GRU-Glove-' target=\"_blank\">https://wandb.ai/wilfried-mvomoeto-university-of-li-ge/Few-Shot-Training_gru_glove_fastText_Bahdanau-GRU-Glove-</a><br>Synced 5 W&B file(s), 0 media file(s), 0 artifact file(s) and 0 other file(s)"
            ],
            "text/plain": [
              "<IPython.core.display.HTML object>"
            ]
          },
          "metadata": {},
          "output_type": "display_data"
        },
        {
          "data": {
            "text/html": [
              "Find logs at: <code>./wandb/run-20250421_083204-ihp1kjxr/logs</code>"
            ],
            "text/plain": [
              "<IPython.core.display.HTML object>"
            ]
          },
          "metadata": {},
          "output_type": "display_data"
        },
        {
          "data": {
            "text/html": [
              "Tracking run with wandb version 0.19.9"
            ],
            "text/plain": [
              "<IPython.core.display.HTML object>"
            ]
          },
          "metadata": {},
          "output_type": "display_data"
        },
        {
          "data": {
            "text/html": [
              "Run data is saved locally in <code>/content/wandb/run-20250421_083208-38b1yqxd</code>"
            ],
            "text/plain": [
              "<IPython.core.display.HTML object>"
            ]
          },
          "metadata": {},
          "output_type": "display_data"
        },
        {
          "data": {
            "text/html": [
              "Syncing run <strong><a href='https://wandb.ai/wilfried-mvomoeto-university-of-li-ge/Few-Shot-Training_gru_glove_fastText_Bahdanau-GRU-FastText-/runs/38b1yqxd' target=\"_blank\">GRU-FastText_K-50_Training</a></strong> to <a href='https://wandb.ai/wilfried-mvomoeto-university-of-li-ge/Few-Shot-Training_gru_glove_fastText_Bahdanau-GRU-FastText-' target=\"_blank\">Weights & Biases</a> (<a href='https://wandb.me/developer-guide' target=\"_blank\">docs</a>)<br>"
            ],
            "text/plain": [
              "<IPython.core.display.HTML object>"
            ]
          },
          "metadata": {},
          "output_type": "display_data"
        },
        {
          "data": {
            "text/html": [
              " View project at <a href='https://wandb.ai/wilfried-mvomoeto-university-of-li-ge/Few-Shot-Training_gru_glove_fastText_Bahdanau-GRU-FastText-' target=\"_blank\">https://wandb.ai/wilfried-mvomoeto-university-of-li-ge/Few-Shot-Training_gru_glove_fastText_Bahdanau-GRU-FastText-</a>"
            ],
            "text/plain": [
              "<IPython.core.display.HTML object>"
            ]
          },
          "metadata": {},
          "output_type": "display_data"
        },
        {
          "data": {
            "text/html": [
              " View run at <a href='https://wandb.ai/wilfried-mvomoeto-university-of-li-ge/Few-Shot-Training_gru_glove_fastText_Bahdanau-GRU-FastText-/runs/38b1yqxd' target=\"_blank\">https://wandb.ai/wilfried-mvomoeto-university-of-li-ge/Few-Shot-Training_gru_glove_fastText_Bahdanau-GRU-FastText-/runs/38b1yqxd</a>"
            ],
            "text/plain": [
              "<IPython.core.display.HTML object>"
            ]
          },
          "metadata": {},
          "output_type": "display_data"
        },
        {
          "name": "stderr",
          "output_type": "stream",
          "text": [
            "GRU-FastText K-50 Epoch 2/1000 - Train Loss: 2.2647, Test Loss: 2.2433, Train Acc: 11.33%, Test Acc: 11.64%, Test F1: 2.58%, Test Balanced Acc: 11.19%, Test Recall: 11.64%, Test Precision: 23.80%, Time: 0.78 sec:   0%|          | 2/1000 [00:02<20:25,  1.23s/epoch]"
          ]
        },
        {
          "name": "stdout",
          "output_type": "stream",
          "text": [
            "Early stopping triggered at epoch 3\n",
            "Model GRU-FastText_K-50 saved with loss gap > 1.25 or accuracy gap > 10% at epoch 2.\n",
            "\n",
            "Training with 60-shot...\n"
          ]
        },
        {
          "name": "stderr",
          "output_type": "stream",
          "text": [
            "\n",
            "<ipython-input-9-f03193db776b>:44: UserWarning: To copy construct from a tensor, it is recommended to use sourceTensor.clone().detach() or sourceTensor.clone().detach().requires_grad_(True), rather than torch.tensor(sourceTensor).\n",
            "  self.X = torch.tensor(X_data, dtype=torch.long)\n",
            "<ipython-input-9-f03193db776b>:45: UserWarning: To copy construct from a tensor, it is recommended to use sourceTensor.clone().detach() or sourceTensor.clone().detach().requires_grad_(True), rather than torch.tensor(sourceTensor).\n",
            "  self.y = torch.tensor(y_data, dtype=torch.long)\n"
          ]
        },
        {
          "data": {
            "text/html": [],
            "text/plain": [
              "<IPython.core.display.HTML object>"
            ]
          },
          "metadata": {},
          "output_type": "display_data"
        },
        {
          "data": {
            "text/html": [
              "<br>    <style><br>        .wandb-row {<br>            display: flex;<br>            flex-direction: row;<br>            flex-wrap: wrap;<br>            justify-content: flex-start;<br>            width: 100%;<br>        }<br>        .wandb-col {<br>            display: flex;<br>            flex-direction: column;<br>            flex-basis: 100%;<br>            flex: 1;<br>            padding: 10px;<br>        }<br>    </style><br><div class=\"wandb-row\"><div class=\"wandb-col\"><h3>Run history:</h3><br/><table class=\"wandb\"><tr><td>epoch</td><td>▁▅█</td></tr><tr><td>k_shot</td><td>▁▁▁</td></tr><tr><td>test_acc</td><td>▁█▁</td></tr><tr><td>test_balanced_acc</td><td>▃█▁</td></tr><tr><td>test_f1</td><td>▁█▁</td></tr><tr><td>test_loss</td><td>█▅▁</td></tr><tr><td>test_precision</td><td>█▁█</td></tr><tr><td>test_recall</td><td>▁█▁</td></tr><tr><td>train_acc</td><td>▁▅█</td></tr><tr><td>train_loss</td><td>█▅▁</td></tr></table><br/></div><div class=\"wandb-col\"><h3>Run summary:</h3><br/><table class=\"wandb\"><tr><td>epoch</td><td>3</td></tr><tr><td>k_shot</td><td>50</td></tr><tr><td>test_acc</td><td>0.06813</td></tr><tr><td>test_balanced_acc</td><td>0.11119</td></tr><tr><td>test_f1</td><td>0.00996</td></tr><tr><td>test_loss</td><td>2.2263</td></tr><tr><td>test_precision</td><td>0.32614</td></tr><tr><td>test_recall</td><td>0.06813</td></tr><tr><td>train_acc</td><td>0.12222</td></tr><tr><td>train_loss</td><td>2.23171</td></tr></table><br/></div></div>"
            ],
            "text/plain": [
              "<IPython.core.display.HTML object>"
            ]
          },
          "metadata": {},
          "output_type": "display_data"
        },
        {
          "data": {
            "text/html": [
              " View run <strong style=\"color:#cdcd00\">GRU-FastText_K-50_Training</strong> at: <a href='https://wandb.ai/wilfried-mvomoeto-university-of-li-ge/Few-Shot-Training_gru_glove_fastText_Bahdanau-GRU-FastText-/runs/38b1yqxd' target=\"_blank\">https://wandb.ai/wilfried-mvomoeto-university-of-li-ge/Few-Shot-Training_gru_glove_fastText_Bahdanau-GRU-FastText-/runs/38b1yqxd</a><br> View project at: <a href='https://wandb.ai/wilfried-mvomoeto-university-of-li-ge/Few-Shot-Training_gru_glove_fastText_Bahdanau-GRU-FastText-' target=\"_blank\">https://wandb.ai/wilfried-mvomoeto-university-of-li-ge/Few-Shot-Training_gru_glove_fastText_Bahdanau-GRU-FastText-</a><br>Synced 5 W&B file(s), 0 media file(s), 0 artifact file(s) and 0 other file(s)"
            ],
            "text/plain": [
              "<IPython.core.display.HTML object>"
            ]
          },
          "metadata": {},
          "output_type": "display_data"
        },
        {
          "data": {
            "text/html": [
              "Find logs at: <code>./wandb/run-20250421_083208-38b1yqxd/logs</code>"
            ],
            "text/plain": [
              "<IPython.core.display.HTML object>"
            ]
          },
          "metadata": {},
          "output_type": "display_data"
        },
        {
          "data": {
            "text/html": [
              "Tracking run with wandb version 0.19.9"
            ],
            "text/plain": [
              "<IPython.core.display.HTML object>"
            ]
          },
          "metadata": {},
          "output_type": "display_data"
        },
        {
          "data": {
            "text/html": [
              "Run data is saved locally in <code>/content/wandb/run-20250421_083212-rwim9sp9</code>"
            ],
            "text/plain": [
              "<IPython.core.display.HTML object>"
            ]
          },
          "metadata": {},
          "output_type": "display_data"
        },
        {
          "data": {
            "text/html": [
              "Syncing run <strong><a href='https://wandb.ai/wilfried-mvomoeto-university-of-li-ge/Few-Shot-Training_gru_glove_fastText_Bahdanau-GRU-Bah-Glove-/runs/rwim9sp9' target=\"_blank\">GRU-Bah-Glove_K-60_Training</a></strong> to <a href='https://wandb.ai/wilfried-mvomoeto-university-of-li-ge/Few-Shot-Training_gru_glove_fastText_Bahdanau-GRU-Bah-Glove-' target=\"_blank\">Weights & Biases</a> (<a href='https://wandb.me/developer-guide' target=\"_blank\">docs</a>)<br>"
            ],
            "text/plain": [
              "<IPython.core.display.HTML object>"
            ]
          },
          "metadata": {},
          "output_type": "display_data"
        },
        {
          "data": {
            "text/html": [
              " View project at <a href='https://wandb.ai/wilfried-mvomoeto-university-of-li-ge/Few-Shot-Training_gru_glove_fastText_Bahdanau-GRU-Bah-Glove-' target=\"_blank\">https://wandb.ai/wilfried-mvomoeto-university-of-li-ge/Few-Shot-Training_gru_glove_fastText_Bahdanau-GRU-Bah-Glove-</a>"
            ],
            "text/plain": [
              "<IPython.core.display.HTML object>"
            ]
          },
          "metadata": {},
          "output_type": "display_data"
        },
        {
          "data": {
            "text/html": [
              " View run at <a href='https://wandb.ai/wilfried-mvomoeto-university-of-li-ge/Few-Shot-Training_gru_glove_fastText_Bahdanau-GRU-Bah-Glove-/runs/rwim9sp9' target=\"_blank\">https://wandb.ai/wilfried-mvomoeto-university-of-li-ge/Few-Shot-Training_gru_glove_fastText_Bahdanau-GRU-Bah-Glove-/runs/rwim9sp9</a>"
            ],
            "text/plain": [
              "<IPython.core.display.HTML object>"
            ]
          },
          "metadata": {},
          "output_type": "display_data"
        },
        {
          "name": "stderr",
          "output_type": "stream",
          "text": [
            "GRU-Bah-Glove K-60 Epoch 4/1000 - Train Loss: 2.2064, Test Loss: 2.1806, Train Acc: 10.00%, Test Acc: 11.81%, Test F1: 7.29%, Test Balanced Acc: 15.79%, Test Recall: 11.81%, Test Precision: 18.97%, Time: 1.46 sec:   0%|          | 4/1000 [00:07<29:21,  1.77s/epoch]"
          ]
        },
        {
          "name": "stdout",
          "output_type": "stream",
          "text": [
            "Early stopping triggered at epoch 5\n",
            "Model GRU-Bah-Glove_K-60 saved with loss gap > 1.25 or accuracy gap > 10% at epoch 4.\n"
          ]
        },
        {
          "name": "stderr",
          "output_type": "stream",
          "text": [
            "\n",
            "<ipython-input-9-f03193db776b>:44: UserWarning: To copy construct from a tensor, it is recommended to use sourceTensor.clone().detach() or sourceTensor.clone().detach().requires_grad_(True), rather than torch.tensor(sourceTensor).\n",
            "  self.X = torch.tensor(X_data, dtype=torch.long)\n",
            "<ipython-input-9-f03193db776b>:45: UserWarning: To copy construct from a tensor, it is recommended to use sourceTensor.clone().detach() or sourceTensor.clone().detach().requires_grad_(True), rather than torch.tensor(sourceTensor).\n",
            "  self.y = torch.tensor(y_data, dtype=torch.long)\n"
          ]
        },
        {
          "data": {
            "text/html": [],
            "text/plain": [
              "<IPython.core.display.HTML object>"
            ]
          },
          "metadata": {},
          "output_type": "display_data"
        },
        {
          "data": {
            "text/html": [
              "<br>    <style><br>        .wandb-row {<br>            display: flex;<br>            flex-direction: row;<br>            flex-wrap: wrap;<br>            justify-content: flex-start;<br>            width: 100%;<br>        }<br>        .wandb-col {<br>            display: flex;<br>            flex-direction: column;<br>            flex-basis: 100%;<br>            flex: 1;<br>            padding: 10px;<br>        }<br>    </style><br><div class=\"wandb-row\"><div class=\"wandb-col\"><h3>Run history:</h3><br/><table class=\"wandb\"><tr><td>epoch</td><td>▁▃▅▆█</td></tr><tr><td>k_shot</td><td>▁▁▁▁▁</td></tr><tr><td>test_acc</td><td>▁▃▆█▅</td></tr><tr><td>test_balanced_acc</td><td>▁▃▆█▆</td></tr><tr><td>test_f1</td><td>▁▄▆█▅</td></tr><tr><td>test_loss</td><td>█▇▅▃▁</td></tr><tr><td>test_precision</td><td>▁▂▅▇█</td></tr><tr><td>test_recall</td><td>▁▃▆█▅</td></tr><tr><td>train_acc</td><td>▂▂▂▁█</td></tr><tr><td>train_loss</td><td>█▃▂▃▁</td></tr></table><br/></div><div class=\"wandb-col\"><h3>Run summary:</h3><br/><table class=\"wandb\"><tr><td>epoch</td><td>5</td></tr><tr><td>k_shot</td><td>60</td></tr><tr><td>test_acc</td><td>0.10435</td></tr><tr><td>test_balanced_acc</td><td>0.14618</td></tr><tr><td>test_f1</td><td>0.06203</td></tr><tr><td>test_loss</td><td>2.17416</td></tr><tr><td>test_precision</td><td>0.21108</td></tr><tr><td>test_recall</td><td>0.10435</td></tr><tr><td>train_acc</td><td>0.15556</td></tr><tr><td>train_loss</td><td>2.1648</td></tr></table><br/></div></div>"
            ],
            "text/plain": [
              "<IPython.core.display.HTML object>"
            ]
          },
          "metadata": {},
          "output_type": "display_data"
        },
        {
          "data": {
            "text/html": [
              " View run <strong style=\"color:#cdcd00\">GRU-Bah-Glove_K-60_Training</strong> at: <a href='https://wandb.ai/wilfried-mvomoeto-university-of-li-ge/Few-Shot-Training_gru_glove_fastText_Bahdanau-GRU-Bah-Glove-/runs/rwim9sp9' target=\"_blank\">https://wandb.ai/wilfried-mvomoeto-university-of-li-ge/Few-Shot-Training_gru_glove_fastText_Bahdanau-GRU-Bah-Glove-/runs/rwim9sp9</a><br> View project at: <a href='https://wandb.ai/wilfried-mvomoeto-university-of-li-ge/Few-Shot-Training_gru_glove_fastText_Bahdanau-GRU-Bah-Glove-' target=\"_blank\">https://wandb.ai/wilfried-mvomoeto-university-of-li-ge/Few-Shot-Training_gru_glove_fastText_Bahdanau-GRU-Bah-Glove-</a><br>Synced 5 W&B file(s), 0 media file(s), 0 artifact file(s) and 0 other file(s)"
            ],
            "text/plain": [
              "<IPython.core.display.HTML object>"
            ]
          },
          "metadata": {},
          "output_type": "display_data"
        },
        {
          "data": {
            "text/html": [
              "Find logs at: <code>./wandb/run-20250421_083212-rwim9sp9/logs</code>"
            ],
            "text/plain": [
              "<IPython.core.display.HTML object>"
            ]
          },
          "metadata": {},
          "output_type": "display_data"
        },
        {
          "data": {
            "text/html": [
              "Tracking run with wandb version 0.19.9"
            ],
            "text/plain": [
              "<IPython.core.display.HTML object>"
            ]
          },
          "metadata": {},
          "output_type": "display_data"
        },
        {
          "data": {
            "text/html": [
              "Run data is saved locally in <code>/content/wandb/run-20250421_083220-jth5ib9v</code>"
            ],
            "text/plain": [
              "<IPython.core.display.HTML object>"
            ]
          },
          "metadata": {},
          "output_type": "display_data"
        },
        {
          "data": {
            "text/html": [
              "Syncing run <strong><a href='https://wandb.ai/wilfried-mvomoeto-university-of-li-ge/Few-Shot-Training_gru_glove_fastText_Bahdanau-GRU-Bah-FastText-/runs/jth5ib9v' target=\"_blank\">GRU-Bah-FastText_K-60_Training</a></strong> to <a href='https://wandb.ai/wilfried-mvomoeto-university-of-li-ge/Few-Shot-Training_gru_glove_fastText_Bahdanau-GRU-Bah-FastText-' target=\"_blank\">Weights & Biases</a> (<a href='https://wandb.me/developer-guide' target=\"_blank\">docs</a>)<br>"
            ],
            "text/plain": [
              "<IPython.core.display.HTML object>"
            ]
          },
          "metadata": {},
          "output_type": "display_data"
        },
        {
          "data": {
            "text/html": [
              " View project at <a href='https://wandb.ai/wilfried-mvomoeto-university-of-li-ge/Few-Shot-Training_gru_glove_fastText_Bahdanau-GRU-Bah-FastText-' target=\"_blank\">https://wandb.ai/wilfried-mvomoeto-university-of-li-ge/Few-Shot-Training_gru_glove_fastText_Bahdanau-GRU-Bah-FastText-</a>"
            ],
            "text/plain": [
              "<IPython.core.display.HTML object>"
            ]
          },
          "metadata": {},
          "output_type": "display_data"
        },
        {
          "data": {
            "text/html": [
              " View run at <a href='https://wandb.ai/wilfried-mvomoeto-university-of-li-ge/Few-Shot-Training_gru_glove_fastText_Bahdanau-GRU-Bah-FastText-/runs/jth5ib9v' target=\"_blank\">https://wandb.ai/wilfried-mvomoeto-university-of-li-ge/Few-Shot-Training_gru_glove_fastText_Bahdanau-GRU-Bah-FastText-/runs/jth5ib9v</a>"
            ],
            "text/plain": [
              "<IPython.core.display.HTML object>"
            ]
          },
          "metadata": {},
          "output_type": "display_data"
        },
        {
          "name": "stderr",
          "output_type": "stream",
          "text": [
            "GRU-Bah-FastText K-60 Epoch 4/1000 - Train Loss: 2.1673, Test Loss: 2.1771, Train Acc: 13.89%, Test Acc: 11.76%, Test F1: 7.36%, Test Balanced Acc: 15.98%, Test Recall: 11.76%, Test Precision: 22.77%, Time: 1.33 sec:   0%|          | 4/1000 [00:06<27:56,  1.68s/epoch]"
          ]
        },
        {
          "name": "stdout",
          "output_type": "stream",
          "text": [
            "Early stopping triggered at epoch 5\n",
            "Model GRU-Bah-FastText_K-60 saved with loss gap > 1.25 or accuracy gap > 10% at epoch 4.\n"
          ]
        },
        {
          "name": "stderr",
          "output_type": "stream",
          "text": [
            "\n",
            "<ipython-input-9-f03193db776b>:44: UserWarning: To copy construct from a tensor, it is recommended to use sourceTensor.clone().detach() or sourceTensor.clone().detach().requires_grad_(True), rather than torch.tensor(sourceTensor).\n",
            "  self.X = torch.tensor(X_data, dtype=torch.long)\n",
            "<ipython-input-9-f03193db776b>:45: UserWarning: To copy construct from a tensor, it is recommended to use sourceTensor.clone().detach() or sourceTensor.clone().detach().requires_grad_(True), rather than torch.tensor(sourceTensor).\n",
            "  self.y = torch.tensor(y_data, dtype=torch.long)\n"
          ]
        },
        {
          "data": {
            "text/html": [],
            "text/plain": [
              "<IPython.core.display.HTML object>"
            ]
          },
          "metadata": {},
          "output_type": "display_data"
        },
        {
          "data": {
            "text/html": [
              "<br>    <style><br>        .wandb-row {<br>            display: flex;<br>            flex-direction: row;<br>            flex-wrap: wrap;<br>            justify-content: flex-start;<br>            width: 100%;<br>        }<br>        .wandb-col {<br>            display: flex;<br>            flex-direction: column;<br>            flex-basis: 100%;<br>            flex: 1;<br>            padding: 10px;<br>        }<br>    </style><br><div class=\"wandb-row\"><div class=\"wandb-col\"><h3>Run history:</h3><br/><table class=\"wandb\"><tr><td>epoch</td><td>▁▃▅▆█</td></tr><tr><td>k_shot</td><td>▁▁▁▁▁</td></tr><tr><td>test_acc</td><td>▁▅▇█▅</td></tr><tr><td>test_balanced_acc</td><td>▁▅▇█▇</td></tr><tr><td>test_f1</td><td>▁▄▆█▄</td></tr><tr><td>test_loss</td><td>█▇▅▄▁</td></tr><tr><td>test_precision</td><td>▁▁▃▅█</td></tr><tr><td>test_recall</td><td>▁▅▇█▅</td></tr><tr><td>train_acc</td><td>▁▄▃▅█</td></tr><tr><td>train_loss</td><td>█▄▅▂▁</td></tr></table><br/></div><div class=\"wandb-col\"><h3>Run summary:</h3><br/><table class=\"wandb\"><tr><td>epoch</td><td>5</td></tr><tr><td>k_shot</td><td>60</td></tr><tr><td>test_acc</td><td>0.11194</td></tr><tr><td>test_balanced_acc</td><td>0.1546</td></tr><tr><td>test_f1</td><td>0.06978</td></tr><tr><td>test_loss</td><td>2.16389</td></tr><tr><td>test_precision</td><td>0.32338</td></tr><tr><td>test_recall</td><td>0.11194</td></tr><tr><td>train_acc</td><td>0.16667</td></tr><tr><td>train_loss</td><td>2.15248</td></tr></table><br/></div></div>"
            ],
            "text/plain": [
              "<IPython.core.display.HTML object>"
            ]
          },
          "metadata": {},
          "output_type": "display_data"
        },
        {
          "data": {
            "text/html": [
              " View run <strong style=\"color:#cdcd00\">GRU-Bah-FastText_K-60_Training</strong> at: <a href='https://wandb.ai/wilfried-mvomoeto-university-of-li-ge/Few-Shot-Training_gru_glove_fastText_Bahdanau-GRU-Bah-FastText-/runs/jth5ib9v' target=\"_blank\">https://wandb.ai/wilfried-mvomoeto-university-of-li-ge/Few-Shot-Training_gru_glove_fastText_Bahdanau-GRU-Bah-FastText-/runs/jth5ib9v</a><br> View project at: <a href='https://wandb.ai/wilfried-mvomoeto-university-of-li-ge/Few-Shot-Training_gru_glove_fastText_Bahdanau-GRU-Bah-FastText-' target=\"_blank\">https://wandb.ai/wilfried-mvomoeto-university-of-li-ge/Few-Shot-Training_gru_glove_fastText_Bahdanau-GRU-Bah-FastText-</a><br>Synced 5 W&B file(s), 0 media file(s), 0 artifact file(s) and 0 other file(s)"
            ],
            "text/plain": [
              "<IPython.core.display.HTML object>"
            ]
          },
          "metadata": {},
          "output_type": "display_data"
        },
        {
          "data": {
            "text/html": [
              "Find logs at: <code>./wandb/run-20250421_083220-jth5ib9v/logs</code>"
            ],
            "text/plain": [
              "<IPython.core.display.HTML object>"
            ]
          },
          "metadata": {},
          "output_type": "display_data"
        },
        {
          "data": {
            "text/html": [
              "Tracking run with wandb version 0.19.9"
            ],
            "text/plain": [
              "<IPython.core.display.HTML object>"
            ]
          },
          "metadata": {},
          "output_type": "display_data"
        },
        {
          "data": {
            "text/html": [
              "Run data is saved locally in <code>/content/wandb/run-20250421_083228-zkhth34l</code>"
            ],
            "text/plain": [
              "<IPython.core.display.HTML object>"
            ]
          },
          "metadata": {},
          "output_type": "display_data"
        },
        {
          "data": {
            "text/html": [
              "Syncing run <strong><a href='https://wandb.ai/wilfried-mvomoeto-university-of-li-ge/Few-Shot-Training_gru_glove_fastText_Bahdanau-CNN_LSTM-/runs/zkhth34l' target=\"_blank\">CNN_LSTM_K-60_Training</a></strong> to <a href='https://wandb.ai/wilfried-mvomoeto-university-of-li-ge/Few-Shot-Training_gru_glove_fastText_Bahdanau-CNN_LSTM-' target=\"_blank\">Weights & Biases</a> (<a href='https://wandb.me/developer-guide' target=\"_blank\">docs</a>)<br>"
            ],
            "text/plain": [
              "<IPython.core.display.HTML object>"
            ]
          },
          "metadata": {},
          "output_type": "display_data"
        },
        {
          "data": {
            "text/html": [
              " View project at <a href='https://wandb.ai/wilfried-mvomoeto-university-of-li-ge/Few-Shot-Training_gru_glove_fastText_Bahdanau-CNN_LSTM-' target=\"_blank\">https://wandb.ai/wilfried-mvomoeto-university-of-li-ge/Few-Shot-Training_gru_glove_fastText_Bahdanau-CNN_LSTM-</a>"
            ],
            "text/plain": [
              "<IPython.core.display.HTML object>"
            ]
          },
          "metadata": {},
          "output_type": "display_data"
        },
        {
          "data": {
            "text/html": [
              " View run at <a href='https://wandb.ai/wilfried-mvomoeto-university-of-li-ge/Few-Shot-Training_gru_glove_fastText_Bahdanau-CNN_LSTM-/runs/zkhth34l' target=\"_blank\">https://wandb.ai/wilfried-mvomoeto-university-of-li-ge/Few-Shot-Training_gru_glove_fastText_Bahdanau-CNN_LSTM-/runs/zkhth34l</a>"
            ],
            "text/plain": [
              "<IPython.core.display.HTML object>"
            ]
          },
          "metadata": {},
          "output_type": "display_data"
        },
        {
          "name": "stderr",
          "output_type": "stream",
          "text": [
            "CNN_LSTM K-60 Epoch 37/1000 - Train Loss: 2.1570, Test Loss: 2.2224, Train Acc: 11.85%, Test Acc: 6.92%, Test F1: 1.26%, Test Balanced Acc: 11.19%, Test Recall: 6.92%, Test Precision: 6.91%, Time: 0.86 sec:   4%|▎         | 37/1000 [00:35<15:18,  1.05epoch/s]"
          ]
        },
        {
          "name": "stdout",
          "output_type": "stream",
          "text": [
            "Early stopping triggered at epoch 38\n",
            "Model CNN_LSTM_K-60 saved with loss gap > 1.25 or accuracy gap > 10% at epoch 37.\n"
          ]
        },
        {
          "name": "stderr",
          "output_type": "stream",
          "text": [
            "\n",
            "<ipython-input-9-f03193db776b>:44: UserWarning: To copy construct from a tensor, it is recommended to use sourceTensor.clone().detach() or sourceTensor.clone().detach().requires_grad_(True), rather than torch.tensor(sourceTensor).\n",
            "  self.X = torch.tensor(X_data, dtype=torch.long)\n",
            "<ipython-input-9-f03193db776b>:45: UserWarning: To copy construct from a tensor, it is recommended to use sourceTensor.clone().detach() or sourceTensor.clone().detach().requires_grad_(True), rather than torch.tensor(sourceTensor).\n",
            "  self.y = torch.tensor(y_data, dtype=torch.long)\n"
          ]
        },
        {
          "data": {
            "text/html": [],
            "text/plain": [
              "<IPython.core.display.HTML object>"
            ]
          },
          "metadata": {},
          "output_type": "display_data"
        },
        {
          "data": {
            "text/html": [
              "<br>    <style><br>        .wandb-row {<br>            display: flex;<br>            flex-direction: row;<br>            flex-wrap: wrap;<br>            justify-content: flex-start;<br>            width: 100%;<br>        }<br>        .wandb-col {<br>            display: flex;<br>            flex-direction: column;<br>            flex-basis: 100%;<br>            flex: 1;<br>            padding: 10px;<br>        }<br>    </style><br><div class=\"wandb-row\"><div class=\"wandb-col\"><h3>Run history:</h3><br/><table class=\"wandb\"><tr><td>epoch</td><td>▁▁▁▂▂▂▂▂▃▃▃▃▃▃▄▄▄▄▄▅▅▅▅▅▆▆▆▆▆▆▇▇▇▇▇███</td></tr><tr><td>k_shot</td><td>▁▁▁▁▁▁▁▁▁▁▁▁▁▁▁▁▁▁▁▁▁▁▁▁▁▁▁▁▁▁▁▁▁▁▁▁▁▁</td></tr><tr><td>test_acc</td><td>▂▂▂▂▂▂▂▂▂▂▂▂▂▂▂▂▂▂▂▂▁▂▂▂▄▂▂▄▃█▄▄▇▅▇▇▇▇</td></tr><tr><td>test_balanced_acc</td><td>▄▄▄▄▄▄▄▄▄▄▄▄▄▄▄▄▄▄▄▄▁▃▃▄▅▃▃▄▄█▄▄▇▆█▇▇▇</td></tr><tr><td>test_f1</td><td>▁▁▁▁▁▁▁▁▁▁▁▁▁▁▁▁▁▁▁▁▁▁▁▁▂▂▂▄▃█▃▅▇▅▆▇██</td></tr><tr><td>test_loss</td><td>▆▁▂▄▃▅▄▅▅▃▄▃▄▅▄▅▄▅▆▄▂▄▆▄▅▅▅▆▆▇▅█▆▇▆█▇▆</td></tr><tr><td>test_precision</td><td>▁▁▁▁▁▁▁▁▁▁▁▁▁▁▁▁▁▁▁▁█▁▁▁▂▂▂▂▄▄▅▄▅▅▇▅▅▆</td></tr><tr><td>test_recall</td><td>▂▂▂▂▂▂▂▂▂▂▂▂▂▂▂▂▂▂▂▂▁▂▂▂▄▂▂▄▃█▄▄▇▅▇▇▇▇</td></tr><tr><td>train_acc</td><td>▁▂▂▂▂▂▂▂▂▂▂▂▂▂▂▂▂▂▂▂▂▃▃▃▃▅▅▅▅▆▅▆▆▆▆▇▇█</td></tr><tr><td>train_loss</td><td>█▅▅▃▄▃▃▃▃▄▃▃▃▃▃▃▃▃▃▄▃▃▃▄▃▃▂▂▂▃▂▁▂▂▁▁▁▁</td></tr></table><br/></div><div class=\"wandb-col\"><h3>Run summary:</h3><br/><table class=\"wandb\"><tr><td>epoch</td><td>38</td></tr><tr><td>k_shot</td><td>60</td></tr><tr><td>test_acc</td><td>0.06916</td></tr><tr><td>test_balanced_acc</td><td>0.11193</td></tr><tr><td>test_f1</td><td>0.01261</td></tr><tr><td>test_loss</td><td>2.21948</td></tr><tr><td>test_precision</td><td>0.09022</td></tr><tr><td>test_recall</td><td>0.06916</td></tr><tr><td>train_acc</td><td>0.12037</td></tr><tr><td>train_loss</td><td>2.15614</td></tr></table><br/></div></div>"
            ],
            "text/plain": [
              "<IPython.core.display.HTML object>"
            ]
          },
          "metadata": {},
          "output_type": "display_data"
        },
        {
          "data": {
            "text/html": [
              " View run <strong style=\"color:#cdcd00\">CNN_LSTM_K-60_Training</strong> at: <a href='https://wandb.ai/wilfried-mvomoeto-university-of-li-ge/Few-Shot-Training_gru_glove_fastText_Bahdanau-CNN_LSTM-/runs/zkhth34l' target=\"_blank\">https://wandb.ai/wilfried-mvomoeto-university-of-li-ge/Few-Shot-Training_gru_glove_fastText_Bahdanau-CNN_LSTM-/runs/zkhth34l</a><br> View project at: <a href='https://wandb.ai/wilfried-mvomoeto-university-of-li-ge/Few-Shot-Training_gru_glove_fastText_Bahdanau-CNN_LSTM-' target=\"_blank\">https://wandb.ai/wilfried-mvomoeto-university-of-li-ge/Few-Shot-Training_gru_glove_fastText_Bahdanau-CNN_LSTM-</a><br>Synced 5 W&B file(s), 0 media file(s), 0 artifact file(s) and 0 other file(s)"
            ],
            "text/plain": [
              "<IPython.core.display.HTML object>"
            ]
          },
          "metadata": {},
          "output_type": "display_data"
        },
        {
          "data": {
            "text/html": [
              "Find logs at: <code>./wandb/run-20250421_083228-zkhth34l/logs</code>"
            ],
            "text/plain": [
              "<IPython.core.display.HTML object>"
            ]
          },
          "metadata": {},
          "output_type": "display_data"
        },
        {
          "data": {
            "text/html": [
              "Tracking run with wandb version 0.19.9"
            ],
            "text/plain": [
              "<IPython.core.display.HTML object>"
            ]
          },
          "metadata": {},
          "output_type": "display_data"
        },
        {
          "data": {
            "text/html": [
              "Run data is saved locally in <code>/content/wandb/run-20250421_083305-bvw6auiq</code>"
            ],
            "text/plain": [
              "<IPython.core.display.HTML object>"
            ]
          },
          "metadata": {},
          "output_type": "display_data"
        },
        {
          "data": {
            "text/html": [
              "Syncing run <strong><a href='https://wandb.ai/wilfried-mvomoeto-university-of-li-ge/Few-Shot-Training_gru_glove_fastText_Bahdanau-GRU-Glove-/runs/bvw6auiq' target=\"_blank\">GRU-Glove_K-60_Training</a></strong> to <a href='https://wandb.ai/wilfried-mvomoeto-university-of-li-ge/Few-Shot-Training_gru_glove_fastText_Bahdanau-GRU-Glove-' target=\"_blank\">Weights & Biases</a> (<a href='https://wandb.me/developer-guide' target=\"_blank\">docs</a>)<br>"
            ],
            "text/plain": [
              "<IPython.core.display.HTML object>"
            ]
          },
          "metadata": {},
          "output_type": "display_data"
        },
        {
          "data": {
            "text/html": [
              " View project at <a href='https://wandb.ai/wilfried-mvomoeto-university-of-li-ge/Few-Shot-Training_gru_glove_fastText_Bahdanau-GRU-Glove-' target=\"_blank\">https://wandb.ai/wilfried-mvomoeto-university-of-li-ge/Few-Shot-Training_gru_glove_fastText_Bahdanau-GRU-Glove-</a>"
            ],
            "text/plain": [
              "<IPython.core.display.HTML object>"
            ]
          },
          "metadata": {},
          "output_type": "display_data"
        },
        {
          "data": {
            "text/html": [
              " View run at <a href='https://wandb.ai/wilfried-mvomoeto-university-of-li-ge/Few-Shot-Training_gru_glove_fastText_Bahdanau-GRU-Glove-/runs/bvw6auiq' target=\"_blank\">https://wandb.ai/wilfried-mvomoeto-university-of-li-ge/Few-Shot-Training_gru_glove_fastText_Bahdanau-GRU-Glove-/runs/bvw6auiq</a>"
            ],
            "text/plain": [
              "<IPython.core.display.HTML object>"
            ]
          },
          "metadata": {},
          "output_type": "display_data"
        },
        {
          "name": "stderr",
          "output_type": "stream",
          "text": [
            "GRU-Glove K-60 Epoch 3/1000 - Train Loss: 2.2735, Test Loss: 2.2095, Train Acc: 11.67%, Test Acc: 6.73%, Test F1: 0.89%, Test Balanced Acc: 11.01%, Test Recall: 6.73%, Test Precision: 1.61%, Time: 0.82 sec:   0%|          | 3/1000 [00:03<18:56,  1.14s/epoch]"
          ]
        },
        {
          "name": "stdout",
          "output_type": "stream",
          "text": [
            "Early stopping triggered at epoch 4\n",
            "Model GRU-Glove_K-60 saved with loss gap > 1.25 or accuracy gap > 10% at epoch 3.\n"
          ]
        },
        {
          "name": "stderr",
          "output_type": "stream",
          "text": [
            "\n",
            "<ipython-input-9-f03193db776b>:44: UserWarning: To copy construct from a tensor, it is recommended to use sourceTensor.clone().detach() or sourceTensor.clone().detach().requires_grad_(True), rather than torch.tensor(sourceTensor).\n",
            "  self.X = torch.tensor(X_data, dtype=torch.long)\n",
            "<ipython-input-9-f03193db776b>:45: UserWarning: To copy construct from a tensor, it is recommended to use sourceTensor.clone().detach() or sourceTensor.clone().detach().requires_grad_(True), rather than torch.tensor(sourceTensor).\n",
            "  self.y = torch.tensor(y_data, dtype=torch.long)\n"
          ]
        },
        {
          "data": {
            "text/html": [],
            "text/plain": [
              "<IPython.core.display.HTML object>"
            ]
          },
          "metadata": {},
          "output_type": "display_data"
        },
        {
          "data": {
            "text/html": [
              "<br>    <style><br>        .wandb-row {<br>            display: flex;<br>            flex-direction: row;<br>            flex-wrap: wrap;<br>            justify-content: flex-start;<br>            width: 100%;<br>        }<br>        .wandb-col {<br>            display: flex;<br>            flex-direction: column;<br>            flex-basis: 100%;<br>            flex: 1;<br>            padding: 10px;<br>        }<br>    </style><br><div class=\"wandb-row\"><div class=\"wandb-col\"><h3>Run history:</h3><br/><table class=\"wandb\"><tr><td>epoch</td><td>▁▃▆█</td></tr><tr><td>k_shot</td><td>▁▁▁▁</td></tr><tr><td>test_acc</td><td>▅▅▁█</td></tr><tr><td>test_balanced_acc</td><td>▆▇▁█</td></tr><tr><td>test_f1</td><td>▃▁▁█</td></tr><tr><td>test_loss</td><td>█▆▁▂</td></tr><tr><td>test_precision</td><td>▇▁▁█</td></tr><tr><td>test_recall</td><td>▅▅▁█</td></tr><tr><td>train_acc</td><td>▁▃▅█</td></tr><tr><td>train_loss</td><td>▆█▇▁</td></tr></table><br/></div><div class=\"wandb-col\"><h3>Run summary:</h3><br/><table class=\"wandb\"><tr><td>epoch</td><td>4</td></tr><tr><td>k_shot</td><td>60</td></tr><tr><td>test_acc</td><td>0.06795</td></tr><tr><td>test_balanced_acc</td><td>0.11083</td></tr><tr><td>test_f1</td><td>0.01025</td></tr><tr><td>test_loss</td><td>2.22891</td></tr><tr><td>test_precision</td><td>0.05085</td></tr><tr><td>test_recall</td><td>0.06795</td></tr><tr><td>train_acc</td><td>0.13519</td></tr><tr><td>train_loss</td><td>2.23447</td></tr></table><br/></div></div>"
            ],
            "text/plain": [
              "<IPython.core.display.HTML object>"
            ]
          },
          "metadata": {},
          "output_type": "display_data"
        },
        {
          "data": {
            "text/html": [
              " View run <strong style=\"color:#cdcd00\">GRU-Glove_K-60_Training</strong> at: <a href='https://wandb.ai/wilfried-mvomoeto-university-of-li-ge/Few-Shot-Training_gru_glove_fastText_Bahdanau-GRU-Glove-/runs/bvw6auiq' target=\"_blank\">https://wandb.ai/wilfried-mvomoeto-university-of-li-ge/Few-Shot-Training_gru_glove_fastText_Bahdanau-GRU-Glove-/runs/bvw6auiq</a><br> View project at: <a href='https://wandb.ai/wilfried-mvomoeto-university-of-li-ge/Few-Shot-Training_gru_glove_fastText_Bahdanau-GRU-Glove-' target=\"_blank\">https://wandb.ai/wilfried-mvomoeto-university-of-li-ge/Few-Shot-Training_gru_glove_fastText_Bahdanau-GRU-Glove-</a><br>Synced 5 W&B file(s), 0 media file(s), 0 artifact file(s) and 0 other file(s)"
            ],
            "text/plain": [
              "<IPython.core.display.HTML object>"
            ]
          },
          "metadata": {},
          "output_type": "display_data"
        },
        {
          "data": {
            "text/html": [
              "Find logs at: <code>./wandb/run-20250421_083305-bvw6auiq/logs</code>"
            ],
            "text/plain": [
              "<IPython.core.display.HTML object>"
            ]
          },
          "metadata": {},
          "output_type": "display_data"
        },
        {
          "data": {
            "text/html": [
              "Tracking run with wandb version 0.19.9"
            ],
            "text/plain": [
              "<IPython.core.display.HTML object>"
            ]
          },
          "metadata": {},
          "output_type": "display_data"
        },
        {
          "data": {
            "text/html": [
              "Run data is saved locally in <code>/content/wandb/run-20250421_083310-ne1r1s5a</code>"
            ],
            "text/plain": [
              "<IPython.core.display.HTML object>"
            ]
          },
          "metadata": {},
          "output_type": "display_data"
        },
        {
          "data": {
            "text/html": [
              "Syncing run <strong><a href='https://wandb.ai/wilfried-mvomoeto-university-of-li-ge/Few-Shot-Training_gru_glove_fastText_Bahdanau-GRU-FastText-/runs/ne1r1s5a' target=\"_blank\">GRU-FastText_K-60_Training</a></strong> to <a href='https://wandb.ai/wilfried-mvomoeto-university-of-li-ge/Few-Shot-Training_gru_glove_fastText_Bahdanau-GRU-FastText-' target=\"_blank\">Weights & Biases</a> (<a href='https://wandb.me/developer-guide' target=\"_blank\">docs</a>)<br>"
            ],
            "text/plain": [
              "<IPython.core.display.HTML object>"
            ]
          },
          "metadata": {},
          "output_type": "display_data"
        },
        {
          "data": {
            "text/html": [
              " View project at <a href='https://wandb.ai/wilfried-mvomoeto-university-of-li-ge/Few-Shot-Training_gru_glove_fastText_Bahdanau-GRU-FastText-' target=\"_blank\">https://wandb.ai/wilfried-mvomoeto-university-of-li-ge/Few-Shot-Training_gru_glove_fastText_Bahdanau-GRU-FastText-</a>"
            ],
            "text/plain": [
              "<IPython.core.display.HTML object>"
            ]
          },
          "metadata": {},
          "output_type": "display_data"
        },
        {
          "data": {
            "text/html": [
              " View run at <a href='https://wandb.ai/wilfried-mvomoeto-university-of-li-ge/Few-Shot-Training_gru_glove_fastText_Bahdanau-GRU-FastText-/runs/ne1r1s5a' target=\"_blank\">https://wandb.ai/wilfried-mvomoeto-university-of-li-ge/Few-Shot-Training_gru_glove_fastText_Bahdanau-GRU-FastText-/runs/ne1r1s5a</a>"
            ],
            "text/plain": [
              "<IPython.core.display.HTML object>"
            ]
          },
          "metadata": {},
          "output_type": "display_data"
        },
        {
          "name": "stderr",
          "output_type": "stream",
          "text": [
            "GRU-FastText K-60 Epoch 5/1000 - Train Loss: 2.2270, Test Loss: 2.2202, Train Acc: 10.93%, Test Acc: 6.81%, Test F1: 1.00%, Test Balanced Acc: 11.12%, Test Recall: 6.81%, Test Precision: 19.90%, Time: 0.81 sec:   0%|          | 5/1000 [00:05<17:36,  1.06s/epoch]"
          ]
        },
        {
          "name": "stdout",
          "output_type": "stream",
          "text": [
            "Early stopping triggered at epoch 6\n",
            "Model GRU-FastText_K-60 saved with loss gap > 1.25 or accuracy gap > 10% at epoch 5.\n",
            "\n",
            "Training with 70-shot...\n"
          ]
        },
        {
          "name": "stderr",
          "output_type": "stream",
          "text": [
            "\n",
            "<ipython-input-9-f03193db776b>:44: UserWarning: To copy construct from a tensor, it is recommended to use sourceTensor.clone().detach() or sourceTensor.clone().detach().requires_grad_(True), rather than torch.tensor(sourceTensor).\n",
            "  self.X = torch.tensor(X_data, dtype=torch.long)\n",
            "<ipython-input-9-f03193db776b>:45: UserWarning: To copy construct from a tensor, it is recommended to use sourceTensor.clone().detach() or sourceTensor.clone().detach().requires_grad_(True), rather than torch.tensor(sourceTensor).\n",
            "  self.y = torch.tensor(y_data, dtype=torch.long)\n"
          ]
        },
        {
          "data": {
            "text/html": [],
            "text/plain": [
              "<IPython.core.display.HTML object>"
            ]
          },
          "metadata": {},
          "output_type": "display_data"
        },
        {
          "data": {
            "text/html": [
              "<br>    <style><br>        .wandb-row {<br>            display: flex;<br>            flex-direction: row;<br>            flex-wrap: wrap;<br>            justify-content: flex-start;<br>            width: 100%;<br>        }<br>        .wandb-col {<br>            display: flex;<br>            flex-direction: column;<br>            flex-basis: 100%;<br>            flex: 1;<br>            padding: 10px;<br>        }<br>    </style><br><div class=\"wandb-row\"><div class=\"wandb-col\"><h3>Run history:</h3><br/><table class=\"wandb\"><tr><td>epoch</td><td>▁▂▄▅▇█</td></tr><tr><td>k_shot</td><td>▁▁▁▁▁▁</td></tr><tr><td>test_acc</td><td>▁▁▁▁▁▁</td></tr><tr><td>test_balanced_acc</td><td>▁▁▁▁▁▁</td></tr><tr><td>test_f1</td><td>▆▂▁▁██</td></tr><tr><td>test_loss</td><td>█▆▇▂▁▄</td></tr><tr><td>test_precision</td><td>██▁▁▁▁</td></tr><tr><td>test_recall</td><td>▁▁▁▁▁▁</td></tr><tr><td>train_acc</td><td>▁▄▃▄▄█</td></tr><tr><td>train_loss</td><td>█▅▆▅▄▁</td></tr></table><br/></div><div class=\"wandb-col\"><h3>Run summary:</h3><br/><table class=\"wandb\"><tr><td>epoch</td><td>6</td></tr><tr><td>k_shot</td><td>60</td></tr><tr><td>test_acc</td><td>0.06813</td></tr><tr><td>test_balanced_acc</td><td>0.11119</td></tr><tr><td>test_f1</td><td>0.00996</td></tr><tr><td>test_loss</td><td>2.23917</td></tr><tr><td>test_precision</td><td>0.19897</td></tr><tr><td>test_recall</td><td>0.06813</td></tr><tr><td>train_acc</td><td>0.16296</td></tr><tr><td>train_loss</td><td>2.17118</td></tr></table><br/></div></div>"
            ],
            "text/plain": [
              "<IPython.core.display.HTML object>"
            ]
          },
          "metadata": {},
          "output_type": "display_data"
        },
        {
          "data": {
            "text/html": [
              " View run <strong style=\"color:#cdcd00\">GRU-FastText_K-60_Training</strong> at: <a href='https://wandb.ai/wilfried-mvomoeto-university-of-li-ge/Few-Shot-Training_gru_glove_fastText_Bahdanau-GRU-FastText-/runs/ne1r1s5a' target=\"_blank\">https://wandb.ai/wilfried-mvomoeto-university-of-li-ge/Few-Shot-Training_gru_glove_fastText_Bahdanau-GRU-FastText-/runs/ne1r1s5a</a><br> View project at: <a href='https://wandb.ai/wilfried-mvomoeto-university-of-li-ge/Few-Shot-Training_gru_glove_fastText_Bahdanau-GRU-FastText-' target=\"_blank\">https://wandb.ai/wilfried-mvomoeto-university-of-li-ge/Few-Shot-Training_gru_glove_fastText_Bahdanau-GRU-FastText-</a><br>Synced 5 W&B file(s), 0 media file(s), 0 artifact file(s) and 0 other file(s)"
            ],
            "text/plain": [
              "<IPython.core.display.HTML object>"
            ]
          },
          "metadata": {},
          "output_type": "display_data"
        },
        {
          "data": {
            "text/html": [
              "Find logs at: <code>./wandb/run-20250421_083310-ne1r1s5a/logs</code>"
            ],
            "text/plain": [
              "<IPython.core.display.HTML object>"
            ]
          },
          "metadata": {},
          "output_type": "display_data"
        },
        {
          "data": {
            "text/html": [
              "Tracking run with wandb version 0.19.9"
            ],
            "text/plain": [
              "<IPython.core.display.HTML object>"
            ]
          },
          "metadata": {},
          "output_type": "display_data"
        },
        {
          "data": {
            "text/html": [
              "Run data is saved locally in <code>/content/wandb/run-20250421_083318-94zjlepq</code>"
            ],
            "text/plain": [
              "<IPython.core.display.HTML object>"
            ]
          },
          "metadata": {},
          "output_type": "display_data"
        },
        {
          "data": {
            "text/html": [
              "Syncing run <strong><a href='https://wandb.ai/wilfried-mvomoeto-university-of-li-ge/Few-Shot-Training_gru_glove_fastText_Bahdanau-GRU-Bah-Glove-/runs/94zjlepq' target=\"_blank\">GRU-Bah-Glove_K-70_Training</a></strong> to <a href='https://wandb.ai/wilfried-mvomoeto-university-of-li-ge/Few-Shot-Training_gru_glove_fastText_Bahdanau-GRU-Bah-Glove-' target=\"_blank\">Weights & Biases</a> (<a href='https://wandb.me/developer-guide' target=\"_blank\">docs</a>)<br>"
            ],
            "text/plain": [
              "<IPython.core.display.HTML object>"
            ]
          },
          "metadata": {},
          "output_type": "display_data"
        },
        {
          "data": {
            "text/html": [
              " View project at <a href='https://wandb.ai/wilfried-mvomoeto-university-of-li-ge/Few-Shot-Training_gru_glove_fastText_Bahdanau-GRU-Bah-Glove-' target=\"_blank\">https://wandb.ai/wilfried-mvomoeto-university-of-li-ge/Few-Shot-Training_gru_glove_fastText_Bahdanau-GRU-Bah-Glove-</a>"
            ],
            "text/plain": [
              "<IPython.core.display.HTML object>"
            ]
          },
          "metadata": {},
          "output_type": "display_data"
        },
        {
          "data": {
            "text/html": [
              " View run at <a href='https://wandb.ai/wilfried-mvomoeto-university-of-li-ge/Few-Shot-Training_gru_glove_fastText_Bahdanau-GRU-Bah-Glove-/runs/94zjlepq' target=\"_blank\">https://wandb.ai/wilfried-mvomoeto-university-of-li-ge/Few-Shot-Training_gru_glove_fastText_Bahdanau-GRU-Bah-Glove-/runs/94zjlepq</a>"
            ],
            "text/plain": [
              "<IPython.core.display.HTML object>"
            ]
          },
          "metadata": {},
          "output_type": "display_data"
        },
        {
          "name": "stderr",
          "output_type": "stream",
          "text": [
            "GRU-Bah-Glove K-70 Epoch 33/1000 - Train Loss: 0.4648, Test Loss: 0.5416, Train Acc: 87.78%, Test Acc: 84.25%, Test F1: 84.79%, Test Balanced Acc: 84.63%, Test Recall: 84.25%, Test Precision: 86.05%, Time: 1.48 sec:   3%|▎         | 33/1000 [00:48<23:41,  1.47s/epoch]"
          ]
        },
        {
          "name": "stdout",
          "output_type": "stream",
          "text": [
            "Early stopping triggered at epoch 34\n",
            "Model GRU-Bah-Glove_K-70 saved with loss gap > 1.25 or accuracy gap > 10% at epoch 33.\n"
          ]
        },
        {
          "name": "stderr",
          "output_type": "stream",
          "text": [
            "\n",
            "<ipython-input-9-f03193db776b>:44: UserWarning: To copy construct from a tensor, it is recommended to use sourceTensor.clone().detach() or sourceTensor.clone().detach().requires_grad_(True), rather than torch.tensor(sourceTensor).\n",
            "  self.X = torch.tensor(X_data, dtype=torch.long)\n",
            "<ipython-input-9-f03193db776b>:45: UserWarning: To copy construct from a tensor, it is recommended to use sourceTensor.clone().detach() or sourceTensor.clone().detach().requires_grad_(True), rather than torch.tensor(sourceTensor).\n",
            "  self.y = torch.tensor(y_data, dtype=torch.long)\n"
          ]
        },
        {
          "data": {
            "text/html": [],
            "text/plain": [
              "<IPython.core.display.HTML object>"
            ]
          },
          "metadata": {},
          "output_type": "display_data"
        },
        {
          "data": {
            "text/html": [
              "<br>    <style><br>        .wandb-row {<br>            display: flex;<br>            flex-direction: row;<br>            flex-wrap: wrap;<br>            justify-content: flex-start;<br>            width: 100%;<br>        }<br>        .wandb-col {<br>            display: flex;<br>            flex-direction: column;<br>            flex-basis: 100%;<br>            flex: 1;<br>            padding: 10px;<br>        }<br>    </style><br><div class=\"wandb-row\"><div class=\"wandb-col\"><h3>Run history:</h3><br/><table class=\"wandb\"><tr><td>epoch</td><td>▁▁▁▂▂▂▂▂▃▃▃▃▄▄▄▄▄▅▅▅▅▅▆▆▆▆▇▇▇▇▇███</td></tr><tr><td>k_shot</td><td>▁▁▁▁▁▁▁▁▁▁▁▁▁▁▁▁▁▁▁▁▁▁▁▁▁▁▁▁▁▁▁▁▁▁</td></tr><tr><td>test_acc</td><td>▁▁▁▁▁▂▂▂▃▄▄▅▅▆▇▇▇█████████████████</td></tr><tr><td>test_balanced_acc</td><td>▁▁▁▁▂▂▂▂▃▄▄▅▅▆▇▇▇█████████████████</td></tr><tr><td>test_f1</td><td>▁▁▁▁▁▂▂▂▃▃▄▅▅▆▇▇▇▇████████████████</td></tr><tr><td>test_loss</td><td>████████▇▇▆▆▅▅▄▄▃▃▂▂▂▂▂▂▁▁▁▁▁▁▁▁▁▁</td></tr><tr><td>test_precision</td><td>▁▂▂▃▃▄▄▆▅▅▆▆▆▆▇▇▇▇▇▇██████████████</td></tr><tr><td>test_recall</td><td>▁▁▁▁▁▂▂▂▃▄▄▅▅▆▇▇▇█████████████████</td></tr><tr><td>train_acc</td><td>▁▁▁▁▁▂▂▂▂▃▃▄▄▄▅▅▆▆▆▇▇▇▇▇██████████</td></tr><tr><td>train_loss</td><td>█████▇▇▇▇▇▆▆▅▅▄▄▄▃▃▃▂▂▂▂▂▂▂▂▁▁▁▁▁▁</td></tr></table><br/></div><div class=\"wandb-col\"><h3>Run summary:</h3><br/><table class=\"wandb\"><tr><td>epoch</td><td>34</td></tr><tr><td>k_shot</td><td>70</td></tr><tr><td>test_acc</td><td>0.84184</td></tr><tr><td>test_balanced_acc</td><td>0.84556</td></tr><tr><td>test_f1</td><td>0.84729</td></tr><tr><td>test_loss</td><td>0.53747</td></tr><tr><td>test_precision</td><td>0.86069</td></tr><tr><td>test_recall</td><td>0.84184</td></tr><tr><td>train_acc</td><td>0.89841</td></tr><tr><td>train_loss</td><td>0.41828</td></tr></table><br/></div></div>"
            ],
            "text/plain": [
              "<IPython.core.display.HTML object>"
            ]
          },
          "metadata": {},
          "output_type": "display_data"
        },
        {
          "data": {
            "text/html": [
              " View run <strong style=\"color:#cdcd00\">GRU-Bah-Glove_K-70_Training</strong> at: <a href='https://wandb.ai/wilfried-mvomoeto-university-of-li-ge/Few-Shot-Training_gru_glove_fastText_Bahdanau-GRU-Bah-Glove-/runs/94zjlepq' target=\"_blank\">https://wandb.ai/wilfried-mvomoeto-university-of-li-ge/Few-Shot-Training_gru_glove_fastText_Bahdanau-GRU-Bah-Glove-/runs/94zjlepq</a><br> View project at: <a href='https://wandb.ai/wilfried-mvomoeto-university-of-li-ge/Few-Shot-Training_gru_glove_fastText_Bahdanau-GRU-Bah-Glove-' target=\"_blank\">https://wandb.ai/wilfried-mvomoeto-university-of-li-ge/Few-Shot-Training_gru_glove_fastText_Bahdanau-GRU-Bah-Glove-</a><br>Synced 5 W&B file(s), 0 media file(s), 0 artifact file(s) and 0 other file(s)"
            ],
            "text/plain": [
              "<IPython.core.display.HTML object>"
            ]
          },
          "metadata": {},
          "output_type": "display_data"
        },
        {
          "data": {
            "text/html": [
              "Find logs at: <code>./wandb/run-20250421_083318-94zjlepq/logs</code>"
            ],
            "text/plain": [
              "<IPython.core.display.HTML object>"
            ]
          },
          "metadata": {},
          "output_type": "display_data"
        },
        {
          "data": {
            "text/html": [
              "Tracking run with wandb version 0.19.9"
            ],
            "text/plain": [
              "<IPython.core.display.HTML object>"
            ]
          },
          "metadata": {},
          "output_type": "display_data"
        },
        {
          "data": {
            "text/html": [
              "Run data is saved locally in <code>/content/wandb/run-20250421_083408-jo5bs7ne</code>"
            ],
            "text/plain": [
              "<IPython.core.display.HTML object>"
            ]
          },
          "metadata": {},
          "output_type": "display_data"
        },
        {
          "data": {
            "text/html": [
              "Syncing run <strong><a href='https://wandb.ai/wilfried-mvomoeto-university-of-li-ge/Few-Shot-Training_gru_glove_fastText_Bahdanau-GRU-Bah-FastText-/runs/jo5bs7ne' target=\"_blank\">GRU-Bah-FastText_K-70_Training</a></strong> to <a href='https://wandb.ai/wilfried-mvomoeto-university-of-li-ge/Few-Shot-Training_gru_glove_fastText_Bahdanau-GRU-Bah-FastText-' target=\"_blank\">Weights & Biases</a> (<a href='https://wandb.me/developer-guide' target=\"_blank\">docs</a>)<br>"
            ],
            "text/plain": [
              "<IPython.core.display.HTML object>"
            ]
          },
          "metadata": {},
          "output_type": "display_data"
        },
        {
          "data": {
            "text/html": [
              " View project at <a href='https://wandb.ai/wilfried-mvomoeto-university-of-li-ge/Few-Shot-Training_gru_glove_fastText_Bahdanau-GRU-Bah-FastText-' target=\"_blank\">https://wandb.ai/wilfried-mvomoeto-university-of-li-ge/Few-Shot-Training_gru_glove_fastText_Bahdanau-GRU-Bah-FastText-</a>"
            ],
            "text/plain": [
              "<IPython.core.display.HTML object>"
            ]
          },
          "metadata": {},
          "output_type": "display_data"
        },
        {
          "data": {
            "text/html": [
              " View run at <a href='https://wandb.ai/wilfried-mvomoeto-university-of-li-ge/Few-Shot-Training_gru_glove_fastText_Bahdanau-GRU-Bah-FastText-/runs/jo5bs7ne' target=\"_blank\">https://wandb.ai/wilfried-mvomoeto-university-of-li-ge/Few-Shot-Training_gru_glove_fastText_Bahdanau-GRU-Bah-FastText-/runs/jo5bs7ne</a>"
            ],
            "text/plain": [
              "<IPython.core.display.HTML object>"
            ]
          },
          "metadata": {},
          "output_type": "display_data"
        },
        {
          "name": "stderr",
          "output_type": "stream",
          "text": [
            "GRU-Bah-FastText K-70 Epoch 32/1000 - Train Loss: 0.5681, Test Loss: 0.6378, Train Acc: 85.40%, Test Acc: 82.13%, Test F1: 83.03%, Test Balanced Acc: 82.78%, Test Recall: 82.13%, Test Precision: 85.32%, Time: 1.39 sec:   3%|▎         | 32/1000 [00:47<23:50,  1.48s/epoch]"
          ]
        },
        {
          "name": "stdout",
          "output_type": "stream",
          "text": [
            "Early stopping triggered at epoch 33\n",
            "Model GRU-Bah-FastText_K-70 saved with loss gap > 1.25 or accuracy gap > 10% at epoch 32.\n"
          ]
        },
        {
          "name": "stderr",
          "output_type": "stream",
          "text": [
            "\n",
            "<ipython-input-9-f03193db776b>:44: UserWarning: To copy construct from a tensor, it is recommended to use sourceTensor.clone().detach() or sourceTensor.clone().detach().requires_grad_(True), rather than torch.tensor(sourceTensor).\n",
            "  self.X = torch.tensor(X_data, dtype=torch.long)\n",
            "<ipython-input-9-f03193db776b>:45: UserWarning: To copy construct from a tensor, it is recommended to use sourceTensor.clone().detach() or sourceTensor.clone().detach().requires_grad_(True), rather than torch.tensor(sourceTensor).\n",
            "  self.y = torch.tensor(y_data, dtype=torch.long)\n"
          ]
        },
        {
          "data": {
            "text/html": [],
            "text/plain": [
              "<IPython.core.display.HTML object>"
            ]
          },
          "metadata": {},
          "output_type": "display_data"
        },
        {
          "data": {
            "text/html": [
              "<br>    <style><br>        .wandb-row {<br>            display: flex;<br>            flex-direction: row;<br>            flex-wrap: wrap;<br>            justify-content: flex-start;<br>            width: 100%;<br>        }<br>        .wandb-col {<br>            display: flex;<br>            flex-direction: column;<br>            flex-basis: 100%;<br>            flex: 1;<br>            padding: 10px;<br>        }<br>    </style><br><div class=\"wandb-row\"><div class=\"wandb-col\"><h3>Run history:</h3><br/><table class=\"wandb\"><tr><td>epoch</td><td>▁▁▁▂▂▂▂▃▃▃▃▃▄▄▄▄▅▅▅▅▅▆▆▆▆▆▇▇▇▇███</td></tr><tr><td>k_shot</td><td>▁▁▁▁▁▁▁▁▁▁▁▁▁▁▁▁▁▁▁▁▁▁▁▁▁▁▁▁▁▁▁▁▁</td></tr><tr><td>test_acc</td><td>▁▁▂▂▂▂▃▃▄▄▄▅▇▇███████████████████</td></tr><tr><td>test_balanced_acc</td><td>▁▁▂▂▂▂▃▃▄▄▅▆▇▇███████████████████</td></tr><tr><td>test_f1</td><td>▁▁▁▂▂▂▂▃▃▄▄▅▇▇███████████████████</td></tr><tr><td>test_loss</td><td>████▇▇▇▇▆▆▆▅▅▄▃▃▂▂▂▂▂▂▁▁▁▁▁▁▁▁▁▁▁</td></tr><tr><td>test_precision</td><td>▁▁▂▂▂▃▃▄▄▄▅▆▇▇▇▇█████████████████</td></tr><tr><td>test_recall</td><td>▁▁▂▂▂▂▃▃▄▄▄▅▇▇███████████████████</td></tr><tr><td>train_acc</td><td>▁▁▂▂▂▂▃▃▃▃▄▄▄▅▆▆▇▇▇▇▇▇▇▇▇████████</td></tr><tr><td>train_loss</td><td>████▇▇▇▆▆▆▅▅▅▄▄▃▃▃▂▂▂▂▂▂▂▂▂▁▁▁▁▁▁</td></tr></table><br/></div><div class=\"wandb-col\"><h3>Run summary:</h3><br/><table class=\"wandb\"><tr><td>epoch</td><td>33</td></tr><tr><td>k_shot</td><td>70</td></tr><tr><td>test_acc</td><td>0.82166</td></tr><tr><td>test_balanced_acc</td><td>0.82826</td></tr><tr><td>test_f1</td><td>0.83063</td></tr><tr><td>test_loss</td><td>0.62698</td></tr><tr><td>test_precision</td><td>0.85302</td></tr><tr><td>test_recall</td><td>0.82166</td></tr><tr><td>train_acc</td><td>0.87302</td></tr><tr><td>train_loss</td><td>0.51331</td></tr></table><br/></div></div>"
            ],
            "text/plain": [
              "<IPython.core.display.HTML object>"
            ]
          },
          "metadata": {},
          "output_type": "display_data"
        },
        {
          "data": {
            "text/html": [
              " View run <strong style=\"color:#cdcd00\">GRU-Bah-FastText_K-70_Training</strong> at: <a href='https://wandb.ai/wilfried-mvomoeto-university-of-li-ge/Few-Shot-Training_gru_glove_fastText_Bahdanau-GRU-Bah-FastText-/runs/jo5bs7ne' target=\"_blank\">https://wandb.ai/wilfried-mvomoeto-university-of-li-ge/Few-Shot-Training_gru_glove_fastText_Bahdanau-GRU-Bah-FastText-/runs/jo5bs7ne</a><br> View project at: <a href='https://wandb.ai/wilfried-mvomoeto-university-of-li-ge/Few-Shot-Training_gru_glove_fastText_Bahdanau-GRU-Bah-FastText-' target=\"_blank\">https://wandb.ai/wilfried-mvomoeto-university-of-li-ge/Few-Shot-Training_gru_glove_fastText_Bahdanau-GRU-Bah-FastText-</a><br>Synced 5 W&B file(s), 0 media file(s), 0 artifact file(s) and 0 other file(s)"
            ],
            "text/plain": [
              "<IPython.core.display.HTML object>"
            ]
          },
          "metadata": {},
          "output_type": "display_data"
        },
        {
          "data": {
            "text/html": [
              "Find logs at: <code>./wandb/run-20250421_083408-jo5bs7ne/logs</code>"
            ],
            "text/plain": [
              "<IPython.core.display.HTML object>"
            ]
          },
          "metadata": {},
          "output_type": "display_data"
        },
        {
          "data": {
            "text/html": [
              "Tracking run with wandb version 0.19.9"
            ],
            "text/plain": [
              "<IPython.core.display.HTML object>"
            ]
          },
          "metadata": {},
          "output_type": "display_data"
        },
        {
          "data": {
            "text/html": [
              "Run data is saved locally in <code>/content/wandb/run-20250421_083456-juflm8xi</code>"
            ],
            "text/plain": [
              "<IPython.core.display.HTML object>"
            ]
          },
          "metadata": {},
          "output_type": "display_data"
        },
        {
          "data": {
            "text/html": [
              "Syncing run <strong><a href='https://wandb.ai/wilfried-mvomoeto-university-of-li-ge/Few-Shot-Training_gru_glove_fastText_Bahdanau-CNN_LSTM-/runs/juflm8xi' target=\"_blank\">CNN_LSTM_K-70_Training</a></strong> to <a href='https://wandb.ai/wilfried-mvomoeto-university-of-li-ge/Few-Shot-Training_gru_glove_fastText_Bahdanau-CNN_LSTM-' target=\"_blank\">Weights & Biases</a> (<a href='https://wandb.me/developer-guide' target=\"_blank\">docs</a>)<br>"
            ],
            "text/plain": [
              "<IPython.core.display.HTML object>"
            ]
          },
          "metadata": {},
          "output_type": "display_data"
        },
        {
          "data": {
            "text/html": [
              " View project at <a href='https://wandb.ai/wilfried-mvomoeto-university-of-li-ge/Few-Shot-Training_gru_glove_fastText_Bahdanau-CNN_LSTM-' target=\"_blank\">https://wandb.ai/wilfried-mvomoeto-university-of-li-ge/Few-Shot-Training_gru_glove_fastText_Bahdanau-CNN_LSTM-</a>"
            ],
            "text/plain": [
              "<IPython.core.display.HTML object>"
            ]
          },
          "metadata": {},
          "output_type": "display_data"
        },
        {
          "data": {
            "text/html": [
              " View run at <a href='https://wandb.ai/wilfried-mvomoeto-university-of-li-ge/Few-Shot-Training_gru_glove_fastText_Bahdanau-CNN_LSTM-/runs/juflm8xi' target=\"_blank\">https://wandb.ai/wilfried-mvomoeto-university-of-li-ge/Few-Shot-Training_gru_glove_fastText_Bahdanau-CNN_LSTM-/runs/juflm8xi</a>"
            ],
            "text/plain": [
              "<IPython.core.display.HTML object>"
            ]
          },
          "metadata": {},
          "output_type": "display_data"
        },
        {
          "name": "stderr",
          "output_type": "stream",
          "text": [
            "CNN_LSTM K-70 Epoch 86/1000 - Train Loss: 2.1728, Test Loss: 2.2064, Train Acc: 11.43%, Test Acc: 6.83%, Test F1: 1.06%, Test Balanced Acc: 11.12%, Test Recall: 6.83%, Test Precision: 6.27%, Time: 1.08 sec:   9%|▊         | 86/1000 [01:24<15:02,  1.01epoch/s]"
          ]
        },
        {
          "name": "stdout",
          "output_type": "stream",
          "text": [
            "Early stopping triggered at epoch 87\n",
            "Model CNN_LSTM_K-70 saved with loss gap > 1.25 or accuracy gap > 10% at epoch 86.\n"
          ]
        },
        {
          "name": "stderr",
          "output_type": "stream",
          "text": [
            "\n",
            "<ipython-input-9-f03193db776b>:44: UserWarning: To copy construct from a tensor, it is recommended to use sourceTensor.clone().detach() or sourceTensor.clone().detach().requires_grad_(True), rather than torch.tensor(sourceTensor).\n",
            "  self.X = torch.tensor(X_data, dtype=torch.long)\n",
            "<ipython-input-9-f03193db776b>:45: UserWarning: To copy construct from a tensor, it is recommended to use sourceTensor.clone().detach() or sourceTensor.clone().detach().requires_grad_(True), rather than torch.tensor(sourceTensor).\n",
            "  self.y = torch.tensor(y_data, dtype=torch.long)\n"
          ]
        },
        {
          "data": {
            "text/html": [],
            "text/plain": [
              "<IPython.core.display.HTML object>"
            ]
          },
          "metadata": {},
          "output_type": "display_data"
        },
        {
          "data": {
            "text/html": [
              "<br>    <style><br>        .wandb-row {<br>            display: flex;<br>            flex-direction: row;<br>            flex-wrap: wrap;<br>            justify-content: flex-start;<br>            width: 100%;<br>        }<br>        .wandb-col {<br>            display: flex;<br>            flex-direction: column;<br>            flex-basis: 100%;<br>            flex: 1;<br>            padding: 10px;<br>        }<br>    </style><br><div class=\"wandb-row\"><div class=\"wandb-col\"><h3>Run history:</h3><br/><table class=\"wandb\"><tr><td>epoch</td><td>▁▁▁▂▂▂▂▂▂▂▂▃▃▃▃▃▄▄▄▄▄▄▅▅▅▅▅▆▆▆▆▇▇▇▇▇▇███</td></tr><tr><td>k_shot</td><td>▁▁▁▁▁▁▁▁▁▁▁▁▁▁▁▁▁▁▁▁▁▁▁▁▁▁▁▁▁▁▁▁▁▁▁▁▁▁▁▁</td></tr><tr><td>test_acc</td><td>▁▅▅▅▅▅▄▅▄▄▄▄▄▄▄█▄▄▄▄▄▄▄▄▄▄▄▄▄▄▄▄▄▄▄▄▄▄▄▄</td></tr><tr><td>test_balanced_acc</td><td>▃▃███████▁▁▁▁▁▁▁▁▁▁▁▁▁▁▁▁▁▁▁▁▁▁▁▁▁▁▁▁▁▁▁</td></tr><tr><td>test_f1</td><td>▁▁██████████████████████████████████████</td></tr><tr><td>test_loss</td><td>▃▃▁▂▂▂▂▂▂▂▂▁▁▁▂▂▁▃▃▃▂▂▂▂▂▃▃▄▃▃▂▃▃▃▃▃▂▂▂█</td></tr><tr><td>test_precision</td><td>▁▁▅▅▅▅▅▅▅▅▆▆▆▆█▇▅▅▅▅▅▅▅▅▅▅▅▅▅▅▅▅▅▅▅▅▅▅▆▅</td></tr><tr><td>test_recall</td><td>▁▁▅▅▅▅▅▅▄▄▄▄▄▄█▄▄▄▄▄▄▄▄▄▄▄▄▄▄▄▄▄▄▄▄▄▄▄▄▄</td></tr><tr><td>train_acc</td><td>▅▅▃▁▁▆▅▃█▆▆▆▆█▅▆▆▆▆▆▆▆█▆▆▆▆▆▆▆▆▆▆▆▆▆▆▆▆▆</td></tr><tr><td>train_loss</td><td>▅█▇▅▅▄▄▆▃▃▄▃▃▃▄▃▂▃▃▂▁▂▂▄▂▄▄▃▂▂▃▄▃▂▃▃▄▃▃▃</td></tr></table><br/></div><div class=\"wandb-col\"><h3>Run summary:</h3><br/><table class=\"wandb\"><tr><td>epoch</td><td>87</td></tr><tr><td>k_shot</td><td>70</td></tr><tr><td>test_acc</td><td>0.06813</td></tr><tr><td>test_balanced_acc</td><td>0.11105</td></tr><tr><td>test_f1</td><td>0.01026</td></tr><tr><td>test_loss</td><td>2.23651</td></tr><tr><td>test_precision</td><td>0.04528</td></tr><tr><td>test_recall</td><td>0.06813</td></tr><tr><td>train_acc</td><td>0.1254</td></tr><tr><td>train_loss</td><td>2.15629</td></tr></table><br/></div></div>"
            ],
            "text/plain": [
              "<IPython.core.display.HTML object>"
            ]
          },
          "metadata": {},
          "output_type": "display_data"
        },
        {
          "data": {
            "text/html": [
              " View run <strong style=\"color:#cdcd00\">CNN_LSTM_K-70_Training</strong> at: <a href='https://wandb.ai/wilfried-mvomoeto-university-of-li-ge/Few-Shot-Training_gru_glove_fastText_Bahdanau-CNN_LSTM-/runs/juflm8xi' target=\"_blank\">https://wandb.ai/wilfried-mvomoeto-university-of-li-ge/Few-Shot-Training_gru_glove_fastText_Bahdanau-CNN_LSTM-/runs/juflm8xi</a><br> View project at: <a href='https://wandb.ai/wilfried-mvomoeto-university-of-li-ge/Few-Shot-Training_gru_glove_fastText_Bahdanau-CNN_LSTM-' target=\"_blank\">https://wandb.ai/wilfried-mvomoeto-university-of-li-ge/Few-Shot-Training_gru_glove_fastText_Bahdanau-CNN_LSTM-</a><br>Synced 5 W&B file(s), 0 media file(s), 0 artifact file(s) and 0 other file(s)"
            ],
            "text/plain": [
              "<IPython.core.display.HTML object>"
            ]
          },
          "metadata": {},
          "output_type": "display_data"
        },
        {
          "data": {
            "text/html": [
              "Find logs at: <code>./wandb/run-20250421_083456-juflm8xi/logs</code>"
            ],
            "text/plain": [
              "<IPython.core.display.HTML object>"
            ]
          },
          "metadata": {},
          "output_type": "display_data"
        },
        {
          "data": {
            "text/html": [
              "Tracking run with wandb version 0.19.9"
            ],
            "text/plain": [
              "<IPython.core.display.HTML object>"
            ]
          },
          "metadata": {},
          "output_type": "display_data"
        },
        {
          "data": {
            "text/html": [
              "Run data is saved locally in <code>/content/wandb/run-20250421_083623-doe8a1jw</code>"
            ],
            "text/plain": [
              "<IPython.core.display.HTML object>"
            ]
          },
          "metadata": {},
          "output_type": "display_data"
        },
        {
          "data": {
            "text/html": [
              "Syncing run <strong><a href='https://wandb.ai/wilfried-mvomoeto-university-of-li-ge/Few-Shot-Training_gru_glove_fastText_Bahdanau-GRU-Glove-/runs/doe8a1jw' target=\"_blank\">GRU-Glove_K-70_Training</a></strong> to <a href='https://wandb.ai/wilfried-mvomoeto-university-of-li-ge/Few-Shot-Training_gru_glove_fastText_Bahdanau-GRU-Glove-' target=\"_blank\">Weights & Biases</a> (<a href='https://wandb.me/developer-guide' target=\"_blank\">docs</a>)<br>"
            ],
            "text/plain": [
              "<IPython.core.display.HTML object>"
            ]
          },
          "metadata": {},
          "output_type": "display_data"
        },
        {
          "data": {
            "text/html": [
              " View project at <a href='https://wandb.ai/wilfried-mvomoeto-university-of-li-ge/Few-Shot-Training_gru_glove_fastText_Bahdanau-GRU-Glove-' target=\"_blank\">https://wandb.ai/wilfried-mvomoeto-university-of-li-ge/Few-Shot-Training_gru_glove_fastText_Bahdanau-GRU-Glove-</a>"
            ],
            "text/plain": [
              "<IPython.core.display.HTML object>"
            ]
          },
          "metadata": {},
          "output_type": "display_data"
        },
        {
          "data": {
            "text/html": [
              " View run at <a href='https://wandb.ai/wilfried-mvomoeto-university-of-li-ge/Few-Shot-Training_gru_glove_fastText_Bahdanau-GRU-Glove-/runs/doe8a1jw' target=\"_blank\">https://wandb.ai/wilfried-mvomoeto-university-of-li-ge/Few-Shot-Training_gru_glove_fastText_Bahdanau-GRU-Glove-/runs/doe8a1jw</a>"
            ],
            "text/plain": [
              "<IPython.core.display.HTML object>"
            ]
          },
          "metadata": {},
          "output_type": "display_data"
        },
        {
          "name": "stderr",
          "output_type": "stream",
          "text": [
            "GRU-Glove K-70 Epoch 1/1000 - Train Loss: 2.2782, Test Loss: 2.2666, Train Acc: 11.59%, Test Acc: 6.76%, Test F1: 0.89%, Test Balanced Acc: 11.07%, Test Recall: 6.76%, Test Precision: 3.41%, Time: 0.92 sec:   0%|          | 1/1000 [00:01<31:19,  1.88s/epoch]"
          ]
        },
        {
          "name": "stdout",
          "output_type": "stream",
          "text": [
            "Early stopping triggered at epoch 2\n",
            "Model GRU-Glove_K-70 saved with loss gap > 1.25 or accuracy gap > 10% at epoch 1.\n"
          ]
        },
        {
          "name": "stderr",
          "output_type": "stream",
          "text": [
            "\n",
            "<ipython-input-9-f03193db776b>:44: UserWarning: To copy construct from a tensor, it is recommended to use sourceTensor.clone().detach() or sourceTensor.clone().detach().requires_grad_(True), rather than torch.tensor(sourceTensor).\n",
            "  self.X = torch.tensor(X_data, dtype=torch.long)\n",
            "<ipython-input-9-f03193db776b>:45: UserWarning: To copy construct from a tensor, it is recommended to use sourceTensor.clone().detach() or sourceTensor.clone().detach().requires_grad_(True), rather than torch.tensor(sourceTensor).\n",
            "  self.y = torch.tensor(y_data, dtype=torch.long)\n"
          ]
        },
        {
          "data": {
            "text/html": [],
            "text/plain": [
              "<IPython.core.display.HTML object>"
            ]
          },
          "metadata": {},
          "output_type": "display_data"
        },
        {
          "data": {
            "text/html": [
              "<br>    <style><br>        .wandb-row {<br>            display: flex;<br>            flex-direction: row;<br>            flex-wrap: wrap;<br>            justify-content: flex-start;<br>            width: 100%;<br>        }<br>        .wandb-col {<br>            display: flex;<br>            flex-direction: column;<br>            flex-basis: 100%;<br>            flex: 1;<br>            padding: 10px;<br>        }<br>    </style><br><div class=\"wandb-row\"><div class=\"wandb-col\"><h3>Run history:</h3><br/><table class=\"wandb\"><tr><td>epoch</td><td>▁█</td></tr><tr><td>k_shot</td><td>▁▁</td></tr><tr><td>test_acc</td><td>▁▁</td></tr><tr><td>test_balanced_acc</td><td>▁▁</td></tr><tr><td>test_f1</td><td>▁█</td></tr><tr><td>test_loss</td><td>█▁</td></tr><tr><td>test_precision</td><td>▁█</td></tr><tr><td>test_recall</td><td>▁▁</td></tr><tr><td>train_acc</td><td>▁█</td></tr><tr><td>train_loss</td><td>█▁</td></tr></table><br/></div><div class=\"wandb-col\"><h3>Run summary:</h3><br/><table class=\"wandb\"><tr><td>epoch</td><td>2</td></tr><tr><td>k_shot</td><td>70</td></tr><tr><td>test_acc</td><td>0.06761</td></tr><tr><td>test_balanced_acc</td><td>0.11071</td></tr><tr><td>test_f1</td><td>0.00893</td></tr><tr><td>test_loss</td><td>2.2479</td></tr><tr><td>test_precision</td><td>0.04391</td></tr><tr><td>test_recall</td><td>0.06761</td></tr><tr><td>train_acc</td><td>0.1254</td></tr><tr><td>train_loss</td><td>2.23926</td></tr></table><br/></div></div>"
            ],
            "text/plain": [
              "<IPython.core.display.HTML object>"
            ]
          },
          "metadata": {},
          "output_type": "display_data"
        },
        {
          "data": {
            "text/html": [
              " View run <strong style=\"color:#cdcd00\">GRU-Glove_K-70_Training</strong> at: <a href='https://wandb.ai/wilfried-mvomoeto-university-of-li-ge/Few-Shot-Training_gru_glove_fastText_Bahdanau-GRU-Glove-/runs/doe8a1jw' target=\"_blank\">https://wandb.ai/wilfried-mvomoeto-university-of-li-ge/Few-Shot-Training_gru_glove_fastText_Bahdanau-GRU-Glove-/runs/doe8a1jw</a><br> View project at: <a href='https://wandb.ai/wilfried-mvomoeto-university-of-li-ge/Few-Shot-Training_gru_glove_fastText_Bahdanau-GRU-Glove-' target=\"_blank\">https://wandb.ai/wilfried-mvomoeto-university-of-li-ge/Few-Shot-Training_gru_glove_fastText_Bahdanau-GRU-Glove-</a><br>Synced 5 W&B file(s), 0 media file(s), 0 artifact file(s) and 0 other file(s)"
            ],
            "text/plain": [
              "<IPython.core.display.HTML object>"
            ]
          },
          "metadata": {},
          "output_type": "display_data"
        },
        {
          "data": {
            "text/html": [
              "Find logs at: <code>./wandb/run-20250421_083623-doe8a1jw/logs</code>"
            ],
            "text/plain": [
              "<IPython.core.display.HTML object>"
            ]
          },
          "metadata": {},
          "output_type": "display_data"
        },
        {
          "data": {
            "text/html": [
              "Tracking run with wandb version 0.19.9"
            ],
            "text/plain": [
              "<IPython.core.display.HTML object>"
            ]
          },
          "metadata": {},
          "output_type": "display_data"
        },
        {
          "data": {
            "text/html": [
              "Run data is saved locally in <code>/content/wandb/run-20250421_083626-v7fuvi18</code>"
            ],
            "text/plain": [
              "<IPython.core.display.HTML object>"
            ]
          },
          "metadata": {},
          "output_type": "display_data"
        },
        {
          "data": {
            "text/html": [
              "Syncing run <strong><a href='https://wandb.ai/wilfried-mvomoeto-university-of-li-ge/Few-Shot-Training_gru_glove_fastText_Bahdanau-GRU-FastText-/runs/v7fuvi18' target=\"_blank\">GRU-FastText_K-70_Training</a></strong> to <a href='https://wandb.ai/wilfried-mvomoeto-university-of-li-ge/Few-Shot-Training_gru_glove_fastText_Bahdanau-GRU-FastText-' target=\"_blank\">Weights & Biases</a> (<a href='https://wandb.me/developer-guide' target=\"_blank\">docs</a>)<br>"
            ],
            "text/plain": [
              "<IPython.core.display.HTML object>"
            ]
          },
          "metadata": {},
          "output_type": "display_data"
        },
        {
          "data": {
            "text/html": [
              " View project at <a href='https://wandb.ai/wilfried-mvomoeto-university-of-li-ge/Few-Shot-Training_gru_glove_fastText_Bahdanau-GRU-FastText-' target=\"_blank\">https://wandb.ai/wilfried-mvomoeto-university-of-li-ge/Few-Shot-Training_gru_glove_fastText_Bahdanau-GRU-FastText-</a>"
            ],
            "text/plain": [
              "<IPython.core.display.HTML object>"
            ]
          },
          "metadata": {},
          "output_type": "display_data"
        },
        {
          "data": {
            "text/html": [
              " View run at <a href='https://wandb.ai/wilfried-mvomoeto-university-of-li-ge/Few-Shot-Training_gru_glove_fastText_Bahdanau-GRU-FastText-/runs/v7fuvi18' target=\"_blank\">https://wandb.ai/wilfried-mvomoeto-university-of-li-ge/Few-Shot-Training_gru_glove_fastText_Bahdanau-GRU-FastText-/runs/v7fuvi18</a>"
            ],
            "text/plain": [
              "<IPython.core.display.HTML object>"
            ]
          },
          "metadata": {},
          "output_type": "display_data"
        },
        {
          "name": "stderr",
          "output_type": "stream",
          "text": [
            "GRU-FastText K-70 Epoch 4/1000 - Train Loss: 2.2509, Test Loss: 2.2117, Train Acc: 10.48%, Test Acc: 6.76%, Test F1: 0.96%, Test Balanced Acc: 11.04%, Test Recall: 6.76%, Test Precision: 6.24%, Time: 0.87 sec:   0%|          | 4/1000 [00:04<18:21,  1.11s/epoch]"
          ]
        },
        {
          "name": "stdout",
          "output_type": "stream",
          "text": [
            "Early stopping triggered at epoch 5\n",
            "Model GRU-FastText_K-70 saved with loss gap > 1.25 or accuracy gap > 10% at epoch 4.\n",
            "\n",
            "Training with 80-shot...\n"
          ]
        },
        {
          "name": "stderr",
          "output_type": "stream",
          "text": [
            "\n",
            "<ipython-input-9-f03193db776b>:44: UserWarning: To copy construct from a tensor, it is recommended to use sourceTensor.clone().detach() or sourceTensor.clone().detach().requires_grad_(True), rather than torch.tensor(sourceTensor).\n",
            "  self.X = torch.tensor(X_data, dtype=torch.long)\n",
            "<ipython-input-9-f03193db776b>:45: UserWarning: To copy construct from a tensor, it is recommended to use sourceTensor.clone().detach() or sourceTensor.clone().detach().requires_grad_(True), rather than torch.tensor(sourceTensor).\n",
            "  self.y = torch.tensor(y_data, dtype=torch.long)\n"
          ]
        },
        {
          "data": {
            "text/html": [],
            "text/plain": [
              "<IPython.core.display.HTML object>"
            ]
          },
          "metadata": {},
          "output_type": "display_data"
        },
        {
          "data": {
            "text/html": [
              "<br>    <style><br>        .wandb-row {<br>            display: flex;<br>            flex-direction: row;<br>            flex-wrap: wrap;<br>            justify-content: flex-start;<br>            width: 100%;<br>        }<br>        .wandb-col {<br>            display: flex;<br>            flex-direction: column;<br>            flex-basis: 100%;<br>            flex: 1;<br>            padding: 10px;<br>        }<br>    </style><br><div class=\"wandb-row\"><div class=\"wandb-col\"><h3>Run history:</h3><br/><table class=\"wandb\"><tr><td>epoch</td><td>▁▃▅▆█</td></tr><tr><td>k_shot</td><td>▁▁▁▁▁</td></tr><tr><td>test_acc</td><td>█▁▁▁▁</td></tr><tr><td>test_balanced_acc</td><td>█▁▁▂▁</td></tr><tr><td>test_f1</td><td>█▁▁▁▁</td></tr><tr><td>test_loss</td><td>▁▃▂▁█</td></tr><tr><td>test_precision</td><td>▃▁▁█▁</td></tr><tr><td>test_recall</td><td>█▁▁▁▁</td></tr><tr><td>train_acc</td><td>▁▄▄▄█</td></tr><tr><td>train_loss</td><td>█▃▃▁▁</td></tr></table><br/></div><div class=\"wandb-col\"><h3>Run summary:</h3><br/><table class=\"wandb\"><tr><td>epoch</td><td>5</td></tr><tr><td>k_shot</td><td>70</td></tr><tr><td>test_acc</td><td>0.06744</td></tr><tr><td>test_balanced_acc</td><td>0.11042</td></tr><tr><td>test_f1</td><td>0.00891</td></tr><tr><td>test_loss</td><td>2.23305</td></tr><tr><td>test_precision</td><td>0.02493</td></tr><tr><td>test_recall</td><td>0.06744</td></tr><tr><td>train_acc</td><td>0.12381</td></tr><tr><td>train_loss</td><td>2.24835</td></tr></table><br/></div></div>"
            ],
            "text/plain": [
              "<IPython.core.display.HTML object>"
            ]
          },
          "metadata": {},
          "output_type": "display_data"
        },
        {
          "data": {
            "text/html": [
              " View run <strong style=\"color:#cdcd00\">GRU-FastText_K-70_Training</strong> at: <a href='https://wandb.ai/wilfried-mvomoeto-university-of-li-ge/Few-Shot-Training_gru_glove_fastText_Bahdanau-GRU-FastText-/runs/v7fuvi18' target=\"_blank\">https://wandb.ai/wilfried-mvomoeto-university-of-li-ge/Few-Shot-Training_gru_glove_fastText_Bahdanau-GRU-FastText-/runs/v7fuvi18</a><br> View project at: <a href='https://wandb.ai/wilfried-mvomoeto-university-of-li-ge/Few-Shot-Training_gru_glove_fastText_Bahdanau-GRU-FastText-' target=\"_blank\">https://wandb.ai/wilfried-mvomoeto-university-of-li-ge/Few-Shot-Training_gru_glove_fastText_Bahdanau-GRU-FastText-</a><br>Synced 5 W&B file(s), 0 media file(s), 0 artifact file(s) and 0 other file(s)"
            ],
            "text/plain": [
              "<IPython.core.display.HTML object>"
            ]
          },
          "metadata": {},
          "output_type": "display_data"
        },
        {
          "data": {
            "text/html": [
              "Find logs at: <code>./wandb/run-20250421_083626-v7fuvi18/logs</code>"
            ],
            "text/plain": [
              "<IPython.core.display.HTML object>"
            ]
          },
          "metadata": {},
          "output_type": "display_data"
        },
        {
          "data": {
            "text/html": [
              "Tracking run with wandb version 0.19.9"
            ],
            "text/plain": [
              "<IPython.core.display.HTML object>"
            ]
          },
          "metadata": {},
          "output_type": "display_data"
        },
        {
          "data": {
            "text/html": [
              "Run data is saved locally in <code>/content/wandb/run-20250421_083632-4jk6q7of</code>"
            ],
            "text/plain": [
              "<IPython.core.display.HTML object>"
            ]
          },
          "metadata": {},
          "output_type": "display_data"
        },
        {
          "data": {
            "text/html": [
              "Syncing run <strong><a href='https://wandb.ai/wilfried-mvomoeto-university-of-li-ge/Few-Shot-Training_gru_glove_fastText_Bahdanau-GRU-Bah-Glove-/runs/4jk6q7of' target=\"_blank\">GRU-Bah-Glove_K-80_Training</a></strong> to <a href='https://wandb.ai/wilfried-mvomoeto-university-of-li-ge/Few-Shot-Training_gru_glove_fastText_Bahdanau-GRU-Bah-Glove-' target=\"_blank\">Weights & Biases</a> (<a href='https://wandb.me/developer-guide' target=\"_blank\">docs</a>)<br>"
            ],
            "text/plain": [
              "<IPython.core.display.HTML object>"
            ]
          },
          "metadata": {},
          "output_type": "display_data"
        },
        {
          "data": {
            "text/html": [
              " View project at <a href='https://wandb.ai/wilfried-mvomoeto-university-of-li-ge/Few-Shot-Training_gru_glove_fastText_Bahdanau-GRU-Bah-Glove-' target=\"_blank\">https://wandb.ai/wilfried-mvomoeto-university-of-li-ge/Few-Shot-Training_gru_glove_fastText_Bahdanau-GRU-Bah-Glove-</a>"
            ],
            "text/plain": [
              "<IPython.core.display.HTML object>"
            ]
          },
          "metadata": {},
          "output_type": "display_data"
        },
        {
          "data": {
            "text/html": [
              " View run at <a href='https://wandb.ai/wilfried-mvomoeto-university-of-li-ge/Few-Shot-Training_gru_glove_fastText_Bahdanau-GRU-Bah-Glove-/runs/4jk6q7of' target=\"_blank\">https://wandb.ai/wilfried-mvomoeto-university-of-li-ge/Few-Shot-Training_gru_glove_fastText_Bahdanau-GRU-Bah-Glove-/runs/4jk6q7of</a>"
            ],
            "text/plain": [
              "<IPython.core.display.HTML object>"
            ]
          },
          "metadata": {},
          "output_type": "display_data"
        },
        {
          "name": "stderr",
          "output_type": "stream",
          "text": [
            "GRU-Bah-Glove K-80 Epoch 16/1000 - Train Loss: 1.0710, Test Loss: 1.0326, Train Acc: 65.00%, Test Acc: 60.49%, Test F1: 58.83%, Test Balanced Acc: 62.64%, Test Recall: 60.49%, Test Precision: 73.54%, Time: 1.46 sec:   2%|▏         | 16/1000 [00:25<25:56,  1.58s/epoch]"
          ]
        },
        {
          "name": "stdout",
          "output_type": "stream",
          "text": [
            "Early stopping triggered at epoch 17\n",
            "Model GRU-Bah-Glove_K-80 saved with loss gap > 1.25 or accuracy gap > 10% at epoch 16.\n"
          ]
        },
        {
          "name": "stderr",
          "output_type": "stream",
          "text": [
            "\n",
            "<ipython-input-9-f03193db776b>:44: UserWarning: To copy construct from a tensor, it is recommended to use sourceTensor.clone().detach() or sourceTensor.clone().detach().requires_grad_(True), rather than torch.tensor(sourceTensor).\n",
            "  self.X = torch.tensor(X_data, dtype=torch.long)\n",
            "<ipython-input-9-f03193db776b>:45: UserWarning: To copy construct from a tensor, it is recommended to use sourceTensor.clone().detach() or sourceTensor.clone().detach().requires_grad_(True), rather than torch.tensor(sourceTensor).\n",
            "  self.y = torch.tensor(y_data, dtype=torch.long)\n"
          ]
        },
        {
          "data": {
            "text/html": [],
            "text/plain": [
              "<IPython.core.display.HTML object>"
            ]
          },
          "metadata": {},
          "output_type": "display_data"
        },
        {
          "data": {
            "text/html": [
              "<br>    <style><br>        .wandb-row {<br>            display: flex;<br>            flex-direction: row;<br>            flex-wrap: wrap;<br>            justify-content: flex-start;<br>            width: 100%;<br>        }<br>        .wandb-col {<br>            display: flex;<br>            flex-direction: column;<br>            flex-basis: 100%;<br>            flex: 1;<br>            padding: 10px;<br>        }<br>    </style><br><div class=\"wandb-row\"><div class=\"wandb-col\"><h3>Run history:</h3><br/><table class=\"wandb\"><tr><td>epoch</td><td>▁▁▂▂▃▃▄▄▅▅▅▆▆▇▇██</td></tr><tr><td>k_shot</td><td>▁▁▁▁▁▁▁▁▁▁▁▁▁▁▁▁▁</td></tr><tr><td>test_acc</td><td>▁▂▂▃▃▄▆▇▇████████</td></tr><tr><td>test_balanced_acc</td><td>▁▂▂▃▃▄▆▇▇████████</td></tr><tr><td>test_f1</td><td>▁▂▂▃▃▃▆▆▇████████</td></tr><tr><td>test_loss</td><td>██▇▇▆▅▅▄▄▃▂▂▂▁▁▁▁</td></tr><tr><td>test_precision</td><td>▁▂▃▃▃▄▅▆▆███████▇</td></tr><tr><td>test_recall</td><td>▁▂▂▃▃▄▆▇▇████████</td></tr><tr><td>train_acc</td><td>▁▁▂▂▃▄▄▅▅▆▇▇█████</td></tr><tr><td>train_loss</td><td>███▇▆▅▅▄▄▃▃▂▂▁▁▁▁</td></tr></table><br/></div><div class=\"wandb-col\"><h3>Run summary:</h3><br/><table class=\"wandb\"><tr><td>epoch</td><td>17</td></tr><tr><td>k_shot</td><td>80</td></tr><tr><td>test_acc</td><td>0.61056</td></tr><tr><td>test_balanced_acc</td><td>0.63126</td></tr><tr><td>test_f1</td><td>0.60228</td></tr><tr><td>test_loss</td><td>1.02052</td></tr><tr><td>test_precision</td><td>0.70565</td></tr><tr><td>test_recall</td><td>0.61056</td></tr><tr><td>train_acc</td><td>0.66389</td></tr><tr><td>train_loss</td><td>1.04197</td></tr></table><br/></div></div>"
            ],
            "text/plain": [
              "<IPython.core.display.HTML object>"
            ]
          },
          "metadata": {},
          "output_type": "display_data"
        },
        {
          "data": {
            "text/html": [
              " View run <strong style=\"color:#cdcd00\">GRU-Bah-Glove_K-80_Training</strong> at: <a href='https://wandb.ai/wilfried-mvomoeto-university-of-li-ge/Few-Shot-Training_gru_glove_fastText_Bahdanau-GRU-Bah-Glove-/runs/4jk6q7of' target=\"_blank\">https://wandb.ai/wilfried-mvomoeto-university-of-li-ge/Few-Shot-Training_gru_glove_fastText_Bahdanau-GRU-Bah-Glove-/runs/4jk6q7of</a><br> View project at: <a href='https://wandb.ai/wilfried-mvomoeto-university-of-li-ge/Few-Shot-Training_gru_glove_fastText_Bahdanau-GRU-Bah-Glove-' target=\"_blank\">https://wandb.ai/wilfried-mvomoeto-university-of-li-ge/Few-Shot-Training_gru_glove_fastText_Bahdanau-GRU-Bah-Glove-</a><br>Synced 5 W&B file(s), 0 media file(s), 0 artifact file(s) and 0 other file(s)"
            ],
            "text/plain": [
              "<IPython.core.display.HTML object>"
            ]
          },
          "metadata": {},
          "output_type": "display_data"
        },
        {
          "data": {
            "text/html": [
              "Find logs at: <code>./wandb/run-20250421_083632-4jk6q7of/logs</code>"
            ],
            "text/plain": [
              "<IPython.core.display.HTML object>"
            ]
          },
          "metadata": {},
          "output_type": "display_data"
        },
        {
          "data": {
            "text/html": [
              "Tracking run with wandb version 0.19.9"
            ],
            "text/plain": [
              "<IPython.core.display.HTML object>"
            ]
          },
          "metadata": {},
          "output_type": "display_data"
        },
        {
          "data": {
            "text/html": [
              "Run data is saved locally in <code>/content/wandb/run-20250421_083659-rhz8as9a</code>"
            ],
            "text/plain": [
              "<IPython.core.display.HTML object>"
            ]
          },
          "metadata": {},
          "output_type": "display_data"
        },
        {
          "data": {
            "text/html": [
              "Syncing run <strong><a href='https://wandb.ai/wilfried-mvomoeto-university-of-li-ge/Few-Shot-Training_gru_glove_fastText_Bahdanau-GRU-Bah-FastText-/runs/rhz8as9a' target=\"_blank\">GRU-Bah-FastText_K-80_Training</a></strong> to <a href='https://wandb.ai/wilfried-mvomoeto-university-of-li-ge/Few-Shot-Training_gru_glove_fastText_Bahdanau-GRU-Bah-FastText-' target=\"_blank\">Weights & Biases</a> (<a href='https://wandb.me/developer-guide' target=\"_blank\">docs</a>)<br>"
            ],
            "text/plain": [
              "<IPython.core.display.HTML object>"
            ]
          },
          "metadata": {},
          "output_type": "display_data"
        },
        {
          "data": {
            "text/html": [
              " View project at <a href='https://wandb.ai/wilfried-mvomoeto-university-of-li-ge/Few-Shot-Training_gru_glove_fastText_Bahdanau-GRU-Bah-FastText-' target=\"_blank\">https://wandb.ai/wilfried-mvomoeto-university-of-li-ge/Few-Shot-Training_gru_glove_fastText_Bahdanau-GRU-Bah-FastText-</a>"
            ],
            "text/plain": [
              "<IPython.core.display.HTML object>"
            ]
          },
          "metadata": {},
          "output_type": "display_data"
        },
        {
          "data": {
            "text/html": [
              " View run at <a href='https://wandb.ai/wilfried-mvomoeto-university-of-li-ge/Few-Shot-Training_gru_glove_fastText_Bahdanau-GRU-Bah-FastText-/runs/rhz8as9a' target=\"_blank\">https://wandb.ai/wilfried-mvomoeto-university-of-li-ge/Few-Shot-Training_gru_glove_fastText_Bahdanau-GRU-Bah-FastText-/runs/rhz8as9a</a>"
            ],
            "text/plain": [
              "<IPython.core.display.HTML object>"
            ]
          },
          "metadata": {},
          "output_type": "display_data"
        },
        {
          "name": "stderr",
          "output_type": "stream",
          "text": [
            "GRU-Bah-FastText K-80 Epoch 34/1000 - Train Loss: 0.4548, Test Loss: 0.5502, Train Acc: 86.94%, Test Acc: 83.74%, Test F1: 84.37%, Test Balanced Acc: 84.21%, Test Recall: 83.74%, Test Precision: 85.83%, Time: 1.45 sec:   3%|▎         | 34/1000 [00:52<24:38,  1.53s/epoch]"
          ]
        },
        {
          "name": "stdout",
          "output_type": "stream",
          "text": [
            "Early stopping triggered at epoch 35\n",
            "Model GRU-Bah-FastText_K-80 saved with loss gap > 1.25 or accuracy gap > 10% at epoch 34.\n"
          ]
        },
        {
          "name": "stderr",
          "output_type": "stream",
          "text": [
            "\n",
            "<ipython-input-9-f03193db776b>:44: UserWarning: To copy construct from a tensor, it is recommended to use sourceTensor.clone().detach() or sourceTensor.clone().detach().requires_grad_(True), rather than torch.tensor(sourceTensor).\n",
            "  self.X = torch.tensor(X_data, dtype=torch.long)\n",
            "<ipython-input-9-f03193db776b>:45: UserWarning: To copy construct from a tensor, it is recommended to use sourceTensor.clone().detach() or sourceTensor.clone().detach().requires_grad_(True), rather than torch.tensor(sourceTensor).\n",
            "  self.y = torch.tensor(y_data, dtype=torch.long)\n"
          ]
        },
        {
          "data": {
            "text/html": [],
            "text/plain": [
              "<IPython.core.display.HTML object>"
            ]
          },
          "metadata": {},
          "output_type": "display_data"
        },
        {
          "data": {
            "text/html": [
              "<br>    <style><br>        .wandb-row {<br>            display: flex;<br>            flex-direction: row;<br>            flex-wrap: wrap;<br>            justify-content: flex-start;<br>            width: 100%;<br>        }<br>        .wandb-col {<br>            display: flex;<br>            flex-direction: column;<br>            flex-basis: 100%;<br>            flex: 1;<br>            padding: 10px;<br>        }<br>    </style><br><div class=\"wandb-row\"><div class=\"wandb-col\"><h3>Run history:</h3><br/><table class=\"wandb\"><tr><td>epoch</td><td>▁▁▁▂▂▂▂▂▃▃▃▃▃▄▄▄▄▅▅▅▅▅▆▆▆▆▆▇▇▇▇▇███</td></tr><tr><td>k_shot</td><td>▁▁▁▁▁▁▁▁▁▁▁▁▁▁▁▁▁▁▁▁▁▁▁▁▁▁▁▁▁▁▁▁▁▁▁</td></tr><tr><td>test_acc</td><td>▁▁▂▂▃▃▃▄▄▆▆▆▆▇▇▇▇▇▇▇███████████████</td></tr><tr><td>test_balanced_acc</td><td>▁▂▂▂▃▃▃▄▄▆▆▆▆▇▇▇▇▇▇▇▇██████████████</td></tr><tr><td>test_f1</td><td>▁▁▁▂▂▃▃▄▄▅▆▆▆▇▇▇▇▇▇▇▇██████████████</td></tr><tr><td>test_loss</td><td>███▇▇▇▆▆▅▅▄▄▃▃▃▃▂▂▂▂▂▂▂▂▁▁▁▁▁▁▁▁▁▁▁</td></tr><tr><td>test_precision</td><td>▁▁▂▃▃▃▄▅▅▆▆▆▆▇▇▇▇▇▇▇▇▇█████████████</td></tr><tr><td>test_recall</td><td>▁▁▂▂▃▃▃▄▄▆▆▆▆▇▇▇▇▇▇▇███████████████</td></tr><tr><td>train_acc</td><td>▁▁▂▂▂▃▃▄▄▅▅▅▆▆▆▆▆▇▇▇▇▇▇▇▇██▇███████</td></tr><tr><td>train_loss</td><td>███▇▇▇▆▆▆▅▅▄▄▄▃▃▃▃▃▂▂▂▂▂▂▂▂▂▁▁▁▁▁▁▁</td></tr></table><br/></div><div class=\"wandb-col\"><h3>Run summary:</h3><br/><table class=\"wandb\"><tr><td>epoch</td><td>35</td></tr><tr><td>k_shot</td><td>80</td></tr><tr><td>test_acc</td><td>0.83805</td></tr><tr><td>test_balanced_acc</td><td>0.84285</td></tr><tr><td>test_f1</td><td>0.84471</td></tr><tr><td>test_loss</td><td>0.54435</td></tr><tr><td>test_precision</td><td>0.85974</td></tr><tr><td>test_recall</td><td>0.83805</td></tr><tr><td>train_acc</td><td>0.8875</td></tr><tr><td>train_loss</td><td>0.42967</td></tr></table><br/></div></div>"
            ],
            "text/plain": [
              "<IPython.core.display.HTML object>"
            ]
          },
          "metadata": {},
          "output_type": "display_data"
        },
        {
          "data": {
            "text/html": [
              " View run <strong style=\"color:#cdcd00\">GRU-Bah-FastText_K-80_Training</strong> at: <a href='https://wandb.ai/wilfried-mvomoeto-university-of-li-ge/Few-Shot-Training_gru_glove_fastText_Bahdanau-GRU-Bah-FastText-/runs/rhz8as9a' target=\"_blank\">https://wandb.ai/wilfried-mvomoeto-university-of-li-ge/Few-Shot-Training_gru_glove_fastText_Bahdanau-GRU-Bah-FastText-/runs/rhz8as9a</a><br> View project at: <a href='https://wandb.ai/wilfried-mvomoeto-university-of-li-ge/Few-Shot-Training_gru_glove_fastText_Bahdanau-GRU-Bah-FastText-' target=\"_blank\">https://wandb.ai/wilfried-mvomoeto-university-of-li-ge/Few-Shot-Training_gru_glove_fastText_Bahdanau-GRU-Bah-FastText-</a><br>Synced 5 W&B file(s), 0 media file(s), 0 artifact file(s) and 0 other file(s)"
            ],
            "text/plain": [
              "<IPython.core.display.HTML object>"
            ]
          },
          "metadata": {},
          "output_type": "display_data"
        },
        {
          "data": {
            "text/html": [
              "Find logs at: <code>./wandb/run-20250421_083659-rhz8as9a/logs</code>"
            ],
            "text/plain": [
              "<IPython.core.display.HTML object>"
            ]
          },
          "metadata": {},
          "output_type": "display_data"
        },
        {
          "data": {
            "text/html": [
              "Tracking run with wandb version 0.19.9"
            ],
            "text/plain": [
              "<IPython.core.display.HTML object>"
            ]
          },
          "metadata": {},
          "output_type": "display_data"
        },
        {
          "data": {
            "text/html": [
              "Run data is saved locally in <code>/content/wandb/run-20250421_083753-nus2big8</code>"
            ],
            "text/plain": [
              "<IPython.core.display.HTML object>"
            ]
          },
          "metadata": {},
          "output_type": "display_data"
        },
        {
          "data": {
            "text/html": [
              "Syncing run <strong><a href='https://wandb.ai/wilfried-mvomoeto-university-of-li-ge/Few-Shot-Training_gru_glove_fastText_Bahdanau-CNN_LSTM-/runs/nus2big8' target=\"_blank\">CNN_LSTM_K-80_Training</a></strong> to <a href='https://wandb.ai/wilfried-mvomoeto-university-of-li-ge/Few-Shot-Training_gru_glove_fastText_Bahdanau-CNN_LSTM-' target=\"_blank\">Weights & Biases</a> (<a href='https://wandb.me/developer-guide' target=\"_blank\">docs</a>)<br>"
            ],
            "text/plain": [
              "<IPython.core.display.HTML object>"
            ]
          },
          "metadata": {},
          "output_type": "display_data"
        },
        {
          "data": {
            "text/html": [
              " View project at <a href='https://wandb.ai/wilfried-mvomoeto-university-of-li-ge/Few-Shot-Training_gru_glove_fastText_Bahdanau-CNN_LSTM-' target=\"_blank\">https://wandb.ai/wilfried-mvomoeto-university-of-li-ge/Few-Shot-Training_gru_glove_fastText_Bahdanau-CNN_LSTM-</a>"
            ],
            "text/plain": [
              "<IPython.core.display.HTML object>"
            ]
          },
          "metadata": {},
          "output_type": "display_data"
        },
        {
          "data": {
            "text/html": [
              " View run at <a href='https://wandb.ai/wilfried-mvomoeto-university-of-li-ge/Few-Shot-Training_gru_glove_fastText_Bahdanau-CNN_LSTM-/runs/nus2big8' target=\"_blank\">https://wandb.ai/wilfried-mvomoeto-university-of-li-ge/Few-Shot-Training_gru_glove_fastText_Bahdanau-CNN_LSTM-/runs/nus2big8</a>"
            ],
            "text/plain": [
              "<IPython.core.display.HTML object>"
            ]
          },
          "metadata": {},
          "output_type": "display_data"
        },
        {
          "name": "stderr",
          "output_type": "stream",
          "text": [
            "CNN_LSTM K-80 Epoch 9/1000 - Train Loss: 2.1744, Test Loss: 2.2141, Train Acc: 11.67%, Test Acc: 6.78%, Test F1: 0.86%, Test Balanced Acc: 11.11%, Test Recall: 6.78%, Test Precision: 0.46%, Time: 0.95 sec:   1%|          | 9/1000 [00:10<18:43,  1.13s/epoch]"
          ]
        },
        {
          "name": "stdout",
          "output_type": "stream",
          "text": [
            "Early stopping triggered at epoch 10\n",
            "Model CNN_LSTM_K-80 saved with loss gap > 1.25 or accuracy gap > 10% at epoch 9.\n"
          ]
        },
        {
          "name": "stderr",
          "output_type": "stream",
          "text": [
            "\n",
            "<ipython-input-9-f03193db776b>:44: UserWarning: To copy construct from a tensor, it is recommended to use sourceTensor.clone().detach() or sourceTensor.clone().detach().requires_grad_(True), rather than torch.tensor(sourceTensor).\n",
            "  self.X = torch.tensor(X_data, dtype=torch.long)\n",
            "<ipython-input-9-f03193db776b>:45: UserWarning: To copy construct from a tensor, it is recommended to use sourceTensor.clone().detach() or sourceTensor.clone().detach().requires_grad_(True), rather than torch.tensor(sourceTensor).\n",
            "  self.y = torch.tensor(y_data, dtype=torch.long)\n"
          ]
        },
        {
          "data": {
            "text/html": [],
            "text/plain": [
              "<IPython.core.display.HTML object>"
            ]
          },
          "metadata": {},
          "output_type": "display_data"
        },
        {
          "data": {
            "text/html": [
              "<br>    <style><br>        .wandb-row {<br>            display: flex;<br>            flex-direction: row;<br>            flex-wrap: wrap;<br>            justify-content: flex-start;<br>            width: 100%;<br>        }<br>        .wandb-col {<br>            display: flex;<br>            flex-direction: column;<br>            flex-basis: 100%;<br>            flex: 1;<br>            padding: 10px;<br>        }<br>    </style><br><div class=\"wandb-row\"><div class=\"wandb-col\"><h3>Run history:</h3><br/><table class=\"wandb\"><tr><td>epoch</td><td>▁▂▃▃▄▅▆▆▇█</td></tr><tr><td>k_shot</td><td>▁▁▁▁▁▁▁▁▁▁</td></tr><tr><td>test_acc</td><td>▁▁▁▁▁▁▁▁▁▁</td></tr><tr><td>test_balanced_acc</td><td>▁▁▁▁▁▁▁▁▁▁</td></tr><tr><td>test_f1</td><td>▁▁▁▁▁▁▁▁▁█</td></tr><tr><td>test_loss</td><td>▁█▃▄▄▄▄▅▆▅</td></tr><tr><td>test_precision</td><td>▁▁▁▁▁▁▁▁▁█</td></tr><tr><td>test_recall</td><td>▁▁▁▁▁▁▁▁▁▁</td></tr><tr><td>train_acc</td><td>▁▂▃▃▃▄▄▅▇█</td></tr><tr><td>train_loss</td><td>█▅▅▃▃▃▃▂▂▁</td></tr></table><br/></div><div class=\"wandb-col\"><h3>Run summary:</h3><br/><table class=\"wandb\"><tr><td>epoch</td><td>10</td></tr><tr><td>k_shot</td><td>80</td></tr><tr><td>test_acc</td><td>0.06778</td></tr><tr><td>test_balanced_acc</td><td>0.11111</td></tr><tr><td>test_f1</td><td>0.00861</td></tr><tr><td>test_loss</td><td>2.21229</td></tr><tr><td>test_precision</td><td>0.0046</td></tr><tr><td>test_recall</td><td>0.06778</td></tr><tr><td>train_acc</td><td>0.11806</td></tr><tr><td>train_loss</td><td>2.16926</td></tr></table><br/></div></div>"
            ],
            "text/plain": [
              "<IPython.core.display.HTML object>"
            ]
          },
          "metadata": {},
          "output_type": "display_data"
        },
        {
          "data": {
            "text/html": [
              " View run <strong style=\"color:#cdcd00\">CNN_LSTM_K-80_Training</strong> at: <a href='https://wandb.ai/wilfried-mvomoeto-university-of-li-ge/Few-Shot-Training_gru_glove_fastText_Bahdanau-CNN_LSTM-/runs/nus2big8' target=\"_blank\">https://wandb.ai/wilfried-mvomoeto-university-of-li-ge/Few-Shot-Training_gru_glove_fastText_Bahdanau-CNN_LSTM-/runs/nus2big8</a><br> View project at: <a href='https://wandb.ai/wilfried-mvomoeto-university-of-li-ge/Few-Shot-Training_gru_glove_fastText_Bahdanau-CNN_LSTM-' target=\"_blank\">https://wandb.ai/wilfried-mvomoeto-university-of-li-ge/Few-Shot-Training_gru_glove_fastText_Bahdanau-CNN_LSTM-</a><br>Synced 5 W&B file(s), 0 media file(s), 0 artifact file(s) and 0 other file(s)"
            ],
            "text/plain": [
              "<IPython.core.display.HTML object>"
            ]
          },
          "metadata": {},
          "output_type": "display_data"
        },
        {
          "data": {
            "text/html": [
              "Find logs at: <code>./wandb/run-20250421_083753-nus2big8/logs</code>"
            ],
            "text/plain": [
              "<IPython.core.display.HTML object>"
            ]
          },
          "metadata": {},
          "output_type": "display_data"
        },
        {
          "data": {
            "text/html": [
              "Tracking run with wandb version 0.19.9"
            ],
            "text/plain": [
              "<IPython.core.display.HTML object>"
            ]
          },
          "metadata": {},
          "output_type": "display_data"
        },
        {
          "data": {
            "text/html": [
              "Run data is saved locally in <code>/content/wandb/run-20250421_083805-h5v6hl3m</code>"
            ],
            "text/plain": [
              "<IPython.core.display.HTML object>"
            ]
          },
          "metadata": {},
          "output_type": "display_data"
        },
        {
          "data": {
            "text/html": [
              "Syncing run <strong><a href='https://wandb.ai/wilfried-mvomoeto-university-of-li-ge/Few-Shot-Training_gru_glove_fastText_Bahdanau-GRU-Glove-/runs/h5v6hl3m' target=\"_blank\">GRU-Glove_K-80_Training</a></strong> to <a href='https://wandb.ai/wilfried-mvomoeto-university-of-li-ge/Few-Shot-Training_gru_glove_fastText_Bahdanau-GRU-Glove-' target=\"_blank\">Weights & Biases</a> (<a href='https://wandb.me/developer-guide' target=\"_blank\">docs</a>)<br>"
            ],
            "text/plain": [
              "<IPython.core.display.HTML object>"
            ]
          },
          "metadata": {},
          "output_type": "display_data"
        },
        {
          "data": {
            "text/html": [
              " View project at <a href='https://wandb.ai/wilfried-mvomoeto-university-of-li-ge/Few-Shot-Training_gru_glove_fastText_Bahdanau-GRU-Glove-' target=\"_blank\">https://wandb.ai/wilfried-mvomoeto-university-of-li-ge/Few-Shot-Training_gru_glove_fastText_Bahdanau-GRU-Glove-</a>"
            ],
            "text/plain": [
              "<IPython.core.display.HTML object>"
            ]
          },
          "metadata": {},
          "output_type": "display_data"
        },
        {
          "data": {
            "text/html": [
              " View run at <a href='https://wandb.ai/wilfried-mvomoeto-university-of-li-ge/Few-Shot-Training_gru_glove_fastText_Bahdanau-GRU-Glove-/runs/h5v6hl3m' target=\"_blank\">https://wandb.ai/wilfried-mvomoeto-university-of-li-ge/Few-Shot-Training_gru_glove_fastText_Bahdanau-GRU-Glove-/runs/h5v6hl3m</a>"
            ],
            "text/plain": [
              "<IPython.core.display.HTML object>"
            ]
          },
          "metadata": {},
          "output_type": "display_data"
        },
        {
          "name": "stderr",
          "output_type": "stream",
          "text": [
            "GRU-Glove K-80 Epoch 1/1000 - Train Loss: 2.2731, Test Loss: 2.2500, Train Acc: 11.25%, Test Acc: 6.76%, Test F1: 0.89%, Test Balanced Acc: 11.07%, Test Recall: 6.76%, Test Precision: 4.53%, Time: 0.90 sec:   0%|          | 1/1000 [00:01<31:42,  1.90s/epoch]"
          ]
        },
        {
          "name": "stdout",
          "output_type": "stream",
          "text": [
            "Early stopping triggered at epoch 2\n",
            "Model GRU-Glove_K-80 saved with loss gap > 1.25 or accuracy gap > 10% at epoch 1.\n"
          ]
        },
        {
          "name": "stderr",
          "output_type": "stream",
          "text": [
            "\n",
            "<ipython-input-9-f03193db776b>:44: UserWarning: To copy construct from a tensor, it is recommended to use sourceTensor.clone().detach() or sourceTensor.clone().detach().requires_grad_(True), rather than torch.tensor(sourceTensor).\n",
            "  self.X = torch.tensor(X_data, dtype=torch.long)\n",
            "<ipython-input-9-f03193db776b>:45: UserWarning: To copy construct from a tensor, it is recommended to use sourceTensor.clone().detach() or sourceTensor.clone().detach().requires_grad_(True), rather than torch.tensor(sourceTensor).\n",
            "  self.y = torch.tensor(y_data, dtype=torch.long)\n"
          ]
        },
        {
          "data": {
            "text/html": [],
            "text/plain": [
              "<IPython.core.display.HTML object>"
            ]
          },
          "metadata": {},
          "output_type": "display_data"
        },
        {
          "data": {
            "text/html": [
              "<br>    <style><br>        .wandb-row {<br>            display: flex;<br>            flex-direction: row;<br>            flex-wrap: wrap;<br>            justify-content: flex-start;<br>            width: 100%;<br>        }<br>        .wandb-col {<br>            display: flex;<br>            flex-direction: column;<br>            flex-basis: 100%;<br>            flex: 1;<br>            padding: 10px;<br>        }<br>    </style><br><div class=\"wandb-row\"><div class=\"wandb-col\"><h3>Run history:</h3><br/><table class=\"wandb\"><tr><td>epoch</td><td>▁█</td></tr><tr><td>k_shot</td><td>▁▁</td></tr><tr><td>test_acc</td><td>▁█</td></tr><tr><td>test_balanced_acc</td><td>▁█</td></tr><tr><td>test_f1</td><td>▁█</td></tr><tr><td>test_loss</td><td>█▁</td></tr><tr><td>test_precision</td><td>▁█</td></tr><tr><td>test_recall</td><td>▁█</td></tr><tr><td>train_acc</td><td>▁█</td></tr><tr><td>train_loss</td><td>█▁</td></tr></table><br/></div><div class=\"wandb-col\"><h3>Run summary:</h3><br/><table class=\"wandb\"><tr><td>epoch</td><td>2</td></tr><tr><td>k_shot</td><td>80</td></tr><tr><td>test_acc</td><td>0.06778</td></tr><tr><td>test_balanced_acc</td><td>0.11087</td></tr><tr><td>test_f1</td><td>0.00927</td></tr><tr><td>test_loss</td><td>2.24679</td></tr><tr><td>test_precision</td><td>0.06458</td></tr><tr><td>test_recall</td><td>0.06778</td></tr><tr><td>train_acc</td><td>0.13056</td></tr><tr><td>train_loss</td><td>2.26643</td></tr></table><br/></div></div>"
            ],
            "text/plain": [
              "<IPython.core.display.HTML object>"
            ]
          },
          "metadata": {},
          "output_type": "display_data"
        },
        {
          "data": {
            "text/html": [
              " View run <strong style=\"color:#cdcd00\">GRU-Glove_K-80_Training</strong> at: <a href='https://wandb.ai/wilfried-mvomoeto-university-of-li-ge/Few-Shot-Training_gru_glove_fastText_Bahdanau-GRU-Glove-/runs/h5v6hl3m' target=\"_blank\">https://wandb.ai/wilfried-mvomoeto-university-of-li-ge/Few-Shot-Training_gru_glove_fastText_Bahdanau-GRU-Glove-/runs/h5v6hl3m</a><br> View project at: <a href='https://wandb.ai/wilfried-mvomoeto-university-of-li-ge/Few-Shot-Training_gru_glove_fastText_Bahdanau-GRU-Glove-' target=\"_blank\">https://wandb.ai/wilfried-mvomoeto-university-of-li-ge/Few-Shot-Training_gru_glove_fastText_Bahdanau-GRU-Glove-</a><br>Synced 5 W&B file(s), 0 media file(s), 0 artifact file(s) and 0 other file(s)"
            ],
            "text/plain": [
              "<IPython.core.display.HTML object>"
            ]
          },
          "metadata": {},
          "output_type": "display_data"
        },
        {
          "data": {
            "text/html": [
              "Find logs at: <code>./wandb/run-20250421_083805-h5v6hl3m/logs</code>"
            ],
            "text/plain": [
              "<IPython.core.display.HTML object>"
            ]
          },
          "metadata": {},
          "output_type": "display_data"
        },
        {
          "data": {
            "text/html": [
              "Tracking run with wandb version 0.19.9"
            ],
            "text/plain": [
              "<IPython.core.display.HTML object>"
            ]
          },
          "metadata": {},
          "output_type": "display_data"
        },
        {
          "data": {
            "text/html": [
              "Run data is saved locally in <code>/content/wandb/run-20250421_083808-69rbfr3i</code>"
            ],
            "text/plain": [
              "<IPython.core.display.HTML object>"
            ]
          },
          "metadata": {},
          "output_type": "display_data"
        },
        {
          "data": {
            "text/html": [
              "Syncing run <strong><a href='https://wandb.ai/wilfried-mvomoeto-university-of-li-ge/Few-Shot-Training_gru_glove_fastText_Bahdanau-GRU-FastText-/runs/69rbfr3i' target=\"_blank\">GRU-FastText_K-80_Training</a></strong> to <a href='https://wandb.ai/wilfried-mvomoeto-university-of-li-ge/Few-Shot-Training_gru_glove_fastText_Bahdanau-GRU-FastText-' target=\"_blank\">Weights & Biases</a> (<a href='https://wandb.me/developer-guide' target=\"_blank\">docs</a>)<br>"
            ],
            "text/plain": [
              "<IPython.core.display.HTML object>"
            ]
          },
          "metadata": {},
          "output_type": "display_data"
        },
        {
          "data": {
            "text/html": [
              " View project at <a href='https://wandb.ai/wilfried-mvomoeto-university-of-li-ge/Few-Shot-Training_gru_glove_fastText_Bahdanau-GRU-FastText-' target=\"_blank\">https://wandb.ai/wilfried-mvomoeto-university-of-li-ge/Few-Shot-Training_gru_glove_fastText_Bahdanau-GRU-FastText-</a>"
            ],
            "text/plain": [
              "<IPython.core.display.HTML object>"
            ]
          },
          "metadata": {},
          "output_type": "display_data"
        },
        {
          "data": {
            "text/html": [
              " View run at <a href='https://wandb.ai/wilfried-mvomoeto-university-of-li-ge/Few-Shot-Training_gru_glove_fastText_Bahdanau-GRU-FastText-/runs/69rbfr3i' target=\"_blank\">https://wandb.ai/wilfried-mvomoeto-university-of-li-ge/Few-Shot-Training_gru_glove_fastText_Bahdanau-GRU-FastText-/runs/69rbfr3i</a>"
            ],
            "text/plain": [
              "<IPython.core.display.HTML object>"
            ]
          },
          "metadata": {},
          "output_type": "display_data"
        },
        {
          "name": "stderr",
          "output_type": "stream",
          "text": [
            "GRU-FastText K-80 Epoch 3/1000 - Train Loss: 2.2828, Test Loss: 2.2540, Train Acc: 11.11%, Test Acc: 6.78%, Test F1: 0.96%, Test Balanced Acc: 11.08%, Test Recall: 6.78%, Test Precision: 10.55%, Time: 1.06 sec:   0%|          | 3/1000 [00:04<23:04,  1.39s/epoch]"
          ]
        },
        {
          "name": "stdout",
          "output_type": "stream",
          "text": [
            "Early stopping triggered at epoch 4\n",
            "Model GRU-FastText_K-80 saved with loss gap > 1.25 or accuracy gap > 10% at epoch 3.\n",
            "\n",
            "Training with 100-shot...\n"
          ]
        },
        {
          "name": "stderr",
          "output_type": "stream",
          "text": [
            "\n",
            "<ipython-input-9-f03193db776b>:44: UserWarning: To copy construct from a tensor, it is recommended to use sourceTensor.clone().detach() or sourceTensor.clone().detach().requires_grad_(True), rather than torch.tensor(sourceTensor).\n",
            "  self.X = torch.tensor(X_data, dtype=torch.long)\n",
            "<ipython-input-9-f03193db776b>:45: UserWarning: To copy construct from a tensor, it is recommended to use sourceTensor.clone().detach() or sourceTensor.clone().detach().requires_grad_(True), rather than torch.tensor(sourceTensor).\n",
            "  self.y = torch.tensor(y_data, dtype=torch.long)\n"
          ]
        },
        {
          "data": {
            "text/html": [],
            "text/plain": [
              "<IPython.core.display.HTML object>"
            ]
          },
          "metadata": {},
          "output_type": "display_data"
        },
        {
          "data": {
            "text/html": [
              "<br>    <style><br>        .wandb-row {<br>            display: flex;<br>            flex-direction: row;<br>            flex-wrap: wrap;<br>            justify-content: flex-start;<br>            width: 100%;<br>        }<br>        .wandb-col {<br>            display: flex;<br>            flex-direction: column;<br>            flex-basis: 100%;<br>            flex: 1;<br>            padding: 10px;<br>        }<br>    </style><br><div class=\"wandb-row\"><div class=\"wandb-col\"><h3>Run history:</h3><br/><table class=\"wandb\"><tr><td>epoch</td><td>▁▃▆█</td></tr><tr><td>k_shot</td><td>▁▁▁▁</td></tr><tr><td>test_acc</td><td>███▁</td></tr><tr><td>test_balanced_acc</td><td>██▅▁</td></tr><tr><td>test_f1</td><td>▁▁█▁</td></tr><tr><td>test_loss</td><td>█▁▇▂</td></tr><tr><td>test_precision</td><td>▆▃█▁</td></tr><tr><td>test_recall</td><td>███▁</td></tr><tr><td>train_acc</td><td>█▁▆█</td></tr><tr><td>train_loss</td><td>█▆█▁</td></tr></table><br/></div><div class=\"wandb-col\"><h3>Run summary:</h3><br/><table class=\"wandb\"><tr><td>epoch</td><td>4</td></tr><tr><td>k_shot</td><td>80</td></tr><tr><td>test_acc</td><td>0.06761</td></tr><tr><td>test_balanced_acc</td><td>0.11059</td></tr><tr><td>test_f1</td><td>0.00926</td></tr><tr><td>test_loss</td><td>2.23158</td></tr><tr><td>test_precision</td><td>0.04639</td></tr><tr><td>test_recall</td><td>0.06761</td></tr><tr><td>train_acc</td><td>0.11806</td></tr><tr><td>train_loss</td><td>2.24002</td></tr></table><br/></div></div>"
            ],
            "text/plain": [
              "<IPython.core.display.HTML object>"
            ]
          },
          "metadata": {},
          "output_type": "display_data"
        },
        {
          "data": {
            "text/html": [
              " View run <strong style=\"color:#cdcd00\">GRU-FastText_K-80_Training</strong> at: <a href='https://wandb.ai/wilfried-mvomoeto-university-of-li-ge/Few-Shot-Training_gru_glove_fastText_Bahdanau-GRU-FastText-/runs/69rbfr3i' target=\"_blank\">https://wandb.ai/wilfried-mvomoeto-university-of-li-ge/Few-Shot-Training_gru_glove_fastText_Bahdanau-GRU-FastText-/runs/69rbfr3i</a><br> View project at: <a href='https://wandb.ai/wilfried-mvomoeto-university-of-li-ge/Few-Shot-Training_gru_glove_fastText_Bahdanau-GRU-FastText-' target=\"_blank\">https://wandb.ai/wilfried-mvomoeto-university-of-li-ge/Few-Shot-Training_gru_glove_fastText_Bahdanau-GRU-FastText-</a><br>Synced 5 W&B file(s), 0 media file(s), 0 artifact file(s) and 0 other file(s)"
            ],
            "text/plain": [
              "<IPython.core.display.HTML object>"
            ]
          },
          "metadata": {},
          "output_type": "display_data"
        },
        {
          "data": {
            "text/html": [
              "Find logs at: <code>./wandb/run-20250421_083808-69rbfr3i/logs</code>"
            ],
            "text/plain": [
              "<IPython.core.display.HTML object>"
            ]
          },
          "metadata": {},
          "output_type": "display_data"
        },
        {
          "data": {
            "text/html": [
              "Tracking run with wandb version 0.19.9"
            ],
            "text/plain": [
              "<IPython.core.display.HTML object>"
            ]
          },
          "metadata": {},
          "output_type": "display_data"
        },
        {
          "data": {
            "text/html": [
              "Run data is saved locally in <code>/content/wandb/run-20250421_083814-rnc51lhq</code>"
            ],
            "text/plain": [
              "<IPython.core.display.HTML object>"
            ]
          },
          "metadata": {},
          "output_type": "display_data"
        },
        {
          "data": {
            "text/html": [
              "Syncing run <strong><a href='https://wandb.ai/wilfried-mvomoeto-university-of-li-ge/Few-Shot-Training_gru_glove_fastText_Bahdanau-GRU-Bah-Glove-/runs/rnc51lhq' target=\"_blank\">GRU-Bah-Glove_K-100_Training</a></strong> to <a href='https://wandb.ai/wilfried-mvomoeto-university-of-li-ge/Few-Shot-Training_gru_glove_fastText_Bahdanau-GRU-Bah-Glove-' target=\"_blank\">Weights & Biases</a> (<a href='https://wandb.me/developer-guide' target=\"_blank\">docs</a>)<br>"
            ],
            "text/plain": [
              "<IPython.core.display.HTML object>"
            ]
          },
          "metadata": {},
          "output_type": "display_data"
        },
        {
          "data": {
            "text/html": [
              " View project at <a href='https://wandb.ai/wilfried-mvomoeto-university-of-li-ge/Few-Shot-Training_gru_glove_fastText_Bahdanau-GRU-Bah-Glove-' target=\"_blank\">https://wandb.ai/wilfried-mvomoeto-university-of-li-ge/Few-Shot-Training_gru_glove_fastText_Bahdanau-GRU-Bah-Glove-</a>"
            ],
            "text/plain": [
              "<IPython.core.display.HTML object>"
            ]
          },
          "metadata": {},
          "output_type": "display_data"
        },
        {
          "data": {
            "text/html": [
              " View run at <a href='https://wandb.ai/wilfried-mvomoeto-university-of-li-ge/Few-Shot-Training_gru_glove_fastText_Bahdanau-GRU-Bah-Glove-/runs/rnc51lhq' target=\"_blank\">https://wandb.ai/wilfried-mvomoeto-university-of-li-ge/Few-Shot-Training_gru_glove_fastText_Bahdanau-GRU-Bah-Glove-/runs/rnc51lhq</a>"
            ],
            "text/plain": [
              "<IPython.core.display.HTML object>"
            ]
          },
          "metadata": {},
          "output_type": "display_data"
        },
        {
          "name": "stderr",
          "output_type": "stream",
          "text": [
            "GRU-Bah-Glove K-100 Epoch 25/1000 - Train Loss: 0.4992, Test Loss: 0.5675, Train Acc: 86.89%, Test Acc: 83.13%, Test F1: 83.34%, Test Balanced Acc: 83.49%, Test Recall: 83.13%, Test Precision: 84.90%, Time: 1.59 sec:   2%|▎         | 25/1000 [00:42<27:22,  1.68s/epoch]"
          ]
        },
        {
          "name": "stdout",
          "output_type": "stream",
          "text": [
            "Early stopping triggered at epoch 26\n",
            "Model GRU-Bah-Glove_K-100 saved with loss gap > 1.25 or accuracy gap > 10% at epoch 25.\n"
          ]
        },
        {
          "name": "stderr",
          "output_type": "stream",
          "text": [
            "\n",
            "<ipython-input-9-f03193db776b>:44: UserWarning: To copy construct from a tensor, it is recommended to use sourceTensor.clone().detach() or sourceTensor.clone().detach().requires_grad_(True), rather than torch.tensor(sourceTensor).\n",
            "  self.X = torch.tensor(X_data, dtype=torch.long)\n",
            "<ipython-input-9-f03193db776b>:45: UserWarning: To copy construct from a tensor, it is recommended to use sourceTensor.clone().detach() or sourceTensor.clone().detach().requires_grad_(True), rather than torch.tensor(sourceTensor).\n",
            "  self.y = torch.tensor(y_data, dtype=torch.long)\n"
          ]
        },
        {
          "data": {
            "text/html": [],
            "text/plain": [
              "<IPython.core.display.HTML object>"
            ]
          },
          "metadata": {},
          "output_type": "display_data"
        },
        {
          "data": {
            "text/html": [
              "<br>    <style><br>        .wandb-row {<br>            display: flex;<br>            flex-direction: row;<br>            flex-wrap: wrap;<br>            justify-content: flex-start;<br>            width: 100%;<br>        }<br>        .wandb-col {<br>            display: flex;<br>            flex-direction: column;<br>            flex-basis: 100%;<br>            flex: 1;<br>            padding: 10px;<br>        }<br>    </style><br><div class=\"wandb-row\"><div class=\"wandb-col\"><h3>Run history:</h3><br/><table class=\"wandb\"><tr><td>epoch</td><td>▁▁▂▂▂▂▃▃▃▄▄▄▄▅▅▅▅▆▆▆▇▇▇▇██</td></tr><tr><td>k_shot</td><td>▁▁▁▁▁▁▁▁▁▁▁▁▁▁▁▁▁▁▁▁▁▁▁▁▁▁</td></tr><tr><td>test_acc</td><td>▁▁▂▃▄▅▅▅▆▆▆▆▇▇▇▇▇█████████</td></tr><tr><td>test_balanced_acc</td><td>▁▁▂▃▄▅▅▅▆▆▆▆▇▇▇▇▇█████████</td></tr><tr><td>test_f1</td><td>▁▁▂▃▄▄▅▅▅▆▆▆▇▇▇▇▇█████████</td></tr><tr><td>test_loss</td><td>██▇▇▆▅▅▄▄▄▄▄▃▃▂▂▂▂▂▂▂▁▁▁▁▁</td></tr><tr><td>test_precision</td><td>▁▁▂▃▄▄▅▅▅▅▆▆▇▇▇▇▇█████████</td></tr><tr><td>test_recall</td><td>▁▁▂▃▄▅▅▅▆▆▆▆▇▇▇▇▇█████████</td></tr><tr><td>train_acc</td><td>▁▂▂▂▃▄▅▅▅▅▆▆▆▆▇▇▇▇▇▇▇█████</td></tr><tr><td>train_loss</td><td>█▇▇▆▆▅▅▄▄▄▄▃▃▃▃▂▂▂▂▂▂▁▁▁▁▁</td></tr></table><br/></div><div class=\"wandb-col\"><h3>Run summary:</h3><br/><table class=\"wandb\"><tr><td>epoch</td><td>26</td></tr><tr><td>k_shot</td><td>100</td></tr><tr><td>test_acc</td><td>0.82977</td></tr><tr><td>test_balanced_acc</td><td>0.83374</td></tr><tr><td>test_f1</td><td>0.83207</td></tr><tr><td>test_loss</td><td>0.5634</td></tr><tr><td>test_precision</td><td>0.84677</td></tr><tr><td>test_recall</td><td>0.82977</td></tr><tr><td>train_acc</td><td>0.88556</td></tr><tr><td>train_loss</td><td>0.45761</td></tr></table><br/></div></div>"
            ],
            "text/plain": [
              "<IPython.core.display.HTML object>"
            ]
          },
          "metadata": {},
          "output_type": "display_data"
        },
        {
          "data": {
            "text/html": [
              " View run <strong style=\"color:#cdcd00\">GRU-Bah-Glove_K-100_Training</strong> at: <a href='https://wandb.ai/wilfried-mvomoeto-university-of-li-ge/Few-Shot-Training_gru_glove_fastText_Bahdanau-GRU-Bah-Glove-/runs/rnc51lhq' target=\"_blank\">https://wandb.ai/wilfried-mvomoeto-university-of-li-ge/Few-Shot-Training_gru_glove_fastText_Bahdanau-GRU-Bah-Glove-/runs/rnc51lhq</a><br> View project at: <a href='https://wandb.ai/wilfried-mvomoeto-university-of-li-ge/Few-Shot-Training_gru_glove_fastText_Bahdanau-GRU-Bah-Glove-' target=\"_blank\">https://wandb.ai/wilfried-mvomoeto-university-of-li-ge/Few-Shot-Training_gru_glove_fastText_Bahdanau-GRU-Bah-Glove-</a><br>Synced 5 W&B file(s), 0 media file(s), 0 artifact file(s) and 0 other file(s)"
            ],
            "text/plain": [
              "<IPython.core.display.HTML object>"
            ]
          },
          "metadata": {},
          "output_type": "display_data"
        },
        {
          "data": {
            "text/html": [
              "Find logs at: <code>./wandb/run-20250421_083814-rnc51lhq/logs</code>"
            ],
            "text/plain": [
              "<IPython.core.display.HTML object>"
            ]
          },
          "metadata": {},
          "output_type": "display_data"
        },
        {
          "data": {
            "text/html": [
              "Tracking run with wandb version 0.19.9"
            ],
            "text/plain": [
              "<IPython.core.display.HTML object>"
            ]
          },
          "metadata": {},
          "output_type": "display_data"
        },
        {
          "data": {
            "text/html": [
              "Run data is saved locally in <code>/content/wandb/run-20250421_083858-zag1qimt</code>"
            ],
            "text/plain": [
              "<IPython.core.display.HTML object>"
            ]
          },
          "metadata": {},
          "output_type": "display_data"
        },
        {
          "data": {
            "text/html": [
              "Syncing run <strong><a href='https://wandb.ai/wilfried-mvomoeto-university-of-li-ge/Few-Shot-Training_gru_glove_fastText_Bahdanau-GRU-Bah-FastText-/runs/zag1qimt' target=\"_blank\">GRU-Bah-FastText_K-100_Training</a></strong> to <a href='https://wandb.ai/wilfried-mvomoeto-university-of-li-ge/Few-Shot-Training_gru_glove_fastText_Bahdanau-GRU-Bah-FastText-' target=\"_blank\">Weights & Biases</a> (<a href='https://wandb.me/developer-guide' target=\"_blank\">docs</a>)<br>"
            ],
            "text/plain": [
              "<IPython.core.display.HTML object>"
            ]
          },
          "metadata": {},
          "output_type": "display_data"
        },
        {
          "data": {
            "text/html": [
              " View project at <a href='https://wandb.ai/wilfried-mvomoeto-university-of-li-ge/Few-Shot-Training_gru_glove_fastText_Bahdanau-GRU-Bah-FastText-' target=\"_blank\">https://wandb.ai/wilfried-mvomoeto-university-of-li-ge/Few-Shot-Training_gru_glove_fastText_Bahdanau-GRU-Bah-FastText-</a>"
            ],
            "text/plain": [
              "<IPython.core.display.HTML object>"
            ]
          },
          "metadata": {},
          "output_type": "display_data"
        },
        {
          "data": {
            "text/html": [
              " View run at <a href='https://wandb.ai/wilfried-mvomoeto-university-of-li-ge/Few-Shot-Training_gru_glove_fastText_Bahdanau-GRU-Bah-FastText-/runs/zag1qimt' target=\"_blank\">https://wandb.ai/wilfried-mvomoeto-university-of-li-ge/Few-Shot-Training_gru_glove_fastText_Bahdanau-GRU-Bah-FastText-/runs/zag1qimt</a>"
            ],
            "text/plain": [
              "<IPython.core.display.HTML object>"
            ]
          },
          "metadata": {},
          "output_type": "display_data"
        },
        {
          "name": "stderr",
          "output_type": "stream",
          "text": [
            "GRU-Bah-FastText K-100 Epoch 27/1000 - Train Loss: 0.7537, Test Loss: 0.8623, Train Acc: 75.11%, Test Acc: 70.61%, Test F1: 70.15%, Test Balanced Acc: 72.03%, Test Recall: 70.61%, Test Precision: 72.91%, Time: 1.58 sec:   3%|▎         | 27/1000 [00:45<27:11,  1.68s/epoch]"
          ]
        },
        {
          "name": "stdout",
          "output_type": "stream",
          "text": [
            "Early stopping triggered at epoch 28\n",
            "Model GRU-Bah-FastText_K-100 saved with loss gap > 1.25 or accuracy gap > 10% at epoch 27.\n"
          ]
        },
        {
          "name": "stderr",
          "output_type": "stream",
          "text": [
            "\n",
            "<ipython-input-9-f03193db776b>:44: UserWarning: To copy construct from a tensor, it is recommended to use sourceTensor.clone().detach() or sourceTensor.clone().detach().requires_grad_(True), rather than torch.tensor(sourceTensor).\n",
            "  self.X = torch.tensor(X_data, dtype=torch.long)\n",
            "<ipython-input-9-f03193db776b>:45: UserWarning: To copy construct from a tensor, it is recommended to use sourceTensor.clone().detach() or sourceTensor.clone().detach().requires_grad_(True), rather than torch.tensor(sourceTensor).\n",
            "  self.y = torch.tensor(y_data, dtype=torch.long)\n"
          ]
        },
        {
          "data": {
            "text/html": [],
            "text/plain": [
              "<IPython.core.display.HTML object>"
            ]
          },
          "metadata": {},
          "output_type": "display_data"
        },
        {
          "data": {
            "text/html": [
              "<br>    <style><br>        .wandb-row {<br>            display: flex;<br>            flex-direction: row;<br>            flex-wrap: wrap;<br>            justify-content: flex-start;<br>            width: 100%;<br>        }<br>        .wandb-col {<br>            display: flex;<br>            flex-direction: column;<br>            flex-basis: 100%;<br>            flex: 1;<br>            padding: 10px;<br>        }<br>    </style><br><div class=\"wandb-row\"><div class=\"wandb-col\"><h3>Run history:</h3><br/><table class=\"wandb\"><tr><td>epoch</td><td>▁▁▂▂▂▂▃▃▃▃▄▄▄▄▅▅▅▅▆▆▆▆▇▇▇▇██</td></tr><tr><td>k_shot</td><td>▁▁▁▁▁▁▁▁▁▁▁▁▁▁▁▁▁▁▁▁▁▁▁▁▁▁▁▁</td></tr><tr><td>test_acc</td><td>▁▁▃▄▄▅▅▅▅▆▆▆▆▇▇▇████████████</td></tr><tr><td>test_balanced_acc</td><td>▁▁▃▄▅▅▅▅▆▆▆▆▇▇▇▇████████████</td></tr><tr><td>test_f1</td><td>▁▁▃▄▄▅▅▅▅▆▆▆▆▇▇▇████████████</td></tr><tr><td>test_loss</td><td>███▇▇▆▅▅▄▄▄▃▃▃▃▂▂▂▂▂▂▁▁▁▁▁▁▁</td></tr><tr><td>test_precision</td><td>▁▂▃▄▅▅▆▆▆▆▆▇▇▇▇█▇▇██▇███████</td></tr><tr><td>test_recall</td><td>▁▁▃▄▄▅▅▅▅▆▆▆▆▇▇▇████████████</td></tr><tr><td>train_acc</td><td>▁▁▂▂▃▄▄▅▅▅▆▆▆▆▆▇▇▇▇▇▇███████</td></tr><tr><td>train_loss</td><td>███▇▇▆▆▅▅▄▄▄▄▃▃▃▃▂▂▂▂▁▁▁▁▁▁▁</td></tr></table><br/></div><div class=\"wandb-col\"><h3>Run summary:</h3><br/><table class=\"wandb\"><tr><td>epoch</td><td>28</td></tr><tr><td>k_shot</td><td>100</td></tr><tr><td>test_acc</td><td>0.68886</td></tr><tr><td>test_balanced_acc</td><td>0.70725</td></tr><tr><td>test_f1</td><td>0.6775</td></tr><tr><td>test_loss</td><td>0.85053</td></tr><tr><td>test_precision</td><td>0.75766</td></tr><tr><td>test_recall</td><td>0.68886</td></tr><tr><td>train_acc</td><td>0.74222</td></tr><tr><td>train_loss</td><td>0.76537</td></tr></table><br/></div></div>"
            ],
            "text/plain": [
              "<IPython.core.display.HTML object>"
            ]
          },
          "metadata": {},
          "output_type": "display_data"
        },
        {
          "data": {
            "text/html": [
              " View run <strong style=\"color:#cdcd00\">GRU-Bah-FastText_K-100_Training</strong> at: <a href='https://wandb.ai/wilfried-mvomoeto-university-of-li-ge/Few-Shot-Training_gru_glove_fastText_Bahdanau-GRU-Bah-FastText-/runs/zag1qimt' target=\"_blank\">https://wandb.ai/wilfried-mvomoeto-university-of-li-ge/Few-Shot-Training_gru_glove_fastText_Bahdanau-GRU-Bah-FastText-/runs/zag1qimt</a><br> View project at: <a href='https://wandb.ai/wilfried-mvomoeto-university-of-li-ge/Few-Shot-Training_gru_glove_fastText_Bahdanau-GRU-Bah-FastText-' target=\"_blank\">https://wandb.ai/wilfried-mvomoeto-university-of-li-ge/Few-Shot-Training_gru_glove_fastText_Bahdanau-GRU-Bah-FastText-</a><br>Synced 5 W&B file(s), 0 media file(s), 0 artifact file(s) and 0 other file(s)"
            ],
            "text/plain": [
              "<IPython.core.display.HTML object>"
            ]
          },
          "metadata": {},
          "output_type": "display_data"
        },
        {
          "data": {
            "text/html": [
              "Find logs at: <code>./wandb/run-20250421_083858-zag1qimt/logs</code>"
            ],
            "text/plain": [
              "<IPython.core.display.HTML object>"
            ]
          },
          "metadata": {},
          "output_type": "display_data"
        },
        {
          "data": {
            "text/html": [
              "Tracking run with wandb version 0.19.9"
            ],
            "text/plain": [
              "<IPython.core.display.HTML object>"
            ]
          },
          "metadata": {},
          "output_type": "display_data"
        },
        {
          "data": {
            "text/html": [
              "Run data is saved locally in <code>/content/wandb/run-20250421_083944-68pq47n7</code>"
            ],
            "text/plain": [
              "<IPython.core.display.HTML object>"
            ]
          },
          "metadata": {},
          "output_type": "display_data"
        },
        {
          "data": {
            "text/html": [
              "Syncing run <strong><a href='https://wandb.ai/wilfried-mvomoeto-university-of-li-ge/Few-Shot-Training_gru_glove_fastText_Bahdanau-CNN_LSTM-/runs/68pq47n7' target=\"_blank\">CNN_LSTM_K-100_Training</a></strong> to <a href='https://wandb.ai/wilfried-mvomoeto-university-of-li-ge/Few-Shot-Training_gru_glove_fastText_Bahdanau-CNN_LSTM-' target=\"_blank\">Weights & Biases</a> (<a href='https://wandb.me/developer-guide' target=\"_blank\">docs</a>)<br>"
            ],
            "text/plain": [
              "<IPython.core.display.HTML object>"
            ]
          },
          "metadata": {},
          "output_type": "display_data"
        },
        {
          "data": {
            "text/html": [
              " View project at <a href='https://wandb.ai/wilfried-mvomoeto-university-of-li-ge/Few-Shot-Training_gru_glove_fastText_Bahdanau-CNN_LSTM-' target=\"_blank\">https://wandb.ai/wilfried-mvomoeto-university-of-li-ge/Few-Shot-Training_gru_glove_fastText_Bahdanau-CNN_LSTM-</a>"
            ],
            "text/plain": [
              "<IPython.core.display.HTML object>"
            ]
          },
          "metadata": {},
          "output_type": "display_data"
        },
        {
          "data": {
            "text/html": [
              " View run at <a href='https://wandb.ai/wilfried-mvomoeto-university-of-li-ge/Few-Shot-Training_gru_glove_fastText_Bahdanau-CNN_LSTM-/runs/68pq47n7' target=\"_blank\">https://wandb.ai/wilfried-mvomoeto-university-of-li-ge/Few-Shot-Training_gru_glove_fastText_Bahdanau-CNN_LSTM-/runs/68pq47n7</a>"
            ],
            "text/plain": [
              "<IPython.core.display.HTML object>"
            ]
          },
          "metadata": {},
          "output_type": "display_data"
        },
        {
          "name": "stderr",
          "output_type": "stream",
          "text": [
            "CNN_LSTM K-100 Epoch 65/1000 - Train Loss: 2.1557, Test Loss: 2.2228, Train Acc: 11.78%, Test Acc: 6.78%, Test F1: 0.99%, Test Balanced Acc: 11.06%, Test Recall: 6.78%, Test Precision: 6.83%, Time: 1.04 sec:   6%|▋         | 65/1000 [01:12<17:24,  1.12s/epoch]"
          ]
        },
        {
          "name": "stdout",
          "output_type": "stream",
          "text": [
            "Early stopping triggered at epoch 66\n",
            "Model CNN_LSTM_K-100 saved with loss gap > 1.25 or accuracy gap > 10% at epoch 65.\n"
          ]
        },
        {
          "name": "stderr",
          "output_type": "stream",
          "text": [
            "\n",
            "<ipython-input-9-f03193db776b>:44: UserWarning: To copy construct from a tensor, it is recommended to use sourceTensor.clone().detach() or sourceTensor.clone().detach().requires_grad_(True), rather than torch.tensor(sourceTensor).\n",
            "  self.X = torch.tensor(X_data, dtype=torch.long)\n",
            "<ipython-input-9-f03193db776b>:45: UserWarning: To copy construct from a tensor, it is recommended to use sourceTensor.clone().detach() or sourceTensor.clone().detach().requires_grad_(True), rather than torch.tensor(sourceTensor).\n",
            "  self.y = torch.tensor(y_data, dtype=torch.long)\n"
          ]
        },
        {
          "data": {
            "text/html": [],
            "text/plain": [
              "<IPython.core.display.HTML object>"
            ]
          },
          "metadata": {},
          "output_type": "display_data"
        },
        {
          "data": {
            "text/html": [
              "<br>    <style><br>        .wandb-row {<br>            display: flex;<br>            flex-direction: row;<br>            flex-wrap: wrap;<br>            justify-content: flex-start;<br>            width: 100%;<br>        }<br>        .wandb-col {<br>            display: flex;<br>            flex-direction: column;<br>            flex-basis: 100%;<br>            flex: 1;<br>            padding: 10px;<br>        }<br>    </style><br><div class=\"wandb-row\"><div class=\"wandb-col\"><h3>Run history:</h3><br/><table class=\"wandb\"><tr><td>epoch</td><td>▁▁▁▁▁▂▂▂▂▂▃▃▃▃▃▄▄▄▄▄▄▅▅▅▅▅▅▅▆▆▆▆▆▆▇▇▇███</td></tr><tr><td>k_shot</td><td>▁▁▁▁▁▁▁▁▁▁▁▁▁▁▁▁▁▁▁▁▁▁▁▁▁▁▁▁▁▁▁▁▁▁▁▁▁▁▁▁</td></tr><tr><td>test_acc</td><td>▁█▁▁▁▁▁▁▁▁▁▁▁▁▁▁▁▁▁▁▁▁▁▁▁▁▁▁▁▁▁▁▁▁▁▁▁▁▁▁</td></tr><tr><td>test_balanced_acc</td><td>▇▇██▇▅▆▂▅▅▃▃▂▂▃▃▂▃▃▂▂▂▂▃▂▂▂▁▁▂▄▃▁▂▂▅▅▃▃▃</td></tr><tr><td>test_f1</td><td>▁█▁▂▂▂▂▂▁▁▂▂▂▁▂▁▁▂▂▁▁▁▁▁▁▁▁▁▁▁▁▂▁▁▁▂▂▂▂▂</td></tr><tr><td>test_loss</td><td>▂▂▁▃▁▂▂▂▃▂▃▃▂▃▃▃▃▂▃▂▃▂▃▃▃▃▃▃▃▄▂▂▃█▂▃▃▃▃▄</td></tr><tr><td>test_precision</td><td>▁▂▁▃▃▂▂▂▃▅▃▇▅▃▃▂▄█▂▂▂▂▂▂▂▂▂▂▁▂▂▅▃▂▂▅▆▄▄▄</td></tr><tr><td>test_recall</td><td>▅████▆▆▆▅▇▃▃▃▂▅▆▆▅▃▅▅▅▅▅▃▃▅▃▃▃▂▂▃▁▅▆▅▅▅▅</td></tr><tr><td>train_acc</td><td>▄▁▅▅▅▆▆▆▆▆▇▇▇▇▇▇▇▇▇▇▇▄▇▇▆▇▆▇▇▇▇▇▇▆▆▇▆▇▅█</td></tr><tr><td>train_loss</td><td>█▆▅▄▄▄▃▃▃▄▃▃▃▃▃▃▃▃▃▃▂▃▂▃▃▃▂▂▃▃▃▃▂▂▂▂▂▁▁▁</td></tr></table><br/></div><div class=\"wandb-col\"><h3>Run summary:</h3><br/><table class=\"wandb\"><tr><td>epoch</td><td>66</td></tr><tr><td>k_shot</td><td>100</td></tr><tr><td>test_acc</td><td>0.06778</td></tr><tr><td>test_balanced_acc</td><td>0.1106</td></tr><tr><td>test_f1</td><td>0.00991</td></tr><tr><td>test_loss</td><td>2.22075</td></tr><tr><td>test_precision</td><td>0.05969</td></tr><tr><td>test_recall</td><td>0.06778</td></tr><tr><td>train_acc</td><td>0.11889</td></tr><tr><td>train_loss</td><td>2.15401</td></tr></table><br/></div></div>"
            ],
            "text/plain": [
              "<IPython.core.display.HTML object>"
            ]
          },
          "metadata": {},
          "output_type": "display_data"
        },
        {
          "data": {
            "text/html": [
              " View run <strong style=\"color:#cdcd00\">CNN_LSTM_K-100_Training</strong> at: <a href='https://wandb.ai/wilfried-mvomoeto-university-of-li-ge/Few-Shot-Training_gru_glove_fastText_Bahdanau-CNN_LSTM-/runs/68pq47n7' target=\"_blank\">https://wandb.ai/wilfried-mvomoeto-university-of-li-ge/Few-Shot-Training_gru_glove_fastText_Bahdanau-CNN_LSTM-/runs/68pq47n7</a><br> View project at: <a href='https://wandb.ai/wilfried-mvomoeto-university-of-li-ge/Few-Shot-Training_gru_glove_fastText_Bahdanau-CNN_LSTM-' target=\"_blank\">https://wandb.ai/wilfried-mvomoeto-university-of-li-ge/Few-Shot-Training_gru_glove_fastText_Bahdanau-CNN_LSTM-</a><br>Synced 5 W&B file(s), 0 media file(s), 0 artifact file(s) and 0 other file(s)"
            ],
            "text/plain": [
              "<IPython.core.display.HTML object>"
            ]
          },
          "metadata": {},
          "output_type": "display_data"
        },
        {
          "data": {
            "text/html": [
              "Find logs at: <code>./wandb/run-20250421_083944-68pq47n7/logs</code>"
            ],
            "text/plain": [
              "<IPython.core.display.HTML object>"
            ]
          },
          "metadata": {},
          "output_type": "display_data"
        },
        {
          "data": {
            "text/html": [
              "Tracking run with wandb version 0.19.9"
            ],
            "text/plain": [
              "<IPython.core.display.HTML object>"
            ]
          },
          "metadata": {},
          "output_type": "display_data"
        },
        {
          "data": {
            "text/html": [
              "Run data is saved locally in <code>/content/wandb/run-20250421_084059-u863bqv8</code>"
            ],
            "text/plain": [
              "<IPython.core.display.HTML object>"
            ]
          },
          "metadata": {},
          "output_type": "display_data"
        },
        {
          "data": {
            "text/html": [
              "Syncing run <strong><a href='https://wandb.ai/wilfried-mvomoeto-university-of-li-ge/Few-Shot-Training_gru_glove_fastText_Bahdanau-GRU-Glove-/runs/u863bqv8' target=\"_blank\">GRU-Glove_K-100_Training</a></strong> to <a href='https://wandb.ai/wilfried-mvomoeto-university-of-li-ge/Few-Shot-Training_gru_glove_fastText_Bahdanau-GRU-Glove-' target=\"_blank\">Weights & Biases</a> (<a href='https://wandb.me/developer-guide' target=\"_blank\">docs</a>)<br>"
            ],
            "text/plain": [
              "<IPython.core.display.HTML object>"
            ]
          },
          "metadata": {},
          "output_type": "display_data"
        },
        {
          "data": {
            "text/html": [
              " View project at <a href='https://wandb.ai/wilfried-mvomoeto-university-of-li-ge/Few-Shot-Training_gru_glove_fastText_Bahdanau-GRU-Glove-' target=\"_blank\">https://wandb.ai/wilfried-mvomoeto-university-of-li-ge/Few-Shot-Training_gru_glove_fastText_Bahdanau-GRU-Glove-</a>"
            ],
            "text/plain": [
              "<IPython.core.display.HTML object>"
            ]
          },
          "metadata": {},
          "output_type": "display_data"
        },
        {
          "data": {
            "text/html": [
              " View run at <a href='https://wandb.ai/wilfried-mvomoeto-university-of-li-ge/Few-Shot-Training_gru_glove_fastText_Bahdanau-GRU-Glove-/runs/u863bqv8' target=\"_blank\">https://wandb.ai/wilfried-mvomoeto-university-of-li-ge/Few-Shot-Training_gru_glove_fastText_Bahdanau-GRU-Glove-/runs/u863bqv8</a>"
            ],
            "text/plain": [
              "<IPython.core.display.HTML object>"
            ]
          },
          "metadata": {},
          "output_type": "display_data"
        },
        {
          "name": "stderr",
          "output_type": "stream",
          "text": [
            "GRU-Glove K-100 Epoch 5/1000 - Train Loss: 2.2173, Test Loss: 2.2349, Train Acc: 10.44%, Test Acc: 6.80%, Test F1: 0.96%, Test Balanced Acc: 11.10%, Test Recall: 6.80%, Test Precision: 21.40%, Time: 1.00 sec:   0%|          | 5/1000 [00:06<20:56,  1.26s/epoch]"
          ]
        },
        {
          "name": "stdout",
          "output_type": "stream",
          "text": [
            "Early stopping triggered at epoch 6\n",
            "Model GRU-Glove_K-100 saved with loss gap > 1.25 or accuracy gap > 10% at epoch 5.\n"
          ]
        },
        {
          "name": "stderr",
          "output_type": "stream",
          "text": [
            "\n",
            "<ipython-input-9-f03193db776b>:44: UserWarning: To copy construct from a tensor, it is recommended to use sourceTensor.clone().detach() or sourceTensor.clone().detach().requires_grad_(True), rather than torch.tensor(sourceTensor).\n",
            "  self.X = torch.tensor(X_data, dtype=torch.long)\n",
            "<ipython-input-9-f03193db776b>:45: UserWarning: To copy construct from a tensor, it is recommended to use sourceTensor.clone().detach() or sourceTensor.clone().detach().requires_grad_(True), rather than torch.tensor(sourceTensor).\n",
            "  self.y = torch.tensor(y_data, dtype=torch.long)\n"
          ]
        },
        {
          "data": {
            "text/html": [],
            "text/plain": [
              "<IPython.core.display.HTML object>"
            ]
          },
          "metadata": {},
          "output_type": "display_data"
        },
        {
          "data": {
            "text/html": [
              "<br>    <style><br>        .wandb-row {<br>            display: flex;<br>            flex-direction: row;<br>            flex-wrap: wrap;<br>            justify-content: flex-start;<br>            width: 100%;<br>        }<br>        .wandb-col {<br>            display: flex;<br>            flex-direction: column;<br>            flex-basis: 100%;<br>            flex: 1;<br>            padding: 10px;<br>        }<br>    </style><br><div class=\"wandb-row\"><div class=\"wandb-col\"><h3>Run history:</h3><br/><table class=\"wandb\"><tr><td>epoch</td><td>▁▂▄▅▇█</td></tr><tr><td>k_shot</td><td>▁▁▁▁▁▁</td></tr><tr><td>test_acc</td><td>▁█▁▅▁▄</td></tr><tr><td>test_balanced_acc</td><td>▁▂▁█▁▇</td></tr><tr><td>test_f1</td><td>▁▇▁▇▁█</td></tr><tr><td>test_loss</td><td>▇▆▇█▇▁</td></tr><tr><td>test_precision</td><td>▄▃▃█▇▁</td></tr><tr><td>test_recall</td><td>▁█▁▅▁▄</td></tr><tr><td>train_acc</td><td>▁▂▂▂▂█</td></tr><tr><td>train_loss</td><td>█▇▇▆▄▁</td></tr></table><br/></div><div class=\"wandb-col\"><h3>Run summary:</h3><br/><table class=\"wandb\"><tr><td>epoch</td><td>6</td></tr><tr><td>k_shot</td><td>100</td></tr><tr><td>test_acc</td><td>0.08555</td></tr><tr><td>test_balanced_acc</td><td>0.12682</td></tr><tr><td>test_f1</td><td>0.03927</td></tr><tr><td>test_loss</td><td>2.18679</td></tr><tr><td>test_precision</td><td>0.09272</td></tr><tr><td>test_recall</td><td>0.08555</td></tr><tr><td>train_acc</td><td>0.16778</td></tr><tr><td>train_loss</td><td>2.14058</td></tr></table><br/></div></div>"
            ],
            "text/plain": [
              "<IPython.core.display.HTML object>"
            ]
          },
          "metadata": {},
          "output_type": "display_data"
        },
        {
          "data": {
            "text/html": [
              " View run <strong style=\"color:#cdcd00\">GRU-Glove_K-100_Training</strong> at: <a href='https://wandb.ai/wilfried-mvomoeto-university-of-li-ge/Few-Shot-Training_gru_glove_fastText_Bahdanau-GRU-Glove-/runs/u863bqv8' target=\"_blank\">https://wandb.ai/wilfried-mvomoeto-university-of-li-ge/Few-Shot-Training_gru_glove_fastText_Bahdanau-GRU-Glove-/runs/u863bqv8</a><br> View project at: <a href='https://wandb.ai/wilfried-mvomoeto-university-of-li-ge/Few-Shot-Training_gru_glove_fastText_Bahdanau-GRU-Glove-' target=\"_blank\">https://wandb.ai/wilfried-mvomoeto-university-of-li-ge/Few-Shot-Training_gru_glove_fastText_Bahdanau-GRU-Glove-</a><br>Synced 5 W&B file(s), 0 media file(s), 0 artifact file(s) and 0 other file(s)"
            ],
            "text/plain": [
              "<IPython.core.display.HTML object>"
            ]
          },
          "metadata": {},
          "output_type": "display_data"
        },
        {
          "data": {
            "text/html": [
              "Find logs at: <code>./wandb/run-20250421_084059-u863bqv8/logs</code>"
            ],
            "text/plain": [
              "<IPython.core.display.HTML object>"
            ]
          },
          "metadata": {},
          "output_type": "display_data"
        },
        {
          "data": {
            "text/html": [
              "Tracking run with wandb version 0.19.9"
            ],
            "text/plain": [
              "<IPython.core.display.HTML object>"
            ]
          },
          "metadata": {},
          "output_type": "display_data"
        },
        {
          "data": {
            "text/html": [
              "Run data is saved locally in <code>/content/wandb/run-20250421_084107-cy4bwxa3</code>"
            ],
            "text/plain": [
              "<IPython.core.display.HTML object>"
            ]
          },
          "metadata": {},
          "output_type": "display_data"
        },
        {
          "data": {
            "text/html": [
              "Syncing run <strong><a href='https://wandb.ai/wilfried-mvomoeto-university-of-li-ge/Few-Shot-Training_gru_glove_fastText_Bahdanau-GRU-FastText-/runs/cy4bwxa3' target=\"_blank\">GRU-FastText_K-100_Training</a></strong> to <a href='https://wandb.ai/wilfried-mvomoeto-university-of-li-ge/Few-Shot-Training_gru_glove_fastText_Bahdanau-GRU-FastText-' target=\"_blank\">Weights & Biases</a> (<a href='https://wandb.me/developer-guide' target=\"_blank\">docs</a>)<br>"
            ],
            "text/plain": [
              "<IPython.core.display.HTML object>"
            ]
          },
          "metadata": {},
          "output_type": "display_data"
        },
        {
          "data": {
            "text/html": [
              " View project at <a href='https://wandb.ai/wilfried-mvomoeto-university-of-li-ge/Few-Shot-Training_gru_glove_fastText_Bahdanau-GRU-FastText-' target=\"_blank\">https://wandb.ai/wilfried-mvomoeto-university-of-li-ge/Few-Shot-Training_gru_glove_fastText_Bahdanau-GRU-FastText-</a>"
            ],
            "text/plain": [
              "<IPython.core.display.HTML object>"
            ]
          },
          "metadata": {},
          "output_type": "display_data"
        },
        {
          "data": {
            "text/html": [
              " View run at <a href='https://wandb.ai/wilfried-mvomoeto-university-of-li-ge/Few-Shot-Training_gru_glove_fastText_Bahdanau-GRU-FastText-/runs/cy4bwxa3' target=\"_blank\">https://wandb.ai/wilfried-mvomoeto-university-of-li-ge/Few-Shot-Training_gru_glove_fastText_Bahdanau-GRU-FastText-/runs/cy4bwxa3</a>"
            ],
            "text/plain": [
              "<IPython.core.display.HTML object>"
            ]
          },
          "metadata": {},
          "output_type": "display_data"
        },
        {
          "name": "stderr",
          "output_type": "stream",
          "text": [
            "Training GRU-FastText with 100-shot:   0%|          | 0/1000 [00:01<?, ?epoch/s]"
          ]
        },
        {
          "name": "stdout",
          "output_type": "stream",
          "text": [
            "Early stopping triggered at epoch 1\n",
            "Model GRU-FastText_K-100 saved with loss gap > 1.25 or accuracy gap > 10% at epoch 0.\n",
            "\n",
            "Training with 150-shot...\n"
          ]
        },
        {
          "name": "stderr",
          "output_type": "stream",
          "text": [
            "\n",
            "<ipython-input-9-f03193db776b>:44: UserWarning: To copy construct from a tensor, it is recommended to use sourceTensor.clone().detach() or sourceTensor.clone().detach().requires_grad_(True), rather than torch.tensor(sourceTensor).\n",
            "  self.X = torch.tensor(X_data, dtype=torch.long)\n",
            "<ipython-input-9-f03193db776b>:45: UserWarning: To copy construct from a tensor, it is recommended to use sourceTensor.clone().detach() or sourceTensor.clone().detach().requires_grad_(True), rather than torch.tensor(sourceTensor).\n",
            "  self.y = torch.tensor(y_data, dtype=torch.long)\n"
          ]
        },
        {
          "data": {
            "text/html": [],
            "text/plain": [
              "<IPython.core.display.HTML object>"
            ]
          },
          "metadata": {},
          "output_type": "display_data"
        },
        {
          "data": {
            "text/html": [
              "<br>    <style><br>        .wandb-row {<br>            display: flex;<br>            flex-direction: row;<br>            flex-wrap: wrap;<br>            justify-content: flex-start;<br>            width: 100%;<br>        }<br>        .wandb-col {<br>            display: flex;<br>            flex-direction: column;<br>            flex-basis: 100%;<br>            flex: 1;<br>            padding: 10px;<br>        }<br>    </style><br><div class=\"wandb-row\"><div class=\"wandb-col\"><h3>Run history:</h3><br/><table class=\"wandb\"><tr><td>epoch</td><td>▁</td></tr><tr><td>k_shot</td><td>▁</td></tr><tr><td>test_acc</td><td>▁</td></tr><tr><td>test_balanced_acc</td><td>▁</td></tr><tr><td>test_f1</td><td>▁</td></tr><tr><td>test_loss</td><td>▁</td></tr><tr><td>test_precision</td><td>▁</td></tr><tr><td>test_recall</td><td>▁</td></tr><tr><td>train_acc</td><td>▁</td></tr><tr><td>train_loss</td><td>▁</td></tr></table><br/></div><div class=\"wandb-col\"><h3>Run summary:</h3><br/><table class=\"wandb\"><tr><td>epoch</td><td>1</td></tr><tr><td>k_shot</td><td>100</td></tr><tr><td>test_acc</td><td>0.06761</td></tr><tr><td>test_balanced_acc</td><td>0.11058</td></tr><tr><td>test_f1</td><td>0.00925</td></tr><tr><td>test_loss</td><td>2.25062</td></tr><tr><td>test_precision</td><td>0.18403</td></tr><tr><td>test_recall</td><td>0.06761</td></tr><tr><td>train_acc</td><td>0.12556</td></tr><tr><td>train_loss</td><td>2.26585</td></tr></table><br/></div></div>"
            ],
            "text/plain": [
              "<IPython.core.display.HTML object>"
            ]
          },
          "metadata": {},
          "output_type": "display_data"
        },
        {
          "data": {
            "text/html": [
              " View run <strong style=\"color:#cdcd00\">GRU-FastText_K-100_Training</strong> at: <a href='https://wandb.ai/wilfried-mvomoeto-university-of-li-ge/Few-Shot-Training_gru_glove_fastText_Bahdanau-GRU-FastText-/runs/cy4bwxa3' target=\"_blank\">https://wandb.ai/wilfried-mvomoeto-university-of-li-ge/Few-Shot-Training_gru_glove_fastText_Bahdanau-GRU-FastText-/runs/cy4bwxa3</a><br> View project at: <a href='https://wandb.ai/wilfried-mvomoeto-university-of-li-ge/Few-Shot-Training_gru_glove_fastText_Bahdanau-GRU-FastText-' target=\"_blank\">https://wandb.ai/wilfried-mvomoeto-university-of-li-ge/Few-Shot-Training_gru_glove_fastText_Bahdanau-GRU-FastText-</a><br>Synced 5 W&B file(s), 0 media file(s), 0 artifact file(s) and 0 other file(s)"
            ],
            "text/plain": [
              "<IPython.core.display.HTML object>"
            ]
          },
          "metadata": {},
          "output_type": "display_data"
        },
        {
          "data": {
            "text/html": [
              "Find logs at: <code>./wandb/run-20250421_084107-cy4bwxa3/logs</code>"
            ],
            "text/plain": [
              "<IPython.core.display.HTML object>"
            ]
          },
          "metadata": {},
          "output_type": "display_data"
        },
        {
          "data": {
            "text/html": [
              "Tracking run with wandb version 0.19.9"
            ],
            "text/plain": [
              "<IPython.core.display.HTML object>"
            ]
          },
          "metadata": {},
          "output_type": "display_data"
        },
        {
          "data": {
            "text/html": [
              "Run data is saved locally in <code>/content/wandb/run-20250421_084110-xh3z20pn</code>"
            ],
            "text/plain": [
              "<IPython.core.display.HTML object>"
            ]
          },
          "metadata": {},
          "output_type": "display_data"
        },
        {
          "data": {
            "text/html": [
              "Syncing run <strong><a href='https://wandb.ai/wilfried-mvomoeto-university-of-li-ge/Few-Shot-Training_gru_glove_fastText_Bahdanau-GRU-Bah-Glove-/runs/xh3z20pn' target=\"_blank\">GRU-Bah-Glove_K-150_Training</a></strong> to <a href='https://wandb.ai/wilfried-mvomoeto-university-of-li-ge/Few-Shot-Training_gru_glove_fastText_Bahdanau-GRU-Bah-Glove-' target=\"_blank\">Weights & Biases</a> (<a href='https://wandb.me/developer-guide' target=\"_blank\">docs</a>)<br>"
            ],
            "text/plain": [
              "<IPython.core.display.HTML object>"
            ]
          },
          "metadata": {},
          "output_type": "display_data"
        },
        {
          "data": {
            "text/html": [
              " View project at <a href='https://wandb.ai/wilfried-mvomoeto-university-of-li-ge/Few-Shot-Training_gru_glove_fastText_Bahdanau-GRU-Bah-Glove-' target=\"_blank\">https://wandb.ai/wilfried-mvomoeto-university-of-li-ge/Few-Shot-Training_gru_glove_fastText_Bahdanau-GRU-Bah-Glove-</a>"
            ],
            "text/plain": [
              "<IPython.core.display.HTML object>"
            ]
          },
          "metadata": {},
          "output_type": "display_data"
        },
        {
          "data": {
            "text/html": [
              " View run at <a href='https://wandb.ai/wilfried-mvomoeto-university-of-li-ge/Few-Shot-Training_gru_glove_fastText_Bahdanau-GRU-Bah-Glove-/runs/xh3z20pn' target=\"_blank\">https://wandb.ai/wilfried-mvomoeto-university-of-li-ge/Few-Shot-Training_gru_glove_fastText_Bahdanau-GRU-Bah-Glove-/runs/xh3z20pn</a>"
            ],
            "text/plain": [
              "<IPython.core.display.HTML object>"
            ]
          },
          "metadata": {},
          "output_type": "display_data"
        },
        {
          "name": "stderr",
          "output_type": "stream",
          "text": [
            "GRU-Bah-Glove K-150 Epoch 19/1000 - Train Loss: 0.6458, Test Loss: 0.7495, Train Acc: 82.59%, Test Acc: 78.27%, Test F1: 78.89%, Test Balanced Acc: 78.55%, Test Recall: 78.27%, Test Precision: 80.33%, Time: 2.00 sec:   2%|▏         | 19/1000 [00:38<33:16,  2.03s/epoch]"
          ]
        },
        {
          "name": "stdout",
          "output_type": "stream",
          "text": [
            "Early stopping triggered at epoch 20\n",
            "Model GRU-Bah-Glove_K-150 saved with loss gap > 1.25 or accuracy gap > 10% at epoch 19.\n"
          ]
        },
        {
          "name": "stderr",
          "output_type": "stream",
          "text": [
            "\n",
            "<ipython-input-9-f03193db776b>:44: UserWarning: To copy construct from a tensor, it is recommended to use sourceTensor.clone().detach() or sourceTensor.clone().detach().requires_grad_(True), rather than torch.tensor(sourceTensor).\n",
            "  self.X = torch.tensor(X_data, dtype=torch.long)\n",
            "<ipython-input-9-f03193db776b>:45: UserWarning: To copy construct from a tensor, it is recommended to use sourceTensor.clone().detach() or sourceTensor.clone().detach().requires_grad_(True), rather than torch.tensor(sourceTensor).\n",
            "  self.y = torch.tensor(y_data, dtype=torch.long)\n"
          ]
        },
        {
          "data": {
            "text/html": [],
            "text/plain": [
              "<IPython.core.display.HTML object>"
            ]
          },
          "metadata": {},
          "output_type": "display_data"
        },
        {
          "data": {
            "text/html": [
              "<br>    <style><br>        .wandb-row {<br>            display: flex;<br>            flex-direction: row;<br>            flex-wrap: wrap;<br>            justify-content: flex-start;<br>            width: 100%;<br>        }<br>        .wandb-col {<br>            display: flex;<br>            flex-direction: column;<br>            flex-basis: 100%;<br>            flex: 1;<br>            padding: 10px;<br>        }<br>    </style><br><div class=\"wandb-row\"><div class=\"wandb-col\"><h3>Run history:</h3><br/><table class=\"wandb\"><tr><td>epoch</td><td>▁▁▂▂▂▃▃▄▄▄▅▅▅▆▆▇▇▇██</td></tr><tr><td>k_shot</td><td>▁▁▁▁▁▁▁▁▁▁▁▁▁▁▁▁▁▁▁▁</td></tr><tr><td>test_acc</td><td>▁▂▂▄▅▅▆▆▆▆▇▇▇▇▇█████</td></tr><tr><td>test_balanced_acc</td><td>▁▂▃▄▅▅▆▆▆▆▇▇▇▇▇█████</td></tr><tr><td>test_f1</td><td>▁▂▂▄▄▅▆▆▆▆▇▇▇▇▇█████</td></tr><tr><td>test_loss</td><td>█▇▇▆▆▅▄▄▃▂▂▂▂▂▂▂▁▁▁▁</td></tr><tr><td>test_precision</td><td>▁▂▃▄▅▅▆▆▆▇▇▇▇▇▇█████</td></tr><tr><td>test_recall</td><td>▁▂▂▄▅▅▆▆▆▆▇▇▇▇▇█████</td></tr><tr><td>train_acc</td><td>▁▁▂▂▃▄▄▅▆▆▆▇▇▇▇▇████</td></tr><tr><td>train_loss</td><td>██▇▇▆▅▅▅▄▃▃▃▂▂▂▂▂▁▁▁</td></tr></table><br/></div><div class=\"wandb-col\"><h3>Run summary:</h3><br/><table class=\"wandb\"><tr><td>epoch</td><td>20</td></tr><tr><td>k_shot</td><td>150</td></tr><tr><td>test_acc</td><td>0.7882</td></tr><tr><td>test_balanced_acc</td><td>0.79031</td></tr><tr><td>test_f1</td><td>0.79172</td></tr><tr><td>test_loss</td><td>0.73211</td></tr><tr><td>test_precision</td><td>0.80393</td></tr><tr><td>test_recall</td><td>0.7882</td></tr><tr><td>train_acc</td><td>0.84296</td></tr><tr><td>train_loss</td><td>0.59053</td></tr></table><br/></div></div>"
            ],
            "text/plain": [
              "<IPython.core.display.HTML object>"
            ]
          },
          "metadata": {},
          "output_type": "display_data"
        },
        {
          "data": {
            "text/html": [
              " View run <strong style=\"color:#cdcd00\">GRU-Bah-Glove_K-150_Training</strong> at: <a href='https://wandb.ai/wilfried-mvomoeto-university-of-li-ge/Few-Shot-Training_gru_glove_fastText_Bahdanau-GRU-Bah-Glove-/runs/xh3z20pn' target=\"_blank\">https://wandb.ai/wilfried-mvomoeto-university-of-li-ge/Few-Shot-Training_gru_glove_fastText_Bahdanau-GRU-Bah-Glove-/runs/xh3z20pn</a><br> View project at: <a href='https://wandb.ai/wilfried-mvomoeto-university-of-li-ge/Few-Shot-Training_gru_glove_fastText_Bahdanau-GRU-Bah-Glove-' target=\"_blank\">https://wandb.ai/wilfried-mvomoeto-university-of-li-ge/Few-Shot-Training_gru_glove_fastText_Bahdanau-GRU-Bah-Glove-</a><br>Synced 5 W&B file(s), 0 media file(s), 0 artifact file(s) and 0 other file(s)"
            ],
            "text/plain": [
              "<IPython.core.display.HTML object>"
            ]
          },
          "metadata": {},
          "output_type": "display_data"
        },
        {
          "data": {
            "text/html": [
              "Find logs at: <code>./wandb/run-20250421_084110-xh3z20pn/logs</code>"
            ],
            "text/plain": [
              "<IPython.core.display.HTML object>"
            ]
          },
          "metadata": {},
          "output_type": "display_data"
        },
        {
          "data": {
            "text/html": [
              "Tracking run with wandb version 0.19.9"
            ],
            "text/plain": [
              "<IPython.core.display.HTML object>"
            ]
          },
          "metadata": {},
          "output_type": "display_data"
        },
        {
          "data": {
            "text/html": [
              "Run data is saved locally in <code>/content/wandb/run-20250421_084150-eks56t0g</code>"
            ],
            "text/plain": [
              "<IPython.core.display.HTML object>"
            ]
          },
          "metadata": {},
          "output_type": "display_data"
        },
        {
          "data": {
            "text/html": [
              "Syncing run <strong><a href='https://wandb.ai/wilfried-mvomoeto-university-of-li-ge/Few-Shot-Training_gru_glove_fastText_Bahdanau-GRU-Bah-FastText-/runs/eks56t0g' target=\"_blank\">GRU-Bah-FastText_K-150_Training</a></strong> to <a href='https://wandb.ai/wilfried-mvomoeto-university-of-li-ge/Few-Shot-Training_gru_glove_fastText_Bahdanau-GRU-Bah-FastText-' target=\"_blank\">Weights & Biases</a> (<a href='https://wandb.me/developer-guide' target=\"_blank\">docs</a>)<br>"
            ],
            "text/plain": [
              "<IPython.core.display.HTML object>"
            ]
          },
          "metadata": {},
          "output_type": "display_data"
        },
        {
          "data": {
            "text/html": [
              " View project at <a href='https://wandb.ai/wilfried-mvomoeto-university-of-li-ge/Few-Shot-Training_gru_glove_fastText_Bahdanau-GRU-Bah-FastText-' target=\"_blank\">https://wandb.ai/wilfried-mvomoeto-university-of-li-ge/Few-Shot-Training_gru_glove_fastText_Bahdanau-GRU-Bah-FastText-</a>"
            ],
            "text/plain": [
              "<IPython.core.display.HTML object>"
            ]
          },
          "metadata": {},
          "output_type": "display_data"
        },
        {
          "data": {
            "text/html": [
              " View run at <a href='https://wandb.ai/wilfried-mvomoeto-university-of-li-ge/Few-Shot-Training_gru_glove_fastText_Bahdanau-GRU-Bah-FastText-/runs/eks56t0g' target=\"_blank\">https://wandb.ai/wilfried-mvomoeto-university-of-li-ge/Few-Shot-Training_gru_glove_fastText_Bahdanau-GRU-Bah-FastText-/runs/eks56t0g</a>"
            ],
            "text/plain": [
              "<IPython.core.display.HTML object>"
            ]
          },
          "metadata": {},
          "output_type": "display_data"
        },
        {
          "name": "stderr",
          "output_type": "stream",
          "text": [
            "GRU-Bah-FastText K-150 Epoch 25/1000 - Train Loss: 0.6752, Test Loss: 0.8153, Train Acc: 81.63%, Test Acc: 76.85%, Test F1: 78.02%, Test Balanced Acc: 76.79%, Test Recall: 76.85%, Test Precision: 82.43%, Time: 1.90 sec:   2%|▎         | 25/1000 [00:50<32:38,  2.01s/epoch]"
          ]
        },
        {
          "name": "stdout",
          "output_type": "stream",
          "text": [
            "Early stopping triggered at epoch 26\n",
            "Model GRU-Bah-FastText_K-150 saved with loss gap > 1.25 or accuracy gap > 10% at epoch 25.\n"
          ]
        },
        {
          "name": "stderr",
          "output_type": "stream",
          "text": [
            "\n",
            "<ipython-input-9-f03193db776b>:44: UserWarning: To copy construct from a tensor, it is recommended to use sourceTensor.clone().detach() or sourceTensor.clone().detach().requires_grad_(True), rather than torch.tensor(sourceTensor).\n",
            "  self.X = torch.tensor(X_data, dtype=torch.long)\n",
            "<ipython-input-9-f03193db776b>:45: UserWarning: To copy construct from a tensor, it is recommended to use sourceTensor.clone().detach() or sourceTensor.clone().detach().requires_grad_(True), rather than torch.tensor(sourceTensor).\n",
            "  self.y = torch.tensor(y_data, dtype=torch.long)\n"
          ]
        },
        {
          "data": {
            "text/html": [],
            "text/plain": [
              "<IPython.core.display.HTML object>"
            ]
          },
          "metadata": {},
          "output_type": "display_data"
        },
        {
          "data": {
            "text/html": [
              "<br>    <style><br>        .wandb-row {<br>            display: flex;<br>            flex-direction: row;<br>            flex-wrap: wrap;<br>            justify-content: flex-start;<br>            width: 100%;<br>        }<br>        .wandb-col {<br>            display: flex;<br>            flex-direction: column;<br>            flex-basis: 100%;<br>            flex: 1;<br>            padding: 10px;<br>        }<br>    </style><br><div class=\"wandb-row\"><div class=\"wandb-col\"><h3>Run history:</h3><br/><table class=\"wandb\"><tr><td>epoch</td><td>▁▁▂▂▂▂▃▃▃▄▄▄▄▅▅▅▅▆▆▆▇▇▇▇██</td></tr><tr><td>k_shot</td><td>▁▁▁▁▁▁▁▁▁▁▁▁▁▁▁▁▁▁▁▁▁▁▁▁▁▁</td></tr><tr><td>test_acc</td><td>▁▃▃▃▃▄▄▄▅▆▆▆▆▇▇███████████</td></tr><tr><td>test_balanced_acc</td><td>▁▃▃▃▃▄▄▄▅▆▆▆▆▇▇███████████</td></tr><tr><td>test_f1</td><td>▁▃▃▃▃▃▄▄▅▆▆▆▆▇▇███████████</td></tr><tr><td>test_loss</td><td>█▇▇▆▆▆▅▅▅▄▄▃▃▃▂▂▂▁▁▁▁▁▁▁▁▁</td></tr><tr><td>test_precision</td><td>▁▂▃▃▃▄▄▄▅▆▆▆▆▇▇███████████</td></tr><tr><td>test_recall</td><td>▁▃▃▃▃▄▄▄▅▆▆▆▆▇▇███████████</td></tr><tr><td>train_acc</td><td>▁▁▂▃▃▃▄▄▄▄▅▅▅▆▆▇▇▇▇███████</td></tr><tr><td>train_loss</td><td>██▇▆▆▆▆▅▅▅▄▄▄▄▃▃▂▂▂▂▂▁▁▁▁▁</td></tr></table><br/></div><div class=\"wandb-col\"><h3>Run summary:</h3><br/><table class=\"wandb\"><tr><td>epoch</td><td>26</td></tr><tr><td>k_shot</td><td>150</td></tr><tr><td>test_acc</td><td>0.77647</td></tr><tr><td>test_balanced_acc</td><td>0.77423</td></tr><tr><td>test_f1</td><td>0.78581</td></tr><tr><td>test_loss</td><td>0.79854</td></tr><tr><td>test_precision</td><td>0.81844</td></tr><tr><td>test_recall</td><td>0.77647</td></tr><tr><td>train_acc</td><td>0.81333</td></tr><tr><td>train_loss</td><td>0.63699</td></tr></table><br/></div></div>"
            ],
            "text/plain": [
              "<IPython.core.display.HTML object>"
            ]
          },
          "metadata": {},
          "output_type": "display_data"
        },
        {
          "data": {
            "text/html": [
              " View run <strong style=\"color:#cdcd00\">GRU-Bah-FastText_K-150_Training</strong> at: <a href='https://wandb.ai/wilfried-mvomoeto-university-of-li-ge/Few-Shot-Training_gru_glove_fastText_Bahdanau-GRU-Bah-FastText-/runs/eks56t0g' target=\"_blank\">https://wandb.ai/wilfried-mvomoeto-university-of-li-ge/Few-Shot-Training_gru_glove_fastText_Bahdanau-GRU-Bah-FastText-/runs/eks56t0g</a><br> View project at: <a href='https://wandb.ai/wilfried-mvomoeto-university-of-li-ge/Few-Shot-Training_gru_glove_fastText_Bahdanau-GRU-Bah-FastText-' target=\"_blank\">https://wandb.ai/wilfried-mvomoeto-university-of-li-ge/Few-Shot-Training_gru_glove_fastText_Bahdanau-GRU-Bah-FastText-</a><br>Synced 5 W&B file(s), 0 media file(s), 0 artifact file(s) and 0 other file(s)"
            ],
            "text/plain": [
              "<IPython.core.display.HTML object>"
            ]
          },
          "metadata": {},
          "output_type": "display_data"
        },
        {
          "data": {
            "text/html": [
              "Find logs at: <code>./wandb/run-20250421_084150-eks56t0g/logs</code>"
            ],
            "text/plain": [
              "<IPython.core.display.HTML object>"
            ]
          },
          "metadata": {},
          "output_type": "display_data"
        },
        {
          "data": {
            "text/html": [
              "Tracking run with wandb version 0.19.9"
            ],
            "text/plain": [
              "<IPython.core.display.HTML object>"
            ]
          },
          "metadata": {},
          "output_type": "display_data"
        },
        {
          "data": {
            "text/html": [
              "Run data is saved locally in <code>/content/wandb/run-20250421_084242-kozt2vdn</code>"
            ],
            "text/plain": [
              "<IPython.core.display.HTML object>"
            ]
          },
          "metadata": {},
          "output_type": "display_data"
        },
        {
          "data": {
            "text/html": [
              "Syncing run <strong><a href='https://wandb.ai/wilfried-mvomoeto-university-of-li-ge/Few-Shot-Training_gru_glove_fastText_Bahdanau-CNN_LSTM-/runs/kozt2vdn' target=\"_blank\">CNN_LSTM_K-150_Training</a></strong> to <a href='https://wandb.ai/wilfried-mvomoeto-university-of-li-ge/Few-Shot-Training_gru_glove_fastText_Bahdanau-CNN_LSTM-' target=\"_blank\">Weights & Biases</a> (<a href='https://wandb.me/developer-guide' target=\"_blank\">docs</a>)<br>"
            ],
            "text/plain": [
              "<IPython.core.display.HTML object>"
            ]
          },
          "metadata": {},
          "output_type": "display_data"
        },
        {
          "data": {
            "text/html": [
              " View project at <a href='https://wandb.ai/wilfried-mvomoeto-university-of-li-ge/Few-Shot-Training_gru_glove_fastText_Bahdanau-CNN_LSTM-' target=\"_blank\">https://wandb.ai/wilfried-mvomoeto-university-of-li-ge/Few-Shot-Training_gru_glove_fastText_Bahdanau-CNN_LSTM-</a>"
            ],
            "text/plain": [
              "<IPython.core.display.HTML object>"
            ]
          },
          "metadata": {},
          "output_type": "display_data"
        },
        {
          "data": {
            "text/html": [
              " View run at <a href='https://wandb.ai/wilfried-mvomoeto-university-of-li-ge/Few-Shot-Training_gru_glove_fastText_Bahdanau-CNN_LSTM-/runs/kozt2vdn' target=\"_blank\">https://wandb.ai/wilfried-mvomoeto-university-of-li-ge/Few-Shot-Training_gru_glove_fastText_Bahdanau-CNN_LSTM-/runs/kozt2vdn</a>"
            ],
            "text/plain": [
              "<IPython.core.display.HTML object>"
            ]
          },
          "metadata": {},
          "output_type": "display_data"
        },
        {
          "name": "stderr",
          "output_type": "stream",
          "text": [
            "CNN_LSTM K-150 Epoch 9/1000 - Train Loss: 2.1764, Test Loss: 2.2118, Train Acc: 11.63%, Test Acc: 6.78%, Test F1: 0.89%, Test Balanced Acc: 11.10%, Test Recall: 6.78%, Test Precision: 2.34%, Time: 1.45 sec:   1%|          | 9/1000 [00:13<24:13,  1.47s/epoch]"
          ]
        },
        {
          "name": "stdout",
          "output_type": "stream",
          "text": [
            "Early stopping triggered at epoch 10\n",
            "Model CNN_LSTM_K-150 saved with loss gap > 1.25 or accuracy gap > 10% at epoch 9.\n"
          ]
        },
        {
          "name": "stderr",
          "output_type": "stream",
          "text": [
            "\n",
            "<ipython-input-9-f03193db776b>:44: UserWarning: To copy construct from a tensor, it is recommended to use sourceTensor.clone().detach() or sourceTensor.clone().detach().requires_grad_(True), rather than torch.tensor(sourceTensor).\n",
            "  self.X = torch.tensor(X_data, dtype=torch.long)\n",
            "<ipython-input-9-f03193db776b>:45: UserWarning: To copy construct from a tensor, it is recommended to use sourceTensor.clone().detach() or sourceTensor.clone().detach().requires_grad_(True), rather than torch.tensor(sourceTensor).\n",
            "  self.y = torch.tensor(y_data, dtype=torch.long)\n"
          ]
        },
        {
          "data": {
            "text/html": [],
            "text/plain": [
              "<IPython.core.display.HTML object>"
            ]
          },
          "metadata": {},
          "output_type": "display_data"
        },
        {
          "data": {
            "text/html": [
              "<br>    <style><br>        .wandb-row {<br>            display: flex;<br>            flex-direction: row;<br>            flex-wrap: wrap;<br>            justify-content: flex-start;<br>            width: 100%;<br>        }<br>        .wandb-col {<br>            display: flex;<br>            flex-direction: column;<br>            flex-basis: 100%;<br>            flex: 1;<br>            padding: 10px;<br>        }<br>    </style><br><div class=\"wandb-row\"><div class=\"wandb-col\"><h3>Run history:</h3><br/><table class=\"wandb\"><tr><td>epoch</td><td>▁▂▃▃▄▅▆▆▇█</td></tr><tr><td>k_shot</td><td>▁▁▁▁▁▁▁▁▁▁</td></tr><tr><td>test_acc</td><td>▆▆▆▆▆▆█▆▆▁</td></tr><tr><td>test_balanced_acc</td><td>▇▇▇▇▇▇█▇▆▁</td></tr><tr><td>test_f1</td><td>▁▁▁▁▁▁█▁█▇</td></tr><tr><td>test_loss</td><td>▁▃▆█▄▅▆▆▆▅</td></tr><tr><td>test_precision</td><td>▁▁▁▁▁▁▆▁█▆</td></tr><tr><td>test_recall</td><td>▆▆▆▆▆▆█▆▆▁</td></tr><tr><td>train_acc</td><td>▁▅▅▅▅▅▆▇▇█</td></tr><tr><td>train_loss</td><td>█▆▄▃▃▄▂▃▂▁</td></tr></table><br/></div><div class=\"wandb-col\"><h3>Run summary:</h3><br/><table class=\"wandb\"><tr><td>epoch</td><td>10</td></tr><tr><td>k_shot</td><td>150</td></tr><tr><td>test_acc</td><td>0.06726</td></tr><tr><td>test_balanced_acc</td><td>0.11015</td></tr><tr><td>test_f1</td><td>0.00889</td></tr><tr><td>test_loss</td><td>2.20898</td></tr><tr><td>test_precision</td><td>0.01884</td></tr><tr><td>test_recall</td><td>0.06726</td></tr><tr><td>train_acc</td><td>0.11778</td></tr><tr><td>train_loss</td><td>2.17166</td></tr></table><br/></div></div>"
            ],
            "text/plain": [
              "<IPython.core.display.HTML object>"
            ]
          },
          "metadata": {},
          "output_type": "display_data"
        },
        {
          "data": {
            "text/html": [
              " View run <strong style=\"color:#cdcd00\">CNN_LSTM_K-150_Training</strong> at: <a href='https://wandb.ai/wilfried-mvomoeto-university-of-li-ge/Few-Shot-Training_gru_glove_fastText_Bahdanau-CNN_LSTM-/runs/kozt2vdn' target=\"_blank\">https://wandb.ai/wilfried-mvomoeto-university-of-li-ge/Few-Shot-Training_gru_glove_fastText_Bahdanau-CNN_LSTM-/runs/kozt2vdn</a><br> View project at: <a href='https://wandb.ai/wilfried-mvomoeto-university-of-li-ge/Few-Shot-Training_gru_glove_fastText_Bahdanau-CNN_LSTM-' target=\"_blank\">https://wandb.ai/wilfried-mvomoeto-university-of-li-ge/Few-Shot-Training_gru_glove_fastText_Bahdanau-CNN_LSTM-</a><br>Synced 5 W&B file(s), 0 media file(s), 0 artifact file(s) and 0 other file(s)"
            ],
            "text/plain": [
              "<IPython.core.display.HTML object>"
            ]
          },
          "metadata": {},
          "output_type": "display_data"
        },
        {
          "data": {
            "text/html": [
              "Find logs at: <code>./wandb/run-20250421_084242-kozt2vdn/logs</code>"
            ],
            "text/plain": [
              "<IPython.core.display.HTML object>"
            ]
          },
          "metadata": {},
          "output_type": "display_data"
        },
        {
          "data": {
            "text/html": [
              "Tracking run with wandb version 0.19.9"
            ],
            "text/plain": [
              "<IPython.core.display.HTML object>"
            ]
          },
          "metadata": {},
          "output_type": "display_data"
        },
        {
          "data": {
            "text/html": [
              "Run data is saved locally in <code>/content/wandb/run-20250421_084257-mxkrm19p</code>"
            ],
            "text/plain": [
              "<IPython.core.display.HTML object>"
            ]
          },
          "metadata": {},
          "output_type": "display_data"
        },
        {
          "data": {
            "text/html": [
              "Syncing run <strong><a href='https://wandb.ai/wilfried-mvomoeto-university-of-li-ge/Few-Shot-Training_gru_glove_fastText_Bahdanau-GRU-Glove-/runs/mxkrm19p' target=\"_blank\">GRU-Glove_K-150_Training</a></strong> to <a href='https://wandb.ai/wilfried-mvomoeto-university-of-li-ge/Few-Shot-Training_gru_glove_fastText_Bahdanau-GRU-Glove-' target=\"_blank\">Weights & Biases</a> (<a href='https://wandb.me/developer-guide' target=\"_blank\">docs</a>)<br>"
            ],
            "text/plain": [
              "<IPython.core.display.HTML object>"
            ]
          },
          "metadata": {},
          "output_type": "display_data"
        },
        {
          "data": {
            "text/html": [
              " View project at <a href='https://wandb.ai/wilfried-mvomoeto-university-of-li-ge/Few-Shot-Training_gru_glove_fastText_Bahdanau-GRU-Glove-' target=\"_blank\">https://wandb.ai/wilfried-mvomoeto-university-of-li-ge/Few-Shot-Training_gru_glove_fastText_Bahdanau-GRU-Glove-</a>"
            ],
            "text/plain": [
              "<IPython.core.display.HTML object>"
            ]
          },
          "metadata": {},
          "output_type": "display_data"
        },
        {
          "data": {
            "text/html": [
              " View run at <a href='https://wandb.ai/wilfried-mvomoeto-university-of-li-ge/Few-Shot-Training_gru_glove_fastText_Bahdanau-GRU-Glove-/runs/mxkrm19p' target=\"_blank\">https://wandb.ai/wilfried-mvomoeto-university-of-li-ge/Few-Shot-Training_gru_glove_fastText_Bahdanau-GRU-Glove-/runs/mxkrm19p</a>"
            ],
            "text/plain": [
              "<IPython.core.display.HTML object>"
            ]
          },
          "metadata": {},
          "output_type": "display_data"
        },
        {
          "name": "stderr",
          "output_type": "stream",
          "text": [
            "GRU-Glove K-150 Epoch 1/1000 - Train Loss: 2.2762, Test Loss: 2.2147, Train Acc: 10.22%, Test Acc: 6.78%, Test F1: 0.90%, Test Balanced Acc: 11.10%, Test Recall: 6.78%, Test Precision: 3.35%, Time: 1.26 sec:   0%|          | 1/1000 [00:02<42:53,  2.58s/epoch]"
          ]
        },
        {
          "name": "stdout",
          "output_type": "stream",
          "text": [
            "Early stopping triggered at epoch 2\n",
            "Model GRU-Glove_K-150 saved with loss gap > 1.25 or accuracy gap > 10% at epoch 1.\n"
          ]
        },
        {
          "name": "stderr",
          "output_type": "stream",
          "text": [
            "\n",
            "<ipython-input-9-f03193db776b>:44: UserWarning: To copy construct from a tensor, it is recommended to use sourceTensor.clone().detach() or sourceTensor.clone().detach().requires_grad_(True), rather than torch.tensor(sourceTensor).\n",
            "  self.X = torch.tensor(X_data, dtype=torch.long)\n",
            "<ipython-input-9-f03193db776b>:45: UserWarning: To copy construct from a tensor, it is recommended to use sourceTensor.clone().detach() or sourceTensor.clone().detach().requires_grad_(True), rather than torch.tensor(sourceTensor).\n",
            "  self.y = torch.tensor(y_data, dtype=torch.long)\n"
          ]
        },
        {
          "data": {
            "text/html": [],
            "text/plain": [
              "<IPython.core.display.HTML object>"
            ]
          },
          "metadata": {},
          "output_type": "display_data"
        },
        {
          "data": {
            "text/html": [
              "<br>    <style><br>        .wandb-row {<br>            display: flex;<br>            flex-direction: row;<br>            flex-wrap: wrap;<br>            justify-content: flex-start;<br>            width: 100%;<br>        }<br>        .wandb-col {<br>            display: flex;<br>            flex-direction: column;<br>            flex-basis: 100%;<br>            flex: 1;<br>            padding: 10px;<br>        }<br>    </style><br><div class=\"wandb-row\"><div class=\"wandb-col\"><h3>Run history:</h3><br/><table class=\"wandb\"><tr><td>epoch</td><td>▁█</td></tr><tr><td>k_shot</td><td>▁▁</td></tr><tr><td>test_acc</td><td>█▁</td></tr><tr><td>test_balanced_acc</td><td>█▁</td></tr><tr><td>test_f1</td><td>█▁</td></tr><tr><td>test_loss</td><td>▁█</td></tr><tr><td>test_precision</td><td>█▁</td></tr><tr><td>test_recall</td><td>█▁</td></tr><tr><td>train_acc</td><td>▁█</td></tr><tr><td>train_loss</td><td>█▁</td></tr></table><br/></div><div class=\"wandb-col\"><h3>Run summary:</h3><br/><table class=\"wandb\"><tr><td>epoch</td><td>2</td></tr><tr><td>k_shot</td><td>150</td></tr><tr><td>test_acc</td><td>0.06761</td></tr><tr><td>test_balanced_acc</td><td>0.11083</td></tr><tr><td>test_f1</td><td>0.00861</td></tr><tr><td>test_loss</td><td>2.2616</td></tr><tr><td>test_precision</td><td>0.0046</td></tr><tr><td>test_recall</td><td>0.06761</td></tr><tr><td>train_acc</td><td>0.11926</td></tr><tr><td>train_loss</td><td>2.26251</td></tr></table><br/></div></div>"
            ],
            "text/plain": [
              "<IPython.core.display.HTML object>"
            ]
          },
          "metadata": {},
          "output_type": "display_data"
        },
        {
          "data": {
            "text/html": [
              " View run <strong style=\"color:#cdcd00\">GRU-Glove_K-150_Training</strong> at: <a href='https://wandb.ai/wilfried-mvomoeto-university-of-li-ge/Few-Shot-Training_gru_glove_fastText_Bahdanau-GRU-Glove-/runs/mxkrm19p' target=\"_blank\">https://wandb.ai/wilfried-mvomoeto-university-of-li-ge/Few-Shot-Training_gru_glove_fastText_Bahdanau-GRU-Glove-/runs/mxkrm19p</a><br> View project at: <a href='https://wandb.ai/wilfried-mvomoeto-university-of-li-ge/Few-Shot-Training_gru_glove_fastText_Bahdanau-GRU-Glove-' target=\"_blank\">https://wandb.ai/wilfried-mvomoeto-university-of-li-ge/Few-Shot-Training_gru_glove_fastText_Bahdanau-GRU-Glove-</a><br>Synced 5 W&B file(s), 0 media file(s), 0 artifact file(s) and 0 other file(s)"
            ],
            "text/plain": [
              "<IPython.core.display.HTML object>"
            ]
          },
          "metadata": {},
          "output_type": "display_data"
        },
        {
          "data": {
            "text/html": [
              "Find logs at: <code>./wandb/run-20250421_084257-mxkrm19p/logs</code>"
            ],
            "text/plain": [
              "<IPython.core.display.HTML object>"
            ]
          },
          "metadata": {},
          "output_type": "display_data"
        },
        {
          "data": {
            "text/html": [
              "Tracking run with wandb version 0.19.9"
            ],
            "text/plain": [
              "<IPython.core.display.HTML object>"
            ]
          },
          "metadata": {},
          "output_type": "display_data"
        },
        {
          "data": {
            "text/html": [
              "Run data is saved locally in <code>/content/wandb/run-20250421_084302-p0sxsijw</code>"
            ],
            "text/plain": [
              "<IPython.core.display.HTML object>"
            ]
          },
          "metadata": {},
          "output_type": "display_data"
        },
        {
          "data": {
            "text/html": [
              "Syncing run <strong><a href='https://wandb.ai/wilfried-mvomoeto-university-of-li-ge/Few-Shot-Training_gru_glove_fastText_Bahdanau-GRU-FastText-/runs/p0sxsijw' target=\"_blank\">GRU-FastText_K-150_Training</a></strong> to <a href='https://wandb.ai/wilfried-mvomoeto-university-of-li-ge/Few-Shot-Training_gru_glove_fastText_Bahdanau-GRU-FastText-' target=\"_blank\">Weights & Biases</a> (<a href='https://wandb.me/developer-guide' target=\"_blank\">docs</a>)<br>"
            ],
            "text/plain": [
              "<IPython.core.display.HTML object>"
            ]
          },
          "metadata": {},
          "output_type": "display_data"
        },
        {
          "data": {
            "text/html": [
              " View project at <a href='https://wandb.ai/wilfried-mvomoeto-university-of-li-ge/Few-Shot-Training_gru_glove_fastText_Bahdanau-GRU-FastText-' target=\"_blank\">https://wandb.ai/wilfried-mvomoeto-university-of-li-ge/Few-Shot-Training_gru_glove_fastText_Bahdanau-GRU-FastText-</a>"
            ],
            "text/plain": [
              "<IPython.core.display.HTML object>"
            ]
          },
          "metadata": {},
          "output_type": "display_data"
        },
        {
          "data": {
            "text/html": [
              " View run at <a href='https://wandb.ai/wilfried-mvomoeto-university-of-li-ge/Few-Shot-Training_gru_glove_fastText_Bahdanau-GRU-FastText-/runs/p0sxsijw' target=\"_blank\">https://wandb.ai/wilfried-mvomoeto-university-of-li-ge/Few-Shot-Training_gru_glove_fastText_Bahdanau-GRU-FastText-/runs/p0sxsijw</a>"
            ],
            "text/plain": [
              "<IPython.core.display.HTML object>"
            ]
          },
          "metadata": {},
          "output_type": "display_data"
        },
        {
          "name": "stderr",
          "output_type": "stream",
          "text": [
            "GRU-FastText K-150 Epoch 5/1000 - Train Loss: 2.0751, Test Loss: 2.1372, Train Acc: 18.67%, Test Acc: 14.82%, Test F1: 10.76%, Test Balanced Acc: 17.65%, Test Recall: 14.82%, Test Precision: 33.57%, Time: 1.35 sec:   0%|          | 5/1000 [00:07<26:18,  1.59s/epoch]"
          ]
        },
        {
          "name": "stdout",
          "output_type": "stream",
          "text": [
            "Early stopping triggered at epoch 6\n",
            "Model GRU-FastText_K-150 saved with loss gap > 1.25 or accuracy gap > 10% at epoch 5.\n",
            "\n",
            "Training with 200-shot...\n"
          ]
        },
        {
          "name": "stderr",
          "output_type": "stream",
          "text": [
            "\n",
            "<ipython-input-9-f03193db776b>:44: UserWarning: To copy construct from a tensor, it is recommended to use sourceTensor.clone().detach() or sourceTensor.clone().detach().requires_grad_(True), rather than torch.tensor(sourceTensor).\n",
            "  self.X = torch.tensor(X_data, dtype=torch.long)\n",
            "<ipython-input-9-f03193db776b>:45: UserWarning: To copy construct from a tensor, it is recommended to use sourceTensor.clone().detach() or sourceTensor.clone().detach().requires_grad_(True), rather than torch.tensor(sourceTensor).\n",
            "  self.y = torch.tensor(y_data, dtype=torch.long)\n"
          ]
        },
        {
          "data": {
            "text/html": [],
            "text/plain": [
              "<IPython.core.display.HTML object>"
            ]
          },
          "metadata": {},
          "output_type": "display_data"
        },
        {
          "data": {
            "text/html": [
              "<br>    <style><br>        .wandb-row {<br>            display: flex;<br>            flex-direction: row;<br>            flex-wrap: wrap;<br>            justify-content: flex-start;<br>            width: 100%;<br>        }<br>        .wandb-col {<br>            display: flex;<br>            flex-direction: column;<br>            flex-basis: 100%;<br>            flex: 1;<br>            padding: 10px;<br>        }<br>    </style><br><div class=\"wandb-row\"><div class=\"wandb-col\"><h3>Run history:</h3><br/><table class=\"wandb\"><tr><td>epoch</td><td>▁▂▄▅▇█</td></tr><tr><td>k_shot</td><td>▁▁▁▁▁▁</td></tr><tr><td>test_acc</td><td>▁▁▃▄▅█</td></tr><tr><td>test_balanced_acc</td><td>▁▁▂▂▄█</td></tr><tr><td>test_f1</td><td>▁▁▂▃▄█</td></tr><tr><td>test_loss</td><td>███▆▄▁</td></tr><tr><td>test_precision</td><td>▁▁▁█▇▇</td></tr><tr><td>test_recall</td><td>▁▁▃▄▅█</td></tr><tr><td>train_acc</td><td>▁▁▂▂▄█</td></tr><tr><td>train_loss</td><td>██▇▆▄▁</td></tr></table><br/></div><div class=\"wandb-col\"><h3>Run summary:</h3><br/><table class=\"wandb\"><tr><td>epoch</td><td>6</td></tr><tr><td>k_shot</td><td>150</td></tr><tr><td>test_acc</td><td>0.22784</td></tr><tr><td>test_balanced_acc</td><td>0.25188</td></tr><tr><td>test_f1</td><td>0.20777</td></tr><tr><td>test_loss</td><td>2.06105</td></tr><tr><td>test_precision</td><td>0.33033</td></tr><tr><td>test_recall</td><td>0.22784</td></tr><tr><td>train_acc</td><td>0.30074</td></tr><tr><td>train_loss</td><td>1.87496</td></tr></table><br/></div></div>"
            ],
            "text/plain": [
              "<IPython.core.display.HTML object>"
            ]
          },
          "metadata": {},
          "output_type": "display_data"
        },
        {
          "data": {
            "text/html": [
              " View run <strong style=\"color:#cdcd00\">GRU-FastText_K-150_Training</strong> at: <a href='https://wandb.ai/wilfried-mvomoeto-university-of-li-ge/Few-Shot-Training_gru_glove_fastText_Bahdanau-GRU-FastText-/runs/p0sxsijw' target=\"_blank\">https://wandb.ai/wilfried-mvomoeto-university-of-li-ge/Few-Shot-Training_gru_glove_fastText_Bahdanau-GRU-FastText-/runs/p0sxsijw</a><br> View project at: <a href='https://wandb.ai/wilfried-mvomoeto-university-of-li-ge/Few-Shot-Training_gru_glove_fastText_Bahdanau-GRU-FastText-' target=\"_blank\">https://wandb.ai/wilfried-mvomoeto-university-of-li-ge/Few-Shot-Training_gru_glove_fastText_Bahdanau-GRU-FastText-</a><br>Synced 5 W&B file(s), 0 media file(s), 0 artifact file(s) and 0 other file(s)"
            ],
            "text/plain": [
              "<IPython.core.display.HTML object>"
            ]
          },
          "metadata": {},
          "output_type": "display_data"
        },
        {
          "data": {
            "text/html": [
              "Find logs at: <code>./wandb/run-20250421_084302-p0sxsijw/logs</code>"
            ],
            "text/plain": [
              "<IPython.core.display.HTML object>"
            ]
          },
          "metadata": {},
          "output_type": "display_data"
        },
        {
          "data": {
            "text/html": [
              "Tracking run with wandb version 0.19.9"
            ],
            "text/plain": [
              "<IPython.core.display.HTML object>"
            ]
          },
          "metadata": {},
          "output_type": "display_data"
        },
        {
          "data": {
            "text/html": [
              "Run data is saved locally in <code>/content/wandb/run-20250421_084311-fkw34yqz</code>"
            ],
            "text/plain": [
              "<IPython.core.display.HTML object>"
            ]
          },
          "metadata": {},
          "output_type": "display_data"
        },
        {
          "data": {
            "text/html": [
              "Syncing run <strong><a href='https://wandb.ai/wilfried-mvomoeto-university-of-li-ge/Few-Shot-Training_gru_glove_fastText_Bahdanau-GRU-Bah-Glove-/runs/fkw34yqz' target=\"_blank\">GRU-Bah-Glove_K-200_Training</a></strong> to <a href='https://wandb.ai/wilfried-mvomoeto-university-of-li-ge/Few-Shot-Training_gru_glove_fastText_Bahdanau-GRU-Bah-Glove-' target=\"_blank\">Weights & Biases</a> (<a href='https://wandb.me/developer-guide' target=\"_blank\">docs</a>)<br>"
            ],
            "text/plain": [
              "<IPython.core.display.HTML object>"
            ]
          },
          "metadata": {},
          "output_type": "display_data"
        },
        {
          "data": {
            "text/html": [
              " View project at <a href='https://wandb.ai/wilfried-mvomoeto-university-of-li-ge/Few-Shot-Training_gru_glove_fastText_Bahdanau-GRU-Bah-Glove-' target=\"_blank\">https://wandb.ai/wilfried-mvomoeto-university-of-li-ge/Few-Shot-Training_gru_glove_fastText_Bahdanau-GRU-Bah-Glove-</a>"
            ],
            "text/plain": [
              "<IPython.core.display.HTML object>"
            ]
          },
          "metadata": {},
          "output_type": "display_data"
        },
        {
          "data": {
            "text/html": [
              " View run at <a href='https://wandb.ai/wilfried-mvomoeto-university-of-li-ge/Few-Shot-Training_gru_glove_fastText_Bahdanau-GRU-Bah-Glove-/runs/fkw34yqz' target=\"_blank\">https://wandb.ai/wilfried-mvomoeto-university-of-li-ge/Few-Shot-Training_gru_glove_fastText_Bahdanau-GRU-Bah-Glove-/runs/fkw34yqz</a>"
            ],
            "text/plain": [
              "<IPython.core.display.HTML object>"
            ]
          },
          "metadata": {},
          "output_type": "display_data"
        },
        {
          "name": "stderr",
          "output_type": "stream",
          "text": [
            "GRU-Bah-Glove K-200 Epoch 20/1000 - Train Loss: 0.5750, Test Loss: 0.6795, Train Acc: 81.78%, Test Acc: 78.10%, Test F1: 78.96%, Test Balanced Acc: 78.74%, Test Recall: 78.10%, Test Precision: 80.92%, Time: 2.19 sec:   2%|▏         | 20/1000 [00:47<38:33,  2.36s/epoch]"
          ]
        },
        {
          "name": "stdout",
          "output_type": "stream",
          "text": [
            "Early stopping triggered at epoch 21\n",
            "Model GRU-Bah-Glove_K-200 saved with loss gap > 1.25 or accuracy gap > 10% at epoch 20.\n"
          ]
        },
        {
          "name": "stderr",
          "output_type": "stream",
          "text": [
            "\n",
            "<ipython-input-9-f03193db776b>:44: UserWarning: To copy construct from a tensor, it is recommended to use sourceTensor.clone().detach() or sourceTensor.clone().detach().requires_grad_(True), rather than torch.tensor(sourceTensor).\n",
            "  self.X = torch.tensor(X_data, dtype=torch.long)\n",
            "<ipython-input-9-f03193db776b>:45: UserWarning: To copy construct from a tensor, it is recommended to use sourceTensor.clone().detach() or sourceTensor.clone().detach().requires_grad_(True), rather than torch.tensor(sourceTensor).\n",
            "  self.y = torch.tensor(y_data, dtype=torch.long)\n"
          ]
        },
        {
          "data": {
            "text/html": [],
            "text/plain": [
              "<IPython.core.display.HTML object>"
            ]
          },
          "metadata": {},
          "output_type": "display_data"
        },
        {
          "data": {
            "text/html": [
              "<br>    <style><br>        .wandb-row {<br>            display: flex;<br>            flex-direction: row;<br>            flex-wrap: wrap;<br>            justify-content: flex-start;<br>            width: 100%;<br>        }<br>        .wandb-col {<br>            display: flex;<br>            flex-direction: column;<br>            flex-basis: 100%;<br>            flex: 1;<br>            padding: 10px;<br>        }<br>    </style><br><div class=\"wandb-row\"><div class=\"wandb-col\"><h3>Run history:</h3><br/><table class=\"wandb\"><tr><td>epoch</td><td>▁▁▂▂▂▃▃▃▄▄▅▅▅▆▆▆▇▇▇██</td></tr><tr><td>k_shot</td><td>▁▁▁▁▁▁▁▁▁▁▁▁▁▁▁▁▁▁▁▁▁</td></tr><tr><td>test_acc</td><td>▁▂▄▄▅▆▆▇▇▇▇▇█████████</td></tr><tr><td>test_balanced_acc</td><td>▁▂▄▅▅▆▆▇▇▇▇▇█████████</td></tr><tr><td>test_f1</td><td>▁▂▄▄▅▆▆▇▇▇▇▇▇████████</td></tr><tr><td>test_loss</td><td>█▇▆▆▅▅▄▃▃▂▂▂▂▂▂▁▁▁▁▁▁</td></tr><tr><td>test_precision</td><td>▁▂▃▄▄▆▆▇▇▇▇▇▇████████</td></tr><tr><td>test_recall</td><td>▁▂▄▄▅▆▆▇▇▇▇▇█████████</td></tr><tr><td>train_acc</td><td>▁▂▂▃▄▄▅▆▆▇▇▇▇▇▇▇█████</td></tr><tr><td>train_loss</td><td>█▇▆▆▅▅▄▄▃▃▃▃▂▂▂▂▂▁▁▁▁</td></tr></table><br/></div><div class=\"wandb-col\"><h3>Run summary:</h3><br/><table class=\"wandb\"><tr><td>epoch</td><td>21</td></tr><tr><td>k_shot</td><td>200</td></tr><tr><td>test_acc</td><td>0.78148</td></tr><tr><td>test_balanced_acc</td><td>0.78811</td></tr><tr><td>test_f1</td><td>0.78954</td></tr><tr><td>test_loss</td><td>0.66942</td></tr><tr><td>test_precision</td><td>0.80655</td></tr><tr><td>test_recall</td><td>0.78148</td></tr><tr><td>train_acc</td><td>0.82889</td></tr><tr><td>train_loss</td><td>0.53029</td></tr></table><br/></div></div>"
            ],
            "text/plain": [
              "<IPython.core.display.HTML object>"
            ]
          },
          "metadata": {},
          "output_type": "display_data"
        },
        {
          "data": {
            "text/html": [
              " View run <strong style=\"color:#cdcd00\">GRU-Bah-Glove_K-200_Training</strong> at: <a href='https://wandb.ai/wilfried-mvomoeto-university-of-li-ge/Few-Shot-Training_gru_glove_fastText_Bahdanau-GRU-Bah-Glove-/runs/fkw34yqz' target=\"_blank\">https://wandb.ai/wilfried-mvomoeto-university-of-li-ge/Few-Shot-Training_gru_glove_fastText_Bahdanau-GRU-Bah-Glove-/runs/fkw34yqz</a><br> View project at: <a href='https://wandb.ai/wilfried-mvomoeto-university-of-li-ge/Few-Shot-Training_gru_glove_fastText_Bahdanau-GRU-Bah-Glove-' target=\"_blank\">https://wandb.ai/wilfried-mvomoeto-university-of-li-ge/Few-Shot-Training_gru_glove_fastText_Bahdanau-GRU-Bah-Glove-</a><br>Synced 5 W&B file(s), 0 media file(s), 0 artifact file(s) and 0 other file(s)"
            ],
            "text/plain": [
              "<IPython.core.display.HTML object>"
            ]
          },
          "metadata": {},
          "output_type": "display_data"
        },
        {
          "data": {
            "text/html": [
              "Find logs at: <code>./wandb/run-20250421_084311-fkw34yqz/logs</code>"
            ],
            "text/plain": [
              "<IPython.core.display.HTML object>"
            ]
          },
          "metadata": {},
          "output_type": "display_data"
        },
        {
          "data": {
            "text/html": [
              "Tracking run with wandb version 0.19.9"
            ],
            "text/plain": [
              "<IPython.core.display.HTML object>"
            ]
          },
          "metadata": {},
          "output_type": "display_data"
        },
        {
          "data": {
            "text/html": [
              "Run data is saved locally in <code>/content/wandb/run-20250421_084400-rbqpwqq9</code>"
            ],
            "text/plain": [
              "<IPython.core.display.HTML object>"
            ]
          },
          "metadata": {},
          "output_type": "display_data"
        },
        {
          "data": {
            "text/html": [
              "Syncing run <strong><a href='https://wandb.ai/wilfried-mvomoeto-university-of-li-ge/Few-Shot-Training_gru_glove_fastText_Bahdanau-GRU-Bah-FastText-/runs/rbqpwqq9' target=\"_blank\">GRU-Bah-FastText_K-200_Training</a></strong> to <a href='https://wandb.ai/wilfried-mvomoeto-university-of-li-ge/Few-Shot-Training_gru_glove_fastText_Bahdanau-GRU-Bah-FastText-' target=\"_blank\">Weights & Biases</a> (<a href='https://wandb.me/developer-guide' target=\"_blank\">docs</a>)<br>"
            ],
            "text/plain": [
              "<IPython.core.display.HTML object>"
            ]
          },
          "metadata": {},
          "output_type": "display_data"
        },
        {
          "data": {
            "text/html": [
              " View project at <a href='https://wandb.ai/wilfried-mvomoeto-university-of-li-ge/Few-Shot-Training_gru_glove_fastText_Bahdanau-GRU-Bah-FastText-' target=\"_blank\">https://wandb.ai/wilfried-mvomoeto-university-of-li-ge/Few-Shot-Training_gru_glove_fastText_Bahdanau-GRU-Bah-FastText-</a>"
            ],
            "text/plain": [
              "<IPython.core.display.HTML object>"
            ]
          },
          "metadata": {},
          "output_type": "display_data"
        },
        {
          "data": {
            "text/html": [
              " View run at <a href='https://wandb.ai/wilfried-mvomoeto-university-of-li-ge/Few-Shot-Training_gru_glove_fastText_Bahdanau-GRU-Bah-FastText-/runs/rbqpwqq9' target=\"_blank\">https://wandb.ai/wilfried-mvomoeto-university-of-li-ge/Few-Shot-Training_gru_glove_fastText_Bahdanau-GRU-Bah-FastText-/runs/rbqpwqq9</a>"
            ],
            "text/plain": [
              "<IPython.core.display.HTML object>"
            ]
          },
          "metadata": {},
          "output_type": "display_data"
        },
        {
          "name": "stderr",
          "output_type": "stream",
          "text": [
            "GRU-Bah-FastText K-200 Epoch 22/1000 - Train Loss: 0.4405, Test Loss: 0.5469, Train Acc: 86.28%, Test Acc: 83.56%, Test F1: 84.28%, Test Balanced Acc: 84.11%, Test Recall: 83.56%, Test Precision: 85.77%, Time: 2.21 sec:   2%|▏         | 22/1000 [00:51<38:12,  2.34s/epoch]"
          ]
        },
        {
          "name": "stdout",
          "output_type": "stream",
          "text": [
            "Early stopping triggered at epoch 23\n",
            "Model GRU-Bah-FastText_K-200 saved with loss gap > 1.25 or accuracy gap > 10% at epoch 22.\n"
          ]
        },
        {
          "name": "stderr",
          "output_type": "stream",
          "text": [
            "\n",
            "<ipython-input-9-f03193db776b>:44: UserWarning: To copy construct from a tensor, it is recommended to use sourceTensor.clone().detach() or sourceTensor.clone().detach().requires_grad_(True), rather than torch.tensor(sourceTensor).\n",
            "  self.X = torch.tensor(X_data, dtype=torch.long)\n",
            "<ipython-input-9-f03193db776b>:45: UserWarning: To copy construct from a tensor, it is recommended to use sourceTensor.clone().detach() or sourceTensor.clone().detach().requires_grad_(True), rather than torch.tensor(sourceTensor).\n",
            "  self.y = torch.tensor(y_data, dtype=torch.long)\n"
          ]
        },
        {
          "data": {
            "text/html": [],
            "text/plain": [
              "<IPython.core.display.HTML object>"
            ]
          },
          "metadata": {},
          "output_type": "display_data"
        },
        {
          "data": {
            "text/html": [
              "<br>    <style><br>        .wandb-row {<br>            display: flex;<br>            flex-direction: row;<br>            flex-wrap: wrap;<br>            justify-content: flex-start;<br>            width: 100%;<br>        }<br>        .wandb-col {<br>            display: flex;<br>            flex-direction: column;<br>            flex-basis: 100%;<br>            flex: 1;<br>            padding: 10px;<br>        }<br>    </style><br><div class=\"wandb-row\"><div class=\"wandb-col\"><h3>Run history:</h3><br/><table class=\"wandb\"><tr><td>epoch</td><td>▁▁▂▂▂▃▃▃▄▄▄▅▅▅▅▆▆▆▇▇▇██</td></tr><tr><td>k_shot</td><td>▁▁▁▁▁▁▁▁▁▁▁▁▁▁▁▁▁▁▁▁▁▁▁</td></tr><tr><td>test_acc</td><td>▁▃▄▅▅▆▆▆▆▇▇▇▇██████████</td></tr><tr><td>test_balanced_acc</td><td>▁▃▄▅▅▆▆▆▇▇▇▇▇██████████</td></tr><tr><td>test_f1</td><td>▁▃▄▅▅▆▆▆▆▇▇▇▇██████████</td></tr><tr><td>test_loss</td><td>█▇▆▅▄▄▃▃▃▂▂▂▂▂▂▁▁▁▁▁▁▁▁</td></tr><tr><td>test_precision</td><td>▁▃▄▅▅▆▇▇▇▇▇▇███████████</td></tr><tr><td>test_recall</td><td>▁▃▄▅▅▆▆▆▆▇▇▇▇██████████</td></tr><tr><td>train_acc</td><td>▁▂▃▄▅▅▆▆▆▆▇▇▇▇▇▇███████</td></tr><tr><td>train_loss</td><td>█▇▆▅▄▄▄▃▃▃▃▃▂▂▂▂▂▁▁▁▁▁▁</td></tr></table><br/></div><div class=\"wandb-col\"><h3>Run summary:</h3><br/><table class=\"wandb\"><tr><td>epoch</td><td>23</td></tr><tr><td>k_shot</td><td>200</td></tr><tr><td>test_acc</td><td>0.83512</td></tr><tr><td>test_balanced_acc</td><td>0.84039</td></tr><tr><td>test_f1</td><td>0.84202</td></tr><tr><td>test_loss</td><td>0.54063</td></tr><tr><td>test_precision</td><td>0.85568</td></tr><tr><td>test_recall</td><td>0.83512</td></tr><tr><td>train_acc</td><td>0.88222</td></tr><tr><td>train_loss</td><td>0.41096</td></tr></table><br/></div></div>"
            ],
            "text/plain": [
              "<IPython.core.display.HTML object>"
            ]
          },
          "metadata": {},
          "output_type": "display_data"
        },
        {
          "data": {
            "text/html": [
              " View run <strong style=\"color:#cdcd00\">GRU-Bah-FastText_K-200_Training</strong> at: <a href='https://wandb.ai/wilfried-mvomoeto-university-of-li-ge/Few-Shot-Training_gru_glove_fastText_Bahdanau-GRU-Bah-FastText-/runs/rbqpwqq9' target=\"_blank\">https://wandb.ai/wilfried-mvomoeto-university-of-li-ge/Few-Shot-Training_gru_glove_fastText_Bahdanau-GRU-Bah-FastText-/runs/rbqpwqq9</a><br> View project at: <a href='https://wandb.ai/wilfried-mvomoeto-university-of-li-ge/Few-Shot-Training_gru_glove_fastText_Bahdanau-GRU-Bah-FastText-' target=\"_blank\">https://wandb.ai/wilfried-mvomoeto-university-of-li-ge/Few-Shot-Training_gru_glove_fastText_Bahdanau-GRU-Bah-FastText-</a><br>Synced 5 W&B file(s), 0 media file(s), 0 artifact file(s) and 0 other file(s)"
            ],
            "text/plain": [
              "<IPython.core.display.HTML object>"
            ]
          },
          "metadata": {},
          "output_type": "display_data"
        },
        {
          "data": {
            "text/html": [
              "Find logs at: <code>./wandb/run-20250421_084400-rbqpwqq9/logs</code>"
            ],
            "text/plain": [
              "<IPython.core.display.HTML object>"
            ]
          },
          "metadata": {},
          "output_type": "display_data"
        },
        {
          "data": {
            "text/html": [
              "Tracking run with wandb version 0.19.9"
            ],
            "text/plain": [
              "<IPython.core.display.HTML object>"
            ]
          },
          "metadata": {},
          "output_type": "display_data"
        },
        {
          "data": {
            "text/html": [
              "Run data is saved locally in <code>/content/wandb/run-20250421_084453-dhkq1wft</code>"
            ],
            "text/plain": [
              "<IPython.core.display.HTML object>"
            ]
          },
          "metadata": {},
          "output_type": "display_data"
        },
        {
          "data": {
            "text/html": [
              "Syncing run <strong><a href='https://wandb.ai/wilfried-mvomoeto-university-of-li-ge/Few-Shot-Training_gru_glove_fastText_Bahdanau-CNN_LSTM-/runs/dhkq1wft' target=\"_blank\">CNN_LSTM_K-200_Training</a></strong> to <a href='https://wandb.ai/wilfried-mvomoeto-university-of-li-ge/Few-Shot-Training_gru_glove_fastText_Bahdanau-CNN_LSTM-' target=\"_blank\">Weights & Biases</a> (<a href='https://wandb.me/developer-guide' target=\"_blank\">docs</a>)<br>"
            ],
            "text/plain": [
              "<IPython.core.display.HTML object>"
            ]
          },
          "metadata": {},
          "output_type": "display_data"
        },
        {
          "data": {
            "text/html": [
              " View project at <a href='https://wandb.ai/wilfried-mvomoeto-university-of-li-ge/Few-Shot-Training_gru_glove_fastText_Bahdanau-CNN_LSTM-' target=\"_blank\">https://wandb.ai/wilfried-mvomoeto-university-of-li-ge/Few-Shot-Training_gru_glove_fastText_Bahdanau-CNN_LSTM-</a>"
            ],
            "text/plain": [
              "<IPython.core.display.HTML object>"
            ]
          },
          "metadata": {},
          "output_type": "display_data"
        },
        {
          "data": {
            "text/html": [
              " View run at <a href='https://wandb.ai/wilfried-mvomoeto-university-of-li-ge/Few-Shot-Training_gru_glove_fastText_Bahdanau-CNN_LSTM-/runs/dhkq1wft' target=\"_blank\">https://wandb.ai/wilfried-mvomoeto-university-of-li-ge/Few-Shot-Training_gru_glove_fastText_Bahdanau-CNN_LSTM-/runs/dhkq1wft</a>"
            ],
            "text/plain": [
              "<IPython.core.display.HTML object>"
            ]
          },
          "metadata": {},
          "output_type": "display_data"
        },
        {
          "name": "stderr",
          "output_type": "stream",
          "text": [
            "CNN_LSTM K-200 Epoch 13/1000 - Train Loss: 2.1647, Test Loss: 2.2102, Train Acc: 11.78%, Test Acc: 6.80%, Test F1: 0.90%, Test Balanced Acc: 11.13%, Test Recall: 6.80%, Test Precision: 12.64%, Time: 1.47 sec:   1%|▏         | 13/1000 [00:21<27:16,  1.66s/epoch]"
          ]
        },
        {
          "name": "stdout",
          "output_type": "stream",
          "text": [
            "Early stopping triggered at epoch 14\n",
            "Model CNN_LSTM_K-200 saved with loss gap > 1.25 or accuracy gap > 10% at epoch 13.\n"
          ]
        },
        {
          "name": "stderr",
          "output_type": "stream",
          "text": [
            "\n",
            "<ipython-input-9-f03193db776b>:44: UserWarning: To copy construct from a tensor, it is recommended to use sourceTensor.clone().detach() or sourceTensor.clone().detach().requires_grad_(True), rather than torch.tensor(sourceTensor).\n",
            "  self.X = torch.tensor(X_data, dtype=torch.long)\n",
            "<ipython-input-9-f03193db776b>:45: UserWarning: To copy construct from a tensor, it is recommended to use sourceTensor.clone().detach() or sourceTensor.clone().detach().requires_grad_(True), rather than torch.tensor(sourceTensor).\n",
            "  self.y = torch.tensor(y_data, dtype=torch.long)\n"
          ]
        },
        {
          "data": {
            "text/html": [],
            "text/plain": [
              "<IPython.core.display.HTML object>"
            ]
          },
          "metadata": {},
          "output_type": "display_data"
        },
        {
          "data": {
            "text/html": [
              "<br>    <style><br>        .wandb-row {<br>            display: flex;<br>            flex-direction: row;<br>            flex-wrap: wrap;<br>            justify-content: flex-start;<br>            width: 100%;<br>        }<br>        .wandb-col {<br>            display: flex;<br>            flex-direction: column;<br>            flex-basis: 100%;<br>            flex: 1;<br>            padding: 10px;<br>        }<br>    </style><br><div class=\"wandb-row\"><div class=\"wandb-col\"><h3>Run history:</h3><br/><table class=\"wandb\"><tr><td>epoch</td><td>▁▂▂▃▃▄▄▅▅▆▆▇▇█</td></tr><tr><td>k_shot</td><td>▁▁▁▁▁▁▁▁▁▁▁▁▁▁</td></tr><tr><td>test_acc</td><td>▆▆▆▆▆▆▆▆█▆▆▁█▁</td></tr><tr><td>test_balanced_acc</td><td>▇▇▇▇▇▇▇▇█▇▇▂█▁</td></tr><tr><td>test_f1</td><td>▁▁▁▁▁▁▂▂█▂▂▁█▇</td></tr><tr><td>test_loss</td><td>▅▃▆▄█▂▁▄▃▃▄▄▂▃</td></tr><tr><td>test_precision</td><td>▁▁▁▁▁▁▁▁▂▁▁▁█▃</td></tr><tr><td>test_recall</td><td>▆▆▆▆▆▆▆▆█▆▆▁█▁</td></tr><tr><td>train_acc</td><td>▃▂▁▂▂▂▄▅▇▇▇▇██</td></tr><tr><td>train_loss</td><td>█▆▅▄▄▄▃▂▂▂▂▁▁▁</td></tr></table><br/></div><div class=\"wandb-col\"><h3>Run summary:</h3><br/><table class=\"wandb\"><tr><td>epoch</td><td>14</td></tr><tr><td>k_shot</td><td>200</td></tr><tr><td>test_acc</td><td>0.06744</td></tr><tr><td>test_balanced_acc</td><td>0.11042</td></tr><tr><td>test_f1</td><td>0.00891</td></tr><tr><td>test_loss</td><td>2.21132</td></tr><tr><td>test_precision</td><td>0.04517</td></tr><tr><td>test_recall</td><td>0.06744</td></tr><tr><td>train_acc</td><td>0.11778</td></tr><tr><td>train_loss</td><td>2.16437</td></tr></table><br/></div></div>"
            ],
            "text/plain": [
              "<IPython.core.display.HTML object>"
            ]
          },
          "metadata": {},
          "output_type": "display_data"
        },
        {
          "data": {
            "text/html": [
              " View run <strong style=\"color:#cdcd00\">CNN_LSTM_K-200_Training</strong> at: <a href='https://wandb.ai/wilfried-mvomoeto-university-of-li-ge/Few-Shot-Training_gru_glove_fastText_Bahdanau-CNN_LSTM-/runs/dhkq1wft' target=\"_blank\">https://wandb.ai/wilfried-mvomoeto-university-of-li-ge/Few-Shot-Training_gru_glove_fastText_Bahdanau-CNN_LSTM-/runs/dhkq1wft</a><br> View project at: <a href='https://wandb.ai/wilfried-mvomoeto-university-of-li-ge/Few-Shot-Training_gru_glove_fastText_Bahdanau-CNN_LSTM-' target=\"_blank\">https://wandb.ai/wilfried-mvomoeto-university-of-li-ge/Few-Shot-Training_gru_glove_fastText_Bahdanau-CNN_LSTM-</a><br>Synced 5 W&B file(s), 0 media file(s), 0 artifact file(s) and 0 other file(s)"
            ],
            "text/plain": [
              "<IPython.core.display.HTML object>"
            ]
          },
          "metadata": {},
          "output_type": "display_data"
        },
        {
          "data": {
            "text/html": [
              "Find logs at: <code>./wandb/run-20250421_084453-dhkq1wft/logs</code>"
            ],
            "text/plain": [
              "<IPython.core.display.HTML object>"
            ]
          },
          "metadata": {},
          "output_type": "display_data"
        },
        {
          "data": {
            "text/html": [
              "Tracking run with wandb version 0.19.9"
            ],
            "text/plain": [
              "<IPython.core.display.HTML object>"
            ]
          },
          "metadata": {},
          "output_type": "display_data"
        },
        {
          "data": {
            "text/html": [
              "Run data is saved locally in <code>/content/wandb/run-20250421_084517-il0dn6b1</code>"
            ],
            "text/plain": [
              "<IPython.core.display.HTML object>"
            ]
          },
          "metadata": {},
          "output_type": "display_data"
        },
        {
          "data": {
            "text/html": [
              "Syncing run <strong><a href='https://wandb.ai/wilfried-mvomoeto-university-of-li-ge/Few-Shot-Training_gru_glove_fastText_Bahdanau-GRU-Glove-/runs/il0dn6b1' target=\"_blank\">GRU-Glove_K-200_Training</a></strong> to <a href='https://wandb.ai/wilfried-mvomoeto-university-of-li-ge/Few-Shot-Training_gru_glove_fastText_Bahdanau-GRU-Glove-' target=\"_blank\">Weights & Biases</a> (<a href='https://wandb.me/developer-guide' target=\"_blank\">docs</a>)<br>"
            ],
            "text/plain": [
              "<IPython.core.display.HTML object>"
            ]
          },
          "metadata": {},
          "output_type": "display_data"
        },
        {
          "data": {
            "text/html": [
              " View project at <a href='https://wandb.ai/wilfried-mvomoeto-university-of-li-ge/Few-Shot-Training_gru_glove_fastText_Bahdanau-GRU-Glove-' target=\"_blank\">https://wandb.ai/wilfried-mvomoeto-university-of-li-ge/Few-Shot-Training_gru_glove_fastText_Bahdanau-GRU-Glove-</a>"
            ],
            "text/plain": [
              "<IPython.core.display.HTML object>"
            ]
          },
          "metadata": {},
          "output_type": "display_data"
        },
        {
          "data": {
            "text/html": [
              " View run at <a href='https://wandb.ai/wilfried-mvomoeto-university-of-li-ge/Few-Shot-Training_gru_glove_fastText_Bahdanau-GRU-Glove-/runs/il0dn6b1' target=\"_blank\">https://wandb.ai/wilfried-mvomoeto-university-of-li-ge/Few-Shot-Training_gru_glove_fastText_Bahdanau-GRU-Glove-/runs/il0dn6b1</a>"
            ],
            "text/plain": [
              "<IPython.core.display.HTML object>"
            ]
          },
          "metadata": {},
          "output_type": "display_data"
        },
        {
          "name": "stderr",
          "output_type": "stream",
          "text": [
            "GRU-Glove K-200 Epoch 7/1000 - Train Loss: 2.0707, Test Loss: 2.1148, Train Acc: 19.06%, Test Acc: 18.82%, Test F1: 13.37%, Test Balanced Acc: 21.38%, Test Recall: 18.82%, Test Precision: 22.40%, Time: 1.44 sec:   1%|          | 7/1000 [00:12<28:36,  1.73s/epoch]"
          ]
        },
        {
          "name": "stdout",
          "output_type": "stream",
          "text": [
            "Early stopping triggered at epoch 8\n",
            "Model GRU-Glove_K-200 saved with loss gap > 1.25 or accuracy gap > 10% at epoch 7.\n"
          ]
        },
        {
          "name": "stderr",
          "output_type": "stream",
          "text": [
            "\n",
            "<ipython-input-9-f03193db776b>:44: UserWarning: To copy construct from a tensor, it is recommended to use sourceTensor.clone().detach() or sourceTensor.clone().detach().requires_grad_(True), rather than torch.tensor(sourceTensor).\n",
            "  self.X = torch.tensor(X_data, dtype=torch.long)\n",
            "<ipython-input-9-f03193db776b>:45: UserWarning: To copy construct from a tensor, it is recommended to use sourceTensor.clone().detach() or sourceTensor.clone().detach().requires_grad_(True), rather than torch.tensor(sourceTensor).\n",
            "  self.y = torch.tensor(y_data, dtype=torch.long)\n"
          ]
        },
        {
          "data": {
            "text/html": [],
            "text/plain": [
              "<IPython.core.display.HTML object>"
            ]
          },
          "metadata": {},
          "output_type": "display_data"
        },
        {
          "data": {
            "text/html": [
              "<br>    <style><br>        .wandb-row {<br>            display: flex;<br>            flex-direction: row;<br>            flex-wrap: wrap;<br>            justify-content: flex-start;<br>            width: 100%;<br>        }<br>        .wandb-col {<br>            display: flex;<br>            flex-direction: column;<br>            flex-basis: 100%;<br>            flex: 1;<br>            padding: 10px;<br>        }<br>    </style><br><div class=\"wandb-row\"><div class=\"wandb-col\"><h3>Run history:</h3><br/><table class=\"wandb\"><tr><td>epoch</td><td>▁▂▃▄▅▆▇█</td></tr><tr><td>k_shot</td><td>▁▁▁▁▁▁▁▁</td></tr><tr><td>test_acc</td><td>▃▃▃▁▄▂▇█</td></tr><tr><td>test_balanced_acc</td><td>▁▁▁▁▂▂▇█</td></tr><tr><td>test_f1</td><td>▂▂▂▁▃▂▇█</td></tr><tr><td>test_loss</td><td>█▇▇▇▆▆▄▁</td></tr><tr><td>test_precision</td><td>▁▁▁▁▄▅▆█</td></tr><tr><td>test_recall</td><td>▃▃▃▁▄▂▇█</td></tr><tr><td>train_acc</td><td>▁▂▁▁▂▂▅█</td></tr><tr><td>train_loss</td><td>████▇▆▄▁</td></tr></table><br/></div><div class=\"wandb-col\"><h3>Run summary:</h3><br/><table class=\"wandb\"><tr><td>epoch</td><td>8</td></tr><tr><td>k_shot</td><td>200</td></tr><tr><td>test_acc</td><td>0.21473</td></tr><tr><td>test_balanced_acc</td><td>0.23775</td></tr><tr><td>test_f1</td><td>0.16084</td></tr><tr><td>test_loss</td><td>2.03109</td></tr><tr><td>test_precision</td><td>0.29629</td></tr><tr><td>test_recall</td><td>0.21473</td></tr><tr><td>train_acc</td><td>0.27167</td></tr><tr><td>train_loss</td><td>1.91805</td></tr></table><br/></div></div>"
            ],
            "text/plain": [
              "<IPython.core.display.HTML object>"
            ]
          },
          "metadata": {},
          "output_type": "display_data"
        },
        {
          "data": {
            "text/html": [
              " View run <strong style=\"color:#cdcd00\">GRU-Glove_K-200_Training</strong> at: <a href='https://wandb.ai/wilfried-mvomoeto-university-of-li-ge/Few-Shot-Training_gru_glove_fastText_Bahdanau-GRU-Glove-/runs/il0dn6b1' target=\"_blank\">https://wandb.ai/wilfried-mvomoeto-university-of-li-ge/Few-Shot-Training_gru_glove_fastText_Bahdanau-GRU-Glove-/runs/il0dn6b1</a><br> View project at: <a href='https://wandb.ai/wilfried-mvomoeto-university-of-li-ge/Few-Shot-Training_gru_glove_fastText_Bahdanau-GRU-Glove-' target=\"_blank\">https://wandb.ai/wilfried-mvomoeto-university-of-li-ge/Few-Shot-Training_gru_glove_fastText_Bahdanau-GRU-Glove-</a><br>Synced 5 W&B file(s), 0 media file(s), 0 artifact file(s) and 0 other file(s)"
            ],
            "text/plain": [
              "<IPython.core.display.HTML object>"
            ]
          },
          "metadata": {},
          "output_type": "display_data"
        },
        {
          "data": {
            "text/html": [
              "Find logs at: <code>./wandb/run-20250421_084517-il0dn6b1/logs</code>"
            ],
            "text/plain": [
              "<IPython.core.display.HTML object>"
            ]
          },
          "metadata": {},
          "output_type": "display_data"
        },
        {
          "data": {
            "text/html": [
              "Tracking run with wandb version 0.19.9"
            ],
            "text/plain": [
              "<IPython.core.display.HTML object>"
            ]
          },
          "metadata": {},
          "output_type": "display_data"
        },
        {
          "data": {
            "text/html": [
              "Run data is saved locally in <code>/content/wandb/run-20250421_084531-bzgn6b8f</code>"
            ],
            "text/plain": [
              "<IPython.core.display.HTML object>"
            ]
          },
          "metadata": {},
          "output_type": "display_data"
        },
        {
          "data": {
            "text/html": [
              "Syncing run <strong><a href='https://wandb.ai/wilfried-mvomoeto-university-of-li-ge/Few-Shot-Training_gru_glove_fastText_Bahdanau-GRU-FastText-/runs/bzgn6b8f' target=\"_blank\">GRU-FastText_K-200_Training</a></strong> to <a href='https://wandb.ai/wilfried-mvomoeto-university-of-li-ge/Few-Shot-Training_gru_glove_fastText_Bahdanau-GRU-FastText-' target=\"_blank\">Weights & Biases</a> (<a href='https://wandb.me/developer-guide' target=\"_blank\">docs</a>)<br>"
            ],
            "text/plain": [
              "<IPython.core.display.HTML object>"
            ]
          },
          "metadata": {},
          "output_type": "display_data"
        },
        {
          "data": {
            "text/html": [
              " View project at <a href='https://wandb.ai/wilfried-mvomoeto-university-of-li-ge/Few-Shot-Training_gru_glove_fastText_Bahdanau-GRU-FastText-' target=\"_blank\">https://wandb.ai/wilfried-mvomoeto-university-of-li-ge/Few-Shot-Training_gru_glove_fastText_Bahdanau-GRU-FastText-</a>"
            ],
            "text/plain": [
              "<IPython.core.display.HTML object>"
            ]
          },
          "metadata": {},
          "output_type": "display_data"
        },
        {
          "data": {
            "text/html": [
              " View run at <a href='https://wandb.ai/wilfried-mvomoeto-university-of-li-ge/Few-Shot-Training_gru_glove_fastText_Bahdanau-GRU-FastText-/runs/bzgn6b8f' target=\"_blank\">https://wandb.ai/wilfried-mvomoeto-university-of-li-ge/Few-Shot-Training_gru_glove_fastText_Bahdanau-GRU-FastText-/runs/bzgn6b8f</a>"
            ],
            "text/plain": [
              "<IPython.core.display.HTML object>"
            ]
          },
          "metadata": {},
          "output_type": "display_data"
        },
        {
          "name": "stderr",
          "output_type": "stream",
          "text": [
            "GRU-FastText K-200 Epoch 3/1000 - Train Loss: 2.2738, Test Loss: 2.2137, Train Acc: 11.56%, Test Acc: 10.49%, Test F1: 2.02%, Test Balanced Acc: 11.13%, Test Recall: 10.49%, Test Precision: 13.28%, Time: 1.45 sec:   0%|          | 3/1000 [00:06<33:17,  2.00s/epoch]"
          ]
        },
        {
          "name": "stdout",
          "output_type": "stream",
          "text": [
            "Early stopping triggered at epoch 4\n",
            "Model GRU-FastText_K-200 saved with loss gap > 1.25 or accuracy gap > 10% at epoch 3.\n",
            "\n",
            "Training with 400-shot...\n"
          ]
        },
        {
          "name": "stderr",
          "output_type": "stream",
          "text": [
            "\n",
            "<ipython-input-9-f03193db776b>:44: UserWarning: To copy construct from a tensor, it is recommended to use sourceTensor.clone().detach() or sourceTensor.clone().detach().requires_grad_(True), rather than torch.tensor(sourceTensor).\n",
            "  self.X = torch.tensor(X_data, dtype=torch.long)\n",
            "<ipython-input-9-f03193db776b>:45: UserWarning: To copy construct from a tensor, it is recommended to use sourceTensor.clone().detach() or sourceTensor.clone().detach().requires_grad_(True), rather than torch.tensor(sourceTensor).\n",
            "  self.y = torch.tensor(y_data, dtype=torch.long)\n"
          ]
        },
        {
          "data": {
            "text/html": [],
            "text/plain": [
              "<IPython.core.display.HTML object>"
            ]
          },
          "metadata": {},
          "output_type": "display_data"
        },
        {
          "data": {
            "text/html": [
              "<br>    <style><br>        .wandb-row {<br>            display: flex;<br>            flex-direction: row;<br>            flex-wrap: wrap;<br>            justify-content: flex-start;<br>            width: 100%;<br>        }<br>        .wandb-col {<br>            display: flex;<br>            flex-direction: column;<br>            flex-basis: 100%;<br>            flex: 1;<br>            padding: 10px;<br>        }<br>    </style><br><div class=\"wandb-row\"><div class=\"wandb-col\"><h3>Run history:</h3><br/><table class=\"wandb\"><tr><td>epoch</td><td>▁▃▆█</td></tr><tr><td>k_shot</td><td>▁▁▁▁</td></tr><tr><td>test_acc</td><td>▁▁█▁</td></tr><tr><td>test_balanced_acc</td><td>▄▄█▁</td></tr><tr><td>test_f1</td><td>▁▁█▁</td></tr><tr><td>test_loss</td><td>█▄▃▁</td></tr><tr><td>test_precision</td><td>▁█▆▅</td></tr><tr><td>test_recall</td><td>▁▁█▁</td></tr><tr><td>train_acc</td><td>▅▁▅█</td></tr><tr><td>train_loss</td><td>▅▅█▁</td></tr></table><br/></div><div class=\"wandb-col\"><h3>Run summary:</h3><br/><table class=\"wandb\"><tr><td>epoch</td><td>4</td></tr><tr><td>k_shot</td><td>200</td></tr><tr><td>test_acc</td><td>0.06726</td></tr><tr><td>test_balanced_acc</td><td>0.11014</td></tr><tr><td>test_f1</td><td>0.0089</td></tr><tr><td>test_loss</td><td>2.20715</td></tr><tr><td>test_precision</td><td>0.12633</td></tr><tr><td>test_recall</td><td>0.06726</td></tr><tr><td>train_acc</td><td>0.12556</td></tr><tr><td>train_loss</td><td>2.23926</td></tr></table><br/></div></div>"
            ],
            "text/plain": [
              "<IPython.core.display.HTML object>"
            ]
          },
          "metadata": {},
          "output_type": "display_data"
        },
        {
          "data": {
            "text/html": [
              " View run <strong style=\"color:#cdcd00\">GRU-FastText_K-200_Training</strong> at: <a href='https://wandb.ai/wilfried-mvomoeto-university-of-li-ge/Few-Shot-Training_gru_glove_fastText_Bahdanau-GRU-FastText-/runs/bzgn6b8f' target=\"_blank\">https://wandb.ai/wilfried-mvomoeto-university-of-li-ge/Few-Shot-Training_gru_glove_fastText_Bahdanau-GRU-FastText-/runs/bzgn6b8f</a><br> View project at: <a href='https://wandb.ai/wilfried-mvomoeto-university-of-li-ge/Few-Shot-Training_gru_glove_fastText_Bahdanau-GRU-FastText-' target=\"_blank\">https://wandb.ai/wilfried-mvomoeto-university-of-li-ge/Few-Shot-Training_gru_glove_fastText_Bahdanau-GRU-FastText-</a><br>Synced 5 W&B file(s), 0 media file(s), 0 artifact file(s) and 0 other file(s)"
            ],
            "text/plain": [
              "<IPython.core.display.HTML object>"
            ]
          },
          "metadata": {},
          "output_type": "display_data"
        },
        {
          "data": {
            "text/html": [
              "Find logs at: <code>./wandb/run-20250421_084531-bzgn6b8f/logs</code>"
            ],
            "text/plain": [
              "<IPython.core.display.HTML object>"
            ]
          },
          "metadata": {},
          "output_type": "display_data"
        },
        {
          "data": {
            "text/html": [
              "Tracking run with wandb version 0.19.9"
            ],
            "text/plain": [
              "<IPython.core.display.HTML object>"
            ]
          },
          "metadata": {},
          "output_type": "display_data"
        },
        {
          "data": {
            "text/html": [
              "Run data is saved locally in <code>/content/wandb/run-20250421_084538-og95whlk</code>"
            ],
            "text/plain": [
              "<IPython.core.display.HTML object>"
            ]
          },
          "metadata": {},
          "output_type": "display_data"
        },
        {
          "data": {
            "text/html": [
              "Syncing run <strong><a href='https://wandb.ai/wilfried-mvomoeto-university-of-li-ge/Few-Shot-Training_gru_glove_fastText_Bahdanau-GRU-Bah-Glove-/runs/og95whlk' target=\"_blank\">GRU-Bah-Glove_K-400_Training</a></strong> to <a href='https://wandb.ai/wilfried-mvomoeto-university-of-li-ge/Few-Shot-Training_gru_glove_fastText_Bahdanau-GRU-Bah-Glove-' target=\"_blank\">Weights & Biases</a> (<a href='https://wandb.me/developer-guide' target=\"_blank\">docs</a>)<br>"
            ],
            "text/plain": [
              "<IPython.core.display.HTML object>"
            ]
          },
          "metadata": {},
          "output_type": "display_data"
        },
        {
          "data": {
            "text/html": [
              " View project at <a href='https://wandb.ai/wilfried-mvomoeto-university-of-li-ge/Few-Shot-Training_gru_glove_fastText_Bahdanau-GRU-Bah-Glove-' target=\"_blank\">https://wandb.ai/wilfried-mvomoeto-university-of-li-ge/Few-Shot-Training_gru_glove_fastText_Bahdanau-GRU-Bah-Glove-</a>"
            ],
            "text/plain": [
              "<IPython.core.display.HTML object>"
            ]
          },
          "metadata": {},
          "output_type": "display_data"
        },
        {
          "data": {
            "text/html": [
              " View run at <a href='https://wandb.ai/wilfried-mvomoeto-university-of-li-ge/Few-Shot-Training_gru_glove_fastText_Bahdanau-GRU-Bah-Glove-/runs/og95whlk' target=\"_blank\">https://wandb.ai/wilfried-mvomoeto-university-of-li-ge/Few-Shot-Training_gru_glove_fastText_Bahdanau-GRU-Bah-Glove-/runs/og95whlk</a>"
            ],
            "text/plain": [
              "<IPython.core.display.HTML object>"
            ]
          },
          "metadata": {},
          "output_type": "display_data"
        },
        {
          "name": "stderr",
          "output_type": "stream",
          "text": [
            "GRU-Bah-Glove K-400 Epoch 15/1000 - Train Loss: 0.5273, Test Loss: 0.6421, Train Acc: 79.86%, Test Acc: 79.37%, Test F1: 78.31%, Test Balanced Acc: 79.36%, Test Recall: 79.37%, Test Precision: 80.88%, Time: 3.56 sec:   2%|▏         | 15/1000 [00:56<1:01:26,  3.74s/epoch]"
          ]
        },
        {
          "name": "stdout",
          "output_type": "stream",
          "text": [
            "Early stopping triggered at epoch 16\n",
            "Model GRU-Bah-Glove_K-400 saved with loss gap > 1.25 or accuracy gap > 10% at epoch 15.\n"
          ]
        },
        {
          "name": "stderr",
          "output_type": "stream",
          "text": [
            "\n",
            "<ipython-input-9-f03193db776b>:44: UserWarning: To copy construct from a tensor, it is recommended to use sourceTensor.clone().detach() or sourceTensor.clone().detach().requires_grad_(True), rather than torch.tensor(sourceTensor).\n",
            "  self.X = torch.tensor(X_data, dtype=torch.long)\n",
            "<ipython-input-9-f03193db776b>:45: UserWarning: To copy construct from a tensor, it is recommended to use sourceTensor.clone().detach() or sourceTensor.clone().detach().requires_grad_(True), rather than torch.tensor(sourceTensor).\n",
            "  self.y = torch.tensor(y_data, dtype=torch.long)\n"
          ]
        },
        {
          "data": {
            "text/html": [],
            "text/plain": [
              "<IPython.core.display.HTML object>"
            ]
          },
          "metadata": {},
          "output_type": "display_data"
        },
        {
          "data": {
            "text/html": [
              "<br>    <style><br>        .wandb-row {<br>            display: flex;<br>            flex-direction: row;<br>            flex-wrap: wrap;<br>            justify-content: flex-start;<br>            width: 100%;<br>        }<br>        .wandb-col {<br>            display: flex;<br>            flex-direction: column;<br>            flex-basis: 100%;<br>            flex: 1;<br>            padding: 10px;<br>        }<br>    </style><br><div class=\"wandb-row\"><div class=\"wandb-col\"><h3>Run history:</h3><br/><table class=\"wandb\"><tr><td>epoch</td><td>▁▁▂▂▃▃▄▄▅▅▆▆▇▇██</td></tr><tr><td>k_shot</td><td>▁▁▁▁▁▁▁▁▁▁▁▁▁▁▁▁</td></tr><tr><td>test_acc</td><td>▁▅▇█████████████</td></tr><tr><td>test_balanced_acc</td><td>▁▅▇█████████████</td></tr><tr><td>test_f1</td><td>▁▄▇█████████████</td></tr><tr><td>test_loss</td><td>█▆▃▂▂▁▁▁▁▁▁▁▁▁▁▁</td></tr><tr><td>test_precision</td><td>▁▅▇█████████████</td></tr><tr><td>test_recall</td><td>▁▅▇█████████████</td></tr><tr><td>train_acc</td><td>▁▃▅▇▇▇██████████</td></tr><tr><td>train_loss</td><td>█▇▅▃▂▂▂▂▂▁▁▁▁▁▁▁</td></tr></table><br/></div><div class=\"wandb-col\"><h3>Run summary:</h3><br/><table class=\"wandb\"><tr><td>epoch</td><td>16</td></tr><tr><td>k_shot</td><td>400</td></tr><tr><td>test_acc</td><td>0.79372</td></tr><tr><td>test_balanced_acc</td><td>0.79418</td></tr><tr><td>test_f1</td><td>0.79008</td></tr><tr><td>test_loss</td><td>0.65574</td></tr><tr><td>test_precision</td><td>0.81216</td></tr><tr><td>test_recall</td><td>0.79372</td></tr><tr><td>train_acc</td><td>0.81139</td></tr><tr><td>train_loss</td><td>0.51252</td></tr></table><br/></div></div>"
            ],
            "text/plain": [
              "<IPython.core.display.HTML object>"
            ]
          },
          "metadata": {},
          "output_type": "display_data"
        },
        {
          "data": {
            "text/html": [
              " View run <strong style=\"color:#cdcd00\">GRU-Bah-Glove_K-400_Training</strong> at: <a href='https://wandb.ai/wilfried-mvomoeto-university-of-li-ge/Few-Shot-Training_gru_glove_fastText_Bahdanau-GRU-Bah-Glove-/runs/og95whlk' target=\"_blank\">https://wandb.ai/wilfried-mvomoeto-university-of-li-ge/Few-Shot-Training_gru_glove_fastText_Bahdanau-GRU-Bah-Glove-/runs/og95whlk</a><br> View project at: <a href='https://wandb.ai/wilfried-mvomoeto-university-of-li-ge/Few-Shot-Training_gru_glove_fastText_Bahdanau-GRU-Bah-Glove-' target=\"_blank\">https://wandb.ai/wilfried-mvomoeto-university-of-li-ge/Few-Shot-Training_gru_glove_fastText_Bahdanau-GRU-Bah-Glove-</a><br>Synced 5 W&B file(s), 0 media file(s), 0 artifact file(s) and 0 other file(s)"
            ],
            "text/plain": [
              "<IPython.core.display.HTML object>"
            ]
          },
          "metadata": {},
          "output_type": "display_data"
        },
        {
          "data": {
            "text/html": [
              "Find logs at: <code>./wandb/run-20250421_084538-og95whlk/logs</code>"
            ],
            "text/plain": [
              "<IPython.core.display.HTML object>"
            ]
          },
          "metadata": {},
          "output_type": "display_data"
        },
        {
          "data": {
            "text/html": [
              "Tracking run with wandb version 0.19.9"
            ],
            "text/plain": [
              "<IPython.core.display.HTML object>"
            ]
          },
          "metadata": {},
          "output_type": "display_data"
        },
        {
          "data": {
            "text/html": [
              "Run data is saved locally in <code>/content/wandb/run-20250421_084636-g7wrvj0k</code>"
            ],
            "text/plain": [
              "<IPython.core.display.HTML object>"
            ]
          },
          "metadata": {},
          "output_type": "display_data"
        },
        {
          "data": {
            "text/html": [
              "Syncing run <strong><a href='https://wandb.ai/wilfried-mvomoeto-university-of-li-ge/Few-Shot-Training_gru_glove_fastText_Bahdanau-GRU-Bah-FastText-/runs/g7wrvj0k' target=\"_blank\">GRU-Bah-FastText_K-400_Training</a></strong> to <a href='https://wandb.ai/wilfried-mvomoeto-university-of-li-ge/Few-Shot-Training_gru_glove_fastText_Bahdanau-GRU-Bah-FastText-' target=\"_blank\">Weights & Biases</a> (<a href='https://wandb.me/developer-guide' target=\"_blank\">docs</a>)<br>"
            ],
            "text/plain": [
              "<IPython.core.display.HTML object>"
            ]
          },
          "metadata": {},
          "output_type": "display_data"
        },
        {
          "data": {
            "text/html": [
              " View project at <a href='https://wandb.ai/wilfried-mvomoeto-university-of-li-ge/Few-Shot-Training_gru_glove_fastText_Bahdanau-GRU-Bah-FastText-' target=\"_blank\">https://wandb.ai/wilfried-mvomoeto-university-of-li-ge/Few-Shot-Training_gru_glove_fastText_Bahdanau-GRU-Bah-FastText-</a>"
            ],
            "text/plain": [
              "<IPython.core.display.HTML object>"
            ]
          },
          "metadata": {},
          "output_type": "display_data"
        },
        {
          "data": {
            "text/html": [
              " View run at <a href='https://wandb.ai/wilfried-mvomoeto-university-of-li-ge/Few-Shot-Training_gru_glove_fastText_Bahdanau-GRU-Bah-FastText-/runs/g7wrvj0k' target=\"_blank\">https://wandb.ai/wilfried-mvomoeto-university-of-li-ge/Few-Shot-Training_gru_glove_fastText_Bahdanau-GRU-Bah-FastText-/runs/g7wrvj0k</a>"
            ],
            "text/plain": [
              "<IPython.core.display.HTML object>"
            ]
          },
          "metadata": {},
          "output_type": "display_data"
        },
        {
          "name": "stderr",
          "output_type": "stream",
          "text": [
            "GRU-Bah-FastText K-400 Epoch 18/1000 - Train Loss: 0.3942, Test Loss: 0.4888, Train Acc: 88.47%, Test Acc: 85.62%, Test F1: 86.09%, Test Balanced Acc: 86.05%, Test Recall: 85.62%, Test Precision: 87.16%, Time: 3.57 sec:   2%|▏         | 18/1000 [01:06<1:00:29,  3.70s/epoch]"
          ]
        },
        {
          "name": "stdout",
          "output_type": "stream",
          "text": [
            "Early stopping triggered at epoch 19\n",
            "Model GRU-Bah-FastText_K-400 saved with loss gap > 1.25 or accuracy gap > 10% at epoch 18.\n"
          ]
        },
        {
          "name": "stderr",
          "output_type": "stream",
          "text": [
            "\n",
            "<ipython-input-9-f03193db776b>:44: UserWarning: To copy construct from a tensor, it is recommended to use sourceTensor.clone().detach() or sourceTensor.clone().detach().requires_grad_(True), rather than torch.tensor(sourceTensor).\n",
            "  self.X = torch.tensor(X_data, dtype=torch.long)\n",
            "<ipython-input-9-f03193db776b>:45: UserWarning: To copy construct from a tensor, it is recommended to use sourceTensor.clone().detach() or sourceTensor.clone().detach().requires_grad_(True), rather than torch.tensor(sourceTensor).\n",
            "  self.y = torch.tensor(y_data, dtype=torch.long)\n"
          ]
        },
        {
          "data": {
            "text/html": [],
            "text/plain": [
              "<IPython.core.display.HTML object>"
            ]
          },
          "metadata": {},
          "output_type": "display_data"
        },
        {
          "data": {
            "text/html": [
              "<br>    <style><br>        .wandb-row {<br>            display: flex;<br>            flex-direction: row;<br>            flex-wrap: wrap;<br>            justify-content: flex-start;<br>            width: 100%;<br>        }<br>        .wandb-col {<br>            display: flex;<br>            flex-direction: column;<br>            flex-basis: 100%;<br>            flex: 1;<br>            padding: 10px;<br>        }<br>    </style><br><div class=\"wandb-row\"><div class=\"wandb-col\"><h3>Run history:</h3><br/><table class=\"wandb\"><tr><td>epoch</td><td>▁▁▂▂▃▃▃▄▄▅▅▅▆▆▆▇▇██</td></tr><tr><td>k_shot</td><td>▁▁▁▁▁▁▁▁▁▁▁▁▁▁▁▁▁▁▁</td></tr><tr><td>test_acc</td><td>▁▃▄▅▅▆▆▇▇▇▇▇▇██████</td></tr><tr><td>test_balanced_acc</td><td>▁▃▄▅▅▆▆▇▇▇▇▇▇▇█████</td></tr><tr><td>test_f1</td><td>▁▂▄▅▅▆▇▇▇▇▇▇▇██████</td></tr><tr><td>test_loss</td><td>█▇▆▅▅▄▃▃▂▂▂▂▂▂▁▁▁▁▁</td></tr><tr><td>test_precision</td><td>▁▃▄▅▆▆▇▇▇▇▇████████</td></tr><tr><td>test_recall</td><td>▁▃▄▅▅▆▆▇▇▇▇▇▇██████</td></tr><tr><td>train_acc</td><td>▁▂▄▄▅▅▆▆▆▇▇▇▇▇▇████</td></tr><tr><td>train_loss</td><td>█▆▆▅▅▄▄▃▃▂▂▂▂▂▂▁▁▁▁</td></tr></table><br/></div><div class=\"wandb-col\"><h3>Run summary:</h3><br/><table class=\"wandb\"><tr><td>epoch</td><td>19</td></tr><tr><td>k_shot</td><td>400</td></tr><tr><td>test_acc</td><td>0.85305</td></tr><tr><td>test_balanced_acc</td><td>0.85788</td></tr><tr><td>test_f1</td><td>0.85823</td></tr><tr><td>test_loss</td><td>0.4957</td></tr><tr><td>test_precision</td><td>0.87097</td></tr><tr><td>test_recall</td><td>0.85305</td></tr><tr><td>train_acc</td><td>0.89361</td></tr><tr><td>train_loss</td><td>0.36925</td></tr></table><br/></div></div>"
            ],
            "text/plain": [
              "<IPython.core.display.HTML object>"
            ]
          },
          "metadata": {},
          "output_type": "display_data"
        },
        {
          "data": {
            "text/html": [
              " View run <strong style=\"color:#cdcd00\">GRU-Bah-FastText_K-400_Training</strong> at: <a href='https://wandb.ai/wilfried-mvomoeto-university-of-li-ge/Few-Shot-Training_gru_glove_fastText_Bahdanau-GRU-Bah-FastText-/runs/g7wrvj0k' target=\"_blank\">https://wandb.ai/wilfried-mvomoeto-university-of-li-ge/Few-Shot-Training_gru_glove_fastText_Bahdanau-GRU-Bah-FastText-/runs/g7wrvj0k</a><br> View project at: <a href='https://wandb.ai/wilfried-mvomoeto-university-of-li-ge/Few-Shot-Training_gru_glove_fastText_Bahdanau-GRU-Bah-FastText-' target=\"_blank\">https://wandb.ai/wilfried-mvomoeto-university-of-li-ge/Few-Shot-Training_gru_glove_fastText_Bahdanau-GRU-Bah-FastText-</a><br>Synced 5 W&B file(s), 0 media file(s), 0 artifact file(s) and 0 other file(s)"
            ],
            "text/plain": [
              "<IPython.core.display.HTML object>"
            ]
          },
          "metadata": {},
          "output_type": "display_data"
        },
        {
          "data": {
            "text/html": [
              "Find logs at: <code>./wandb/run-20250421_084636-g7wrvj0k/logs</code>"
            ],
            "text/plain": [
              "<IPython.core.display.HTML object>"
            ]
          },
          "metadata": {},
          "output_type": "display_data"
        },
        {
          "data": {
            "text/html": [
              "Tracking run with wandb version 0.19.9"
            ],
            "text/plain": [
              "<IPython.core.display.HTML object>"
            ]
          },
          "metadata": {},
          "output_type": "display_data"
        },
        {
          "data": {
            "text/html": [
              "Run data is saved locally in <code>/content/wandb/run-20250421_084745-mvmqojrp</code>"
            ],
            "text/plain": [
              "<IPython.core.display.HTML object>"
            ]
          },
          "metadata": {},
          "output_type": "display_data"
        },
        {
          "data": {
            "text/html": [
              "Syncing run <strong><a href='https://wandb.ai/wilfried-mvomoeto-university-of-li-ge/Few-Shot-Training_gru_glove_fastText_Bahdanau-CNN_LSTM-/runs/mvmqojrp' target=\"_blank\">CNN_LSTM_K-400_Training</a></strong> to <a href='https://wandb.ai/wilfried-mvomoeto-university-of-li-ge/Few-Shot-Training_gru_glove_fastText_Bahdanau-CNN_LSTM-' target=\"_blank\">Weights & Biases</a> (<a href='https://wandb.me/developer-guide' target=\"_blank\">docs</a>)<br>"
            ],
            "text/plain": [
              "<IPython.core.display.HTML object>"
            ]
          },
          "metadata": {},
          "output_type": "display_data"
        },
        {
          "data": {
            "text/html": [
              " View project at <a href='https://wandb.ai/wilfried-mvomoeto-university-of-li-ge/Few-Shot-Training_gru_glove_fastText_Bahdanau-CNN_LSTM-' target=\"_blank\">https://wandb.ai/wilfried-mvomoeto-university-of-li-ge/Few-Shot-Training_gru_glove_fastText_Bahdanau-CNN_LSTM-</a>"
            ],
            "text/plain": [
              "<IPython.core.display.HTML object>"
            ]
          },
          "metadata": {},
          "output_type": "display_data"
        },
        {
          "data": {
            "text/html": [
              " View run at <a href='https://wandb.ai/wilfried-mvomoeto-university-of-li-ge/Few-Shot-Training_gru_glove_fastText_Bahdanau-CNN_LSTM-/runs/mvmqojrp' target=\"_blank\">https://wandb.ai/wilfried-mvomoeto-university-of-li-ge/Few-Shot-Training_gru_glove_fastText_Bahdanau-CNN_LSTM-/runs/mvmqojrp</a>"
            ],
            "text/plain": [
              "<IPython.core.display.HTML object>"
            ]
          },
          "metadata": {},
          "output_type": "display_data"
        },
        {
          "name": "stderr",
          "output_type": "stream",
          "text": [
            "CNN_LSTM K-400 Epoch 25/1000 - Train Loss: 2.1673, Test Loss: 2.2268, Train Acc: 11.78%, Test Acc: 6.78%, Test F1: 1.03%, Test Balanced Acc: 11.05%, Test Recall: 6.78%, Test Precision: 7.90%, Time: 2.28 sec:   2%|▎         | 25/1000 [01:01<39:50,  2.45s/epoch]"
          ]
        },
        {
          "name": "stdout",
          "output_type": "stream",
          "text": [
            "Early stopping triggered at epoch 26\n",
            "Model CNN_LSTM_K-400 saved with loss gap > 1.25 or accuracy gap > 10% at epoch 25.\n"
          ]
        },
        {
          "name": "stderr",
          "output_type": "stream",
          "text": [
            "\n",
            "<ipython-input-9-f03193db776b>:44: UserWarning: To copy construct from a tensor, it is recommended to use sourceTensor.clone().detach() or sourceTensor.clone().detach().requires_grad_(True), rather than torch.tensor(sourceTensor).\n",
            "  self.X = torch.tensor(X_data, dtype=torch.long)\n",
            "<ipython-input-9-f03193db776b>:45: UserWarning: To copy construct from a tensor, it is recommended to use sourceTensor.clone().detach() or sourceTensor.clone().detach().requires_grad_(True), rather than torch.tensor(sourceTensor).\n",
            "  self.y = torch.tensor(y_data, dtype=torch.long)\n"
          ]
        },
        {
          "data": {
            "text/html": [],
            "text/plain": [
              "<IPython.core.display.HTML object>"
            ]
          },
          "metadata": {},
          "output_type": "display_data"
        },
        {
          "data": {
            "text/html": [
              "<br>    <style><br>        .wandb-row {<br>            display: flex;<br>            flex-direction: row;<br>            flex-wrap: wrap;<br>            justify-content: flex-start;<br>            width: 100%;<br>        }<br>        .wandb-col {<br>            display: flex;<br>            flex-direction: column;<br>            flex-basis: 100%;<br>            flex: 1;<br>            padding: 10px;<br>        }<br>    </style><br><div class=\"wandb-row\"><div class=\"wandb-col\"><h3>Run history:</h3><br/><table class=\"wandb\"><tr><td>epoch</td><td>▁▁▂▂▂▂▃▃▃▄▄▄▄▅▅▅▅▆▆▆▇▇▇▇██</td></tr><tr><td>k_shot</td><td>▁▁▁▁▁▁▁▁▁▁▁▁▁▁▁▁▁▁▁▁▁▁▁▁▁▁</td></tr><tr><td>test_acc</td><td>██▃▃▁▁▃▃▃▃▁▃▆█▆▃▃▁█▃█▃▆▃█▆</td></tr><tr><td>test_balanced_acc</td><td>█▇▃▂▁▁▃▂▂▂▁▂▃▅▄▂▂▁▅▂▄▂▄▂▄▂</td></tr><tr><td>test_f1</td><td>▁▂▂▄▂▂▂▄▄▄▂▄▅▆▅▄▄▂▇▄█▄▅▄█▇</td></tr><tr><td>test_loss</td><td>█▅▁▄▂▃▃▄▂▃▄▃▄▅▆▃▄▆▄▄▅▄▅▅▅▅</td></tr><tr><td>test_precision</td><td>▁▂▂▃▂▂▂▄▄▄▂▃▄▄▅▃▅▃▄▃▆▃▅▇█▄</td></tr><tr><td>test_recall</td><td>██▃▃▁▁▃▃▃▃▁▃▆█▆▃▃▁█▃█▃▆▃█▆</td></tr><tr><td>train_acc</td><td>▁▅▆▆▆▆▆▇▇▇▇▇▇▇▇▇▇▇▇▇▇▇▇▇██</td></tr><tr><td>train_loss</td><td>█▄▄▃▃▃▃▂▂▃▂▂▂▂▂▂▂▁▂▂▂▃▂▂▁▁</td></tr></table><br/></div><div class=\"wandb-col\"><h3>Run summary:</h3><br/><table class=\"wandb\"><tr><td>epoch</td><td>26</td></tr><tr><td>k_shot</td><td>400</td></tr><tr><td>test_acc</td><td>0.06761</td></tr><tr><td>test_balanced_acc</td><td>0.11034</td></tr><tr><td>test_f1</td><td>0.00993</td></tr><tr><td>test_loss</td><td>2.22497</td></tr><tr><td>test_precision</td><td>0.03293</td></tr><tr><td>test_recall</td><td>0.06761</td></tr><tr><td>train_acc</td><td>0.11833</td></tr><tr><td>train_loss</td><td>2.16606</td></tr></table><br/></div></div>"
            ],
            "text/plain": [
              "<IPython.core.display.HTML object>"
            ]
          },
          "metadata": {},
          "output_type": "display_data"
        },
        {
          "data": {
            "text/html": [
              " View run <strong style=\"color:#cdcd00\">CNN_LSTM_K-400_Training</strong> at: <a href='https://wandb.ai/wilfried-mvomoeto-university-of-li-ge/Few-Shot-Training_gru_glove_fastText_Bahdanau-CNN_LSTM-/runs/mvmqojrp' target=\"_blank\">https://wandb.ai/wilfried-mvomoeto-university-of-li-ge/Few-Shot-Training_gru_glove_fastText_Bahdanau-CNN_LSTM-/runs/mvmqojrp</a><br> View project at: <a href='https://wandb.ai/wilfried-mvomoeto-university-of-li-ge/Few-Shot-Training_gru_glove_fastText_Bahdanau-CNN_LSTM-' target=\"_blank\">https://wandb.ai/wilfried-mvomoeto-university-of-li-ge/Few-Shot-Training_gru_glove_fastText_Bahdanau-CNN_LSTM-</a><br>Synced 5 W&B file(s), 0 media file(s), 0 artifact file(s) and 0 other file(s)"
            ],
            "text/plain": [
              "<IPython.core.display.HTML object>"
            ]
          },
          "metadata": {},
          "output_type": "display_data"
        },
        {
          "data": {
            "text/html": [
              "Find logs at: <code>./wandb/run-20250421_084745-mvmqojrp/logs</code>"
            ],
            "text/plain": [
              "<IPython.core.display.HTML object>"
            ]
          },
          "metadata": {},
          "output_type": "display_data"
        },
        {
          "data": {
            "text/html": [
              "Tracking run with wandb version 0.19.9"
            ],
            "text/plain": [
              "<IPython.core.display.HTML object>"
            ]
          },
          "metadata": {},
          "output_type": "display_data"
        },
        {
          "data": {
            "text/html": [
              "Run data is saved locally in <code>/content/wandb/run-20250421_084848-47x2h664</code>"
            ],
            "text/plain": [
              "<IPython.core.display.HTML object>"
            ]
          },
          "metadata": {},
          "output_type": "display_data"
        },
        {
          "data": {
            "text/html": [
              "Syncing run <strong><a href='https://wandb.ai/wilfried-mvomoeto-university-of-li-ge/Few-Shot-Training_gru_glove_fastText_Bahdanau-GRU-Glove-/runs/47x2h664' target=\"_blank\">GRU-Glove_K-400_Training</a></strong> to <a href='https://wandb.ai/wilfried-mvomoeto-university-of-li-ge/Few-Shot-Training_gru_glove_fastText_Bahdanau-GRU-Glove-' target=\"_blank\">Weights & Biases</a> (<a href='https://wandb.me/developer-guide' target=\"_blank\">docs</a>)<br>"
            ],
            "text/plain": [
              "<IPython.core.display.HTML object>"
            ]
          },
          "metadata": {},
          "output_type": "display_data"
        },
        {
          "data": {
            "text/html": [
              " View project at <a href='https://wandb.ai/wilfried-mvomoeto-university-of-li-ge/Few-Shot-Training_gru_glove_fastText_Bahdanau-GRU-Glove-' target=\"_blank\">https://wandb.ai/wilfried-mvomoeto-university-of-li-ge/Few-Shot-Training_gru_glove_fastText_Bahdanau-GRU-Glove-</a>"
            ],
            "text/plain": [
              "<IPython.core.display.HTML object>"
            ]
          },
          "metadata": {},
          "output_type": "display_data"
        },
        {
          "data": {
            "text/html": [
              " View run at <a href='https://wandb.ai/wilfried-mvomoeto-university-of-li-ge/Few-Shot-Training_gru_glove_fastText_Bahdanau-GRU-Glove-/runs/47x2h664' target=\"_blank\">https://wandb.ai/wilfried-mvomoeto-university-of-li-ge/Few-Shot-Training_gru_glove_fastText_Bahdanau-GRU-Glove-/runs/47x2h664</a>"
            ],
            "text/plain": [
              "<IPython.core.display.HTML object>"
            ]
          },
          "metadata": {},
          "output_type": "display_data"
        },
        {
          "name": "stderr",
          "output_type": "stream",
          "text": [
            "GRU-Glove K-400 Epoch 1/1000 - Train Loss: 2.2706, Test Loss: 2.2250, Train Acc: 10.44%, Test Acc: 10.35%, Test F1: 3.14%, Test Balanced Acc: 12.58%, Test Recall: 10.35%, Test Precision: 24.55%, Time: 2.40 sec:   0%|          | 1/1000 [00:04<1:20:07,  4.81s/epoch]"
          ]
        },
        {
          "name": "stdout",
          "output_type": "stream",
          "text": [
            "Early stopping triggered at epoch 2\n",
            "Model GRU-Glove_K-400 saved with loss gap > 1.25 or accuracy gap > 10% at epoch 1.\n"
          ]
        },
        {
          "name": "stderr",
          "output_type": "stream",
          "text": [
            "\n",
            "<ipython-input-9-f03193db776b>:44: UserWarning: To copy construct from a tensor, it is recommended to use sourceTensor.clone().detach() or sourceTensor.clone().detach().requires_grad_(True), rather than torch.tensor(sourceTensor).\n",
            "  self.X = torch.tensor(X_data, dtype=torch.long)\n",
            "<ipython-input-9-f03193db776b>:45: UserWarning: To copy construct from a tensor, it is recommended to use sourceTensor.clone().detach() or sourceTensor.clone().detach().requires_grad_(True), rather than torch.tensor(sourceTensor).\n",
            "  self.y = torch.tensor(y_data, dtype=torch.long)\n"
          ]
        },
        {
          "data": {
            "text/html": [],
            "text/plain": [
              "<IPython.core.display.HTML object>"
            ]
          },
          "metadata": {},
          "output_type": "display_data"
        },
        {
          "data": {
            "text/html": [
              "<br>    <style><br>        .wandb-row {<br>            display: flex;<br>            flex-direction: row;<br>            flex-wrap: wrap;<br>            justify-content: flex-start;<br>            width: 100%;<br>        }<br>        .wandb-col {<br>            display: flex;<br>            flex-direction: column;<br>            flex-basis: 100%;<br>            flex: 1;<br>            padding: 10px;<br>        }<br>    </style><br><div class=\"wandb-row\"><div class=\"wandb-col\"><h3>Run history:</h3><br/><table class=\"wandb\"><tr><td>epoch</td><td>▁█</td></tr><tr><td>k_shot</td><td>▁▁</td></tr><tr><td>test_acc</td><td>█▁</td></tr><tr><td>test_balanced_acc</td><td>█▁</td></tr><tr><td>test_f1</td><td>█▁</td></tr><tr><td>test_loss</td><td>█▁</td></tr><tr><td>test_precision</td><td>▁█</td></tr><tr><td>test_recall</td><td>█▁</td></tr><tr><td>train_acc</td><td>▁█</td></tr><tr><td>train_loss</td><td>█▁</td></tr></table><br/></div><div class=\"wandb-col\"><h3>Run summary:</h3><br/><table class=\"wandb\"><tr><td>epoch</td><td>2</td></tr><tr><td>k_shot</td><td>400</td></tr><tr><td>test_acc</td><td>0.0683</td></tr><tr><td>test_balanced_acc</td><td>0.11123</td></tr><tr><td>test_f1</td><td>0.01063</td></tr><tr><td>test_loss</td><td>2.19323</td></tr><tr><td>test_precision</td><td>0.26326</td></tr><tr><td>test_recall</td><td>0.0683</td></tr><tr><td>train_acc</td><td>0.12083</td></tr><tr><td>train_loss</td><td>2.22516</td></tr></table><br/></div></div>"
            ],
            "text/plain": [
              "<IPython.core.display.HTML object>"
            ]
          },
          "metadata": {},
          "output_type": "display_data"
        },
        {
          "data": {
            "text/html": [
              " View run <strong style=\"color:#cdcd00\">GRU-Glove_K-400_Training</strong> at: <a href='https://wandb.ai/wilfried-mvomoeto-university-of-li-ge/Few-Shot-Training_gru_glove_fastText_Bahdanau-GRU-Glove-/runs/47x2h664' target=\"_blank\">https://wandb.ai/wilfried-mvomoeto-university-of-li-ge/Few-Shot-Training_gru_glove_fastText_Bahdanau-GRU-Glove-/runs/47x2h664</a><br> View project at: <a href='https://wandb.ai/wilfried-mvomoeto-university-of-li-ge/Few-Shot-Training_gru_glove_fastText_Bahdanau-GRU-Glove-' target=\"_blank\">https://wandb.ai/wilfried-mvomoeto-university-of-li-ge/Few-Shot-Training_gru_glove_fastText_Bahdanau-GRU-Glove-</a><br>Synced 5 W&B file(s), 0 media file(s), 0 artifact file(s) and 0 other file(s)"
            ],
            "text/plain": [
              "<IPython.core.display.HTML object>"
            ]
          },
          "metadata": {},
          "output_type": "display_data"
        },
        {
          "data": {
            "text/html": [
              "Find logs at: <code>./wandb/run-20250421_084848-47x2h664/logs</code>"
            ],
            "text/plain": [
              "<IPython.core.display.HTML object>"
            ]
          },
          "metadata": {},
          "output_type": "display_data"
        },
        {
          "data": {
            "text/html": [
              "Tracking run with wandb version 0.19.9"
            ],
            "text/plain": [
              "<IPython.core.display.HTML object>"
            ]
          },
          "metadata": {},
          "output_type": "display_data"
        },
        {
          "data": {
            "text/html": [
              "Run data is saved locally in <code>/content/wandb/run-20250421_084854-ak0qda7v</code>"
            ],
            "text/plain": [
              "<IPython.core.display.HTML object>"
            ]
          },
          "metadata": {},
          "output_type": "display_data"
        },
        {
          "data": {
            "text/html": [
              "Syncing run <strong><a href='https://wandb.ai/wilfried-mvomoeto-university-of-li-ge/Few-Shot-Training_gru_glove_fastText_Bahdanau-GRU-FastText-/runs/ak0qda7v' target=\"_blank\">GRU-FastText_K-400_Training</a></strong> to <a href='https://wandb.ai/wilfried-mvomoeto-university-of-li-ge/Few-Shot-Training_gru_glove_fastText_Bahdanau-GRU-FastText-' target=\"_blank\">Weights & Biases</a> (<a href='https://wandb.me/developer-guide' target=\"_blank\">docs</a>)<br>"
            ],
            "text/plain": [
              "<IPython.core.display.HTML object>"
            ]
          },
          "metadata": {},
          "output_type": "display_data"
        },
        {
          "data": {
            "text/html": [
              " View project at <a href='https://wandb.ai/wilfried-mvomoeto-university-of-li-ge/Few-Shot-Training_gru_glove_fastText_Bahdanau-GRU-FastText-' target=\"_blank\">https://wandb.ai/wilfried-mvomoeto-university-of-li-ge/Few-Shot-Training_gru_glove_fastText_Bahdanau-GRU-FastText-</a>"
            ],
            "text/plain": [
              "<IPython.core.display.HTML object>"
            ]
          },
          "metadata": {},
          "output_type": "display_data"
        },
        {
          "data": {
            "text/html": [
              " View run at <a href='https://wandb.ai/wilfried-mvomoeto-university-of-li-ge/Few-Shot-Training_gru_glove_fastText_Bahdanau-GRU-FastText-/runs/ak0qda7v' target=\"_blank\">https://wandb.ai/wilfried-mvomoeto-university-of-li-ge/Few-Shot-Training_gru_glove_fastText_Bahdanau-GRU-FastText-/runs/ak0qda7v</a>"
            ],
            "text/plain": [
              "<IPython.core.display.HTML object>"
            ]
          },
          "metadata": {},
          "output_type": "display_data"
        },
        {
          "name": "stderr",
          "output_type": "stream",
          "text": [
            "GRU-FastText K-400 Epoch 4/1000 - Train Loss: 1.9284, Test Loss: 2.0329, Train Acc: 24.11%, Test Acc: 20.99%, Test F1: 16.50%, Test Balanced Acc: 21.19%, Test Recall: 20.99%, Test Precision: 31.70%, Time: 2.33 sec:   0%|          | 4/1000 [00:12<50:05,  3.02s/epoch]"
          ]
        },
        {
          "name": "stdout",
          "output_type": "stream",
          "text": [
            "Early stopping triggered at epoch 5\n",
            "Model GRU-FastText_K-400 saved with loss gap > 1.25 or accuracy gap > 10% at epoch 4.\n",
            "\n",
            "Training with 600-shot...\n"
          ]
        },
        {
          "name": "stderr",
          "output_type": "stream",
          "text": [
            "\n",
            "<ipython-input-9-f03193db776b>:44: UserWarning: To copy construct from a tensor, it is recommended to use sourceTensor.clone().detach() or sourceTensor.clone().detach().requires_grad_(True), rather than torch.tensor(sourceTensor).\n",
            "  self.X = torch.tensor(X_data, dtype=torch.long)\n",
            "<ipython-input-9-f03193db776b>:45: UserWarning: To copy construct from a tensor, it is recommended to use sourceTensor.clone().detach() or sourceTensor.clone().detach().requires_grad_(True), rather than torch.tensor(sourceTensor).\n",
            "  self.y = torch.tensor(y_data, dtype=torch.long)\n"
          ]
        },
        {
          "data": {
            "text/html": [],
            "text/plain": [
              "<IPython.core.display.HTML object>"
            ]
          },
          "metadata": {},
          "output_type": "display_data"
        },
        {
          "data": {
            "text/html": [
              "<br>    <style><br>        .wandb-row {<br>            display: flex;<br>            flex-direction: row;<br>            flex-wrap: wrap;<br>            justify-content: flex-start;<br>            width: 100%;<br>        }<br>        .wandb-col {<br>            display: flex;<br>            flex-direction: column;<br>            flex-basis: 100%;<br>            flex: 1;<br>            padding: 10px;<br>        }<br>    </style><br><div class=\"wandb-row\"><div class=\"wandb-col\"><h3>Run history:</h3><br/><table class=\"wandb\"><tr><td>epoch</td><td>▁▃▅▆█</td></tr><tr><td>k_shot</td><td>▁▁▁▁▁</td></tr><tr><td>test_acc</td><td>▁▂▇▇█</td></tr><tr><td>test_balanced_acc</td><td>▁▂▆▆█</td></tr><tr><td>test_f1</td><td>▁▂▇██</td></tr><tr><td>test_loss</td><td>█▇▅▁▁</td></tr><tr><td>test_precision</td><td>▅▄▁█▅</td></tr><tr><td>test_recall</td><td>▁▂▇▇█</td></tr><tr><td>train_acc</td><td>▁▂▃▅█</td></tr><tr><td>train_loss</td><td>█▇▇▄▁</td></tr></table><br/></div><div class=\"wandb-col\"><h3>Run summary:</h3><br/><table class=\"wandb\"><tr><td>epoch</td><td>5</td></tr><tr><td>k_shot</td><td>400</td></tr><tr><td>test_acc</td><td>0.22353</td></tr><tr><td>test_balanced_acc</td><td>0.2449</td></tr><tr><td>test_f1</td><td>0.15569</td></tr><tr><td>test_loss</td><td>2.04214</td></tr><tr><td>test_precision</td><td>0.24108</td></tr><tr><td>test_recall</td><td>0.22353</td></tr><tr><td>train_acc</td><td>0.34806</td></tr><tr><td>train_loss</td><td>1.58919</td></tr></table><br/></div></div>"
            ],
            "text/plain": [
              "<IPython.core.display.HTML object>"
            ]
          },
          "metadata": {},
          "output_type": "display_data"
        },
        {
          "data": {
            "text/html": [
              " View run <strong style=\"color:#cdcd00\">GRU-FastText_K-400_Training</strong> at: <a href='https://wandb.ai/wilfried-mvomoeto-university-of-li-ge/Few-Shot-Training_gru_glove_fastText_Bahdanau-GRU-FastText-/runs/ak0qda7v' target=\"_blank\">https://wandb.ai/wilfried-mvomoeto-university-of-li-ge/Few-Shot-Training_gru_glove_fastText_Bahdanau-GRU-FastText-/runs/ak0qda7v</a><br> View project at: <a href='https://wandb.ai/wilfried-mvomoeto-university-of-li-ge/Few-Shot-Training_gru_glove_fastText_Bahdanau-GRU-FastText-' target=\"_blank\">https://wandb.ai/wilfried-mvomoeto-university-of-li-ge/Few-Shot-Training_gru_glove_fastText_Bahdanau-GRU-FastText-</a><br>Synced 5 W&B file(s), 0 media file(s), 0 artifact file(s) and 0 other file(s)"
            ],
            "text/plain": [
              "<IPython.core.display.HTML object>"
            ]
          },
          "metadata": {},
          "output_type": "display_data"
        },
        {
          "data": {
            "text/html": [
              "Find logs at: <code>./wandb/run-20250421_084854-ak0qda7v/logs</code>"
            ],
            "text/plain": [
              "<IPython.core.display.HTML object>"
            ]
          },
          "metadata": {},
          "output_type": "display_data"
        },
        {
          "data": {
            "text/html": [
              "Tracking run with wandb version 0.19.9"
            ],
            "text/plain": [
              "<IPython.core.display.HTML object>"
            ]
          },
          "metadata": {},
          "output_type": "display_data"
        },
        {
          "data": {
            "text/html": [
              "Run data is saved locally in <code>/content/wandb/run-20250421_084908-4pouui10</code>"
            ],
            "text/plain": [
              "<IPython.core.display.HTML object>"
            ]
          },
          "metadata": {},
          "output_type": "display_data"
        },
        {
          "data": {
            "text/html": [
              "Syncing run <strong><a href='https://wandb.ai/wilfried-mvomoeto-university-of-li-ge/Few-Shot-Training_gru_glove_fastText_Bahdanau-GRU-Bah-Glove-/runs/4pouui10' target=\"_blank\">GRU-Bah-Glove_K-600_Training</a></strong> to <a href='https://wandb.ai/wilfried-mvomoeto-university-of-li-ge/Few-Shot-Training_gru_glove_fastText_Bahdanau-GRU-Bah-Glove-' target=\"_blank\">Weights & Biases</a> (<a href='https://wandb.me/developer-guide' target=\"_blank\">docs</a>)<br>"
            ],
            "text/plain": [
              "<IPython.core.display.HTML object>"
            ]
          },
          "metadata": {},
          "output_type": "display_data"
        },
        {
          "data": {
            "text/html": [
              " View project at <a href='https://wandb.ai/wilfried-mvomoeto-university-of-li-ge/Few-Shot-Training_gru_glove_fastText_Bahdanau-GRU-Bah-Glove-' target=\"_blank\">https://wandb.ai/wilfried-mvomoeto-university-of-li-ge/Few-Shot-Training_gru_glove_fastText_Bahdanau-GRU-Bah-Glove-</a>"
            ],
            "text/plain": [
              "<IPython.core.display.HTML object>"
            ]
          },
          "metadata": {},
          "output_type": "display_data"
        },
        {
          "data": {
            "text/html": [
              " View run at <a href='https://wandb.ai/wilfried-mvomoeto-university-of-li-ge/Few-Shot-Training_gru_glove_fastText_Bahdanau-GRU-Bah-Glove-/runs/4pouui10' target=\"_blank\">https://wandb.ai/wilfried-mvomoeto-university-of-li-ge/Few-Shot-Training_gru_glove_fastText_Bahdanau-GRU-Bah-Glove-/runs/4pouui10</a>"
            ],
            "text/plain": [
              "<IPython.core.display.HTML object>"
            ]
          },
          "metadata": {},
          "output_type": "display_data"
        },
        {
          "name": "stderr",
          "output_type": "stream",
          "text": [
            "GRU-Bah-Glove K-600 Epoch 15/1000 - Train Loss: 0.3900, Test Loss: 0.4868, Train Acc: 88.74%, Test Acc: 86.00%, Test F1: 86.34%, Test Balanced Acc: 86.40%, Test Recall: 86.00%, Test Precision: 87.11%, Time: 4.77 sec:   2%|▏         | 15/1000 [01:16<1:23:33,  5.09s/epoch]"
          ]
        },
        {
          "name": "stdout",
          "output_type": "stream",
          "text": [
            "Early stopping triggered at epoch 16\n",
            "Model GRU-Bah-Glove_K-600 saved with loss gap > 1.25 or accuracy gap > 10% at epoch 15.\n"
          ]
        },
        {
          "name": "stderr",
          "output_type": "stream",
          "text": [
            "\n",
            "<ipython-input-9-f03193db776b>:44: UserWarning: To copy construct from a tensor, it is recommended to use sourceTensor.clone().detach() or sourceTensor.clone().detach().requires_grad_(True), rather than torch.tensor(sourceTensor).\n",
            "  self.X = torch.tensor(X_data, dtype=torch.long)\n",
            "<ipython-input-9-f03193db776b>:45: UserWarning: To copy construct from a tensor, it is recommended to use sourceTensor.clone().detach() or sourceTensor.clone().detach().requires_grad_(True), rather than torch.tensor(sourceTensor).\n",
            "  self.y = torch.tensor(y_data, dtype=torch.long)\n"
          ]
        },
        {
          "data": {
            "text/html": [],
            "text/plain": [
              "<IPython.core.display.HTML object>"
            ]
          },
          "metadata": {},
          "output_type": "display_data"
        },
        {
          "data": {
            "text/html": [
              "<br>    <style><br>        .wandb-row {<br>            display: flex;<br>            flex-direction: row;<br>            flex-wrap: wrap;<br>            justify-content: flex-start;<br>            width: 100%;<br>        }<br>        .wandb-col {<br>            display: flex;<br>            flex-direction: column;<br>            flex-basis: 100%;<br>            flex: 1;<br>            padding: 10px;<br>        }<br>    </style><br><div class=\"wandb-row\"><div class=\"wandb-col\"><h3>Run history:</h3><br/><table class=\"wandb\"><tr><td>epoch</td><td>▁▁▂▂▃▃▄▄▅▅▆▆▇▇██</td></tr><tr><td>k_shot</td><td>▁▁▁▁▁▁▁▁▁▁▁▁▁▁▁▁</td></tr><tr><td>test_acc</td><td>▁▂▄▅▆▇██████████</td></tr><tr><td>test_balanced_acc</td><td>▁▃▄▅▆▇██████████</td></tr><tr><td>test_f1</td><td>▁▂▄▅▆▇██████████</td></tr><tr><td>test_loss</td><td>█▆▅▄▃▂▁▁▁▁▁▁▁▁▁▁</td></tr><tr><td>test_precision</td><td>▁▃▄▅▆▇██████████</td></tr><tr><td>test_recall</td><td>▁▂▄▅▆▇██████████</td></tr><tr><td>train_acc</td><td>▁▃▄▅▆▆▇█████████</td></tr><tr><td>train_loss</td><td>█▇▆▅▃▃▂▂▂▁▁▁▁▁▁▁</td></tr></table><br/></div><div class=\"wandb-col\"><h3>Run summary:</h3><br/><table class=\"wandb\"><tr><td>epoch</td><td>16</td></tr><tr><td>k_shot</td><td>600</td></tr><tr><td>test_acc</td><td>0.85926</td></tr><tr><td>test_balanced_acc</td><td>0.86297</td></tr><tr><td>test_f1</td><td>0.86339</td></tr><tr><td>test_loss</td><td>0.49817</td></tr><tr><td>test_precision</td><td>0.87355</td></tr><tr><td>test_recall</td><td>0.85926</td></tr><tr><td>train_acc</td><td>0.88667</td></tr><tr><td>train_loss</td><td>0.38239</td></tr></table><br/></div></div>"
            ],
            "text/plain": [
              "<IPython.core.display.HTML object>"
            ]
          },
          "metadata": {},
          "output_type": "display_data"
        },
        {
          "data": {
            "text/html": [
              " View run <strong style=\"color:#cdcd00\">GRU-Bah-Glove_K-600_Training</strong> at: <a href='https://wandb.ai/wilfried-mvomoeto-university-of-li-ge/Few-Shot-Training_gru_glove_fastText_Bahdanau-GRU-Bah-Glove-/runs/4pouui10' target=\"_blank\">https://wandb.ai/wilfried-mvomoeto-university-of-li-ge/Few-Shot-Training_gru_glove_fastText_Bahdanau-GRU-Bah-Glove-/runs/4pouui10</a><br> View project at: <a href='https://wandb.ai/wilfried-mvomoeto-university-of-li-ge/Few-Shot-Training_gru_glove_fastText_Bahdanau-GRU-Bah-Glove-' target=\"_blank\">https://wandb.ai/wilfried-mvomoeto-university-of-li-ge/Few-Shot-Training_gru_glove_fastText_Bahdanau-GRU-Bah-Glove-</a><br>Synced 5 W&B file(s), 0 media file(s), 0 artifact file(s) and 0 other file(s)"
            ],
            "text/plain": [
              "<IPython.core.display.HTML object>"
            ]
          },
          "metadata": {},
          "output_type": "display_data"
        },
        {
          "data": {
            "text/html": [
              "Find logs at: <code>./wandb/run-20250421_084908-4pouui10/logs</code>"
            ],
            "text/plain": [
              "<IPython.core.display.HTML object>"
            ]
          },
          "metadata": {},
          "output_type": "display_data"
        },
        {
          "data": {
            "text/html": [
              "Tracking run with wandb version 0.19.9"
            ],
            "text/plain": [
              "<IPython.core.display.HTML object>"
            ]
          },
          "metadata": {},
          "output_type": "display_data"
        },
        {
          "data": {
            "text/html": [
              "Run data is saved locally in <code>/content/wandb/run-20250421_085026-a7j1idz3</code>"
            ],
            "text/plain": [
              "<IPython.core.display.HTML object>"
            ]
          },
          "metadata": {},
          "output_type": "display_data"
        },
        {
          "data": {
            "text/html": [
              "Syncing run <strong><a href='https://wandb.ai/wilfried-mvomoeto-university-of-li-ge/Few-Shot-Training_gru_glove_fastText_Bahdanau-GRU-Bah-FastText-/runs/a7j1idz3' target=\"_blank\">GRU-Bah-FastText_K-600_Training</a></strong> to <a href='https://wandb.ai/wilfried-mvomoeto-university-of-li-ge/Few-Shot-Training_gru_glove_fastText_Bahdanau-GRU-Bah-FastText-' target=\"_blank\">Weights & Biases</a> (<a href='https://wandb.me/developer-guide' target=\"_blank\">docs</a>)<br>"
            ],
            "text/plain": [
              "<IPython.core.display.HTML object>"
            ]
          },
          "metadata": {},
          "output_type": "display_data"
        },
        {
          "data": {
            "text/html": [
              " View project at <a href='https://wandb.ai/wilfried-mvomoeto-university-of-li-ge/Few-Shot-Training_gru_glove_fastText_Bahdanau-GRU-Bah-FastText-' target=\"_blank\">https://wandb.ai/wilfried-mvomoeto-university-of-li-ge/Few-Shot-Training_gru_glove_fastText_Bahdanau-GRU-Bah-FastText-</a>"
            ],
            "text/plain": [
              "<IPython.core.display.HTML object>"
            ]
          },
          "metadata": {},
          "output_type": "display_data"
        },
        {
          "data": {
            "text/html": [
              " View run at <a href='https://wandb.ai/wilfried-mvomoeto-university-of-li-ge/Few-Shot-Training_gru_glove_fastText_Bahdanau-GRU-Bah-FastText-/runs/a7j1idz3' target=\"_blank\">https://wandb.ai/wilfried-mvomoeto-university-of-li-ge/Few-Shot-Training_gru_glove_fastText_Bahdanau-GRU-Bah-FastText-/runs/a7j1idz3</a>"
            ],
            "text/plain": [
              "<IPython.core.display.HTML object>"
            ]
          },
          "metadata": {},
          "output_type": "display_data"
        },
        {
          "name": "stderr",
          "output_type": "stream",
          "text": [
            "GRU-Bah-FastText K-600 Epoch 14/1000 - Train Loss: 0.3450, Test Loss: 0.4239, Train Acc: 89.41%, Test Acc: 86.55%, Test F1: 87.15%, Test Balanced Acc: 87.02%, Test Recall: 86.55%, Test Precision: 88.65%, Time: 4.75 sec:   1%|▏         | 14/1000 [01:11<1:23:59,  5.11s/epoch]"
          ]
        },
        {
          "name": "stdout",
          "output_type": "stream",
          "text": [
            "Early stopping triggered at epoch 15\n",
            "Model GRU-Bah-FastText_K-600 saved with loss gap > 1.25 or accuracy gap > 10% at epoch 14.\n"
          ]
        },
        {
          "name": "stderr",
          "output_type": "stream",
          "text": [
            "\n",
            "<ipython-input-9-f03193db776b>:44: UserWarning: To copy construct from a tensor, it is recommended to use sourceTensor.clone().detach() or sourceTensor.clone().detach().requires_grad_(True), rather than torch.tensor(sourceTensor).\n",
            "  self.X = torch.tensor(X_data, dtype=torch.long)\n",
            "<ipython-input-9-f03193db776b>:45: UserWarning: To copy construct from a tensor, it is recommended to use sourceTensor.clone().detach() or sourceTensor.clone().detach().requires_grad_(True), rather than torch.tensor(sourceTensor).\n",
            "  self.y = torch.tensor(y_data, dtype=torch.long)\n"
          ]
        },
        {
          "data": {
            "text/html": [],
            "text/plain": [
              "<IPython.core.display.HTML object>"
            ]
          },
          "metadata": {},
          "output_type": "display_data"
        },
        {
          "data": {
            "text/html": [
              "<br>    <style><br>        .wandb-row {<br>            display: flex;<br>            flex-direction: row;<br>            flex-wrap: wrap;<br>            justify-content: flex-start;<br>            width: 100%;<br>        }<br>        .wandb-col {<br>            display: flex;<br>            flex-direction: column;<br>            flex-basis: 100%;<br>            flex: 1;<br>            padding: 10px;<br>        }<br>    </style><br><div class=\"wandb-row\"><div class=\"wandb-col\"><h3>Run history:</h3><br/><table class=\"wandb\"><tr><td>epoch</td><td>▁▁▂▃▃▃▄▅▅▅▆▇▇▇█</td></tr><tr><td>k_shot</td><td>▁▁▁▁▁▁▁▁▁▁▁▁▁▁▁</td></tr><tr><td>test_acc</td><td>▁▅▇████████████</td></tr><tr><td>test_balanced_acc</td><td>▁▅▇████████████</td></tr><tr><td>test_f1</td><td>▁▅▇████████████</td></tr><tr><td>test_loss</td><td>█▄▃▂▁▁▁▁▁▁▁▁▁▁▁</td></tr><tr><td>test_precision</td><td>▁▅▇████████████</td></tr><tr><td>test_recall</td><td>▁▅▇████████████</td></tr><tr><td>train_acc</td><td>▁▄▆▇▇██████████</td></tr><tr><td>train_loss</td><td>█▅▄▂▂▂▁▁▁▁▁▁▁▁▁</td></tr></table><br/></div><div class=\"wandb-col\"><h3>Run summary:</h3><br/><table class=\"wandb\"><tr><td>epoch</td><td>15</td></tr><tr><td>k_shot</td><td>600</td></tr><tr><td>test_acc</td><td>0.86599</td></tr><tr><td>test_balanced_acc</td><td>0.87028</td></tr><tr><td>test_f1</td><td>0.87018</td></tr><tr><td>test_loss</td><td>0.42918</td></tr><tr><td>test_precision</td><td>0.87986</td></tr><tr><td>test_recall</td><td>0.86599</td></tr><tr><td>train_acc</td><td>0.89667</td></tr><tr><td>train_loss</td><td>0.33467</td></tr></table><br/></div></div>"
            ],
            "text/plain": [
              "<IPython.core.display.HTML object>"
            ]
          },
          "metadata": {},
          "output_type": "display_data"
        },
        {
          "data": {
            "text/html": [
              " View run <strong style=\"color:#cdcd00\">GRU-Bah-FastText_K-600_Training</strong> at: <a href='https://wandb.ai/wilfried-mvomoeto-university-of-li-ge/Few-Shot-Training_gru_glove_fastText_Bahdanau-GRU-Bah-FastText-/runs/a7j1idz3' target=\"_blank\">https://wandb.ai/wilfried-mvomoeto-university-of-li-ge/Few-Shot-Training_gru_glove_fastText_Bahdanau-GRU-Bah-FastText-/runs/a7j1idz3</a><br> View project at: <a href='https://wandb.ai/wilfried-mvomoeto-university-of-li-ge/Few-Shot-Training_gru_glove_fastText_Bahdanau-GRU-Bah-FastText-' target=\"_blank\">https://wandb.ai/wilfried-mvomoeto-university-of-li-ge/Few-Shot-Training_gru_glove_fastText_Bahdanau-GRU-Bah-FastText-</a><br>Synced 5 W&B file(s), 0 media file(s), 0 artifact file(s) and 0 other file(s)"
            ],
            "text/plain": [
              "<IPython.core.display.HTML object>"
            ]
          },
          "metadata": {},
          "output_type": "display_data"
        },
        {
          "data": {
            "text/html": [
              "Find logs at: <code>./wandb/run-20250421_085026-a7j1idz3/logs</code>"
            ],
            "text/plain": [
              "<IPython.core.display.HTML object>"
            ]
          },
          "metadata": {},
          "output_type": "display_data"
        },
        {
          "data": {
            "text/html": [
              "Tracking run with wandb version 0.19.9"
            ],
            "text/plain": [
              "<IPython.core.display.HTML object>"
            ]
          },
          "metadata": {},
          "output_type": "display_data"
        },
        {
          "data": {
            "text/html": [
              "Run data is saved locally in <code>/content/wandb/run-20250421_085139-9gqu8r1o</code>"
            ],
            "text/plain": [
              "<IPython.core.display.HTML object>"
            ]
          },
          "metadata": {},
          "output_type": "display_data"
        },
        {
          "data": {
            "text/html": [
              "Syncing run <strong><a href='https://wandb.ai/wilfried-mvomoeto-university-of-li-ge/Few-Shot-Training_gru_glove_fastText_Bahdanau-CNN_LSTM-/runs/9gqu8r1o' target=\"_blank\">CNN_LSTM_K-600_Training</a></strong> to <a href='https://wandb.ai/wilfried-mvomoeto-university-of-li-ge/Few-Shot-Training_gru_glove_fastText_Bahdanau-CNN_LSTM-' target=\"_blank\">Weights & Biases</a> (<a href='https://wandb.me/developer-guide' target=\"_blank\">docs</a>)<br>"
            ],
            "text/plain": [
              "<IPython.core.display.HTML object>"
            ]
          },
          "metadata": {},
          "output_type": "display_data"
        },
        {
          "data": {
            "text/html": [
              " View project at <a href='https://wandb.ai/wilfried-mvomoeto-university-of-li-ge/Few-Shot-Training_gru_glove_fastText_Bahdanau-CNN_LSTM-' target=\"_blank\">https://wandb.ai/wilfried-mvomoeto-university-of-li-ge/Few-Shot-Training_gru_glove_fastText_Bahdanau-CNN_LSTM-</a>"
            ],
            "text/plain": [
              "<IPython.core.display.HTML object>"
            ]
          },
          "metadata": {},
          "output_type": "display_data"
        },
        {
          "data": {
            "text/html": [
              " View run at <a href='https://wandb.ai/wilfried-mvomoeto-university-of-li-ge/Few-Shot-Training_gru_glove_fastText_Bahdanau-CNN_LSTM-/runs/9gqu8r1o' target=\"_blank\">https://wandb.ai/wilfried-mvomoeto-university-of-li-ge/Few-Shot-Training_gru_glove_fastText_Bahdanau-CNN_LSTM-/runs/9gqu8r1o</a>"
            ],
            "text/plain": [
              "<IPython.core.display.HTML object>"
            ]
          },
          "metadata": {},
          "output_type": "display_data"
        },
        {
          "name": "stderr",
          "output_type": "stream",
          "text": [
            "CNN_LSTM K-600 Epoch 7/1000 - Train Loss: 2.1675, Test Loss: 2.2197, Train Acc: 11.72%, Test Acc: 6.73%, Test F1: 0.89%, Test Balanced Acc: 11.01%, Test Recall: 6.73%, Test Precision: 1.60%, Time: 3.11 sec:   1%|          | 7/1000 [00:25<1:00:58,  3.68s/epoch]"
          ]
        },
        {
          "name": "stdout",
          "output_type": "stream",
          "text": [
            "Early stopping triggered at epoch 8\n",
            "Model CNN_LSTM_K-600 saved with loss gap > 1.25 or accuracy gap > 10% at epoch 7.\n"
          ]
        },
        {
          "name": "stderr",
          "output_type": "stream",
          "text": [
            "\n",
            "<ipython-input-9-f03193db776b>:44: UserWarning: To copy construct from a tensor, it is recommended to use sourceTensor.clone().detach() or sourceTensor.clone().detach().requires_grad_(True), rather than torch.tensor(sourceTensor).\n",
            "  self.X = torch.tensor(X_data, dtype=torch.long)\n",
            "<ipython-input-9-f03193db776b>:45: UserWarning: To copy construct from a tensor, it is recommended to use sourceTensor.clone().detach() or sourceTensor.clone().detach().requires_grad_(True), rather than torch.tensor(sourceTensor).\n",
            "  self.y = torch.tensor(y_data, dtype=torch.long)\n"
          ]
        },
        {
          "data": {
            "text/html": [],
            "text/plain": [
              "<IPython.core.display.HTML object>"
            ]
          },
          "metadata": {},
          "output_type": "display_data"
        },
        {
          "data": {
            "text/html": [
              "<br>    <style><br>        .wandb-row {<br>            display: flex;<br>            flex-direction: row;<br>            flex-wrap: wrap;<br>            justify-content: flex-start;<br>            width: 100%;<br>        }<br>        .wandb-col {<br>            display: flex;<br>            flex-direction: column;<br>            flex-basis: 100%;<br>            flex: 1;<br>            padding: 10px;<br>        }<br>    </style><br><div class=\"wandb-row\"><div class=\"wandb-col\"><h3>Run history:</h3><br/><table class=\"wandb\"><tr><td>epoch</td><td>▁▂▃▄▅▆▇█</td></tr><tr><td>k_shot</td><td>▁▁▁▁▁▁▁▁</td></tr><tr><td>test_acc</td><td>▅▃▃█▃▂▂▁</td></tr><tr><td>test_balanced_acc</td><td>█▄▄█▃▂▂▁</td></tr><tr><td>test_f1</td><td>▁▂▁█▃▂▂▁</td></tr><tr><td>test_loss</td><td>▁▆▄▃▄▄█▄</td></tr><tr><td>test_precision</td><td>▁▂▁█▇▃▃▁</td></tr><tr><td>test_recall</td><td>▅▃▃█▃▂▂▁</td></tr><tr><td>train_acc</td><td>▁▃▃▄▅▆▇█</td></tr><tr><td>train_loss</td><td>█▆▆▅▄▃▂▁</td></tr></table><br/></div><div class=\"wandb-col\"><h3>Run summary:</h3><br/><table class=\"wandb\"><tr><td>epoch</td><td>8</td></tr><tr><td>k_shot</td><td>600</td></tr><tr><td>test_acc</td><td>0.06709</td></tr><tr><td>test_balanced_acc</td><td>0.10998</td></tr><tr><td>test_f1</td><td>0.00856</td></tr><tr><td>test_loss</td><td>2.21288</td></tr><tr><td>test_precision</td><td>0.00457</td></tr><tr><td>test_recall</td><td>0.06709</td></tr><tr><td>train_acc</td><td>0.11907</td></tr><tr><td>train_loss</td><td>2.16418</td></tr></table><br/></div></div>"
            ],
            "text/plain": [
              "<IPython.core.display.HTML object>"
            ]
          },
          "metadata": {},
          "output_type": "display_data"
        },
        {
          "data": {
            "text/html": [
              " View run <strong style=\"color:#cdcd00\">CNN_LSTM_K-600_Training</strong> at: <a href='https://wandb.ai/wilfried-mvomoeto-university-of-li-ge/Few-Shot-Training_gru_glove_fastText_Bahdanau-CNN_LSTM-/runs/9gqu8r1o' target=\"_blank\">https://wandb.ai/wilfried-mvomoeto-university-of-li-ge/Few-Shot-Training_gru_glove_fastText_Bahdanau-CNN_LSTM-/runs/9gqu8r1o</a><br> View project at: <a href='https://wandb.ai/wilfried-mvomoeto-university-of-li-ge/Few-Shot-Training_gru_glove_fastText_Bahdanau-CNN_LSTM-' target=\"_blank\">https://wandb.ai/wilfried-mvomoeto-university-of-li-ge/Few-Shot-Training_gru_glove_fastText_Bahdanau-CNN_LSTM-</a><br>Synced 5 W&B file(s), 0 media file(s), 0 artifact file(s) and 0 other file(s)"
            ],
            "text/plain": [
              "<IPython.core.display.HTML object>"
            ]
          },
          "metadata": {},
          "output_type": "display_data"
        },
        {
          "data": {
            "text/html": [
              "Find logs at: <code>./wandb/run-20250421_085139-9gqu8r1o/logs</code>"
            ],
            "text/plain": [
              "<IPython.core.display.HTML object>"
            ]
          },
          "metadata": {},
          "output_type": "display_data"
        },
        {
          "data": {
            "text/html": [
              "Tracking run with wandb version 0.19.9"
            ],
            "text/plain": [
              "<IPython.core.display.HTML object>"
            ]
          },
          "metadata": {},
          "output_type": "display_data"
        },
        {
          "data": {
            "text/html": [
              "Run data is saved locally in <code>/content/wandb/run-20250421_085207-ywm80bn0</code>"
            ],
            "text/plain": [
              "<IPython.core.display.HTML object>"
            ]
          },
          "metadata": {},
          "output_type": "display_data"
        },
        {
          "data": {
            "text/html": [
              "Syncing run <strong><a href='https://wandb.ai/wilfried-mvomoeto-university-of-li-ge/Few-Shot-Training_gru_glove_fastText_Bahdanau-GRU-Glove-/runs/ywm80bn0' target=\"_blank\">GRU-Glove_K-600_Training</a></strong> to <a href='https://wandb.ai/wilfried-mvomoeto-university-of-li-ge/Few-Shot-Training_gru_glove_fastText_Bahdanau-GRU-Glove-' target=\"_blank\">Weights & Biases</a> (<a href='https://wandb.me/developer-guide' target=\"_blank\">docs</a>)<br>"
            ],
            "text/plain": [
              "<IPython.core.display.HTML object>"
            ]
          },
          "metadata": {},
          "output_type": "display_data"
        },
        {
          "data": {
            "text/html": [
              " View project at <a href='https://wandb.ai/wilfried-mvomoeto-university-of-li-ge/Few-Shot-Training_gru_glove_fastText_Bahdanau-GRU-Glove-' target=\"_blank\">https://wandb.ai/wilfried-mvomoeto-university-of-li-ge/Few-Shot-Training_gru_glove_fastText_Bahdanau-GRU-Glove-</a>"
            ],
            "text/plain": [
              "<IPython.core.display.HTML object>"
            ]
          },
          "metadata": {},
          "output_type": "display_data"
        },
        {
          "data": {
            "text/html": [
              " View run at <a href='https://wandb.ai/wilfried-mvomoeto-university-of-li-ge/Few-Shot-Training_gru_glove_fastText_Bahdanau-GRU-Glove-/runs/ywm80bn0' target=\"_blank\">https://wandb.ai/wilfried-mvomoeto-university-of-li-ge/Few-Shot-Training_gru_glove_fastText_Bahdanau-GRU-Glove-/runs/ywm80bn0</a>"
            ],
            "text/plain": [
              "<IPython.core.display.HTML object>"
            ]
          },
          "metadata": {},
          "output_type": "display_data"
        },
        {
          "name": "stderr",
          "output_type": "stream",
          "text": [
            "GRU-Glove K-600 Epoch 5/1000 - Train Loss: 0.3965, Test Loss: 0.4388, Train Acc: 88.87%, Test Acc: 87.24%, Test F1: 87.35%, Test Balanced Acc: 87.50%, Test Recall: 87.24%, Test Precision: 88.39%, Time: 3.41 sec:   0%|          | 5/1000 [00:20<1:06:30,  4.01s/epoch]"
          ]
        },
        {
          "name": "stdout",
          "output_type": "stream",
          "text": [
            "Early stopping triggered at epoch 6\n",
            "Model GRU-Glove_K-600 saved with loss gap > 1.25 or accuracy gap > 10% at epoch 5.\n"
          ]
        },
        {
          "name": "stderr",
          "output_type": "stream",
          "text": [
            "\n",
            "<ipython-input-9-f03193db776b>:44: UserWarning: To copy construct from a tensor, it is recommended to use sourceTensor.clone().detach() or sourceTensor.clone().detach().requires_grad_(True), rather than torch.tensor(sourceTensor).\n",
            "  self.X = torch.tensor(X_data, dtype=torch.long)\n",
            "<ipython-input-9-f03193db776b>:45: UserWarning: To copy construct from a tensor, it is recommended to use sourceTensor.clone().detach() or sourceTensor.clone().detach().requires_grad_(True), rather than torch.tensor(sourceTensor).\n",
            "  self.y = torch.tensor(y_data, dtype=torch.long)\n"
          ]
        },
        {
          "data": {
            "text/html": [],
            "text/plain": [
              "<IPython.core.display.HTML object>"
            ]
          },
          "metadata": {},
          "output_type": "display_data"
        },
        {
          "data": {
            "text/html": [
              "<br>    <style><br>        .wandb-row {<br>            display: flex;<br>            flex-direction: row;<br>            flex-wrap: wrap;<br>            justify-content: flex-start;<br>            width: 100%;<br>        }<br>        .wandb-col {<br>            display: flex;<br>            flex-direction: column;<br>            flex-basis: 100%;<br>            flex: 1;<br>            padding: 10px;<br>        }<br>    </style><br><div class=\"wandb-row\"><div class=\"wandb-col\"><h3>Run history:</h3><br/><table class=\"wandb\"><tr><td>epoch</td><td>▁▂▄▅▇█</td></tr><tr><td>k_shot</td><td>▁▁▁▁▁▁</td></tr><tr><td>test_acc</td><td>▁▃▄███</td></tr><tr><td>test_balanced_acc</td><td>▁▃▄███</td></tr><tr><td>test_f1</td><td>▁▃▄███</td></tr><tr><td>test_loss</td><td>█▇▅▂▁▁</td></tr><tr><td>test_precision</td><td>▁▅▄███</td></tr><tr><td>test_recall</td><td>▁▃▄███</td></tr><tr><td>train_acc</td><td>▁▁▃▆██</td></tr><tr><td>train_loss</td><td>██▆▄▂▁</td></tr></table><br/></div><div class=\"wandb-col\"><h3>Run summary:</h3><br/><table class=\"wandb\"><tr><td>epoch</td><td>6</td></tr><tr><td>k_shot</td><td>600</td></tr><tr><td>test_acc</td><td>0.87478</td></tr><tr><td>test_balanced_acc</td><td>0.87851</td></tr><tr><td>test_f1</td><td>0.87474</td></tr><tr><td>test_loss</td><td>0.46997</td></tr><tr><td>test_precision</td><td>0.87987</td></tr><tr><td>test_recall</td><td>0.87478</td></tr><tr><td>train_acc</td><td>0.93944</td></tr><tr><td>train_loss</td><td>0.22089</td></tr></table><br/></div></div>"
            ],
            "text/plain": [
              "<IPython.core.display.HTML object>"
            ]
          },
          "metadata": {},
          "output_type": "display_data"
        },
        {
          "data": {
            "text/html": [
              " View run <strong style=\"color:#cdcd00\">GRU-Glove_K-600_Training</strong> at: <a href='https://wandb.ai/wilfried-mvomoeto-university-of-li-ge/Few-Shot-Training_gru_glove_fastText_Bahdanau-GRU-Glove-/runs/ywm80bn0' target=\"_blank\">https://wandb.ai/wilfried-mvomoeto-university-of-li-ge/Few-Shot-Training_gru_glove_fastText_Bahdanau-GRU-Glove-/runs/ywm80bn0</a><br> View project at: <a href='https://wandb.ai/wilfried-mvomoeto-university-of-li-ge/Few-Shot-Training_gru_glove_fastText_Bahdanau-GRU-Glove-' target=\"_blank\">https://wandb.ai/wilfried-mvomoeto-university-of-li-ge/Few-Shot-Training_gru_glove_fastText_Bahdanau-GRU-Glove-</a><br>Synced 5 W&B file(s), 0 media file(s), 0 artifact file(s) and 0 other file(s)"
            ],
            "text/plain": [
              "<IPython.core.display.HTML object>"
            ]
          },
          "metadata": {},
          "output_type": "display_data"
        },
        {
          "data": {
            "text/html": [
              "Find logs at: <code>./wandb/run-20250421_085207-ywm80bn0/logs</code>"
            ],
            "text/plain": [
              "<IPython.core.display.HTML object>"
            ]
          },
          "metadata": {},
          "output_type": "display_data"
        },
        {
          "data": {
            "text/html": [
              "Tracking run with wandb version 0.19.9"
            ],
            "text/plain": [
              "<IPython.core.display.HTML object>"
            ]
          },
          "metadata": {},
          "output_type": "display_data"
        },
        {
          "data": {
            "text/html": [
              "Run data is saved locally in <code>/content/wandb/run-20250421_085229-ao2kryqn</code>"
            ],
            "text/plain": [
              "<IPython.core.display.HTML object>"
            ]
          },
          "metadata": {},
          "output_type": "display_data"
        },
        {
          "data": {
            "text/html": [
              "Syncing run <strong><a href='https://wandb.ai/wilfried-mvomoeto-university-of-li-ge/Few-Shot-Training_gru_glove_fastText_Bahdanau-GRU-FastText-/runs/ao2kryqn' target=\"_blank\">GRU-FastText_K-600_Training</a></strong> to <a href='https://wandb.ai/wilfried-mvomoeto-university-of-li-ge/Few-Shot-Training_gru_glove_fastText_Bahdanau-GRU-FastText-' target=\"_blank\">Weights & Biases</a> (<a href='https://wandb.me/developer-guide' target=\"_blank\">docs</a>)<br>"
            ],
            "text/plain": [
              "<IPython.core.display.HTML object>"
            ]
          },
          "metadata": {},
          "output_type": "display_data"
        },
        {
          "data": {
            "text/html": [
              " View project at <a href='https://wandb.ai/wilfried-mvomoeto-university-of-li-ge/Few-Shot-Training_gru_glove_fastText_Bahdanau-GRU-FastText-' target=\"_blank\">https://wandb.ai/wilfried-mvomoeto-university-of-li-ge/Few-Shot-Training_gru_glove_fastText_Bahdanau-GRU-FastText-</a>"
            ],
            "text/plain": [
              "<IPython.core.display.HTML object>"
            ]
          },
          "metadata": {},
          "output_type": "display_data"
        },
        {
          "data": {
            "text/html": [
              " View run at <a href='https://wandb.ai/wilfried-mvomoeto-university-of-li-ge/Few-Shot-Training_gru_glove_fastText_Bahdanau-GRU-FastText-/runs/ao2kryqn' target=\"_blank\">https://wandb.ai/wilfried-mvomoeto-university-of-li-ge/Few-Shot-Training_gru_glove_fastText_Bahdanau-GRU-FastText-/runs/ao2kryqn</a>"
            ],
            "text/plain": [
              "<IPython.core.display.HTML object>"
            ]
          },
          "metadata": {},
          "output_type": "display_data"
        },
        {
          "name": "stderr",
          "output_type": "stream",
          "text": [
            "GRU-FastText K-600 Epoch 6/1000 - Train Loss: 0.4463, Test Loss: 0.4726, Train Acc: 87.39%, Test Acc: 86.77%, Test F1: 87.08%, Test Balanced Acc: 87.18%, Test Recall: 86.77%, Test Precision: 87.92%, Time: 3.27 sec:   1%|          | 6/1000 [00:23<1:04:40,  3.90s/epoch]"
          ]
        },
        {
          "name": "stdout",
          "output_type": "stream",
          "text": [
            "Early stopping triggered at epoch 7\n",
            "Model GRU-FastText_K-600 saved with loss gap > 1.25 or accuracy gap > 10% at epoch 6.\n"
          ]
        },
        {
          "name": "stderr",
          "output_type": "stream",
          "text": [
            "\n"
          ]
        }
      ],
      "source": [
        "model_metrics = {}\n",
        "\n",
        "k_values = [5, 10, 20, 30, 50, 60, 70, 80, 100, 150, 200, 400, 600]\n",
        "for k in k_values:\n",
        "    print(f\"\\nTraining with {k}-shot...\")\n",
        "    for model_name, model in models_info.items():\n",
        "        if model_name not in optimizers:\n",
        "            print(f\"Skipping {model_name} — no optimizer found.\")\n",
        "            continue\n",
        "\n",
        "        optimizer = optimizers[model_name]\n",
        "\n",
        "        if model_name not in model_metrics:\n",
        "            model_metrics[model_name] = {\n",
        "                \"train_losses\": [],\n",
        "                \"test_losses\": [],\n",
        "                \"train_accuracies\": [],\n",
        "                \"test_accuracies\": [],\n",
        "                \"test_f1s\": [],\n",
        "                \"test_balanced_accs\": [],\n",
        "                \"test_recalls\": [],\n",
        "                \"test_precisions\": []\n",
        "            }\n",
        "\n",
        "        results = train_and_evaluate_model(\n",
        "            model=model,\n",
        "            k=k,\n",
        "            X_combined_tensor=X_combined_tensor,\n",
        "            y_combined_tensor=y_combined_tensor,\n",
        "            optimizer=optimizer,\n",
        "            loss_function=loss_function,\n",
        "            num_epochs=1000,\n",
        "            batch_size=batch_size ,\n",
        "            test_loader=test_loader,\n",
        "            model_name=model_name\n",
        "        )\n",
        "\n",
        "        for key in model_metrics[model_name]:\n",
        "            model_metrics[model_name][key].append(results[key])"
      ]
    },
    {
      "cell_type": "code",
      "execution_count": 21,
      "metadata": {
        "colab": {
          "base_uri": "https://localhost:8080/",
          "height": 506
        },
        "id": "rjTNKdFumABf",
        "outputId": "289cc142-34e8-4a6d-fc59-3d4a421fb64c"
      },
      "outputs": [
        {
          "data": {
            "image/png": "[encoded data removed]",
            "text/plain": [
              "<Figure size 1800x600 with 4 Axes>"
            ]
          },
          "metadata": {},
          "output_type": "display_data"
        }
      ],
      "source": [
        "plot_max_metrics(model_metrics, k_values)"
      ]
    },
    {
      "cell_type": "markdown",
      "metadata": {
        "id": "y8E3KaQQ0-y_"
      },
      "source": [
        "---\n",
        "##Few-Shot Learning Performance Analysis\n",
        "\n",
        "1. **F1 Score**\n",
        "\n",
        "Glove-GRU-Bahdanau consistently achieves the highest F1 scores across all K values.\n",
        "Glove-GRU starts with very low F1 but improves significantly at higher K (e.g., 600).\n",
        "CNN_LSTM remains relatively flat and low throughout. We can interpret Glove-GRU-Bahdanau provides the best balance between precision and recall, even with fewer samples.\n",
        "\n",
        "2. **Balanced Accuracy**\n",
        "\n",
        "Glove-GRU-Bahdanau remains high and stable.\n",
        "Glove-GRU sees a sudden spike at K=600.\n",
        "CNN_LSTM performs poorly and shows almost no change. We can interpret Bahdanau-based models are more reliable for balanced class performance.\n",
        "\n",
        "3. **Recall**\n",
        "\n",
        "Glove-GRU-Bahdanau maintains high recall across all values.\n",
        "Glove-GRU increases significantly at K=600.\n",
        "CNN_LSTM remains consistently low. We can interpret Bahdanau is effective at identifying true positives, which is critical in many classification tasks.\n",
        "\n",
        "4. **Precision**\n",
        "Glove-GRU-Bahdanau demonstrates high precision even with fewer shots.\n",
        "Glove-GRU and CNN_LSTM start low but Glove-GRU shows some improvement.\n",
        "We can interpret Bahdanau makes fewer false-positive predictions, ensuring more trustworthy outputs.\n",
        "\n",
        "###Overall Conclusion\n",
        "Glove-GRU-Bahdanau is the most performant and stable model, especially in low-data scenarios (few-shot learning).\n",
        "Glove-GRU benefits significantly from more data but lags behind until high K.\n",
        "CNN_LSTM underperforms across all metrics and K values."
      ]
    }
  ],
  "metadata": {
    "accelerator": "GPU",
    "colab": {
      "gpuType": "T4",
      "provenance": [],
      "toc_visible": true
    },
    "kernelspec": {
      "display_name": "Python 3",
      "name": "python3"
    }
  },
  "nbformat": 4,
  "nbformat_minor": 0
}
