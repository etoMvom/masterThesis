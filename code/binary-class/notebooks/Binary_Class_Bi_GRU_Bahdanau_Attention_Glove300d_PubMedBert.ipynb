{
  "cells": [
    {
      "cell_type": "markdown",
      "metadata": {
        "id": "MRflG5kTQU07"
      },
      "source": [
        "---\n",
        "# **Classification of Biomedical Texts with Deep Learning: LSTM, GRU, and Soft-Attention**\n",
        "\n",
        "---"
      ]
    },
    {
      "cell_type": "markdown",
      "metadata": {
        "id": "ahp61AK4QVvg"
      },
      "source": [
        "In this section, we leverage PubMedBERT to generate contextualized embeddings and GloVe (300-dimensional) for static word representations. We further integrate a Bahdanau attention mechanism within a bidirectional GRU-based architecture to enhance the model’s ability to focus on relevant textual features."
      ]
    },
    {
      "cell_type": "code",
      "source": [
        "!pip install biopython\n",
        "!pip install wandb -qU"
      ],
      "metadata": {
        "colab": {
          "base_uri": "https://localhost:8080/"
        },
        "id": "lh9gwjxB2ygY",
        "outputId": "ed71b377-16d0-4e82-e806-a4450857ea01"
      },
      "execution_count": 1,
      "outputs": [
        {
          "output_type": "stream",
          "name": "stdout",
          "text": [
            "Collecting biopython\n",
            "  Downloading biopython-1.85-cp311-cp311-manylinux_2_17_x86_64.manylinux2014_x86_64.whl.metadata (13 kB)\n",
            "Requirement already satisfied: numpy in /usr/local/lib/python3.11/dist-packages (from biopython) (2.0.2)\n",
            "Downloading biopython-1.85-cp311-cp311-manylinux_2_17_x86_64.manylinux2014_x86_64.whl (3.3 MB)\n",
            "\u001b[?25l   \u001b[90m━━━━━━━━━━━━━━━━━━━━━━━━━━━━━━━━━━━━━━━━\u001b[0m \u001b[32m0.0/3.3 MB\u001b[0m \u001b[31m?\u001b[0m eta \u001b[36m-:--:--\u001b[0m\r\u001b[2K   \u001b[91m━━━━━━━━━\u001b[0m\u001b[90m╺\u001b[0m\u001b[90m━━━━━━━━━━━━━━━━━━━━━━━━━━━━━━\u001b[0m \u001b[32m0.8/3.3 MB\u001b[0m \u001b[31m22.2 MB/s\u001b[0m eta \u001b[36m0:00:01\u001b[0m\r\u001b[2K   \u001b[91m━━━━━━━━━━━━━━━━━━━━━━━━━━━━━━━━━━━━━━━\u001b[0m\u001b[91m╸\u001b[0m \u001b[32m3.3/3.3 MB\u001b[0m \u001b[31m53.9 MB/s\u001b[0m eta \u001b[36m0:00:01\u001b[0m\r\u001b[2K   \u001b[90m━━━━━━━━━━━━━━━━━━━━━━━━━━━━━━━━━━━━━━━━\u001b[0m \u001b[32m3.3/3.3 MB\u001b[0m \u001b[31m33.6 MB/s\u001b[0m eta \u001b[36m0:00:00\u001b[0m\n",
            "\u001b[?25hInstalling collected packages: biopython\n",
            "Successfully installed biopython-1.85\n",
            "\u001b[2K   \u001b[90m━━━━━━━━━━━━━━━━━━━━━━━━━━━━━━━━━━━━━━━━\u001b[0m \u001b[32m21.3/21.3 MB\u001b[0m \u001b[31m38.5 MB/s\u001b[0m eta \u001b[36m0:00:00\u001b[0m\n",
            "\u001b[?25h"
          ]
        }
      ]
    },
    {
      "cell_type": "code",
      "execution_count": 2,
      "metadata": {
        "id": "LkvBUd6GQRqV"
      },
      "outputs": [],
      "source": [
        "import os\n",
        "import re\n",
        "import time\n",
        "import pickle\n",
        "import random\n",
        "from collections import Counter, defaultdict\n",
        "\n",
        "import pandas as pd\n",
        "import numpy as np\n",
        "import matplotlib.pyplot as plt\n",
        "import seaborn as sns\n",
        "from tqdm import tqdm\n",
        "\n",
        "import nltk\n",
        "from nltk.corpus import stopwords\n",
        "\n",
        "import torch\n",
        "import torch.nn as nn\n",
        "import torch.optim as optim\n",
        "from torch.utils.data import Dataset, DataLoader, TensorDataset, ConcatDataset\n",
        "from torch.nn.utils.rnn import pad_sequence\n",
        "from torch.optim.lr_scheduler import ReduceLROnPlateau, StepLR\n",
        "\n",
        "from transformers import AutoTokenizer, AutoModel\n",
        "from google.colab import files, drive\n",
        "\n",
        "from sklearn.metrics import (\n",
        "    accuracy_score,\n",
        "    f1_score,\n",
        "    precision_score,\n",
        "    recall_score,\n",
        "    balanced_accuracy_score,\n",
        "    classification_report,\n",
        "    confusion_matrix,\n",
        "    ConfusionMatrixDisplay\n",
        ")\n",
        "from sklearn.preprocessing import LabelEncoder, label_binarize\n",
        "from sklearn.utils.class_weight import compute_class_weight\n",
        "from sklearn.model_selection import train_test_split\n",
        "\n",
        "import wandb"
      ]
    },
    {
      "cell_type": "code",
      "execution_count": 3,
      "metadata": {
        "id": "kO9NQpj1QbQ8"
      },
      "outputs": [],
      "source": [
        "# To ensure reproducibility of the results\n",
        "SEED = 200\n",
        "random.seed(SEED)\n",
        "np.random.seed(SEED)\n",
        "torch.manual_seed(SEED)\n",
        "torch.cuda.manual_seed(SEED)\n",
        "torch.backends.cudnn.deterministic = True\n",
        "device = torch.device(\"cuda\" if torch.cuda.is_available() else \"cpu\")"
      ]
    },
    {
      "cell_type": "code",
      "execution_count": 4,
      "metadata": {
        "colab": {
          "base_uri": "https://localhost:8080/"
        },
        "id": "04G-BkPNQbNi",
        "outputId": "a7640f0e-f88d-4e5a-bde6-b4676317af85"
      },
      "outputs": [
        {
          "output_type": "stream",
          "name": "stdout",
          "text": [
            "Mounted at /content/drive\n"
          ]
        }
      ],
      "source": [
        "drive.mount('/content/drive')"
      ]
    },
    {
      "cell_type": "code",
      "execution_count": 5,
      "metadata": {
        "colab": {
          "base_uri": "https://localhost:8080/",
          "height": 473
        },
        "id": "K5ABlrsdQbF-",
        "outputId": "41e17264-2357-4ba7-b37a-223318e39af2"
      },
      "outputs": [
        {
          "output_type": "stream",
          "name": "stdout",
          "text": [
            "<class 'pandas.core.frame.DataFrame'>\n",
            "RangeIndex: 26883 entries, 0 to 26882\n",
            "Data columns (total 8 columns):\n",
            " #   Column            Non-Null Count  Dtype \n",
            "---  ------            --------------  ----- \n",
            " 0   PMID              26883 non-null  int64 \n",
            " 1   Title             26883 non-null  object\n",
            " 2   Abstract          26883 non-null  object\n",
            " 3   Keywords          26883 non-null  object\n",
            " 4   PublicationYear   26883 non-null  object\n",
            " 5   MeSH_Terms        26883 non-null  object\n",
            " 6   Cleaned_Abstract  26883 non-null  object\n",
            " 7   Label             26883 non-null  int64 \n",
            "dtypes: int64(2), object(6)\n",
            "memory usage: 1.6+ MB\n",
            "None\n",
            "\n"
          ]
        },
        {
          "output_type": "execute_result",
          "data": {
            "text/plain": [
              "Label\n",
              "0    17455\n",
              "1     9428\n",
              "Name: count, dtype: int64"
            ],
            "text/html": [
              "<div>\n",
              "<style scoped>\n",
              "    .dataframe tbody tr th:only-of-type {\n",
              "        vertical-align: middle;\n",
              "    }\n",
              "\n",
              "    .dataframe tbody tr th {\n",
              "        vertical-align: top;\n",
              "    }\n",
              "\n",
              "    .dataframe thead th {\n",
              "        text-align: right;\n",
              "    }\n",
              "</style>\n",
              "<table border=\"1\" class=\"dataframe\">\n",
              "  <thead>\n",
              "    <tr style=\"text-align: right;\">\n",
              "      <th></th>\n",
              "      <th>count</th>\n",
              "    </tr>\n",
              "    <tr>\n",
              "      <th>Label</th>\n",
              "      <th></th>\n",
              "    </tr>\n",
              "  </thead>\n",
              "  <tbody>\n",
              "    <tr>\n",
              "      <th>0</th>\n",
              "      <td>17455</td>\n",
              "    </tr>\n",
              "    <tr>\n",
              "      <th>1</th>\n",
              "      <td>9428</td>\n",
              "    </tr>\n",
              "  </tbody>\n",
              "</table>\n",
              "</div><br><label><b>dtype:</b> int64</label>"
            ]
          },
          "metadata": {},
          "execution_count": 5
        }
      ],
      "source": [
        "data = pd.read_csv('/content/drive/MyDrive/binary_diseases_dataset.csv')\n",
        "\n",
        "print(data.info())\n",
        "print()\n",
        "\n",
        "data[\"Label\"].value_counts()"
      ]
    },
    {
      "cell_type": "code",
      "execution_count": null,
      "metadata": {
        "colab": {
          "base_uri": "https://localhost:8080/"
        },
        "id": "xaIfPUpnQbCn",
        "outputId": "7fff4f46-7e8c-45b0-a981-833377a20eb3"
      },
      "outputs": [
        {
          "name": "stdout",
          "output_type": "stream",
          "text": [
            "PMID                  0\n",
            "Title                 0\n",
            "Abstract              0\n",
            "Keywords              0\n",
            "PublicationYear       0\n",
            "MeSH_Terms            0\n",
            "Cleaned_Abstract      0\n",
            "Disease               0\n",
            "Top_Relevant_Words    0\n",
            "Label                 0\n",
            "dtype: int64\n"
          ]
        }
      ],
      "source": [
        "print(data.isna().sum())"
      ]
    },
    {
      "cell_type": "code",
      "execution_count": null,
      "metadata": {
        "colab": {
          "base_uri": "https://localhost:8080/",
          "height": 310
        },
        "id": "KJI1YBkdQh5a",
        "outputId": "00be7ccc-fe0c-4fb7-faf4-07db6eb7f38e"
      },
      "outputs": [
        {
          "data": {
            "application/vnd.google.colaboratory.intrinsic+json": {
              "summary": "{\n  \"name\": \"data\",\n  \"rows\": 5,\n  \"fields\": [\n    {\n      \"column\": \"PMID\",\n      \"properties\": {\n        \"dtype\": \"number\",\n        \"std\": 3012159,\n        \"min\": 32325950,\n        \"max\": 39664903,\n        \"num_unique_values\": 5,\n        \"samples\": [\n          37547521,\n          32325950,\n          39584999\n        ],\n        \"semantic_type\": \"\",\n        \"description\": \"\"\n      }\n    },\n    {\n      \"column\": \"Title\",\n      \"properties\": {\n        \"dtype\": \"string\",\n        \"num_unique_values\": 5,\n        \"samples\": [\n          \"Clinicopathologic Spectrum of Lysozyme-Associated Nephropathy.\",\n          \"Pathogenesis of Uveitis in Ebola Virus Disease Survivors: Evolving Understanding from Outbreaks to Animal Models.\",\n          \"Cystic Fibrosis Screening Efficacy and Seasonal Variation in California: 15-Year Comparison of IRT Cutoffs Versus Daily Percentile for First-Tier Testing.\"\n        ],\n        \"semantic_type\": \"\",\n        \"description\": \"\"\n      }\n    },\n    {\n      \"column\": \"Abstract\",\n      \"properties\": {\n        \"dtype\": \"string\",\n        \"num_unique_values\": 5,\n        \"samples\": [\n          \"INTRODUCTION: Lysozyme-associated nephropathy (LyN), a rare cause of kidney injury in patients with chronic myelomonocytic leukemia (CMML), has not been well described to date. We report the clinicopathologic spectrum of LyN from a multi-institutional series. METHOD: We identified 37 native kidney biopsies with LyN and retrospectively obtained clinicopathologic data. RESULTS: Thirty-seven patients had a median age of 74 years and included 78% males. Their most common presentation was acute kidney injury (AKI) or AKI on chronic kidney disease (CKD) (66%) with median estimated glomerular filtration rate (eGFR) of 21.7 ml/min per 1.73 m(2), and proteinuria of 1.7 g. A minority (15%) had partial Fanconi syndrome. Serum lysozyme levels were elevated in all tested. Hematologic disorder (n = 28, 76%) was the most common etiology, including CMML (n = 15), acute myeloid leukemia (n = 5), and myelodysplastic syndrome (MDS) (n = 5). Nonhematologic causes (n = 5, 14%), included metastatic neuroendocrine carcinoma (n = 3), sarcoidosis, and leprosy. Etiology was unknown in 4 (11%). Pathology showed proximal tubulopathy with abundant hypereosinophilic intracytoplasmic inclusions, with characteristic staining pattern by lysozyme immunostain. Mortality was high (8/30). However, among the 22 alive, including 85% treated, 7 had improved kidney function, including 1 who discontinued dialysis and 6 with increase in eGFR >15 ml/min per 1.73 m(2) compared with eGFR at the time of biopsy. CONCLUSION: Increased awareness of the full clinicopathologic spectrum of LyN may lead to prompt diagnosis, earlier treatment, and potentially improved outcome of this rare entity.\",\n          \"Ebola virus disease (EVD) and emerging infectious disease threats continue to threaten life, prosperity and global health security. To properly counteract EVD, an improved understanding of the long-term impact of recent EVD outbreaks in West Africa and the Democratic Republic of Congo are needed. In the wake of recent outbreaks, numerous health sequelae were identified in EVD survivors. These findings include joint pains, headaches, myalgias, and uveitis, a vision-threatening inflammatory condition of the eye. Retrospective and more recent prospective studies of EVD survivors from West Africa have demonstrated that uveitis may occur in 13-34% of patients with an increase in prevalence from baseline to 12-month follow-up. The clinical spectrum of disease ranges from mild, anterior uveitis to severe, sight-threatening panuveitis. Untreated inflammation may ultimately lead to secondary complications of cataract and posterior synechiae, with resultant vision impairment. The identification of Ebola virus persistence in immune privileged organs, such as the eye, with subsequent tissue inflammation and edema may lead to vision loss. Non-human primate models of EVD have demonstrated tissue localization to the eye including macrophage reservoirs within the vitreous matter. Moreover, in vitro models of Ebola virus have shown permissiveness in retinal pigment epithelial cells, potentially contributing to viral persistence. Broad perspectives from epidemiologic studies of the outbreak, animal modeling, and immunologic studies of EVD survivors have demonstrated the spectrum of the eye disease, tissue specificity of Ebola virus infection, and antigen-specific immunologic response. Further studies in these areas will elucidate the mechanisms of this highly prevalent disease with the potential for improved therapeutics for Ebola virus in immune-privileged sites.\",\n          \"The California Genetic Disease Screening Program (GDSP) employs a fixed immunoreactive trypsinogen (IRT) cutoff followed by molecular testing to screen newborns for cystic fibrosis (CF). The cutoffs approximate a 1.6% yearly IRT screen-positive rate; however, seasonal variation in IRT population means has led us to develop a model to establish fixed IRT cutoffs that anticipate seasonal variation and minimize missed cases below cutoff. We utilized an ARIMA model to fit monthly IRT screen-positive percentiles and estimated regular seasonal expectations. We established a retrospective cohort followed for at least 1.5 years to capture missed false-negative CF cases. We compared missed CF cases identified by seasonal cutoffs vs. floating cutoffs. GDSP screened 7,410,003 newborns, from July 2007 to December 2022, and missed 36 CF cases below the fixed cutoff; five of the 36 were within 3 ng/mL below the cutoff. There was a regular, seasonal cycle that varied from 1.4% in summer to 1.8% in winter. We would have missed 59 CF cases using a 1.6% daily floating cutoff. California would need to use a 4% daily floating cutoff to improve our current detection rate, which would double the number of specimens sent for costly molecular analysis.\"\n        ],\n        \"semantic_type\": \"\",\n        \"description\": \"\"\n      }\n    },\n    {\n      \"column\": \"Keywords\",\n      \"properties\": {\n        \"dtype\": \"string\",\n        \"num_unique_values\": 5,\n        \"samples\": [\n          \"['chronic myelomonocytic leukemia', 'granulomas', 'kidney biopsy', 'lysozyme', 'lysozyme induced nephropathy', 'proximal tubulopathy']\",\n          \"['Ebola virus disease', 'animal models', 'emerging infectious diseases', 'outbreaks', 'uveitis']\",\n          \"['CF', 'DNA', 'IRT', 'cystic fibrosis', 'false negative', 'fixed cutoff', 'floating cutoff', 'newborn screening']\"\n        ],\n        \"semantic_type\": \"\",\n        \"description\": \"\"\n      }\n    },\n    {\n      \"column\": \"PublicationYear\",\n      \"properties\": {\n        \"dtype\": \"number\",\n        \"std\": 1,\n        \"min\": 2020,\n        \"max\": 2024,\n        \"num_unique_values\": 4,\n        \"samples\": [\n          2023,\n          2020,\n          2022\n        ],\n        \"semantic_type\": \"\",\n        \"description\": \"\"\n      }\n    },\n    {\n      \"column\": \"MeSH_Terms\",\n      \"properties\": {\n        \"dtype\": \"category\",\n        \"num_unique_values\": 2,\n        \"samples\": [\n          \"[]\",\n          \"['Humans', '*Military Personnel', 'Poland', 'Travel', 'Vaccination', '*Vaccines']\"\n        ],\n        \"semantic_type\": \"\",\n        \"description\": \"\"\n      }\n    },\n    {\n      \"column\": \"Cleaned_Abstract\",\n      \"properties\": {\n        \"dtype\": \"string\",\n        \"num_unique_values\": 5,\n        \"samples\": [\n          \"introduction lysozyme associated nephropathy lyn , rare cause kidney injury patient chronic myelomonocytic leukemia cmml , well described date report clinicopathologic spectrum lyn multi institutional series method identified 37 native kidney biopsy lyn retrospectively obtained clinicopathologic data result thirty seven patient median age 74 year included 78% male common presentation acute kidney injury aki aki chronic kidney disease ckd 66% median estimated glomerular filtration rate egfr 21 7 ml min per 1 73 2 , proteinuria 1 7 g minority 15% partial fanconi syndrome serum lysozyme level elevated tested hematologic disorder n = 28, 76% common etiology, including cmml n = 15 , acute myeloid leukemia n = 5 , myelodysplastic syndrome md n = 5 nonhematologic cause n = 5, 14% , included metastatic neuroendocrine carcinoma n = 3 , sarcoidosis, leprosy etiology unknown 4 11% pathology showed proximal tubulopathy abundant hypereosinophilic intracytoplasmic inclusions, characteristic staining pattern lysozyme immunostain mortality high 8 30 however, among 22 alive, including 85% treated, 7 improved kidney function, including 1 discontinued dialysis 6 increase egfr >15 ml min per 1 73 2 compared egfr time biopsy conclusion increased awareness full clinicopathologic spectrum lyn may lead prompt diagnosis, earlier treatment, potentially improved outcome rare entity\",\n          \"ebola virus disease evd emerging infectious disease threat continue threaten life, prosperity global health security properly counteract evd, improved understanding long term impact recent evd outbreak west africa democratic republic congo needed wake recent outbreaks, numerous health sequela identified evd survivor finding include joint pains, headaches, myalgias, uveitis, vision threatening inflammatory condition eye retrospective recent prospective study evd survivor west africa demonstrated uveitis may occur 13 34% patient increase prevalence baseline 12 month follow clinical spectrum disease range mild, anterior uveitis severe, sight threatening panuveitis untreated inflammation may ultimately lead secondary complication cataract posterior synechiae, resultant vision impairment identification ebola virus persistence immune privileged organs, eye, subsequent tissue inflammation edema may lead vision loss non human primate model evd demonstrated tissue localization eye including macrophage reservoir within vitreous matter moreover, vitro model ebola virus shown permissiveness retinal pigment epithelial cells, potentially contributing viral persistence broad perspective epidemiologic study outbreak, animal modeling, immunologic study evd survivor demonstrated spectrum eye disease, tissue specificity ebola virus infection, antigen specific immunologic response study area elucidate mechanism highly prevalent disease potential improved therapeutic ebola virus immune privileged site\"\n        ],\n        \"semantic_type\": \"\",\n        \"description\": \"\"\n      }\n    },\n    {\n      \"column\": \"Disease\",\n      \"properties\": {\n        \"dtype\": \"string\",\n        \"num_unique_values\": 5,\n        \"samples\": [\n          \"Leprosy\",\n          \"Ebola\"\n        ],\n        \"semantic_type\": \"\",\n        \"description\": \"\"\n      }\n    },\n    {\n      \"column\": \"Top_Relevant_Words\",\n      \"properties\": {\n        \"dtype\": \"string\",\n        \"num_unique_values\": 5,\n        \"samples\": [\n          \"['kidney', 'egfr', 'aki', 'min', '15', 'etiology', 'injury', 'spectrum', '73', 'biopsy', 'ml', 'per', 'rare', 'median', 'syndrome', 'including', 'ckd', 'improved', 'nephropathy', 'sarcoidosis', 'minority', 'leukemia', 'glomerular', 'proximal', 'institutional', 'cause', 'acute', 'discontinued', 'common', 'native', 'proteinuria', 'abundant', 'chronic', 'myelodysplastic', 'carcinoma', 'entity', 'included', 'hematologic', 'partial', 'prompt', 'thirty', 'earlier', 'staining', 'md', 'retrospectively', 'awareness', 'full', 'series', 'date', '74']\",\n          \"['evd', 'eye', 'uveitis', 'ebola', 'vision', 'virus', 'survivor', 'tissue', 'persistence', 'threatening', 'recent', 'demonstrated', 'spectrum', 'west', 'africa', 'disease', 'lead', 'inflammation', 'outbreak', 'may', 'improved', 'epidemiologic', 'security', 'immune', 'primate', 'sequela', 'edema', 'outbreaks', 'study', 'retinal', 'anterior', 'localization', 'posterior', 'reservoir', 'matter', 'democratic', 'untreated', 'congo', 'continue', 'republic', 'joint', 'modeling', 'model', 'ultimately', 'health', 'elucidate', 'broad', 'threat', 'contributing', 'numerous']\"\n        ],\n        \"semantic_type\": \"\",\n        \"description\": \"\"\n      }\n    },\n    {\n      \"column\": \"Label\",\n      \"properties\": {\n        \"dtype\": \"number\",\n        \"std\": 3,\n        \"min\": 0,\n        \"max\": 8,\n        \"num_unique_values\": 5,\n        \"samples\": [\n          2,\n          3\n        ],\n        \"semantic_type\": \"\",\n        \"description\": \"\"\n      }\n    }\n  ]\n}",
              "type": "dataframe"
            },
            "text/html": [
              "\n",
              "  <div id=\"df-72a6fd03-10b4-4a0f-9eb7-a402f6d7b9a8\" class=\"colab-df-container\">\n",
              "    <div>\n",
              "<style scoped>\n",
              "    .dataframe tbody tr th:only-of-type {\n",
              "        vertical-align: middle;\n",
              "    }\n",
              "\n",
              "    .dataframe tbody tr th {\n",
              "        vertical-align: top;\n",
              "    }\n",
              "\n",
              "    .dataframe thead th {\n",
              "        text-align: right;\n",
              "    }\n",
              "</style>\n",
              "<table border=\"1\" class=\"dataframe\">\n",
              "  <thead>\n",
              "    <tr style=\"text-align: right;\">\n",
              "      <th></th>\n",
              "      <th>PMID</th>\n",
              "      <th>Title</th>\n",
              "      <th>Abstract</th>\n",
              "      <th>Keywords</th>\n",
              "      <th>PublicationYear</th>\n",
              "      <th>MeSH_Terms</th>\n",
              "      <th>Cleaned_Abstract</th>\n",
              "      <th>Disease</th>\n",
              "      <th>Top_Relevant_Words</th>\n",
              "      <th>Label</th>\n",
              "    </tr>\n",
              "  </thead>\n",
              "  <tbody>\n",
              "    <tr>\n",
              "      <th>38647</th>\n",
              "      <td>36360604</td>\n",
              "      <td>Analysis of the Number and Type of Vaccination...</td>\n",
              "      <td>Vaccination is a very common topic, but it is ...</td>\n",
              "      <td>['infectious diseases', 'military (soldiers)',...</td>\n",
              "      <td>2022</td>\n",
              "      <td>['Humans', '*Military Personnel', 'Poland', 'T...</td>\n",
              "      <td>vaccination common topic, rarely raised discus...</td>\n",
              "      <td>Cholera</td>\n",
              "      <td>['vaccination', 'military', 'immunized', 'hepa...</td>\n",
              "      <td>1</td>\n",
              "    </tr>\n",
              "    <tr>\n",
              "      <th>38648</th>\n",
              "      <td>37547521</td>\n",
              "      <td>Clinicopathologic Spectrum of Lysozyme-Associa...</td>\n",
              "      <td>INTRODUCTION: Lysozyme-associated nephropathy ...</td>\n",
              "      <td>['chronic myelomonocytic leukemia', 'granuloma...</td>\n",
              "      <td>2023</td>\n",
              "      <td>[]</td>\n",
              "      <td>introduction lysozyme associated nephropathy l...</td>\n",
              "      <td>Leprosy</td>\n",
              "      <td>['kidney', 'egfr', 'aki', 'min', '15', 'etiolo...</td>\n",
              "      <td>2</td>\n",
              "    </tr>\n",
              "    <tr>\n",
              "      <th>38649</th>\n",
              "      <td>39584999</td>\n",
              "      <td>Cystic Fibrosis Screening Efficacy and Seasona...</td>\n",
              "      <td>The California Genetic Disease Screening Progr...</td>\n",
              "      <td>['CF', 'DNA', 'IRT', 'cystic fibrosis', 'false...</td>\n",
              "      <td>2024</td>\n",
              "      <td>[]</td>\n",
              "      <td>california genetic disease screening program g...</td>\n",
              "      <td>Cystic Fibrosis</td>\n",
              "      <td>['cutoff', 'irt', 'seasonal', 'missed', 'cf', ...</td>\n",
              "      <td>8</td>\n",
              "    </tr>\n",
              "    <tr>\n",
              "      <th>38650</th>\n",
              "      <td>39664903</td>\n",
              "      <td>Induction of CD4 T cell memory responses follo...</td>\n",
              "      <td>Mycobacterium bovis, the causative agent of bo...</td>\n",
              "      <td>['BCG', 'CD4', 'T helper 1', 'cattle', 'immuno...</td>\n",
              "      <td>2024</td>\n",
              "      <td>[]</td>\n",
              "      <td>mycobacterium bovis, causative agent bovine tu...</td>\n",
              "      <td>Tuberculosis</td>\n",
              "      <td>['btb', 'bcg', 'bovis', 'vaccine', 'cattle', '...</td>\n",
              "      <td>0</td>\n",
              "    </tr>\n",
              "    <tr>\n",
              "      <th>38651</th>\n",
              "      <td>32325950</td>\n",
              "      <td>Pathogenesis of Uveitis in Ebola Virus Disease...</td>\n",
              "      <td>Ebola virus disease (EVD) and emerging infecti...</td>\n",
              "      <td>['Ebola virus disease', 'animal models', 'emer...</td>\n",
              "      <td>2020</td>\n",
              "      <td>[]</td>\n",
              "      <td>ebola virus disease evd emerging infectious di...</td>\n",
              "      <td>Ebola</td>\n",
              "      <td>['evd', 'eye', 'uveitis', 'ebola', 'vision', '...</td>\n",
              "      <td>3</td>\n",
              "    </tr>\n",
              "  </tbody>\n",
              "</table>\n",
              "</div>\n",
              "    <div class=\"colab-df-buttons\">\n",
              "\n",
              "  <div class=\"colab-df-container\">\n",
              "    <button class=\"colab-df-convert\" onclick=\"convertToInteractive('df-72a6fd03-10b4-4a0f-9eb7-a402f6d7b9a8')\"\n",
              "            title=\"Convert this dataframe to an interactive table.\"\n",
              "            style=\"display:none;\">\n",
              "\n",
              "  <svg xmlns=\"http://www.w3.org/2000/svg\" height=\"24px\" viewBox=\"0 -960 960 960\">\n",
              "    <path d=\"M120-120v-720h720v720H120Zm60-500h600v-160H180v160Zm220 220h160v-160H400v160Zm0 220h160v-160H400v160ZM180-400h160v-160H180v160Zm440 0h160v-160H620v160ZM180-180h160v-160H180v160Zm440 0h160v-160H620v160Z\"/>\n",
              "  </svg>\n",
              "    </button>\n",
              "\n",
              "  <style>\n",
              "    .colab-df-container {\n",
              "      display:flex;\n",
              "      gap: 12px;\n",
              "    }\n",
              "\n",
              "    .colab-df-convert {\n",
              "      background-color: #E8F0FE;\n",
              "      border: none;\n",
              "      border-radius: 50%;\n",
              "      cursor: pointer;\n",
              "      display: none;\n",
              "      fill: #1967D2;\n",
              "      height: 32px;\n",
              "      padding: 0 0 0 0;\n",
              "      width: 32px;\n",
              "    }\n",
              "\n",
              "    .colab-df-convert:hover {\n",
              "      background-color: #E2EBFA;\n",
              "      box-shadow: 0px 1px 2px rgba(60, 64, 67, 0.3), 0px 1px 3px 1px rgba(60, 64, 67, 0.15);\n",
              "      fill: #174EA6;\n",
              "    }\n",
              "\n",
              "    .colab-df-buttons div {\n",
              "      margin-bottom: 4px;\n",
              "    }\n",
              "\n",
              "    [theme=dark] .colab-df-convert {\n",
              "      background-color: #3B4455;\n",
              "      fill: #D2E3FC;\n",
              "    }\n",
              "\n",
              "    [theme=dark] .colab-df-convert:hover {\n",
              "      background-color: #434B5C;\n",
              "      box-shadow: 0px 1px 3px 1px rgba(0, 0, 0, 0.15);\n",
              "      filter: drop-shadow(0px 1px 2px rgba(0, 0, 0, 0.3));\n",
              "      fill: #FFFFFF;\n",
              "    }\n",
              "  </style>\n",
              "\n",
              "    <script>\n",
              "      const buttonEl =\n",
              "        document.querySelector('#df-72a6fd03-10b4-4a0f-9eb7-a402f6d7b9a8 button.colab-df-convert');\n",
              "      buttonEl.style.display =\n",
              "        google.colab.kernel.accessAllowed ? 'block' : 'none';\n",
              "\n",
              "      async function convertToInteractive(key) {\n",
              "        const element = document.querySelector('#df-72a6fd03-10b4-4a0f-9eb7-a402f6d7b9a8');\n",
              "        const dataTable =\n",
              "          await google.colab.kernel.invokeFunction('convertToInteractive',\n",
              "                                                    [key], {});\n",
              "        if (!dataTable) return;\n",
              "\n",
              "        const docLinkHtml = 'Like what you see? Visit the ' +\n",
              "          '<a target=\"_blank\" href=https://colab.research.google.com/notebooks/data_table.ipynb>data table notebook</a>'\n",
              "          + ' to learn more about interactive tables.';\n",
              "        element.innerHTML = '';\n",
              "        dataTable['output_type'] = 'display_data';\n",
              "        await google.colab.output.renderOutput(dataTable, element);\n",
              "        const docLink = document.createElement('div');\n",
              "        docLink.innerHTML = docLinkHtml;\n",
              "        element.appendChild(docLink);\n",
              "      }\n",
              "    </script>\n",
              "  </div>\n",
              "\n",
              "\n",
              "<div id=\"df-d04b0ffd-9e59-495d-8537-93f896ba4958\">\n",
              "  <button class=\"colab-df-quickchart\" onclick=\"quickchart('df-d04b0ffd-9e59-495d-8537-93f896ba4958')\"\n",
              "            title=\"Suggest charts\"\n",
              "            style=\"display:none;\">\n",
              "\n",
              "<svg xmlns=\"http://www.w3.org/2000/svg\" height=\"24px\"viewBox=\"0 0 24 24\"\n",
              "     width=\"24px\">\n",
              "    <g>\n",
              "        <path d=\"M19 3H5c-1.1 0-2 .9-2 2v14c0 1.1.9 2 2 2h14c1.1 0 2-.9 2-2V5c0-1.1-.9-2-2-2zM9 17H7v-7h2v7zm4 0h-2V7h2v10zm4 0h-2v-4h2v4z\"/>\n",
              "    </g>\n",
              "</svg>\n",
              "  </button>\n",
              "\n",
              "<style>\n",
              "  .colab-df-quickchart {\n",
              "      --bg-color: #E8F0FE;\n",
              "      --fill-color: #1967D2;\n",
              "      --hover-bg-color: #E2EBFA;\n",
              "      --hover-fill-color: #174EA6;\n",
              "      --disabled-fill-color: #AAA;\n",
              "      --disabled-bg-color: #DDD;\n",
              "  }\n",
              "\n",
              "  [theme=dark] .colab-df-quickchart {\n",
              "      --bg-color: #3B4455;\n",
              "      --fill-color: #D2E3FC;\n",
              "      --hover-bg-color: #434B5C;\n",
              "      --hover-fill-color: #FFFFFF;\n",
              "      --disabled-bg-color: #3B4455;\n",
              "      --disabled-fill-color: #666;\n",
              "  }\n",
              "\n",
              "  .colab-df-quickchart {\n",
              "    background-color: var(--bg-color);\n",
              "    border: none;\n",
              "    border-radius: 50%;\n",
              "    cursor: pointer;\n",
              "    display: none;\n",
              "    fill: var(--fill-color);\n",
              "    height: 32px;\n",
              "    padding: 0;\n",
              "    width: 32px;\n",
              "  }\n",
              "\n",
              "  .colab-df-quickchart:hover {\n",
              "    background-color: var(--hover-bg-color);\n",
              "    box-shadow: 0 1px 2px rgba(60, 64, 67, 0.3), 0 1px 3px 1px rgba(60, 64, 67, 0.15);\n",
              "    fill: var(--button-hover-fill-color);\n",
              "  }\n",
              "\n",
              "  .colab-df-quickchart-complete:disabled,\n",
              "  .colab-df-quickchart-complete:disabled:hover {\n",
              "    background-color: var(--disabled-bg-color);\n",
              "    fill: var(--disabled-fill-color);\n",
              "    box-shadow: none;\n",
              "  }\n",
              "\n",
              "  .colab-df-spinner {\n",
              "    border: 2px solid var(--fill-color);\n",
              "    border-color: transparent;\n",
              "    border-bottom-color: var(--fill-color);\n",
              "    animation:\n",
              "      spin 1s steps(1) infinite;\n",
              "  }\n",
              "\n",
              "  @keyframes spin {\n",
              "    0% {\n",
              "      border-color: transparent;\n",
              "      border-bottom-color: var(--fill-color);\n",
              "      border-left-color: var(--fill-color);\n",
              "    }\n",
              "    20% {\n",
              "      border-color: transparent;\n",
              "      border-left-color: var(--fill-color);\n",
              "      border-top-color: var(--fill-color);\n",
              "    }\n",
              "    30% {\n",
              "      border-color: transparent;\n",
              "      border-left-color: var(--fill-color);\n",
              "      border-top-color: var(--fill-color);\n",
              "      border-right-color: var(--fill-color);\n",
              "    }\n",
              "    40% {\n",
              "      border-color: transparent;\n",
              "      border-right-color: var(--fill-color);\n",
              "      border-top-color: var(--fill-color);\n",
              "    }\n",
              "    60% {\n",
              "      border-color: transparent;\n",
              "      border-right-color: var(--fill-color);\n",
              "    }\n",
              "    80% {\n",
              "      border-color: transparent;\n",
              "      border-right-color: var(--fill-color);\n",
              "      border-bottom-color: var(--fill-color);\n",
              "    }\n",
              "    90% {\n",
              "      border-color: transparent;\n",
              "      border-bottom-color: var(--fill-color);\n",
              "    }\n",
              "  }\n",
              "</style>\n",
              "\n",
              "  <script>\n",
              "    async function quickchart(key) {\n",
              "      const quickchartButtonEl =\n",
              "        document.querySelector('#' + key + ' button');\n",
              "      quickchartButtonEl.disabled = true;  // To prevent multiple clicks.\n",
              "      quickchartButtonEl.classList.add('colab-df-spinner');\n",
              "      try {\n",
              "        const charts = await google.colab.kernel.invokeFunction(\n",
              "            'suggestCharts', [key], {});\n",
              "      } catch (error) {\n",
              "        console.error('Error during call to suggestCharts:', error);\n",
              "      }\n",
              "      quickchartButtonEl.classList.remove('colab-df-spinner');\n",
              "      quickchartButtonEl.classList.add('colab-df-quickchart-complete');\n",
              "    }\n",
              "    (() => {\n",
              "      let quickchartButtonEl =\n",
              "        document.querySelector('#df-d04b0ffd-9e59-495d-8537-93f896ba4958 button');\n",
              "      quickchartButtonEl.style.display =\n",
              "        google.colab.kernel.accessAllowed ? 'block' : 'none';\n",
              "    })();\n",
              "  </script>\n",
              "</div>\n",
              "\n",
              "    </div>\n",
              "  </div>\n"
            ],
            "text/plain": [
              "           PMID                                              Title  \\\n",
              "38647  36360604  Analysis of the Number and Type of Vaccination...   \n",
              "38648  37547521  Clinicopathologic Spectrum of Lysozyme-Associa...   \n",
              "38649  39584999  Cystic Fibrosis Screening Efficacy and Seasona...   \n",
              "38650  39664903  Induction of CD4 T cell memory responses follo...   \n",
              "38651  32325950  Pathogenesis of Uveitis in Ebola Virus Disease...   \n",
              "\n",
              "                                                Abstract  \\\n",
              "38647  Vaccination is a very common topic, but it is ...   \n",
              "38648  INTRODUCTION: Lysozyme-associated nephropathy ...   \n",
              "38649  The California Genetic Disease Screening Progr...   \n",
              "38650  Mycobacterium bovis, the causative agent of bo...   \n",
              "38651  Ebola virus disease (EVD) and emerging infecti...   \n",
              "\n",
              "                                                Keywords  PublicationYear  \\\n",
              "38647  ['infectious diseases', 'military (soldiers)',...             2022   \n",
              "38648  ['chronic myelomonocytic leukemia', 'granuloma...             2023   \n",
              "38649  ['CF', 'DNA', 'IRT', 'cystic fibrosis', 'false...             2024   \n",
              "38650  ['BCG', 'CD4', 'T helper 1', 'cattle', 'immuno...             2024   \n",
              "38651  ['Ebola virus disease', 'animal models', 'emer...             2020   \n",
              "\n",
              "                                              MeSH_Terms  \\\n",
              "38647  ['Humans', '*Military Personnel', 'Poland', 'T...   \n",
              "38648                                                 []   \n",
              "38649                                                 []   \n",
              "38650                                                 []   \n",
              "38651                                                 []   \n",
              "\n",
              "                                        Cleaned_Abstract          Disease  \\\n",
              "38647  vaccination common topic, rarely raised discus...          Cholera   \n",
              "38648  introduction lysozyme associated nephropathy l...          Leprosy   \n",
              "38649  california genetic disease screening program g...  Cystic Fibrosis   \n",
              "38650  mycobacterium bovis, causative agent bovine tu...     Tuberculosis   \n",
              "38651  ebola virus disease evd emerging infectious di...            Ebola   \n",
              "\n",
              "                                      Top_Relevant_Words  Label  \n",
              "38647  ['vaccination', 'military', 'immunized', 'hepa...      1  \n",
              "38648  ['kidney', 'egfr', 'aki', 'min', '15', 'etiolo...      2  \n",
              "38649  ['cutoff', 'irt', 'seasonal', 'missed', 'cf', ...      8  \n",
              "38650  ['btb', 'bcg', 'bovis', 'vaccine', 'cattle', '...      0  \n",
              "38651  ['evd', 'eye', 'uveitis', 'ebola', 'vision', '...      3  "
            ]
          },
          "execution_count": 6,
          "metadata": {},
          "output_type": "execute_result"
        }
      ],
      "source": [
        "data.tail()"
      ]
    },
    {
      "cell_type": "code",
      "execution_count": 6,
      "metadata": {
        "colab": {
          "base_uri": "https://localhost:8080/"
        },
        "id": "4t2VJjHfQh11",
        "outputId": "876da358-70a7-436f-f627-e0215b38702d"
      },
      "outputs": [
        {
          "output_type": "stream",
          "name": "stdout",
          "text": [
            "Training set: 18818 samples\n",
            "Validation set: 4032 samples\n",
            "Test set: 4033 samples\n",
            "2\n"
          ]
        }
      ],
      "source": [
        "X = data[\"Cleaned_Abstract\"].values\n",
        "y = data[\"Label\"].values\n",
        "\n",
        "# Split into training (70%), validation (15%), and test (15%) sets\n",
        "X_train, X_temp, y_train, y_temp = train_test_split(X, y, test_size=0.3, random_state=42)\n",
        "X_val, X_test, y_val, y_test = train_test_split(X_temp, y_temp, test_size=0.5, random_state=42)\n",
        "\n",
        "print(f\"Training set: {len(X_train)} samples\")\n",
        "print(f\"Validation set: {len(X_val)} samples\")\n",
        "print(f\"Test set: {len(X_test)} samples\")\n",
        "\n",
        "NUM_CLASSES = len(set(y))\n",
        "print(NUM_CLASSES)"
      ]
    },
    {
      "cell_type": "code",
      "execution_count": null,
      "metadata": {
        "colab": {
          "base_uri": "https://localhost:8080/"
        },
        "id": "JrbKpS-QQhzC",
        "outputId": "5ad78ec4-6490-4d4a-a34f-e6be0ac085ba"
      },
      "outputs": [
        {
          "name": "stdout",
          "output_type": "stream",
          "text": [
            "Training set class distribution: Counter({np.int64(6): 3352, np.int64(7): 3285, np.int64(1): 3249, np.int64(0): 3215, np.int64(4): 3213, np.int64(8): 3177, np.int64(5): 3064, np.int64(2): 2705, np.int64(3): 1796})\n",
            "Validation set class distribution: Counter({np.int64(7): 711, np.int64(0): 708, np.int64(1): 706, np.int64(5): 680, np.int64(6): 672, np.int64(8): 672, np.int64(4): 666, np.int64(2): 571, np.int64(3): 412})\n",
            "Test set class distribution: Counter({np.int64(0): 713, np.int64(5): 708, np.int64(6): 706, np.int64(1): 684, np.int64(4): 671, np.int64(7): 662, np.int64(8): 654, np.int64(2): 607, np.int64(3): 393})\n"
          ]
        }
      ],
      "source": [
        "print(\"Training set class distribution:\", Counter(y_train))\n",
        "print(\"Validation set class distribution:\", Counter(y_val))\n",
        "print(\"Test set class distribution:\", Counter(y_test))"
      ]
    },
    {
      "cell_type": "markdown",
      "metadata": {
        "id": "RXQLbPNFUMOi"
      },
      "source": [
        "---\n",
        "Bahdanau attention mechanism within a bidirectional GRU-based architecture"
      ]
    },
    {
      "cell_type": "code",
      "execution_count": 7,
      "metadata": {
        "colab": {
          "base_uri": "https://localhost:8080/",
          "height": 249,
          "referenced_widgets": [
            "4bc3edfa2019494c9366d3be08e0d8ba",
            "63fe583d19304cac847ea5b556a9c56f",
            "d85cc97855b14d2192bb0affcbf4bd67",
            "21c0d83a1f904f14a889fb3a3f06d516",
            "0b43862998044379803db9808f3878a1",
            "2993a43dc4ef42d59f6f4698a6f9afe1",
            "d421f4a941fe403e9b934a7f10eba99d",
            "449979f3b8754d62880d93f343d9fab6",
            "c0c5810fcece4b28a600214cc960d60d",
            "6e04cd85d1e24a898dcb4b04cdafb6db",
            "75c33a107e4f43ecbbcbb9e0c0433e71",
            "cdb3588ffd954dd0ae370d1a52a8b286",
            "c8e893ebcd604a86b085b67893abb5bb",
            "e4b8efacd03e4ec0b9bcd0b6dc5dea20",
            "d362d0b8d8824850a24685ecf75555b6",
            "e08b9d2cd7874e1a931d7c575a267041",
            "01a32a40a0d24589af8a1d0a02d3e991",
            "83401f64b1e040eabca87a01c6b288f9",
            "47295111c36442e0bc018521c887bfd4",
            "d762ca92c1064caa974031a5182bdb08",
            "596aa0aee0524ca99e3b4c1bc8cb87cf",
            "918ef78764a5430683de6d8e6322997d",
            "d32ab610b82b496a905c0b58b9ffb673",
            "1199b43a76b242308abebeb57fa9b2af",
            "0857451aef6b4f66b021994c52625e69",
            "3cbc6f48e36d4622adfc0dd0ecbe491f",
            "318f0e0e33024e729cc56d939b84ad8f",
            "f423e304b2964326af242b0cc8fed4fd",
            "e1c983da546f43e0879b337cd7c8915b",
            "4c367b701d264250b523c19d0bce8c6b",
            "c679814d3f72461fac50fb1fb428a28c",
            "9dffacdc9ee74fa49f218cfb4434642b",
            "adee0723a49345948ce3d31a6dd8e6ec",
            "956d0bfa279a4218892fe594ba17f742",
            "b25435d51f474c2281880ca7530cf126",
            "b7b72667dd504204b4a610435a493cb0",
            "e61684c489d4487cba09e6182d01eea9",
            "f3459e3fbda54f4f990c8d0b17e11c87",
            "cd53078fe2cc4110a83b38b97c589ce0",
            "420715405d824e92941fab17ec018ad4",
            "b1b2fee0f00f468f98c88abcf9a59bc0",
            "d24330430eb9423a9c3bf1ea260953eb",
            "a57ffd4a9c8743e09c53c3d3b60ed4bd",
            "405c09faa46c49e8b746d556ec2b21b4"
          ]
        },
        "id": "Zt7PKEzdW_RF",
        "outputId": "b8c06d48-a7cf-4596-a0f2-80dae31a6a09"
      },
      "outputs": [
        {
          "output_type": "stream",
          "name": "stderr",
          "text": [
            "/usr/local/lib/python3.11/dist-packages/huggingface_hub/utils/_auth.py:94: UserWarning: \n",
            "The secret `HF_TOKEN` does not exist in your Colab secrets.\n",
            "To authenticate with the Hugging Face Hub, create a token in your settings tab (https://huggingface.co/settings/tokens), set it as secret in your Google Colab and restart your session.\n",
            "You will be able to reuse this secret in all of your notebooks.\n",
            "Please note that authentication is recommended but still optional to access public models or datasets.\n",
            "  warnings.warn(\n"
          ]
        },
        {
          "output_type": "display_data",
          "data": {
            "text/plain": [
              "tokenizer_config.json:   0%|          | 0.00/28.0 [00:00<?, ?B/s]"
            ],
            "application/vnd.jupyter.widget-view+json": {
              "version_major": 2,
              "version_minor": 0,
              "model_id": "4bc3edfa2019494c9366d3be08e0d8ba"
            }
          },
          "metadata": {}
        },
        {
          "output_type": "display_data",
          "data": {
            "text/plain": [
              "config.json:   0%|          | 0.00/385 [00:00<?, ?B/s]"
            ],
            "application/vnd.jupyter.widget-view+json": {
              "version_major": 2,
              "version_minor": 0,
              "model_id": "cdb3588ffd954dd0ae370d1a52a8b286"
            }
          },
          "metadata": {}
        },
        {
          "output_type": "display_data",
          "data": {
            "text/plain": [
              "vocab.txt:   0%|          | 0.00/226k [00:00<?, ?B/s]"
            ],
            "application/vnd.jupyter.widget-view+json": {
              "version_major": 2,
              "version_minor": 0,
              "model_id": "d32ab610b82b496a905c0b58b9ffb673"
            }
          },
          "metadata": {}
        },
        {
          "output_type": "display_data",
          "data": {
            "text/plain": [
              "pytorch_model.bin:   0%|          | 0.00/440M [00:00<?, ?B/s]"
            ],
            "application/vnd.jupyter.widget-view+json": {
              "version_major": 2,
              "version_minor": 0,
              "model_id": "956d0bfa279a4218892fe594ba17f742"
            }
          },
          "metadata": {}
        }
      ],
      "source": [
        "# --- PubMedBERT Setup ---\n",
        "pubmedbert_model_name = \"microsoft/BiomedNLP-PubMedBERT-base-uncased-abstract-fulltext\"\n",
        "tokenizer = AutoTokenizer.from_pretrained(pubmedbert_model_name)\n",
        "pubmedbert = AutoModel.from_pretrained(pubmedbert_model_name).to(device)\n",
        "\n",
        "for param in pubmedbert.parameters():\n",
        "    param.requires_grad = True\n",
        "\n",
        "BATCH_SIZE = 32"
      ]
    },
    {
      "cell_type": "code",
      "execution_count": 8,
      "metadata": {
        "id": "hAicfT5eQ37Y"
      },
      "outputs": [],
      "source": [
        "class BahdanauAttention(nn.Module):\n",
        "    \"\"\"\n",
        "    Bahdanau Attention Mechanism.\n",
        "\n",
        "    This class implements the Bahdanau attention mechanism as described in the paper:\n",
        "    \"Neural Machine Translation by Jointly Learning to Align and Translate\" by Bahdanau et al.\n",
        "\n",
        "    Args:\n",
        "        hidden_dim (int): The hidden dimension of the GRU or LSTM output.\n",
        "\n",
        "    Attributes:\n",
        "        W (nn.Linear): A linear layer for the transformation of the RNN outputs.\n",
        "        v (nn.Linear): A linear layer for computing attention scores.\n",
        "    \"\"\"\n",
        "    def __init__(self, hidden_dim):\n",
        "        super(BahdanauAttention, self).__init__()\n",
        "        self.W = nn.Linear(hidden_dim * 2, hidden_dim)\n",
        "        self.v = nn.Linear(hidden_dim, 1, bias=False)\n",
        "\n",
        "    def forward(self, rnn_outputs):\n",
        "        \"\"\"\n",
        "        Apply the attention mechanism on the RNN outputs.\n",
        "\n",
        "        Args:\n",
        "            rnn_outputs (Tensor): The outputs of the RNN (GRU or LSTM).\n",
        "\n",
        "        Returns:\n",
        "            Tensor: The context vector computed by the attention mechanism.\n",
        "        \"\"\"\n",
        "        score = torch.tanh(self.W(rnn_outputs))\n",
        "        attn_weights = torch.softmax(self.v(score), dim=1)\n",
        "        context = torch.sum(attn_weights * rnn_outputs, dim=1)\n",
        "        return context\n",
        "\n",
        "class PubMedBERT_GRU_Attention(nn.Module):\n",
        "    \"\"\"\n",
        "    Model combining PubMedBERT embeddings, GRU layers, and Bahdanau Attention mechanism for binary classification.\n",
        "\n",
        "    Args:\n",
        "        bert_dim (int): The dimension of the PubMedBERT embeddings (usually 768).\n",
        "        hidden_dim (int): The hidden dimension of the GRU layer.\n",
        "        num_layers (int): The number of layers in the GRU (default is 1).\n",
        "        dropout_prob (float): Dropout probability for regularization.\n",
        "\n",
        "    Attributes:\n",
        "        gru (nn.GRU): A bidirectional GRU layer.\n",
        "        attention (BahdanauAttention): The Bahdanau attention mechanism.\n",
        "        fc (nn.Linear): The fully connected layer to produce the binary output.\n",
        "        dropout (nn.Dropout): Dropout layer for regularization.\n",
        "    \"\"\"\n",
        "    def __init__(self, bert_dim, hidden_dim, num_layers=1, dropout_prob=0.6):\n",
        "        super(PubMedBERT_GRU_Attention, self).__init__()\n",
        "        self.gru = nn.GRU(\n",
        "            input_size=bert_dim,\n",
        "            hidden_size=hidden_dim,\n",
        "            num_layers=num_layers,\n",
        "            batch_first=True,\n",
        "            bidirectional=True\n",
        "        )\n",
        "        self.attention = BahdanauAttention(hidden_dim)\n",
        "        self.fc = nn.Linear(hidden_dim * 2, 1)\n",
        "        self.dropout = nn.Dropout(dropout_prob)\n",
        "\n",
        "    def forward(self, input_ids, attention_mask):\n",
        "        with torch.no_grad():\n",
        "            bert_outputs = pubmedbert(input_ids=input_ids, attention_mask=attention_mask)\n",
        "        bert_embeds = bert_outputs.last_hidden_state\n",
        "        gru_out, _ = self.gru(bert_embeds)\n",
        "        context = self.attention(gru_out)\n",
        "        x = self.dropout(context)\n",
        "        output = self.fc(x)\n",
        "        return output  # logits"
      ]
    },
    {
      "cell_type": "code",
      "execution_count": 9,
      "metadata": {
        "id": "W7GKB2__RCKh"
      },
      "outputs": [],
      "source": [
        "def count_parameters(model):\n",
        "    \"\"\"\n",
        "    Count the number of trainable parameters in the model.\n",
        "    Args:\n",
        "        model: The model whose parameters are to be counted.\n",
        "    Returns:\n",
        "        Total number of trainable parameters.\n",
        "    \"\"\"\n",
        "    return sum(p.numel() for p in model.parameters() if p.requires_grad)\n",
        "\n",
        "def train_model(model, dataloader, optimizer, criterion, device):\n",
        "    \"\"\"\n",
        "    Train the model for one epoch, calculating loss and accuracy.\n",
        "    Args:\n",
        "        model: The model to train.\n",
        "        dataloader: DataLoader for the training dataset.\n",
        "        optimizer: Optimizer for model parameters.\n",
        "        criterion: Loss function.\n",
        "        device: CPU/GPU device.\n",
        "    Returns:\n",
        "        Average loss and accuracy for the epoch.\n",
        "    \"\"\"\n",
        "    model.train()\n",
        "    total_loss = 0\n",
        "    total_correct = 0\n",
        "    total_samples = 0\n",
        "\n",
        "    for batch in dataloader:\n",
        "        input_ids = batch['input_ids'].to(device)\n",
        "        attention_mask = batch['attention_mask'].to(device)\n",
        "        labels = batch['labels'].float().to(device).unsqueeze(1)\n",
        "\n",
        "        optimizer.zero_grad()\n",
        "        logits = model(input_ids, attention_mask)\n",
        "        loss = criterion(logits, labels)\n",
        "        loss.backward()\n",
        "        optimizer.step()\n",
        "\n",
        "        total_loss += loss.item()\n",
        "\n",
        "        preds = torch.sigmoid(logits).detach().cpu().numpy()\n",
        "        preds = (preds > 0.5).astype(int)\n",
        "        total_correct += np.sum(preds == labels.cpu().numpy())\n",
        "        total_samples += labels.size(0)\n",
        "\n",
        "    avg_loss = total_loss / len(dataloader)\n",
        "    avg_accuracy = total_correct / total_samples\n",
        "    return avg_loss, avg_accuracy\n",
        "\n",
        "def evaluate_model(model, dataloader, criterion, device):\n",
        "    \"\"\"\n",
        "    Validate the model for one epoch, including precision, F1, balanced accuracy, and recall.\n",
        "    Args:\n",
        "        model: Model instance.\n",
        "        dataloader: DataLoader for validation data.\n",
        "        criterion: Loss function (BCEWithLogitsLoss).\n",
        "        device: CPU/GPU.\n",
        "    Returns:\n",
        "        Average validation loss, accuracy, F1-score.\n",
        "    \"\"\"\n",
        "    model.eval()\n",
        "    all_preds = []\n",
        "    all_labels = []\n",
        "    val_loss = 0.0\n",
        "\n",
        "    with torch.no_grad():\n",
        "        for batch in tqdm(dataloader, desc=\"Evaluating\"):\n",
        "            input_ids = batch['input_ids'].to(device)\n",
        "            attention_mask = batch['attention_mask'].to(device)\n",
        "            labels = batch['labels'].float().to(device).unsqueeze(1)\n",
        "\n",
        "            logits = model(input_ids, attention_mask)\n",
        "            loss = criterion(logits, labels)\n",
        "            val_loss += loss.item()\n",
        "\n",
        "            preds = torch.sigmoid(logits).cpu().numpy()\n",
        "            preds = (preds > 0.5).astype(int)\n",
        "            labels_cpu = labels.cpu().numpy()\n",
        "\n",
        "            all_preds.extend(preds)\n",
        "            all_labels.extend(labels_cpu)\n",
        "\n",
        "    val_loss /= len(dataloader)\n",
        "    all_preds = np.array(all_preds)\n",
        "    all_labels = np.array(all_labels)\n",
        "\n",
        "    acc = accuracy_score(all_labels, all_preds)\n",
        "    f1 = f1_score(all_labels, all_preds)\n",
        "\n",
        "    return acc, f1, val_loss\n",
        "\n",
        "def test_model(model, test_loader, criterion, device):\n",
        "    \"\"\"\n",
        "    Evaluate the model on the test dataset, calculating loss, accuracy, F1-score, precision, recall, and balanced accuracy.\n",
        "    Args:\n",
        "        model: The model to evaluate.\n",
        "        test_loader: DataLoader for the test dataset.\n",
        "        criterion: Loss function (BCEWithLogitsLoss).\n",
        "        device: CPU/GPU device.\n",
        "    Returns:\n",
        "        Average test loss, accuracy, F1-score, balanced accuracy, recall, and precision.\n",
        "    \"\"\"\n",
        "    model.eval()\n",
        "    total_loss = 0\n",
        "    total_accuracy = 0\n",
        "    all_labels = []\n",
        "    all_preds = []\n",
        "\n",
        "    with torch.no_grad():\n",
        "        for batch in test_loader:\n",
        "            input_ids = batch['input_ids'].to(device)\n",
        "            attention_mask = batch['attention_mask'].to(device)\n",
        "            target_tensor = batch['labels'].float().to(device).unsqueeze(1)\n",
        "\n",
        "            output = model(input_ids, attention_mask)\n",
        "            loss = criterion(output, target_tensor)\n",
        "            total_loss += loss.item()\n",
        "\n",
        "            preds = torch.sigmoid(output).cpu().numpy()\n",
        "            preds_bin = (preds > 0.5).astype(int)\n",
        "            total_accuracy += accuracy_score(target_tensor.cpu(), preds_bin) * len(target_tensor)\n",
        "\n",
        "            all_preds.extend(preds_bin)\n",
        "            all_labels.extend(target_tensor.cpu().numpy())\n",
        "\n",
        "    avg_loss = total_loss / len(test_loader)\n",
        "    avg_accuracy = total_accuracy / len(test_loader.dataset)\n",
        "    all_preds = np.array(all_preds)\n",
        "    all_labels = np.array(all_labels)\n",
        "\n",
        "    f1 = f1_score(all_labels, all_preds, zero_division=0)\n",
        "    balanced_acc = balanced_accuracy_score(all_labels, all_preds)\n",
        "    precision = precision_score(all_labels, all_preds, zero_division=0)\n",
        "    recall = recall_score(all_labels, all_preds, zero_division=0)\n",
        "\n",
        "    return avg_loss, avg_accuracy, f1, balanced_acc, recall, precision"
      ]
    },
    {
      "cell_type": "code",
      "execution_count": 10,
      "metadata": {
        "colab": {
          "base_uri": "https://localhost:8080/"
        },
        "id": "_e3I8RcjRCHH",
        "outputId": "24b18e93-6cd4-4f35-b647-288007dba331"
      },
      "outputs": [
        {
          "output_type": "stream",
          "name": "stdout",
          "text": [
            "\n",
            "1708033 model parameters\n",
            "\n",
            "PubMedBERT_GRU_Attention(\n",
            "  (gru): GRU(768, 256, batch_first=True, bidirectional=True)\n",
            "  (attention): BahdanauAttention(\n",
            "    (W): Linear(in_features=512, out_features=256, bias=True)\n",
            "    (v): Linear(in_features=256, out_features=1, bias=False)\n",
            "  )\n",
            "  (fc): Linear(in_features=512, out_features=1, bias=True)\n",
            "  (dropout): Dropout(p=0.6, inplace=False)\n",
            ")\n"
          ]
        }
      ],
      "source": [
        "BERT_DIM = 768\n",
        "HIDDEN_DIM = 256\n",
        "DROPOUT = 0.6\n",
        "\n",
        "model = PubMedBERT_GRU_Attention(BERT_DIM, HIDDEN_DIM, dropout_prob=DROPOUT).to(device)\n",
        "print()\n",
        "print(f\"{count_parameters(model)} model parameters\")\n",
        "print()\n",
        "print(model)"
      ]
    },
    {
      "cell_type": "markdown",
      "metadata": {
        "id": "68TA-KMERPVd"
      },
      "source": [
        "---\n",
        "\n",
        "# 1. **Use of PubMedBERT as contextual embeddings - GRU - Bahdanau Attention**\n",
        "\n",
        "---"
      ]
    },
    {
      "cell_type": "markdown",
      "metadata": {
        "id": "p3nD7JK8aGs9"
      },
      "source": [
        "PubMedBERT is a model pre-trained on a corpus of biomedical texts, and generates contextual embeddings."
      ]
    },
    {
      "cell_type": "code",
      "execution_count": 12,
      "metadata": {
        "id": "Y-2CLpfATdXF"
      },
      "outputs": [],
      "source": [
        "class PubMedBERTDataset(Dataset):\n",
        "    \"\"\"\n",
        "    Dataset class for multi-class classification using PubMedBERT embeddings.\n",
        "\n",
        "    Args:\n",
        "        texts (list of str): A list of raw text sequences.\n",
        "        labels (list of int): A list of integer labels (0-8) corresponding to each text.\n",
        "        tokenizer (transformers tokenizer): A tokenizer to preprocess the text data.\n",
        "        max_length (int): Maximum length for padding/truncation. Default is 400.\n",
        "\n",
        "    Attributes:\n",
        "        texts (list of str): The raw text data.\n",
        "        encodings (dict): Tokenized text data with input IDs and attention masks.\n",
        "        labels (Tensor): Tensor of integer labels for the classification task.\n",
        "    \"\"\"\n",
        "\n",
        "    def __init__(self, texts, labels, tokenizer, max_length=400):\n",
        "        self.texts = texts\n",
        "        self.encodings = tokenizer(texts, padding='max_length', truncation=True, max_length=max_length, return_tensors='pt')\n",
        "        self.labels = torch.tensor(labels, dtype=torch.long)\n",
        "\n",
        "    def __getitem__(self, idx):\n",
        "        \"\"\"\n",
        "        Retrieve a single sample from the dataset.\n",
        "\n",
        "        Args:\n",
        "            idx (int): Index of the sample to retrieve.\n",
        "\n",
        "        Returns:\n",
        "            dict: Contains input IDs, attention masks, and the corresponding label and raw text.\n",
        "        \"\"\"\n",
        "        item = {key: val[idx] for key, val in self.encodings.items()}\n",
        "        item['labels'] = self.labels[idx]\n",
        "        item['text'] = self.texts[idx]\n",
        "        return item\n",
        "\n",
        "    def __len__(self):\n",
        "        \"\"\"\n",
        "        Returns the total number of samples in the dataset.\n",
        "\n",
        "        Returns:\n",
        "            int: Number of samples in the dataset.\n",
        "        \"\"\"\n",
        "        return len(self.labels)"
      ]
    },
    {
      "cell_type": "code",
      "execution_count": 13,
      "metadata": {
        "id": "Wr_RKK5NTcY0"
      },
      "outputs": [],
      "source": [
        "# --- Load Data ---\n",
        "train_dataset = PubMedBERTDataset(X_train.tolist(), y_train, tokenizer)\n",
        "val_dataset = PubMedBERTDataset(X_val.tolist(), y_val, tokenizer)\n",
        "test_dataset = PubMedBERTDataset(X_test.tolist(), y_test, tokenizer)\n",
        "\n",
        "train_loader = DataLoader(train_dataset, batch_size=BATCH_SIZE, shuffle=True)\n",
        "val_loader = DataLoader(val_dataset, batch_size=BATCH_SIZE, shuffle=False)\n",
        "test_loader = DataLoader(test_dataset, batch_size=BATCH_SIZE, shuffle=False)\n",
        "\n",
        "# Combine the training and validation datasets (for test)\n",
        "combined_dataset = ConcatDataset([train_dataset, val_dataset])\n",
        "combined_loader = DataLoader(combined_dataset, batch_size=BATCH_SIZE, shuffle=True)"
      ]
    },
    {
      "cell_type": "markdown",
      "metadata": {
        "id": "jl5kcmIQwPMK"
      },
      "source": [
        "---\n",
        "## 1.1 **Optimisation phase**"
      ]
    },
    {
      "cell_type": "markdown",
      "metadata": {
        "id": "GFWELZvRScpr"
      },
      "source": [
        "1.1.1 Optimizer selection"
      ]
    },
    {
      "cell_type": "code",
      "execution_count": null,
      "metadata": {
        "id": "wVK27JIiRCEb",
        "colab": {
          "base_uri": "https://localhost:8080/",
          "height": 1000
        },
        "outputId": "9711cdde-d535-4b31-cd8d-7bbffb579a90"
      },
      "outputs": [
        {
          "output_type": "stream",
          "name": "stdout",
          "text": [
            "\n",
            "🔹 Training with optimizer: Adam\n",
            "PubMedBERT_GRU_Attention(\n",
            "  (gru): GRU(768, 256, batch_first=True, bidirectional=True)\n",
            "  (attention): BahdanauAttention(\n",
            "    (W): Linear(in_features=512, out_features=256, bias=True)\n",
            "    (v): Linear(in_features=256, out_features=1, bias=False)\n",
            "  )\n",
            "  (fc): Linear(in_features=512, out_features=1, bias=True)\n",
            "  (dropout): Dropout(p=0.6, inplace=False)\n",
            ")\n"
          ]
        },
        {
          "output_type": "display_data",
          "data": {
            "text/plain": [
              "<IPython.core.display.HTML object>"
            ],
            "text/html": [
              "Finishing previous runs because reinit is set to 'default'."
            ]
          },
          "metadata": {}
        },
        {
          "output_type": "display_data",
          "data": {
            "text/plain": [
              "<IPython.core.display.HTML object>"
            ],
            "text/html": []
          },
          "metadata": {}
        },
        {
          "output_type": "display_data",
          "data": {
            "text/plain": [
              "<IPython.core.display.HTML object>"
            ],
            "text/html": [
              " View run <strong style=\"color:#cdcd00\">RMSprop_run</strong> at: <a href='https://wandb.ai/wilfried-mvomoeto-university-of-li-ge/Binary_Class_Optimizer_Comparison_gru_attention_glove300d/runs/xi5mi8ne' target=\"_blank\">https://wandb.ai/wilfried-mvomoeto-university-of-li-ge/Binary_Class_Optimizer_Comparison_gru_attention_glove300d/runs/xi5mi8ne</a><br> View project at: <a href='https://wandb.ai/wilfried-mvomoeto-university-of-li-ge/Binary_Class_Optimizer_Comparison_gru_attention_glove300d' target=\"_blank\">https://wandb.ai/wilfried-mvomoeto-university-of-li-ge/Binary_Class_Optimizer_Comparison_gru_attention_glove300d</a><br>Synced 5 W&B file(s), 0 media file(s), 0 artifact file(s) and 0 other file(s)"
            ]
          },
          "metadata": {}
        },
        {
          "output_type": "display_data",
          "data": {
            "text/plain": [
              "<IPython.core.display.HTML object>"
            ],
            "text/html": [
              "Find logs at: <code>./wandb/run-20250423_183121-xi5mi8ne/logs</code>"
            ]
          },
          "metadata": {}
        },
        {
          "output_type": "display_data",
          "data": {
            "text/plain": [
              "<IPython.core.display.HTML object>"
            ],
            "text/html": [
              "Tracking run with wandb version 0.19.10"
            ]
          },
          "metadata": {}
        },
        {
          "output_type": "display_data",
          "data": {
            "text/plain": [
              "<IPython.core.display.HTML object>"
            ],
            "text/html": [
              "Run data is saved locally in <code>/content/wandb/run-20250423_183301-m12snvk7</code>"
            ]
          },
          "metadata": {}
        },
        {
          "output_type": "display_data",
          "data": {
            "text/plain": [
              "<IPython.core.display.HTML object>"
            ],
            "text/html": [
              "Syncing run <strong><a href='https://wandb.ai/wilfried-mvomoeto-university-of-li-ge/Binary_Class_Pubmedbert_Attention_OptimizerSearch/runs/m12snvk7' target=\"_blank\">Adam_run</a></strong> to <a href='https://wandb.ai/wilfried-mvomoeto-university-of-li-ge/Binary_Class_Pubmedbert_Attention_OptimizerSearch' target=\"_blank\">Weights & Biases</a> (<a href='https://wandb.me/developer-guide' target=\"_blank\">docs</a>)<br>"
            ]
          },
          "metadata": {}
        },
        {
          "output_type": "display_data",
          "data": {
            "text/plain": [
              "<IPython.core.display.HTML object>"
            ],
            "text/html": [
              " View project at <a href='https://wandb.ai/wilfried-mvomoeto-university-of-li-ge/Binary_Class_Pubmedbert_Attention_OptimizerSearch' target=\"_blank\">https://wandb.ai/wilfried-mvomoeto-university-of-li-ge/Binary_Class_Pubmedbert_Attention_OptimizerSearch</a>"
            ]
          },
          "metadata": {}
        },
        {
          "output_type": "display_data",
          "data": {
            "text/plain": [
              "<IPython.core.display.HTML object>"
            ],
            "text/html": [
              " View run at <a href='https://wandb.ai/wilfried-mvomoeto-university-of-li-ge/Binary_Class_Pubmedbert_Attention_OptimizerSearch/runs/m12snvk7' target=\"_blank\">https://wandb.ai/wilfried-mvomoeto-university-of-li-ge/Binary_Class_Pubmedbert_Attention_OptimizerSearch/runs/m12snvk7</a>"
            ]
          },
          "metadata": {}
        },
        {
          "output_type": "stream",
          "name": "stdout",
          "text": [
            "Total trainable parameters: 1708033\n"
          ]
        },
        {
          "output_type": "stream",
          "name": "stderr",
          "text": [
            "Evaluating: 100%|██████████| 126/126 [01:26<00:00,  1.46it/s]\n"
          ]
        },
        {
          "output_type": "stream",
          "name": "stdout",
          "text": [
            "Opt: Adam | Epoch 1/5 - TL: 0.3566, VL: 0.2653, TA: 84.61%, VA: 89.83%, F1: 85.52%, Time: 8.49 min\n"
          ]
        },
        {
          "output_type": "stream",
          "name": "stderr",
          "text": [
            "Evaluating: 100%|██████████| 126/126 [01:26<00:00,  1.46it/s]\n"
          ]
        },
        {
          "output_type": "stream",
          "name": "stdout",
          "text": [
            "Opt: Adam | Epoch 2/5 - TL: 0.2455, VL: 0.2393, TA: 90.88%, VA: 91.47%, F1: 88.28%, Time: 8.49 min\n"
          ]
        },
        {
          "output_type": "stream",
          "name": "stderr",
          "text": [
            "Evaluating: 100%|██████████| 126/126 [01:26<00:00,  1.46it/s]\n"
          ]
        },
        {
          "output_type": "stream",
          "name": "stdout",
          "text": [
            "Opt: Adam | Epoch 3/5 - TL: 0.2272, VL: 0.2297, TA: 91.47%, VA: 91.54%, F1: 88.30%, Time: 8.47 min\n"
          ]
        },
        {
          "output_type": "stream",
          "name": "stderr",
          "text": [
            "Evaluating: 100%|██████████| 126/126 [01:26<00:00,  1.46it/s]\n"
          ]
        },
        {
          "output_type": "stream",
          "name": "stdout",
          "text": [
            "Opt: Adam | Epoch 4/5 - TL: 0.2172, VL: 0.2294, TA: 91.93%, VA: 91.74%, F1: 88.40%, Time: 8.48 min\n"
          ]
        },
        {
          "output_type": "stream",
          "name": "stderr",
          "text": [
            "Evaluating: 100%|██████████| 126/126 [01:26<00:00,  1.46it/s]"
          ]
        },
        {
          "output_type": "stream",
          "name": "stdout",
          "text": [
            "Opt: Adam | Epoch 5/5 - TL: 0.2075, VL: 0.2347, TA: 92.24%, VA: 91.25%, F1: 88.09%, Time: 8.48 min\n"
          ]
        },
        {
          "output_type": "stream",
          "name": "stderr",
          "text": [
            "\n"
          ]
        },
        {
          "output_type": "display_data",
          "data": {
            "text/plain": [
              "<IPython.core.display.HTML object>"
            ],
            "text/html": []
          },
          "metadata": {}
        },
        {
          "output_type": "display_data",
          "data": {
            "text/plain": [
              "<IPython.core.display.HTML object>"
            ],
            "text/html": [
              "<br>    <style><br>        .wandb-row {<br>            display: flex;<br>            flex-direction: row;<br>            flex-wrap: wrap;<br>            justify-content: flex-start;<br>            width: 100%;<br>        }<br>        .wandb-col {<br>            display: flex;<br>            flex-direction: column;<br>            flex-basis: 100%;<br>            flex: 1;<br>            padding: 10px;<br>        }<br>    </style><br><div class=\"wandb-row\"><div class=\"wandb-col\"><h3>Run history:</h3><br/><table class=\"wandb\"><tr><td>train_acc</td><td>▁▇▇██</td></tr><tr><td>train_loss</td><td>█▃▂▁▁</td></tr><tr><td>val_acc</td><td>▁▇▇█▆</td></tr><tr><td>val_f1</td><td>▁███▇</td></tr><tr><td>val_loss</td><td>█▃▁▁▂</td></tr></table><br/></div><div class=\"wandb-col\"><h3>Run summary:</h3><br/><table class=\"wandb\"><tr><td>train_acc</td><td>0.92236</td></tr><tr><td>train_loss</td><td>0.20753</td></tr><tr><td>val_acc</td><td>0.91245</td></tr><tr><td>val_f1</td><td>0.88086</td></tr><tr><td>val_loss</td><td>0.23475</td></tr></table><br/></div></div>"
            ]
          },
          "metadata": {}
        },
        {
          "output_type": "display_data",
          "data": {
            "text/plain": [
              "<IPython.core.display.HTML object>"
            ],
            "text/html": [
              " View run <strong style=\"color:#cdcd00\">Adam_run</strong> at: <a href='https://wandb.ai/wilfried-mvomoeto-university-of-li-ge/Binary_Class_Pubmedbert_Attention_OptimizerSearch/runs/m12snvk7' target=\"_blank\">https://wandb.ai/wilfried-mvomoeto-university-of-li-ge/Binary_Class_Pubmedbert_Attention_OptimizerSearch/runs/m12snvk7</a><br> View project at: <a href='https://wandb.ai/wilfried-mvomoeto-university-of-li-ge/Binary_Class_Pubmedbert_Attention_OptimizerSearch' target=\"_blank\">https://wandb.ai/wilfried-mvomoeto-university-of-li-ge/Binary_Class_Pubmedbert_Attention_OptimizerSearch</a><br>Synced 5 W&B file(s), 0 media file(s), 0 artifact file(s) and 0 other file(s)"
            ]
          },
          "metadata": {}
        },
        {
          "output_type": "display_data",
          "data": {
            "text/plain": [
              "<IPython.core.display.HTML object>"
            ],
            "text/html": [
              "Find logs at: <code>./wandb/run-20250423_183301-m12snvk7/logs</code>"
            ]
          },
          "metadata": {}
        },
        {
          "output_type": "stream",
          "name": "stdout",
          "text": [
            "\n",
            "🔹 Training with optimizer: AdamW\n",
            "PubMedBERT_GRU_Attention(\n",
            "  (gru): GRU(768, 256, batch_first=True, bidirectional=True)\n",
            "  (attention): BahdanauAttention(\n",
            "    (W): Linear(in_features=512, out_features=256, bias=True)\n",
            "    (v): Linear(in_features=256, out_features=1, bias=False)\n",
            "  )\n",
            "  (fc): Linear(in_features=512, out_features=1, bias=True)\n",
            "  (dropout): Dropout(p=0.6, inplace=False)\n",
            ")\n"
          ]
        },
        {
          "output_type": "display_data",
          "data": {
            "text/plain": [
              "<IPython.core.display.HTML object>"
            ],
            "text/html": [
              "Tracking run with wandb version 0.19.10"
            ]
          },
          "metadata": {}
        },
        {
          "output_type": "display_data",
          "data": {
            "text/plain": [
              "<IPython.core.display.HTML object>"
            ],
            "text/html": [
              "Run data is saved locally in <code>/content/wandb/run-20250423_191532-1jzb000v</code>"
            ]
          },
          "metadata": {}
        },
        {
          "output_type": "display_data",
          "data": {
            "text/plain": [
              "<IPython.core.display.HTML object>"
            ],
            "text/html": [
              "Syncing run <strong><a href='https://wandb.ai/wilfried-mvomoeto-university-of-li-ge/Binary_Class_Pubmedbert_Attention_OptimizerSearch/runs/1jzb000v' target=\"_blank\">AdamW_run</a></strong> to <a href='https://wandb.ai/wilfried-mvomoeto-university-of-li-ge/Binary_Class_Pubmedbert_Attention_OptimizerSearch' target=\"_blank\">Weights & Biases</a> (<a href='https://wandb.me/developer-guide' target=\"_blank\">docs</a>)<br>"
            ]
          },
          "metadata": {}
        },
        {
          "output_type": "display_data",
          "data": {
            "text/plain": [
              "<IPython.core.display.HTML object>"
            ],
            "text/html": [
              " View project at <a href='https://wandb.ai/wilfried-mvomoeto-university-of-li-ge/Binary_Class_Pubmedbert_Attention_OptimizerSearch' target=\"_blank\">https://wandb.ai/wilfried-mvomoeto-university-of-li-ge/Binary_Class_Pubmedbert_Attention_OptimizerSearch</a>"
            ]
          },
          "metadata": {}
        },
        {
          "output_type": "display_data",
          "data": {
            "text/plain": [
              "<IPython.core.display.HTML object>"
            ],
            "text/html": [
              " View run at <a href='https://wandb.ai/wilfried-mvomoeto-university-of-li-ge/Binary_Class_Pubmedbert_Attention_OptimizerSearch/runs/1jzb000v' target=\"_blank\">https://wandb.ai/wilfried-mvomoeto-university-of-li-ge/Binary_Class_Pubmedbert_Attention_OptimizerSearch/runs/1jzb000v</a>"
            ]
          },
          "metadata": {}
        },
        {
          "output_type": "stream",
          "name": "stdout",
          "text": [
            "Total trainable parameters: 1708033\n"
          ]
        },
        {
          "output_type": "stream",
          "name": "stderr",
          "text": [
            "Evaluating: 100%|██████████| 126/126 [01:26<00:00,  1.46it/s]\n"
          ]
        },
        {
          "output_type": "stream",
          "name": "stdout",
          "text": [
            "Opt: AdamW | Epoch 1/5 - TL: 0.3516, VL: 0.2567, TA: 84.75%, VA: 90.33%, F1: 86.89%, Time: 8.47 min\n"
          ]
        },
        {
          "output_type": "stream",
          "name": "stderr",
          "text": [
            "Evaluating: 100%|██████████| 126/126 [01:26<00:00,  1.46it/s]\n"
          ]
        },
        {
          "output_type": "stream",
          "name": "stdout",
          "text": [
            "Opt: AdamW | Epoch 2/5 - TL: 0.2466, VL: 0.2433, TA: 90.98%, VA: 90.92%, F1: 87.77%, Time: 8.48 min\n"
          ]
        },
        {
          "output_type": "stream",
          "name": "stderr",
          "text": [
            "Evaluating: 100%|██████████| 126/126 [01:26<00:00,  1.46it/s]\n"
          ]
        },
        {
          "output_type": "stream",
          "name": "stdout",
          "text": [
            "Opt: AdamW | Epoch 3/5 - TL: 0.2285, VL: 0.2336, TA: 91.60%, VA: 91.52%, F1: 88.11%, Time: 8.48 min\n"
          ]
        },
        {
          "output_type": "stream",
          "name": "stderr",
          "text": [
            "Evaluating: 100%|██████████| 126/126 [01:26<00:00,  1.46it/s]\n"
          ]
        },
        {
          "output_type": "stream",
          "name": "stdout",
          "text": [
            "Opt: AdamW | Epoch 4/5 - TL: 0.2167, VL: 0.2278, TA: 91.87%, VA: 91.77%, F1: 88.66%, Time: 8.47 min\n"
          ]
        },
        {
          "output_type": "stream",
          "name": "stderr",
          "text": [
            "Evaluating: 100%|██████████| 126/126 [01:26<00:00,  1.46it/s]"
          ]
        },
        {
          "output_type": "stream",
          "name": "stdout",
          "text": [
            "Opt: AdamW | Epoch 5/5 - TL: 0.2096, VL: 0.2260, TA: 92.26%, VA: 92.01%, F1: 88.80%, Time: 8.47 min\n"
          ]
        },
        {
          "output_type": "stream",
          "name": "stderr",
          "text": [
            "\n"
          ]
        },
        {
          "output_type": "display_data",
          "data": {
            "text/plain": [
              "<IPython.core.display.HTML object>"
            ],
            "text/html": []
          },
          "metadata": {}
        },
        {
          "output_type": "display_data",
          "data": {
            "text/plain": [
              "<IPython.core.display.HTML object>"
            ],
            "text/html": [
              "<br>    <style><br>        .wandb-row {<br>            display: flex;<br>            flex-direction: row;<br>            flex-wrap: wrap;<br>            justify-content: flex-start;<br>            width: 100%;<br>        }<br>        .wandb-col {<br>            display: flex;<br>            flex-direction: column;<br>            flex-basis: 100%;<br>            flex: 1;<br>            padding: 10px;<br>        }<br>    </style><br><div class=\"wandb-row\"><div class=\"wandb-col\"><h3>Run history:</h3><br/><table class=\"wandb\"><tr><td>train_acc</td><td>▁▇▇██</td></tr><tr><td>train_loss</td><td>█▃▂▁▁</td></tr><tr><td>val_acc</td><td>▁▃▆▇█</td></tr><tr><td>val_f1</td><td>▁▄▅▇█</td></tr><tr><td>val_loss</td><td>█▅▃▁▁</td></tr></table><br/></div><div class=\"wandb-col\"><h3>Run summary:</h3><br/><table class=\"wandb\"><tr><td>train_acc</td><td>0.92257</td></tr><tr><td>train_loss</td><td>0.20959</td></tr><tr><td>val_acc</td><td>0.92014</td></tr><tr><td>val_f1</td><td>0.88804</td></tr><tr><td>val_loss</td><td>0.22597</td></tr></table><br/></div></div>"
            ]
          },
          "metadata": {}
        },
        {
          "output_type": "display_data",
          "data": {
            "text/plain": [
              "<IPython.core.display.HTML object>"
            ],
            "text/html": [
              " View run <strong style=\"color:#cdcd00\">AdamW_run</strong> at: <a href='https://wandb.ai/wilfried-mvomoeto-university-of-li-ge/Binary_Class_Pubmedbert_Attention_OptimizerSearch/runs/1jzb000v' target=\"_blank\">https://wandb.ai/wilfried-mvomoeto-university-of-li-ge/Binary_Class_Pubmedbert_Attention_OptimizerSearch/runs/1jzb000v</a><br> View project at: <a href='https://wandb.ai/wilfried-mvomoeto-university-of-li-ge/Binary_Class_Pubmedbert_Attention_OptimizerSearch' target=\"_blank\">https://wandb.ai/wilfried-mvomoeto-university-of-li-ge/Binary_Class_Pubmedbert_Attention_OptimizerSearch</a><br>Synced 5 W&B file(s), 0 media file(s), 0 artifact file(s) and 0 other file(s)"
            ]
          },
          "metadata": {}
        },
        {
          "output_type": "display_data",
          "data": {
            "text/plain": [
              "<IPython.core.display.HTML object>"
            ],
            "text/html": [
              "Find logs at: <code>./wandb/run-20250423_191532-1jzb000v/logs</code>"
            ]
          },
          "metadata": {}
        },
        {
          "output_type": "stream",
          "name": "stdout",
          "text": [
            "\n",
            "🔹 Training with optimizer: RMSprop\n",
            "PubMedBERT_GRU_Attention(\n",
            "  (gru): GRU(768, 256, batch_first=True, bidirectional=True)\n",
            "  (attention): BahdanauAttention(\n",
            "    (W): Linear(in_features=512, out_features=256, bias=True)\n",
            "    (v): Linear(in_features=256, out_features=1, bias=False)\n",
            "  )\n",
            "  (fc): Linear(in_features=512, out_features=1, bias=True)\n",
            "  (dropout): Dropout(p=0.6, inplace=False)\n",
            ")\n"
          ]
        },
        {
          "output_type": "display_data",
          "data": {
            "text/plain": [
              "<IPython.core.display.HTML object>"
            ],
            "text/html": [
              "Tracking run with wandb version 0.19.10"
            ]
          },
          "metadata": {}
        },
        {
          "output_type": "display_data",
          "data": {
            "text/plain": [
              "<IPython.core.display.HTML object>"
            ],
            "text/html": [
              "Run data is saved locally in <code>/content/wandb/run-20250423_195756-prd98hx9</code>"
            ]
          },
          "metadata": {}
        },
        {
          "output_type": "display_data",
          "data": {
            "text/plain": [
              "<IPython.core.display.HTML object>"
            ],
            "text/html": [
              "Syncing run <strong><a href='https://wandb.ai/wilfried-mvomoeto-university-of-li-ge/Binary_Class_Pubmedbert_Attention_OptimizerSearch/runs/prd98hx9' target=\"_blank\">RMSprop_run</a></strong> to <a href='https://wandb.ai/wilfried-mvomoeto-university-of-li-ge/Binary_Class_Pubmedbert_Attention_OptimizerSearch' target=\"_blank\">Weights & Biases</a> (<a href='https://wandb.me/developer-guide' target=\"_blank\">docs</a>)<br>"
            ]
          },
          "metadata": {}
        },
        {
          "output_type": "display_data",
          "data": {
            "text/plain": [
              "<IPython.core.display.HTML object>"
            ],
            "text/html": [
              " View project at <a href='https://wandb.ai/wilfried-mvomoeto-university-of-li-ge/Binary_Class_Pubmedbert_Attention_OptimizerSearch' target=\"_blank\">https://wandb.ai/wilfried-mvomoeto-university-of-li-ge/Binary_Class_Pubmedbert_Attention_OptimizerSearch</a>"
            ]
          },
          "metadata": {}
        },
        {
          "output_type": "display_data",
          "data": {
            "text/plain": [
              "<IPython.core.display.HTML object>"
            ],
            "text/html": [
              " View run at <a href='https://wandb.ai/wilfried-mvomoeto-university-of-li-ge/Binary_Class_Pubmedbert_Attention_OptimizerSearch/runs/prd98hx9' target=\"_blank\">https://wandb.ai/wilfried-mvomoeto-university-of-li-ge/Binary_Class_Pubmedbert_Attention_OptimizerSearch/runs/prd98hx9</a>"
            ]
          },
          "metadata": {}
        },
        {
          "output_type": "stream",
          "name": "stdout",
          "text": [
            "Total trainable parameters: 1708033\n"
          ]
        },
        {
          "output_type": "stream",
          "name": "stderr",
          "text": [
            "Evaluating: 100%|██████████| 126/126 [01:26<00:00,  1.46it/s]\n"
          ]
        },
        {
          "output_type": "stream",
          "name": "stdout",
          "text": [
            "Opt: RMSprop | Epoch 1/5 - TL: 0.3346, VL: 0.2822, TA: 86.34%, VA: 89.31%, F1: 85.78%, Time: 8.47 min\n"
          ]
        },
        {
          "output_type": "stream",
          "name": "stderr",
          "text": [
            "Evaluating: 100%|██████████| 126/126 [01:26<00:00,  1.46it/s]\n"
          ]
        },
        {
          "output_type": "stream",
          "name": "stdout",
          "text": [
            "Opt: RMSprop | Epoch 2/5 - TL: 0.2450, VL: 0.2356, TA: 90.87%, VA: 91.57%, F1: 88.27%, Time: 8.48 min\n"
          ]
        },
        {
          "output_type": "stream",
          "name": "stderr",
          "text": [
            "Evaluating: 100%|██████████| 126/126 [01:26<00:00,  1.46it/s]\n"
          ]
        },
        {
          "output_type": "stream",
          "name": "stdout",
          "text": [
            "Opt: RMSprop | Epoch 3/5 - TL: 0.2283, VL: 0.2326, TA: 91.43%, VA: 91.49%, F1: 88.04%, Time: 8.47 min\n"
          ]
        },
        {
          "output_type": "stream",
          "name": "stderr",
          "text": [
            "Evaluating: 100%|██████████| 126/126 [01:26<00:00,  1.46it/s]\n"
          ]
        },
        {
          "output_type": "stream",
          "name": "stdout",
          "text": [
            "Opt: RMSprop | Epoch 4/5 - TL: 0.2185, VL: 0.2283, TA: 91.88%, VA: 91.62%, F1: 88.38%, Time: 8.47 min\n"
          ]
        },
        {
          "output_type": "stream",
          "name": "stderr",
          "text": [
            "Evaluating: 100%|██████████| 126/126 [01:26<00:00,  1.46it/s]"
          ]
        },
        {
          "output_type": "stream",
          "name": "stdout",
          "text": [
            "Opt: RMSprop | Epoch 5/5 - TL: 0.2104, VL: 0.2812, TA: 92.15%, VA: 89.11%, F1: 86.00%, Time: 8.47 min\n"
          ]
        },
        {
          "output_type": "stream",
          "name": "stderr",
          "text": [
            "\n"
          ]
        },
        {
          "output_type": "display_data",
          "data": {
            "text/plain": [
              "<IPython.core.display.HTML object>"
            ],
            "text/html": []
          },
          "metadata": {}
        },
        {
          "output_type": "display_data",
          "data": {
            "text/plain": [
              "<IPython.core.display.HTML object>"
            ],
            "text/html": [
              "<br>    <style><br>        .wandb-row {<br>            display: flex;<br>            flex-direction: row;<br>            flex-wrap: wrap;<br>            justify-content: flex-start;<br>            width: 100%;<br>        }<br>        .wandb-col {<br>            display: flex;<br>            flex-direction: column;<br>            flex-basis: 100%;<br>            flex: 1;<br>            padding: 10px;<br>        }<br>    </style><br><div class=\"wandb-row\"><div class=\"wandb-col\"><h3>Run history:</h3><br/><table class=\"wandb\"><tr><td>train_acc</td><td>▁▆▇██</td></tr><tr><td>train_loss</td><td>█▃▂▁▁</td></tr><tr><td>val_acc</td><td>▂███▁</td></tr><tr><td>val_f1</td><td>▁█▇█▂</td></tr><tr><td>val_loss</td><td>█▂▂▁█</td></tr></table><br/></div><div class=\"wandb-col\"><h3>Run summary:</h3><br/><table class=\"wandb\"><tr><td>train_acc</td><td>0.92146</td></tr><tr><td>train_loss</td><td>0.21036</td></tr><tr><td>val_acc</td><td>0.89112</td></tr><tr><td>val_f1</td><td>0.85997</td></tr><tr><td>val_loss</td><td>0.28116</td></tr></table><br/></div></div>"
            ]
          },
          "metadata": {}
        },
        {
          "output_type": "display_data",
          "data": {
            "text/plain": [
              "<IPython.core.display.HTML object>"
            ],
            "text/html": [
              " View run <strong style=\"color:#cdcd00\">RMSprop_run</strong> at: <a href='https://wandb.ai/wilfried-mvomoeto-university-of-li-ge/Binary_Class_Pubmedbert_Attention_OptimizerSearch/runs/prd98hx9' target=\"_blank\">https://wandb.ai/wilfried-mvomoeto-university-of-li-ge/Binary_Class_Pubmedbert_Attention_OptimizerSearch/runs/prd98hx9</a><br> View project at: <a href='https://wandb.ai/wilfried-mvomoeto-university-of-li-ge/Binary_Class_Pubmedbert_Attention_OptimizerSearch' target=\"_blank\">https://wandb.ai/wilfried-mvomoeto-university-of-li-ge/Binary_Class_Pubmedbert_Attention_OptimizerSearch</a><br>Synced 5 W&B file(s), 0 media file(s), 0 artifact file(s) and 0 other file(s)"
            ]
          },
          "metadata": {}
        },
        {
          "output_type": "display_data",
          "data": {
            "text/plain": [
              "<IPython.core.display.HTML object>"
            ],
            "text/html": [
              "Find logs at: <code>./wandb/run-20250423_195756-prd98hx9/logs</code>"
            ]
          },
          "metadata": {}
        }
      ],
      "source": [
        "num_epochs = 5\n",
        "learning_rate = 1e-4\n",
        "weight_decay = 1e-10\n",
        "criterion = nn.BCEWithLogitsLoss()\n",
        "\n",
        "optimizers = {\n",
        "    'Adam': optim.Adam,\n",
        "    'AdamW': optim.AdamW,\n",
        "    'RMSprop': optim.RMSprop,\n",
        "}\n",
        "\n",
        "all_train_losses = {}\n",
        "all_val_losses = {}\n",
        "all_train_accs = {}\n",
        "all_val_accs = {}\n",
        "\n",
        "for optimizer_name, optimizer_class in optimizers.items():\n",
        "    print(f\"\\n🔹 Training with optimizer: {optimizer_name}\")\n",
        "\n",
        "    model = PubMedBERT_GRU_Attention(BERT_DIM, HIDDEN_DIM, dropout_prob=DROPOUT).to(device)\n",
        "    print(model)\n",
        "\n",
        "    optimizer = optimizer_class(model.parameters(), lr=learning_rate, weight_decay=weight_decay)\n",
        "    scheduler = ReduceLROnPlateau(optimizer, mode='min', factor=0.5, patience=2, verbose=True)\n",
        "\n",
        "    wandb.init(entity='wilfried-mvomoeto-university-of-li-ge', project='Binary_Class_Pubmedbert_Attention_OptimizerSearch', name=f\"{optimizer_name}_run\", config={\n",
        "        'learning_rate': learning_rate,\n",
        "        'num_epochs': num_epochs,\n",
        "        'optimizer': optimizer_name,\n",
        "        'model': 'PubMedBERT_Bi_GRU_Bahdanau_Attention',\n",
        "        'hidden_dim': HIDDEN_DIM,\n",
        "        'dropout_prob': DROPOUT\n",
        "    })\n",
        "\n",
        "    num_params = sum(p.numel() for p in model.parameters() if p.requires_grad)\n",
        "    print(f\"Total trainable parameters: {num_params}\")\n",
        "\n",
        "    train_losses, val_losses = [], []\n",
        "    train_accs, val_accs = [], []\n",
        "    best_val_loss = float('inf')\n",
        "\n",
        "    for epoch in range(num_epochs):\n",
        "        start_time = time.time()\n",
        "\n",
        "        train_loss, train_acc = train_model(model, train_loader, optimizer, criterion, device)\n",
        "        train_losses.append(train_loss)\n",
        "        train_accs.append(train_acc)\n",
        "\n",
        "        val_acc, f1, val_loss = evaluate_model(model, val_loader, criterion, device)\n",
        "        val_accs.append(val_acc)\n",
        "        val_losses.append(val_loss)\n",
        "\n",
        "        end_time = time.time()\n",
        "        duration = end_time - start_time\n",
        "\n",
        "        print(\n",
        "            f\"Opt: {optimizer_name} | Epoch {epoch+1}/{num_epochs} - \"\n",
        "            f\"TL: {train_loss:.4f}, VL: {val_loss:.4f}, \"\n",
        "            f\"TA: {train_acc:.2%}, VA: {val_acc:.2%}, F1: {f1:.2%}, \"\n",
        "            f\"Time: {duration/60:.2f} min\"\n",
        "        )\n",
        "\n",
        "        wandb.log({\n",
        "            'train_loss': train_loss,\n",
        "            'val_loss': val_loss,\n",
        "            'train_acc': train_acc,\n",
        "            'val_acc': val_acc,\n",
        "            'val_f1': f1,\n",
        "        })\n",
        "\n",
        "        scheduler.step(val_loss)\n",
        "\n",
        "    all_train_losses[optimizer_name] = train_losses\n",
        "    all_val_losses[optimizer_name] = val_losses\n",
        "    all_train_accs[optimizer_name] = train_accs\n",
        "    all_val_accs[optimizer_name] = val_accs\n",
        "\n",
        "    wandb.finish()"
      ]
    },
    {
      "cell_type": "markdown",
      "metadata": {
        "id": "e4XISJ0FSzKy"
      },
      "source": [
        "1.1.2 Depth value selection"
      ]
    },
    {
      "cell_type": "code",
      "execution_count": null,
      "metadata": {
        "colab": {
          "base_uri": "https://localhost:8080/",
          "height": 1000
        },
        "id": "qtOUdGIBSkaj",
        "outputId": "51f032c2-1be0-4542-977e-276051032046"
      },
      "outputs": [
        {
          "output_type": "stream",
          "name": "stdout",
          "text": [
            "\n",
            "🔹 Training with GRU depth: 1\n"
          ]
        },
        {
          "output_type": "display_data",
          "data": {
            "text/plain": [
              "<IPython.core.display.Javascript object>"
            ],
            "application/javascript": [
              "\n",
              "        window._wandbApiKey = new Promise((resolve, reject) => {\n",
              "            function loadScript(url) {\n",
              "            return new Promise(function(resolve, reject) {\n",
              "                let newScript = document.createElement(\"script\");\n",
              "                newScript.onerror = reject;\n",
              "                newScript.onload = resolve;\n",
              "                document.body.appendChild(newScript);\n",
              "                newScript.src = url;\n",
              "            });\n",
              "            }\n",
              "            loadScript(\"https://cdn.jsdelivr.net/npm/postmate/build/postmate.min.js\").then(() => {\n",
              "            const iframe = document.createElement('iframe')\n",
              "            iframe.style.cssText = \"width:0;height:0;border:none\"\n",
              "            document.body.appendChild(iframe)\n",
              "            const handshake = new Postmate({\n",
              "                container: iframe,\n",
              "                url: 'https://wandb.ai/authorize'\n",
              "            });\n",
              "            const timeout = setTimeout(() => reject(\"Couldn't auto authenticate\"), 5000)\n",
              "            handshake.then(function(child) {\n",
              "                child.on('authorize', data => {\n",
              "                    clearTimeout(timeout)\n",
              "                    resolve(data)\n",
              "                });\n",
              "            });\n",
              "            })\n",
              "        });\n",
              "    "
            ]
          },
          "metadata": {}
        },
        {
          "output_type": "stream",
          "name": "stderr",
          "text": [
            "\u001b[34m\u001b[1mwandb\u001b[0m: Logging into wandb.ai. (Learn how to deploy a W&B server locally: https://wandb.me/wandb-server)\n",
            "\u001b[34m\u001b[1mwandb\u001b[0m: You can find your API key in your browser here: https://wandb.ai/authorize?ref=models\n",
            "wandb: Paste an API key from your profile and hit enter:"
          ]
        },
        {
          "name": "stdout",
          "output_type": "stream",
          "text": [
            " ··········\n"
          ]
        },
        {
          "output_type": "stream",
          "name": "stderr",
          "text": [
            "\u001b[34m\u001b[1mwandb\u001b[0m: \u001b[33mWARNING\u001b[0m If you're specifying your api key in code, ensure this code is not shared publicly.\n",
            "\u001b[34m\u001b[1mwandb\u001b[0m: \u001b[33mWARNING\u001b[0m Consider setting the WANDB_API_KEY environment variable, or running `wandb login` from the command line.\n",
            "\u001b[34m\u001b[1mwandb\u001b[0m: No netrc file found, creating one.\n",
            "\u001b[34m\u001b[1mwandb\u001b[0m: Appending key for api.wandb.ai to your netrc file: /root/.netrc\n",
            "\u001b[34m\u001b[1mwandb\u001b[0m: Currently logged in as: \u001b[33mwilfried-mvomoeto\u001b[0m to \u001b[32mhttps://api.wandb.ai\u001b[0m. Use \u001b[1m`wandb login --relogin`\u001b[0m to force relogin\n"
          ]
        },
        {
          "output_type": "display_data",
          "data": {
            "text/plain": [
              "<IPython.core.display.HTML object>"
            ],
            "text/html": [
              "Tracking run with wandb version 0.19.10"
            ]
          },
          "metadata": {}
        },
        {
          "output_type": "display_data",
          "data": {
            "text/plain": [
              "<IPython.core.display.HTML object>"
            ],
            "text/html": [
              "Run data is saved locally in <code>/content/wandb/run-20250424_054204-tt0821bv</code>"
            ]
          },
          "metadata": {}
        },
        {
          "output_type": "display_data",
          "data": {
            "text/plain": [
              "<IPython.core.display.HTML object>"
            ],
            "text/html": [
              "Syncing run <strong><a href='https://wandb.ai/wilfried-mvomoeto-university-of-li-ge/Binary_Class_Pubmedbert_Attention_DepthSearch/runs/tt0821bv' target=\"_blank\">Depth_1_run</a></strong> to <a href='https://wandb.ai/wilfried-mvomoeto-university-of-li-ge/Binary_Class_Pubmedbert_Attention_DepthSearch' target=\"_blank\">Weights & Biases</a> (<a href='https://wandb.me/developer-guide' target=\"_blank\">docs</a>)<br>"
            ]
          },
          "metadata": {}
        },
        {
          "output_type": "display_data",
          "data": {
            "text/plain": [
              "<IPython.core.display.HTML object>"
            ],
            "text/html": [
              " View project at <a href='https://wandb.ai/wilfried-mvomoeto-university-of-li-ge/Binary_Class_Pubmedbert_Attention_DepthSearch' target=\"_blank\">https://wandb.ai/wilfried-mvomoeto-university-of-li-ge/Binary_Class_Pubmedbert_Attention_DepthSearch</a>"
            ]
          },
          "metadata": {}
        },
        {
          "output_type": "display_data",
          "data": {
            "text/plain": [
              "<IPython.core.display.HTML object>"
            ],
            "text/html": [
              " View run at <a href='https://wandb.ai/wilfried-mvomoeto-university-of-li-ge/Binary_Class_Pubmedbert_Attention_DepthSearch/runs/tt0821bv' target=\"_blank\">https://wandb.ai/wilfried-mvomoeto-university-of-li-ge/Binary_Class_Pubmedbert_Attention_DepthSearch/runs/tt0821bv</a>"
            ]
          },
          "metadata": {}
        },
        {
          "output_type": "stream",
          "name": "stdout",
          "text": [
            "Total trainable parameters (depth=1): 1708033\n"
          ]
        },
        {
          "output_type": "stream",
          "name": "stderr",
          "text": [
            "Evaluating: 100%|██████████| 126/126 [01:28<00:00,  1.42it/s]\n"
          ]
        },
        {
          "output_type": "stream",
          "name": "stdout",
          "text": [
            "Depth: 1 | Epoch 1/4 - TL: 0.3431, VL: 0.2555, TA: 85.61%, VA: 90.15%, F1: 86.55%, Time: 8.73 min\n"
          ]
        },
        {
          "output_type": "stream",
          "name": "stderr",
          "text": [
            "Evaluating: 100%|██████████| 126/126 [01:29<00:00,  1.42it/s]\n"
          ]
        },
        {
          "output_type": "stream",
          "name": "stdout",
          "text": [
            "Depth: 1 | Epoch 2/4 - TL: 0.2450, VL: 0.2381, TA: 90.95%, VA: 90.95%, F1: 87.56%, Time: 8.70 min\n"
          ]
        },
        {
          "output_type": "stream",
          "name": "stderr",
          "text": [
            "Evaluating: 100%|██████████| 126/126 [01:28<00:00,  1.42it/s]\n"
          ]
        },
        {
          "output_type": "stream",
          "name": "stdout",
          "text": [
            "Depth: 1 | Epoch 3/4 - TL: 0.2283, VL: 0.2288, TA: 91.45%, VA: 91.74%, F1: 88.55%, Time: 8.71 min\n"
          ]
        },
        {
          "output_type": "stream",
          "name": "stderr",
          "text": [
            "Evaluating: 100%|██████████| 126/126 [01:28<00:00,  1.42it/s]"
          ]
        },
        {
          "output_type": "stream",
          "name": "stdout",
          "text": [
            "Depth: 1 | Epoch 4/4 - TL: 0.2173, VL: 0.2274, TA: 91.77%, VA: 91.72%, F1: 88.55%, Time: 8.70 min\n"
          ]
        },
        {
          "output_type": "stream",
          "name": "stderr",
          "text": [
            "\n"
          ]
        },
        {
          "output_type": "display_data",
          "data": {
            "text/plain": [
              "<IPython.core.display.HTML object>"
            ],
            "text/html": []
          },
          "metadata": {}
        },
        {
          "output_type": "display_data",
          "data": {
            "text/plain": [
              "<IPython.core.display.HTML object>"
            ],
            "text/html": [
              "<br>    <style><br>        .wandb-row {<br>            display: flex;<br>            flex-direction: row;<br>            flex-wrap: wrap;<br>            justify-content: flex-start;<br>            width: 100%;<br>        }<br>        .wandb-col {<br>            display: flex;<br>            flex-direction: column;<br>            flex-basis: 100%;<br>            flex: 1;<br>            padding: 10px;<br>        }<br>    </style><br><div class=\"wandb-row\"><div class=\"wandb-col\"><h3>Run history:</h3><br/><table class=\"wandb\"><tr><td>train_acc</td><td>▁▇██</td></tr><tr><td>train_loss</td><td>█▃▂▁</td></tr><tr><td>val_acc</td><td>▁▄██</td></tr><tr><td>val_f1</td><td>▁▅██</td></tr><tr><td>val_loss</td><td>█▄▁▁</td></tr></table><br/></div><div class=\"wandb-col\"><h3>Run summary:</h3><br/><table class=\"wandb\"><tr><td>train_acc</td><td>0.91769</td></tr><tr><td>train_loss</td><td>0.21733</td></tr><tr><td>val_acc</td><td>0.91716</td></tr><tr><td>val_f1</td><td>0.88554</td></tr><tr><td>val_loss</td><td>0.22742</td></tr></table><br/></div></div>"
            ]
          },
          "metadata": {}
        },
        {
          "output_type": "display_data",
          "data": {
            "text/plain": [
              "<IPython.core.display.HTML object>"
            ],
            "text/html": [
              " View run <strong style=\"color:#cdcd00\">Depth_1_run</strong> at: <a href='https://wandb.ai/wilfried-mvomoeto-university-of-li-ge/Binary_Class_Pubmedbert_Attention_DepthSearch/runs/tt0821bv' target=\"_blank\">https://wandb.ai/wilfried-mvomoeto-university-of-li-ge/Binary_Class_Pubmedbert_Attention_DepthSearch/runs/tt0821bv</a><br> View project at: <a href='https://wandb.ai/wilfried-mvomoeto-university-of-li-ge/Binary_Class_Pubmedbert_Attention_DepthSearch' target=\"_blank\">https://wandb.ai/wilfried-mvomoeto-university-of-li-ge/Binary_Class_Pubmedbert_Attention_DepthSearch</a><br>Synced 5 W&B file(s), 0 media file(s), 0 artifact file(s) and 0 other file(s)"
            ]
          },
          "metadata": {}
        },
        {
          "output_type": "display_data",
          "data": {
            "text/plain": [
              "<IPython.core.display.HTML object>"
            ],
            "text/html": [
              "Find logs at: <code>./wandb/run-20250424_054204-tt0821bv/logs</code>"
            ]
          },
          "metadata": {}
        },
        {
          "output_type": "stream",
          "name": "stdout",
          "text": [
            "\n",
            "🔹 Training with GRU depth: 2\n"
          ]
        },
        {
          "output_type": "display_data",
          "data": {
            "text/plain": [
              "<IPython.core.display.HTML object>"
            ],
            "text/html": [
              "Tracking run with wandb version 0.19.10"
            ]
          },
          "metadata": {}
        },
        {
          "output_type": "display_data",
          "data": {
            "text/plain": [
              "<IPython.core.display.HTML object>"
            ],
            "text/html": [
              "Run data is saved locally in <code>/content/wandb/run-20250424_061657-8kdw1xo4</code>"
            ]
          },
          "metadata": {}
        },
        {
          "output_type": "display_data",
          "data": {
            "text/plain": [
              "<IPython.core.display.HTML object>"
            ],
            "text/html": [
              "Syncing run <strong><a href='https://wandb.ai/wilfried-mvomoeto-university-of-li-ge/Binary_Class_Pubmedbert_Attention_DepthSearch/runs/8kdw1xo4' target=\"_blank\">Depth_2_run</a></strong> to <a href='https://wandb.ai/wilfried-mvomoeto-university-of-li-ge/Binary_Class_Pubmedbert_Attention_DepthSearch' target=\"_blank\">Weights & Biases</a> (<a href='https://wandb.me/developer-guide' target=\"_blank\">docs</a>)<br>"
            ]
          },
          "metadata": {}
        },
        {
          "output_type": "display_data",
          "data": {
            "text/plain": [
              "<IPython.core.display.HTML object>"
            ],
            "text/html": [
              " View project at <a href='https://wandb.ai/wilfried-mvomoeto-university-of-li-ge/Binary_Class_Pubmedbert_Attention_DepthSearch' target=\"_blank\">https://wandb.ai/wilfried-mvomoeto-university-of-li-ge/Binary_Class_Pubmedbert_Attention_DepthSearch</a>"
            ]
          },
          "metadata": {}
        },
        {
          "output_type": "display_data",
          "data": {
            "text/plain": [
              "<IPython.core.display.HTML object>"
            ],
            "text/html": [
              " View run at <a href='https://wandb.ai/wilfried-mvomoeto-university-of-li-ge/Binary_Class_Pubmedbert_Attention_DepthSearch/runs/8kdw1xo4' target=\"_blank\">https://wandb.ai/wilfried-mvomoeto-university-of-li-ge/Binary_Class_Pubmedbert_Attention_DepthSearch/runs/8kdw1xo4</a>"
            ]
          },
          "metadata": {}
        },
        {
          "output_type": "stream",
          "name": "stdout",
          "text": [
            "Total trainable parameters (depth=2): 1708033\n"
          ]
        },
        {
          "output_type": "stream",
          "name": "stderr",
          "text": [
            "Evaluating: 100%|██████████| 126/126 [01:28<00:00,  1.42it/s]\n"
          ]
        },
        {
          "output_type": "stream",
          "name": "stdout",
          "text": [
            "Depth: 2 | Epoch 1/4 - TL: 0.3435, VL: 0.2567, TA: 85.34%, VA: 90.35%, F1: 86.84%, Time: 8.70 min\n"
          ]
        },
        {
          "output_type": "stream",
          "name": "stderr",
          "text": [
            "Evaluating: 100%|██████████| 126/126 [01:28<00:00,  1.42it/s]\n"
          ]
        },
        {
          "output_type": "stream",
          "name": "stdout",
          "text": [
            "Depth: 2 | Epoch 2/4 - TL: 0.2474, VL: 0.2468, TA: 90.77%, VA: 90.72%, F1: 87.42%, Time: 8.71 min\n"
          ]
        },
        {
          "output_type": "stream",
          "name": "stderr",
          "text": [
            "Evaluating: 100%|██████████| 126/126 [01:29<00:00,  1.41it/s]\n"
          ]
        },
        {
          "output_type": "stream",
          "name": "stdout",
          "text": [
            "Depth: 2 | Epoch 3/4 - TL: 0.2307, VL: 0.2368, TA: 91.33%, VA: 91.34%, F1: 88.16%, Time: 8.71 min\n"
          ]
        },
        {
          "output_type": "stream",
          "name": "stderr",
          "text": [
            "Evaluating: 100%|██████████| 126/126 [01:28<00:00,  1.42it/s]"
          ]
        },
        {
          "output_type": "stream",
          "name": "stdout",
          "text": [
            "Depth: 2 | Epoch 4/4 - TL: 0.2191, VL: 0.2335, TA: 91.75%, VA: 91.25%, F1: 88.01%, Time: 8.72 min\n"
          ]
        },
        {
          "output_type": "stream",
          "name": "stderr",
          "text": [
            "\n"
          ]
        },
        {
          "output_type": "display_data",
          "data": {
            "text/plain": [
              "<IPython.core.display.HTML object>"
            ],
            "text/html": []
          },
          "metadata": {}
        },
        {
          "output_type": "display_data",
          "data": {
            "text/plain": [
              "<IPython.core.display.HTML object>"
            ],
            "text/html": [
              "<br>    <style><br>        .wandb-row {<br>            display: flex;<br>            flex-direction: row;<br>            flex-wrap: wrap;<br>            justify-content: flex-start;<br>            width: 100%;<br>        }<br>        .wandb-col {<br>            display: flex;<br>            flex-direction: column;<br>            flex-basis: 100%;<br>            flex: 1;<br>            padding: 10px;<br>        }<br>    </style><br><div class=\"wandb-row\"><div class=\"wandb-col\"><h3>Run history:</h3><br/><table class=\"wandb\"><tr><td>train_acc</td><td>▁▇██</td></tr><tr><td>train_loss</td><td>█▃▂▁</td></tr><tr><td>val_acc</td><td>▁▄█▇</td></tr><tr><td>val_f1</td><td>▁▄█▇</td></tr><tr><td>val_loss</td><td>█▅▂▁</td></tr></table><br/></div><div class=\"wandb-col\"><h3>Run summary:</h3><br/><table class=\"wandb\"><tr><td>train_acc</td><td>0.91753</td></tr><tr><td>train_loss</td><td>0.21906</td></tr><tr><td>val_acc</td><td>0.91245</td></tr><tr><td>val_f1</td><td>0.88014</td></tr><tr><td>val_loss</td><td>0.23352</td></tr></table><br/></div></div>"
            ]
          },
          "metadata": {}
        },
        {
          "output_type": "display_data",
          "data": {
            "text/plain": [
              "<IPython.core.display.HTML object>"
            ],
            "text/html": [
              " View run <strong style=\"color:#cdcd00\">Depth_2_run</strong> at: <a href='https://wandb.ai/wilfried-mvomoeto-university-of-li-ge/Binary_Class_Pubmedbert_Attention_DepthSearch/runs/8kdw1xo4' target=\"_blank\">https://wandb.ai/wilfried-mvomoeto-university-of-li-ge/Binary_Class_Pubmedbert_Attention_DepthSearch/runs/8kdw1xo4</a><br> View project at: <a href='https://wandb.ai/wilfried-mvomoeto-university-of-li-ge/Binary_Class_Pubmedbert_Attention_DepthSearch' target=\"_blank\">https://wandb.ai/wilfried-mvomoeto-university-of-li-ge/Binary_Class_Pubmedbert_Attention_DepthSearch</a><br>Synced 5 W&B file(s), 0 media file(s), 0 artifact file(s) and 0 other file(s)"
            ]
          },
          "metadata": {}
        },
        {
          "output_type": "display_data",
          "data": {
            "text/plain": [
              "<IPython.core.display.HTML object>"
            ],
            "text/html": [
              "Find logs at: <code>./wandb/run-20250424_061657-8kdw1xo4/logs</code>"
            ]
          },
          "metadata": {}
        },
        {
          "output_type": "stream",
          "name": "stdout",
          "text": [
            "\n",
            "🔹 Training with GRU depth: 3\n"
          ]
        },
        {
          "output_type": "display_data",
          "data": {
            "text/plain": [
              "<IPython.core.display.HTML object>"
            ],
            "text/html": [
              "Tracking run with wandb version 0.19.10"
            ]
          },
          "metadata": {}
        },
        {
          "output_type": "display_data",
          "data": {
            "text/plain": [
              "<IPython.core.display.HTML object>"
            ],
            "text/html": [
              "Run data is saved locally in <code>/content/wandb/run-20250424_065148-axsed5li</code>"
            ]
          },
          "metadata": {}
        },
        {
          "output_type": "display_data",
          "data": {
            "text/plain": [
              "<IPython.core.display.HTML object>"
            ],
            "text/html": [
              "Syncing run <strong><a href='https://wandb.ai/wilfried-mvomoeto-university-of-li-ge/Binary_Class_Pubmedbert_Attention_DepthSearch/runs/axsed5li' target=\"_blank\">Depth_3_run</a></strong> to <a href='https://wandb.ai/wilfried-mvomoeto-university-of-li-ge/Binary_Class_Pubmedbert_Attention_DepthSearch' target=\"_blank\">Weights & Biases</a> (<a href='https://wandb.me/developer-guide' target=\"_blank\">docs</a>)<br>"
            ]
          },
          "metadata": {}
        },
        {
          "output_type": "display_data",
          "data": {
            "text/plain": [
              "<IPython.core.display.HTML object>"
            ],
            "text/html": [
              " View project at <a href='https://wandb.ai/wilfried-mvomoeto-university-of-li-ge/Binary_Class_Pubmedbert_Attention_DepthSearch' target=\"_blank\">https://wandb.ai/wilfried-mvomoeto-university-of-li-ge/Binary_Class_Pubmedbert_Attention_DepthSearch</a>"
            ]
          },
          "metadata": {}
        },
        {
          "output_type": "display_data",
          "data": {
            "text/plain": [
              "<IPython.core.display.HTML object>"
            ],
            "text/html": [
              " View run at <a href='https://wandb.ai/wilfried-mvomoeto-university-of-li-ge/Binary_Class_Pubmedbert_Attention_DepthSearch/runs/axsed5li' target=\"_blank\">https://wandb.ai/wilfried-mvomoeto-university-of-li-ge/Binary_Class_Pubmedbert_Attention_DepthSearch/runs/axsed5li</a>"
            ]
          },
          "metadata": {}
        },
        {
          "output_type": "stream",
          "name": "stdout",
          "text": [
            "Total trainable parameters (depth=3): 1708033\n"
          ]
        },
        {
          "output_type": "stream",
          "name": "stderr",
          "text": [
            "Evaluating: 100%|██████████| 126/126 [01:28<00:00,  1.42it/s]\n"
          ]
        },
        {
          "output_type": "stream",
          "name": "stdout",
          "text": [
            "Depth: 3 | Epoch 1/4 - TL: 0.3505, VL: 0.2558, TA: 84.98%, VA: 90.23%, F1: 86.64%, Time: 8.70 min\n"
          ]
        },
        {
          "output_type": "stream",
          "name": "stderr",
          "text": [
            "Evaluating: 100%|██████████| 126/126 [01:28<00:00,  1.42it/s]\n"
          ]
        },
        {
          "output_type": "stream",
          "name": "stdout",
          "text": [
            "Depth: 3 | Epoch 2/4 - TL: 0.2436, VL: 0.2376, TA: 90.83%, VA: 91.32%, F1: 88.09%, Time: 8.69 min\n"
          ]
        },
        {
          "output_type": "stream",
          "name": "stderr",
          "text": [
            "Evaluating: 100%|██████████| 126/126 [01:28<00:00,  1.42it/s]\n"
          ]
        },
        {
          "output_type": "stream",
          "name": "stdout",
          "text": [
            "Depth: 3 | Epoch 3/4 - TL: 0.2275, VL: 0.2328, TA: 91.53%, VA: 91.32%, F1: 88.18%, Time: 8.70 min\n"
          ]
        },
        {
          "output_type": "stream",
          "name": "stderr",
          "text": [
            "Evaluating: 100%|██████████| 126/126 [01:28<00:00,  1.42it/s]"
          ]
        },
        {
          "output_type": "stream",
          "name": "stdout",
          "text": [
            "Depth: 3 | Epoch 4/4 - TL: 0.2153, VL: 0.2282, TA: 91.86%, VA: 91.54%, F1: 88.07%, Time: 8.70 min\n"
          ]
        },
        {
          "output_type": "stream",
          "name": "stderr",
          "text": [
            "\n"
          ]
        },
        {
          "output_type": "display_data",
          "data": {
            "text/plain": [
              "<IPython.core.display.HTML object>"
            ],
            "text/html": []
          },
          "metadata": {}
        },
        {
          "output_type": "display_data",
          "data": {
            "text/plain": [
              "<IPython.core.display.HTML object>"
            ],
            "text/html": [
              "<br>    <style><br>        .wandb-row {<br>            display: flex;<br>            flex-direction: row;<br>            flex-wrap: wrap;<br>            justify-content: flex-start;<br>            width: 100%;<br>        }<br>        .wandb-col {<br>            display: flex;<br>            flex-direction: column;<br>            flex-basis: 100%;<br>            flex: 1;<br>            padding: 10px;<br>        }<br>    </style><br><div class=\"wandb-row\"><div class=\"wandb-col\"><h3>Run history:</h3><br/><table class=\"wandb\"><tr><td>train_acc</td><td>▁▇██</td></tr><tr><td>train_loss</td><td>█▂▂▁</td></tr><tr><td>val_acc</td><td>▁▇▇█</td></tr><tr><td>val_f1</td><td>▁███</td></tr><tr><td>val_loss</td><td>█▃▂▁</td></tr></table><br/></div><div class=\"wandb-col\"><h3>Run summary:</h3><br/><table class=\"wandb\"><tr><td>train_acc</td><td>0.91859</td></tr><tr><td>train_loss</td><td>0.21526</td></tr><tr><td>val_acc</td><td>0.91543</td></tr><tr><td>val_f1</td><td>0.88073</td></tr><tr><td>val_loss</td><td>0.22821</td></tr></table><br/></div></div>"
            ]
          },
          "metadata": {}
        },
        {
          "output_type": "display_data",
          "data": {
            "text/plain": [
              "<IPython.core.display.HTML object>"
            ],
            "text/html": [
              " View run <strong style=\"color:#cdcd00\">Depth_3_run</strong> at: <a href='https://wandb.ai/wilfried-mvomoeto-university-of-li-ge/Binary_Class_Pubmedbert_Attention_DepthSearch/runs/axsed5li' target=\"_blank\">https://wandb.ai/wilfried-mvomoeto-university-of-li-ge/Binary_Class_Pubmedbert_Attention_DepthSearch/runs/axsed5li</a><br> View project at: <a href='https://wandb.ai/wilfried-mvomoeto-university-of-li-ge/Binary_Class_Pubmedbert_Attention_DepthSearch' target=\"_blank\">https://wandb.ai/wilfried-mvomoeto-university-of-li-ge/Binary_Class_Pubmedbert_Attention_DepthSearch</a><br>Synced 5 W&B file(s), 0 media file(s), 0 artifact file(s) and 0 other file(s)"
            ]
          },
          "metadata": {}
        },
        {
          "output_type": "display_data",
          "data": {
            "text/plain": [
              "<IPython.core.display.HTML object>"
            ],
            "text/html": [
              "Find logs at: <code>./wandb/run-20250424_065148-axsed5li/logs</code>"
            ]
          },
          "metadata": {}
        }
      ],
      "source": [
        "depth_values = [1, 2, 3]\n",
        "num_epochs = 4\n",
        "learning_rate = 1e-4\n",
        "weight_decay = 1e-10\n",
        "criterion = nn.BCEWithLogitsLoss()\n",
        "\n",
        "all_train_losses = {}\n",
        "all_val_losses = {}\n",
        "all_train_accs = {}\n",
        "all_val_accs = {}\n",
        "\n",
        "for depth in depth_values:\n",
        "    print(f\"\\n🔹 Training with GRU depth: {depth}\")\n",
        "\n",
        "    model = PubMedBERT_GRU_Attention(BERT_DIM, HIDDEN_DIM, dropout_prob=DROPOUT).to(device)\n",
        "    optimizer = optim.Adam(model.parameters(), lr=learning_rate, weight_decay=weight_decay)\n",
        "    scheduler = ReduceLROnPlateau(optimizer, mode='min', factor=0.5, patience=2, verbose=True)\n",
        "\n",
        "    wandb.init(entity='wilfried-mvomoeto-university-of-li-ge',\n",
        "        project='Binary_Class_Pubmedbert_Attention_DepthSearch',\n",
        "        name=f\"Depth_{depth}_run\",\n",
        "        config={\n",
        "            'learning_rate': learning_rate,\n",
        "            'num_epochs': num_epochs,\n",
        "            'optimizer': 'Adam',\n",
        "            'gru_depth': depth,\n",
        "            'model': 'PubMedBERT_Bi_GRU_Bahdanau_Attention',\n",
        "            'hidden_dim': HIDDEN_DIM,\n",
        "            'dropout_prob': DROPOUT\n",
        "        }\n",
        "    )\n",
        "\n",
        "    num_params = sum(p.numel() for p in model.parameters() if p.requires_grad)\n",
        "    print(f\"Total trainable parameters (depth={depth}): {num_params}\")\n",
        "\n",
        "    train_losses, val_losses = [], []\n",
        "    train_accs, val_accs = [], []\n",
        "    best_val_loss = float('inf')\n",
        "\n",
        "    for epoch in range(num_epochs):\n",
        "        start_time = time.time()\n",
        "\n",
        "        train_loss, train_acc = train_model(model, train_loader, optimizer, criterion, device)\n",
        "        val_acc, f1, val_loss = evaluate_model(model, val_loader, criterion, device)\n",
        "\n",
        "        train_losses.append(train_loss)\n",
        "        train_accs.append(train_acc)\n",
        "        val_losses.append(val_loss)\n",
        "        val_accs.append(val_acc)\n",
        "\n",
        "        end_time = time.time()\n",
        "        duration = end_time - start_time\n",
        "\n",
        "        print(\n",
        "            f\"Depth: {depth} | Epoch {epoch+1}/{num_epochs} - \"\n",
        "            f\"TL: {train_loss:.4f}, VL: {val_loss:.4f}, \"\n",
        "            f\"TA: {train_acc:.2%}, VA: {val_acc:.2%}, F1: {f1:.2%}, \"\n",
        "            f\"Time: {duration/60:.2f} min\"\n",
        "        )\n",
        "\n",
        "        wandb.log({\n",
        "            'train_loss': train_loss,\n",
        "            'val_loss': val_loss,\n",
        "            'train_acc': train_acc,\n",
        "            'val_acc': val_acc,\n",
        "            'val_f1': f1,\n",
        "        })\n",
        "\n",
        "        scheduler.step(val_loss)\n",
        "\n",
        "    all_train_losses[f'depth_{depth}'] = train_losses\n",
        "    all_val_losses[f'depth_{depth}'] = val_losses\n",
        "    all_train_accs[f'depth_{depth}'] = train_accs\n",
        "    all_val_accs[f'depth_{depth}'] = val_accs\n",
        "\n",
        "    wandb.finish()"
      ]
    },
    {
      "cell_type": "markdown",
      "metadata": {
        "id": "n-MZh2WJ9g8B"
      },
      "source": [
        "1.3 Leanring rate value selection"
      ]
    },
    {
      "cell_type": "code",
      "execution_count": null,
      "metadata": {
        "id": "WIx3G_8f9foL",
        "colab": {
          "base_uri": "https://localhost:8080/",
          "height": 1000
        },
        "outputId": "edb3453d-b19e-468a-b360-2676a6c82e98"
      },
      "outputs": [
        {
          "output_type": "stream",
          "name": "stdout",
          "text": [
            "\n",
            "🔹 Training with learning rate: 9e-05\n"
          ]
        },
        {
          "output_type": "display_data",
          "data": {
            "text/plain": [
              "<IPython.core.display.Javascript object>"
            ],
            "application/javascript": [
              "\n",
              "        window._wandbApiKey = new Promise((resolve, reject) => {\n",
              "            function loadScript(url) {\n",
              "            return new Promise(function(resolve, reject) {\n",
              "                let newScript = document.createElement(\"script\");\n",
              "                newScript.onerror = reject;\n",
              "                newScript.onload = resolve;\n",
              "                document.body.appendChild(newScript);\n",
              "                newScript.src = url;\n",
              "            });\n",
              "            }\n",
              "            loadScript(\"https://cdn.jsdelivr.net/npm/postmate/build/postmate.min.js\").then(() => {\n",
              "            const iframe = document.createElement('iframe')\n",
              "            iframe.style.cssText = \"width:0;height:0;border:none\"\n",
              "            document.body.appendChild(iframe)\n",
              "            const handshake = new Postmate({\n",
              "                container: iframe,\n",
              "                url: 'https://wandb.ai/authorize'\n",
              "            });\n",
              "            const timeout = setTimeout(() => reject(\"Couldn't auto authenticate\"), 5000)\n",
              "            handshake.then(function(child) {\n",
              "                child.on('authorize', data => {\n",
              "                    clearTimeout(timeout)\n",
              "                    resolve(data)\n",
              "                });\n",
              "            });\n",
              "            })\n",
              "        });\n",
              "    "
            ]
          },
          "metadata": {}
        },
        {
          "output_type": "stream",
          "name": "stderr",
          "text": [
            "\u001b[34m\u001b[1mwandb\u001b[0m: Logging into wandb.ai. (Learn how to deploy a W&B server locally: https://wandb.me/wandb-server)\n",
            "\u001b[34m\u001b[1mwandb\u001b[0m: You can find your API key in your browser here: https://wandb.ai/authorize?ref=models\n",
            "wandb: Paste an API key from your profile and hit enter:"
          ]
        },
        {
          "name": "stdout",
          "output_type": "stream",
          "text": [
            " ··········\n"
          ]
        },
        {
          "output_type": "stream",
          "name": "stderr",
          "text": [
            "\u001b[34m\u001b[1mwandb\u001b[0m: \u001b[33mWARNING\u001b[0m If you're specifying your api key in code, ensure this code is not shared publicly.\n",
            "\u001b[34m\u001b[1mwandb\u001b[0m: \u001b[33mWARNING\u001b[0m Consider setting the WANDB_API_KEY environment variable, or running `wandb login` from the command line.\n",
            "\u001b[34m\u001b[1mwandb\u001b[0m: No netrc file found, creating one.\n",
            "\u001b[34m\u001b[1mwandb\u001b[0m: Appending key for api.wandb.ai to your netrc file: /root/.netrc\n",
            "\u001b[34m\u001b[1mwandb\u001b[0m: Currently logged in as: \u001b[33mwilfried-mvomoeto\u001b[0m to \u001b[32mhttps://api.wandb.ai\u001b[0m. Use \u001b[1m`wandb login --relogin`\u001b[0m to force relogin\n"
          ]
        },
        {
          "output_type": "display_data",
          "data": {
            "text/plain": [
              "<IPython.core.display.HTML object>"
            ],
            "text/html": [
              "Tracking run with wandb version 0.19.10"
            ]
          },
          "metadata": {}
        },
        {
          "output_type": "display_data",
          "data": {
            "text/plain": [
              "<IPython.core.display.HTML object>"
            ],
            "text/html": [
              "Run data is saved locally in <code>/content/wandb/run-20250424_113229-68t9t6a5</code>"
            ]
          },
          "metadata": {}
        },
        {
          "output_type": "display_data",
          "data": {
            "text/plain": [
              "<IPython.core.display.HTML object>"
            ],
            "text/html": [
              "Syncing run <strong><a href='https://wandb.ai/wilfried-mvomoeto-university-of-li-ge/Binary_Class_Pubmedbert_Attention_LRTuning/runs/68t9t6a5' target=\"_blank\">LR_9e-05_run</a></strong> to <a href='https://wandb.ai/wilfried-mvomoeto-university-of-li-ge/Binary_Class_Pubmedbert_Attention_LRTuning' target=\"_blank\">Weights & Biases</a> (<a href='https://wandb.me/developer-guide' target=\"_blank\">docs</a>)<br>"
            ]
          },
          "metadata": {}
        },
        {
          "output_type": "display_data",
          "data": {
            "text/plain": [
              "<IPython.core.display.HTML object>"
            ],
            "text/html": [
              " View project at <a href='https://wandb.ai/wilfried-mvomoeto-university-of-li-ge/Binary_Class_Pubmedbert_Attention_LRTuning' target=\"_blank\">https://wandb.ai/wilfried-mvomoeto-university-of-li-ge/Binary_Class_Pubmedbert_Attention_LRTuning</a>"
            ]
          },
          "metadata": {}
        },
        {
          "output_type": "display_data",
          "data": {
            "text/plain": [
              "<IPython.core.display.HTML object>"
            ],
            "text/html": [
              " View run at <a href='https://wandb.ai/wilfried-mvomoeto-university-of-li-ge/Binary_Class_Pubmedbert_Attention_LRTuning/runs/68t9t6a5' target=\"_blank\">https://wandb.ai/wilfried-mvomoeto-university-of-li-ge/Binary_Class_Pubmedbert_Attention_LRTuning/runs/68t9t6a5</a>"
            ]
          },
          "metadata": {}
        },
        {
          "output_type": "stream",
          "name": "stdout",
          "text": [
            "Total trainable parameters (lr=9e-05): 1708033\n"
          ]
        },
        {
          "output_type": "stream",
          "name": "stderr",
          "text": [
            "Evaluating: 100%|██████████| 126/126 [01:32<00:00,  1.36it/s]\n"
          ]
        },
        {
          "output_type": "stream",
          "name": "stdout",
          "text": [
            "LR: 9e-05 | Epoch 1/4 - TL: 0.3718, VL: 0.2652, TA: 83.88%, VA: 90.10%, F1: 86.41%, Time: 9.09 min\n"
          ]
        },
        {
          "output_type": "stream",
          "name": "stderr",
          "text": [
            "Evaluating: 100%|██████████| 126/126 [01:32<00:00,  1.36it/s]\n"
          ]
        },
        {
          "output_type": "stream",
          "name": "stdout",
          "text": [
            "LR: 9e-05 | Epoch 2/4 - TL: 0.2555, VL: 0.2472, TA: 90.57%, VA: 90.77%, F1: 87.23%, Time: 9.09 min\n"
          ]
        },
        {
          "output_type": "stream",
          "name": "stderr",
          "text": [
            "Evaluating: 100%|██████████| 126/126 [01:32<00:00,  1.36it/s]\n"
          ]
        },
        {
          "output_type": "stream",
          "name": "stdout",
          "text": [
            "LR: 9e-05 | Epoch 3/4 - TL: 0.2400, VL: 0.2384, TA: 91.08%, VA: 91.37%, F1: 88.00%, Time: 9.09 min\n"
          ]
        },
        {
          "output_type": "stream",
          "name": "stderr",
          "text": [
            "Evaluating: 100%|██████████| 126/126 [01:32<00:00,  1.36it/s]"
          ]
        },
        {
          "output_type": "stream",
          "name": "stdout",
          "text": [
            "LR: 9e-05 | Epoch 4/4 - TL: 0.2305, VL: 0.2352, TA: 91.38%, VA: 91.34%, F1: 88.08%, Time: 9.09 min\n"
          ]
        },
        {
          "output_type": "stream",
          "name": "stderr",
          "text": [
            "\n"
          ]
        },
        {
          "output_type": "display_data",
          "data": {
            "text/plain": [
              "<IPython.core.display.HTML object>"
            ],
            "text/html": []
          },
          "metadata": {}
        },
        {
          "output_type": "display_data",
          "data": {
            "text/plain": [
              "<IPython.core.display.HTML object>"
            ],
            "text/html": [
              "<br>    <style><br>        .wandb-row {<br>            display: flex;<br>            flex-direction: row;<br>            flex-wrap: wrap;<br>            justify-content: flex-start;<br>            width: 100%;<br>        }<br>        .wandb-col {<br>            display: flex;<br>            flex-direction: column;<br>            flex-basis: 100%;<br>            flex: 1;<br>            padding: 10px;<br>        }<br>    </style><br><div class=\"wandb-row\"><div class=\"wandb-col\"><h3>Run history:</h3><br/><table class=\"wandb\"><tr><td>train_acc</td><td>▁▇██</td></tr><tr><td>train_loss</td><td>█▂▁▁</td></tr><tr><td>val_acc</td><td>▁▅██</td></tr><tr><td>val_f1</td><td>▁▄██</td></tr><tr><td>val_loss</td><td>█▄▂▁</td></tr></table><br/></div><div class=\"wandb-col\"><h3>Run summary:</h3><br/><table class=\"wandb\"><tr><td>train_acc</td><td>0.91375</td></tr><tr><td>train_loss</td><td>0.23053</td></tr><tr><td>val_acc</td><td>0.91344</td></tr><tr><td>val_f1</td><td>0.88077</td></tr><tr><td>val_loss</td><td>0.23516</td></tr></table><br/></div></div>"
            ]
          },
          "metadata": {}
        },
        {
          "output_type": "display_data",
          "data": {
            "text/plain": [
              "<IPython.core.display.HTML object>"
            ],
            "text/html": [
              " View run <strong style=\"color:#cdcd00\">LR_9e-05_run</strong> at: <a href='https://wandb.ai/wilfried-mvomoeto-university-of-li-ge/Binary_Class_Pubmedbert_Attention_LRTuning/runs/68t9t6a5' target=\"_blank\">https://wandb.ai/wilfried-mvomoeto-university-of-li-ge/Binary_Class_Pubmedbert_Attention_LRTuning/runs/68t9t6a5</a><br> View project at: <a href='https://wandb.ai/wilfried-mvomoeto-university-of-li-ge/Binary_Class_Pubmedbert_Attention_LRTuning' target=\"_blank\">https://wandb.ai/wilfried-mvomoeto-university-of-li-ge/Binary_Class_Pubmedbert_Attention_LRTuning</a><br>Synced 5 W&B file(s), 0 media file(s), 0 artifact file(s) and 0 other file(s)"
            ]
          },
          "metadata": {}
        },
        {
          "output_type": "display_data",
          "data": {
            "text/plain": [
              "<IPython.core.display.HTML object>"
            ],
            "text/html": [
              "Find logs at: <code>./wandb/run-20250424_113229-68t9t6a5/logs</code>"
            ]
          },
          "metadata": {}
        },
        {
          "output_type": "stream",
          "name": "stdout",
          "text": [
            "\n",
            "🔹 Training with learning rate: 0.0003\n"
          ]
        },
        {
          "output_type": "display_data",
          "data": {
            "text/plain": [
              "<IPython.core.display.HTML object>"
            ],
            "text/html": [
              "Tracking run with wandb version 0.19.10"
            ]
          },
          "metadata": {}
        },
        {
          "output_type": "display_data",
          "data": {
            "text/plain": [
              "<IPython.core.display.HTML object>"
            ],
            "text/html": [
              "Run data is saved locally in <code>/content/wandb/run-20250424_120852-86y474cj</code>"
            ]
          },
          "metadata": {}
        },
        {
          "output_type": "display_data",
          "data": {
            "text/plain": [
              "<IPython.core.display.HTML object>"
            ],
            "text/html": [
              "Syncing run <strong><a href='https://wandb.ai/wilfried-mvomoeto-university-of-li-ge/Binary_Class_Pubmedbert_Attention_LRTuning/runs/86y474cj' target=\"_blank\">LR_0.0003_run</a></strong> to <a href='https://wandb.ai/wilfried-mvomoeto-university-of-li-ge/Binary_Class_Pubmedbert_Attention_LRTuning' target=\"_blank\">Weights & Biases</a> (<a href='https://wandb.me/developer-guide' target=\"_blank\">docs</a>)<br>"
            ]
          },
          "metadata": {}
        },
        {
          "output_type": "display_data",
          "data": {
            "text/plain": [
              "<IPython.core.display.HTML object>"
            ],
            "text/html": [
              " View project at <a href='https://wandb.ai/wilfried-mvomoeto-university-of-li-ge/Binary_Class_Pubmedbert_Attention_LRTuning' target=\"_blank\">https://wandb.ai/wilfried-mvomoeto-university-of-li-ge/Binary_Class_Pubmedbert_Attention_LRTuning</a>"
            ]
          },
          "metadata": {}
        },
        {
          "output_type": "display_data",
          "data": {
            "text/plain": [
              "<IPython.core.display.HTML object>"
            ],
            "text/html": [
              " View run at <a href='https://wandb.ai/wilfried-mvomoeto-university-of-li-ge/Binary_Class_Pubmedbert_Attention_LRTuning/runs/86y474cj' target=\"_blank\">https://wandb.ai/wilfried-mvomoeto-university-of-li-ge/Binary_Class_Pubmedbert_Attention_LRTuning/runs/86y474cj</a>"
            ]
          },
          "metadata": {}
        },
        {
          "output_type": "stream",
          "name": "stdout",
          "text": [
            "Total trainable parameters (lr=0.0003): 1708033\n"
          ]
        },
        {
          "output_type": "stream",
          "name": "stderr",
          "text": [
            "Evaluating: 100%|██████████| 126/126 [01:32<00:00,  1.36it/s]\n"
          ]
        },
        {
          "output_type": "stream",
          "name": "stdout",
          "text": [
            "LR: 0.0003 | Epoch 1/4 - TL: 0.3052, VL: 0.2465, TA: 87.67%, VA: 91.07%, F1: 87.34%, Time: 9.09 min\n"
          ]
        },
        {
          "output_type": "stream",
          "name": "stderr",
          "text": [
            "Evaluating: 100%|██████████| 126/126 [01:32<00:00,  1.36it/s]\n"
          ]
        },
        {
          "output_type": "stream",
          "name": "stdout",
          "text": [
            "LR: 0.0003 | Epoch 2/4 - TL: 0.2444, VL: 0.2386, TA: 91.08%, VA: 91.47%, F1: 88.23%, Time: 9.09 min\n"
          ]
        },
        {
          "output_type": "stream",
          "name": "stderr",
          "text": [
            "Evaluating: 100%|██████████| 126/126 [01:32<00:00,  1.36it/s]\n"
          ]
        },
        {
          "output_type": "stream",
          "name": "stdout",
          "text": [
            "LR: 0.0003 | Epoch 3/4 - TL: 0.2357, VL: 0.2802, TA: 91.19%, VA: 90.00%, F1: 86.97%, Time: 9.09 min\n"
          ]
        },
        {
          "output_type": "stream",
          "name": "stderr",
          "text": [
            "Evaluating: 100%|██████████| 126/126 [01:32<00:00,  1.36it/s]"
          ]
        },
        {
          "output_type": "stream",
          "name": "stdout",
          "text": [
            "LR: 0.0003 | Epoch 4/4 - TL: 0.2292, VL: 0.2432, TA: 91.46%, VA: 90.50%, F1: 86.33%, Time: 9.09 min\n"
          ]
        },
        {
          "output_type": "stream",
          "name": "stderr",
          "text": [
            "\n"
          ]
        },
        {
          "output_type": "display_data",
          "data": {
            "text/plain": [
              "<IPython.core.display.HTML object>"
            ],
            "text/html": []
          },
          "metadata": {}
        },
        {
          "output_type": "display_data",
          "data": {
            "text/plain": [
              "<IPython.core.display.HTML object>"
            ],
            "text/html": [
              "<br>    <style><br>        .wandb-row {<br>            display: flex;<br>            flex-direction: row;<br>            flex-wrap: wrap;<br>            justify-content: flex-start;<br>            width: 100%;<br>        }<br>        .wandb-col {<br>            display: flex;<br>            flex-direction: column;<br>            flex-basis: 100%;<br>            flex: 1;<br>            padding: 10px;<br>        }<br>    </style><br><div class=\"wandb-row\"><div class=\"wandb-col\"><h3>Run history:</h3><br/><table class=\"wandb\"><tr><td>train_acc</td><td>▁▇▇█</td></tr><tr><td>train_loss</td><td>█▂▂▁</td></tr><tr><td>val_acc</td><td>▆█▁▃</td></tr><tr><td>val_f1</td><td>▅█▃▁</td></tr><tr><td>val_loss</td><td>▂▁█▂</td></tr></table><br/></div><div class=\"wandb-col\"><h3>Run summary:</h3><br/><table class=\"wandb\"><tr><td>train_acc</td><td>0.9146</td></tr><tr><td>train_loss</td><td>0.22922</td></tr><tr><td>val_acc</td><td>0.90501</td></tr><tr><td>val_f1</td><td>0.86326</td></tr><tr><td>val_loss</td><td>0.24323</td></tr></table><br/></div></div>"
            ]
          },
          "metadata": {}
        },
        {
          "output_type": "display_data",
          "data": {
            "text/plain": [
              "<IPython.core.display.HTML object>"
            ],
            "text/html": [
              " View run <strong style=\"color:#cdcd00\">LR_0.0003_run</strong> at: <a href='https://wandb.ai/wilfried-mvomoeto-university-of-li-ge/Binary_Class_Pubmedbert_Attention_LRTuning/runs/86y474cj' target=\"_blank\">https://wandb.ai/wilfried-mvomoeto-university-of-li-ge/Binary_Class_Pubmedbert_Attention_LRTuning/runs/86y474cj</a><br> View project at: <a href='https://wandb.ai/wilfried-mvomoeto-university-of-li-ge/Binary_Class_Pubmedbert_Attention_LRTuning' target=\"_blank\">https://wandb.ai/wilfried-mvomoeto-university-of-li-ge/Binary_Class_Pubmedbert_Attention_LRTuning</a><br>Synced 5 W&B file(s), 0 media file(s), 0 artifact file(s) and 0 other file(s)"
            ]
          },
          "metadata": {}
        },
        {
          "output_type": "display_data",
          "data": {
            "text/plain": [
              "<IPython.core.display.HTML object>"
            ],
            "text/html": [
              "Find logs at: <code>./wandb/run-20250424_120852-86y474cj/logs</code>"
            ]
          },
          "metadata": {}
        },
        {
          "output_type": "stream",
          "name": "stdout",
          "text": [
            "\n",
            "🔹 Training with learning rate: 5e-05\n"
          ]
        },
        {
          "output_type": "display_data",
          "data": {
            "text/plain": [
              "<IPython.core.display.HTML object>"
            ],
            "text/html": [
              "Tracking run with wandb version 0.19.10"
            ]
          },
          "metadata": {}
        },
        {
          "output_type": "display_data",
          "data": {
            "text/plain": [
              "<IPython.core.display.HTML object>"
            ],
            "text/html": [
              "Run data is saved locally in <code>/content/wandb/run-20250424_124516-ieii3tk7</code>"
            ]
          },
          "metadata": {}
        },
        {
          "output_type": "display_data",
          "data": {
            "text/plain": [
              "<IPython.core.display.HTML object>"
            ],
            "text/html": [
              "Syncing run <strong><a href='https://wandb.ai/wilfried-mvomoeto-university-of-li-ge/Binary_Class_Pubmedbert_Attention_LRTuning/runs/ieii3tk7' target=\"_blank\">LR_5e-05_run</a></strong> to <a href='https://wandb.ai/wilfried-mvomoeto-university-of-li-ge/Binary_Class_Pubmedbert_Attention_LRTuning' target=\"_blank\">Weights & Biases</a> (<a href='https://wandb.me/developer-guide' target=\"_blank\">docs</a>)<br>"
            ]
          },
          "metadata": {}
        },
        {
          "output_type": "display_data",
          "data": {
            "text/plain": [
              "<IPython.core.display.HTML object>"
            ],
            "text/html": [
              " View project at <a href='https://wandb.ai/wilfried-mvomoeto-university-of-li-ge/Binary_Class_Pubmedbert_Attention_LRTuning' target=\"_blank\">https://wandb.ai/wilfried-mvomoeto-university-of-li-ge/Binary_Class_Pubmedbert_Attention_LRTuning</a>"
            ]
          },
          "metadata": {}
        },
        {
          "output_type": "display_data",
          "data": {
            "text/plain": [
              "<IPython.core.display.HTML object>"
            ],
            "text/html": [
              " View run at <a href='https://wandb.ai/wilfried-mvomoeto-university-of-li-ge/Binary_Class_Pubmedbert_Attention_LRTuning/runs/ieii3tk7' target=\"_blank\">https://wandb.ai/wilfried-mvomoeto-university-of-li-ge/Binary_Class_Pubmedbert_Attention_LRTuning/runs/ieii3tk7</a>"
            ]
          },
          "metadata": {}
        },
        {
          "output_type": "stream",
          "name": "stdout",
          "text": [
            "Total trainable parameters (lr=5e-05): 1708033\n"
          ]
        },
        {
          "output_type": "stream",
          "name": "stderr",
          "text": [
            "Evaluating: 100%|██████████| 126/126 [01:32<00:00,  1.36it/s]\n"
          ]
        },
        {
          "output_type": "stream",
          "name": "stdout",
          "text": [
            "LR: 5e-05 | Epoch 1/4 - TL: 0.4382, VL: 0.3142, TA: 79.32%, VA: 87.43%, F1: 82.70%, Time: 9.08 min\n"
          ]
        },
        {
          "output_type": "stream",
          "name": "stderr",
          "text": [
            "Evaluating: 100%|██████████| 126/126 [01:32<00:00,  1.36it/s]\n"
          ]
        },
        {
          "output_type": "stream",
          "name": "stdout",
          "text": [
            "LR: 5e-05 | Epoch 2/4 - TL: 0.2888, VL: 0.2694, TA: 88.77%, VA: 89.43%, F1: 85.58%, Time: 9.09 min\n"
          ]
        },
        {
          "output_type": "stream",
          "name": "stderr",
          "text": [
            "Evaluating: 100%|██████████| 126/126 [01:32<00:00,  1.36it/s]\n"
          ]
        },
        {
          "output_type": "stream",
          "name": "stdout",
          "text": [
            "LR: 5e-05 | Epoch 3/4 - TL: 0.2548, VL: 0.2557, TA: 90.49%, VA: 90.20%, F1: 86.66%, Time: 9.08 min\n"
          ]
        },
        {
          "output_type": "stream",
          "name": "stderr",
          "text": [
            "Evaluating: 100%|██████████| 126/126 [01:32<00:00,  1.36it/s]"
          ]
        },
        {
          "output_type": "stream",
          "name": "stdout",
          "text": [
            "LR: 5e-05 | Epoch 4/4 - TL: 0.2429, VL: 0.2476, TA: 90.85%, VA: 90.72%, F1: 87.20%, Time: 9.09 min\n"
          ]
        },
        {
          "output_type": "stream",
          "name": "stderr",
          "text": [
            "\n"
          ]
        },
        {
          "output_type": "display_data",
          "data": {
            "text/plain": [
              "<IPython.core.display.HTML object>"
            ],
            "text/html": []
          },
          "metadata": {}
        },
        {
          "output_type": "display_data",
          "data": {
            "text/plain": [
              "<IPython.core.display.HTML object>"
            ],
            "text/html": [
              "<br>    <style><br>        .wandb-row {<br>            display: flex;<br>            flex-direction: row;<br>            flex-wrap: wrap;<br>            justify-content: flex-start;<br>            width: 100%;<br>        }<br>        .wandb-col {<br>            display: flex;<br>            flex-direction: column;<br>            flex-basis: 100%;<br>            flex: 1;<br>            padding: 10px;<br>        }<br>    </style><br><div class=\"wandb-row\"><div class=\"wandb-col\"><h3>Run history:</h3><br/><table class=\"wandb\"><tr><td>train_acc</td><td>▁▇██</td></tr><tr><td>train_loss</td><td>█▃▁▁</td></tr><tr><td>val_acc</td><td>▁▅▇█</td></tr><tr><td>val_f1</td><td>▁▅▇█</td></tr><tr><td>val_loss</td><td>█▃▂▁</td></tr></table><br/></div><div class=\"wandb-col\"><h3>Run summary:</h3><br/><table class=\"wandb\"><tr><td>train_acc</td><td>0.90849</td></tr><tr><td>train_loss</td><td>0.24291</td></tr><tr><td>val_acc</td><td>0.90724</td></tr><tr><td>val_f1</td><td>0.87201</td></tr><tr><td>val_loss</td><td>0.2476</td></tr></table><br/></div></div>"
            ]
          },
          "metadata": {}
        },
        {
          "output_type": "display_data",
          "data": {
            "text/plain": [
              "<IPython.core.display.HTML object>"
            ],
            "text/html": [
              " View run <strong style=\"color:#cdcd00\">LR_5e-05_run</strong> at: <a href='https://wandb.ai/wilfried-mvomoeto-university-of-li-ge/Binary_Class_Pubmedbert_Attention_LRTuning/runs/ieii3tk7' target=\"_blank\">https://wandb.ai/wilfried-mvomoeto-university-of-li-ge/Binary_Class_Pubmedbert_Attention_LRTuning/runs/ieii3tk7</a><br> View project at: <a href='https://wandb.ai/wilfried-mvomoeto-university-of-li-ge/Binary_Class_Pubmedbert_Attention_LRTuning' target=\"_blank\">https://wandb.ai/wilfried-mvomoeto-university-of-li-ge/Binary_Class_Pubmedbert_Attention_LRTuning</a><br>Synced 5 W&B file(s), 0 media file(s), 0 artifact file(s) and 0 other file(s)"
            ]
          },
          "metadata": {}
        },
        {
          "output_type": "display_data",
          "data": {
            "text/plain": [
              "<IPython.core.display.HTML object>"
            ],
            "text/html": [
              "Find logs at: <code>./wandb/run-20250424_124516-ieii3tk7/logs</code>"
            ]
          },
          "metadata": {}
        }
      ],
      "source": [
        "learning_rates = [9e-5, 3e-4, 5e-5]\n",
        "num_epochs = 4\n",
        "criterion = nn.BCEWithLogitsLoss()\n",
        "learning_rate = 1e-4\n",
        "\n",
        "all_train_losses = {}\n",
        "all_val_losses = {}\n",
        "all_train_accs = {}\n",
        "all_val_accs = {}\n",
        "\n",
        "for lr in learning_rates:\n",
        "    print(f\"\\n🔹 Training with learning rate: {lr}\")\n",
        "\n",
        "    model = PubMedBERT_GRU_Attention(BERT_DIM, HIDDEN_DIM, dropout_prob=DROPOUT).to(device)\n",
        "    optimizer = optim.Adam(model.parameters(), lr=lr, weight_decay=1e-3)\n",
        "    scheduler = ReduceLROnPlateau(optimizer, mode='min', factor=0.5, patience=2, verbose=True)\n",
        "\n",
        "    wandb.init(entity='wilfried-mvomoeto-university-of-li-ge',\n",
        "        project='Binary_Class_Pubmedbert_Attention_LRTuning',\n",
        "        name=f\"LR_{lr}_run\",\n",
        "        config={\n",
        "            'learning_rate': lr,\n",
        "            'num_epochs': num_epochs,\n",
        "            'optimizer': 'Adam',\n",
        "            'gru_depth': 1,\n",
        "            'model': 'PubMedBERT_Bi_GRU_Bahdanau_Attention',\n",
        "            'hidden_dim': HIDDEN_DIM,\n",
        "            'dropout_prob': DROPOUT\n",
        "        }\n",
        "    )\n",
        "\n",
        "    num_params = sum(p.numel() for p in model.parameters() if p.requires_grad)\n",
        "    print(f\"Total trainable parameters (lr={lr}): {num_params}\")\n",
        "\n",
        "    train_losses, val_losses = [], []\n",
        "    train_accs, val_accs = [], []\n",
        "    best_val_loss = float('inf')\n",
        "\n",
        "    for epoch in range(num_epochs):\n",
        "        start_time = time.time()\n",
        "\n",
        "        train_loss, train_acc = train_model(model, train_loader, optimizer, criterion, device)\n",
        "        val_acc, f1, val_loss = evaluate_model(model, val_loader, criterion, device)\n",
        "\n",
        "        train_losses.append(train_loss)\n",
        "        train_accs.append(train_acc)\n",
        "        val_losses.append(val_loss)\n",
        "        val_accs.append(val_acc)\n",
        "\n",
        "        end_time = time.time()\n",
        "        duration = end_time - start_time\n",
        "\n",
        "        print(\n",
        "            f\"LR: {lr} | Epoch {epoch+1}/{num_epochs} - \"\n",
        "            f\"TL: {train_loss:.4f}, VL: {val_loss:.4f}, \"\n",
        "            f\"TA: {train_acc:.2%}, VA: {val_acc:.2%}, F1: {f1:.2%}, \"\n",
        "            f\"Time: {duration/60:.2f} min\"\n",
        "        )\n",
        "\n",
        "        wandb.log({\n",
        "            'train_loss': train_loss,\n",
        "            'val_loss': val_loss,\n",
        "            'train_acc': train_acc,\n",
        "            'val_acc': val_acc,\n",
        "            'val_f1': f1,\n",
        "        })\n",
        "\n",
        "        scheduler.step(val_loss)\n",
        "\n",
        "    all_train_losses[f'lr_{lr}'] = train_losses\n",
        "    all_val_losses[f'lr_{lr}'] = val_losses\n",
        "    all_train_accs[f'lr_{lr}'] = train_accs\n",
        "    all_val_accs[f'lr_{lr}'] = val_accs\n",
        "\n",
        "    wandb.finish()"
      ]
    },
    {
      "cell_type": "markdown",
      "source": [
        "---\n",
        "# 2. **BioBERT as contextual embeddings - GRU - Bahdanau Attention**\n",
        "\n",
        "---"
      ],
      "metadata": {
        "id": "P4janEjyfBQY"
      }
    },
    {
      "cell_type": "code",
      "source": [
        "biobert_model_name = \"dmis-lab/biobert-base-cased-v1.1\"\n",
        "tokenizer_bioBert = AutoTokenizer.from_pretrained(biobert_model_name)\n",
        "biobert = AutoModel.from_pretrained(biobert_model_name).to(device)"
      ],
      "metadata": {
        "id": "V2lyZd1afMZ8",
        "colab": {
          "base_uri": "https://localhost:8080/",
          "height": 145,
          "referenced_widgets": [
            "33544f45affd4e0ea46b17527bffb138",
            "4834086695424b99b1f71aafa5f074ba",
            "e3931dddfe0d4e42acfa1d8ed546fcef",
            "ee9f9a0fa1314a428593c055360fd658",
            "088c569a6b9942ed928c1d251dc0caf1",
            "5ad862502de7404fa5daed74815ad19f",
            "db5e3ac16aa349bda78b1066617c23bd",
            "74b94c0ec87146f18cee029228e4108f",
            "cb9a53b1ef3a4a7f997e2cbaead8ebb1",
            "bbb046d9af0d4b92bc5e0af985bdd559",
            "2ca77469ad464f32badf3f4678bc083b",
            "a242019b8e3740b7ad3d5e9b78036985",
            "6e11329e139d44f58244c098a23396f8",
            "f36ad4fda9fa4495813e45fb7eff0ab2",
            "94aa6b02342845e4ae7e2fe68cef558f",
            "55c2e7df775d4ae38624867fe1d73968",
            "686f36a0209d4c51980f2c68788ea160",
            "2eabca08a3804853b84c317e05509c2c",
            "9f7f3d65fadd42baa8bb584dabc0d48a",
            "f26f2ff60ac849dcb028c802ed7187c5",
            "3e2bb80337754619b58e1ccf206e6f7d",
            "c93aa4d197444c5fa22c540dce504702",
            "a73147e5c9034085bd1745646360f41d",
            "bfa964cb77b14133bdc273f34383710c",
            "b9fb8a9b806b45eabb25c12245271b0a",
            "b4f5a15f794f48f9806825296f5d4a4a",
            "f6fe04e74a1c4985a19a5a353603ca4c",
            "41df7ab00cb24ddd8f48f83ad797ff9d",
            "fd1681259c59484095bcea0995c801f8",
            "152ed48c8e80420c927c3545eae13ac5",
            "508812ef08b949899aa1283019a5c91d",
            "64cc6c41b20043eb8d152e11b8e19e08",
            "0e7d0a56f54049ca96cf27b6de318730",
            "0aecdfb1e4ad4456a58782536ea36aa4",
            "9e49cbd5352c4a4e97b6e153f8499a21",
            "350854e84ed74a20936d7fce76ec83c1",
            "be356cb53bdc45abae13e8b1bf162693",
            "9b991b8328484f50a0414a834eb4820c",
            "630cf99485bd40c4b91df2e070fafc87",
            "6fed087c688043e0b97791aa3d534a2b",
            "23ece8446bda40d4948ae7368b783ebf",
            "c1028fbef9ba4200a29e153a06978eb7",
            "dff5a98960634769a82bfb245457741a",
            "82f726ab47df48308c8d1ed05e43e2be"
          ]
        },
        "outputId": "303d27f7-4bbb-4cbe-84a5-842a064e74df"
      },
      "execution_count": 14,
      "outputs": [
        {
          "output_type": "display_data",
          "data": {
            "text/plain": [
              "config.json:   0%|          | 0.00/313 [00:00<?, ?B/s]"
            ],
            "application/vnd.jupyter.widget-view+json": {
              "version_major": 2,
              "version_minor": 0,
              "model_id": "33544f45affd4e0ea46b17527bffb138"
            }
          },
          "metadata": {}
        },
        {
          "output_type": "display_data",
          "data": {
            "text/plain": [
              "vocab.txt:   0%|          | 0.00/213k [00:00<?, ?B/s]"
            ],
            "application/vnd.jupyter.widget-view+json": {
              "version_major": 2,
              "version_minor": 0,
              "model_id": "a242019b8e3740b7ad3d5e9b78036985"
            }
          },
          "metadata": {}
        },
        {
          "output_type": "display_data",
          "data": {
            "text/plain": [
              "pytorch_model.bin:   0%|          | 0.00/436M [00:00<?, ?B/s]"
            ],
            "application/vnd.jupyter.widget-view+json": {
              "version_major": 2,
              "version_minor": 0,
              "model_id": "a73147e5c9034085bd1745646360f41d"
            }
          },
          "metadata": {}
        },
        {
          "output_type": "display_data",
          "data": {
            "text/plain": [
              "model.safetensors:   0%|          | 0.00/436M [00:00<?, ?B/s]"
            ],
            "application/vnd.jupyter.widget-view+json": {
              "version_major": 2,
              "version_minor": 0,
              "model_id": "0aecdfb1e4ad4456a58782536ea36aa4"
            }
          },
          "metadata": {}
        }
      ]
    },
    {
      "cell_type": "markdown",
      "source": [
        "Data preparation with biobert as contextual embeddings"
      ],
      "metadata": {
        "id": "NyZkSZXUnw_z"
      }
    },
    {
      "cell_type": "code",
      "source": [
        "class BioBERTDataset(Dataset):\n",
        "    \"\"\"\n",
        "    PyTorch Dataset class for preparing text data for BioBERT-based classification tasks.\n",
        "\n",
        "    This dataset takes raw text inputs and their corresponding labels, and applies\n",
        "    tokenization using a provided tokenizer (e.g., BioBERT's tokenizer). It returns\n",
        "    inputs in the format expected by HuggingFace Transformers models.\n",
        "\n",
        "    Attributes:\n",
        "        texts (List[str]): Original list of input text samples.\n",
        "        encodings (Dict[str, torch.Tensor]): Tokenized and encoded text inputs.\n",
        "        labels (torch.Tensor): Corresponding class labels for each input.\n",
        "\n",
        "    Args:\n",
        "        texts (List[str]): List of raw text samples.\n",
        "        labels (List[int]): List of integer labels corresponding to each text.\n",
        "        tokenizer (transformers.PreTrainedTokenizer): A HuggingFace-compatible tokenizer.\n",
        "        max_length (int, optional): Maximum sequence length for tokenization. Default is 400.\n",
        "\n",
        "    Returns:\n",
        "        Dict[str, torch.Tensor]: Dictionary containing input_ids, attention_mask, labels,\n",
        "                                 and the original text string.\n",
        "    \"\"\"\n",
        "    def __init__(self, texts, labels, tokenizer, max_length=400):\n",
        "        self.texts = texts\n",
        "        self.encodings = tokenizer(\n",
        "            texts,\n",
        "            padding='max_length',\n",
        "            truncation=True,\n",
        "            max_length=max_length,\n",
        "            return_tensors='pt'\n",
        "        )\n",
        "        self.labels = torch.tensor(labels, dtype=torch.long)\n",
        "\n",
        "    def __getitem__(self, idx):\n",
        "        item = {key: val[idx] for key, val in self.encodings.items()}\n",
        "        item['labels'] = self.labels[idx]\n",
        "        item['text'] = self.texts[idx]\n",
        "        return item\n",
        "\n",
        "    def __len__(self):\n",
        "        return len(self.labels)"
      ],
      "metadata": {
        "id": "lqs1U1UtnLlj"
      },
      "execution_count": 15,
      "outputs": []
    },
    {
      "cell_type": "code",
      "source": [
        "train_dataset = BioBERTDataset(X_train.tolist(), y_train, tokenizer_bioBert)\n",
        "val_dataset = BioBERTDataset(X_val.tolist(), y_val, tokenizer_bioBert)\n",
        "test_dataset = BioBERTDataset(X_test.tolist(), y_test, tokenizer_bioBert)\n",
        "\n",
        "train_loader = DataLoader(train_dataset, batch_size=BATCH_SIZE, shuffle=True)\n",
        "val_loader = DataLoader(val_dataset, batch_size=BATCH_SIZE, shuffle=False)\n",
        "test_loader = DataLoader(test_dataset, batch_size=BATCH_SIZE, shuffle=False)\n",
        "\n",
        "# Optional: Combine train + val if needed\n",
        "combined_dataset = ConcatDataset([train_dataset, val_dataset])\n",
        "combined_loader = DataLoader(combined_dataset, batch_size=BATCH_SIZE, shuffle=True)"
      ],
      "metadata": {
        "id": "spA8_Zt5nNW0"
      },
      "execution_count": 16,
      "outputs": []
    },
    {
      "cell_type": "code",
      "source": [
        "class BioBERT_GRU_Attention(nn.Module):\n",
        "    def __init__(self, encoder, bert_dim, hidden_dim, num_layers=1, dropout_prob=0.6):\n",
        "        super(BioBERT_GRU_Attention, self).__init__()\n",
        "        self.encoder = encoder\n",
        "        self.gru = nn.GRU(\n",
        "            input_size=bert_dim,\n",
        "            hidden_size=hidden_dim,\n",
        "            num_layers=num_layers,\n",
        "            batch_first=True,\n",
        "            bidirectional=True\n",
        "        )\n",
        "        self.attention = BahdanauAttention(hidden_dim)\n",
        "        self.fc = nn.Linear(hidden_dim * 2, 1)\n",
        "        self.dropout = nn.Dropout(dropout_prob)\n",
        "\n",
        "    def forward(self, input_ids, attention_mask):\n",
        "        with torch.no_grad():\n",
        "            bert_outputs = self.encoder(input_ids=input_ids, attention_mask=attention_mask)\n",
        "        bert_embeds = bert_outputs.last_hidden_state\n",
        "        gru_out, _ = self.gru(bert_embeds)\n",
        "        context = self.attention(gru_out)\n",
        "        x = self.dropout(context)\n",
        "        output = self.fc(x)\n",
        "        return output"
      ],
      "metadata": {
        "id": "ZnzeGuazfA_O"
      },
      "execution_count": 17,
      "outputs": []
    },
    {
      "cell_type": "code",
      "source": [
        "# Define model hyperparameters\n",
        "BERT_DIM = 768\n",
        "HIDDEN_DIM = 256\n",
        "DROPOUT = 0.6\n",
        "\n",
        "model = BioBERT_GRU_Attention(biobert, BERT_DIM, HIDDEN_DIM, dropout_prob=DROPOUT).to(device)\n",
        "print(model)"
      ],
      "metadata": {
        "id": "KR69tT2WfA71",
        "colab": {
          "base_uri": "https://localhost:8080/"
        },
        "outputId": "3c50e2ca-29a8-447d-90ce-7bbc07943137"
      },
      "execution_count": 18,
      "outputs": [
        {
          "output_type": "stream",
          "name": "stdout",
          "text": [
            "BioBERT_GRU_Attention(\n",
            "  (encoder): BertModel(\n",
            "    (embeddings): BertEmbeddings(\n",
            "      (word_embeddings): Embedding(28996, 768, padding_idx=0)\n",
            "      (position_embeddings): Embedding(512, 768)\n",
            "      (token_type_embeddings): Embedding(2, 768)\n",
            "      (LayerNorm): LayerNorm((768,), eps=1e-12, elementwise_affine=True)\n",
            "      (dropout): Dropout(p=0.1, inplace=False)\n",
            "    )\n",
            "    (encoder): BertEncoder(\n",
            "      (layer): ModuleList(\n",
            "        (0-11): 12 x BertLayer(\n",
            "          (attention): BertAttention(\n",
            "            (self): BertSdpaSelfAttention(\n",
            "              (query): Linear(in_features=768, out_features=768, bias=True)\n",
            "              (key): Linear(in_features=768, out_features=768, bias=True)\n",
            "              (value): Linear(in_features=768, out_features=768, bias=True)\n",
            "              (dropout): Dropout(p=0.1, inplace=False)\n",
            "            )\n",
            "            (output): BertSelfOutput(\n",
            "              (dense): Linear(in_features=768, out_features=768, bias=True)\n",
            "              (LayerNorm): LayerNorm((768,), eps=1e-12, elementwise_affine=True)\n",
            "              (dropout): Dropout(p=0.1, inplace=False)\n",
            "            )\n",
            "          )\n",
            "          (intermediate): BertIntermediate(\n",
            "            (dense): Linear(in_features=768, out_features=3072, bias=True)\n",
            "            (intermediate_act_fn): GELUActivation()\n",
            "          )\n",
            "          (output): BertOutput(\n",
            "            (dense): Linear(in_features=3072, out_features=768, bias=True)\n",
            "            (LayerNorm): LayerNorm((768,), eps=1e-12, elementwise_affine=True)\n",
            "            (dropout): Dropout(p=0.1, inplace=False)\n",
            "          )\n",
            "        )\n",
            "      )\n",
            "    )\n",
            "    (pooler): BertPooler(\n",
            "      (dense): Linear(in_features=768, out_features=768, bias=True)\n",
            "      (activation): Tanh()\n",
            "    )\n",
            "  )\n",
            "  (gru): GRU(768, 256, batch_first=True, bidirectional=True)\n",
            "  (attention): BahdanauAttention(\n",
            "    (W): Linear(in_features=512, out_features=256, bias=True)\n",
            "    (v): Linear(in_features=256, out_features=1, bias=False)\n",
            "  )\n",
            "  (fc): Linear(in_features=512, out_features=1, bias=True)\n",
            "  (dropout): Dropout(p=0.6, inplace=False)\n",
            ")\n"
          ]
        }
      ]
    },
    {
      "cell_type": "markdown",
      "source": [
        "---\n",
        "# 2.1 **Optimisation phase**"
      ],
      "metadata": {
        "id": "7j7JOgbUmcVl"
      }
    },
    {
      "cell_type": "markdown",
      "source": [
        "2.1.1 Optimizer selection"
      ],
      "metadata": {
        "id": "kuBCfV8dmjfp"
      }
    },
    {
      "cell_type": "code",
      "source": [
        "num_epochs = 4\n",
        "learning_rate = 1e-4\n",
        "weight_decay = 1e-10\n",
        "criterion = nn.BCEWithLogitsLoss()\n",
        "\n",
        "optimizers = {\n",
        "    'Adam': optim.Adam,\n",
        "    'AdamW': optim.AdamW,\n",
        "    'RMSprop': optim.RMSprop,\n",
        "}\n",
        "\n",
        "all_train_losses = {}\n",
        "all_val_losses = {}\n",
        "all_train_accs = {}\n",
        "all_val_accs = {}\n",
        "\n",
        "for optimizer_name, optimizer_class in optimizers.items():\n",
        "    print(f\"\\n🔹 Training with optimizer: {optimizer_name}\")\n",
        "\n",
        "    model = BioBERT_GRU_Attention(biobert, BERT_DIM, HIDDEN_DIM, dropout_prob=DROPOUT).to(device)\n",
        "    print(model)\n",
        "\n",
        "    optimizer = optimizer_class(model.parameters(), lr=learning_rate, weight_decay=weight_decay)\n",
        "    scheduler = ReduceLROnPlateau(optimizer, mode='min', factor=0.5, patience=2, verbose=True)\n",
        "\n",
        "    wandb.init(entity='wilfried-mvomoeto-university-of-li-ge', project='Binary_Class_Biobert_Attention_OptimizerSearch', name=f\"{optimizer_name}_run\", config={\n",
        "        'learning_rate': learning_rate,\n",
        "        'num_epochs': num_epochs,\n",
        "        'optimizer': optimizer_name,\n",
        "        'model': 'BioBERT_Bi_GRU_Bahdanau_Attention',\n",
        "        'hidden_dim': HIDDEN_DIM,\n",
        "        'dropout_prob': DROPOUT\n",
        "    })\n",
        "\n",
        "    num_params = sum(p.numel() for p in model.parameters() if p.requires_grad)\n",
        "    print(f\"Total trainable parameters: {num_params}\")\n",
        "\n",
        "    train_losses, val_losses = [], []\n",
        "    train_accs, val_accs = [], []\n",
        "    best_val_loss = float('inf')\n",
        "\n",
        "    for epoch in range(num_epochs):\n",
        "        start_time = time.time()\n",
        "\n",
        "        train_loss, train_acc = train_model(model, train_loader, optimizer, criterion, device)\n",
        "        train_losses.append(train_loss)\n",
        "        train_accs.append(train_acc)\n",
        "\n",
        "        val_acc, f1, val_loss = evaluate_model(model, val_loader, criterion, device)\n",
        "        val_accs.append(val_acc)\n",
        "        val_losses.append(val_loss)\n",
        "\n",
        "        end_time = time.time()\n",
        "        duration = end_time - start_time\n",
        "\n",
        "        print(\n",
        "            f\"Opt: {optimizer_name} | Epoch {epoch+1}/{num_epochs} - \"\n",
        "            f\"TL: {train_loss:.4f}, VL: {val_loss:.4f}, \"\n",
        "            f\"TA: {train_acc:.2%}, VA: {val_acc:.2%}, F1: {f1:.2%}, \"\n",
        "            f\"Time: {duration/60:.2f} min\"\n",
        "        )\n",
        "\n",
        "        wandb.log({\n",
        "            'train_loss': train_loss,\n",
        "            'val_loss': val_loss,\n",
        "            'train_acc': train_acc,\n",
        "            'val_acc': val_acc,\n",
        "            'val_f1': f1,\n",
        "        })\n",
        "\n",
        "        scheduler.step(val_loss)\n",
        "\n",
        "    all_train_losses[optimizer_name] = train_losses\n",
        "    all_val_losses[optimizer_name] = val_losses\n",
        "    all_train_accs[optimizer_name] = train_accs\n",
        "    all_val_accs[optimizer_name] = val_accs\n",
        "\n",
        "    wandb.finish()"
      ],
      "metadata": {
        "id": "oH8KHVHcfA4-",
        "colab": {
          "base_uri": "https://localhost:8080/",
          "height": 1000
        },
        "outputId": "636314a7-d9b7-4d7f-b258-d29430077a45"
      },
      "execution_count": null,
      "outputs": [
        {
          "output_type": "stream",
          "name": "stdout",
          "text": [
            "\n",
            "🔹 Training with optimizer: Adam\n",
            "BioBERT_GRU_Attention(\n",
            "  (encoder): BertModel(\n",
            "    (embeddings): BertEmbeddings(\n",
            "      (word_embeddings): Embedding(28996, 768, padding_idx=0)\n",
            "      (position_embeddings): Embedding(512, 768)\n",
            "      (token_type_embeddings): Embedding(2, 768)\n",
            "      (LayerNorm): LayerNorm((768,), eps=1e-12, elementwise_affine=True)\n",
            "      (dropout): Dropout(p=0.1, inplace=False)\n",
            "    )\n",
            "    (encoder): BertEncoder(\n",
            "      (layer): ModuleList(\n",
            "        (0-11): 12 x BertLayer(\n",
            "          (attention): BertAttention(\n",
            "            (self): BertSdpaSelfAttention(\n",
            "              (query): Linear(in_features=768, out_features=768, bias=True)\n",
            "              (key): Linear(in_features=768, out_features=768, bias=True)\n",
            "              (value): Linear(in_features=768, out_features=768, bias=True)\n",
            "              (dropout): Dropout(p=0.1, inplace=False)\n",
            "            )\n",
            "            (output): BertSelfOutput(\n",
            "              (dense): Linear(in_features=768, out_features=768, bias=True)\n",
            "              (LayerNorm): LayerNorm((768,), eps=1e-12, elementwise_affine=True)\n",
            "              (dropout): Dropout(p=0.1, inplace=False)\n",
            "            )\n",
            "          )\n",
            "          (intermediate): BertIntermediate(\n",
            "            (dense): Linear(in_features=768, out_features=3072, bias=True)\n",
            "            (intermediate_act_fn): GELUActivation()\n",
            "          )\n",
            "          (output): BertOutput(\n",
            "            (dense): Linear(in_features=3072, out_features=768, bias=True)\n",
            "            (LayerNorm): LayerNorm((768,), eps=1e-12, elementwise_affine=True)\n",
            "            (dropout): Dropout(p=0.1, inplace=False)\n",
            "          )\n",
            "        )\n",
            "      )\n",
            "    )\n",
            "    (pooler): BertPooler(\n",
            "      (dense): Linear(in_features=768, out_features=768, bias=True)\n",
            "      (activation): Tanh()\n",
            "    )\n",
            "  )\n",
            "  (gru): GRU(768, 256, batch_first=True, bidirectional=True)\n",
            "  (attention): BahdanauAttention(\n",
            "    (W): Linear(in_features=512, out_features=256, bias=True)\n",
            "    (v): Linear(in_features=256, out_features=1, bias=False)\n",
            "  )\n",
            "  (fc): Linear(in_features=512, out_features=1, bias=True)\n",
            "  (dropout): Dropout(p=0.6, inplace=False)\n",
            ")\n"
          ]
        },
        {
          "output_type": "display_data",
          "data": {
            "text/plain": [
              "<IPython.core.display.Javascript object>"
            ],
            "application/javascript": [
              "\n",
              "        window._wandbApiKey = new Promise((resolve, reject) => {\n",
              "            function loadScript(url) {\n",
              "            return new Promise(function(resolve, reject) {\n",
              "                let newScript = document.createElement(\"script\");\n",
              "                newScript.onerror = reject;\n",
              "                newScript.onload = resolve;\n",
              "                document.body.appendChild(newScript);\n",
              "                newScript.src = url;\n",
              "            });\n",
              "            }\n",
              "            loadScript(\"https://cdn.jsdelivr.net/npm/postmate/build/postmate.min.js\").then(() => {\n",
              "            const iframe = document.createElement('iframe')\n",
              "            iframe.style.cssText = \"width:0;height:0;border:none\"\n",
              "            document.body.appendChild(iframe)\n",
              "            const handshake = new Postmate({\n",
              "                container: iframe,\n",
              "                url: 'https://wandb.ai/authorize'\n",
              "            });\n",
              "            const timeout = setTimeout(() => reject(\"Couldn't auto authenticate\"), 5000)\n",
              "            handshake.then(function(child) {\n",
              "                child.on('authorize', data => {\n",
              "                    clearTimeout(timeout)\n",
              "                    resolve(data)\n",
              "                });\n",
              "            });\n",
              "            })\n",
              "        });\n",
              "    "
            ]
          },
          "metadata": {}
        },
        {
          "output_type": "stream",
          "name": "stderr",
          "text": [
            "\u001b[34m\u001b[1mwandb\u001b[0m: Logging into wandb.ai. (Learn how to deploy a W&B server locally: https://wandb.me/wandb-server)\n",
            "\u001b[34m\u001b[1mwandb\u001b[0m: You can find your API key in your browser here: https://wandb.ai/authorize?ref=models\n",
            "wandb: Paste an API key from your profile and hit enter:"
          ]
        },
        {
          "name": "stdout",
          "output_type": "stream",
          "text": [
            " ··········\n"
          ]
        },
        {
          "output_type": "stream",
          "name": "stderr",
          "text": [
            "\u001b[34m\u001b[1mwandb\u001b[0m: \u001b[33mWARNING\u001b[0m If you're specifying your api key in code, ensure this code is not shared publicly.\n",
            "\u001b[34m\u001b[1mwandb\u001b[0m: \u001b[33mWARNING\u001b[0m Consider setting the WANDB_API_KEY environment variable, or running `wandb login` from the command line.\n",
            "\u001b[34m\u001b[1mwandb\u001b[0m: No netrc file found, creating one.\n",
            "\u001b[34m\u001b[1mwandb\u001b[0m: Appending key for api.wandb.ai to your netrc file: /root/.netrc\n",
            "\u001b[34m\u001b[1mwandb\u001b[0m: Currently logged in as: \u001b[33mwilfried-mvomoeto\u001b[0m to \u001b[32mhttps://api.wandb.ai\u001b[0m. Use \u001b[1m`wandb login --relogin`\u001b[0m to force relogin\n"
          ]
        },
        {
          "output_type": "display_data",
          "data": {
            "text/plain": [
              "<IPython.core.display.HTML object>"
            ],
            "text/html": [
              "Tracking run with wandb version 0.19.10"
            ]
          },
          "metadata": {}
        },
        {
          "output_type": "display_data",
          "data": {
            "text/plain": [
              "<IPython.core.display.HTML object>"
            ],
            "text/html": [
              "Run data is saved locally in <code>/content/wandb/run-20250424_180402-rzyyci56</code>"
            ]
          },
          "metadata": {}
        },
        {
          "output_type": "display_data",
          "data": {
            "text/plain": [
              "<IPython.core.display.HTML object>"
            ],
            "text/html": [
              "Syncing run <strong><a href='https://wandb.ai/wilfried-mvomoeto-university-of-li-ge/Binary_Class_Biobert_Attention_OptimizerSearch/runs/rzyyci56' target=\"_blank\">Adam_run</a></strong> to <a href='https://wandb.ai/wilfried-mvomoeto-university-of-li-ge/Binary_Class_Biobert_Attention_OptimizerSearch' target=\"_blank\">Weights & Biases</a> (<a href='https://wandb.me/developer-guide' target=\"_blank\">docs</a>)<br>"
            ]
          },
          "metadata": {}
        },
        {
          "output_type": "display_data",
          "data": {
            "text/plain": [
              "<IPython.core.display.HTML object>"
            ],
            "text/html": [
              " View project at <a href='https://wandb.ai/wilfried-mvomoeto-university-of-li-ge/Binary_Class_Biobert_Attention_OptimizerSearch' target=\"_blank\">https://wandb.ai/wilfried-mvomoeto-university-of-li-ge/Binary_Class_Biobert_Attention_OptimizerSearch</a>"
            ]
          },
          "metadata": {}
        },
        {
          "output_type": "display_data",
          "data": {
            "text/plain": [
              "<IPython.core.display.HTML object>"
            ],
            "text/html": [
              " View run at <a href='https://wandb.ai/wilfried-mvomoeto-university-of-li-ge/Binary_Class_Biobert_Attention_OptimizerSearch/runs/rzyyci56' target=\"_blank\">https://wandb.ai/wilfried-mvomoeto-university-of-li-ge/Binary_Class_Biobert_Attention_OptimizerSearch/runs/rzyyci56</a>"
            ]
          },
          "metadata": {}
        },
        {
          "output_type": "stream",
          "name": "stdout",
          "text": [
            "Total trainable parameters: 110018305\n"
          ]
        },
        {
          "output_type": "stream",
          "name": "stderr",
          "text": [
            "Evaluating: 100%|██████████| 126/126 [01:28<00:00,  1.42it/s]\n"
          ]
        },
        {
          "output_type": "stream",
          "name": "stdout",
          "text": [
            "Opt: Adam | Epoch 1/4 - TL: 0.3588, VL: 0.2746, TA: 84.89%, VA: 89.93%, F1: 86.45%, Time: 8.86 min\n"
          ]
        },
        {
          "output_type": "stream",
          "name": "stderr",
          "text": [
            "Evaluating: 100%|██████████| 126/126 [01:29<00:00,  1.41it/s]\n"
          ]
        },
        {
          "output_type": "stream",
          "name": "stdout",
          "text": [
            "Opt: Adam | Epoch 2/4 - TL: 0.2663, VL: 0.2529, TA: 89.83%, VA: 90.82%, F1: 87.16%, Time: 8.88 min\n"
          ]
        },
        {
          "output_type": "stream",
          "name": "stderr",
          "text": [
            "Evaluating: 100%|██████████| 126/126 [01:28<00:00,  1.42it/s]\n"
          ]
        },
        {
          "output_type": "stream",
          "name": "stdout",
          "text": [
            "Opt: Adam | Epoch 3/4 - TL: 0.2496, VL: 0.2411, TA: 90.61%, VA: 91.29%, F1: 88.03%, Time: 8.88 min\n"
          ]
        },
        {
          "output_type": "stream",
          "name": "stderr",
          "text": [
            "Evaluating: 100%|██████████| 126/126 [01:29<00:00,  1.41it/s]"
          ]
        },
        {
          "output_type": "stream",
          "name": "stdout",
          "text": [
            "Opt: Adam | Epoch 4/4 - TL: 0.2371, VL: 0.2380, TA: 91.17%, VA: 91.32%, F1: 88.01%, Time: 8.88 min\n"
          ]
        },
        {
          "output_type": "stream",
          "name": "stderr",
          "text": [
            "\n"
          ]
        },
        {
          "output_type": "display_data",
          "data": {
            "text/plain": [
              "<IPython.core.display.HTML object>"
            ],
            "text/html": []
          },
          "metadata": {}
        },
        {
          "output_type": "display_data",
          "data": {
            "text/plain": [
              "<IPython.core.display.HTML object>"
            ],
            "text/html": [
              "<br>    <style><br>        .wandb-row {<br>            display: flex;<br>            flex-direction: row;<br>            flex-wrap: wrap;<br>            justify-content: flex-start;<br>            width: 100%;<br>        }<br>        .wandb-col {<br>            display: flex;<br>            flex-direction: column;<br>            flex-basis: 100%;<br>            flex: 1;<br>            padding: 10px;<br>        }<br>    </style><br><div class=\"wandb-row\"><div class=\"wandb-col\"><h3>Run history:</h3><br/><table class=\"wandb\"><tr><td>train_acc</td><td>▁▇▇█</td></tr><tr><td>train_loss</td><td>█▃▂▁</td></tr><tr><td>val_acc</td><td>▁▅██</td></tr><tr><td>val_f1</td><td>▁▄██</td></tr><tr><td>val_loss</td><td>█▄▂▁</td></tr></table><br/></div><div class=\"wandb-col\"><h3>Run summary:</h3><br/><table class=\"wandb\"><tr><td>train_acc</td><td>0.91168</td></tr><tr><td>train_loss</td><td>0.23708</td></tr><tr><td>val_acc</td><td>0.91319</td></tr><tr><td>val_f1</td><td>0.88014</td></tr><tr><td>val_loss</td><td>0.23801</td></tr></table><br/></div></div>"
            ]
          },
          "metadata": {}
        },
        {
          "output_type": "display_data",
          "data": {
            "text/plain": [
              "<IPython.core.display.HTML object>"
            ],
            "text/html": [
              " View run <strong style=\"color:#cdcd00\">Adam_run</strong> at: <a href='https://wandb.ai/wilfried-mvomoeto-university-of-li-ge/Binary_Class_Biobert_Attention_OptimizerSearch/runs/rzyyci56' target=\"_blank\">https://wandb.ai/wilfried-mvomoeto-university-of-li-ge/Binary_Class_Biobert_Attention_OptimizerSearch/runs/rzyyci56</a><br> View project at: <a href='https://wandb.ai/wilfried-mvomoeto-university-of-li-ge/Binary_Class_Biobert_Attention_OptimizerSearch' target=\"_blank\">https://wandb.ai/wilfried-mvomoeto-university-of-li-ge/Binary_Class_Biobert_Attention_OptimizerSearch</a><br>Synced 5 W&B file(s), 0 media file(s), 0 artifact file(s) and 0 other file(s)"
            ]
          },
          "metadata": {}
        },
        {
          "output_type": "display_data",
          "data": {
            "text/plain": [
              "<IPython.core.display.HTML object>"
            ],
            "text/html": [
              "Find logs at: <code>./wandb/run-20250424_180402-rzyyci56/logs</code>"
            ]
          },
          "metadata": {}
        },
        {
          "output_type": "stream",
          "name": "stdout",
          "text": [
            "\n",
            "🔹 Training with optimizer: AdamW\n",
            "BioBERT_GRU_Attention(\n",
            "  (encoder): BertModel(\n",
            "    (embeddings): BertEmbeddings(\n",
            "      (word_embeddings): Embedding(28996, 768, padding_idx=0)\n",
            "      (position_embeddings): Embedding(512, 768)\n",
            "      (token_type_embeddings): Embedding(2, 768)\n",
            "      (LayerNorm): LayerNorm((768,), eps=1e-12, elementwise_affine=True)\n",
            "      (dropout): Dropout(p=0.1, inplace=False)\n",
            "    )\n",
            "    (encoder): BertEncoder(\n",
            "      (layer): ModuleList(\n",
            "        (0-11): 12 x BertLayer(\n",
            "          (attention): BertAttention(\n",
            "            (self): BertSdpaSelfAttention(\n",
            "              (query): Linear(in_features=768, out_features=768, bias=True)\n",
            "              (key): Linear(in_features=768, out_features=768, bias=True)\n",
            "              (value): Linear(in_features=768, out_features=768, bias=True)\n",
            "              (dropout): Dropout(p=0.1, inplace=False)\n",
            "            )\n",
            "            (output): BertSelfOutput(\n",
            "              (dense): Linear(in_features=768, out_features=768, bias=True)\n",
            "              (LayerNorm): LayerNorm((768,), eps=1e-12, elementwise_affine=True)\n",
            "              (dropout): Dropout(p=0.1, inplace=False)\n",
            "            )\n",
            "          )\n",
            "          (intermediate): BertIntermediate(\n",
            "            (dense): Linear(in_features=768, out_features=3072, bias=True)\n",
            "            (intermediate_act_fn): GELUActivation()\n",
            "          )\n",
            "          (output): BertOutput(\n",
            "            (dense): Linear(in_features=3072, out_features=768, bias=True)\n",
            "            (LayerNorm): LayerNorm((768,), eps=1e-12, elementwise_affine=True)\n",
            "            (dropout): Dropout(p=0.1, inplace=False)\n",
            "          )\n",
            "        )\n",
            "      )\n",
            "    )\n",
            "    (pooler): BertPooler(\n",
            "      (dense): Linear(in_features=768, out_features=768, bias=True)\n",
            "      (activation): Tanh()\n",
            "    )\n",
            "  )\n",
            "  (gru): GRU(768, 256, batch_first=True, bidirectional=True)\n",
            "  (attention): BahdanauAttention(\n",
            "    (W): Linear(in_features=512, out_features=256, bias=True)\n",
            "    (v): Linear(in_features=256, out_features=1, bias=False)\n",
            "  )\n",
            "  (fc): Linear(in_features=512, out_features=1, bias=True)\n",
            "  (dropout): Dropout(p=0.6, inplace=False)\n",
            ")\n"
          ]
        },
        {
          "output_type": "display_data",
          "data": {
            "text/plain": [
              "<IPython.core.display.HTML object>"
            ],
            "text/html": [
              "Tracking run with wandb version 0.19.10"
            ]
          },
          "metadata": {}
        },
        {
          "output_type": "display_data",
          "data": {
            "text/plain": [
              "<IPython.core.display.HTML object>"
            ],
            "text/html": [
              "Run data is saved locally in <code>/content/wandb/run-20250424_183940-cv12oo1o</code>"
            ]
          },
          "metadata": {}
        },
        {
          "output_type": "display_data",
          "data": {
            "text/plain": [
              "<IPython.core.display.HTML object>"
            ],
            "text/html": [
              "Syncing run <strong><a href='https://wandb.ai/wilfried-mvomoeto-university-of-li-ge/Binary_Class_Biobert_Attention_OptimizerSearch/runs/cv12oo1o' target=\"_blank\">AdamW_run</a></strong> to <a href='https://wandb.ai/wilfried-mvomoeto-university-of-li-ge/Binary_Class_Biobert_Attention_OptimizerSearch' target=\"_blank\">Weights & Biases</a> (<a href='https://wandb.me/developer-guide' target=\"_blank\">docs</a>)<br>"
            ]
          },
          "metadata": {}
        },
        {
          "output_type": "display_data",
          "data": {
            "text/plain": [
              "<IPython.core.display.HTML object>"
            ],
            "text/html": [
              " View project at <a href='https://wandb.ai/wilfried-mvomoeto-university-of-li-ge/Binary_Class_Biobert_Attention_OptimizerSearch' target=\"_blank\">https://wandb.ai/wilfried-mvomoeto-university-of-li-ge/Binary_Class_Biobert_Attention_OptimizerSearch</a>"
            ]
          },
          "metadata": {}
        },
        {
          "output_type": "display_data",
          "data": {
            "text/plain": [
              "<IPython.core.display.HTML object>"
            ],
            "text/html": [
              " View run at <a href='https://wandb.ai/wilfried-mvomoeto-university-of-li-ge/Binary_Class_Biobert_Attention_OptimizerSearch/runs/cv12oo1o' target=\"_blank\">https://wandb.ai/wilfried-mvomoeto-university-of-li-ge/Binary_Class_Biobert_Attention_OptimizerSearch/runs/cv12oo1o</a>"
            ]
          },
          "metadata": {}
        },
        {
          "output_type": "stream",
          "name": "stdout",
          "text": [
            "Total trainable parameters: 110018305\n"
          ]
        },
        {
          "output_type": "stream",
          "name": "stderr",
          "text": [
            "Evaluating: 100%|██████████| 126/126 [01:29<00:00,  1.41it/s]\n"
          ]
        },
        {
          "output_type": "stream",
          "name": "stdout",
          "text": [
            "Opt: AdamW | Epoch 1/4 - TL: 0.3482, VL: 0.2598, TA: 85.33%, VA: 90.50%, F1: 86.92%, Time: 8.89 min\n"
          ]
        },
        {
          "output_type": "stream",
          "name": "stderr",
          "text": [
            "Evaluating: 100%|██████████| 126/126 [01:28<00:00,  1.42it/s]\n"
          ]
        },
        {
          "output_type": "stream",
          "name": "stdout",
          "text": [
            "Opt: AdamW | Epoch 2/4 - TL: 0.2621, VL: 0.2544, TA: 90.31%, VA: 90.50%, F1: 87.28%, Time: 8.88 min\n"
          ]
        },
        {
          "output_type": "stream",
          "name": "stderr",
          "text": [
            "Evaluating: 100%|██████████| 126/126 [01:29<00:00,  1.41it/s]\n"
          ]
        },
        {
          "output_type": "stream",
          "name": "stdout",
          "text": [
            "Opt: AdamW | Epoch 3/4 - TL: 0.2466, VL: 0.2412, TA: 90.68%, VA: 90.97%, F1: 87.69%, Time: 8.89 min\n"
          ]
        },
        {
          "output_type": "stream",
          "name": "stderr",
          "text": [
            "Evaluating: 100%|██████████| 126/126 [01:28<00:00,  1.42it/s]"
          ]
        },
        {
          "output_type": "stream",
          "name": "stdout",
          "text": [
            "Opt: AdamW | Epoch 4/4 - TL: 0.2391, VL: 0.2345, TA: 91.17%, VA: 91.39%, F1: 88.04%, Time: 8.88 min\n"
          ]
        },
        {
          "output_type": "stream",
          "name": "stderr",
          "text": [
            "\n"
          ]
        },
        {
          "output_type": "display_data",
          "data": {
            "text/plain": [
              "<IPython.core.display.HTML object>"
            ],
            "text/html": []
          },
          "metadata": {}
        },
        {
          "output_type": "display_data",
          "data": {
            "text/plain": [
              "<IPython.core.display.HTML object>"
            ],
            "text/html": [
              "<br>    <style><br>        .wandb-row {<br>            display: flex;<br>            flex-direction: row;<br>            flex-wrap: wrap;<br>            justify-content: flex-start;<br>            width: 100%;<br>        }<br>        .wandb-col {<br>            display: flex;<br>            flex-direction: column;<br>            flex-basis: 100%;<br>            flex: 1;<br>            padding: 10px;<br>        }<br>    </style><br><div class=\"wandb-row\"><div class=\"wandb-col\"><h3>Run history:</h3><br/><table class=\"wandb\"><tr><td>train_acc</td><td>▁▇▇█</td></tr><tr><td>train_loss</td><td>█▂▁▁</td></tr><tr><td>val_acc</td><td>▁▁▅█</td></tr><tr><td>val_f1</td><td>▁▃▆█</td></tr><tr><td>val_loss</td><td>█▆▃▁</td></tr></table><br/></div><div class=\"wandb-col\"><h3>Run summary:</h3><br/><table class=\"wandb\"><tr><td>train_acc</td><td>0.91173</td></tr><tr><td>train_loss</td><td>0.23908</td></tr><tr><td>val_acc</td><td>0.91394</td></tr><tr><td>val_f1</td><td>0.88039</td></tr><tr><td>val_loss</td><td>0.23447</td></tr></table><br/></div></div>"
            ]
          },
          "metadata": {}
        },
        {
          "output_type": "display_data",
          "data": {
            "text/plain": [
              "<IPython.core.display.HTML object>"
            ],
            "text/html": [
              " View run <strong style=\"color:#cdcd00\">AdamW_run</strong> at: <a href='https://wandb.ai/wilfried-mvomoeto-university-of-li-ge/Binary_Class_Biobert_Attention_OptimizerSearch/runs/cv12oo1o' target=\"_blank\">https://wandb.ai/wilfried-mvomoeto-university-of-li-ge/Binary_Class_Biobert_Attention_OptimizerSearch/runs/cv12oo1o</a><br> View project at: <a href='https://wandb.ai/wilfried-mvomoeto-university-of-li-ge/Binary_Class_Biobert_Attention_OptimizerSearch' target=\"_blank\">https://wandb.ai/wilfried-mvomoeto-university-of-li-ge/Binary_Class_Biobert_Attention_OptimizerSearch</a><br>Synced 5 W&B file(s), 0 media file(s), 0 artifact file(s) and 0 other file(s)"
            ]
          },
          "metadata": {}
        },
        {
          "output_type": "display_data",
          "data": {
            "text/plain": [
              "<IPython.core.display.HTML object>"
            ],
            "text/html": [
              "Find logs at: <code>./wandb/run-20250424_183940-cv12oo1o/logs</code>"
            ]
          },
          "metadata": {}
        },
        {
          "output_type": "stream",
          "name": "stdout",
          "text": [
            "\n",
            "🔹 Training with optimizer: RMSprop\n",
            "BioBERT_GRU_Attention(\n",
            "  (encoder): BertModel(\n",
            "    (embeddings): BertEmbeddings(\n",
            "      (word_embeddings): Embedding(28996, 768, padding_idx=0)\n",
            "      (position_embeddings): Embedding(512, 768)\n",
            "      (token_type_embeddings): Embedding(2, 768)\n",
            "      (LayerNorm): LayerNorm((768,), eps=1e-12, elementwise_affine=True)\n",
            "      (dropout): Dropout(p=0.1, inplace=False)\n",
            "    )\n",
            "    (encoder): BertEncoder(\n",
            "      (layer): ModuleList(\n",
            "        (0-11): 12 x BertLayer(\n",
            "          (attention): BertAttention(\n",
            "            (self): BertSdpaSelfAttention(\n",
            "              (query): Linear(in_features=768, out_features=768, bias=True)\n",
            "              (key): Linear(in_features=768, out_features=768, bias=True)\n",
            "              (value): Linear(in_features=768, out_features=768, bias=True)\n",
            "              (dropout): Dropout(p=0.1, inplace=False)\n",
            "            )\n",
            "            (output): BertSelfOutput(\n",
            "              (dense): Linear(in_features=768, out_features=768, bias=True)\n",
            "              (LayerNorm): LayerNorm((768,), eps=1e-12, elementwise_affine=True)\n",
            "              (dropout): Dropout(p=0.1, inplace=False)\n",
            "            )\n",
            "          )\n",
            "          (intermediate): BertIntermediate(\n",
            "            (dense): Linear(in_features=768, out_features=3072, bias=True)\n",
            "            (intermediate_act_fn): GELUActivation()\n",
            "          )\n",
            "          (output): BertOutput(\n",
            "            (dense): Linear(in_features=3072, out_features=768, bias=True)\n",
            "            (LayerNorm): LayerNorm((768,), eps=1e-12, elementwise_affine=True)\n",
            "            (dropout): Dropout(p=0.1, inplace=False)\n",
            "          )\n",
            "        )\n",
            "      )\n",
            "    )\n",
            "    (pooler): BertPooler(\n",
            "      (dense): Linear(in_features=768, out_features=768, bias=True)\n",
            "      (activation): Tanh()\n",
            "    )\n",
            "  )\n",
            "  (gru): GRU(768, 256, batch_first=True, bidirectional=True)\n",
            "  (attention): BahdanauAttention(\n",
            "    (W): Linear(in_features=512, out_features=256, bias=True)\n",
            "    (v): Linear(in_features=256, out_features=1, bias=False)\n",
            "  )\n",
            "  (fc): Linear(in_features=512, out_features=1, bias=True)\n",
            "  (dropout): Dropout(p=0.6, inplace=False)\n",
            ")\n"
          ]
        },
        {
          "output_type": "display_data",
          "data": {
            "text/plain": [
              "<IPython.core.display.HTML object>"
            ],
            "text/html": [
              "Tracking run with wandb version 0.19.10"
            ]
          },
          "metadata": {}
        },
        {
          "output_type": "display_data",
          "data": {
            "text/plain": [
              "<IPython.core.display.HTML object>"
            ],
            "text/html": [
              "Run data is saved locally in <code>/content/wandb/run-20250424_191520-gbvqlt71</code>"
            ]
          },
          "metadata": {}
        },
        {
          "output_type": "display_data",
          "data": {
            "text/plain": [
              "<IPython.core.display.HTML object>"
            ],
            "text/html": [
              "Syncing run <strong><a href='https://wandb.ai/wilfried-mvomoeto-university-of-li-ge/Binary_Class_Biobert_Attention_OptimizerSearch/runs/gbvqlt71' target=\"_blank\">RMSprop_run</a></strong> to <a href='https://wandb.ai/wilfried-mvomoeto-university-of-li-ge/Binary_Class_Biobert_Attention_OptimizerSearch' target=\"_blank\">Weights & Biases</a> (<a href='https://wandb.me/developer-guide' target=\"_blank\">docs</a>)<br>"
            ]
          },
          "metadata": {}
        },
        {
          "output_type": "display_data",
          "data": {
            "text/plain": [
              "<IPython.core.display.HTML object>"
            ],
            "text/html": [
              " View project at <a href='https://wandb.ai/wilfried-mvomoeto-university-of-li-ge/Binary_Class_Biobert_Attention_OptimizerSearch' target=\"_blank\">https://wandb.ai/wilfried-mvomoeto-university-of-li-ge/Binary_Class_Biobert_Attention_OptimizerSearch</a>"
            ]
          },
          "metadata": {}
        },
        {
          "output_type": "display_data",
          "data": {
            "text/plain": [
              "<IPython.core.display.HTML object>"
            ],
            "text/html": [
              " View run at <a href='https://wandb.ai/wilfried-mvomoeto-university-of-li-ge/Binary_Class_Biobert_Attention_OptimizerSearch/runs/gbvqlt71' target=\"_blank\">https://wandb.ai/wilfried-mvomoeto-university-of-li-ge/Binary_Class_Biobert_Attention_OptimizerSearch/runs/gbvqlt71</a>"
            ]
          },
          "metadata": {}
        },
        {
          "output_type": "stream",
          "name": "stdout",
          "text": [
            "Total trainable parameters: 110018305\n"
          ]
        },
        {
          "output_type": "stream",
          "name": "stderr",
          "text": [
            "Evaluating: 100%|██████████| 126/126 [01:28<00:00,  1.42it/s]\n"
          ]
        },
        {
          "output_type": "stream",
          "name": "stdout",
          "text": [
            "Opt: RMSprop | Epoch 1/4 - TL: 0.3081, VL: 0.2800, TA: 88.10%, VA: 89.81%, F1: 86.40%, Time: 8.88 min\n"
          ]
        },
        {
          "output_type": "stream",
          "name": "stderr",
          "text": [
            "Evaluating: 100%|██████████| 126/126 [01:29<00:00,  1.41it/s]\n"
          ]
        },
        {
          "output_type": "stream",
          "name": "stdout",
          "text": [
            "Opt: RMSprop | Epoch 2/4 - TL: 0.2615, VL: 0.2495, TA: 90.33%, VA: 90.97%, F1: 87.62%, Time: 8.88 min\n"
          ]
        },
        {
          "output_type": "stream",
          "name": "stderr",
          "text": [
            "Evaluating: 100%|██████████| 126/126 [01:28<00:00,  1.42it/s]\n"
          ]
        },
        {
          "output_type": "stream",
          "name": "stdout",
          "text": [
            "Opt: RMSprop | Epoch 3/4 - TL: 0.2458, VL: 0.2408, TA: 90.84%, VA: 91.27%, F1: 87.83%, Time: 8.88 min\n"
          ]
        },
        {
          "output_type": "stream",
          "name": "stderr",
          "text": [
            "Evaluating: 100%|██████████| 126/126 [01:29<00:00,  1.41it/s]"
          ]
        },
        {
          "output_type": "stream",
          "name": "stdout",
          "text": [
            "Opt: RMSprop | Epoch 4/4 - TL: 0.2372, VL: 0.2349, TA: 91.13%, VA: 91.67%, F1: 88.37%, Time: 8.88 min\n"
          ]
        },
        {
          "output_type": "stream",
          "name": "stderr",
          "text": [
            "\n"
          ]
        },
        {
          "output_type": "display_data",
          "data": {
            "text/plain": [
              "<IPython.core.display.HTML object>"
            ],
            "text/html": []
          },
          "metadata": {}
        },
        {
          "output_type": "display_data",
          "data": {
            "text/plain": [
              "<IPython.core.display.HTML object>"
            ],
            "text/html": [
              "<br>    <style><br>        .wandb-row {<br>            display: flex;<br>            flex-direction: row;<br>            flex-wrap: wrap;<br>            justify-content: flex-start;<br>            width: 100%;<br>        }<br>        .wandb-col {<br>            display: flex;<br>            flex-direction: column;<br>            flex-basis: 100%;<br>            flex: 1;<br>            padding: 10px;<br>        }<br>    </style><br><div class=\"wandb-row\"><div class=\"wandb-col\"><h3>Run history:</h3><br/><table class=\"wandb\"><tr><td>train_acc</td><td>▁▆▇█</td></tr><tr><td>train_loss</td><td>█▃▂▁</td></tr><tr><td>val_acc</td><td>▁▅▇█</td></tr><tr><td>val_f1</td><td>▁▅▆█</td></tr><tr><td>val_loss</td><td>█▃▂▁</td></tr></table><br/></div><div class=\"wandb-col\"><h3>Run summary:</h3><br/><table class=\"wandb\"><tr><td>train_acc</td><td>0.91126</td></tr><tr><td>train_loss</td><td>0.23723</td></tr><tr><td>val_acc</td><td>0.91667</td></tr><tr><td>val_f1</td><td>0.88374</td></tr><tr><td>val_loss</td><td>0.23489</td></tr></table><br/></div></div>"
            ]
          },
          "metadata": {}
        },
        {
          "output_type": "display_data",
          "data": {
            "text/plain": [
              "<IPython.core.display.HTML object>"
            ],
            "text/html": [
              " View run <strong style=\"color:#cdcd00\">RMSprop_run</strong> at: <a href='https://wandb.ai/wilfried-mvomoeto-university-of-li-ge/Binary_Class_Biobert_Attention_OptimizerSearch/runs/gbvqlt71' target=\"_blank\">https://wandb.ai/wilfried-mvomoeto-university-of-li-ge/Binary_Class_Biobert_Attention_OptimizerSearch/runs/gbvqlt71</a><br> View project at: <a href='https://wandb.ai/wilfried-mvomoeto-university-of-li-ge/Binary_Class_Biobert_Attention_OptimizerSearch' target=\"_blank\">https://wandb.ai/wilfried-mvomoeto-university-of-li-ge/Binary_Class_Biobert_Attention_OptimizerSearch</a><br>Synced 5 W&B file(s), 0 media file(s), 0 artifact file(s) and 0 other file(s)"
            ]
          },
          "metadata": {}
        },
        {
          "output_type": "display_data",
          "data": {
            "text/plain": [
              "<IPython.core.display.HTML object>"
            ],
            "text/html": [
              "Find logs at: <code>./wandb/run-20250424_191520-gbvqlt71/logs</code>"
            ]
          },
          "metadata": {}
        }
      ]
    },
    {
      "cell_type": "markdown",
      "source": [
        "2.1.2 Depth value selection"
      ],
      "metadata": {
        "id": "zpjolDXamnAZ"
      }
    },
    {
      "cell_type": "code",
      "source": [
        "depth_values = [1, 2, 3]\n",
        "num_epochs = 4\n",
        "learning_rate = 1e-4\n",
        "weight_decay = 1e-10\n",
        "criterion = nn.BCEWithLogitsLoss()\n",
        "\n",
        "all_train_losses = {}\n",
        "all_val_losses = {}\n",
        "all_train_accs = {}\n",
        "all_val_accs = {}\n",
        "\n",
        "for depth in depth_values:\n",
        "    print(f\"\\n🔹 Training with GRU depth: {depth}\")\n",
        "\n",
        "    model = BioBERT_GRU_Attention(biobert, BERT_DIM, HIDDEN_DIM, dropout_prob=DROPOUT).to(device)\n",
        "\n",
        "    optimizer = optim.Adam(model.parameters(), lr=learning_rate, weight_decay=weight_decay)\n",
        "    scheduler = ReduceLROnPlateau(optimizer, mode='min', factor=0.5, patience=2, verbose=True)\n",
        "\n",
        "    wandb.init(entity='wilfried-mvomoeto-university-of-li-ge',\n",
        "        project='Binary_Class_Biobert_Attention_DepthSearch',\n",
        "        name=f\"Depth_{depth}_run\",\n",
        "        config={\n",
        "            'learning_rate': learning_rate,\n",
        "            'num_epochs': num_epochs,\n",
        "            'optimizer': 'Adam',\n",
        "            'gru_depth': depth,\n",
        "            'model': 'Biobert_Bi_GRU_Bahdanau_Attention',\n",
        "            'hidden_dim': HIDDEN_DIM,\n",
        "            'dropout_prob': DROPOUT\n",
        "        }\n",
        "    )\n",
        "\n",
        "    num_params = sum(p.numel() for p in model.parameters() if p.requires_grad)\n",
        "    print(f\"Total trainable parameters (depth={depth}): {num_params}\")\n",
        "\n",
        "    train_losses, val_losses = [], []\n",
        "    train_accs, val_accs = [], []\n",
        "    best_val_loss = float('inf')\n",
        "\n",
        "    for epoch in range(num_epochs):\n",
        "        start_time = time.time()\n",
        "\n",
        "        train_loss, train_acc = train_model(model, train_loader, optimizer, criterion, device)\n",
        "        val_acc, f1, val_loss = evaluate_model(model, val_loader, criterion, device)\n",
        "\n",
        "        train_losses.append(train_loss)\n",
        "        train_accs.append(train_acc)\n",
        "        val_losses.append(val_loss)\n",
        "        val_accs.append(val_acc)\n",
        "\n",
        "        end_time = time.time()\n",
        "        duration = end_time - start_time\n",
        "\n",
        "        print(\n",
        "            f\"Depth: {depth} | Epoch {epoch+1}/{num_epochs} - \"\n",
        "            f\"TL: {train_loss:.4f}, VL: {val_loss:.4f}, \"\n",
        "            f\"TA: {train_acc:.2%}, VA: {val_acc:.2%}, F1: {f1:.2%}, \"\n",
        "            f\"Time: {duration/60:.2f} min\"\n",
        "        )\n",
        "\n",
        "        wandb.log({\n",
        "            'train_loss': train_loss,\n",
        "            'val_loss': val_loss,\n",
        "            'train_acc': train_acc,\n",
        "            'val_acc': val_acc,\n",
        "            'val_f1': f1,\n",
        "        })\n",
        "\n",
        "        scheduler.step(val_loss)\n",
        "\n",
        "    all_train_losses[f'depth_{depth}'] = train_losses\n",
        "    all_val_losses[f'depth_{depth}'] = val_losses\n",
        "    all_train_accs[f'depth_{depth}'] = train_accs\n",
        "    all_val_accs[f'depth_{depth}'] = val_accs\n",
        "\n",
        "    wandb.finish()"
      ],
      "metadata": {
        "id": "XC8c7-y_fA11",
        "colab": {
          "base_uri": "https://localhost:8080/",
          "height": 1000
        },
        "outputId": "f463bf67-b0c5-4780-f393-8a7d3b27f371"
      },
      "execution_count": null,
      "outputs": [
        {
          "output_type": "stream",
          "name": "stdout",
          "text": [
            "\n",
            "🔹 Training with GRU depth: 1\n"
          ]
        },
        {
          "output_type": "display_data",
          "data": {
            "text/plain": [
              "<IPython.core.display.Javascript object>"
            ],
            "application/javascript": [
              "\n",
              "        window._wandbApiKey = new Promise((resolve, reject) => {\n",
              "            function loadScript(url) {\n",
              "            return new Promise(function(resolve, reject) {\n",
              "                let newScript = document.createElement(\"script\");\n",
              "                newScript.onerror = reject;\n",
              "                newScript.onload = resolve;\n",
              "                document.body.appendChild(newScript);\n",
              "                newScript.src = url;\n",
              "            });\n",
              "            }\n",
              "            loadScript(\"https://cdn.jsdelivr.net/npm/postmate/build/postmate.min.js\").then(() => {\n",
              "            const iframe = document.createElement('iframe')\n",
              "            iframe.style.cssText = \"width:0;height:0;border:none\"\n",
              "            document.body.appendChild(iframe)\n",
              "            const handshake = new Postmate({\n",
              "                container: iframe,\n",
              "                url: 'https://wandb.ai/authorize'\n",
              "            });\n",
              "            const timeout = setTimeout(() => reject(\"Couldn't auto authenticate\"), 5000)\n",
              "            handshake.then(function(child) {\n",
              "                child.on('authorize', data => {\n",
              "                    clearTimeout(timeout)\n",
              "                    resolve(data)\n",
              "                });\n",
              "            });\n",
              "            })\n",
              "        });\n",
              "    "
            ]
          },
          "metadata": {}
        },
        {
          "output_type": "stream",
          "name": "stderr",
          "text": [
            "\u001b[34m\u001b[1mwandb\u001b[0m: Logging into wandb.ai. (Learn how to deploy a W&B server locally: https://wandb.me/wandb-server)\n",
            "\u001b[34m\u001b[1mwandb\u001b[0m: You can find your API key in your browser here: https://wandb.ai/authorize?ref=models\n",
            "wandb: Paste an API key from your profile and hit enter:"
          ]
        },
        {
          "name": "stdout",
          "output_type": "stream",
          "text": [
            " ··········\n"
          ]
        },
        {
          "output_type": "stream",
          "name": "stderr",
          "text": [
            "\u001b[34m\u001b[1mwandb\u001b[0m: \u001b[33mWARNING\u001b[0m If you're specifying your api key in code, ensure this code is not shared publicly.\n",
            "\u001b[34m\u001b[1mwandb\u001b[0m: \u001b[33mWARNING\u001b[0m Consider setting the WANDB_API_KEY environment variable, or running `wandb login` from the command line.\n",
            "\u001b[34m\u001b[1mwandb\u001b[0m: No netrc file found, creating one.\n",
            "\u001b[34m\u001b[1mwandb\u001b[0m: Appending key for api.wandb.ai to your netrc file: /root/.netrc\n",
            "\u001b[34m\u001b[1mwandb\u001b[0m: Currently logged in as: \u001b[33mwilfried-mvomoeto\u001b[0m to \u001b[32mhttps://api.wandb.ai\u001b[0m. Use \u001b[1m`wandb login --relogin`\u001b[0m to force relogin\n"
          ]
        },
        {
          "output_type": "display_data",
          "data": {
            "text/plain": [
              "<IPython.core.display.HTML object>"
            ],
            "text/html": [
              "Tracking run with wandb version 0.19.10"
            ]
          },
          "metadata": {}
        },
        {
          "output_type": "display_data",
          "data": {
            "text/plain": [
              "<IPython.core.display.HTML object>"
            ],
            "text/html": [
              "Run data is saved locally in <code>/content/wandb/run-20250425_021610-sredveov</code>"
            ]
          },
          "metadata": {}
        },
        {
          "output_type": "display_data",
          "data": {
            "text/plain": [
              "<IPython.core.display.HTML object>"
            ],
            "text/html": [
              "Syncing run <strong><a href='https://wandb.ai/wilfried-mvomoeto-university-of-li-ge/Binary_Class_Biobert_Attention_DepthSearch/runs/sredveov' target=\"_blank\">Depth_1_run</a></strong> to <a href='https://wandb.ai/wilfried-mvomoeto-university-of-li-ge/Binary_Class_Biobert_Attention_DepthSearch' target=\"_blank\">Weights & Biases</a> (<a href='https://wandb.me/developer-guide' target=\"_blank\">docs</a>)<br>"
            ]
          },
          "metadata": {}
        },
        {
          "output_type": "display_data",
          "data": {
            "text/plain": [
              "<IPython.core.display.HTML object>"
            ],
            "text/html": [
              " View project at <a href='https://wandb.ai/wilfried-mvomoeto-university-of-li-ge/Binary_Class_Biobert_Attention_DepthSearch' target=\"_blank\">https://wandb.ai/wilfried-mvomoeto-university-of-li-ge/Binary_Class_Biobert_Attention_DepthSearch</a>"
            ]
          },
          "metadata": {}
        },
        {
          "output_type": "display_data",
          "data": {
            "text/plain": [
              "<IPython.core.display.HTML object>"
            ],
            "text/html": [
              " View run at <a href='https://wandb.ai/wilfried-mvomoeto-university-of-li-ge/Binary_Class_Biobert_Attention_DepthSearch/runs/sredveov' target=\"_blank\">https://wandb.ai/wilfried-mvomoeto-university-of-li-ge/Binary_Class_Biobert_Attention_DepthSearch/runs/sredveov</a>"
            ]
          },
          "metadata": {}
        },
        {
          "output_type": "stream",
          "name": "stdout",
          "text": [
            "Total trainable parameters (depth=1): 110018305\n"
          ]
        },
        {
          "output_type": "stream",
          "name": "stderr",
          "text": [
            "Evaluating: 100%|██████████| 134/134 [01:34<00:00,  1.42it/s]\n"
          ]
        },
        {
          "output_type": "stream",
          "name": "stdout",
          "text": [
            "Depth: 1 | Epoch 1/4 - TL: 0.1746, VL: 0.0937, TA: 92.66%, VA: 96.46%, F1: 97.38%, Time: 9.39 min\n"
          ]
        },
        {
          "output_type": "stream",
          "name": "stderr",
          "text": [
            "Evaluating: 100%|██████████| 134/134 [01:34<00:00,  1.42it/s]\n"
          ]
        },
        {
          "output_type": "stream",
          "name": "stdout",
          "text": [
            "Depth: 1 | Epoch 2/4 - TL: 0.0870, VL: 0.0885, TA: 96.61%, VA: 96.78%, F1: 97.61%, Time: 9.43 min\n"
          ]
        },
        {
          "output_type": "stream",
          "name": "stderr",
          "text": [
            "Evaluating: 100%|██████████| 134/134 [01:34<00:00,  1.42it/s]\n"
          ]
        },
        {
          "output_type": "stream",
          "name": "stdout",
          "text": [
            "Depth: 1 | Epoch 3/4 - TL: 0.0828, VL: 0.0932, TA: 96.72%, VA: 96.57%, F1: 97.47%, Time: 9.43 min\n"
          ]
        },
        {
          "output_type": "stream",
          "name": "stderr",
          "text": [
            "Evaluating: 100%|██████████| 134/134 [01:34<00:00,  1.42it/s]"
          ]
        },
        {
          "output_type": "stream",
          "name": "stdout",
          "text": [
            "Depth: 1 | Epoch 4/4 - TL: 0.0768, VL: 0.0967, TA: 96.96%, VA: 96.06%, F1: 97.09%, Time: 9.42 min\n"
          ]
        },
        {
          "output_type": "stream",
          "name": "stderr",
          "text": [
            "\n"
          ]
        },
        {
          "output_type": "display_data",
          "data": {
            "text/plain": [
              "<IPython.core.display.HTML object>"
            ],
            "text/html": []
          },
          "metadata": {}
        },
        {
          "output_type": "display_data",
          "data": {
            "text/plain": [
              "<IPython.core.display.HTML object>"
            ],
            "text/html": [
              "<br>    <style><br>        .wandb-row {<br>            display: flex;<br>            flex-direction: row;<br>            flex-wrap: wrap;<br>            justify-content: flex-start;<br>            width: 100%;<br>        }<br>        .wandb-col {<br>            display: flex;<br>            flex-direction: column;<br>            flex-basis: 100%;<br>            flex: 1;<br>            padding: 10px;<br>        }<br>    </style><br><div class=\"wandb-row\"><div class=\"wandb-col\"><h3>Run history:</h3><br/><table class=\"wandb\"><tr><td>train_acc</td><td>▁▇██</td></tr><tr><td>train_loss</td><td>█▂▁▁</td></tr><tr><td>val_acc</td><td>▅█▆▁</td></tr><tr><td>val_f1</td><td>▅█▆▁</td></tr><tr><td>val_loss</td><td>▅▁▅█</td></tr></table><br/></div><div class=\"wandb-col\"><h3>Run summary:</h3><br/><table class=\"wandb\"><tr><td>train_acc</td><td>0.96962</td></tr><tr><td>train_loss</td><td>0.07677</td></tr><tr><td>val_acc</td><td>0.96057</td></tr><tr><td>val_f1</td><td>0.97088</td></tr><tr><td>val_loss</td><td>0.09675</td></tr></table><br/></div></div>"
            ]
          },
          "metadata": {}
        },
        {
          "output_type": "display_data",
          "data": {
            "text/plain": [
              "<IPython.core.display.HTML object>"
            ],
            "text/html": [
              " View run <strong style=\"color:#cdcd00\">Depth_1_run</strong> at: <a href='https://wandb.ai/wilfried-mvomoeto-university-of-li-ge/Binary_Class_Biobert_Attention_DepthSearch/runs/sredveov' target=\"_blank\">https://wandb.ai/wilfried-mvomoeto-university-of-li-ge/Binary_Class_Biobert_Attention_DepthSearch/runs/sredveov</a><br> View project at: <a href='https://wandb.ai/wilfried-mvomoeto-university-of-li-ge/Binary_Class_Biobert_Attention_DepthSearch' target=\"_blank\">https://wandb.ai/wilfried-mvomoeto-university-of-li-ge/Binary_Class_Biobert_Attention_DepthSearch</a><br>Synced 5 W&B file(s), 0 media file(s), 0 artifact file(s) and 0 other file(s)"
            ]
          },
          "metadata": {}
        },
        {
          "output_type": "display_data",
          "data": {
            "text/plain": [
              "<IPython.core.display.HTML object>"
            ],
            "text/html": [
              "Find logs at: <code>./wandb/run-20250425_021610-sredveov/logs</code>"
            ]
          },
          "metadata": {}
        },
        {
          "output_type": "stream",
          "name": "stdout",
          "text": [
            "\n",
            "🔹 Training with GRU depth: 2\n"
          ]
        },
        {
          "output_type": "display_data",
          "data": {
            "text/plain": [
              "<IPython.core.display.HTML object>"
            ],
            "text/html": [
              "Tracking run with wandb version 0.19.10"
            ]
          },
          "metadata": {}
        },
        {
          "output_type": "display_data",
          "data": {
            "text/plain": [
              "<IPython.core.display.HTML object>"
            ],
            "text/html": [
              "Run data is saved locally in <code>/content/wandb/run-20250425_025359-jqfpak5q</code>"
            ]
          },
          "metadata": {}
        },
        {
          "output_type": "display_data",
          "data": {
            "text/plain": [
              "<IPython.core.display.HTML object>"
            ],
            "text/html": [
              "Syncing run <strong><a href='https://wandb.ai/wilfried-mvomoeto-university-of-li-ge/Binary_Class_Biobert_Attention_DepthSearch/runs/jqfpak5q' target=\"_blank\">Depth_2_run</a></strong> to <a href='https://wandb.ai/wilfried-mvomoeto-university-of-li-ge/Binary_Class_Biobert_Attention_DepthSearch' target=\"_blank\">Weights & Biases</a> (<a href='https://wandb.me/developer-guide' target=\"_blank\">docs</a>)<br>"
            ]
          },
          "metadata": {}
        },
        {
          "output_type": "display_data",
          "data": {
            "text/plain": [
              "<IPython.core.display.HTML object>"
            ],
            "text/html": [
              " View project at <a href='https://wandb.ai/wilfried-mvomoeto-university-of-li-ge/Binary_Class_Biobert_Attention_DepthSearch' target=\"_blank\">https://wandb.ai/wilfried-mvomoeto-university-of-li-ge/Binary_Class_Biobert_Attention_DepthSearch</a>"
            ]
          },
          "metadata": {}
        },
        {
          "output_type": "display_data",
          "data": {
            "text/plain": [
              "<IPython.core.display.HTML object>"
            ],
            "text/html": [
              " View run at <a href='https://wandb.ai/wilfried-mvomoeto-university-of-li-ge/Binary_Class_Biobert_Attention_DepthSearch/runs/jqfpak5q' target=\"_blank\">https://wandb.ai/wilfried-mvomoeto-university-of-li-ge/Binary_Class_Biobert_Attention_DepthSearch/runs/jqfpak5q</a>"
            ]
          },
          "metadata": {}
        },
        {
          "output_type": "stream",
          "name": "stdout",
          "text": [
            "Total trainable parameters (depth=2): 110018305\n"
          ]
        },
        {
          "output_type": "stream",
          "name": "stderr",
          "text": [
            "Evaluating: 100%|██████████| 134/134 [01:34<00:00,  1.42it/s]\n"
          ]
        },
        {
          "output_type": "stream",
          "name": "stdout",
          "text": [
            "Depth: 2 | Epoch 1/4 - TL: 0.1859, VL: 0.0989, TA: 91.99%, VA: 96.20%, F1: 97.20%, Time: 9.43 min\n"
          ]
        },
        {
          "output_type": "stream",
          "name": "stderr",
          "text": [
            "Evaluating: 100%|██████████| 134/134 [01:34<00:00,  1.42it/s]\n"
          ]
        },
        {
          "output_type": "stream",
          "name": "stdout",
          "text": [
            "Depth: 2 | Epoch 2/4 - TL: 0.0870, VL: 0.0897, TA: 96.59%, VA: 96.50%, F1: 97.39%, Time: 9.43 min\n"
          ]
        },
        {
          "output_type": "stream",
          "name": "stderr",
          "text": [
            "Evaluating: 100%|██████████| 134/134 [01:34<00:00,  1.42it/s]\n"
          ]
        },
        {
          "output_type": "stream",
          "name": "stdout",
          "text": [
            "Depth: 2 | Epoch 3/4 - TL: 0.0824, VL: 0.0980, TA: 96.68%, VA: 96.22%, F1: 97.22%, Time: 9.42 min\n"
          ]
        },
        {
          "output_type": "stream",
          "name": "stderr",
          "text": [
            "Evaluating: 100%|██████████| 134/134 [01:34<00:00,  1.42it/s]"
          ]
        },
        {
          "output_type": "stream",
          "name": "stdout",
          "text": [
            "Depth: 2 | Epoch 4/4 - TL: 0.0784, VL: 0.0901, TA: 96.85%, VA: 96.81%, F1: 97.63%, Time: 9.43 min\n"
          ]
        },
        {
          "output_type": "stream",
          "name": "stderr",
          "text": [
            "\n"
          ]
        },
        {
          "output_type": "display_data",
          "data": {
            "text/plain": [
              "<IPython.core.display.HTML object>"
            ],
            "text/html": []
          },
          "metadata": {}
        },
        {
          "output_type": "display_data",
          "data": {
            "text/plain": [
              "<IPython.core.display.HTML object>"
            ],
            "text/html": [
              "<br>    <style><br>        .wandb-row {<br>            display: flex;<br>            flex-direction: row;<br>            flex-wrap: wrap;<br>            justify-content: flex-start;<br>            width: 100%;<br>        }<br>        .wandb-col {<br>            display: flex;<br>            flex-direction: column;<br>            flex-basis: 100%;<br>            flex: 1;<br>            padding: 10px;<br>        }<br>    </style><br><div class=\"wandb-row\"><div class=\"wandb-col\"><h3>Run history:</h3><br/><table class=\"wandb\"><tr><td>train_acc</td><td>▁███</td></tr><tr><td>train_loss</td><td>█▂▁▁</td></tr><tr><td>val_acc</td><td>▁▄▁█</td></tr><tr><td>val_f1</td><td>▁▄▁█</td></tr><tr><td>val_loss</td><td>█▁▇▁</td></tr></table><br/></div><div class=\"wandb-col\"><h3>Run summary:</h3><br/><table class=\"wandb\"><tr><td>train_acc</td><td>0.96852</td></tr><tr><td>train_loss</td><td>0.07845</td></tr><tr><td>val_acc</td><td>0.96808</td></tr><tr><td>val_f1</td><td>0.97627</td></tr><tr><td>val_loss</td><td>0.09006</td></tr></table><br/></div></div>"
            ]
          },
          "metadata": {}
        },
        {
          "output_type": "display_data",
          "data": {
            "text/plain": [
              "<IPython.core.display.HTML object>"
            ],
            "text/html": [
              " View run <strong style=\"color:#cdcd00\">Depth_2_run</strong> at: <a href='https://wandb.ai/wilfried-mvomoeto-university-of-li-ge/Binary_Class_Biobert_Attention_DepthSearch/runs/jqfpak5q' target=\"_blank\">https://wandb.ai/wilfried-mvomoeto-university-of-li-ge/Binary_Class_Biobert_Attention_DepthSearch/runs/jqfpak5q</a><br> View project at: <a href='https://wandb.ai/wilfried-mvomoeto-university-of-li-ge/Binary_Class_Biobert_Attention_DepthSearch' target=\"_blank\">https://wandb.ai/wilfried-mvomoeto-university-of-li-ge/Binary_Class_Biobert_Attention_DepthSearch</a><br>Synced 5 W&B file(s), 0 media file(s), 0 artifact file(s) and 0 other file(s)"
            ]
          },
          "metadata": {}
        },
        {
          "output_type": "display_data",
          "data": {
            "text/plain": [
              "<IPython.core.display.HTML object>"
            ],
            "text/html": [
              "Find logs at: <code>./wandb/run-20250425_025359-jqfpak5q/logs</code>"
            ]
          },
          "metadata": {}
        },
        {
          "output_type": "stream",
          "name": "stdout",
          "text": [
            "\n",
            "🔹 Training with GRU depth: 3\n"
          ]
        },
        {
          "output_type": "display_data",
          "data": {
            "text/plain": [
              "<IPython.core.display.HTML object>"
            ],
            "text/html": [
              "Tracking run with wandb version 0.19.10"
            ]
          },
          "metadata": {}
        },
        {
          "output_type": "display_data",
          "data": {
            "text/plain": [
              "<IPython.core.display.HTML object>"
            ],
            "text/html": [
              "Run data is saved locally in <code>/content/wandb/run-20250425_033149-9d33xsr7</code>"
            ]
          },
          "metadata": {}
        },
        {
          "output_type": "display_data",
          "data": {
            "text/plain": [
              "<IPython.core.display.HTML object>"
            ],
            "text/html": [
              "Syncing run <strong><a href='https://wandb.ai/wilfried-mvomoeto-university-of-li-ge/Binary_Class_Biobert_Attention_DepthSearch/runs/9d33xsr7' target=\"_blank\">Depth_3_run</a></strong> to <a href='https://wandb.ai/wilfried-mvomoeto-university-of-li-ge/Binary_Class_Biobert_Attention_DepthSearch' target=\"_blank\">Weights & Biases</a> (<a href='https://wandb.me/developer-guide' target=\"_blank\">docs</a>)<br>"
            ]
          },
          "metadata": {}
        },
        {
          "output_type": "display_data",
          "data": {
            "text/plain": [
              "<IPython.core.display.HTML object>"
            ],
            "text/html": [
              " View project at <a href='https://wandb.ai/wilfried-mvomoeto-university-of-li-ge/Binary_Class_Biobert_Attention_DepthSearch' target=\"_blank\">https://wandb.ai/wilfried-mvomoeto-university-of-li-ge/Binary_Class_Biobert_Attention_DepthSearch</a>"
            ]
          },
          "metadata": {}
        },
        {
          "output_type": "display_data",
          "data": {
            "text/plain": [
              "<IPython.core.display.HTML object>"
            ],
            "text/html": [
              " View run at <a href='https://wandb.ai/wilfried-mvomoeto-university-of-li-ge/Binary_Class_Biobert_Attention_DepthSearch/runs/9d33xsr7' target=\"_blank\">https://wandb.ai/wilfried-mvomoeto-university-of-li-ge/Binary_Class_Biobert_Attention_DepthSearch/runs/9d33xsr7</a>"
            ]
          },
          "metadata": {}
        },
        {
          "output_type": "stream",
          "name": "stdout",
          "text": [
            "Total trainable parameters (depth=3): 110018305\n"
          ]
        },
        {
          "output_type": "stream",
          "name": "stderr",
          "text": [
            "Evaluating: 100%|██████████| 134/134 [01:34<00:00,  1.42it/s]\n"
          ]
        },
        {
          "output_type": "stream",
          "name": "stdout",
          "text": [
            "Depth: 3 | Epoch 1/4 - TL: 0.1875, VL: 0.1046, TA: 92.27%, VA: 96.13%, F1: 97.16%, Time: 9.43 min\n"
          ]
        },
        {
          "output_type": "stream",
          "name": "stderr",
          "text": [
            "Evaluating: 100%|██████████| 134/134 [01:34<00:00,  1.42it/s]\n"
          ]
        },
        {
          "output_type": "stream",
          "name": "stdout",
          "text": [
            "Depth: 3 | Epoch 2/4 - TL: 0.0877, VL: 0.0881, TA: 96.52%, VA: 96.81%, F1: 97.63%, Time: 9.43 min\n"
          ]
        },
        {
          "output_type": "stream",
          "name": "stderr",
          "text": [
            "Evaluating: 100%|██████████| 134/134 [01:34<00:00,  1.42it/s]\n"
          ]
        },
        {
          "output_type": "stream",
          "name": "stdout",
          "text": [
            "Depth: 3 | Epoch 3/4 - TL: 0.0816, VL: 0.0939, TA: 96.71%, VA: 96.64%, F1: 97.52%, Time: 9.42 min\n"
          ]
        },
        {
          "output_type": "stream",
          "name": "stderr",
          "text": [
            "Evaluating: 100%|██████████| 134/134 [01:34<00:00,  1.42it/s]"
          ]
        },
        {
          "output_type": "stream",
          "name": "stdout",
          "text": [
            "Depth: 3 | Epoch 4/4 - TL: 0.0787, VL: 0.0908, TA: 96.77%, VA: 96.48%, F1: 97.39%, Time: 9.42 min\n"
          ]
        },
        {
          "output_type": "stream",
          "name": "stderr",
          "text": [
            "\n"
          ]
        },
        {
          "output_type": "display_data",
          "data": {
            "text/plain": [
              "<IPython.core.display.HTML object>"
            ],
            "text/html": []
          },
          "metadata": {}
        },
        {
          "output_type": "display_data",
          "data": {
            "text/plain": [
              "<IPython.core.display.HTML object>"
            ],
            "text/html": [
              "<br>    <style><br>        .wandb-row {<br>            display: flex;<br>            flex-direction: row;<br>            flex-wrap: wrap;<br>            justify-content: flex-start;<br>            width: 100%;<br>        }<br>        .wandb-col {<br>            display: flex;<br>            flex-direction: column;<br>            flex-basis: 100%;<br>            flex: 1;<br>            padding: 10px;<br>        }<br>    </style><br><div class=\"wandb-row\"><div class=\"wandb-col\"><h3>Run history:</h3><br/><table class=\"wandb\"><tr><td>train_acc</td><td>▁███</td></tr><tr><td>train_loss</td><td>█▂▁▁</td></tr><tr><td>val_acc</td><td>▁█▆▅</td></tr><tr><td>val_f1</td><td>▁█▆▄</td></tr><tr><td>val_loss</td><td>█▁▃▂</td></tr></table><br/></div><div class=\"wandb-col\"><h3>Run summary:</h3><br/><table class=\"wandb\"><tr><td>train_acc</td><td>0.96771</td></tr><tr><td>train_loss</td><td>0.07867</td></tr><tr><td>val_acc</td><td>0.9648</td></tr><tr><td>val_f1</td><td>0.97395</td></tr><tr><td>val_loss</td><td>0.09076</td></tr></table><br/></div></div>"
            ]
          },
          "metadata": {}
        },
        {
          "output_type": "display_data",
          "data": {
            "text/plain": [
              "<IPython.core.display.HTML object>"
            ],
            "text/html": [
              " View run <strong style=\"color:#cdcd00\">Depth_3_run</strong> at: <a href='https://wandb.ai/wilfried-mvomoeto-university-of-li-ge/Binary_Class_Biobert_Attention_DepthSearch/runs/9d33xsr7' target=\"_blank\">https://wandb.ai/wilfried-mvomoeto-university-of-li-ge/Binary_Class_Biobert_Attention_DepthSearch/runs/9d33xsr7</a><br> View project at: <a href='https://wandb.ai/wilfried-mvomoeto-university-of-li-ge/Binary_Class_Biobert_Attention_DepthSearch' target=\"_blank\">https://wandb.ai/wilfried-mvomoeto-university-of-li-ge/Binary_Class_Biobert_Attention_DepthSearch</a><br>Synced 5 W&B file(s), 0 media file(s), 0 artifact file(s) and 0 other file(s)"
            ]
          },
          "metadata": {}
        },
        {
          "output_type": "display_data",
          "data": {
            "text/plain": [
              "<IPython.core.display.HTML object>"
            ],
            "text/html": [
              "Find logs at: <code>./wandb/run-20250425_033149-9d33xsr7/logs</code>"
            ]
          },
          "metadata": {}
        }
      ]
    },
    {
      "cell_type": "markdown",
      "source": [
        "2.1.3 Learning rate value selection"
      ],
      "metadata": {
        "id": "cq__ZqkAmvcg"
      }
    },
    {
      "cell_type": "code",
      "source": [
        "learning_rates = [1e-4, 5e-4]\n",
        "criterion = nn.BCEWithLogitsLoss()\n",
        "num_epochs = 4\n",
        "all_train_losses = {}\n",
        "all_val_losses = {}\n",
        "all_train_accs = {}\n",
        "all_val_accs = {}\n",
        "\n",
        "for lr in learning_rates:\n",
        "    print(f\"\\n🔹 Training with learning rate: {lr}\")\n",
        "\n",
        "    model = BioBERT_GRU_Attention(biobert, BERT_DIM, HIDDEN_DIM, dropout_prob=DROPOUT).to(device)\n",
        "\n",
        "    optimizer = optim.Adam(model.parameters(), lr=lr, weight_decay=1e-3)\n",
        "    scheduler = ReduceLROnPlateau(optimizer, mode='min', factor=0.5, patience=2, verbose=True)\n",
        "\n",
        "    wandb.init(entity='wilfried-mvomoeto-university-of-li-ge',\n",
        "        project='Binary_Class_Biobert_Attention_LRTuning',\n",
        "        name=f\"LR_{lr}_run\",\n",
        "        config={\n",
        "            'learning_rate': lr,\n",
        "            'num_epochs': num_epochs,\n",
        "            'optimizer': 'Adam',\n",
        "            'model': 'Biobert_Bi_GRU_Bahdanau_Attention',\n",
        "            'hidden_dim': HIDDEN_DIM,\n",
        "            'dropout_prob': DROPOUT\n",
        "        }\n",
        "    )\n",
        "\n",
        "    num_params = sum(p.numel() for p in model.parameters() if p.requires_grad)\n",
        "    print(f\"Total trainable parameters (lr={lr}): {num_params}\")\n",
        "\n",
        "    train_losses, val_losses = [], []\n",
        "    train_accs, val_accs = [], []\n",
        "    best_val_loss = float('inf')\n",
        "\n",
        "    for epoch in range(num_epochs):\n",
        "        start_time = time.time()\n",
        "\n",
        "        train_loss, train_acc = train_model(model, train_loader, optimizer, criterion, device)\n",
        "        val_acc, f1, val_loss = evaluate_model(model, val_loader, criterion, device)\n",
        "\n",
        "        train_losses.append(train_loss)\n",
        "        train_accs.append(train_acc)\n",
        "        val_losses.append(val_loss)\n",
        "        val_accs.append(val_acc)\n",
        "\n",
        "        end_time = time.time()\n",
        "        duration = end_time - start_time\n",
        "\n",
        "        print(\n",
        "            f\"LR: {lr} | Epoch {epoch+1}/{num_epochs} - \"\n",
        "            f\"TL: {train_loss:.4f}, VL: {val_loss:.4f}, \"\n",
        "            f\"TA: {train_acc:.2%}, VA: {val_acc:.2%}, F1: {f1:.2%}, \"\n",
        "            f\"Time: {duration/60:.2f} min\"\n",
        "        )\n",
        "\n",
        "        wandb.log({\n",
        "            'train_loss': train_loss,\n",
        "            'val_loss': val_loss,\n",
        "            'train_acc': train_acc,\n",
        "            'val_acc': val_acc,\n",
        "            'val_f1': f1,\n",
        "        })\n",
        "\n",
        "        scheduler.step(val_loss)\n",
        "\n",
        "    all_train_losses[f'lr_{lr}'] = train_losses\n",
        "    all_val_losses[f'lr_{lr}'] = val_losses\n",
        "    all_train_accs[f'lr_{lr}'] = train_accs\n",
        "    all_val_accs[f'lr_{lr}'] = val_accs\n",
        "\n",
        "    wandb.finish()"
      ],
      "metadata": {
        "id": "WxlYcg9EfAy-",
        "colab": {
          "base_uri": "https://localhost:8080/",
          "height": 1000
        },
        "outputId": "c9a2cf2e-d2e5-4511-9f9f-835956b63bee"
      },
      "execution_count": null,
      "outputs": [
        {
          "output_type": "stream",
          "name": "stdout",
          "text": [
            "\n",
            "🔹 Training with learning rate: 0.0001\n"
          ]
        },
        {
          "output_type": "display_data",
          "data": {
            "text/plain": [
              "<IPython.core.display.HTML object>"
            ],
            "text/html": [
              "Tracking run with wandb version 0.19.10"
            ]
          },
          "metadata": {}
        },
        {
          "output_type": "display_data",
          "data": {
            "text/plain": [
              "<IPython.core.display.HTML object>"
            ],
            "text/html": [
              "Run data is saved locally in <code>/content/wandb/run-20250425_040939-npstip45</code>"
            ]
          },
          "metadata": {}
        },
        {
          "output_type": "display_data",
          "data": {
            "text/plain": [
              "<IPython.core.display.HTML object>"
            ],
            "text/html": [
              "Syncing run <strong><a href='https://wandb.ai/wilfried-mvomoeto-university-of-li-ge/Binary_Class_Biobert_Attention_LRTuning/runs/npstip45' target=\"_blank\">LR_0.0001_run</a></strong> to <a href='https://wandb.ai/wilfried-mvomoeto-university-of-li-ge/Binary_Class_Biobert_Attention_LRTuning' target=\"_blank\">Weights & Biases</a> (<a href='https://wandb.me/developer-guide' target=\"_blank\">docs</a>)<br>"
            ]
          },
          "metadata": {}
        },
        {
          "output_type": "display_data",
          "data": {
            "text/plain": [
              "<IPython.core.display.HTML object>"
            ],
            "text/html": [
              " View project at <a href='https://wandb.ai/wilfried-mvomoeto-university-of-li-ge/Binary_Class_Biobert_Attention_LRTuning' target=\"_blank\">https://wandb.ai/wilfried-mvomoeto-university-of-li-ge/Binary_Class_Biobert_Attention_LRTuning</a>"
            ]
          },
          "metadata": {}
        },
        {
          "output_type": "display_data",
          "data": {
            "text/plain": [
              "<IPython.core.display.HTML object>"
            ],
            "text/html": [
              " View run at <a href='https://wandb.ai/wilfried-mvomoeto-university-of-li-ge/Binary_Class_Biobert_Attention_LRTuning/runs/npstip45' target=\"_blank\">https://wandb.ai/wilfried-mvomoeto-university-of-li-ge/Binary_Class_Biobert_Attention_LRTuning/runs/npstip45</a>"
            ]
          },
          "metadata": {}
        },
        {
          "output_type": "stream",
          "name": "stdout",
          "text": [
            "Total trainable parameters (lr=0.0001): 110018305\n"
          ]
        },
        {
          "output_type": "stream",
          "name": "stderr",
          "text": [
            "Evaluating: 100%|██████████| 134/134 [01:34<00:00,  1.42it/s]\n"
          ]
        },
        {
          "output_type": "stream",
          "name": "stdout",
          "text": [
            "LR: 0.0001 | Epoch 1/4 - TL: 0.1919, VL: 0.0956, TA: 91.72%, VA: 96.50%, F1: 97.42%, Time: 9.43 min\n"
          ]
        },
        {
          "output_type": "stream",
          "name": "stderr",
          "text": [
            "Evaluating: 100%|██████████| 134/134 [01:34<00:00,  1.42it/s]\n"
          ]
        },
        {
          "output_type": "stream",
          "name": "stdout",
          "text": [
            "LR: 0.0001 | Epoch 2/4 - TL: 0.0922, VL: 0.0891, TA: 96.54%, VA: 96.67%, F1: 97.52%, Time: 9.44 min\n"
          ]
        },
        {
          "output_type": "stream",
          "name": "stderr",
          "text": [
            "Evaluating: 100%|██████████| 134/134 [01:34<00:00,  1.42it/s]\n"
          ]
        },
        {
          "output_type": "stream",
          "name": "stdout",
          "text": [
            "LR: 0.0001 | Epoch 3/4 - TL: 0.0880, VL: 0.0914, TA: 96.54%, VA: 96.64%, F1: 97.52%, Time: 9.42 min\n"
          ]
        },
        {
          "output_type": "stream",
          "name": "stderr",
          "text": [
            "Evaluating: 100%|██████████| 134/134 [01:34<00:00,  1.42it/s]"
          ]
        },
        {
          "output_type": "stream",
          "name": "stdout",
          "text": [
            "LR: 0.0001 | Epoch 4/4 - TL: 0.0856, VL: 0.0898, TA: 96.69%, VA: 96.48%, F1: 97.37%, Time: 9.44 min\n"
          ]
        },
        {
          "output_type": "stream",
          "name": "stderr",
          "text": [
            "\n"
          ]
        },
        {
          "output_type": "display_data",
          "data": {
            "text/plain": [
              "<IPython.core.display.HTML object>"
            ],
            "text/html": []
          },
          "metadata": {}
        },
        {
          "output_type": "display_data",
          "data": {
            "text/plain": [
              "<IPython.core.display.HTML object>"
            ],
            "text/html": [
              "<br>    <style><br>        .wandb-row {<br>            display: flex;<br>            flex-direction: row;<br>            flex-wrap: wrap;<br>            justify-content: flex-start;<br>            width: 100%;<br>        }<br>        .wandb-col {<br>            display: flex;<br>            flex-direction: column;<br>            flex-basis: 100%;<br>            flex: 1;<br>            padding: 10px;<br>        }<br>    </style><br><div class=\"wandb-row\"><div class=\"wandb-col\"><h3>Run history:</h3><br/><table class=\"wandb\"><tr><td>train_acc</td><td>▁███</td></tr><tr><td>train_loss</td><td>█▁▁▁</td></tr><tr><td>val_acc</td><td>▂█▇▁</td></tr><tr><td>val_f1</td><td>▃██▁</td></tr><tr><td>val_loss</td><td>█▁▃▂</td></tr></table><br/></div><div class=\"wandb-col\"><h3>Run summary:</h3><br/><table class=\"wandb\"><tr><td>train_acc</td><td>0.96691</td></tr><tr><td>train_loss</td><td>0.08563</td></tr><tr><td>val_acc</td><td>0.9648</td></tr><tr><td>val_f1</td><td>0.97371</td></tr><tr><td>val_loss</td><td>0.08984</td></tr></table><br/></div></div>"
            ]
          },
          "metadata": {}
        },
        {
          "output_type": "display_data",
          "data": {
            "text/plain": [
              "<IPython.core.display.HTML object>"
            ],
            "text/html": [
              " View run <strong style=\"color:#cdcd00\">LR_0.0001_run</strong> at: <a href='https://wandb.ai/wilfried-mvomoeto-university-of-li-ge/Binary_Class_Biobert_Attention_LRTuning/runs/npstip45' target=\"_blank\">https://wandb.ai/wilfried-mvomoeto-university-of-li-ge/Binary_Class_Biobert_Attention_LRTuning/runs/npstip45</a><br> View project at: <a href='https://wandb.ai/wilfried-mvomoeto-university-of-li-ge/Binary_Class_Biobert_Attention_LRTuning' target=\"_blank\">https://wandb.ai/wilfried-mvomoeto-university-of-li-ge/Binary_Class_Biobert_Attention_LRTuning</a><br>Synced 5 W&B file(s), 0 media file(s), 0 artifact file(s) and 0 other file(s)"
            ]
          },
          "metadata": {}
        },
        {
          "output_type": "display_data",
          "data": {
            "text/plain": [
              "<IPython.core.display.HTML object>"
            ],
            "text/html": [
              "Find logs at: <code>./wandb/run-20250425_040939-npstip45/logs</code>"
            ]
          },
          "metadata": {}
        },
        {
          "output_type": "stream",
          "name": "stdout",
          "text": [
            "\n",
            "🔹 Training with learning rate: 0.0005\n"
          ]
        },
        {
          "output_type": "display_data",
          "data": {
            "text/plain": [
              "<IPython.core.display.HTML object>"
            ],
            "text/html": [
              "Tracking run with wandb version 0.19.10"
            ]
          },
          "metadata": {}
        },
        {
          "output_type": "display_data",
          "data": {
            "text/plain": [
              "<IPython.core.display.HTML object>"
            ],
            "text/html": [
              "Run data is saved locally in <code>/content/wandb/run-20250425_044731-aavumcns</code>"
            ]
          },
          "metadata": {}
        },
        {
          "output_type": "display_data",
          "data": {
            "text/plain": [
              "<IPython.core.display.HTML object>"
            ],
            "text/html": [
              "Syncing run <strong><a href='https://wandb.ai/wilfried-mvomoeto-university-of-li-ge/Binary_Class_Biobert_Attention_LRTuning/runs/aavumcns' target=\"_blank\">LR_0.0005_run</a></strong> to <a href='https://wandb.ai/wilfried-mvomoeto-university-of-li-ge/Binary_Class_Biobert_Attention_LRTuning' target=\"_blank\">Weights & Biases</a> (<a href='https://wandb.me/developer-guide' target=\"_blank\">docs</a>)<br>"
            ]
          },
          "metadata": {}
        },
        {
          "output_type": "display_data",
          "data": {
            "text/plain": [
              "<IPython.core.display.HTML object>"
            ],
            "text/html": [
              " View project at <a href='https://wandb.ai/wilfried-mvomoeto-university-of-li-ge/Binary_Class_Biobert_Attention_LRTuning' target=\"_blank\">https://wandb.ai/wilfried-mvomoeto-university-of-li-ge/Binary_Class_Biobert_Attention_LRTuning</a>"
            ]
          },
          "metadata": {}
        },
        {
          "output_type": "display_data",
          "data": {
            "text/plain": [
              "<IPython.core.display.HTML object>"
            ],
            "text/html": [
              " View run at <a href='https://wandb.ai/wilfried-mvomoeto-university-of-li-ge/Binary_Class_Biobert_Attention_LRTuning/runs/aavumcns' target=\"_blank\">https://wandb.ai/wilfried-mvomoeto-university-of-li-ge/Binary_Class_Biobert_Attention_LRTuning/runs/aavumcns</a>"
            ]
          },
          "metadata": {}
        },
        {
          "output_type": "stream",
          "name": "stdout",
          "text": [
            "Total trainable parameters (lr=0.0005): 110018305\n"
          ]
        },
        {
          "output_type": "stream",
          "name": "stderr",
          "text": [
            "Evaluating: 100%|██████████| 134/134 [01:34<00:00,  1.42it/s]\n"
          ]
        },
        {
          "output_type": "stream",
          "name": "stdout",
          "text": [
            "LR: 0.0005 | Epoch 1/4 - TL: 0.1309, VL: 0.1035, TA: 94.67%, VA: 95.99%, F1: 96.99%, Time: 9.44 min\n"
          ]
        },
        {
          "output_type": "stream",
          "name": "stderr",
          "text": [
            "Evaluating: 100%|██████████| 134/134 [01:34<00:00,  1.42it/s]\n"
          ]
        },
        {
          "output_type": "stream",
          "name": "stdout",
          "text": [
            "LR: 0.0005 | Epoch 2/4 - TL: 0.0989, VL: 0.0915, TA: 96.21%, VA: 96.69%, F1: 97.55%, Time: 9.43 min\n"
          ]
        },
        {
          "output_type": "stream",
          "name": "stderr",
          "text": [
            "Evaluating: 100%|██████████| 134/134 [01:34<00:00,  1.42it/s]\n"
          ]
        },
        {
          "output_type": "stream",
          "name": "stdout",
          "text": [
            "LR: 0.0005 | Epoch 3/4 - TL: 0.0970, VL: 0.0987, TA: 96.25%, VA: 95.85%, F1: 96.87%, Time: 9.42 min\n"
          ]
        },
        {
          "output_type": "stream",
          "name": "stderr",
          "text": [
            "Evaluating: 100%|██████████| 134/134 [01:34<00:00,  1.42it/s]"
          ]
        },
        {
          "output_type": "stream",
          "name": "stdout",
          "text": [
            "LR: 0.0005 | Epoch 4/4 - TL: 0.0948, VL: 0.0913, TA: 96.33%, VA: 96.32%, F1: 97.23%, Time: 9.42 min\n"
          ]
        },
        {
          "output_type": "stream",
          "name": "stderr",
          "text": [
            "\n"
          ]
        },
        {
          "output_type": "display_data",
          "data": {
            "text/plain": [
              "<IPython.core.display.HTML object>"
            ],
            "text/html": []
          },
          "metadata": {}
        },
        {
          "output_type": "display_data",
          "data": {
            "text/plain": [
              "<IPython.core.display.HTML object>"
            ],
            "text/html": [
              "<br>    <style><br>        .wandb-row {<br>            display: flex;<br>            flex-direction: row;<br>            flex-wrap: wrap;<br>            justify-content: flex-start;<br>            width: 100%;<br>        }<br>        .wandb-col {<br>            display: flex;<br>            flex-direction: column;<br>            flex-basis: 100%;<br>            flex: 1;<br>            padding: 10px;<br>        }<br>    </style><br><div class=\"wandb-row\"><div class=\"wandb-col\"><h3>Run history:</h3><br/><table class=\"wandb\"><tr><td>train_acc</td><td>▁▇██</td></tr><tr><td>train_loss</td><td>█▂▁▁</td></tr><tr><td>val_acc</td><td>▂█▁▅</td></tr><tr><td>val_f1</td><td>▂█▁▅</td></tr><tr><td>val_loss</td><td>█▁▅▁</td></tr></table><br/></div><div class=\"wandb-col\"><h3>Run summary:</h3><br/><table class=\"wandb\"><tr><td>train_acc</td><td>0.96334</td></tr><tr><td>train_loss</td><td>0.09484</td></tr><tr><td>val_acc</td><td>0.96315</td></tr><tr><td>val_f1</td><td>0.97232</td></tr><tr><td>val_loss</td><td>0.09128</td></tr></table><br/></div></div>"
            ]
          },
          "metadata": {}
        },
        {
          "output_type": "display_data",
          "data": {
            "text/plain": [
              "<IPython.core.display.HTML object>"
            ],
            "text/html": [
              " View run <strong style=\"color:#cdcd00\">LR_0.0005_run</strong> at: <a href='https://wandb.ai/wilfried-mvomoeto-university-of-li-ge/Binary_Class_Biobert_Attention_LRTuning/runs/aavumcns' target=\"_blank\">https://wandb.ai/wilfried-mvomoeto-university-of-li-ge/Binary_Class_Biobert_Attention_LRTuning/runs/aavumcns</a><br> View project at: <a href='https://wandb.ai/wilfried-mvomoeto-university-of-li-ge/Binary_Class_Biobert_Attention_LRTuning' target=\"_blank\">https://wandb.ai/wilfried-mvomoeto-university-of-li-ge/Binary_Class_Biobert_Attention_LRTuning</a><br>Synced 5 W&B file(s), 0 media file(s), 0 artifact file(s) and 0 other file(s)"
            ]
          },
          "metadata": {}
        },
        {
          "output_type": "display_data",
          "data": {
            "text/plain": [
              "<IPython.core.display.HTML object>"
            ],
            "text/html": [
              "Find logs at: <code>./wandb/run-20250425_044731-aavumcns/logs</code>"
            ]
          },
          "metadata": {}
        }
      ]
    },
    {
      "cell_type": "markdown",
      "metadata": {
        "id": "4zLwAgfG9lJy"
      },
      "source": [
        "---\n",
        "Learning rate value is set to $ 9 \\cdot 10^{-5}$."
      ]
    },
    {
      "cell_type": "markdown",
      "metadata": {
        "id": "zIQJyx-A4Pzs"
      },
      "source": [
        "---\n",
        "\n",
        "# 3. **Use of Glove (300d) as word embeddings - GRU - Bahdanau Attention**\n",
        "\n",
        "---"
      ]
    },
    {
      "cell_type": "markdown",
      "metadata": {
        "id": "3lToyY6j4lt6"
      },
      "source": [
        "GloVe (Global Vectors for Word Representation) is a type of word embedding developed by the Stanford NLP Group."
      ]
    },
    {
      "cell_type": "code",
      "execution_count": 19,
      "metadata": {
        "id": "MOWkAQlqxGld"
      },
      "outputs": [],
      "source": [
        "def tokenize(text):\n",
        "    \"\"\"\n",
        "    Tokenizes the input text by converting it to lowercase and splitting it into words.\n",
        "\n",
        "    Args:\n",
        "        text: A string containing the text to be tokenized.\n",
        "\n",
        "    Returns:\n",
        "        A list of tokens (words) from the text.\n",
        "    \"\"\"\n",
        "    return re.findall(r'\\b\\w+\\b', text.lower())"
      ]
    },
    {
      "cell_type": "code",
      "execution_count": 20,
      "metadata": {
        "id": "ON0JcVoZxGDW"
      },
      "outputs": [],
      "source": [
        "all_tokens = [token for text in X_train for token in tokenize(text)]\n",
        "vocab = Counter(all_tokens)\n",
        "filtered_vocab = {word: freq for word, freq in vocab.items() if freq >= 2}\n",
        "VOCAB_SIZE =  40000\n",
        "\n",
        "sorted_filtered_vocab = dict(sorted(filtered_vocab.items(), key=lambda item: item[1], reverse=True)[:VOCAB_SIZE])\n",
        "\n",
        "word_to_index = {word: idx for idx, (word, _) in enumerate(sorted_filtered_vocab.items(), 1)}\n",
        "word_to_index[\"<PAD>\"] = 0\n",
        "word_to_index[\"<UNK>\"] = len(word_to_index)\n",
        "\n",
        "index_to_word = {idx: word for word, idx in word_to_index.items()}"
      ]
    },
    {
      "cell_type": "code",
      "execution_count": 21,
      "metadata": {
        "id": "G8NMMCni4DTt"
      },
      "outputs": [],
      "source": [
        "def text_to_sequence(text):\n",
        "    \"\"\"\n",
        "    Converts the tokenized text into a sequence of indices based on a word-to-index mapping.\n",
        "\n",
        "    Args:\n",
        "        text: A string containing the text to be converted.\n",
        "\n",
        "    Returns:\n",
        "        A list of integers representing the sequence of token indices.\n",
        "    \"\"\"\n",
        "    return [word_to_index.get(token, word_to_index[\"<UNK>\"]) for token in tokenize(text)]\n",
        "\n",
        "def pad_to_tensor(sequences, max_len=None):\n",
        "    \"\"\"\n",
        "    Pads sequences to the specified maximum length, or truncates them if they exceed it.\n",
        "\n",
        "    Args:\n",
        "        sequences: A list of sequences (each sequence is a list of integers).\n",
        "        max_len: The maximum length to which sequences should be padded. If None, no padding is applied.\n",
        "\n",
        "    Returns:\n",
        "        A tensor containing the padded (or truncated) sequences.\n",
        "    \"\"\"\n",
        "    padded_sequences = [torch.tensor(seq, dtype=torch.long) for seq in sequences]\n",
        "    if max_len:\n",
        "        padded_sequences = [seq[:max_len] for seq in padded_sequences]\n",
        "        padded_sequences = [\n",
        "            torch.cat([seq, torch.zeros(max_len - len(seq), dtype=torch.long)], 0) if len(seq) < max_len else seq\n",
        "            for seq in padded_sequences\n",
        "        ]\n",
        "\n",
        "    return torch.stack(padded_sequences)\n",
        "\n",
        "class TextDataset(Dataset):\n",
        "    \"\"\"\n",
        "    Custom Dataset for handling text data and labels.\n",
        "\n",
        "    Args:\n",
        "        X_data: Input features (e.g., tokenized text).\n",
        "        y_data: Labels corresponding to the text data.\n",
        "        raw_text_data: (Optional) The raw text data for reference (default is None).\n",
        "    \"\"\"\n",
        "    def __init__(self, X_data, y_data, raw_text_data=None):\n",
        "        self.X = torch.tensor(X_data, dtype=torch.long)\n",
        "        self.y = torch.tensor(y_data, dtype=torch.long)\n",
        "        self.raw_text_data = raw_text_data\n",
        "\n",
        "    def __len__(self):\n",
        "        return len(self.X)\n",
        "\n",
        "    def __getitem__(self, idx):\n",
        "        input_tensor = self.X[idx]\n",
        "        target_tensor = self.y[idx]\n",
        "        raw_text = self.raw_text_data[idx] if self.raw_text_data is not None else None\n",
        "        return input_tensor, target_tensor, raw_text\n",
        "\n",
        "def load_glove_embeddings(glove_path, word_to_index, embedding_dim):\n",
        "    \"\"\"Loads GloVe embeddings and returns an embedding matrix.\"\"\"\n",
        "    embedding_matrix = np.zeros((len(word_to_index), embedding_dim), dtype='float32')\n",
        "    with open(glove_path, 'r', encoding=\"utf-8\") as f:\n",
        "        for line in f:\n",
        "            values = line.strip().split()\n",
        "            word = values[0]\n",
        "            if word in word_to_index:\n",
        "                vector = np.asarray(values[1:], dtype='float32')\n",
        "                embedding_matrix[word_to_index[word]] = vector\n",
        "\n",
        "    return torch.tensor(embedding_matrix, dtype=torch.float)"
      ]
    },
    {
      "cell_type": "code",
      "execution_count": 22,
      "metadata": {
        "id": "rPrX3hAUwnRd",
        "colab": {
          "base_uri": "https://localhost:8080/"
        },
        "outputId": "eb090e7f-eb56-4778-b110-25e05b2d76e7"
      },
      "outputs": [
        {
          "output_type": "stream",
          "name": "stdout",
          "text": [
            "[601, 22, 41, 202, 1, 54, 10360, 12405, 1996, 26, 2135, 1985, 1119, 1706, 115, 159, 39, 317, 9337, 1104, 155, 1119, 403, 5672, 2618, 790, 34, 413, 5, 331, 368, 534, 232, 728, 482, 263, 3719, 88, 83, 403, 15, 1119, 1141, 2948, 856, 15, 96, 6211, 1823, 3691, 53, 705, 1198, 53, 1324, 61, 505, 6, 210, 143, 32, 497, 1060, 1198, 174, 53, 817, 1119, 1141, 17, 48, 728, 3719, 2432, 34371, 5483, 7312, 34371, 5483, 6, 6871, 10, 84, 40001, 1584, 666, 120, 48, 931, 21, 193, 5, 368, 3719, 88, 40001, 4945, 568, 88, 6979, 2393, 15, 10, 7312, 6871, 88, 77, 82, 86, 568, 40001, 278, 7, 3, 34372, 278, 7, 3, 40001, 1757, 1974, 77, 2393, 2393, 195, 3, 12888, 9, 3, 362, 42, 65, 3, 8847, 9, 3, 362, 42, 65, 91, 21, 47, 3720, 3282, 1761, 3823, 483, 2936, 5191, 7312, 541, 7, 325, 732, 75, 443, 732, 12, 86, 1619, 195, 7801, 948, 54, 279, 1619, 195, 8456, 1676, 195, 6871, 42, 7, 182, 182, 743, 54, 91, 50, 5, 77, 7312, 6871, 10361, 27, 534, 4621, 403, 1119, 1141, 1456, 1368, 3474, 156, 1, 1475, 1414, 1840, 41, 202, 1]\n",
            "Train Tensor Shape: torch.Size([18818, 400]), Type: torch.int64\n",
            "Validation Tensor Shape: torch.Size([4032, 400]), Type: torch.int64\n",
            "Test Tensor Shape: torch.Size([4033, 400]), Type: torch.int64\n"
          ]
        }
      ],
      "source": [
        "X_train_seq = [text_to_sequence(text) for text in X_train]\n",
        "X_val_seq = [text_to_sequence(text) for text in X_val]\n",
        "X_test_seq = [text_to_sequence(text) for text in X_test]\n",
        "\n",
        "print(X_train_seq[0])\n",
        "max_length = 400\n",
        "\n",
        "X_train_tensor = pad_to_tensor(X_train_seq, max_len=max_length)\n",
        "X_val_tensor = pad_to_tensor(X_val_seq, max_len=max_length)\n",
        "X_test_tensor = pad_to_tensor(X_test_seq, max_len=max_length)\n",
        "\n",
        "print(f\"Train Tensor Shape: {X_train_tensor.shape}, Type: {X_train_tensor.dtype}\")\n",
        "print(f\"Validation Tensor Shape: {X_val_tensor.shape}, Type: {X_val_tensor.dtype}\")\n",
        "print(f\"Test Tensor Shape: {X_test_tensor.shape}, Type: {X_test_tensor.dtype}\")\n",
        "\n",
        "y_train_tensor = torch.tensor(y_train)\n",
        "y_val_tensor = torch.tensor(y_val)\n",
        "y_test_tensor = torch.tensor(y_test)"
      ]
    },
    {
      "cell_type": "code",
      "execution_count": 23,
      "metadata": {
        "id": "EMUZ8nprw7iP"
      },
      "outputs": [],
      "source": [
        "class GloVe_GRU_BahdanauAttention(nn.Module):\n",
        "    \"\"\"\n",
        "    Model using GloVe embeddings, GRU layers, and Bahdanau Attention for classification.\n",
        "\n",
        "    Args:\n",
        "        embedding_matrix (Tensor): Pretrained GloVe embedding matrix.\n",
        "        hidden_dim (int): Hidden size for the GRU.\n",
        "        num_classes (int): Output classes.\n",
        "        num_layers (int): GRU depth.\n",
        "        dropout_prob (float): Dropout rate.\n",
        "    \"\"\"\n",
        "    def __init__(self, embedding_matrix, hidden_dim, num_layers=1, dropout_prob=0.6):\n",
        "        super(GloVe_GRU_BahdanauAttention, self).__init__()\n",
        "\n",
        "        vocab_size, embedding_dim = embedding_matrix.shape\n",
        "        self.embedding = nn.Embedding.from_pretrained(embedding_matrix, freeze=False)\n",
        "\n",
        "        self.gru = nn.GRU(\n",
        "            input_size=embedding_dim,\n",
        "            hidden_size=hidden_dim,\n",
        "            num_layers=num_layers,\n",
        "            batch_first=True,\n",
        "            bidirectional=True\n",
        "        )\n",
        "\n",
        "        self.attention = BahdanauAttention(hidden_dim)\n",
        "        self.fc = nn.Linear(hidden_dim * 2, 1)\n",
        "        self.dropout = nn.Dropout(dropout_prob)\n",
        "\n",
        "    def forward(self, x):\n",
        "        \"\"\"\n",
        "        Args:\n",
        "            x (Tensor): Tensor of token indices (batch_size, seq_len)\n",
        "\n",
        "        Returns:\n",
        "            Tensor: Output logits for classification.\n",
        "        \"\"\"\n",
        "        embedded = self.embedding(x)\n",
        "        gru_out, _ = self.gru(embedded)\n",
        "        context = self.attention(gru_out)\n",
        "        x = self.dropout(context)\n",
        "        output = self.fc(x)\n",
        "        return output"
      ]
    },
    {
      "cell_type": "code",
      "execution_count": 24,
      "metadata": {
        "id": "fUWEehDbzkol"
      },
      "outputs": [],
      "source": [
        "def train_epoch_glove(model, train_loader, optimizer, criterion, device):\n",
        "    \"\"\"\n",
        "    Train the model for one epoch on the training data using GloVe embeddings.\n",
        "\n",
        "    Args:\n",
        "        model (nn.Module): The model to be trained.\n",
        "        train_loader (DataLoader): DataLoader for the training data.\n",
        "        optimizer (torch.optim.Optimizer): Optimizer for training.\n",
        "        criterion (nn.Module): Loss function.\n",
        "        device (torch.device): Device to run the training on (CPU or CUDA).\n",
        "\n",
        "    Returns:\n",
        "        Tuple[float, float]: Average loss and accuracy over the epoch.\n",
        "    \"\"\"\n",
        "    model.train()\n",
        "    total_loss, total_accuracy = 0, 0\n",
        "\n",
        "    for batch in train_loader:\n",
        "        if len(batch) == 3:\n",
        "            input_tensor, target_tensor, _ = batch\n",
        "        else:\n",
        "            input_tensor, target_tensor = batch\n",
        "\n",
        "        input_tensor = input_tensor.to(device)\n",
        "        target_tensor = target_tensor.float().to(device)\n",
        "\n",
        "        optimizer.zero_grad()\n",
        "        output = model(input_tensor).squeeze(1)\n",
        "\n",
        "        loss = criterion(output, target_tensor)\n",
        "        loss.backward()\n",
        "        torch.nn.utils.clip_grad_norm_(model.parameters(), max_norm=1.0)\n",
        "        optimizer.step()\n",
        "\n",
        "        preds = (torch.sigmoid(output) >= 0.5).long()\n",
        "        correct = (preds == target_tensor.long()).sum().item()\n",
        "        total_accuracy += correct\n",
        "        total_loss += loss.item()\n",
        "\n",
        "    avg_loss = total_loss / len(train_loader)\n",
        "    avg_accuracy = total_accuracy / len(train_loader.dataset)\n",
        "\n",
        "    return avg_loss, avg_accuracy\n",
        "\n",
        "\n",
        "def validate_epoch_glove(model, val_loader, criterion, device):\n",
        "    \"\"\"\n",
        "    Validate the model on the validation set and compute weighted F1 and accuracy.\n",
        "\n",
        "    Args:\n",
        "        model (nn.Module): The trained model.\n",
        "        val_loader (DataLoader): DataLoader for the validation data.\n",
        "        criterion (nn.Module): Loss function.\n",
        "        device (torch.device): Device to run validation on.\n",
        "\n",
        "    Returns:\n",
        "        Tuple[float, float, float]: Average loss, F1 score, and accuracy.\n",
        "    \"\"\"\n",
        "    model.eval()\n",
        "    total_loss, total_accuracy = 0, 0\n",
        "    all_preds = []\n",
        "    all_labels = []\n",
        "\n",
        "    with torch.no_grad():\n",
        "        for batch in val_loader:\n",
        "            if len(batch) == 3:\n",
        "                input_tensor, target_tensor, _ = batch\n",
        "            else:\n",
        "                input_tensor, target_tensor = batch\n",
        "\n",
        "            input_tensor = input_tensor.to(device)\n",
        "            target_tensor = target_tensor.float().to(device)\n",
        "\n",
        "            output = model(input_tensor).squeeze(1)\n",
        "            loss = criterion(output, target_tensor)\n",
        "\n",
        "            preds = (torch.sigmoid(output) >= 0.5).long()\n",
        "            correct = (preds == target_tensor.long()).sum().item()\n",
        "            total_accuracy += correct\n",
        "            total_loss += loss.item()\n",
        "\n",
        "            all_preds.extend(preds.cpu().numpy())\n",
        "            all_labels.extend(target_tensor.long().cpu().numpy())\n",
        "\n",
        "    avg_loss = total_loss / len(val_loader)\n",
        "    avg_accuracy = total_accuracy / len(val_loader.dataset)\n",
        "    f1 = f1_score(all_labels, all_preds, average='weighted', zero_division=0)\n",
        "\n",
        "    return avg_accuracy, f1, avg_loss\n",
        "\n",
        "def test_epoch_glove(model, val_loader, criterion, device):\n",
        "    \"\"\"\n",
        "    Validate the model and compute a complete set of metrics for multi-class classification.\n",
        "\n",
        "    Args:\n",
        "        model (nn.Module): The trained model.\n",
        "        val_loader (DataLoader): DataLoader for the validation data.\n",
        "        criterion (nn.Module): Loss function.\n",
        "        device (torch.device): Device to run validation on.\n",
        "\n",
        "    Returns:\n",
        "        Tuple[float, float, float, float, float, float]:\n",
        "            Average loss, accuracy, F1 score (weighted),\n",
        "            balanced accuracy, recall (weighted), precision (weighted).\n",
        "    \"\"\"\n",
        "    model.eval()\n",
        "    total_loss, total_accuracy = 0, 0\n",
        "    all_preds = []\n",
        "    all_labels = []\n",
        "\n",
        "    with torch.no_grad():\n",
        "        for batch in val_loader:\n",
        "            if len(batch) == 3:\n",
        "                input_tensor, target_tensor, _ = batch\n",
        "            else:\n",
        "                input_tensor, target_tensor = batch\n",
        "\n",
        "            input_tensor = input_tensor.to(device)\n",
        "            target_tensor = target_tensor.float().to(device)\n",
        "\n",
        "            output = model(input_tensor).squeeze(1)\n",
        "            loss = criterion(output, target_tensor)\n",
        "\n",
        "            preds = (torch.sigmoid(output) >= 0.5).long()\n",
        "            correct = (preds == target_tensor.long()).sum().item()\n",
        "            total_accuracy += correct\n",
        "            total_loss += loss.item()\n",
        "\n",
        "            all_preds.extend(preds.cpu().numpy())\n",
        "            all_labels.extend(target_tensor.long().cpu().numpy())\n",
        "\n",
        "    avg_loss = total_loss / len(val_loader)\n",
        "    avg_accuracy = total_accuracy / len(val_loader.dataset)\n",
        "    f1 = f1_score(all_labels, all_preds, average='weighted', zero_division=0)\n",
        "    balanced_acc = balanced_accuracy_score(all_labels, all_preds)\n",
        "    precision = precision_score(all_labels, all_preds, average='weighted', zero_division=0)\n",
        "    recall = recall_score(all_labels, all_preds, average='weighted', zero_division=0)\n",
        "\n",
        "    return avg_loss, avg_accuracy, f1, balanced_acc, recall, precision"
      ]
    },
    {
      "cell_type": "code",
      "execution_count": 25,
      "metadata": {
        "id": "-v2ewV5s2kW-",
        "colab": {
          "base_uri": "https://localhost:8080/"
        },
        "outputId": "29811ba2-af8e-4a0a-ab50-2ae14b1d99c6"
      },
      "outputs": [
        {
          "output_type": "stream",
          "name": "stderr",
          "text": [
            "<ipython-input-21-811d6649565c>:44: UserWarning: To copy construct from a tensor, it is recommended to use sourceTensor.clone().detach() or sourceTensor.clone().detach().requires_grad_(True), rather than torch.tensor(sourceTensor).\n",
            "  self.X = torch.tensor(X_data, dtype=torch.long)\n"
          ]
        }
      ],
      "source": [
        "EMBEDDING_DIM = 300\n",
        "embedding_matrix = load_glove_embeddings('/content/drive/MyDrive/glove/glove.6B.300d.txt', word_to_index, EMBEDDING_DIM)\n",
        "\n",
        "train_dataset = TextDataset(X_train_tensor, y_train, raw_text_data=X_train)\n",
        "val_dataset = TextDataset(X_val_tensor, y_val, raw_text_data=X_val)\n",
        "test_dataset = TextDataset(X_test_tensor, y_test, raw_text_data=X_test)\n",
        "\n",
        "train_loader = DataLoader(train_dataset, batch_size=BATCH_SIZE, shuffle=True)\n",
        "val_loader = DataLoader(val_dataset, batch_size=BATCH_SIZE, shuffle=False)\n",
        "test_loader = DataLoader(test_dataset, batch_size=BATCH_SIZE, shuffle=False)"
      ]
    },
    {
      "cell_type": "markdown",
      "metadata": {
        "id": "fDzA8dRB_ohq"
      },
      "source": [
        "---\n",
        "## 3.1 **Optimisation phase**"
      ]
    },
    {
      "cell_type": "markdown",
      "metadata": {
        "id": "P52-z8td85HX"
      },
      "source": [
        "2.1.1 Optimizer selection"
      ]
    },
    {
      "cell_type": "code",
      "execution_count": null,
      "metadata": {
        "id": "1SXyBm643Jb3",
        "colab": {
          "base_uri": "https://localhost:8080/",
          "height": 1000
        },
        "outputId": "640980cf-48f0-4004-9c38-494018815563"
      },
      "outputs": [
        {
          "output_type": "stream",
          "name": "stdout",
          "text": [
            "\n",
            "🔹 Training with optimizer: RMSprop\n"
          ]
        },
        {
          "output_type": "display_data",
          "data": {
            "text/plain": [
              "<IPython.core.display.HTML object>"
            ],
            "text/html": [
              "Finishing previous runs because reinit is set to 'default'."
            ]
          },
          "metadata": {}
        },
        {
          "output_type": "display_data",
          "data": {
            "text/plain": [
              "<IPython.core.display.HTML object>"
            ],
            "text/html": []
          },
          "metadata": {}
        },
        {
          "output_type": "display_data",
          "data": {
            "text/plain": [
              "<IPython.core.display.HTML object>"
            ],
            "text/html": [
              "<br>    <style><br>        .wandb-row {<br>            display: flex;<br>            flex-direction: row;<br>            flex-wrap: wrap;<br>            justify-content: flex-start;<br>            width: 100%;<br>        }<br>        .wandb-col {<br>            display: flex;<br>            flex-direction: column;<br>            flex-basis: 100%;<br>            flex: 1;<br>            padding: 10px;<br>        }<br>    </style><br><div class=\"wandb-row\"><div class=\"wandb-col\"><h3>Run history:</h3><br/><table class=\"wandb\"><tr><td>train_acc</td><td>▁</td></tr><tr><td>train_loss</td><td>▁</td></tr><tr><td>val_acc</td><td>▁</td></tr><tr><td>val_f1</td><td>▁</td></tr><tr><td>val_loss</td><td>▁</td></tr></table><br/></div><div class=\"wandb-col\"><h3>Run summary:</h3><br/><table class=\"wandb\"><tr><td>train_acc</td><td>0.89197</td></tr><tr><td>train_loss</td><td>0.29416</td></tr><tr><td>val_acc</td><td>0.9065</td></tr><tr><td>val_f1</td><td>0.9077</td></tr><tr><td>val_loss</td><td>0.2359</td></tr></table><br/></div></div>"
            ]
          },
          "metadata": {}
        },
        {
          "output_type": "display_data",
          "data": {
            "text/plain": [
              "<IPython.core.display.HTML object>"
            ],
            "text/html": [
              " View run <strong style=\"color:#cdcd00\">RMSprop_run</strong> at: <a href='https://wandb.ai/wilfried-mvomoeto-university-of-li-ge/Binary_Class_Optimizer_Comparison_gru_attention_glove300d/runs/xvh72v8v' target=\"_blank\">https://wandb.ai/wilfried-mvomoeto-university-of-li-ge/Binary_Class_Optimizer_Comparison_gru_attention_glove300d/runs/xvh72v8v</a><br> View project at: <a href='https://wandb.ai/wilfried-mvomoeto-university-of-li-ge/Binary_Class_Optimizer_Comparison_gru_attention_glove300d' target=\"_blank\">https://wandb.ai/wilfried-mvomoeto-university-of-li-ge/Binary_Class_Optimizer_Comparison_gru_attention_glove300d</a><br>Synced 5 W&B file(s), 0 media file(s), 0 artifact file(s) and 0 other file(s)"
            ]
          },
          "metadata": {}
        },
        {
          "output_type": "display_data",
          "data": {
            "text/plain": [
              "<IPython.core.display.HTML object>"
            ],
            "text/html": [
              "Find logs at: <code>./wandb/run-20250424_081523-xvh72v8v/logs</code>"
            ]
          },
          "metadata": {}
        },
        {
          "output_type": "display_data",
          "data": {
            "text/plain": [
              "<IPython.core.display.HTML object>"
            ],
            "text/html": [
              "Tracking run with wandb version 0.19.10"
            ]
          },
          "metadata": {}
        },
        {
          "output_type": "display_data",
          "data": {
            "text/plain": [
              "<IPython.core.display.HTML object>"
            ],
            "text/html": [
              "Run data is saved locally in <code>/content/wandb/run-20250424_081641-pllqi7jb</code>"
            ]
          },
          "metadata": {}
        },
        {
          "output_type": "display_data",
          "data": {
            "text/plain": [
              "<IPython.core.display.HTML object>"
            ],
            "text/html": [
              "Syncing run <strong><a href='https://wandb.ai/wilfried-mvomoeto-university-of-li-ge/Binary_Class_Optimizer_Comparison_gru_attention_glove300d/runs/pllqi7jb' target=\"_blank\">RMSprop_run</a></strong> to <a href='https://wandb.ai/wilfried-mvomoeto-university-of-li-ge/Binary_Class_Optimizer_Comparison_gru_attention_glove300d' target=\"_blank\">Weights & Biases</a> (<a href='https://wandb.me/developer-guide' target=\"_blank\">docs</a>)<br>"
            ]
          },
          "metadata": {}
        },
        {
          "output_type": "display_data",
          "data": {
            "text/plain": [
              "<IPython.core.display.HTML object>"
            ],
            "text/html": [
              " View project at <a href='https://wandb.ai/wilfried-mvomoeto-university-of-li-ge/Binary_Class_Optimizer_Comparison_gru_attention_glove300d' target=\"_blank\">https://wandb.ai/wilfried-mvomoeto-university-of-li-ge/Binary_Class_Optimizer_Comparison_gru_attention_glove300d</a>"
            ]
          },
          "metadata": {}
        },
        {
          "output_type": "display_data",
          "data": {
            "text/plain": [
              "<IPython.core.display.HTML object>"
            ],
            "text/html": [
              " View run at <a href='https://wandb.ai/wilfried-mvomoeto-university-of-li-ge/Binary_Class_Optimizer_Comparison_gru_attention_glove300d/runs/pllqi7jb' target=\"_blank\">https://wandb.ai/wilfried-mvomoeto-university-of-li-ge/Binary_Class_Optimizer_Comparison_gru_attention_glove300d/runs/pllqi7jb</a>"
            ]
          },
          "metadata": {}
        },
        {
          "output_type": "stream",
          "name": "stdout",
          "text": [
            "GloVe_GRU_BahdanauAttention(\n",
            "  (embedding): Embedding(40002, 300)\n",
            "  (gru): GRU(300, 350, batch_first=True, bidirectional=True)\n",
            "  (attention): BahdanauAttention(\n",
            "    (W): Linear(in_features=700, out_features=350, bias=True)\n",
            "    (v): Linear(in_features=350, out_features=1, bias=False)\n",
            "  )\n",
            "  (fc): Linear(in_features=700, out_features=1, bias=True)\n",
            "  (dropout): Dropout(p=0.8, inplace=False)\n",
            ")\n",
            "Total trainable parameters: 13616201\n"
          ]
        },
        {
          "output_type": "stream",
          "name": "stderr",
          "text": [
            "Optimizer: RMSprop | Epoch 8/8 - Train Loss: 0.0472, Val Loss: 0.3818, Train ACSA: 97.99%, Val ACSA: 89.81%, Time: 0.68 min: 100%|██████████| 8/8 [05:31<00:00, 41.47s/epoch]\n"
          ]
        },
        {
          "output_type": "display_data",
          "data": {
            "text/plain": [
              "<IPython.core.display.HTML object>"
            ],
            "text/html": []
          },
          "metadata": {}
        },
        {
          "output_type": "display_data",
          "data": {
            "text/plain": [
              "<IPython.core.display.HTML object>"
            ],
            "text/html": [
              "<br>    <style><br>        .wandb-row {<br>            display: flex;<br>            flex-direction: row;<br>            flex-wrap: wrap;<br>            justify-content: flex-start;<br>            width: 100%;<br>        }<br>        .wandb-col {<br>            display: flex;<br>            flex-direction: column;<br>            flex-basis: 100%;<br>            flex: 1;<br>            padding: 10px;<br>        }<br>    </style><br><div class=\"wandb-row\"><div class=\"wandb-col\"><h3>Run history:</h3><br/><table class=\"wandb\"><tr><td>train_acc</td><td>▁▄▅▆▇███</td></tr><tr><td>train_loss</td><td>█▆▄▃▂▁▁▁</td></tr><tr><td>val_acc</td><td>▆█▅▂▄▂▁▁</td></tr><tr><td>val_f1</td><td>▆█▅▂▄▂▁▁</td></tr><tr><td>val_loss</td><td>▂▁▁▂▆▅▇█</td></tr></table><br/></div><div class=\"wandb-col\"><h3>Run summary:</h3><br/><table class=\"wandb\"><tr><td>train_acc</td><td>0.97986</td></tr><tr><td>train_loss</td><td>0.04723</td></tr><tr><td>val_acc</td><td>0.89807</td></tr><tr><td>val_f1</td><td>0.89872</td></tr><tr><td>val_loss</td><td>0.38183</td></tr></table><br/></div></div>"
            ]
          },
          "metadata": {}
        },
        {
          "output_type": "display_data",
          "data": {
            "text/plain": [
              "<IPython.core.display.HTML object>"
            ],
            "text/html": [
              " View run <strong style=\"color:#cdcd00\">RMSprop_run</strong> at: <a href='https://wandb.ai/wilfried-mvomoeto-university-of-li-ge/Binary_Class_Optimizer_Comparison_gru_attention_glove300d/runs/pllqi7jb' target=\"_blank\">https://wandb.ai/wilfried-mvomoeto-university-of-li-ge/Binary_Class_Optimizer_Comparison_gru_attention_glove300d/runs/pllqi7jb</a><br> View project at: <a href='https://wandb.ai/wilfried-mvomoeto-university-of-li-ge/Binary_Class_Optimizer_Comparison_gru_attention_glove300d' target=\"_blank\">https://wandb.ai/wilfried-mvomoeto-university-of-li-ge/Binary_Class_Optimizer_Comparison_gru_attention_glove300d</a><br>Synced 5 W&B file(s), 0 media file(s), 0 artifact file(s) and 0 other file(s)"
            ]
          },
          "metadata": {}
        },
        {
          "output_type": "display_data",
          "data": {
            "text/plain": [
              "<IPython.core.display.HTML object>"
            ],
            "text/html": [
              "Find logs at: <code>./wandb/run-20250424_081641-pllqi7jb/logs</code>"
            ]
          },
          "metadata": {}
        },
        {
          "output_type": "stream",
          "name": "stdout",
          "text": [
            "\n",
            "🔹 Training with optimizer: Adam\n"
          ]
        },
        {
          "output_type": "display_data",
          "data": {
            "text/plain": [
              "<IPython.core.display.HTML object>"
            ],
            "text/html": [
              "Tracking run with wandb version 0.19.10"
            ]
          },
          "metadata": {}
        },
        {
          "output_type": "display_data",
          "data": {
            "text/plain": [
              "<IPython.core.display.HTML object>"
            ],
            "text/html": [
              "Run data is saved locally in <code>/content/wandb/run-20250424_082219-5kynt1ql</code>"
            ]
          },
          "metadata": {}
        },
        {
          "output_type": "display_data",
          "data": {
            "text/plain": [
              "<IPython.core.display.HTML object>"
            ],
            "text/html": [
              "Syncing run <strong><a href='https://wandb.ai/wilfried-mvomoeto-university-of-li-ge/Binary_Class_Optimizer_Comparison_gru_attention_glove300d/runs/5kynt1ql' target=\"_blank\">Adam_run</a></strong> to <a href='https://wandb.ai/wilfried-mvomoeto-university-of-li-ge/Binary_Class_Optimizer_Comparison_gru_attention_glove300d' target=\"_blank\">Weights & Biases</a> (<a href='https://wandb.me/developer-guide' target=\"_blank\">docs</a>)<br>"
            ]
          },
          "metadata": {}
        },
        {
          "output_type": "display_data",
          "data": {
            "text/plain": [
              "<IPython.core.display.HTML object>"
            ],
            "text/html": [
              " View project at <a href='https://wandb.ai/wilfried-mvomoeto-university-of-li-ge/Binary_Class_Optimizer_Comparison_gru_attention_glove300d' target=\"_blank\">https://wandb.ai/wilfried-mvomoeto-university-of-li-ge/Binary_Class_Optimizer_Comparison_gru_attention_glove300d</a>"
            ]
          },
          "metadata": {}
        },
        {
          "output_type": "display_data",
          "data": {
            "text/plain": [
              "<IPython.core.display.HTML object>"
            ],
            "text/html": [
              " View run at <a href='https://wandb.ai/wilfried-mvomoeto-university-of-li-ge/Binary_Class_Optimizer_Comparison_gru_attention_glove300d/runs/5kynt1ql' target=\"_blank\">https://wandb.ai/wilfried-mvomoeto-university-of-li-ge/Binary_Class_Optimizer_Comparison_gru_attention_glove300d/runs/5kynt1ql</a>"
            ]
          },
          "metadata": {}
        },
        {
          "output_type": "stream",
          "name": "stdout",
          "text": [
            "GloVe_GRU_BahdanauAttention(\n",
            "  (embedding): Embedding(40002, 300)\n",
            "  (gru): GRU(300, 350, batch_first=True, bidirectional=True)\n",
            "  (attention): BahdanauAttention(\n",
            "    (W): Linear(in_features=700, out_features=350, bias=True)\n",
            "    (v): Linear(in_features=350, out_features=1, bias=False)\n",
            "  )\n",
            "  (fc): Linear(in_features=700, out_features=1, bias=True)\n",
            "  (dropout): Dropout(p=0.8, inplace=False)\n",
            ")\n",
            "Total trainable parameters: 13616201\n"
          ]
        },
        {
          "output_type": "stream",
          "name": "stderr",
          "text": [
            "Optimizer: Adam | Epoch 8/8 - Train Loss: 0.0417, Val Loss: 0.4202, Train ACSA: 98.23%, Val ACSA: 88.62%, Time: 0.69 min: 100%|██████████| 8/8 [05:32<00:00, 41.57s/epoch]\n"
          ]
        },
        {
          "output_type": "display_data",
          "data": {
            "text/plain": [
              "<IPython.core.display.HTML object>"
            ],
            "text/html": []
          },
          "metadata": {}
        },
        {
          "output_type": "display_data",
          "data": {
            "text/plain": [
              "<IPython.core.display.HTML object>"
            ],
            "text/html": [
              "<br>    <style><br>        .wandb-row {<br>            display: flex;<br>            flex-direction: row;<br>            flex-wrap: wrap;<br>            justify-content: flex-start;<br>            width: 100%;<br>        }<br>        .wandb-col {<br>            display: flex;<br>            flex-direction: column;<br>            flex-basis: 100%;<br>            flex: 1;<br>            padding: 10px;<br>        }<br>    </style><br><div class=\"wandb-row\"><div class=\"wandb-col\"><h3>Run history:</h3><br/><table class=\"wandb\"><tr><td>train_acc</td><td>▁▃▅▇████</td></tr><tr><td>train_loss</td><td>█▆▄▂▂▁▁▁</td></tr><tr><td>val_acc</td><td>▇█▅▄▃▃▄▁</td></tr><tr><td>val_f1</td><td>▇█▅▄▃▃▅▁</td></tr><tr><td>val_loss</td><td>▁▁▂▃▅▅▅█</td></tr></table><br/></div><div class=\"wandb-col\"><h3>Run summary:</h3><br/><table class=\"wandb\"><tr><td>train_acc</td><td>0.98225</td></tr><tr><td>train_loss</td><td>0.04173</td></tr><tr><td>val_acc</td><td>0.88616</td></tr><tr><td>val_f1</td><td>0.8849</td></tr><tr><td>val_loss</td><td>0.42019</td></tr></table><br/></div></div>"
            ]
          },
          "metadata": {}
        },
        {
          "output_type": "display_data",
          "data": {
            "text/plain": [
              "<IPython.core.display.HTML object>"
            ],
            "text/html": [
              " View run <strong style=\"color:#cdcd00\">Adam_run</strong> at: <a href='https://wandb.ai/wilfried-mvomoeto-university-of-li-ge/Binary_Class_Optimizer_Comparison_gru_attention_glove300d/runs/5kynt1ql' target=\"_blank\">https://wandb.ai/wilfried-mvomoeto-university-of-li-ge/Binary_Class_Optimizer_Comparison_gru_attention_glove300d/runs/5kynt1ql</a><br> View project at: <a href='https://wandb.ai/wilfried-mvomoeto-university-of-li-ge/Binary_Class_Optimizer_Comparison_gru_attention_glove300d' target=\"_blank\">https://wandb.ai/wilfried-mvomoeto-university-of-li-ge/Binary_Class_Optimizer_Comparison_gru_attention_glove300d</a><br>Synced 5 W&B file(s), 0 media file(s), 0 artifact file(s) and 0 other file(s)"
            ]
          },
          "metadata": {}
        },
        {
          "output_type": "display_data",
          "data": {
            "text/plain": [
              "<IPython.core.display.HTML object>"
            ],
            "text/html": [
              "Find logs at: <code>./wandb/run-20250424_082219-5kynt1ql/logs</code>"
            ]
          },
          "metadata": {}
        },
        {
          "output_type": "stream",
          "name": "stdout",
          "text": [
            "\n",
            "🔹 Training with optimizer: AdamW\n"
          ]
        },
        {
          "output_type": "display_data",
          "data": {
            "text/plain": [
              "<IPython.core.display.HTML object>"
            ],
            "text/html": [
              "Tracking run with wandb version 0.19.10"
            ]
          },
          "metadata": {}
        },
        {
          "output_type": "display_data",
          "data": {
            "text/plain": [
              "<IPython.core.display.HTML object>"
            ],
            "text/html": [
              "Run data is saved locally in <code>/content/wandb/run-20250424_082753-apt67xhl</code>"
            ]
          },
          "metadata": {}
        },
        {
          "output_type": "display_data",
          "data": {
            "text/plain": [
              "<IPython.core.display.HTML object>"
            ],
            "text/html": [
              "Syncing run <strong><a href='https://wandb.ai/wilfried-mvomoeto-university-of-li-ge/Binary_Class_Optimizer_Comparison_gru_attention_glove300d/runs/apt67xhl' target=\"_blank\">AdamW_run</a></strong> to <a href='https://wandb.ai/wilfried-mvomoeto-university-of-li-ge/Binary_Class_Optimizer_Comparison_gru_attention_glove300d' target=\"_blank\">Weights & Biases</a> (<a href='https://wandb.me/developer-guide' target=\"_blank\">docs</a>)<br>"
            ]
          },
          "metadata": {}
        },
        {
          "output_type": "display_data",
          "data": {
            "text/plain": [
              "<IPython.core.display.HTML object>"
            ],
            "text/html": [
              " View project at <a href='https://wandb.ai/wilfried-mvomoeto-university-of-li-ge/Binary_Class_Optimizer_Comparison_gru_attention_glove300d' target=\"_blank\">https://wandb.ai/wilfried-mvomoeto-university-of-li-ge/Binary_Class_Optimizer_Comparison_gru_attention_glove300d</a>"
            ]
          },
          "metadata": {}
        },
        {
          "output_type": "display_data",
          "data": {
            "text/plain": [
              "<IPython.core.display.HTML object>"
            ],
            "text/html": [
              " View run at <a href='https://wandb.ai/wilfried-mvomoeto-university-of-li-ge/Binary_Class_Optimizer_Comparison_gru_attention_glove300d/runs/apt67xhl' target=\"_blank\">https://wandb.ai/wilfried-mvomoeto-university-of-li-ge/Binary_Class_Optimizer_Comparison_gru_attention_glove300d/runs/apt67xhl</a>"
            ]
          },
          "metadata": {}
        },
        {
          "output_type": "stream",
          "name": "stdout",
          "text": [
            "GloVe_GRU_BahdanauAttention(\n",
            "  (embedding): Embedding(40002, 300)\n",
            "  (gru): GRU(300, 350, batch_first=True, bidirectional=True)\n",
            "  (attention): BahdanauAttention(\n",
            "    (W): Linear(in_features=700, out_features=350, bias=True)\n",
            "    (v): Linear(in_features=350, out_features=1, bias=False)\n",
            "  )\n",
            "  (fc): Linear(in_features=700, out_features=1, bias=True)\n",
            "  (dropout): Dropout(p=0.8, inplace=False)\n",
            ")\n",
            "Total trainable parameters: 13616201\n"
          ]
        },
        {
          "output_type": "stream",
          "name": "stderr",
          "text": [
            "Optimizer: AdamW | Epoch 8/8 - Train Loss: 0.0467, Val Loss: 0.4505, Train ACSA: 98.11%, Val ACSA: 87.92%, Time: 0.69 min: 100%|██████████| 8/8 [05:32<00:00, 41.54s/epoch]\n"
          ]
        },
        {
          "output_type": "display_data",
          "data": {
            "text/plain": [
              "<IPython.core.display.HTML object>"
            ],
            "text/html": []
          },
          "metadata": {}
        },
        {
          "output_type": "display_data",
          "data": {
            "text/plain": [
              "<IPython.core.display.HTML object>"
            ],
            "text/html": [
              "<br>    <style><br>        .wandb-row {<br>            display: flex;<br>            flex-direction: row;<br>            flex-wrap: wrap;<br>            justify-content: flex-start;<br>            width: 100%;<br>        }<br>        .wandb-col {<br>            display: flex;<br>            flex-direction: column;<br>            flex-basis: 100%;<br>            flex: 1;<br>            padding: 10px;<br>        }<br>    </style><br><div class=\"wandb-row\"><div class=\"wandb-col\"><h3>Run history:</h3><br/><table class=\"wandb\"><tr><td>train_acc</td><td>▁▃▅▇▇███</td></tr><tr><td>train_loss</td><td>█▆▄▂▂▁▁▁</td></tr><tr><td>val_acc</td><td>▇█▇▆▄▅▅▁</td></tr><tr><td>val_f1</td><td>▇█▇▆▄▅▅▁</td></tr><tr><td>val_loss</td><td>▂▁▁▂▄▄▅█</td></tr></table><br/></div><div class=\"wandb-col\"><h3>Run summary:</h3><br/><table class=\"wandb\"><tr><td>train_acc</td><td>0.98114</td></tr><tr><td>train_loss</td><td>0.04674</td></tr><tr><td>val_acc</td><td>0.87922</td></tr><tr><td>val_f1</td><td>0.87705</td></tr><tr><td>val_loss</td><td>0.45049</td></tr></table><br/></div></div>"
            ]
          },
          "metadata": {}
        },
        {
          "output_type": "display_data",
          "data": {
            "text/plain": [
              "<IPython.core.display.HTML object>"
            ],
            "text/html": [
              " View run <strong style=\"color:#cdcd00\">AdamW_run</strong> at: <a href='https://wandb.ai/wilfried-mvomoeto-university-of-li-ge/Binary_Class_Optimizer_Comparison_gru_attention_glove300d/runs/apt67xhl' target=\"_blank\">https://wandb.ai/wilfried-mvomoeto-university-of-li-ge/Binary_Class_Optimizer_Comparison_gru_attention_glove300d/runs/apt67xhl</a><br> View project at: <a href='https://wandb.ai/wilfried-mvomoeto-university-of-li-ge/Binary_Class_Optimizer_Comparison_gru_attention_glove300d' target=\"_blank\">https://wandb.ai/wilfried-mvomoeto-university-of-li-ge/Binary_Class_Optimizer_Comparison_gru_attention_glove300d</a><br>Synced 5 W&B file(s), 0 media file(s), 0 artifact file(s) and 0 other file(s)"
            ]
          },
          "metadata": {}
        },
        {
          "output_type": "display_data",
          "data": {
            "text/plain": [
              "<IPython.core.display.HTML object>"
            ],
            "text/html": [
              "Find logs at: <code>./wandb/run-20250424_082753-apt67xhl/logs</code>"
            ]
          },
          "metadata": {}
        }
      ],
      "source": [
        "num_epochs = 8\n",
        "learning_rate = 1e-3\n",
        "loss_function = nn.BCEWithLogitsLoss()\n",
        "\n",
        "optimizers = {\n",
        "    'RMSprop': optim.RMSprop,\n",
        "    'Adam': optim.Adam,\n",
        "    'AdamW': optim.AdamW,\n",
        "}\n",
        "\n",
        "for optimizer_name, optimizer_class in optimizers.items():\n",
        "    print(f\"\\n🔹 Training with optimizer: {optimizer_name}\")\n",
        "\n",
        "    model = GloVe_GRU_BahdanauAttention(embedding_matrix=embedding_matrix, hidden_dim=350, num_layers=1, dropout_prob=0.8).to(device)\n",
        "    optimizer = optimizer_class(model.parameters(), lr=learning_rate)\n",
        "    wandb.init(entity='wilfried-mvomoeto-university-of-li-ge', project='Binary_Class_Optimizer_Comparison_gru_attention_glove300d', name=f\"{optimizer_name}_run\", config={\n",
        "        'learning_rate': learning_rate,\n",
        "        'num_epochs': num_epochs,\n",
        "        'optimizer': optimizer_name,\n",
        "        'model': 'GRU_Model',\n",
        "        'embedding_dim': 300,\n",
        "        'hidden_dim': 350,\n",
        "        'dropout_prob': 0.5\n",
        "    })\n",
        "\n",
        "    print(model)\n",
        "    num_params = count_parameters(model)\n",
        "    print(f\"Total trainable parameters: {num_params}\")\n",
        "\n",
        "    train_losses, val_losses = [], []\n",
        "    train_accs, val_accs = [], []\n",
        "    val_f1s = []\n",
        "\n",
        "    with tqdm(total=num_epochs, desc=f\"Optimizer: {optimizer_name}\", unit=\"epoch\") as pbar:\n",
        "        for epoch in range(num_epochs):\n",
        "            start_time = time.time()\n",
        "\n",
        "            train_loss, train_acc = train_epoch_glove(model, train_loader, optimizer, loss_function, device)\n",
        "            train_losses.append(train_loss)\n",
        "            train_accs.append(train_acc)\n",
        "\n",
        "            val_acc, val_f1, val_loss = validate_epoch_glove(model, val_loader, loss_function, device)\n",
        "            val_losses.append(val_loss)\n",
        "            val_accs.append(val_acc)\n",
        "            val_f1s.append(val_f1)\n",
        "\n",
        "            end_time = time.time()\n",
        "            epoch_duration = end_time - start_time\n",
        "\n",
        "            pbar.set_description(f\"Optimizer: {optimizer_name} | Epoch {epoch+1}/{num_epochs} - Train Loss: {train_loss:.4f}, Val Loss: {val_loss:.4f}, Train ACC: {train_acc:.2%}, Val ACC: {val_acc:.2%}, Time: {epoch_duration / 60:.2f} min\")\n",
        "            pbar.update(1)\n",
        "\n",
        "            wandb.log({\n",
        "                'train_loss': train_loss,\n",
        "                'val_loss': val_loss,\n",
        "                'train_acc': train_acc,\n",
        "                'val_acc': val_acc,\n",
        "                'val_f1': val_f1,\n",
        "            })\n",
        "\n",
        "    wandb.finish()"
      ]
    },
    {
      "cell_type": "markdown",
      "metadata": {
        "id": "sPknl839-nbg"
      },
      "source": [
        "2.1.2 Learning rate value selection"
      ]
    },
    {
      "cell_type": "code",
      "execution_count": null,
      "metadata": {
        "id": "zXgF4lgf4-tr",
        "colab": {
          "base_uri": "https://localhost:8080/",
          "height": 1000
        },
        "outputId": "4836fe6b-926b-437d-9f8d-f5b88efcf2b1"
      },
      "outputs": [
        {
          "output_type": "stream",
          "name": "stdout",
          "text": [
            "\n",
            "🔹 Training with optimizer: RMSprop | Learning rate: 9e-05\n"
          ]
        },
        {
          "output_type": "display_data",
          "data": {
            "text/plain": [
              "<IPython.core.display.HTML object>"
            ],
            "text/html": [
              "Tracking run with wandb version 0.19.10"
            ]
          },
          "metadata": {}
        },
        {
          "output_type": "display_data",
          "data": {
            "text/plain": [
              "<IPython.core.display.HTML object>"
            ],
            "text/html": [
              "Run data is saved locally in <code>/content/wandb/run-20250424_083328-5pp63uh5</code>"
            ]
          },
          "metadata": {}
        },
        {
          "output_type": "display_data",
          "data": {
            "text/plain": [
              "<IPython.core.display.HTML object>"
            ],
            "text/html": [
              "Syncing run <strong><a href='https://wandb.ai/wilfried-mvomoeto-university-of-li-ge/Binary_Class_lr_Tuning_gru_attention_glove300d/runs/5pp63uh5' target=\"_blank\">RMSprop_lr9e-05</a></strong> to <a href='https://wandb.ai/wilfried-mvomoeto-university-of-li-ge/Binary_Class_lr_Tuning_gru_attention_glove300d' target=\"_blank\">Weights & Biases</a> (<a href='https://wandb.me/developer-guide' target=\"_blank\">docs</a>)<br>"
            ]
          },
          "metadata": {}
        },
        {
          "output_type": "display_data",
          "data": {
            "text/plain": [
              "<IPython.core.display.HTML object>"
            ],
            "text/html": [
              " View project at <a href='https://wandb.ai/wilfried-mvomoeto-university-of-li-ge/Binary_Class_lr_Tuning_gru_attention_glove300d' target=\"_blank\">https://wandb.ai/wilfried-mvomoeto-university-of-li-ge/Binary_Class_lr_Tuning_gru_attention_glove300d</a>"
            ]
          },
          "metadata": {}
        },
        {
          "output_type": "display_data",
          "data": {
            "text/plain": [
              "<IPython.core.display.HTML object>"
            ],
            "text/html": [
              " View run at <a href='https://wandb.ai/wilfried-mvomoeto-university-of-li-ge/Binary_Class_lr_Tuning_gru_attention_glove300d/runs/5pp63uh5' target=\"_blank\">https://wandb.ai/wilfried-mvomoeto-university-of-li-ge/Binary_Class_lr_Tuning_gru_attention_glove300d/runs/5pp63uh5</a>"
            ]
          },
          "metadata": {}
        },
        {
          "output_type": "stream",
          "name": "stdout",
          "text": [
            "GloVe_GRU_BahdanauAttention(\n",
            "  (embedding): Embedding(40002, 300)\n",
            "  (gru): GRU(300, 350, batch_first=True, bidirectional=True)\n",
            "  (attention): BahdanauAttention(\n",
            "    (W): Linear(in_features=700, out_features=350, bias=True)\n",
            "    (v): Linear(in_features=350, out_features=1, bias=False)\n",
            "  )\n",
            "  (fc): Linear(in_features=700, out_features=1, bias=True)\n",
            "  (dropout): Dropout(p=0.8, inplace=False)\n",
            ")\n",
            "Total trainable parameters: 13616201\n"
          ]
        },
        {
          "output_type": "stream",
          "name": "stderr",
          "text": [
            "Optimizer: RMSprop | LR: 9e-05 | Epoch 8/8 - Train Loss: 0.1605, Val Loss: 0.2316, Train ACC: 94.02%, Val ACC: 91.25%, F1: 0.91, Time: 0.68 min: 100%|██████████| 8/8 [05:27<00:00, 40.96s/epoch]\n"
          ]
        },
        {
          "output_type": "display_data",
          "data": {
            "text/plain": [
              "<IPython.core.display.HTML object>"
            ],
            "text/html": []
          },
          "metadata": {}
        },
        {
          "output_type": "display_data",
          "data": {
            "text/plain": [
              "<IPython.core.display.HTML object>"
            ],
            "text/html": [
              "<br>    <style><br>        .wandb-row {<br>            display: flex;<br>            flex-direction: row;<br>            flex-wrap: wrap;<br>            justify-content: flex-start;<br>            width: 100%;<br>        }<br>        .wandb-col {<br>            display: flex;<br>            flex-direction: column;<br>            flex-basis: 100%;<br>            flex: 1;<br>            padding: 10px;<br>        }<br>    </style><br><div class=\"wandb-row\"><div class=\"wandb-col\"><h3>Run history:</h3><br/><table class=\"wandb\"><tr><td>train_acc</td><td>▁▅▆▆▇▇██</td></tr><tr><td>train_loss</td><td>█▅▄▃▃▂▂▁</td></tr><tr><td>val_acc</td><td>▃▁▄▄█▁▆▄</td></tr><tr><td>val_f1</td><td>▂▁▄▄█▂▅▄</td></tr><tr><td>val_loss</td><td>█▆▃▃▁▄▁▃</td></tr></table><br/></div><div class=\"wandb-col\"><h3>Run summary:</h3><br/><table class=\"wandb\"><tr><td>train_acc</td><td>0.94022</td></tr><tr><td>train_loss</td><td>0.1605</td></tr><tr><td>val_acc</td><td>0.91245</td></tr><tr><td>val_f1</td><td>0.91304</td></tr><tr><td>val_loss</td><td>0.23155</td></tr></table><br/></div></div>"
            ]
          },
          "metadata": {}
        },
        {
          "output_type": "display_data",
          "data": {
            "text/plain": [
              "<IPython.core.display.HTML object>"
            ],
            "text/html": [
              " View run <strong style=\"color:#cdcd00\">RMSprop_lr9e-05</strong> at: <a href='https://wandb.ai/wilfried-mvomoeto-university-of-li-ge/Binary_Class_lr_Tuning_gru_attention_glove300d/runs/5pp63uh5' target=\"_blank\">https://wandb.ai/wilfried-mvomoeto-university-of-li-ge/Binary_Class_lr_Tuning_gru_attention_glove300d/runs/5pp63uh5</a><br> View project at: <a href='https://wandb.ai/wilfried-mvomoeto-university-of-li-ge/Binary_Class_lr_Tuning_gru_attention_glove300d' target=\"_blank\">https://wandb.ai/wilfried-mvomoeto-university-of-li-ge/Binary_Class_lr_Tuning_gru_attention_glove300d</a><br>Synced 5 W&B file(s), 0 media file(s), 0 artifact file(s) and 0 other file(s)"
            ]
          },
          "metadata": {}
        },
        {
          "output_type": "display_data",
          "data": {
            "text/plain": [
              "<IPython.core.display.HTML object>"
            ],
            "text/html": [
              "Find logs at: <code>./wandb/run-20250424_083328-5pp63uh5/logs</code>"
            ]
          },
          "metadata": {}
        },
        {
          "output_type": "stream",
          "name": "stdout",
          "text": [
            "\n",
            "🔹 Training with optimizer: RMSprop | Learning rate: 7e-05\n"
          ]
        },
        {
          "output_type": "display_data",
          "data": {
            "text/plain": [
              "<IPython.core.display.HTML object>"
            ],
            "text/html": [
              "Tracking run with wandb version 0.19.10"
            ]
          },
          "metadata": {}
        },
        {
          "output_type": "display_data",
          "data": {
            "text/plain": [
              "<IPython.core.display.HTML object>"
            ],
            "text/html": [
              "Run data is saved locally in <code>/content/wandb/run-20250424_083857-h4lpxj6s</code>"
            ]
          },
          "metadata": {}
        },
        {
          "output_type": "display_data",
          "data": {
            "text/plain": [
              "<IPython.core.display.HTML object>"
            ],
            "text/html": [
              "Syncing run <strong><a href='https://wandb.ai/wilfried-mvomoeto-university-of-li-ge/Binary_Class_lr_Tuning_gru_attention_glove300d/runs/h4lpxj6s' target=\"_blank\">RMSprop_lr7e-05</a></strong> to <a href='https://wandb.ai/wilfried-mvomoeto-university-of-li-ge/Binary_Class_lr_Tuning_gru_attention_glove300d' target=\"_blank\">Weights & Biases</a> (<a href='https://wandb.me/developer-guide' target=\"_blank\">docs</a>)<br>"
            ]
          },
          "metadata": {}
        },
        {
          "output_type": "display_data",
          "data": {
            "text/plain": [
              "<IPython.core.display.HTML object>"
            ],
            "text/html": [
              " View project at <a href='https://wandb.ai/wilfried-mvomoeto-university-of-li-ge/Binary_Class_lr_Tuning_gru_attention_glove300d' target=\"_blank\">https://wandb.ai/wilfried-mvomoeto-university-of-li-ge/Binary_Class_lr_Tuning_gru_attention_glove300d</a>"
            ]
          },
          "metadata": {}
        },
        {
          "output_type": "display_data",
          "data": {
            "text/plain": [
              "<IPython.core.display.HTML object>"
            ],
            "text/html": [
              " View run at <a href='https://wandb.ai/wilfried-mvomoeto-university-of-li-ge/Binary_Class_lr_Tuning_gru_attention_glove300d/runs/h4lpxj6s' target=\"_blank\">https://wandb.ai/wilfried-mvomoeto-university-of-li-ge/Binary_Class_lr_Tuning_gru_attention_glove300d/runs/h4lpxj6s</a>"
            ]
          },
          "metadata": {}
        },
        {
          "output_type": "stream",
          "name": "stdout",
          "text": [
            "GloVe_GRU_BahdanauAttention(\n",
            "  (embedding): Embedding(40002, 300)\n",
            "  (gru): GRU(300, 350, batch_first=True, bidirectional=True)\n",
            "  (attention): BahdanauAttention(\n",
            "    (W): Linear(in_features=700, out_features=350, bias=True)\n",
            "    (v): Linear(in_features=350, out_features=1, bias=False)\n",
            "  )\n",
            "  (fc): Linear(in_features=700, out_features=1, bias=True)\n",
            "  (dropout): Dropout(p=0.8, inplace=False)\n",
            ")\n",
            "Total trainable parameters: 13616201\n"
          ]
        },
        {
          "output_type": "stream",
          "name": "stderr",
          "text": [
            "Optimizer: RMSprop | LR: 7e-05 | Epoch 8/8 - Train Loss: 0.1780, Val Loss: 0.2255, Train ACC: 93.47%, Val ACC: 91.44%, F1: 0.92, Time: 0.68 min: 100%|██████████| 8/8 [05:28<00:00, 41.04s/epoch]\n"
          ]
        },
        {
          "output_type": "display_data",
          "data": {
            "text/plain": [
              "<IPython.core.display.HTML object>"
            ],
            "text/html": []
          },
          "metadata": {}
        },
        {
          "output_type": "display_data",
          "data": {
            "text/plain": [
              "<IPython.core.display.HTML object>"
            ],
            "text/html": [
              "<br>    <style><br>        .wandb-row {<br>            display: flex;<br>            flex-direction: row;<br>            flex-wrap: wrap;<br>            justify-content: flex-start;<br>            width: 100%;<br>        }<br>        .wandb-col {<br>            display: flex;<br>            flex-direction: column;<br>            flex-basis: 100%;<br>            flex: 1;<br>            padding: 10px;<br>        }<br>    </style><br><div class=\"wandb-row\"><div class=\"wandb-col\"><h3>Run history:</h3><br/><table class=\"wandb\"><tr><td>train_acc</td><td>▁▅▅▆▆▇▇█</td></tr><tr><td>train_loss</td><td>█▅▄▃▃▂▂▁</td></tr><tr><td>val_acc</td><td>▁▄▄▆██▁▇</td></tr><tr><td>val_f1</td><td>▂▅▄▆██▁▇</td></tr><tr><td>val_loss</td><td>█▄▃▁▁▁▆▁</td></tr></table><br/></div><div class=\"wandb-col\"><h3>Run summary:</h3><br/><table class=\"wandb\"><tr><td>train_acc</td><td>0.93469</td></tr><tr><td>train_loss</td><td>0.17796</td></tr><tr><td>val_acc</td><td>0.91443</td></tr><tr><td>val_f1</td><td>0.91501</td></tr><tr><td>val_loss</td><td>0.22551</td></tr></table><br/></div></div>"
            ]
          },
          "metadata": {}
        },
        {
          "output_type": "display_data",
          "data": {
            "text/plain": [
              "<IPython.core.display.HTML object>"
            ],
            "text/html": [
              " View run <strong style=\"color:#cdcd00\">RMSprop_lr7e-05</strong> at: <a href='https://wandb.ai/wilfried-mvomoeto-university-of-li-ge/Binary_Class_lr_Tuning_gru_attention_glove300d/runs/h4lpxj6s' target=\"_blank\">https://wandb.ai/wilfried-mvomoeto-university-of-li-ge/Binary_Class_lr_Tuning_gru_attention_glove300d/runs/h4lpxj6s</a><br> View project at: <a href='https://wandb.ai/wilfried-mvomoeto-university-of-li-ge/Binary_Class_lr_Tuning_gru_attention_glove300d' target=\"_blank\">https://wandb.ai/wilfried-mvomoeto-university-of-li-ge/Binary_Class_lr_Tuning_gru_attention_glove300d</a><br>Synced 5 W&B file(s), 0 media file(s), 0 artifact file(s) and 0 other file(s)"
            ]
          },
          "metadata": {}
        },
        {
          "output_type": "display_data",
          "data": {
            "text/plain": [
              "<IPython.core.display.HTML object>"
            ],
            "text/html": [
              "Find logs at: <code>./wandb/run-20250424_083857-h4lpxj6s/logs</code>"
            ]
          },
          "metadata": {}
        },
        {
          "output_type": "stream",
          "name": "stdout",
          "text": [
            "\n",
            "🔹 Training with optimizer: RMSprop | Learning rate: 5e-05\n"
          ]
        },
        {
          "output_type": "display_data",
          "data": {
            "text/plain": [
              "<IPython.core.display.HTML object>"
            ],
            "text/html": [
              "Tracking run with wandb version 0.19.10"
            ]
          },
          "metadata": {}
        },
        {
          "output_type": "display_data",
          "data": {
            "text/plain": [
              "<IPython.core.display.HTML object>"
            ],
            "text/html": [
              "Run data is saved locally in <code>/content/wandb/run-20250424_084428-42hxlwru</code>"
            ]
          },
          "metadata": {}
        },
        {
          "output_type": "display_data",
          "data": {
            "text/plain": [
              "<IPython.core.display.HTML object>"
            ],
            "text/html": [
              "Syncing run <strong><a href='https://wandb.ai/wilfried-mvomoeto-university-of-li-ge/Binary_Class_lr_Tuning_gru_attention_glove300d/runs/42hxlwru' target=\"_blank\">RMSprop_lr5e-05</a></strong> to <a href='https://wandb.ai/wilfried-mvomoeto-university-of-li-ge/Binary_Class_lr_Tuning_gru_attention_glove300d' target=\"_blank\">Weights & Biases</a> (<a href='https://wandb.me/developer-guide' target=\"_blank\">docs</a>)<br>"
            ]
          },
          "metadata": {}
        },
        {
          "output_type": "display_data",
          "data": {
            "text/plain": [
              "<IPython.core.display.HTML object>"
            ],
            "text/html": [
              " View project at <a href='https://wandb.ai/wilfried-mvomoeto-university-of-li-ge/Binary_Class_lr_Tuning_gru_attention_glove300d' target=\"_blank\">https://wandb.ai/wilfried-mvomoeto-university-of-li-ge/Binary_Class_lr_Tuning_gru_attention_glove300d</a>"
            ]
          },
          "metadata": {}
        },
        {
          "output_type": "display_data",
          "data": {
            "text/plain": [
              "<IPython.core.display.HTML object>"
            ],
            "text/html": [
              " View run at <a href='https://wandb.ai/wilfried-mvomoeto-university-of-li-ge/Binary_Class_lr_Tuning_gru_attention_glove300d/runs/42hxlwru' target=\"_blank\">https://wandb.ai/wilfried-mvomoeto-university-of-li-ge/Binary_Class_lr_Tuning_gru_attention_glove300d/runs/42hxlwru</a>"
            ]
          },
          "metadata": {}
        },
        {
          "output_type": "stream",
          "name": "stdout",
          "text": [
            "GloVe_GRU_BahdanauAttention(\n",
            "  (embedding): Embedding(40002, 300)\n",
            "  (gru): GRU(300, 350, batch_first=True, bidirectional=True)\n",
            "  (attention): BahdanauAttention(\n",
            "    (W): Linear(in_features=700, out_features=350, bias=True)\n",
            "    (v): Linear(in_features=350, out_features=1, bias=False)\n",
            "  )\n",
            "  (fc): Linear(in_features=700, out_features=1, bias=True)\n",
            "  (dropout): Dropout(p=0.8, inplace=False)\n",
            ")\n",
            "Total trainable parameters: 13616201\n"
          ]
        },
        {
          "output_type": "stream",
          "name": "stderr",
          "text": [
            "Optimizer: RMSprop | LR: 5e-05 | Epoch 8/8 - Train Loss: 0.1969, Val Loss: 0.2279, Train ACC: 92.65%, Val ACC: 91.52%, F1: 0.92, Time: 0.68 min: 100%|██████████| 8/8 [05:28<00:00, 41.02s/epoch]\n"
          ]
        },
        {
          "output_type": "display_data",
          "data": {
            "text/plain": [
              "<IPython.core.display.HTML object>"
            ],
            "text/html": []
          },
          "metadata": {}
        },
        {
          "output_type": "display_data",
          "data": {
            "text/plain": [
              "<IPython.core.display.HTML object>"
            ],
            "text/html": [
              "<br>    <style><br>        .wandb-row {<br>            display: flex;<br>            flex-direction: row;<br>            flex-wrap: wrap;<br>            justify-content: flex-start;<br>            width: 100%;<br>        }<br>        .wandb-col {<br>            display: flex;<br>            flex-direction: column;<br>            flex-basis: 100%;<br>            flex: 1;<br>            padding: 10px;<br>        }<br>    </style><br><div class=\"wandb-row\"><div class=\"wandb-col\"><h3>Run history:</h3><br/><table class=\"wandb\"><tr><td>train_acc</td><td>▁▆▇▇▇▇██</td></tr><tr><td>train_loss</td><td>█▄▃▃▂▂▁▁</td></tr><tr><td>val_acc</td><td>▁▄▃▅▆█▃▇</td></tr><tr><td>val_f1</td><td>▁▄▂▅▆█▃▇</td></tr><tr><td>val_loss</td><td>█▅▄▃▂▂▄▁</td></tr></table><br/></div><div class=\"wandb-col\"><h3>Run summary:</h3><br/><table class=\"wandb\"><tr><td>train_acc</td><td>0.92651</td></tr><tr><td>train_loss</td><td>0.19689</td></tr><tr><td>val_acc</td><td>0.91518</td></tr><tr><td>val_f1</td><td>0.91546</td></tr><tr><td>val_loss</td><td>0.22788</td></tr></table><br/></div></div>"
            ]
          },
          "metadata": {}
        },
        {
          "output_type": "display_data",
          "data": {
            "text/plain": [
              "<IPython.core.display.HTML object>"
            ],
            "text/html": [
              " View run <strong style=\"color:#cdcd00\">RMSprop_lr5e-05</strong> at: <a href='https://wandb.ai/wilfried-mvomoeto-university-of-li-ge/Binary_Class_lr_Tuning_gru_attention_glove300d/runs/42hxlwru' target=\"_blank\">https://wandb.ai/wilfried-mvomoeto-university-of-li-ge/Binary_Class_lr_Tuning_gru_attention_glove300d/runs/42hxlwru</a><br> View project at: <a href='https://wandb.ai/wilfried-mvomoeto-university-of-li-ge/Binary_Class_lr_Tuning_gru_attention_glove300d' target=\"_blank\">https://wandb.ai/wilfried-mvomoeto-university-of-li-ge/Binary_Class_lr_Tuning_gru_attention_glove300d</a><br>Synced 5 W&B file(s), 0 media file(s), 0 artifact file(s) and 0 other file(s)"
            ]
          },
          "metadata": {}
        },
        {
          "output_type": "display_data",
          "data": {
            "text/plain": [
              "<IPython.core.display.HTML object>"
            ],
            "text/html": [
              "Find logs at: <code>./wandb/run-20250424_084428-42hxlwru/logs</code>"
            ]
          },
          "metadata": {}
        }
      ],
      "source": [
        "learning_rates = [9e-5, 7e-5, 5e-5]\n",
        "optimizer_class = optim.RMSprop\n",
        "criterion = nn.BCEWithLogitsLoss()\n",
        "\n",
        "for lr in learning_rates:\n",
        "    optimizer_name = \"RMSprop\"\n",
        "    print(f\"\\n🔹 Training with optimizer: {optimizer_name} | Learning rate: {lr}\")\n",
        "\n",
        "    model = GloVe_GRU_BahdanauAttention(embedding_matrix=embedding_matrix, hidden_dim=350, num_layers=1, dropout_prob=0.8).to(device)\n",
        "    optimizer = optimizer_class(model.parameters(), lr=lr, weight_decay = 1e-5)\n",
        "\n",
        "    wandb.init(entity='wilfried-mvomoeto-university-of-li-ge',\n",
        "        project='Binary_Class_lr_Tuning_gru_attention_glove300d',\n",
        "        name=f\"{optimizer_name}_lr{lr}\",\n",
        "        config={\n",
        "            'learning_rate': lr,\n",
        "            'num_epochs': num_epochs,\n",
        "            'optimizer': optimizer_name,\n",
        "            'model': 'GRU_Model',\n",
        "            'hidden_dim': 350,\n",
        "            'dropout_prob': 0.8\n",
        "        }\n",
        "    )\n",
        "\n",
        "    print(model)\n",
        "    num_params = count_parameters(model)\n",
        "    print(f\"Total trainable parameters: {num_params}\")\n",
        "\n",
        "    train_losses, val_losses = [], []\n",
        "    train_accs, val_accs = [], []\n",
        "    val_f1s = []\n",
        "\n",
        "    with tqdm(total=num_epochs, desc=f\"Optimizer: {optimizer_name} | LR: {lr}\", unit=\"epoch\") as pbar:\n",
        "        for epoch in range(num_epochs):\n",
        "            start_time = time.time()\n",
        "\n",
        "            train_loss, train_acc = train_epoch_glove(model, train_loader, optimizer, loss_function, device)\n",
        "            train_losses.append(train_loss)\n",
        "            train_accs.append(train_acc)\n",
        "\n",
        "            val_acc, val_f1, val_loss = validate_epoch_glove(model, val_loader, loss_function, device)\n",
        "            val_losses.append(val_loss)\n",
        "            val_accs.append(val_acc)\n",
        "            val_f1s.append(val_f1)\n",
        "\n",
        "            end_time = time.time()\n",
        "            epoch_duration = end_time - start_time\n",
        "\n",
        "            pbar.set_description(\n",
        "                f\"Optimizer: {optimizer_name} | LR: {lr} | Epoch {epoch+1}/{num_epochs} - \"\n",
        "                f\"Train Loss: {train_loss:.4f}, Val Loss: {val_loss:.4f}, \"\n",
        "                f\"Train ACC: {train_acc:.2%}, Val ACC: {val_acc:.2%}, \"\n",
        "                f\"F1: {val_f1:.2f}, Time: {epoch_duration / 60:.2f} min\"\n",
        "            )\n",
        "            pbar.update(1)\n",
        "\n",
        "            wandb.log({\n",
        "                'train_loss': train_loss,\n",
        "                'val_loss': val_loss,\n",
        "                'train_acc': train_acc,\n",
        "                'val_acc': val_acc,\n",
        "                'val_f1': val_f1,\n",
        "            })\n",
        "\n",
        "    wandb.finish()"
      ]
    },
    {
      "cell_type": "markdown",
      "metadata": {
        "id": "u0czxKca-soV"
      },
      "source": [
        "2.1.3 Depth value selection"
      ]
    },
    {
      "cell_type": "code",
      "execution_count": null,
      "metadata": {
        "id": "Of24r3_88nze",
        "colab": {
          "base_uri": "https://localhost:8080/",
          "height": 1000
        },
        "outputId": "9157c187-82f1-45a4-ddde-ea80fc4cb09f"
      },
      "outputs": [
        {
          "output_type": "stream",
          "name": "stdout",
          "text": [
            "\n",
            "🔹 Training with optimizer: RMSprop | Depth: 1\n"
          ]
        },
        {
          "output_type": "display_data",
          "data": {
            "text/plain": [
              "<IPython.core.display.HTML object>"
            ],
            "text/html": [
              "Tracking run with wandb version 0.19.10"
            ]
          },
          "metadata": {}
        },
        {
          "output_type": "display_data",
          "data": {
            "text/plain": [
              "<IPython.core.display.HTML object>"
            ],
            "text/html": [
              "Run data is saved locally in <code>/content/wandb/run-20250424_084958-10j0xmpp</code>"
            ]
          },
          "metadata": {}
        },
        {
          "output_type": "display_data",
          "data": {
            "text/plain": [
              "<IPython.core.display.HTML object>"
            ],
            "text/html": [
              "Syncing run <strong><a href='https://wandb.ai/wilfried-mvomoeto-university-of-li-ge/Binary_Class_Depth_Tuning_gru_attention_glove300d/runs/10j0xmpp' target=\"_blank\">RMSprop_depth1</a></strong> to <a href='https://wandb.ai/wilfried-mvomoeto-university-of-li-ge/Binary_Class_Depth_Tuning_gru_attention_glove300d' target=\"_blank\">Weights & Biases</a> (<a href='https://wandb.me/developer-guide' target=\"_blank\">docs</a>)<br>"
            ]
          },
          "metadata": {}
        },
        {
          "output_type": "display_data",
          "data": {
            "text/plain": [
              "<IPython.core.display.HTML object>"
            ],
            "text/html": [
              " View project at <a href='https://wandb.ai/wilfried-mvomoeto-university-of-li-ge/Binary_Class_Depth_Tuning_gru_attention_glove300d' target=\"_blank\">https://wandb.ai/wilfried-mvomoeto-university-of-li-ge/Binary_Class_Depth_Tuning_gru_attention_glove300d</a>"
            ]
          },
          "metadata": {}
        },
        {
          "output_type": "display_data",
          "data": {
            "text/plain": [
              "<IPython.core.display.HTML object>"
            ],
            "text/html": [
              " View run at <a href='https://wandb.ai/wilfried-mvomoeto-university-of-li-ge/Binary_Class_Depth_Tuning_gru_attention_glove300d/runs/10j0xmpp' target=\"_blank\">https://wandb.ai/wilfried-mvomoeto-university-of-li-ge/Binary_Class_Depth_Tuning_gru_attention_glove300d/runs/10j0xmpp</a>"
            ]
          },
          "metadata": {}
        },
        {
          "output_type": "stream",
          "name": "stdout",
          "text": [
            "GloVe_GRU_BahdanauAttention(\n",
            "  (embedding): Embedding(40002, 300)\n",
            "  (gru): GRU(300, 350, batch_first=True, bidirectional=True)\n",
            "  (attention): BahdanauAttention(\n",
            "    (W): Linear(in_features=700, out_features=350, bias=True)\n",
            "    (v): Linear(in_features=350, out_features=1, bias=False)\n",
            "  )\n",
            "  (fc): Linear(in_features=700, out_features=1, bias=True)\n",
            "  (dropout): Dropout(p=0.8, inplace=False)\n",
            ")\n",
            "Total trainable parameters: 13616201\n"
          ]
        },
        {
          "output_type": "stream",
          "name": "stderr",
          "text": [
            "Optimizer: RMSprop | Depth: 1 | Epoch 8/8 - Train Loss: 0.1494, Val Loss: 0.2457, Train ACC: 94.53%, Val ACC: 91.17%, F1: 0.91, Time: 0.67 min: 100%|██████████| 8/8 [05:23<00:00, 40.46s/epoch]\n"
          ]
        },
        {
          "output_type": "display_data",
          "data": {
            "text/plain": [
              "<IPython.core.display.HTML object>"
            ],
            "text/html": []
          },
          "metadata": {}
        },
        {
          "output_type": "display_data",
          "data": {
            "text/plain": [
              "<IPython.core.display.HTML object>"
            ],
            "text/html": [
              "<br>    <style><br>        .wandb-row {<br>            display: flex;<br>            flex-direction: row;<br>            flex-wrap: wrap;<br>            justify-content: flex-start;<br>            width: 100%;<br>        }<br>        .wandb-col {<br>            display: flex;<br>            flex-direction: column;<br>            flex-basis: 100%;<br>            flex: 1;<br>            padding: 10px;<br>        }<br>    </style><br><div class=\"wandb-row\"><div class=\"wandb-col\"><h3>Run history:</h3><br/><table class=\"wandb\"><tr><td>train_acc</td><td>▁▄▅▅▆▆▇█</td></tr><tr><td>train_loss</td><td>█▅▅▄▃▂▂▁</td></tr><tr><td>val_acc</td><td>▁▃█▆▁▄▄▃</td></tr><tr><td>val_f1</td><td>▁▃█▆▂▅▄▃</td></tr><tr><td>val_loss</td><td>█▃▁▁▃▂▁▆</td></tr></table><br/></div><div class=\"wandb-col\"><h3>Run summary:</h3><br/><table class=\"wandb\"><tr><td>train_acc</td><td>0.94532</td></tr><tr><td>train_loss</td><td>0.1494</td></tr><tr><td>val_acc</td><td>0.91171</td></tr><tr><td>val_f1</td><td>0.91227</td></tr><tr><td>val_loss</td><td>0.24567</td></tr></table><br/></div></div>"
            ]
          },
          "metadata": {}
        },
        {
          "output_type": "display_data",
          "data": {
            "text/plain": [
              "<IPython.core.display.HTML object>"
            ],
            "text/html": [
              " View run <strong style=\"color:#cdcd00\">RMSprop_depth1</strong> at: <a href='https://wandb.ai/wilfried-mvomoeto-university-of-li-ge/Binary_Class_Depth_Tuning_gru_attention_glove300d/runs/10j0xmpp' target=\"_blank\">https://wandb.ai/wilfried-mvomoeto-university-of-li-ge/Binary_Class_Depth_Tuning_gru_attention_glove300d/runs/10j0xmpp</a><br> View project at: <a href='https://wandb.ai/wilfried-mvomoeto-university-of-li-ge/Binary_Class_Depth_Tuning_gru_attention_glove300d' target=\"_blank\">https://wandb.ai/wilfried-mvomoeto-university-of-li-ge/Binary_Class_Depth_Tuning_gru_attention_glove300d</a><br>Synced 5 W&B file(s), 0 media file(s), 0 artifact file(s) and 0 other file(s)"
            ]
          },
          "metadata": {}
        },
        {
          "output_type": "display_data",
          "data": {
            "text/plain": [
              "<IPython.core.display.HTML object>"
            ],
            "text/html": [
              "Find logs at: <code>./wandb/run-20250424_084958-10j0xmpp/logs</code>"
            ]
          },
          "metadata": {}
        },
        {
          "output_type": "stream",
          "name": "stdout",
          "text": [
            "\n",
            "🔹 Training with optimizer: RMSprop | Depth: 2\n"
          ]
        },
        {
          "output_type": "display_data",
          "data": {
            "text/plain": [
              "<IPython.core.display.HTML object>"
            ],
            "text/html": [
              "Tracking run with wandb version 0.19.10"
            ]
          },
          "metadata": {}
        },
        {
          "output_type": "display_data",
          "data": {
            "text/plain": [
              "<IPython.core.display.HTML object>"
            ],
            "text/html": [
              "Run data is saved locally in <code>/content/wandb/run-20250424_085524-9dxdxhoe</code>"
            ]
          },
          "metadata": {}
        },
        {
          "output_type": "display_data",
          "data": {
            "text/plain": [
              "<IPython.core.display.HTML object>"
            ],
            "text/html": [
              "Syncing run <strong><a href='https://wandb.ai/wilfried-mvomoeto-university-of-li-ge/Binary_Class_Depth_Tuning_gru_attention_glove300d/runs/9dxdxhoe' target=\"_blank\">RMSprop_depth2</a></strong> to <a href='https://wandb.ai/wilfried-mvomoeto-university-of-li-ge/Binary_Class_Depth_Tuning_gru_attention_glove300d' target=\"_blank\">Weights & Biases</a> (<a href='https://wandb.me/developer-guide' target=\"_blank\">docs</a>)<br>"
            ]
          },
          "metadata": {}
        },
        {
          "output_type": "display_data",
          "data": {
            "text/plain": [
              "<IPython.core.display.HTML object>"
            ],
            "text/html": [
              " View project at <a href='https://wandb.ai/wilfried-mvomoeto-university-of-li-ge/Binary_Class_Depth_Tuning_gru_attention_glove300d' target=\"_blank\">https://wandb.ai/wilfried-mvomoeto-university-of-li-ge/Binary_Class_Depth_Tuning_gru_attention_glove300d</a>"
            ]
          },
          "metadata": {}
        },
        {
          "output_type": "display_data",
          "data": {
            "text/plain": [
              "<IPython.core.display.HTML object>"
            ],
            "text/html": [
              " View run at <a href='https://wandb.ai/wilfried-mvomoeto-university-of-li-ge/Binary_Class_Depth_Tuning_gru_attention_glove300d/runs/9dxdxhoe' target=\"_blank\">https://wandb.ai/wilfried-mvomoeto-university-of-li-ge/Binary_Class_Depth_Tuning_gru_attention_glove300d/runs/9dxdxhoe</a>"
            ]
          },
          "metadata": {}
        },
        {
          "output_type": "stream",
          "name": "stdout",
          "text": [
            "GloVe_GRU_BahdanauAttention(\n",
            "  (embedding): Embedding(40002, 300)\n",
            "  (gru): GRU(300, 350, batch_first=True, bidirectional=True)\n",
            "  (attention): BahdanauAttention(\n",
            "    (W): Linear(in_features=700, out_features=350, bias=True)\n",
            "    (v): Linear(in_features=350, out_features=1, bias=False)\n",
            "  )\n",
            "  (fc): Linear(in_features=700, out_features=1, bias=True)\n",
            "  (dropout): Dropout(p=0.8, inplace=False)\n",
            ")\n",
            "Total trainable parameters: 13616201\n"
          ]
        },
        {
          "output_type": "stream",
          "name": "stderr",
          "text": [
            "Optimizer: RMSprop | Depth: 2 | Epoch 8/8 - Train Loss: 0.1522, Val Loss: 0.2358, Train ACC: 94.24%, Val ACC: 91.42%, F1: 0.91, Time: 0.68 min: 100%|██████████| 8/8 [05:25<00:00, 40.63s/epoch]\n"
          ]
        },
        {
          "output_type": "display_data",
          "data": {
            "text/plain": [
              "<IPython.core.display.HTML object>"
            ],
            "text/html": []
          },
          "metadata": {}
        },
        {
          "output_type": "display_data",
          "data": {
            "text/plain": [
              "<IPython.core.display.HTML object>"
            ],
            "text/html": [
              "<br>    <style><br>        .wandb-row {<br>            display: flex;<br>            flex-direction: row;<br>            flex-wrap: wrap;<br>            justify-content: flex-start;<br>            width: 100%;<br>        }<br>        .wandb-col {<br>            display: flex;<br>            flex-direction: column;<br>            flex-basis: 100%;<br>            flex: 1;<br>            padding: 10px;<br>        }<br>    </style><br><div class=\"wandb-row\"><div class=\"wandb-col\"><h3>Run history:</h3><br/><table class=\"wandb\"><tr><td>train_acc</td><td>▁▄▅▆▆▇▇█</td></tr><tr><td>train_loss</td><td>█▅▅▄▃▃▂▁</td></tr><tr><td>val_acc</td><td>▁▆█▅▇▃▆▇</td></tr><tr><td>val_f1</td><td>▁▆█▅▇▂▆▇</td></tr><tr><td>val_loss</td><td>█▂▁▃▁▇▁▂</td></tr></table><br/></div><div class=\"wandb-col\"><h3>Run summary:</h3><br/><table class=\"wandb\"><tr><td>train_acc</td><td>0.9424</td></tr><tr><td>train_loss</td><td>0.15223</td></tr><tr><td>val_acc</td><td>0.91419</td></tr><tr><td>val_f1</td><td>0.91448</td></tr><tr><td>val_loss</td><td>0.23581</td></tr></table><br/></div></div>"
            ]
          },
          "metadata": {}
        },
        {
          "output_type": "display_data",
          "data": {
            "text/plain": [
              "<IPython.core.display.HTML object>"
            ],
            "text/html": [
              " View run <strong style=\"color:#cdcd00\">RMSprop_depth2</strong> at: <a href='https://wandb.ai/wilfried-mvomoeto-university-of-li-ge/Binary_Class_Depth_Tuning_gru_attention_glove300d/runs/9dxdxhoe' target=\"_blank\">https://wandb.ai/wilfried-mvomoeto-university-of-li-ge/Binary_Class_Depth_Tuning_gru_attention_glove300d/runs/9dxdxhoe</a><br> View project at: <a href='https://wandb.ai/wilfried-mvomoeto-university-of-li-ge/Binary_Class_Depth_Tuning_gru_attention_glove300d' target=\"_blank\">https://wandb.ai/wilfried-mvomoeto-university-of-li-ge/Binary_Class_Depth_Tuning_gru_attention_glove300d</a><br>Synced 5 W&B file(s), 0 media file(s), 0 artifact file(s) and 0 other file(s)"
            ]
          },
          "metadata": {}
        },
        {
          "output_type": "display_data",
          "data": {
            "text/plain": [
              "<IPython.core.display.HTML object>"
            ],
            "text/html": [
              "Find logs at: <code>./wandb/run-20250424_085524-9dxdxhoe/logs</code>"
            ]
          },
          "metadata": {}
        },
        {
          "output_type": "stream",
          "name": "stdout",
          "text": [
            "\n",
            "🔹 Training with optimizer: RMSprop | Depth: 3\n"
          ]
        },
        {
          "output_type": "display_data",
          "data": {
            "text/plain": [
              "<IPython.core.display.HTML object>"
            ],
            "text/html": [
              "Tracking run with wandb version 0.19.10"
            ]
          },
          "metadata": {}
        },
        {
          "output_type": "display_data",
          "data": {
            "text/plain": [
              "<IPython.core.display.HTML object>"
            ],
            "text/html": [
              "Run data is saved locally in <code>/content/wandb/run-20250424_090051-9d812ep5</code>"
            ]
          },
          "metadata": {}
        },
        {
          "output_type": "display_data",
          "data": {
            "text/plain": [
              "<IPython.core.display.HTML object>"
            ],
            "text/html": [
              "Syncing run <strong><a href='https://wandb.ai/wilfried-mvomoeto-university-of-li-ge/Binary_Class_Depth_Tuning_gru_attention_glove300d/runs/9d812ep5' target=\"_blank\">RMSprop_depth3</a></strong> to <a href='https://wandb.ai/wilfried-mvomoeto-university-of-li-ge/Binary_Class_Depth_Tuning_gru_attention_glove300d' target=\"_blank\">Weights & Biases</a> (<a href='https://wandb.me/developer-guide' target=\"_blank\">docs</a>)<br>"
            ]
          },
          "metadata": {}
        },
        {
          "output_type": "display_data",
          "data": {
            "text/plain": [
              "<IPython.core.display.HTML object>"
            ],
            "text/html": [
              " View project at <a href='https://wandb.ai/wilfried-mvomoeto-university-of-li-ge/Binary_Class_Depth_Tuning_gru_attention_glove300d' target=\"_blank\">https://wandb.ai/wilfried-mvomoeto-university-of-li-ge/Binary_Class_Depth_Tuning_gru_attention_glove300d</a>"
            ]
          },
          "metadata": {}
        },
        {
          "output_type": "display_data",
          "data": {
            "text/plain": [
              "<IPython.core.display.HTML object>"
            ],
            "text/html": [
              " View run at <a href='https://wandb.ai/wilfried-mvomoeto-university-of-li-ge/Binary_Class_Depth_Tuning_gru_attention_glove300d/runs/9d812ep5' target=\"_blank\">https://wandb.ai/wilfried-mvomoeto-university-of-li-ge/Binary_Class_Depth_Tuning_gru_attention_glove300d/runs/9d812ep5</a>"
            ]
          },
          "metadata": {}
        },
        {
          "output_type": "stream",
          "name": "stdout",
          "text": [
            "GloVe_GRU_BahdanauAttention(\n",
            "  (embedding): Embedding(40002, 300)\n",
            "  (gru): GRU(300, 350, batch_first=True, bidirectional=True)\n",
            "  (attention): BahdanauAttention(\n",
            "    (W): Linear(in_features=700, out_features=350, bias=True)\n",
            "    (v): Linear(in_features=350, out_features=1, bias=False)\n",
            "  )\n",
            "  (fc): Linear(in_features=700, out_features=1, bias=True)\n",
            "  (dropout): Dropout(p=0.8, inplace=False)\n",
            ")\n",
            "Total trainable parameters: 13616201\n"
          ]
        },
        {
          "output_type": "stream",
          "name": "stderr",
          "text": [
            "Optimizer: RMSprop | Depth: 3 | Epoch 8/8 - Train Loss: 0.1529, Val Loss: 0.2424, Train ACC: 94.45%, Val ACC: 91.42%, F1: 0.91, Time: 0.68 min: 100%|██████████| 8/8 [05:24<00:00, 40.61s/epoch]\n"
          ]
        },
        {
          "output_type": "display_data",
          "data": {
            "text/plain": [
              "<IPython.core.display.HTML object>"
            ],
            "text/html": []
          },
          "metadata": {}
        },
        {
          "output_type": "display_data",
          "data": {
            "text/plain": [
              "<IPython.core.display.HTML object>"
            ],
            "text/html": [
              "<br>    <style><br>        .wandb-row {<br>            display: flex;<br>            flex-direction: row;<br>            flex-wrap: wrap;<br>            justify-content: flex-start;<br>            width: 100%;<br>        }<br>        .wandb-col {<br>            display: flex;<br>            flex-direction: column;<br>            flex-basis: 100%;<br>            flex: 1;<br>            padding: 10px;<br>        }<br>    </style><br><div class=\"wandb-row\"><div class=\"wandb-col\"><h3>Run history:</h3><br/><table class=\"wandb\"><tr><td>train_acc</td><td>▁▄▅▅▆▇██</td></tr><tr><td>train_loss</td><td>█▅▅▄▃▂▂▁</td></tr><tr><td>val_acc</td><td>▂▄▂█▅▁▅▄</td></tr><tr><td>val_f1</td><td>▁▃▁█▅▁▅▄</td></tr><tr><td>val_loss</td><td>█▅▄▁▄▅▅▇</td></tr></table><br/></div><div class=\"wandb-col\"><h3>Run summary:</h3><br/><table class=\"wandb\"><tr><td>train_acc</td><td>0.94447</td></tr><tr><td>train_loss</td><td>0.15292</td></tr><tr><td>val_acc</td><td>0.91419</td></tr><tr><td>val_f1</td><td>0.91435</td></tr><tr><td>val_loss</td><td>0.24239</td></tr></table><br/></div></div>"
            ]
          },
          "metadata": {}
        },
        {
          "output_type": "display_data",
          "data": {
            "text/plain": [
              "<IPython.core.display.HTML object>"
            ],
            "text/html": [
              " View run <strong style=\"color:#cdcd00\">RMSprop_depth3</strong> at: <a href='https://wandb.ai/wilfried-mvomoeto-university-of-li-ge/Binary_Class_Depth_Tuning_gru_attention_glove300d/runs/9d812ep5' target=\"_blank\">https://wandb.ai/wilfried-mvomoeto-university-of-li-ge/Binary_Class_Depth_Tuning_gru_attention_glove300d/runs/9d812ep5</a><br> View project at: <a href='https://wandb.ai/wilfried-mvomoeto-university-of-li-ge/Binary_Class_Depth_Tuning_gru_attention_glove300d' target=\"_blank\">https://wandb.ai/wilfried-mvomoeto-university-of-li-ge/Binary_Class_Depth_Tuning_gru_attention_glove300d</a><br>Synced 5 W&B file(s), 0 media file(s), 0 artifact file(s) and 0 other file(s)"
            ]
          },
          "metadata": {}
        },
        {
          "output_type": "display_data",
          "data": {
            "text/plain": [
              "<IPython.core.display.HTML object>"
            ],
            "text/html": [
              "Find logs at: <code>./wandb/run-20250424_090051-9d812ep5/logs</code>"
            ]
          },
          "metadata": {}
        }
      ],
      "source": [
        "learning_rate = 9e-5\n",
        "depth_values = [1, 2, 3]\n",
        "criterion = nn.BCEWithLogitsLoss()\n",
        "\n",
        "for depth in depth_values:\n",
        "    optimizer_name = \"RMSprop\"\n",
        "    print(f\"\\n🔹 Training with optimizer: {optimizer_name} | Depth: {depth}\")\n",
        "\n",
        "    model = GloVe_GRU_BahdanauAttention(embedding_matrix=embedding_matrix, hidden_dim=350, num_layers=1, dropout_prob=0.8).to(device)\n",
        "    optimizer = optimizer_class(model.parameters(), lr=learning_rate)\n",
        "\n",
        "    wandb.init(entity='wilfried-mvomoeto-university-of-li-ge',\n",
        "        project='Binary_Class_Depth_Tuning_gru_attention_glove300d',\n",
        "        name=f\"{optimizer_name}_depth{depth}\",\n",
        "        config={\n",
        "            'learning_rate': learning_rate,\n",
        "            'num_epochs': num_epochs,\n",
        "            'optimizer': optimizer_name,\n",
        "            'model': 'GRU_Model',\n",
        "            'hidden_dim': 300,\n",
        "            'dropout_prob': 0.9,\n",
        "            'num_layers': depth\n",
        "        }\n",
        "    )\n",
        "\n",
        "    print(model)\n",
        "    num_params = count_parameters(model)\n",
        "    print(f\"Total trainable parameters: {num_params}\")\n",
        "\n",
        "    train_losses, val_losses = [], []\n",
        "    train_accs, val_accs = [], []\n",
        "    val_f1s = []\n",
        "\n",
        "    with tqdm(total=num_epochs, desc=f\"Optimizer: {optimizer_name} | Depth: {depth}\", unit=\"epoch\") as pbar:\n",
        "        for epoch in range(num_epochs):\n",
        "            start_time = time.time()\n",
        "\n",
        "            train_loss, train_acc = train_epoch_glove(model, train_loader, optimizer, loss_function, device)\n",
        "            train_losses.append(train_loss)\n",
        "            train_accs.append(train_acc)\n",
        "\n",
        "            val_acc, val_f1, val_loss = validate_epoch_glove(model, val_loader, loss_function, device)\n",
        "            val_losses.append(val_loss)\n",
        "            val_accs.append(val_acc)\n",
        "            val_f1s.append(val_f1)\n",
        "\n",
        "            end_time = time.time()\n",
        "            epoch_duration = end_time - start_time\n",
        "\n",
        "            pbar.set_description(\n",
        "                f\"Optimizer: {optimizer_name} | Depth: {depth} | Epoch {epoch+1}/{num_epochs} - \"\n",
        "                f\"Train Loss: {train_loss:.4f}, Val Loss: {val_loss:.4f}, \"\n",
        "                f\"Train ACC: {train_acc:.2%}, Val ACC: {val_acc:.2%}, \"\n",
        "                f\"F1: {val_f1:.2f}, Time: {epoch_duration / 60:.2f} min\"\n",
        "            )\n",
        "            pbar.update(1)\n",
        "\n",
        "            wandb.log({\n",
        "                'train_loss': train_loss,\n",
        "                'val_loss': val_loss,\n",
        "                'train_acc': train_acc,\n",
        "                'val_acc': val_acc,\n",
        "                'val_f1': val_f1,\n",
        "            })\n",
        "\n",
        "    wandb.finish()"
      ]
    },
    {
      "cell_type": "markdown",
      "metadata": {
        "id": "AaUEKiy_-zZH"
      },
      "source": [
        "2.1.4 Batch size value selection"
      ]
    },
    {
      "cell_type": "code",
      "execution_count": null,
      "metadata": {
        "id": "gZwi2f378nwA",
        "colab": {
          "base_uri": "https://localhost:8080/",
          "height": 1000
        },
        "outputId": "1fde1423-8a94-4484-8399-8d6995683e93"
      },
      "outputs": [
        {
          "output_type": "stream",
          "name": "stdout",
          "text": [
            "\n",
            "🔹 Training with optimizer: RMSprop | Batch Size: 8\n"
          ]
        },
        {
          "output_type": "display_data",
          "data": {
            "text/plain": [
              "<IPython.core.display.HTML object>"
            ],
            "text/html": [
              "Finishing previous runs because reinit is set to 'default'."
            ]
          },
          "metadata": {}
        },
        {
          "output_type": "display_data",
          "data": {
            "text/plain": [
              "<IPython.core.display.HTML object>"
            ],
            "text/html": []
          },
          "metadata": {}
        },
        {
          "output_type": "display_data",
          "data": {
            "text/plain": [
              "<IPython.core.display.HTML object>"
            ],
            "text/html": [
              " View run <strong style=\"color:#cdcd00\">RMSprop_batch8</strong> at: <a href='https://wandb.ai/wilfried-mvomoeto-university-of-li-ge/Binary_Class_Batch_Tuning_gru_attention_glove300d/runs/f5j0h466' target=\"_blank\">https://wandb.ai/wilfried-mvomoeto-university-of-li-ge/Binary_Class_Batch_Tuning_gru_attention_glove300d/runs/f5j0h466</a><br> View project at: <a href='https://wandb.ai/wilfried-mvomoeto-university-of-li-ge/Binary_Class_Batch_Tuning_gru_attention_glove300d' target=\"_blank\">https://wandb.ai/wilfried-mvomoeto-university-of-li-ge/Binary_Class_Batch_Tuning_gru_attention_glove300d</a><br>Synced 5 W&B file(s), 0 media file(s), 0 artifact file(s) and 0 other file(s)"
            ]
          },
          "metadata": {}
        },
        {
          "output_type": "display_data",
          "data": {
            "text/plain": [
              "<IPython.core.display.HTML object>"
            ],
            "text/html": [
              "Find logs at: <code>./wandb/run-20250424_092015-f5j0h466/logs</code>"
            ]
          },
          "metadata": {}
        },
        {
          "output_type": "display_data",
          "data": {
            "text/plain": [
              "<IPython.core.display.HTML object>"
            ],
            "text/html": [
              "Tracking run with wandb version 0.19.10"
            ]
          },
          "metadata": {}
        },
        {
          "output_type": "display_data",
          "data": {
            "text/plain": [
              "<IPython.core.display.HTML object>"
            ],
            "text/html": [
              "Run data is saved locally in <code>/content/wandb/run-20250424_092045-xfgzu4vc</code>"
            ]
          },
          "metadata": {}
        },
        {
          "output_type": "display_data",
          "data": {
            "text/plain": [
              "<IPython.core.display.HTML object>"
            ],
            "text/html": [
              "Syncing run <strong><a href='https://wandb.ai/wilfried-mvomoeto-university-of-li-ge/Binary_Class_Batch_Tuning_gru_attention_glove300d/runs/xfgzu4vc' target=\"_blank\">RMSprop_batch8</a></strong> to <a href='https://wandb.ai/wilfried-mvomoeto-university-of-li-ge/Binary_Class_Batch_Tuning_gru_attention_glove300d' target=\"_blank\">Weights & Biases</a> (<a href='https://wandb.me/developer-guide' target=\"_blank\">docs</a>)<br>"
            ]
          },
          "metadata": {}
        },
        {
          "output_type": "display_data",
          "data": {
            "text/plain": [
              "<IPython.core.display.HTML object>"
            ],
            "text/html": [
              " View project at <a href='https://wandb.ai/wilfried-mvomoeto-university-of-li-ge/Binary_Class_Batch_Tuning_gru_attention_glove300d' target=\"_blank\">https://wandb.ai/wilfried-mvomoeto-university-of-li-ge/Binary_Class_Batch_Tuning_gru_attention_glove300d</a>"
            ]
          },
          "metadata": {}
        },
        {
          "output_type": "display_data",
          "data": {
            "text/plain": [
              "<IPython.core.display.HTML object>"
            ],
            "text/html": [
              " View run at <a href='https://wandb.ai/wilfried-mvomoeto-university-of-li-ge/Binary_Class_Batch_Tuning_gru_attention_glove300d/runs/xfgzu4vc' target=\"_blank\">https://wandb.ai/wilfried-mvomoeto-university-of-li-ge/Binary_Class_Batch_Tuning_gru_attention_glove300d/runs/xfgzu4vc</a>"
            ]
          },
          "metadata": {}
        },
        {
          "output_type": "stream",
          "name": "stdout",
          "text": [
            "GloVe_GRU_BahdanauAttention(\n",
            "  (embedding): Embedding(40002, 300)\n",
            "  (gru): GRU(300, 350, batch_first=True, bidirectional=True)\n",
            "  (attention): BahdanauAttention(\n",
            "    (W): Linear(in_features=700, out_features=350, bias=True)\n",
            "    (v): Linear(in_features=350, out_features=1, bias=False)\n",
            "  )\n",
            "  (fc): Linear(in_features=700, out_features=1, bias=True)\n",
            "  (dropout): Dropout(p=0.8, inplace=False)\n",
            ")\n",
            "Total trainable parameters: 13616201\n"
          ]
        },
        {
          "output_type": "stream",
          "name": "stderr",
          "text": [
            "Optimizer: RMSprop | Batch: 8 | Epoch 8/8 - Train Loss: 0.0606, Val Loss: 0.1264, Train ACC: 97.99%, Val ACC: 96.36%, F1: 0.96, Time: 1.45 min: 100%|██████████| 8/8 [12:08<00:00, 91.01s/epoch]\n"
          ]
        },
        {
          "output_type": "display_data",
          "data": {
            "text/plain": [
              "<IPython.core.display.HTML object>"
            ],
            "text/html": []
          },
          "metadata": {}
        },
        {
          "output_type": "display_data",
          "data": {
            "text/plain": [
              "<IPython.core.display.HTML object>"
            ],
            "text/html": [
              "<br>    <style><br>        .wandb-row {<br>            display: flex;<br>            flex-direction: row;<br>            flex-wrap: wrap;<br>            justify-content: flex-start;<br>            width: 100%;<br>        }<br>        .wandb-col {<br>            display: flex;<br>            flex-direction: column;<br>            flex-basis: 100%;<br>            flex: 1;<br>            padding: 10px;<br>        }<br>    </style><br><div class=\"wandb-row\"><div class=\"wandb-col\"><h3>Run history:</h3><br/><table class=\"wandb\"><tr><td>train_acc</td><td>▁▅▆▆▇▇██</td></tr><tr><td>train_loss</td><td>█▄▄▃▃▂▁▁</td></tr><tr><td>val_acc</td><td>█▂▇▆▅▅▆▁</td></tr><tr><td>val_f1</td><td>█▂▇▆▅▅▆▁</td></tr><tr><td>val_loss</td><td>▃▁▂▄▇▆▆█</td></tr></table><br/></div><div class=\"wandb-col\"><h3>Run summary:</h3><br/><table class=\"wandb\"><tr><td>train_acc</td><td>0.97988</td></tr><tr><td>train_loss</td><td>0.06057</td></tr><tr><td>val_acc</td><td>0.96362</td></tr><tr><td>val_f1</td><td>0.96342</td></tr><tr><td>val_loss</td><td>0.1264</td></tr></table><br/></div></div>"
            ]
          },
          "metadata": {}
        },
        {
          "output_type": "display_data",
          "data": {
            "text/plain": [
              "<IPython.core.display.HTML object>"
            ],
            "text/html": [
              " View run <strong style=\"color:#cdcd00\">RMSprop_batch8</strong> at: <a href='https://wandb.ai/wilfried-mvomoeto-university-of-li-ge/Binary_Class_Batch_Tuning_gru_attention_glove300d/runs/xfgzu4vc' target=\"_blank\">https://wandb.ai/wilfried-mvomoeto-university-of-li-ge/Binary_Class_Batch_Tuning_gru_attention_glove300d/runs/xfgzu4vc</a><br> View project at: <a href='https://wandb.ai/wilfried-mvomoeto-university-of-li-ge/Binary_Class_Batch_Tuning_gru_attention_glove300d' target=\"_blank\">https://wandb.ai/wilfried-mvomoeto-university-of-li-ge/Binary_Class_Batch_Tuning_gru_attention_glove300d</a><br>Synced 5 W&B file(s), 0 media file(s), 0 artifact file(s) and 0 other file(s)"
            ]
          },
          "metadata": {}
        },
        {
          "output_type": "display_data",
          "data": {
            "text/plain": [
              "<IPython.core.display.HTML object>"
            ],
            "text/html": [
              "Find logs at: <code>./wandb/run-20250424_092045-xfgzu4vc/logs</code>"
            ]
          },
          "metadata": {}
        },
        {
          "output_type": "stream",
          "name": "stdout",
          "text": [
            "\n",
            "🔹 Training with optimizer: RMSprop | Batch Size: 16\n"
          ]
        },
        {
          "output_type": "display_data",
          "data": {
            "text/plain": [
              "<IPython.core.display.HTML object>"
            ],
            "text/html": [
              "Tracking run with wandb version 0.19.10"
            ]
          },
          "metadata": {}
        },
        {
          "output_type": "display_data",
          "data": {
            "text/plain": [
              "<IPython.core.display.HTML object>"
            ],
            "text/html": [
              "Run data is saved locally in <code>/content/wandb/run-20250424_093258-sd3j6w9h</code>"
            ]
          },
          "metadata": {}
        },
        {
          "output_type": "display_data",
          "data": {
            "text/plain": [
              "<IPython.core.display.HTML object>"
            ],
            "text/html": [
              "Syncing run <strong><a href='https://wandb.ai/wilfried-mvomoeto-university-of-li-ge/Binary_Class_Batch_Tuning_gru_attention_glove300d/runs/sd3j6w9h' target=\"_blank\">RMSprop_batch16</a></strong> to <a href='https://wandb.ai/wilfried-mvomoeto-university-of-li-ge/Binary_Class_Batch_Tuning_gru_attention_glove300d' target=\"_blank\">Weights & Biases</a> (<a href='https://wandb.me/developer-guide' target=\"_blank\">docs</a>)<br>"
            ]
          },
          "metadata": {}
        },
        {
          "output_type": "display_data",
          "data": {
            "text/plain": [
              "<IPython.core.display.HTML object>"
            ],
            "text/html": [
              " View project at <a href='https://wandb.ai/wilfried-mvomoeto-university-of-li-ge/Binary_Class_Batch_Tuning_gru_attention_glove300d' target=\"_blank\">https://wandb.ai/wilfried-mvomoeto-university-of-li-ge/Binary_Class_Batch_Tuning_gru_attention_glove300d</a>"
            ]
          },
          "metadata": {}
        },
        {
          "output_type": "display_data",
          "data": {
            "text/plain": [
              "<IPython.core.display.HTML object>"
            ],
            "text/html": [
              " View run at <a href='https://wandb.ai/wilfried-mvomoeto-university-of-li-ge/Binary_Class_Batch_Tuning_gru_attention_glove300d/runs/sd3j6w9h' target=\"_blank\">https://wandb.ai/wilfried-mvomoeto-university-of-li-ge/Binary_Class_Batch_Tuning_gru_attention_glove300d/runs/sd3j6w9h</a>"
            ]
          },
          "metadata": {}
        },
        {
          "output_type": "stream",
          "name": "stdout",
          "text": [
            "GloVe_GRU_BahdanauAttention(\n",
            "  (embedding): Embedding(40002, 300)\n",
            "  (gru): GRU(300, 350, batch_first=True, bidirectional=True)\n",
            "  (attention): BahdanauAttention(\n",
            "    (W): Linear(in_features=700, out_features=350, bias=True)\n",
            "    (v): Linear(in_features=350, out_features=1, bias=False)\n",
            "  )\n",
            "  (fc): Linear(in_features=700, out_features=1, bias=True)\n",
            "  (dropout): Dropout(p=0.8, inplace=False)\n",
            ")\n",
            "Total trainable parameters: 13616201\n"
          ]
        },
        {
          "output_type": "stream",
          "name": "stderr",
          "text": [
            "Optimizer: RMSprop | Batch: 16 | Epoch 8/8 - Train Loss: 0.0620, Val Loss: 0.0926, Train ACC: 97.62%, Val ACC: 96.78%, F1: 0.97, Time: 0.90 min: 100%|██████████| 8/8 [07:15<00:00, 54.40s/epoch]\n"
          ]
        },
        {
          "output_type": "display_data",
          "data": {
            "text/plain": [
              "<IPython.core.display.HTML object>"
            ],
            "text/html": []
          },
          "metadata": {}
        },
        {
          "output_type": "display_data",
          "data": {
            "text/plain": [
              "<IPython.core.display.HTML object>"
            ],
            "text/html": [
              "<br>    <style><br>        .wandb-row {<br>            display: flex;<br>            flex-direction: row;<br>            flex-wrap: wrap;<br>            justify-content: flex-start;<br>            width: 100%;<br>        }<br>        .wandb-col {<br>            display: flex;<br>            flex-direction: column;<br>            flex-basis: 100%;<br>            flex: 1;<br>            padding: 10px;<br>        }<br>    </style><br><div class=\"wandb-row\"><div class=\"wandb-col\"><h3>Run history:</h3><br/><table class=\"wandb\"><tr><td>train_acc</td><td>▁▅▆▇▇▇██</td></tr><tr><td>train_loss</td><td>█▄▃▃▂▂▁▁</td></tr><tr><td>val_acc</td><td>▁▆▅█▇█▇█</td></tr><tr><td>val_f1</td><td>▁▆▅█▇█▇█</td></tr><tr><td>val_loss</td><td>█▃▆▁▁▂▂▂</td></tr></table><br/></div><div class=\"wandb-col\"><h3>Run summary:</h3><br/><table class=\"wandb\"><tr><td>train_acc</td><td>0.97621</td></tr><tr><td>train_loss</td><td>0.06196</td></tr><tr><td>val_acc</td><td>0.96785</td></tr><tr><td>val_f1</td><td>0.96766</td></tr><tr><td>val_loss</td><td>0.09255</td></tr></table><br/></div></div>"
            ]
          },
          "metadata": {}
        },
        {
          "output_type": "display_data",
          "data": {
            "text/plain": [
              "<IPython.core.display.HTML object>"
            ],
            "text/html": [
              " View run <strong style=\"color:#cdcd00\">RMSprop_batch16</strong> at: <a href='https://wandb.ai/wilfried-mvomoeto-university-of-li-ge/Binary_Class_Batch_Tuning_gru_attention_glove300d/runs/sd3j6w9h' target=\"_blank\">https://wandb.ai/wilfried-mvomoeto-university-of-li-ge/Binary_Class_Batch_Tuning_gru_attention_glove300d/runs/sd3j6w9h</a><br> View project at: <a href='https://wandb.ai/wilfried-mvomoeto-university-of-li-ge/Binary_Class_Batch_Tuning_gru_attention_glove300d' target=\"_blank\">https://wandb.ai/wilfried-mvomoeto-university-of-li-ge/Binary_Class_Batch_Tuning_gru_attention_glove300d</a><br>Synced 5 W&B file(s), 0 media file(s), 0 artifact file(s) and 0 other file(s)"
            ]
          },
          "metadata": {}
        },
        {
          "output_type": "display_data",
          "data": {
            "text/plain": [
              "<IPython.core.display.HTML object>"
            ],
            "text/html": [
              "Find logs at: <code>./wandb/run-20250424_093258-sd3j6w9h/logs</code>"
            ]
          },
          "metadata": {}
        },
        {
          "output_type": "stream",
          "name": "stdout",
          "text": [
            "\n",
            "🔹 Training with optimizer: RMSprop | Batch Size: 32\n"
          ]
        },
        {
          "output_type": "display_data",
          "data": {
            "text/plain": [
              "<IPython.core.display.HTML object>"
            ],
            "text/html": [
              "Tracking run with wandb version 0.19.10"
            ]
          },
          "metadata": {}
        },
        {
          "output_type": "display_data",
          "data": {
            "text/plain": [
              "<IPython.core.display.HTML object>"
            ],
            "text/html": [
              "Run data is saved locally in <code>/content/wandb/run-20250424_094016-p1epj6sw</code>"
            ]
          },
          "metadata": {}
        },
        {
          "output_type": "display_data",
          "data": {
            "text/plain": [
              "<IPython.core.display.HTML object>"
            ],
            "text/html": [
              "Syncing run <strong><a href='https://wandb.ai/wilfried-mvomoeto-university-of-li-ge/Binary_Class_Batch_Tuning_gru_attention_glove300d/runs/p1epj6sw' target=\"_blank\">RMSprop_batch32</a></strong> to <a href='https://wandb.ai/wilfried-mvomoeto-university-of-li-ge/Binary_Class_Batch_Tuning_gru_attention_glove300d' target=\"_blank\">Weights & Biases</a> (<a href='https://wandb.me/developer-guide' target=\"_blank\">docs</a>)<br>"
            ]
          },
          "metadata": {}
        },
        {
          "output_type": "display_data",
          "data": {
            "text/plain": [
              "<IPython.core.display.HTML object>"
            ],
            "text/html": [
              " View project at <a href='https://wandb.ai/wilfried-mvomoeto-university-of-li-ge/Binary_Class_Batch_Tuning_gru_attention_glove300d' target=\"_blank\">https://wandb.ai/wilfried-mvomoeto-university-of-li-ge/Binary_Class_Batch_Tuning_gru_attention_glove300d</a>"
            ]
          },
          "metadata": {}
        },
        {
          "output_type": "display_data",
          "data": {
            "text/plain": [
              "<IPython.core.display.HTML object>"
            ],
            "text/html": [
              " View run at <a href='https://wandb.ai/wilfried-mvomoeto-university-of-li-ge/Binary_Class_Batch_Tuning_gru_attention_glove300d/runs/p1epj6sw' target=\"_blank\">https://wandb.ai/wilfried-mvomoeto-university-of-li-ge/Binary_Class_Batch_Tuning_gru_attention_glove300d/runs/p1epj6sw</a>"
            ]
          },
          "metadata": {}
        },
        {
          "output_type": "stream",
          "name": "stdout",
          "text": [
            "GloVe_GRU_BahdanauAttention(\n",
            "  (embedding): Embedding(40002, 300)\n",
            "  (gru): GRU(300, 350, batch_first=True, bidirectional=True)\n",
            "  (attention): BahdanauAttention(\n",
            "    (W): Linear(in_features=700, out_features=350, bias=True)\n",
            "    (v): Linear(in_features=350, out_features=1, bias=False)\n",
            "  )\n",
            "  (fc): Linear(in_features=700, out_features=1, bias=True)\n",
            "  (dropout): Dropout(p=0.8, inplace=False)\n",
            ")\n",
            "Total trainable parameters: 13616201\n"
          ]
        },
        {
          "output_type": "stream",
          "name": "stderr",
          "text": [
            "Optimizer: RMSprop | Batch: 32 | Epoch 8/8 - Train Loss: 0.0522, Val Loss: 0.0926, Train ACC: 97.78%, Val ACC: 96.20%, F1: 0.96, Time: 0.71 min: 100%|██████████| 8/8 [05:41<00:00, 42.65s/epoch]\n"
          ]
        },
        {
          "output_type": "display_data",
          "data": {
            "text/plain": [
              "<IPython.core.display.HTML object>"
            ],
            "text/html": []
          },
          "metadata": {}
        },
        {
          "output_type": "display_data",
          "data": {
            "text/plain": [
              "<IPython.core.display.HTML object>"
            ],
            "text/html": [
              "<br>    <style><br>        .wandb-row {<br>            display: flex;<br>            flex-direction: row;<br>            flex-wrap: wrap;<br>            justify-content: flex-start;<br>            width: 100%;<br>        }<br>        .wandb-col {<br>            display: flex;<br>            flex-direction: column;<br>            flex-basis: 100%;<br>            flex: 1;<br>            padding: 10px;<br>        }<br>    </style><br><div class=\"wandb-row\"><div class=\"wandb-col\"><h3>Run history:</h3><br/><table class=\"wandb\"><tr><td>train_acc</td><td>▁▆▆▇▇███</td></tr><tr><td>train_loss</td><td>█▄▃▃▂▂▁▁</td></tr><tr><td>val_acc</td><td>▁▅▁▆█▁▄▂</td></tr><tr><td>val_f1</td><td>▁▅▁▆█▁▄▂</td></tr><tr><td>val_loss</td><td>▅▁▃▁▃▆▅█</td></tr></table><br/></div><div class=\"wandb-col\"><h3>Run summary:</h3><br/><table class=\"wandb\"><tr><td>train_acc</td><td>0.97782</td></tr><tr><td>train_loss</td><td>0.05215</td></tr><tr><td>val_acc</td><td>0.96198</td></tr><tr><td>val_f1</td><td>0.96187</td></tr><tr><td>val_loss</td><td>0.0926</td></tr></table><br/></div></div>"
            ]
          },
          "metadata": {}
        },
        {
          "output_type": "display_data",
          "data": {
            "text/plain": [
              "<IPython.core.display.HTML object>"
            ],
            "text/html": [
              " View run <strong style=\"color:#cdcd00\">RMSprop_batch32</strong> at: <a href='https://wandb.ai/wilfried-mvomoeto-university-of-li-ge/Binary_Class_Batch_Tuning_gru_attention_glove300d/runs/p1epj6sw' target=\"_blank\">https://wandb.ai/wilfried-mvomoeto-university-of-li-ge/Binary_Class_Batch_Tuning_gru_attention_glove300d/runs/p1epj6sw</a><br> View project at: <a href='https://wandb.ai/wilfried-mvomoeto-university-of-li-ge/Binary_Class_Batch_Tuning_gru_attention_glove300d' target=\"_blank\">https://wandb.ai/wilfried-mvomoeto-university-of-li-ge/Binary_Class_Batch_Tuning_gru_attention_glove300d</a><br>Synced 5 W&B file(s), 0 media file(s), 0 artifact file(s) and 0 other file(s)"
            ]
          },
          "metadata": {}
        },
        {
          "output_type": "display_data",
          "data": {
            "text/plain": [
              "<IPython.core.display.HTML object>"
            ],
            "text/html": [
              "Find logs at: <code>./wandb/run-20250424_094016-p1epj6sw/logs</code>"
            ]
          },
          "metadata": {}
        }
      ],
      "source": [
        "learning_rate = 1e-4\n",
        "optimizer_class = optim.RMSprop\n",
        "batch_sizes = [8, 16, 32]\n",
        "num_epochs = 8\n",
        "depth = 1\n",
        "loss_function = nn.BCEWithLogitsLoss()\n",
        "\n",
        "for BATCH_SIZE in batch_sizes:\n",
        "    optimizer_name = \"RMSprop\"\n",
        "    print(f\"\\n🔹 Training with optimizer: {optimizer_name} | Batch Size: {BATCH_SIZE}\")\n",
        "\n",
        "    train_loader = DataLoader(train_dataset, batch_size=BATCH_SIZE, shuffle=True)\n",
        "    val_loader = DataLoader(val_dataset, batch_size=BATCH_SIZE, shuffle=False)\n",
        "    model = GloVe_GRU_BahdanauAttention(embedding_matrix=embedding_matrix, hidden_dim=350, num_layers=1, dropout_prob=0.8).to(device)\n",
        "    optimizer = optimizer_class(model.parameters(), lr=learning_rate)\n",
        "\n",
        "    wandb.init(entity='wilfried-mvomoeto-university-of-li-ge',\n",
        "        project='Binary_Class_Batch_Tuning_gru_attention_glove300d',\n",
        "        name=f\"{optimizer_name}_batch{BATCH_SIZE}\",\n",
        "        config={\n",
        "            'learning_rate': learning_rate,\n",
        "            'num_epochs': num_epochs,\n",
        "            'optimizer': optimizer_name,\n",
        "            'model': 'GRU_Model',\n",
        "            'hidden_dim': 300,\n",
        "            'dropout_prob': 0.9,\n",
        "            'num_layers': depth,\n",
        "            'batch_size': BATCH_SIZE\n",
        "        }\n",
        "    )\n",
        "\n",
        "    print(model)\n",
        "    num_params = count_parameters(model)\n",
        "    print(f\"Total trainable parameters: {num_params}\")\n",
        "\n",
        "    train_losses, val_losses = [], []\n",
        "    train_accs, val_accs = [], []\n",
        "    val_f1s = []\n",
        "\n",
        "    with tqdm(total=num_epochs, desc=f\"Optimizer: {optimizer_name} | Batch: {BATCH_SIZE}\", unit=\"epoch\") as pbar:\n",
        "        for epoch in range(num_epochs):\n",
        "            start_time = time.time()\n",
        "\n",
        "            train_loss, train_acc = train_epoch_glove(model, train_loader, optimizer, loss_function, device)\n",
        "            train_losses.append(train_loss)\n",
        "            train_accs.append(train_acc)\n",
        "\n",
        "            val_acc, val_f1, val_loss = validate_epoch_glove(model, val_loader, loss_function, device)\n",
        "            val_losses.append(val_loss)\n",
        "            val_accs.append(val_acc)\n",
        "            val_f1s.append(val_f1)\n",
        "\n",
        "            end_time = time.time()\n",
        "            epoch_duration = end_time - start_time\n",
        "\n",
        "            pbar.set_description(\n",
        "                f\"Optimizer: {optimizer_name} | Batch: {BATCH_SIZE} | Epoch {epoch+1}/{num_epochs} - \"\n",
        "                f\"Train Loss: {train_loss:.4f}, Val Loss: {val_loss:.4f}, \"\n",
        "                f\"Train ACC: {train_acc:.2%}, Val ACC: {val_acc:.2%}, \"\n",
        "                f\"F1: {val_f1:.2f}, Time: {epoch_duration / 60:.2f} min\"\n",
        "            )\n",
        "            pbar.update(1)\n",
        "\n",
        "            wandb.log({\n",
        "                'train_loss': train_loss,\n",
        "                'val_loss': val_loss,\n",
        "                'train_acc': train_acc,\n",
        "                'val_acc': val_acc,\n",
        "                'val_f1': val_f1,\n",
        "            })\n",
        "\n",
        "    wandb.finish()"
      ]
    },
    {
      "cell_type": "markdown",
      "metadata": {
        "id": "gqAXN7mJC6aK"
      },
      "source": [
        "---\n",
        "Batch size value is set to 32."
      ]
    },
    {
      "cell_type": "markdown",
      "source": [
        "---\n",
        "# 4. **Use of fastText (300d) as contextual embeddings - GRU - Bahdanau Attention**\n",
        "\n",
        "---"
      ],
      "metadata": {
        "id": "bcpCBqSuoYAr"
      }
    },
    {
      "cell_type": "code",
      "source": [
        "class FastText_GRU_BahdanauAttention(nn.Module):\n",
        "    \"\"\"\n",
        "    Model using FastText embeddings, GRU layers, and Bahdanau Attention for classification.\n",
        "\n",
        "    Args:\n",
        "        embedding_matrix (Tensor): Pretrained FastText embedding matrix.\n",
        "        hidden_dim (int): Hidden size for the GRU.\n",
        "        num_classes (int): Output classes.\n",
        "        num_layers (int): GRU depth.\n",
        "        dropout_prob (float): Dropout rate.\n",
        "    \"\"\"\n",
        "    def __init__(self, embedding_matrix, hidden_dim, num_layers=1, dropout_prob=0.6):\n",
        "        super(FastText_GRU_BahdanauAttention, self).__init__()\n",
        "\n",
        "        vocab_size, embedding_dim = embedding_matrix.shape\n",
        "        self.embedding = nn.Embedding.from_pretrained(embedding_matrix, freeze=False)\n",
        "\n",
        "        self.gru = nn.GRU(\n",
        "            input_size=embedding_dim,\n",
        "            hidden_size=hidden_dim,\n",
        "            num_layers=num_layers,\n",
        "            batch_first=True,\n",
        "            bidirectional=True\n",
        "        )\n",
        "\n",
        "        self.attention = BahdanauAttention(hidden_dim)\n",
        "        self.fc = nn.Linear(hidden_dim * 2, 1)\n",
        "        self.dropout = nn.Dropout(dropout_prob)\n",
        "\n",
        "    def forward(self, x):\n",
        "        \"\"\"\n",
        "        Args:\n",
        "            x (Tensor): Tensor of token indices (batch_size, seq_len)\n",
        "\n",
        "        Returns:\n",
        "            Tensor: Output logits for classification.\n",
        "        \"\"\"\n",
        "        embedded = self.embedding(x)\n",
        "        gru_out, _ = self.gru(embedded)\n",
        "        context = self.attention(gru_out)\n",
        "        x = self.dropout(context)\n",
        "        output = self.fc(x)\n",
        "        return output"
      ],
      "metadata": {
        "id": "QS-lmkQ2pMwN"
      },
      "execution_count": 26,
      "outputs": []
    },
    {
      "cell_type": "code",
      "source": [
        "def load_fasttext_embeddings(vec_path, word_to_index, embedding_dim=300):\n",
        "    \"\"\"\n",
        "    Loads FastText embeddings from a .txt or .vec file and returns an embedding matrix.\n",
        "\n",
        "    Note:\n",
        "        The .txt or .vec format contains a header (num_tokens, dimension),\n",
        "        followed by one word vector per line in the format: word val1 val2 ... valN.\n",
        "\n",
        "    Args:\n",
        "        vec_path (str): Path to the FastText .txt or .vec file (e.g., cc.en.300.txt or cc.en.300.vec).\n",
        "        word_to_index (dict): Mapping from words to their index in the vocabulary.\n",
        "        embedding_dim (int): Dimensionality of the embeddings (e.g., 300).\n",
        "\n",
        "    Returns:\n",
        "        torch.Tensor: Embedding matrix of shape (vocab_size, embedding_dim).\n",
        "    \"\"\"\n",
        "    embedding_matrix = np.zeros((len(word_to_index), embedding_dim), dtype='float32')\n",
        "\n",
        "    with open(vec_path, 'r', encoding='utf-8', newline='\\n', errors='ignore') as f:\n",
        "        header = f.readline()  # header contains: num_words dim\n",
        "        for line in f:\n",
        "            values = line.rstrip().split(' ')\n",
        "            if len(values) < embedding_dim + 1:\n",
        "                continue  # skip malformed lines\n",
        "            word = values[0]\n",
        "            if word in word_to_index:\n",
        "                vector = np.asarray(values[1:], dtype='float32')\n",
        "                embedding_matrix[word_to_index[word]] = vector\n",
        "\n",
        "    return torch.tensor(embedding_matrix, dtype=torch.float)"
      ],
      "metadata": {
        "id": "hHmz01RduRPl"
      },
      "execution_count": 27,
      "outputs": []
    },
    {
      "cell_type": "code",
      "source": [
        "EMBEDDING_DIM = 300\n",
        "embedding_matrix = load_fasttext_embeddings('/content/drive/MyDrive/cc.en.300.vec/cc.en.300.vec', word_to_index, EMBEDDING_DIM)\n",
        "\n",
        "train_dataset = TextDataset(X_train_tensor, y_train, raw_text_data=X_train)\n",
        "val_dataset = TextDataset(X_val_tensor, y_val, raw_text_data=X_val)\n",
        "test_dataset = TextDataset(X_test_tensor, y_test, raw_text_data=X_test)\n",
        "\n",
        "train_loader = DataLoader(train_dataset, batch_size=32, shuffle=True)\n",
        "val_loader = DataLoader(val_dataset, batch_size=32, shuffle=False)\n",
        "test_loader = DataLoader(test_dataset, batch_size=32, shuffle=False)"
      ],
      "metadata": {
        "id": "qQysSoZnoXVd",
        "colab": {
          "base_uri": "https://localhost:8080/"
        },
        "outputId": "ba6818e3-41e7-43c7-c384-c8ec5a32b951"
      },
      "execution_count": 28,
      "outputs": [
        {
          "output_type": "stream",
          "name": "stderr",
          "text": [
            "<ipython-input-21-811d6649565c>:44: UserWarning: To copy construct from a tensor, it is recommended to use sourceTensor.clone().detach() or sourceTensor.clone().detach().requires_grad_(True), rather than torch.tensor(sourceTensor).\n",
            "  self.X = torch.tensor(X_data, dtype=torch.long)\n"
          ]
        }
      ]
    },
    {
      "cell_type": "markdown",
      "source": [
        "---\n",
        "## 4.1 **Optimisation phase**"
      ],
      "metadata": {
        "id": "iiC53bBWpdXf"
      }
    },
    {
      "cell_type": "markdown",
      "source": [
        "4.1.1 Optimizer selection"
      ],
      "metadata": {
        "id": "JruxqDqJprIN"
      }
    },
    {
      "cell_type": "code",
      "source": [
        "num_epochs = 10\n",
        "learning_rate = 1e-3\n",
        "loss_function = nn.BCEWithLogitsLoss()\n",
        "\n",
        "optimizers = {\n",
        "    'RMSprop': optim.RMSprop,\n",
        "    'Adam': optim.Adam,\n",
        "    'AdamW': optim.AdamW,\n",
        "}\n",
        "\n",
        "for optimizer_name, optimizer_class in optimizers.items():\n",
        "    print(f\"\\n🔹 Training with optimizer: {optimizer_name}\")\n",
        "\n",
        "    model = FastText_GRU_BahdanauAttention(embedding_matrix=embedding_matrix, hidden_dim=350, num_layers=1, dropout_prob=0.8).to(device)\n",
        "    optimizer = optimizer_class(model.parameters(), lr=learning_rate)\n",
        "    wandb.init(entity='wilfried-mvomoeto-university-of-li-ge', project='Binary_Class_Optimizer_Comparison_gru_attention_fastText300d', name=f\"{optimizer_name}_run\", config={\n",
        "        'learning_rate': learning_rate,\n",
        "        'num_epochs': num_epochs,\n",
        "        'optimizer': optimizer_name,\n",
        "        'model': 'GRU_Model',\n",
        "        'embedding_dim': 300,\n",
        "        'hidden_dim': 350,\n",
        "        'dropout_prob': 0.5\n",
        "    })\n",
        "\n",
        "    print(model)\n",
        "    num_params = count_parameters(model)\n",
        "    print(f\"Total trainable parameters: {num_params}\")\n",
        "\n",
        "    train_losses, val_losses = [], []\n",
        "    train_accs, val_accs = [], []\n",
        "    val_f1s = []\n",
        "\n",
        "    with tqdm(total=num_epochs, desc=f\"Optimizer: {optimizer_name}\", unit=\"epoch\") as pbar:\n",
        "        for epoch in range(num_epochs):\n",
        "            start_time = time.time()\n",
        "\n",
        "            train_loss, train_acc = train_epoch_glove(model, train_loader, optimizer, loss_function, device)\n",
        "            train_losses.append(train_loss)\n",
        "            train_accs.append(train_acc)\n",
        "\n",
        "            val_acc, val_f1, val_loss = validate_epoch_glove(model, val_loader, loss_function, device)\n",
        "            val_losses.append(val_loss)\n",
        "            val_accs.append(val_acc)\n",
        "            val_f1s.append(val_f1)\n",
        "\n",
        "            end_time = time.time()\n",
        "            epoch_duration = end_time - start_time\n",
        "\n",
        "            pbar.set_description(f\"Optimizer: {optimizer_name} | Epoch {epoch+1}/{num_epochs} - Train Loss: {train_loss:.4f}, Val Loss: {val_loss:.4f}, Train ACC: {train_acc:.2%}, Val ACC: {val_acc:.2%}, Time: {epoch_duration / 60:.2f} min\")\n",
        "            pbar.update(1)\n",
        "\n",
        "            wandb.log({\n",
        "                'train_loss': train_loss,\n",
        "                'val_loss': val_loss,\n",
        "                'train_acc': train_acc,\n",
        "                'val_acc': val_acc,\n",
        "                'val_f1': val_f1,\n",
        "            })\n",
        "\n",
        "    wandb.finish()"
      ],
      "metadata": {
        "id": "nuvNaKQpoXR6",
        "colab": {
          "base_uri": "https://localhost:8080/",
          "height": 1000
        },
        "outputId": "4fb20de5-5fb2-4992-85e0-35300ca76d5b"
      },
      "execution_count": null,
      "outputs": [
        {
          "output_type": "stream",
          "name": "stdout",
          "text": [
            "\n",
            "🔹 Training with optimizer: RMSprop\n"
          ]
        },
        {
          "output_type": "display_data",
          "data": {
            "text/plain": [
              "<IPython.core.display.HTML object>"
            ],
            "text/html": [
              "Tracking run with wandb version 0.19.10"
            ]
          },
          "metadata": {}
        },
        {
          "output_type": "display_data",
          "data": {
            "text/plain": [
              "<IPython.core.display.HTML object>"
            ],
            "text/html": [
              "Run data is saved locally in <code>/content/wandb/run-20250424_094722-kbke3usz</code>"
            ]
          },
          "metadata": {}
        },
        {
          "output_type": "display_data",
          "data": {
            "text/plain": [
              "<IPython.core.display.HTML object>"
            ],
            "text/html": [
              "Syncing run <strong><a href='https://wandb.ai/wilfried-mvomoeto-university-of-li-ge/Binary_Class_Optimizer_Comparison_gru_attention_fastText300d/runs/kbke3usz' target=\"_blank\">RMSprop_run</a></strong> to <a href='https://wandb.ai/wilfried-mvomoeto-university-of-li-ge/Binary_Class_Optimizer_Comparison_gru_attention_fastText300d' target=\"_blank\">Weights & Biases</a> (<a href='https://wandb.me/developer-guide' target=\"_blank\">docs</a>)<br>"
            ]
          },
          "metadata": {}
        },
        {
          "output_type": "display_data",
          "data": {
            "text/plain": [
              "<IPython.core.display.HTML object>"
            ],
            "text/html": [
              " View project at <a href='https://wandb.ai/wilfried-mvomoeto-university-of-li-ge/Binary_Class_Optimizer_Comparison_gru_attention_fastText300d' target=\"_blank\">https://wandb.ai/wilfried-mvomoeto-university-of-li-ge/Binary_Class_Optimizer_Comparison_gru_attention_fastText300d</a>"
            ]
          },
          "metadata": {}
        },
        {
          "output_type": "display_data",
          "data": {
            "text/plain": [
              "<IPython.core.display.HTML object>"
            ],
            "text/html": [
              " View run at <a href='https://wandb.ai/wilfried-mvomoeto-university-of-li-ge/Binary_Class_Optimizer_Comparison_gru_attention_fastText300d/runs/kbke3usz' target=\"_blank\">https://wandb.ai/wilfried-mvomoeto-university-of-li-ge/Binary_Class_Optimizer_Comparison_gru_attention_fastText300d/runs/kbke3usz</a>"
            ]
          },
          "metadata": {}
        },
        {
          "output_type": "stream",
          "name": "stdout",
          "text": [
            "FastText_GRU_BahdanauAttention(\n",
            "  (embedding): Embedding(40002, 300)\n",
            "  (gru): GRU(300, 350, batch_first=True, bidirectional=True)\n",
            "  (attention): BahdanauAttention(\n",
            "    (W): Linear(in_features=700, out_features=350, bias=True)\n",
            "    (v): Linear(in_features=350, out_features=1, bias=False)\n",
            "  )\n",
            "  (fc): Linear(in_features=700, out_features=1, bias=True)\n",
            "  (dropout): Dropout(p=0.8, inplace=False)\n",
            ")\n",
            "Total trainable parameters: 13616201\n"
          ]
        },
        {
          "output_type": "stream",
          "name": "stderr",
          "text": [
            "Optimizer: RMSprop | Epoch 10/10 - Train Loss: 0.0329, Val Loss: 0.1471, Train ACC: 98.40%, Val ACC: 95.80%, Time: 0.71 min: 100%|██████████| 10/10 [07:08<00:00, 42.89s/epoch]\n"
          ]
        },
        {
          "output_type": "display_data",
          "data": {
            "text/plain": [
              "<IPython.core.display.HTML object>"
            ],
            "text/html": []
          },
          "metadata": {}
        },
        {
          "output_type": "display_data",
          "data": {
            "text/plain": [
              "<IPython.core.display.HTML object>"
            ],
            "text/html": [
              "<br>    <style><br>        .wandb-row {<br>            display: flex;<br>            flex-direction: row;<br>            flex-wrap: wrap;<br>            justify-content: flex-start;<br>            width: 100%;<br>        }<br>        .wandb-col {<br>            display: flex;<br>            flex-direction: column;<br>            flex-basis: 100%;<br>            flex: 1;<br>            padding: 10px;<br>        }<br>    </style><br><div class=\"wandb-row\"><div class=\"wandb-col\"><h3>Run history:</h3><br/><table class=\"wandb\"><tr><td>train_acc</td><td>▁▅▆▇▇▇████</td></tr><tr><td>train_loss</td><td>█▅▄▃▂▂▂▁▁▁</td></tr><tr><td>val_acc</td><td>▇▅█▇▇▇▁▆▂▅</td></tr><tr><td>val_f1</td><td>▇▅██▇▇▁▆▂▅</td></tr><tr><td>val_loss</td><td>▁▂▁▂▂▄█▇▇▆</td></tr></table><br/></div><div class=\"wandb-col\"><h3>Run summary:</h3><br/><table class=\"wandb\"><tr><td>train_acc</td><td>0.98396</td></tr><tr><td>train_loss</td><td>0.0329</td></tr><tr><td>val_acc</td><td>0.95799</td></tr><tr><td>val_f1</td><td>0.95778</td></tr><tr><td>val_loss</td><td>0.14709</td></tr></table><br/></div></div>"
            ]
          },
          "metadata": {}
        },
        {
          "output_type": "display_data",
          "data": {
            "text/plain": [
              "<IPython.core.display.HTML object>"
            ],
            "text/html": [
              " View run <strong style=\"color:#cdcd00\">RMSprop_run</strong> at: <a href='https://wandb.ai/wilfried-mvomoeto-university-of-li-ge/Binary_Class_Optimizer_Comparison_gru_attention_fastText300d/runs/kbke3usz' target=\"_blank\">https://wandb.ai/wilfried-mvomoeto-university-of-li-ge/Binary_Class_Optimizer_Comparison_gru_attention_fastText300d/runs/kbke3usz</a><br> View project at: <a href='https://wandb.ai/wilfried-mvomoeto-university-of-li-ge/Binary_Class_Optimizer_Comparison_gru_attention_fastText300d' target=\"_blank\">https://wandb.ai/wilfried-mvomoeto-university-of-li-ge/Binary_Class_Optimizer_Comparison_gru_attention_fastText300d</a><br>Synced 5 W&B file(s), 0 media file(s), 0 artifact file(s) and 0 other file(s)"
            ]
          },
          "metadata": {}
        },
        {
          "output_type": "display_data",
          "data": {
            "text/plain": [
              "<IPython.core.display.HTML object>"
            ],
            "text/html": [
              "Find logs at: <code>./wandb/run-20250424_094722-kbke3usz/logs</code>"
            ]
          },
          "metadata": {}
        },
        {
          "output_type": "stream",
          "name": "stdout",
          "text": [
            "\n",
            "🔹 Training with optimizer: Adam\n"
          ]
        },
        {
          "output_type": "display_data",
          "data": {
            "text/plain": [
              "<IPython.core.display.HTML object>"
            ],
            "text/html": [
              "Tracking run with wandb version 0.19.10"
            ]
          },
          "metadata": {}
        },
        {
          "output_type": "display_data",
          "data": {
            "text/plain": [
              "<IPython.core.display.HTML object>"
            ],
            "text/html": [
              "Run data is saved locally in <code>/content/wandb/run-20250424_095434-jpnokdsn</code>"
            ]
          },
          "metadata": {}
        },
        {
          "output_type": "display_data",
          "data": {
            "text/plain": [
              "<IPython.core.display.HTML object>"
            ],
            "text/html": [
              "Syncing run <strong><a href='https://wandb.ai/wilfried-mvomoeto-university-of-li-ge/Binary_Class_Optimizer_Comparison_gru_attention_fastText300d/runs/jpnokdsn' target=\"_blank\">Adam_run</a></strong> to <a href='https://wandb.ai/wilfried-mvomoeto-university-of-li-ge/Binary_Class_Optimizer_Comparison_gru_attention_fastText300d' target=\"_blank\">Weights & Biases</a> (<a href='https://wandb.me/developer-guide' target=\"_blank\">docs</a>)<br>"
            ]
          },
          "metadata": {}
        },
        {
          "output_type": "display_data",
          "data": {
            "text/plain": [
              "<IPython.core.display.HTML object>"
            ],
            "text/html": [
              " View project at <a href='https://wandb.ai/wilfried-mvomoeto-university-of-li-ge/Binary_Class_Optimizer_Comparison_gru_attention_fastText300d' target=\"_blank\">https://wandb.ai/wilfried-mvomoeto-university-of-li-ge/Binary_Class_Optimizer_Comparison_gru_attention_fastText300d</a>"
            ]
          },
          "metadata": {}
        },
        {
          "output_type": "display_data",
          "data": {
            "text/plain": [
              "<IPython.core.display.HTML object>"
            ],
            "text/html": [
              " View run at <a href='https://wandb.ai/wilfried-mvomoeto-university-of-li-ge/Binary_Class_Optimizer_Comparison_gru_attention_fastText300d/runs/jpnokdsn' target=\"_blank\">https://wandb.ai/wilfried-mvomoeto-university-of-li-ge/Binary_Class_Optimizer_Comparison_gru_attention_fastText300d/runs/jpnokdsn</a>"
            ]
          },
          "metadata": {}
        },
        {
          "output_type": "stream",
          "name": "stdout",
          "text": [
            "FastText_GRU_BahdanauAttention(\n",
            "  (embedding): Embedding(40002, 300)\n",
            "  (gru): GRU(300, 350, batch_first=True, bidirectional=True)\n",
            "  (attention): BahdanauAttention(\n",
            "    (W): Linear(in_features=700, out_features=350, bias=True)\n",
            "    (v): Linear(in_features=350, out_features=1, bias=False)\n",
            "  )\n",
            "  (fc): Linear(in_features=700, out_features=1, bias=True)\n",
            "  (dropout): Dropout(p=0.8, inplace=False)\n",
            ")\n",
            "Total trainable parameters: 13616201\n"
          ]
        },
        {
          "output_type": "stream",
          "name": "stderr",
          "text": [
            "Optimizer: Adam | Epoch 10/10 - Train Loss: 0.0399, Val Loss: 0.1544, Train ACC: 98.23%, Val ACC: 95.89%, Time: 0.72 min: 100%|██████████| 10/10 [07:14<00:00, 43.43s/epoch]\n"
          ]
        },
        {
          "output_type": "display_data",
          "data": {
            "text/plain": [
              "<IPython.core.display.HTML object>"
            ],
            "text/html": []
          },
          "metadata": {}
        },
        {
          "output_type": "display_data",
          "data": {
            "text/plain": [
              "<IPython.core.display.HTML object>"
            ],
            "text/html": [
              "<br>    <style><br>        .wandb-row {<br>            display: flex;<br>            flex-direction: row;<br>            flex-wrap: wrap;<br>            justify-content: flex-start;<br>            width: 100%;<br>        }<br>        .wandb-col {<br>            display: flex;<br>            flex-direction: column;<br>            flex-basis: 100%;<br>            flex: 1;<br>            padding: 10px;<br>        }<br>    </style><br><div class=\"wandb-row\"><div class=\"wandb-col\"><h3>Run history:</h3><br/><table class=\"wandb\"><tr><td>train_acc</td><td>▁▆▇▇▇█████</td></tr><tr><td>train_loss</td><td>█▄▃▃▃▂▁▁▁▁</td></tr><tr><td>val_acc</td><td>█▇█▅▇▅▆▁▂▅</td></tr><tr><td>val_f1</td><td>█▇▇▅▇▄▆▁▂▅</td></tr><tr><td>val_loss</td><td>▁▁▃▃▂▃▇▆██</td></tr></table><br/></div><div class=\"wandb-col\"><h3>Run summary:</h3><br/><table class=\"wandb\"><tr><td>train_acc</td><td>0.9823</td></tr><tr><td>train_loss</td><td>0.03985</td></tr><tr><td>val_acc</td><td>0.95893</td></tr><tr><td>val_f1</td><td>0.95867</td></tr><tr><td>val_loss</td><td>0.15435</td></tr></table><br/></div></div>"
            ]
          },
          "metadata": {}
        },
        {
          "output_type": "display_data",
          "data": {
            "text/plain": [
              "<IPython.core.display.HTML object>"
            ],
            "text/html": [
              " View run <strong style=\"color:#cdcd00\">Adam_run</strong> at: <a href='https://wandb.ai/wilfried-mvomoeto-university-of-li-ge/Binary_Class_Optimizer_Comparison_gru_attention_fastText300d/runs/jpnokdsn' target=\"_blank\">https://wandb.ai/wilfried-mvomoeto-university-of-li-ge/Binary_Class_Optimizer_Comparison_gru_attention_fastText300d/runs/jpnokdsn</a><br> View project at: <a href='https://wandb.ai/wilfried-mvomoeto-university-of-li-ge/Binary_Class_Optimizer_Comparison_gru_attention_fastText300d' target=\"_blank\">https://wandb.ai/wilfried-mvomoeto-university-of-li-ge/Binary_Class_Optimizer_Comparison_gru_attention_fastText300d</a><br>Synced 5 W&B file(s), 0 media file(s), 0 artifact file(s) and 0 other file(s)"
            ]
          },
          "metadata": {}
        },
        {
          "output_type": "display_data",
          "data": {
            "text/plain": [
              "<IPython.core.display.HTML object>"
            ],
            "text/html": [
              "Find logs at: <code>./wandb/run-20250424_095434-jpnokdsn/logs</code>"
            ]
          },
          "metadata": {}
        },
        {
          "output_type": "stream",
          "name": "stdout",
          "text": [
            "\n",
            "🔹 Training with optimizer: AdamW\n"
          ]
        },
        {
          "output_type": "display_data",
          "data": {
            "text/plain": [
              "<IPython.core.display.HTML object>"
            ],
            "text/html": [
              "Tracking run with wandb version 0.19.10"
            ]
          },
          "metadata": {}
        },
        {
          "output_type": "display_data",
          "data": {
            "text/plain": [
              "<IPython.core.display.HTML object>"
            ],
            "text/html": [
              "Run data is saved locally in <code>/content/wandb/run-20250424_100150-gxdusuej</code>"
            ]
          },
          "metadata": {}
        },
        {
          "output_type": "display_data",
          "data": {
            "text/plain": [
              "<IPython.core.display.HTML object>"
            ],
            "text/html": [
              "Syncing run <strong><a href='https://wandb.ai/wilfried-mvomoeto-university-of-li-ge/Binary_Class_Optimizer_Comparison_gru_attention_fastText300d/runs/gxdusuej' target=\"_blank\">AdamW_run</a></strong> to <a href='https://wandb.ai/wilfried-mvomoeto-university-of-li-ge/Binary_Class_Optimizer_Comparison_gru_attention_fastText300d' target=\"_blank\">Weights & Biases</a> (<a href='https://wandb.me/developer-guide' target=\"_blank\">docs</a>)<br>"
            ]
          },
          "metadata": {}
        },
        {
          "output_type": "display_data",
          "data": {
            "text/plain": [
              "<IPython.core.display.HTML object>"
            ],
            "text/html": [
              " View project at <a href='https://wandb.ai/wilfried-mvomoeto-university-of-li-ge/Binary_Class_Optimizer_Comparison_gru_attention_fastText300d' target=\"_blank\">https://wandb.ai/wilfried-mvomoeto-university-of-li-ge/Binary_Class_Optimizer_Comparison_gru_attention_fastText300d</a>"
            ]
          },
          "metadata": {}
        },
        {
          "output_type": "display_data",
          "data": {
            "text/plain": [
              "<IPython.core.display.HTML object>"
            ],
            "text/html": [
              " View run at <a href='https://wandb.ai/wilfried-mvomoeto-university-of-li-ge/Binary_Class_Optimizer_Comparison_gru_attention_fastText300d/runs/gxdusuej' target=\"_blank\">https://wandb.ai/wilfried-mvomoeto-university-of-li-ge/Binary_Class_Optimizer_Comparison_gru_attention_fastText300d/runs/gxdusuej</a>"
            ]
          },
          "metadata": {}
        },
        {
          "output_type": "stream",
          "name": "stdout",
          "text": [
            "FastText_GRU_BahdanauAttention(\n",
            "  (embedding): Embedding(40002, 300)\n",
            "  (gru): GRU(300, 350, batch_first=True, bidirectional=True)\n",
            "  (attention): BahdanauAttention(\n",
            "    (W): Linear(in_features=700, out_features=350, bias=True)\n",
            "    (v): Linear(in_features=350, out_features=1, bias=False)\n",
            "  )\n",
            "  (fc): Linear(in_features=700, out_features=1, bias=True)\n",
            "  (dropout): Dropout(p=0.8, inplace=False)\n",
            ")\n",
            "Total trainable parameters: 13616201\n"
          ]
        },
        {
          "output_type": "stream",
          "name": "stderr",
          "text": [
            "Optimizer: AdamW | Epoch 10/10 - Train Loss: 0.0338, Val Loss: 0.1322, Train ACC: 98.36%, Val ACC: 95.54%, Time: 0.73 min: 100%|██████████| 10/10 [07:17<00:00, 43.74s/epoch]\n"
          ]
        },
        {
          "output_type": "display_data",
          "data": {
            "text/plain": [
              "<IPython.core.display.HTML object>"
            ],
            "text/html": []
          },
          "metadata": {}
        },
        {
          "output_type": "display_data",
          "data": {
            "text/plain": [
              "<IPython.core.display.HTML object>"
            ],
            "text/html": [
              "<br>    <style><br>        .wandb-row {<br>            display: flex;<br>            flex-direction: row;<br>            flex-wrap: wrap;<br>            justify-content: flex-start;<br>            width: 100%;<br>        }<br>        .wandb-col {<br>            display: flex;<br>            flex-direction: column;<br>            flex-basis: 100%;<br>            flex: 1;<br>            padding: 10px;<br>        }<br>    </style><br><div class=\"wandb-row\"><div class=\"wandb-col\"><h3>Run history:</h3><br/><table class=\"wandb\"><tr><td>train_acc</td><td>▁▆▇▇▇▇████</td></tr><tr><td>train_loss</td><td>█▄▃▂▂▂▁▁▁▁</td></tr><tr><td>val_acc</td><td>▄▆▆█▅▅▆▂▄▁</td></tr><tr><td>val_f1</td><td>▄▆▆█▅▄▆▂▄▁</td></tr><tr><td>val_loss</td><td>▂▂▂▁▄▅▄██▅</td></tr></table><br/></div><div class=\"wandb-col\"><h3>Run summary:</h3><br/><table class=\"wandb\"><tr><td>train_acc</td><td>0.98355</td></tr><tr><td>train_loss</td><td>0.03383</td></tr><tr><td>val_acc</td><td>0.95541</td></tr><tr><td>val_f1</td><td>0.95544</td></tr><tr><td>val_loss</td><td>0.13221</td></tr></table><br/></div></div>"
            ]
          },
          "metadata": {}
        },
        {
          "output_type": "display_data",
          "data": {
            "text/plain": [
              "<IPython.core.display.HTML object>"
            ],
            "text/html": [
              " View run <strong style=\"color:#cdcd00\">AdamW_run</strong> at: <a href='https://wandb.ai/wilfried-mvomoeto-university-of-li-ge/Binary_Class_Optimizer_Comparison_gru_attention_fastText300d/runs/gxdusuej' target=\"_blank\">https://wandb.ai/wilfried-mvomoeto-university-of-li-ge/Binary_Class_Optimizer_Comparison_gru_attention_fastText300d/runs/gxdusuej</a><br> View project at: <a href='https://wandb.ai/wilfried-mvomoeto-university-of-li-ge/Binary_Class_Optimizer_Comparison_gru_attention_fastText300d' target=\"_blank\">https://wandb.ai/wilfried-mvomoeto-university-of-li-ge/Binary_Class_Optimizer_Comparison_gru_attention_fastText300d</a><br>Synced 5 W&B file(s), 0 media file(s), 0 artifact file(s) and 0 other file(s)"
            ]
          },
          "metadata": {}
        },
        {
          "output_type": "display_data",
          "data": {
            "text/plain": [
              "<IPython.core.display.HTML object>"
            ],
            "text/html": [
              "Find logs at: <code>./wandb/run-20250424_100150-gxdusuej/logs</code>"
            ]
          },
          "metadata": {}
        }
      ]
    },
    {
      "cell_type": "markdown",
      "source": [
        "4.1.2 Learning rate value selection"
      ],
      "metadata": {
        "id": "W2B0tY3UpvfH"
      }
    },
    {
      "cell_type": "code",
      "source": [
        "learning_rates = [9e-4, 1e-3, 3e-4]\n",
        "optimizer_class = optim.RMSprop\n",
        "criterion = nn.BCEWithLogitsLoss()\n",
        "\n",
        "for lr in learning_rates:\n",
        "    optimizer_name = \"RMSprop\"\n",
        "    print(f\"\\n🔹 Training with optimizer: {optimizer_name} | Learning rate: {lr}\")\n",
        "\n",
        "    model = FastText_GRU_BahdanauAttention(embedding_matrix=embedding_matrix, hidden_dim=350, num_layers=1, dropout_prob=0.8).to(device)\n",
        "    optimizer = optimizer_class(model.parameters(), lr=lr, weight_decay = 1e-5)\n",
        "\n",
        "    wandb.init(entity='wilfried-mvomoeto-university-of-li-ge',\n",
        "        project='Multi_Class_lr_Tuning_gru_attention_fastText300d',\n",
        "        name=f\"{optimizer_name}_lr{lr}\",\n",
        "        config={\n",
        "            'learning_rate': lr,\n",
        "            'num_epochs': num_epochs,\n",
        "            'optimizer': optimizer_name,\n",
        "            'model': 'GRU_Model',\n",
        "            'hidden_dim': 350,\n",
        "            'dropout_prob': 0.8\n",
        "        }\n",
        "    )\n",
        "\n",
        "    print(model)\n",
        "    num_params = count_parameters(model)\n",
        "    print(f\"Total trainable parameters: {num_params}\")\n",
        "\n",
        "    train_losses, val_losses = [], []\n",
        "    train_accs, val_accs = [], []\n",
        "    val_f1s = []\n",
        "\n",
        "    with tqdm(total=num_epochs, desc=f\"Optimizer: {optimizer_name} | LR: {lr}\", unit=\"epoch\") as pbar:\n",
        "        for epoch in range(num_epochs):\n",
        "            start_time = time.time()\n",
        "\n",
        "            train_loss, train_acc = train_epoch_glove(model, train_loader, optimizer, loss_function, device)\n",
        "            train_losses.append(train_loss)\n",
        "            train_accs.append(train_acc)\n",
        "\n",
        "            val_acc, val_f1, val_loss = validate_epoch_glove(model, val_loader, loss_function, device)\n",
        "            val_losses.append(val_loss)\n",
        "            val_accs.append(val_acc)\n",
        "            val_f1s.append(val_f1)\n",
        "\n",
        "            end_time = time.time()\n",
        "            epoch_duration = end_time - start_time\n",
        "\n",
        "            pbar.set_description(\n",
        "                f\"Optimizer: {optimizer_name} | LR: {lr} | Epoch {epoch+1}/{num_epochs} - \"\n",
        "                f\"Train Loss: {train_loss:.4f}, Val Loss: {val_loss:.4f}, \"\n",
        "                f\"Train ACC: {train_acc:.2%}, Val ACC: {val_acc:.2%}, \"\n",
        "                f\"F1: {val_f1:.2f}, Time: {epoch_duration / 60:.2f} min\"\n",
        "            )\n",
        "            pbar.update(1)\n",
        "\n",
        "            wandb.log({\n",
        "                'train_loss': train_loss,\n",
        "                'val_loss': val_loss,\n",
        "                'train_acc': train_acc,\n",
        "                'val_acc': val_acc,\n",
        "                'val_f1': val_f1,\n",
        "            })\n",
        "\n",
        "    wandb.finish()"
      ],
      "metadata": {
        "id": "-wfDPDNpoXO2",
        "colab": {
          "base_uri": "https://localhost:8080/",
          "height": 1000
        },
        "outputId": "c2c60c33-af06-4511-ec01-494ad29473cb"
      },
      "execution_count": null,
      "outputs": [
        {
          "output_type": "stream",
          "name": "stdout",
          "text": [
            "\n",
            "🔹 Training with optimizer: RMSprop | Learning rate: 0.0009\n"
          ]
        },
        {
          "output_type": "display_data",
          "data": {
            "text/plain": [
              "<IPython.core.display.HTML object>"
            ],
            "text/html": [
              "Tracking run with wandb version 0.19.10"
            ]
          },
          "metadata": {}
        },
        {
          "output_type": "display_data",
          "data": {
            "text/plain": [
              "<IPython.core.display.HTML object>"
            ],
            "text/html": [
              "Run data is saved locally in <code>/content/wandb/run-20250424_100910-fipoii7h</code>"
            ]
          },
          "metadata": {}
        },
        {
          "output_type": "display_data",
          "data": {
            "text/plain": [
              "<IPython.core.display.HTML object>"
            ],
            "text/html": [
              "Syncing run <strong><a href='https://wandb.ai/wilfried-mvomoeto-university-of-li-ge/Multi_Class_lr_Tuning_gru_attention_fastText300d/runs/fipoii7h' target=\"_blank\">RMSprop_lr0.0009</a></strong> to <a href='https://wandb.ai/wilfried-mvomoeto-university-of-li-ge/Multi_Class_lr_Tuning_gru_attention_fastText300d' target=\"_blank\">Weights & Biases</a> (<a href='https://wandb.me/developer-guide' target=\"_blank\">docs</a>)<br>"
            ]
          },
          "metadata": {}
        },
        {
          "output_type": "display_data",
          "data": {
            "text/plain": [
              "<IPython.core.display.HTML object>"
            ],
            "text/html": [
              " View project at <a href='https://wandb.ai/wilfried-mvomoeto-university-of-li-ge/Multi_Class_lr_Tuning_gru_attention_fastText300d' target=\"_blank\">https://wandb.ai/wilfried-mvomoeto-university-of-li-ge/Multi_Class_lr_Tuning_gru_attention_fastText300d</a>"
            ]
          },
          "metadata": {}
        },
        {
          "output_type": "display_data",
          "data": {
            "text/plain": [
              "<IPython.core.display.HTML object>"
            ],
            "text/html": [
              " View run at <a href='https://wandb.ai/wilfried-mvomoeto-university-of-li-ge/Multi_Class_lr_Tuning_gru_attention_fastText300d/runs/fipoii7h' target=\"_blank\">https://wandb.ai/wilfried-mvomoeto-university-of-li-ge/Multi_Class_lr_Tuning_gru_attention_fastText300d/runs/fipoii7h</a>"
            ]
          },
          "metadata": {}
        },
        {
          "output_type": "stream",
          "name": "stdout",
          "text": [
            "FastText_GRU_BahdanauAttention(\n",
            "  (embedding): Embedding(40002, 300)\n",
            "  (gru): GRU(300, 350, batch_first=True, bidirectional=True)\n",
            "  (attention): BahdanauAttention(\n",
            "    (W): Linear(in_features=700, out_features=350, bias=True)\n",
            "    (v): Linear(in_features=350, out_features=1, bias=False)\n",
            "  )\n",
            "  (fc): Linear(in_features=700, out_features=1, bias=True)\n",
            "  (dropout): Dropout(p=0.8, inplace=False)\n",
            ")\n",
            "Total trainable parameters: 13616201\n"
          ]
        },
        {
          "output_type": "stream",
          "name": "stderr",
          "text": [
            "Optimizer: RMSprop | LR: 0.0009 | Epoch 10/10 - Train Loss: 0.0444, Val Loss: 0.1269, Train ACC: 97.90%, Val ACC: 96.15%, F1: 0.96, Time: 0.72 min: 100%|██████████| 10/10 [07:10<00:00, 43.01s/epoch]\n"
          ]
        },
        {
          "output_type": "display_data",
          "data": {
            "text/plain": [
              "<IPython.core.display.HTML object>"
            ],
            "text/html": []
          },
          "metadata": {}
        },
        {
          "output_type": "display_data",
          "data": {
            "text/plain": [
              "<IPython.core.display.HTML object>"
            ],
            "text/html": [
              "<br>    <style><br>        .wandb-row {<br>            display: flex;<br>            flex-direction: row;<br>            flex-wrap: wrap;<br>            justify-content: flex-start;<br>            width: 100%;<br>        }<br>        .wandb-col {<br>            display: flex;<br>            flex-direction: column;<br>            flex-basis: 100%;<br>            flex: 1;<br>            padding: 10px;<br>        }<br>    </style><br><div class=\"wandb-row\"><div class=\"wandb-col\"><h3>Run history:</h3><br/><table class=\"wandb\"><tr><td>train_acc</td><td>▁▆▆▇▇▇████</td></tr><tr><td>train_loss</td><td>█▄▃▂▂▂▂▁▁▁</td></tr><tr><td>val_acc</td><td>▅██▇█▇▁▅▇▆</td></tr><tr><td>val_f1</td><td>▅██▇█▇▁▅▇▅</td></tr><tr><td>val_loss</td><td>▂▁▁▂▃▂▅▆▇█</td></tr></table><br/></div><div class=\"wandb-col\"><h3>Run summary:</h3><br/><table class=\"wandb\"><tr><td>train_acc</td><td>0.97903</td></tr><tr><td>train_loss</td><td>0.04445</td></tr><tr><td>val_acc</td><td>0.96151</td></tr><tr><td>val_f1</td><td>0.96125</td></tr><tr><td>val_loss</td><td>0.12685</td></tr></table><br/></div></div>"
            ]
          },
          "metadata": {}
        },
        {
          "output_type": "display_data",
          "data": {
            "text/plain": [
              "<IPython.core.display.HTML object>"
            ],
            "text/html": [
              " View run <strong style=\"color:#cdcd00\">RMSprop_lr0.0009</strong> at: <a href='https://wandb.ai/wilfried-mvomoeto-university-of-li-ge/Multi_Class_lr_Tuning_gru_attention_fastText300d/runs/fipoii7h' target=\"_blank\">https://wandb.ai/wilfried-mvomoeto-university-of-li-ge/Multi_Class_lr_Tuning_gru_attention_fastText300d/runs/fipoii7h</a><br> View project at: <a href='https://wandb.ai/wilfried-mvomoeto-university-of-li-ge/Multi_Class_lr_Tuning_gru_attention_fastText300d' target=\"_blank\">https://wandb.ai/wilfried-mvomoeto-university-of-li-ge/Multi_Class_lr_Tuning_gru_attention_fastText300d</a><br>Synced 5 W&B file(s), 0 media file(s), 0 artifact file(s) and 0 other file(s)"
            ]
          },
          "metadata": {}
        },
        {
          "output_type": "display_data",
          "data": {
            "text/plain": [
              "<IPython.core.display.HTML object>"
            ],
            "text/html": [
              "Find logs at: <code>./wandb/run-20250424_100910-fipoii7h/logs</code>"
            ]
          },
          "metadata": {}
        },
        {
          "output_type": "stream",
          "name": "stdout",
          "text": [
            "\n",
            "🔹 Training with optimizer: RMSprop | Learning rate: 0.001\n"
          ]
        },
        {
          "output_type": "display_data",
          "data": {
            "text/plain": [
              "<IPython.core.display.HTML object>"
            ],
            "text/html": [
              "Tracking run with wandb version 0.19.10"
            ]
          },
          "metadata": {}
        },
        {
          "output_type": "display_data",
          "data": {
            "text/plain": [
              "<IPython.core.display.HTML object>"
            ],
            "text/html": [
              "Run data is saved locally in <code>/content/wandb/run-20250424_101623-wwurd6sp</code>"
            ]
          },
          "metadata": {}
        },
        {
          "output_type": "display_data",
          "data": {
            "text/plain": [
              "<IPython.core.display.HTML object>"
            ],
            "text/html": [
              "Syncing run <strong><a href='https://wandb.ai/wilfried-mvomoeto-university-of-li-ge/Multi_Class_lr_Tuning_gru_attention_fastText300d/runs/wwurd6sp' target=\"_blank\">RMSprop_lr0.001</a></strong> to <a href='https://wandb.ai/wilfried-mvomoeto-university-of-li-ge/Multi_Class_lr_Tuning_gru_attention_fastText300d' target=\"_blank\">Weights & Biases</a> (<a href='https://wandb.me/developer-guide' target=\"_blank\">docs</a>)<br>"
            ]
          },
          "metadata": {}
        },
        {
          "output_type": "display_data",
          "data": {
            "text/plain": [
              "<IPython.core.display.HTML object>"
            ],
            "text/html": [
              " View project at <a href='https://wandb.ai/wilfried-mvomoeto-university-of-li-ge/Multi_Class_lr_Tuning_gru_attention_fastText300d' target=\"_blank\">https://wandb.ai/wilfried-mvomoeto-university-of-li-ge/Multi_Class_lr_Tuning_gru_attention_fastText300d</a>"
            ]
          },
          "metadata": {}
        },
        {
          "output_type": "display_data",
          "data": {
            "text/plain": [
              "<IPython.core.display.HTML object>"
            ],
            "text/html": [
              " View run at <a href='https://wandb.ai/wilfried-mvomoeto-university-of-li-ge/Multi_Class_lr_Tuning_gru_attention_fastText300d/runs/wwurd6sp' target=\"_blank\">https://wandb.ai/wilfried-mvomoeto-university-of-li-ge/Multi_Class_lr_Tuning_gru_attention_fastText300d/runs/wwurd6sp</a>"
            ]
          },
          "metadata": {}
        },
        {
          "output_type": "stream",
          "name": "stdout",
          "text": [
            "FastText_GRU_BahdanauAttention(\n",
            "  (embedding): Embedding(40002, 300)\n",
            "  (gru): GRU(300, 350, batch_first=True, bidirectional=True)\n",
            "  (attention): BahdanauAttention(\n",
            "    (W): Linear(in_features=700, out_features=350, bias=True)\n",
            "    (v): Linear(in_features=350, out_features=1, bias=False)\n",
            "  )\n",
            "  (fc): Linear(in_features=700, out_features=1, bias=True)\n",
            "  (dropout): Dropout(p=0.8, inplace=False)\n",
            ")\n",
            "Total trainable parameters: 13616201\n"
          ]
        },
        {
          "output_type": "stream",
          "name": "stderr",
          "text": [
            "Optimizer: RMSprop | LR: 0.001 | Epoch 10/10 - Train Loss: 0.0472, Val Loss: 0.1174, Train ACC: 97.92%, Val ACC: 96.48%, F1: 0.96, Time: 0.72 min: 100%|██████████| 10/10 [07:11<00:00, 43.12s/epoch]\n"
          ]
        },
        {
          "output_type": "display_data",
          "data": {
            "text/plain": [
              "<IPython.core.display.HTML object>"
            ],
            "text/html": []
          },
          "metadata": {}
        },
        {
          "output_type": "display_data",
          "data": {
            "text/plain": [
              "<IPython.core.display.HTML object>"
            ],
            "text/html": [
              "<br>    <style><br>        .wandb-row {<br>            display: flex;<br>            flex-direction: row;<br>            flex-wrap: wrap;<br>            justify-content: flex-start;<br>            width: 100%;<br>        }<br>        .wandb-col {<br>            display: flex;<br>            flex-direction: column;<br>            flex-basis: 100%;<br>            flex: 1;<br>            padding: 10px;<br>        }<br>    </style><br><div class=\"wandb-row\"><div class=\"wandb-col\"><h3>Run history:</h3><br/><table class=\"wandb\"><tr><td>train_acc</td><td>▁▅▅▆▇▇████</td></tr><tr><td>train_loss</td><td>█▄▄▃▃▂▂▂▁▁</td></tr><tr><td>val_acc</td><td>▂▅▅█▇█▆▇▁▆</td></tr><tr><td>val_f1</td><td>▂▅▅█▇█▆▆▁▆</td></tr><tr><td>val_loss</td><td>▅▁▂▃▁▂▃▆▅█</td></tr></table><br/></div><div class=\"wandb-col\"><h3>Run summary:</h3><br/><table class=\"wandb\"><tr><td>train_acc</td><td>0.97918</td></tr><tr><td>train_loss</td><td>0.04721</td></tr><tr><td>val_acc</td><td>0.9648</td></tr><tr><td>val_f1</td><td>0.96455</td></tr><tr><td>val_loss</td><td>0.11735</td></tr></table><br/></div></div>"
            ]
          },
          "metadata": {}
        },
        {
          "output_type": "display_data",
          "data": {
            "text/plain": [
              "<IPython.core.display.HTML object>"
            ],
            "text/html": [
              " View run <strong style=\"color:#cdcd00\">RMSprop_lr0.001</strong> at: <a href='https://wandb.ai/wilfried-mvomoeto-university-of-li-ge/Multi_Class_lr_Tuning_gru_attention_fastText300d/runs/wwurd6sp' target=\"_blank\">https://wandb.ai/wilfried-mvomoeto-university-of-li-ge/Multi_Class_lr_Tuning_gru_attention_fastText300d/runs/wwurd6sp</a><br> View project at: <a href='https://wandb.ai/wilfried-mvomoeto-university-of-li-ge/Multi_Class_lr_Tuning_gru_attention_fastText300d' target=\"_blank\">https://wandb.ai/wilfried-mvomoeto-university-of-li-ge/Multi_Class_lr_Tuning_gru_attention_fastText300d</a><br>Synced 5 W&B file(s), 0 media file(s), 0 artifact file(s) and 0 other file(s)"
            ]
          },
          "metadata": {}
        },
        {
          "output_type": "display_data",
          "data": {
            "text/plain": [
              "<IPython.core.display.HTML object>"
            ],
            "text/html": [
              "Find logs at: <code>./wandb/run-20250424_101623-wwurd6sp/logs</code>"
            ]
          },
          "metadata": {}
        },
        {
          "output_type": "stream",
          "name": "stdout",
          "text": [
            "\n",
            "🔹 Training with optimizer: RMSprop | Learning rate: 0.0003\n"
          ]
        },
        {
          "output_type": "display_data",
          "data": {
            "text/plain": [
              "<IPython.core.display.HTML object>"
            ],
            "text/html": [
              "Tracking run with wandb version 0.19.10"
            ]
          },
          "metadata": {}
        },
        {
          "output_type": "display_data",
          "data": {
            "text/plain": [
              "<IPython.core.display.HTML object>"
            ],
            "text/html": [
              "Run data is saved locally in <code>/content/wandb/run-20250424_102337-rxvq9kyr</code>"
            ]
          },
          "metadata": {}
        },
        {
          "output_type": "display_data",
          "data": {
            "text/plain": [
              "<IPython.core.display.HTML object>"
            ],
            "text/html": [
              "Syncing run <strong><a href='https://wandb.ai/wilfried-mvomoeto-university-of-li-ge/Multi_Class_lr_Tuning_gru_attention_fastText300d/runs/rxvq9kyr' target=\"_blank\">RMSprop_lr0.0003</a></strong> to <a href='https://wandb.ai/wilfried-mvomoeto-university-of-li-ge/Multi_Class_lr_Tuning_gru_attention_fastText300d' target=\"_blank\">Weights & Biases</a> (<a href='https://wandb.me/developer-guide' target=\"_blank\">docs</a>)<br>"
            ]
          },
          "metadata": {}
        },
        {
          "output_type": "display_data",
          "data": {
            "text/plain": [
              "<IPython.core.display.HTML object>"
            ],
            "text/html": [
              " View project at <a href='https://wandb.ai/wilfried-mvomoeto-university-of-li-ge/Multi_Class_lr_Tuning_gru_attention_fastText300d' target=\"_blank\">https://wandb.ai/wilfried-mvomoeto-university-of-li-ge/Multi_Class_lr_Tuning_gru_attention_fastText300d</a>"
            ]
          },
          "metadata": {}
        },
        {
          "output_type": "display_data",
          "data": {
            "text/plain": [
              "<IPython.core.display.HTML object>"
            ],
            "text/html": [
              " View run at <a href='https://wandb.ai/wilfried-mvomoeto-university-of-li-ge/Multi_Class_lr_Tuning_gru_attention_fastText300d/runs/rxvq9kyr' target=\"_blank\">https://wandb.ai/wilfried-mvomoeto-university-of-li-ge/Multi_Class_lr_Tuning_gru_attention_fastText300d/runs/rxvq9kyr</a>"
            ]
          },
          "metadata": {}
        },
        {
          "output_type": "stream",
          "name": "stdout",
          "text": [
            "FastText_GRU_BahdanauAttention(\n",
            "  (embedding): Embedding(40002, 300)\n",
            "  (gru): GRU(300, 350, batch_first=True, bidirectional=True)\n",
            "  (attention): BahdanauAttention(\n",
            "    (W): Linear(in_features=700, out_features=350, bias=True)\n",
            "    (v): Linear(in_features=350, out_features=1, bias=False)\n",
            "  )\n",
            "  (fc): Linear(in_features=700, out_features=1, bias=True)\n",
            "  (dropout): Dropout(p=0.8, inplace=False)\n",
            ")\n",
            "Total trainable parameters: 13616201\n"
          ]
        },
        {
          "output_type": "stream",
          "name": "stderr",
          "text": [
            "Optimizer: RMSprop | LR: 0.0003 | Epoch 10/10 - Train Loss: 0.0406, Val Loss: 0.1156, Train ACC: 98.20%, Val ACC: 95.73%, F1: 0.96, Time: 0.72 min: 100%|██████████| 10/10 [07:10<00:00, 43.07s/epoch]\n"
          ]
        },
        {
          "output_type": "display_data",
          "data": {
            "text/plain": [
              "<IPython.core.display.HTML object>"
            ],
            "text/html": []
          },
          "metadata": {}
        },
        {
          "output_type": "display_data",
          "data": {
            "text/plain": [
              "<IPython.core.display.HTML object>"
            ],
            "text/html": [
              "<br>    <style><br>        .wandb-row {<br>            display: flex;<br>            flex-direction: row;<br>            flex-wrap: wrap;<br>            justify-content: flex-start;<br>            width: 100%;<br>        }<br>        .wandb-col {<br>            display: flex;<br>            flex-direction: column;<br>            flex-basis: 100%;<br>            flex: 1;<br>            padding: 10px;<br>        }<br>    </style><br><div class=\"wandb-row\"><div class=\"wandb-col\"><h3>Run history:</h3><br/><table class=\"wandb\"><tr><td>train_acc</td><td>▁▅▇▇▇▇████</td></tr><tr><td>train_loss</td><td>█▄▃▂▂▂▁▁▁▁</td></tr><tr><td>val_acc</td><td>▆█▇▆▁▆▂▆▄▂</td></tr><tr><td>val_f1</td><td>▆█▇▆▁▆▂▆▄▂</td></tr><tr><td>val_loss</td><td>▃▂▁▂▆▇█▄▅▇</td></tr></table><br/></div><div class=\"wandb-col\"><h3>Run summary:</h3><br/><table class=\"wandb\"><tr><td>train_acc</td><td>0.98205</td></tr><tr><td>train_loss</td><td>0.04063</td></tr><tr><td>val_acc</td><td>0.95729</td></tr><tr><td>val_f1</td><td>0.95719</td></tr><tr><td>val_loss</td><td>0.1156</td></tr></table><br/></div></div>"
            ]
          },
          "metadata": {}
        },
        {
          "output_type": "display_data",
          "data": {
            "text/plain": [
              "<IPython.core.display.HTML object>"
            ],
            "text/html": [
              " View run <strong style=\"color:#cdcd00\">RMSprop_lr0.0003</strong> at: <a href='https://wandb.ai/wilfried-mvomoeto-university-of-li-ge/Multi_Class_lr_Tuning_gru_attention_fastText300d/runs/rxvq9kyr' target=\"_blank\">https://wandb.ai/wilfried-mvomoeto-university-of-li-ge/Multi_Class_lr_Tuning_gru_attention_fastText300d/runs/rxvq9kyr</a><br> View project at: <a href='https://wandb.ai/wilfried-mvomoeto-university-of-li-ge/Multi_Class_lr_Tuning_gru_attention_fastText300d' target=\"_blank\">https://wandb.ai/wilfried-mvomoeto-university-of-li-ge/Multi_Class_lr_Tuning_gru_attention_fastText300d</a><br>Synced 5 W&B file(s), 0 media file(s), 0 artifact file(s) and 0 other file(s)"
            ]
          },
          "metadata": {}
        },
        {
          "output_type": "display_data",
          "data": {
            "text/plain": [
              "<IPython.core.display.HTML object>"
            ],
            "text/html": [
              "Find logs at: <code>./wandb/run-20250424_102337-rxvq9kyr/logs</code>"
            ]
          },
          "metadata": {}
        }
      ]
    },
    {
      "cell_type": "markdown",
      "source": [
        "4.1.3 Depth value selection"
      ],
      "metadata": {
        "id": "8Ty7xlhjp7s5"
      }
    },
    {
      "cell_type": "code",
      "source": [
        "learning_rate = 1e-3\n",
        "depth_values = [1, 2, 3]\n",
        "criterion = nn.BCEWithLogitsLoss()\n",
        "\n",
        "for depth in depth_values:\n",
        "    optimizer_name = \"RMSprop\"\n",
        "    print(f\"\\n🔹 Training with optimizer: {optimizer_name} | Depth: {depth}\")\n",
        "\n",
        "    model = FastText_GRU_BahdanauAttention(embedding_matrix=embedding_matrix, hidden_dim=350, num_layers=1, dropout_prob=0.8).to(device)\n",
        "    optimizer = optimizer_class(model.parameters(), lr=learning_rate)\n",
        "\n",
        "    wandb.init(entity='wilfried-mvomoeto-university-of-li-ge',\n",
        "        project='Binary_Class_Depth_Tuning_gru_attention_fastText300d',\n",
        "        name=f\"{optimizer_name}_depth{depth}\",\n",
        "        config={\n",
        "            'learning_rate': learning_rate,\n",
        "            'num_epochs': num_epochs,\n",
        "            'optimizer': optimizer_name,\n",
        "            'model': 'GRU_Model',\n",
        "            'hidden_dim': 300,\n",
        "            'dropout_prob': 0.9,\n",
        "            'num_layers': depth\n",
        "        }\n",
        "    )\n",
        "\n",
        "    print(model)\n",
        "    num_params = count_parameters(model)\n",
        "    print(f\"Total trainable parameters: {num_params}\")\n",
        "\n",
        "    train_losses, val_losses = [], []\n",
        "    train_accs, val_accs = [], []\n",
        "    val_f1s = []\n",
        "\n",
        "    with tqdm(total=num_epochs, desc=f\"Optimizer: {optimizer_name} | Depth: {depth}\", unit=\"epoch\") as pbar:\n",
        "        for epoch in range(num_epochs):\n",
        "            start_time = time.time()\n",
        "\n",
        "            train_loss, train_acc = train_epoch_glove(model, train_loader, optimizer, loss_function, device)\n",
        "            train_losses.append(train_loss)\n",
        "            train_accs.append(train_acc)\n",
        "\n",
        "            val_acc, val_f1, val_loss = validate_epoch_glove(model, val_loader, loss_function, device)\n",
        "            val_losses.append(val_loss)\n",
        "            val_accs.append(val_acc)\n",
        "            val_f1s.append(val_f1)\n",
        "\n",
        "            end_time = time.time()\n",
        "            epoch_duration = end_time - start_time\n",
        "\n",
        "            pbar.set_description(\n",
        "                f\"Optimizer: {optimizer_name} | Depth: {depth} | Epoch {epoch+1}/{num_epochs} - \"\n",
        "                f\"Train Loss: {train_loss:.4f}, Val Loss: {val_loss:.4f}, \"\n",
        "                f\"Train ACC: {train_acc:.2%}, Val ACC: {val_acc:.2%}, \"\n",
        "                f\"F1: {val_f1:.2f}, Time: {epoch_duration / 60:.2f} min\"\n",
        "            )\n",
        "            pbar.update(1)\n",
        "\n",
        "            wandb.log({\n",
        "                'train_loss': train_loss,\n",
        "                'val_loss': val_loss,\n",
        "                'train_acc': train_acc,\n",
        "                'val_acc': val_acc,\n",
        "                'val_f1': val_f1,\n",
        "            })\n",
        "\n",
        "    wandb.finish()"
      ],
      "metadata": {
        "id": "3etIbWcLoXMM",
        "colab": {
          "base_uri": "https://localhost:8080/",
          "height": 1000
        },
        "outputId": "e63ef6fe-9716-46fb-e765-89639aef54d7"
      },
      "execution_count": null,
      "outputs": [
        {
          "output_type": "stream",
          "name": "stdout",
          "text": [
            "\n",
            "🔹 Training with optimizer: RMSprop | Depth: 1\n"
          ]
        },
        {
          "output_type": "display_data",
          "data": {
            "text/plain": [
              "<IPython.core.display.HTML object>"
            ],
            "text/html": [
              "Tracking run with wandb version 0.19.10"
            ]
          },
          "metadata": {}
        },
        {
          "output_type": "display_data",
          "data": {
            "text/plain": [
              "<IPython.core.display.HTML object>"
            ],
            "text/html": [
              "Run data is saved locally in <code>/content/wandb/run-20250424_103050-d8p9e6ju</code>"
            ]
          },
          "metadata": {}
        },
        {
          "output_type": "display_data",
          "data": {
            "text/plain": [
              "<IPython.core.display.HTML object>"
            ],
            "text/html": [
              "Syncing run <strong><a href='https://wandb.ai/wilfried-mvomoeto-university-of-li-ge/Binary_Class_Depth_Tuning_gru_attention_fastText300d/runs/d8p9e6ju' target=\"_blank\">RMSprop_depth1</a></strong> to <a href='https://wandb.ai/wilfried-mvomoeto-university-of-li-ge/Binary_Class_Depth_Tuning_gru_attention_fastText300d' target=\"_blank\">Weights & Biases</a> (<a href='https://wandb.me/developer-guide' target=\"_blank\">docs</a>)<br>"
            ]
          },
          "metadata": {}
        },
        {
          "output_type": "display_data",
          "data": {
            "text/plain": [
              "<IPython.core.display.HTML object>"
            ],
            "text/html": [
              " View project at <a href='https://wandb.ai/wilfried-mvomoeto-university-of-li-ge/Binary_Class_Depth_Tuning_gru_attention_fastText300d' target=\"_blank\">https://wandb.ai/wilfried-mvomoeto-university-of-li-ge/Binary_Class_Depth_Tuning_gru_attention_fastText300d</a>"
            ]
          },
          "metadata": {}
        },
        {
          "output_type": "display_data",
          "data": {
            "text/plain": [
              "<IPython.core.display.HTML object>"
            ],
            "text/html": [
              " View run at <a href='https://wandb.ai/wilfried-mvomoeto-university-of-li-ge/Binary_Class_Depth_Tuning_gru_attention_fastText300d/runs/d8p9e6ju' target=\"_blank\">https://wandb.ai/wilfried-mvomoeto-university-of-li-ge/Binary_Class_Depth_Tuning_gru_attention_fastText300d/runs/d8p9e6ju</a>"
            ]
          },
          "metadata": {}
        },
        {
          "output_type": "stream",
          "name": "stdout",
          "text": [
            "FastText_GRU_BahdanauAttention(\n",
            "  (embedding): Embedding(40002, 300)\n",
            "  (gru): GRU(300, 350, batch_first=True, bidirectional=True)\n",
            "  (attention): BahdanauAttention(\n",
            "    (W): Linear(in_features=700, out_features=350, bias=True)\n",
            "    (v): Linear(in_features=350, out_features=1, bias=False)\n",
            "  )\n",
            "  (fc): Linear(in_features=700, out_features=1, bias=True)\n",
            "  (dropout): Dropout(p=0.8, inplace=False)\n",
            ")\n",
            "Total trainable parameters: 13616201\n"
          ]
        },
        {
          "output_type": "stream",
          "name": "stderr",
          "text": [
            "Optimizer: RMSprop | Depth: 1 | Epoch 10/10 - Train Loss: 0.0325, Val Loss: 0.1641, Train ACC: 98.43%, Val ACC: 95.47%, F1: 0.95, Time: 0.71 min: 100%|██████████| 10/10 [07:07<00:00, 42.71s/epoch]\n"
          ]
        },
        {
          "output_type": "display_data",
          "data": {
            "text/plain": [
              "<IPython.core.display.HTML object>"
            ],
            "text/html": []
          },
          "metadata": {}
        },
        {
          "output_type": "display_data",
          "data": {
            "text/plain": [
              "<IPython.core.display.HTML object>"
            ],
            "text/html": [
              "<br>    <style><br>        .wandb-row {<br>            display: flex;<br>            flex-direction: row;<br>            flex-wrap: wrap;<br>            justify-content: flex-start;<br>            width: 100%;<br>        }<br>        .wandb-col {<br>            display: flex;<br>            flex-direction: column;<br>            flex-basis: 100%;<br>            flex: 1;<br>            padding: 10px;<br>        }<br>    </style><br><div class=\"wandb-row\"><div class=\"wandb-col\"><h3>Run history:</h3><br/><table class=\"wandb\"><tr><td>train_acc</td><td>▁▅▆▆▇▇█▇▇█</td></tr><tr><td>train_loss</td><td>█▄▄▃▂▂▂▂▂▁</td></tr><tr><td>val_acc</td><td>▇▇█▇▄▁▆▅▄▃</td></tr><tr><td>val_f1</td><td>▇▇█▇▄▁▆▅▄▃</td></tr><tr><td>val_loss</td><td>▁▂▂▃▄▅▅▇▆█</td></tr></table><br/></div><div class=\"wandb-col\"><h3>Run summary:</h3><br/><table class=\"wandb\"><tr><td>train_acc</td><td>0.98431</td></tr><tr><td>train_loss</td><td>0.03255</td></tr><tr><td>val_acc</td><td>0.95471</td></tr><tr><td>val_f1</td><td>0.95471</td></tr><tr><td>val_loss</td><td>0.16414</td></tr></table><br/></div></div>"
            ]
          },
          "metadata": {}
        },
        {
          "output_type": "display_data",
          "data": {
            "text/plain": [
              "<IPython.core.display.HTML object>"
            ],
            "text/html": [
              " View run <strong style=\"color:#cdcd00\">RMSprop_depth1</strong> at: <a href='https://wandb.ai/wilfried-mvomoeto-university-of-li-ge/Binary_Class_Depth_Tuning_gru_attention_fastText300d/runs/d8p9e6ju' target=\"_blank\">https://wandb.ai/wilfried-mvomoeto-university-of-li-ge/Binary_Class_Depth_Tuning_gru_attention_fastText300d/runs/d8p9e6ju</a><br> View project at: <a href='https://wandb.ai/wilfried-mvomoeto-university-of-li-ge/Binary_Class_Depth_Tuning_gru_attention_fastText300d' target=\"_blank\">https://wandb.ai/wilfried-mvomoeto-university-of-li-ge/Binary_Class_Depth_Tuning_gru_attention_fastText300d</a><br>Synced 5 W&B file(s), 0 media file(s), 0 artifact file(s) and 0 other file(s)"
            ]
          },
          "metadata": {}
        },
        {
          "output_type": "display_data",
          "data": {
            "text/plain": [
              "<IPython.core.display.HTML object>"
            ],
            "text/html": [
              "Find logs at: <code>./wandb/run-20250424_103050-d8p9e6ju/logs</code>"
            ]
          },
          "metadata": {}
        },
        {
          "output_type": "stream",
          "name": "stdout",
          "text": [
            "\n",
            "🔹 Training with optimizer: RMSprop | Depth: 2\n"
          ]
        },
        {
          "output_type": "display_data",
          "data": {
            "text/plain": [
              "<IPython.core.display.HTML object>"
            ],
            "text/html": [
              "Tracking run with wandb version 0.19.10"
            ]
          },
          "metadata": {}
        },
        {
          "output_type": "display_data",
          "data": {
            "text/plain": [
              "<IPython.core.display.HTML object>"
            ],
            "text/html": [
              "Run data is saved locally in <code>/content/wandb/run-20250424_103759-gmpsq1e1</code>"
            ]
          },
          "metadata": {}
        },
        {
          "output_type": "display_data",
          "data": {
            "text/plain": [
              "<IPython.core.display.HTML object>"
            ],
            "text/html": [
              "Syncing run <strong><a href='https://wandb.ai/wilfried-mvomoeto-university-of-li-ge/Binary_Class_Depth_Tuning_gru_attention_fastText300d/runs/gmpsq1e1' target=\"_blank\">RMSprop_depth2</a></strong> to <a href='https://wandb.ai/wilfried-mvomoeto-university-of-li-ge/Binary_Class_Depth_Tuning_gru_attention_fastText300d' target=\"_blank\">Weights & Biases</a> (<a href='https://wandb.me/developer-guide' target=\"_blank\">docs</a>)<br>"
            ]
          },
          "metadata": {}
        },
        {
          "output_type": "display_data",
          "data": {
            "text/plain": [
              "<IPython.core.display.HTML object>"
            ],
            "text/html": [
              " View project at <a href='https://wandb.ai/wilfried-mvomoeto-university-of-li-ge/Binary_Class_Depth_Tuning_gru_attention_fastText300d' target=\"_blank\">https://wandb.ai/wilfried-mvomoeto-university-of-li-ge/Binary_Class_Depth_Tuning_gru_attention_fastText300d</a>"
            ]
          },
          "metadata": {}
        },
        {
          "output_type": "display_data",
          "data": {
            "text/plain": [
              "<IPython.core.display.HTML object>"
            ],
            "text/html": [
              " View run at <a href='https://wandb.ai/wilfried-mvomoeto-university-of-li-ge/Binary_Class_Depth_Tuning_gru_attention_fastText300d/runs/gmpsq1e1' target=\"_blank\">https://wandb.ai/wilfried-mvomoeto-university-of-li-ge/Binary_Class_Depth_Tuning_gru_attention_fastText300d/runs/gmpsq1e1</a>"
            ]
          },
          "metadata": {}
        },
        {
          "output_type": "stream",
          "name": "stdout",
          "text": [
            "FastText_GRU_BahdanauAttention(\n",
            "  (embedding): Embedding(40002, 300)\n",
            "  (gru): GRU(300, 350, batch_first=True, bidirectional=True)\n",
            "  (attention): BahdanauAttention(\n",
            "    (W): Linear(in_features=700, out_features=350, bias=True)\n",
            "    (v): Linear(in_features=350, out_features=1, bias=False)\n",
            "  )\n",
            "  (fc): Linear(in_features=700, out_features=1, bias=True)\n",
            "  (dropout): Dropout(p=0.8, inplace=False)\n",
            ")\n",
            "Total trainable parameters: 13616201\n"
          ]
        },
        {
          "output_type": "stream",
          "name": "stderr",
          "text": [
            "Optimizer: RMSprop | Depth: 2 | Epoch 10/10 - Train Loss: 0.0297, Val Loss: 0.1479, Train ACC: 98.43%, Val ACC: 94.93%, F1: 0.95, Time: 0.71 min: 100%|██████████| 10/10 [07:07<00:00, 42.71s/epoch]\n"
          ]
        },
        {
          "output_type": "display_data",
          "data": {
            "text/plain": [
              "<IPython.core.display.HTML object>"
            ],
            "text/html": []
          },
          "metadata": {}
        },
        {
          "output_type": "display_data",
          "data": {
            "text/plain": [
              "<IPython.core.display.HTML object>"
            ],
            "text/html": [
              "<br>    <style><br>        .wandb-row {<br>            display: flex;<br>            flex-direction: row;<br>            flex-wrap: wrap;<br>            justify-content: flex-start;<br>            width: 100%;<br>        }<br>        .wandb-col {<br>            display: flex;<br>            flex-direction: column;<br>            flex-basis: 100%;<br>            flex: 1;<br>            padding: 10px;<br>        }<br>    </style><br><div class=\"wandb-row\"><div class=\"wandb-col\"><h3>Run history:</h3><br/><table class=\"wandb\"><tr><td>train_acc</td><td>▁▅▆▇▇▇████</td></tr><tr><td>train_loss</td><td>█▄▃▃▂▂▁▁▁▁</td></tr><tr><td>val_acc</td><td>▅▆█▆▄▆▇▅▃▁</td></tr><tr><td>val_f1</td><td>▅▆█▆▄▆▇▅▃▁</td></tr><tr><td>val_loss</td><td>▂▂▁▁▂▃▅█▆▅</td></tr></table><br/></div><div class=\"wandb-col\"><h3>Run summary:</h3><br/><table class=\"wandb\"><tr><td>train_acc</td><td>0.98426</td></tr><tr><td>train_loss</td><td>0.02973</td></tr><tr><td>val_acc</td><td>0.94931</td></tr><tr><td>val_f1</td><td>0.94956</td></tr><tr><td>val_loss</td><td>0.14788</td></tr></table><br/></div></div>"
            ]
          },
          "metadata": {}
        },
        {
          "output_type": "display_data",
          "data": {
            "text/plain": [
              "<IPython.core.display.HTML object>"
            ],
            "text/html": [
              " View run <strong style=\"color:#cdcd00\">RMSprop_depth2</strong> at: <a href='https://wandb.ai/wilfried-mvomoeto-university-of-li-ge/Binary_Class_Depth_Tuning_gru_attention_fastText300d/runs/gmpsq1e1' target=\"_blank\">https://wandb.ai/wilfried-mvomoeto-university-of-li-ge/Binary_Class_Depth_Tuning_gru_attention_fastText300d/runs/gmpsq1e1</a><br> View project at: <a href='https://wandb.ai/wilfried-mvomoeto-university-of-li-ge/Binary_Class_Depth_Tuning_gru_attention_fastText300d' target=\"_blank\">https://wandb.ai/wilfried-mvomoeto-university-of-li-ge/Binary_Class_Depth_Tuning_gru_attention_fastText300d</a><br>Synced 5 W&B file(s), 0 media file(s), 0 artifact file(s) and 0 other file(s)"
            ]
          },
          "metadata": {}
        },
        {
          "output_type": "display_data",
          "data": {
            "text/plain": [
              "<IPython.core.display.HTML object>"
            ],
            "text/html": [
              "Find logs at: <code>./wandb/run-20250424_103759-gmpsq1e1/logs</code>"
            ]
          },
          "metadata": {}
        },
        {
          "output_type": "stream",
          "name": "stdout",
          "text": [
            "\n",
            "🔹 Training with optimizer: RMSprop | Depth: 3\n"
          ]
        },
        {
          "output_type": "display_data",
          "data": {
            "text/plain": [
              "<IPython.core.display.HTML object>"
            ],
            "text/html": [
              "Tracking run with wandb version 0.19.10"
            ]
          },
          "metadata": {}
        },
        {
          "output_type": "display_data",
          "data": {
            "text/plain": [
              "<IPython.core.display.HTML object>"
            ],
            "text/html": [
              "Run data is saved locally in <code>/content/wandb/run-20250424_104509-js7b0w85</code>"
            ]
          },
          "metadata": {}
        },
        {
          "output_type": "display_data",
          "data": {
            "text/plain": [
              "<IPython.core.display.HTML object>"
            ],
            "text/html": [
              "Syncing run <strong><a href='https://wandb.ai/wilfried-mvomoeto-university-of-li-ge/Binary_Class_Depth_Tuning_gru_attention_fastText300d/runs/js7b0w85' target=\"_blank\">RMSprop_depth3</a></strong> to <a href='https://wandb.ai/wilfried-mvomoeto-university-of-li-ge/Binary_Class_Depth_Tuning_gru_attention_fastText300d' target=\"_blank\">Weights & Biases</a> (<a href='https://wandb.me/developer-guide' target=\"_blank\">docs</a>)<br>"
            ]
          },
          "metadata": {}
        },
        {
          "output_type": "display_data",
          "data": {
            "text/plain": [
              "<IPython.core.display.HTML object>"
            ],
            "text/html": [
              " View project at <a href='https://wandb.ai/wilfried-mvomoeto-university-of-li-ge/Binary_Class_Depth_Tuning_gru_attention_fastText300d' target=\"_blank\">https://wandb.ai/wilfried-mvomoeto-university-of-li-ge/Binary_Class_Depth_Tuning_gru_attention_fastText300d</a>"
            ]
          },
          "metadata": {}
        },
        {
          "output_type": "display_data",
          "data": {
            "text/plain": [
              "<IPython.core.display.HTML object>"
            ],
            "text/html": [
              " View run at <a href='https://wandb.ai/wilfried-mvomoeto-university-of-li-ge/Binary_Class_Depth_Tuning_gru_attention_fastText300d/runs/js7b0w85' target=\"_blank\">https://wandb.ai/wilfried-mvomoeto-university-of-li-ge/Binary_Class_Depth_Tuning_gru_attention_fastText300d/runs/js7b0w85</a>"
            ]
          },
          "metadata": {}
        },
        {
          "output_type": "stream",
          "name": "stdout",
          "text": [
            "FastText_GRU_BahdanauAttention(\n",
            "  (embedding): Embedding(40002, 300)\n",
            "  (gru): GRU(300, 350, batch_first=True, bidirectional=True)\n",
            "  (attention): BahdanauAttention(\n",
            "    (W): Linear(in_features=700, out_features=350, bias=True)\n",
            "    (v): Linear(in_features=350, out_features=1, bias=False)\n",
            "  )\n",
            "  (fc): Linear(in_features=700, out_features=1, bias=True)\n",
            "  (dropout): Dropout(p=0.8, inplace=False)\n",
            ")\n",
            "Total trainable parameters: 13616201\n"
          ]
        },
        {
          "output_type": "stream",
          "name": "stderr",
          "text": [
            "Optimizer: RMSprop | Depth: 3 | Epoch 10/10 - Train Loss: 0.0308, Val Loss: 0.1976, Train ACC: 98.48%, Val ACC: 95.31%, F1: 0.95, Time: 0.71 min: 100%|██████████| 10/10 [07:06<00:00, 42.68s/epoch]\n"
          ]
        },
        {
          "output_type": "display_data",
          "data": {
            "text/plain": [
              "<IPython.core.display.HTML object>"
            ],
            "text/html": []
          },
          "metadata": {}
        },
        {
          "output_type": "display_data",
          "data": {
            "text/plain": [
              "<IPython.core.display.HTML object>"
            ],
            "text/html": [
              "<br>    <style><br>        .wandb-row {<br>            display: flex;<br>            flex-direction: row;<br>            flex-wrap: wrap;<br>            justify-content: flex-start;<br>            width: 100%;<br>        }<br>        .wandb-col {<br>            display: flex;<br>            flex-direction: column;<br>            flex-basis: 100%;<br>            flex: 1;<br>            padding: 10px;<br>        }<br>    </style><br><div class=\"wandb-row\"><div class=\"wandb-col\"><h3>Run history:</h3><br/><table class=\"wandb\"><tr><td>train_acc</td><td>▁▅▆▇▇▇████</td></tr><tr><td>train_loss</td><td>█▅▃▃▂▂▁▁▁▁</td></tr><tr><td>val_acc</td><td>▇█▆▅▅▅▁▂▂▂</td></tr><tr><td>val_f1</td><td>▇█▆▅▅▅▁▂▂▂</td></tr><tr><td>val_loss</td><td>▁▁▂▅▄▄▆▆▆█</td></tr></table><br/></div><div class=\"wandb-col\"><h3>Run summary:</h3><br/><table class=\"wandb\"><tr><td>train_acc</td><td>0.98481</td></tr><tr><td>train_loss</td><td>0.03084</td></tr><tr><td>val_acc</td><td>0.95306</td></tr><tr><td>val_f1</td><td>0.95305</td></tr><tr><td>val_loss</td><td>0.19764</td></tr></table><br/></div></div>"
            ]
          },
          "metadata": {}
        },
        {
          "output_type": "display_data",
          "data": {
            "text/plain": [
              "<IPython.core.display.HTML object>"
            ],
            "text/html": [
              " View run <strong style=\"color:#cdcd00\">RMSprop_depth3</strong> at: <a href='https://wandb.ai/wilfried-mvomoeto-university-of-li-ge/Binary_Class_Depth_Tuning_gru_attention_fastText300d/runs/js7b0w85' target=\"_blank\">https://wandb.ai/wilfried-mvomoeto-university-of-li-ge/Binary_Class_Depth_Tuning_gru_attention_fastText300d/runs/js7b0w85</a><br> View project at: <a href='https://wandb.ai/wilfried-mvomoeto-university-of-li-ge/Binary_Class_Depth_Tuning_gru_attention_fastText300d' target=\"_blank\">https://wandb.ai/wilfried-mvomoeto-university-of-li-ge/Binary_Class_Depth_Tuning_gru_attention_fastText300d</a><br>Synced 5 W&B file(s), 0 media file(s), 0 artifact file(s) and 0 other file(s)"
            ]
          },
          "metadata": {}
        },
        {
          "output_type": "display_data",
          "data": {
            "text/plain": [
              "<IPython.core.display.HTML object>"
            ],
            "text/html": [
              "Find logs at: <code>./wandb/run-20250424_104509-js7b0w85/logs</code>"
            ]
          },
          "metadata": {}
        }
      ]
    },
    {
      "cell_type": "markdown",
      "source": [
        "4.1.4 Batch size value selection"
      ],
      "metadata": {
        "id": "Rs30NbEGqNuR"
      }
    },
    {
      "cell_type": "code",
      "source": [
        "num_epochs = 7\n",
        "learning_rate = 1e-3\n",
        "optimizer_class = optim.RMSprop\n",
        "batch_sizes = [8, 32, 64]\n",
        "depth = 1\n",
        "loss_function = nn.BCEWithLogitsLoss()\n",
        "\n",
        "for BATCH_SIZE in batch_sizes:\n",
        "    optimizer_name = \"RMSprop\"\n",
        "    print(f\"\\n🔹 Training with optimizer: {optimizer_name} | Batch Size: {BATCH_SIZE}\")\n",
        "\n",
        "    train_loader = DataLoader(train_dataset, batch_size=BATCH_SIZE, shuffle=True)\n",
        "    val_loader = DataLoader(val_dataset, batch_size=BATCH_SIZE, shuffle=False)\n",
        "    model = FastText_GRU_BahdanauAttention(embedding_matrix=embedding_matrix, hidden_dim=350, num_layers=1, dropout_prob=0.8).to(device)\n",
        "    optimizer = optimizer_class(model.parameters(), lr=learning_rate)\n",
        "\n",
        "    wandb.init(entity='wilfried-mvomoeto-university-of-li-ge',\n",
        "        project='Binary_Class_Batch_Tuning_gru_attention_fastText300d',\n",
        "        name=f\"{optimizer_name}_batch{BATCH_SIZE}\",\n",
        "        config={\n",
        "            'learning_rate': learning_rate,\n",
        "            'num_epochs': num_epochs,\n",
        "            'optimizer': optimizer_name,\n",
        "            'model': 'GRU_Model',\n",
        "            'hidden_dim': 300,\n",
        "            'dropout_prob': 0.9,\n",
        "            'num_layers': depth,\n",
        "            'batch_size': BATCH_SIZE\n",
        "        }\n",
        "    )\n",
        "\n",
        "    print(model)\n",
        "    num_params = count_parameters(model)\n",
        "    print(f\"Total trainable parameters: {num_params}\")\n",
        "\n",
        "    train_losses, val_losses = [], []\n",
        "    train_accs, val_accs = [], []\n",
        "    val_f1s = []\n",
        "\n",
        "    with tqdm(total=num_epochs, desc=f\"Optimizer: {optimizer_name} | Batch: {BATCH_SIZE}\", unit=\"epoch\") as pbar:\n",
        "        for epoch in range(num_epochs):\n",
        "            start_time = time.time()\n",
        "\n",
        "            train_loss, train_acc = train_epoch_glove(model, train_loader, optimizer, loss_function, device)\n",
        "            train_losses.append(train_loss)\n",
        "            train_accs.append(train_acc)\n",
        "\n",
        "            val_acc, val_f1, val_loss = validate_epoch_glove(model, val_loader, loss_function, device)\n",
        "            val_losses.append(val_loss)\n",
        "            val_accs.append(val_acc)\n",
        "            val_f1s.append(val_f1)\n",
        "\n",
        "            end_time = time.time()\n",
        "            epoch_duration = end_time - start_time\n",
        "\n",
        "            pbar.set_description(\n",
        "                f\"Optimizer: {optimizer_name} | Batch: {BATCH_SIZE} | Epoch {epoch+1}/{num_epochs} - \"\n",
        "                f\"Train Loss: {train_loss:.4f}, Val Loss: {val_loss:.4f}, \"\n",
        "                f\"Train ACC: {train_acc:.2%}, Val ACC: {val_acc:.2%}, \"\n",
        "                f\"F1: {val_f1:.2f}, Time: {epoch_duration / 60:.2f} min\"\n",
        "            )\n",
        "            pbar.update(1)\n",
        "\n",
        "            wandb.log({\n",
        "                'train_loss': train_loss,\n",
        "                'val_loss': val_loss,\n",
        "                'train_acc': train_acc,\n",
        "                'val_acc': val_acc,\n",
        "                'val_f1': val_f1,\n",
        "            })\n",
        "\n",
        "    wandb.finish()"
      ],
      "metadata": {
        "id": "qUEJ0JmhqP3h",
        "colab": {
          "base_uri": "https://localhost:8080/",
          "height": 1000
        },
        "outputId": "5b4d5b78-f3d7-4f0d-9b56-006db5cd258c"
      },
      "execution_count": null,
      "outputs": [
        {
          "output_type": "stream",
          "name": "stdout",
          "text": [
            "\n",
            "🔹 Training with optimizer: RMSprop | Batch Size: 8\n"
          ]
        },
        {
          "output_type": "display_data",
          "data": {
            "text/plain": [
              "<IPython.core.display.Javascript object>"
            ],
            "application/javascript": [
              "\n",
              "        window._wandbApiKey = new Promise((resolve, reject) => {\n",
              "            function loadScript(url) {\n",
              "            return new Promise(function(resolve, reject) {\n",
              "                let newScript = document.createElement(\"script\");\n",
              "                newScript.onerror = reject;\n",
              "                newScript.onload = resolve;\n",
              "                document.body.appendChild(newScript);\n",
              "                newScript.src = url;\n",
              "            });\n",
              "            }\n",
              "            loadScript(\"https://cdn.jsdelivr.net/npm/postmate/build/postmate.min.js\").then(() => {\n",
              "            const iframe = document.createElement('iframe')\n",
              "            iframe.style.cssText = \"width:0;height:0;border:none\"\n",
              "            document.body.appendChild(iframe)\n",
              "            const handshake = new Postmate({\n",
              "                container: iframe,\n",
              "                url: 'https://wandb.ai/authorize'\n",
              "            });\n",
              "            const timeout = setTimeout(() => reject(\"Couldn't auto authenticate\"), 5000)\n",
              "            handshake.then(function(child) {\n",
              "                child.on('authorize', data => {\n",
              "                    clearTimeout(timeout)\n",
              "                    resolve(data)\n",
              "                });\n",
              "            });\n",
              "            })\n",
              "        });\n",
              "    "
            ]
          },
          "metadata": {}
        },
        {
          "output_type": "stream",
          "name": "stderr",
          "text": [
            "\u001b[34m\u001b[1mwandb\u001b[0m: Logging into wandb.ai. (Learn how to deploy a W&B server locally: https://wandb.me/wandb-server)\n",
            "\u001b[34m\u001b[1mwandb\u001b[0m: You can find your API key in your browser here: https://wandb.ai/authorize?ref=models\n",
            "wandb: Paste an API key from your profile and hit enter:"
          ]
        },
        {
          "name": "stdout",
          "output_type": "stream",
          "text": [
            " ··········\n"
          ]
        },
        {
          "output_type": "stream",
          "name": "stderr",
          "text": [
            "\u001b[34m\u001b[1mwandb\u001b[0m: \u001b[33mWARNING\u001b[0m If you're specifying your api key in code, ensure this code is not shared publicly.\n",
            "\u001b[34m\u001b[1mwandb\u001b[0m: \u001b[33mWARNING\u001b[0m Consider setting the WANDB_API_KEY environment variable, or running `wandb login` from the command line.\n",
            "\u001b[34m\u001b[1mwandb\u001b[0m: No netrc file found, creating one.\n",
            "\u001b[34m\u001b[1mwandb\u001b[0m: Appending key for api.wandb.ai to your netrc file: /root/.netrc\n",
            "\u001b[34m\u001b[1mwandb\u001b[0m: Currently logged in as: \u001b[33mwilfried-mvomoeto\u001b[0m to \u001b[32mhttps://api.wandb.ai\u001b[0m. Use \u001b[1m`wandb login --relogin`\u001b[0m to force relogin\n"
          ]
        },
        {
          "output_type": "display_data",
          "data": {
            "text/plain": [
              "<IPython.core.display.HTML object>"
            ],
            "text/html": [
              "Tracking run with wandb version 0.19.10"
            ]
          },
          "metadata": {}
        },
        {
          "output_type": "display_data",
          "data": {
            "text/plain": [
              "<IPython.core.display.HTML object>"
            ],
            "text/html": [
              "Run data is saved locally in <code>/content/wandb/run-20250424_170131-7elr4s1m</code>"
            ]
          },
          "metadata": {}
        },
        {
          "output_type": "display_data",
          "data": {
            "text/plain": [
              "<IPython.core.display.HTML object>"
            ],
            "text/html": [
              "Syncing run <strong><a href='https://wandb.ai/wilfried-mvomoeto-university-of-li-ge/Binary_Class_Batch_Tuning_gru_attention_fastText300d/runs/7elr4s1m' target=\"_blank\">RMSprop_batch8</a></strong> to <a href='https://wandb.ai/wilfried-mvomoeto-university-of-li-ge/Binary_Class_Batch_Tuning_gru_attention_fastText300d' target=\"_blank\">Weights & Biases</a> (<a href='https://wandb.me/developer-guide' target=\"_blank\">docs</a>)<br>"
            ]
          },
          "metadata": {}
        },
        {
          "output_type": "display_data",
          "data": {
            "text/plain": [
              "<IPython.core.display.HTML object>"
            ],
            "text/html": [
              " View project at <a href='https://wandb.ai/wilfried-mvomoeto-university-of-li-ge/Binary_Class_Batch_Tuning_gru_attention_fastText300d' target=\"_blank\">https://wandb.ai/wilfried-mvomoeto-university-of-li-ge/Binary_Class_Batch_Tuning_gru_attention_fastText300d</a>"
            ]
          },
          "metadata": {}
        },
        {
          "output_type": "display_data",
          "data": {
            "text/plain": [
              "<IPython.core.display.HTML object>"
            ],
            "text/html": [
              " View run at <a href='https://wandb.ai/wilfried-mvomoeto-university-of-li-ge/Binary_Class_Batch_Tuning_gru_attention_fastText300d/runs/7elr4s1m' target=\"_blank\">https://wandb.ai/wilfried-mvomoeto-university-of-li-ge/Binary_Class_Batch_Tuning_gru_attention_fastText300d/runs/7elr4s1m</a>"
            ]
          },
          "metadata": {}
        },
        {
          "output_type": "stream",
          "name": "stdout",
          "text": [
            "FastText_GRU_BahdanauAttention(\n",
            "  (embedding): Embedding(40002, 300)\n",
            "  (gru): GRU(300, 350, batch_first=True, bidirectional=True)\n",
            "  (attention): BahdanauAttention(\n",
            "    (W): Linear(in_features=700, out_features=350, bias=True)\n",
            "    (v): Linear(in_features=350, out_features=1, bias=False)\n",
            "  )\n",
            "  (fc): Linear(in_features=700, out_features=1, bias=True)\n",
            "  (dropout): Dropout(p=0.8, inplace=False)\n",
            ")\n",
            "Total trainable parameters: 13616201\n"
          ]
        },
        {
          "output_type": "stream",
          "name": "stderr",
          "text": [
            "Optimizer: RMSprop | Batch: 8 | Epoch 7/7 - Train Loss: 0.0809, Val Loss: 0.5830, Train ACC: 97.66%, Val ACC: 88.19%, F1: 0.88, Time: 1.35 min: 100%|██████████| 7/7 [09:31<00:00, 81.69s/epoch]\n"
          ]
        },
        {
          "output_type": "display_data",
          "data": {
            "text/plain": [
              "<IPython.core.display.HTML object>"
            ],
            "text/html": []
          },
          "metadata": {}
        },
        {
          "output_type": "display_data",
          "data": {
            "text/plain": [
              "<IPython.core.display.HTML object>"
            ],
            "text/html": [
              "<br>    <style><br>        .wandb-row {<br>            display: flex;<br>            flex-direction: row;<br>            flex-wrap: wrap;<br>            justify-content: flex-start;<br>            width: 100%;<br>        }<br>        .wandb-col {<br>            display: flex;<br>            flex-direction: column;<br>            flex-basis: 100%;<br>            flex: 1;<br>            padding: 10px;<br>        }<br>    </style><br><div class=\"wandb-row\"><div class=\"wandb-col\"><h3>Run history:</h3><br/><table class=\"wandb\"><tr><td>train_acc</td><td>▁▃▅▆▇██</td></tr><tr><td>train_loss</td><td>█▆▄▃▂▁▁</td></tr><tr><td>val_acc</td><td>██▇▆▁▆▂</td></tr><tr><td>val_f1</td><td>██▇▆▁▆▂</td></tr><tr><td>val_loss</td><td>▁▂▃▂▄▆█</td></tr></table><br/></div><div class=\"wandb-col\"><h3>Run summary:</h3><br/><table class=\"wandb\"><tr><td>train_acc</td><td>0.97656</td></tr><tr><td>train_loss</td><td>0.0809</td></tr><tr><td>val_acc</td><td>0.88194</td></tr><tr><td>val_f1</td><td>0.88347</td></tr><tr><td>val_loss</td><td>0.58298</td></tr></table><br/></div></div>"
            ]
          },
          "metadata": {}
        },
        {
          "output_type": "display_data",
          "data": {
            "text/plain": [
              "<IPython.core.display.HTML object>"
            ],
            "text/html": [
              " View run <strong style=\"color:#cdcd00\">RMSprop_batch8</strong> at: <a href='https://wandb.ai/wilfried-mvomoeto-university-of-li-ge/Binary_Class_Batch_Tuning_gru_attention_fastText300d/runs/7elr4s1m' target=\"_blank\">https://wandb.ai/wilfried-mvomoeto-university-of-li-ge/Binary_Class_Batch_Tuning_gru_attention_fastText300d/runs/7elr4s1m</a><br> View project at: <a href='https://wandb.ai/wilfried-mvomoeto-university-of-li-ge/Binary_Class_Batch_Tuning_gru_attention_fastText300d' target=\"_blank\">https://wandb.ai/wilfried-mvomoeto-university-of-li-ge/Binary_Class_Batch_Tuning_gru_attention_fastText300d</a><br>Synced 5 W&B file(s), 0 media file(s), 0 artifact file(s) and 0 other file(s)"
            ]
          },
          "metadata": {}
        },
        {
          "output_type": "display_data",
          "data": {
            "text/plain": [
              "<IPython.core.display.HTML object>"
            ],
            "text/html": [
              "Find logs at: <code>./wandb/run-20250424_170131-7elr4s1m/logs</code>"
            ]
          },
          "metadata": {}
        },
        {
          "output_type": "stream",
          "name": "stdout",
          "text": [
            "\n",
            "🔹 Training with optimizer: RMSprop | Batch Size: 32\n"
          ]
        },
        {
          "output_type": "display_data",
          "data": {
            "text/plain": [
              "<IPython.core.display.HTML object>"
            ],
            "text/html": [
              "Tracking run with wandb version 0.19.10"
            ]
          },
          "metadata": {}
        },
        {
          "output_type": "display_data",
          "data": {
            "text/plain": [
              "<IPython.core.display.HTML object>"
            ],
            "text/html": [
              "Run data is saved locally in <code>/content/wandb/run-20250424_171111-47c7vj4c</code>"
            ]
          },
          "metadata": {}
        },
        {
          "output_type": "display_data",
          "data": {
            "text/plain": [
              "<IPython.core.display.HTML object>"
            ],
            "text/html": [
              "Syncing run <strong><a href='https://wandb.ai/wilfried-mvomoeto-university-of-li-ge/Binary_Class_Batch_Tuning_gru_attention_fastText300d/runs/47c7vj4c' target=\"_blank\">RMSprop_batch32</a></strong> to <a href='https://wandb.ai/wilfried-mvomoeto-university-of-li-ge/Binary_Class_Batch_Tuning_gru_attention_fastText300d' target=\"_blank\">Weights & Biases</a> (<a href='https://wandb.me/developer-guide' target=\"_blank\">docs</a>)<br>"
            ]
          },
          "metadata": {}
        },
        {
          "output_type": "display_data",
          "data": {
            "text/plain": [
              "<IPython.core.display.HTML object>"
            ],
            "text/html": [
              " View project at <a href='https://wandb.ai/wilfried-mvomoeto-university-of-li-ge/Binary_Class_Batch_Tuning_gru_attention_fastText300d' target=\"_blank\">https://wandb.ai/wilfried-mvomoeto-university-of-li-ge/Binary_Class_Batch_Tuning_gru_attention_fastText300d</a>"
            ]
          },
          "metadata": {}
        },
        {
          "output_type": "display_data",
          "data": {
            "text/plain": [
              "<IPython.core.display.HTML object>"
            ],
            "text/html": [
              " View run at <a href='https://wandb.ai/wilfried-mvomoeto-university-of-li-ge/Binary_Class_Batch_Tuning_gru_attention_fastText300d/runs/47c7vj4c' target=\"_blank\">https://wandb.ai/wilfried-mvomoeto-university-of-li-ge/Binary_Class_Batch_Tuning_gru_attention_fastText300d/runs/47c7vj4c</a>"
            ]
          },
          "metadata": {}
        },
        {
          "output_type": "stream",
          "name": "stdout",
          "text": [
            "FastText_GRU_BahdanauAttention(\n",
            "  (embedding): Embedding(40002, 300)\n",
            "  (gru): GRU(300, 350, batch_first=True, bidirectional=True)\n",
            "  (attention): BahdanauAttention(\n",
            "    (W): Linear(in_features=700, out_features=350, bias=True)\n",
            "    (v): Linear(in_features=350, out_features=1, bias=False)\n",
            "  )\n",
            "  (fc): Linear(in_features=700, out_features=1, bias=True)\n",
            "  (dropout): Dropout(p=0.8, inplace=False)\n",
            ")\n",
            "Total trainable parameters: 13616201\n"
          ]
        },
        {
          "output_type": "stream",
          "name": "stderr",
          "text": [
            "Optimizer: RMSprop | Batch: 32 | Epoch 7/7 - Train Loss: 0.0663, Val Loss: 0.3257, Train ACC: 97.47%, Val ACC: 90.05%, F1: 0.90, Time: 0.69 min: 100%|██████████| 7/7 [04:51<00:00, 41.64s/epoch]\n"
          ]
        },
        {
          "output_type": "display_data",
          "data": {
            "text/plain": [
              "<IPython.core.display.HTML object>"
            ],
            "text/html": []
          },
          "metadata": {}
        },
        {
          "output_type": "display_data",
          "data": {
            "text/plain": [
              "<IPython.core.display.HTML object>"
            ],
            "text/html": [
              "<br>    <style><br>        .wandb-row {<br>            display: flex;<br>            flex-direction: row;<br>            flex-wrap: wrap;<br>            justify-content: flex-start;<br>            width: 100%;<br>        }<br>        .wandb-col {<br>            display: flex;<br>            flex-direction: column;<br>            flex-basis: 100%;<br>            flex: 1;<br>            padding: 10px;<br>        }<br>    </style><br><div class=\"wandb-row\"><div class=\"wandb-col\"><h3>Run history:</h3><br/><table class=\"wandb\"><tr><td>train_acc</td><td>▁▄▇▇▇██</td></tr><tr><td>train_loss</td><td>█▆▃▂▂▁▁</td></tr><tr><td>val_acc</td><td>▁██████</td></tr><tr><td>val_f1</td><td>▁██████</td></tr><tr><td>val_loss</td><td>█▂▁▁▁▂▃</td></tr></table><br/></div><div class=\"wandb-col\"><h3>Run summary:</h3><br/><table class=\"wandb\"><tr><td>train_acc</td><td>0.97471</td></tr><tr><td>train_loss</td><td>0.06626</td></tr><tr><td>val_acc</td><td>0.90055</td></tr><tr><td>val_f1</td><td>0.90029</td></tr><tr><td>val_loss</td><td>0.3257</td></tr></table><br/></div></div>"
            ]
          },
          "metadata": {}
        },
        {
          "output_type": "display_data",
          "data": {
            "text/plain": [
              "<IPython.core.display.HTML object>"
            ],
            "text/html": [
              " View run <strong style=\"color:#cdcd00\">RMSprop_batch32</strong> at: <a href='https://wandb.ai/wilfried-mvomoeto-university-of-li-ge/Binary_Class_Batch_Tuning_gru_attention_fastText300d/runs/47c7vj4c' target=\"_blank\">https://wandb.ai/wilfried-mvomoeto-university-of-li-ge/Binary_Class_Batch_Tuning_gru_attention_fastText300d/runs/47c7vj4c</a><br> View project at: <a href='https://wandb.ai/wilfried-mvomoeto-university-of-li-ge/Binary_Class_Batch_Tuning_gru_attention_fastText300d' target=\"_blank\">https://wandb.ai/wilfried-mvomoeto-university-of-li-ge/Binary_Class_Batch_Tuning_gru_attention_fastText300d</a><br>Synced 5 W&B file(s), 0 media file(s), 0 artifact file(s) and 0 other file(s)"
            ]
          },
          "metadata": {}
        },
        {
          "output_type": "display_data",
          "data": {
            "text/plain": [
              "<IPython.core.display.HTML object>"
            ],
            "text/html": [
              "Find logs at: <code>./wandb/run-20250424_171111-47c7vj4c/logs</code>"
            ]
          },
          "metadata": {}
        },
        {
          "output_type": "stream",
          "name": "stdout",
          "text": [
            "\n",
            "🔹 Training with optimizer: RMSprop | Batch Size: 64\n"
          ]
        },
        {
          "output_type": "display_data",
          "data": {
            "text/plain": [
              "<IPython.core.display.HTML object>"
            ],
            "text/html": [
              "Tracking run with wandb version 0.19.10"
            ]
          },
          "metadata": {}
        },
        {
          "output_type": "display_data",
          "data": {
            "text/plain": [
              "<IPython.core.display.HTML object>"
            ],
            "text/html": [
              "Run data is saved locally in <code>/content/wandb/run-20250424_171611-lhg87oag</code>"
            ]
          },
          "metadata": {}
        },
        {
          "output_type": "display_data",
          "data": {
            "text/plain": [
              "<IPython.core.display.HTML object>"
            ],
            "text/html": [
              "Syncing run <strong><a href='https://wandb.ai/wilfried-mvomoeto-university-of-li-ge/Binary_Class_Batch_Tuning_gru_attention_fastText300d/runs/lhg87oag' target=\"_blank\">RMSprop_batch64</a></strong> to <a href='https://wandb.ai/wilfried-mvomoeto-university-of-li-ge/Binary_Class_Batch_Tuning_gru_attention_fastText300d' target=\"_blank\">Weights & Biases</a> (<a href='https://wandb.me/developer-guide' target=\"_blank\">docs</a>)<br>"
            ]
          },
          "metadata": {}
        },
        {
          "output_type": "display_data",
          "data": {
            "text/plain": [
              "<IPython.core.display.HTML object>"
            ],
            "text/html": [
              " View project at <a href='https://wandb.ai/wilfried-mvomoeto-university-of-li-ge/Binary_Class_Batch_Tuning_gru_attention_fastText300d' target=\"_blank\">https://wandb.ai/wilfried-mvomoeto-university-of-li-ge/Binary_Class_Batch_Tuning_gru_attention_fastText300d</a>"
            ]
          },
          "metadata": {}
        },
        {
          "output_type": "display_data",
          "data": {
            "text/plain": [
              "<IPython.core.display.HTML object>"
            ],
            "text/html": [
              " View run at <a href='https://wandb.ai/wilfried-mvomoeto-university-of-li-ge/Binary_Class_Batch_Tuning_gru_attention_fastText300d/runs/lhg87oag' target=\"_blank\">https://wandb.ai/wilfried-mvomoeto-university-of-li-ge/Binary_Class_Batch_Tuning_gru_attention_fastText300d/runs/lhg87oag</a>"
            ]
          },
          "metadata": {}
        },
        {
          "output_type": "stream",
          "name": "stdout",
          "text": [
            "FastText_GRU_BahdanauAttention(\n",
            "  (embedding): Embedding(40002, 300)\n",
            "  (gru): GRU(300, 350, batch_first=True, bidirectional=True)\n",
            "  (attention): BahdanauAttention(\n",
            "    (W): Linear(in_features=700, out_features=350, bias=True)\n",
            "    (v): Linear(in_features=350, out_features=1, bias=False)\n",
            "  )\n",
            "  (fc): Linear(in_features=700, out_features=1, bias=True)\n",
            "  (dropout): Dropout(p=0.8, inplace=False)\n",
            ")\n",
            "Total trainable parameters: 13616201\n"
          ]
        },
        {
          "output_type": "stream",
          "name": "stderr",
          "text": [
            "Optimizer: RMSprop | Batch: 64 | Epoch 7/7 - Train Loss: 0.0554, Val Loss: 0.3713, Train ACC: 97.86%, Val ACC: 90.18%, F1: 0.90, Time: 0.64 min: 100%|██████████| 7/7 [04:27<00:00, 38.19s/epoch]\n"
          ]
        },
        {
          "output_type": "display_data",
          "data": {
            "text/plain": [
              "<IPython.core.display.HTML object>"
            ],
            "text/html": []
          },
          "metadata": {}
        },
        {
          "output_type": "display_data",
          "data": {
            "text/plain": [
              "<IPython.core.display.HTML object>"
            ],
            "text/html": [
              "<br>    <style><br>        .wandb-row {<br>            display: flex;<br>            flex-direction: row;<br>            flex-wrap: wrap;<br>            justify-content: flex-start;<br>            width: 100%;<br>        }<br>        .wandb-col {<br>            display: flex;<br>            flex-direction: column;<br>            flex-basis: 100%;<br>            flex: 1;<br>            padding: 10px;<br>        }<br>    </style><br><div class=\"wandb-row\"><div class=\"wandb-col\"><h3>Run history:</h3><br/><table class=\"wandb\"><tr><td>train_acc</td><td>▁▆▆▇███</td></tr><tr><td>train_loss</td><td>█▄▃▂▂▁▁</td></tr><tr><td>val_acc</td><td>██▇▆▄▁▅</td></tr><tr><td>val_f1</td><td>██▇▆▄▁▅</td></tr><tr><td>val_loss</td><td>▁▁▁▃▆█▇</td></tr></table><br/></div><div class=\"wandb-col\"><h3>Run summary:</h3><br/><table class=\"wandb\"><tr><td>train_acc</td><td>0.97864</td></tr><tr><td>train_loss</td><td>0.05537</td></tr><tr><td>val_acc</td><td>0.90179</td></tr><tr><td>val_f1</td><td>0.90221</td></tr><tr><td>val_loss</td><td>0.37128</td></tr></table><br/></div></div>"
            ]
          },
          "metadata": {}
        },
        {
          "output_type": "display_data",
          "data": {
            "text/plain": [
              "<IPython.core.display.HTML object>"
            ],
            "text/html": [
              " View run <strong style=\"color:#cdcd00\">RMSprop_batch64</strong> at: <a href='https://wandb.ai/wilfried-mvomoeto-university-of-li-ge/Binary_Class_Batch_Tuning_gru_attention_fastText300d/runs/lhg87oag' target=\"_blank\">https://wandb.ai/wilfried-mvomoeto-university-of-li-ge/Binary_Class_Batch_Tuning_gru_attention_fastText300d/runs/lhg87oag</a><br> View project at: <a href='https://wandb.ai/wilfried-mvomoeto-university-of-li-ge/Binary_Class_Batch_Tuning_gru_attention_fastText300d' target=\"_blank\">https://wandb.ai/wilfried-mvomoeto-university-of-li-ge/Binary_Class_Batch_Tuning_gru_attention_fastText300d</a><br>Synced 5 W&B file(s), 0 media file(s), 0 artifact file(s) and 0 other file(s)"
            ]
          },
          "metadata": {}
        },
        {
          "output_type": "display_data",
          "data": {
            "text/plain": [
              "<IPython.core.display.HTML object>"
            ],
            "text/html": [
              "Find logs at: <code>./wandb/run-20250424_171611-lhg87oag/logs</code>"
            ]
          },
          "metadata": {}
        }
      ]
    },
    {
      "cell_type": "markdown",
      "metadata": {
        "id": "eVfMubKys_bD"
      },
      "source": [
        "---\n",
        "# 4. **Test phase**\n",
        "\n",
        "---"
      ]
    },
    {
      "cell_type": "code",
      "execution_count": 70,
      "metadata": {
        "id": "7t2yM27BWoaP"
      },
      "outputs": [],
      "source": [
        "from sklearn.metrics import classification_report, confusion_matrix\n",
        "\n",
        "def reinitialize_weights(model):\n",
        "    \"\"\"Reinitializes the model's weights by calling reset_parameters() for each layer that supports it.\"\"\"\n",
        "    for layer in model.children():\n",
        "        if hasattr(layer, 'reset_parameters'):\n",
        "            layer.reset_parameters()\n",
        "\n",
        "def plot_confusion_matrix(ax, y_true, y_pred, num_classes=2):\n",
        "    \"\"\"Plots a confusion matrix as a heatmap.\n",
        "    Args:\n",
        "        ax (matplotlib.axes.Axes): The axes on which to plot the confusion matrix.\n",
        "        y_true (list or array): The true class labels for the test set.\n",
        "        y_pred (list or array): The predicted class labels for the test set.\n",
        "        num_classes (int): The number of unique classes in the dataset.\n",
        "    \"\"\"\n",
        "    cm = confusion_matrix(y_true, y_pred, labels=range(num_classes))\n",
        "    sns.heatmap(cm, annot=True, fmt='g', cmap='Blues', xticklabels=range(num_classes), yticklabels=range(num_classes), ax=ax)\n",
        "    ax.set_xlabel('Predicted')\n",
        "    ax.set_ylabel('True')\n",
        "    ax.set_title('Confusion Matrix')\n",
        "\n",
        "def evaluate_and_analyze_glove(model, test_loader, device, num_classes=2):\n",
        "    model.eval()\n",
        "\n",
        "    all_labels = []\n",
        "    all_preds = []\n",
        "    all_probs = []\n",
        "    all_indices = []\n",
        "\n",
        "    top_correct = []\n",
        "    top_wrong = []\n",
        "\n",
        "    with torch.no_grad():\n",
        "        for idx, (inputs, labels, raw_text) in enumerate(test_loader):\n",
        "            inputs, labels = inputs.to(device), labels.to(device)\n",
        "\n",
        "            outputs = model(inputs)\n",
        "\n",
        "            if outputs.shape[1] == 1:\n",
        "                probs = torch.sigmoid(outputs).squeeze(1)\n",
        "                preds = (probs >= 0.5).long()\n",
        "            else:\n",
        "                probs = torch.softmax(outputs, dim=1)[:, 1]\n",
        "                preds = torch.argmax(outputs, dim=1)\n",
        "\n",
        "            all_labels.extend(labels.cpu().numpy())\n",
        "            all_preds.extend(preds.cpu().numpy())\n",
        "            all_probs.extend(probs.cpu().numpy())\n",
        "            all_indices.extend(range(len(labels)))\n",
        "\n",
        "            correct_indices = (preds == labels).nonzero(as_tuple=True)[0]\n",
        "            wrong_indices = (preds != labels).nonzero(as_tuple=True)[0]\n",
        "\n",
        "            for correct_idx in correct_indices:\n",
        "                top_correct.append({\n",
        "                    'index': correct_idx.item(),\n",
        "                    'true_label': labels[correct_idx].item(),\n",
        "                    'predicted_label': preds[correct_idx].item(),\n",
        "                    'probability': probs[correct_idx].cpu().item(),\n",
        "                    'text': raw_text[correct_idx.item()] if raw_text is not None else None\n",
        "                })\n",
        "\n",
        "            for wrong_idx in wrong_indices:\n",
        "                top_wrong.append({\n",
        "                    'index': wrong_idx.item(),\n",
        "                    'true_label': labels[wrong_idx].item(),\n",
        "                    'predicted_label': preds[wrong_idx].item(),\n",
        "                    'probability': probs[wrong_idx].cpu().item(),\n",
        "                    'text': raw_text[wrong_idx.item()] if raw_text is not None else None\n",
        "                })\n",
        "\n",
        "    df_correct = pd.DataFrame(top_correct)\n",
        "    df_wrong = pd.DataFrame(top_wrong)\n",
        "\n",
        "    class_report = classification_report(all_labels, all_preds, output_dict=True)\n",
        "    df_results = pd.DataFrame(class_report).transpose()\n",
        "\n",
        "    return df_results, df_correct, df_wrong, all_labels, all_preds\n",
        "\n",
        "def evaluate_and_analyze_pubMedBert(model, test_loader, device):\n",
        "    model.eval()\n",
        "    all_labels = []\n",
        "    all_preds = []\n",
        "    all_probs = []\n",
        "    all_texts = []\n",
        "\n",
        "    top_correct = []\n",
        "    top_wrong = []\n",
        "\n",
        "    with torch.no_grad():\n",
        "        for batch in test_loader:\n",
        "            input_ids = batch['input_ids'].to(device)\n",
        "            attention_mask = batch['attention_mask'].to(device)\n",
        "            labels = batch['labels'].to(device)\n",
        "            texts = batch['text']\n",
        "\n",
        "            outputs = model(input_ids, attention_mask)\n",
        "\n",
        "            if outputs.shape[1] == 1:  # Binary classification\n",
        "                probs = torch.sigmoid(outputs).squeeze(1)\n",
        "                preds = (probs >= 0.5).long()\n",
        "            else:\n",
        "                probs = torch.softmax(outputs, dim=1)\n",
        "                preds = torch.argmax(probs, dim=1)\n",
        "                probs = probs[:, 1]  # Prob of class 1\n",
        "\n",
        "            all_labels.extend(labels.cpu().numpy())\n",
        "            all_preds.extend(preds.cpu().numpy())\n",
        "            all_probs.extend(probs.cpu().numpy())\n",
        "            all_texts.extend(texts)\n",
        "\n",
        "            correct_indices = (preds == labels).nonzero(as_tuple=True)[0]\n",
        "            wrong_indices = (preds != labels).nonzero(as_tuple=True)[0]\n",
        "\n",
        "            for idx in correct_indices:\n",
        "                top_correct.append({\n",
        "                    \"index\": idx.item(),\n",
        "                    \"true_label\": labels[idx].item(),\n",
        "                    \"predicted_label\": preds[idx].item(),\n",
        "                    \"probability\": probs[idx].item(),\n",
        "                    \"text\": texts[idx]\n",
        "                })\n",
        "\n",
        "            for idx in wrong_indices:\n",
        "                top_wrong.append({\n",
        "                    \"index\": idx.item(),\n",
        "                    \"true_label\": labels[idx].item(),\n",
        "                    \"predicted_label\": preds[idx].item(),\n",
        "                    \"probability\": probs[idx].item(),\n",
        "                    \"text\": texts[idx]\n",
        "                })\n",
        "\n",
        "    df_correct = pd.DataFrame(top_correct)\n",
        "    df_wrong = pd.DataFrame(top_wrong)\n",
        "    df_results = pd.DataFrame(classification_report(all_labels, all_preds, output_dict=True)).transpose()\n",
        "\n",
        "    return df_results, df_wrong, df_correct, all_labels, all_preds\n",
        "\n",
        "def plot_wrong_distributions(wrong_samples, num_classes=2):\n",
        "    \"\"\"Plots the distribution of wrong predictions for each class.\"\"\"\n",
        "    class_counts_wrong = defaultdict(int)\n",
        "\n",
        "    for sample in wrong_samples:\n",
        "        true_label = sample['true_label']\n",
        "        class_counts_wrong[true_label] += 1\n",
        "\n",
        "    class_labels = sorted(class_counts_wrong.keys())\n",
        "    counts = [class_counts_wrong[label] for label in class_labels]\n",
        "    colors = sns.color_palette(\"husl\", len(class_labels))\n",
        "\n",
        "    class_names = [f\"Class {label}\" for label in class_labels]\n",
        "\n",
        "    sns.set(style=\"whitegrid\")\n",
        "    plt.figure(figsize=(10, 8))\n",
        "    plt.barh(class_names, counts, color=colors)\n",
        "    plt.xlabel('Number of Wrong Predictions')\n",
        "    plt.ylabel('Classes')\n",
        "    plt.title('Distribution of Wrong Predictions for Each Class')\n",
        "\n",
        "    for i, (count, name) in enumerate(zip(counts, class_names)):\n",
        "        plt.text(count, i, str(count), ha='left', va='center')\n",
        "\n",
        "    plt.show()"
      ]
    },
    {
      "cell_type": "code",
      "execution_count": 31,
      "metadata": {
        "id": "WjtOKsvs8ntc"
      },
      "outputs": [],
      "source": [
        "embedding_matrix_glove = load_glove_embeddings('/content/drive/MyDrive/glove/glove.6B.300d.txt', word_to_index, EMBEDDING_DIM)\n",
        "embedding_matrix_fastText = load_fasttext_embeddings('/content/drive/MyDrive/cc.en.300.vec/cc.en.300.vec', word_to_index, EMBEDDING_DIM)\n",
        "\n",
        "models = {\n",
        "    \"GloVe_GRU_BahdanauAttention\": GloVe_GRU_BahdanauAttention(embedding_matrix=embedding_matrix_glove, hidden_dim=300, num_layers=1, dropout_prob=0.9).to(device),\n",
        "    \"FastText_GRU_BahdanauAttention\": FastText_GRU_BahdanauAttention(embedding_matrix=embedding_matrix_fastText, hidden_dim=350, num_layers=1, dropout_prob=0.8).to(device),\n",
        "    \"PubMedBERT_GRU_Attention\": PubMedBERT_GRU_Attention(BERT_DIM, HIDDEN_DIM, num_layers=1, dropout_prob=DROPOUT).to(device),\n",
        "    \"BioBERT_GRU_Attention\": BioBERT_GRU_Attention(biobert, BERT_DIM, HIDDEN_DIM, dropout_prob=DROPOUT).to(device)\n",
        "}\n",
        "\n",
        "optimizers = {\n",
        "    \"GloVe_GRU_BahdanauAttention\": optim.RMSprop(models[\"GloVe_GRU_BahdanauAttention\"].parameters(), lr=1e-4, weight_decay=1e-10),\n",
        "    \"FastText_GRU_BahdanauAttention\": optim.RMSprop(models[\"FastText_GRU_BahdanauAttention\"].parameters(), lr=1e-3, weight_decay=1e-10),\n",
        "    \"PubMedBERT_GRU_Attention\": optim.AdamW(models[\"PubMedBERT_GRU_Attention\"].parameters(), lr=1e-4, weight_decay=1e-10),\n",
        "    \"BioBERT_GRU_Attention\": optim.RMSprop(models[\"BioBERT_GRU_Attention\"].parameters(), lr=1e-4, weight_decay=1e-10)\n",
        "}"
      ]
    },
    {
      "cell_type": "code",
      "execution_count": 32,
      "metadata": {
        "colab": {
          "base_uri": "https://localhost:8080/",
          "height": 1000
        },
        "id": "ZG9wrSoCFEDn",
        "outputId": "cada58fb-9778-4e78-9f9d-076706f2e10f"
      },
      "outputs": [
        {
          "output_type": "stream",
          "name": "stdout",
          "text": [
            "\n",
            "Training GloVe_GRU_BahdanauAttention model...\n",
            "\n",
            "GloVe_GRU_BahdanauAttention(\n",
            "  (embedding): Embedding(40002, 300)\n",
            "  (gru): GRU(300, 300, batch_first=True, bidirectional=True)\n",
            "  (attention): BahdanauAttention(\n",
            "    (W): Linear(in_features=600, out_features=300, bias=True)\n",
            "    (v): Linear(in_features=300, out_features=1, bias=False)\n",
            "  )\n",
            "  (fc): Linear(in_features=600, out_features=1, bias=True)\n",
            "  (dropout): Dropout(p=0.9, inplace=False)\n",
            ")\n",
            "Total trainable parameters: 13265401\n"
          ]
        },
        {
          "output_type": "stream",
          "name": "stderr",
          "text": [
            "<ipython-input-21-811d6649565c>:44: UserWarning: To copy construct from a tensor, it is recommended to use sourceTensor.clone().detach() or sourceTensor.clone().detach().requires_grad_(True), rather than torch.tensor(sourceTensor).\n",
            "  self.X = torch.tensor(X_data, dtype=torch.long)\n"
          ]
        },
        {
          "output_type": "display_data",
          "data": {
            "text/plain": [
              "<IPython.core.display.Javascript object>"
            ],
            "application/javascript": [
              "\n",
              "        window._wandbApiKey = new Promise((resolve, reject) => {\n",
              "            function loadScript(url) {\n",
              "            return new Promise(function(resolve, reject) {\n",
              "                let newScript = document.createElement(\"script\");\n",
              "                newScript.onerror = reject;\n",
              "                newScript.onload = resolve;\n",
              "                document.body.appendChild(newScript);\n",
              "                newScript.src = url;\n",
              "            });\n",
              "            }\n",
              "            loadScript(\"https://cdn.jsdelivr.net/npm/postmate/build/postmate.min.js\").then(() => {\n",
              "            const iframe = document.createElement('iframe')\n",
              "            iframe.style.cssText = \"width:0;height:0;border:none\"\n",
              "            document.body.appendChild(iframe)\n",
              "            const handshake = new Postmate({\n",
              "                container: iframe,\n",
              "                url: 'https://wandb.ai/authorize'\n",
              "            });\n",
              "            const timeout = setTimeout(() => reject(\"Couldn't auto authenticate\"), 5000)\n",
              "            handshake.then(function(child) {\n",
              "                child.on('authorize', data => {\n",
              "                    clearTimeout(timeout)\n",
              "                    resolve(data)\n",
              "                });\n",
              "            });\n",
              "            })\n",
              "        });\n",
              "    "
            ]
          },
          "metadata": {}
        },
        {
          "output_type": "stream",
          "name": "stderr",
          "text": [
            "\u001b[34m\u001b[1mwandb\u001b[0m: Logging into wandb.ai. (Learn how to deploy a W&B server locally: https://wandb.me/wandb-server)\n",
            "\u001b[34m\u001b[1mwandb\u001b[0m: You can find your API key in your browser here: https://wandb.ai/authorize?ref=models\n",
            "wandb: Paste an API key from your profile and hit enter:"
          ]
        },
        {
          "name": "stdout",
          "output_type": "stream",
          "text": [
            " ··········\n"
          ]
        },
        {
          "output_type": "stream",
          "name": "stderr",
          "text": [
            "\u001b[34m\u001b[1mwandb\u001b[0m: \u001b[33mWARNING\u001b[0m If you're specifying your api key in code, ensure this code is not shared publicly.\n",
            "\u001b[34m\u001b[1mwandb\u001b[0m: \u001b[33mWARNING\u001b[0m Consider setting the WANDB_API_KEY environment variable, or running `wandb login` from the command line.\n",
            "\u001b[34m\u001b[1mwandb\u001b[0m: No netrc file found, creating one.\n",
            "\u001b[34m\u001b[1mwandb\u001b[0m: Appending key for api.wandb.ai to your netrc file: /root/.netrc\n",
            "\u001b[34m\u001b[1mwandb\u001b[0m: Currently logged in as: \u001b[33mwilfried-mvomoeto\u001b[0m to \u001b[32mhttps://api.wandb.ai\u001b[0m. Use \u001b[1m`wandb login --relogin`\u001b[0m to force relogin\n"
          ]
        },
        {
          "output_type": "display_data",
          "data": {
            "text/plain": [
              "<IPython.core.display.HTML object>"
            ],
            "text/html": [
              "Tracking run with wandb version 0.19.10"
            ]
          },
          "metadata": {}
        },
        {
          "output_type": "display_data",
          "data": {
            "text/plain": [
              "<IPython.core.display.HTML object>"
            ],
            "text/html": [
              "Run data is saved locally in <code>/content/wandb/run-20250425_060352-eumb5fdq</code>"
            ]
          },
          "metadata": {}
        },
        {
          "output_type": "display_data",
          "data": {
            "text/plain": [
              "<IPython.core.display.HTML object>"
            ],
            "text/html": [
              "Syncing run <strong><a href='https://wandb.ai/wilfried-mvomoeto-university-of-li-ge/Binary-Class-Models-Train-Test-Bio-PubMedBERT-Glove-FastText300d-Attention/runs/eumb5fdq' target=\"_blank\">GloVe_GRU_BahdanauAttention_Training</a></strong> to <a href='https://wandb.ai/wilfried-mvomoeto-university-of-li-ge/Binary-Class-Models-Train-Test-Bio-PubMedBERT-Glove-FastText300d-Attention' target=\"_blank\">Weights & Biases</a> (<a href='https://wandb.me/developer-guide' target=\"_blank\">docs</a>)<br>"
            ]
          },
          "metadata": {}
        },
        {
          "output_type": "display_data",
          "data": {
            "text/plain": [
              "<IPython.core.display.HTML object>"
            ],
            "text/html": [
              " View project at <a href='https://wandb.ai/wilfried-mvomoeto-university-of-li-ge/Binary-Class-Models-Train-Test-Bio-PubMedBERT-Glove-FastText300d-Attention' target=\"_blank\">https://wandb.ai/wilfried-mvomoeto-university-of-li-ge/Binary-Class-Models-Train-Test-Bio-PubMedBERT-Glove-FastText300d-Attention</a>"
            ]
          },
          "metadata": {}
        },
        {
          "output_type": "display_data",
          "data": {
            "text/plain": [
              "<IPython.core.display.HTML object>"
            ],
            "text/html": [
              " View run at <a href='https://wandb.ai/wilfried-mvomoeto-university-of-li-ge/Binary-Class-Models-Train-Test-Bio-PubMedBERT-Glove-FastText300d-Attention/runs/eumb5fdq' target=\"_blank\">https://wandb.ai/wilfried-mvomoeto-university-of-li-ge/Binary-Class-Models-Train-Test-Bio-PubMedBERT-Glove-FastText300d-Attention/runs/eumb5fdq</a>"
            ]
          },
          "metadata": {}
        },
        {
          "output_type": "stream",
          "name": "stderr",
          "text": [
            "Training GloVe_GRU_BahdanauAttention:  57%|█████▋    | 4/7 [05:14<03:55, 78.54s/epoch]"
          ]
        },
        {
          "output_type": "stream",
          "name": "stdout",
          "text": [
            "\n",
            "Training FastText_GRU_BahdanauAttention model...\n",
            "\n",
            "FastText_GRU_BahdanauAttention(\n",
            "  (embedding): Embedding(40002, 300)\n",
            "  (gru): GRU(300, 350, batch_first=True, bidirectional=True)\n",
            "  (attention): BahdanauAttention(\n",
            "    (W): Linear(in_features=700, out_features=350, bias=True)\n",
            "    (v): Linear(in_features=350, out_features=1, bias=False)\n",
            "  )\n",
            "  (fc): Linear(in_features=700, out_features=1, bias=True)\n",
            "  (dropout): Dropout(p=0.8, inplace=False)\n",
            ")\n",
            "Total trainable parameters: 13616201\n"
          ]
        },
        {
          "output_type": "stream",
          "name": "stderr",
          "text": [
            "\n",
            "<ipython-input-21-811d6649565c>:44: UserWarning: To copy construct from a tensor, it is recommended to use sourceTensor.clone().detach() or sourceTensor.clone().detach().requires_grad_(True), rather than torch.tensor(sourceTensor).\n",
            "  self.X = torch.tensor(X_data, dtype=torch.long)\n"
          ]
        },
        {
          "output_type": "display_data",
          "data": {
            "text/plain": [
              "<IPython.core.display.HTML object>"
            ],
            "text/html": [
              "Finishing previous runs because reinit is set to 'default'."
            ]
          },
          "metadata": {}
        },
        {
          "output_type": "display_data",
          "data": {
            "text/plain": [
              "<IPython.core.display.HTML object>"
            ],
            "text/html": []
          },
          "metadata": {}
        },
        {
          "output_type": "display_data",
          "data": {
            "text/plain": [
              "<IPython.core.display.HTML object>"
            ],
            "text/html": [
              "<br>    <style><br>        .wandb-row {<br>            display: flex;<br>            flex-direction: row;<br>            flex-wrap: wrap;<br>            justify-content: flex-start;<br>            width: 100%;<br>        }<br>        .wandb-col {<br>            display: flex;<br>            flex-direction: column;<br>            flex-basis: 100%;<br>            flex: 1;<br>            padding: 10px;<br>        }<br>    </style><br><div class=\"wandb-row\"><div class=\"wandb-col\"><h3>Run history:</h3><br/><table class=\"wandb\"><tr><td>test_acc</td><td>▁▆▃██</td></tr><tr><td>test_balanced_acc</td><td>▄▅▁▇█</td></tr><tr><td>test_f1</td><td>▁▅▂██</td></tr><tr><td>test_loss</td><td>▅▃█▁▂</td></tr><tr><td>test_precision</td><td>▁▄▁██</td></tr><tr><td>test_recall</td><td>▁▆▃██</td></tr><tr><td>train_acc</td><td>▁▃▅▆█</td></tr><tr><td>train_loss</td><td>█▅▄▂▁</td></tr></table><br/></div><div class=\"wandb-col\"><h3>Run summary:</h3><br/><table class=\"wandb\"><tr><td>test_acc</td><td>0.91098</td></tr><tr><td>test_balanced_acc</td><td>0.91291</td></tr><tr><td>test_f1</td><td>0.91178</td></tr><tr><td>test_loss</td><td>0.2572</td></tr><tr><td>test_precision</td><td>0.91451</td></tr><tr><td>test_recall</td><td>0.91098</td></tr><tr><td>train_acc</td><td>0.92928</td></tr><tr><td>train_loss</td><td>0.19943</td></tr></table><br/></div></div>"
            ]
          },
          "metadata": {}
        },
        {
          "output_type": "display_data",
          "data": {
            "text/plain": [
              "<IPython.core.display.HTML object>"
            ],
            "text/html": [
              " View run <strong style=\"color:#cdcd00\">GloVe_GRU_BahdanauAttention_Training</strong> at: <a href='https://wandb.ai/wilfried-mvomoeto-university-of-li-ge/Binary-Class-Models-Train-Test-Bio-PubMedBERT-Glove-FastText300d-Attention/runs/eumb5fdq' target=\"_blank\">https://wandb.ai/wilfried-mvomoeto-university-of-li-ge/Binary-Class-Models-Train-Test-Bio-PubMedBERT-Glove-FastText300d-Attention/runs/eumb5fdq</a><br> View project at: <a href='https://wandb.ai/wilfried-mvomoeto-university-of-li-ge/Binary-Class-Models-Train-Test-Bio-PubMedBERT-Glove-FastText300d-Attention' target=\"_blank\">https://wandb.ai/wilfried-mvomoeto-university-of-li-ge/Binary-Class-Models-Train-Test-Bio-PubMedBERT-Glove-FastText300d-Attention</a><br>Synced 5 W&B file(s), 1 media file(s), 2 artifact file(s) and 0 other file(s)"
            ]
          },
          "metadata": {}
        },
        {
          "output_type": "display_data",
          "data": {
            "text/plain": [
              "<IPython.core.display.HTML object>"
            ],
            "text/html": [
              "Find logs at: <code>./wandb/run-20250425_060352-eumb5fdq/logs</code>"
            ]
          },
          "metadata": {}
        },
        {
          "output_type": "display_data",
          "data": {
            "text/plain": [
              "<IPython.core.display.HTML object>"
            ],
            "text/html": [
              "Tracking run with wandb version 0.19.10"
            ]
          },
          "metadata": {}
        },
        {
          "output_type": "display_data",
          "data": {
            "text/plain": [
              "<IPython.core.display.HTML object>"
            ],
            "text/html": [
              "Run data is saved locally in <code>/content/wandb/run-20250425_060912-nshaukzc</code>"
            ]
          },
          "metadata": {}
        },
        {
          "output_type": "display_data",
          "data": {
            "text/plain": [
              "<IPython.core.display.HTML object>"
            ],
            "text/html": [
              "Syncing run <strong><a href='https://wandb.ai/wilfried-mvomoeto-university-of-li-ge/Binary-Class-Models-Train-Test-Bio-PubMedBERT-Glove-FastText300d-Attention/runs/nshaukzc' target=\"_blank\">FastText_GRU_BahdanauAttention_Training</a></strong> to <a href='https://wandb.ai/wilfried-mvomoeto-university-of-li-ge/Binary-Class-Models-Train-Test-Bio-PubMedBERT-Glove-FastText300d-Attention' target=\"_blank\">Weights & Biases</a> (<a href='https://wandb.me/developer-guide' target=\"_blank\">docs</a>)<br>"
            ]
          },
          "metadata": {}
        },
        {
          "output_type": "display_data",
          "data": {
            "text/plain": [
              "<IPython.core.display.HTML object>"
            ],
            "text/html": [
              " View project at <a href='https://wandb.ai/wilfried-mvomoeto-university-of-li-ge/Binary-Class-Models-Train-Test-Bio-PubMedBERT-Glove-FastText300d-Attention' target=\"_blank\">https://wandb.ai/wilfried-mvomoeto-university-of-li-ge/Binary-Class-Models-Train-Test-Bio-PubMedBERT-Glove-FastText300d-Attention</a>"
            ]
          },
          "metadata": {}
        },
        {
          "output_type": "display_data",
          "data": {
            "text/plain": [
              "<IPython.core.display.HTML object>"
            ],
            "text/html": [
              " View run at <a href='https://wandb.ai/wilfried-mvomoeto-university-of-li-ge/Binary-Class-Models-Train-Test-Bio-PubMedBERT-Glove-FastText300d-Attention/runs/nshaukzc' target=\"_blank\">https://wandb.ai/wilfried-mvomoeto-university-of-li-ge/Binary-Class-Models-Train-Test-Bio-PubMedBERT-Glove-FastText300d-Attention/runs/nshaukzc</a>"
            ]
          },
          "metadata": {}
        },
        {
          "output_type": "stream",
          "name": "stderr",
          "text": [
            "Training FastText_GRU_BahdanauAttention:  29%|██▊       | 2/7 [03:17<08:13, 98.72s/epoch]\n"
          ]
        },
        {
          "output_type": "stream",
          "name": "stdout",
          "text": [
            "\n",
            "Training PubMedBERT_GRU_Attention model...\n",
            "\n",
            "PubMedBERT_GRU_Attention(\n",
            "  (gru): GRU(768, 256, batch_first=True, bidirectional=True)\n",
            "  (attention): BahdanauAttention(\n",
            "    (W): Linear(in_features=512, out_features=256, bias=True)\n",
            "    (v): Linear(in_features=256, out_features=1, bias=False)\n",
            "  )\n",
            "  (fc): Linear(in_features=512, out_features=1, bias=True)\n",
            "  (dropout): Dropout(p=0.6, inplace=False)\n",
            ")\n",
            "Total trainable parameters: 1708033\n"
          ]
        },
        {
          "output_type": "display_data",
          "data": {
            "text/plain": [
              "<IPython.core.display.HTML object>"
            ],
            "text/html": [
              "Finishing previous runs because reinit is set to 'default'."
            ]
          },
          "metadata": {}
        },
        {
          "output_type": "display_data",
          "data": {
            "text/plain": [
              "<IPython.core.display.HTML object>"
            ],
            "text/html": []
          },
          "metadata": {}
        },
        {
          "output_type": "display_data",
          "data": {
            "text/plain": [
              "<IPython.core.display.HTML object>"
            ],
            "text/html": [
              "<br>    <style><br>        .wandb-row {<br>            display: flex;<br>            flex-direction: row;<br>            flex-wrap: wrap;<br>            justify-content: flex-start;<br>            width: 100%;<br>        }<br>        .wandb-col {<br>            display: flex;<br>            flex-direction: column;<br>            flex-basis: 100%;<br>            flex: 1;<br>            padding: 10px;<br>        }<br>    </style><br><div class=\"wandb-row\"><div class=\"wandb-col\"><h3>Run history:</h3><br/><table class=\"wandb\"><tr><td>test_acc</td><td>▃█▁</td></tr><tr><td>test_balanced_acc</td><td>▅█▁</td></tr><tr><td>test_f1</td><td>▃█▁</td></tr><tr><td>test_loss</td><td>█▁▄</td></tr><tr><td>test_precision</td><td>▄█▁</td></tr><tr><td>test_recall</td><td>▃█▁</td></tr><tr><td>train_acc</td><td>▁▅█</td></tr><tr><td>train_loss</td><td>█▄▁</td></tr></table><br/></div><div class=\"wandb-col\"><h3>Run summary:</h3><br/><table class=\"wandb\"><tr><td>test_acc</td><td>0.91098</td></tr><tr><td>test_balanced_acc</td><td>0.90139</td></tr><tr><td>test_f1</td><td>0.91086</td></tr><tr><td>test_loss</td><td>0.23701</td></tr><tr><td>test_precision</td><td>0.91078</td></tr><tr><td>test_recall</td><td>0.91098</td></tr><tr><td>train_acc</td><td>0.93724</td></tr><tr><td>train_loss</td><td>0.17266</td></tr></table><br/></div></div>"
            ]
          },
          "metadata": {}
        },
        {
          "output_type": "display_data",
          "data": {
            "text/plain": [
              "<IPython.core.display.HTML object>"
            ],
            "text/html": [
              " View run <strong style=\"color:#cdcd00\">FastText_GRU_BahdanauAttention_Training</strong> at: <a href='https://wandb.ai/wilfried-mvomoeto-university-of-li-ge/Binary-Class-Models-Train-Test-Bio-PubMedBERT-Glove-FastText300d-Attention/runs/nshaukzc' target=\"_blank\">https://wandb.ai/wilfried-mvomoeto-university-of-li-ge/Binary-Class-Models-Train-Test-Bio-PubMedBERT-Glove-FastText300d-Attention/runs/nshaukzc</a><br> View project at: <a href='https://wandb.ai/wilfried-mvomoeto-university-of-li-ge/Binary-Class-Models-Train-Test-Bio-PubMedBERT-Glove-FastText300d-Attention' target=\"_blank\">https://wandb.ai/wilfried-mvomoeto-university-of-li-ge/Binary-Class-Models-Train-Test-Bio-PubMedBERT-Glove-FastText300d-Attention</a><br>Synced 5 W&B file(s), 1 media file(s), 2 artifact file(s) and 0 other file(s)"
            ]
          },
          "metadata": {}
        },
        {
          "output_type": "display_data",
          "data": {
            "text/plain": [
              "<IPython.core.display.HTML object>"
            ],
            "text/html": [
              "Find logs at: <code>./wandb/run-20250425_060912-nshaukzc/logs</code>"
            ]
          },
          "metadata": {}
        },
        {
          "output_type": "display_data",
          "data": {
            "text/plain": [
              "<IPython.core.display.HTML object>"
            ],
            "text/html": [
              "Tracking run with wandb version 0.19.10"
            ]
          },
          "metadata": {}
        },
        {
          "output_type": "display_data",
          "data": {
            "text/plain": [
              "<IPython.core.display.HTML object>"
            ],
            "text/html": [
              "Run data is saved locally in <code>/content/wandb/run-20250425_061301-k19nhxzs</code>"
            ]
          },
          "metadata": {}
        },
        {
          "output_type": "display_data",
          "data": {
            "text/plain": [
              "<IPython.core.display.HTML object>"
            ],
            "text/html": [
              "Syncing run <strong><a href='https://wandb.ai/wilfried-mvomoeto-university-of-li-ge/Binary-Class-Models-Train-Test-Bio-PubMedBERT-Glove-FastText300d-Attention/runs/k19nhxzs' target=\"_blank\">PubMedBERT_GRU_Attention_Training</a></strong> to <a href='https://wandb.ai/wilfried-mvomoeto-university-of-li-ge/Binary-Class-Models-Train-Test-Bio-PubMedBERT-Glove-FastText300d-Attention' target=\"_blank\">Weights & Biases</a> (<a href='https://wandb.me/developer-guide' target=\"_blank\">docs</a>)<br>"
            ]
          },
          "metadata": {}
        },
        {
          "output_type": "display_data",
          "data": {
            "text/plain": [
              "<IPython.core.display.HTML object>"
            ],
            "text/html": [
              " View project at <a href='https://wandb.ai/wilfried-mvomoeto-university-of-li-ge/Binary-Class-Models-Train-Test-Bio-PubMedBERT-Glove-FastText300d-Attention' target=\"_blank\">https://wandb.ai/wilfried-mvomoeto-university-of-li-ge/Binary-Class-Models-Train-Test-Bio-PubMedBERT-Glove-FastText300d-Attention</a>"
            ]
          },
          "metadata": {}
        },
        {
          "output_type": "display_data",
          "data": {
            "text/plain": [
              "<IPython.core.display.HTML object>"
            ],
            "text/html": [
              " View run at <a href='https://wandb.ai/wilfried-mvomoeto-university-of-li-ge/Binary-Class-Models-Train-Test-Bio-PubMedBERT-Glove-FastText300d-Attention/runs/k19nhxzs' target=\"_blank\">https://wandb.ai/wilfried-mvomoeto-university-of-li-ge/Binary-Class-Models-Train-Test-Bio-PubMedBERT-Glove-FastText300d-Attention/runs/k19nhxzs</a>"
            ]
          },
          "metadata": {}
        },
        {
          "output_type": "stream",
          "name": "stderr",
          "text": [
            "Training PubMedBERT_GRU_Attention:  86%|████████▌ | 6/7 [1:21:04<13:30, 810.69s/epoch]\n"
          ]
        },
        {
          "output_type": "stream",
          "name": "stdout",
          "text": [
            "\n",
            "Training BioBERT_GRU_Attention model...\n",
            "\n",
            "BioBERT_GRU_Attention(\n",
            "  (encoder): BertModel(\n",
            "    (embeddings): BertEmbeddings(\n",
            "      (word_embeddings): Embedding(28996, 768, padding_idx=0)\n",
            "      (position_embeddings): Embedding(512, 768)\n",
            "      (token_type_embeddings): Embedding(2, 768)\n",
            "      (LayerNorm): LayerNorm((768,), eps=1e-12, elementwise_affine=True)\n",
            "      (dropout): Dropout(p=0.1, inplace=False)\n",
            "    )\n",
            "    (encoder): BertEncoder(\n",
            "      (layer): ModuleList(\n",
            "        (0-11): 12 x BertLayer(\n",
            "          (attention): BertAttention(\n",
            "            (self): BertSdpaSelfAttention(\n",
            "              (query): Linear(in_features=768, out_features=768, bias=True)\n",
            "              (key): Linear(in_features=768, out_features=768, bias=True)\n",
            "              (value): Linear(in_features=768, out_features=768, bias=True)\n",
            "              (dropout): Dropout(p=0.1, inplace=False)\n",
            "            )\n",
            "            (output): BertSelfOutput(\n",
            "              (dense): Linear(in_features=768, out_features=768, bias=True)\n",
            "              (LayerNorm): LayerNorm((768,), eps=1e-12, elementwise_affine=True)\n",
            "              (dropout): Dropout(p=0.1, inplace=False)\n",
            "            )\n",
            "          )\n",
            "          (intermediate): BertIntermediate(\n",
            "            (dense): Linear(in_features=768, out_features=3072, bias=True)\n",
            "            (intermediate_act_fn): GELUActivation()\n",
            "          )\n",
            "          (output): BertOutput(\n",
            "            (dense): Linear(in_features=3072, out_features=768, bias=True)\n",
            "            (LayerNorm): LayerNorm((768,), eps=1e-12, elementwise_affine=True)\n",
            "            (dropout): Dropout(p=0.1, inplace=False)\n",
            "          )\n",
            "        )\n",
            "      )\n",
            "    )\n",
            "    (pooler): BertPooler(\n",
            "      (dense): Linear(in_features=768, out_features=768, bias=True)\n",
            "      (activation): Tanh()\n",
            "    )\n",
            "  )\n",
            "  (gru): GRU(768, 256, batch_first=True, bidirectional=True)\n",
            "  (attention): BahdanauAttention(\n",
            "    (W): Linear(in_features=512, out_features=256, bias=True)\n",
            "    (v): Linear(in_features=256, out_features=1, bias=False)\n",
            "  )\n",
            "  (fc): Linear(in_features=512, out_features=1, bias=True)\n",
            "  (dropout): Dropout(p=0.6, inplace=False)\n",
            ")\n",
            "Total trainable parameters: 110018305\n"
          ]
        },
        {
          "output_type": "display_data",
          "data": {
            "text/plain": [
              "<IPython.core.display.HTML object>"
            ],
            "text/html": [
              "Finishing previous runs because reinit is set to 'default'."
            ]
          },
          "metadata": {}
        },
        {
          "output_type": "display_data",
          "data": {
            "text/plain": [
              "<IPython.core.display.HTML object>"
            ],
            "text/html": []
          },
          "metadata": {}
        },
        {
          "output_type": "display_data",
          "data": {
            "text/plain": [
              "<IPython.core.display.HTML object>"
            ],
            "text/html": [
              "<br>    <style><br>        .wandb-row {<br>            display: flex;<br>            flex-direction: row;<br>            flex-wrap: wrap;<br>            justify-content: flex-start;<br>            width: 100%;<br>        }<br>        .wandb-col {<br>            display: flex;<br>            flex-direction: column;<br>            flex-basis: 100%;<br>            flex: 1;<br>            padding: 10px;<br>        }<br>    </style><br><div class=\"wandb-row\"><div class=\"wandb-col\"><h3>Run history:</h3><br/><table class=\"wandb\"><tr><td>test_acc</td><td>▁▄▆██▄▄</td></tr><tr><td>test_balanced_acc</td><td>▁▄▆█▅█▂</td></tr><tr><td>test_f1</td><td>▁▄▆█▇▆▃</td></tr><tr><td>test_loss</td><td>█▃▁▁▃▄▄</td></tr><tr><td>test_precision</td><td>▇▆▆▄▇▁█</td></tr><tr><td>test_recall</td><td>▁▃▄▆▃█▁</td></tr><tr><td>train_acc</td><td>▁▆▆▆▇██</td></tr><tr><td>train_loss</td><td>█▄▃▃▂▂▁</td></tr></table><br/></div><div class=\"wandb-col\"><h3>Run summary:</h3><br/><table class=\"wandb\"><tr><td>test_acc</td><td>0.91247</td></tr><tr><td>test_balanced_acc</td><td>0.89796</td></tr><tr><td>test_f1</td><td>0.87288</td></tr><tr><td>test_loss</td><td>0.23239</td></tr><tr><td>test_precision</td><td>0.89911</td></tr><tr><td>test_recall</td><td>0.84815</td></tr><tr><td>train_acc</td><td>0.93037</td></tr><tr><td>train_loss</td><td>0.1817</td></tr></table><br/></div></div>"
            ]
          },
          "metadata": {}
        },
        {
          "output_type": "display_data",
          "data": {
            "text/plain": [
              "<IPython.core.display.HTML object>"
            ],
            "text/html": [
              " View run <strong style=\"color:#cdcd00\">PubMedBERT_GRU_Attention_Training</strong> at: <a href='https://wandb.ai/wilfried-mvomoeto-university-of-li-ge/Binary-Class-Models-Train-Test-Bio-PubMedBERT-Glove-FastText300d-Attention/runs/k19nhxzs' target=\"_blank\">https://wandb.ai/wilfried-mvomoeto-university-of-li-ge/Binary-Class-Models-Train-Test-Bio-PubMedBERT-Glove-FastText300d-Attention/runs/k19nhxzs</a><br> View project at: <a href='https://wandb.ai/wilfried-mvomoeto-university-of-li-ge/Binary-Class-Models-Train-Test-Bio-PubMedBERT-Glove-FastText300d-Attention' target=\"_blank\">https://wandb.ai/wilfried-mvomoeto-university-of-li-ge/Binary-Class-Models-Train-Test-Bio-PubMedBERT-Glove-FastText300d-Attention</a><br>Synced 5 W&B file(s), 1 media file(s), 2 artifact file(s) and 0 other file(s)"
            ]
          },
          "metadata": {}
        },
        {
          "output_type": "display_data",
          "data": {
            "text/plain": [
              "<IPython.core.display.HTML object>"
            ],
            "text/html": [
              "Find logs at: <code>./wandb/run-20250425_061301-k19nhxzs/logs</code>"
            ]
          },
          "metadata": {}
        },
        {
          "output_type": "display_data",
          "data": {
            "text/plain": [
              "<IPython.core.display.HTML object>"
            ],
            "text/html": [
              "Tracking run with wandb version 0.19.10"
            ]
          },
          "metadata": {}
        },
        {
          "output_type": "display_data",
          "data": {
            "text/plain": [
              "<IPython.core.display.HTML object>"
            ],
            "text/html": [
              "Run data is saved locally in <code>/content/wandb/run-20250425_073438-n30uz5uh</code>"
            ]
          },
          "metadata": {}
        },
        {
          "output_type": "display_data",
          "data": {
            "text/plain": [
              "<IPython.core.display.HTML object>"
            ],
            "text/html": [
              "Syncing run <strong><a href='https://wandb.ai/wilfried-mvomoeto-university-of-li-ge/Binary-Class-Models-Train-Test-Bio-PubMedBERT-Glove-FastText300d-Attention/runs/n30uz5uh' target=\"_blank\">BioBERT_GRU_Attention_Training</a></strong> to <a href='https://wandb.ai/wilfried-mvomoeto-university-of-li-ge/Binary-Class-Models-Train-Test-Bio-PubMedBERT-Glove-FastText300d-Attention' target=\"_blank\">Weights & Biases</a> (<a href='https://wandb.me/developer-guide' target=\"_blank\">docs</a>)<br>"
            ]
          },
          "metadata": {}
        },
        {
          "output_type": "display_data",
          "data": {
            "text/plain": [
              "<IPython.core.display.HTML object>"
            ],
            "text/html": [
              " View project at <a href='https://wandb.ai/wilfried-mvomoeto-university-of-li-ge/Binary-Class-Models-Train-Test-Bio-PubMedBERT-Glove-FastText300d-Attention' target=\"_blank\">https://wandb.ai/wilfried-mvomoeto-university-of-li-ge/Binary-Class-Models-Train-Test-Bio-PubMedBERT-Glove-FastText300d-Attention</a>"
            ]
          },
          "metadata": {}
        },
        {
          "output_type": "display_data",
          "data": {
            "text/plain": [
              "<IPython.core.display.HTML object>"
            ],
            "text/html": [
              " View run at <a href='https://wandb.ai/wilfried-mvomoeto-university-of-li-ge/Binary-Class-Models-Train-Test-Bio-PubMedBERT-Glove-FastText300d-Attention/runs/n30uz5uh' target=\"_blank\">https://wandb.ai/wilfried-mvomoeto-university-of-li-ge/Binary-Class-Models-Train-Test-Bio-PubMedBERT-Glove-FastText300d-Attention/runs/n30uz5uh</a>"
            ]
          },
          "metadata": {}
        },
        {
          "output_type": "stream",
          "name": "stderr",
          "text": [
            "Training BioBERT_GRU_Attention: 100%|██████████| 7/7 [1:22:45<00:00, 709.42s/epoch]\n"
          ]
        }
      ],
      "source": [
        "loss_function = nn.BCEWithLogitsLoss()\n",
        "loss_gap_ratio = 1.25\n",
        "ax_accuracy_gap = 5\n",
        "num_epochs = 7\n",
        "BATCH_SIZE = 16\n",
        "model_metrics = {}\n",
        "\n",
        "for model_name, model in models.items():\n",
        "    print(f\"\\nTraining {model_name} model...\\n\")\n",
        "    print(model)\n",
        "    num_params = count_parameters(model)\n",
        "    print(f\"Total trainable parameters: {num_params}\")\n",
        "\n",
        "    reinitialize_weights(model)\n",
        "    optimizer = optimizers[model_name]\n",
        "    scheduler = ReduceLROnPlateau(optimizer, mode='min', factor=0.5, patience=2, verbose=True)\n",
        "\n",
        "    if \"PubMedBERT\" in model_name:\n",
        "        train_dataset = PubMedBERTDataset(X_train.tolist(), y_train, tokenizer)\n",
        "        val_dataset = PubMedBERTDataset(X_val.tolist(), y_val, tokenizer)\n",
        "        test_dataset = PubMedBERTDataset(X_test.tolist(), y_test, tokenizer)\n",
        "    elif \"BioBERT\" in model_name:\n",
        "        train_dataset = BioBERTDataset(X_train.tolist(), y_train, tokenizer_bioBert)\n",
        "        val_dataset = BioBERTDataset(X_val.tolist(), y_val, tokenizer_bioBert)\n",
        "        test_dataset = BioBERTDataset(X_test.tolist(), y_test, tokenizer_bioBert)\n",
        "    else:\n",
        "        train_dataset = TextDataset(X_train_tensor, y_train, raw_text_data=X_train)\n",
        "        val_dataset = TextDataset(X_val_tensor, y_val, raw_text_data=X_val)\n",
        "        test_dataset = TextDataset(X_test_tensor, y_test, raw_text_data=X_test)\n",
        "\n",
        "    train_loader = DataLoader(train_dataset, batch_size=BATCH_SIZE, shuffle=True)\n",
        "    val_loader = DataLoader(val_dataset, batch_size=BATCH_SIZE, shuffle=False)\n",
        "    test_loader = DataLoader(test_dataset, batch_size=BATCH_SIZE, shuffle=False)\n",
        "    combined_dataset = ConcatDataset([train_dataset, val_dataset])\n",
        "    combined_loader = DataLoader(combined_dataset, batch_size=BATCH_SIZE, shuffle=True)\n",
        "\n",
        "    wandb.init(entity='wilfried-mvomoeto-university-of-li-ge',\n",
        "        project='Binary-Class-Models-Train-Test-Bio-PubMedBERT-Glove-FastText300d-Attention',\n",
        "        name=f\"{model_name}_Training\",\n",
        "        config={\n",
        "            'learning_rate': 9e-5,\n",
        "            'num_epochs': num_epochs,\n",
        "            'num_layers': 1\n",
        "        }\n",
        "    )\n",
        "\n",
        "    train_losses, test_losses = [], []\n",
        "    train_accuracies, test_accuracies = [], []\n",
        "    test_f1s, test_balanced_accs, test_recalls, test_precisions = [], [], [], []\n",
        "\n",
        "    saved_once = False\n",
        "    with tqdm(total=num_epochs, desc=f\"Training {model_name}\", unit=\"epoch\") as pbar:\n",
        "        for epoch in range(num_epochs):\n",
        "            start_time = time.time()\n",
        "\n",
        "            if \"PubMedBERT\" in model_name or \"BioBERT\" in model_name:\n",
        "                train_loss, train_acc = train_model(model, combined_loader, optimizer, loss_function, device)\n",
        "                test_loss, test_acc, test_f1, test_balanced_acc, test_recall, test_precision = test_model(\n",
        "                    model, test_loader, loss_function, device)\n",
        "            else:\n",
        "                train_loss, train_acc = train_epoch_glove(model, combined_loader, optimizer, loss_function, device)\n",
        "                test_loss, test_acc, test_f1, test_balanced_acc, test_recall, test_precision = test_epoch_glove(\n",
        "                    model, test_loader, loss_function, device)\n",
        "\n",
        "            train_losses.append(train_loss)\n",
        "            test_losses.append(test_loss)\n",
        "            train_accuracies.append(train_acc)\n",
        "            test_accuracies.append(test_acc)\n",
        "            test_f1s.append(test_f1)\n",
        "            test_balanced_accs.append(test_balanced_acc)\n",
        "            test_recalls.append(test_recall)\n",
        "            test_precisions.append(test_precision)\n",
        "\n",
        "            wandb.log({\n",
        "                \"train_loss\": train_loss,\n",
        "                \"test_loss\": test_loss,\n",
        "                \"train_acc\": train_acc,\n",
        "                \"test_acc\": test_acc,\n",
        "                \"test_f1\": test_f1,\n",
        "                \"test_balanced_acc\": test_balanced_acc,\n",
        "                \"test_recall\": test_recall,\n",
        "                \"test_precision\": test_precision\n",
        "            })\n",
        "\n",
        "            if (test_loss > train_loss * loss_gap_ratio or train_acc - test_acc > ax_accuracy_gap / 100) and not saved_once:\n",
        "                torch.save(model.state_dict(), f\"{model_name}_early_stop.pth\")\n",
        "                saved_once = True\n",
        "                break\n",
        "\n",
        "            if epoch == num_epochs - 1 and not saved_once:\n",
        "                torch.save(model.state_dict(), f\"{model_name}_final.pth\")\n",
        "\n",
        "            pbar.update(1)\n",
        "\n",
        "        epoch_table = wandb.Table(columns=[\"Epoch\", \"Train Loss\", \"Test Loss\", \"Train Acc\", \"Test Acc\", \"F1\", \"Balanced Acc\", \"Recall\", \"Precision\"])\n",
        "        for epoch in range(len(train_losses)):\n",
        "            epoch_table.add_data(epoch + 1, train_losses[epoch], test_losses[epoch], train_accuracies[epoch],\n",
        "                                 test_accuracies[epoch], test_f1s[epoch], test_balanced_accs[epoch],\n",
        "                                 test_recalls[epoch], test_precisions[epoch])\n",
        "        wandb.log({f\"{model_name}_Metrics_Table\": epoch_table})\n",
        "\n",
        "        model_metrics[model_name] = {\n",
        "            \"train_losses\": train_losses,\n",
        "            \"test_losses\": test_losses,\n",
        "            \"train_accuracies\": train_accuracies,\n",
        "            \"test_accuracies\": test_accuracies,\n",
        "            \"test_f1s\": test_f1s,\n",
        "            \"test_balanced_accs\": test_balanced_accs,\n",
        "            \"test_recalls\": test_recalls,\n",
        "            \"test_precisions\": test_precisions\n",
        "        }"
      ]
    },
    {
      "cell_type": "code",
      "execution_count": 33,
      "metadata": {
        "colab": {
          "base_uri": "https://localhost:8080/",
          "height": 601
        },
        "id": "Y8QBsgPYayON",
        "outputId": "564cf207-ad5f-4047-cfaa-196e080ad163"
      },
      "outputs": [
        {
          "output_type": "display_data",
          "data": {
            "text/plain": [
              "<Figure size 1000x600 with 1 Axes>"
            ],
            "image/png": "[encoded data removed]"
          },
          "metadata": {}
        }
      ],
      "source": [
        "summary_metrics = {\n",
        "    \"Model\": [],\n",
        "    \"F1 Score\": [],\n",
        "    \"Balanced Accuracy\": [],\n",
        "    \"Recall\": [],\n",
        "    \"Precision\": []\n",
        "}\n",
        "\n",
        "for model_name, metrics in model_metrics.items():\n",
        "    summary_metrics[\"Model\"].append(model_name)\n",
        "    summary_metrics[\"F1 Score\"].append(max(metrics[\"test_f1s\"]))\n",
        "    summary_metrics[\"Balanced Accuracy\"].append(max(metrics[\"test_balanced_accs\"]))\n",
        "    summary_metrics[\"Recall\"].append(max(metrics[\"test_recalls\"]))\n",
        "    summary_metrics[\"Precision\"].append(max(metrics[\"test_precisions\"]))\n",
        "\n",
        "df_summary = pd.DataFrame(summary_metrics)\n",
        "df_melted = df_summary.melt(id_vars=\"Model\", var_name=\"Metric\", value_name=\"Score\")\n",
        "\n",
        "sns.set(style=\"whitegrid\")\n",
        "fig, ax = plt.subplots(figsize=(10, 6))\n",
        "\n",
        "models = df_summary[\"Model\"].tolist()\n",
        "palette = sns.color_palette(\"Set2\", len(models))\n",
        "\n",
        "for i, metric in enumerate(df_melted[\"Metric\"].unique()):\n",
        "    data = df_melted[df_melted[\"Metric\"] == metric]\n",
        "    max_score = data[\"Score\"].max()\n",
        "\n",
        "    for j, (index, row) in enumerate(data.iterrows()):\n",
        "        color = \"crimson\" if row[\"Score\"] == max_score else palette[models.index(row[\"Model\"])]\n",
        "        bar = ax.bar(\n",
        "            x=i - 0.3 + j * (0.6 / len(models)),\n",
        "            height=row[\"Score\"],\n",
        "            width=0.6 / len(models),\n",
        "            color=color,\n",
        "            label=row[\"Model\"] if i == 0 else \"\"\n",
        "        )\n",
        "        ax.text(\n",
        "            x=bar[0].get_x() + bar[0].get_width() / 2,\n",
        "            y=row[\"Score\"] + 0.015,\n",
        "            s=f\"{row['Score']:.2f}\",\n",
        "            ha='center',\n",
        "            va='bottom',\n",
        "            fontsize=9,\n",
        "            color='black',\n",
        "            fontweight='bold' if row[\"Score\"] == max_score else 'normal'\n",
        "        )\n",
        "\n",
        "ax.set_xticks(range(len(df_melted[\"Metric\"].unique())))\n",
        "ax.set_xticklabels(df_melted[\"Metric\"].unique())\n",
        "ax.set_ylim(0, 1.05)\n",
        "ax.set_ylabel(\"Score\")\n",
        "ax.set_title(\"Best Performance per Model (Glove, FastText, PubMedBERT, BioBERT)\")\n",
        "ax.grid(True, axis='y')\n",
        "\n",
        "handles, labels = ax.get_legend_handles_labels()\n",
        "by_label = dict(zip(labels, handles))\n",
        "ax.legend(by_label.values(), by_label.keys(), title=\"Model\", bbox_to_anchor=(1.05, 1), loc=\"upper left\")\n",
        "\n",
        "plt.tight_layout()\n",
        "plt.savefig(\"best_model_performance_comparison_all_models.png\")\n",
        "plt.show()"
      ]
    },
    {
      "cell_type": "markdown",
      "metadata": {
        "id": "XZHJ3J1oB14U"
      },
      "source": [
        "---\n",
        "The PubMedBERT-based model with Bidirectional GRU and Bahdanau Attention consistently outperforms the GloVe-based model with Bidirectional GRU and Bahdanau Attention across all key metrics, though by a small margin of 0.01.\n",
        "\n",
        "This performance gain, while subtle, demonstrates that contextual embeddings like PubMedBERT provide a more nuanced and contextual understanding of biomedical text compared to traditional word embeddings like GloVe.\n",
        "\n",
        "Furthermore, the consistency across F1 Score, Precision, Recall, and Balanced Accuracy suggests that the PubMedBERT-based model with Bidirectional GRU and Bahdanau Attention delivers more stable and generalizable predictions, which is especially valuable when dealing with class-imbalanced biomedical datasets"
      ]
    },
    {
      "cell_type": "code",
      "execution_count": 39,
      "metadata": {
        "colab": {
          "base_uri": "https://localhost:8080/"
        },
        "id": "oTAUKtIQV8H0",
        "outputId": "3ea5cc17-78d4-4394-ee00-c36cc56e07c7"
      },
      "outputs": [
        {
          "output_type": "stream",
          "name": "stderr",
          "text": [
            "<ipython-input-21-811d6649565c>:44: UserWarning: To copy construct from a tensor, it is recommended to use sourceTensor.clone().detach() or sourceTensor.clone().detach().requires_grad_(True), rather than torch.tensor(sourceTensor).\n",
            "  self.X = torch.tensor(X_data, dtype=torch.long)\n"
          ]
        },
        {
          "output_type": "execute_result",
          "data": {
            "text/plain": [
              "<All keys matched successfully>"
            ]
          },
          "metadata": {},
          "execution_count": 39
        }
      ],
      "source": [
        "test_dataset_glove = TextDataset(X_test_tensor, y_test, raw_text_data=X_test)\n",
        "test_dataset_pubMed = PubMedBERTDataset(X_test.tolist(), y_test, tokenizer)\n",
        "test_dataset_bio = BioBERTDataset(X_test.tolist(), y_test, tokenizer_bioBert)\n",
        "\n",
        "test_loader_glove = DataLoader(test_dataset_glove, batch_size=BATCH_SIZE, shuffle=False)\n",
        "test_loader_pubMed = DataLoader(test_dataset_pubMed, batch_size=BATCH_SIZE, shuffle=False)\n",
        "test_loader_bio = DataLoader(test_dataset_bio, batch_size=BATCH_SIZE, shuffle=False)\n",
        "\n",
        "model_glove = GloVe_GRU_BahdanauAttention(embedding_matrix=embedding_matrix_glove, hidden_dim=300, num_layers=1, dropout_prob=0.9).to(device)\n",
        "model_glove.load_state_dict(torch.load(\"/content/GloVe_GRU_BahdanauAttention_early_stop.pth\"))\n",
        "\n",
        "model_fasttext = FastText_GRU_BahdanauAttention(embedding_matrix=embedding_matrix_fastText, hidden_dim=350, num_layers=1, dropout_prob=0.8).to(device)\n",
        "model_fasttext.load_state_dict(torch.load(\"/content/FastText_GRU_BahdanauAttention_early_stop.pth\"))\n",
        "\n",
        "model_pubMedBert = PubMedBERT_GRU_Attention(BERT_DIM, HIDDEN_DIM, num_layers=1, dropout_prob=DROPOUT).to(device)\n",
        "model_pubMedBert.load_state_dict(torch.load(\"/content/PubMedBERT_GRU_Attention_early_stop.pth\"))\n",
        "\n",
        "model_bioBert = BioBERT_GRU_Attention(biobert, BERT_DIM, HIDDEN_DIM, dropout_prob=DROPOUT).to(device)\n",
        "model_bioBert.load_state_dict(torch.load(\"/content/BioBERT_GRU_Attention_final.pth\"))"
      ]
    },
    {
      "cell_type": "code",
      "source": [
        "df_results_glove, df_correct_glove, df_wrong_glove, all_labels_glove, all_pred_glove = evaluate_and_analyze_glove(model_glove, test_loader_glove, device)\n",
        "df_results_fasttext, df_correct_fasttext, df_wrong_fasttext, all_labels_fasttext, all_pred_fasttext = evaluate_and_analyze_glove(model_fasttext, test_loader_glove, device)\n",
        "df_results_pubMedBert, df_wrong_pubMedBert, df_correct_pubMedBert, all_labels_pubMedBert, all_pred_pubMedBert = evaluate_and_analyze_pubMedBert(model_pubMedBert, test_loader_pubMed, device)\n",
        "df_results_bioBert, df_correct_bioBert, df_wrong_bioBert, all_labels_bioBert, all_pred_bioBert = evaluate_and_analyze_pubMedBert(model_bioBert, test_loader_bio, device)"
      ],
      "metadata": {
        "id": "tAJVQkhuIXSh"
      },
      "execution_count": 71,
      "outputs": []
    },
    {
      "cell_type": "code",
      "source": [
        "fig, axes = plt.subplots(1, 4, figsize=(16, 8))\n",
        "\n",
        "plot_confusion_matrix(axes[0], all_labels_glove, all_pred_glove, num_classes = 2)\n",
        "axes[0].set_title(\"GloVe (300d) + Bahdanau Attention\\nConfusion Matrix\")\n",
        "\n",
        "plot_confusion_matrix(axes[1], all_labels_fasttext, all_pred_fasttext, num_classes = 2)\n",
        "axes[1].set_title(\"FastText (300d) + Bahdanau Attention\\nConfusion Matrix\")\n",
        "\n",
        "plot_confusion_matrix(axes[2], all_labels_pubMedBert, all_pred_pubMedBert, num_classes = 2)\n",
        "axes[2].set_title(\"PubMedBERT + Bahdanau Attention\\nConfusion Matrix\")\n",
        "\n",
        "plot_confusion_matrix(axes[3], all_labels_bioBert, all_pred_bioBert, num_classes = 2)\n",
        "axes[3].set_title(\"BioBERT + Bahdanau Attention\\nConfusion Matrix\")\n",
        "\n",
        "plt.tight_layout()\n",
        "plt.show()"
      ],
      "metadata": {
        "colab": {
          "base_uri": "https://localhost:8080/",
          "height": 757
        },
        "id": "x_xb-Df1StEu",
        "outputId": "332f317f-9c3d-4e07-e491-302b6b5d9751"
      },
      "execution_count": 74,
      "outputs": [
        {
          "output_type": "display_data",
          "data": {
            "text/plain": [
              "<Figure size 1600x800 with 8 Axes>"
            ],
            "image/png": "[encoded data removed]"
          },
          "metadata": {}
        }
      ]
    },
    {
      "cell_type": "code",
      "source": [
        "from sklearn.metrics import roc_curve, auc\n",
        "\n",
        "def get_model_probs(model, data_loader, device):\n",
        "    model.eval()\n",
        "    probs_list = []\n",
        "    with torch.no_grad():\n",
        "        for inputs, labels, _ in data_loader:\n",
        "            inputs = inputs.to(device)\n",
        "            outputs = model(inputs)\n",
        "            probs = torch.sigmoid(outputs).squeeze(1)\n",
        "            probs_list.extend(probs.cpu().numpy())\n",
        "    return np.array(probs_list)"
      ],
      "metadata": {
        "id": "zHqgb6QxVfkZ"
      },
      "execution_count": 75,
      "outputs": []
    },
    {
      "cell_type": "code",
      "source": [
        "from sklearn.metrics import roc_curve, auc\n",
        "\n",
        "# ROC for Glove\n",
        "fpr_glove, tpr_glove, _ = roc_curve(y_true_glove, all_probs_glove)\n",
        "roc_auc_glove = auc(fpr_glove, tpr_glove)\n",
        "\n",
        "# ROC for FastText\n",
        "fpr_fastText, tpr_fastText, _ = roc_curve(y_true_fastText, all_probs_fastText)\n",
        "roc_auc_fastText = auc(fpr_fastText, tpr_fastText)\n",
        "\n",
        "# ROC for PubMedBert\n",
        "fpr_pubMedBert, tpr_pubMedBert, _ = roc_curve(y_true_pubMedBert, all_probs_pubMedBert)\n",
        "roc_auc_pubMedBert = auc(fpr_pubMedBert, tpr_pubMedBert)\n",
        "\n",
        "# ROC for BioBert\n",
        "fpr_bioBert, tpr_bioBert, _ = roc_curve(y_true_bioBert, all_probs_bioBert)\n",
        "roc_auc_bioBert = auc(fpr_bioBert, tpr_bioBert)"
      ],
      "metadata": {
        "id": "4B_6yJ9kVfck"
      },
      "execution_count": null,
      "outputs": []
    },
    {
      "cell_type": "code",
      "execution_count": 45,
      "metadata": {
        "id": "j0V0X52Jy_an"
      },
      "outputs": [],
      "source": [
        "sns.set(style=\"whitegrid\")\n",
        "fig, axes = plt.subplots(2, 2, figsize=(12, 10))\n",
        "\n",
        "axes[0, 0].plot(fpr_glove, tpr_glove, lw=2, label=f'AUC = {roc_auc_glove:.2f}')\n",
        "axes[0, 0].plot([0, 1], [0, 1], 'k--', lw=2)\n",
        "axes[0, 0].set_xlim([0.0, 1.0])\n",
        "axes[0, 0].set_ylim([0.0, 1.05])\n",
        "axes[0, 0].set_xlabel('False Positive Rate')\n",
        "axes[0, 0].set_ylabel('True Positive Rate')\n",
        "axes[0, 0].set_title('ROC Curve - Glove Model')\n",
        "axes[0, 0].legend(loc='lower right')\n",
        "axes[0, 0].grid(True)\n",
        "\n",
        "axes[0, 1].plot(fpr_fastText, tpr_fastText, lw=2, label=f'AUC = {roc_auc_fastText:.2f}')\n",
        "axes[0, 1].plot([0, 1], [0, 1], 'k--', lw=2)\n",
        "axes[0, 1].set_xlim([0.0, 1.0])\n",
        "axes[0, 1].set_ylim([0.0, 1.05])\n",
        "axes[0, 1].set_xlabel('False Positive Rate')\n",
        "axes[0, 1].set_ylabel('True Positive Rate')\n",
        "axes[0, 1].set_title('ROC Curve - FastText Model')\n",
        "axes[0, 1].legend(loc='lower right')\n",
        "axes[0, 1].grid(True)\n",
        "\n",
        "axes[1, 0].plot(fpr_pubMedBert, tpr_pubMedBert, lw=2, label=f'AUC = {roc_auc_pubMedBert:.2f}')\n",
        "axes[1, 0].plot([0, 1], [0, 1], 'k--', lw=2)\n",
        "axes[1, 0].set_xlim([0.0, 1.0])\n",
        "axes[1, 0].set_ylim([0.0, 1.05])\n",
        "axes[1, 0].set_xlabel('False Positive Rate')\n",
        "axes[1, 0].set_ylabel('True Positive Rate')\n",
        "axes[1, 0].set_title('ROC Curve - PubMedBert Model')\n",
        "axes[1, 0].legend(loc='lower right')\n",
        "axes[1, 0].grid(True)\n",
        "\n",
        "axes[1, 1].plot(fpr_bioBert, tpr_bioBert, lw=2, label=f'AUC = {roc_auc_bioBert:.2f}')\n",
        "axes[1, 1].plot([0, 1], [0, 1], 'k--', lw=2)\n",
        "axes[1, 1].set_xlim([0.0, 1.0])\n",
        "axes[1, 1].set_ylim([0.0, 1.05])\n",
        "axes[1, 1].set_xlabel('False Positive Rate')\n",
        "axes[1, 1].set_ylabel('True Positive Rate')\n",
        "axes[1, 1].set_title('ROC Curve - BioBert Model')\n",
        "axes[1, 1].legend(loc='lower right')\n",
        "axes[1, 1].grid(True)\n",
        "\n",
        "plt.tight_layout()\n",
        "plt.show()"
      ]
    },
    {
      "cell_type": "markdown",
      "metadata": {
        "id": "Ds04CpX82x75"
      },
      "source": [
        "### ROC Curve Interpretation\n",
        "\n",
        "These are ROC (Receiver Operating Characteristic) curves for a multi-class classification task. The closer each curve is to the top-left corner, the better the model is at distinguishing between classes. The diagonal line represents random guessing—so curves well above this line indicate strong classification performance.\n",
        "\n",
        "Both models—GloVe + Bahdanau Attention and PubMedBERT + Bahdanau Attention—show excellent results across all classes. However, PubMedBERT exhibits slightly more consistent and higher AUC scores, indicating a modest performance advantage."
      ]
    },
    {
      "cell_type": "code",
      "execution_count": null,
      "metadata": {
        "colab": {
          "base_uri": "https://localhost:8080/",
          "height": 507
        },
        "id": "UIdG8uscbruq",
        "outputId": "643cd82f-63f4-4163-d3e1-69c5d0d58306"
      },
      "outputs": [
        {
          "output_type": "display_data",
          "data": {
            "text/plain": [
              "<Figure size 2400x800 with 4 Axes>"
            ],
            "image/png": "[encoded data removed]"
          },
          "metadata": {}
        }
      ],
      "source": [
        "class_names_dict = {\n",
        "    0: 'Non-Malaria',\n",
        "    1: 'Malaria'\n",
        "}\n",
        "\n",
        "wrong_df_glove = pd.DataFrame({'predictions': all_preds_glove, 'labels': all_labels_glove})\n",
        "wrong_df_glove['wrong'] = wrong_df_glove['predictions'] != wrong_df_glove['labels']\n",
        "\n",
        "wrong_df_fasttext = pd.DataFrame({'predictions': all_preds_fastText, 'labels': all_labels_fasttext})\n",
        "wrong_df_fasttext['wrong'] = wrong_df_fasttext['predictions'] != wrong_df_fasttext['labels']\n",
        "\n",
        "wrong_df_pubMedBert = pd.DataFrame({'predictions': all_preds_pubMedBert, 'labels': all_labels_pubMedBert})\n",
        "wrong_df_pubMedBert['wrong'] = wrong_df_pubMedBert['predictions'] != wrong_df_pubMedBert['labels']\n",
        "\n",
        "wrong_df_bioBert = pd.DataFrame({'predictions': all_preds_bioBert, 'labels': all_labels_bioBert})\n",
        "wrong_df_bioBert['wrong'] = wrong_df_bioBert['predictions'] != wrong_df_bioBert['labels']\n",
        "\n",
        "# Function to count wrong predictions per class\n",
        "def get_wrong_counts(df):\n",
        "    wrong_class_counts = defaultdict(int)\n",
        "    for _, row in df.iterrows():\n",
        "        if row['wrong']:\n",
        "            wrong_class_counts[row['predictions']] += 1\n",
        "    wrong_class_labels = sorted(wrong_class_counts.keys())\n",
        "    wrong_counts = [wrong_class_counts[label] for label in wrong_class_labels]\n",
        "    return wrong_class_labels, wrong_counts\n",
        "\n",
        "wrong_class_labels_glove, wrong_counts_glove = get_wrong_counts(wrong_df_glove)\n",
        "wrong_class_labels_fasttext, wrong_counts_fasttext = get_wrong_counts(wrong_df_fasttext)\n",
        "wrong_class_labels_pubMedBert, wrong_counts_pubMedBert = get_wrong_counts(wrong_df_pubMedBert)\n",
        "wrong_class_labels_bioBert, wrong_counts_bioBert = get_wrong_counts(wrong_df_bioBert)\n",
        "\n",
        "# Visualization\n",
        "sns.set(style=\"whitegrid\", palette=\"muted\", font_scale=1.1)\n",
        "fig, axes = plt.subplots(1, 4, figsize=(24, 6))\n",
        "\n",
        "# GloVe\n",
        "wrong_colors_glove = sns.color_palette(\"husl\", len(wrong_class_labels_glove))\n",
        "class_names_glove = [class_names_dict[label] for label in wrong_class_labels_glove]\n",
        "axes[0].barh(class_names_glove, wrong_counts_glove, color=wrong_colors_glove)\n",
        "axes[0].set_title('GloVe')\n",
        "\n",
        "# FastText\n",
        "wrong_colors_fasttext = sns.color_palette(\"husl\", len(wrong_class_labels_fasttext))\n",
        "class_names_fasttext = [class_names_dict[label] for label in wrong_class_labels_fasttext]\n",
        "axes[1].barh(class_names_fasttext, wrong_counts_fasttext, color=wrong_colors_fasttext)\n",
        "axes[1].set_title('FastText')\n",
        "\n",
        "# PubMedBERT\n",
        "wrong_colors_pubMedBert = sns.color_palette(\"husl\", len(wrong_class_labels_pubMedBert))\n",
        "class_names_pubMedBert = [class_names_dict[label] for label in wrong_class_labels_pubMedBert]\n",
        "axes[2].barh(class_names_pubMedBert, wrong_counts_pubMedBert, color=wrong_colors_pubMedBert)\n",
        "axes[2].set_title('PubMedBERT')\n",
        "\n",
        "# BioBERT\n",
        "wrong_colors_bioBert = sns.color_palette(\"husl\", len(wrong_class_labels_bioBert))\n",
        "class_names_bioBert = [class_names_dict[label] for label in wrong_class_labels_bioBert]\n",
        "axes[3].barh(class_names_bioBert, wrong_counts_bioBert, color=wrong_colors_bioBert)\n",
        "axes[3].set_title('BioBERT')\n",
        "\n",
        "# Formatting plots\n",
        "for ax, counts, names in zip(axes,\n",
        "                             [wrong_counts_glove, wrong_counts_fasttext, wrong_counts_pubMedBert, wrong_counts_bioBert],\n",
        "                             [class_names_glove, class_names_fasttext, class_names_pubMedBert, class_names_bioBert]):\n",
        "    ax.set_xlabel('Wrong Predictions')\n",
        "    ax.set_ylabel('Class')\n",
        "    for i, count in enumerate(counts):\n",
        "        ax.text(count, i, str(count), ha='left', va='center', fontsize=10)\n",
        "\n",
        "plt.tight_layout()\n",
        "plt.show()"
      ]
    },
    {
      "cell_type": "markdown",
      "metadata": {
        "id": "o2Rp8abuB60-"
      },
      "source": [
        "---\n",
        "\n",
        "**Summary**\n",
        "\n",
        "\n",
        "Using PubMedBert enables to achieve lower misclassification rates in 5 out of 9 disease classes, especially for:\n",
        "\n",
        "Leprosy: 45% fewer wrong predictions\n",
        "\n",
        "Cholera: 64% fewer wrong predictions\n",
        "\n",
        "Leukemia: 75% fewer wrong predictions\n",
        "\n",
        "Using GloVe enables to perform slightly better in Parkinson, Ebola, and Tuberculosis.\n",
        "\n",
        "Tuberculosis remains the most challenging class for both models, especially PubMedBert."
      ]
    },
    {
      "cell_type": "markdown",
      "metadata": {
        "id": "fbX2Bd0kfh1D"
      },
      "source": [
        "\n",
        "---\n",
        "\n",
        "# **Model Performance Comparison**\n",
        "\n",
        "| **Model**                               | **Input Type**        | **Accuracy** | **Balanced Accuracy** | **F1 Score** | **Recall** | **Precision** |\n",
        "|-----------------------------------------|-----------------------|--------------|-----------------------|--------------|------------|---------------|\n",
        "| **GRU**                                 | No embeddings          | 87.74%       | 88.00%                | 87.78%       | 87.74%     | 88.00%        |\n",
        "| **LSTM**                                | No embeddings          | 88.13%       | 88.46%                | 88.36%       | 88.13%     | 88.88%        |\n",
        "| **CNN + GRU**                           | No embeddings          | 86.77%       | 87.09%                | 87.11%       | 86.77%     | 88.35%        |\n",
        "| **CNN + LSTM**                          | No embeddings          | 88.13%       | 88.40%                | 88.36%       | 88.13%     | 89.34%        |\n",
        "| **GRU**                                 | GloVe (300d)           | **92.17%**   | **92.36%**            | **92.15%**   | **92.17%** | **92.21%**    |\n",
        "| **LSTM**                                | GloVe (300d)           | 88.34%       | 88.82%                | 88.41%       | 88.34%     | 89.07%        |\n",
        "| **CNN + GRU**                           | GloVe (300d)           | 89.70%       | 89.86%                | 89.65%       | 89.70%     | 89.74%        |\n",
        "| **CNN + LSTM**                          | GloVe (300d)           | 88.88%       | 89.13%                | 88.97%       | 88.88%     | 89.60%        |\n",
        "| **Bidirectional GRU + Bahdanau Attention** | **PubMedBERT**         | **92.00%**       | **92.28%**            | **92.01%**       | **92.00%**     | **92.06%**        |\n",
        "| **Bidirectional GRU + Bahdanau Attention** | GloVe (300d)           | **90.63%**       | **90.86%**                | **90.64%**       | **90.63%**     | **90.67%**        |\n",
        "\n",
        "---\n",
        "Given the imbalance in the dataset, we are now tackling this issue by implementing techniques such as SMOTE, weighted training, and Borderline-SMOTE. We will evaluate their impact by measuring improvements in model performance and the balance of the data distribution."
      ]
    },
    {
      "cell_type": "markdown",
      "source": [
        "In biomedical text classification, datasets often exhibit significant class imbalances, with certain categories—such as rare diseases or specific biomedical events—being underrepresented compared to others. This imbalance can result in biased model performance, where deep learning models tend to prioritize the majority class, thereby neglecting important but rare information. For example, in a dataset where the number of samples in the 'Non-Malaria' class significantly exceeds those in the 'Malaria' class, the model may struggle to effectively learn and predict the minority class.\n",
        "\n",
        "To address this challenge, we incorporate class weights during the selection phase of our pipeline. This approach helps mitigate the impact of class imbalance by giving more importance to the underrepresented class, ensuring a more balanced and fair model performance."
      ],
      "metadata": {
        "id": "Wd8F1jPkMWER"
      }
    },
    {
      "cell_type": "markdown",
      "source": [
        "---\n",
        "# 5. **Addressing Imbalance**\n",
        "---"
      ],
      "metadata": {
        "id": "HZQpxY3MQnH1"
      }
    },
    {
      "cell_type": "code",
      "source": [
        "print(\"Original class distribution:\")\n",
        "print(Counter(data['Label']))"
      ],
      "metadata": {
        "id": "3mWeMfnYXT7D"
      },
      "execution_count": null,
      "outputs": []
    },
    {
      "cell_type": "code",
      "source": [
        "class_names_dict = {\n",
        "    0: 'Non-Malaria',\n",
        "    1: 'Malaria'\n",
        "}\n",
        "\n",
        "label_counts = Counter(data['Label'])\n",
        "label_counts_named = {class_names_dict.get(k, k): v for k, v in label_counts.items()}\n",
        "label_df = pd.DataFrame.from_dict(label_counts_named, orient='index').reset_index()\n",
        "label_df.columns = ['Label', 'Count']\n",
        "label_df = label_df.sort_values(by='Count', ascending=False)\n",
        "\n",
        "sns.set_style(\"darkgrid\", {\n",
        "    \"grid.color\": \".4\",\n",
        "    \"grid.linestyle\": \"-\",\n",
        "    \"axes.facecolor\": \"#e0f7fa\"\n",
        "})\n",
        "\n",
        "custom_colors = ['#1f77b4', '#ff7f0e']\n",
        "\n",
        "fig, ax = plt.subplots(figsize=(6, 6))\n",
        "wedges, texts, autotexts = ax.pie(label_df['Count'],\n",
        "                                  labels=None,\n",
        "                                  autopct='%1.1f%%',\n",
        "                                  startangle=120,\n",
        "                                  colors=custom_colors,\n",
        "                                  wedgeprops=dict(edgecolor='white'))\n",
        "\n",
        "ax.legend(wedges,\n",
        "          label_df['Label'],\n",
        "          title=\"Classes\",\n",
        "          loc=\"lower left\",\n",
        "          bbox_to_anchor=(0, -0.3),\n",
        "          fontsize=10,\n",
        "          title_fontsize=11)\n",
        "\n",
        "ax.set_title('Class Distribution in Dataset', fontsize=14)\n",
        "ax.axis('equal')  #\n",
        "\n",
        "plt.tight_layout()\n",
        "plt.show()"
      ],
      "metadata": {
        "id": "tJQRXRk_XWMn"
      },
      "execution_count": null,
      "outputs": []
    },
    {
      "cell_type": "code",
      "source": [
        "embedding_matrix_glove = load_glove_embeddings('/content/drive/MyDrive/glove/glove.6B.300d.txt', word_to_index, EMBEDDING_DIM)\n",
        "embedding_matrix_fastText = load_fasttext_embeddings('/content/drive/MyDrive/cc.en.300.vec/cc.en.300.vec', word_to_index, EMBEDDING_DIM)\n",
        "\n",
        "models = {\n",
        "    \"GloVe_GRU_BahdanauAttention\": GloVe_GRU_BahdanauAttention(embedding_matrix=embedding_matrix_glove, hidden_dim=300, num_layers=1, dropout_prob=0.9).to(device),\n",
        "    \"FastText_GRU_BahdanauAttention\": FastText_GRU_BahdanauAttention(embedding_matrix=embedding_matrix_fastText, hidden_dim=350, num_layers=1, dropout_prob=0.8).to(device),\n",
        "    \"PubMedBERT_GRU_Attention\": PubMedBERT_GRU_Attention(BERT_DIM, HIDDEN_DIM, num_layers=1, dropout_prob=DROPOUT).to(device),\n",
        "    \"BioBERT_GRU_Attention\": BioBERT_GRU_Attention(biobert, BERT_DIM, HIDDEN_DIM, dropout_prob=DROPOUT).to(device)\n",
        "}\n",
        "\n",
        "optimizers = {\n",
        "    \"GloVe_GRU_BahdanauAttention\": optim.RMSprop(models[\"GloVe_GRU_BahdanauAttention\"].parameters(), lr=1e-4, weight_decay=1e-10),\n",
        "    \"FastText_GRU_BahdanauAttention\": optim.RMSprop(models[\"FastText_GRU_BahdanauAttention\"].parameters(), lr=1e-3, weight_decay=1e-10),\n",
        "    \"PubMedBERT_GRU_Attention\": optim.AdamW(models[\"PubMedBERT_GRU_Attention\"].parameters(), lr=1e-4, weight_decay=1e-10),\n",
        "    \"BioBERT_GRU_Attention\": optim.RMSprop(models[\"BioBERT_GRU_Attention\"].parameters(), lr=1e-4, weight_decay=1e-10)\n",
        "}"
      ],
      "metadata": {
        "id": "-F0GdXsFXvLE"
      },
      "execution_count": null,
      "outputs": []
    },
    {
      "cell_type": "markdown",
      "source": [
        "---\n",
        "## 5.1 Class Weights"
      ],
      "metadata": {
        "id": "cNOmVxv9XOHb"
      }
    },
    {
      "cell_type": "code",
      "source": [
        "class_weights = compute_class_weight('balanced', classes=np.unique(y_train_tensor.cpu().numpy()), y=y_train_tensor.cpu().numpy())\n",
        "class_weights_tensor = torch.tensor(class_weights, dtype=torch.float).to(device)\n",
        "loss_function = nn.CrossEntropyLoss(weight=class_weights_tensor)"
      ],
      "metadata": {
        "id": "p7CAMEFWX8_I"
      },
      "execution_count": null,
      "outputs": []
    },
    {
      "cell_type": "code",
      "source": [
        "loss_gap_ratio = 1.25\n",
        "ax_accuracy_gap = 5\n",
        "num_epochs = 7\n",
        "BATCH_SIZE = 16\n",
        "model_metrics = {}\n",
        "\n",
        "for model_name, model in models.items():\n",
        "    print(f\"\\nTraining {model_name} model...\\n\")\n",
        "    print(model)\n",
        "    num_params = count_parameters(model)\n",
        "    print(f\"Total trainable parameters: {num_params}\")\n",
        "\n",
        "    reinitialize_weights(model)\n",
        "    optimizer = optimizers[model_name]\n",
        "    scheduler = ReduceLROnPlateau(optimizer, mode='min', factor=0.5, patience=2, verbose=True)\n",
        "\n",
        "    if \"PubMedBERT\" in model_name:\n",
        "        train_dataset = PubMedBERTDataset(X_train.tolist(), y_train, tokenizer)\n",
        "        val_dataset = PubMedBERTDataset(X_val.tolist(), y_val, tokenizer)\n",
        "        test_dataset = PubMedBERTDataset(X_test.tolist(), y_test, tokenizer)\n",
        "    elif \"BioBERT\" in model_name:\n",
        "        train_dataset = BioBERTDataset(X_train.tolist(), y_train, tokenizer_bioBert)\n",
        "        val_dataset = BioBERTDataset(X_val.tolist(), y_val, tokenizer_bioBert)\n",
        "        test_dataset = BioBERTDataset(X_test.tolist(), y_test, tokenizer_bioBert)\n",
        "    else:\n",
        "        train_dataset = TextDataset(X_train_tensor, y_train, raw_text_data=X_train)\n",
        "        val_dataset = TextDataset(X_val_tensor, y_val, raw_text_data=X_val)\n",
        "        test_dataset = TextDataset(X_test_tensor, y_test, raw_text_data=X_test)\n",
        "\n",
        "    train_loader = DataLoader(train_dataset, batch_size=BATCH_SIZE, shuffle=True)\n",
        "    val_loader = DataLoader(val_dataset, batch_size=BATCH_SIZE, shuffle=False)\n",
        "    test_loader = DataLoader(test_dataset, batch_size=BATCH_SIZE, shuffle=False)\n",
        "    combined_dataset = ConcatDataset([train_dataset, val_dataset])\n",
        "    combined_loader = DataLoader(combined_dataset, batch_size=BATCH_SIZE, shuffle=True)\n",
        "\n",
        "    wandb.init(entity='wilfried-mvomoeto-university-of-li-ge',\n",
        "        project='Class_Weight_Binary-Class-Models-Train-Test-Bio-PubMedBERT-Glove-FastText300d-Attention',\n",
        "        name=f\"{model_name}_Training\",\n",
        "        config={\n",
        "            'learning_rate': 9e-5,\n",
        "            'num_epochs': num_epochs,\n",
        "            'num_layers': 1\n",
        "        }\n",
        "    )\n",
        "\n",
        "    train_losses, test_losses = [], []\n",
        "    train_accuracies, test_accuracies = [], []\n",
        "    test_f1s, test_balanced_accs, test_recalls, test_precisions = [], [], [], []\n",
        "\n",
        "    saved_once = False\n",
        "    with tqdm(total=num_epochs, desc=f\"Training {model_name}\", unit=\"epoch\") as pbar:\n",
        "        for epoch in range(num_epochs):\n",
        "            start_time = time.time()\n",
        "\n",
        "            if \"PubMedBERT\" in model_name or \"BioBERT\" in model_name:\n",
        "                train_loss, train_acc = train_model(model, combined_loader, optimizer, loss_function, device)\n",
        "                test_loss, test_acc, test_f1, test_balanced_acc, test_recall, test_precision = test_model(\n",
        "                    model, test_loader, loss_function, device)\n",
        "            else:\n",
        "                train_loss, train_acc = train_epoch_glove(model, combined_loader, optimizer, loss_function, device)\n",
        "                test_loss, test_acc, test_f1, test_balanced_acc, test_recall, test_precision = test_epoch_glove(\n",
        "                    model, test_loader, loss_function, device)\n",
        "\n",
        "            train_losses.append(train_loss)\n",
        "            test_losses.append(test_loss)\n",
        "            train_accuracies.append(train_acc)\n",
        "            test_accuracies.append(test_acc)\n",
        "            test_f1s.append(test_f1)\n",
        "            test_balanced_accs.append(test_balanced_acc)\n",
        "            test_recalls.append(test_recall)\n",
        "            test_precisions.append(test_precision)\n",
        "\n",
        "            wandb.log({\n",
        "                \"train_loss\": train_loss,\n",
        "                \"test_loss\": test_loss,\n",
        "                \"train_acc\": train_acc,\n",
        "                \"test_acc\": test_acc,\n",
        "                \"test_f1\": test_f1,\n",
        "                \"test_balanced_acc\": test_balanced_acc,\n",
        "                \"test_recall\": test_recall,\n",
        "                \"test_precision\": test_precision\n",
        "            })\n",
        "\n",
        "            if (test_loss > train_loss * loss_gap_ratio or train_acc - test_acc > ax_accuracy_gap / 100) and not saved_once:\n",
        "                torch.save(model.state_dict(), f\"{model_name}_early_stop.pth\")\n",
        "                saved_once = True\n",
        "                break\n",
        "\n",
        "            if epoch == num_epochs - 1 and not saved_once:\n",
        "                torch.save(model.state_dict(), f\"{model_name}_final.pth\")\n",
        "\n",
        "            pbar.update(1)\n",
        "\n",
        "        epoch_table = wandb.Table(columns=[\"Epoch\", \"Train Loss\", \"Test Loss\", \"Train Acc\", \"Test Acc\", \"F1\", \"Balanced Acc\", \"Recall\", \"Precision\"])\n",
        "        for epoch in range(len(train_losses)):\n",
        "            epoch_table.add_data(epoch + 1, train_losses[epoch], test_losses[epoch], train_accuracies[epoch],\n",
        "                                 test_accuracies[epoch], test_f1s[epoch], test_balanced_accs[epoch],\n",
        "                                 test_recalls[epoch], test_precisions[epoch])\n",
        "        wandb.log({f\"{model_name}_Metrics_Table\": epoch_table})\n",
        "\n",
        "        model_metrics[model_name] = {\n",
        "            \"train_losses\": train_losses,\n",
        "            \"test_losses\": test_losses,\n",
        "            \"train_accuracies\": train_accuracies,\n",
        "            \"test_accuracies\": test_accuracies,\n",
        "            \"test_f1s\": test_f1s,\n",
        "            \"test_balanced_accs\": test_balanced_accs,\n",
        "            \"test_recalls\": test_recalls,\n",
        "            \"test_precisions\": test_precisions\n",
        "        }"
      ],
      "metadata": {
        "id": "dHZToLT0MHc1"
      },
      "execution_count": null,
      "outputs": []
    },
    {
      "cell_type": "code",
      "source": [],
      "metadata": {
        "id": "oFXfL4euMIgC"
      },
      "execution_count": null,
      "outputs": []
    },
    {
      "cell_type": "code",
      "source": [],
      "metadata": {
        "id": "VvPUWK5bMSgr"
      },
      "execution_count": null,
      "outputs": []
    },
    {
      "cell_type": "code",
      "source": [],
      "metadata": {
        "id": "LRMkv5-_YOvc"
      },
      "execution_count": null,
      "outputs": []
    },
    {
      "cell_type": "markdown",
      "source": [
        "---\n",
        "5.2 **SMOTE**"
      ],
      "metadata": {
        "id": "nZUJLnAIYYJL"
      }
    },
    {
      "cell_type": "code",
      "source": [],
      "metadata": {
        "id": "rGgTrSICYOrr"
      },
      "execution_count": null,
      "outputs": []
    },
    {
      "cell_type": "code",
      "source": [],
      "metadata": {
        "id": "dFa96lqeYPt5"
      },
      "execution_count": null,
      "outputs": []
    }
  ],
  "metadata": {
    "accelerator": "GPU",
    "colab": {
      "gpuType": "T4",
      "provenance": [],
      "toc_visible": true
    },
    "kernelspec": {
      "display_name": "Python 3",
      "name": "python3"
    },
    "language_info": {
      "codemirror_mode": {
        "name": "ipython",
        "version": 3
      },
      "file_extension": ".py",
      "mimetype": "text/x-python",
      "name": "python",
      "nbconvert_exporter": "python",
      "pygments_lexer": "ipython3",
      "version": "3.9.12"
    },
    "widgets": {
      "application/vnd.jupyter.widget-state+json": {
        "4bc3edfa2019494c9366d3be08e0d8ba": {
          "model_module": "@jupyter-widgets/controls",
          "model_name": "HBoxModel",
          "model_module_version": "1.5.0",
          "state": {
            "_dom_classes": [],
            "_model_module": "@jupyter-widgets/controls",
            "_model_module_version": "1.5.0",
            "_model_name": "HBoxModel",
            "_view_count": null,
            "_view_module": "@jupyter-widgets/controls",
            "_view_module_version": "1.5.0",
            "_view_name": "HBoxView",
            "box_style": "",
            "children": [
              "IPY_MODEL_63fe583d19304cac847ea5b556a9c56f",
              "IPY_MODEL_d85cc97855b14d2192bb0affcbf4bd67",
              "IPY_MODEL_21c0d83a1f904f14a889fb3a3f06d516"
            ],
            "layout": "IPY_MODEL_0b43862998044379803db9808f3878a1"
          }
        },
        "63fe583d19304cac847ea5b556a9c56f": {
          "model_module": "@jupyter-widgets/controls",
          "model_name": "HTMLModel",
          "model_module_version": "1.5.0",
          "state": {
            "_dom_classes": [],
            "_model_module": "@jupyter-widgets/controls",
            "_model_module_version": "1.5.0",
            "_model_name": "HTMLModel",
            "_view_count": null,
            "_view_module": "@jupyter-widgets/controls",
            "_view_module_version": "1.5.0",
            "_view_name": "HTMLView",
            "description": "",
            "description_tooltip": null,
            "layout": "IPY_MODEL_2993a43dc4ef42d59f6f4698a6f9afe1",
            "placeholder": "​",
            "style": "IPY_MODEL_d421f4a941fe403e9b934a7f10eba99d",
            "value": "tokenizer_config.json: 100%"
          }
        },
        "d85cc97855b14d2192bb0affcbf4bd67": {
          "model_module": "@jupyter-widgets/controls",
          "model_name": "FloatProgressModel",
          "model_module_version": "1.5.0",
          "state": {
            "_dom_classes": [],
            "_model_module": "@jupyter-widgets/controls",
            "_model_module_version": "1.5.0",
            "_model_name": "FloatProgressModel",
            "_view_count": null,
            "_view_module": "@jupyter-widgets/controls",
            "_view_module_version": "1.5.0",
            "_view_name": "ProgressView",
            "bar_style": "success",
            "description": "",
            "description_tooltip": null,
            "layout": "IPY_MODEL_449979f3b8754d62880d93f343d9fab6",
            "max": 28,
            "min": 0,
            "orientation": "horizontal",
            "style": "IPY_MODEL_c0c5810fcece4b28a600214cc960d60d",
            "value": 28
          }
        },
        "21c0d83a1f904f14a889fb3a3f06d516": {
          "model_module": "@jupyter-widgets/controls",
          "model_name": "HTMLModel",
          "model_module_version": "1.5.0",
          "state": {
            "_dom_classes": [],
            "_model_module": "@jupyter-widgets/controls",
            "_model_module_version": "1.5.0",
            "_model_name": "HTMLModel",
            "_view_count": null,
            "_view_module": "@jupyter-widgets/controls",
            "_view_module_version": "1.5.0",
            "_view_name": "HTMLView",
            "description": "",
            "description_tooltip": null,
            "layout": "IPY_MODEL_6e04cd85d1e24a898dcb4b04cdafb6db",
            "placeholder": "​",
            "style": "IPY_MODEL_75c33a107e4f43ecbbcbb9e0c0433e71",
            "value": " 28.0/28.0 [00:00&lt;00:00, 839B/s]"
          }
        },
        "0b43862998044379803db9808f3878a1": {
          "model_module": "@jupyter-widgets/base",
          "model_name": "LayoutModel",
          "model_module_version": "1.2.0",
          "state": {
            "_model_module": "@jupyter-widgets/base",
            "_model_module_version": "1.2.0",
            "_model_name": "LayoutModel",
            "_view_count": null,
            "_view_module": "@jupyter-widgets/base",
            "_view_module_version": "1.2.0",
            "_view_name": "LayoutView",
            "align_content": null,
            "align_items": null,
            "align_self": null,
            "border": null,
            "bottom": null,
            "display": null,
            "flex": null,
            "flex_flow": null,
            "grid_area": null,
            "grid_auto_columns": null,
            "grid_auto_flow": null,
            "grid_auto_rows": null,
            "grid_column": null,
            "grid_gap": null,
            "grid_row": null,
            "grid_template_areas": null,
            "grid_template_columns": null,
            "grid_template_rows": null,
            "height": null,
            "justify_content": null,
            "justify_items": null,
            "left": null,
            "margin": null,
            "max_height": null,
            "max_width": null,
            "min_height": null,
            "min_width": null,
            "object_fit": null,
            "object_position": null,
            "order": null,
            "overflow": null,
            "overflow_x": null,
            "overflow_y": null,
            "padding": null,
            "right": null,
            "top": null,
            "visibility": null,
            "width": null
          }
        },
        "2993a43dc4ef42d59f6f4698a6f9afe1": {
          "model_module": "@jupyter-widgets/base",
          "model_name": "LayoutModel",
          "model_module_version": "1.2.0",
          "state": {
            "_model_module": "@jupyter-widgets/base",
            "_model_module_version": "1.2.0",
            "_model_name": "LayoutModel",
            "_view_count": null,
            "_view_module": "@jupyter-widgets/base",
            "_view_module_version": "1.2.0",
            "_view_name": "LayoutView",
            "align_content": null,
            "align_items": null,
            "align_self": null,
            "border": null,
            "bottom": null,
            "display": null,
            "flex": null,
            "flex_flow": null,
            "grid_area": null,
            "grid_auto_columns": null,
            "grid_auto_flow": null,
            "grid_auto_rows": null,
            "grid_column": null,
            "grid_gap": null,
            "grid_row": null,
            "grid_template_areas": null,
            "grid_template_columns": null,
            "grid_template_rows": null,
            "height": null,
            "justify_content": null,
            "justify_items": null,
            "left": null,
            "margin": null,
            "max_height": null,
            "max_width": null,
            "min_height": null,
            "min_width": null,
            "object_fit": null,
            "object_position": null,
            "order": null,
            "overflow": null,
            "overflow_x": null,
            "overflow_y": null,
            "padding": null,
            "right": null,
            "top": null,
            "visibility": null,
            "width": null
          }
        },
        "d421f4a941fe403e9b934a7f10eba99d": {
          "model_module": "@jupyter-widgets/controls",
          "model_name": "DescriptionStyleModel",
          "model_module_version": "1.5.0",
          "state": {
            "_model_module": "@jupyter-widgets/controls",
            "_model_module_version": "1.5.0",
            "_model_name": "DescriptionStyleModel",
            "_view_count": null,
            "_view_module": "@jupyter-widgets/base",
            "_view_module_version": "1.2.0",
            "_view_name": "StyleView",
            "description_width": ""
          }
        },
        "449979f3b8754d62880d93f343d9fab6": {
          "model_module": "@jupyter-widgets/base",
          "model_name": "LayoutModel",
          "model_module_version": "1.2.0",
          "state": {
            "_model_module": "@jupyter-widgets/base",
            "_model_module_version": "1.2.0",
            "_model_name": "LayoutModel",
            "_view_count": null,
            "_view_module": "@jupyter-widgets/base",
            "_view_module_version": "1.2.0",
            "_view_name": "LayoutView",
            "align_content": null,
            "align_items": null,
            "align_self": null,
            "border": null,
            "bottom": null,
            "display": null,
            "flex": null,
            "flex_flow": null,
            "grid_area": null,
            "grid_auto_columns": null,
            "grid_auto_flow": null,
            "grid_auto_rows": null,
            "grid_column": null,
            "grid_gap": null,
            "grid_row": null,
            "grid_template_areas": null,
            "grid_template_columns": null,
            "grid_template_rows": null,
            "height": null,
            "justify_content": null,
            "justify_items": null,
            "left": null,
            "margin": null,
            "max_height": null,
            "max_width": null,
            "min_height": null,
            "min_width": null,
            "object_fit": null,
            "object_position": null,
            "order": null,
            "overflow": null,
            "overflow_x": null,
            "overflow_y": null,
            "padding": null,
            "right": null,
            "top": null,
            "visibility": null,
            "width": null
          }
        },
        "c0c5810fcece4b28a600214cc960d60d": {
          "model_module": "@jupyter-widgets/controls",
          "model_name": "ProgressStyleModel",
          "model_module_version": "1.5.0",
          "state": {
            "_model_module": "@jupyter-widgets/controls",
            "_model_module_version": "1.5.0",
            "_model_name": "ProgressStyleModel",
            "_view_count": null,
            "_view_module": "@jupyter-widgets/base",
            "_view_module_version": "1.2.0",
            "_view_name": "StyleView",
            "bar_color": null,
            "description_width": ""
          }
        },
        "6e04cd85d1e24a898dcb4b04cdafb6db": {
          "model_module": "@jupyter-widgets/base",
          "model_name": "LayoutModel",
          "model_module_version": "1.2.0",
          "state": {
            "_model_module": "@jupyter-widgets/base",
            "_model_module_version": "1.2.0",
            "_model_name": "LayoutModel",
            "_view_count": null,
            "_view_module": "@jupyter-widgets/base",
            "_view_module_version": "1.2.0",
            "_view_name": "LayoutView",
            "align_content": null,
            "align_items": null,
            "align_self": null,
            "border": null,
            "bottom": null,
            "display": null,
            "flex": null,
            "flex_flow": null,
            "grid_area": null,
            "grid_auto_columns": null,
            "grid_auto_flow": null,
            "grid_auto_rows": null,
            "grid_column": null,
            "grid_gap": null,
            "grid_row": null,
            "grid_template_areas": null,
            "grid_template_columns": null,
            "grid_template_rows": null,
            "height": null,
            "justify_content": null,
            "justify_items": null,
            "left": null,
            "margin": null,
            "max_height": null,
            "max_width": null,
            "min_height": null,
            "min_width": null,
            "object_fit": null,
            "object_position": null,
            "order": null,
            "overflow": null,
            "overflow_x": null,
            "overflow_y": null,
            "padding": null,
            "right": null,
            "top": null,
            "visibility": null,
            "width": null
          }
        },
        "75c33a107e4f43ecbbcbb9e0c0433e71": {
          "model_module": "@jupyter-widgets/controls",
          "model_name": "DescriptionStyleModel",
          "model_module_version": "1.5.0",
          "state": {
            "_model_module": "@jupyter-widgets/controls",
            "_model_module_version": "1.5.0",
            "_model_name": "DescriptionStyleModel",
            "_view_count": null,
            "_view_module": "@jupyter-widgets/base",
            "_view_module_version": "1.2.0",
            "_view_name": "StyleView",
            "description_width": ""
          }
        },
        "cdb3588ffd954dd0ae370d1a52a8b286": {
          "model_module": "@jupyter-widgets/controls",
          "model_name": "HBoxModel",
          "model_module_version": "1.5.0",
          "state": {
            "_dom_classes": [],
            "_model_module": "@jupyter-widgets/controls",
            "_model_module_version": "1.5.0",
            "_model_name": "HBoxModel",
            "_view_count": null,
            "_view_module": "@jupyter-widgets/controls",
            "_view_module_version": "1.5.0",
            "_view_name": "HBoxView",
            "box_style": "",
            "children": [
              "IPY_MODEL_c8e893ebcd604a86b085b67893abb5bb",
              "IPY_MODEL_e4b8efacd03e4ec0b9bcd0b6dc5dea20",
              "IPY_MODEL_d362d0b8d8824850a24685ecf75555b6"
            ],
            "layout": "IPY_MODEL_e08b9d2cd7874e1a931d7c575a267041"
          }
        },
        "c8e893ebcd604a86b085b67893abb5bb": {
          "model_module": "@jupyter-widgets/controls",
          "model_name": "HTMLModel",
          "model_module_version": "1.5.0",
          "state": {
            "_dom_classes": [],
            "_model_module": "@jupyter-widgets/controls",
            "_model_module_version": "1.5.0",
            "_model_name": "HTMLModel",
            "_view_count": null,
            "_view_module": "@jupyter-widgets/controls",
            "_view_module_version": "1.5.0",
            "_view_name": "HTMLView",
            "description": "",
            "description_tooltip": null,
            "layout": "IPY_MODEL_01a32a40a0d24589af8a1d0a02d3e991",
            "placeholder": "​",
            "style": "IPY_MODEL_83401f64b1e040eabca87a01c6b288f9",
            "value": "config.json: 100%"
          }
        },
        "e4b8efacd03e4ec0b9bcd0b6dc5dea20": {
          "model_module": "@jupyter-widgets/controls",
          "model_name": "FloatProgressModel",
          "model_module_version": "1.5.0",
          "state": {
            "_dom_classes": [],
            "_model_module": "@jupyter-widgets/controls",
            "_model_module_version": "1.5.0",
            "_model_name": "FloatProgressModel",
            "_view_count": null,
            "_view_module": "@jupyter-widgets/controls",
            "_view_module_version": "1.5.0",
            "_view_name": "ProgressView",
            "bar_style": "success",
            "description": "",
            "description_tooltip": null,
            "layout": "IPY_MODEL_47295111c36442e0bc018521c887bfd4",
            "max": 385,
            "min": 0,
            "orientation": "horizontal",
            "style": "IPY_MODEL_d762ca92c1064caa974031a5182bdb08",
            "value": 385
          }
        },
        "d362d0b8d8824850a24685ecf75555b6": {
          "model_module": "@jupyter-widgets/controls",
          "model_name": "HTMLModel",
          "model_module_version": "1.5.0",
          "state": {
            "_dom_classes": [],
            "_model_module": "@jupyter-widgets/controls",
            "_model_module_version": "1.5.0",
            "_model_name": "HTMLModel",
            "_view_count": null,
            "_view_module": "@jupyter-widgets/controls",
            "_view_module_version": "1.5.0",
            "_view_name": "HTMLView",
            "description": "",
            "description_tooltip": null,
            "layout": "IPY_MODEL_596aa0aee0524ca99e3b4c1bc8cb87cf",
            "placeholder": "​",
            "style": "IPY_MODEL_918ef78764a5430683de6d8e6322997d",
            "value": " 385/385 [00:00&lt;00:00, 10.6kB/s]"
          }
        },
        "e08b9d2cd7874e1a931d7c575a267041": {
          "model_module": "@jupyter-widgets/base",
          "model_name": "LayoutModel",
          "model_module_version": "1.2.0",
          "state": {
            "_model_module": "@jupyter-widgets/base",
            "_model_module_version": "1.2.0",
            "_model_name": "LayoutModel",
            "_view_count": null,
            "_view_module": "@jupyter-widgets/base",
            "_view_module_version": "1.2.0",
            "_view_name": "LayoutView",
            "align_content": null,
            "align_items": null,
            "align_self": null,
            "border": null,
            "bottom": null,
            "display": null,
            "flex": null,
            "flex_flow": null,
            "grid_area": null,
            "grid_auto_columns": null,
            "grid_auto_flow": null,
            "grid_auto_rows": null,
            "grid_column": null,
            "grid_gap": null,
            "grid_row": null,
            "grid_template_areas": null,
            "grid_template_columns": null,
            "grid_template_rows": null,
            "height": null,
            "justify_content": null,
            "justify_items": null,
            "left": null,
            "margin": null,
            "max_height": null,
            "max_width": null,
            "min_height": null,
            "min_width": null,
            "object_fit": null,
            "object_position": null,
            "order": null,
            "overflow": null,
            "overflow_x": null,
            "overflow_y": null,
            "padding": null,
            "right": null,
            "top": null,
            "visibility": null,
            "width": null
          }
        },
        "01a32a40a0d24589af8a1d0a02d3e991": {
          "model_module": "@jupyter-widgets/base",
          "model_name": "LayoutModel",
          "model_module_version": "1.2.0",
          "state": {
            "_model_module": "@jupyter-widgets/base",
            "_model_module_version": "1.2.0",
            "_model_name": "LayoutModel",
            "_view_count": null,
            "_view_module": "@jupyter-widgets/base",
            "_view_module_version": "1.2.0",
            "_view_name": "LayoutView",
            "align_content": null,
            "align_items": null,
            "align_self": null,
            "border": null,
            "bottom": null,
            "display": null,
            "flex": null,
            "flex_flow": null,
            "grid_area": null,
            "grid_auto_columns": null,
            "grid_auto_flow": null,
            "grid_auto_rows": null,
            "grid_column": null,
            "grid_gap": null,
            "grid_row": null,
            "grid_template_areas": null,
            "grid_template_columns": null,
            "grid_template_rows": null,
            "height": null,
            "justify_content": null,
            "justify_items": null,
            "left": null,
            "margin": null,
            "max_height": null,
            "max_width": null,
            "min_height": null,
            "min_width": null,
            "object_fit": null,
            "object_position": null,
            "order": null,
            "overflow": null,
            "overflow_x": null,
            "overflow_y": null,
            "padding": null,
            "right": null,
            "top": null,
            "visibility": null,
            "width": null
          }
        },
        "83401f64b1e040eabca87a01c6b288f9": {
          "model_module": "@jupyter-widgets/controls",
          "model_name": "DescriptionStyleModel",
          "model_module_version": "1.5.0",
          "state": {
            "_model_module": "@jupyter-widgets/controls",
            "_model_module_version": "1.5.0",
            "_model_name": "DescriptionStyleModel",
            "_view_count": null,
            "_view_module": "@jupyter-widgets/base",
            "_view_module_version": "1.2.0",
            "_view_name": "StyleView",
            "description_width": ""
          }
        },
        "47295111c36442e0bc018521c887bfd4": {
          "model_module": "@jupyter-widgets/base",
          "model_name": "LayoutModel",
          "model_module_version": "1.2.0",
          "state": {
            "_model_module": "@jupyter-widgets/base",
            "_model_module_version": "1.2.0",
            "_model_name": "LayoutModel",
            "_view_count": null,
            "_view_module": "@jupyter-widgets/base",
            "_view_module_version": "1.2.0",
            "_view_name": "LayoutView",
            "align_content": null,
            "align_items": null,
            "align_self": null,
            "border": null,
            "bottom": null,
            "display": null,
            "flex": null,
            "flex_flow": null,
            "grid_area": null,
            "grid_auto_columns": null,
            "grid_auto_flow": null,
            "grid_auto_rows": null,
            "grid_column": null,
            "grid_gap": null,
            "grid_row": null,
            "grid_template_areas": null,
            "grid_template_columns": null,
            "grid_template_rows": null,
            "height": null,
            "justify_content": null,
            "justify_items": null,
            "left": null,
            "margin": null,
            "max_height": null,
            "max_width": null,
            "min_height": null,
            "min_width": null,
            "object_fit": null,
            "object_position": null,
            "order": null,
            "overflow": null,
            "overflow_x": null,
            "overflow_y": null,
            "padding": null,
            "right": null,
            "top": null,
            "visibility": null,
            "width": null
          }
        },
        "d762ca92c1064caa974031a5182bdb08": {
          "model_module": "@jupyter-widgets/controls",
          "model_name": "ProgressStyleModel",
          "model_module_version": "1.5.0",
          "state": {
            "_model_module": "@jupyter-widgets/controls",
            "_model_module_version": "1.5.0",
            "_model_name": "ProgressStyleModel",
            "_view_count": null,
            "_view_module": "@jupyter-widgets/base",
            "_view_module_version": "1.2.0",
            "_view_name": "StyleView",
            "bar_color": null,
            "description_width": ""
          }
        },
        "596aa0aee0524ca99e3b4c1bc8cb87cf": {
          "model_module": "@jupyter-widgets/base",
          "model_name": "LayoutModel",
          "model_module_version": "1.2.0",
          "state": {
            "_model_module": "@jupyter-widgets/base",
            "_model_module_version": "1.2.0",
            "_model_name": "LayoutModel",
            "_view_count": null,
            "_view_module": "@jupyter-widgets/base",
            "_view_module_version": "1.2.0",
            "_view_name": "LayoutView",
            "align_content": null,
            "align_items": null,
            "align_self": null,
            "border": null,
            "bottom": null,
            "display": null,
            "flex": null,
            "flex_flow": null,
            "grid_area": null,
            "grid_auto_columns": null,
            "grid_auto_flow": null,
            "grid_auto_rows": null,
            "grid_column": null,
            "grid_gap": null,
            "grid_row": null,
            "grid_template_areas": null,
            "grid_template_columns": null,
            "grid_template_rows": null,
            "height": null,
            "justify_content": null,
            "justify_items": null,
            "left": null,
            "margin": null,
            "max_height": null,
            "max_width": null,
            "min_height": null,
            "min_width": null,
            "object_fit": null,
            "object_position": null,
            "order": null,
            "overflow": null,
            "overflow_x": null,
            "overflow_y": null,
            "padding": null,
            "right": null,
            "top": null,
            "visibility": null,
            "width": null
          }
        },
        "918ef78764a5430683de6d8e6322997d": {
          "model_module": "@jupyter-widgets/controls",
          "model_name": "DescriptionStyleModel",
          "model_module_version": "1.5.0",
          "state": {
            "_model_module": "@jupyter-widgets/controls",
            "_model_module_version": "1.5.0",
            "_model_name": "DescriptionStyleModel",
            "_view_count": null,
            "_view_module": "@jupyter-widgets/base",
            "_view_module_version": "1.2.0",
            "_view_name": "StyleView",
            "description_width": ""
          }
        },
        "d32ab610b82b496a905c0b58b9ffb673": {
          "model_module": "@jupyter-widgets/controls",
          "model_name": "HBoxModel",
          "model_module_version": "1.5.0",
          "state": {
            "_dom_classes": [],
            "_model_module": "@jupyter-widgets/controls",
            "_model_module_version": "1.5.0",
            "_model_name": "HBoxModel",
            "_view_count": null,
            "_view_module": "@jupyter-widgets/controls",
            "_view_module_version": "1.5.0",
            "_view_name": "HBoxView",
            "box_style": "",
            "children": [
              "IPY_MODEL_1199b43a76b242308abebeb57fa9b2af",
              "IPY_MODEL_0857451aef6b4f66b021994c52625e69",
              "IPY_MODEL_3cbc6f48e36d4622adfc0dd0ecbe491f"
            ],
            "layout": "IPY_MODEL_318f0e0e33024e729cc56d939b84ad8f"
          }
        },
        "1199b43a76b242308abebeb57fa9b2af": {
          "model_module": "@jupyter-widgets/controls",
          "model_name": "HTMLModel",
          "model_module_version": "1.5.0",
          "state": {
            "_dom_classes": [],
            "_model_module": "@jupyter-widgets/controls",
            "_model_module_version": "1.5.0",
            "_model_name": "HTMLModel",
            "_view_count": null,
            "_view_module": "@jupyter-widgets/controls",
            "_view_module_version": "1.5.0",
            "_view_name": "HTMLView",
            "description": "",
            "description_tooltip": null,
            "layout": "IPY_MODEL_f423e304b2964326af242b0cc8fed4fd",
            "placeholder": "​",
            "style": "IPY_MODEL_e1c983da546f43e0879b337cd7c8915b",
            "value": "vocab.txt: 100%"
          }
        },
        "0857451aef6b4f66b021994c52625e69": {
          "model_module": "@jupyter-widgets/controls",
          "model_name": "FloatProgressModel",
          "model_module_version": "1.5.0",
          "state": {
            "_dom_classes": [],
            "_model_module": "@jupyter-widgets/controls",
            "_model_module_version": "1.5.0",
            "_model_name": "FloatProgressModel",
            "_view_count": null,
            "_view_module": "@jupyter-widgets/controls",
            "_view_module_version": "1.5.0",
            "_view_name": "ProgressView",
            "bar_style": "success",
            "description": "",
            "description_tooltip": null,
            "layout": "IPY_MODEL_4c367b701d264250b523c19d0bce8c6b",
            "max": 226150,
            "min": 0,
            "orientation": "horizontal",
            "style": "IPY_MODEL_c679814d3f72461fac50fb1fb428a28c",
            "value": 226150
          }
        },
        "3cbc6f48e36d4622adfc0dd0ecbe491f": {
          "model_module": "@jupyter-widgets/controls",
          "model_name": "HTMLModel",
          "model_module_version": "1.5.0",
          "state": {
            "_dom_classes": [],
            "_model_module": "@jupyter-widgets/controls",
            "_model_module_version": "1.5.0",
            "_model_name": "HTMLModel",
            "_view_count": null,
            "_view_module": "@jupyter-widgets/controls",
            "_view_module_version": "1.5.0",
            "_view_name": "HTMLView",
            "description": "",
            "description_tooltip": null,
            "layout": "IPY_MODEL_9dffacdc9ee74fa49f218cfb4434642b",
            "placeholder": "​",
            "style": "IPY_MODEL_adee0723a49345948ce3d31a6dd8e6ec",
            "value": " 226k/226k [00:00&lt;00:00, 3.75MB/s]"
          }
        },
        "318f0e0e33024e729cc56d939b84ad8f": {
          "model_module": "@jupyter-widgets/base",
          "model_name": "LayoutModel",
          "model_module_version": "1.2.0",
          "state": {
            "_model_module": "@jupyter-widgets/base",
            "_model_module_version": "1.2.0",
            "_model_name": "LayoutModel",
            "_view_count": null,
            "_view_module": "@jupyter-widgets/base",
            "_view_module_version": "1.2.0",
            "_view_name": "LayoutView",
            "align_content": null,
            "align_items": null,
            "align_self": null,
            "border": null,
            "bottom": null,
            "display": null,
            "flex": null,
            "flex_flow": null,
            "grid_area": null,
            "grid_auto_columns": null,
            "grid_auto_flow": null,
            "grid_auto_rows": null,
            "grid_column": null,
            "grid_gap": null,
            "grid_row": null,
            "grid_template_areas": null,
            "grid_template_columns": null,
            "grid_template_rows": null,
            "height": null,
            "justify_content": null,
            "justify_items": null,
            "left": null,
            "margin": null,
            "max_height": null,
            "max_width": null,
            "min_height": null,
            "min_width": null,
            "object_fit": null,
            "object_position": null,
            "order": null,
            "overflow": null,
            "overflow_x": null,
            "overflow_y": null,
            "padding": null,
            "right": null,
            "top": null,
            "visibility": null,
            "width": null
          }
        },
        "f423e304b2964326af242b0cc8fed4fd": {
          "model_module": "@jupyter-widgets/base",
          "model_name": "LayoutModel",
          "model_module_version": "1.2.0",
          "state": {
            "_model_module": "@jupyter-widgets/base",
            "_model_module_version": "1.2.0",
            "_model_name": "LayoutModel",
            "_view_count": null,
            "_view_module": "@jupyter-widgets/base",
            "_view_module_version": "1.2.0",
            "_view_name": "LayoutView",
            "align_content": null,
            "align_items": null,
            "align_self": null,
            "border": null,
            "bottom": null,
            "display": null,
            "flex": null,
            "flex_flow": null,
            "grid_area": null,
            "grid_auto_columns": null,
            "grid_auto_flow": null,
            "grid_auto_rows": null,
            "grid_column": null,
            "grid_gap": null,
            "grid_row": null,
            "grid_template_areas": null,
            "grid_template_columns": null,
            "grid_template_rows": null,
            "height": null,
            "justify_content": null,
            "justify_items": null,
            "left": null,
            "margin": null,
            "max_height": null,
            "max_width": null,
            "min_height": null,
            "min_width": null,
            "object_fit": null,
            "object_position": null,
            "order": null,
            "overflow": null,
            "overflow_x": null,
            "overflow_y": null,
            "padding": null,
            "right": null,
            "top": null,
            "visibility": null,
            "width": null
          }
        },
        "e1c983da546f43e0879b337cd7c8915b": {
          "model_module": "@jupyter-widgets/controls",
          "model_name": "DescriptionStyleModel",
          "model_module_version": "1.5.0",
          "state": {
            "_model_module": "@jupyter-widgets/controls",
            "_model_module_version": "1.5.0",
            "_model_name": "DescriptionStyleModel",
            "_view_count": null,
            "_view_module": "@jupyter-widgets/base",
            "_view_module_version": "1.2.0",
            "_view_name": "StyleView",
            "description_width": ""
          }
        },
        "4c367b701d264250b523c19d0bce8c6b": {
          "model_module": "@jupyter-widgets/base",
          "model_name": "LayoutModel",
          "model_module_version": "1.2.0",
          "state": {
            "_model_module": "@jupyter-widgets/base",
            "_model_module_version": "1.2.0",
            "_model_name": "LayoutModel",
            "_view_count": null,
            "_view_module": "@jupyter-widgets/base",
            "_view_module_version": "1.2.0",
            "_view_name": "LayoutView",
            "align_content": null,
            "align_items": null,
            "align_self": null,
            "border": null,
            "bottom": null,
            "display": null,
            "flex": null,
            "flex_flow": null,
            "grid_area": null,
            "grid_auto_columns": null,
            "grid_auto_flow": null,
            "grid_auto_rows": null,
            "grid_column": null,
            "grid_gap": null,
            "grid_row": null,
            "grid_template_areas": null,
            "grid_template_columns": null,
            "grid_template_rows": null,
            "height": null,
            "justify_content": null,
            "justify_items": null,
            "left": null,
            "margin": null,
            "max_height": null,
            "max_width": null,
            "min_height": null,
            "min_width": null,
            "object_fit": null,
            "object_position": null,
            "order": null,
            "overflow": null,
            "overflow_x": null,
            "overflow_y": null,
            "padding": null,
            "right": null,
            "top": null,
            "visibility": null,
            "width": null
          }
        },
        "c679814d3f72461fac50fb1fb428a28c": {
          "model_module": "@jupyter-widgets/controls",
          "model_name": "ProgressStyleModel",
          "model_module_version": "1.5.0",
          "state": {
            "_model_module": "@jupyter-widgets/controls",
            "_model_module_version": "1.5.0",
            "_model_name": "ProgressStyleModel",
            "_view_count": null,
            "_view_module": "@jupyter-widgets/base",
            "_view_module_version": "1.2.0",
            "_view_name": "StyleView",
            "bar_color": null,
            "description_width": ""
          }
        },
        "9dffacdc9ee74fa49f218cfb4434642b": {
          "model_module": "@jupyter-widgets/base",
          "model_name": "LayoutModel",
          "model_module_version": "1.2.0",
          "state": {
            "_model_module": "@jupyter-widgets/base",
            "_model_module_version": "1.2.0",
            "_model_name": "LayoutModel",
            "_view_count": null,
            "_view_module": "@jupyter-widgets/base",
            "_view_module_version": "1.2.0",
            "_view_name": "LayoutView",
            "align_content": null,
            "align_items": null,
            "align_self": null,
            "border": null,
            "bottom": null,
            "display": null,
            "flex": null,
            "flex_flow": null,
            "grid_area": null,
            "grid_auto_columns": null,
            "grid_auto_flow": null,
            "grid_auto_rows": null,
            "grid_column": null,
            "grid_gap": null,
            "grid_row": null,
            "grid_template_areas": null,
            "grid_template_columns": null,
            "grid_template_rows": null,
            "height": null,
            "justify_content": null,
            "justify_items": null,
            "left": null,
            "margin": null,
            "max_height": null,
            "max_width": null,
            "min_height": null,
            "min_width": null,
            "object_fit": null,
            "object_position": null,
            "order": null,
            "overflow": null,
            "overflow_x": null,
            "overflow_y": null,
            "padding": null,
            "right": null,
            "top": null,
            "visibility": null,
            "width": null
          }
        },
        "adee0723a49345948ce3d31a6dd8e6ec": {
          "model_module": "@jupyter-widgets/controls",
          "model_name": "DescriptionStyleModel",
          "model_module_version": "1.5.0",
          "state": {
            "_model_module": "@jupyter-widgets/controls",
            "_model_module_version": "1.5.0",
            "_model_name": "DescriptionStyleModel",
            "_view_count": null,
            "_view_module": "@jupyter-widgets/base",
            "_view_module_version": "1.2.0",
            "_view_name": "StyleView",
            "description_width": ""
          }
        },
        "956d0bfa279a4218892fe594ba17f742": {
          "model_module": "@jupyter-widgets/controls",
          "model_name": "HBoxModel",
          "model_module_version": "1.5.0",
          "state": {
            "_dom_classes": [],
            "_model_module": "@jupyter-widgets/controls",
            "_model_module_version": "1.5.0",
            "_model_name": "HBoxModel",
            "_view_count": null,
            "_view_module": "@jupyter-widgets/controls",
            "_view_module_version": "1.5.0",
            "_view_name": "HBoxView",
            "box_style": "",
            "children": [
              "IPY_MODEL_b25435d51f474c2281880ca7530cf126",
              "IPY_MODEL_b7b72667dd504204b4a610435a493cb0",
              "IPY_MODEL_e61684c489d4487cba09e6182d01eea9"
            ],
            "layout": "IPY_MODEL_f3459e3fbda54f4f990c8d0b17e11c87"
          }
        },
        "b25435d51f474c2281880ca7530cf126": {
          "model_module": "@jupyter-widgets/controls",
          "model_name": "HTMLModel",
          "model_module_version": "1.5.0",
          "state": {
            "_dom_classes": [],
            "_model_module": "@jupyter-widgets/controls",
            "_model_module_version": "1.5.0",
            "_model_name": "HTMLModel",
            "_view_count": null,
            "_view_module": "@jupyter-widgets/controls",
            "_view_module_version": "1.5.0",
            "_view_name": "HTMLView",
            "description": "",
            "description_tooltip": null,
            "layout": "IPY_MODEL_cd53078fe2cc4110a83b38b97c589ce0",
            "placeholder": "​",
            "style": "IPY_MODEL_420715405d824e92941fab17ec018ad4",
            "value": "pytorch_model.bin: 100%"
          }
        },
        "b7b72667dd504204b4a610435a493cb0": {
          "model_module": "@jupyter-widgets/controls",
          "model_name": "FloatProgressModel",
          "model_module_version": "1.5.0",
          "state": {
            "_dom_classes": [],
            "_model_module": "@jupyter-widgets/controls",
            "_model_module_version": "1.5.0",
            "_model_name": "FloatProgressModel",
            "_view_count": null,
            "_view_module": "@jupyter-widgets/controls",
            "_view_module_version": "1.5.0",
            "_view_name": "ProgressView",
            "bar_style": "success",
            "description": "",
            "description_tooltip": null,
            "layout": "IPY_MODEL_b1b2fee0f00f468f98c88abcf9a59bc0",
            "max": 440474434,
            "min": 0,
            "orientation": "horizontal",
            "style": "IPY_MODEL_d24330430eb9423a9c3bf1ea260953eb",
            "value": 440474434
          }
        },
        "e61684c489d4487cba09e6182d01eea9": {
          "model_module": "@jupyter-widgets/controls",
          "model_name": "HTMLModel",
          "model_module_version": "1.5.0",
          "state": {
            "_dom_classes": [],
            "_model_module": "@jupyter-widgets/controls",
            "_model_module_version": "1.5.0",
            "_model_name": "HTMLModel",
            "_view_count": null,
            "_view_module": "@jupyter-widgets/controls",
            "_view_module_version": "1.5.0",
            "_view_name": "HTMLView",
            "description": "",
            "description_tooltip": null,
            "layout": "IPY_MODEL_a57ffd4a9c8743e09c53c3d3b60ed4bd",
            "placeholder": "​",
            "style": "IPY_MODEL_405c09faa46c49e8b746d556ec2b21b4",
            "value": " 440M/440M [00:02&lt;00:00, 190MB/s]"
          }
        },
        "f3459e3fbda54f4f990c8d0b17e11c87": {
          "model_module": "@jupyter-widgets/base",
          "model_name": "LayoutModel",
          "model_module_version": "1.2.0",
          "state": {
            "_model_module": "@jupyter-widgets/base",
            "_model_module_version": "1.2.0",
            "_model_name": "LayoutModel",
            "_view_count": null,
            "_view_module": "@jupyter-widgets/base",
            "_view_module_version": "1.2.0",
            "_view_name": "LayoutView",
            "align_content": null,
            "align_items": null,
            "align_self": null,
            "border": null,
            "bottom": null,
            "display": null,
            "flex": null,
            "flex_flow": null,
            "grid_area": null,
            "grid_auto_columns": null,
            "grid_auto_flow": null,
            "grid_auto_rows": null,
            "grid_column": null,
            "grid_gap": null,
            "grid_row": null,
            "grid_template_areas": null,
            "grid_template_columns": null,
            "grid_template_rows": null,
            "height": null,
            "justify_content": null,
            "justify_items": null,
            "left": null,
            "margin": null,
            "max_height": null,
            "max_width": null,
            "min_height": null,
            "min_width": null,
            "object_fit": null,
            "object_position": null,
            "order": null,
            "overflow": null,
            "overflow_x": null,
            "overflow_y": null,
            "padding": null,
            "right": null,
            "top": null,
            "visibility": null,
            "width": null
          }
        },
        "cd53078fe2cc4110a83b38b97c589ce0": {
          "model_module": "@jupyter-widgets/base",
          "model_name": "LayoutModel",
          "model_module_version": "1.2.0",
          "state": {
            "_model_module": "@jupyter-widgets/base",
            "_model_module_version": "1.2.0",
            "_model_name": "LayoutModel",
            "_view_count": null,
            "_view_module": "@jupyter-widgets/base",
            "_view_module_version": "1.2.0",
            "_view_name": "LayoutView",
            "align_content": null,
            "align_items": null,
            "align_self": null,
            "border": null,
            "bottom": null,
            "display": null,
            "flex": null,
            "flex_flow": null,
            "grid_area": null,
            "grid_auto_columns": null,
            "grid_auto_flow": null,
            "grid_auto_rows": null,
            "grid_column": null,
            "grid_gap": null,
            "grid_row": null,
            "grid_template_areas": null,
            "grid_template_columns": null,
            "grid_template_rows": null,
            "height": null,
            "justify_content": null,
            "justify_items": null,
            "left": null,
            "margin": null,
            "max_height": null,
            "max_width": null,
            "min_height": null,
            "min_width": null,
            "object_fit": null,
            "object_position": null,
            "order": null,
            "overflow": null,
            "overflow_x": null,
            "overflow_y": null,
            "padding": null,
            "right": null,
            "top": null,
            "visibility": null,
            "width": null
          }
        },
        "420715405d824e92941fab17ec018ad4": {
          "model_module": "@jupyter-widgets/controls",
          "model_name": "DescriptionStyleModel",
          "model_module_version": "1.5.0",
          "state": {
            "_model_module": "@jupyter-widgets/controls",
            "_model_module_version": "1.5.0",
            "_model_name": "DescriptionStyleModel",
            "_view_count": null,
            "_view_module": "@jupyter-widgets/base",
            "_view_module_version": "1.2.0",
            "_view_name": "StyleView",
            "description_width": ""
          }
        },
        "b1b2fee0f00f468f98c88abcf9a59bc0": {
          "model_module": "@jupyter-widgets/base",
          "model_name": "LayoutModel",
          "model_module_version": "1.2.0",
          "state": {
            "_model_module": "@jupyter-widgets/base",
            "_model_module_version": "1.2.0",
            "_model_name": "LayoutModel",
            "_view_count": null,
            "_view_module": "@jupyter-widgets/base",
            "_view_module_version": "1.2.0",
            "_view_name": "LayoutView",
            "align_content": null,
            "align_items": null,
            "align_self": null,
            "border": null,
            "bottom": null,
            "display": null,
            "flex": null,
            "flex_flow": null,
            "grid_area": null,
            "grid_auto_columns": null,
            "grid_auto_flow": null,
            "grid_auto_rows": null,
            "grid_column": null,
            "grid_gap": null,
            "grid_row": null,
            "grid_template_areas": null,
            "grid_template_columns": null,
            "grid_template_rows": null,
            "height": null,
            "justify_content": null,
            "justify_items": null,
            "left": null,
            "margin": null,
            "max_height": null,
            "max_width": null,
            "min_height": null,
            "min_width": null,
            "object_fit": null,
            "object_position": null,
            "order": null,
            "overflow": null,
            "overflow_x": null,
            "overflow_y": null,
            "padding": null,
            "right": null,
            "top": null,
            "visibility": null,
            "width": null
          }
        },
        "d24330430eb9423a9c3bf1ea260953eb": {
          "model_module": "@jupyter-widgets/controls",
          "model_name": "ProgressStyleModel",
          "model_module_version": "1.5.0",
          "state": {
            "_model_module": "@jupyter-widgets/controls",
            "_model_module_version": "1.5.0",
            "_model_name": "ProgressStyleModel",
            "_view_count": null,
            "_view_module": "@jupyter-widgets/base",
            "_view_module_version": "1.2.0",
            "_view_name": "StyleView",
            "bar_color": null,
            "description_width": ""
          }
        },
        "a57ffd4a9c8743e09c53c3d3b60ed4bd": {
          "model_module": "@jupyter-widgets/base",
          "model_name": "LayoutModel",
          "model_module_version": "1.2.0",
          "state": {
            "_model_module": "@jupyter-widgets/base",
            "_model_module_version": "1.2.0",
            "_model_name": "LayoutModel",
            "_view_count": null,
            "_view_module": "@jupyter-widgets/base",
            "_view_module_version": "1.2.0",
            "_view_name": "LayoutView",
            "align_content": null,
            "align_items": null,
            "align_self": null,
            "border": null,
            "bottom": null,
            "display": null,
            "flex": null,
            "flex_flow": null,
            "grid_area": null,
            "grid_auto_columns": null,
            "grid_auto_flow": null,
            "grid_auto_rows": null,
            "grid_column": null,
            "grid_gap": null,
            "grid_row": null,
            "grid_template_areas": null,
            "grid_template_columns": null,
            "grid_template_rows": null,
            "height": null,
            "justify_content": null,
            "justify_items": null,
            "left": null,
            "margin": null,
            "max_height": null,
            "max_width": null,
            "min_height": null,
            "min_width": null,
            "object_fit": null,
            "object_position": null,
            "order": null,
            "overflow": null,
            "overflow_x": null,
            "overflow_y": null,
            "padding": null,
            "right": null,
            "top": null,
            "visibility": null,
            "width": null
          }
        },
        "405c09faa46c49e8b746d556ec2b21b4": {
          "model_module": "@jupyter-widgets/controls",
          "model_name": "DescriptionStyleModel",
          "model_module_version": "1.5.0",
          "state": {
            "_model_module": "@jupyter-widgets/controls",
            "_model_module_version": "1.5.0",
            "_model_name": "DescriptionStyleModel",
            "_view_count": null,
            "_view_module": "@jupyter-widgets/base",
            "_view_module_version": "1.2.0",
            "_view_name": "StyleView",
            "description_width": ""
          }
        },
        "33544f45affd4e0ea46b17527bffb138": {
          "model_module": "@jupyter-widgets/controls",
          "model_name": "HBoxModel",
          "model_module_version": "1.5.0",
          "state": {
            "_dom_classes": [],
            "_model_module": "@jupyter-widgets/controls",
            "_model_module_version": "1.5.0",
            "_model_name": "HBoxModel",
            "_view_count": null,
            "_view_module": "@jupyter-widgets/controls",
            "_view_module_version": "1.5.0",
            "_view_name": "HBoxView",
            "box_style": "",
            "children": [
              "IPY_MODEL_4834086695424b99b1f71aafa5f074ba",
              "IPY_MODEL_e3931dddfe0d4e42acfa1d8ed546fcef",
              "IPY_MODEL_ee9f9a0fa1314a428593c055360fd658"
            ],
            "layout": "IPY_MODEL_088c569a6b9942ed928c1d251dc0caf1"
          }
        },
        "4834086695424b99b1f71aafa5f074ba": {
          "model_module": "@jupyter-widgets/controls",
          "model_name": "HTMLModel",
          "model_module_version": "1.5.0",
          "state": {
            "_dom_classes": [],
            "_model_module": "@jupyter-widgets/controls",
            "_model_module_version": "1.5.0",
            "_model_name": "HTMLModel",
            "_view_count": null,
            "_view_module": "@jupyter-widgets/controls",
            "_view_module_version": "1.5.0",
            "_view_name": "HTMLView",
            "description": "",
            "description_tooltip": null,
            "layout": "IPY_MODEL_5ad862502de7404fa5daed74815ad19f",
            "placeholder": "​",
            "style": "IPY_MODEL_db5e3ac16aa349bda78b1066617c23bd",
            "value": "config.json: 100%"
          }
        },
        "e3931dddfe0d4e42acfa1d8ed546fcef": {
          "model_module": "@jupyter-widgets/controls",
          "model_name": "FloatProgressModel",
          "model_module_version": "1.5.0",
          "state": {
            "_dom_classes": [],
            "_model_module": "@jupyter-widgets/controls",
            "_model_module_version": "1.5.0",
            "_model_name": "FloatProgressModel",
            "_view_count": null,
            "_view_module": "@jupyter-widgets/controls",
            "_view_module_version": "1.5.0",
            "_view_name": "ProgressView",
            "bar_style": "success",
            "description": "",
            "description_tooltip": null,
            "layout": "IPY_MODEL_74b94c0ec87146f18cee029228e4108f",
            "max": 313,
            "min": 0,
            "orientation": "horizontal",
            "style": "IPY_MODEL_cb9a53b1ef3a4a7f997e2cbaead8ebb1",
            "value": 313
          }
        },
        "ee9f9a0fa1314a428593c055360fd658": {
          "model_module": "@jupyter-widgets/controls",
          "model_name": "HTMLModel",
          "model_module_version": "1.5.0",
          "state": {
            "_dom_classes": [],
            "_model_module": "@jupyter-widgets/controls",
            "_model_module_version": "1.5.0",
            "_model_name": "HTMLModel",
            "_view_count": null,
            "_view_module": "@jupyter-widgets/controls",
            "_view_module_version": "1.5.0",
            "_view_name": "HTMLView",
            "description": "",
            "description_tooltip": null,
            "layout": "IPY_MODEL_bbb046d9af0d4b92bc5e0af985bdd559",
            "placeholder": "​",
            "style": "IPY_MODEL_2ca77469ad464f32badf3f4678bc083b",
            "value": " 313/313 [00:00&lt;00:00, 9.52kB/s]"
          }
        },
        "088c569a6b9942ed928c1d251dc0caf1": {
          "model_module": "@jupyter-widgets/base",
          "model_name": "LayoutModel",
          "model_module_version": "1.2.0",
          "state": {
            "_model_module": "@jupyter-widgets/base",
            "_model_module_version": "1.2.0",
            "_model_name": "LayoutModel",
            "_view_count": null,
            "_view_module": "@jupyter-widgets/base",
            "_view_module_version": "1.2.0",
            "_view_name": "LayoutView",
            "align_content": null,
            "align_items": null,
            "align_self": null,
            "border": null,
            "bottom": null,
            "display": null,
            "flex": null,
            "flex_flow": null,
            "grid_area": null,
            "grid_auto_columns": null,
            "grid_auto_flow": null,
            "grid_auto_rows": null,
            "grid_column": null,
            "grid_gap": null,
            "grid_row": null,
            "grid_template_areas": null,
            "grid_template_columns": null,
            "grid_template_rows": null,
            "height": null,
            "justify_content": null,
            "justify_items": null,
            "left": null,
            "margin": null,
            "max_height": null,
            "max_width": null,
            "min_height": null,
            "min_width": null,
            "object_fit": null,
            "object_position": null,
            "order": null,
            "overflow": null,
            "overflow_x": null,
            "overflow_y": null,
            "padding": null,
            "right": null,
            "top": null,
            "visibility": null,
            "width": null
          }
        },
        "5ad862502de7404fa5daed74815ad19f": {
          "model_module": "@jupyter-widgets/base",
          "model_name": "LayoutModel",
          "model_module_version": "1.2.0",
          "state": {
            "_model_module": "@jupyter-widgets/base",
            "_model_module_version": "1.2.0",
            "_model_name": "LayoutModel",
            "_view_count": null,
            "_view_module": "@jupyter-widgets/base",
            "_view_module_version": "1.2.0",
            "_view_name": "LayoutView",
            "align_content": null,
            "align_items": null,
            "align_self": null,
            "border": null,
            "bottom": null,
            "display": null,
            "flex": null,
            "flex_flow": null,
            "grid_area": null,
            "grid_auto_columns": null,
            "grid_auto_flow": null,
            "grid_auto_rows": null,
            "grid_column": null,
            "grid_gap": null,
            "grid_row": null,
            "grid_template_areas": null,
            "grid_template_columns": null,
            "grid_template_rows": null,
            "height": null,
            "justify_content": null,
            "justify_items": null,
            "left": null,
            "margin": null,
            "max_height": null,
            "max_width": null,
            "min_height": null,
            "min_width": null,
            "object_fit": null,
            "object_position": null,
            "order": null,
            "overflow": null,
            "overflow_x": null,
            "overflow_y": null,
            "padding": null,
            "right": null,
            "top": null,
            "visibility": null,
            "width": null
          }
        },
        "db5e3ac16aa349bda78b1066617c23bd": {
          "model_module": "@jupyter-widgets/controls",
          "model_name": "DescriptionStyleModel",
          "model_module_version": "1.5.0",
          "state": {
            "_model_module": "@jupyter-widgets/controls",
            "_model_module_version": "1.5.0",
            "_model_name": "DescriptionStyleModel",
            "_view_count": null,
            "_view_module": "@jupyter-widgets/base",
            "_view_module_version": "1.2.0",
            "_view_name": "StyleView",
            "description_width": ""
          }
        },
        "74b94c0ec87146f18cee029228e4108f": {
          "model_module": "@jupyter-widgets/base",
          "model_name": "LayoutModel",
          "model_module_version": "1.2.0",
          "state": {
            "_model_module": "@jupyter-widgets/base",
            "_model_module_version": "1.2.0",
            "_model_name": "LayoutModel",
            "_view_count": null,
            "_view_module": "@jupyter-widgets/base",
            "_view_module_version": "1.2.0",
            "_view_name": "LayoutView",
            "align_content": null,
            "align_items": null,
            "align_self": null,
            "border": null,
            "bottom": null,
            "display": null,
            "flex": null,
            "flex_flow": null,
            "grid_area": null,
            "grid_auto_columns": null,
            "grid_auto_flow": null,
            "grid_auto_rows": null,
            "grid_column": null,
            "grid_gap": null,
            "grid_row": null,
            "grid_template_areas": null,
            "grid_template_columns": null,
            "grid_template_rows": null,
            "height": null,
            "justify_content": null,
            "justify_items": null,
            "left": null,
            "margin": null,
            "max_height": null,
            "max_width": null,
            "min_height": null,
            "min_width": null,
            "object_fit": null,
            "object_position": null,
            "order": null,
            "overflow": null,
            "overflow_x": null,
            "overflow_y": null,
            "padding": null,
            "right": null,
            "top": null,
            "visibility": null,
            "width": null
          }
        },
        "cb9a53b1ef3a4a7f997e2cbaead8ebb1": {
          "model_module": "@jupyter-widgets/controls",
          "model_name": "ProgressStyleModel",
          "model_module_version": "1.5.0",
          "state": {
            "_model_module": "@jupyter-widgets/controls",
            "_model_module_version": "1.5.0",
            "_model_name": "ProgressStyleModel",
            "_view_count": null,
            "_view_module": "@jupyter-widgets/base",
            "_view_module_version": "1.2.0",
            "_view_name": "StyleView",
            "bar_color": null,
            "description_width": ""
          }
        },
        "bbb046d9af0d4b92bc5e0af985bdd559": {
          "model_module": "@jupyter-widgets/base",
          "model_name": "LayoutModel",
          "model_module_version": "1.2.0",
          "state": {
            "_model_module": "@jupyter-widgets/base",
            "_model_module_version": "1.2.0",
            "_model_name": "LayoutModel",
            "_view_count": null,
            "_view_module": "@jupyter-widgets/base",
            "_view_module_version": "1.2.0",
            "_view_name": "LayoutView",
            "align_content": null,
            "align_items": null,
            "align_self": null,
            "border": null,
            "bottom": null,
            "display": null,
            "flex": null,
            "flex_flow": null,
            "grid_area": null,
            "grid_auto_columns": null,
            "grid_auto_flow": null,
            "grid_auto_rows": null,
            "grid_column": null,
            "grid_gap": null,
            "grid_row": null,
            "grid_template_areas": null,
            "grid_template_columns": null,
            "grid_template_rows": null,
            "height": null,
            "justify_content": null,
            "justify_items": null,
            "left": null,
            "margin": null,
            "max_height": null,
            "max_width": null,
            "min_height": null,
            "min_width": null,
            "object_fit": null,
            "object_position": null,
            "order": null,
            "overflow": null,
            "overflow_x": null,
            "overflow_y": null,
            "padding": null,
            "right": null,
            "top": null,
            "visibility": null,
            "width": null
          }
        },
        "2ca77469ad464f32badf3f4678bc083b": {
          "model_module": "@jupyter-widgets/controls",
          "model_name": "DescriptionStyleModel",
          "model_module_version": "1.5.0",
          "state": {
            "_model_module": "@jupyter-widgets/controls",
            "_model_module_version": "1.5.0",
            "_model_name": "DescriptionStyleModel",
            "_view_count": null,
            "_view_module": "@jupyter-widgets/base",
            "_view_module_version": "1.2.0",
            "_view_name": "StyleView",
            "description_width": ""
          }
        },
        "a242019b8e3740b7ad3d5e9b78036985": {
          "model_module": "@jupyter-widgets/controls",
          "model_name": "HBoxModel",
          "model_module_version": "1.5.0",
          "state": {
            "_dom_classes": [],
            "_model_module": "@jupyter-widgets/controls",
            "_model_module_version": "1.5.0",
            "_model_name": "HBoxModel",
            "_view_count": null,
            "_view_module": "@jupyter-widgets/controls",
            "_view_module_version": "1.5.0",
            "_view_name": "HBoxView",
            "box_style": "",
            "children": [
              "IPY_MODEL_6e11329e139d44f58244c098a23396f8",
              "IPY_MODEL_f36ad4fda9fa4495813e45fb7eff0ab2",
              "IPY_MODEL_94aa6b02342845e4ae7e2fe68cef558f"
            ],
            "layout": "IPY_MODEL_55c2e7df775d4ae38624867fe1d73968"
          }
        },
        "6e11329e139d44f58244c098a23396f8": {
          "model_module": "@jupyter-widgets/controls",
          "model_name": "HTMLModel",
          "model_module_version": "1.5.0",
          "state": {
            "_dom_classes": [],
            "_model_module": "@jupyter-widgets/controls",
            "_model_module_version": "1.5.0",
            "_model_name": "HTMLModel",
            "_view_count": null,
            "_view_module": "@jupyter-widgets/controls",
            "_view_module_version": "1.5.0",
            "_view_name": "HTMLView",
            "description": "",
            "description_tooltip": null,
            "layout": "IPY_MODEL_686f36a0209d4c51980f2c68788ea160",
            "placeholder": "​",
            "style": "IPY_MODEL_2eabca08a3804853b84c317e05509c2c",
            "value": "vocab.txt: 100%"
          }
        },
        "f36ad4fda9fa4495813e45fb7eff0ab2": {
          "model_module": "@jupyter-widgets/controls",
          "model_name": "FloatProgressModel",
          "model_module_version": "1.5.0",
          "state": {
            "_dom_classes": [],
            "_model_module": "@jupyter-widgets/controls",
            "_model_module_version": "1.5.0",
            "_model_name": "FloatProgressModel",
            "_view_count": null,
            "_view_module": "@jupyter-widgets/controls",
            "_view_module_version": "1.5.0",
            "_view_name": "ProgressView",
            "bar_style": "success",
            "description": "",
            "description_tooltip": null,
            "layout": "IPY_MODEL_9f7f3d65fadd42baa8bb584dabc0d48a",
            "max": 213450,
            "min": 0,
            "orientation": "horizontal",
            "style": "IPY_MODEL_f26f2ff60ac849dcb028c802ed7187c5",
            "value": 213450
          }
        },
        "94aa6b02342845e4ae7e2fe68cef558f": {
          "model_module": "@jupyter-widgets/controls",
          "model_name": "HTMLModel",
          "model_module_version": "1.5.0",
          "state": {
            "_dom_classes": [],
            "_model_module": "@jupyter-widgets/controls",
            "_model_module_version": "1.5.0",
            "_model_name": "HTMLModel",
            "_view_count": null,
            "_view_module": "@jupyter-widgets/controls",
            "_view_module_version": "1.5.0",
            "_view_name": "HTMLView",
            "description": "",
            "description_tooltip": null,
            "layout": "IPY_MODEL_3e2bb80337754619b58e1ccf206e6f7d",
            "placeholder": "​",
            "style": "IPY_MODEL_c93aa4d197444c5fa22c540dce504702",
            "value": " 213k/213k [00:00&lt;00:00, 2.19MB/s]"
          }
        },
        "55c2e7df775d4ae38624867fe1d73968": {
          "model_module": "@jupyter-widgets/base",
          "model_name": "LayoutModel",
          "model_module_version": "1.2.0",
          "state": {
            "_model_module": "@jupyter-widgets/base",
            "_model_module_version": "1.2.0",
            "_model_name": "LayoutModel",
            "_view_count": null,
            "_view_module": "@jupyter-widgets/base",
            "_view_module_version": "1.2.0",
            "_view_name": "LayoutView",
            "align_content": null,
            "align_items": null,
            "align_self": null,
            "border": null,
            "bottom": null,
            "display": null,
            "flex": null,
            "flex_flow": null,
            "grid_area": null,
            "grid_auto_columns": null,
            "grid_auto_flow": null,
            "grid_auto_rows": null,
            "grid_column": null,
            "grid_gap": null,
            "grid_row": null,
            "grid_template_areas": null,
            "grid_template_columns": null,
            "grid_template_rows": null,
            "height": null,
            "justify_content": null,
            "justify_items": null,
            "left": null,
            "margin": null,
            "max_height": null,
            "max_width": null,
            "min_height": null,
            "min_width": null,
            "object_fit": null,
            "object_position": null,
            "order": null,
            "overflow": null,
            "overflow_x": null,
            "overflow_y": null,
            "padding": null,
            "right": null,
            "top": null,
            "visibility": null,
            "width": null
          }
        },
        "686f36a0209d4c51980f2c68788ea160": {
          "model_module": "@jupyter-widgets/base",
          "model_name": "LayoutModel",
          "model_module_version": "1.2.0",
          "state": {
            "_model_module": "@jupyter-widgets/base",
            "_model_module_version": "1.2.0",
            "_model_name": "LayoutModel",
            "_view_count": null,
            "_view_module": "@jupyter-widgets/base",
            "_view_module_version": "1.2.0",
            "_view_name": "LayoutView",
            "align_content": null,
            "align_items": null,
            "align_self": null,
            "border": null,
            "bottom": null,
            "display": null,
            "flex": null,
            "flex_flow": null,
            "grid_area": null,
            "grid_auto_columns": null,
            "grid_auto_flow": null,
            "grid_auto_rows": null,
            "grid_column": null,
            "grid_gap": null,
            "grid_row": null,
            "grid_template_areas": null,
            "grid_template_columns": null,
            "grid_template_rows": null,
            "height": null,
            "justify_content": null,
            "justify_items": null,
            "left": null,
            "margin": null,
            "max_height": null,
            "max_width": null,
            "min_height": null,
            "min_width": null,
            "object_fit": null,
            "object_position": null,
            "order": null,
            "overflow": null,
            "overflow_x": null,
            "overflow_y": null,
            "padding": null,
            "right": null,
            "top": null,
            "visibility": null,
            "width": null
          }
        },
        "2eabca08a3804853b84c317e05509c2c": {
          "model_module": "@jupyter-widgets/controls",
          "model_name": "DescriptionStyleModel",
          "model_module_version": "1.5.0",
          "state": {
            "_model_module": "@jupyter-widgets/controls",
            "_model_module_version": "1.5.0",
            "_model_name": "DescriptionStyleModel",
            "_view_count": null,
            "_view_module": "@jupyter-widgets/base",
            "_view_module_version": "1.2.0",
            "_view_name": "StyleView",
            "description_width": ""
          }
        },
        "9f7f3d65fadd42baa8bb584dabc0d48a": {
          "model_module": "@jupyter-widgets/base",
          "model_name": "LayoutModel",
          "model_module_version": "1.2.0",
          "state": {
            "_model_module": "@jupyter-widgets/base",
            "_model_module_version": "1.2.0",
            "_model_name": "LayoutModel",
            "_view_count": null,
            "_view_module": "@jupyter-widgets/base",
            "_view_module_version": "1.2.0",
            "_view_name": "LayoutView",
            "align_content": null,
            "align_items": null,
            "align_self": null,
            "border": null,
            "bottom": null,
            "display": null,
            "flex": null,
            "flex_flow": null,
            "grid_area": null,
            "grid_auto_columns": null,
            "grid_auto_flow": null,
            "grid_auto_rows": null,
            "grid_column": null,
            "grid_gap": null,
            "grid_row": null,
            "grid_template_areas": null,
            "grid_template_columns": null,
            "grid_template_rows": null,
            "height": null,
            "justify_content": null,
            "justify_items": null,
            "left": null,
            "margin": null,
            "max_height": null,
            "max_width": null,
            "min_height": null,
            "min_width": null,
            "object_fit": null,
            "object_position": null,
            "order": null,
            "overflow": null,
            "overflow_x": null,
            "overflow_y": null,
            "padding": null,
            "right": null,
            "top": null,
            "visibility": null,
            "width": null
          }
        },
        "f26f2ff60ac849dcb028c802ed7187c5": {
          "model_module": "@jupyter-widgets/controls",
          "model_name": "ProgressStyleModel",
          "model_module_version": "1.5.0",
          "state": {
            "_model_module": "@jupyter-widgets/controls",
            "_model_module_version": "1.5.0",
            "_model_name": "ProgressStyleModel",
            "_view_count": null,
            "_view_module": "@jupyter-widgets/base",
            "_view_module_version": "1.2.0",
            "_view_name": "StyleView",
            "bar_color": null,
            "description_width": ""
          }
        },
        "3e2bb80337754619b58e1ccf206e6f7d": {
          "model_module": "@jupyter-widgets/base",
          "model_name": "LayoutModel",
          "model_module_version": "1.2.0",
          "state": {
            "_model_module": "@jupyter-widgets/base",
            "_model_module_version": "1.2.0",
            "_model_name": "LayoutModel",
            "_view_count": null,
            "_view_module": "@jupyter-widgets/base",
            "_view_module_version": "1.2.0",
            "_view_name": "LayoutView",
            "align_content": null,
            "align_items": null,
            "align_self": null,
            "border": null,
            "bottom": null,
            "display": null,
            "flex": null,
            "flex_flow": null,
            "grid_area": null,
            "grid_auto_columns": null,
            "grid_auto_flow": null,
            "grid_auto_rows": null,
            "grid_column": null,
            "grid_gap": null,
            "grid_row": null,
            "grid_template_areas": null,
            "grid_template_columns": null,
            "grid_template_rows": null,
            "height": null,
            "justify_content": null,
            "justify_items": null,
            "left": null,
            "margin": null,
            "max_height": null,
            "max_width": null,
            "min_height": null,
            "min_width": null,
            "object_fit": null,
            "object_position": null,
            "order": null,
            "overflow": null,
            "overflow_x": null,
            "overflow_y": null,
            "padding": null,
            "right": null,
            "top": null,
            "visibility": null,
            "width": null
          }
        },
        "c93aa4d197444c5fa22c540dce504702": {
          "model_module": "@jupyter-widgets/controls",
          "model_name": "DescriptionStyleModel",
          "model_module_version": "1.5.0",
          "state": {
            "_model_module": "@jupyter-widgets/controls",
            "_model_module_version": "1.5.0",
            "_model_name": "DescriptionStyleModel",
            "_view_count": null,
            "_view_module": "@jupyter-widgets/base",
            "_view_module_version": "1.2.0",
            "_view_name": "StyleView",
            "description_width": ""
          }
        },
        "a73147e5c9034085bd1745646360f41d": {
          "model_module": "@jupyter-widgets/controls",
          "model_name": "HBoxModel",
          "model_module_version": "1.5.0",
          "state": {
            "_dom_classes": [],
            "_model_module": "@jupyter-widgets/controls",
            "_model_module_version": "1.5.0",
            "_model_name": "HBoxModel",
            "_view_count": null,
            "_view_module": "@jupyter-widgets/controls",
            "_view_module_version": "1.5.0",
            "_view_name": "HBoxView",
            "box_style": "",
            "children": [
              "IPY_MODEL_bfa964cb77b14133bdc273f34383710c",
              "IPY_MODEL_b9fb8a9b806b45eabb25c12245271b0a",
              "IPY_MODEL_b4f5a15f794f48f9806825296f5d4a4a"
            ],
            "layout": "IPY_MODEL_f6fe04e74a1c4985a19a5a353603ca4c"
          }
        },
        "bfa964cb77b14133bdc273f34383710c": {
          "model_module": "@jupyter-widgets/controls",
          "model_name": "HTMLModel",
          "model_module_version": "1.5.0",
          "state": {
            "_dom_classes": [],
            "_model_module": "@jupyter-widgets/controls",
            "_model_module_version": "1.5.0",
            "_model_name": "HTMLModel",
            "_view_count": null,
            "_view_module": "@jupyter-widgets/controls",
            "_view_module_version": "1.5.0",
            "_view_name": "HTMLView",
            "description": "",
            "description_tooltip": null,
            "layout": "IPY_MODEL_41df7ab00cb24ddd8f48f83ad797ff9d",
            "placeholder": "​",
            "style": "IPY_MODEL_fd1681259c59484095bcea0995c801f8",
            "value": "pytorch_model.bin: 100%"
          }
        },
        "b9fb8a9b806b45eabb25c12245271b0a": {
          "model_module": "@jupyter-widgets/controls",
          "model_name": "FloatProgressModel",
          "model_module_version": "1.5.0",
          "state": {
            "_dom_classes": [],
            "_model_module": "@jupyter-widgets/controls",
            "_model_module_version": "1.5.0",
            "_model_name": "FloatProgressModel",
            "_view_count": null,
            "_view_module": "@jupyter-widgets/controls",
            "_view_module_version": "1.5.0",
            "_view_name": "ProgressView",
            "bar_style": "success",
            "description": "",
            "description_tooltip": null,
            "layout": "IPY_MODEL_152ed48c8e80420c927c3545eae13ac5",
            "max": 435780550,
            "min": 0,
            "orientation": "horizontal",
            "style": "IPY_MODEL_508812ef08b949899aa1283019a5c91d",
            "value": 435780550
          }
        },
        "b4f5a15f794f48f9806825296f5d4a4a": {
          "model_module": "@jupyter-widgets/controls",
          "model_name": "HTMLModel",
          "model_module_version": "1.5.0",
          "state": {
            "_dom_classes": [],
            "_model_module": "@jupyter-widgets/controls",
            "_model_module_version": "1.5.0",
            "_model_name": "HTMLModel",
            "_view_count": null,
            "_view_module": "@jupyter-widgets/controls",
            "_view_module_version": "1.5.0",
            "_view_name": "HTMLView",
            "description": "",
            "description_tooltip": null,
            "layout": "IPY_MODEL_64cc6c41b20043eb8d152e11b8e19e08",
            "placeholder": "​",
            "style": "IPY_MODEL_0e7d0a56f54049ca96cf27b6de318730",
            "value": " 436M/436M [00:02&lt;00:00, 162MB/s]"
          }
        },
        "f6fe04e74a1c4985a19a5a353603ca4c": {
          "model_module": "@jupyter-widgets/base",
          "model_name": "LayoutModel",
          "model_module_version": "1.2.0",
          "state": {
            "_model_module": "@jupyter-widgets/base",
            "_model_module_version": "1.2.0",
            "_model_name": "LayoutModel",
            "_view_count": null,
            "_view_module": "@jupyter-widgets/base",
            "_view_module_version": "1.2.0",
            "_view_name": "LayoutView",
            "align_content": null,
            "align_items": null,
            "align_self": null,
            "border": null,
            "bottom": null,
            "display": null,
            "flex": null,
            "flex_flow": null,
            "grid_area": null,
            "grid_auto_columns": null,
            "grid_auto_flow": null,
            "grid_auto_rows": null,
            "grid_column": null,
            "grid_gap": null,
            "grid_row": null,
            "grid_template_areas": null,
            "grid_template_columns": null,
            "grid_template_rows": null,
            "height": null,
            "justify_content": null,
            "justify_items": null,
            "left": null,
            "margin": null,
            "max_height": null,
            "max_width": null,
            "min_height": null,
            "min_width": null,
            "object_fit": null,
            "object_position": null,
            "order": null,
            "overflow": null,
            "overflow_x": null,
            "overflow_y": null,
            "padding": null,
            "right": null,
            "top": null,
            "visibility": null,
            "width": null
          }
        },
        "41df7ab00cb24ddd8f48f83ad797ff9d": {
          "model_module": "@jupyter-widgets/base",
          "model_name": "LayoutModel",
          "model_module_version": "1.2.0",
          "state": {
            "_model_module": "@jupyter-widgets/base",
            "_model_module_version": "1.2.0",
            "_model_name": "LayoutModel",
            "_view_count": null,
            "_view_module": "@jupyter-widgets/base",
            "_view_module_version": "1.2.0",
            "_view_name": "LayoutView",
            "align_content": null,
            "align_items": null,
            "align_self": null,
            "border": null,
            "bottom": null,
            "display": null,
            "flex": null,
            "flex_flow": null,
            "grid_area": null,
            "grid_auto_columns": null,
            "grid_auto_flow": null,
            "grid_auto_rows": null,
            "grid_column": null,
            "grid_gap": null,
            "grid_row": null,
            "grid_template_areas": null,
            "grid_template_columns": null,
            "grid_template_rows": null,
            "height": null,
            "justify_content": null,
            "justify_items": null,
            "left": null,
            "margin": null,
            "max_height": null,
            "max_width": null,
            "min_height": null,
            "min_width": null,
            "object_fit": null,
            "object_position": null,
            "order": null,
            "overflow": null,
            "overflow_x": null,
            "overflow_y": null,
            "padding": null,
            "right": null,
            "top": null,
            "visibility": null,
            "width": null
          }
        },
        "fd1681259c59484095bcea0995c801f8": {
          "model_module": "@jupyter-widgets/controls",
          "model_name": "DescriptionStyleModel",
          "model_module_version": "1.5.0",
          "state": {
            "_model_module": "@jupyter-widgets/controls",
            "_model_module_version": "1.5.0",
            "_model_name": "DescriptionStyleModel",
            "_view_count": null,
            "_view_module": "@jupyter-widgets/base",
            "_view_module_version": "1.2.0",
            "_view_name": "StyleView",
            "description_width": ""
          }
        },
        "152ed48c8e80420c927c3545eae13ac5": {
          "model_module": "@jupyter-widgets/base",
          "model_name": "LayoutModel",
          "model_module_version": "1.2.0",
          "state": {
            "_model_module": "@jupyter-widgets/base",
            "_model_module_version": "1.2.0",
            "_model_name": "LayoutModel",
            "_view_count": null,
            "_view_module": "@jupyter-widgets/base",
            "_view_module_version": "1.2.0",
            "_view_name": "LayoutView",
            "align_content": null,
            "align_items": null,
            "align_self": null,
            "border": null,
            "bottom": null,
            "display": null,
            "flex": null,
            "flex_flow": null,
            "grid_area": null,
            "grid_auto_columns": null,
            "grid_auto_flow": null,
            "grid_auto_rows": null,
            "grid_column": null,
            "grid_gap": null,
            "grid_row": null,
            "grid_template_areas": null,
            "grid_template_columns": null,
            "grid_template_rows": null,
            "height": null,
            "justify_content": null,
            "justify_items": null,
            "left": null,
            "margin": null,
            "max_height": null,
            "max_width": null,
            "min_height": null,
            "min_width": null,
            "object_fit": null,
            "object_position": null,
            "order": null,
            "overflow": null,
            "overflow_x": null,
            "overflow_y": null,
            "padding": null,
            "right": null,
            "top": null,
            "visibility": null,
            "width": null
          }
        },
        "508812ef08b949899aa1283019a5c91d": {
          "model_module": "@jupyter-widgets/controls",
          "model_name": "ProgressStyleModel",
          "model_module_version": "1.5.0",
          "state": {
            "_model_module": "@jupyter-widgets/controls",
            "_model_module_version": "1.5.0",
            "_model_name": "ProgressStyleModel",
            "_view_count": null,
            "_view_module": "@jupyter-widgets/base",
            "_view_module_version": "1.2.0",
            "_view_name": "StyleView",
            "bar_color": null,
            "description_width": ""
          }
        },
        "64cc6c41b20043eb8d152e11b8e19e08": {
          "model_module": "@jupyter-widgets/base",
          "model_name": "LayoutModel",
          "model_module_version": "1.2.0",
          "state": {
            "_model_module": "@jupyter-widgets/base",
            "_model_module_version": "1.2.0",
            "_model_name": "LayoutModel",
            "_view_count": null,
            "_view_module": "@jupyter-widgets/base",
            "_view_module_version": "1.2.0",
            "_view_name": "LayoutView",
            "align_content": null,
            "align_items": null,
            "align_self": null,
            "border": null,
            "bottom": null,
            "display": null,
            "flex": null,
            "flex_flow": null,
            "grid_area": null,
            "grid_auto_columns": null,
            "grid_auto_flow": null,
            "grid_auto_rows": null,
            "grid_column": null,
            "grid_gap": null,
            "grid_row": null,
            "grid_template_areas": null,
            "grid_template_columns": null,
            "grid_template_rows": null,
            "height": null,
            "justify_content": null,
            "justify_items": null,
            "left": null,
            "margin": null,
            "max_height": null,
            "max_width": null,
            "min_height": null,
            "min_width": null,
            "object_fit": null,
            "object_position": null,
            "order": null,
            "overflow": null,
            "overflow_x": null,
            "overflow_y": null,
            "padding": null,
            "right": null,
            "top": null,
            "visibility": null,
            "width": null
          }
        },
        "0e7d0a56f54049ca96cf27b6de318730": {
          "model_module": "@jupyter-widgets/controls",
          "model_name": "DescriptionStyleModel",
          "model_module_version": "1.5.0",
          "state": {
            "_model_module": "@jupyter-widgets/controls",
            "_model_module_version": "1.5.0",
            "_model_name": "DescriptionStyleModel",
            "_view_count": null,
            "_view_module": "@jupyter-widgets/base",
            "_view_module_version": "1.2.0",
            "_view_name": "StyleView",
            "description_width": ""
          }
        },
        "0aecdfb1e4ad4456a58782536ea36aa4": {
          "model_module": "@jupyter-widgets/controls",
          "model_name": "HBoxModel",
          "model_module_version": "1.5.0",
          "state": {
            "_dom_classes": [],
            "_model_module": "@jupyter-widgets/controls",
            "_model_module_version": "1.5.0",
            "_model_name": "HBoxModel",
            "_view_count": null,
            "_view_module": "@jupyter-widgets/controls",
            "_view_module_version": "1.5.0",
            "_view_name": "HBoxView",
            "box_style": "",
            "children": [
              "IPY_MODEL_9e49cbd5352c4a4e97b6e153f8499a21",
              "IPY_MODEL_350854e84ed74a20936d7fce76ec83c1",
              "IPY_MODEL_be356cb53bdc45abae13e8b1bf162693"
            ],
            "layout": "IPY_MODEL_9b991b8328484f50a0414a834eb4820c"
          }
        },
        "9e49cbd5352c4a4e97b6e153f8499a21": {
          "model_module": "@jupyter-widgets/controls",
          "model_name": "HTMLModel",
          "model_module_version": "1.5.0",
          "state": {
            "_dom_classes": [],
            "_model_module": "@jupyter-widgets/controls",
            "_model_module_version": "1.5.0",
            "_model_name": "HTMLModel",
            "_view_count": null,
            "_view_module": "@jupyter-widgets/controls",
            "_view_module_version": "1.5.0",
            "_view_name": "HTMLView",
            "description": "",
            "description_tooltip": null,
            "layout": "IPY_MODEL_630cf99485bd40c4b91df2e070fafc87",
            "placeholder": "​",
            "style": "IPY_MODEL_6fed087c688043e0b97791aa3d534a2b",
            "value": "model.safetensors: 100%"
          }
        },
        "350854e84ed74a20936d7fce76ec83c1": {
          "model_module": "@jupyter-widgets/controls",
          "model_name": "FloatProgressModel",
          "model_module_version": "1.5.0",
          "state": {
            "_dom_classes": [],
            "_model_module": "@jupyter-widgets/controls",
            "_model_module_version": "1.5.0",
            "_model_name": "FloatProgressModel",
            "_view_count": null,
            "_view_module": "@jupyter-widgets/controls",
            "_view_module_version": "1.5.0",
            "_view_name": "ProgressView",
            "bar_style": "success",
            "description": "",
            "description_tooltip": null,
            "layout": "IPY_MODEL_23ece8446bda40d4948ae7368b783ebf",
            "max": 435755944,
            "min": 0,
            "orientation": "horizontal",
            "style": "IPY_MODEL_c1028fbef9ba4200a29e153a06978eb7",
            "value": 435755944
          }
        },
        "be356cb53bdc45abae13e8b1bf162693": {
          "model_module": "@jupyter-widgets/controls",
          "model_name": "HTMLModel",
          "model_module_version": "1.5.0",
          "state": {
            "_dom_classes": [],
            "_model_module": "@jupyter-widgets/controls",
            "_model_module_version": "1.5.0",
            "_model_name": "HTMLModel",
            "_view_count": null,
            "_view_module": "@jupyter-widgets/controls",
            "_view_module_version": "1.5.0",
            "_view_name": "HTMLView",
            "description": "",
            "description_tooltip": null,
            "layout": "IPY_MODEL_dff5a98960634769a82bfb245457741a",
            "placeholder": "​",
            "style": "IPY_MODEL_82f726ab47df48308c8d1ed05e43e2be",
            "value": " 436M/436M [00:05&lt;00:00, 141MB/s]"
          }
        },
        "9b991b8328484f50a0414a834eb4820c": {
          "model_module": "@jupyter-widgets/base",
          "model_name": "LayoutModel",
          "model_module_version": "1.2.0",
          "state": {
            "_model_module": "@jupyter-widgets/base",
            "_model_module_version": "1.2.0",
            "_model_name": "LayoutModel",
            "_view_count": null,
            "_view_module": "@jupyter-widgets/base",
            "_view_module_version": "1.2.0",
            "_view_name": "LayoutView",
            "align_content": null,
            "align_items": null,
            "align_self": null,
            "border": null,
            "bottom": null,
            "display": null,
            "flex": null,
            "flex_flow": null,
            "grid_area": null,
            "grid_auto_columns": null,
            "grid_auto_flow": null,
            "grid_auto_rows": null,
            "grid_column": null,
            "grid_gap": null,
            "grid_row": null,
            "grid_template_areas": null,
            "grid_template_columns": null,
            "grid_template_rows": null,
            "height": null,
            "justify_content": null,
            "justify_items": null,
            "left": null,
            "margin": null,
            "max_height": null,
            "max_width": null,
            "min_height": null,
            "min_width": null,
            "object_fit": null,
            "object_position": null,
            "order": null,
            "overflow": null,
            "overflow_x": null,
            "overflow_y": null,
            "padding": null,
            "right": null,
            "top": null,
            "visibility": null,
            "width": null
          }
        },
        "630cf99485bd40c4b91df2e070fafc87": {
          "model_module": "@jupyter-widgets/base",
          "model_name": "LayoutModel",
          "model_module_version": "1.2.0",
          "state": {
            "_model_module": "@jupyter-widgets/base",
            "_model_module_version": "1.2.0",
            "_model_name": "LayoutModel",
            "_view_count": null,
            "_view_module": "@jupyter-widgets/base",
            "_view_module_version": "1.2.0",
            "_view_name": "LayoutView",
            "align_content": null,
            "align_items": null,
            "align_self": null,
            "border": null,
            "bottom": null,
            "display": null,
            "flex": null,
            "flex_flow": null,
            "grid_area": null,
            "grid_auto_columns": null,
            "grid_auto_flow": null,
            "grid_auto_rows": null,
            "grid_column": null,
            "grid_gap": null,
            "grid_row": null,
            "grid_template_areas": null,
            "grid_template_columns": null,
            "grid_template_rows": null,
            "height": null,
            "justify_content": null,
            "justify_items": null,
            "left": null,
            "margin": null,
            "max_height": null,
            "max_width": null,
            "min_height": null,
            "min_width": null,
            "object_fit": null,
            "object_position": null,
            "order": null,
            "overflow": null,
            "overflow_x": null,
            "overflow_y": null,
            "padding": null,
            "right": null,
            "top": null,
            "visibility": null,
            "width": null
          }
        },
        "6fed087c688043e0b97791aa3d534a2b": {
          "model_module": "@jupyter-widgets/controls",
          "model_name": "DescriptionStyleModel",
          "model_module_version": "1.5.0",
          "state": {
            "_model_module": "@jupyter-widgets/controls",
            "_model_module_version": "1.5.0",
            "_model_name": "DescriptionStyleModel",
            "_view_count": null,
            "_view_module": "@jupyter-widgets/base",
            "_view_module_version": "1.2.0",
            "_view_name": "StyleView",
            "description_width": ""
          }
        },
        "23ece8446bda40d4948ae7368b783ebf": {
          "model_module": "@jupyter-widgets/base",
          "model_name": "LayoutModel",
          "model_module_version": "1.2.0",
          "state": {
            "_model_module": "@jupyter-widgets/base",
            "_model_module_version": "1.2.0",
            "_model_name": "LayoutModel",
            "_view_count": null,
            "_view_module": "@jupyter-widgets/base",
            "_view_module_version": "1.2.0",
            "_view_name": "LayoutView",
            "align_content": null,
            "align_items": null,
            "align_self": null,
            "border": null,
            "bottom": null,
            "display": null,
            "flex": null,
            "flex_flow": null,
            "grid_area": null,
            "grid_auto_columns": null,
            "grid_auto_flow": null,
            "grid_auto_rows": null,
            "grid_column": null,
            "grid_gap": null,
            "grid_row": null,
            "grid_template_areas": null,
            "grid_template_columns": null,
            "grid_template_rows": null,
            "height": null,
            "justify_content": null,
            "justify_items": null,
            "left": null,
            "margin": null,
            "max_height": null,
            "max_width": null,
            "min_height": null,
            "min_width": null,
            "object_fit": null,
            "object_position": null,
            "order": null,
            "overflow": null,
            "overflow_x": null,
            "overflow_y": null,
            "padding": null,
            "right": null,
            "top": null,
            "visibility": null,
            "width": null
          }
        },
        "c1028fbef9ba4200a29e153a06978eb7": {
          "model_module": "@jupyter-widgets/controls",
          "model_name": "ProgressStyleModel",
          "model_module_version": "1.5.0",
          "state": {
            "_model_module": "@jupyter-widgets/controls",
            "_model_module_version": "1.5.0",
            "_model_name": "ProgressStyleModel",
            "_view_count": null,
            "_view_module": "@jupyter-widgets/base",
            "_view_module_version": "1.2.0",
            "_view_name": "StyleView",
            "bar_color": null,
            "description_width": ""
          }
        },
        "dff5a98960634769a82bfb245457741a": {
          "model_module": "@jupyter-widgets/base",
          "model_name": "LayoutModel",
          "model_module_version": "1.2.0",
          "state": {
            "_model_module": "@jupyter-widgets/base",
            "_model_module_version": "1.2.0",
            "_model_name": "LayoutModel",
            "_view_count": null,
            "_view_module": "@jupyter-widgets/base",
            "_view_module_version": "1.2.0",
            "_view_name": "LayoutView",
            "align_content": null,
            "align_items": null,
            "align_self": null,
            "border": null,
            "bottom": null,
            "display": null,
            "flex": null,
            "flex_flow": null,
            "grid_area": null,
            "grid_auto_columns": null,
            "grid_auto_flow": null,
            "grid_auto_rows": null,
            "grid_column": null,
            "grid_gap": null,
            "grid_row": null,
            "grid_template_areas": null,
            "grid_template_columns": null,
            "grid_template_rows": null,
            "height": null,
            "justify_content": null,
            "justify_items": null,
            "left": null,
            "margin": null,
            "max_height": null,
            "max_width": null,
            "min_height": null,
            "min_width": null,
            "object_fit": null,
            "object_position": null,
            "order": null,
            "overflow": null,
            "overflow_x": null,
            "overflow_y": null,
            "padding": null,
            "right": null,
            "top": null,
            "visibility": null,
            "width": null
          }
        },
        "82f726ab47df48308c8d1ed05e43e2be": {
          "model_module": "@jupyter-widgets/controls",
          "model_name": "DescriptionStyleModel",
          "model_module_version": "1.5.0",
          "state": {
            "_model_module": "@jupyter-widgets/controls",
            "_model_module_version": "1.5.0",
            "_model_name": "DescriptionStyleModel",
            "_view_count": null,
            "_view_module": "@jupyter-widgets/base",
            "_view_module_version": "1.2.0",
            "_view_name": "StyleView",
            "description_width": ""
          }
        }
      }
    }
  },
  "nbformat": 4,
  "nbformat_minor": 0
}