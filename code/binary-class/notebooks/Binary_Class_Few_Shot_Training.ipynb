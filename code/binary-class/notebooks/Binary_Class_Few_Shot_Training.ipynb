{
  "cells": [
    {
      "cell_type": "markdown",
      "metadata": {
        "id": "JkCLbu33lObU"
      },
      "source": [
        "---\n",
        "# **Biomedical Text Classification using: LSTM, GRU and Bahdanau Attention**\n",
        "\n",
        "---"
      ]
    },
    {
      "cell_type": "markdown",
      "metadata": {
        "id": "Y0cmtg4BlRxH"
      },
      "source": [
        "**Few-shot training** is a learning paradigm in which a model is trained using only a very small number of labeled examples per class. In this study, Classification of Biomedical Texts with Deep Learning: LSTM, GRU, and Self-Attention, few-shot training is used to evaluate how well different deep learning architectures can generalize from limited annotated biomedical data.\n",
        "\n",
        "This approach is especially relevant in biomedical domains where obtaining large labeled datasets is often expensive and time-consuming. By testing various models under few-shot conditions (e.g., 1, 5, or 20 examples per class), we aim to assess their robustness, adaptability, and efficiency in low-resource settings—providing insight into which architectures are better suited for real-world biomedical applications with limited training data."
      ]
    },
    {
      "cell_type": "code",
      "execution_count": 1,
      "metadata": {
        "id": "UHGb6iOAlSNQ"
      },
      "outputs": [],
      "source": [
        "import pandas as pd\n",
        "import nltk\n",
        "from nltk.corpus import stopwords\n",
        "from collections import defaultdict\n",
        "from collections import Counter\n",
        "import random\n",
        "import time\n",
        "import re\n",
        "\n",
        "from tqdm import tqdm\n",
        "import numpy as np\n",
        "import torch\n",
        "import wandb\n",
        "\n",
        "import matplotlib.pyplot as plt\n",
        "from sklearn.manifold import TSNE\n",
        "import seaborn as sns\n",
        "\n",
        "import torch\n",
        "import torch.nn as nn\n",
        "import torch.optim as optim\n",
        "from sklearn.decomposition import PCA\n",
        "from imblearn.over_sampling import SMOTE\n",
        "from sklearn.metrics import accuracy_score, f1_score\n",
        "from sklearn.utils.class_weight import compute_class_weight\n",
        "from sklearn.model_selection import train_test_split\n",
        "from torch.utils.data.dataset import ConcatDataset\n",
        "from sklearn.utils.class_weight import compute_class_weight\n",
        "\n",
        "from torch.utils.data import DataLoader, TensorDataset, Dataset\n",
        "from sklearn.preprocessing import LabelEncoder\n",
        "from torch.nn.utils.rnn import pad_sequence\n",
        "from sklearn.metrics import f1_score, confusion_matrix, balanced_accuracy_score, precision_score, recall_score\n",
        "from sklearn.metrics import classification_report, confusion_matrix, ConfusionMatrixDisplay\n",
        "from sklearn.utils.class_weight import compute_class_weight\n",
        "\n",
        "from imblearn.over_sampling import SMOTE\n",
        "from imblearn.over_sampling import BorderlineSMOTE\n",
        "\n",
        "device = torch.device(\"cuda\" if torch.cuda.is_available() else \"cpu\")"
      ]
    },
    {
      "cell_type": "code",
      "execution_count": 2,
      "metadata": {
        "id": "FKlk701glS4g"
      },
      "outputs": [],
      "source": [
        "# To ensure reproducibility of the results\n",
        "SEED = 200\n",
        "random.seed(SEED)\n",
        "np.random.seed(SEED)\n",
        "torch.manual_seed(SEED)\n",
        "torch.cuda.manual_seed(SEED)\n",
        "torch.backends.cudnn.deterministic = True"
      ]
    },
    {
      "cell_type": "code",
      "execution_count": 3,
      "metadata": {
        "colab": {
          "base_uri": "https://localhost:8080/"
        },
        "id": "fHpE7LBQlS1C",
        "outputId": "e45b973a-d1c0-4b08-ee21-1de8ec2189a3"
      },
      "outputs": [
        {
          "name": "stdout",
          "output_type": "stream",
          "text": [
            "Mounted at /content/drive\n"
          ]
        }
      ],
      "source": [
        "from google.colab import drive\n",
        "drive.mount('/content/drive')"
      ]
    },
    {
      "cell_type": "code",
      "execution_count": 4,
      "metadata": {
        "id": "BRSgjL4UlSyf"
      },
      "outputs": [],
      "source": [
        "data = pd.read_csv('/content/drive/MyDrive/binary_diseases_dataset.csv')"
      ]
    },
    {
      "cell_type": "code",
      "execution_count": 5,
      "metadata": {
        "colab": {
          "base_uri": "https://localhost:8080/"
        },
        "id": "NmfooAtXlSwI",
        "outputId": "335ad49b-f314-4a54-8c72-7313e0b6dde4"
      },
      "outputs": [
        {
          "name": "stdout",
          "output_type": "stream",
          "text": [
            "<class 'pandas.core.frame.DataFrame'>\n",
            "RangeIndex: 26883 entries, 0 to 26882\n",
            "Data columns (total 8 columns):\n",
            " #   Column            Non-Null Count  Dtype \n",
            "---  ------            --------------  ----- \n",
            " 0   PMID              26883 non-null  int64 \n",
            " 1   Title             26883 non-null  object\n",
            " 2   Abstract          26883 non-null  object\n",
            " 3   Keywords          26883 non-null  object\n",
            " 4   PublicationYear   26883 non-null  object\n",
            " 5   MeSH_Terms        26883 non-null  object\n",
            " 6   Cleaned_Abstract  26883 non-null  object\n",
            " 7   Label             26883 non-null  int64 \n",
            "dtypes: int64(2), object(6)\n",
            "memory usage: 1.6+ MB\n"
          ]
        }
      ],
      "source": [
        "data.info()"
      ]
    },
    {
      "cell_type": "code",
      "execution_count": 6,
      "metadata": {
        "colab": {
          "base_uri": "https://localhost:8080/"
        },
        "id": "0c349B24lStU",
        "outputId": "d612cfa5-c9e4-4b6a-9595-b8ebcc44160c"
      },
      "outputs": [
        {
          "name": "stdout",
          "output_type": "stream",
          "text": [
            "Training set: 18818 samples\n",
            "Validation set: 4032 samples\n",
            "Test set: 4033 samples\n"
          ]
        }
      ],
      "source": [
        "X = data[\"Cleaned_Abstract\"].values\n",
        "y = data[\"Label\"].values\n",
        "\n",
        "X_train, X_temp, y_train, y_temp = train_test_split(X, y, test_size=0.3, random_state=42)\n",
        "X_val, X_test, y_val, y_test = train_test_split(X_temp, y_temp, test_size=0.5, random_state=42)\n",
        "\n",
        "print(f\"Training set: {len(X_train)} samples\")\n",
        "print(f\"Validation set: {len(X_val)} samples\")\n",
        "print(f\"Test set: {len(X_test)} samples\")"
      ]
    },
    {
      "cell_type": "code",
      "execution_count": 7,
      "metadata": {
        "colab": {
          "base_uri": "https://localhost:8080/"
        },
        "id": "D5XkEE7IzYHI",
        "outputId": "dd9b7192-40e3-454d-eb05-85eb77493403"
      },
      "outputs": [
        {
          "name": "stdout",
          "output_type": "stream",
          "text": [
            "Combined Input Shape: (22850,)\n",
            "Combined Label Shape: (22850,)\n"
          ]
        }
      ],
      "source": [
        "X_combined = np.concatenate((X_train, X_val), axis=0)\n",
        "y_combined = np.concatenate((y_train, y_val), axis=0)\n",
        "\n",
        "print(f\"Combined Input Shape: {X_combined.shape}\")\n",
        "print(f\"Combined Label Shape: {y_combined.shape}\")"
      ]
    },
    {
      "cell_type": "code",
      "execution_count": 8,
      "metadata": {
        "id": "PsWTm_-OlSqx"
      },
      "outputs": [],
      "source": [
        "def tokenize(text):\n",
        "    \"\"\"\n",
        "    Tokenizes the input text by converting it to lowercase and splitting it into words.\n",
        "\n",
        "    Args:\n",
        "        text: A string containing the text to be tokenized.\n",
        "\n",
        "    Returns:\n",
        "        A list of tokens (words) from the text.\n",
        "    \"\"\"\n",
        "    return re.findall(r'\\b\\w+\\b', text.lower())"
      ]
    },
    {
      "cell_type": "code",
      "execution_count": 9,
      "metadata": {
        "colab": {
          "base_uri": "https://localhost:8080/"
        },
        "id": "GkL8-UdQl0su",
        "outputId": "c670459e-b1c8-47f3-89a7-1ad60389fccb"
      },
      "outputs": [
        {
          "name": "stdout",
          "output_type": "stream",
          "text": [
            "1\n",
            "malaria\n",
            "interaction\n",
            "28\n"
          ]
        }
      ],
      "source": [
        "all_tokens = [token for text in X_train for token in tokenize(text)]\n",
        "vocab = Counter(all_tokens)\n",
        "filtered_vocab = {word: freq for word, freq in vocab.items() if freq >= 2}\n",
        "VOCAB_SIZE =  40000\n",
        "\n",
        "sorted_filtered_vocab = dict(sorted(filtered_vocab.items(), key=lambda item: item[1], reverse=True)[:VOCAB_SIZE])\n",
        "\n",
        "word_to_index = {word: idx for idx, (word, _) in enumerate(sorted_filtered_vocab.items(), 1)}\n",
        "word_to_index[\"<PAD>\"] = 0\n",
        "word_to_index[\"<UNK>\"] = len(word_to_index)\n",
        "\n",
        "index_to_word = {idx: word for word, idx in word_to_index.items()}\n",
        "print(word_to_index[\"malaria\"])\n",
        "print(index_to_word[1])\n",
        "\n",
        "print(index_to_word[300])\n",
        "print(word_to_index[\"host\"])"
      ]
    },
    {
      "cell_type": "code",
      "execution_count": 10,
      "metadata": {
        "id": "v3zT9Dn2l1zW"
      },
      "outputs": [],
      "source": [
        "def text_to_sequence(text):\n",
        "    \"\"\"\n",
        "    Converts the tokenized text into a sequence of indices based on a word-to-index mapping.\n",
        "\n",
        "    Args:\n",
        "        text: A string containing the text to be converted.\n",
        "\n",
        "    Returns:\n",
        "        A list of integers representing the sequence of token indices.\n",
        "    \"\"\"\n",
        "    return [word_to_index.get(token, word_to_index[\"<UNK>\"]) for token in tokenize(text)]\n",
        "\n",
        "def pad_to_tensor(sequences, max_len=None):\n",
        "    \"\"\"\n",
        "    Pads sequences to the specified maximum length, or truncates them if they exceed it.\n",
        "\n",
        "    Args:\n",
        "        sequences: A list of sequences (each sequence is a list of integers).\n",
        "        max_len: The maximum length to which sequences should be padded. If None, no padding is applied.\n",
        "\n",
        "    Returns:\n",
        "        A tensor containing the padded (or truncated) sequences.\n",
        "    \"\"\"\n",
        "    padded_sequences = [torch.tensor(seq, dtype=torch.long) for seq in sequences]\n",
        "    if max_len:\n",
        "        padded_sequences = [seq[:max_len] for seq in padded_sequences]\n",
        "        padded_sequences = [\n",
        "            torch.cat([seq, torch.zeros(max_len - len(seq), dtype=torch.long)], 0) if len(seq) < max_len else seq\n",
        "            for seq in padded_sequences\n",
        "        ]\n",
        "\n",
        "    return torch.stack(padded_sequences)\n",
        "\n",
        "class TextDataset(Dataset):\n",
        "    \"\"\"\n",
        "    Custom Dataset for handling text data and labels.\n",
        "\n",
        "    Args:\n",
        "        X_data: Input features (e.g., tokenized text).\n",
        "        y_data: Labels corresponding to the text data.\n",
        "        raw_text_data: (Optional) The raw text data for reference (default is None).\n",
        "    \"\"\"\n",
        "    def __init__(self, X_data, y_data, raw_text_data=None):\n",
        "        self.X = torch.tensor(X_data, dtype=torch.long)\n",
        "        self.y = torch.tensor(y_data, dtype=torch.long)\n",
        "        self.raw_text_data = raw_text_data\n",
        "\n",
        "    def __len__(self):\n",
        "        return len(self.X)\n",
        "\n",
        "    def __getitem__(self, idx):\n",
        "        input_tensor = self.X[idx]\n",
        "        target_tensor = self.y[idx]\n",
        "\n",
        "        raw_text = None\n",
        "        if self.raw_text_data is not None and idx < len(self.raw_text_data):\n",
        "            raw_text = self.raw_text_data[idx]\n",
        "\n",
        "        return input_tensor, target_tensor, raw_text\n",
        "\n",
        "def custom_collate_fn(batch):\n",
        "    inputs, targets, raw_texts = zip(*batch)\n",
        "    inputs = torch.stack(inputs)\n",
        "    targets = torch.stack(targets)\n",
        "    return inputs, targets, list(raw_texts)\n",
        "\n",
        "def load_glove_embeddings(glove_path, word_to_index, embedding_dim):\n",
        "    \"\"\"Loads GloVe embeddings and returns an embedding matrix.\"\"\"\n",
        "    embedding_matrix = np.zeros((len(word_to_index), embedding_dim), dtype='float32')\n",
        "    with open(glove_path, 'r', encoding=\"utf-8\") as f:\n",
        "        for line in f:\n",
        "            values = line.strip().split()\n",
        "            word = values[0]\n",
        "            if word in word_to_index:\n",
        "                vector = np.asarray(values[1:], dtype='float32')\n",
        "                embedding_matrix[word_to_index[word]] = vector\n",
        "\n",
        "    return torch.tensor(embedding_matrix, dtype=torch.float)\n",
        "\n",
        "def load_fasttext_embeddings(vec_path, word_to_index, embedding_dim=300):\n",
        "    \"\"\"\n",
        "    Loads FastText embeddings from a .txt or .vec file and returns an embedding matrix.\n",
        "\n",
        "    Note:\n",
        "        The .txt or .vec format contains a header (num_tokens, dimension),\n",
        "        followed by one word vector per line in the format: word val1 val2 ... valN.\n",
        "\n",
        "    Args:\n",
        "        vec_path (str): Path to the FastText .txt or .vec file (e.g., cc.en.300.txt or cc.en.300.vec).\n",
        "        word_to_index (dict): Mapping from words to their index in the vocabulary.\n",
        "        embedding_dim (int): Dimensionality of the embeddings (e.g., 300).\n",
        "\n",
        "    Returns:\n",
        "        torch.Tensor: Embedding matrix of shape (vocab_size, embedding_dim).\n",
        "    \"\"\"\n",
        "    embedding_matrix = np.zeros((len(word_to_index), embedding_dim), dtype='float32')\n",
        "\n",
        "    with open(vec_path, 'r', encoding='utf-8', newline='\\n', errors='ignore') as f:\n",
        "        header = f.readline()  # header contains: num_words dim\n",
        "        for line in f:\n",
        "            values = line.rstrip().split(' ')\n",
        "            if len(values) < embedding_dim + 1:\n",
        "                continue  # skip malformed lines\n",
        "            word = values[0]\n",
        "            if word in word_to_index:\n",
        "                vector = np.asarray(values[1:], dtype='float32')\n",
        "                embedding_matrix[word_to_index[word]] = vector\n",
        "\n",
        "    return torch.tensor(embedding_matrix, dtype=torch.float)"
      ]
    },
    {
      "cell_type": "code",
      "execution_count": 11,
      "metadata": {
        "colab": {
          "base_uri": "https://localhost:8080/"
        },
        "id": "hasHpOEal1vz",
        "outputId": "bce79086-8bf0-4086-fb9b-58e12aa23a09"
      },
      "outputs": [
        {
          "name": "stdout",
          "output_type": "stream",
          "text": [
            "[601, 22, 41, 202, 1, 54, 10360, 12405, 1996, 26, 2135, 1985, 1119, 1706, 115, 159, 39, 317, 9337, 1104, 155, 1119, 403, 5672, 2618, 790, 34, 413, 5, 331, 368, 534, 232, 728, 482, 263, 3719, 88, 83, 403, 15, 1119, 1141, 2948, 856, 15, 96, 6211, 1823, 3691, 53, 705, 1198, 53, 1324, 61, 505, 6, 210, 143, 32, 497, 1060, 1198, 174, 53, 817, 1119, 1141, 17, 48, 728, 3719, 2432, 34371, 5483, 7312, 34371, 5483, 6, 6871, 10, 84, 40001, 1584, 666, 120, 48, 931, 21, 193, 5, 368, 3719, 88, 40001, 4945, 568, 88, 6979, 2393, 15, 10, 7312, 6871, 88, 77, 82, 86, 568, 40001, 278, 7, 3, 34372, 278, 7, 3, 40001, 1757, 1974, 77, 2393, 2393, 195, 3, 12888, 9, 3, 362, 42, 65, 3, 8847, 9, 3, 362, 42, 65, 91, 21, 47, 3720, 3282, 1761, 3823, 483, 2936, 5191, 7312, 541, 7, 325, 732, 75, 443, 732, 12, 86, 1619, 195, 7801, 948, 54, 279, 1619, 195, 8456, 1676, 195, 6871, 42, 7, 182, 182, 743, 54, 91, 50, 5, 77, 7312, 6871, 10361, 27, 534, 4621, 403, 1119, 1141, 1456, 1368, 3474, 156, 1, 1475, 1414, 1840, 41, 202, 1]\n"
          ]
        }
      ],
      "source": [
        "EMBEDDING_DIM = 300\n",
        "embedding_matrix = load_glove_embeddings('/content/drive/MyDrive/glove/glove.6B.300d.txt', word_to_index, EMBEDDING_DIM)\n",
        "embedding_matrix_fastText = load_fasttext_embeddings('/content/drive/MyDrive/cc.en.300.vec/cc.en.300.vec', word_to_index, EMBEDDING_DIM)\n",
        "\n",
        "X_train_seq = [text_to_sequence(text) for text in X_train]\n",
        "X_val_seq = [text_to_sequence(text) for text in X_val]\n",
        "X_test_seq = [text_to_sequence(text) for text in X_test]\n",
        "\n",
        "print(X_train_seq[0])"
      ]
    },
    {
      "cell_type": "code",
      "execution_count": 12,
      "metadata": {
        "colab": {
          "base_uri": "https://localhost:8080/"
        },
        "id": "Wf-9kAd7l1tq",
        "outputId": "1b34686b-d3bd-4c60-aa29-c1c52e4986c9"
      },
      "outputs": [
        {
          "name": "stdout",
          "output_type": "stream",
          "text": [
            "Train Tensor Shape: torch.Size([18818, 400]), Type: torch.int64\n",
            "Validation Tensor Shape: torch.Size([4032, 400]), Type: torch.int64\n",
            "Test Tensor Shape: torch.Size([4033, 400]), Type: torch.int64\n"
          ]
        }
      ],
      "source": [
        "max_length = 400\n",
        "\n",
        "X_train_tensor = pad_to_tensor(X_train_seq, max_len=max_length)\n",
        "X_val_tensor = pad_to_tensor(X_val_seq, max_len=max_length)\n",
        "X_test_tensor = pad_to_tensor(X_test_seq, max_len=max_length)\n",
        "\n",
        "print(f\"Train Tensor Shape: {X_train_tensor.shape}, Type: {X_train_tensor.dtype}\")\n",
        "print(f\"Validation Tensor Shape: {X_val_tensor.shape}, Type: {X_val_tensor.dtype}\")\n",
        "print(f\"Test Tensor Shape: {X_test_tensor.shape}, Type: {X_test_tensor.dtype}\")\n",
        "\n",
        "y_train_tensor = torch.tensor(y_train)\n",
        "y_val_tensor = torch.tensor(y_val)\n",
        "y_test_tensor = torch.tensor(y_test)"
      ]
    },
    {
      "cell_type": "code",
      "execution_count": 13,
      "metadata": {
        "colab": {
          "base_uri": "https://localhost:8080/"
        },
        "id": "S3NGUWFxyuwf",
        "outputId": "6d2d3103-a756-46f7-ac60-b43fe8d34791"
      },
      "outputs": [
        {
          "name": "stdout",
          "output_type": "stream",
          "text": [
            "Combined Input Tensor Shape: torch.Size([22850, 400])\n",
            "Combined Label Tensor Shape: torch.Size([22850])\n"
          ]
        }
      ],
      "source": [
        "X_combined_tensor = torch.cat((X_train_tensor, X_val_tensor), dim=0)\n",
        "y_combined_tensor = torch.cat((y_train_tensor, y_val_tensor), dim=0)\n",
        "\n",
        "print(f\"Combined Input Tensor Shape: {X_combined_tensor.shape}\")\n",
        "\n",
        "print(f\"Combined Label Tensor Shape: {y_combined_tensor.shape}\")"
      ]
    },
    {
      "cell_type": "code",
      "execution_count": 14,
      "metadata": {
        "colab": {
          "base_uri": "https://localhost:8080/"
        },
        "id": "EJAvopnhuoEQ",
        "outputId": "e5dfafee-61f2-4c70-9203-07c4c89404ee"
      },
      "outputs": [
        {
          "name": "stderr",
          "output_type": "stream",
          "text": [
            "<ipython-input-10-f03193db776b>:44: UserWarning: To copy construct from a tensor, it is recommended to use sourceTensor.clone().detach() or sourceTensor.clone().detach().requires_grad_(True), rather than torch.tensor(sourceTensor).\n",
            "  self.X = torch.tensor(X_data, dtype=torch.long)\n"
          ]
        }
      ],
      "source": [
        "train_dataset = TextDataset(X_train_tensor, y_train, raw_text_data=X_train)\n",
        "val_dataset = TextDataset(X_val_tensor, y_val, raw_text_data=X_val)\n",
        "test_dataset = TextDataset(X_test_tensor, y_test, raw_text_data=X_test)\n",
        "\n",
        "train_loader = DataLoader(train_dataset, batch_size=32, shuffle=True)\n",
        "val_loader = DataLoader(val_dataset, batch_size=32, shuffle=False)\n",
        "test_loader = DataLoader(test_dataset, batch_size=32, shuffle=False)"
      ]
    },
    {
      "cell_type": "code",
      "execution_count": 15,
      "metadata": {
        "colab": {
          "base_uri": "https://localhost:8080/"
        },
        "id": "vZ7RTuttv858",
        "outputId": "1682ce04-80fe-4073-f2e9-dd34683db7e0"
      },
      "outputs": [
        {
          "name": "stdout",
          "output_type": "stream",
          "text": [
            "Training set size: 18818\n",
            "Validation set size: 4032\n",
            "Test set size: 4033\n",
            "Combined dataset size: 22850\n"
          ]
        }
      ],
      "source": [
        "batch_size = 16\n",
        "\n",
        "train_loader = DataLoader(train_dataset, batch_size=batch_size, shuffle=True)\n",
        "val_loader = DataLoader(val_dataset, batch_size=batch_size, shuffle=False)\n",
        "test_loader = DataLoader(test_dataset, batch_size=batch_size, shuffle=False)\n",
        "\n",
        "combined_dataset = ConcatDataset([train_dataset, val_dataset])\n",
        "combined_loader = DataLoader(combined_dataset, batch_size=batch_size, shuffle=True)\n",
        "\n",
        "\n",
        "print(f\"Training set size: {len(train_dataset)}\")\n",
        "print(f\"Validation set size: {len(val_dataset)}\")\n",
        "print(f\"Test set size: {len(test_dataset)}\")\n",
        "print(f\"Combined dataset size: {len(combined_dataset)}\")"
      ]
    },
    {
      "cell_type": "code",
      "execution_count": 17,
      "metadata": {
        "id": "dnG9cQyel1ql"
      },
      "outputs": [],
      "source": [
        "VOCAB_SIZE = len(word_to_index)\n",
        "\n",
        "# ============ Define Hybrid CNN-LSTM Model ============\n",
        "class CNN_LSTM_Model(nn.Module):\n",
        "    def __init__(self, vocab_size, embedding_dim, hidden_dim, output_dim=1, num_layers=1, dropout_prob=0.3, num_filters=100, kernel_size=3):\n",
        "        super(CNN_LSTM_Model, self).__init__()\n",
        "\n",
        "        self.embedding = nn.Embedding(vocab_size, embedding_dim)\n",
        "        self.conv1 = nn.Conv1d(in_channels=embedding_dim, out_channels=num_filters, kernel_size=kernel_size, padding=1)\n",
        "        self.conv2 = nn.Conv1d(in_channels=num_filters, out_channels=num_filters, kernel_size=kernel_size, padding=1)\n",
        "        self.relu = nn.ReLU()\n",
        "        self.pool = nn.MaxPool1d(kernel_size=2, stride=2)\n",
        "\n",
        "        self.lstm = nn.LSTM(input_size=num_filters, hidden_size=hidden_dim, num_layers=num_layers, batch_first=True, dropout=dropout_prob if num_layers > 1 else 0)\n",
        "        self.dropout = nn.Dropout(dropout_prob)\n",
        "        self.fc = nn.Linear(hidden_dim, output_dim)\n",
        "\n",
        "    def forward(self, x):\n",
        "        embedded = self.embedding(x)\n",
        "        embedded = embedded.permute(0, 2, 1)\n",
        "        conv_out = self.relu(self.conv1(embedded))\n",
        "        conv_out = self.relu(self.conv2(conv_out))\n",
        "        conv_out = self.pool(conv_out)\n",
        "\n",
        "        conv_out = conv_out.permute(0, 2, 1)\n",
        "        lstm_out, _ = self.lstm(conv_out)\n",
        "        lstm_out = self.dropout(lstm_out[:, -1, :])\n",
        "        out = self.fc(lstm_out)\n",
        "        return out\n",
        "\n",
        "# ==========================  GRU Model with Word Embeddings ==========================\n",
        "class GRU_Model(nn.Module):\n",
        "    def __init__(self, vocab_size, embedding_dim, hidden_dim, output_dim=1 , num_layers=1, dropout_prob=0.5, embedding_weights=None, freeze_embeddings=False):\n",
        "        super(GRU_Model, self).__init__()\n",
        "\n",
        "        if embedding_weights is not None:\n",
        "            self.embedding = nn.Embedding.from_pretrained(embedding_weights, freeze=freeze_embeddings)\n",
        "        else:\n",
        "            self.embedding = nn.Embedding(vocab_size, embedding_dim)\n",
        "\n",
        "        self.gru = nn.GRU(\n",
        "            input_size=embedding_dim,\n",
        "            hidden_size=hidden_dim,\n",
        "            num_layers=num_layers,\n",
        "            batch_first=True,\n",
        "            dropout=dropout_prob if num_layers > 1 else 0  # Dropout only if num_layers > 1\n",
        "        )\n",
        "\n",
        "        self.dropout = nn.Dropout(dropout_prob)\n",
        "        self.fc = nn.Linear(hidden_dim, output_dim)\n",
        "\n",
        "    def forward(self, x):\n",
        "        embedded = self.embedding(x)\n",
        "        gru_out, _ = self.gru(embedded)\n",
        "        gru_out = self.dropout(gru_out[:, -1, :])\n",
        "        out = self.fc(gru_out)\n",
        "        return out\n",
        "\n",
        "# ========================== Bahdanau Attention ==========================\n",
        "class BahdanauAttention(nn.Module):\n",
        "    \"\"\"\n",
        "    Bahdanau Attention Mechanism.\n",
        "\n",
        "    This class implements the Bahdanau attention mechanism as described in the paper:\n",
        "    \"Neural Machine Translation by Jointly Learning to Align and Translate\" by Bahdanau et al.\n",
        "\n",
        "    Args:\n",
        "        hidden_dim (int): The hidden dimension of the GRU or LSTM output.\n",
        "\n",
        "    Attributes:\n",
        "        W (nn.Linear): A linear layer for the transformation of the RNN outputs.\n",
        "        v (nn.Linear): A linear layer for computing attention scores.\n",
        "    \"\"\"\n",
        "    def __init__(self, hidden_dim):\n",
        "        super(BahdanauAttention, self).__init__()\n",
        "        self.W = nn.Linear(hidden_dim * 2, hidden_dim)\n",
        "        self.v = nn.Linear(hidden_dim, 1, bias=False)\n",
        "\n",
        "    def forward(self, rnn_outputs):\n",
        "        \"\"\"\n",
        "        Apply the attention mechanism on the RNN outputs.\n",
        "\n",
        "        Args:\n",
        "            rnn_outputs (Tensor): The outputs of the RNN (GRU or LSTM).\n",
        "\n",
        "        Returns:\n",
        "            Tensor: The context vector computed by the attention mechanism.\n",
        "        \"\"\"\n",
        "        score = torch.tanh(self.W(rnn_outputs))\n",
        "        attn_weights = torch.softmax(self.v(score), dim=1)\n",
        "        context = torch.sum(attn_weights * rnn_outputs, dim=1)\n",
        "        return context\n",
        "\n",
        "# ================= Generalized GRU + Bahdanau Attention Model =================\n",
        "class GRU_BahdanauAttentionModel(nn.Module):\n",
        "    \"\"\"\n",
        "    General GRU + Bahdanau Attention Model with customizable embeddings.\n",
        "\n",
        "    Args:\n",
        "        embedding_matrix (Tensor): Pretrained embedding matrix (GloVe or FastText).\n",
        "        hidden_dim (int): GRU hidden size.\n",
        "        num_classes (int): Number of output classes.\n",
        "        num_layers (int): Number of GRU layers.\n",
        "        dropout_prob (float): Dropout rate.\n",
        "    \"\"\"\n",
        "    def __init__(self, embedding_matrix, hidden_dim, num_classes=1, num_layers=1, dropout_prob=0.6):\n",
        "        super(GRU_BahdanauAttentionModel, self).__init__()\n",
        "\n",
        "        vocab_size, embedding_dim = embedding_matrix.shape\n",
        "        self.embedding = nn.Embedding.from_pretrained(embedding_matrix, freeze=False)\n",
        "\n",
        "        self.gru = nn.GRU(\n",
        "            input_size=embedding_dim,\n",
        "            hidden_size=hidden_dim,\n",
        "            num_layers=num_layers,\n",
        "            batch_first=True,\n",
        "            bidirectional=True\n",
        "        )\n",
        "\n",
        "        self.attention = BahdanauAttention(hidden_dim)\n",
        "        self.fc = nn.Linear(hidden_dim * 2, num_classes)\n",
        "        self.dropout = nn.Dropout(dropout_prob)\n",
        "\n",
        "    def forward(self, x):\n",
        "        embedded = self.embedding(x)\n",
        "        gru_out, _ = self.gru(embedded)\n",
        "        context = self.attention(gru_out)\n",
        "        x = self.dropout(context)\n",
        "        return self.fc(x)"
      ]
    },
    {
      "cell_type": "code",
      "execution_count": 19,
      "metadata": {
        "id": "LMDGVSREmAHh"
      },
      "outputs": [],
      "source": [
        "clip = 5.0\n",
        "\n",
        "def epoch_time(start_time, end_time):\n",
        "    \"\"\"\n",
        "    Calculates the elapsed time between the start and end time.\n",
        "\n",
        "    Args:\n",
        "        start_time: The start time (in seconds).\n",
        "        end_time: The end time (in seconds).\n",
        "\n",
        "    Returns:\n",
        "        elapsed_mins: The elapsed time in minutes.\n",
        "        elapsed_secs: The elapsed time in seconds.\n",
        "    \"\"\"\n",
        "    elapsed_time = end_time - start_time\n",
        "    elapsed_mins = int(elapsed_time / 60)\n",
        "    elapsed_secs = int(elapsed_time - (elapsed_mins * 60))\n",
        "    return elapsed_mins, elapsed_secs\n",
        "\n",
        "def calculate_accuracy(y_pred, y_true):\n",
        "    \"\"\"\n",
        "    Computes accuracy for multi-class classification.\n",
        "    Args:\n",
        "        y_pred: Raw logits from the model (before softmax).\n",
        "        y_true: True class labels (integer class indices).\n",
        "    Returns:\n",
        "        Accuracy score.\n",
        "    \"\"\"\n",
        "    y_pred = torch.argmax(y_pred, dim=1)  # Get predicted class index\n",
        "    correct = (y_pred == y_true).sum().item()\n",
        "    total = y_true.size(0)  # Number of samples\n",
        "    return correct / total\n",
        "\n",
        "def train_epoch(model, train_loader, optimizer, criterion, device):\n",
        "    \"\"\"\n",
        "    Train the model for one epoch on the training data using GloVe embeddings.\n",
        "\n",
        "    Args:\n",
        "        model (nn.Module): The model to be trained.\n",
        "        train_loader (DataLoader): DataLoader for the training data.\n",
        "        optimizer (torch.optim.Optimizer): Optimizer for training.\n",
        "        criterion (nn.Module): Loss function.\n",
        "        device (torch.device): Device to run the training on (CPU or CUDA).\n",
        "\n",
        "    Returns:\n",
        "        Tuple[float, float]: Average loss and accuracy over the epoch.\n",
        "    \"\"\"\n",
        "    model.train()\n",
        "    total_loss, total_accuracy = 0, 0\n",
        "\n",
        "    for batch in train_loader:\n",
        "        if len(batch) == 3:\n",
        "            input_tensor, target_tensor, _ = batch\n",
        "        else:\n",
        "            input_tensor, target_tensor = batch\n",
        "\n",
        "        input_tensor = input_tensor.to(device)\n",
        "        target_tensor = target_tensor.float().to(device)\n",
        "\n",
        "        optimizer.zero_grad()\n",
        "        output = model(input_tensor).squeeze(1)\n",
        "\n",
        "        loss = criterion(output, target_tensor)\n",
        "        loss.backward()\n",
        "        torch.nn.utils.clip_grad_norm_(model.parameters(), max_norm=1.0)\n",
        "        optimizer.step()\n",
        "\n",
        "        preds = (torch.sigmoid(output) >= 0.5).long()\n",
        "        correct = (preds == target_tensor.long()).sum().item()\n",
        "        total_accuracy += correct\n",
        "        total_loss += loss.item()\n",
        "\n",
        "    avg_loss = total_loss / len(train_loader)\n",
        "    avg_accuracy = total_accuracy / len(train_loader.dataset)\n",
        "\n",
        "    return avg_loss, avg_accuracy\n",
        "\n",
        "def count_parameters(model):\n",
        "    \"\"\"\n",
        "    Computes the total number of trainable parameters in a model.\n",
        "\n",
        "    Args:\n",
        "        model: A PyTorch model instance.\n",
        "\n",
        "    Returns:\n",
        "        The total number of trainable parameters in the model.\n",
        "    \"\"\"\n",
        "    return sum(p.numel() for p in model.parameters() if p.requires_grad)\n",
        "\n",
        "def reinitialize_weights(model):\n",
        "    \"\"\"Reinitializes the model's weights by calling reset_parameters() for each layer that supports it.\"\"\"\n",
        "    for layer in model.children():\n",
        "        if hasattr(layer, 'reset_parameters'):\n",
        "            layer.reset_parameters()\n",
        "\n",
        "def test_epoch(model, val_loader, criterion, device):\n",
        "    \"\"\"\n",
        "    Validate the model and compute a complete set of metrics for multi-class classification.\n",
        "\n",
        "    Args:\n",
        "        model (nn.Module): The trained model.\n",
        "        val_loader (DataLoader): DataLoader for the validation data.\n",
        "        criterion (nn.Module): Loss function.\n",
        "        device (torch.device): Device to run validation on.\n",
        "\n",
        "    Returns:\n",
        "        Tuple[float, float, float, float, float, float]:\n",
        "            Average loss, accuracy, F1 score (weighted),\n",
        "            balanced accuracy, recall (weighted), precision (weighted).\n",
        "    \"\"\"\n",
        "    model.eval()\n",
        "    total_loss, total_accuracy = 0, 0\n",
        "    all_preds = []\n",
        "    all_labels = []\n",
        "\n",
        "    with torch.no_grad():\n",
        "        for batch in val_loader:\n",
        "            if len(batch) == 3:\n",
        "                input_tensor, target_tensor, _ = batch\n",
        "            else:\n",
        "                input_tensor, target_tensor = batch\n",
        "\n",
        "            input_tensor = input_tensor.to(device)\n",
        "            target_tensor = target_tensor.float().to(device)\n",
        "\n",
        "            output = model(input_tensor).squeeze(1)\n",
        "            loss = criterion(output, target_tensor)\n",
        "\n",
        "            preds = (torch.sigmoid(output) >= 0.5).long()\n",
        "            correct = (preds == target_tensor.long()).sum().item()\n",
        "            total_accuracy += correct\n",
        "            total_loss += loss.item()\n",
        "\n",
        "            all_preds.extend(preds.cpu().numpy())\n",
        "            all_labels.extend(target_tensor.long().cpu().numpy())\n",
        "\n",
        "    avg_loss = total_loss / len(val_loader)\n",
        "    avg_accuracy = total_accuracy / len(val_loader.dataset)\n",
        "    f1 = f1_score(all_labels, all_preds, average='weighted', zero_division=0)\n",
        "    balanced_acc = balanced_accuracy_score(all_labels, all_preds)\n",
        "    precision = precision_score(all_labels, all_preds, average='weighted', zero_division=0)\n",
        "    recall = recall_score(all_labels, all_preds, average='weighted', zero_division=0)\n",
        "\n",
        "    return avg_loss, avg_accuracy, f1, balanced_acc, recall, precision"
      ]
    },
    {
      "cell_type": "code",
      "execution_count": 20,
      "metadata": {
        "id": "OOu9Z5DasEfw"
      },
      "outputs": [],
      "source": [
        "loss_gap_ratio = 1.25\n",
        "ax_accuracy_gap = 5\n",
        "\n",
        "def get_few_shot_subset(X_tensor, y_tensor, k_shot):\n",
        "    X_few = []\n",
        "    y_few = []\n",
        "    unique_classes = torch.unique(y_tensor)\n",
        "    for cls in unique_classes:\n",
        "        indices = (y_tensor == cls).nonzero(as_tuple=True)[0]\n",
        "        selected = indices[torch.randperm(len(indices))[:k_shot]]\n",
        "        X_few.append(X_tensor[selected])\n",
        "        y_few.append(y_tensor[selected])\n",
        "    X_few = torch.cat(X_few)\n",
        "    y_few = torch.cat(y_few)\n",
        "    return X_few, y_few\n",
        "\n",
        "def train_and_evaluate_model(model, k, X_combined_tensor, y_combined_tensor, optimizer, loss_function, num_epochs, batch_size, test_loader, model_name, embedding_matrix=None):\n",
        "    reinitialize_weights(model)\n",
        "    train_losses, test_losses = [], []\n",
        "    train_accuracies, test_accuracies = [], []\n",
        "    test_f1s, test_balanced_accs, test_recalls, test_precisions = [], [], [], []\n",
        "    saved_once = False\n",
        "    X_few, y_few = get_few_shot_subset(X_combined_tensor, y_combined_tensor, k_shot=k)\n",
        "    few_shot_dataset = TextDataset(X_few, y_few, raw_text_data=X_combined)\n",
        "    few_shot_loader = DataLoader(few_shot_dataset, batch_size=batch_size, shuffle=True, collate_fn=custom_collate_fn)\n",
        "    wandb.init(entity='wilfried-mvomoeto-university-of-li-ge', project=f'Few-Shot-Binary-Class-Training_gru_glove_fastText_Bahdanau-{model_name}-', name=f\"{model_name}_K-{k}_Training\", config={'learning_rate': 7e-4, 'num_epochs': num_epochs, 'num_layers': 1, 'k_shot': k})\n",
        "    with tqdm(total=num_epochs, desc=f\"Training {model_name} with {k}-shot\", unit=\"epoch\") as pbar:\n",
        "        for epoch in range(num_epochs):\n",
        "            start_time = time.time()\n",
        "            train_loss, train_acc = train_epoch(model, few_shot_loader, optimizer, loss_function, device)\n",
        "            train_losses.append(train_loss)\n",
        "            train_accuracies.append(train_acc)\n",
        "            test_loss, test_acc, test_f1, test_balanced_acc, test_recall, test_precision = test_epoch(model, test_loader, loss_function, device)\n",
        "            test_losses.append(test_loss)\n",
        "            test_accuracies.append(test_acc)\n",
        "            test_f1s.append(test_f1)\n",
        "            test_balanced_accs.append(test_balanced_acc)\n",
        "            test_recalls.append(test_recall)\n",
        "            test_precisions.append(test_precision)\n",
        "            wandb.log({\n",
        "                \"train_loss\": train_loss,\n",
        "                \"test_loss\": test_loss,\n",
        "                \"train_acc\": train_acc,\n",
        "                \"test_acc\": test_acc,\n",
        "                \"test_f1\": test_f1,\n",
        "                \"test_balanced_acc\": test_balanced_acc,\n",
        "                \"test_recall\": test_recall,\n",
        "                \"test_precision\": test_precision,\n",
        "                \"epoch\": epoch + 1,\n",
        "                \"k_shot\": k\n",
        "            })\n",
        "\n",
        "            if (test_loss > train_loss * loss_gap_ratio or (train_acc > test_acc and train_acc - test_acc > ax_accuracy_gap / 100)) and not saved_once:\n",
        "                torch.save(model.state_dict(), f\"{model_name}_K-{k}_binary_class_loss_gap_accuracy_gap_10%.pth\")\n",
        "                saved_once = True\n",
        "                print(f\"Early stopping triggered at epoch {epoch+1}\")\n",
        "                print(f\"Model {model_name}_K-{k} saved with loss gap > 1.25 or accuracy gap > 10% at epoch {epoch}.\")\n",
        "                break\n",
        "            if epoch == num_epochs - 1 and not saved_once:\n",
        "                torch.save(model.state_dict(), f\"{model_name}_K-{k}_binary_class_final.pth\")\n",
        "                print(f\"Model {model_name}_K-{k} saved at the end of epoch {num_epochs}.\")\n",
        "                print(f\"Model metrics: \\nTest Accuracy: {test_acc:.2%}, Test F1: {test_f1:.2%}, Test Balanced Accuracy: {test_balanced_acc:.2%}, Test Recall: {test_recall:.2%}, Test Precision: {test_precision:.2%}\")\n",
        "            pbar.set_description(f\"{model_name} K-{k} Epoch {epoch+1}/{num_epochs} - Train Loss: {train_loss:.4f}, Test Loss: {test_loss:.4f}, Train Acc: {train_acc:.2%}, Test Acc: {test_acc:.2%}, Test F1: {test_f1:.2%}, Test Balanced Acc: {test_balanced_acc:.2%}, Test Recall: {test_recall:.2%}, Test Precision: {test_precision:.2%}, Time: {time.time() - start_time:.2f} sec\")\n",
        "            pbar.update(1)\n",
        "    return {\n",
        "        \"train_losses\": train_losses,\n",
        "        \"test_losses\": test_losses,\n",
        "        \"train_accuracies\": train_accuracies,\n",
        "        \"test_accuracies\": test_accuracies,\n",
        "        \"test_f1s\": test_f1s,\n",
        "        \"test_balanced_accs\": test_balanced_accs,\n",
        "        \"test_recalls\": test_recalls,\n",
        "        \"test_precisions\": test_precisions\n",
        "    }\n",
        "\n",
        "def plot_max_metrics(model_metrics, k_values):\n",
        "    import matplotlib.pyplot as plt\n",
        "    import seaborn as sns\n",
        "\n",
        "    fig, axes = plt.subplots(1, 4, figsize=(18, 6))\n",
        "    sns.set(style=\"whitegrid\")\n",
        "\n",
        "    for model_name, metrics in model_metrics.items():\n",
        "        # Convert lists of lists to flat lists (take the last entry for each k)\n",
        "        f1_values = [v if isinstance(v, float) else v[-1] for v in metrics[\"test_f1s\"]]\n",
        "        balanced_acc_values = [v if isinstance(v, float) else v[-1] for v in metrics[\"test_balanced_accs\"]]\n",
        "        recall_values = [v if isinstance(v, float) else v[-1] for v in metrics[\"test_recalls\"]]\n",
        "        precision_values = [v if isinstance(v, float) else v[-1] for v in metrics[\"test_precisions\"]]\n",
        "\n",
        "        axes[0].plot(k_values, f1_values, label=model_name, marker='o')\n",
        "        axes[1].plot(k_values, balanced_acc_values, label=model_name, marker='o')\n",
        "        axes[2].plot(k_values, recall_values, label=model_name, marker='o')\n",
        "        axes[3].plot(k_values, precision_values, label=model_name, marker='o')\n",
        "\n",
        "    axes[0].set_title(\"F1 Score\", fontsize=16)\n",
        "    axes[0].set_xlabel(\"K-shot\", fontsize=14)\n",
        "    axes[0].set_ylabel(\"F1 Score\", fontsize=14)\n",
        "    axes[0].legend(title=None, loc=\"lower right\", framealpha=0.001)\n",
        "    axes[0].grid(True)\n",
        "\n",
        "    axes[1].set_title(\"Balanced Accuracy\", fontsize=16)\n",
        "    axes[1].set_xlabel(\"K-shot\", fontsize=14)\n",
        "    axes[1].set_ylabel(\"Balanced Accuracy\", fontsize=14)\n",
        "    axes[1].legend(title=None, loc=\"lower right\", framealpha=0.001)\n",
        "    axes[1].grid(True)\n",
        "\n",
        "    axes[2].set_title(\"Recall\", fontsize=16)\n",
        "    axes[2].set_xlabel(\"K-shot\", fontsize=14)\n",
        "    axes[2].set_ylabel(\"Recall\", fontsize=14)\n",
        "    axes[2].legend(title=None, loc=\"lower right\", framealpha=0.001)\n",
        "    axes[2].grid(True)\n",
        "\n",
        "    axes[3].set_title(\"Precision\", fontsize=16)\n",
        "    axes[3].set_xlabel(\"K-shot\", fontsize=14)\n",
        "    axes[3].set_ylabel(\"Precision\", fontsize=14)\n",
        "    axes[3].legend(title=None, loc=\"lower right\", framealpha=0.001)\n",
        "    axes[3].grid(True)\n",
        "\n",
        "    plt.tight_layout()\n",
        "    plt.show()"
      ]
    },
    {
      "cell_type": "markdown",
      "metadata": {
        "id": "LAh8I2oo3sPQ"
      },
      "source": [
        "---\n",
        "# Few-Shot Training\n",
        "---"
      ]
    },
    {
      "cell_type": "code",
      "execution_count": 21,
      "metadata": {
        "id": "u2hFyRE_HCtv"
      },
      "outputs": [],
      "source": [
        "loss_function = nn.BCEWithLogitsLoss()\n",
        "\n",
        "models_info = {\n",
        "    \"GRU-Bah-Glove\": GRU_BahdanauAttentionModel(\n",
        "        embedding_matrix=embedding_matrix, hidden_dim=100, dropout_prob=0.9\n",
        "    ).to(device),\n",
        "\n",
        "    \"GRU-Bah-FastText\": GRU_BahdanauAttentionModel(\n",
        "        embedding_matrix=embedding_matrix_fastText, hidden_dim=100, dropout_prob=0.9\n",
        "    ).to(device),\n",
        "\n",
        "    \"CNN_LSTM\": CNN_LSTM_Model(\n",
        "        vocab_size=VOCAB_SIZE, embedding_dim=150, hidden_dim=100, num_layers=1, dropout_prob=0.3\n",
        "    ).to(device),\n",
        "\n",
        "    \"GRU-Glove\": GRU_Model(\n",
        "        vocab_size=VOCAB_SIZE, embedding_dim=EMBEDDING_DIM, hidden_dim=100,\n",
        "        num_layers=1, dropout_prob=0.4, embedding_weights=embedding_matrix\n",
        "    ).to(device),\n",
        "\n",
        "    \"GRU-FastText\": GRU_Model(\n",
        "        vocab_size=VOCAB_SIZE, embedding_dim=EMBEDDING_DIM, hidden_dim=100,\n",
        "        num_layers=1, dropout_prob=0.4, embedding_weights=embedding_matrix_fastText\n",
        "    ).to(device)\n",
        "}\n",
        "\n",
        "optimizers = {\n",
        "    \"GRU-Bah-Glove\": torch.optim.Adam(models_info[\"GRU-Bah-Glove\"].parameters(), lr=1e-4),\n",
        "    \"GRU-Bah-FastText\": torch.optim.Adam(models_info[\"GRU-Bah-FastText\"].parameters(), lr=1e-4),\n",
        "    \"CNN_LSTM\": torch.optim.AdamW(models_info[\"CNN_LSTM\"].parameters(), lr=7e-4),\n",
        "    \"GRU-Glove\": torch.optim.Adam(models_info[\"GRU-Glove\"].parameters(), lr=7e-4),\n",
        "    \"GRU-FastText\": torch.optim.Adam(models_info[\"GRU-FastText\"].parameters(), lr=7e-4)\n",
        "}"
      ]
    },
    {
      "cell_type": "code",
      "execution_count": 22,
      "metadata": {
        "colab": {
          "base_uri": "https://localhost:8080/",
          "height": 1000
        },
        "id": "AWcB0FRAmAEE",
        "outputId": "6dea9256-163c-4016-ccfe-11171964d385"
      },
      "outputs": [
        {
          "name": "stdout",
          "output_type": "stream",
          "text": [
            "\n",
            "Training with 5-shot...\n"
          ]
        },
        {
          "name": "stderr",
          "output_type": "stream",
          "text": [
            "<ipython-input-10-f03193db776b>:44: UserWarning: To copy construct from a tensor, it is recommended to use sourceTensor.clone().detach() or sourceTensor.clone().detach().requires_grad_(True), rather than torch.tensor(sourceTensor).\n",
            "  self.X = torch.tensor(X_data, dtype=torch.long)\n",
            "<ipython-input-10-f03193db776b>:45: UserWarning: To copy construct from a tensor, it is recommended to use sourceTensor.clone().detach() or sourceTensor.clone().detach().requires_grad_(True), rather than torch.tensor(sourceTensor).\n",
            "  self.y = torch.tensor(y_data, dtype=torch.long)\n"
          ]
        },
        {
          "data": {
            "application/javascript": "\n        window._wandbApiKey = new Promise((resolve, reject) => {\n            function loadScript(url) {\n            return new Promise(function(resolve, reject) {\n                let newScript = document.createElement(\"script\");\n                newScript.onerror = reject;\n                newScript.onload = resolve;\n                document.body.appendChild(newScript);\n                newScript.src = url;\n            });\n            }\n            loadScript(\"https://cdn.jsdelivr.net/npm/postmate/build/postmate.min.js\").then(() => {\n            const iframe = document.createElement('iframe')\n            iframe.style.cssText = \"width:0;height:0;border:none\"\n            document.body.appendChild(iframe)\n            const handshake = new Postmate({\n                container: iframe,\n                url: 'https://wandb.ai/authorize'\n            });\n            const timeout = setTimeout(() => reject(\"Couldn't auto authenticate\"), 5000)\n            handshake.then(function(child) {\n                child.on('authorize', data => {\n                    clearTimeout(timeout)\n                    resolve(data)\n                });\n            });\n            })\n        });\n    ",
            "text/plain": [
              "<IPython.core.display.Javascript object>"
            ]
          },
          "metadata": {},
          "output_type": "display_data"
        },
        {
          "name": "stderr",
          "output_type": "stream",
          "text": [
            "\u001b[34m\u001b[1mwandb\u001b[0m: Logging into wandb.ai. (Learn how to deploy a W&B server locally: https://wandb.me/wandb-server)\n",
            "\u001b[34m\u001b[1mwandb\u001b[0m: You can find your API key in your browser here: https://wandb.ai/authorize?ref=models\n",
            "wandb: Paste an API key from your profile and hit enter:"
          ]
        },
        {
          "name": "stdout",
          "output_type": "stream",
          "text": [
            " ··········\n"
          ]
        },
        {
          "name": "stderr",
          "output_type": "stream",
          "text": [
            "\u001b[34m\u001b[1mwandb\u001b[0m: \u001b[33mWARNING\u001b[0m If you're specifying your api key in code, ensure this code is not shared publicly.\n",
            "\u001b[34m\u001b[1mwandb\u001b[0m: \u001b[33mWARNING\u001b[0m Consider setting the WANDB_API_KEY environment variable, or running `wandb login` from the command line.\n",
            "\u001b[34m\u001b[1mwandb\u001b[0m: No netrc file found, creating one.\n",
            "\u001b[34m\u001b[1mwandb\u001b[0m: Appending key for api.wandb.ai to your netrc file: /root/.netrc\n",
            "\u001b[34m\u001b[1mwandb\u001b[0m: Currently logged in as: \u001b[33mwilfried-mvomoeto\u001b[0m to \u001b[32mhttps://api.wandb.ai\u001b[0m. Use \u001b[1m`wandb login --relogin`\u001b[0m to force relogin\n"
          ]
        },
        {
          "data": {
            "text/html": [
              "Tracking run with wandb version 0.19.10"
            ],
            "text/plain": [
              "<IPython.core.display.HTML object>"
            ]
          },
          "metadata": {},
          "output_type": "display_data"
        },
        {
          "data": {
            "text/html": [
              "Run data is saved locally in <code>/content/wandb/run-20250501_182457-n9u1xpog</code>"
            ],
            "text/plain": [
              "<IPython.core.display.HTML object>"
            ]
          },
          "metadata": {},
          "output_type": "display_data"
        },
        {
          "data": {
            "text/html": [
              "Syncing run <strong><a href='https://wandb.ai/wilfried-mvomoeto-university-of-li-ge/Few-Shot-Binary-Class-Training_gru_glove_fastText_Bahdanau-GRU-Bah-Glove-/runs/n9u1xpog' target=\"_blank\">GRU-Bah-Glove_K-5_Training</a></strong> to <a href='https://wandb.ai/wilfried-mvomoeto-university-of-li-ge/Few-Shot-Binary-Class-Training_gru_glove_fastText_Bahdanau-GRU-Bah-Glove-' target=\"_blank\">Weights & Biases</a> (<a href='https://wandb.me/developer-guide' target=\"_blank\">docs</a>)<br>"
            ],
            "text/plain": [
              "<IPython.core.display.HTML object>"
            ]
          },
          "metadata": {},
          "output_type": "display_data"
        },
        {
          "data": {
            "text/html": [
              " View project at <a href='https://wandb.ai/wilfried-mvomoeto-university-of-li-ge/Few-Shot-Binary-Class-Training_gru_glove_fastText_Bahdanau-GRU-Bah-Glove-' target=\"_blank\">https://wandb.ai/wilfried-mvomoeto-university-of-li-ge/Few-Shot-Binary-Class-Training_gru_glove_fastText_Bahdanau-GRU-Bah-Glove-</a>"
            ],
            "text/plain": [
              "<IPython.core.display.HTML object>"
            ]
          },
          "metadata": {},
          "output_type": "display_data"
        },
        {
          "data": {
            "text/html": [
              " View run at <a href='https://wandb.ai/wilfried-mvomoeto-university-of-li-ge/Few-Shot-Binary-Class-Training_gru_glove_fastText_Bahdanau-GRU-Bah-Glove-/runs/n9u1xpog' target=\"_blank\">https://wandb.ai/wilfried-mvomoeto-university-of-li-ge/Few-Shot-Binary-Class-Training_gru_glove_fastText_Bahdanau-GRU-Bah-Glove-/runs/n9u1xpog</a>"
            ],
            "text/plain": [
              "<IPython.core.display.HTML object>"
            ]
          },
          "metadata": {},
          "output_type": "display_data"
        },
        {
          "name": "stderr",
          "output_type": "stream",
          "text": [
            "GRU-Bah-Glove K-5 Epoch 3/1000 - Train Loss: 0.8273, Test Loss: 0.6765, Train Acc: 40.00%, Test Acc: 64.64%, Test F1: 51.54%, Test Balanced Acc: 50.36%, Test Recall: 64.64%, Test Precision: 61.03%, Time: 0.69 sec:   0%|          | 3/1000 [00:04<23:47,  1.43s/epoch]"
          ]
        },
        {
          "name": "stdout",
          "output_type": "stream",
          "text": [
            "Early stopping triggered at epoch 4\n",
            "Model GRU-Bah-Glove_K-5 saved with loss gap > 1.25 or accuracy gap > 10% at epoch 3.\n"
          ]
        },
        {
          "name": "stderr",
          "output_type": "stream",
          "text": [
            "\n",
            "<ipython-input-10-f03193db776b>:44: UserWarning: To copy construct from a tensor, it is recommended to use sourceTensor.clone().detach() or sourceTensor.clone().detach().requires_grad_(True), rather than torch.tensor(sourceTensor).\n",
            "  self.X = torch.tensor(X_data, dtype=torch.long)\n",
            "<ipython-input-10-f03193db776b>:45: UserWarning: To copy construct from a tensor, it is recommended to use sourceTensor.clone().detach() or sourceTensor.clone().detach().requires_grad_(True), rather than torch.tensor(sourceTensor).\n",
            "  self.y = torch.tensor(y_data, dtype=torch.long)\n"
          ]
        },
        {
          "data": {
            "text/html": [
              "Finishing previous runs because reinit is set to 'default'."
            ],
            "text/plain": [
              "<IPython.core.display.HTML object>"
            ]
          },
          "metadata": {},
          "output_type": "display_data"
        },
        {
          "data": {
            "text/html": [],
            "text/plain": [
              "<IPython.core.display.HTML object>"
            ]
          },
          "metadata": {},
          "output_type": "display_data"
        },
        {
          "data": {
            "text/html": [
              "<br>    <style><br>        .wandb-row {<br>            display: flex;<br>            flex-direction: row;<br>            flex-wrap: wrap;<br>            justify-content: flex-start;<br>            width: 100%;<br>        }<br>        .wandb-col {<br>            display: flex;<br>            flex-direction: column;<br>            flex-basis: 100%;<br>            flex: 1;<br>            padding: 10px;<br>        }<br>    </style><br><div class=\"wandb-row\"><div class=\"wandb-col\"><h3>Run history:</h3><br/><table class=\"wandb\"><tr><td>epoch</td><td>▁▃▆█</td></tr><tr><td>k_shot</td><td>▁▁▁▁</td></tr><tr><td>test_acc</td><td>▁▁▁▁</td></tr><tr><td>test_balanced_acc</td><td>▁▄▆█</td></tr><tr><td>test_f1</td><td>▁▅▆█</td></tr><tr><td>test_loss</td><td>▁▃▆█</td></tr><tr><td>test_precision</td><td>█▄▂▁</td></tr><tr><td>test_recall</td><td>▁▁▁▁</td></tr><tr><td>train_acc</td><td>▁▆▃█</td></tr><tr><td>train_loss</td><td>▅▅█▁</td></tr></table><br/></div><div class=\"wandb-col\"><h3>Run summary:</h3><br/><table class=\"wandb\"><tr><td>epoch</td><td>4</td></tr><tr><td>k_shot</td><td>5</td></tr><tr><td>test_acc</td><td>0.64642</td></tr><tr><td>test_balanced_acc</td><td>0.50373</td></tr><tr><td>test_f1</td><td>0.51584</td></tr><tr><td>test_loss</td><td>0.67677</td></tr><tr><td>test_precision</td><td>0.60954</td></tr><tr><td>test_recall</td><td>0.64642</td></tr><tr><td>train_acc</td><td>0.7</td></tr><tr><td>train_loss</td><td>0.56798</td></tr></table><br/></div></div>"
            ],
            "text/plain": [
              "<IPython.core.display.HTML object>"
            ]
          },
          "metadata": {},
          "output_type": "display_data"
        },
        {
          "data": {
            "text/html": [
              " View run <strong style=\"color:#cdcd00\">GRU-Bah-Glove_K-5_Training</strong> at: <a href='https://wandb.ai/wilfried-mvomoeto-university-of-li-ge/Few-Shot-Binary-Class-Training_gru_glove_fastText_Bahdanau-GRU-Bah-Glove-/runs/n9u1xpog' target=\"_blank\">https://wandb.ai/wilfried-mvomoeto-university-of-li-ge/Few-Shot-Binary-Class-Training_gru_glove_fastText_Bahdanau-GRU-Bah-Glove-/runs/n9u1xpog</a><br> View project at: <a href='https://wandb.ai/wilfried-mvomoeto-university-of-li-ge/Few-Shot-Binary-Class-Training_gru_glove_fastText_Bahdanau-GRU-Bah-Glove-' target=\"_blank\">https://wandb.ai/wilfried-mvomoeto-university-of-li-ge/Few-Shot-Binary-Class-Training_gru_glove_fastText_Bahdanau-GRU-Bah-Glove-</a><br>Synced 5 W&B file(s), 0 media file(s), 0 artifact file(s) and 0 other file(s)"
            ],
            "text/plain": [
              "<IPython.core.display.HTML object>"
            ]
          },
          "metadata": {},
          "output_type": "display_data"
        },
        {
          "data": {
            "text/html": [
              "Find logs at: <code>./wandb/run-20250501_182457-n9u1xpog/logs</code>"
            ],
            "text/plain": [
              "<IPython.core.display.HTML object>"
            ]
          },
          "metadata": {},
          "output_type": "display_data"
        },
        {
          "data": {
            "text/html": [
              "Tracking run with wandb version 0.19.10"
            ],
            "text/plain": [
              "<IPython.core.display.HTML object>"
            ]
          },
          "metadata": {},
          "output_type": "display_data"
        },
        {
          "data": {
            "text/html": [
              "Run data is saved locally in <code>/content/wandb/run-20250501_182503-758sbqz7</code>"
            ],
            "text/plain": [
              "<IPython.core.display.HTML object>"
            ]
          },
          "metadata": {},
          "output_type": "display_data"
        },
        {
          "data": {
            "text/html": [
              "Syncing run <strong><a href='https://wandb.ai/wilfried-mvomoeto-university-of-li-ge/Few-Shot-Binary-Class-Training_gru_glove_fastText_Bahdanau-GRU-Bah-FastText-/runs/758sbqz7' target=\"_blank\">GRU-Bah-FastText_K-5_Training</a></strong> to <a href='https://wandb.ai/wilfried-mvomoeto-university-of-li-ge/Few-Shot-Binary-Class-Training_gru_glove_fastText_Bahdanau-GRU-Bah-FastText-' target=\"_blank\">Weights & Biases</a> (<a href='https://wandb.me/developer-guide' target=\"_blank\">docs</a>)<br>"
            ],
            "text/plain": [
              "<IPython.core.display.HTML object>"
            ]
          },
          "metadata": {},
          "output_type": "display_data"
        },
        {
          "data": {
            "text/html": [
              " View project at <a href='https://wandb.ai/wilfried-mvomoeto-university-of-li-ge/Few-Shot-Binary-Class-Training_gru_glove_fastText_Bahdanau-GRU-Bah-FastText-' target=\"_blank\">https://wandb.ai/wilfried-mvomoeto-university-of-li-ge/Few-Shot-Binary-Class-Training_gru_glove_fastText_Bahdanau-GRU-Bah-FastText-</a>"
            ],
            "text/plain": [
              "<IPython.core.display.HTML object>"
            ]
          },
          "metadata": {},
          "output_type": "display_data"
        },
        {
          "data": {
            "text/html": [
              " View run at <a href='https://wandb.ai/wilfried-mvomoeto-university-of-li-ge/Few-Shot-Binary-Class-Training_gru_glove_fastText_Bahdanau-GRU-Bah-FastText-/runs/758sbqz7' target=\"_blank\">https://wandb.ai/wilfried-mvomoeto-university-of-li-ge/Few-Shot-Binary-Class-Training_gru_glove_fastText_Bahdanau-GRU-Bah-FastText-/runs/758sbqz7</a>"
            ],
            "text/plain": [
              "<IPython.core.display.HTML object>"
            ]
          },
          "metadata": {},
          "output_type": "display_data"
        },
        {
          "name": "stderr",
          "output_type": "stream",
          "text": [
            "GRU-Bah-FastText K-5 Epoch 1/1000 - Train Loss: 0.7325, Test Loss: 0.7354, Train Acc: 40.00%, Test Acc: 35.43%, Test F1: 18.54%, Test Balanced Acc: 50.00%, Test Recall: 35.43%, Test Precision: 12.55%, Time: 1.06 sec:   0%|          | 1/1000 [00:01<30:13,  1.82s/epoch]"
          ]
        },
        {
          "name": "stdout",
          "output_type": "stream",
          "text": [
            "Early stopping triggered at epoch 2\n",
            "Model GRU-Bah-FastText_K-5 saved with loss gap > 1.25 or accuracy gap > 10% at epoch 1.\n"
          ]
        },
        {
          "name": "stderr",
          "output_type": "stream",
          "text": [
            "\n",
            "<ipython-input-10-f03193db776b>:44: UserWarning: To copy construct from a tensor, it is recommended to use sourceTensor.clone().detach() or sourceTensor.clone().detach().requires_grad_(True), rather than torch.tensor(sourceTensor).\n",
            "  self.X = torch.tensor(X_data, dtype=torch.long)\n",
            "<ipython-input-10-f03193db776b>:45: UserWarning: To copy construct from a tensor, it is recommended to use sourceTensor.clone().detach() or sourceTensor.clone().detach().requires_grad_(True), rather than torch.tensor(sourceTensor).\n",
            "  self.y = torch.tensor(y_data, dtype=torch.long)\n"
          ]
        },
        {
          "data": {
            "text/html": [
              "Finishing previous runs because reinit is set to 'default'."
            ],
            "text/plain": [
              "<IPython.core.display.HTML object>"
            ]
          },
          "metadata": {},
          "output_type": "display_data"
        },
        {
          "data": {
            "text/html": [],
            "text/plain": [
              "<IPython.core.display.HTML object>"
            ]
          },
          "metadata": {},
          "output_type": "display_data"
        },
        {
          "data": {
            "text/html": [
              "<br>    <style><br>        .wandb-row {<br>            display: flex;<br>            flex-direction: row;<br>            flex-wrap: wrap;<br>            justify-content: flex-start;<br>            width: 100%;<br>        }<br>        .wandb-col {<br>            display: flex;<br>            flex-direction: column;<br>            flex-basis: 100%;<br>            flex: 1;<br>            padding: 10px;<br>        }<br>    </style><br><div class=\"wandb-row\"><div class=\"wandb-col\"><h3>Run history:</h3><br/><table class=\"wandb\"><tr><td>epoch</td><td>▁█</td></tr><tr><td>k_shot</td><td>▁▁</td></tr><tr><td>test_acc</td><td>▁▁</td></tr><tr><td>test_balanced_acc</td><td>▁▁</td></tr><tr><td>test_f1</td><td>▁▁</td></tr><tr><td>test_loss</td><td>█▁</td></tr><tr><td>test_precision</td><td>▁▁</td></tr><tr><td>test_recall</td><td>▁▁</td></tr><tr><td>train_acc</td><td>▁█</td></tr><tr><td>train_loss</td><td>▁█</td></tr></table><br/></div><div class=\"wandb-col\"><h3>Run summary:</h3><br/><table class=\"wandb\"><tr><td>epoch</td><td>2</td></tr><tr><td>k_shot</td><td>5</td></tr><tr><td>test_acc</td><td>0.35433</td></tr><tr><td>test_balanced_acc</td><td>0.5</td></tr><tr><td>test_f1</td><td>0.1854</td></tr><tr><td>test_loss</td><td>0.73068</td></tr><tr><td>test_precision</td><td>0.12555</td></tr><tr><td>test_recall</td><td>0.35433</td></tr><tr><td>train_acc</td><td>0.5</td></tr><tr><td>train_loss</td><td>0.75469</td></tr></table><br/></div></div>"
            ],
            "text/plain": [
              "<IPython.core.display.HTML object>"
            ]
          },
          "metadata": {},
          "output_type": "display_data"
        },
        {
          "data": {
            "text/html": [
              " View run <strong style=\"color:#cdcd00\">GRU-Bah-FastText_K-5_Training</strong> at: <a href='https://wandb.ai/wilfried-mvomoeto-university-of-li-ge/Few-Shot-Binary-Class-Training_gru_glove_fastText_Bahdanau-GRU-Bah-FastText-/runs/758sbqz7' target=\"_blank\">https://wandb.ai/wilfried-mvomoeto-university-of-li-ge/Few-Shot-Binary-Class-Training_gru_glove_fastText_Bahdanau-GRU-Bah-FastText-/runs/758sbqz7</a><br> View project at: <a href='https://wandb.ai/wilfried-mvomoeto-university-of-li-ge/Few-Shot-Binary-Class-Training_gru_glove_fastText_Bahdanau-GRU-Bah-FastText-' target=\"_blank\">https://wandb.ai/wilfried-mvomoeto-university-of-li-ge/Few-Shot-Binary-Class-Training_gru_glove_fastText_Bahdanau-GRU-Bah-FastText-</a><br>Synced 5 W&B file(s), 0 media file(s), 0 artifact file(s) and 0 other file(s)"
            ],
            "text/plain": [
              "<IPython.core.display.HTML object>"
            ]
          },
          "metadata": {},
          "output_type": "display_data"
        },
        {
          "data": {
            "text/html": [
              "Find logs at: <code>./wandb/run-20250501_182503-758sbqz7/logs</code>"
            ],
            "text/plain": [
              "<IPython.core.display.HTML object>"
            ]
          },
          "metadata": {},
          "output_type": "display_data"
        },
        {
          "data": {
            "text/html": [
              "Tracking run with wandb version 0.19.10"
            ],
            "text/plain": [
              "<IPython.core.display.HTML object>"
            ]
          },
          "metadata": {},
          "output_type": "display_data"
        },
        {
          "data": {
            "text/html": [
              "Run data is saved locally in <code>/content/wandb/run-20250501_182513-f8q2zymw</code>"
            ],
            "text/plain": [
              "<IPython.core.display.HTML object>"
            ]
          },
          "metadata": {},
          "output_type": "display_data"
        },
        {
          "data": {
            "text/html": [
              "Syncing run <strong><a href='https://wandb.ai/wilfried-mvomoeto-university-of-li-ge/Few-Shot-Binary-Class-Training_gru_glove_fastText_Bahdanau-CNN_LSTM-/runs/f8q2zymw' target=\"_blank\">CNN_LSTM_K-5_Training</a></strong> to <a href='https://wandb.ai/wilfried-mvomoeto-university-of-li-ge/Few-Shot-Binary-Class-Training_gru_glove_fastText_Bahdanau-CNN_LSTM-' target=\"_blank\">Weights & Biases</a> (<a href='https://wandb.me/developer-guide' target=\"_blank\">docs</a>)<br>"
            ],
            "text/plain": [
              "<IPython.core.display.HTML object>"
            ]
          },
          "metadata": {},
          "output_type": "display_data"
        },
        {
          "data": {
            "text/html": [
              " View project at <a href='https://wandb.ai/wilfried-mvomoeto-university-of-li-ge/Few-Shot-Binary-Class-Training_gru_glove_fastText_Bahdanau-CNN_LSTM-' target=\"_blank\">https://wandb.ai/wilfried-mvomoeto-university-of-li-ge/Few-Shot-Binary-Class-Training_gru_glove_fastText_Bahdanau-CNN_LSTM-</a>"
            ],
            "text/plain": [
              "<IPython.core.display.HTML object>"
            ]
          },
          "metadata": {},
          "output_type": "display_data"
        },
        {
          "data": {
            "text/html": [
              " View run at <a href='https://wandb.ai/wilfried-mvomoeto-university-of-li-ge/Few-Shot-Binary-Class-Training_gru_glove_fastText_Bahdanau-CNN_LSTM-/runs/f8q2zymw' target=\"_blank\">https://wandb.ai/wilfried-mvomoeto-university-of-li-ge/Few-Shot-Binary-Class-Training_gru_glove_fastText_Bahdanau-CNN_LSTM-/runs/f8q2zymw</a>"
            ],
            "text/plain": [
              "<IPython.core.display.HTML object>"
            ]
          },
          "metadata": {},
          "output_type": "display_data"
        },
        {
          "name": "stderr",
          "output_type": "stream",
          "text": [
            "CNN_LSTM K-5 Epoch 4/1000 - Train Loss: 0.6986, Test Loss: 0.6980, Train Acc: 40.00%, Test Acc: 35.53%, Test F1: 19.31%, Test Balanced Acc: 49.87%, Test Recall: 35.53%, Test Precision: 49.12%, Time: 0.45 sec:   0%|          | 4/1000 [00:02<12:14,  1.36epoch/s]"
          ]
        },
        {
          "name": "stdout",
          "output_type": "stream",
          "text": [
            "Early stopping triggered at epoch 5\n",
            "Model CNN_LSTM_K-5 saved with loss gap > 1.25 or accuracy gap > 10% at epoch 4.\n"
          ]
        },
        {
          "name": "stderr",
          "output_type": "stream",
          "text": [
            "\n",
            "<ipython-input-10-f03193db776b>:44: UserWarning: To copy construct from a tensor, it is recommended to use sourceTensor.clone().detach() or sourceTensor.clone().detach().requires_grad_(True), rather than torch.tensor(sourceTensor).\n",
            "  self.X = torch.tensor(X_data, dtype=torch.long)\n",
            "<ipython-input-10-f03193db776b>:45: UserWarning: To copy construct from a tensor, it is recommended to use sourceTensor.clone().detach() or sourceTensor.clone().detach().requires_grad_(True), rather than torch.tensor(sourceTensor).\n",
            "  self.y = torch.tensor(y_data, dtype=torch.long)\n"
          ]
        },
        {
          "data": {
            "text/html": [
              "Finishing previous runs because reinit is set to 'default'."
            ],
            "text/plain": [
              "<IPython.core.display.HTML object>"
            ]
          },
          "metadata": {},
          "output_type": "display_data"
        },
        {
          "data": {
            "text/html": [],
            "text/plain": [
              "<IPython.core.display.HTML object>"
            ]
          },
          "metadata": {},
          "output_type": "display_data"
        },
        {
          "data": {
            "text/html": [
              "<br>    <style><br>        .wandb-row {<br>            display: flex;<br>            flex-direction: row;<br>            flex-wrap: wrap;<br>            justify-content: flex-start;<br>            width: 100%;<br>        }<br>        .wandb-col {<br>            display: flex;<br>            flex-direction: column;<br>            flex-basis: 100%;<br>            flex: 1;<br>            padding: 10px;<br>        }<br>    </style><br><div class=\"wandb-row\"><div class=\"wandb-col\"><h3>Run history:</h3><br/><table class=\"wandb\"><tr><td>epoch</td><td>▁▃▅▆█</td></tr><tr><td>k_shot</td><td>▁▁▁▁▁</td></tr><tr><td>test_acc</td><td>██▁▁▁</td></tr><tr><td>test_balanced_acc</td><td>██▁▂▃</td></tr><tr><td>test_f1</td><td>██▁▁▁</td></tr><tr><td>test_loss</td><td>▁▃▅▇█</td></tr><tr><td>test_precision</td><td>▁▁▇▇█</td></tr><tr><td>test_recall</td><td>██▁▁▁</td></tr><tr><td>train_acc</td><td>▃▃▁▁█</td></tr><tr><td>train_loss</td><td>▂▆▂█▁</td></tr></table><br/></div><div class=\"wandb-col\"><h3>Run summary:</h3><br/><table class=\"wandb\"><tr><td>epoch</td><td>5</td></tr><tr><td>k_shot</td><td>5</td></tr><tr><td>test_acc</td><td>0.35532</td></tr><tr><td>test_balanced_acc</td><td>0.49903</td></tr><tr><td>test_f1</td><td>0.19222</td></tr><tr><td>test_loss</td><td>0.70042</td></tr><tr><td>test_precision</td><td>0.49789</td></tr><tr><td>test_recall</td><td>0.35532</td></tr><tr><td>train_acc</td><td>0.7</td></tr><tr><td>train_loss</td><td>0.68952</td></tr></table><br/></div></div>"
            ],
            "text/plain": [
              "<IPython.core.display.HTML object>"
            ]
          },
          "metadata": {},
          "output_type": "display_data"
        },
        {
          "data": {
            "text/html": [
              " View run <strong style=\"color:#cdcd00\">CNN_LSTM_K-5_Training</strong> at: <a href='https://wandb.ai/wilfried-mvomoeto-university-of-li-ge/Few-Shot-Binary-Class-Training_gru_glove_fastText_Bahdanau-CNN_LSTM-/runs/f8q2zymw' target=\"_blank\">https://wandb.ai/wilfried-mvomoeto-university-of-li-ge/Few-Shot-Binary-Class-Training_gru_glove_fastText_Bahdanau-CNN_LSTM-/runs/f8q2zymw</a><br> View project at: <a href='https://wandb.ai/wilfried-mvomoeto-university-of-li-ge/Few-Shot-Binary-Class-Training_gru_glove_fastText_Bahdanau-CNN_LSTM-' target=\"_blank\">https://wandb.ai/wilfried-mvomoeto-university-of-li-ge/Few-Shot-Binary-Class-Training_gru_glove_fastText_Bahdanau-CNN_LSTM-</a><br>Synced 5 W&B file(s), 0 media file(s), 0 artifact file(s) and 0 other file(s)"
            ],
            "text/plain": [
              "<IPython.core.display.HTML object>"
            ]
          },
          "metadata": {},
          "output_type": "display_data"
        },
        {
          "data": {
            "text/html": [
              "Find logs at: <code>./wandb/run-20250501_182513-f8q2zymw/logs</code>"
            ],
            "text/plain": [
              "<IPython.core.display.HTML object>"
            ]
          },
          "metadata": {},
          "output_type": "display_data"
        },
        {
          "data": {
            "text/html": [
              "Tracking run with wandb version 0.19.10"
            ],
            "text/plain": [
              "<IPython.core.display.HTML object>"
            ]
          },
          "metadata": {},
          "output_type": "display_data"
        },
        {
          "data": {
            "text/html": [
              "Run data is saved locally in <code>/content/wandb/run-20250501_182523-2ormyjoo</code>"
            ],
            "text/plain": [
              "<IPython.core.display.HTML object>"
            ]
          },
          "metadata": {},
          "output_type": "display_data"
        },
        {
          "data": {
            "text/html": [
              "Syncing run <strong><a href='https://wandb.ai/wilfried-mvomoeto-university-of-li-ge/Few-Shot-Binary-Class-Training_gru_glove_fastText_Bahdanau-GRU-Glove-/runs/2ormyjoo' target=\"_blank\">GRU-Glove_K-5_Training</a></strong> to <a href='https://wandb.ai/wilfried-mvomoeto-university-of-li-ge/Few-Shot-Binary-Class-Training_gru_glove_fastText_Bahdanau-GRU-Glove-' target=\"_blank\">Weights & Biases</a> (<a href='https://wandb.me/developer-guide' target=\"_blank\">docs</a>)<br>"
            ],
            "text/plain": [
              "<IPython.core.display.HTML object>"
            ]
          },
          "metadata": {},
          "output_type": "display_data"
        },
        {
          "data": {
            "text/html": [
              " View project at <a href='https://wandb.ai/wilfried-mvomoeto-university-of-li-ge/Few-Shot-Binary-Class-Training_gru_glove_fastText_Bahdanau-GRU-Glove-' target=\"_blank\">https://wandb.ai/wilfried-mvomoeto-university-of-li-ge/Few-Shot-Binary-Class-Training_gru_glove_fastText_Bahdanau-GRU-Glove-</a>"
            ],
            "text/plain": [
              "<IPython.core.display.HTML object>"
            ]
          },
          "metadata": {},
          "output_type": "display_data"
        },
        {
          "data": {
            "text/html": [
              " View run at <a href='https://wandb.ai/wilfried-mvomoeto-university-of-li-ge/Few-Shot-Binary-Class-Training_gru_glove_fastText_Bahdanau-GRU-Glove-/runs/2ormyjoo' target=\"_blank\">https://wandb.ai/wilfried-mvomoeto-university-of-li-ge/Few-Shot-Binary-Class-Training_gru_glove_fastText_Bahdanau-GRU-Glove-/runs/2ormyjoo</a>"
            ],
            "text/plain": [
              "<IPython.core.display.HTML object>"
            ]
          },
          "metadata": {},
          "output_type": "display_data"
        },
        {
          "name": "stderr",
          "output_type": "stream",
          "text": [
            "Training GRU-Glove with 5-shot:   0%|          | 0/1000 [00:00<?, ?epoch/s]"
          ]
        },
        {
          "name": "stdout",
          "output_type": "stream",
          "text": [
            "Early stopping triggered at epoch 1\n",
            "Model GRU-Glove_K-5 saved with loss gap > 1.25 or accuracy gap > 10% at epoch 0.\n"
          ]
        },
        {
          "name": "stderr",
          "output_type": "stream",
          "text": [
            "\n",
            "<ipython-input-10-f03193db776b>:44: UserWarning: To copy construct from a tensor, it is recommended to use sourceTensor.clone().detach() or sourceTensor.clone().detach().requires_grad_(True), rather than torch.tensor(sourceTensor).\n",
            "  self.X = torch.tensor(X_data, dtype=torch.long)\n",
            "<ipython-input-10-f03193db776b>:45: UserWarning: To copy construct from a tensor, it is recommended to use sourceTensor.clone().detach() or sourceTensor.clone().detach().requires_grad_(True), rather than torch.tensor(sourceTensor).\n",
            "  self.y = torch.tensor(y_data, dtype=torch.long)\n"
          ]
        },
        {
          "data": {
            "text/html": [
              "Finishing previous runs because reinit is set to 'default'."
            ],
            "text/plain": [
              "<IPython.core.display.HTML object>"
            ]
          },
          "metadata": {},
          "output_type": "display_data"
        },
        {
          "data": {
            "text/html": [],
            "text/plain": [
              "<IPython.core.display.HTML object>"
            ]
          },
          "metadata": {},
          "output_type": "display_data"
        },
        {
          "data": {
            "text/html": [
              "<br>    <style><br>        .wandb-row {<br>            display: flex;<br>            flex-direction: row;<br>            flex-wrap: wrap;<br>            justify-content: flex-start;<br>            width: 100%;<br>        }<br>        .wandb-col {<br>            display: flex;<br>            flex-direction: column;<br>            flex-basis: 100%;<br>            flex: 1;<br>            padding: 10px;<br>        }<br>    </style><br><div class=\"wandb-row\"><div class=\"wandb-col\"><h3>Run history:</h3><br/><table class=\"wandb\"><tr><td>epoch</td><td>▁</td></tr><tr><td>k_shot</td><td>▁</td></tr><tr><td>test_acc</td><td>▁</td></tr><tr><td>test_balanced_acc</td><td>▁</td></tr><tr><td>test_f1</td><td>▁</td></tr><tr><td>test_loss</td><td>▁</td></tr><tr><td>test_precision</td><td>▁</td></tr><tr><td>test_recall</td><td>▁</td></tr><tr><td>train_acc</td><td>▁</td></tr><tr><td>train_loss</td><td>▁</td></tr></table><br/></div><div class=\"wandb-col\"><h3>Run summary:</h3><br/><table class=\"wandb\"><tr><td>epoch</td><td>1</td></tr><tr><td>k_shot</td><td>5</td></tr><tr><td>test_acc</td><td>0.63377</td></tr><tr><td>test_balanced_acc</td><td>0.5282</td></tr><tr><td>test_f1</td><td>0.5758</td></tr><tr><td>test_loss</td><td>0.69288</td></tr><tr><td>test_precision</td><td>0.58734</td></tr><tr><td>test_recall</td><td>0.63377</td></tr><tr><td>train_acc</td><td>0.7</td></tr><tr><td>train_loss</td><td>0.66546</td></tr></table><br/></div></div>"
            ],
            "text/plain": [
              "<IPython.core.display.HTML object>"
            ]
          },
          "metadata": {},
          "output_type": "display_data"
        },
        {
          "data": {
            "text/html": [
              " View run <strong style=\"color:#cdcd00\">GRU-Glove_K-5_Training</strong> at: <a href='https://wandb.ai/wilfried-mvomoeto-university-of-li-ge/Few-Shot-Binary-Class-Training_gru_glove_fastText_Bahdanau-GRU-Glove-/runs/2ormyjoo' target=\"_blank\">https://wandb.ai/wilfried-mvomoeto-university-of-li-ge/Few-Shot-Binary-Class-Training_gru_glove_fastText_Bahdanau-GRU-Glove-/runs/2ormyjoo</a><br> View project at: <a href='https://wandb.ai/wilfried-mvomoeto-university-of-li-ge/Few-Shot-Binary-Class-Training_gru_glove_fastText_Bahdanau-GRU-Glove-' target=\"_blank\">https://wandb.ai/wilfried-mvomoeto-university-of-li-ge/Few-Shot-Binary-Class-Training_gru_glove_fastText_Bahdanau-GRU-Glove-</a><br>Synced 5 W&B file(s), 0 media file(s), 0 artifact file(s) and 0 other file(s)"
            ],
            "text/plain": [
              "<IPython.core.display.HTML object>"
            ]
          },
          "metadata": {},
          "output_type": "display_data"
        },
        {
          "data": {
            "text/html": [
              "Find logs at: <code>./wandb/run-20250501_182523-2ormyjoo/logs</code>"
            ],
            "text/plain": [
              "<IPython.core.display.HTML object>"
            ]
          },
          "metadata": {},
          "output_type": "display_data"
        },
        {
          "data": {
            "text/html": [
              "Tracking run with wandb version 0.19.10"
            ],
            "text/plain": [
              "<IPython.core.display.HTML object>"
            ]
          },
          "metadata": {},
          "output_type": "display_data"
        },
        {
          "data": {
            "text/html": [
              "Run data is saved locally in <code>/content/wandb/run-20250501_182530-5iya4tij</code>"
            ],
            "text/plain": [
              "<IPython.core.display.HTML object>"
            ]
          },
          "metadata": {},
          "output_type": "display_data"
        },
        {
          "data": {
            "text/html": [
              "Syncing run <strong><a href='https://wandb.ai/wilfried-mvomoeto-university-of-li-ge/Few-Shot-Binary-Class-Training_gru_glove_fastText_Bahdanau-GRU-FastText-/runs/5iya4tij' target=\"_blank\">GRU-FastText_K-5_Training</a></strong> to <a href='https://wandb.ai/wilfried-mvomoeto-university-of-li-ge/Few-Shot-Binary-Class-Training_gru_glove_fastText_Bahdanau-GRU-FastText-' target=\"_blank\">Weights & Biases</a> (<a href='https://wandb.me/developer-guide' target=\"_blank\">docs</a>)<br>"
            ],
            "text/plain": [
              "<IPython.core.display.HTML object>"
            ]
          },
          "metadata": {},
          "output_type": "display_data"
        },
        {
          "data": {
            "text/html": [
              " View project at <a href='https://wandb.ai/wilfried-mvomoeto-university-of-li-ge/Few-Shot-Binary-Class-Training_gru_glove_fastText_Bahdanau-GRU-FastText-' target=\"_blank\">https://wandb.ai/wilfried-mvomoeto-university-of-li-ge/Few-Shot-Binary-Class-Training_gru_glove_fastText_Bahdanau-GRU-FastText-</a>"
            ],
            "text/plain": [
              "<IPython.core.display.HTML object>"
            ]
          },
          "metadata": {},
          "output_type": "display_data"
        },
        {
          "data": {
            "text/html": [
              " View run at <a href='https://wandb.ai/wilfried-mvomoeto-university-of-li-ge/Few-Shot-Binary-Class-Training_gru_glove_fastText_Bahdanau-GRU-FastText-/runs/5iya4tij' target=\"_blank\">https://wandb.ai/wilfried-mvomoeto-university-of-li-ge/Few-Shot-Binary-Class-Training_gru_glove_fastText_Bahdanau-GRU-FastText-/runs/5iya4tij</a>"
            ],
            "text/plain": [
              "<IPython.core.display.HTML object>"
            ]
          },
          "metadata": {},
          "output_type": "display_data"
        },
        {
          "name": "stderr",
          "output_type": "stream",
          "text": [
            "Training GRU-FastText with 5-shot:   0%|          | 0/1000 [00:00<?, ?epoch/s]"
          ]
        },
        {
          "name": "stdout",
          "output_type": "stream",
          "text": [
            "Early stopping triggered at epoch 1\n",
            "Model GRU-FastText_K-5 saved with loss gap > 1.25 or accuracy gap > 10% at epoch 0.\n",
            "\n",
            "Training with 10-shot...\n"
          ]
        },
        {
          "name": "stderr",
          "output_type": "stream",
          "text": [
            "\n",
            "<ipython-input-10-f03193db776b>:44: UserWarning: To copy construct from a tensor, it is recommended to use sourceTensor.clone().detach() or sourceTensor.clone().detach().requires_grad_(True), rather than torch.tensor(sourceTensor).\n",
            "  self.X = torch.tensor(X_data, dtype=torch.long)\n",
            "<ipython-input-10-f03193db776b>:45: UserWarning: To copy construct from a tensor, it is recommended to use sourceTensor.clone().detach() or sourceTensor.clone().detach().requires_grad_(True), rather than torch.tensor(sourceTensor).\n",
            "  self.y = torch.tensor(y_data, dtype=torch.long)\n"
          ]
        },
        {
          "data": {
            "text/html": [
              "Finishing previous runs because reinit is set to 'default'."
            ],
            "text/plain": [
              "<IPython.core.display.HTML object>"
            ]
          },
          "metadata": {},
          "output_type": "display_data"
        },
        {
          "data": {
            "text/html": [],
            "text/plain": [
              "<IPython.core.display.HTML object>"
            ]
          },
          "metadata": {},
          "output_type": "display_data"
        },
        {
          "data": {
            "text/html": [
              "<br>    <style><br>        .wandb-row {<br>            display: flex;<br>            flex-direction: row;<br>            flex-wrap: wrap;<br>            justify-content: flex-start;<br>            width: 100%;<br>        }<br>        .wandb-col {<br>            display: flex;<br>            flex-direction: column;<br>            flex-basis: 100%;<br>            flex: 1;<br>            padding: 10px;<br>        }<br>    </style><br><div class=\"wandb-row\"><div class=\"wandb-col\"><h3>Run history:</h3><br/><table class=\"wandb\"><tr><td>epoch</td><td>▁</td></tr><tr><td>k_shot</td><td>▁</td></tr><tr><td>test_acc</td><td>▁</td></tr><tr><td>test_balanced_acc</td><td>▁</td></tr><tr><td>test_f1</td><td>▁</td></tr><tr><td>test_loss</td><td>▁</td></tr><tr><td>test_precision</td><td>▁</td></tr><tr><td>test_recall</td><td>▁</td></tr><tr><td>train_acc</td><td>▁</td></tr><tr><td>train_loss</td><td>▁</td></tr></table><br/></div><div class=\"wandb-col\"><h3>Run summary:</h3><br/><table class=\"wandb\"><tr><td>epoch</td><td>1</td></tr><tr><td>k_shot</td><td>5</td></tr><tr><td>test_acc</td><td>0.35433</td></tr><tr><td>test_balanced_acc</td><td>0.49842</td></tr><tr><td>test_f1</td><td>0.1897</td></tr><tr><td>test_loss</td><td>0.69575</td></tr><tr><td>test_precision</td><td>0.44813</td></tr><tr><td>test_recall</td><td>0.35433</td></tr><tr><td>train_acc</td><td>0.5</td></tr><tr><td>train_loss</td><td>0.80327</td></tr></table><br/></div></div>"
            ],
            "text/plain": [
              "<IPython.core.display.HTML object>"
            ]
          },
          "metadata": {},
          "output_type": "display_data"
        },
        {
          "data": {
            "text/html": [
              " View run <strong style=\"color:#cdcd00\">GRU-FastText_K-5_Training</strong> at: <a href='https://wandb.ai/wilfried-mvomoeto-university-of-li-ge/Few-Shot-Binary-Class-Training_gru_glove_fastText_Bahdanau-GRU-FastText-/runs/5iya4tij' target=\"_blank\">https://wandb.ai/wilfried-mvomoeto-university-of-li-ge/Few-Shot-Binary-Class-Training_gru_glove_fastText_Bahdanau-GRU-FastText-/runs/5iya4tij</a><br> View project at: <a href='https://wandb.ai/wilfried-mvomoeto-university-of-li-ge/Few-Shot-Binary-Class-Training_gru_glove_fastText_Bahdanau-GRU-FastText-' target=\"_blank\">https://wandb.ai/wilfried-mvomoeto-university-of-li-ge/Few-Shot-Binary-Class-Training_gru_glove_fastText_Bahdanau-GRU-FastText-</a><br>Synced 5 W&B file(s), 0 media file(s), 0 artifact file(s) and 0 other file(s)"
            ],
            "text/plain": [
              "<IPython.core.display.HTML object>"
            ]
          },
          "metadata": {},
          "output_type": "display_data"
        },
        {
          "data": {
            "text/html": [
              "Find logs at: <code>./wandb/run-20250501_182530-5iya4tij/logs</code>"
            ],
            "text/plain": [
              "<IPython.core.display.HTML object>"
            ]
          },
          "metadata": {},
          "output_type": "display_data"
        },
        {
          "data": {
            "text/html": [
              "Tracking run with wandb version 0.19.10"
            ],
            "text/plain": [
              "<IPython.core.display.HTML object>"
            ]
          },
          "metadata": {},
          "output_type": "display_data"
        },
        {
          "data": {
            "text/html": [
              "Run data is saved locally in <code>/content/wandb/run-20250501_182535-udebajg6</code>"
            ],
            "text/plain": [
              "<IPython.core.display.HTML object>"
            ]
          },
          "metadata": {},
          "output_type": "display_data"
        },
        {
          "data": {
            "text/html": [
              "Syncing run <strong><a href='https://wandb.ai/wilfried-mvomoeto-university-of-li-ge/Few-Shot-Binary-Class-Training_gru_glove_fastText_Bahdanau-GRU-Bah-Glove-/runs/udebajg6' target=\"_blank\">GRU-Bah-Glove_K-10_Training</a></strong> to <a href='https://wandb.ai/wilfried-mvomoeto-university-of-li-ge/Few-Shot-Binary-Class-Training_gru_glove_fastText_Bahdanau-GRU-Bah-Glove-' target=\"_blank\">Weights & Biases</a> (<a href='https://wandb.me/developer-guide' target=\"_blank\">docs</a>)<br>"
            ],
            "text/plain": [
              "<IPython.core.display.HTML object>"
            ]
          },
          "metadata": {},
          "output_type": "display_data"
        },
        {
          "data": {
            "text/html": [
              " View project at <a href='https://wandb.ai/wilfried-mvomoeto-university-of-li-ge/Few-Shot-Binary-Class-Training_gru_glove_fastText_Bahdanau-GRU-Bah-Glove-' target=\"_blank\">https://wandb.ai/wilfried-mvomoeto-university-of-li-ge/Few-Shot-Binary-Class-Training_gru_glove_fastText_Bahdanau-GRU-Bah-Glove-</a>"
            ],
            "text/plain": [
              "<IPython.core.display.HTML object>"
            ]
          },
          "metadata": {},
          "output_type": "display_data"
        },
        {
          "data": {
            "text/html": [
              " View run at <a href='https://wandb.ai/wilfried-mvomoeto-university-of-li-ge/Few-Shot-Binary-Class-Training_gru_glove_fastText_Bahdanau-GRU-Bah-Glove-/runs/udebajg6' target=\"_blank\">https://wandb.ai/wilfried-mvomoeto-university-of-li-ge/Few-Shot-Binary-Class-Training_gru_glove_fastText_Bahdanau-GRU-Bah-Glove-/runs/udebajg6</a>"
            ],
            "text/plain": [
              "<IPython.core.display.HTML object>"
            ]
          },
          "metadata": {},
          "output_type": "display_data"
        },
        {
          "name": "stderr",
          "output_type": "stream",
          "text": [
            "GRU-Bah-Glove K-10 Epoch 7/1000 - Train Loss: 1.0078, Test Loss: 0.6724, Train Acc: 25.00%, Test Acc: 64.54%, Test F1: 50.65%, Test Balanced Acc: 49.98%, Test Recall: 64.54%, Test Precision: 41.68%, Time: 0.68 sec:   1%|          | 7/1000 [00:05<13:16,  1.25epoch/s]"
          ]
        },
        {
          "name": "stdout",
          "output_type": "stream",
          "text": [
            "Early stopping triggered at epoch 8\n",
            "Model GRU-Bah-Glove_K-10 saved with loss gap > 1.25 or accuracy gap > 10% at epoch 7.\n"
          ]
        },
        {
          "name": "stderr",
          "output_type": "stream",
          "text": [
            "\n",
            "<ipython-input-10-f03193db776b>:44: UserWarning: To copy construct from a tensor, it is recommended to use sourceTensor.clone().detach() or sourceTensor.clone().detach().requires_grad_(True), rather than torch.tensor(sourceTensor).\n",
            "  self.X = torch.tensor(X_data, dtype=torch.long)\n",
            "<ipython-input-10-f03193db776b>:45: UserWarning: To copy construct from a tensor, it is recommended to use sourceTensor.clone().detach() or sourceTensor.clone().detach().requires_grad_(True), rather than torch.tensor(sourceTensor).\n",
            "  self.y = torch.tensor(y_data, dtype=torch.long)\n"
          ]
        },
        {
          "data": {
            "text/html": [
              "Finishing previous runs because reinit is set to 'default'."
            ],
            "text/plain": [
              "<IPython.core.display.HTML object>"
            ]
          },
          "metadata": {},
          "output_type": "display_data"
        },
        {
          "data": {
            "text/html": [],
            "text/plain": [
              "<IPython.core.display.HTML object>"
            ]
          },
          "metadata": {},
          "output_type": "display_data"
        },
        {
          "data": {
            "text/html": [
              "<br>    <style><br>        .wandb-row {<br>            display: flex;<br>            flex-direction: row;<br>            flex-wrap: wrap;<br>            justify-content: flex-start;<br>            width: 100%;<br>        }<br>        .wandb-col {<br>            display: flex;<br>            flex-direction: column;<br>            flex-basis: 100%;<br>            flex: 1;<br>            padding: 10px;<br>        }<br>    </style><br><div class=\"wandb-row\"><div class=\"wandb-col\"><h3>Run history:</h3><br/><table class=\"wandb\"><tr><td>epoch</td><td>▁▂▃▄▅▆▇█</td></tr><tr><td>k_shot</td><td>▁▁▁▁▁▁▁▁</td></tr><tr><td>test_acc</td><td>▁███████</td></tr><tr><td>test_balanced_acc</td><td>▁███████</td></tr><tr><td>test_f1</td><td>▁███████</td></tr><tr><td>test_loss</td><td>▁▁▃▄▅▆▇█</td></tr><tr><td>test_precision</td><td>▁███████</td></tr><tr><td>test_recall</td><td>▁███████</td></tr><tr><td>train_acc</td><td>▆▃▃▆▃▄▁█</td></tr><tr><td>train_loss</td><td>▂▇▄▁▅▄█▂</td></tr></table><br/></div><div class=\"wandb-col\"><h3>Run summary:</h3><br/><table class=\"wandb\"><tr><td>epoch</td><td>8</td></tr><tr><td>k_shot</td><td>10</td></tr><tr><td>test_acc</td><td>0.64543</td></tr><tr><td>test_balanced_acc</td><td>0.49981</td></tr><tr><td>test_f1</td><td>0.50654</td></tr><tr><td>test_loss</td><td>0.67323</td></tr><tr><td>test_precision</td><td>0.41684</td></tr><tr><td>test_recall</td><td>0.64543</td></tr><tr><td>train_acc</td><td>0.75</td></tr><tr><td>train_loss</td><td>0.64219</td></tr></table><br/></div></div>"
            ],
            "text/plain": [
              "<IPython.core.display.HTML object>"
            ]
          },
          "metadata": {},
          "output_type": "display_data"
        },
        {
          "data": {
            "text/html": [
              " View run <strong style=\"color:#cdcd00\">GRU-Bah-Glove_K-10_Training</strong> at: <a href='https://wandb.ai/wilfried-mvomoeto-university-of-li-ge/Few-Shot-Binary-Class-Training_gru_glove_fastText_Bahdanau-GRU-Bah-Glove-/runs/udebajg6' target=\"_blank\">https://wandb.ai/wilfried-mvomoeto-university-of-li-ge/Few-Shot-Binary-Class-Training_gru_glove_fastText_Bahdanau-GRU-Bah-Glove-/runs/udebajg6</a><br> View project at: <a href='https://wandb.ai/wilfried-mvomoeto-university-of-li-ge/Few-Shot-Binary-Class-Training_gru_glove_fastText_Bahdanau-GRU-Bah-Glove-' target=\"_blank\">https://wandb.ai/wilfried-mvomoeto-university-of-li-ge/Few-Shot-Binary-Class-Training_gru_glove_fastText_Bahdanau-GRU-Bah-Glove-</a><br>Synced 5 W&B file(s), 0 media file(s), 0 artifact file(s) and 0 other file(s)"
            ],
            "text/plain": [
              "<IPython.core.display.HTML object>"
            ]
          },
          "metadata": {},
          "output_type": "display_data"
        },
        {
          "data": {
            "text/html": [
              "Find logs at: <code>./wandb/run-20250501_182535-udebajg6/logs</code>"
            ],
            "text/plain": [
              "<IPython.core.display.HTML object>"
            ]
          },
          "metadata": {},
          "output_type": "display_data"
        },
        {
          "data": {
            "text/html": [
              "Tracking run with wandb version 0.19.10"
            ],
            "text/plain": [
              "<IPython.core.display.HTML object>"
            ]
          },
          "metadata": {},
          "output_type": "display_data"
        },
        {
          "data": {
            "text/html": [
              "Run data is saved locally in <code>/content/wandb/run-20250501_182549-5ct8r9n9</code>"
            ],
            "text/plain": [
              "<IPython.core.display.HTML object>"
            ]
          },
          "metadata": {},
          "output_type": "display_data"
        },
        {
          "data": {
            "text/html": [
              "Syncing run <strong><a href='https://wandb.ai/wilfried-mvomoeto-university-of-li-ge/Few-Shot-Binary-Class-Training_gru_glove_fastText_Bahdanau-GRU-Bah-FastText-/runs/5ct8r9n9' target=\"_blank\">GRU-Bah-FastText_K-10_Training</a></strong> to <a href='https://wandb.ai/wilfried-mvomoeto-university-of-li-ge/Few-Shot-Binary-Class-Training_gru_glove_fastText_Bahdanau-GRU-Bah-FastText-' target=\"_blank\">Weights & Biases</a> (<a href='https://wandb.me/developer-guide' target=\"_blank\">docs</a>)<br>"
            ],
            "text/plain": [
              "<IPython.core.display.HTML object>"
            ]
          },
          "metadata": {},
          "output_type": "display_data"
        },
        {
          "data": {
            "text/html": [
              " View project at <a href='https://wandb.ai/wilfried-mvomoeto-university-of-li-ge/Few-Shot-Binary-Class-Training_gru_glove_fastText_Bahdanau-GRU-Bah-FastText-' target=\"_blank\">https://wandb.ai/wilfried-mvomoeto-university-of-li-ge/Few-Shot-Binary-Class-Training_gru_glove_fastText_Bahdanau-GRU-Bah-FastText-</a>"
            ],
            "text/plain": [
              "<IPython.core.display.HTML object>"
            ]
          },
          "metadata": {},
          "output_type": "display_data"
        },
        {
          "data": {
            "text/html": [
              " View run at <a href='https://wandb.ai/wilfried-mvomoeto-university-of-li-ge/Few-Shot-Binary-Class-Training_gru_glove_fastText_Bahdanau-GRU-Bah-FastText-/runs/5ct8r9n9' target=\"_blank\">https://wandb.ai/wilfried-mvomoeto-university-of-li-ge/Few-Shot-Binary-Class-Training_gru_glove_fastText_Bahdanau-GRU-Bah-FastText-/runs/5ct8r9n9</a>"
            ],
            "text/plain": [
              "<IPython.core.display.HTML object>"
            ]
          },
          "metadata": {},
          "output_type": "display_data"
        },
        {
          "name": "stderr",
          "output_type": "stream",
          "text": [
            "GRU-Bah-FastText K-10 Epoch 12/1000 - Train Loss: 0.7714, Test Loss: 0.6844, Train Acc: 45.00%, Test Acc: 64.47%, Test F1: 51.02%, Test Balanced Acc: 50.07%, Test Recall: 64.47%, Test Precision: 56.20%, Time: 0.68 sec:   1%|          | 12/1000 [00:09<12:26,  1.32epoch/s]"
          ]
        },
        {
          "name": "stdout",
          "output_type": "stream",
          "text": [
            "Early stopping triggered at epoch 13\n",
            "Model GRU-Bah-FastText_K-10 saved with loss gap > 1.25 or accuracy gap > 10% at epoch 12.\n"
          ]
        },
        {
          "name": "stderr",
          "output_type": "stream",
          "text": [
            "\n",
            "<ipython-input-10-f03193db776b>:44: UserWarning: To copy construct from a tensor, it is recommended to use sourceTensor.clone().detach() or sourceTensor.clone().detach().requires_grad_(True), rather than torch.tensor(sourceTensor).\n",
            "  self.X = torch.tensor(X_data, dtype=torch.long)\n",
            "<ipython-input-10-f03193db776b>:45: UserWarning: To copy construct from a tensor, it is recommended to use sourceTensor.clone().detach() or sourceTensor.clone().detach().requires_grad_(True), rather than torch.tensor(sourceTensor).\n",
            "  self.y = torch.tensor(y_data, dtype=torch.long)\n"
          ]
        },
        {
          "data": {
            "text/html": [
              "Finishing previous runs because reinit is set to 'default'."
            ],
            "text/plain": [
              "<IPython.core.display.HTML object>"
            ]
          },
          "metadata": {},
          "output_type": "display_data"
        },
        {
          "data": {
            "text/html": [],
            "text/plain": [
              "<IPython.core.display.HTML object>"
            ]
          },
          "metadata": {},
          "output_type": "display_data"
        },
        {
          "data": {
            "text/html": [
              "<br>    <style><br>        .wandb-row {<br>            display: flex;<br>            flex-direction: row;<br>            flex-wrap: wrap;<br>            justify-content: flex-start;<br>            width: 100%;<br>        }<br>        .wandb-col {<br>            display: flex;<br>            flex-direction: column;<br>            flex-basis: 100%;<br>            flex: 1;<br>            padding: 10px;<br>        }<br>    </style><br><div class=\"wandb-row\"><div class=\"wandb-col\"><h3>Run history:</h3><br/><table class=\"wandb\"><tr><td>epoch</td><td>▁▂▂▃▃▄▅▅▆▆▇▇█</td></tr><tr><td>k_shot</td><td>▁▁▁▁▁▁▁▁▁▁▁▁▁</td></tr><tr><td>test_acc</td><td>███▇▇▇▅▅▁▃▅▅▅</td></tr><tr><td>test_balanced_acc</td><td>▆▆▆▆▅▅▄▄▁▄▇██</td></tr><tr><td>test_f1</td><td>▂▂▂▃▃▃▂▂▁▄▇██</td></tr><tr><td>test_loss</td><td>▁▃▄▅▅▆▆▇█████</td></tr><tr><td>test_precision</td><td>▁▁▁▇▅▅▃▃▂▆███</td></tr><tr><td>test_recall</td><td>███▇▇▇▅▅▁▃▅▅▅</td></tr><tr><td>train_acc</td><td>▅▆▃▄▃▅▃▄▁▇▅▄█</td></tr><tr><td>train_loss</td><td>▂▃█▁▆▃▃▃▃▃▁▄▃</td></tr></table><br/></div><div class=\"wandb-col\"><h3>Run summary:</h3><br/><table class=\"wandb\"><tr><td>epoch</td><td>13</td></tr><tr><td>k_shot</td><td>10</td></tr><tr><td>test_acc</td><td>0.64468</td></tr><tr><td>test_balanced_acc</td><td>0.50065</td></tr><tr><td>test_f1</td><td>0.5102</td></tr><tr><td>test_loss</td><td>0.68437</td></tr><tr><td>test_precision</td><td>0.56204</td></tr><tr><td>test_recall</td><td>0.64468</td></tr><tr><td>train_acc</td><td>0.7</td></tr><tr><td>train_loss</td><td>0.74049</td></tr></table><br/></div></div>"
            ],
            "text/plain": [
              "<IPython.core.display.HTML object>"
            ]
          },
          "metadata": {},
          "output_type": "display_data"
        },
        {
          "data": {
            "text/html": [
              " View run <strong style=\"color:#cdcd00\">GRU-Bah-FastText_K-10_Training</strong> at: <a href='https://wandb.ai/wilfried-mvomoeto-university-of-li-ge/Few-Shot-Binary-Class-Training_gru_glove_fastText_Bahdanau-GRU-Bah-FastText-/runs/5ct8r9n9' target=\"_blank\">https://wandb.ai/wilfried-mvomoeto-university-of-li-ge/Few-Shot-Binary-Class-Training_gru_glove_fastText_Bahdanau-GRU-Bah-FastText-/runs/5ct8r9n9</a><br> View project at: <a href='https://wandb.ai/wilfried-mvomoeto-university-of-li-ge/Few-Shot-Binary-Class-Training_gru_glove_fastText_Bahdanau-GRU-Bah-FastText-' target=\"_blank\">https://wandb.ai/wilfried-mvomoeto-university-of-li-ge/Few-Shot-Binary-Class-Training_gru_glove_fastText_Bahdanau-GRU-Bah-FastText-</a><br>Synced 5 W&B file(s), 0 media file(s), 0 artifact file(s) and 0 other file(s)"
            ],
            "text/plain": [
              "<IPython.core.display.HTML object>"
            ]
          },
          "metadata": {},
          "output_type": "display_data"
        },
        {
          "data": {
            "text/html": [
              "Find logs at: <code>./wandb/run-20250501_182549-5ct8r9n9/logs</code>"
            ],
            "text/plain": [
              "<IPython.core.display.HTML object>"
            ]
          },
          "metadata": {},
          "output_type": "display_data"
        },
        {
          "data": {
            "text/html": [
              "Tracking run with wandb version 0.19.10"
            ],
            "text/plain": [
              "<IPython.core.display.HTML object>"
            ]
          },
          "metadata": {},
          "output_type": "display_data"
        },
        {
          "data": {
            "text/html": [
              "Run data is saved locally in <code>/content/wandb/run-20250501_182604-5zste9wy</code>"
            ],
            "text/plain": [
              "<IPython.core.display.HTML object>"
            ]
          },
          "metadata": {},
          "output_type": "display_data"
        },
        {
          "data": {
            "text/html": [
              "Syncing run <strong><a href='https://wandb.ai/wilfried-mvomoeto-university-of-li-ge/Few-Shot-Binary-Class-Training_gru_glove_fastText_Bahdanau-CNN_LSTM-/runs/5zste9wy' target=\"_blank\">CNN_LSTM_K-10_Training</a></strong> to <a href='https://wandb.ai/wilfried-mvomoeto-university-of-li-ge/Few-Shot-Binary-Class-Training_gru_glove_fastText_Bahdanau-CNN_LSTM-' target=\"_blank\">Weights & Biases</a> (<a href='https://wandb.me/developer-guide' target=\"_blank\">docs</a>)<br>"
            ],
            "text/plain": [
              "<IPython.core.display.HTML object>"
            ]
          },
          "metadata": {},
          "output_type": "display_data"
        },
        {
          "data": {
            "text/html": [
              " View project at <a href='https://wandb.ai/wilfried-mvomoeto-university-of-li-ge/Few-Shot-Binary-Class-Training_gru_glove_fastText_Bahdanau-CNN_LSTM-' target=\"_blank\">https://wandb.ai/wilfried-mvomoeto-university-of-li-ge/Few-Shot-Binary-Class-Training_gru_glove_fastText_Bahdanau-CNN_LSTM-</a>"
            ],
            "text/plain": [
              "<IPython.core.display.HTML object>"
            ]
          },
          "metadata": {},
          "output_type": "display_data"
        },
        {
          "data": {
            "text/html": [
              " View run at <a href='https://wandb.ai/wilfried-mvomoeto-university-of-li-ge/Few-Shot-Binary-Class-Training_gru_glove_fastText_Bahdanau-CNN_LSTM-/runs/5zste9wy' target=\"_blank\">https://wandb.ai/wilfried-mvomoeto-university-of-li-ge/Few-Shot-Binary-Class-Training_gru_glove_fastText_Bahdanau-CNN_LSTM-/runs/5zste9wy</a>"
            ],
            "text/plain": [
              "<IPython.core.display.HTML object>"
            ]
          },
          "metadata": {},
          "output_type": "display_data"
        },
        {
          "name": "stderr",
          "output_type": "stream",
          "text": [
            "Training CNN_LSTM with 10-shot:   0%|          | 0/1000 [00:00<?, ?epoch/s]"
          ]
        },
        {
          "name": "stdout",
          "output_type": "stream",
          "text": [
            "Early stopping triggered at epoch 1\n",
            "Model CNN_LSTM_K-10 saved with loss gap > 1.25 or accuracy gap > 10% at epoch 0.\n"
          ]
        },
        {
          "name": "stderr",
          "output_type": "stream",
          "text": [
            "\n",
            "<ipython-input-10-f03193db776b>:44: UserWarning: To copy construct from a tensor, it is recommended to use sourceTensor.clone().detach() or sourceTensor.clone().detach().requires_grad_(True), rather than torch.tensor(sourceTensor).\n",
            "  self.X = torch.tensor(X_data, dtype=torch.long)\n",
            "<ipython-input-10-f03193db776b>:45: UserWarning: To copy construct from a tensor, it is recommended to use sourceTensor.clone().detach() or sourceTensor.clone().detach().requires_grad_(True), rather than torch.tensor(sourceTensor).\n",
            "  self.y = torch.tensor(y_data, dtype=torch.long)\n"
          ]
        },
        {
          "data": {
            "text/html": [
              "Finishing previous runs because reinit is set to 'default'."
            ],
            "text/plain": [
              "<IPython.core.display.HTML object>"
            ]
          },
          "metadata": {},
          "output_type": "display_data"
        },
        {
          "data": {
            "text/html": [],
            "text/plain": [
              "<IPython.core.display.HTML object>"
            ]
          },
          "metadata": {},
          "output_type": "display_data"
        },
        {
          "data": {
            "text/html": [
              "<br>    <style><br>        .wandb-row {<br>            display: flex;<br>            flex-direction: row;<br>            flex-wrap: wrap;<br>            justify-content: flex-start;<br>            width: 100%;<br>        }<br>        .wandb-col {<br>            display: flex;<br>            flex-direction: column;<br>            flex-basis: 100%;<br>            flex: 1;<br>            padding: 10px;<br>        }<br>    </style><br><div class=\"wandb-row\"><div class=\"wandb-col\"><h3>Run history:</h3><br/><table class=\"wandb\"><tr><td>epoch</td><td>▁</td></tr><tr><td>k_shot</td><td>▁</td></tr><tr><td>test_acc</td><td>▁</td></tr><tr><td>test_balanced_acc</td><td>▁</td></tr><tr><td>test_f1</td><td>▁</td></tr><tr><td>test_loss</td><td>▁</td></tr><tr><td>test_precision</td><td>▁</td></tr><tr><td>test_recall</td><td>▁</td></tr><tr><td>train_acc</td><td>▁</td></tr><tr><td>train_loss</td><td>▁</td></tr></table><br/></div><div class=\"wandb-col\"><h3>Run summary:</h3><br/><table class=\"wandb\"><tr><td>epoch</td><td>1</td></tr><tr><td>k_shot</td><td>10</td></tr><tr><td>test_acc</td><td>0.35383</td></tr><tr><td>test_balanced_acc</td><td>0.4993</td></tr><tr><td>test_f1</td><td>0.18521</td></tr><tr><td>test_loss</td><td>0.69527</td></tr><tr><td>test_precision</td><td>0.12543</td></tr><tr><td>test_recall</td><td>0.35383</td></tr><tr><td>train_acc</td><td>0.5</td></tr><tr><td>train_loss</td><td>0.69787</td></tr></table><br/></div></div>"
            ],
            "text/plain": [
              "<IPython.core.display.HTML object>"
            ]
          },
          "metadata": {},
          "output_type": "display_data"
        },
        {
          "data": {
            "text/html": [
              " View run <strong style=\"color:#cdcd00\">CNN_LSTM_K-10_Training</strong> at: <a href='https://wandb.ai/wilfried-mvomoeto-university-of-li-ge/Few-Shot-Binary-Class-Training_gru_glove_fastText_Bahdanau-CNN_LSTM-/runs/5zste9wy' target=\"_blank\">https://wandb.ai/wilfried-mvomoeto-university-of-li-ge/Few-Shot-Binary-Class-Training_gru_glove_fastText_Bahdanau-CNN_LSTM-/runs/5zste9wy</a><br> View project at: <a href='https://wandb.ai/wilfried-mvomoeto-university-of-li-ge/Few-Shot-Binary-Class-Training_gru_glove_fastText_Bahdanau-CNN_LSTM-' target=\"_blank\">https://wandb.ai/wilfried-mvomoeto-university-of-li-ge/Few-Shot-Binary-Class-Training_gru_glove_fastText_Bahdanau-CNN_LSTM-</a><br>Synced 5 W&B file(s), 0 media file(s), 0 artifact file(s) and 0 other file(s)"
            ],
            "text/plain": [
              "<IPython.core.display.HTML object>"
            ]
          },
          "metadata": {},
          "output_type": "display_data"
        },
        {
          "data": {
            "text/html": [
              "Find logs at: <code>./wandb/run-20250501_182604-5zste9wy/logs</code>"
            ],
            "text/plain": [
              "<IPython.core.display.HTML object>"
            ]
          },
          "metadata": {},
          "output_type": "display_data"
        },
        {
          "data": {
            "text/html": [
              "Tracking run with wandb version 0.19.10"
            ],
            "text/plain": [
              "<IPython.core.display.HTML object>"
            ]
          },
          "metadata": {},
          "output_type": "display_data"
        },
        {
          "data": {
            "text/html": [
              "Run data is saved locally in <code>/content/wandb/run-20250501_182610-h0faab0u</code>"
            ],
            "text/plain": [
              "<IPython.core.display.HTML object>"
            ]
          },
          "metadata": {},
          "output_type": "display_data"
        },
        {
          "data": {
            "text/html": [
              "Syncing run <strong><a href='https://wandb.ai/wilfried-mvomoeto-university-of-li-ge/Few-Shot-Binary-Class-Training_gru_glove_fastText_Bahdanau-GRU-Glove-/runs/h0faab0u' target=\"_blank\">GRU-Glove_K-10_Training</a></strong> to <a href='https://wandb.ai/wilfried-mvomoeto-university-of-li-ge/Few-Shot-Binary-Class-Training_gru_glove_fastText_Bahdanau-GRU-Glove-' target=\"_blank\">Weights & Biases</a> (<a href='https://wandb.me/developer-guide' target=\"_blank\">docs</a>)<br>"
            ],
            "text/plain": [
              "<IPython.core.display.HTML object>"
            ]
          },
          "metadata": {},
          "output_type": "display_data"
        },
        {
          "data": {
            "text/html": [
              " View project at <a href='https://wandb.ai/wilfried-mvomoeto-university-of-li-ge/Few-Shot-Binary-Class-Training_gru_glove_fastText_Bahdanau-GRU-Glove-' target=\"_blank\">https://wandb.ai/wilfried-mvomoeto-university-of-li-ge/Few-Shot-Binary-Class-Training_gru_glove_fastText_Bahdanau-GRU-Glove-</a>"
            ],
            "text/plain": [
              "<IPython.core.display.HTML object>"
            ]
          },
          "metadata": {},
          "output_type": "display_data"
        },
        {
          "data": {
            "text/html": [
              " View run at <a href='https://wandb.ai/wilfried-mvomoeto-university-of-li-ge/Few-Shot-Binary-Class-Training_gru_glove_fastText_Bahdanau-GRU-Glove-/runs/h0faab0u' target=\"_blank\">https://wandb.ai/wilfried-mvomoeto-university-of-li-ge/Few-Shot-Binary-Class-Training_gru_glove_fastText_Bahdanau-GRU-Glove-/runs/h0faab0u</a>"
            ],
            "text/plain": [
              "<IPython.core.display.HTML object>"
            ]
          },
          "metadata": {},
          "output_type": "display_data"
        },
        {
          "name": "stderr",
          "output_type": "stream",
          "text": [
            "Training GRU-Glove with 10-shot:   0%|          | 0/1000 [00:00<?, ?epoch/s]"
          ]
        },
        {
          "name": "stdout",
          "output_type": "stream",
          "text": [
            "Early stopping triggered at epoch 1\n",
            "Model GRU-Glove_K-10 saved with loss gap > 1.25 or accuracy gap > 10% at epoch 0.\n"
          ]
        },
        {
          "name": "stderr",
          "output_type": "stream",
          "text": [
            "\n",
            "<ipython-input-10-f03193db776b>:44: UserWarning: To copy construct from a tensor, it is recommended to use sourceTensor.clone().detach() or sourceTensor.clone().detach().requires_grad_(True), rather than torch.tensor(sourceTensor).\n",
            "  self.X = torch.tensor(X_data, dtype=torch.long)\n",
            "<ipython-input-10-f03193db776b>:45: UserWarning: To copy construct from a tensor, it is recommended to use sourceTensor.clone().detach() or sourceTensor.clone().detach().requires_grad_(True), rather than torch.tensor(sourceTensor).\n",
            "  self.y = torch.tensor(y_data, dtype=torch.long)\n"
          ]
        },
        {
          "data": {
            "text/html": [
              "Finishing previous runs because reinit is set to 'default'."
            ],
            "text/plain": [
              "<IPython.core.display.HTML object>"
            ]
          },
          "metadata": {},
          "output_type": "display_data"
        },
        {
          "data": {
            "text/html": [],
            "text/plain": [
              "<IPython.core.display.HTML object>"
            ]
          },
          "metadata": {},
          "output_type": "display_data"
        },
        {
          "data": {
            "text/html": [
              "<br>    <style><br>        .wandb-row {<br>            display: flex;<br>            flex-direction: row;<br>            flex-wrap: wrap;<br>            justify-content: flex-start;<br>            width: 100%;<br>        }<br>        .wandb-col {<br>            display: flex;<br>            flex-direction: column;<br>            flex-basis: 100%;<br>            flex: 1;<br>            padding: 10px;<br>        }<br>    </style><br><div class=\"wandb-row\"><div class=\"wandb-col\"><h3>Run history:</h3><br/><table class=\"wandb\"><tr><td>epoch</td><td>▁</td></tr><tr><td>k_shot</td><td>▁</td></tr><tr><td>test_acc</td><td>▁</td></tr><tr><td>test_balanced_acc</td><td>▁</td></tr><tr><td>test_f1</td><td>▁</td></tr><tr><td>test_loss</td><td>▁</td></tr><tr><td>test_precision</td><td>▁</td></tr><tr><td>test_recall</td><td>▁</td></tr><tr><td>train_acc</td><td>▁</td></tr><tr><td>train_loss</td><td>▁</td></tr></table><br/></div><div class=\"wandb-col\"><h3>Run summary:</h3><br/><table class=\"wandb\"><tr><td>epoch</td><td>1</td></tr><tr><td>k_shot</td><td>10</td></tr><tr><td>test_acc</td><td>0.35581</td></tr><tr><td>test_balanced_acc</td><td>0.50005</td></tr><tr><td>test_f1</td><td>0.19157</td></tr><tr><td>test_loss</td><td>0.73899</td></tr><tr><td>test_precision</td><td>0.54524</td></tr><tr><td>test_recall</td><td>0.35581</td></tr><tr><td>train_acc</td><td>0.6</td></tr><tr><td>train_loss</td><td>0.71202</td></tr></table><br/></div></div>"
            ],
            "text/plain": [
              "<IPython.core.display.HTML object>"
            ]
          },
          "metadata": {},
          "output_type": "display_data"
        },
        {
          "data": {
            "text/html": [
              " View run <strong style=\"color:#cdcd00\">GRU-Glove_K-10_Training</strong> at: <a href='https://wandb.ai/wilfried-mvomoeto-university-of-li-ge/Few-Shot-Binary-Class-Training_gru_glove_fastText_Bahdanau-GRU-Glove-/runs/h0faab0u' target=\"_blank\">https://wandb.ai/wilfried-mvomoeto-university-of-li-ge/Few-Shot-Binary-Class-Training_gru_glove_fastText_Bahdanau-GRU-Glove-/runs/h0faab0u</a><br> View project at: <a href='https://wandb.ai/wilfried-mvomoeto-university-of-li-ge/Few-Shot-Binary-Class-Training_gru_glove_fastText_Bahdanau-GRU-Glove-' target=\"_blank\">https://wandb.ai/wilfried-mvomoeto-university-of-li-ge/Few-Shot-Binary-Class-Training_gru_glove_fastText_Bahdanau-GRU-Glove-</a><br>Synced 5 W&B file(s), 0 media file(s), 0 artifact file(s) and 0 other file(s)"
            ],
            "text/plain": [
              "<IPython.core.display.HTML object>"
            ]
          },
          "metadata": {},
          "output_type": "display_data"
        },
        {
          "data": {
            "text/html": [
              "Find logs at: <code>./wandb/run-20250501_182610-h0faab0u/logs</code>"
            ],
            "text/plain": [
              "<IPython.core.display.HTML object>"
            ]
          },
          "metadata": {},
          "output_type": "display_data"
        },
        {
          "data": {
            "text/html": [
              "Tracking run with wandb version 0.19.10"
            ],
            "text/plain": [
              "<IPython.core.display.HTML object>"
            ]
          },
          "metadata": {},
          "output_type": "display_data"
        },
        {
          "data": {
            "text/html": [
              "Run data is saved locally in <code>/content/wandb/run-20250501_182617-qac6asb9</code>"
            ],
            "text/plain": [
              "<IPython.core.display.HTML object>"
            ]
          },
          "metadata": {},
          "output_type": "display_data"
        },
        {
          "data": {
            "text/html": [
              "Syncing run <strong><a href='https://wandb.ai/wilfried-mvomoeto-university-of-li-ge/Few-Shot-Binary-Class-Training_gru_glove_fastText_Bahdanau-GRU-FastText-/runs/qac6asb9' target=\"_blank\">GRU-FastText_K-10_Training</a></strong> to <a href='https://wandb.ai/wilfried-mvomoeto-university-of-li-ge/Few-Shot-Binary-Class-Training_gru_glove_fastText_Bahdanau-GRU-FastText-' target=\"_blank\">Weights & Biases</a> (<a href='https://wandb.me/developer-guide' target=\"_blank\">docs</a>)<br>"
            ],
            "text/plain": [
              "<IPython.core.display.HTML object>"
            ]
          },
          "metadata": {},
          "output_type": "display_data"
        },
        {
          "data": {
            "text/html": [
              " View project at <a href='https://wandb.ai/wilfried-mvomoeto-university-of-li-ge/Few-Shot-Binary-Class-Training_gru_glove_fastText_Bahdanau-GRU-FastText-' target=\"_blank\">https://wandb.ai/wilfried-mvomoeto-university-of-li-ge/Few-Shot-Binary-Class-Training_gru_glove_fastText_Bahdanau-GRU-FastText-</a>"
            ],
            "text/plain": [
              "<IPython.core.display.HTML object>"
            ]
          },
          "metadata": {},
          "output_type": "display_data"
        },
        {
          "data": {
            "text/html": [
              " View run at <a href='https://wandb.ai/wilfried-mvomoeto-university-of-li-ge/Few-Shot-Binary-Class-Training_gru_glove_fastText_Bahdanau-GRU-FastText-/runs/qac6asb9' target=\"_blank\">https://wandb.ai/wilfried-mvomoeto-university-of-li-ge/Few-Shot-Binary-Class-Training_gru_glove_fastText_Bahdanau-GRU-FastText-/runs/qac6asb9</a>"
            ],
            "text/plain": [
              "<IPython.core.display.HTML object>"
            ]
          },
          "metadata": {},
          "output_type": "display_data"
        },
        {
          "name": "stderr",
          "output_type": "stream",
          "text": [
            "GRU-FastText K-10 Epoch 2/1000 - Train Loss: 0.7157, Test Loss: 0.6799, Train Acc: 45.00%, Test Acc: 64.42%, Test F1: 51.00%, Test Balanced Acc: 50.03%, Test Recall: 64.42%, Test Precision: 54.98%, Time: 0.40 sec:   0%|          | 2/1000 [00:01<12:03,  1.38epoch/s]"
          ]
        },
        {
          "name": "stdout",
          "output_type": "stream",
          "text": [
            "Early stopping triggered at epoch 3\n",
            "Model GRU-FastText_K-10 saved with loss gap > 1.25 or accuracy gap > 10% at epoch 2.\n",
            "\n",
            "Training with 20-shot...\n"
          ]
        },
        {
          "name": "stderr",
          "output_type": "stream",
          "text": [
            "\n",
            "<ipython-input-10-f03193db776b>:44: UserWarning: To copy construct from a tensor, it is recommended to use sourceTensor.clone().detach() or sourceTensor.clone().detach().requires_grad_(True), rather than torch.tensor(sourceTensor).\n",
            "  self.X = torch.tensor(X_data, dtype=torch.long)\n",
            "<ipython-input-10-f03193db776b>:45: UserWarning: To copy construct from a tensor, it is recommended to use sourceTensor.clone().detach() or sourceTensor.clone().detach().requires_grad_(True), rather than torch.tensor(sourceTensor).\n",
            "  self.y = torch.tensor(y_data, dtype=torch.long)\n"
          ]
        },
        {
          "data": {
            "text/html": [
              "Finishing previous runs because reinit is set to 'default'."
            ],
            "text/plain": [
              "<IPython.core.display.HTML object>"
            ]
          },
          "metadata": {},
          "output_type": "display_data"
        },
        {
          "data": {
            "text/html": [],
            "text/plain": [
              "<IPython.core.display.HTML object>"
            ]
          },
          "metadata": {},
          "output_type": "display_data"
        },
        {
          "data": {
            "text/html": [
              "<br>    <style><br>        .wandb-row {<br>            display: flex;<br>            flex-direction: row;<br>            flex-wrap: wrap;<br>            justify-content: flex-start;<br>            width: 100%;<br>        }<br>        .wandb-col {<br>            display: flex;<br>            flex-direction: column;<br>            flex-basis: 100%;<br>            flex: 1;<br>            padding: 10px;<br>        }<br>    </style><br><div class=\"wandb-row\"><div class=\"wandb-col\"><h3>Run history:</h3><br/><table class=\"wandb\"><tr><td>epoch</td><td>▁▅█</td></tr><tr><td>k_shot</td><td>▁▁▁</td></tr><tr><td>test_acc</td><td>██▁</td></tr><tr><td>test_balanced_acc</td><td>██▁</td></tr><tr><td>test_f1</td><td>██▁</td></tr><tr><td>test_loss</td><td>▂▁█</td></tr><tr><td>test_precision</td><td>██▁</td></tr><tr><td>test_recall</td><td>██▁</td></tr><tr><td>train_acc</td><td>▁▄█</td></tr><tr><td>train_loss</td><td>▁▆█</td></tr></table><br/></div><div class=\"wandb-col\"><h3>Run summary:</h3><br/><table class=\"wandb\"><tr><td>epoch</td><td>3</td></tr><tr><td>k_shot</td><td>10</td></tr><tr><td>test_acc</td><td>0.35408</td></tr><tr><td>test_balanced_acc</td><td>0.4987</td></tr><tr><td>test_f1</td><td>0.18789</td></tr><tr><td>test_loss</td><td>0.70163</td></tr><tr><td>test_precision</td><td>0.42334</td></tr><tr><td>test_recall</td><td>0.35408</td></tr><tr><td>train_acc</td><td>0.5</td></tr><tr><td>train_loss</td><td>0.73597</td></tr></table><br/></div></div>"
            ],
            "text/plain": [
              "<IPython.core.display.HTML object>"
            ]
          },
          "metadata": {},
          "output_type": "display_data"
        },
        {
          "data": {
            "text/html": [
              " View run <strong style=\"color:#cdcd00\">GRU-FastText_K-10_Training</strong> at: <a href='https://wandb.ai/wilfried-mvomoeto-university-of-li-ge/Few-Shot-Binary-Class-Training_gru_glove_fastText_Bahdanau-GRU-FastText-/runs/qac6asb9' target=\"_blank\">https://wandb.ai/wilfried-mvomoeto-university-of-li-ge/Few-Shot-Binary-Class-Training_gru_glove_fastText_Bahdanau-GRU-FastText-/runs/qac6asb9</a><br> View project at: <a href='https://wandb.ai/wilfried-mvomoeto-university-of-li-ge/Few-Shot-Binary-Class-Training_gru_glove_fastText_Bahdanau-GRU-FastText-' target=\"_blank\">https://wandb.ai/wilfried-mvomoeto-university-of-li-ge/Few-Shot-Binary-Class-Training_gru_glove_fastText_Bahdanau-GRU-FastText-</a><br>Synced 5 W&B file(s), 0 media file(s), 0 artifact file(s) and 0 other file(s)"
            ],
            "text/plain": [
              "<IPython.core.display.HTML object>"
            ]
          },
          "metadata": {},
          "output_type": "display_data"
        },
        {
          "data": {
            "text/html": [
              "Find logs at: <code>./wandb/run-20250501_182617-qac6asb9/logs</code>"
            ],
            "text/plain": [
              "<IPython.core.display.HTML object>"
            ]
          },
          "metadata": {},
          "output_type": "display_data"
        },
        {
          "data": {
            "text/html": [
              "Tracking run with wandb version 0.19.10"
            ],
            "text/plain": [
              "<IPython.core.display.HTML object>"
            ]
          },
          "metadata": {},
          "output_type": "display_data"
        },
        {
          "data": {
            "text/html": [
              "Run data is saved locally in <code>/content/wandb/run-20250501_182624-0c2aqm6a</code>"
            ],
            "text/plain": [
              "<IPython.core.display.HTML object>"
            ]
          },
          "metadata": {},
          "output_type": "display_data"
        },
        {
          "data": {
            "text/html": [
              "Syncing run <strong><a href='https://wandb.ai/wilfried-mvomoeto-university-of-li-ge/Few-Shot-Binary-Class-Training_gru_glove_fastText_Bahdanau-GRU-Bah-Glove-/runs/0c2aqm6a' target=\"_blank\">GRU-Bah-Glove_K-20_Training</a></strong> to <a href='https://wandb.ai/wilfried-mvomoeto-university-of-li-ge/Few-Shot-Binary-Class-Training_gru_glove_fastText_Bahdanau-GRU-Bah-Glove-' target=\"_blank\">Weights & Biases</a> (<a href='https://wandb.me/developer-guide' target=\"_blank\">docs</a>)<br>"
            ],
            "text/plain": [
              "<IPython.core.display.HTML object>"
            ]
          },
          "metadata": {},
          "output_type": "display_data"
        },
        {
          "data": {
            "text/html": [
              " View project at <a href='https://wandb.ai/wilfried-mvomoeto-university-of-li-ge/Few-Shot-Binary-Class-Training_gru_glove_fastText_Bahdanau-GRU-Bah-Glove-' target=\"_blank\">https://wandb.ai/wilfried-mvomoeto-university-of-li-ge/Few-Shot-Binary-Class-Training_gru_glove_fastText_Bahdanau-GRU-Bah-Glove-</a>"
            ],
            "text/plain": [
              "<IPython.core.display.HTML object>"
            ]
          },
          "metadata": {},
          "output_type": "display_data"
        },
        {
          "data": {
            "text/html": [
              " View run at <a href='https://wandb.ai/wilfried-mvomoeto-university-of-li-ge/Few-Shot-Binary-Class-Training_gru_glove_fastText_Bahdanau-GRU-Bah-Glove-/runs/0c2aqm6a' target=\"_blank\">https://wandb.ai/wilfried-mvomoeto-university-of-li-ge/Few-Shot-Binary-Class-Training_gru_glove_fastText_Bahdanau-GRU-Bah-Glove-/runs/0c2aqm6a</a>"
            ],
            "text/plain": [
              "<IPython.core.display.HTML object>"
            ]
          },
          "metadata": {},
          "output_type": "display_data"
        },
        {
          "name": "stderr",
          "output_type": "stream",
          "text": [
            "Training GRU-Bah-Glove with 20-shot:   0%|          | 0/1000 [00:00<?, ?epoch/s]"
          ]
        },
        {
          "name": "stdout",
          "output_type": "stream",
          "text": [
            "Early stopping triggered at epoch 1\n",
            "Model GRU-Bah-Glove_K-20 saved with loss gap > 1.25 or accuracy gap > 10% at epoch 0.\n"
          ]
        },
        {
          "name": "stderr",
          "output_type": "stream",
          "text": [
            "\n",
            "<ipython-input-10-f03193db776b>:44: UserWarning: To copy construct from a tensor, it is recommended to use sourceTensor.clone().detach() or sourceTensor.clone().detach().requires_grad_(True), rather than torch.tensor(sourceTensor).\n",
            "  self.X = torch.tensor(X_data, dtype=torch.long)\n",
            "<ipython-input-10-f03193db776b>:45: UserWarning: To copy construct from a tensor, it is recommended to use sourceTensor.clone().detach() or sourceTensor.clone().detach().requires_grad_(True), rather than torch.tensor(sourceTensor).\n",
            "  self.y = torch.tensor(y_data, dtype=torch.long)\n"
          ]
        },
        {
          "data": {
            "text/html": [
              "Finishing previous runs because reinit is set to 'default'."
            ],
            "text/plain": [
              "<IPython.core.display.HTML object>"
            ]
          },
          "metadata": {},
          "output_type": "display_data"
        },
        {
          "data": {
            "text/html": [],
            "text/plain": [
              "<IPython.core.display.HTML object>"
            ]
          },
          "metadata": {},
          "output_type": "display_data"
        },
        {
          "data": {
            "text/html": [
              "<br>    <style><br>        .wandb-row {<br>            display: flex;<br>            flex-direction: row;<br>            flex-wrap: wrap;<br>            justify-content: flex-start;<br>            width: 100%;<br>        }<br>        .wandb-col {<br>            display: flex;<br>            flex-direction: column;<br>            flex-basis: 100%;<br>            flex: 1;<br>            padding: 10px;<br>        }<br>    </style><br><div class=\"wandb-row\"><div class=\"wandb-col\"><h3>Run history:</h3><br/><table class=\"wandb\"><tr><td>epoch</td><td>▁</td></tr><tr><td>k_shot</td><td>▁</td></tr><tr><td>test_acc</td><td>▁</td></tr><tr><td>test_balanced_acc</td><td>▁</td></tr><tr><td>test_f1</td><td>▁</td></tr><tr><td>test_loss</td><td>▁</td></tr><tr><td>test_precision</td><td>▁</td></tr><tr><td>test_recall</td><td>▁</td></tr><tr><td>train_acc</td><td>▁</td></tr><tr><td>train_loss</td><td>▁</td></tr></table><br/></div><div class=\"wandb-col\"><h3>Run summary:</h3><br/><table class=\"wandb\"><tr><td>epoch</td><td>1</td></tr><tr><td>k_shot</td><td>20</td></tr><tr><td>test_acc</td><td>0.35333</td></tr><tr><td>test_balanced_acc</td><td>0.48329</td></tr><tr><td>test_f1</td><td>0.22348</td></tr><tr><td>test_loss</td><td>0.69822</td></tr><tr><td>test_precision</td><td>0.43901</td></tr><tr><td>test_recall</td><td>0.35333</td></tr><tr><td>train_acc</td><td>0.425</td></tr><tr><td>train_loss</td><td>0.81405</td></tr></table><br/></div></div>"
            ],
            "text/plain": [
              "<IPython.core.display.HTML object>"
            ]
          },
          "metadata": {},
          "output_type": "display_data"
        },
        {
          "data": {
            "text/html": [
              " View run <strong style=\"color:#cdcd00\">GRU-Bah-Glove_K-20_Training</strong> at: <a href='https://wandb.ai/wilfried-mvomoeto-university-of-li-ge/Few-Shot-Binary-Class-Training_gru_glove_fastText_Bahdanau-GRU-Bah-Glove-/runs/0c2aqm6a' target=\"_blank\">https://wandb.ai/wilfried-mvomoeto-university-of-li-ge/Few-Shot-Binary-Class-Training_gru_glove_fastText_Bahdanau-GRU-Bah-Glove-/runs/0c2aqm6a</a><br> View project at: <a href='https://wandb.ai/wilfried-mvomoeto-university-of-li-ge/Few-Shot-Binary-Class-Training_gru_glove_fastText_Bahdanau-GRU-Bah-Glove-' target=\"_blank\">https://wandb.ai/wilfried-mvomoeto-university-of-li-ge/Few-Shot-Binary-Class-Training_gru_glove_fastText_Bahdanau-GRU-Bah-Glove-</a><br>Synced 5 W&B file(s), 0 media file(s), 0 artifact file(s) and 0 other file(s)"
            ],
            "text/plain": [
              "<IPython.core.display.HTML object>"
            ]
          },
          "metadata": {},
          "output_type": "display_data"
        },
        {
          "data": {
            "text/html": [
              "Find logs at: <code>./wandb/run-20250501_182624-0c2aqm6a/logs</code>"
            ],
            "text/plain": [
              "<IPython.core.display.HTML object>"
            ]
          },
          "metadata": {},
          "output_type": "display_data"
        },
        {
          "data": {
            "text/html": [
              "Tracking run with wandb version 0.19.10"
            ],
            "text/plain": [
              "<IPython.core.display.HTML object>"
            ]
          },
          "metadata": {},
          "output_type": "display_data"
        },
        {
          "data": {
            "text/html": [
              "Run data is saved locally in <code>/content/wandb/run-20250501_182632-dg2vl379</code>"
            ],
            "text/plain": [
              "<IPython.core.display.HTML object>"
            ]
          },
          "metadata": {},
          "output_type": "display_data"
        },
        {
          "data": {
            "text/html": [
              "Syncing run <strong><a href='https://wandb.ai/wilfried-mvomoeto-university-of-li-ge/Few-Shot-Binary-Class-Training_gru_glove_fastText_Bahdanau-GRU-Bah-FastText-/runs/dg2vl379' target=\"_blank\">GRU-Bah-FastText_K-20_Training</a></strong> to <a href='https://wandb.ai/wilfried-mvomoeto-university-of-li-ge/Few-Shot-Binary-Class-Training_gru_glove_fastText_Bahdanau-GRU-Bah-FastText-' target=\"_blank\">Weights & Biases</a> (<a href='https://wandb.me/developer-guide' target=\"_blank\">docs</a>)<br>"
            ],
            "text/plain": [
              "<IPython.core.display.HTML object>"
            ]
          },
          "metadata": {},
          "output_type": "display_data"
        },
        {
          "data": {
            "text/html": [
              " View project at <a href='https://wandb.ai/wilfried-mvomoeto-university-of-li-ge/Few-Shot-Binary-Class-Training_gru_glove_fastText_Bahdanau-GRU-Bah-FastText-' target=\"_blank\">https://wandb.ai/wilfried-mvomoeto-university-of-li-ge/Few-Shot-Binary-Class-Training_gru_glove_fastText_Bahdanau-GRU-Bah-FastText-</a>"
            ],
            "text/plain": [
              "<IPython.core.display.HTML object>"
            ]
          },
          "metadata": {},
          "output_type": "display_data"
        },
        {
          "data": {
            "text/html": [
              " View run at <a href='https://wandb.ai/wilfried-mvomoeto-university-of-li-ge/Few-Shot-Binary-Class-Training_gru_glove_fastText_Bahdanau-GRU-Bah-FastText-/runs/dg2vl379' target=\"_blank\">https://wandb.ai/wilfried-mvomoeto-university-of-li-ge/Few-Shot-Binary-Class-Training_gru_glove_fastText_Bahdanau-GRU-Bah-FastText-/runs/dg2vl379</a>"
            ],
            "text/plain": [
              "<IPython.core.display.HTML object>"
            ]
          },
          "metadata": {},
          "output_type": "display_data"
        },
        {
          "name": "stderr",
          "output_type": "stream",
          "text": [
            "GRU-Bah-FastText K-20 Epoch 12/1000 - Train Loss: 0.6509, Test Loss: 0.6742, Train Acc: 60.00%, Test Acc: 62.88%, Test F1: 54.67%, Test Balanced Acc: 50.84%, Test Recall: 62.88%, Test Precision: 56.13%, Time: 0.76 sec:   1%|          | 12/1000 [00:09<13:18,  1.24epoch/s]"
          ]
        },
        {
          "name": "stdout",
          "output_type": "stream",
          "text": [
            "Early stopping triggered at epoch 13\n",
            "Model GRU-Bah-FastText_K-20 saved with loss gap > 1.25 or accuracy gap > 10% at epoch 12.\n"
          ]
        },
        {
          "name": "stderr",
          "output_type": "stream",
          "text": [
            "\n",
            "<ipython-input-10-f03193db776b>:44: UserWarning: To copy construct from a tensor, it is recommended to use sourceTensor.clone().detach() or sourceTensor.clone().detach().requires_grad_(True), rather than torch.tensor(sourceTensor).\n",
            "  self.X = torch.tensor(X_data, dtype=torch.long)\n",
            "<ipython-input-10-f03193db776b>:45: UserWarning: To copy construct from a tensor, it is recommended to use sourceTensor.clone().detach() or sourceTensor.clone().detach().requires_grad_(True), rather than torch.tensor(sourceTensor).\n",
            "  self.y = torch.tensor(y_data, dtype=torch.long)\n"
          ]
        },
        {
          "data": {
            "text/html": [
              "Finishing previous runs because reinit is set to 'default'."
            ],
            "text/plain": [
              "<IPython.core.display.HTML object>"
            ]
          },
          "metadata": {},
          "output_type": "display_data"
        },
        {
          "data": {
            "text/html": [],
            "text/plain": [
              "<IPython.core.display.HTML object>"
            ]
          },
          "metadata": {},
          "output_type": "display_data"
        },
        {
          "data": {
            "text/html": [
              "<br>    <style><br>        .wandb-row {<br>            display: flex;<br>            flex-direction: row;<br>            flex-wrap: wrap;<br>            justify-content: flex-start;<br>            width: 100%;<br>        }<br>        .wandb-col {<br>            display: flex;<br>            flex-direction: column;<br>            flex-basis: 100%;<br>            flex: 1;<br>            padding: 10px;<br>        }<br>    </style><br><div class=\"wandb-row\"><div class=\"wandb-col\"><h3>Run history:</h3><br/><table class=\"wandb\"><tr><td>epoch</td><td>▁▂▂▃▃▄▅▅▆▆▇▇█</td></tr><tr><td>k_shot</td><td>▁▁▁▁▁▁▁▁▁▁▁▁▁</td></tr><tr><td>test_acc</td><td>▁▂▂▃▅▆▇▇▇████</td></tr><tr><td>test_balanced_acc</td><td>▄▃▁▂▄▃▃▂▃▅█▇▆</td></tr><tr><td>test_f1</td><td>█▇▆▅▅▃▂▁▂▃▅▅▃</td></tr><tr><td>test_loss</td><td>██▇▇▆▅▄▃▃▂▂▂▁</td></tr><tr><td>test_precision</td><td>▃▂▁▂▄▃▄▃▄▆██▇</td></tr><tr><td>test_recall</td><td>▁▂▂▃▅▆▇▇▇████</td></tr><tr><td>train_acc</td><td>▁▂▅▁▃▆▅▄▃▅▄▅█</td></tr><tr><td>train_loss</td><td>██▃▇▄▂▄▃▅▃▃▁▁</td></tr></table><br/></div><div class=\"wandb-col\"><h3>Run summary:</h3><br/><table class=\"wandb\"><tr><td>epoch</td><td>13</td></tr><tr><td>k_shot</td><td>20</td></tr><tr><td>test_acc</td><td>0.62931</td></tr><tr><td>test_balanced_acc</td><td>0.5069</td></tr><tr><td>test_f1</td><td>0.54343</td></tr><tr><td>test_loss</td><td>0.67245</td></tr><tr><td>test_precision</td><td>0.55903</td></tr><tr><td>test_recall</td><td>0.62931</td></tr><tr><td>train_acc</td><td>0.75</td></tr><tr><td>train_loss</td><td>0.65911</td></tr></table><br/></div></div>"
            ],
            "text/plain": [
              "<IPython.core.display.HTML object>"
            ]
          },
          "metadata": {},
          "output_type": "display_data"
        },
        {
          "data": {
            "text/html": [
              " View run <strong style=\"color:#cdcd00\">GRU-Bah-FastText_K-20_Training</strong> at: <a href='https://wandb.ai/wilfried-mvomoeto-university-of-li-ge/Few-Shot-Binary-Class-Training_gru_glove_fastText_Bahdanau-GRU-Bah-FastText-/runs/dg2vl379' target=\"_blank\">https://wandb.ai/wilfried-mvomoeto-university-of-li-ge/Few-Shot-Binary-Class-Training_gru_glove_fastText_Bahdanau-GRU-Bah-FastText-/runs/dg2vl379</a><br> View project at: <a href='https://wandb.ai/wilfried-mvomoeto-university-of-li-ge/Few-Shot-Binary-Class-Training_gru_glove_fastText_Bahdanau-GRU-Bah-FastText-' target=\"_blank\">https://wandb.ai/wilfried-mvomoeto-university-of-li-ge/Few-Shot-Binary-Class-Training_gru_glove_fastText_Bahdanau-GRU-Bah-FastText-</a><br>Synced 5 W&B file(s), 0 media file(s), 0 artifact file(s) and 0 other file(s)"
            ],
            "text/plain": [
              "<IPython.core.display.HTML object>"
            ]
          },
          "metadata": {},
          "output_type": "display_data"
        },
        {
          "data": {
            "text/html": [
              "Find logs at: <code>./wandb/run-20250501_182632-dg2vl379/logs</code>"
            ],
            "text/plain": [
              "<IPython.core.display.HTML object>"
            ]
          },
          "metadata": {},
          "output_type": "display_data"
        },
        {
          "data": {
            "text/html": [
              "Tracking run with wandb version 0.19.10"
            ],
            "text/plain": [
              "<IPython.core.display.HTML object>"
            ]
          },
          "metadata": {},
          "output_type": "display_data"
        },
        {
          "data": {
            "text/html": [
              "Run data is saved locally in <code>/content/wandb/run-20250501_182648-arg2lo2e</code>"
            ],
            "text/plain": [
              "<IPython.core.display.HTML object>"
            ]
          },
          "metadata": {},
          "output_type": "display_data"
        },
        {
          "data": {
            "text/html": [
              "Syncing run <strong><a href='https://wandb.ai/wilfried-mvomoeto-university-of-li-ge/Few-Shot-Binary-Class-Training_gru_glove_fastText_Bahdanau-CNN_LSTM-/runs/arg2lo2e' target=\"_blank\">CNN_LSTM_K-20_Training</a></strong> to <a href='https://wandb.ai/wilfried-mvomoeto-university-of-li-ge/Few-Shot-Binary-Class-Training_gru_glove_fastText_Bahdanau-CNN_LSTM-' target=\"_blank\">Weights & Biases</a> (<a href='https://wandb.me/developer-guide' target=\"_blank\">docs</a>)<br>"
            ],
            "text/plain": [
              "<IPython.core.display.HTML object>"
            ]
          },
          "metadata": {},
          "output_type": "display_data"
        },
        {
          "data": {
            "text/html": [
              " View project at <a href='https://wandb.ai/wilfried-mvomoeto-university-of-li-ge/Few-Shot-Binary-Class-Training_gru_glove_fastText_Bahdanau-CNN_LSTM-' target=\"_blank\">https://wandb.ai/wilfried-mvomoeto-university-of-li-ge/Few-Shot-Binary-Class-Training_gru_glove_fastText_Bahdanau-CNN_LSTM-</a>"
            ],
            "text/plain": [
              "<IPython.core.display.HTML object>"
            ]
          },
          "metadata": {},
          "output_type": "display_data"
        },
        {
          "data": {
            "text/html": [
              " View run at <a href='https://wandb.ai/wilfried-mvomoeto-university-of-li-ge/Few-Shot-Binary-Class-Training_gru_glove_fastText_Bahdanau-CNN_LSTM-/runs/arg2lo2e' target=\"_blank\">https://wandb.ai/wilfried-mvomoeto-university-of-li-ge/Few-Shot-Binary-Class-Training_gru_glove_fastText_Bahdanau-CNN_LSTM-/runs/arg2lo2e</a>"
            ],
            "text/plain": [
              "<IPython.core.display.HTML object>"
            ]
          },
          "metadata": {},
          "output_type": "display_data"
        },
        {
          "name": "stderr",
          "output_type": "stream",
          "text": [
            "CNN_LSTM K-20 Epoch 1/1000 - Train Loss: 0.6955, Test Loss: 0.6857, Train Acc: 50.00%, Test Acc: 64.57%, Test F1: 50.67%, Test Balanced Acc: 50.00%, Test Recall: 64.57%, Test Precision: 41.69%, Time: 0.59 sec:   0%|          | 1/1000 [00:01<18:11,  1.09s/epoch]"
          ]
        },
        {
          "name": "stdout",
          "output_type": "stream",
          "text": [
            "Early stopping triggered at epoch 2\n",
            "Model CNN_LSTM_K-20 saved with loss gap > 1.25 or accuracy gap > 10% at epoch 1.\n"
          ]
        },
        {
          "name": "stderr",
          "output_type": "stream",
          "text": [
            "\n",
            "<ipython-input-10-f03193db776b>:44: UserWarning: To copy construct from a tensor, it is recommended to use sourceTensor.clone().detach() or sourceTensor.clone().detach().requires_grad_(True), rather than torch.tensor(sourceTensor).\n",
            "  self.X = torch.tensor(X_data, dtype=torch.long)\n",
            "<ipython-input-10-f03193db776b>:45: UserWarning: To copy construct from a tensor, it is recommended to use sourceTensor.clone().detach() or sourceTensor.clone().detach().requires_grad_(True), rather than torch.tensor(sourceTensor).\n",
            "  self.y = torch.tensor(y_data, dtype=torch.long)\n"
          ]
        },
        {
          "data": {
            "text/html": [
              "Finishing previous runs because reinit is set to 'default'."
            ],
            "text/plain": [
              "<IPython.core.display.HTML object>"
            ]
          },
          "metadata": {},
          "output_type": "display_data"
        },
        {
          "data": {
            "text/html": [],
            "text/plain": [
              "<IPython.core.display.HTML object>"
            ]
          },
          "metadata": {},
          "output_type": "display_data"
        },
        {
          "data": {
            "text/html": [
              "<br>    <style><br>        .wandb-row {<br>            display: flex;<br>            flex-direction: row;<br>            flex-wrap: wrap;<br>            justify-content: flex-start;<br>            width: 100%;<br>        }<br>        .wandb-col {<br>            display: flex;<br>            flex-direction: column;<br>            flex-basis: 100%;<br>            flex: 1;<br>            padding: 10px;<br>        }<br>    </style><br><div class=\"wandb-row\"><div class=\"wandb-col\"><h3>Run history:</h3><br/><table class=\"wandb\"><tr><td>epoch</td><td>▁█</td></tr><tr><td>k_shot</td><td>▁▁</td></tr><tr><td>test_acc</td><td>█▁</td></tr><tr><td>test_balanced_acc</td><td>█▁</td></tr><tr><td>test_f1</td><td>█▁</td></tr><tr><td>test_loss</td><td>▁█</td></tr><tr><td>test_precision</td><td>▁█</td></tr><tr><td>test_recall</td><td>█▁</td></tr><tr><td>train_acc</td><td>▁█</td></tr><tr><td>train_loss</td><td>█▁</td></tr></table><br/></div><div class=\"wandb-col\"><h3>Run summary:</h3><br/><table class=\"wandb\"><tr><td>epoch</td><td>2</td></tr><tr><td>k_shot</td><td>20</td></tr><tr><td>test_acc</td><td>0.35532</td></tr><tr><td>test_balanced_acc</td><td>0.49808</td></tr><tr><td>test_f1</td><td>0.19474</td></tr><tr><td>test_loss</td><td>0.69598</td></tr><tr><td>test_precision</td><td>0.48205</td></tr><tr><td>test_recall</td><td>0.35532</td></tr><tr><td>train_acc</td><td>0.525</td></tr><tr><td>train_loss</td><td>0.69034</td></tr></table><br/></div></div>"
            ],
            "text/plain": [
              "<IPython.core.display.HTML object>"
            ]
          },
          "metadata": {},
          "output_type": "display_data"
        },
        {
          "data": {
            "text/html": [
              " View run <strong style=\"color:#cdcd00\">CNN_LSTM_K-20_Training</strong> at: <a href='https://wandb.ai/wilfried-mvomoeto-university-of-li-ge/Few-Shot-Binary-Class-Training_gru_glove_fastText_Bahdanau-CNN_LSTM-/runs/arg2lo2e' target=\"_blank\">https://wandb.ai/wilfried-mvomoeto-university-of-li-ge/Few-Shot-Binary-Class-Training_gru_glove_fastText_Bahdanau-CNN_LSTM-/runs/arg2lo2e</a><br> View project at: <a href='https://wandb.ai/wilfried-mvomoeto-university-of-li-ge/Few-Shot-Binary-Class-Training_gru_glove_fastText_Bahdanau-CNN_LSTM-' target=\"_blank\">https://wandb.ai/wilfried-mvomoeto-university-of-li-ge/Few-Shot-Binary-Class-Training_gru_glove_fastText_Bahdanau-CNN_LSTM-</a><br>Synced 5 W&B file(s), 0 media file(s), 0 artifact file(s) and 0 other file(s)"
            ],
            "text/plain": [
              "<IPython.core.display.HTML object>"
            ]
          },
          "metadata": {},
          "output_type": "display_data"
        },
        {
          "data": {
            "text/html": [
              "Find logs at: <code>./wandb/run-20250501_182648-arg2lo2e/logs</code>"
            ],
            "text/plain": [
              "<IPython.core.display.HTML object>"
            ]
          },
          "metadata": {},
          "output_type": "display_data"
        },
        {
          "data": {
            "text/html": [
              "Tracking run with wandb version 0.19.10"
            ],
            "text/plain": [
              "<IPython.core.display.HTML object>"
            ]
          },
          "metadata": {},
          "output_type": "display_data"
        },
        {
          "data": {
            "text/html": [
              "Run data is saved locally in <code>/content/wandb/run-20250501_182657-8vjbag15</code>"
            ],
            "text/plain": [
              "<IPython.core.display.HTML object>"
            ]
          },
          "metadata": {},
          "output_type": "display_data"
        },
        {
          "data": {
            "text/html": [
              "Syncing run <strong><a href='https://wandb.ai/wilfried-mvomoeto-university-of-li-ge/Few-Shot-Binary-Class-Training_gru_glove_fastText_Bahdanau-GRU-Glove-/runs/8vjbag15' target=\"_blank\">GRU-Glove_K-20_Training</a></strong> to <a href='https://wandb.ai/wilfried-mvomoeto-university-of-li-ge/Few-Shot-Binary-Class-Training_gru_glove_fastText_Bahdanau-GRU-Glove-' target=\"_blank\">Weights & Biases</a> (<a href='https://wandb.me/developer-guide' target=\"_blank\">docs</a>)<br>"
            ],
            "text/plain": [
              "<IPython.core.display.HTML object>"
            ]
          },
          "metadata": {},
          "output_type": "display_data"
        },
        {
          "data": {
            "text/html": [
              " View project at <a href='https://wandb.ai/wilfried-mvomoeto-university-of-li-ge/Few-Shot-Binary-Class-Training_gru_glove_fastText_Bahdanau-GRU-Glove-' target=\"_blank\">https://wandb.ai/wilfried-mvomoeto-university-of-li-ge/Few-Shot-Binary-Class-Training_gru_glove_fastText_Bahdanau-GRU-Glove-</a>"
            ],
            "text/plain": [
              "<IPython.core.display.HTML object>"
            ]
          },
          "metadata": {},
          "output_type": "display_data"
        },
        {
          "data": {
            "text/html": [
              " View run at <a href='https://wandb.ai/wilfried-mvomoeto-university-of-li-ge/Few-Shot-Binary-Class-Training_gru_glove_fastText_Bahdanau-GRU-Glove-/runs/8vjbag15' target=\"_blank\">https://wandb.ai/wilfried-mvomoeto-university-of-li-ge/Few-Shot-Binary-Class-Training_gru_glove_fastText_Bahdanau-GRU-Glove-/runs/8vjbag15</a>"
            ],
            "text/plain": [
              "<IPython.core.display.HTML object>"
            ]
          },
          "metadata": {},
          "output_type": "display_data"
        },
        {
          "name": "stderr",
          "output_type": "stream",
          "text": [
            "GRU-Glove K-20 Epoch 2/1000 - Train Loss: 0.7332, Test Loss: 0.7287, Train Acc: 37.50%, Test Acc: 35.51%, Test F1: 19.17%, Test Balanced Acc: 49.88%, Test Recall: 35.51%, Test Precision: 48.69%, Time: 0.44 sec:   0%|          | 2/1000 [00:01<12:10,  1.37epoch/s]"
          ]
        },
        {
          "name": "stdout",
          "output_type": "stream",
          "text": [
            "Early stopping triggered at epoch 3\n",
            "Model GRU-Glove_K-20 saved with loss gap > 1.25 or accuracy gap > 10% at epoch 2.\n"
          ]
        },
        {
          "name": "stderr",
          "output_type": "stream",
          "text": [
            "\n",
            "<ipython-input-10-f03193db776b>:44: UserWarning: To copy construct from a tensor, it is recommended to use sourceTensor.clone().detach() or sourceTensor.clone().detach().requires_grad_(True), rather than torch.tensor(sourceTensor).\n",
            "  self.X = torch.tensor(X_data, dtype=torch.long)\n",
            "<ipython-input-10-f03193db776b>:45: UserWarning: To copy construct from a tensor, it is recommended to use sourceTensor.clone().detach() or sourceTensor.clone().detach().requires_grad_(True), rather than torch.tensor(sourceTensor).\n",
            "  self.y = torch.tensor(y_data, dtype=torch.long)\n"
          ]
        },
        {
          "data": {
            "text/html": [
              "Finishing previous runs because reinit is set to 'default'."
            ],
            "text/plain": [
              "<IPython.core.display.HTML object>"
            ]
          },
          "metadata": {},
          "output_type": "display_data"
        },
        {
          "data": {
            "text/html": [],
            "text/plain": [
              "<IPython.core.display.HTML object>"
            ]
          },
          "metadata": {},
          "output_type": "display_data"
        },
        {
          "data": {
            "text/html": [
              "<br>    <style><br>        .wandb-row {<br>            display: flex;<br>            flex-direction: row;<br>            flex-wrap: wrap;<br>            justify-content: flex-start;<br>            width: 100%;<br>        }<br>        .wandb-col {<br>            display: flex;<br>            flex-direction: column;<br>            flex-basis: 100%;<br>            flex: 1;<br>            padding: 10px;<br>        }<br>    </style><br><div class=\"wandb-row\"><div class=\"wandb-col\"><h3>Run history:</h3><br/><table class=\"wandb\"><tr><td>epoch</td><td>▁▅█</td></tr><tr><td>k_shot</td><td>▁▁▁</td></tr><tr><td>test_acc</td><td>█▁▁</td></tr><tr><td>test_balanced_acc</td><td>█▁▁</td></tr><tr><td>test_f1</td><td>█▁▁</td></tr><tr><td>test_loss</td><td>▁▅█</td></tr><tr><td>test_precision</td><td>█▁▁</td></tr><tr><td>test_recall</td><td>█▁▁</td></tr><tr><td>train_acc</td><td>▂▁█</td></tr><tr><td>train_loss</td><td>█▆▁</td></tr></table><br/></div><div class=\"wandb-col\"><h3>Run summary:</h3><br/><table class=\"wandb\"><tr><td>epoch</td><td>3</td></tr><tr><td>k_shot</td><td>20</td></tr><tr><td>test_acc</td><td>0.35507</td></tr><tr><td>test_balanced_acc</td><td>0.49884</td></tr><tr><td>test_f1</td><td>0.1917</td></tr><tr><td>test_loss</td><td>0.7477</td></tr><tr><td>test_precision</td><td>0.48694</td></tr><tr><td>test_recall</td><td>0.35507</td></tr><tr><td>train_acc</td><td>0.6</td></tr><tr><td>train_loss</td><td>0.69137</td></tr></table><br/></div></div>"
            ],
            "text/plain": [
              "<IPython.core.display.HTML object>"
            ]
          },
          "metadata": {},
          "output_type": "display_data"
        },
        {
          "data": {
            "text/html": [
              " View run <strong style=\"color:#cdcd00\">GRU-Glove_K-20_Training</strong> at: <a href='https://wandb.ai/wilfried-mvomoeto-university-of-li-ge/Few-Shot-Binary-Class-Training_gru_glove_fastText_Bahdanau-GRU-Glove-/runs/8vjbag15' target=\"_blank\">https://wandb.ai/wilfried-mvomoeto-university-of-li-ge/Few-Shot-Binary-Class-Training_gru_glove_fastText_Bahdanau-GRU-Glove-/runs/8vjbag15</a><br> View project at: <a href='https://wandb.ai/wilfried-mvomoeto-university-of-li-ge/Few-Shot-Binary-Class-Training_gru_glove_fastText_Bahdanau-GRU-Glove-' target=\"_blank\">https://wandb.ai/wilfried-mvomoeto-university-of-li-ge/Few-Shot-Binary-Class-Training_gru_glove_fastText_Bahdanau-GRU-Glove-</a><br>Synced 5 W&B file(s), 0 media file(s), 0 artifact file(s) and 0 other file(s)"
            ],
            "text/plain": [
              "<IPython.core.display.HTML object>"
            ]
          },
          "metadata": {},
          "output_type": "display_data"
        },
        {
          "data": {
            "text/html": [
              "Find logs at: <code>./wandb/run-20250501_182657-8vjbag15/logs</code>"
            ],
            "text/plain": [
              "<IPython.core.display.HTML object>"
            ]
          },
          "metadata": {},
          "output_type": "display_data"
        },
        {
          "data": {
            "text/html": [
              "Tracking run with wandb version 0.19.10"
            ],
            "text/plain": [
              "<IPython.core.display.HTML object>"
            ]
          },
          "metadata": {},
          "output_type": "display_data"
        },
        {
          "data": {
            "text/html": [
              "Run data is saved locally in <code>/content/wandb/run-20250501_182703-z7t4fyn7</code>"
            ],
            "text/plain": [
              "<IPython.core.display.HTML object>"
            ]
          },
          "metadata": {},
          "output_type": "display_data"
        },
        {
          "data": {
            "text/html": [
              "Syncing run <strong><a href='https://wandb.ai/wilfried-mvomoeto-university-of-li-ge/Few-Shot-Binary-Class-Training_gru_glove_fastText_Bahdanau-GRU-FastText-/runs/z7t4fyn7' target=\"_blank\">GRU-FastText_K-20_Training</a></strong> to <a href='https://wandb.ai/wilfried-mvomoeto-university-of-li-ge/Few-Shot-Binary-Class-Training_gru_glove_fastText_Bahdanau-GRU-FastText-' target=\"_blank\">Weights & Biases</a> (<a href='https://wandb.me/developer-guide' target=\"_blank\">docs</a>)<br>"
            ],
            "text/plain": [
              "<IPython.core.display.HTML object>"
            ]
          },
          "metadata": {},
          "output_type": "display_data"
        },
        {
          "data": {
            "text/html": [
              " View project at <a href='https://wandb.ai/wilfried-mvomoeto-university-of-li-ge/Few-Shot-Binary-Class-Training_gru_glove_fastText_Bahdanau-GRU-FastText-' target=\"_blank\">https://wandb.ai/wilfried-mvomoeto-university-of-li-ge/Few-Shot-Binary-Class-Training_gru_glove_fastText_Bahdanau-GRU-FastText-</a>"
            ],
            "text/plain": [
              "<IPython.core.display.HTML object>"
            ]
          },
          "metadata": {},
          "output_type": "display_data"
        },
        {
          "data": {
            "text/html": [
              " View run at <a href='https://wandb.ai/wilfried-mvomoeto-university-of-li-ge/Few-Shot-Binary-Class-Training_gru_glove_fastText_Bahdanau-GRU-FastText-/runs/z7t4fyn7' target=\"_blank\">https://wandb.ai/wilfried-mvomoeto-university-of-li-ge/Few-Shot-Binary-Class-Training_gru_glove_fastText_Bahdanau-GRU-FastText-/runs/z7t4fyn7</a>"
            ],
            "text/plain": [
              "<IPython.core.display.HTML object>"
            ]
          },
          "metadata": {},
          "output_type": "display_data"
        },
        {
          "name": "stderr",
          "output_type": "stream",
          "text": [
            "GRU-FastText K-20 Epoch 3/1000 - Train Loss: 0.6990, Test Loss: 0.6871, Train Acc: 57.50%, Test Acc: 64.44%, Test F1: 51.05%, Test Balanced Acc: 50.06%, Test Recall: 64.44%, Test Precision: 55.88%, Time: 0.54 sec:   0%|          | 3/1000 [00:02<12:09,  1.37epoch/s]"
          ]
        },
        {
          "name": "stdout",
          "output_type": "stream",
          "text": [
            "Early stopping triggered at epoch 4\n",
            "Model GRU-FastText_K-20 saved with loss gap > 1.25 or accuracy gap > 10% at epoch 3.\n",
            "\n",
            "Training with 30-shot...\n"
          ]
        },
        {
          "name": "stderr",
          "output_type": "stream",
          "text": [
            "\n",
            "<ipython-input-10-f03193db776b>:44: UserWarning: To copy construct from a tensor, it is recommended to use sourceTensor.clone().detach() or sourceTensor.clone().detach().requires_grad_(True), rather than torch.tensor(sourceTensor).\n",
            "  self.X = torch.tensor(X_data, dtype=torch.long)\n",
            "<ipython-input-10-f03193db776b>:45: UserWarning: To copy construct from a tensor, it is recommended to use sourceTensor.clone().detach() or sourceTensor.clone().detach().requires_grad_(True), rather than torch.tensor(sourceTensor).\n",
            "  self.y = torch.tensor(y_data, dtype=torch.long)\n"
          ]
        },
        {
          "data": {
            "text/html": [
              "Finishing previous runs because reinit is set to 'default'."
            ],
            "text/plain": [
              "<IPython.core.display.HTML object>"
            ]
          },
          "metadata": {},
          "output_type": "display_data"
        },
        {
          "data": {
            "text/html": [],
            "text/plain": [
              "<IPython.core.display.HTML object>"
            ]
          },
          "metadata": {},
          "output_type": "display_data"
        },
        {
          "data": {
            "text/html": [
              "<br>    <style><br>        .wandb-row {<br>            display: flex;<br>            flex-direction: row;<br>            flex-wrap: wrap;<br>            justify-content: flex-start;<br>            width: 100%;<br>        }<br>        .wandb-col {<br>            display: flex;<br>            flex-direction: column;<br>            flex-basis: 100%;<br>            flex: 1;<br>            padding: 10px;<br>        }<br>    </style><br><div class=\"wandb-row\"><div class=\"wandb-col\"><h3>Run history:</h3><br/><table class=\"wandb\"><tr><td>epoch</td><td>▁▃▆█</td></tr><tr><td>k_shot</td><td>▁▁▁▁</td></tr><tr><td>test_acc</td><td>███▁</td></tr><tr><td>test_balanced_acc</td><td>███▁</td></tr><tr><td>test_f1</td><td>███▁</td></tr><tr><td>test_loss</td><td>▃▁▃█</td></tr><tr><td>test_precision</td><td>███▁</td></tr><tr><td>test_recall</td><td>███▁</td></tr><tr><td>train_acc</td><td>▁▁█▁</td></tr><tr><td>train_loss</td><td>▂▄▁█</td></tr></table><br/></div><div class=\"wandb-col\"><h3>Run summary:</h3><br/><table class=\"wandb\"><tr><td>epoch</td><td>4</td></tr><tr><td>k_shot</td><td>20</td></tr><tr><td>test_acc</td><td>0.35383</td></tr><tr><td>test_balanced_acc</td><td>0.49851</td></tr><tr><td>test_f1</td><td>0.18737</td></tr><tr><td>test_loss</td><td>0.7225</td></tr><tr><td>test_precision</td><td>0.39434</td></tr><tr><td>test_recall</td><td>0.35383</td></tr><tr><td>train_acc</td><td>0.475</td></tr><tr><td>train_loss</td><td>0.75233</td></tr></table><br/></div></div>"
            ],
            "text/plain": [
              "<IPython.core.display.HTML object>"
            ]
          },
          "metadata": {},
          "output_type": "display_data"
        },
        {
          "data": {
            "text/html": [
              " View run <strong style=\"color:#cdcd00\">GRU-FastText_K-20_Training</strong> at: <a href='https://wandb.ai/wilfried-mvomoeto-university-of-li-ge/Few-Shot-Binary-Class-Training_gru_glove_fastText_Bahdanau-GRU-FastText-/runs/z7t4fyn7' target=\"_blank\">https://wandb.ai/wilfried-mvomoeto-university-of-li-ge/Few-Shot-Binary-Class-Training_gru_glove_fastText_Bahdanau-GRU-FastText-/runs/z7t4fyn7</a><br> View project at: <a href='https://wandb.ai/wilfried-mvomoeto-university-of-li-ge/Few-Shot-Binary-Class-Training_gru_glove_fastText_Bahdanau-GRU-FastText-' target=\"_blank\">https://wandb.ai/wilfried-mvomoeto-university-of-li-ge/Few-Shot-Binary-Class-Training_gru_glove_fastText_Bahdanau-GRU-FastText-</a><br>Synced 5 W&B file(s), 0 media file(s), 0 artifact file(s) and 0 other file(s)"
            ],
            "text/plain": [
              "<IPython.core.display.HTML object>"
            ]
          },
          "metadata": {},
          "output_type": "display_data"
        },
        {
          "data": {
            "text/html": [
              "Find logs at: <code>./wandb/run-20250501_182703-z7t4fyn7/logs</code>"
            ],
            "text/plain": [
              "<IPython.core.display.HTML object>"
            ]
          },
          "metadata": {},
          "output_type": "display_data"
        },
        {
          "data": {
            "text/html": [
              "Tracking run with wandb version 0.19.10"
            ],
            "text/plain": [
              "<IPython.core.display.HTML object>"
            ]
          },
          "metadata": {},
          "output_type": "display_data"
        },
        {
          "data": {
            "text/html": [
              "Run data is saved locally in <code>/content/wandb/run-20250501_182713-il5yn4sh</code>"
            ],
            "text/plain": [
              "<IPython.core.display.HTML object>"
            ]
          },
          "metadata": {},
          "output_type": "display_data"
        },
        {
          "data": {
            "text/html": [
              "Syncing run <strong><a href='https://wandb.ai/wilfried-mvomoeto-university-of-li-ge/Few-Shot-Binary-Class-Training_gru_glove_fastText_Bahdanau-GRU-Bah-Glove-/runs/il5yn4sh' target=\"_blank\">GRU-Bah-Glove_K-30_Training</a></strong> to <a href='https://wandb.ai/wilfried-mvomoeto-university-of-li-ge/Few-Shot-Binary-Class-Training_gru_glove_fastText_Bahdanau-GRU-Bah-Glove-' target=\"_blank\">Weights & Biases</a> (<a href='https://wandb.me/developer-guide' target=\"_blank\">docs</a>)<br>"
            ],
            "text/plain": [
              "<IPython.core.display.HTML object>"
            ]
          },
          "metadata": {},
          "output_type": "display_data"
        },
        {
          "data": {
            "text/html": [
              " View project at <a href='https://wandb.ai/wilfried-mvomoeto-university-of-li-ge/Few-Shot-Binary-Class-Training_gru_glove_fastText_Bahdanau-GRU-Bah-Glove-' target=\"_blank\">https://wandb.ai/wilfried-mvomoeto-university-of-li-ge/Few-Shot-Binary-Class-Training_gru_glove_fastText_Bahdanau-GRU-Bah-Glove-</a>"
            ],
            "text/plain": [
              "<IPython.core.display.HTML object>"
            ]
          },
          "metadata": {},
          "output_type": "display_data"
        },
        {
          "data": {
            "text/html": [
              " View run at <a href='https://wandb.ai/wilfried-mvomoeto-university-of-li-ge/Few-Shot-Binary-Class-Training_gru_glove_fastText_Bahdanau-GRU-Bah-Glove-/runs/il5yn4sh' target=\"_blank\">https://wandb.ai/wilfried-mvomoeto-university-of-li-ge/Few-Shot-Binary-Class-Training_gru_glove_fastText_Bahdanau-GRU-Bah-Glove-/runs/il5yn4sh</a>"
            ],
            "text/plain": [
              "<IPython.core.display.HTML object>"
            ]
          },
          "metadata": {},
          "output_type": "display_data"
        },
        {
          "name": "stderr",
          "output_type": "stream",
          "text": [
            "GRU-Bah-Glove K-30 Epoch 1/1000 - Train Loss: 0.8824, Test Loss: 0.7300, Train Acc: 36.67%, Test Acc: 35.38%, Test F1: 18.52%, Test Balanced Acc: 49.93%, Test Recall: 35.38%, Test Precision: 12.54%, Time: 0.80 sec:   0%|          | 1/1000 [00:01<26:47,  1.61s/epoch]"
          ]
        },
        {
          "name": "stdout",
          "output_type": "stream",
          "text": [
            "Early stopping triggered at epoch 2\n",
            "Model GRU-Bah-Glove_K-30 saved with loss gap > 1.25 or accuracy gap > 10% at epoch 1.\n"
          ]
        },
        {
          "name": "stderr",
          "output_type": "stream",
          "text": [
            "\n",
            "<ipython-input-10-f03193db776b>:44: UserWarning: To copy construct from a tensor, it is recommended to use sourceTensor.clone().detach() or sourceTensor.clone().detach().requires_grad_(True), rather than torch.tensor(sourceTensor).\n",
            "  self.X = torch.tensor(X_data, dtype=torch.long)\n",
            "<ipython-input-10-f03193db776b>:45: UserWarning: To copy construct from a tensor, it is recommended to use sourceTensor.clone().detach() or sourceTensor.clone().detach().requires_grad_(True), rather than torch.tensor(sourceTensor).\n",
            "  self.y = torch.tensor(y_data, dtype=torch.long)\n"
          ]
        },
        {
          "data": {
            "text/html": [
              "Finishing previous runs because reinit is set to 'default'."
            ],
            "text/plain": [
              "<IPython.core.display.HTML object>"
            ]
          },
          "metadata": {},
          "output_type": "display_data"
        },
        {
          "data": {
            "text/html": [],
            "text/plain": [
              "<IPython.core.display.HTML object>"
            ]
          },
          "metadata": {},
          "output_type": "display_data"
        },
        {
          "data": {
            "text/html": [
              "<br>    <style><br>        .wandb-row {<br>            display: flex;<br>            flex-direction: row;<br>            flex-wrap: wrap;<br>            justify-content: flex-start;<br>            width: 100%;<br>        }<br>        .wandb-col {<br>            display: flex;<br>            flex-direction: column;<br>            flex-basis: 100%;<br>            flex: 1;<br>            padding: 10px;<br>        }<br>    </style><br><div class=\"wandb-row\"><div class=\"wandb-col\"><h3>Run history:</h3><br/><table class=\"wandb\"><tr><td>epoch</td><td>▁█</td></tr><tr><td>k_shot</td><td>▁▁</td></tr><tr><td>test_acc</td><td>▁▁</td></tr><tr><td>test_balanced_acc</td><td>▁▁</td></tr><tr><td>test_f1</td><td>▁▁</td></tr><tr><td>test_loss</td><td>█▁</td></tr><tr><td>test_precision</td><td>▁▁</td></tr><tr><td>test_recall</td><td>▁▁</td></tr><tr><td>train_acc</td><td>▁█</td></tr><tr><td>train_loss</td><td>█▁</td></tr></table><br/></div><div class=\"wandb-col\"><h3>Run summary:</h3><br/><table class=\"wandb\"><tr><td>epoch</td><td>2</td></tr><tr><td>k_shot</td><td>30</td></tr><tr><td>test_acc</td><td>0.35383</td></tr><tr><td>test_balanced_acc</td><td>0.4993</td></tr><tr><td>test_f1</td><td>0.18521</td></tr><tr><td>test_loss</td><td>0.72383</td></tr><tr><td>test_precision</td><td>0.12543</td></tr><tr><td>test_recall</td><td>0.35383</td></tr><tr><td>train_acc</td><td>0.55</td></tr><tr><td>train_loss</td><td>0.75383</td></tr></table><br/></div></div>"
            ],
            "text/plain": [
              "<IPython.core.display.HTML object>"
            ]
          },
          "metadata": {},
          "output_type": "display_data"
        },
        {
          "data": {
            "text/html": [
              " View run <strong style=\"color:#cdcd00\">GRU-Bah-Glove_K-30_Training</strong> at: <a href='https://wandb.ai/wilfried-mvomoeto-university-of-li-ge/Few-Shot-Binary-Class-Training_gru_glove_fastText_Bahdanau-GRU-Bah-Glove-/runs/il5yn4sh' target=\"_blank\">https://wandb.ai/wilfried-mvomoeto-university-of-li-ge/Few-Shot-Binary-Class-Training_gru_glove_fastText_Bahdanau-GRU-Bah-Glove-/runs/il5yn4sh</a><br> View project at: <a href='https://wandb.ai/wilfried-mvomoeto-university-of-li-ge/Few-Shot-Binary-Class-Training_gru_glove_fastText_Bahdanau-GRU-Bah-Glove-' target=\"_blank\">https://wandb.ai/wilfried-mvomoeto-university-of-li-ge/Few-Shot-Binary-Class-Training_gru_glove_fastText_Bahdanau-GRU-Bah-Glove-</a><br>Synced 5 W&B file(s), 0 media file(s), 0 artifact file(s) and 0 other file(s)"
            ],
            "text/plain": [
              "<IPython.core.display.HTML object>"
            ]
          },
          "metadata": {},
          "output_type": "display_data"
        },
        {
          "data": {
            "text/html": [
              "Find logs at: <code>./wandb/run-20250501_182713-il5yn4sh/logs</code>"
            ],
            "text/plain": [
              "<IPython.core.display.HTML object>"
            ]
          },
          "metadata": {},
          "output_type": "display_data"
        },
        {
          "data": {
            "text/html": [
              "Tracking run with wandb version 0.19.10"
            ],
            "text/plain": [
              "<IPython.core.display.HTML object>"
            ]
          },
          "metadata": {},
          "output_type": "display_data"
        },
        {
          "data": {
            "text/html": [
              "Run data is saved locally in <code>/content/wandb/run-20250501_182723-o0vgxsx5</code>"
            ],
            "text/plain": [
              "<IPython.core.display.HTML object>"
            ]
          },
          "metadata": {},
          "output_type": "display_data"
        },
        {
          "data": {
            "text/html": [
              "Syncing run <strong><a href='https://wandb.ai/wilfried-mvomoeto-university-of-li-ge/Few-Shot-Binary-Class-Training_gru_glove_fastText_Bahdanau-GRU-Bah-FastText-/runs/o0vgxsx5' target=\"_blank\">GRU-Bah-FastText_K-30_Training</a></strong> to <a href='https://wandb.ai/wilfried-mvomoeto-university-of-li-ge/Few-Shot-Binary-Class-Training_gru_glove_fastText_Bahdanau-GRU-Bah-FastText-' target=\"_blank\">Weights & Biases</a> (<a href='https://wandb.me/developer-guide' target=\"_blank\">docs</a>)<br>"
            ],
            "text/plain": [
              "<IPython.core.display.HTML object>"
            ]
          },
          "metadata": {},
          "output_type": "display_data"
        },
        {
          "data": {
            "text/html": [
              " View project at <a href='https://wandb.ai/wilfried-mvomoeto-university-of-li-ge/Few-Shot-Binary-Class-Training_gru_glove_fastText_Bahdanau-GRU-Bah-FastText-' target=\"_blank\">https://wandb.ai/wilfried-mvomoeto-university-of-li-ge/Few-Shot-Binary-Class-Training_gru_glove_fastText_Bahdanau-GRU-Bah-FastText-</a>"
            ],
            "text/plain": [
              "<IPython.core.display.HTML object>"
            ]
          },
          "metadata": {},
          "output_type": "display_data"
        },
        {
          "data": {
            "text/html": [
              " View run at <a href='https://wandb.ai/wilfried-mvomoeto-university-of-li-ge/Few-Shot-Binary-Class-Training_gru_glove_fastText_Bahdanau-GRU-Bah-FastText-/runs/o0vgxsx5' target=\"_blank\">https://wandb.ai/wilfried-mvomoeto-university-of-li-ge/Few-Shot-Binary-Class-Training_gru_glove_fastText_Bahdanau-GRU-Bah-FastText-/runs/o0vgxsx5</a>"
            ],
            "text/plain": [
              "<IPython.core.display.HTML object>"
            ]
          },
          "metadata": {},
          "output_type": "display_data"
        },
        {
          "name": "stderr",
          "output_type": "stream",
          "text": [
            "Training GRU-Bah-FastText with 30-shot:   0%|          | 0/1000 [00:00<?, ?epoch/s]"
          ]
        },
        {
          "name": "stdout",
          "output_type": "stream",
          "text": [
            "Early stopping triggered at epoch 1\n",
            "Model GRU-Bah-FastText_K-30 saved with loss gap > 1.25 or accuracy gap > 10% at epoch 0.\n"
          ]
        },
        {
          "name": "stderr",
          "output_type": "stream",
          "text": [
            "\n",
            "<ipython-input-10-f03193db776b>:44: UserWarning: To copy construct from a tensor, it is recommended to use sourceTensor.clone().detach() or sourceTensor.clone().detach().requires_grad_(True), rather than torch.tensor(sourceTensor).\n",
            "  self.X = torch.tensor(X_data, dtype=torch.long)\n",
            "<ipython-input-10-f03193db776b>:45: UserWarning: To copy construct from a tensor, it is recommended to use sourceTensor.clone().detach() or sourceTensor.clone().detach().requires_grad_(True), rather than torch.tensor(sourceTensor).\n",
            "  self.y = torch.tensor(y_data, dtype=torch.long)\n"
          ]
        },
        {
          "data": {
            "text/html": [
              "Finishing previous runs because reinit is set to 'default'."
            ],
            "text/plain": [
              "<IPython.core.display.HTML object>"
            ]
          },
          "metadata": {},
          "output_type": "display_data"
        },
        {
          "data": {
            "text/html": [],
            "text/plain": [
              "<IPython.core.display.HTML object>"
            ]
          },
          "metadata": {},
          "output_type": "display_data"
        },
        {
          "data": {
            "text/html": [
              "<br>    <style><br>        .wandb-row {<br>            display: flex;<br>            flex-direction: row;<br>            flex-wrap: wrap;<br>            justify-content: flex-start;<br>            width: 100%;<br>        }<br>        .wandb-col {<br>            display: flex;<br>            flex-direction: column;<br>            flex-basis: 100%;<br>            flex: 1;<br>            padding: 10px;<br>        }<br>    </style><br><div class=\"wandb-row\"><div class=\"wandb-col\"><h3>Run history:</h3><br/><table class=\"wandb\"><tr><td>epoch</td><td>▁</td></tr><tr><td>k_shot</td><td>▁</td></tr><tr><td>test_acc</td><td>▁</td></tr><tr><td>test_balanced_acc</td><td>▁</td></tr><tr><td>test_f1</td><td>▁</td></tr><tr><td>test_loss</td><td>▁</td></tr><tr><td>test_precision</td><td>▁</td></tr><tr><td>test_recall</td><td>▁</td></tr><tr><td>train_acc</td><td>▁</td></tr><tr><td>train_loss</td><td>▁</td></tr></table><br/></div><div class=\"wandb-col\"><h3>Run summary:</h3><br/><table class=\"wandb\"><tr><td>epoch</td><td>1</td></tr><tr><td>k_shot</td><td>30</td></tr><tr><td>test_acc</td><td>0.35507</td></tr><tr><td>test_balanced_acc</td><td>0.49947</td></tr><tr><td>test_f1</td><td>0.19</td></tr><tr><td>test_loss</td><td>0.7296</td></tr><tr><td>test_precision</td><td>0.50527</td></tr><tr><td>test_recall</td><td>0.35507</td></tr><tr><td>train_acc</td><td>0.51667</td></tr><tr><td>train_loss</td><td>0.7448</td></tr></table><br/></div></div>"
            ],
            "text/plain": [
              "<IPython.core.display.HTML object>"
            ]
          },
          "metadata": {},
          "output_type": "display_data"
        },
        {
          "data": {
            "text/html": [
              " View run <strong style=\"color:#cdcd00\">GRU-Bah-FastText_K-30_Training</strong> at: <a href='https://wandb.ai/wilfried-mvomoeto-university-of-li-ge/Few-Shot-Binary-Class-Training_gru_glove_fastText_Bahdanau-GRU-Bah-FastText-/runs/o0vgxsx5' target=\"_blank\">https://wandb.ai/wilfried-mvomoeto-university-of-li-ge/Few-Shot-Binary-Class-Training_gru_glove_fastText_Bahdanau-GRU-Bah-FastText-/runs/o0vgxsx5</a><br> View project at: <a href='https://wandb.ai/wilfried-mvomoeto-university-of-li-ge/Few-Shot-Binary-Class-Training_gru_glove_fastText_Bahdanau-GRU-Bah-FastText-' target=\"_blank\">https://wandb.ai/wilfried-mvomoeto-university-of-li-ge/Few-Shot-Binary-Class-Training_gru_glove_fastText_Bahdanau-GRU-Bah-FastText-</a><br>Synced 5 W&B file(s), 0 media file(s), 0 artifact file(s) and 0 other file(s)"
            ],
            "text/plain": [
              "<IPython.core.display.HTML object>"
            ]
          },
          "metadata": {},
          "output_type": "display_data"
        },
        {
          "data": {
            "text/html": [
              "Find logs at: <code>./wandb/run-20250501_182723-o0vgxsx5/logs</code>"
            ],
            "text/plain": [
              "<IPython.core.display.HTML object>"
            ]
          },
          "metadata": {},
          "output_type": "display_data"
        },
        {
          "data": {
            "text/html": [
              "Tracking run with wandb version 0.19.10"
            ],
            "text/plain": [
              "<IPython.core.display.HTML object>"
            ]
          },
          "metadata": {},
          "output_type": "display_data"
        },
        {
          "data": {
            "text/html": [
              "Run data is saved locally in <code>/content/wandb/run-20250501_182731-3s9swo3c</code>"
            ],
            "text/plain": [
              "<IPython.core.display.HTML object>"
            ]
          },
          "metadata": {},
          "output_type": "display_data"
        },
        {
          "data": {
            "text/html": [
              "Syncing run <strong><a href='https://wandb.ai/wilfried-mvomoeto-university-of-li-ge/Few-Shot-Binary-Class-Training_gru_glove_fastText_Bahdanau-CNN_LSTM-/runs/3s9swo3c' target=\"_blank\">CNN_LSTM_K-30_Training</a></strong> to <a href='https://wandb.ai/wilfried-mvomoeto-university-of-li-ge/Few-Shot-Binary-Class-Training_gru_glove_fastText_Bahdanau-CNN_LSTM-' target=\"_blank\">Weights & Biases</a> (<a href='https://wandb.me/developer-guide' target=\"_blank\">docs</a>)<br>"
            ],
            "text/plain": [
              "<IPython.core.display.HTML object>"
            ]
          },
          "metadata": {},
          "output_type": "display_data"
        },
        {
          "data": {
            "text/html": [
              " View project at <a href='https://wandb.ai/wilfried-mvomoeto-university-of-li-ge/Few-Shot-Binary-Class-Training_gru_glove_fastText_Bahdanau-CNN_LSTM-' target=\"_blank\">https://wandb.ai/wilfried-mvomoeto-university-of-li-ge/Few-Shot-Binary-Class-Training_gru_glove_fastText_Bahdanau-CNN_LSTM-</a>"
            ],
            "text/plain": [
              "<IPython.core.display.HTML object>"
            ]
          },
          "metadata": {},
          "output_type": "display_data"
        },
        {
          "data": {
            "text/html": [
              " View run at <a href='https://wandb.ai/wilfried-mvomoeto-university-of-li-ge/Few-Shot-Binary-Class-Training_gru_glove_fastText_Bahdanau-CNN_LSTM-/runs/3s9swo3c' target=\"_blank\">https://wandb.ai/wilfried-mvomoeto-university-of-li-ge/Few-Shot-Binary-Class-Training_gru_glove_fastText_Bahdanau-CNN_LSTM-/runs/3s9swo3c</a>"
            ],
            "text/plain": [
              "<IPython.core.display.HTML object>"
            ]
          },
          "metadata": {},
          "output_type": "display_data"
        },
        {
          "name": "stderr",
          "output_type": "stream",
          "text": [
            "CNN_LSTM K-30 Epoch 1/1000 - Train Loss: 0.6942, Test Loss: 0.6891, Train Acc: 51.67%, Test Acc: 64.57%, Test F1: 50.67%, Test Balanced Acc: 50.00%, Test Recall: 64.57%, Test Precision: 41.69%, Time: 0.60 sec:   0%|          | 1/1000 [00:01<18:39,  1.12s/epoch]"
          ]
        },
        {
          "name": "stdout",
          "output_type": "stream",
          "text": [
            "Early stopping triggered at epoch 2\n",
            "Model CNN_LSTM_K-30 saved with loss gap > 1.25 or accuracy gap > 10% at epoch 1.\n"
          ]
        },
        {
          "name": "stderr",
          "output_type": "stream",
          "text": [
            "\n",
            "<ipython-input-10-f03193db776b>:44: UserWarning: To copy construct from a tensor, it is recommended to use sourceTensor.clone().detach() or sourceTensor.clone().detach().requires_grad_(True), rather than torch.tensor(sourceTensor).\n",
            "  self.X = torch.tensor(X_data, dtype=torch.long)\n",
            "<ipython-input-10-f03193db776b>:45: UserWarning: To copy construct from a tensor, it is recommended to use sourceTensor.clone().detach() or sourceTensor.clone().detach().requires_grad_(True), rather than torch.tensor(sourceTensor).\n",
            "  self.y = torch.tensor(y_data, dtype=torch.long)\n"
          ]
        },
        {
          "data": {
            "text/html": [
              "Finishing previous runs because reinit is set to 'default'."
            ],
            "text/plain": [
              "<IPython.core.display.HTML object>"
            ]
          },
          "metadata": {},
          "output_type": "display_data"
        },
        {
          "data": {
            "text/html": [],
            "text/plain": [
              "<IPython.core.display.HTML object>"
            ]
          },
          "metadata": {},
          "output_type": "display_data"
        },
        {
          "data": {
            "text/html": [
              "<br>    <style><br>        .wandb-row {<br>            display: flex;<br>            flex-direction: row;<br>            flex-wrap: wrap;<br>            justify-content: flex-start;<br>            width: 100%;<br>        }<br>        .wandb-col {<br>            display: flex;<br>            flex-direction: column;<br>            flex-basis: 100%;<br>            flex: 1;<br>            padding: 10px;<br>        }<br>    </style><br><div class=\"wandb-row\"><div class=\"wandb-col\"><h3>Run history:</h3><br/><table class=\"wandb\"><tr><td>epoch</td><td>▁█</td></tr><tr><td>k_shot</td><td>▁▁</td></tr><tr><td>test_acc</td><td>█▁</td></tr><tr><td>test_balanced_acc</td><td>█▁</td></tr><tr><td>test_f1</td><td>█▁</td></tr><tr><td>test_loss</td><td>▁█</td></tr><tr><td>test_precision</td><td>▁█</td></tr><tr><td>test_recall</td><td>█▁</td></tr><tr><td>train_acc</td><td>█▁</td></tr><tr><td>train_loss</td><td>▁█</td></tr></table><br/></div><div class=\"wandb-col\"><h3>Run summary:</h3><br/><table class=\"wandb\"><tr><td>epoch</td><td>2</td></tr><tr><td>k_shot</td><td>30</td></tr><tr><td>test_acc</td><td>0.35507</td></tr><tr><td>test_balanced_acc</td><td>0.49773</td></tr><tr><td>test_f1</td><td>0.19464</td></tr><tr><td>test_loss</td><td>0.69355</td></tr><tr><td>test_precision</td><td>0.47285</td></tr><tr><td>test_recall</td><td>0.35507</td></tr><tr><td>train_acc</td><td>0.48333</td></tr><tr><td>train_loss</td><td>0.69443</td></tr></table><br/></div></div>"
            ],
            "text/plain": [
              "<IPython.core.display.HTML object>"
            ]
          },
          "metadata": {},
          "output_type": "display_data"
        },
        {
          "data": {
            "text/html": [
              " View run <strong style=\"color:#cdcd00\">CNN_LSTM_K-30_Training</strong> at: <a href='https://wandb.ai/wilfried-mvomoeto-university-of-li-ge/Few-Shot-Binary-Class-Training_gru_glove_fastText_Bahdanau-CNN_LSTM-/runs/3s9swo3c' target=\"_blank\">https://wandb.ai/wilfried-mvomoeto-university-of-li-ge/Few-Shot-Binary-Class-Training_gru_glove_fastText_Bahdanau-CNN_LSTM-/runs/3s9swo3c</a><br> View project at: <a href='https://wandb.ai/wilfried-mvomoeto-university-of-li-ge/Few-Shot-Binary-Class-Training_gru_glove_fastText_Bahdanau-CNN_LSTM-' target=\"_blank\">https://wandb.ai/wilfried-mvomoeto-university-of-li-ge/Few-Shot-Binary-Class-Training_gru_glove_fastText_Bahdanau-CNN_LSTM-</a><br>Synced 5 W&B file(s), 0 media file(s), 0 artifact file(s) and 0 other file(s)"
            ],
            "text/plain": [
              "<IPython.core.display.HTML object>"
            ]
          },
          "metadata": {},
          "output_type": "display_data"
        },
        {
          "data": {
            "text/html": [
              "Find logs at: <code>./wandb/run-20250501_182731-3s9swo3c/logs</code>"
            ],
            "text/plain": [
              "<IPython.core.display.HTML object>"
            ]
          },
          "metadata": {},
          "output_type": "display_data"
        },
        {
          "data": {
            "text/html": [
              "Tracking run with wandb version 0.19.10"
            ],
            "text/plain": [
              "<IPython.core.display.HTML object>"
            ]
          },
          "metadata": {},
          "output_type": "display_data"
        },
        {
          "data": {
            "text/html": [
              "Run data is saved locally in <code>/content/wandb/run-20250501_182740-lvngk5jn</code>"
            ],
            "text/plain": [
              "<IPython.core.display.HTML object>"
            ]
          },
          "metadata": {},
          "output_type": "display_data"
        },
        {
          "data": {
            "text/html": [
              "Syncing run <strong><a href='https://wandb.ai/wilfried-mvomoeto-university-of-li-ge/Few-Shot-Binary-Class-Training_gru_glove_fastText_Bahdanau-GRU-Glove-/runs/lvngk5jn' target=\"_blank\">GRU-Glove_K-30_Training</a></strong> to <a href='https://wandb.ai/wilfried-mvomoeto-university-of-li-ge/Few-Shot-Binary-Class-Training_gru_glove_fastText_Bahdanau-GRU-Glove-' target=\"_blank\">Weights & Biases</a> (<a href='https://wandb.me/developer-guide' target=\"_blank\">docs</a>)<br>"
            ],
            "text/plain": [
              "<IPython.core.display.HTML object>"
            ]
          },
          "metadata": {},
          "output_type": "display_data"
        },
        {
          "data": {
            "text/html": [
              " View project at <a href='https://wandb.ai/wilfried-mvomoeto-university-of-li-ge/Few-Shot-Binary-Class-Training_gru_glove_fastText_Bahdanau-GRU-Glove-' target=\"_blank\">https://wandb.ai/wilfried-mvomoeto-university-of-li-ge/Few-Shot-Binary-Class-Training_gru_glove_fastText_Bahdanau-GRU-Glove-</a>"
            ],
            "text/plain": [
              "<IPython.core.display.HTML object>"
            ]
          },
          "metadata": {},
          "output_type": "display_data"
        },
        {
          "data": {
            "text/html": [
              " View run at <a href='https://wandb.ai/wilfried-mvomoeto-university-of-li-ge/Few-Shot-Binary-Class-Training_gru_glove_fastText_Bahdanau-GRU-Glove-/runs/lvngk5jn' target=\"_blank\">https://wandb.ai/wilfried-mvomoeto-university-of-li-ge/Few-Shot-Binary-Class-Training_gru_glove_fastText_Bahdanau-GRU-Glove-/runs/lvngk5jn</a>"
            ],
            "text/plain": [
              "<IPython.core.display.HTML object>"
            ]
          },
          "metadata": {},
          "output_type": "display_data"
        },
        {
          "name": "stderr",
          "output_type": "stream",
          "text": [
            "Training GRU-Glove with 30-shot:   0%|          | 0/1000 [00:00<?, ?epoch/s]"
          ]
        },
        {
          "name": "stdout",
          "output_type": "stream",
          "text": [
            "Early stopping triggered at epoch 1\n",
            "Model GRU-Glove_K-30 saved with loss gap > 1.25 or accuracy gap > 10% at epoch 0.\n"
          ]
        },
        {
          "name": "stderr",
          "output_type": "stream",
          "text": [
            "\n",
            "<ipython-input-10-f03193db776b>:44: UserWarning: To copy construct from a tensor, it is recommended to use sourceTensor.clone().detach() or sourceTensor.clone().detach().requires_grad_(True), rather than torch.tensor(sourceTensor).\n",
            "  self.X = torch.tensor(X_data, dtype=torch.long)\n",
            "<ipython-input-10-f03193db776b>:45: UserWarning: To copy construct from a tensor, it is recommended to use sourceTensor.clone().detach() or sourceTensor.clone().detach().requires_grad_(True), rather than torch.tensor(sourceTensor).\n",
            "  self.y = torch.tensor(y_data, dtype=torch.long)\n"
          ]
        },
        {
          "data": {
            "text/html": [
              "Finishing previous runs because reinit is set to 'default'."
            ],
            "text/plain": [
              "<IPython.core.display.HTML object>"
            ]
          },
          "metadata": {},
          "output_type": "display_data"
        },
        {
          "data": {
            "text/html": [],
            "text/plain": [
              "<IPython.core.display.HTML object>"
            ]
          },
          "metadata": {},
          "output_type": "display_data"
        },
        {
          "data": {
            "text/html": [
              "<br>    <style><br>        .wandb-row {<br>            display: flex;<br>            flex-direction: row;<br>            flex-wrap: wrap;<br>            justify-content: flex-start;<br>            width: 100%;<br>        }<br>        .wandb-col {<br>            display: flex;<br>            flex-direction: column;<br>            flex-basis: 100%;<br>            flex: 1;<br>            padding: 10px;<br>        }<br>    </style><br><div class=\"wandb-row\"><div class=\"wandb-col\"><h3>Run history:</h3><br/><table class=\"wandb\"><tr><td>epoch</td><td>▁</td></tr><tr><td>k_shot</td><td>▁</td></tr><tr><td>test_acc</td><td>▁</td></tr><tr><td>test_balanced_acc</td><td>▁</td></tr><tr><td>test_f1</td><td>▁</td></tr><tr><td>test_loss</td><td>▁</td></tr><tr><td>test_precision</td><td>▁</td></tr><tr><td>test_recall</td><td>▁</td></tr><tr><td>train_acc</td><td>▁</td></tr><tr><td>train_loss</td><td>▁</td></tr></table><br/></div><div class=\"wandb-col\"><h3>Run summary:</h3><br/><table class=\"wandb\"><tr><td>epoch</td><td>1</td></tr><tr><td>k_shot</td><td>30</td></tr><tr><td>test_acc</td><td>0.35482</td></tr><tr><td>test_balanced_acc</td><td>0.49944</td></tr><tr><td>test_f1</td><td>0.18904</td></tr><tr><td>test_loss</td><td>0.70906</td></tr><tr><td>test_precision</td><td>0.49441</td></tr><tr><td>test_recall</td><td>0.35482</td></tr><tr><td>train_acc</td><td>0.5</td></tr><tr><td>train_loss</td><td>0.70407</td></tr></table><br/></div></div>"
            ],
            "text/plain": [
              "<IPython.core.display.HTML object>"
            ]
          },
          "metadata": {},
          "output_type": "display_data"
        },
        {
          "data": {
            "text/html": [
              " View run <strong style=\"color:#cdcd00\">GRU-Glove_K-30_Training</strong> at: <a href='https://wandb.ai/wilfried-mvomoeto-university-of-li-ge/Few-Shot-Binary-Class-Training_gru_glove_fastText_Bahdanau-GRU-Glove-/runs/lvngk5jn' target=\"_blank\">https://wandb.ai/wilfried-mvomoeto-university-of-li-ge/Few-Shot-Binary-Class-Training_gru_glove_fastText_Bahdanau-GRU-Glove-/runs/lvngk5jn</a><br> View project at: <a href='https://wandb.ai/wilfried-mvomoeto-university-of-li-ge/Few-Shot-Binary-Class-Training_gru_glove_fastText_Bahdanau-GRU-Glove-' target=\"_blank\">https://wandb.ai/wilfried-mvomoeto-university-of-li-ge/Few-Shot-Binary-Class-Training_gru_glove_fastText_Bahdanau-GRU-Glove-</a><br>Synced 5 W&B file(s), 0 media file(s), 0 artifact file(s) and 0 other file(s)"
            ],
            "text/plain": [
              "<IPython.core.display.HTML object>"
            ]
          },
          "metadata": {},
          "output_type": "display_data"
        },
        {
          "data": {
            "text/html": [
              "Find logs at: <code>./wandb/run-20250501_182740-lvngk5jn/logs</code>"
            ],
            "text/plain": [
              "<IPython.core.display.HTML object>"
            ]
          },
          "metadata": {},
          "output_type": "display_data"
        },
        {
          "data": {
            "text/html": [
              "Tracking run with wandb version 0.19.10"
            ],
            "text/plain": [
              "<IPython.core.display.HTML object>"
            ]
          },
          "metadata": {},
          "output_type": "display_data"
        },
        {
          "data": {
            "text/html": [
              "Run data is saved locally in <code>/content/wandb/run-20250501_182749-n1rlijls</code>"
            ],
            "text/plain": [
              "<IPython.core.display.HTML object>"
            ]
          },
          "metadata": {},
          "output_type": "display_data"
        },
        {
          "data": {
            "text/html": [
              "Syncing run <strong><a href='https://wandb.ai/wilfried-mvomoeto-university-of-li-ge/Few-Shot-Binary-Class-Training_gru_glove_fastText_Bahdanau-GRU-FastText-/runs/n1rlijls' target=\"_blank\">GRU-FastText_K-30_Training</a></strong> to <a href='https://wandb.ai/wilfried-mvomoeto-university-of-li-ge/Few-Shot-Binary-Class-Training_gru_glove_fastText_Bahdanau-GRU-FastText-' target=\"_blank\">Weights & Biases</a> (<a href='https://wandb.me/developer-guide' target=\"_blank\">docs</a>)<br>"
            ],
            "text/plain": [
              "<IPython.core.display.HTML object>"
            ]
          },
          "metadata": {},
          "output_type": "display_data"
        },
        {
          "data": {
            "text/html": [
              " View project at <a href='https://wandb.ai/wilfried-mvomoeto-university-of-li-ge/Few-Shot-Binary-Class-Training_gru_glove_fastText_Bahdanau-GRU-FastText-' target=\"_blank\">https://wandb.ai/wilfried-mvomoeto-university-of-li-ge/Few-Shot-Binary-Class-Training_gru_glove_fastText_Bahdanau-GRU-FastText-</a>"
            ],
            "text/plain": [
              "<IPython.core.display.HTML object>"
            ]
          },
          "metadata": {},
          "output_type": "display_data"
        },
        {
          "data": {
            "text/html": [
              " View run at <a href='https://wandb.ai/wilfried-mvomoeto-university-of-li-ge/Few-Shot-Binary-Class-Training_gru_glove_fastText_Bahdanau-GRU-FastText-/runs/n1rlijls' target=\"_blank\">https://wandb.ai/wilfried-mvomoeto-university-of-li-ge/Few-Shot-Binary-Class-Training_gru_glove_fastText_Bahdanau-GRU-FastText-/runs/n1rlijls</a>"
            ],
            "text/plain": [
              "<IPython.core.display.HTML object>"
            ]
          },
          "metadata": {},
          "output_type": "display_data"
        },
        {
          "name": "stderr",
          "output_type": "stream",
          "text": [
            "GRU-FastText K-30 Epoch 3/1000 - Train Loss: 0.7345, Test Loss: 0.7373, Train Acc: 38.33%, Test Acc: 35.41%, Test F1: 18.79%, Test Balanced Acc: 49.87%, Test Recall: 35.41%, Test Precision: 42.33%, Time: 0.44 sec:   0%|          | 3/1000 [00:01<10:46,  1.54epoch/s]"
          ]
        },
        {
          "name": "stdout",
          "output_type": "stream",
          "text": [
            "Early stopping triggered at epoch 4\n",
            "Model GRU-FastText_K-30 saved with loss gap > 1.25 or accuracy gap > 10% at epoch 3.\n",
            "\n",
            "Training with 50-shot...\n"
          ]
        },
        {
          "name": "stderr",
          "output_type": "stream",
          "text": [
            "\n",
            "<ipython-input-10-f03193db776b>:44: UserWarning: To copy construct from a tensor, it is recommended to use sourceTensor.clone().detach() or sourceTensor.clone().detach().requires_grad_(True), rather than torch.tensor(sourceTensor).\n",
            "  self.X = torch.tensor(X_data, dtype=torch.long)\n",
            "<ipython-input-10-f03193db776b>:45: UserWarning: To copy construct from a tensor, it is recommended to use sourceTensor.clone().detach() or sourceTensor.clone().detach().requires_grad_(True), rather than torch.tensor(sourceTensor).\n",
            "  self.y = torch.tensor(y_data, dtype=torch.long)\n"
          ]
        },
        {
          "data": {
            "text/html": [
              "Finishing previous runs because reinit is set to 'default'."
            ],
            "text/plain": [
              "<IPython.core.display.HTML object>"
            ]
          },
          "metadata": {},
          "output_type": "display_data"
        },
        {
          "data": {
            "text/html": [],
            "text/plain": [
              "<IPython.core.display.HTML object>"
            ]
          },
          "metadata": {},
          "output_type": "display_data"
        },
        {
          "data": {
            "text/html": [
              "<br>    <style><br>        .wandb-row {<br>            display: flex;<br>            flex-direction: row;<br>            flex-wrap: wrap;<br>            justify-content: flex-start;<br>            width: 100%;<br>        }<br>        .wandb-col {<br>            display: flex;<br>            flex-direction: column;<br>            flex-basis: 100%;<br>            flex: 1;<br>            padding: 10px;<br>        }<br>    </style><br><div class=\"wandb-row\"><div class=\"wandb-col\"><h3>Run history:</h3><br/><table class=\"wandb\"><tr><td>epoch</td><td>▁▃▆█</td></tr><tr><td>k_shot</td><td>▁▁▁▁</td></tr><tr><td>test_acc</td><td>██▁▁</td></tr><tr><td>test_balanced_acc</td><td>█▇▁▁</td></tr><tr><td>test_f1</td><td>██▁▁</td></tr><tr><td>test_loss</td><td>▁▃█▇</td></tr><tr><td>test_precision</td><td>██▁▁</td></tr><tr><td>test_recall</td><td>██▁▁</td></tr><tr><td>train_acc</td><td>▄█▁▇</td></tr><tr><td>train_loss</td><td>▆▁█▄</td></tr></table><br/></div><div class=\"wandb-col\"><h3>Run summary:</h3><br/><table class=\"wandb\"><tr><td>epoch</td><td>4</td></tr><tr><td>k_shot</td><td>30</td></tr><tr><td>test_acc</td><td>0.35408</td></tr><tr><td>test_balanced_acc</td><td>0.4987</td></tr><tr><td>test_f1</td><td>0.18789</td></tr><tr><td>test_loss</td><td>0.7268</td></tr><tr><td>test_precision</td><td>0.42334</td></tr><tr><td>test_recall</td><td>0.35408</td></tr><tr><td>train_acc</td><td>0.58333</td></tr><tr><td>train_loss</td><td>0.69493</td></tr></table><br/></div></div>"
            ],
            "text/plain": [
              "<IPython.core.display.HTML object>"
            ]
          },
          "metadata": {},
          "output_type": "display_data"
        },
        {
          "data": {
            "text/html": [
              " View run <strong style=\"color:#cdcd00\">GRU-FastText_K-30_Training</strong> at: <a href='https://wandb.ai/wilfried-mvomoeto-university-of-li-ge/Few-Shot-Binary-Class-Training_gru_glove_fastText_Bahdanau-GRU-FastText-/runs/n1rlijls' target=\"_blank\">https://wandb.ai/wilfried-mvomoeto-university-of-li-ge/Few-Shot-Binary-Class-Training_gru_glove_fastText_Bahdanau-GRU-FastText-/runs/n1rlijls</a><br> View project at: <a href='https://wandb.ai/wilfried-mvomoeto-university-of-li-ge/Few-Shot-Binary-Class-Training_gru_glove_fastText_Bahdanau-GRU-FastText-' target=\"_blank\">https://wandb.ai/wilfried-mvomoeto-university-of-li-ge/Few-Shot-Binary-Class-Training_gru_glove_fastText_Bahdanau-GRU-FastText-</a><br>Synced 5 W&B file(s), 0 media file(s), 0 artifact file(s) and 0 other file(s)"
            ],
            "text/plain": [
              "<IPython.core.display.HTML object>"
            ]
          },
          "metadata": {},
          "output_type": "display_data"
        },
        {
          "data": {
            "text/html": [
              "Find logs at: <code>./wandb/run-20250501_182749-n1rlijls/logs</code>"
            ],
            "text/plain": [
              "<IPython.core.display.HTML object>"
            ]
          },
          "metadata": {},
          "output_type": "display_data"
        },
        {
          "data": {
            "text/html": [
              "Tracking run with wandb version 0.19.10"
            ],
            "text/plain": [
              "<IPython.core.display.HTML object>"
            ]
          },
          "metadata": {},
          "output_type": "display_data"
        },
        {
          "data": {
            "text/html": [
              "Run data is saved locally in <code>/content/wandb/run-20250501_182759-z2vadfty</code>"
            ],
            "text/plain": [
              "<IPython.core.display.HTML object>"
            ]
          },
          "metadata": {},
          "output_type": "display_data"
        },
        {
          "data": {
            "text/html": [
              "Syncing run <strong><a href='https://wandb.ai/wilfried-mvomoeto-university-of-li-ge/Few-Shot-Binary-Class-Training_gru_glove_fastText_Bahdanau-GRU-Bah-Glove-/runs/z2vadfty' target=\"_blank\">GRU-Bah-Glove_K-50_Training</a></strong> to <a href='https://wandb.ai/wilfried-mvomoeto-university-of-li-ge/Few-Shot-Binary-Class-Training_gru_glove_fastText_Bahdanau-GRU-Bah-Glove-' target=\"_blank\">Weights & Biases</a> (<a href='https://wandb.me/developer-guide' target=\"_blank\">docs</a>)<br>"
            ],
            "text/plain": [
              "<IPython.core.display.HTML object>"
            ]
          },
          "metadata": {},
          "output_type": "display_data"
        },
        {
          "data": {
            "text/html": [
              " View project at <a href='https://wandb.ai/wilfried-mvomoeto-university-of-li-ge/Few-Shot-Binary-Class-Training_gru_glove_fastText_Bahdanau-GRU-Bah-Glove-' target=\"_blank\">https://wandb.ai/wilfried-mvomoeto-university-of-li-ge/Few-Shot-Binary-Class-Training_gru_glove_fastText_Bahdanau-GRU-Bah-Glove-</a>"
            ],
            "text/plain": [
              "<IPython.core.display.HTML object>"
            ]
          },
          "metadata": {},
          "output_type": "display_data"
        },
        {
          "data": {
            "text/html": [
              " View run at <a href='https://wandb.ai/wilfried-mvomoeto-university-of-li-ge/Few-Shot-Binary-Class-Training_gru_glove_fastText_Bahdanau-GRU-Bah-Glove-/runs/z2vadfty' target=\"_blank\">https://wandb.ai/wilfried-mvomoeto-university-of-li-ge/Few-Shot-Binary-Class-Training_gru_glove_fastText_Bahdanau-GRU-Bah-Glove-/runs/z2vadfty</a>"
            ],
            "text/plain": [
              "<IPython.core.display.HTML object>"
            ]
          },
          "metadata": {},
          "output_type": "display_data"
        },
        {
          "name": "stderr",
          "output_type": "stream",
          "text": [
            "Training GRU-Bah-Glove with 50-shot:   0%|          | 0/1000 [00:00<?, ?epoch/s]"
          ]
        },
        {
          "name": "stdout",
          "output_type": "stream",
          "text": [
            "Early stopping triggered at epoch 1\n",
            "Model GRU-Bah-Glove_K-50 saved with loss gap > 1.25 or accuracy gap > 10% at epoch 0.\n"
          ]
        },
        {
          "name": "stderr",
          "output_type": "stream",
          "text": [
            "\n",
            "<ipython-input-10-f03193db776b>:44: UserWarning: To copy construct from a tensor, it is recommended to use sourceTensor.clone().detach() or sourceTensor.clone().detach().requires_grad_(True), rather than torch.tensor(sourceTensor).\n",
            "  self.X = torch.tensor(X_data, dtype=torch.long)\n",
            "<ipython-input-10-f03193db776b>:45: UserWarning: To copy construct from a tensor, it is recommended to use sourceTensor.clone().detach() or sourceTensor.clone().detach().requires_grad_(True), rather than torch.tensor(sourceTensor).\n",
            "  self.y = torch.tensor(y_data, dtype=torch.long)\n"
          ]
        },
        {
          "data": {
            "text/html": [
              "Finishing previous runs because reinit is set to 'default'."
            ],
            "text/plain": [
              "<IPython.core.display.HTML object>"
            ]
          },
          "metadata": {},
          "output_type": "display_data"
        },
        {
          "data": {
            "text/html": [],
            "text/plain": [
              "<IPython.core.display.HTML object>"
            ]
          },
          "metadata": {},
          "output_type": "display_data"
        },
        {
          "data": {
            "text/html": [
              "<br>    <style><br>        .wandb-row {<br>            display: flex;<br>            flex-direction: row;<br>            flex-wrap: wrap;<br>            justify-content: flex-start;<br>            width: 100%;<br>        }<br>        .wandb-col {<br>            display: flex;<br>            flex-direction: column;<br>            flex-basis: 100%;<br>            flex: 1;<br>            padding: 10px;<br>        }<br>    </style><br><div class=\"wandb-row\"><div class=\"wandb-col\"><h3>Run history:</h3><br/><table class=\"wandb\"><tr><td>epoch</td><td>▁</td></tr><tr><td>k_shot</td><td>▁</td></tr><tr><td>test_acc</td><td>▁</td></tr><tr><td>test_balanced_acc</td><td>▁</td></tr><tr><td>test_f1</td><td>▁</td></tr><tr><td>test_loss</td><td>▁</td></tr><tr><td>test_precision</td><td>▁</td></tr><tr><td>test_recall</td><td>▁</td></tr><tr><td>train_acc</td><td>▁</td></tr><tr><td>train_loss</td><td>▁</td></tr></table><br/></div><div class=\"wandb-col\"><h3>Run summary:</h3><br/><table class=\"wandb\"><tr><td>epoch</td><td>1</td></tr><tr><td>k_shot</td><td>50</td></tr><tr><td>test_acc</td><td>0.35036</td></tr><tr><td>test_balanced_acc</td><td>0.47719</td></tr><tr><td>test_f1</td><td>0.22635</td></tr><tr><td>test_loss</td><td>0.70934</td></tr><tr><td>test_precision</td><td>0.42238</td></tr><tr><td>test_recall</td><td>0.35036</td></tr><tr><td>train_acc</td><td>0.51</td></tr><tr><td>train_loss</td><td>0.77395</td></tr></table><br/></div></div>"
            ],
            "text/plain": [
              "<IPython.core.display.HTML object>"
            ]
          },
          "metadata": {},
          "output_type": "display_data"
        },
        {
          "data": {
            "text/html": [
              " View run <strong style=\"color:#cdcd00\">GRU-Bah-Glove_K-50_Training</strong> at: <a href='https://wandb.ai/wilfried-mvomoeto-university-of-li-ge/Few-Shot-Binary-Class-Training_gru_glove_fastText_Bahdanau-GRU-Bah-Glove-/runs/z2vadfty' target=\"_blank\">https://wandb.ai/wilfried-mvomoeto-university-of-li-ge/Few-Shot-Binary-Class-Training_gru_glove_fastText_Bahdanau-GRU-Bah-Glove-/runs/z2vadfty</a><br> View project at: <a href='https://wandb.ai/wilfried-mvomoeto-university-of-li-ge/Few-Shot-Binary-Class-Training_gru_glove_fastText_Bahdanau-GRU-Bah-Glove-' target=\"_blank\">https://wandb.ai/wilfried-mvomoeto-university-of-li-ge/Few-Shot-Binary-Class-Training_gru_glove_fastText_Bahdanau-GRU-Bah-Glove-</a><br>Synced 5 W&B file(s), 0 media file(s), 0 artifact file(s) and 0 other file(s)"
            ],
            "text/plain": [
              "<IPython.core.display.HTML object>"
            ]
          },
          "metadata": {},
          "output_type": "display_data"
        },
        {
          "data": {
            "text/html": [
              "Find logs at: <code>./wandb/run-20250501_182759-z2vadfty/logs</code>"
            ],
            "text/plain": [
              "<IPython.core.display.HTML object>"
            ]
          },
          "metadata": {},
          "output_type": "display_data"
        },
        {
          "data": {
            "text/html": [
              "Tracking run with wandb version 0.19.10"
            ],
            "text/plain": [
              "<IPython.core.display.HTML object>"
            ]
          },
          "metadata": {},
          "output_type": "display_data"
        },
        {
          "data": {
            "text/html": [
              "Run data is saved locally in <code>/content/wandb/run-20250501_182807-lo2da2em</code>"
            ],
            "text/plain": [
              "<IPython.core.display.HTML object>"
            ]
          },
          "metadata": {},
          "output_type": "display_data"
        },
        {
          "data": {
            "text/html": [
              "Syncing run <strong><a href='https://wandb.ai/wilfried-mvomoeto-university-of-li-ge/Few-Shot-Binary-Class-Training_gru_glove_fastText_Bahdanau-GRU-Bah-FastText-/runs/lo2da2em' target=\"_blank\">GRU-Bah-FastText_K-50_Training</a></strong> to <a href='https://wandb.ai/wilfried-mvomoeto-university-of-li-ge/Few-Shot-Binary-Class-Training_gru_glove_fastText_Bahdanau-GRU-Bah-FastText-' target=\"_blank\">Weights & Biases</a> (<a href='https://wandb.me/developer-guide' target=\"_blank\">docs</a>)<br>"
            ],
            "text/plain": [
              "<IPython.core.display.HTML object>"
            ]
          },
          "metadata": {},
          "output_type": "display_data"
        },
        {
          "data": {
            "text/html": [
              " View project at <a href='https://wandb.ai/wilfried-mvomoeto-university-of-li-ge/Few-Shot-Binary-Class-Training_gru_glove_fastText_Bahdanau-GRU-Bah-FastText-' target=\"_blank\">https://wandb.ai/wilfried-mvomoeto-university-of-li-ge/Few-Shot-Binary-Class-Training_gru_glove_fastText_Bahdanau-GRU-Bah-FastText-</a>"
            ],
            "text/plain": [
              "<IPython.core.display.HTML object>"
            ]
          },
          "metadata": {},
          "output_type": "display_data"
        },
        {
          "data": {
            "text/html": [
              " View run at <a href='https://wandb.ai/wilfried-mvomoeto-university-of-li-ge/Few-Shot-Binary-Class-Training_gru_glove_fastText_Bahdanau-GRU-Bah-FastText-/runs/lo2da2em' target=\"_blank\">https://wandb.ai/wilfried-mvomoeto-university-of-li-ge/Few-Shot-Binary-Class-Training_gru_glove_fastText_Bahdanau-GRU-Bah-FastText-/runs/lo2da2em</a>"
            ],
            "text/plain": [
              "<IPython.core.display.HTML object>"
            ]
          },
          "metadata": {},
          "output_type": "display_data"
        },
        {
          "name": "stderr",
          "output_type": "stream",
          "text": [
            "Training GRU-Bah-FastText with 50-shot:   0%|          | 0/1000 [00:01<?, ?epoch/s]"
          ]
        },
        {
          "name": "stdout",
          "output_type": "stream",
          "text": [
            "Early stopping triggered at epoch 1\n",
            "Model GRU-Bah-FastText_K-50 saved with loss gap > 1.25 or accuracy gap > 10% at epoch 0.\n"
          ]
        },
        {
          "name": "stderr",
          "output_type": "stream",
          "text": [
            "\n",
            "<ipython-input-10-f03193db776b>:44: UserWarning: To copy construct from a tensor, it is recommended to use sourceTensor.clone().detach() or sourceTensor.clone().detach().requires_grad_(True), rather than torch.tensor(sourceTensor).\n",
            "  self.X = torch.tensor(X_data, dtype=torch.long)\n",
            "<ipython-input-10-f03193db776b>:45: UserWarning: To copy construct from a tensor, it is recommended to use sourceTensor.clone().detach() or sourceTensor.clone().detach().requires_grad_(True), rather than torch.tensor(sourceTensor).\n",
            "  self.y = torch.tensor(y_data, dtype=torch.long)\n"
          ]
        },
        {
          "data": {
            "text/html": [
              "Finishing previous runs because reinit is set to 'default'."
            ],
            "text/plain": [
              "<IPython.core.display.HTML object>"
            ]
          },
          "metadata": {},
          "output_type": "display_data"
        },
        {
          "data": {
            "text/html": [],
            "text/plain": [
              "<IPython.core.display.HTML object>"
            ]
          },
          "metadata": {},
          "output_type": "display_data"
        },
        {
          "data": {
            "text/html": [
              "<br>    <style><br>        .wandb-row {<br>            display: flex;<br>            flex-direction: row;<br>            flex-wrap: wrap;<br>            justify-content: flex-start;<br>            width: 100%;<br>        }<br>        .wandb-col {<br>            display: flex;<br>            flex-direction: column;<br>            flex-basis: 100%;<br>            flex: 1;<br>            padding: 10px;<br>        }<br>    </style><br><div class=\"wandb-row\"><div class=\"wandb-col\"><h3>Run history:</h3><br/><table class=\"wandb\"><tr><td>epoch</td><td>▁</td></tr><tr><td>k_shot</td><td>▁</td></tr><tr><td>test_acc</td><td>▁</td></tr><tr><td>test_balanced_acc</td><td>▁</td></tr><tr><td>test_f1</td><td>▁</td></tr><tr><td>test_loss</td><td>▁</td></tr><tr><td>test_precision</td><td>▁</td></tr><tr><td>test_recall</td><td>▁</td></tr><tr><td>train_acc</td><td>▁</td></tr><tr><td>train_loss</td><td>▁</td></tr></table><br/></div><div class=\"wandb-col\"><h3>Run summary:</h3><br/><table class=\"wandb\"><tr><td>epoch</td><td>1</td></tr><tr><td>k_shot</td><td>50</td></tr><tr><td>test_acc</td><td>0.35532</td></tr><tr><td>test_balanced_acc</td><td>0.49177</td></tr><tr><td>test_f1</td><td>0.21088</td></tr><tr><td>test_loss</td><td>0.7351</td></tr><tr><td>test_precision</td><td>0.45795</td></tr><tr><td>test_recall</td><td>0.35532</td></tr><tr><td>train_acc</td><td>0.49</td></tr><tr><td>train_loss</td><td>0.73245</td></tr></table><br/></div></div>"
            ],
            "text/plain": [
              "<IPython.core.display.HTML object>"
            ]
          },
          "metadata": {},
          "output_type": "display_data"
        },
        {
          "data": {
            "text/html": [
              " View run <strong style=\"color:#cdcd00\">GRU-Bah-FastText_K-50_Training</strong> at: <a href='https://wandb.ai/wilfried-mvomoeto-university-of-li-ge/Few-Shot-Binary-Class-Training_gru_glove_fastText_Bahdanau-GRU-Bah-FastText-/runs/lo2da2em' target=\"_blank\">https://wandb.ai/wilfried-mvomoeto-university-of-li-ge/Few-Shot-Binary-Class-Training_gru_glove_fastText_Bahdanau-GRU-Bah-FastText-/runs/lo2da2em</a><br> View project at: <a href='https://wandb.ai/wilfried-mvomoeto-university-of-li-ge/Few-Shot-Binary-Class-Training_gru_glove_fastText_Bahdanau-GRU-Bah-FastText-' target=\"_blank\">https://wandb.ai/wilfried-mvomoeto-university-of-li-ge/Few-Shot-Binary-Class-Training_gru_glove_fastText_Bahdanau-GRU-Bah-FastText-</a><br>Synced 5 W&B file(s), 0 media file(s), 0 artifact file(s) and 0 other file(s)"
            ],
            "text/plain": [
              "<IPython.core.display.HTML object>"
            ]
          },
          "metadata": {},
          "output_type": "display_data"
        },
        {
          "data": {
            "text/html": [
              "Find logs at: <code>./wandb/run-20250501_182807-lo2da2em/logs</code>"
            ],
            "text/plain": [
              "<IPython.core.display.HTML object>"
            ]
          },
          "metadata": {},
          "output_type": "display_data"
        },
        {
          "data": {
            "text/html": [
              "Tracking run with wandb version 0.19.10"
            ],
            "text/plain": [
              "<IPython.core.display.HTML object>"
            ]
          },
          "metadata": {},
          "output_type": "display_data"
        },
        {
          "data": {
            "text/html": [
              "Run data is saved locally in <code>/content/wandb/run-20250501_182816-wdcpkh6a</code>"
            ],
            "text/plain": [
              "<IPython.core.display.HTML object>"
            ]
          },
          "metadata": {},
          "output_type": "display_data"
        },
        {
          "data": {
            "text/html": [
              "Syncing run <strong><a href='https://wandb.ai/wilfried-mvomoeto-university-of-li-ge/Few-Shot-Binary-Class-Training_gru_glove_fastText_Bahdanau-CNN_LSTM-/runs/wdcpkh6a' target=\"_blank\">CNN_LSTM_K-50_Training</a></strong> to <a href='https://wandb.ai/wilfried-mvomoeto-university-of-li-ge/Few-Shot-Binary-Class-Training_gru_glove_fastText_Bahdanau-CNN_LSTM-' target=\"_blank\">Weights & Biases</a> (<a href='https://wandb.me/developer-guide' target=\"_blank\">docs</a>)<br>"
            ],
            "text/plain": [
              "<IPython.core.display.HTML object>"
            ]
          },
          "metadata": {},
          "output_type": "display_data"
        },
        {
          "data": {
            "text/html": [
              " View project at <a href='https://wandb.ai/wilfried-mvomoeto-university-of-li-ge/Few-Shot-Binary-Class-Training_gru_glove_fastText_Bahdanau-CNN_LSTM-' target=\"_blank\">https://wandb.ai/wilfried-mvomoeto-university-of-li-ge/Few-Shot-Binary-Class-Training_gru_glove_fastText_Bahdanau-CNN_LSTM-</a>"
            ],
            "text/plain": [
              "<IPython.core.display.HTML object>"
            ]
          },
          "metadata": {},
          "output_type": "display_data"
        },
        {
          "data": {
            "text/html": [
              " View run at <a href='https://wandb.ai/wilfried-mvomoeto-university-of-li-ge/Few-Shot-Binary-Class-Training_gru_glove_fastText_Bahdanau-CNN_LSTM-/runs/wdcpkh6a' target=\"_blank\">https://wandb.ai/wilfried-mvomoeto-university-of-li-ge/Few-Shot-Binary-Class-Training_gru_glove_fastText_Bahdanau-CNN_LSTM-/runs/wdcpkh6a</a>"
            ],
            "text/plain": [
              "<IPython.core.display.HTML object>"
            ]
          },
          "metadata": {},
          "output_type": "display_data"
        },
        {
          "name": "stderr",
          "output_type": "stream",
          "text": [
            "Training CNN_LSTM with 50-shot:   0%|          | 0/1000 [00:00<?, ?epoch/s]"
          ]
        },
        {
          "name": "stdout",
          "output_type": "stream",
          "text": [
            "Early stopping triggered at epoch 1\n",
            "Model CNN_LSTM_K-50 saved with loss gap > 1.25 or accuracy gap > 10% at epoch 0.\n"
          ]
        },
        {
          "name": "stderr",
          "output_type": "stream",
          "text": [
            "\n",
            "<ipython-input-10-f03193db776b>:44: UserWarning: To copy construct from a tensor, it is recommended to use sourceTensor.clone().detach() or sourceTensor.clone().detach().requires_grad_(True), rather than torch.tensor(sourceTensor).\n",
            "  self.X = torch.tensor(X_data, dtype=torch.long)\n",
            "<ipython-input-10-f03193db776b>:45: UserWarning: To copy construct from a tensor, it is recommended to use sourceTensor.clone().detach() or sourceTensor.clone().detach().requires_grad_(True), rather than torch.tensor(sourceTensor).\n",
            "  self.y = torch.tensor(y_data, dtype=torch.long)\n"
          ]
        },
        {
          "data": {
            "text/html": [
              "Finishing previous runs because reinit is set to 'default'."
            ],
            "text/plain": [
              "<IPython.core.display.HTML object>"
            ]
          },
          "metadata": {},
          "output_type": "display_data"
        },
        {
          "data": {
            "text/html": [],
            "text/plain": [
              "<IPython.core.display.HTML object>"
            ]
          },
          "metadata": {},
          "output_type": "display_data"
        },
        {
          "data": {
            "text/html": [
              "<br>    <style><br>        .wandb-row {<br>            display: flex;<br>            flex-direction: row;<br>            flex-wrap: wrap;<br>            justify-content: flex-start;<br>            width: 100%;<br>        }<br>        .wandb-col {<br>            display: flex;<br>            flex-direction: column;<br>            flex-basis: 100%;<br>            flex: 1;<br>            padding: 10px;<br>        }<br>    </style><br><div class=\"wandb-row\"><div class=\"wandb-col\"><h3>Run history:</h3><br/><table class=\"wandb\"><tr><td>epoch</td><td>▁</td></tr><tr><td>k_shot</td><td>▁</td></tr><tr><td>test_acc</td><td>▁</td></tr><tr><td>test_balanced_acc</td><td>▁</td></tr><tr><td>test_f1</td><td>▁</td></tr><tr><td>test_loss</td><td>▁</td></tr><tr><td>test_precision</td><td>▁</td></tr><tr><td>test_recall</td><td>▁</td></tr><tr><td>train_acc</td><td>▁</td></tr><tr><td>train_loss</td><td>▁</td></tr></table><br/></div><div class=\"wandb-col\"><h3>Run summary:</h3><br/><table class=\"wandb\"><tr><td>epoch</td><td>1</td></tr><tr><td>k_shot</td><td>50</td></tr><tr><td>test_acc</td><td>0.35433</td></tr><tr><td>test_balanced_acc</td><td>0.5</td></tr><tr><td>test_f1</td><td>0.1854</td></tr><tr><td>test_loss</td><td>0.69913</td></tr><tr><td>test_precision</td><td>0.12555</td></tr><tr><td>test_recall</td><td>0.35433</td></tr><tr><td>train_acc</td><td>0.5</td></tr><tr><td>train_loss</td><td>0.70265</td></tr></table><br/></div></div>"
            ],
            "text/plain": [
              "<IPython.core.display.HTML object>"
            ]
          },
          "metadata": {},
          "output_type": "display_data"
        },
        {
          "data": {
            "text/html": [
              " View run <strong style=\"color:#cdcd00\">CNN_LSTM_K-50_Training</strong> at: <a href='https://wandb.ai/wilfried-mvomoeto-university-of-li-ge/Few-Shot-Binary-Class-Training_gru_glove_fastText_Bahdanau-CNN_LSTM-/runs/wdcpkh6a' target=\"_blank\">https://wandb.ai/wilfried-mvomoeto-university-of-li-ge/Few-Shot-Binary-Class-Training_gru_glove_fastText_Bahdanau-CNN_LSTM-/runs/wdcpkh6a</a><br> View project at: <a href='https://wandb.ai/wilfried-mvomoeto-university-of-li-ge/Few-Shot-Binary-Class-Training_gru_glove_fastText_Bahdanau-CNN_LSTM-' target=\"_blank\">https://wandb.ai/wilfried-mvomoeto-university-of-li-ge/Few-Shot-Binary-Class-Training_gru_glove_fastText_Bahdanau-CNN_LSTM-</a><br>Synced 5 W&B file(s), 0 media file(s), 0 artifact file(s) and 0 other file(s)"
            ],
            "text/plain": [
              "<IPython.core.display.HTML object>"
            ]
          },
          "metadata": {},
          "output_type": "display_data"
        },
        {
          "data": {
            "text/html": [
              "Find logs at: <code>./wandb/run-20250501_182816-wdcpkh6a/logs</code>"
            ],
            "text/plain": [
              "<IPython.core.display.HTML object>"
            ]
          },
          "metadata": {},
          "output_type": "display_data"
        },
        {
          "data": {
            "text/html": [
              "Tracking run with wandb version 0.19.10"
            ],
            "text/plain": [
              "<IPython.core.display.HTML object>"
            ]
          },
          "metadata": {},
          "output_type": "display_data"
        },
        {
          "data": {
            "text/html": [
              "Run data is saved locally in <code>/content/wandb/run-20250501_182824-4xkgpogq</code>"
            ],
            "text/plain": [
              "<IPython.core.display.HTML object>"
            ]
          },
          "metadata": {},
          "output_type": "display_data"
        },
        {
          "data": {
            "text/html": [
              "Syncing run <strong><a href='https://wandb.ai/wilfried-mvomoeto-university-of-li-ge/Few-Shot-Binary-Class-Training_gru_glove_fastText_Bahdanau-GRU-Glove-/runs/4xkgpogq' target=\"_blank\">GRU-Glove_K-50_Training</a></strong> to <a href='https://wandb.ai/wilfried-mvomoeto-university-of-li-ge/Few-Shot-Binary-Class-Training_gru_glove_fastText_Bahdanau-GRU-Glove-' target=\"_blank\">Weights & Biases</a> (<a href='https://wandb.me/developer-guide' target=\"_blank\">docs</a>)<br>"
            ],
            "text/plain": [
              "<IPython.core.display.HTML object>"
            ]
          },
          "metadata": {},
          "output_type": "display_data"
        },
        {
          "data": {
            "text/html": [
              " View project at <a href='https://wandb.ai/wilfried-mvomoeto-university-of-li-ge/Few-Shot-Binary-Class-Training_gru_glove_fastText_Bahdanau-GRU-Glove-' target=\"_blank\">https://wandb.ai/wilfried-mvomoeto-university-of-li-ge/Few-Shot-Binary-Class-Training_gru_glove_fastText_Bahdanau-GRU-Glove-</a>"
            ],
            "text/plain": [
              "<IPython.core.display.HTML object>"
            ]
          },
          "metadata": {},
          "output_type": "display_data"
        },
        {
          "data": {
            "text/html": [
              " View run at <a href='https://wandb.ai/wilfried-mvomoeto-university-of-li-ge/Few-Shot-Binary-Class-Training_gru_glove_fastText_Bahdanau-GRU-Glove-/runs/4xkgpogq' target=\"_blank\">https://wandb.ai/wilfried-mvomoeto-university-of-li-ge/Few-Shot-Binary-Class-Training_gru_glove_fastText_Bahdanau-GRU-Glove-/runs/4xkgpogq</a>"
            ],
            "text/plain": [
              "<IPython.core.display.HTML object>"
            ]
          },
          "metadata": {},
          "output_type": "display_data"
        },
        {
          "name": "stderr",
          "output_type": "stream",
          "text": [
            "Training GRU-Glove with 50-shot:   0%|          | 0/1000 [00:00<?, ?epoch/s]"
          ]
        },
        {
          "name": "stdout",
          "output_type": "stream",
          "text": [
            "Early stopping triggered at epoch 1\n",
            "Model GRU-Glove_K-50 saved with loss gap > 1.25 or accuracy gap > 10% at epoch 0.\n"
          ]
        },
        {
          "name": "stderr",
          "output_type": "stream",
          "text": [
            "\n",
            "<ipython-input-10-f03193db776b>:44: UserWarning: To copy construct from a tensor, it is recommended to use sourceTensor.clone().detach() or sourceTensor.clone().detach().requires_grad_(True), rather than torch.tensor(sourceTensor).\n",
            "  self.X = torch.tensor(X_data, dtype=torch.long)\n",
            "<ipython-input-10-f03193db776b>:45: UserWarning: To copy construct from a tensor, it is recommended to use sourceTensor.clone().detach() or sourceTensor.clone().detach().requires_grad_(True), rather than torch.tensor(sourceTensor).\n",
            "  self.y = torch.tensor(y_data, dtype=torch.long)\n"
          ]
        },
        {
          "data": {
            "text/html": [
              "Finishing previous runs because reinit is set to 'default'."
            ],
            "text/plain": [
              "<IPython.core.display.HTML object>"
            ]
          },
          "metadata": {},
          "output_type": "display_data"
        },
        {
          "data": {
            "text/html": [],
            "text/plain": [
              "<IPython.core.display.HTML object>"
            ]
          },
          "metadata": {},
          "output_type": "display_data"
        },
        {
          "data": {
            "text/html": [
              "<br>    <style><br>        .wandb-row {<br>            display: flex;<br>            flex-direction: row;<br>            flex-wrap: wrap;<br>            justify-content: flex-start;<br>            width: 100%;<br>        }<br>        .wandb-col {<br>            display: flex;<br>            flex-direction: column;<br>            flex-basis: 100%;<br>            flex: 1;<br>            padding: 10px;<br>        }<br>    </style><br><div class=\"wandb-row\"><div class=\"wandb-col\"><h3>Run history:</h3><br/><table class=\"wandb\"><tr><td>epoch</td><td>▁</td></tr><tr><td>k_shot</td><td>▁</td></tr><tr><td>test_acc</td><td>▁</td></tr><tr><td>test_balanced_acc</td><td>▁</td></tr><tr><td>test_f1</td><td>▁</td></tr><tr><td>test_loss</td><td>▁</td></tr><tr><td>test_precision</td><td>▁</td></tr><tr><td>test_recall</td><td>▁</td></tr><tr><td>train_acc</td><td>▁</td></tr><tr><td>train_loss</td><td>▁</td></tr></table><br/></div><div class=\"wandb-col\"><h3>Run summary:</h3><br/><table class=\"wandb\"><tr><td>epoch</td><td>1</td></tr><tr><td>k_shot</td><td>50</td></tr><tr><td>test_acc</td><td>0.35433</td></tr><tr><td>test_balanced_acc</td><td>0.49558</td></tr><tr><td>test_f1</td><td>0.19725</td></tr><tr><td>test_loss</td><td>0.69329</td></tr><tr><td>test_precision</td><td>0.44766</td></tr><tr><td>test_recall</td><td>0.35433</td></tr><tr><td>train_acc</td><td>0.51</td></tr><tr><td>train_loss</td><td>0.7189</td></tr></table><br/></div></div>"
            ],
            "text/plain": [
              "<IPython.core.display.HTML object>"
            ]
          },
          "metadata": {},
          "output_type": "display_data"
        },
        {
          "data": {
            "text/html": [
              " View run <strong style=\"color:#cdcd00\">GRU-Glove_K-50_Training</strong> at: <a href='https://wandb.ai/wilfried-mvomoeto-university-of-li-ge/Few-Shot-Binary-Class-Training_gru_glove_fastText_Bahdanau-GRU-Glove-/runs/4xkgpogq' target=\"_blank\">https://wandb.ai/wilfried-mvomoeto-university-of-li-ge/Few-Shot-Binary-Class-Training_gru_glove_fastText_Bahdanau-GRU-Glove-/runs/4xkgpogq</a><br> View project at: <a href='https://wandb.ai/wilfried-mvomoeto-university-of-li-ge/Few-Shot-Binary-Class-Training_gru_glove_fastText_Bahdanau-GRU-Glove-' target=\"_blank\">https://wandb.ai/wilfried-mvomoeto-university-of-li-ge/Few-Shot-Binary-Class-Training_gru_glove_fastText_Bahdanau-GRU-Glove-</a><br>Synced 5 W&B file(s), 0 media file(s), 0 artifact file(s) and 0 other file(s)"
            ],
            "text/plain": [
              "<IPython.core.display.HTML object>"
            ]
          },
          "metadata": {},
          "output_type": "display_data"
        },
        {
          "data": {
            "text/html": [
              "Find logs at: <code>./wandb/run-20250501_182824-4xkgpogq/logs</code>"
            ],
            "text/plain": [
              "<IPython.core.display.HTML object>"
            ]
          },
          "metadata": {},
          "output_type": "display_data"
        },
        {
          "data": {
            "text/html": [
              "Tracking run with wandb version 0.19.10"
            ],
            "text/plain": [
              "<IPython.core.display.HTML object>"
            ]
          },
          "metadata": {},
          "output_type": "display_data"
        },
        {
          "data": {
            "text/html": [
              "Run data is saved locally in <code>/content/wandb/run-20250501_182833-c8blbuqy</code>"
            ],
            "text/plain": [
              "<IPython.core.display.HTML object>"
            ]
          },
          "metadata": {},
          "output_type": "display_data"
        },
        {
          "data": {
            "text/html": [
              "Syncing run <strong><a href='https://wandb.ai/wilfried-mvomoeto-university-of-li-ge/Few-Shot-Binary-Class-Training_gru_glove_fastText_Bahdanau-GRU-FastText-/runs/c8blbuqy' target=\"_blank\">GRU-FastText_K-50_Training</a></strong> to <a href='https://wandb.ai/wilfried-mvomoeto-university-of-li-ge/Few-Shot-Binary-Class-Training_gru_glove_fastText_Bahdanau-GRU-FastText-' target=\"_blank\">Weights & Biases</a> (<a href='https://wandb.me/developer-guide' target=\"_blank\">docs</a>)<br>"
            ],
            "text/plain": [
              "<IPython.core.display.HTML object>"
            ]
          },
          "metadata": {},
          "output_type": "display_data"
        },
        {
          "data": {
            "text/html": [
              " View project at <a href='https://wandb.ai/wilfried-mvomoeto-university-of-li-ge/Few-Shot-Binary-Class-Training_gru_glove_fastText_Bahdanau-GRU-FastText-' target=\"_blank\">https://wandb.ai/wilfried-mvomoeto-university-of-li-ge/Few-Shot-Binary-Class-Training_gru_glove_fastText_Bahdanau-GRU-FastText-</a>"
            ],
            "text/plain": [
              "<IPython.core.display.HTML object>"
            ]
          },
          "metadata": {},
          "output_type": "display_data"
        },
        {
          "data": {
            "text/html": [
              " View run at <a href='https://wandb.ai/wilfried-mvomoeto-university-of-li-ge/Few-Shot-Binary-Class-Training_gru_glove_fastText_Bahdanau-GRU-FastText-/runs/c8blbuqy' target=\"_blank\">https://wandb.ai/wilfried-mvomoeto-university-of-li-ge/Few-Shot-Binary-Class-Training_gru_glove_fastText_Bahdanau-GRU-FastText-/runs/c8blbuqy</a>"
            ],
            "text/plain": [
              "<IPython.core.display.HTML object>"
            ]
          },
          "metadata": {},
          "output_type": "display_data"
        },
        {
          "name": "stderr",
          "output_type": "stream",
          "text": [
            "Training GRU-FastText with 50-shot:   0%|          | 0/1000 [00:00<?, ?epoch/s]"
          ]
        },
        {
          "name": "stdout",
          "output_type": "stream",
          "text": [
            "Early stopping triggered at epoch 1\n",
            "Model GRU-FastText_K-50 saved with loss gap > 1.25 or accuracy gap > 10% at epoch 0.\n",
            "\n",
            "Training with 60-shot...\n"
          ]
        },
        {
          "name": "stderr",
          "output_type": "stream",
          "text": [
            "\n",
            "<ipython-input-10-f03193db776b>:44: UserWarning: To copy construct from a tensor, it is recommended to use sourceTensor.clone().detach() or sourceTensor.clone().detach().requires_grad_(True), rather than torch.tensor(sourceTensor).\n",
            "  self.X = torch.tensor(X_data, dtype=torch.long)\n",
            "<ipython-input-10-f03193db776b>:45: UserWarning: To copy construct from a tensor, it is recommended to use sourceTensor.clone().detach() or sourceTensor.clone().detach().requires_grad_(True), rather than torch.tensor(sourceTensor).\n",
            "  self.y = torch.tensor(y_data, dtype=torch.long)\n"
          ]
        },
        {
          "data": {
            "text/html": [
              "Finishing previous runs because reinit is set to 'default'."
            ],
            "text/plain": [
              "<IPython.core.display.HTML object>"
            ]
          },
          "metadata": {},
          "output_type": "display_data"
        },
        {
          "data": {
            "text/html": [],
            "text/plain": [
              "<IPython.core.display.HTML object>"
            ]
          },
          "metadata": {},
          "output_type": "display_data"
        },
        {
          "data": {
            "text/html": [
              "<br>    <style><br>        .wandb-row {<br>            display: flex;<br>            flex-direction: row;<br>            flex-wrap: wrap;<br>            justify-content: flex-start;<br>            width: 100%;<br>        }<br>        .wandb-col {<br>            display: flex;<br>            flex-direction: column;<br>            flex-basis: 100%;<br>            flex: 1;<br>            padding: 10px;<br>        }<br>    </style><br><div class=\"wandb-row\"><div class=\"wandb-col\"><h3>Run history:</h3><br/><table class=\"wandb\"><tr><td>epoch</td><td>▁</td></tr><tr><td>k_shot</td><td>▁</td></tr><tr><td>test_acc</td><td>▁</td></tr><tr><td>test_balanced_acc</td><td>▁</td></tr><tr><td>test_f1</td><td>▁</td></tr><tr><td>test_loss</td><td>▁</td></tr><tr><td>test_precision</td><td>▁</td></tr><tr><td>test_recall</td><td>▁</td></tr><tr><td>train_acc</td><td>▁</td></tr><tr><td>train_loss</td><td>▁</td></tr></table><br/></div><div class=\"wandb-col\"><h3>Run summary:</h3><br/><table class=\"wandb\"><tr><td>epoch</td><td>1</td></tr><tr><td>k_shot</td><td>50</td></tr><tr><td>test_acc</td><td>0.35457</td></tr><tr><td>test_balanced_acc</td><td>0.4994</td></tr><tr><td>test_f1</td><td>0.18809</td></tr><tr><td>test_loss</td><td>0.70787</td></tr><tr><td>test_precision</td><td>0.47764</td></tr><tr><td>test_recall</td><td>0.35457</td></tr><tr><td>train_acc</td><td>0.51</td></tr><tr><td>train_loss</td><td>0.70673</td></tr></table><br/></div></div>"
            ],
            "text/plain": [
              "<IPython.core.display.HTML object>"
            ]
          },
          "metadata": {},
          "output_type": "display_data"
        },
        {
          "data": {
            "text/html": [
              " View run <strong style=\"color:#cdcd00\">GRU-FastText_K-50_Training</strong> at: <a href='https://wandb.ai/wilfried-mvomoeto-university-of-li-ge/Few-Shot-Binary-Class-Training_gru_glove_fastText_Bahdanau-GRU-FastText-/runs/c8blbuqy' target=\"_blank\">https://wandb.ai/wilfried-mvomoeto-university-of-li-ge/Few-Shot-Binary-Class-Training_gru_glove_fastText_Bahdanau-GRU-FastText-/runs/c8blbuqy</a><br> View project at: <a href='https://wandb.ai/wilfried-mvomoeto-university-of-li-ge/Few-Shot-Binary-Class-Training_gru_glove_fastText_Bahdanau-GRU-FastText-' target=\"_blank\">https://wandb.ai/wilfried-mvomoeto-university-of-li-ge/Few-Shot-Binary-Class-Training_gru_glove_fastText_Bahdanau-GRU-FastText-</a><br>Synced 5 W&B file(s), 0 media file(s), 0 artifact file(s) and 0 other file(s)"
            ],
            "text/plain": [
              "<IPython.core.display.HTML object>"
            ]
          },
          "metadata": {},
          "output_type": "display_data"
        },
        {
          "data": {
            "text/html": [
              "Find logs at: <code>./wandb/run-20250501_182833-c8blbuqy/logs</code>"
            ],
            "text/plain": [
              "<IPython.core.display.HTML object>"
            ]
          },
          "metadata": {},
          "output_type": "display_data"
        },
        {
          "data": {
            "text/html": [
              "Tracking run with wandb version 0.19.10"
            ],
            "text/plain": [
              "<IPython.core.display.HTML object>"
            ]
          },
          "metadata": {},
          "output_type": "display_data"
        },
        {
          "data": {
            "text/html": [
              "Run data is saved locally in <code>/content/wandb/run-20250501_182842-l7r08mxt</code>"
            ],
            "text/plain": [
              "<IPython.core.display.HTML object>"
            ]
          },
          "metadata": {},
          "output_type": "display_data"
        },
        {
          "data": {
            "text/html": [
              "Syncing run <strong><a href='https://wandb.ai/wilfried-mvomoeto-university-of-li-ge/Few-Shot-Binary-Class-Training_gru_glove_fastText_Bahdanau-GRU-Bah-Glove-/runs/l7r08mxt' target=\"_blank\">GRU-Bah-Glove_K-60_Training</a></strong> to <a href='https://wandb.ai/wilfried-mvomoeto-university-of-li-ge/Few-Shot-Binary-Class-Training_gru_glove_fastText_Bahdanau-GRU-Bah-Glove-' target=\"_blank\">Weights & Biases</a> (<a href='https://wandb.me/developer-guide' target=\"_blank\">docs</a>)<br>"
            ],
            "text/plain": [
              "<IPython.core.display.HTML object>"
            ]
          },
          "metadata": {},
          "output_type": "display_data"
        },
        {
          "data": {
            "text/html": [
              " View project at <a href='https://wandb.ai/wilfried-mvomoeto-university-of-li-ge/Few-Shot-Binary-Class-Training_gru_glove_fastText_Bahdanau-GRU-Bah-Glove-' target=\"_blank\">https://wandb.ai/wilfried-mvomoeto-university-of-li-ge/Few-Shot-Binary-Class-Training_gru_glove_fastText_Bahdanau-GRU-Bah-Glove-</a>"
            ],
            "text/plain": [
              "<IPython.core.display.HTML object>"
            ]
          },
          "metadata": {},
          "output_type": "display_data"
        },
        {
          "data": {
            "text/html": [
              " View run at <a href='https://wandb.ai/wilfried-mvomoeto-university-of-li-ge/Few-Shot-Binary-Class-Training_gru_glove_fastText_Bahdanau-GRU-Bah-Glove-/runs/l7r08mxt' target=\"_blank\">https://wandb.ai/wilfried-mvomoeto-university-of-li-ge/Few-Shot-Binary-Class-Training_gru_glove_fastText_Bahdanau-GRU-Bah-Glove-/runs/l7r08mxt</a>"
            ],
            "text/plain": [
              "<IPython.core.display.HTML object>"
            ]
          },
          "metadata": {},
          "output_type": "display_data"
        },
        {
          "name": "stderr",
          "output_type": "stream",
          "text": [
            "Training GRU-Bah-Glove with 60-shot:   0%|          | 0/1000 [00:00<?, ?epoch/s]"
          ]
        },
        {
          "name": "stdout",
          "output_type": "stream",
          "text": [
            "Early stopping triggered at epoch 1\n",
            "Model GRU-Bah-Glove_K-60 saved with loss gap > 1.25 or accuracy gap > 10% at epoch 0.\n"
          ]
        },
        {
          "name": "stderr",
          "output_type": "stream",
          "text": [
            "\n",
            "<ipython-input-10-f03193db776b>:44: UserWarning: To copy construct from a tensor, it is recommended to use sourceTensor.clone().detach() or sourceTensor.clone().detach().requires_grad_(True), rather than torch.tensor(sourceTensor).\n",
            "  self.X = torch.tensor(X_data, dtype=torch.long)\n",
            "<ipython-input-10-f03193db776b>:45: UserWarning: To copy construct from a tensor, it is recommended to use sourceTensor.clone().detach() or sourceTensor.clone().detach().requires_grad_(True), rather than torch.tensor(sourceTensor).\n",
            "  self.y = torch.tensor(y_data, dtype=torch.long)\n"
          ]
        },
        {
          "data": {
            "text/html": [
              "Finishing previous runs because reinit is set to 'default'."
            ],
            "text/plain": [
              "<IPython.core.display.HTML object>"
            ]
          },
          "metadata": {},
          "output_type": "display_data"
        },
        {
          "data": {
            "text/html": [],
            "text/plain": [
              "<IPython.core.display.HTML object>"
            ]
          },
          "metadata": {},
          "output_type": "display_data"
        },
        {
          "data": {
            "text/html": [
              "<br>    <style><br>        .wandb-row {<br>            display: flex;<br>            flex-direction: row;<br>            flex-wrap: wrap;<br>            justify-content: flex-start;<br>            width: 100%;<br>        }<br>        .wandb-col {<br>            display: flex;<br>            flex-direction: column;<br>            flex-basis: 100%;<br>            flex: 1;<br>            padding: 10px;<br>        }<br>    </style><br><div class=\"wandb-row\"><div class=\"wandb-col\"><h3>Run history:</h3><br/><table class=\"wandb\"><tr><td>epoch</td><td>▁</td></tr><tr><td>k_shot</td><td>▁</td></tr><tr><td>test_acc</td><td>▁</td></tr><tr><td>test_balanced_acc</td><td>▁</td></tr><tr><td>test_f1</td><td>▁</td></tr><tr><td>test_loss</td><td>▁</td></tr><tr><td>test_precision</td><td>▁</td></tr><tr><td>test_recall</td><td>▁</td></tr><tr><td>train_acc</td><td>▁</td></tr><tr><td>train_loss</td><td>▁</td></tr></table><br/></div><div class=\"wandb-col\"><h3>Run summary:</h3><br/><table class=\"wandb\"><tr><td>epoch</td><td>1</td></tr><tr><td>k_shot</td><td>60</td></tr><tr><td>test_acc</td><td>0.40094</td></tr><tr><td>test_balanced_acc</td><td>0.496</td></tr><tr><td>test_f1</td><td>0.34767</td></tr><tr><td>test_loss</td><td>0.69684</td></tr><tr><td>test_precision</td><td>0.5348</td></tr><tr><td>test_recall</td><td>0.40094</td></tr><tr><td>train_acc</td><td>0.56667</td></tr><tr><td>train_loss</td><td>0.73589</td></tr></table><br/></div></div>"
            ],
            "text/plain": [
              "<IPython.core.display.HTML object>"
            ]
          },
          "metadata": {},
          "output_type": "display_data"
        },
        {
          "data": {
            "text/html": [
              " View run <strong style=\"color:#cdcd00\">GRU-Bah-Glove_K-60_Training</strong> at: <a href='https://wandb.ai/wilfried-mvomoeto-university-of-li-ge/Few-Shot-Binary-Class-Training_gru_glove_fastText_Bahdanau-GRU-Bah-Glove-/runs/l7r08mxt' target=\"_blank\">https://wandb.ai/wilfried-mvomoeto-university-of-li-ge/Few-Shot-Binary-Class-Training_gru_glove_fastText_Bahdanau-GRU-Bah-Glove-/runs/l7r08mxt</a><br> View project at: <a href='https://wandb.ai/wilfried-mvomoeto-university-of-li-ge/Few-Shot-Binary-Class-Training_gru_glove_fastText_Bahdanau-GRU-Bah-Glove-' target=\"_blank\">https://wandb.ai/wilfried-mvomoeto-university-of-li-ge/Few-Shot-Binary-Class-Training_gru_glove_fastText_Bahdanau-GRU-Bah-Glove-</a><br>Synced 5 W&B file(s), 0 media file(s), 0 artifact file(s) and 0 other file(s)"
            ],
            "text/plain": [
              "<IPython.core.display.HTML object>"
            ]
          },
          "metadata": {},
          "output_type": "display_data"
        },
        {
          "data": {
            "text/html": [
              "Find logs at: <code>./wandb/run-20250501_182842-l7r08mxt/logs</code>"
            ],
            "text/plain": [
              "<IPython.core.display.HTML object>"
            ]
          },
          "metadata": {},
          "output_type": "display_data"
        },
        {
          "data": {
            "text/html": [
              "Tracking run with wandb version 0.19.10"
            ],
            "text/plain": [
              "<IPython.core.display.HTML object>"
            ]
          },
          "metadata": {},
          "output_type": "display_data"
        },
        {
          "data": {
            "text/html": [
              "Run data is saved locally in <code>/content/wandb/run-20250501_182850-cy1iq5n5</code>"
            ],
            "text/plain": [
              "<IPython.core.display.HTML object>"
            ]
          },
          "metadata": {},
          "output_type": "display_data"
        },
        {
          "data": {
            "text/html": [
              "Syncing run <strong><a href='https://wandb.ai/wilfried-mvomoeto-university-of-li-ge/Few-Shot-Binary-Class-Training_gru_glove_fastText_Bahdanau-GRU-Bah-FastText-/runs/cy1iq5n5' target=\"_blank\">GRU-Bah-FastText_K-60_Training</a></strong> to <a href='https://wandb.ai/wilfried-mvomoeto-university-of-li-ge/Few-Shot-Binary-Class-Training_gru_glove_fastText_Bahdanau-GRU-Bah-FastText-' target=\"_blank\">Weights & Biases</a> (<a href='https://wandb.me/developer-guide' target=\"_blank\">docs</a>)<br>"
            ],
            "text/plain": [
              "<IPython.core.display.HTML object>"
            ]
          },
          "metadata": {},
          "output_type": "display_data"
        },
        {
          "data": {
            "text/html": [
              " View project at <a href='https://wandb.ai/wilfried-mvomoeto-university-of-li-ge/Few-Shot-Binary-Class-Training_gru_glove_fastText_Bahdanau-GRU-Bah-FastText-' target=\"_blank\">https://wandb.ai/wilfried-mvomoeto-university-of-li-ge/Few-Shot-Binary-Class-Training_gru_glove_fastText_Bahdanau-GRU-Bah-FastText-</a>"
            ],
            "text/plain": [
              "<IPython.core.display.HTML object>"
            ]
          },
          "metadata": {},
          "output_type": "display_data"
        },
        {
          "data": {
            "text/html": [
              " View run at <a href='https://wandb.ai/wilfried-mvomoeto-university-of-li-ge/Few-Shot-Binary-Class-Training_gru_glove_fastText_Bahdanau-GRU-Bah-FastText-/runs/cy1iq5n5' target=\"_blank\">https://wandb.ai/wilfried-mvomoeto-university-of-li-ge/Few-Shot-Binary-Class-Training_gru_glove_fastText_Bahdanau-GRU-Bah-FastText-/runs/cy1iq5n5</a>"
            ],
            "text/plain": [
              "<IPython.core.display.HTML object>"
            ]
          },
          "metadata": {},
          "output_type": "display_data"
        },
        {
          "name": "stderr",
          "output_type": "stream",
          "text": [
            "GRU-Bah-FastText K-60 Epoch 20/1000 - Train Loss: 0.5921, Test Loss: 0.6344, Train Acc: 78.33%, Test Acc: 73.39%, Test F1: 73.87%, Test Balanced Acc: 77.42%, Test Recall: 73.39%, Test Precision: 80.55%, Time: 0.77 sec:   2%|▏         | 20/1000 [00:16<13:41,  1.19epoch/s]"
          ]
        },
        {
          "name": "stdout",
          "output_type": "stream",
          "text": [
            "Early stopping triggered at epoch 21\n",
            "Model GRU-Bah-FastText_K-60 saved with loss gap > 1.25 or accuracy gap > 10% at epoch 20.\n"
          ]
        },
        {
          "name": "stderr",
          "output_type": "stream",
          "text": [
            "\n",
            "<ipython-input-10-f03193db776b>:44: UserWarning: To copy construct from a tensor, it is recommended to use sourceTensor.clone().detach() or sourceTensor.clone().detach().requires_grad_(True), rather than torch.tensor(sourceTensor).\n",
            "  self.X = torch.tensor(X_data, dtype=torch.long)\n",
            "<ipython-input-10-f03193db776b>:45: UserWarning: To copy construct from a tensor, it is recommended to use sourceTensor.clone().detach() or sourceTensor.clone().detach().requires_grad_(True), rather than torch.tensor(sourceTensor).\n",
            "  self.y = torch.tensor(y_data, dtype=torch.long)\n"
          ]
        },
        {
          "data": {
            "text/html": [
              "Finishing previous runs because reinit is set to 'default'."
            ],
            "text/plain": [
              "<IPython.core.display.HTML object>"
            ]
          },
          "metadata": {},
          "output_type": "display_data"
        },
        {
          "data": {
            "text/html": [],
            "text/plain": [
              "<IPython.core.display.HTML object>"
            ]
          },
          "metadata": {},
          "output_type": "display_data"
        },
        {
          "data": {
            "text/html": [
              "<br>    <style><br>        .wandb-row {<br>            display: flex;<br>            flex-direction: row;<br>            flex-wrap: wrap;<br>            justify-content: flex-start;<br>            width: 100%;<br>        }<br>        .wandb-col {<br>            display: flex;<br>            flex-direction: column;<br>            flex-basis: 100%;<br>            flex: 1;<br>            padding: 10px;<br>        }<br>    </style><br><div class=\"wandb-row\"><div class=\"wandb-col\"><h3>Run history:</h3><br/><table class=\"wandb\"><tr><td>epoch</td><td>▁▁▂▂▂▃▃▃▄▄▅▅▅▆▆▆▇▇▇██</td></tr><tr><td>k_shot</td><td>▁▁▁▁▁▁▁▁▁▁▁▁▁▁▁▁▁▁▁▁▁</td></tr><tr><td>test_acc</td><td>▂▂▂▂▁▁▃▃▄▅▆▆▇▇▇▇▇██▇▇</td></tr><tr><td>test_balanced_acc</td><td>▁▁▁▁▂▃▃▃▄▄▅▅▆▆▇▇▇████</td></tr><tr><td>test_f1</td><td>▁▁▂▂▄▄▅▅▅▆▇▇▇██▇████▇</td></tr><tr><td>test_loss</td><td>▇▇▇████▇▇▇▇▆▆▆▆▆▅▄▃▂▁</td></tr><tr><td>test_precision</td><td>▁▂▁▂▂▃▃▃▄▄▅▅▅▆▇▇▇████</td></tr><tr><td>test_recall</td><td>▂▂▂▂▁▁▃▃▄▅▆▆▇▇▇▇▇██▇▇</td></tr><tr><td>train_acc</td><td>▂▁▁▁▂▃▄▁▅▂▅▅▅▃▆▅▇▆▇██</td></tr><tr><td>train_loss</td><td>▇█▇▇▅▄▄▅▄▅▄▄▄▄▃▃▃▃▁▁▁</td></tr></table><br/></div><div class=\"wandb-col\"><h3>Run summary:</h3><br/><table class=\"wandb\"><tr><td>epoch</td><td>21</td></tr><tr><td>k_shot</td><td>60</td></tr><tr><td>test_acc</td><td>0.72303</td></tr><tr><td>test_balanced_acc</td><td>0.76721</td></tr><tr><td>test_f1</td><td>0.72743</td></tr><tr><td>test_loss</td><td>0.62275</td></tr><tr><td>test_precision</td><td>0.80315</td></tr><tr><td>test_recall</td><td>0.72303</td></tr><tr><td>train_acc</td><td>0.80833</td></tr><tr><td>train_loss</td><td>0.58858</td></tr></table><br/></div></div>"
            ],
            "text/plain": [
              "<IPython.core.display.HTML object>"
            ]
          },
          "metadata": {},
          "output_type": "display_data"
        },
        {
          "data": {
            "text/html": [
              " View run <strong style=\"color:#cdcd00\">GRU-Bah-FastText_K-60_Training</strong> at: <a href='https://wandb.ai/wilfried-mvomoeto-university-of-li-ge/Few-Shot-Binary-Class-Training_gru_glove_fastText_Bahdanau-GRU-Bah-FastText-/runs/cy1iq5n5' target=\"_blank\">https://wandb.ai/wilfried-mvomoeto-university-of-li-ge/Few-Shot-Binary-Class-Training_gru_glove_fastText_Bahdanau-GRU-Bah-FastText-/runs/cy1iq5n5</a><br> View project at: <a href='https://wandb.ai/wilfried-mvomoeto-university-of-li-ge/Few-Shot-Binary-Class-Training_gru_glove_fastText_Bahdanau-GRU-Bah-FastText-' target=\"_blank\">https://wandb.ai/wilfried-mvomoeto-university-of-li-ge/Few-Shot-Binary-Class-Training_gru_glove_fastText_Bahdanau-GRU-Bah-FastText-</a><br>Synced 5 W&B file(s), 0 media file(s), 0 artifact file(s) and 0 other file(s)"
            ],
            "text/plain": [
              "<IPython.core.display.HTML object>"
            ]
          },
          "metadata": {},
          "output_type": "display_data"
        },
        {
          "data": {
            "text/html": [
              "Find logs at: <code>./wandb/run-20250501_182850-cy1iq5n5/logs</code>"
            ],
            "text/plain": [
              "<IPython.core.display.HTML object>"
            ]
          },
          "metadata": {},
          "output_type": "display_data"
        },
        {
          "data": {
            "text/html": [
              "Tracking run with wandb version 0.19.10"
            ],
            "text/plain": [
              "<IPython.core.display.HTML object>"
            ]
          },
          "metadata": {},
          "output_type": "display_data"
        },
        {
          "data": {
            "text/html": [
              "Run data is saved locally in <code>/content/wandb/run-20250501_182915-222m27gl</code>"
            ],
            "text/plain": [
              "<IPython.core.display.HTML object>"
            ]
          },
          "metadata": {},
          "output_type": "display_data"
        },
        {
          "data": {
            "text/html": [
              "Syncing run <strong><a href='https://wandb.ai/wilfried-mvomoeto-university-of-li-ge/Few-Shot-Binary-Class-Training_gru_glove_fastText_Bahdanau-CNN_LSTM-/runs/222m27gl' target=\"_blank\">CNN_LSTM_K-60_Training</a></strong> to <a href='https://wandb.ai/wilfried-mvomoeto-university-of-li-ge/Few-Shot-Binary-Class-Training_gru_glove_fastText_Bahdanau-CNN_LSTM-' target=\"_blank\">Weights & Biases</a> (<a href='https://wandb.me/developer-guide' target=\"_blank\">docs</a>)<br>"
            ],
            "text/plain": [
              "<IPython.core.display.HTML object>"
            ]
          },
          "metadata": {},
          "output_type": "display_data"
        },
        {
          "data": {
            "text/html": [
              " View project at <a href='https://wandb.ai/wilfried-mvomoeto-university-of-li-ge/Few-Shot-Binary-Class-Training_gru_glove_fastText_Bahdanau-CNN_LSTM-' target=\"_blank\">https://wandb.ai/wilfried-mvomoeto-university-of-li-ge/Few-Shot-Binary-Class-Training_gru_glove_fastText_Bahdanau-CNN_LSTM-</a>"
            ],
            "text/plain": [
              "<IPython.core.display.HTML object>"
            ]
          },
          "metadata": {},
          "output_type": "display_data"
        },
        {
          "data": {
            "text/html": [
              " View run at <a href='https://wandb.ai/wilfried-mvomoeto-university-of-li-ge/Few-Shot-Binary-Class-Training_gru_glove_fastText_Bahdanau-CNN_LSTM-/runs/222m27gl' target=\"_blank\">https://wandb.ai/wilfried-mvomoeto-university-of-li-ge/Few-Shot-Binary-Class-Training_gru_glove_fastText_Bahdanau-CNN_LSTM-/runs/222m27gl</a>"
            ],
            "text/plain": [
              "<IPython.core.display.HTML object>"
            ]
          },
          "metadata": {},
          "output_type": "display_data"
        },
        {
          "name": "stderr",
          "output_type": "stream",
          "text": [
            "Training CNN_LSTM with 60-shot:   0%|          | 0/1000 [00:00<?, ?epoch/s]"
          ]
        },
        {
          "name": "stdout",
          "output_type": "stream",
          "text": [
            "Early stopping triggered at epoch 1\n",
            "Model CNN_LSTM_K-60 saved with loss gap > 1.25 or accuracy gap > 10% at epoch 0.\n"
          ]
        },
        {
          "name": "stderr",
          "output_type": "stream",
          "text": [
            "\n",
            "<ipython-input-10-f03193db776b>:44: UserWarning: To copy construct from a tensor, it is recommended to use sourceTensor.clone().detach() or sourceTensor.clone().detach().requires_grad_(True), rather than torch.tensor(sourceTensor).\n",
            "  self.X = torch.tensor(X_data, dtype=torch.long)\n",
            "<ipython-input-10-f03193db776b>:45: UserWarning: To copy construct from a tensor, it is recommended to use sourceTensor.clone().detach() or sourceTensor.clone().detach().requires_grad_(True), rather than torch.tensor(sourceTensor).\n",
            "  self.y = torch.tensor(y_data, dtype=torch.long)\n"
          ]
        },
        {
          "data": {
            "text/html": [
              "Finishing previous runs because reinit is set to 'default'."
            ],
            "text/plain": [
              "<IPython.core.display.HTML object>"
            ]
          },
          "metadata": {},
          "output_type": "display_data"
        },
        {
          "data": {
            "text/html": [],
            "text/plain": [
              "<IPython.core.display.HTML object>"
            ]
          },
          "metadata": {},
          "output_type": "display_data"
        },
        {
          "data": {
            "text/html": [
              "<br>    <style><br>        .wandb-row {<br>            display: flex;<br>            flex-direction: row;<br>            flex-wrap: wrap;<br>            justify-content: flex-start;<br>            width: 100%;<br>        }<br>        .wandb-col {<br>            display: flex;<br>            flex-direction: column;<br>            flex-basis: 100%;<br>            flex: 1;<br>            padding: 10px;<br>        }<br>    </style><br><div class=\"wandb-row\"><div class=\"wandb-col\"><h3>Run history:</h3><br/><table class=\"wandb\"><tr><td>epoch</td><td>▁</td></tr><tr><td>k_shot</td><td>▁</td></tr><tr><td>test_acc</td><td>▁</td></tr><tr><td>test_balanced_acc</td><td>▁</td></tr><tr><td>test_f1</td><td>▁</td></tr><tr><td>test_loss</td><td>▁</td></tr><tr><td>test_precision</td><td>▁</td></tr><tr><td>test_recall</td><td>▁</td></tr><tr><td>train_acc</td><td>▁</td></tr><tr><td>train_loss</td><td>▁</td></tr></table><br/></div><div class=\"wandb-col\"><h3>Run summary:</h3><br/><table class=\"wandb\"><tr><td>epoch</td><td>1</td></tr><tr><td>k_shot</td><td>60</td></tr><tr><td>test_acc</td><td>0.35433</td></tr><tr><td>test_balanced_acc</td><td>0.5</td></tr><tr><td>test_f1</td><td>0.1854</td></tr><tr><td>test_loss</td><td>0.70117</td></tr><tr><td>test_precision</td><td>0.12555</td></tr><tr><td>test_recall</td><td>0.35433</td></tr><tr><td>train_acc</td><td>0.50833</td></tr><tr><td>train_loss</td><td>0.6966</td></tr></table><br/></div></div>"
            ],
            "text/plain": [
              "<IPython.core.display.HTML object>"
            ]
          },
          "metadata": {},
          "output_type": "display_data"
        },
        {
          "data": {
            "text/html": [
              " View run <strong style=\"color:#cdcd00\">CNN_LSTM_K-60_Training</strong> at: <a href='https://wandb.ai/wilfried-mvomoeto-university-of-li-ge/Few-Shot-Binary-Class-Training_gru_glove_fastText_Bahdanau-CNN_LSTM-/runs/222m27gl' target=\"_blank\">https://wandb.ai/wilfried-mvomoeto-university-of-li-ge/Few-Shot-Binary-Class-Training_gru_glove_fastText_Bahdanau-CNN_LSTM-/runs/222m27gl</a><br> View project at: <a href='https://wandb.ai/wilfried-mvomoeto-university-of-li-ge/Few-Shot-Binary-Class-Training_gru_glove_fastText_Bahdanau-CNN_LSTM-' target=\"_blank\">https://wandb.ai/wilfried-mvomoeto-university-of-li-ge/Few-Shot-Binary-Class-Training_gru_glove_fastText_Bahdanau-CNN_LSTM-</a><br>Synced 5 W&B file(s), 0 media file(s), 0 artifact file(s) and 0 other file(s)"
            ],
            "text/plain": [
              "<IPython.core.display.HTML object>"
            ]
          },
          "metadata": {},
          "output_type": "display_data"
        },
        {
          "data": {
            "text/html": [
              "Find logs at: <code>./wandb/run-20250501_182915-222m27gl/logs</code>"
            ],
            "text/plain": [
              "<IPython.core.display.HTML object>"
            ]
          },
          "metadata": {},
          "output_type": "display_data"
        },
        {
          "data": {
            "text/html": [
              "Tracking run with wandb version 0.19.10"
            ],
            "text/plain": [
              "<IPython.core.display.HTML object>"
            ]
          },
          "metadata": {},
          "output_type": "display_data"
        },
        {
          "data": {
            "text/html": [
              "Run data is saved locally in <code>/content/wandb/run-20250501_182923-p298gq50</code>"
            ],
            "text/plain": [
              "<IPython.core.display.HTML object>"
            ]
          },
          "metadata": {},
          "output_type": "display_data"
        },
        {
          "data": {
            "text/html": [
              "Syncing run <strong><a href='https://wandb.ai/wilfried-mvomoeto-university-of-li-ge/Few-Shot-Binary-Class-Training_gru_glove_fastText_Bahdanau-GRU-Glove-/runs/p298gq50' target=\"_blank\">GRU-Glove_K-60_Training</a></strong> to <a href='https://wandb.ai/wilfried-mvomoeto-university-of-li-ge/Few-Shot-Binary-Class-Training_gru_glove_fastText_Bahdanau-GRU-Glove-' target=\"_blank\">Weights & Biases</a> (<a href='https://wandb.me/developer-guide' target=\"_blank\">docs</a>)<br>"
            ],
            "text/plain": [
              "<IPython.core.display.HTML object>"
            ]
          },
          "metadata": {},
          "output_type": "display_data"
        },
        {
          "data": {
            "text/html": [
              " View project at <a href='https://wandb.ai/wilfried-mvomoeto-university-of-li-ge/Few-Shot-Binary-Class-Training_gru_glove_fastText_Bahdanau-GRU-Glove-' target=\"_blank\">https://wandb.ai/wilfried-mvomoeto-university-of-li-ge/Few-Shot-Binary-Class-Training_gru_glove_fastText_Bahdanau-GRU-Glove-</a>"
            ],
            "text/plain": [
              "<IPython.core.display.HTML object>"
            ]
          },
          "metadata": {},
          "output_type": "display_data"
        },
        {
          "data": {
            "text/html": [
              " View run at <a href='https://wandb.ai/wilfried-mvomoeto-university-of-li-ge/Few-Shot-Binary-Class-Training_gru_glove_fastText_Bahdanau-GRU-Glove-/runs/p298gq50' target=\"_blank\">https://wandb.ai/wilfried-mvomoeto-university-of-li-ge/Few-Shot-Binary-Class-Training_gru_glove_fastText_Bahdanau-GRU-Glove-/runs/p298gq50</a>"
            ],
            "text/plain": [
              "<IPython.core.display.HTML object>"
            ]
          },
          "metadata": {},
          "output_type": "display_data"
        },
        {
          "name": "stderr",
          "output_type": "stream",
          "text": [
            "GRU-Glove K-60 Epoch 1/1000 - Train Loss: 0.7154, Test Loss: 0.6840, Train Acc: 50.00%, Test Acc: 64.67%, Test F1: 51.29%, Test Balanced Acc: 50.28%, Test Recall: 64.67%, Test Precision: 62.71%, Time: 0.55 sec:   0%|          | 1/1000 [00:01<20:26,  1.23s/epoch]"
          ]
        },
        {
          "name": "stdout",
          "output_type": "stream",
          "text": [
            "Early stopping triggered at epoch 2\n",
            "Model GRU-Glove_K-60 saved with loss gap > 1.25 or accuracy gap > 10% at epoch 1.\n"
          ]
        },
        {
          "name": "stderr",
          "output_type": "stream",
          "text": [
            "\n",
            "<ipython-input-10-f03193db776b>:44: UserWarning: To copy construct from a tensor, it is recommended to use sourceTensor.clone().detach() or sourceTensor.clone().detach().requires_grad_(True), rather than torch.tensor(sourceTensor).\n",
            "  self.X = torch.tensor(X_data, dtype=torch.long)\n",
            "<ipython-input-10-f03193db776b>:45: UserWarning: To copy construct from a tensor, it is recommended to use sourceTensor.clone().detach() or sourceTensor.clone().detach().requires_grad_(True), rather than torch.tensor(sourceTensor).\n",
            "  self.y = torch.tensor(y_data, dtype=torch.long)\n"
          ]
        },
        {
          "data": {
            "text/html": [
              "Finishing previous runs because reinit is set to 'default'."
            ],
            "text/plain": [
              "<IPython.core.display.HTML object>"
            ]
          },
          "metadata": {},
          "output_type": "display_data"
        },
        {
          "data": {
            "text/html": [],
            "text/plain": [
              "<IPython.core.display.HTML object>"
            ]
          },
          "metadata": {},
          "output_type": "display_data"
        },
        {
          "data": {
            "text/html": [
              "<br>    <style><br>        .wandb-row {<br>            display: flex;<br>            flex-direction: row;<br>            flex-wrap: wrap;<br>            justify-content: flex-start;<br>            width: 100%;<br>        }<br>        .wandb-col {<br>            display: flex;<br>            flex-direction: column;<br>            flex-basis: 100%;<br>            flex: 1;<br>            padding: 10px;<br>        }<br>    </style><br><div class=\"wandb-row\"><div class=\"wandb-col\"><h3>Run history:</h3><br/><table class=\"wandb\"><tr><td>epoch</td><td>▁█</td></tr><tr><td>k_shot</td><td>▁▁</td></tr><tr><td>test_acc</td><td>█▁</td></tr><tr><td>test_balanced_acc</td><td>█▁</td></tr><tr><td>test_f1</td><td>█▁</td></tr><tr><td>test_loss</td><td>▁█</td></tr><tr><td>test_precision</td><td>█▁</td></tr><tr><td>test_recall</td><td>█▁</td></tr><tr><td>train_acc</td><td>▁█</td></tr><tr><td>train_loss</td><td>█▁</td></tr></table><br/></div><div class=\"wandb-col\"><h3>Run summary:</h3><br/><table class=\"wandb\"><tr><td>epoch</td><td>2</td></tr><tr><td>k_shot</td><td>60</td></tr><tr><td>test_acc</td><td>0.35581</td></tr><tr><td>test_balanced_acc</td><td>0.50052</td></tr><tr><td>test_f1</td><td>0.19029</td></tr><tr><td>test_loss</td><td>0.71647</td></tr><tr><td>test_precision</td><td>0.58683</td></tr><tr><td>test_recall</td><td>0.35581</td></tr><tr><td>train_acc</td><td>0.51667</td></tr><tr><td>train_loss</td><td>0.70439</td></tr></table><br/></div></div>"
            ],
            "text/plain": [
              "<IPython.core.display.HTML object>"
            ]
          },
          "metadata": {},
          "output_type": "display_data"
        },
        {
          "data": {
            "text/html": [
              " View run <strong style=\"color:#cdcd00\">GRU-Glove_K-60_Training</strong> at: <a href='https://wandb.ai/wilfried-mvomoeto-university-of-li-ge/Few-Shot-Binary-Class-Training_gru_glove_fastText_Bahdanau-GRU-Glove-/runs/p298gq50' target=\"_blank\">https://wandb.ai/wilfried-mvomoeto-university-of-li-ge/Few-Shot-Binary-Class-Training_gru_glove_fastText_Bahdanau-GRU-Glove-/runs/p298gq50</a><br> View project at: <a href='https://wandb.ai/wilfried-mvomoeto-university-of-li-ge/Few-Shot-Binary-Class-Training_gru_glove_fastText_Bahdanau-GRU-Glove-' target=\"_blank\">https://wandb.ai/wilfried-mvomoeto-university-of-li-ge/Few-Shot-Binary-Class-Training_gru_glove_fastText_Bahdanau-GRU-Glove-</a><br>Synced 5 W&B file(s), 0 media file(s), 0 artifact file(s) and 0 other file(s)"
            ],
            "text/plain": [
              "<IPython.core.display.HTML object>"
            ]
          },
          "metadata": {},
          "output_type": "display_data"
        },
        {
          "data": {
            "text/html": [
              "Find logs at: <code>./wandb/run-20250501_182923-p298gq50/logs</code>"
            ],
            "text/plain": [
              "<IPython.core.display.HTML object>"
            ]
          },
          "metadata": {},
          "output_type": "display_data"
        },
        {
          "data": {
            "text/html": [
              "Tracking run with wandb version 0.19.10"
            ],
            "text/plain": [
              "<IPython.core.display.HTML object>"
            ]
          },
          "metadata": {},
          "output_type": "display_data"
        },
        {
          "data": {
            "text/html": [
              "Run data is saved locally in <code>/content/wandb/run-20250501_182932-0gxu6e1x</code>"
            ],
            "text/plain": [
              "<IPython.core.display.HTML object>"
            ]
          },
          "metadata": {},
          "output_type": "display_data"
        },
        {
          "data": {
            "text/html": [
              "Syncing run <strong><a href='https://wandb.ai/wilfried-mvomoeto-university-of-li-ge/Few-Shot-Binary-Class-Training_gru_glove_fastText_Bahdanau-GRU-FastText-/runs/0gxu6e1x' target=\"_blank\">GRU-FastText_K-60_Training</a></strong> to <a href='https://wandb.ai/wilfried-mvomoeto-university-of-li-ge/Few-Shot-Binary-Class-Training_gru_glove_fastText_Bahdanau-GRU-FastText-' target=\"_blank\">Weights & Biases</a> (<a href='https://wandb.me/developer-guide' target=\"_blank\">docs</a>)<br>"
            ],
            "text/plain": [
              "<IPython.core.display.HTML object>"
            ]
          },
          "metadata": {},
          "output_type": "display_data"
        },
        {
          "data": {
            "text/html": [
              " View project at <a href='https://wandb.ai/wilfried-mvomoeto-university-of-li-ge/Few-Shot-Binary-Class-Training_gru_glove_fastText_Bahdanau-GRU-FastText-' target=\"_blank\">https://wandb.ai/wilfried-mvomoeto-university-of-li-ge/Few-Shot-Binary-Class-Training_gru_glove_fastText_Bahdanau-GRU-FastText-</a>"
            ],
            "text/plain": [
              "<IPython.core.display.HTML object>"
            ]
          },
          "metadata": {},
          "output_type": "display_data"
        },
        {
          "data": {
            "text/html": [
              " View run at <a href='https://wandb.ai/wilfried-mvomoeto-university-of-li-ge/Few-Shot-Binary-Class-Training_gru_glove_fastText_Bahdanau-GRU-FastText-/runs/0gxu6e1x' target=\"_blank\">https://wandb.ai/wilfried-mvomoeto-university-of-li-ge/Few-Shot-Binary-Class-Training_gru_glove_fastText_Bahdanau-GRU-FastText-/runs/0gxu6e1x</a>"
            ],
            "text/plain": [
              "<IPython.core.display.HTML object>"
            ]
          },
          "metadata": {},
          "output_type": "display_data"
        },
        {
          "name": "stderr",
          "output_type": "stream",
          "text": [
            "GRU-FastText K-60 Epoch 1/1000 - Train Loss: 0.7368, Test Loss: 0.6927, Train Acc: 41.67%, Test Acc: 64.44%, Test F1: 50.83%, Test Balanced Acc: 49.98%, Test Recall: 64.44%, Test Precision: 53.50%, Time: 0.58 sec:   0%|          | 1/1000 [00:01<18:48,  1.13s/epoch]"
          ]
        },
        {
          "name": "stdout",
          "output_type": "stream",
          "text": [
            "Early stopping triggered at epoch 2\n",
            "Model GRU-FastText_K-60 saved with loss gap > 1.25 or accuracy gap > 10% at epoch 1.\n",
            "\n",
            "Training with 70-shot...\n"
          ]
        },
        {
          "name": "stderr",
          "output_type": "stream",
          "text": [
            "\n",
            "<ipython-input-10-f03193db776b>:44: UserWarning: To copy construct from a tensor, it is recommended to use sourceTensor.clone().detach() or sourceTensor.clone().detach().requires_grad_(True), rather than torch.tensor(sourceTensor).\n",
            "  self.X = torch.tensor(X_data, dtype=torch.long)\n",
            "<ipython-input-10-f03193db776b>:45: UserWarning: To copy construct from a tensor, it is recommended to use sourceTensor.clone().detach() or sourceTensor.clone().detach().requires_grad_(True), rather than torch.tensor(sourceTensor).\n",
            "  self.y = torch.tensor(y_data, dtype=torch.long)\n"
          ]
        },
        {
          "data": {
            "text/html": [
              "Finishing previous runs because reinit is set to 'default'."
            ],
            "text/plain": [
              "<IPython.core.display.HTML object>"
            ]
          },
          "metadata": {},
          "output_type": "display_data"
        },
        {
          "data": {
            "text/html": [],
            "text/plain": [
              "<IPython.core.display.HTML object>"
            ]
          },
          "metadata": {},
          "output_type": "display_data"
        },
        {
          "data": {
            "text/html": [
              "<br>    <style><br>        .wandb-row {<br>            display: flex;<br>            flex-direction: row;<br>            flex-wrap: wrap;<br>            justify-content: flex-start;<br>            width: 100%;<br>        }<br>        .wandb-col {<br>            display: flex;<br>            flex-direction: column;<br>            flex-basis: 100%;<br>            flex: 1;<br>            padding: 10px;<br>        }<br>    </style><br><div class=\"wandb-row\"><div class=\"wandb-col\"><h3>Run history:</h3><br/><table class=\"wandb\"><tr><td>epoch</td><td>▁█</td></tr><tr><td>k_shot</td><td>▁▁</td></tr><tr><td>test_acc</td><td>█▁</td></tr><tr><td>test_balanced_acc</td><td>█▁</td></tr><tr><td>test_f1</td><td>█▁</td></tr><tr><td>test_loss</td><td>▁█</td></tr><tr><td>test_precision</td><td>█▁</td></tr><tr><td>test_recall</td><td>█▁</td></tr><tr><td>train_acc</td><td>▁▁</td></tr><tr><td>train_loss</td><td>█▁</td></tr></table><br/></div><div class=\"wandb-col\"><h3>Run summary:</h3><br/><table class=\"wandb\"><tr><td>epoch</td><td>2</td></tr><tr><td>k_shot</td><td>60</td></tr><tr><td>test_acc</td><td>0.35408</td></tr><tr><td>test_balanced_acc</td><td>0.49807</td></tr><tr><td>test_f1</td><td>0.1896</td></tr><tr><td>test_loss</td><td>0.72735</td></tr><tr><td>test_precision</td><td>0.4327</td></tr><tr><td>test_recall</td><td>0.35408</td></tr><tr><td>train_acc</td><td>0.41667</td></tr><tr><td>train_loss</td><td>0.73673</td></tr></table><br/></div></div>"
            ],
            "text/plain": [
              "<IPython.core.display.HTML object>"
            ]
          },
          "metadata": {},
          "output_type": "display_data"
        },
        {
          "data": {
            "text/html": [
              " View run <strong style=\"color:#cdcd00\">GRU-FastText_K-60_Training</strong> at: <a href='https://wandb.ai/wilfried-mvomoeto-university-of-li-ge/Few-Shot-Binary-Class-Training_gru_glove_fastText_Bahdanau-GRU-FastText-/runs/0gxu6e1x' target=\"_blank\">https://wandb.ai/wilfried-mvomoeto-university-of-li-ge/Few-Shot-Binary-Class-Training_gru_glove_fastText_Bahdanau-GRU-FastText-/runs/0gxu6e1x</a><br> View project at: <a href='https://wandb.ai/wilfried-mvomoeto-university-of-li-ge/Few-Shot-Binary-Class-Training_gru_glove_fastText_Bahdanau-GRU-FastText-' target=\"_blank\">https://wandb.ai/wilfried-mvomoeto-university-of-li-ge/Few-Shot-Binary-Class-Training_gru_glove_fastText_Bahdanau-GRU-FastText-</a><br>Synced 5 W&B file(s), 0 media file(s), 0 artifact file(s) and 0 other file(s)"
            ],
            "text/plain": [
              "<IPython.core.display.HTML object>"
            ]
          },
          "metadata": {},
          "output_type": "display_data"
        },
        {
          "data": {
            "text/html": [
              "Find logs at: <code>./wandb/run-20250501_182932-0gxu6e1x/logs</code>"
            ],
            "text/plain": [
              "<IPython.core.display.HTML object>"
            ]
          },
          "metadata": {},
          "output_type": "display_data"
        },
        {
          "data": {
            "text/html": [
              "Tracking run with wandb version 0.19.10"
            ],
            "text/plain": [
              "<IPython.core.display.HTML object>"
            ]
          },
          "metadata": {},
          "output_type": "display_data"
        },
        {
          "data": {
            "text/html": [
              "Run data is saved locally in <code>/content/wandb/run-20250501_182941-6r4b8v2z</code>"
            ],
            "text/plain": [
              "<IPython.core.display.HTML object>"
            ]
          },
          "metadata": {},
          "output_type": "display_data"
        },
        {
          "data": {
            "text/html": [
              "Syncing run <strong><a href='https://wandb.ai/wilfried-mvomoeto-university-of-li-ge/Few-Shot-Binary-Class-Training_gru_glove_fastText_Bahdanau-GRU-Bah-Glove-/runs/6r4b8v2z' target=\"_blank\">GRU-Bah-Glove_K-70_Training</a></strong> to <a href='https://wandb.ai/wilfried-mvomoeto-university-of-li-ge/Few-Shot-Binary-Class-Training_gru_glove_fastText_Bahdanau-GRU-Bah-Glove-' target=\"_blank\">Weights & Biases</a> (<a href='https://wandb.me/developer-guide' target=\"_blank\">docs</a>)<br>"
            ],
            "text/plain": [
              "<IPython.core.display.HTML object>"
            ]
          },
          "metadata": {},
          "output_type": "display_data"
        },
        {
          "data": {
            "text/html": [
              " View project at <a href='https://wandb.ai/wilfried-mvomoeto-university-of-li-ge/Few-Shot-Binary-Class-Training_gru_glove_fastText_Bahdanau-GRU-Bah-Glove-' target=\"_blank\">https://wandb.ai/wilfried-mvomoeto-university-of-li-ge/Few-Shot-Binary-Class-Training_gru_glove_fastText_Bahdanau-GRU-Bah-Glove-</a>"
            ],
            "text/plain": [
              "<IPython.core.display.HTML object>"
            ]
          },
          "metadata": {},
          "output_type": "display_data"
        },
        {
          "data": {
            "text/html": [
              " View run at <a href='https://wandb.ai/wilfried-mvomoeto-university-of-li-ge/Few-Shot-Binary-Class-Training_gru_glove_fastText_Bahdanau-GRU-Bah-Glove-/runs/6r4b8v2z' target=\"_blank\">https://wandb.ai/wilfried-mvomoeto-university-of-li-ge/Few-Shot-Binary-Class-Training_gru_glove_fastText_Bahdanau-GRU-Bah-Glove-/runs/6r4b8v2z</a>"
            ],
            "text/plain": [
              "<IPython.core.display.HTML object>"
            ]
          },
          "metadata": {},
          "output_type": "display_data"
        },
        {
          "name": "stderr",
          "output_type": "stream",
          "text": [
            "Training GRU-Bah-Glove with 70-shot:   0%|          | 0/1000 [00:00<?, ?epoch/s]"
          ]
        },
        {
          "name": "stdout",
          "output_type": "stream",
          "text": [
            "Early stopping triggered at epoch 1\n",
            "Model GRU-Bah-Glove_K-70 saved with loss gap > 1.25 or accuracy gap > 10% at epoch 0.\n"
          ]
        },
        {
          "name": "stderr",
          "output_type": "stream",
          "text": [
            "\n",
            "<ipython-input-10-f03193db776b>:44: UserWarning: To copy construct from a tensor, it is recommended to use sourceTensor.clone().detach() or sourceTensor.clone().detach().requires_grad_(True), rather than torch.tensor(sourceTensor).\n",
            "  self.X = torch.tensor(X_data, dtype=torch.long)\n",
            "<ipython-input-10-f03193db776b>:45: UserWarning: To copy construct from a tensor, it is recommended to use sourceTensor.clone().detach() or sourceTensor.clone().detach().requires_grad_(True), rather than torch.tensor(sourceTensor).\n",
            "  self.y = torch.tensor(y_data, dtype=torch.long)\n"
          ]
        },
        {
          "data": {
            "text/html": [
              "Finishing previous runs because reinit is set to 'default'."
            ],
            "text/plain": [
              "<IPython.core.display.HTML object>"
            ]
          },
          "metadata": {},
          "output_type": "display_data"
        },
        {
          "data": {
            "text/html": [],
            "text/plain": [
              "<IPython.core.display.HTML object>"
            ]
          },
          "metadata": {},
          "output_type": "display_data"
        },
        {
          "data": {
            "text/html": [
              "<br>    <style><br>        .wandb-row {<br>            display: flex;<br>            flex-direction: row;<br>            flex-wrap: wrap;<br>            justify-content: flex-start;<br>            width: 100%;<br>        }<br>        .wandb-col {<br>            display: flex;<br>            flex-direction: column;<br>            flex-basis: 100%;<br>            flex: 1;<br>            padding: 10px;<br>        }<br>    </style><br><div class=\"wandb-row\"><div class=\"wandb-col\"><h3>Run history:</h3><br/><table class=\"wandb\"><tr><td>epoch</td><td>▁</td></tr><tr><td>k_shot</td><td>▁</td></tr><tr><td>test_acc</td><td>▁</td></tr><tr><td>test_balanced_acc</td><td>▁</td></tr><tr><td>test_f1</td><td>▁</td></tr><tr><td>test_loss</td><td>▁</td></tr><tr><td>test_precision</td><td>▁</td></tr><tr><td>test_recall</td><td>▁</td></tr><tr><td>train_acc</td><td>▁</td></tr><tr><td>train_loss</td><td>▁</td></tr></table><br/></div><div class=\"wandb-col\"><h3>Run summary:</h3><br/><table class=\"wandb\"><tr><td>epoch</td><td>1</td></tr><tr><td>k_shot</td><td>70</td></tr><tr><td>test_acc</td><td>0.35433</td></tr><tr><td>test_balanced_acc</td><td>0.5</td></tr><tr><td>test_f1</td><td>0.1854</td></tr><tr><td>test_loss</td><td>0.70772</td></tr><tr><td>test_precision</td><td>0.12555</td></tr><tr><td>test_recall</td><td>0.35433</td></tr><tr><td>train_acc</td><td>0.46429</td></tr><tr><td>train_loss</td><td>0.76781</td></tr></table><br/></div></div>"
            ],
            "text/plain": [
              "<IPython.core.display.HTML object>"
            ]
          },
          "metadata": {},
          "output_type": "display_data"
        },
        {
          "data": {
            "text/html": [
              " View run <strong style=\"color:#cdcd00\">GRU-Bah-Glove_K-70_Training</strong> at: <a href='https://wandb.ai/wilfried-mvomoeto-university-of-li-ge/Few-Shot-Binary-Class-Training_gru_glove_fastText_Bahdanau-GRU-Bah-Glove-/runs/6r4b8v2z' target=\"_blank\">https://wandb.ai/wilfried-mvomoeto-university-of-li-ge/Few-Shot-Binary-Class-Training_gru_glove_fastText_Bahdanau-GRU-Bah-Glove-/runs/6r4b8v2z</a><br> View project at: <a href='https://wandb.ai/wilfried-mvomoeto-university-of-li-ge/Few-Shot-Binary-Class-Training_gru_glove_fastText_Bahdanau-GRU-Bah-Glove-' target=\"_blank\">https://wandb.ai/wilfried-mvomoeto-university-of-li-ge/Few-Shot-Binary-Class-Training_gru_glove_fastText_Bahdanau-GRU-Bah-Glove-</a><br>Synced 5 W&B file(s), 0 media file(s), 0 artifact file(s) and 0 other file(s)"
            ],
            "text/plain": [
              "<IPython.core.display.HTML object>"
            ]
          },
          "metadata": {},
          "output_type": "display_data"
        },
        {
          "data": {
            "text/html": [
              "Find logs at: <code>./wandb/run-20250501_182941-6r4b8v2z/logs</code>"
            ],
            "text/plain": [
              "<IPython.core.display.HTML object>"
            ]
          },
          "metadata": {},
          "output_type": "display_data"
        },
        {
          "data": {
            "text/html": [
              "Tracking run with wandb version 0.19.10"
            ],
            "text/plain": [
              "<IPython.core.display.HTML object>"
            ]
          },
          "metadata": {},
          "output_type": "display_data"
        },
        {
          "data": {
            "text/html": [
              "Run data is saved locally in <code>/content/wandb/run-20250501_182949-ap4376yy</code>"
            ],
            "text/plain": [
              "<IPython.core.display.HTML object>"
            ]
          },
          "metadata": {},
          "output_type": "display_data"
        },
        {
          "data": {
            "text/html": [
              "Syncing run <strong><a href='https://wandb.ai/wilfried-mvomoeto-university-of-li-ge/Few-Shot-Binary-Class-Training_gru_glove_fastText_Bahdanau-GRU-Bah-FastText-/runs/ap4376yy' target=\"_blank\">GRU-Bah-FastText_K-70_Training</a></strong> to <a href='https://wandb.ai/wilfried-mvomoeto-university-of-li-ge/Few-Shot-Binary-Class-Training_gru_glove_fastText_Bahdanau-GRU-Bah-FastText-' target=\"_blank\">Weights & Biases</a> (<a href='https://wandb.me/developer-guide' target=\"_blank\">docs</a>)<br>"
            ],
            "text/plain": [
              "<IPython.core.display.HTML object>"
            ]
          },
          "metadata": {},
          "output_type": "display_data"
        },
        {
          "data": {
            "text/html": [
              " View project at <a href='https://wandb.ai/wilfried-mvomoeto-university-of-li-ge/Few-Shot-Binary-Class-Training_gru_glove_fastText_Bahdanau-GRU-Bah-FastText-' target=\"_blank\">https://wandb.ai/wilfried-mvomoeto-university-of-li-ge/Few-Shot-Binary-Class-Training_gru_glove_fastText_Bahdanau-GRU-Bah-FastText-</a>"
            ],
            "text/plain": [
              "<IPython.core.display.HTML object>"
            ]
          },
          "metadata": {},
          "output_type": "display_data"
        },
        {
          "data": {
            "text/html": [
              " View run at <a href='https://wandb.ai/wilfried-mvomoeto-university-of-li-ge/Few-Shot-Binary-Class-Training_gru_glove_fastText_Bahdanau-GRU-Bah-FastText-/runs/ap4376yy' target=\"_blank\">https://wandb.ai/wilfried-mvomoeto-university-of-li-ge/Few-Shot-Binary-Class-Training_gru_glove_fastText_Bahdanau-GRU-Bah-FastText-/runs/ap4376yy</a>"
            ],
            "text/plain": [
              "<IPython.core.display.HTML object>"
            ]
          },
          "metadata": {},
          "output_type": "display_data"
        },
        {
          "name": "stderr",
          "output_type": "stream",
          "text": [
            "Training GRU-Bah-FastText with 70-shot:   0%|          | 0/1000 [00:01<?, ?epoch/s]"
          ]
        },
        {
          "name": "stdout",
          "output_type": "stream",
          "text": [
            "Early stopping triggered at epoch 1\n",
            "Model GRU-Bah-FastText_K-70 saved with loss gap > 1.25 or accuracy gap > 10% at epoch 0.\n"
          ]
        },
        {
          "name": "stderr",
          "output_type": "stream",
          "text": [
            "\n",
            "<ipython-input-10-f03193db776b>:44: UserWarning: To copy construct from a tensor, it is recommended to use sourceTensor.clone().detach() or sourceTensor.clone().detach().requires_grad_(True), rather than torch.tensor(sourceTensor).\n",
            "  self.X = torch.tensor(X_data, dtype=torch.long)\n",
            "<ipython-input-10-f03193db776b>:45: UserWarning: To copy construct from a tensor, it is recommended to use sourceTensor.clone().detach() or sourceTensor.clone().detach().requires_grad_(True), rather than torch.tensor(sourceTensor).\n",
            "  self.y = torch.tensor(y_data, dtype=torch.long)\n"
          ]
        },
        {
          "data": {
            "text/html": [
              "Finishing previous runs because reinit is set to 'default'."
            ],
            "text/plain": [
              "<IPython.core.display.HTML object>"
            ]
          },
          "metadata": {},
          "output_type": "display_data"
        },
        {
          "data": {
            "text/html": [],
            "text/plain": [
              "<IPython.core.display.HTML object>"
            ]
          },
          "metadata": {},
          "output_type": "display_data"
        },
        {
          "data": {
            "text/html": [
              "<br>    <style><br>        .wandb-row {<br>            display: flex;<br>            flex-direction: row;<br>            flex-wrap: wrap;<br>            justify-content: flex-start;<br>            width: 100%;<br>        }<br>        .wandb-col {<br>            display: flex;<br>            flex-direction: column;<br>            flex-basis: 100%;<br>            flex: 1;<br>            padding: 10px;<br>        }<br>    </style><br><div class=\"wandb-row\"><div class=\"wandb-col\"><h3>Run history:</h3><br/><table class=\"wandb\"><tr><td>epoch</td><td>▁</td></tr><tr><td>k_shot</td><td>▁</td></tr><tr><td>test_acc</td><td>▁</td></tr><tr><td>test_balanced_acc</td><td>▁</td></tr><tr><td>test_f1</td><td>▁</td></tr><tr><td>test_loss</td><td>▁</td></tr><tr><td>test_precision</td><td>▁</td></tr><tr><td>test_recall</td><td>▁</td></tr><tr><td>train_acc</td><td>▁</td></tr><tr><td>train_loss</td><td>▁</td></tr></table><br/></div><div class=\"wandb-col\"><h3>Run summary:</h3><br/><table class=\"wandb\"><tr><td>epoch</td><td>1</td></tr><tr><td>k_shot</td><td>70</td></tr><tr><td>test_acc</td><td>0.37565</td></tr><tr><td>test_balanced_acc</td><td>0.51178</td></tr><tr><td>test_f1</td><td>0.24097</td></tr><tr><td>test_loss</td><td>0.69932</td></tr><tr><td>test_precision</td><td>0.64053</td></tr><tr><td>test_recall</td><td>0.37565</td></tr><tr><td>train_acc</td><td>0.51429</td></tr><tr><td>train_loss</td><td>0.72318</td></tr></table><br/></div></div>"
            ],
            "text/plain": [
              "<IPython.core.display.HTML object>"
            ]
          },
          "metadata": {},
          "output_type": "display_data"
        },
        {
          "data": {
            "text/html": [
              " View run <strong style=\"color:#cdcd00\">GRU-Bah-FastText_K-70_Training</strong> at: <a href='https://wandb.ai/wilfried-mvomoeto-university-of-li-ge/Few-Shot-Binary-Class-Training_gru_glove_fastText_Bahdanau-GRU-Bah-FastText-/runs/ap4376yy' target=\"_blank\">https://wandb.ai/wilfried-mvomoeto-university-of-li-ge/Few-Shot-Binary-Class-Training_gru_glove_fastText_Bahdanau-GRU-Bah-FastText-/runs/ap4376yy</a><br> View project at: <a href='https://wandb.ai/wilfried-mvomoeto-university-of-li-ge/Few-Shot-Binary-Class-Training_gru_glove_fastText_Bahdanau-GRU-Bah-FastText-' target=\"_blank\">https://wandb.ai/wilfried-mvomoeto-university-of-li-ge/Few-Shot-Binary-Class-Training_gru_glove_fastText_Bahdanau-GRU-Bah-FastText-</a><br>Synced 5 W&B file(s), 0 media file(s), 0 artifact file(s) and 0 other file(s)"
            ],
            "text/plain": [
              "<IPython.core.display.HTML object>"
            ]
          },
          "metadata": {},
          "output_type": "display_data"
        },
        {
          "data": {
            "text/html": [
              "Find logs at: <code>./wandb/run-20250501_182949-ap4376yy/logs</code>"
            ],
            "text/plain": [
              "<IPython.core.display.HTML object>"
            ]
          },
          "metadata": {},
          "output_type": "display_data"
        },
        {
          "data": {
            "text/html": [
              "Tracking run with wandb version 0.19.10"
            ],
            "text/plain": [
              "<IPython.core.display.HTML object>"
            ]
          },
          "metadata": {},
          "output_type": "display_data"
        },
        {
          "data": {
            "text/html": [
              "Run data is saved locally in <code>/content/wandb/run-20250501_182958-duhs95x7</code>"
            ],
            "text/plain": [
              "<IPython.core.display.HTML object>"
            ]
          },
          "metadata": {},
          "output_type": "display_data"
        },
        {
          "data": {
            "text/html": [
              "Syncing run <strong><a href='https://wandb.ai/wilfried-mvomoeto-university-of-li-ge/Few-Shot-Binary-Class-Training_gru_glove_fastText_Bahdanau-CNN_LSTM-/runs/duhs95x7' target=\"_blank\">CNN_LSTM_K-70_Training</a></strong> to <a href='https://wandb.ai/wilfried-mvomoeto-university-of-li-ge/Few-Shot-Binary-Class-Training_gru_glove_fastText_Bahdanau-CNN_LSTM-' target=\"_blank\">Weights & Biases</a> (<a href='https://wandb.me/developer-guide' target=\"_blank\">docs</a>)<br>"
            ],
            "text/plain": [
              "<IPython.core.display.HTML object>"
            ]
          },
          "metadata": {},
          "output_type": "display_data"
        },
        {
          "data": {
            "text/html": [
              " View project at <a href='https://wandb.ai/wilfried-mvomoeto-university-of-li-ge/Few-Shot-Binary-Class-Training_gru_glove_fastText_Bahdanau-CNN_LSTM-' target=\"_blank\">https://wandb.ai/wilfried-mvomoeto-university-of-li-ge/Few-Shot-Binary-Class-Training_gru_glove_fastText_Bahdanau-CNN_LSTM-</a>"
            ],
            "text/plain": [
              "<IPython.core.display.HTML object>"
            ]
          },
          "metadata": {},
          "output_type": "display_data"
        },
        {
          "data": {
            "text/html": [
              " View run at <a href='https://wandb.ai/wilfried-mvomoeto-university-of-li-ge/Few-Shot-Binary-Class-Training_gru_glove_fastText_Bahdanau-CNN_LSTM-/runs/duhs95x7' target=\"_blank\">https://wandb.ai/wilfried-mvomoeto-university-of-li-ge/Few-Shot-Binary-Class-Training_gru_glove_fastText_Bahdanau-CNN_LSTM-/runs/duhs95x7</a>"
            ],
            "text/plain": [
              "<IPython.core.display.HTML object>"
            ]
          },
          "metadata": {},
          "output_type": "display_data"
        },
        {
          "name": "stderr",
          "output_type": "stream",
          "text": [
            "Training CNN_LSTM with 70-shot:   0%|          | 0/1000 [00:00<?, ?epoch/s]"
          ]
        },
        {
          "name": "stdout",
          "output_type": "stream",
          "text": [
            "Early stopping triggered at epoch 1\n",
            "Model CNN_LSTM_K-70 saved with loss gap > 1.25 or accuracy gap > 10% at epoch 0.\n"
          ]
        },
        {
          "name": "stderr",
          "output_type": "stream",
          "text": [
            "\n",
            "<ipython-input-10-f03193db776b>:44: UserWarning: To copy construct from a tensor, it is recommended to use sourceTensor.clone().detach() or sourceTensor.clone().detach().requires_grad_(True), rather than torch.tensor(sourceTensor).\n",
            "  self.X = torch.tensor(X_data, dtype=torch.long)\n",
            "<ipython-input-10-f03193db776b>:45: UserWarning: To copy construct from a tensor, it is recommended to use sourceTensor.clone().detach() or sourceTensor.clone().detach().requires_grad_(True), rather than torch.tensor(sourceTensor).\n",
            "  self.y = torch.tensor(y_data, dtype=torch.long)\n"
          ]
        },
        {
          "data": {
            "text/html": [
              "Finishing previous runs because reinit is set to 'default'."
            ],
            "text/plain": [
              "<IPython.core.display.HTML object>"
            ]
          },
          "metadata": {},
          "output_type": "display_data"
        },
        {
          "data": {
            "text/html": [],
            "text/plain": [
              "<IPython.core.display.HTML object>"
            ]
          },
          "metadata": {},
          "output_type": "display_data"
        },
        {
          "data": {
            "text/html": [
              "<br>    <style><br>        .wandb-row {<br>            display: flex;<br>            flex-direction: row;<br>            flex-wrap: wrap;<br>            justify-content: flex-start;<br>            width: 100%;<br>        }<br>        .wandb-col {<br>            display: flex;<br>            flex-direction: column;<br>            flex-basis: 100%;<br>            flex: 1;<br>            padding: 10px;<br>        }<br>    </style><br><div class=\"wandb-row\"><div class=\"wandb-col\"><h3>Run history:</h3><br/><table class=\"wandb\"><tr><td>epoch</td><td>▁</td></tr><tr><td>k_shot</td><td>▁</td></tr><tr><td>test_acc</td><td>▁</td></tr><tr><td>test_balanced_acc</td><td>▁</td></tr><tr><td>test_f1</td><td>▁</td></tr><tr><td>test_loss</td><td>▁</td></tr><tr><td>test_precision</td><td>▁</td></tr><tr><td>test_recall</td><td>▁</td></tr><tr><td>train_acc</td><td>▁</td></tr><tr><td>train_loss</td><td>▁</td></tr></table><br/></div><div class=\"wandb-col\"><h3>Run summary:</h3><br/><table class=\"wandb\"><tr><td>epoch</td><td>1</td></tr><tr><td>k_shot</td><td>70</td></tr><tr><td>test_acc</td><td>0.35408</td></tr><tr><td>test_balanced_acc</td><td>0.49949</td></tr><tr><td>test_f1</td><td>0.18574</td></tr><tr><td>test_loss</td><td>0.69907</td></tr><tr><td>test_precision</td><td>0.34069</td></tr><tr><td>test_recall</td><td>0.35408</td></tr><tr><td>train_acc</td><td>0.54286</td></tr><tr><td>train_loss</td><td>0.69259</td></tr></table><br/></div></div>"
            ],
            "text/plain": [
              "<IPython.core.display.HTML object>"
            ]
          },
          "metadata": {},
          "output_type": "display_data"
        },
        {
          "data": {
            "text/html": [
              " View run <strong style=\"color:#cdcd00\">CNN_LSTM_K-70_Training</strong> at: <a href='https://wandb.ai/wilfried-mvomoeto-university-of-li-ge/Few-Shot-Binary-Class-Training_gru_glove_fastText_Bahdanau-CNN_LSTM-/runs/duhs95x7' target=\"_blank\">https://wandb.ai/wilfried-mvomoeto-university-of-li-ge/Few-Shot-Binary-Class-Training_gru_glove_fastText_Bahdanau-CNN_LSTM-/runs/duhs95x7</a><br> View project at: <a href='https://wandb.ai/wilfried-mvomoeto-university-of-li-ge/Few-Shot-Binary-Class-Training_gru_glove_fastText_Bahdanau-CNN_LSTM-' target=\"_blank\">https://wandb.ai/wilfried-mvomoeto-university-of-li-ge/Few-Shot-Binary-Class-Training_gru_glove_fastText_Bahdanau-CNN_LSTM-</a><br>Synced 5 W&B file(s), 0 media file(s), 0 artifact file(s) and 0 other file(s)"
            ],
            "text/plain": [
              "<IPython.core.display.HTML object>"
            ]
          },
          "metadata": {},
          "output_type": "display_data"
        },
        {
          "data": {
            "text/html": [
              "Find logs at: <code>./wandb/run-20250501_182958-duhs95x7/logs</code>"
            ],
            "text/plain": [
              "<IPython.core.display.HTML object>"
            ]
          },
          "metadata": {},
          "output_type": "display_data"
        },
        {
          "data": {
            "text/html": [
              "Tracking run with wandb version 0.19.10"
            ],
            "text/plain": [
              "<IPython.core.display.HTML object>"
            ]
          },
          "metadata": {},
          "output_type": "display_data"
        },
        {
          "data": {
            "text/html": [
              "Run data is saved locally in <code>/content/wandb/run-20250501_183007-0qsjicvr</code>"
            ],
            "text/plain": [
              "<IPython.core.display.HTML object>"
            ]
          },
          "metadata": {},
          "output_type": "display_data"
        },
        {
          "data": {
            "text/html": [
              "Syncing run <strong><a href='https://wandb.ai/wilfried-mvomoeto-university-of-li-ge/Few-Shot-Binary-Class-Training_gru_glove_fastText_Bahdanau-GRU-Glove-/runs/0qsjicvr' target=\"_blank\">GRU-Glove_K-70_Training</a></strong> to <a href='https://wandb.ai/wilfried-mvomoeto-university-of-li-ge/Few-Shot-Binary-Class-Training_gru_glove_fastText_Bahdanau-GRU-Glove-' target=\"_blank\">Weights & Biases</a> (<a href='https://wandb.me/developer-guide' target=\"_blank\">docs</a>)<br>"
            ],
            "text/plain": [
              "<IPython.core.display.HTML object>"
            ]
          },
          "metadata": {},
          "output_type": "display_data"
        },
        {
          "data": {
            "text/html": [
              " View project at <a href='https://wandb.ai/wilfried-mvomoeto-university-of-li-ge/Few-Shot-Binary-Class-Training_gru_glove_fastText_Bahdanau-GRU-Glove-' target=\"_blank\">https://wandb.ai/wilfried-mvomoeto-university-of-li-ge/Few-Shot-Binary-Class-Training_gru_glove_fastText_Bahdanau-GRU-Glove-</a>"
            ],
            "text/plain": [
              "<IPython.core.display.HTML object>"
            ]
          },
          "metadata": {},
          "output_type": "display_data"
        },
        {
          "data": {
            "text/html": [
              " View run at <a href='https://wandb.ai/wilfried-mvomoeto-university-of-li-ge/Few-Shot-Binary-Class-Training_gru_glove_fastText_Bahdanau-GRU-Glove-/runs/0qsjicvr' target=\"_blank\">https://wandb.ai/wilfried-mvomoeto-university-of-li-ge/Few-Shot-Binary-Class-Training_gru_glove_fastText_Bahdanau-GRU-Glove-/runs/0qsjicvr</a>"
            ],
            "text/plain": [
              "<IPython.core.display.HTML object>"
            ]
          },
          "metadata": {},
          "output_type": "display_data"
        },
        {
          "name": "stderr",
          "output_type": "stream",
          "text": [
            "GRU-Glove K-70 Epoch 1/1000 - Train Loss: 0.7202, Test Loss: 0.6496, Train Acc: 52.14%, Test Acc: 64.59%, Test F1: 51.04%, Test Balanced Acc: 50.15%, Test Recall: 64.59%, Test Precision: 60.63%, Time: 0.55 sec:   0%|          | 1/1000 [00:01<18:37,  1.12s/epoch]"
          ]
        },
        {
          "name": "stdout",
          "output_type": "stream",
          "text": [
            "Early stopping triggered at epoch 2\n",
            "Model GRU-Glove_K-70 saved with loss gap > 1.25 or accuracy gap > 10% at epoch 1.\n"
          ]
        },
        {
          "name": "stderr",
          "output_type": "stream",
          "text": [
            "\n",
            "<ipython-input-10-f03193db776b>:44: UserWarning: To copy construct from a tensor, it is recommended to use sourceTensor.clone().detach() or sourceTensor.clone().detach().requires_grad_(True), rather than torch.tensor(sourceTensor).\n",
            "  self.X = torch.tensor(X_data, dtype=torch.long)\n",
            "<ipython-input-10-f03193db776b>:45: UserWarning: To copy construct from a tensor, it is recommended to use sourceTensor.clone().detach() or sourceTensor.clone().detach().requires_grad_(True), rather than torch.tensor(sourceTensor).\n",
            "  self.y = torch.tensor(y_data, dtype=torch.long)\n"
          ]
        },
        {
          "data": {
            "text/html": [
              "Finishing previous runs because reinit is set to 'default'."
            ],
            "text/plain": [
              "<IPython.core.display.HTML object>"
            ]
          },
          "metadata": {},
          "output_type": "display_data"
        },
        {
          "data": {
            "text/html": [],
            "text/plain": [
              "<IPython.core.display.HTML object>"
            ]
          },
          "metadata": {},
          "output_type": "display_data"
        },
        {
          "data": {
            "text/html": [
              "<br>    <style><br>        .wandb-row {<br>            display: flex;<br>            flex-direction: row;<br>            flex-wrap: wrap;<br>            justify-content: flex-start;<br>            width: 100%;<br>        }<br>        .wandb-col {<br>            display: flex;<br>            flex-direction: column;<br>            flex-basis: 100%;<br>            flex: 1;<br>            padding: 10px;<br>        }<br>    </style><br><div class=\"wandb-row\"><div class=\"wandb-col\"><h3>Run history:</h3><br/><table class=\"wandb\"><tr><td>epoch</td><td>▁█</td></tr><tr><td>k_shot</td><td>▁▁</td></tr><tr><td>test_acc</td><td>█▁</td></tr><tr><td>test_balanced_acc</td><td>█▁</td></tr><tr><td>test_f1</td><td>█▁</td></tr><tr><td>test_loss</td><td>▁█</td></tr><tr><td>test_precision</td><td>█▁</td></tr><tr><td>test_recall</td><td>█▁</td></tr><tr><td>train_acc</td><td>█▁</td></tr><tr><td>train_loss</td><td>▁█</td></tr></table><br/></div><div class=\"wandb-col\"><h3>Run summary:</h3><br/><table class=\"wandb\"><tr><td>epoch</td><td>2</td></tr><tr><td>k_shot</td><td>70</td></tr><tr><td>test_acc</td><td>0.35532</td></tr><tr><td>test_balanced_acc</td><td>0.49919</td></tr><tr><td>test_f1</td><td>0.1918</td></tr><tr><td>test_loss</td><td>0.70872</td></tr><tr><td>test_precision</td><td>0.50206</td></tr><tr><td>test_recall</td><td>0.35532</td></tr><tr><td>train_acc</td><td>0.48571</td></tr><tr><td>train_loss</td><td>0.74214</td></tr></table><br/></div></div>"
            ],
            "text/plain": [
              "<IPython.core.display.HTML object>"
            ]
          },
          "metadata": {},
          "output_type": "display_data"
        },
        {
          "data": {
            "text/html": [
              " View run <strong style=\"color:#cdcd00\">GRU-Glove_K-70_Training</strong> at: <a href='https://wandb.ai/wilfried-mvomoeto-university-of-li-ge/Few-Shot-Binary-Class-Training_gru_glove_fastText_Bahdanau-GRU-Glove-/runs/0qsjicvr' target=\"_blank\">https://wandb.ai/wilfried-mvomoeto-university-of-li-ge/Few-Shot-Binary-Class-Training_gru_glove_fastText_Bahdanau-GRU-Glove-/runs/0qsjicvr</a><br> View project at: <a href='https://wandb.ai/wilfried-mvomoeto-university-of-li-ge/Few-Shot-Binary-Class-Training_gru_glove_fastText_Bahdanau-GRU-Glove-' target=\"_blank\">https://wandb.ai/wilfried-mvomoeto-university-of-li-ge/Few-Shot-Binary-Class-Training_gru_glove_fastText_Bahdanau-GRU-Glove-</a><br>Synced 5 W&B file(s), 0 media file(s), 0 artifact file(s) and 0 other file(s)"
            ],
            "text/plain": [
              "<IPython.core.display.HTML object>"
            ]
          },
          "metadata": {},
          "output_type": "display_data"
        },
        {
          "data": {
            "text/html": [
              "Find logs at: <code>./wandb/run-20250501_183007-0qsjicvr/logs</code>"
            ],
            "text/plain": [
              "<IPython.core.display.HTML object>"
            ]
          },
          "metadata": {},
          "output_type": "display_data"
        },
        {
          "data": {
            "text/html": [
              "Tracking run with wandb version 0.19.10"
            ],
            "text/plain": [
              "<IPython.core.display.HTML object>"
            ]
          },
          "metadata": {},
          "output_type": "display_data"
        },
        {
          "data": {
            "text/html": [
              "Run data is saved locally in <code>/content/wandb/run-20250501_183016-spt4xiuq</code>"
            ],
            "text/plain": [
              "<IPython.core.display.HTML object>"
            ]
          },
          "metadata": {},
          "output_type": "display_data"
        },
        {
          "data": {
            "text/html": [
              "Syncing run <strong><a href='https://wandb.ai/wilfried-mvomoeto-university-of-li-ge/Few-Shot-Binary-Class-Training_gru_glove_fastText_Bahdanau-GRU-FastText-/runs/spt4xiuq' target=\"_blank\">GRU-FastText_K-70_Training</a></strong> to <a href='https://wandb.ai/wilfried-mvomoeto-university-of-li-ge/Few-Shot-Binary-Class-Training_gru_glove_fastText_Bahdanau-GRU-FastText-' target=\"_blank\">Weights & Biases</a> (<a href='https://wandb.me/developer-guide' target=\"_blank\">docs</a>)<br>"
            ],
            "text/plain": [
              "<IPython.core.display.HTML object>"
            ]
          },
          "metadata": {},
          "output_type": "display_data"
        },
        {
          "data": {
            "text/html": [
              " View project at <a href='https://wandb.ai/wilfried-mvomoeto-university-of-li-ge/Few-Shot-Binary-Class-Training_gru_glove_fastText_Bahdanau-GRU-FastText-' target=\"_blank\">https://wandb.ai/wilfried-mvomoeto-university-of-li-ge/Few-Shot-Binary-Class-Training_gru_glove_fastText_Bahdanau-GRU-FastText-</a>"
            ],
            "text/plain": [
              "<IPython.core.display.HTML object>"
            ]
          },
          "metadata": {},
          "output_type": "display_data"
        },
        {
          "data": {
            "text/html": [
              " View run at <a href='https://wandb.ai/wilfried-mvomoeto-university-of-li-ge/Few-Shot-Binary-Class-Training_gru_glove_fastText_Bahdanau-GRU-FastText-/runs/spt4xiuq' target=\"_blank\">https://wandb.ai/wilfried-mvomoeto-university-of-li-ge/Few-Shot-Binary-Class-Training_gru_glove_fastText_Bahdanau-GRU-FastText-/runs/spt4xiuq</a>"
            ],
            "text/plain": [
              "<IPython.core.display.HTML object>"
            ]
          },
          "metadata": {},
          "output_type": "display_data"
        },
        {
          "name": "stderr",
          "output_type": "stream",
          "text": [
            "GRU-FastText K-70 Epoch 1/1000 - Train Loss: 0.7200, Test Loss: 0.6666, Train Acc: 42.86%, Test Acc: 64.54%, Test F1: 51.23%, Test Balanced Acc: 50.19%, Test Recall: 64.54%, Test Precision: 58.80%, Time: 0.62 sec:   0%|          | 1/1000 [00:01<21:45,  1.31s/epoch]"
          ]
        },
        {
          "name": "stdout",
          "output_type": "stream",
          "text": [
            "Early stopping triggered at epoch 2\n",
            "Model GRU-FastText_K-70 saved with loss gap > 1.25 or accuracy gap > 10% at epoch 1.\n",
            "\n",
            "Training with 80-shot...\n"
          ]
        },
        {
          "name": "stderr",
          "output_type": "stream",
          "text": [
            "\n",
            "<ipython-input-10-f03193db776b>:44: UserWarning: To copy construct from a tensor, it is recommended to use sourceTensor.clone().detach() or sourceTensor.clone().detach().requires_grad_(True), rather than torch.tensor(sourceTensor).\n",
            "  self.X = torch.tensor(X_data, dtype=torch.long)\n",
            "<ipython-input-10-f03193db776b>:45: UserWarning: To copy construct from a tensor, it is recommended to use sourceTensor.clone().detach() or sourceTensor.clone().detach().requires_grad_(True), rather than torch.tensor(sourceTensor).\n",
            "  self.y = torch.tensor(y_data, dtype=torch.long)\n"
          ]
        },
        {
          "data": {
            "text/html": [
              "Finishing previous runs because reinit is set to 'default'."
            ],
            "text/plain": [
              "<IPython.core.display.HTML object>"
            ]
          },
          "metadata": {},
          "output_type": "display_data"
        },
        {
          "data": {
            "text/html": [],
            "text/plain": [
              "<IPython.core.display.HTML object>"
            ]
          },
          "metadata": {},
          "output_type": "display_data"
        },
        {
          "data": {
            "text/html": [
              "<br>    <style><br>        .wandb-row {<br>            display: flex;<br>            flex-direction: row;<br>            flex-wrap: wrap;<br>            justify-content: flex-start;<br>            width: 100%;<br>        }<br>        .wandb-col {<br>            display: flex;<br>            flex-direction: column;<br>            flex-basis: 100%;<br>            flex: 1;<br>            padding: 10px;<br>        }<br>    </style><br><div class=\"wandb-row\"><div class=\"wandb-col\"><h3>Run history:</h3><br/><table class=\"wandb\"><tr><td>epoch</td><td>▁█</td></tr><tr><td>k_shot</td><td>▁▁</td></tr><tr><td>test_acc</td><td>█▁</td></tr><tr><td>test_balanced_acc</td><td>█▁</td></tr><tr><td>test_f1</td><td>█▁</td></tr><tr><td>test_loss</td><td>▁█</td></tr><tr><td>test_precision</td><td>█▁</td></tr><tr><td>test_recall</td><td>█▁</td></tr><tr><td>train_acc</td><td>▁█</td></tr><tr><td>train_loss</td><td>▁█</td></tr></table><br/></div><div class=\"wandb-col\"><h3>Run summary:</h3><br/><table class=\"wandb\"><tr><td>epoch</td><td>2</td></tr><tr><td>k_shot</td><td>70</td></tr><tr><td>test_acc</td><td>0.35457</td></tr><tr><td>test_balanced_acc</td><td>0.49972</td></tr><tr><td>test_f1</td><td>0.18723</td></tr><tr><td>test_loss</td><td>0.70812</td></tr><tr><td>test_precision</td><td>0.49446</td></tr><tr><td>test_recall</td><td>0.35457</td></tr><tr><td>train_acc</td><td>0.46429</td></tr><tr><td>train_loss</td><td>0.74835</td></tr></table><br/></div></div>"
            ],
            "text/plain": [
              "<IPython.core.display.HTML object>"
            ]
          },
          "metadata": {},
          "output_type": "display_data"
        },
        {
          "data": {
            "text/html": [
              " View run <strong style=\"color:#cdcd00\">GRU-FastText_K-70_Training</strong> at: <a href='https://wandb.ai/wilfried-mvomoeto-university-of-li-ge/Few-Shot-Binary-Class-Training_gru_glove_fastText_Bahdanau-GRU-FastText-/runs/spt4xiuq' target=\"_blank\">https://wandb.ai/wilfried-mvomoeto-university-of-li-ge/Few-Shot-Binary-Class-Training_gru_glove_fastText_Bahdanau-GRU-FastText-/runs/spt4xiuq</a><br> View project at: <a href='https://wandb.ai/wilfried-mvomoeto-university-of-li-ge/Few-Shot-Binary-Class-Training_gru_glove_fastText_Bahdanau-GRU-FastText-' target=\"_blank\">https://wandb.ai/wilfried-mvomoeto-university-of-li-ge/Few-Shot-Binary-Class-Training_gru_glove_fastText_Bahdanau-GRU-FastText-</a><br>Synced 5 W&B file(s), 0 media file(s), 0 artifact file(s) and 0 other file(s)"
            ],
            "text/plain": [
              "<IPython.core.display.HTML object>"
            ]
          },
          "metadata": {},
          "output_type": "display_data"
        },
        {
          "data": {
            "text/html": [
              "Find logs at: <code>./wandb/run-20250501_183016-spt4xiuq/logs</code>"
            ],
            "text/plain": [
              "<IPython.core.display.HTML object>"
            ]
          },
          "metadata": {},
          "output_type": "display_data"
        },
        {
          "data": {
            "text/html": [
              "Tracking run with wandb version 0.19.10"
            ],
            "text/plain": [
              "<IPython.core.display.HTML object>"
            ]
          },
          "metadata": {},
          "output_type": "display_data"
        },
        {
          "data": {
            "text/html": [
              "Run data is saved locally in <code>/content/wandb/run-20250501_183025-ycirlnbu</code>"
            ],
            "text/plain": [
              "<IPython.core.display.HTML object>"
            ]
          },
          "metadata": {},
          "output_type": "display_data"
        },
        {
          "data": {
            "text/html": [
              "Syncing run <strong><a href='https://wandb.ai/wilfried-mvomoeto-university-of-li-ge/Few-Shot-Binary-Class-Training_gru_glove_fastText_Bahdanau-GRU-Bah-Glove-/runs/ycirlnbu' target=\"_blank\">GRU-Bah-Glove_K-80_Training</a></strong> to <a href='https://wandb.ai/wilfried-mvomoeto-university-of-li-ge/Few-Shot-Binary-Class-Training_gru_glove_fastText_Bahdanau-GRU-Bah-Glove-' target=\"_blank\">Weights & Biases</a> (<a href='https://wandb.me/developer-guide' target=\"_blank\">docs</a>)<br>"
            ],
            "text/plain": [
              "<IPython.core.display.HTML object>"
            ]
          },
          "metadata": {},
          "output_type": "display_data"
        },
        {
          "data": {
            "text/html": [
              " View project at <a href='https://wandb.ai/wilfried-mvomoeto-university-of-li-ge/Few-Shot-Binary-Class-Training_gru_glove_fastText_Bahdanau-GRU-Bah-Glove-' target=\"_blank\">https://wandb.ai/wilfried-mvomoeto-university-of-li-ge/Few-Shot-Binary-Class-Training_gru_glove_fastText_Bahdanau-GRU-Bah-Glove-</a>"
            ],
            "text/plain": [
              "<IPython.core.display.HTML object>"
            ]
          },
          "metadata": {},
          "output_type": "display_data"
        },
        {
          "data": {
            "text/html": [
              " View run at <a href='https://wandb.ai/wilfried-mvomoeto-university-of-li-ge/Few-Shot-Binary-Class-Training_gru_glove_fastText_Bahdanau-GRU-Bah-Glove-/runs/ycirlnbu' target=\"_blank\">https://wandb.ai/wilfried-mvomoeto-university-of-li-ge/Few-Shot-Binary-Class-Training_gru_glove_fastText_Bahdanau-GRU-Bah-Glove-/runs/ycirlnbu</a>"
            ],
            "text/plain": [
              "<IPython.core.display.HTML object>"
            ]
          },
          "metadata": {},
          "output_type": "display_data"
        },
        {
          "name": "stderr",
          "output_type": "stream",
          "text": [
            "GRU-Bah-Glove K-80 Epoch 49/1000 - Train Loss: 0.2752, Test Loss: 0.3237, Train Acc: 91.88%, Test Acc: 89.56%, Test F1: 89.65%, Test Balanced Acc: 89.55%, Test Recall: 89.56%, Test Precision: 89.90%, Time: 0.79 sec:   5%|▍         | 49/1000 [00:41<13:24,  1.18epoch/s]"
          ]
        },
        {
          "name": "stdout",
          "output_type": "stream",
          "text": [
            "Early stopping triggered at epoch 50\n",
            "Model GRU-Bah-Glove_K-80 saved with loss gap > 1.25 or accuracy gap > 10% at epoch 49.\n"
          ]
        },
        {
          "name": "stderr",
          "output_type": "stream",
          "text": [
            "\n",
            "<ipython-input-10-f03193db776b>:44: UserWarning: To copy construct from a tensor, it is recommended to use sourceTensor.clone().detach() or sourceTensor.clone().detach().requires_grad_(True), rather than torch.tensor(sourceTensor).\n",
            "  self.X = torch.tensor(X_data, dtype=torch.long)\n",
            "<ipython-input-10-f03193db776b>:45: UserWarning: To copy construct from a tensor, it is recommended to use sourceTensor.clone().detach() or sourceTensor.clone().detach().requires_grad_(True), rather than torch.tensor(sourceTensor).\n",
            "  self.y = torch.tensor(y_data, dtype=torch.long)\n"
          ]
        },
        {
          "data": {
            "text/html": [
              "Finishing previous runs because reinit is set to 'default'."
            ],
            "text/plain": [
              "<IPython.core.display.HTML object>"
            ]
          },
          "metadata": {},
          "output_type": "display_data"
        },
        {
          "data": {
            "text/html": [],
            "text/plain": [
              "<IPython.core.display.HTML object>"
            ]
          },
          "metadata": {},
          "output_type": "display_data"
        },
        {
          "data": {
            "text/html": [
              "<br>    <style><br>        .wandb-row {<br>            display: flex;<br>            flex-direction: row;<br>            flex-wrap: wrap;<br>            justify-content: flex-start;<br>            width: 100%;<br>        }<br>        .wandb-col {<br>            display: flex;<br>            flex-direction: column;<br>            flex-basis: 100%;<br>            flex: 1;<br>            padding: 10px;<br>        }<br>    </style><br><div class=\"wandb-row\"><div class=\"wandb-col\"><h3>Run history:</h3><br/><table class=\"wandb\"><tr><td>epoch</td><td>▁▁▁▁▂▂▂▂▂▃▃▃▃▃▃▄▄▄▄▄▅▅▅▅▅▅▆▆▆▆▆▆▇▇▇▇▇███</td></tr><tr><td>k_shot</td><td>▁▁▁▁▁▁▁▁▁▁▁▁▁▁▁▁▁▁▁▁▁▁▁▁▁▁▁▁▁▁▁▁▁▁▁▁▁▁▁▁</td></tr><tr><td>test_acc</td><td>▁▁▁▁▁▁▁▁▂▂▂▃▃▃▃▄▄▄▅▅▇▇▇▇▇███████████████</td></tr><tr><td>test_balanced_acc</td><td>▁▁▁▁▁▂▂▂▂▃▃▃▄▄▄▅▅▆▆▆▇▇▇▇▇▇▇▇▇▇█▇████████</td></tr><tr><td>test_f1</td><td>▁▁▁▁▁▂▂▃▃▃▄▄▄▅▅▅▆▆▆▆▇▇██████████████████</td></tr><tr><td>test_loss</td><td>█████████████████▇▇▇▇▆▆▆▅▃▃▃▃▃▂▂▂▂▁▁▁▁▁▁</td></tr><tr><td>test_precision</td><td>▁▁▁▁▂▂▂▃▃▃▃▄▄▄▅▅▅▆▆▆▇▇▇█████████████████</td></tr><tr><td>test_recall</td><td>▁▁▁▁▁▁▁▁▂▂▂▂▃▃▃▄▄▄▄▅▆▆▇▇▇███████████████</td></tr><tr><td>train_acc</td><td>▁▂▂▁▂▂▁▃▂▃▃▄▃▄▄▅▅▄▅▅▇▇▇▇▇▇▇▇▇▇▇█▇███████</td></tr><tr><td>train_loss</td><td>██████▇▇▇▇▇▇▇▇▇▆▆▆▆▆▅▅▅▅▄▄▄▃▃▃▃▃▃▂▂▁▂▂▂▁</td></tr></table><br/></div><div class=\"wandb-col\"><h3>Run summary:</h3><br/><table class=\"wandb\"><tr><td>epoch</td><td>50</td></tr><tr><td>k_shot</td><td>80</td></tr><tr><td>test_acc</td><td>0.89611</td></tr><tr><td>test_balanced_acc</td><td>0.8965</td></tr><tr><td>test_f1</td><td>0.89702</td></tr><tr><td>test_loss</td><td>0.32802</td></tr><tr><td>test_precision</td><td>0.89978</td></tr><tr><td>test_recall</td><td>0.89611</td></tr><tr><td>train_acc</td><td>0.90625</td></tr><tr><td>train_loss</td><td>0.25441</td></tr></table><br/></div></div>"
            ],
            "text/plain": [
              "<IPython.core.display.HTML object>"
            ]
          },
          "metadata": {},
          "output_type": "display_data"
        },
        {
          "data": {
            "text/html": [
              " View run <strong style=\"color:#cdcd00\">GRU-Bah-Glove_K-80_Training</strong> at: <a href='https://wandb.ai/wilfried-mvomoeto-university-of-li-ge/Few-Shot-Binary-Class-Training_gru_glove_fastText_Bahdanau-GRU-Bah-Glove-/runs/ycirlnbu' target=\"_blank\">https://wandb.ai/wilfried-mvomoeto-university-of-li-ge/Few-Shot-Binary-Class-Training_gru_glove_fastText_Bahdanau-GRU-Bah-Glove-/runs/ycirlnbu</a><br> View project at: <a href='https://wandb.ai/wilfried-mvomoeto-university-of-li-ge/Few-Shot-Binary-Class-Training_gru_glove_fastText_Bahdanau-GRU-Bah-Glove-' target=\"_blank\">https://wandb.ai/wilfried-mvomoeto-university-of-li-ge/Few-Shot-Binary-Class-Training_gru_glove_fastText_Bahdanau-GRU-Bah-Glove-</a><br>Synced 5 W&B file(s), 0 media file(s), 0 artifact file(s) and 0 other file(s)"
            ],
            "text/plain": [
              "<IPython.core.display.HTML object>"
            ]
          },
          "metadata": {},
          "output_type": "display_data"
        },
        {
          "data": {
            "text/html": [
              "Find logs at: <code>./wandb/run-20250501_183025-ycirlnbu/logs</code>"
            ],
            "text/plain": [
              "<IPython.core.display.HTML object>"
            ]
          },
          "metadata": {},
          "output_type": "display_data"
        },
        {
          "data": {
            "text/html": [
              "Tracking run with wandb version 0.19.10"
            ],
            "text/plain": [
              "<IPython.core.display.HTML object>"
            ]
          },
          "metadata": {},
          "output_type": "display_data"
        },
        {
          "data": {
            "text/html": [
              "Run data is saved locally in <code>/content/wandb/run-20250501_183114-rhnqtypf</code>"
            ],
            "text/plain": [
              "<IPython.core.display.HTML object>"
            ]
          },
          "metadata": {},
          "output_type": "display_data"
        },
        {
          "data": {
            "text/html": [
              "Syncing run <strong><a href='https://wandb.ai/wilfried-mvomoeto-university-of-li-ge/Few-Shot-Binary-Class-Training_gru_glove_fastText_Bahdanau-GRU-Bah-FastText-/runs/rhnqtypf' target=\"_blank\">GRU-Bah-FastText_K-80_Training</a></strong> to <a href='https://wandb.ai/wilfried-mvomoeto-university-of-li-ge/Few-Shot-Binary-Class-Training_gru_glove_fastText_Bahdanau-GRU-Bah-FastText-' target=\"_blank\">Weights & Biases</a> (<a href='https://wandb.me/developer-guide' target=\"_blank\">docs</a>)<br>"
            ],
            "text/plain": [
              "<IPython.core.display.HTML object>"
            ]
          },
          "metadata": {},
          "output_type": "display_data"
        },
        {
          "data": {
            "text/html": [
              " View project at <a href='https://wandb.ai/wilfried-mvomoeto-university-of-li-ge/Few-Shot-Binary-Class-Training_gru_glove_fastText_Bahdanau-GRU-Bah-FastText-' target=\"_blank\">https://wandb.ai/wilfried-mvomoeto-university-of-li-ge/Few-Shot-Binary-Class-Training_gru_glove_fastText_Bahdanau-GRU-Bah-FastText-</a>"
            ],
            "text/plain": [
              "<IPython.core.display.HTML object>"
            ]
          },
          "metadata": {},
          "output_type": "display_data"
        },
        {
          "data": {
            "text/html": [
              " View run at <a href='https://wandb.ai/wilfried-mvomoeto-university-of-li-ge/Few-Shot-Binary-Class-Training_gru_glove_fastText_Bahdanau-GRU-Bah-FastText-/runs/rhnqtypf' target=\"_blank\">https://wandb.ai/wilfried-mvomoeto-university-of-li-ge/Few-Shot-Binary-Class-Training_gru_glove_fastText_Bahdanau-GRU-Bah-FastText-/runs/rhnqtypf</a>"
            ],
            "text/plain": [
              "<IPython.core.display.HTML object>"
            ]
          },
          "metadata": {},
          "output_type": "display_data"
        },
        {
          "name": "stderr",
          "output_type": "stream",
          "text": [
            "GRU-Bah-FastText K-80 Epoch 17/1000 - Train Loss: 0.6651, Test Loss: 0.6781, Train Acc: 60.00%, Test Acc: 60.05%, Test F1: 59.49%, Test Balanced Acc: 66.97%, Test Recall: 60.05%, Test Precision: 74.30%, Time: 0.80 sec:   2%|▏         | 17/1000 [00:14<14:13,  1.15epoch/s]"
          ]
        },
        {
          "name": "stdout",
          "output_type": "stream",
          "text": [
            "Early stopping triggered at epoch 18\n",
            "Model GRU-Bah-FastText_K-80 saved with loss gap > 1.25 or accuracy gap > 10% at epoch 17.\n"
          ]
        },
        {
          "name": "stderr",
          "output_type": "stream",
          "text": [
            "\n",
            "<ipython-input-10-f03193db776b>:44: UserWarning: To copy construct from a tensor, it is recommended to use sourceTensor.clone().detach() or sourceTensor.clone().detach().requires_grad_(True), rather than torch.tensor(sourceTensor).\n",
            "  self.X = torch.tensor(X_data, dtype=torch.long)\n",
            "<ipython-input-10-f03193db776b>:45: UserWarning: To copy construct from a tensor, it is recommended to use sourceTensor.clone().detach() or sourceTensor.clone().detach().requires_grad_(True), rather than torch.tensor(sourceTensor).\n",
            "  self.y = torch.tensor(y_data, dtype=torch.long)\n"
          ]
        },
        {
          "data": {
            "text/html": [
              "Finishing previous runs because reinit is set to 'default'."
            ],
            "text/plain": [
              "<IPython.core.display.HTML object>"
            ]
          },
          "metadata": {},
          "output_type": "display_data"
        },
        {
          "data": {
            "text/html": [],
            "text/plain": [
              "<IPython.core.display.HTML object>"
            ]
          },
          "metadata": {},
          "output_type": "display_data"
        },
        {
          "data": {
            "text/html": [
              "<br>    <style><br>        .wandb-row {<br>            display: flex;<br>            flex-direction: row;<br>            flex-wrap: wrap;<br>            justify-content: flex-start;<br>            width: 100%;<br>        }<br>        .wandb-col {<br>            display: flex;<br>            flex-direction: column;<br>            flex-basis: 100%;<br>            flex: 1;<br>            padding: 10px;<br>        }<br>    </style><br><div class=\"wandb-row\"><div class=\"wandb-col\"><h3>Run history:</h3><br/><table class=\"wandb\"><tr><td>epoch</td><td>▁▁▂▂▃▃▃▄▄▅▅▆▆▆▇▇██</td></tr><tr><td>k_shot</td><td>▁▁▁▁▁▁▁▁▁▁▁▁▁▁▁▁▁▁</td></tr><tr><td>test_acc</td><td>█▇▅▂▁▃▅▇▇▇▆▄▄▆▆▃▃▃</td></tr><tr><td>test_balanced_acc</td><td>▁▁▂▃▄▅▆▆▇▇▇▇▇█████</td></tr><tr><td>test_f1</td><td>▁▃▅▅▅▆▇████▆▆▇▇▅▅▅</td></tr><tr><td>test_loss</td><td>▁▅▇███▇▆▇▇▇▇▇▆▆▆▆▆</td></tr><tr><td>test_precision</td><td>▃▁▁▂▃▃▄▄▅▅▆▆▇▇▇███</td></tr><tr><td>test_recall</td><td>█▇▅▂▁▃▅▇▇▇▆▄▄▆▆▃▃▃</td></tr><tr><td>train_acc</td><td>▂▃▁▁▂▂▅▄▂▄▅▅▆▅▆▆▅█</td></tr><tr><td>train_loss</td><td>█▇▇▆▅▅▃▄▄▃▃▃▃▂▂▂▃▁</td></tr></table><br/></div><div class=\"wandb-col\"><h3>Run summary:</h3><br/><table class=\"wandb\"><tr><td>epoch</td><td>18</td></tr><tr><td>k_shot</td><td>80</td></tr><tr><td>test_acc</td><td>0.60451</td></tr><tr><td>test_balanced_acc</td><td>0.67448</td></tr><tr><td>test_f1</td><td>0.59872</td></tr><tr><td>test_loss</td><td>0.67658</td></tr><tr><td>test_precision</td><td>0.74939</td></tr><tr><td>test_recall</td><td>0.60451</td></tr><tr><td>train_acc</td><td>0.725</td></tr><tr><td>train_loss</td><td>0.64422</td></tr></table><br/></div></div>"
            ],
            "text/plain": [
              "<IPython.core.display.HTML object>"
            ]
          },
          "metadata": {},
          "output_type": "display_data"
        },
        {
          "data": {
            "text/html": [
              " View run <strong style=\"color:#cdcd00\">GRU-Bah-FastText_K-80_Training</strong> at: <a href='https://wandb.ai/wilfried-mvomoeto-university-of-li-ge/Few-Shot-Binary-Class-Training_gru_glove_fastText_Bahdanau-GRU-Bah-FastText-/runs/rhnqtypf' target=\"_blank\">https://wandb.ai/wilfried-mvomoeto-university-of-li-ge/Few-Shot-Binary-Class-Training_gru_glove_fastText_Bahdanau-GRU-Bah-FastText-/runs/rhnqtypf</a><br> View project at: <a href='https://wandb.ai/wilfried-mvomoeto-university-of-li-ge/Few-Shot-Binary-Class-Training_gru_glove_fastText_Bahdanau-GRU-Bah-FastText-' target=\"_blank\">https://wandb.ai/wilfried-mvomoeto-university-of-li-ge/Few-Shot-Binary-Class-Training_gru_glove_fastText_Bahdanau-GRU-Bah-FastText-</a><br>Synced 5 W&B file(s), 0 media file(s), 0 artifact file(s) and 0 other file(s)"
            ],
            "text/plain": [
              "<IPython.core.display.HTML object>"
            ]
          },
          "metadata": {},
          "output_type": "display_data"
        },
        {
          "data": {
            "text/html": [
              "Find logs at: <code>./wandb/run-20250501_183114-rhnqtypf/logs</code>"
            ],
            "text/plain": [
              "<IPython.core.display.HTML object>"
            ]
          },
          "metadata": {},
          "output_type": "display_data"
        },
        {
          "data": {
            "text/html": [
              "Tracking run with wandb version 0.19.10"
            ],
            "text/plain": [
              "<IPython.core.display.HTML object>"
            ]
          },
          "metadata": {},
          "output_type": "display_data"
        },
        {
          "data": {
            "text/html": [
              "Run data is saved locally in <code>/content/wandb/run-20250501_183137-l7vpve33</code>"
            ],
            "text/plain": [
              "<IPython.core.display.HTML object>"
            ]
          },
          "metadata": {},
          "output_type": "display_data"
        },
        {
          "data": {
            "text/html": [
              "Syncing run <strong><a href='https://wandb.ai/wilfried-mvomoeto-university-of-li-ge/Few-Shot-Binary-Class-Training_gru_glove_fastText_Bahdanau-CNN_LSTM-/runs/l7vpve33' target=\"_blank\">CNN_LSTM_K-80_Training</a></strong> to <a href='https://wandb.ai/wilfried-mvomoeto-university-of-li-ge/Few-Shot-Binary-Class-Training_gru_glove_fastText_Bahdanau-CNN_LSTM-' target=\"_blank\">Weights & Biases</a> (<a href='https://wandb.me/developer-guide' target=\"_blank\">docs</a>)<br>"
            ],
            "text/plain": [
              "<IPython.core.display.HTML object>"
            ]
          },
          "metadata": {},
          "output_type": "display_data"
        },
        {
          "data": {
            "text/html": [
              " View project at <a href='https://wandb.ai/wilfried-mvomoeto-university-of-li-ge/Few-Shot-Binary-Class-Training_gru_glove_fastText_Bahdanau-CNN_LSTM-' target=\"_blank\">https://wandb.ai/wilfried-mvomoeto-university-of-li-ge/Few-Shot-Binary-Class-Training_gru_glove_fastText_Bahdanau-CNN_LSTM-</a>"
            ],
            "text/plain": [
              "<IPython.core.display.HTML object>"
            ]
          },
          "metadata": {},
          "output_type": "display_data"
        },
        {
          "data": {
            "text/html": [
              " View run at <a href='https://wandb.ai/wilfried-mvomoeto-university-of-li-ge/Few-Shot-Binary-Class-Training_gru_glove_fastText_Bahdanau-CNN_LSTM-/runs/l7vpve33' target=\"_blank\">https://wandb.ai/wilfried-mvomoeto-university-of-li-ge/Few-Shot-Binary-Class-Training_gru_glove_fastText_Bahdanau-CNN_LSTM-/runs/l7vpve33</a>"
            ],
            "text/plain": [
              "<IPython.core.display.HTML object>"
            ]
          },
          "metadata": {},
          "output_type": "display_data"
        },
        {
          "name": "stderr",
          "output_type": "stream",
          "text": [
            "CNN_LSTM K-80 Epoch 1/1000 - Train Loss: 0.6963, Test Loss: 0.6895, Train Acc: 48.75%, Test Acc: 64.52%, Test F1: 51.39%, Test Balanced Acc: 50.23%, Test Recall: 64.52%, Test Precision: 58.49%, Time: 0.72 sec:   0%|          | 1/1000 [00:01<24:24,  1.47s/epoch]"
          ]
        },
        {
          "name": "stdout",
          "output_type": "stream",
          "text": [
            "Early stopping triggered at epoch 2\n",
            "Model CNN_LSTM_K-80 saved with loss gap > 1.25 or accuracy gap > 10% at epoch 1.\n"
          ]
        },
        {
          "name": "stderr",
          "output_type": "stream",
          "text": [
            "\n",
            "<ipython-input-10-f03193db776b>:44: UserWarning: To copy construct from a tensor, it is recommended to use sourceTensor.clone().detach() or sourceTensor.clone().detach().requires_grad_(True), rather than torch.tensor(sourceTensor).\n",
            "  self.X = torch.tensor(X_data, dtype=torch.long)\n",
            "<ipython-input-10-f03193db776b>:45: UserWarning: To copy construct from a tensor, it is recommended to use sourceTensor.clone().detach() or sourceTensor.clone().detach().requires_grad_(True), rather than torch.tensor(sourceTensor).\n",
            "  self.y = torch.tensor(y_data, dtype=torch.long)\n"
          ]
        },
        {
          "data": {
            "text/html": [
              "Finishing previous runs because reinit is set to 'default'."
            ],
            "text/plain": [
              "<IPython.core.display.HTML object>"
            ]
          },
          "metadata": {},
          "output_type": "display_data"
        },
        {
          "data": {
            "text/html": [],
            "text/plain": [
              "<IPython.core.display.HTML object>"
            ]
          },
          "metadata": {},
          "output_type": "display_data"
        },
        {
          "data": {
            "text/html": [
              "<br>    <style><br>        .wandb-row {<br>            display: flex;<br>            flex-direction: row;<br>            flex-wrap: wrap;<br>            justify-content: flex-start;<br>            width: 100%;<br>        }<br>        .wandb-col {<br>            display: flex;<br>            flex-direction: column;<br>            flex-basis: 100%;<br>            flex: 1;<br>            padding: 10px;<br>        }<br>    </style><br><div class=\"wandb-row\"><div class=\"wandb-col\"><h3>Run history:</h3><br/><table class=\"wandb\"><tr><td>epoch</td><td>▁█</td></tr><tr><td>k_shot</td><td>▁▁</td></tr><tr><td>test_acc</td><td>█▁</td></tr><tr><td>test_balanced_acc</td><td>█▁</td></tr><tr><td>test_f1</td><td>█▁</td></tr><tr><td>test_loss</td><td>▁█</td></tr><tr><td>test_precision</td><td>█▁</td></tr><tr><td>test_recall</td><td>█▁</td></tr><tr><td>train_acc</td><td>▁█</td></tr><tr><td>train_loss</td><td>█▁</td></tr></table><br/></div><div class=\"wandb-col\"><h3>Run summary:</h3><br/><table class=\"wandb\"><tr><td>epoch</td><td>2</td></tr><tr><td>k_shot</td><td>80</td></tr><tr><td>test_acc</td><td>0.35433</td></tr><tr><td>test_balanced_acc</td><td>0.5</td></tr><tr><td>test_f1</td><td>0.1854</td></tr><tr><td>test_loss</td><td>0.69835</td></tr><tr><td>test_precision</td><td>0.12555</td></tr><tr><td>test_recall</td><td>0.35433</td></tr><tr><td>train_acc</td><td>0.49375</td></tr><tr><td>train_loss</td><td>0.6942</td></tr></table><br/></div></div>"
            ],
            "text/plain": [
              "<IPython.core.display.HTML object>"
            ]
          },
          "metadata": {},
          "output_type": "display_data"
        },
        {
          "data": {
            "text/html": [
              " View run <strong style=\"color:#cdcd00\">CNN_LSTM_K-80_Training</strong> at: <a href='https://wandb.ai/wilfried-mvomoeto-university-of-li-ge/Few-Shot-Binary-Class-Training_gru_glove_fastText_Bahdanau-CNN_LSTM-/runs/l7vpve33' target=\"_blank\">https://wandb.ai/wilfried-mvomoeto-university-of-li-ge/Few-Shot-Binary-Class-Training_gru_glove_fastText_Bahdanau-CNN_LSTM-/runs/l7vpve33</a><br> View project at: <a href='https://wandb.ai/wilfried-mvomoeto-university-of-li-ge/Few-Shot-Binary-Class-Training_gru_glove_fastText_Bahdanau-CNN_LSTM-' target=\"_blank\">https://wandb.ai/wilfried-mvomoeto-university-of-li-ge/Few-Shot-Binary-Class-Training_gru_glove_fastText_Bahdanau-CNN_LSTM-</a><br>Synced 5 W&B file(s), 0 media file(s), 0 artifact file(s) and 0 other file(s)"
            ],
            "text/plain": [
              "<IPython.core.display.HTML object>"
            ]
          },
          "metadata": {},
          "output_type": "display_data"
        },
        {
          "data": {
            "text/html": [
              "Find logs at: <code>./wandb/run-20250501_183137-l7vpve33/logs</code>"
            ],
            "text/plain": [
              "<IPython.core.display.HTML object>"
            ]
          },
          "metadata": {},
          "output_type": "display_data"
        },
        {
          "data": {
            "text/html": [
              "Tracking run with wandb version 0.19.10"
            ],
            "text/plain": [
              "<IPython.core.display.HTML object>"
            ]
          },
          "metadata": {},
          "output_type": "display_data"
        },
        {
          "data": {
            "text/html": [
              "Run data is saved locally in <code>/content/wandb/run-20250501_183147-b216n38j</code>"
            ],
            "text/plain": [
              "<IPython.core.display.HTML object>"
            ]
          },
          "metadata": {},
          "output_type": "display_data"
        },
        {
          "data": {
            "text/html": [
              "Syncing run <strong><a href='https://wandb.ai/wilfried-mvomoeto-university-of-li-ge/Few-Shot-Binary-Class-Training_gru_glove_fastText_Bahdanau-GRU-Glove-/runs/b216n38j' target=\"_blank\">GRU-Glove_K-80_Training</a></strong> to <a href='https://wandb.ai/wilfried-mvomoeto-university-of-li-ge/Few-Shot-Binary-Class-Training_gru_glove_fastText_Bahdanau-GRU-Glove-' target=\"_blank\">Weights & Biases</a> (<a href='https://wandb.me/developer-guide' target=\"_blank\">docs</a>)<br>"
            ],
            "text/plain": [
              "<IPython.core.display.HTML object>"
            ]
          },
          "metadata": {},
          "output_type": "display_data"
        },
        {
          "data": {
            "text/html": [
              " View project at <a href='https://wandb.ai/wilfried-mvomoeto-university-of-li-ge/Few-Shot-Binary-Class-Training_gru_glove_fastText_Bahdanau-GRU-Glove-' target=\"_blank\">https://wandb.ai/wilfried-mvomoeto-university-of-li-ge/Few-Shot-Binary-Class-Training_gru_glove_fastText_Bahdanau-GRU-Glove-</a>"
            ],
            "text/plain": [
              "<IPython.core.display.HTML object>"
            ]
          },
          "metadata": {},
          "output_type": "display_data"
        },
        {
          "data": {
            "text/html": [
              " View run at <a href='https://wandb.ai/wilfried-mvomoeto-university-of-li-ge/Few-Shot-Binary-Class-Training_gru_glove_fastText_Bahdanau-GRU-Glove-/runs/b216n38j' target=\"_blank\">https://wandb.ai/wilfried-mvomoeto-university-of-li-ge/Few-Shot-Binary-Class-Training_gru_glove_fastText_Bahdanau-GRU-Glove-/runs/b216n38j</a>"
            ],
            "text/plain": [
              "<IPython.core.display.HTML object>"
            ]
          },
          "metadata": {},
          "output_type": "display_data"
        },
        {
          "name": "stderr",
          "output_type": "stream",
          "text": [
            "Training GRU-Glove with 80-shot:   0%|          | 0/1000 [00:00<?, ?epoch/s]"
          ]
        },
        {
          "name": "stdout",
          "output_type": "stream",
          "text": [
            "Early stopping triggered at epoch 1\n",
            "Model GRU-Glove_K-80 saved with loss gap > 1.25 or accuracy gap > 10% at epoch 0.\n"
          ]
        },
        {
          "name": "stderr",
          "output_type": "stream",
          "text": [
            "\n",
            "<ipython-input-10-f03193db776b>:44: UserWarning: To copy construct from a tensor, it is recommended to use sourceTensor.clone().detach() or sourceTensor.clone().detach().requires_grad_(True), rather than torch.tensor(sourceTensor).\n",
            "  self.X = torch.tensor(X_data, dtype=torch.long)\n",
            "<ipython-input-10-f03193db776b>:45: UserWarning: To copy construct from a tensor, it is recommended to use sourceTensor.clone().detach() or sourceTensor.clone().detach().requires_grad_(True), rather than torch.tensor(sourceTensor).\n",
            "  self.y = torch.tensor(y_data, dtype=torch.long)\n"
          ]
        },
        {
          "data": {
            "text/html": [
              "Finishing previous runs because reinit is set to 'default'."
            ],
            "text/plain": [
              "<IPython.core.display.HTML object>"
            ]
          },
          "metadata": {},
          "output_type": "display_data"
        },
        {
          "data": {
            "text/html": [],
            "text/plain": [
              "<IPython.core.display.HTML object>"
            ]
          },
          "metadata": {},
          "output_type": "display_data"
        },
        {
          "data": {
            "text/html": [
              "<br>    <style><br>        .wandb-row {<br>            display: flex;<br>            flex-direction: row;<br>            flex-wrap: wrap;<br>            justify-content: flex-start;<br>            width: 100%;<br>        }<br>        .wandb-col {<br>            display: flex;<br>            flex-direction: column;<br>            flex-basis: 100%;<br>            flex: 1;<br>            padding: 10px;<br>        }<br>    </style><br><div class=\"wandb-row\"><div class=\"wandb-col\"><h3>Run history:</h3><br/><table class=\"wandb\"><tr><td>epoch</td><td>▁</td></tr><tr><td>k_shot</td><td>▁</td></tr><tr><td>test_acc</td><td>▁</td></tr><tr><td>test_balanced_acc</td><td>▁</td></tr><tr><td>test_f1</td><td>▁</td></tr><tr><td>test_loss</td><td>▁</td></tr><tr><td>test_precision</td><td>▁</td></tr><tr><td>test_recall</td><td>▁</td></tr><tr><td>train_acc</td><td>▁</td></tr><tr><td>train_loss</td><td>▁</td></tr></table><br/></div><div class=\"wandb-col\"><h3>Run summary:</h3><br/><table class=\"wandb\"><tr><td>epoch</td><td>1</td></tr><tr><td>k_shot</td><td>80</td></tr><tr><td>test_acc</td><td>0.35383</td></tr><tr><td>test_balanced_acc</td><td>0.49851</td></tr><tr><td>test_f1</td><td>0.18737</td></tr><tr><td>test_loss</td><td>0.69472</td></tr><tr><td>test_precision</td><td>0.39434</td></tr><tr><td>test_recall</td><td>0.35383</td></tr><tr><td>train_acc</td><td>0.475</td></tr><tr><td>train_loss</td><td>0.71392</td></tr></table><br/></div></div>"
            ],
            "text/plain": [
              "<IPython.core.display.HTML object>"
            ]
          },
          "metadata": {},
          "output_type": "display_data"
        },
        {
          "data": {
            "text/html": [
              " View run <strong style=\"color:#cdcd00\">GRU-Glove_K-80_Training</strong> at: <a href='https://wandb.ai/wilfried-mvomoeto-university-of-li-ge/Few-Shot-Binary-Class-Training_gru_glove_fastText_Bahdanau-GRU-Glove-/runs/b216n38j' target=\"_blank\">https://wandb.ai/wilfried-mvomoeto-university-of-li-ge/Few-Shot-Binary-Class-Training_gru_glove_fastText_Bahdanau-GRU-Glove-/runs/b216n38j</a><br> View project at: <a href='https://wandb.ai/wilfried-mvomoeto-university-of-li-ge/Few-Shot-Binary-Class-Training_gru_glove_fastText_Bahdanau-GRU-Glove-' target=\"_blank\">https://wandb.ai/wilfried-mvomoeto-university-of-li-ge/Few-Shot-Binary-Class-Training_gru_glove_fastText_Bahdanau-GRU-Glove-</a><br>Synced 5 W&B file(s), 0 media file(s), 0 artifact file(s) and 0 other file(s)"
            ],
            "text/plain": [
              "<IPython.core.display.HTML object>"
            ]
          },
          "metadata": {},
          "output_type": "display_data"
        },
        {
          "data": {
            "text/html": [
              "Find logs at: <code>./wandb/run-20250501_183147-b216n38j/logs</code>"
            ],
            "text/plain": [
              "<IPython.core.display.HTML object>"
            ]
          },
          "metadata": {},
          "output_type": "display_data"
        },
        {
          "data": {
            "text/html": [
              "Tracking run with wandb version 0.19.10"
            ],
            "text/plain": [
              "<IPython.core.display.HTML object>"
            ]
          },
          "metadata": {},
          "output_type": "display_data"
        },
        {
          "data": {
            "text/html": [
              "Run data is saved locally in <code>/content/wandb/run-20250501_183155-ydqkwb0l</code>"
            ],
            "text/plain": [
              "<IPython.core.display.HTML object>"
            ]
          },
          "metadata": {},
          "output_type": "display_data"
        },
        {
          "data": {
            "text/html": [
              "Syncing run <strong><a href='https://wandb.ai/wilfried-mvomoeto-university-of-li-ge/Few-Shot-Binary-Class-Training_gru_glove_fastText_Bahdanau-GRU-FastText-/runs/ydqkwb0l' target=\"_blank\">GRU-FastText_K-80_Training</a></strong> to <a href='https://wandb.ai/wilfried-mvomoeto-university-of-li-ge/Few-Shot-Binary-Class-Training_gru_glove_fastText_Bahdanau-GRU-FastText-' target=\"_blank\">Weights & Biases</a> (<a href='https://wandb.me/developer-guide' target=\"_blank\">docs</a>)<br>"
            ],
            "text/plain": [
              "<IPython.core.display.HTML object>"
            ]
          },
          "metadata": {},
          "output_type": "display_data"
        },
        {
          "data": {
            "text/html": [
              " View project at <a href='https://wandb.ai/wilfried-mvomoeto-university-of-li-ge/Few-Shot-Binary-Class-Training_gru_glove_fastText_Bahdanau-GRU-FastText-' target=\"_blank\">https://wandb.ai/wilfried-mvomoeto-university-of-li-ge/Few-Shot-Binary-Class-Training_gru_glove_fastText_Bahdanau-GRU-FastText-</a>"
            ],
            "text/plain": [
              "<IPython.core.display.HTML object>"
            ]
          },
          "metadata": {},
          "output_type": "display_data"
        },
        {
          "data": {
            "text/html": [
              " View run at <a href='https://wandb.ai/wilfried-mvomoeto-university-of-li-ge/Few-Shot-Binary-Class-Training_gru_glove_fastText_Bahdanau-GRU-FastText-/runs/ydqkwb0l' target=\"_blank\">https://wandb.ai/wilfried-mvomoeto-university-of-li-ge/Few-Shot-Binary-Class-Training_gru_glove_fastText_Bahdanau-GRU-FastText-/runs/ydqkwb0l</a>"
            ],
            "text/plain": [
              "<IPython.core.display.HTML object>"
            ]
          },
          "metadata": {},
          "output_type": "display_data"
        },
        {
          "name": "stderr",
          "output_type": "stream",
          "text": [
            "GRU-FastText K-80 Epoch 3/1000 - Train Loss: 0.7673, Test Loss: 0.6870, Train Acc: 41.88%, Test Acc: 64.57%, Test F1: 50.85%, Test Balanced Acc: 50.06%, Test Recall: 64.57%, Test Precision: 59.42%, Time: 0.48 sec:   0%|          | 3/1000 [00:02<11:56,  1.39epoch/s]"
          ]
        },
        {
          "name": "stdout",
          "output_type": "stream",
          "text": [
            "Early stopping triggered at epoch 4\n",
            "Model GRU-FastText_K-80 saved with loss gap > 1.25 or accuracy gap > 10% at epoch 3.\n",
            "\n",
            "Training with 100-shot...\n"
          ]
        },
        {
          "name": "stderr",
          "output_type": "stream",
          "text": [
            "\n",
            "<ipython-input-10-f03193db776b>:44: UserWarning: To copy construct from a tensor, it is recommended to use sourceTensor.clone().detach() or sourceTensor.clone().detach().requires_grad_(True), rather than torch.tensor(sourceTensor).\n",
            "  self.X = torch.tensor(X_data, dtype=torch.long)\n",
            "<ipython-input-10-f03193db776b>:45: UserWarning: To copy construct from a tensor, it is recommended to use sourceTensor.clone().detach() or sourceTensor.clone().detach().requires_grad_(True), rather than torch.tensor(sourceTensor).\n",
            "  self.y = torch.tensor(y_data, dtype=torch.long)\n"
          ]
        },
        {
          "data": {
            "text/html": [
              "Finishing previous runs because reinit is set to 'default'."
            ],
            "text/plain": [
              "<IPython.core.display.HTML object>"
            ]
          },
          "metadata": {},
          "output_type": "display_data"
        },
        {
          "data": {
            "text/html": [],
            "text/plain": [
              "<IPython.core.display.HTML object>"
            ]
          },
          "metadata": {},
          "output_type": "display_data"
        },
        {
          "data": {
            "text/html": [
              "<br>    <style><br>        .wandb-row {<br>            display: flex;<br>            flex-direction: row;<br>            flex-wrap: wrap;<br>            justify-content: flex-start;<br>            width: 100%;<br>        }<br>        .wandb-col {<br>            display: flex;<br>            flex-direction: column;<br>            flex-basis: 100%;<br>            flex: 1;<br>            padding: 10px;<br>        }<br>    </style><br><div class=\"wandb-row\"><div class=\"wandb-col\"><h3>Run history:</h3><br/><table class=\"wandb\"><tr><td>epoch</td><td>▁▃▆█</td></tr><tr><td>k_shot</td><td>▁▁▁▁</td></tr><tr><td>test_acc</td><td>███▁</td></tr><tr><td>test_balanced_acc</td><td>▇▆█▁</td></tr><tr><td>test_f1</td><td>███▁</td></tr><tr><td>test_loss</td><td>▁▃▁█</td></tr><tr><td>test_precision</td><td>▇▅█▁</td></tr><tr><td>test_recall</td><td>███▁</td></tr><tr><td>train_acc</td><td>█▃▁▄</td></tr><tr><td>train_loss</td><td>▁▄█▃</td></tr></table><br/></div><div class=\"wandb-col\"><h3>Run summary:</h3><br/><table class=\"wandb\"><tr><td>epoch</td><td>4</td></tr><tr><td>k_shot</td><td>80</td></tr><tr><td>test_acc</td><td>0.35532</td></tr><tr><td>test_balanced_acc</td><td>0.49903</td></tr><tr><td>test_f1</td><td>0.19222</td></tr><tr><td>test_loss</td><td>0.70639</td></tr><tr><td>test_precision</td><td>0.49789</td></tr><tr><td>test_recall</td><td>0.35532</td></tr><tr><td>train_acc</td><td>0.48125</td></tr><tr><td>train_loss</td><td>0.71697</td></tr></table><br/></div></div>"
            ],
            "text/plain": [
              "<IPython.core.display.HTML object>"
            ]
          },
          "metadata": {},
          "output_type": "display_data"
        },
        {
          "data": {
            "text/html": [
              " View run <strong style=\"color:#cdcd00\">GRU-FastText_K-80_Training</strong> at: <a href='https://wandb.ai/wilfried-mvomoeto-university-of-li-ge/Few-Shot-Binary-Class-Training_gru_glove_fastText_Bahdanau-GRU-FastText-/runs/ydqkwb0l' target=\"_blank\">https://wandb.ai/wilfried-mvomoeto-university-of-li-ge/Few-Shot-Binary-Class-Training_gru_glove_fastText_Bahdanau-GRU-FastText-/runs/ydqkwb0l</a><br> View project at: <a href='https://wandb.ai/wilfried-mvomoeto-university-of-li-ge/Few-Shot-Binary-Class-Training_gru_glove_fastText_Bahdanau-GRU-FastText-' target=\"_blank\">https://wandb.ai/wilfried-mvomoeto-university-of-li-ge/Few-Shot-Binary-Class-Training_gru_glove_fastText_Bahdanau-GRU-FastText-</a><br>Synced 5 W&B file(s), 0 media file(s), 0 artifact file(s) and 0 other file(s)"
            ],
            "text/plain": [
              "<IPython.core.display.HTML object>"
            ]
          },
          "metadata": {},
          "output_type": "display_data"
        },
        {
          "data": {
            "text/html": [
              "Find logs at: <code>./wandb/run-20250501_183155-ydqkwb0l/logs</code>"
            ],
            "text/plain": [
              "<IPython.core.display.HTML object>"
            ]
          },
          "metadata": {},
          "output_type": "display_data"
        },
        {
          "data": {
            "text/html": [
              "Tracking run with wandb version 0.19.10"
            ],
            "text/plain": [
              "<IPython.core.display.HTML object>"
            ]
          },
          "metadata": {},
          "output_type": "display_data"
        },
        {
          "data": {
            "text/html": [
              "Run data is saved locally in <code>/content/wandb/run-20250501_183205-dozau1v7</code>"
            ],
            "text/plain": [
              "<IPython.core.display.HTML object>"
            ]
          },
          "metadata": {},
          "output_type": "display_data"
        },
        {
          "data": {
            "text/html": [
              "Syncing run <strong><a href='https://wandb.ai/wilfried-mvomoeto-university-of-li-ge/Few-Shot-Binary-Class-Training_gru_glove_fastText_Bahdanau-GRU-Bah-Glove-/runs/dozau1v7' target=\"_blank\">GRU-Bah-Glove_K-100_Training</a></strong> to <a href='https://wandb.ai/wilfried-mvomoeto-university-of-li-ge/Few-Shot-Binary-Class-Training_gru_glove_fastText_Bahdanau-GRU-Bah-Glove-' target=\"_blank\">Weights & Biases</a> (<a href='https://wandb.me/developer-guide' target=\"_blank\">docs</a>)<br>"
            ],
            "text/plain": [
              "<IPython.core.display.HTML object>"
            ]
          },
          "metadata": {},
          "output_type": "display_data"
        },
        {
          "data": {
            "text/html": [
              " View project at <a href='https://wandb.ai/wilfried-mvomoeto-university-of-li-ge/Few-Shot-Binary-Class-Training_gru_glove_fastText_Bahdanau-GRU-Bah-Glove-' target=\"_blank\">https://wandb.ai/wilfried-mvomoeto-university-of-li-ge/Few-Shot-Binary-Class-Training_gru_glove_fastText_Bahdanau-GRU-Bah-Glove-</a>"
            ],
            "text/plain": [
              "<IPython.core.display.HTML object>"
            ]
          },
          "metadata": {},
          "output_type": "display_data"
        },
        {
          "data": {
            "text/html": [
              " View run at <a href='https://wandb.ai/wilfried-mvomoeto-university-of-li-ge/Few-Shot-Binary-Class-Training_gru_glove_fastText_Bahdanau-GRU-Bah-Glove-/runs/dozau1v7' target=\"_blank\">https://wandb.ai/wilfried-mvomoeto-university-of-li-ge/Few-Shot-Binary-Class-Training_gru_glove_fastText_Bahdanau-GRU-Bah-Glove-/runs/dozau1v7</a>"
            ],
            "text/plain": [
              "<IPython.core.display.HTML object>"
            ]
          },
          "metadata": {},
          "output_type": "display_data"
        },
        {
          "name": "stderr",
          "output_type": "stream",
          "text": [
            "Training GRU-Bah-Glove with 100-shot:   0%|          | 0/1000 [00:00<?, ?epoch/s]"
          ]
        },
        {
          "name": "stdout",
          "output_type": "stream",
          "text": [
            "Early stopping triggered at epoch 1\n",
            "Model GRU-Bah-Glove_K-100 saved with loss gap > 1.25 or accuracy gap > 10% at epoch 0.\n"
          ]
        },
        {
          "name": "stderr",
          "output_type": "stream",
          "text": [
            "\n",
            "<ipython-input-10-f03193db776b>:44: UserWarning: To copy construct from a tensor, it is recommended to use sourceTensor.clone().detach() or sourceTensor.clone().detach().requires_grad_(True), rather than torch.tensor(sourceTensor).\n",
            "  self.X = torch.tensor(X_data, dtype=torch.long)\n",
            "<ipython-input-10-f03193db776b>:45: UserWarning: To copy construct from a tensor, it is recommended to use sourceTensor.clone().detach() or sourceTensor.clone().detach().requires_grad_(True), rather than torch.tensor(sourceTensor).\n",
            "  self.y = torch.tensor(y_data, dtype=torch.long)\n"
          ]
        },
        {
          "data": {
            "text/html": [
              "Finishing previous runs because reinit is set to 'default'."
            ],
            "text/plain": [
              "<IPython.core.display.HTML object>"
            ]
          },
          "metadata": {},
          "output_type": "display_data"
        },
        {
          "data": {
            "text/html": [],
            "text/plain": [
              "<IPython.core.display.HTML object>"
            ]
          },
          "metadata": {},
          "output_type": "display_data"
        },
        {
          "data": {
            "text/html": [
              "<br>    <style><br>        .wandb-row {<br>            display: flex;<br>            flex-direction: row;<br>            flex-wrap: wrap;<br>            justify-content: flex-start;<br>            width: 100%;<br>        }<br>        .wandb-col {<br>            display: flex;<br>            flex-direction: column;<br>            flex-basis: 100%;<br>            flex: 1;<br>            padding: 10px;<br>        }<br>    </style><br><div class=\"wandb-row\"><div class=\"wandb-col\"><h3>Run history:</h3><br/><table class=\"wandb\"><tr><td>epoch</td><td>▁</td></tr><tr><td>k_shot</td><td>▁</td></tr><tr><td>test_acc</td><td>▁</td></tr><tr><td>test_balanced_acc</td><td>▁</td></tr><tr><td>test_f1</td><td>▁</td></tr><tr><td>test_loss</td><td>▁</td></tr><tr><td>test_precision</td><td>▁</td></tr><tr><td>test_recall</td><td>▁</td></tr><tr><td>train_acc</td><td>▁</td></tr><tr><td>train_loss</td><td>▁</td></tr></table><br/></div><div class=\"wandb-col\"><h3>Run summary:</h3><br/><table class=\"wandb\"><tr><td>epoch</td><td>1</td></tr><tr><td>k_shot</td><td>100</td></tr><tr><td>test_acc</td><td>0.3692</td></tr><tr><td>test_balanced_acc</td><td>0.49305</td></tr><tr><td>test_f1</td><td>0.25878</td></tr><tr><td>test_loss</td><td>0.70331</td></tr><tr><td>test_precision</td><td>0.51305</td></tr><tr><td>test_recall</td><td>0.3692</td></tr><tr><td>train_acc</td><td>0.475</td></tr><tr><td>train_loss</td><td>0.76108</td></tr></table><br/></div></div>"
            ],
            "text/plain": [
              "<IPython.core.display.HTML object>"
            ]
          },
          "metadata": {},
          "output_type": "display_data"
        },
        {
          "data": {
            "text/html": [
              " View run <strong style=\"color:#cdcd00\">GRU-Bah-Glove_K-100_Training</strong> at: <a href='https://wandb.ai/wilfried-mvomoeto-university-of-li-ge/Few-Shot-Binary-Class-Training_gru_glove_fastText_Bahdanau-GRU-Bah-Glove-/runs/dozau1v7' target=\"_blank\">https://wandb.ai/wilfried-mvomoeto-university-of-li-ge/Few-Shot-Binary-Class-Training_gru_glove_fastText_Bahdanau-GRU-Bah-Glove-/runs/dozau1v7</a><br> View project at: <a href='https://wandb.ai/wilfried-mvomoeto-university-of-li-ge/Few-Shot-Binary-Class-Training_gru_glove_fastText_Bahdanau-GRU-Bah-Glove-' target=\"_blank\">https://wandb.ai/wilfried-mvomoeto-university-of-li-ge/Few-Shot-Binary-Class-Training_gru_glove_fastText_Bahdanau-GRU-Bah-Glove-</a><br>Synced 5 W&B file(s), 0 media file(s), 0 artifact file(s) and 0 other file(s)"
            ],
            "text/plain": [
              "<IPython.core.display.HTML object>"
            ]
          },
          "metadata": {},
          "output_type": "display_data"
        },
        {
          "data": {
            "text/html": [
              "Find logs at: <code>./wandb/run-20250501_183205-dozau1v7/logs</code>"
            ],
            "text/plain": [
              "<IPython.core.display.HTML object>"
            ]
          },
          "metadata": {},
          "output_type": "display_data"
        },
        {
          "data": {
            "text/html": [
              "Tracking run with wandb version 0.19.10"
            ],
            "text/plain": [
              "<IPython.core.display.HTML object>"
            ]
          },
          "metadata": {},
          "output_type": "display_data"
        },
        {
          "data": {
            "text/html": [
              "Run data is saved locally in <code>/content/wandb/run-20250501_183214-voyet3uo</code>"
            ],
            "text/plain": [
              "<IPython.core.display.HTML object>"
            ]
          },
          "metadata": {},
          "output_type": "display_data"
        },
        {
          "data": {
            "text/html": [
              "Syncing run <strong><a href='https://wandb.ai/wilfried-mvomoeto-university-of-li-ge/Few-Shot-Binary-Class-Training_gru_glove_fastText_Bahdanau-GRU-Bah-FastText-/runs/voyet3uo' target=\"_blank\">GRU-Bah-FastText_K-100_Training</a></strong> to <a href='https://wandb.ai/wilfried-mvomoeto-university-of-li-ge/Few-Shot-Binary-Class-Training_gru_glove_fastText_Bahdanau-GRU-Bah-FastText-' target=\"_blank\">Weights & Biases</a> (<a href='https://wandb.me/developer-guide' target=\"_blank\">docs</a>)<br>"
            ],
            "text/plain": [
              "<IPython.core.display.HTML object>"
            ]
          },
          "metadata": {},
          "output_type": "display_data"
        },
        {
          "data": {
            "text/html": [
              " View project at <a href='https://wandb.ai/wilfried-mvomoeto-university-of-li-ge/Few-Shot-Binary-Class-Training_gru_glove_fastText_Bahdanau-GRU-Bah-FastText-' target=\"_blank\">https://wandb.ai/wilfried-mvomoeto-university-of-li-ge/Few-Shot-Binary-Class-Training_gru_glove_fastText_Bahdanau-GRU-Bah-FastText-</a>"
            ],
            "text/plain": [
              "<IPython.core.display.HTML object>"
            ]
          },
          "metadata": {},
          "output_type": "display_data"
        },
        {
          "data": {
            "text/html": [
              " View run at <a href='https://wandb.ai/wilfried-mvomoeto-university-of-li-ge/Few-Shot-Binary-Class-Training_gru_glove_fastText_Bahdanau-GRU-Bah-FastText-/runs/voyet3uo' target=\"_blank\">https://wandb.ai/wilfried-mvomoeto-university-of-li-ge/Few-Shot-Binary-Class-Training_gru_glove_fastText_Bahdanau-GRU-Bah-FastText-/runs/voyet3uo</a>"
            ],
            "text/plain": [
              "<IPython.core.display.HTML object>"
            ]
          },
          "metadata": {},
          "output_type": "display_data"
        },
        {
          "name": "stderr",
          "output_type": "stream",
          "text": [
            "GRU-Bah-FastText K-100 Epoch 19/1000 - Train Loss: 0.5952, Test Loss: 0.6203, Train Acc: 75.00%, Test Acc: 71.81%, Test F1: 72.13%, Test Balanced Acc: 76.97%, Test Recall: 71.81%, Test Precision: 81.40%, Time: 0.93 sec:   2%|▏         | 19/1000 [00:17<15:08,  1.08epoch/s]"
          ]
        },
        {
          "name": "stdout",
          "output_type": "stream",
          "text": [
            "Early stopping triggered at epoch 20\n",
            "Model GRU-Bah-FastText_K-100 saved with loss gap > 1.25 or accuracy gap > 10% at epoch 19.\n"
          ]
        },
        {
          "name": "stderr",
          "output_type": "stream",
          "text": [
            "\n",
            "<ipython-input-10-f03193db776b>:44: UserWarning: To copy construct from a tensor, it is recommended to use sourceTensor.clone().detach() or sourceTensor.clone().detach().requires_grad_(True), rather than torch.tensor(sourceTensor).\n",
            "  self.X = torch.tensor(X_data, dtype=torch.long)\n",
            "<ipython-input-10-f03193db776b>:45: UserWarning: To copy construct from a tensor, it is recommended to use sourceTensor.clone().detach() or sourceTensor.clone().detach().requires_grad_(True), rather than torch.tensor(sourceTensor).\n",
            "  self.y = torch.tensor(y_data, dtype=torch.long)\n"
          ]
        },
        {
          "data": {
            "text/html": [
              "Finishing previous runs because reinit is set to 'default'."
            ],
            "text/plain": [
              "<IPython.core.display.HTML object>"
            ]
          },
          "metadata": {},
          "output_type": "display_data"
        },
        {
          "data": {
            "text/html": [],
            "text/plain": [
              "<IPython.core.display.HTML object>"
            ]
          },
          "metadata": {},
          "output_type": "display_data"
        },
        {
          "data": {
            "text/html": [
              "<br>    <style><br>        .wandb-row {<br>            display: flex;<br>            flex-direction: row;<br>            flex-wrap: wrap;<br>            justify-content: flex-start;<br>            width: 100%;<br>        }<br>        .wandb-col {<br>            display: flex;<br>            flex-direction: column;<br>            flex-basis: 100%;<br>            flex: 1;<br>            padding: 10px;<br>        }<br>    </style><br><div class=\"wandb-row\"><div class=\"wandb-col\"><h3>Run history:</h3><br/><table class=\"wandb\"><tr><td>epoch</td><td>▁▁▂▂▂▃▃▄▄▄▅▅▅▆▆▇▇▇██</td></tr><tr><td>k_shot</td><td>▁▁▁▁▁▁▁▁▁▁▁▁▁▁▁▁▁▁▁▁</td></tr><tr><td>test_acc</td><td>▃▁▃▄▅▅▆▆▆▇▇▇████████</td></tr><tr><td>test_balanced_acc</td><td>▁▁▁▂▂▃▃▄▅▅▅▆▇▇▇█████</td></tr><tr><td>test_f1</td><td>▂▁▂▃▄▄▅▆▆▆▇▇█████▇██</td></tr><tr><td>test_loss</td><td>███▇▇▇▇▇▇▇▇▆▆▆▆▆▅▄▂▁</td></tr><tr><td>test_precision</td><td>▁▁▁▂▂▃▃▄▄▅▅▆▆▇▇▇████</td></tr><tr><td>test_recall</td><td>▃▁▃▄▅▅▆▆▆▇▇▇████████</td></tr><tr><td>train_acc</td><td>▂▁▁▁▁▂▃▂▂▃▄▅▅▄▅▆▆▆▆█</td></tr><tr><td>train_loss</td><td>█▇▇▆▇▆▆▆▆▆▅▅▅▅▅▄▄▄▃▁</td></tr></table><br/></div><div class=\"wandb-col\"><h3>Run summary:</h3><br/><table class=\"wandb\"><tr><td>epoch</td><td>20</td></tr><tr><td>k_shot</td><td>100</td></tr><tr><td>test_acc</td><td>0.72229</td></tr><tr><td>test_balanced_acc</td><td>0.77342</td></tr><tr><td>test_f1</td><td>0.72564</td></tr><tr><td>test_loss</td><td>0.60263</td></tr><tr><td>test_precision</td><td>0.8167</td></tr><tr><td>test_recall</td><td>0.72229</td></tr><tr><td>train_acc</td><td>0.83</td></tr><tr><td>train_loss</td><td>0.54994</td></tr></table><br/></div></div>"
            ],
            "text/plain": [
              "<IPython.core.display.HTML object>"
            ]
          },
          "metadata": {},
          "output_type": "display_data"
        },
        {
          "data": {
            "text/html": [
              " View run <strong style=\"color:#cdcd00\">GRU-Bah-FastText_K-100_Training</strong> at: <a href='https://wandb.ai/wilfried-mvomoeto-university-of-li-ge/Few-Shot-Binary-Class-Training_gru_glove_fastText_Bahdanau-GRU-Bah-FastText-/runs/voyet3uo' target=\"_blank\">https://wandb.ai/wilfried-mvomoeto-university-of-li-ge/Few-Shot-Binary-Class-Training_gru_glove_fastText_Bahdanau-GRU-Bah-FastText-/runs/voyet3uo</a><br> View project at: <a href='https://wandb.ai/wilfried-mvomoeto-university-of-li-ge/Few-Shot-Binary-Class-Training_gru_glove_fastText_Bahdanau-GRU-Bah-FastText-' target=\"_blank\">https://wandb.ai/wilfried-mvomoeto-university-of-li-ge/Few-Shot-Binary-Class-Training_gru_glove_fastText_Bahdanau-GRU-Bah-FastText-</a><br>Synced 5 W&B file(s), 0 media file(s), 0 artifact file(s) and 0 other file(s)"
            ],
            "text/plain": [
              "<IPython.core.display.HTML object>"
            ]
          },
          "metadata": {},
          "output_type": "display_data"
        },
        {
          "data": {
            "text/html": [
              "Find logs at: <code>./wandb/run-20250501_183214-voyet3uo/logs</code>"
            ],
            "text/plain": [
              "<IPython.core.display.HTML object>"
            ]
          },
          "metadata": {},
          "output_type": "display_data"
        },
        {
          "data": {
            "text/html": [
              "Tracking run with wandb version 0.19.10"
            ],
            "text/plain": [
              "<IPython.core.display.HTML object>"
            ]
          },
          "metadata": {},
          "output_type": "display_data"
        },
        {
          "data": {
            "text/html": [
              "Run data is saved locally in <code>/content/wandb/run-20250501_183240-vhdu5m6c</code>"
            ],
            "text/plain": [
              "<IPython.core.display.HTML object>"
            ]
          },
          "metadata": {},
          "output_type": "display_data"
        },
        {
          "data": {
            "text/html": [
              "Syncing run <strong><a href='https://wandb.ai/wilfried-mvomoeto-university-of-li-ge/Few-Shot-Binary-Class-Training_gru_glove_fastText_Bahdanau-CNN_LSTM-/runs/vhdu5m6c' target=\"_blank\">CNN_LSTM_K-100_Training</a></strong> to <a href='https://wandb.ai/wilfried-mvomoeto-university-of-li-ge/Few-Shot-Binary-Class-Training_gru_glove_fastText_Bahdanau-CNN_LSTM-' target=\"_blank\">Weights & Biases</a> (<a href='https://wandb.me/developer-guide' target=\"_blank\">docs</a>)<br>"
            ],
            "text/plain": [
              "<IPython.core.display.HTML object>"
            ]
          },
          "metadata": {},
          "output_type": "display_data"
        },
        {
          "data": {
            "text/html": [
              " View project at <a href='https://wandb.ai/wilfried-mvomoeto-university-of-li-ge/Few-Shot-Binary-Class-Training_gru_glove_fastText_Bahdanau-CNN_LSTM-' target=\"_blank\">https://wandb.ai/wilfried-mvomoeto-university-of-li-ge/Few-Shot-Binary-Class-Training_gru_glove_fastText_Bahdanau-CNN_LSTM-</a>"
            ],
            "text/plain": [
              "<IPython.core.display.HTML object>"
            ]
          },
          "metadata": {},
          "output_type": "display_data"
        },
        {
          "data": {
            "text/html": [
              " View run at <a href='https://wandb.ai/wilfried-mvomoeto-university-of-li-ge/Few-Shot-Binary-Class-Training_gru_glove_fastText_Bahdanau-CNN_LSTM-/runs/vhdu5m6c' target=\"_blank\">https://wandb.ai/wilfried-mvomoeto-university-of-li-ge/Few-Shot-Binary-Class-Training_gru_glove_fastText_Bahdanau-CNN_LSTM-/runs/vhdu5m6c</a>"
            ],
            "text/plain": [
              "<IPython.core.display.HTML object>"
            ]
          },
          "metadata": {},
          "output_type": "display_data"
        },
        {
          "name": "stderr",
          "output_type": "stream",
          "text": [
            "CNN_LSTM K-100 Epoch 5/1000 - Train Loss: 0.6928, Test Loss: 0.6885, Train Acc: 49.00%, Test Acc: 64.49%, Test F1: 50.68%, Test Balanced Acc: 49.96%, Test Recall: 64.49%, Test Precision: 48.76%, Time: 0.54 sec:   0%|          | 5/1000 [00:03<11:56,  1.39epoch/s]"
          ]
        },
        {
          "name": "stdout",
          "output_type": "stream",
          "text": [
            "Early stopping triggered at epoch 6\n",
            "Model CNN_LSTM_K-100 saved with loss gap > 1.25 or accuracy gap > 10% at epoch 5.\n"
          ]
        },
        {
          "name": "stderr",
          "output_type": "stream",
          "text": [
            "\n",
            "<ipython-input-10-f03193db776b>:44: UserWarning: To copy construct from a tensor, it is recommended to use sourceTensor.clone().detach() or sourceTensor.clone().detach().requires_grad_(True), rather than torch.tensor(sourceTensor).\n",
            "  self.X = torch.tensor(X_data, dtype=torch.long)\n",
            "<ipython-input-10-f03193db776b>:45: UserWarning: To copy construct from a tensor, it is recommended to use sourceTensor.clone().detach() or sourceTensor.clone().detach().requires_grad_(True), rather than torch.tensor(sourceTensor).\n",
            "  self.y = torch.tensor(y_data, dtype=torch.long)\n"
          ]
        },
        {
          "data": {
            "text/html": [
              "Finishing previous runs because reinit is set to 'default'."
            ],
            "text/plain": [
              "<IPython.core.display.HTML object>"
            ]
          },
          "metadata": {},
          "output_type": "display_data"
        },
        {
          "data": {
            "text/html": [],
            "text/plain": [
              "<IPython.core.display.HTML object>"
            ]
          },
          "metadata": {},
          "output_type": "display_data"
        },
        {
          "data": {
            "text/html": [
              "<br>    <style><br>        .wandb-row {<br>            display: flex;<br>            flex-direction: row;<br>            flex-wrap: wrap;<br>            justify-content: flex-start;<br>            width: 100%;<br>        }<br>        .wandb-col {<br>            display: flex;<br>            flex-direction: column;<br>            flex-basis: 100%;<br>            flex: 1;<br>            padding: 10px;<br>        }<br>    </style><br><div class=\"wandb-row\"><div class=\"wandb-col\"><h3>Run history:</h3><br/><table class=\"wandb\"><tr><td>epoch</td><td>▁▂▄▅▇█</td></tr><tr><td>k_shot</td><td>▁▁▁▁▁▁</td></tr><tr><td>test_acc</td><td>█████▁</td></tr><tr><td>test_balanced_acc</td><td>▅███▁█</td></tr><tr><td>test_f1</td><td>█████▁</td></tr><tr><td>test_loss</td><td>▄▃▁▅▄█</td></tr><tr><td>test_precision</td><td>▇▇▇▇█▁</td></tr><tr><td>test_recall</td><td>█████▁</td></tr><tr><td>train_acc</td><td>▄█▇█▅▁</td></tr><tr><td>train_loss</td><td>█▁▃▃▁▂</td></tr></table><br/></div><div class=\"wandb-col\"><h3>Run summary:</h3><br/><table class=\"wandb\"><tr><td>epoch</td><td>6</td></tr><tr><td>k_shot</td><td>100</td></tr><tr><td>test_acc</td><td>0.35433</td></tr><tr><td>test_balanced_acc</td><td>0.5</td></tr><tr><td>test_f1</td><td>0.1854</td></tr><tr><td>test_loss</td><td>0.69508</td></tr><tr><td>test_precision</td><td>0.12555</td></tr><tr><td>test_recall</td><td>0.35433</td></tr><tr><td>train_acc</td><td>0.47</td></tr><tr><td>train_loss</td><td>0.69425</td></tr></table><br/></div></div>"
            ],
            "text/plain": [
              "<IPython.core.display.HTML object>"
            ]
          },
          "metadata": {},
          "output_type": "display_data"
        },
        {
          "data": {
            "text/html": [
              " View run <strong style=\"color:#cdcd00\">CNN_LSTM_K-100_Training</strong> at: <a href='https://wandb.ai/wilfried-mvomoeto-university-of-li-ge/Few-Shot-Binary-Class-Training_gru_glove_fastText_Bahdanau-CNN_LSTM-/runs/vhdu5m6c' target=\"_blank\">https://wandb.ai/wilfried-mvomoeto-university-of-li-ge/Few-Shot-Binary-Class-Training_gru_glove_fastText_Bahdanau-CNN_LSTM-/runs/vhdu5m6c</a><br> View project at: <a href='https://wandb.ai/wilfried-mvomoeto-university-of-li-ge/Few-Shot-Binary-Class-Training_gru_glove_fastText_Bahdanau-CNN_LSTM-' target=\"_blank\">https://wandb.ai/wilfried-mvomoeto-university-of-li-ge/Few-Shot-Binary-Class-Training_gru_glove_fastText_Bahdanau-CNN_LSTM-</a><br>Synced 5 W&B file(s), 0 media file(s), 0 artifact file(s) and 0 other file(s)"
            ],
            "text/plain": [
              "<IPython.core.display.HTML object>"
            ]
          },
          "metadata": {},
          "output_type": "display_data"
        },
        {
          "data": {
            "text/html": [
              "Find logs at: <code>./wandb/run-20250501_183240-vhdu5m6c/logs</code>"
            ],
            "text/plain": [
              "<IPython.core.display.HTML object>"
            ]
          },
          "metadata": {},
          "output_type": "display_data"
        },
        {
          "data": {
            "text/html": [
              "Tracking run with wandb version 0.19.10"
            ],
            "text/plain": [
              "<IPython.core.display.HTML object>"
            ]
          },
          "metadata": {},
          "output_type": "display_data"
        },
        {
          "data": {
            "text/html": [
              "Run data is saved locally in <code>/content/wandb/run-20250501_183251-46gntb1o</code>"
            ],
            "text/plain": [
              "<IPython.core.display.HTML object>"
            ]
          },
          "metadata": {},
          "output_type": "display_data"
        },
        {
          "data": {
            "text/html": [
              "Syncing run <strong><a href='https://wandb.ai/wilfried-mvomoeto-university-of-li-ge/Few-Shot-Binary-Class-Training_gru_glove_fastText_Bahdanau-GRU-Glove-/runs/46gntb1o' target=\"_blank\">GRU-Glove_K-100_Training</a></strong> to <a href='https://wandb.ai/wilfried-mvomoeto-university-of-li-ge/Few-Shot-Binary-Class-Training_gru_glove_fastText_Bahdanau-GRU-Glove-' target=\"_blank\">Weights & Biases</a> (<a href='https://wandb.me/developer-guide' target=\"_blank\">docs</a>)<br>"
            ],
            "text/plain": [
              "<IPython.core.display.HTML object>"
            ]
          },
          "metadata": {},
          "output_type": "display_data"
        },
        {
          "data": {
            "text/html": [
              " View project at <a href='https://wandb.ai/wilfried-mvomoeto-university-of-li-ge/Few-Shot-Binary-Class-Training_gru_glove_fastText_Bahdanau-GRU-Glove-' target=\"_blank\">https://wandb.ai/wilfried-mvomoeto-university-of-li-ge/Few-Shot-Binary-Class-Training_gru_glove_fastText_Bahdanau-GRU-Glove-</a>"
            ],
            "text/plain": [
              "<IPython.core.display.HTML object>"
            ]
          },
          "metadata": {},
          "output_type": "display_data"
        },
        {
          "data": {
            "text/html": [
              " View run at <a href='https://wandb.ai/wilfried-mvomoeto-university-of-li-ge/Few-Shot-Binary-Class-Training_gru_glove_fastText_Bahdanau-GRU-Glove-/runs/46gntb1o' target=\"_blank\">https://wandb.ai/wilfried-mvomoeto-university-of-li-ge/Few-Shot-Binary-Class-Training_gru_glove_fastText_Bahdanau-GRU-Glove-/runs/46gntb1o</a>"
            ],
            "text/plain": [
              "<IPython.core.display.HTML object>"
            ]
          },
          "metadata": {},
          "output_type": "display_data"
        },
        {
          "name": "stderr",
          "output_type": "stream",
          "text": [
            "Training GRU-Glove with 100-shot:   0%|          | 0/1000 [00:00<?, ?epoch/s]"
          ]
        },
        {
          "name": "stdout",
          "output_type": "stream",
          "text": [
            "Early stopping triggered at epoch 1\n",
            "Model GRU-Glove_K-100 saved with loss gap > 1.25 or accuracy gap > 10% at epoch 0.\n"
          ]
        },
        {
          "name": "stderr",
          "output_type": "stream",
          "text": [
            "\n",
            "<ipython-input-10-f03193db776b>:44: UserWarning: To copy construct from a tensor, it is recommended to use sourceTensor.clone().detach() or sourceTensor.clone().detach().requires_grad_(True), rather than torch.tensor(sourceTensor).\n",
            "  self.X = torch.tensor(X_data, dtype=torch.long)\n",
            "<ipython-input-10-f03193db776b>:45: UserWarning: To copy construct from a tensor, it is recommended to use sourceTensor.clone().detach() or sourceTensor.clone().detach().requires_grad_(True), rather than torch.tensor(sourceTensor).\n",
            "  self.y = torch.tensor(y_data, dtype=torch.long)\n"
          ]
        },
        {
          "data": {
            "text/html": [
              "Finishing previous runs because reinit is set to 'default'."
            ],
            "text/plain": [
              "<IPython.core.display.HTML object>"
            ]
          },
          "metadata": {},
          "output_type": "display_data"
        },
        {
          "data": {
            "text/html": [],
            "text/plain": [
              "<IPython.core.display.HTML object>"
            ]
          },
          "metadata": {},
          "output_type": "display_data"
        },
        {
          "data": {
            "text/html": [
              "<br>    <style><br>        .wandb-row {<br>            display: flex;<br>            flex-direction: row;<br>            flex-wrap: wrap;<br>            justify-content: flex-start;<br>            width: 100%;<br>        }<br>        .wandb-col {<br>            display: flex;<br>            flex-direction: column;<br>            flex-basis: 100%;<br>            flex: 1;<br>            padding: 10px;<br>        }<br>    </style><br><div class=\"wandb-row\"><div class=\"wandb-col\"><h3>Run history:</h3><br/><table class=\"wandb\"><tr><td>epoch</td><td>▁</td></tr><tr><td>k_shot</td><td>▁</td></tr><tr><td>test_acc</td><td>▁</td></tr><tr><td>test_balanced_acc</td><td>▁</td></tr><tr><td>test_f1</td><td>▁</td></tr><tr><td>test_loss</td><td>▁</td></tr><tr><td>test_precision</td><td>▁</td></tr><tr><td>test_recall</td><td>▁</td></tr><tr><td>train_acc</td><td>▁</td></tr><tr><td>train_loss</td><td>▁</td></tr></table><br/></div><div class=\"wandb-col\"><h3>Run summary:</h3><br/><table class=\"wandb\"><tr><td>epoch</td><td>1</td></tr><tr><td>k_shot</td><td>100</td></tr><tr><td>test_acc</td><td>0.35482</td></tr><tr><td>test_balanced_acc</td><td>0.49896</td></tr><tr><td>test_f1</td><td>0.19032</td></tr><tr><td>test_loss</td><td>0.70793</td></tr><tr><td>test_precision</td><td>0.4805</td></tr><tr><td>test_recall</td><td>0.35482</td></tr><tr><td>train_acc</td><td>0.515</td></tr><tr><td>train_loss</td><td>0.69495</td></tr></table><br/></div></div>"
            ],
            "text/plain": [
              "<IPython.core.display.HTML object>"
            ]
          },
          "metadata": {},
          "output_type": "display_data"
        },
        {
          "data": {
            "text/html": [
              " View run <strong style=\"color:#cdcd00\">GRU-Glove_K-100_Training</strong> at: <a href='https://wandb.ai/wilfried-mvomoeto-university-of-li-ge/Few-Shot-Binary-Class-Training_gru_glove_fastText_Bahdanau-GRU-Glove-/runs/46gntb1o' target=\"_blank\">https://wandb.ai/wilfried-mvomoeto-university-of-li-ge/Few-Shot-Binary-Class-Training_gru_glove_fastText_Bahdanau-GRU-Glove-/runs/46gntb1o</a><br> View project at: <a href='https://wandb.ai/wilfried-mvomoeto-university-of-li-ge/Few-Shot-Binary-Class-Training_gru_glove_fastText_Bahdanau-GRU-Glove-' target=\"_blank\">https://wandb.ai/wilfried-mvomoeto-university-of-li-ge/Few-Shot-Binary-Class-Training_gru_glove_fastText_Bahdanau-GRU-Glove-</a><br>Synced 5 W&B file(s), 0 media file(s), 0 artifact file(s) and 0 other file(s)"
            ],
            "text/plain": [
              "<IPython.core.display.HTML object>"
            ]
          },
          "metadata": {},
          "output_type": "display_data"
        },
        {
          "data": {
            "text/html": [
              "Find logs at: <code>./wandb/run-20250501_183251-46gntb1o/logs</code>"
            ],
            "text/plain": [
              "<IPython.core.display.HTML object>"
            ]
          },
          "metadata": {},
          "output_type": "display_data"
        },
        {
          "data": {
            "text/html": [
              "Tracking run with wandb version 0.19.10"
            ],
            "text/plain": [
              "<IPython.core.display.HTML object>"
            ]
          },
          "metadata": {},
          "output_type": "display_data"
        },
        {
          "data": {
            "text/html": [
              "Run data is saved locally in <code>/content/wandb/run-20250501_183259-3q37nb9a</code>"
            ],
            "text/plain": [
              "<IPython.core.display.HTML object>"
            ]
          },
          "metadata": {},
          "output_type": "display_data"
        },
        {
          "data": {
            "text/html": [
              "Syncing run <strong><a href='https://wandb.ai/wilfried-mvomoeto-university-of-li-ge/Few-Shot-Binary-Class-Training_gru_glove_fastText_Bahdanau-GRU-FastText-/runs/3q37nb9a' target=\"_blank\">GRU-FastText_K-100_Training</a></strong> to <a href='https://wandb.ai/wilfried-mvomoeto-university-of-li-ge/Few-Shot-Binary-Class-Training_gru_glove_fastText_Bahdanau-GRU-FastText-' target=\"_blank\">Weights & Biases</a> (<a href='https://wandb.me/developer-guide' target=\"_blank\">docs</a>)<br>"
            ],
            "text/plain": [
              "<IPython.core.display.HTML object>"
            ]
          },
          "metadata": {},
          "output_type": "display_data"
        },
        {
          "data": {
            "text/html": [
              " View project at <a href='https://wandb.ai/wilfried-mvomoeto-university-of-li-ge/Few-Shot-Binary-Class-Training_gru_glove_fastText_Bahdanau-GRU-FastText-' target=\"_blank\">https://wandb.ai/wilfried-mvomoeto-university-of-li-ge/Few-Shot-Binary-Class-Training_gru_glove_fastText_Bahdanau-GRU-FastText-</a>"
            ],
            "text/plain": [
              "<IPython.core.display.HTML object>"
            ]
          },
          "metadata": {},
          "output_type": "display_data"
        },
        {
          "data": {
            "text/html": [
              " View run at <a href='https://wandb.ai/wilfried-mvomoeto-university-of-li-ge/Few-Shot-Binary-Class-Training_gru_glove_fastText_Bahdanau-GRU-FastText-/runs/3q37nb9a' target=\"_blank\">https://wandb.ai/wilfried-mvomoeto-university-of-li-ge/Few-Shot-Binary-Class-Training_gru_glove_fastText_Bahdanau-GRU-FastText-/runs/3q37nb9a</a>"
            ],
            "text/plain": [
              "<IPython.core.display.HTML object>"
            ]
          },
          "metadata": {},
          "output_type": "display_data"
        },
        {
          "name": "stderr",
          "output_type": "stream",
          "text": [
            "GRU-FastText K-100 Epoch 1/1000 - Train Loss: 0.7088, Test Loss: 0.6788, Train Acc: 45.50%, Test Acc: 64.49%, Test F1: 50.85%, Test Balanced Acc: 50.02%, Test Recall: 64.49%, Test Precision: 55.32%, Time: 0.57 sec:   0%|          | 1/1000 [00:01<19:33,  1.17s/epoch]"
          ]
        },
        {
          "name": "stdout",
          "output_type": "stream",
          "text": [
            "Early stopping triggered at epoch 2\n",
            "Model GRU-FastText_K-100 saved with loss gap > 1.25 or accuracy gap > 10% at epoch 1.\n",
            "\n",
            "Training with 150-shot...\n"
          ]
        },
        {
          "name": "stderr",
          "output_type": "stream",
          "text": [
            "\n",
            "<ipython-input-10-f03193db776b>:44: UserWarning: To copy construct from a tensor, it is recommended to use sourceTensor.clone().detach() or sourceTensor.clone().detach().requires_grad_(True), rather than torch.tensor(sourceTensor).\n",
            "  self.X = torch.tensor(X_data, dtype=torch.long)\n",
            "<ipython-input-10-f03193db776b>:45: UserWarning: To copy construct from a tensor, it is recommended to use sourceTensor.clone().detach() or sourceTensor.clone().detach().requires_grad_(True), rather than torch.tensor(sourceTensor).\n",
            "  self.y = torch.tensor(y_data, dtype=torch.long)\n"
          ]
        },
        {
          "data": {
            "text/html": [
              "Finishing previous runs because reinit is set to 'default'."
            ],
            "text/plain": [
              "<IPython.core.display.HTML object>"
            ]
          },
          "metadata": {},
          "output_type": "display_data"
        },
        {
          "data": {
            "text/html": [],
            "text/plain": [
              "<IPython.core.display.HTML object>"
            ]
          },
          "metadata": {},
          "output_type": "display_data"
        },
        {
          "data": {
            "text/html": [
              "<br>    <style><br>        .wandb-row {<br>            display: flex;<br>            flex-direction: row;<br>            flex-wrap: wrap;<br>            justify-content: flex-start;<br>            width: 100%;<br>        }<br>        .wandb-col {<br>            display: flex;<br>            flex-direction: column;<br>            flex-basis: 100%;<br>            flex: 1;<br>            padding: 10px;<br>        }<br>    </style><br><div class=\"wandb-row\"><div class=\"wandb-col\"><h3>Run history:</h3><br/><table class=\"wandb\"><tr><td>epoch</td><td>▁█</td></tr><tr><td>k_shot</td><td>▁▁</td></tr><tr><td>test_acc</td><td>█▁</td></tr><tr><td>test_balanced_acc</td><td>█▁</td></tr><tr><td>test_f1</td><td>█▁</td></tr><tr><td>test_loss</td><td>▁█</td></tr><tr><td>test_precision</td><td>█▁</td></tr><tr><td>test_recall</td><td>█▁</td></tr><tr><td>train_acc</td><td>▁█</td></tr><tr><td>train_loss</td><td>█▁</td></tr></table><br/></div><div class=\"wandb-col\"><h3>Run summary:</h3><br/><table class=\"wandb\"><tr><td>epoch</td><td>2</td></tr><tr><td>k_shot</td><td>100</td></tr><tr><td>test_acc</td><td>0.35457</td></tr><tr><td>test_balanced_acc</td><td>0.4983</td></tr><tr><td>test_f1</td><td>0.19108</td></tr><tr><td>test_loss</td><td>0.70116</td></tr><tr><td>test_precision</td><td>0.46102</td></tr><tr><td>test_recall</td><td>0.35457</td></tr><tr><td>train_acc</td><td>0.47</td></tr><tr><td>train_loss</td><td>0.70872</td></tr></table><br/></div></div>"
            ],
            "text/plain": [
              "<IPython.core.display.HTML object>"
            ]
          },
          "metadata": {},
          "output_type": "display_data"
        },
        {
          "data": {
            "text/html": [
              " View run <strong style=\"color:#cdcd00\">GRU-FastText_K-100_Training</strong> at: <a href='https://wandb.ai/wilfried-mvomoeto-university-of-li-ge/Few-Shot-Binary-Class-Training_gru_glove_fastText_Bahdanau-GRU-FastText-/runs/3q37nb9a' target=\"_blank\">https://wandb.ai/wilfried-mvomoeto-university-of-li-ge/Few-Shot-Binary-Class-Training_gru_glove_fastText_Bahdanau-GRU-FastText-/runs/3q37nb9a</a><br> View project at: <a href='https://wandb.ai/wilfried-mvomoeto-university-of-li-ge/Few-Shot-Binary-Class-Training_gru_glove_fastText_Bahdanau-GRU-FastText-' target=\"_blank\">https://wandb.ai/wilfried-mvomoeto-university-of-li-ge/Few-Shot-Binary-Class-Training_gru_glove_fastText_Bahdanau-GRU-FastText-</a><br>Synced 5 W&B file(s), 0 media file(s), 0 artifact file(s) and 0 other file(s)"
            ],
            "text/plain": [
              "<IPython.core.display.HTML object>"
            ]
          },
          "metadata": {},
          "output_type": "display_data"
        },
        {
          "data": {
            "text/html": [
              "Find logs at: <code>./wandb/run-20250501_183259-3q37nb9a/logs</code>"
            ],
            "text/plain": [
              "<IPython.core.display.HTML object>"
            ]
          },
          "metadata": {},
          "output_type": "display_data"
        },
        {
          "data": {
            "text/html": [
              "Tracking run with wandb version 0.19.10"
            ],
            "text/plain": [
              "<IPython.core.display.HTML object>"
            ]
          },
          "metadata": {},
          "output_type": "display_data"
        },
        {
          "data": {
            "text/html": [
              "Run data is saved locally in <code>/content/wandb/run-20250501_183308-iadhpiuu</code>"
            ],
            "text/plain": [
              "<IPython.core.display.HTML object>"
            ]
          },
          "metadata": {},
          "output_type": "display_data"
        },
        {
          "data": {
            "text/html": [
              "Syncing run <strong><a href='https://wandb.ai/wilfried-mvomoeto-university-of-li-ge/Few-Shot-Binary-Class-Training_gru_glove_fastText_Bahdanau-GRU-Bah-Glove-/runs/iadhpiuu' target=\"_blank\">GRU-Bah-Glove_K-150_Training</a></strong> to <a href='https://wandb.ai/wilfried-mvomoeto-university-of-li-ge/Few-Shot-Binary-Class-Training_gru_glove_fastText_Bahdanau-GRU-Bah-Glove-' target=\"_blank\">Weights & Biases</a> (<a href='https://wandb.me/developer-guide' target=\"_blank\">docs</a>)<br>"
            ],
            "text/plain": [
              "<IPython.core.display.HTML object>"
            ]
          },
          "metadata": {},
          "output_type": "display_data"
        },
        {
          "data": {
            "text/html": [
              " View project at <a href='https://wandb.ai/wilfried-mvomoeto-university-of-li-ge/Few-Shot-Binary-Class-Training_gru_glove_fastText_Bahdanau-GRU-Bah-Glove-' target=\"_blank\">https://wandb.ai/wilfried-mvomoeto-university-of-li-ge/Few-Shot-Binary-Class-Training_gru_glove_fastText_Bahdanau-GRU-Bah-Glove-</a>"
            ],
            "text/plain": [
              "<IPython.core.display.HTML object>"
            ]
          },
          "metadata": {},
          "output_type": "display_data"
        },
        {
          "data": {
            "text/html": [
              " View run at <a href='https://wandb.ai/wilfried-mvomoeto-university-of-li-ge/Few-Shot-Binary-Class-Training_gru_glove_fastText_Bahdanau-GRU-Bah-Glove-/runs/iadhpiuu' target=\"_blank\">https://wandb.ai/wilfried-mvomoeto-university-of-li-ge/Few-Shot-Binary-Class-Training_gru_glove_fastText_Bahdanau-GRU-Bah-Glove-/runs/iadhpiuu</a>"
            ],
            "text/plain": [
              "<IPython.core.display.HTML object>"
            ]
          },
          "metadata": {},
          "output_type": "display_data"
        },
        {
          "name": "stderr",
          "output_type": "stream",
          "text": [
            "GRU-Bah-Glove K-150 Epoch 1/1000 - Train Loss: 0.7382, Test Loss: 0.6964, Train Acc: 48.00%, Test Acc: 44.81%, Test F1: 45.17%, Test Balanced Acc: 48.16%, Test Recall: 44.81%, Test Precision: 52.33%, Time: 1.05 sec:   0%|          | 1/1000 [00:02<36:05,  2.17s/epoch]"
          ]
        },
        {
          "name": "stdout",
          "output_type": "stream",
          "text": [
            "Early stopping triggered at epoch 2\n",
            "Model GRU-Bah-Glove_K-150 saved with loss gap > 1.25 or accuracy gap > 10% at epoch 1.\n"
          ]
        },
        {
          "name": "stderr",
          "output_type": "stream",
          "text": [
            "\n",
            "<ipython-input-10-f03193db776b>:44: UserWarning: To copy construct from a tensor, it is recommended to use sourceTensor.clone().detach() or sourceTensor.clone().detach().requires_grad_(True), rather than torch.tensor(sourceTensor).\n",
            "  self.X = torch.tensor(X_data, dtype=torch.long)\n",
            "<ipython-input-10-f03193db776b>:45: UserWarning: To copy construct from a tensor, it is recommended to use sourceTensor.clone().detach() or sourceTensor.clone().detach().requires_grad_(True), rather than torch.tensor(sourceTensor).\n",
            "  self.y = torch.tensor(y_data, dtype=torch.long)\n"
          ]
        },
        {
          "data": {
            "text/html": [
              "Finishing previous runs because reinit is set to 'default'."
            ],
            "text/plain": [
              "<IPython.core.display.HTML object>"
            ]
          },
          "metadata": {},
          "output_type": "display_data"
        },
        {
          "data": {
            "text/html": [],
            "text/plain": [
              "<IPython.core.display.HTML object>"
            ]
          },
          "metadata": {},
          "output_type": "display_data"
        },
        {
          "data": {
            "text/html": [
              "<br>    <style><br>        .wandb-row {<br>            display: flex;<br>            flex-direction: row;<br>            flex-wrap: wrap;<br>            justify-content: flex-start;<br>            width: 100%;<br>        }<br>        .wandb-col {<br>            display: flex;<br>            flex-direction: column;<br>            flex-basis: 100%;<br>            flex: 1;<br>            padding: 10px;<br>        }<br>    </style><br><div class=\"wandb-row\"><div class=\"wandb-col\"><h3>Run history:</h3><br/><table class=\"wandb\"><tr><td>epoch</td><td>▁█</td></tr><tr><td>k_shot</td><td>▁▁</td></tr><tr><td>test_acc</td><td>█▁</td></tr><tr><td>test_balanced_acc</td><td>▁█</td></tr><tr><td>test_f1</td><td>█▁</td></tr><tr><td>test_loss</td><td>▁█</td></tr><tr><td>test_precision</td><td>▁█</td></tr><tr><td>test_recall</td><td>█▁</td></tr><tr><td>train_acc</td><td>▁█</td></tr><tr><td>train_loss</td><td>█▁</td></tr></table><br/></div><div class=\"wandb-col\"><h3>Run summary:</h3><br/><table class=\"wandb\"><tr><td>epoch</td><td>2</td></tr><tr><td>k_shot</td><td>150</td></tr><tr><td>test_acc</td><td>0.42698</td></tr><tr><td>test_balanced_acc</td><td>0.51095</td></tr><tr><td>test_f1</td><td>0.3919</td></tr><tr><td>test_loss</td><td>0.69947</td></tr><tr><td>test_precision</td><td>0.55975</td></tr><tr><td>test_recall</td><td>0.42698</td></tr><tr><td>train_acc</td><td>0.49</td></tr><tr><td>train_loss</td><td>0.69482</td></tr></table><br/></div></div>"
            ],
            "text/plain": [
              "<IPython.core.display.HTML object>"
            ]
          },
          "metadata": {},
          "output_type": "display_data"
        },
        {
          "data": {
            "text/html": [
              " View run <strong style=\"color:#cdcd00\">GRU-Bah-Glove_K-150_Training</strong> at: <a href='https://wandb.ai/wilfried-mvomoeto-university-of-li-ge/Few-Shot-Binary-Class-Training_gru_glove_fastText_Bahdanau-GRU-Bah-Glove-/runs/iadhpiuu' target=\"_blank\">https://wandb.ai/wilfried-mvomoeto-university-of-li-ge/Few-Shot-Binary-Class-Training_gru_glove_fastText_Bahdanau-GRU-Bah-Glove-/runs/iadhpiuu</a><br> View project at: <a href='https://wandb.ai/wilfried-mvomoeto-university-of-li-ge/Few-Shot-Binary-Class-Training_gru_glove_fastText_Bahdanau-GRU-Bah-Glove-' target=\"_blank\">https://wandb.ai/wilfried-mvomoeto-university-of-li-ge/Few-Shot-Binary-Class-Training_gru_glove_fastText_Bahdanau-GRU-Bah-Glove-</a><br>Synced 5 W&B file(s), 0 media file(s), 0 artifact file(s) and 0 other file(s)"
            ],
            "text/plain": [
              "<IPython.core.display.HTML object>"
            ]
          },
          "metadata": {},
          "output_type": "display_data"
        },
        {
          "data": {
            "text/html": [
              "Find logs at: <code>./wandb/run-20250501_183308-iadhpiuu/logs</code>"
            ],
            "text/plain": [
              "<IPython.core.display.HTML object>"
            ]
          },
          "metadata": {},
          "output_type": "display_data"
        },
        {
          "data": {
            "text/html": [
              "Tracking run with wandb version 0.19.10"
            ],
            "text/plain": [
              "<IPython.core.display.HTML object>"
            ]
          },
          "metadata": {},
          "output_type": "display_data"
        },
        {
          "data": {
            "text/html": [
              "Run data is saved locally in <code>/content/wandb/run-20250501_183318-r2n73z11</code>"
            ],
            "text/plain": [
              "<IPython.core.display.HTML object>"
            ]
          },
          "metadata": {},
          "output_type": "display_data"
        },
        {
          "data": {
            "text/html": [
              "Syncing run <strong><a href='https://wandb.ai/wilfried-mvomoeto-university-of-li-ge/Few-Shot-Binary-Class-Training_gru_glove_fastText_Bahdanau-GRU-Bah-FastText-/runs/r2n73z11' target=\"_blank\">GRU-Bah-FastText_K-150_Training</a></strong> to <a href='https://wandb.ai/wilfried-mvomoeto-university-of-li-ge/Few-Shot-Binary-Class-Training_gru_glove_fastText_Bahdanau-GRU-Bah-FastText-' target=\"_blank\">Weights & Biases</a> (<a href='https://wandb.me/developer-guide' target=\"_blank\">docs</a>)<br>"
            ],
            "text/plain": [
              "<IPython.core.display.HTML object>"
            ]
          },
          "metadata": {},
          "output_type": "display_data"
        },
        {
          "data": {
            "text/html": [
              " View project at <a href='https://wandb.ai/wilfried-mvomoeto-university-of-li-ge/Few-Shot-Binary-Class-Training_gru_glove_fastText_Bahdanau-GRU-Bah-FastText-' target=\"_blank\">https://wandb.ai/wilfried-mvomoeto-university-of-li-ge/Few-Shot-Binary-Class-Training_gru_glove_fastText_Bahdanau-GRU-Bah-FastText-</a>"
            ],
            "text/plain": [
              "<IPython.core.display.HTML object>"
            ]
          },
          "metadata": {},
          "output_type": "display_data"
        },
        {
          "data": {
            "text/html": [
              " View run at <a href='https://wandb.ai/wilfried-mvomoeto-university-of-li-ge/Few-Shot-Binary-Class-Training_gru_glove_fastText_Bahdanau-GRU-Bah-FastText-/runs/r2n73z11' target=\"_blank\">https://wandb.ai/wilfried-mvomoeto-university-of-li-ge/Few-Shot-Binary-Class-Training_gru_glove_fastText_Bahdanau-GRU-Bah-FastText-/runs/r2n73z11</a>"
            ],
            "text/plain": [
              "<IPython.core.display.HTML object>"
            ]
          },
          "metadata": {},
          "output_type": "display_data"
        },
        {
          "name": "stderr",
          "output_type": "stream",
          "text": [
            "Training GRU-Bah-FastText with 150-shot:   0%|          | 0/1000 [00:01<?, ?epoch/s]"
          ]
        },
        {
          "name": "stdout",
          "output_type": "stream",
          "text": [
            "Early stopping triggered at epoch 1\n",
            "Model GRU-Bah-FastText_K-150 saved with loss gap > 1.25 or accuracy gap > 10% at epoch 0.\n"
          ]
        },
        {
          "name": "stderr",
          "output_type": "stream",
          "text": [
            "\n",
            "<ipython-input-10-f03193db776b>:44: UserWarning: To copy construct from a tensor, it is recommended to use sourceTensor.clone().detach() or sourceTensor.clone().detach().requires_grad_(True), rather than torch.tensor(sourceTensor).\n",
            "  self.X = torch.tensor(X_data, dtype=torch.long)\n",
            "<ipython-input-10-f03193db776b>:45: UserWarning: To copy construct from a tensor, it is recommended to use sourceTensor.clone().detach() or sourceTensor.clone().detach().requires_grad_(True), rather than torch.tensor(sourceTensor).\n",
            "  self.y = torch.tensor(y_data, dtype=torch.long)\n"
          ]
        },
        {
          "data": {
            "text/html": [
              "Finishing previous runs because reinit is set to 'default'."
            ],
            "text/plain": [
              "<IPython.core.display.HTML object>"
            ]
          },
          "metadata": {},
          "output_type": "display_data"
        },
        {
          "data": {
            "text/html": [],
            "text/plain": [
              "<IPython.core.display.HTML object>"
            ]
          },
          "metadata": {},
          "output_type": "display_data"
        },
        {
          "data": {
            "text/html": [
              "<br>    <style><br>        .wandb-row {<br>            display: flex;<br>            flex-direction: row;<br>            flex-wrap: wrap;<br>            justify-content: flex-start;<br>            width: 100%;<br>        }<br>        .wandb-col {<br>            display: flex;<br>            flex-direction: column;<br>            flex-basis: 100%;<br>            flex: 1;<br>            padding: 10px;<br>        }<br>    </style><br><div class=\"wandb-row\"><div class=\"wandb-col\"><h3>Run history:</h3><br/><table class=\"wandb\"><tr><td>epoch</td><td>▁</td></tr><tr><td>k_shot</td><td>▁</td></tr><tr><td>test_acc</td><td>▁</td></tr><tr><td>test_balanced_acc</td><td>▁</td></tr><tr><td>test_f1</td><td>▁</td></tr><tr><td>test_loss</td><td>▁</td></tr><tr><td>test_precision</td><td>▁</td></tr><tr><td>test_recall</td><td>▁</td></tr><tr><td>train_acc</td><td>▁</td></tr><tr><td>train_loss</td><td>▁</td></tr></table><br/></div><div class=\"wandb-col\"><h3>Run summary:</h3><br/><table class=\"wandb\"><tr><td>epoch</td><td>1</td></tr><tr><td>k_shot</td><td>150</td></tr><tr><td>test_acc</td><td>0.40491</td></tr><tr><td>test_balanced_acc</td><td>0.50712</td></tr><tr><td>test_f1</td><td>0.34259</td></tr><tr><td>test_loss</td><td>0.70112</td></tr><tr><td>test_precision</td><td>0.55771</td></tr><tr><td>test_recall</td><td>0.40491</td></tr><tr><td>train_acc</td><td>0.48667</td></tr><tr><td>train_loss</td><td>0.72746</td></tr></table><br/></div></div>"
            ],
            "text/plain": [
              "<IPython.core.display.HTML object>"
            ]
          },
          "metadata": {},
          "output_type": "display_data"
        },
        {
          "data": {
            "text/html": [
              " View run <strong style=\"color:#cdcd00\">GRU-Bah-FastText_K-150_Training</strong> at: <a href='https://wandb.ai/wilfried-mvomoeto-university-of-li-ge/Few-Shot-Binary-Class-Training_gru_glove_fastText_Bahdanau-GRU-Bah-FastText-/runs/r2n73z11' target=\"_blank\">https://wandb.ai/wilfried-mvomoeto-university-of-li-ge/Few-Shot-Binary-Class-Training_gru_glove_fastText_Bahdanau-GRU-Bah-FastText-/runs/r2n73z11</a><br> View project at: <a href='https://wandb.ai/wilfried-mvomoeto-university-of-li-ge/Few-Shot-Binary-Class-Training_gru_glove_fastText_Bahdanau-GRU-Bah-FastText-' target=\"_blank\">https://wandb.ai/wilfried-mvomoeto-university-of-li-ge/Few-Shot-Binary-Class-Training_gru_glove_fastText_Bahdanau-GRU-Bah-FastText-</a><br>Synced 5 W&B file(s), 0 media file(s), 0 artifact file(s) and 0 other file(s)"
            ],
            "text/plain": [
              "<IPython.core.display.HTML object>"
            ]
          },
          "metadata": {},
          "output_type": "display_data"
        },
        {
          "data": {
            "text/html": [
              "Find logs at: <code>./wandb/run-20250501_183318-r2n73z11/logs</code>"
            ],
            "text/plain": [
              "<IPython.core.display.HTML object>"
            ]
          },
          "metadata": {},
          "output_type": "display_data"
        },
        {
          "data": {
            "text/html": [
              "Tracking run with wandb version 0.19.10"
            ],
            "text/plain": [
              "<IPython.core.display.HTML object>"
            ]
          },
          "metadata": {},
          "output_type": "display_data"
        },
        {
          "data": {
            "text/html": [
              "Run data is saved locally in <code>/content/wandb/run-20250501_183327-go76lba4</code>"
            ],
            "text/plain": [
              "<IPython.core.display.HTML object>"
            ]
          },
          "metadata": {},
          "output_type": "display_data"
        },
        {
          "data": {
            "text/html": [
              "Syncing run <strong><a href='https://wandb.ai/wilfried-mvomoeto-university-of-li-ge/Few-Shot-Binary-Class-Training_gru_glove_fastText_Bahdanau-CNN_LSTM-/runs/go76lba4' target=\"_blank\">CNN_LSTM_K-150_Training</a></strong> to <a href='https://wandb.ai/wilfried-mvomoeto-university-of-li-ge/Few-Shot-Binary-Class-Training_gru_glove_fastText_Bahdanau-CNN_LSTM-' target=\"_blank\">Weights & Biases</a> (<a href='https://wandb.me/developer-guide' target=\"_blank\">docs</a>)<br>"
            ],
            "text/plain": [
              "<IPython.core.display.HTML object>"
            ]
          },
          "metadata": {},
          "output_type": "display_data"
        },
        {
          "data": {
            "text/html": [
              " View project at <a href='https://wandb.ai/wilfried-mvomoeto-university-of-li-ge/Few-Shot-Binary-Class-Training_gru_glove_fastText_Bahdanau-CNN_LSTM-' target=\"_blank\">https://wandb.ai/wilfried-mvomoeto-university-of-li-ge/Few-Shot-Binary-Class-Training_gru_glove_fastText_Bahdanau-CNN_LSTM-</a>"
            ],
            "text/plain": [
              "<IPython.core.display.HTML object>"
            ]
          },
          "metadata": {},
          "output_type": "display_data"
        },
        {
          "data": {
            "text/html": [
              " View run at <a href='https://wandb.ai/wilfried-mvomoeto-university-of-li-ge/Few-Shot-Binary-Class-Training_gru_glove_fastText_Bahdanau-CNN_LSTM-/runs/go76lba4' target=\"_blank\">https://wandb.ai/wilfried-mvomoeto-university-of-li-ge/Few-Shot-Binary-Class-Training_gru_glove_fastText_Bahdanau-CNN_LSTM-/runs/go76lba4</a>"
            ],
            "text/plain": [
              "<IPython.core.display.HTML object>"
            ]
          },
          "metadata": {},
          "output_type": "display_data"
        },
        {
          "name": "stderr",
          "output_type": "stream",
          "text": [
            "CNN_LSTM K-150 Epoch 7/1000 - Train Loss: 0.6932, Test Loss: 0.6926, Train Acc: 49.00%, Test Acc: 64.59%, Test F1: 51.39%, Test Balanced Acc: 50.27%, Test Recall: 64.59%, Test Precision: 60.06%, Time: 0.60 sec:   1%|          | 7/1000 [00:04<11:34,  1.43epoch/s]"
          ]
        },
        {
          "name": "stdout",
          "output_type": "stream",
          "text": [
            "Early stopping triggered at epoch 8\n",
            "Model CNN_LSTM_K-150 saved with loss gap > 1.25 or accuracy gap > 10% at epoch 7.\n"
          ]
        },
        {
          "name": "stderr",
          "output_type": "stream",
          "text": [
            "\n",
            "<ipython-input-10-f03193db776b>:44: UserWarning: To copy construct from a tensor, it is recommended to use sourceTensor.clone().detach() or sourceTensor.clone().detach().requires_grad_(True), rather than torch.tensor(sourceTensor).\n",
            "  self.X = torch.tensor(X_data, dtype=torch.long)\n",
            "<ipython-input-10-f03193db776b>:45: UserWarning: To copy construct from a tensor, it is recommended to use sourceTensor.clone().detach() or sourceTensor.clone().detach().requires_grad_(True), rather than torch.tensor(sourceTensor).\n",
            "  self.y = torch.tensor(y_data, dtype=torch.long)\n"
          ]
        },
        {
          "data": {
            "text/html": [
              "Finishing previous runs because reinit is set to 'default'."
            ],
            "text/plain": [
              "<IPython.core.display.HTML object>"
            ]
          },
          "metadata": {},
          "output_type": "display_data"
        },
        {
          "data": {
            "text/html": [],
            "text/plain": [
              "<IPython.core.display.HTML object>"
            ]
          },
          "metadata": {},
          "output_type": "display_data"
        },
        {
          "data": {
            "text/html": [
              "<br>    <style><br>        .wandb-row {<br>            display: flex;<br>            flex-direction: row;<br>            flex-wrap: wrap;<br>            justify-content: flex-start;<br>            width: 100%;<br>        }<br>        .wandb-col {<br>            display: flex;<br>            flex-direction: column;<br>            flex-basis: 100%;<br>            flex: 1;<br>            padding: 10px;<br>        }<br>    </style><br><div class=\"wandb-row\"><div class=\"wandb-col\"><h3>Run history:</h3><br/><table class=\"wandb\"><tr><td>epoch</td><td>▁▂▃▄▅▆▇█</td></tr><tr><td>k_shot</td><td>▁▁▁▁▁▁▁▁</td></tr><tr><td>test_acc</td><td>███████▁</td></tr><tr><td>test_balanced_acc</td><td>▁▁▁▁▅▁█▃</td></tr><tr><td>test_f1</td><td>███████▁</td></tr><tr><td>test_loss</td><td>▁▅▇▅▆▄▇█</td></tr><tr><td>test_precision</td><td>▁▁▁▁█▁▅▇</td></tr><tr><td>test_recall</td><td>███████▁</td></tr><tr><td>train_acc</td><td>▂▆█▁▆▃▄▄</td></tr><tr><td>train_loss</td><td>█▆▁▆▂▂▁▃</td></tr></table><br/></div><div class=\"wandb-col\"><h3>Run summary:</h3><br/><table class=\"wandb\"><tr><td>epoch</td><td>8</td></tr><tr><td>k_shot</td><td>150</td></tr><tr><td>test_acc</td><td>0.35532</td></tr><tr><td>test_balanced_acc</td><td>0.50061</td></tr><tr><td>test_f1</td><td>0.18795</td></tr><tr><td>test_loss</td><td>0.69406</td></tr><tr><td>test_precision</td><td>0.66371</td></tr><tr><td>test_recall</td><td>0.35532</td></tr><tr><td>train_acc</td><td>0.49</td></tr><tr><td>train_loss</td><td>0.69425</td></tr></table><br/></div></div>"
            ],
            "text/plain": [
              "<IPython.core.display.HTML object>"
            ]
          },
          "metadata": {},
          "output_type": "display_data"
        },
        {
          "data": {
            "text/html": [
              " View run <strong style=\"color:#cdcd00\">CNN_LSTM_K-150_Training</strong> at: <a href='https://wandb.ai/wilfried-mvomoeto-university-of-li-ge/Few-Shot-Binary-Class-Training_gru_glove_fastText_Bahdanau-CNN_LSTM-/runs/go76lba4' target=\"_blank\">https://wandb.ai/wilfried-mvomoeto-university-of-li-ge/Few-Shot-Binary-Class-Training_gru_glove_fastText_Bahdanau-CNN_LSTM-/runs/go76lba4</a><br> View project at: <a href='https://wandb.ai/wilfried-mvomoeto-university-of-li-ge/Few-Shot-Binary-Class-Training_gru_glove_fastText_Bahdanau-CNN_LSTM-' target=\"_blank\">https://wandb.ai/wilfried-mvomoeto-university-of-li-ge/Few-Shot-Binary-Class-Training_gru_glove_fastText_Bahdanau-CNN_LSTM-</a><br>Synced 5 W&B file(s), 0 media file(s), 0 artifact file(s) and 0 other file(s)"
            ],
            "text/plain": [
              "<IPython.core.display.HTML object>"
            ]
          },
          "metadata": {},
          "output_type": "display_data"
        },
        {
          "data": {
            "text/html": [
              "Find logs at: <code>./wandb/run-20250501_183327-go76lba4/logs</code>"
            ],
            "text/plain": [
              "<IPython.core.display.HTML object>"
            ]
          },
          "metadata": {},
          "output_type": "display_data"
        },
        {
          "data": {
            "text/html": [
              "Tracking run with wandb version 0.19.10"
            ],
            "text/plain": [
              "<IPython.core.display.HTML object>"
            ]
          },
          "metadata": {},
          "output_type": "display_data"
        },
        {
          "data": {
            "text/html": [
              "Run data is saved locally in <code>/content/wandb/run-20250501_183340-de8l0xa5</code>"
            ],
            "text/plain": [
              "<IPython.core.display.HTML object>"
            ]
          },
          "metadata": {},
          "output_type": "display_data"
        },
        {
          "data": {
            "text/html": [
              "Syncing run <strong><a href='https://wandb.ai/wilfried-mvomoeto-university-of-li-ge/Few-Shot-Binary-Class-Training_gru_glove_fastText_Bahdanau-GRU-Glove-/runs/de8l0xa5' target=\"_blank\">GRU-Glove_K-150_Training</a></strong> to <a href='https://wandb.ai/wilfried-mvomoeto-university-of-li-ge/Few-Shot-Binary-Class-Training_gru_glove_fastText_Bahdanau-GRU-Glove-' target=\"_blank\">Weights & Biases</a> (<a href='https://wandb.me/developer-guide' target=\"_blank\">docs</a>)<br>"
            ],
            "text/plain": [
              "<IPython.core.display.HTML object>"
            ]
          },
          "metadata": {},
          "output_type": "display_data"
        },
        {
          "data": {
            "text/html": [
              " View project at <a href='https://wandb.ai/wilfried-mvomoeto-university-of-li-ge/Few-Shot-Binary-Class-Training_gru_glove_fastText_Bahdanau-GRU-Glove-' target=\"_blank\">https://wandb.ai/wilfried-mvomoeto-university-of-li-ge/Few-Shot-Binary-Class-Training_gru_glove_fastText_Bahdanau-GRU-Glove-</a>"
            ],
            "text/plain": [
              "<IPython.core.display.HTML object>"
            ]
          },
          "metadata": {},
          "output_type": "display_data"
        },
        {
          "data": {
            "text/html": [
              " View run at <a href='https://wandb.ai/wilfried-mvomoeto-university-of-li-ge/Few-Shot-Binary-Class-Training_gru_glove_fastText_Bahdanau-GRU-Glove-/runs/de8l0xa5' target=\"_blank\">https://wandb.ai/wilfried-mvomoeto-university-of-li-ge/Few-Shot-Binary-Class-Training_gru_glove_fastText_Bahdanau-GRU-Glove-/runs/de8l0xa5</a>"
            ],
            "text/plain": [
              "<IPython.core.display.HTML object>"
            ]
          },
          "metadata": {},
          "output_type": "display_data"
        },
        {
          "name": "stderr",
          "output_type": "stream",
          "text": [
            "GRU-Glove K-150 Epoch 1/1000 - Train Loss: 0.7806, Test Loss: 0.6603, Train Acc: 44.33%, Test Acc: 64.42%, Test F1: 50.86%, Test Balanced Acc: 49.98%, Test Recall: 64.42%, Test Precision: 53.49%, Time: 0.60 sec:   0%|          | 1/1000 [00:01<20:53,  1.25s/epoch]"
          ]
        },
        {
          "name": "stdout",
          "output_type": "stream",
          "text": [
            "Early stopping triggered at epoch 2\n",
            "Model GRU-Glove_K-150 saved with loss gap > 1.25 or accuracy gap > 10% at epoch 1.\n"
          ]
        },
        {
          "name": "stderr",
          "output_type": "stream",
          "text": [
            "\n",
            "<ipython-input-10-f03193db776b>:44: UserWarning: To copy construct from a tensor, it is recommended to use sourceTensor.clone().detach() or sourceTensor.clone().detach().requires_grad_(True), rather than torch.tensor(sourceTensor).\n",
            "  self.X = torch.tensor(X_data, dtype=torch.long)\n",
            "<ipython-input-10-f03193db776b>:45: UserWarning: To copy construct from a tensor, it is recommended to use sourceTensor.clone().detach() or sourceTensor.clone().detach().requires_grad_(True), rather than torch.tensor(sourceTensor).\n",
            "  self.y = torch.tensor(y_data, dtype=torch.long)\n"
          ]
        },
        {
          "data": {
            "text/html": [
              "Finishing previous runs because reinit is set to 'default'."
            ],
            "text/plain": [
              "<IPython.core.display.HTML object>"
            ]
          },
          "metadata": {},
          "output_type": "display_data"
        },
        {
          "data": {
            "text/html": [],
            "text/plain": [
              "<IPython.core.display.HTML object>"
            ]
          },
          "metadata": {},
          "output_type": "display_data"
        },
        {
          "data": {
            "text/html": [
              "<br>    <style><br>        .wandb-row {<br>            display: flex;<br>            flex-direction: row;<br>            flex-wrap: wrap;<br>            justify-content: flex-start;<br>            width: 100%;<br>        }<br>        .wandb-col {<br>            display: flex;<br>            flex-direction: column;<br>            flex-basis: 100%;<br>            flex: 1;<br>            padding: 10px;<br>        }<br>    </style><br><div class=\"wandb-row\"><div class=\"wandb-col\"><h3>Run history:</h3><br/><table class=\"wandb\"><tr><td>epoch</td><td>▁█</td></tr><tr><td>k_shot</td><td>▁▁</td></tr><tr><td>test_acc</td><td>█▁</td></tr><tr><td>test_balanced_acc</td><td>█▁</td></tr><tr><td>test_f1</td><td>█▁</td></tr><tr><td>test_loss</td><td>▁█</td></tr><tr><td>test_precision</td><td>█▁</td></tr><tr><td>test_recall</td><td>█▁</td></tr><tr><td>train_acc</td><td>▁█</td></tr><tr><td>train_loss</td><td>█▁</td></tr></table><br/></div><div class=\"wandb-col\"><h3>Run summary:</h3><br/><table class=\"wandb\"><tr><td>epoch</td><td>2</td></tr><tr><td>k_shot</td><td>150</td></tr><tr><td>test_acc</td><td>0.35358</td></tr><tr><td>test_balanced_acc</td><td>0.498</td></tr><tr><td>test_f1</td><td>0.1877</td></tr><tr><td>test_loss</td><td>0.73833</td></tr><tr><td>test_precision</td><td>0.38349</td></tr><tr><td>test_recall</td><td>0.35358</td></tr><tr><td>train_acc</td><td>0.49</td></tr><tr><td>train_loss</td><td>0.71402</td></tr></table><br/></div></div>"
            ],
            "text/plain": [
              "<IPython.core.display.HTML object>"
            ]
          },
          "metadata": {},
          "output_type": "display_data"
        },
        {
          "data": {
            "text/html": [
              " View run <strong style=\"color:#cdcd00\">GRU-Glove_K-150_Training</strong> at: <a href='https://wandb.ai/wilfried-mvomoeto-university-of-li-ge/Few-Shot-Binary-Class-Training_gru_glove_fastText_Bahdanau-GRU-Glove-/runs/de8l0xa5' target=\"_blank\">https://wandb.ai/wilfried-mvomoeto-university-of-li-ge/Few-Shot-Binary-Class-Training_gru_glove_fastText_Bahdanau-GRU-Glove-/runs/de8l0xa5</a><br> View project at: <a href='https://wandb.ai/wilfried-mvomoeto-university-of-li-ge/Few-Shot-Binary-Class-Training_gru_glove_fastText_Bahdanau-GRU-Glove-' target=\"_blank\">https://wandb.ai/wilfried-mvomoeto-university-of-li-ge/Few-Shot-Binary-Class-Training_gru_glove_fastText_Bahdanau-GRU-Glove-</a><br>Synced 5 W&B file(s), 0 media file(s), 0 artifact file(s) and 0 other file(s)"
            ],
            "text/plain": [
              "<IPython.core.display.HTML object>"
            ]
          },
          "metadata": {},
          "output_type": "display_data"
        },
        {
          "data": {
            "text/html": [
              "Find logs at: <code>./wandb/run-20250501_183340-de8l0xa5/logs</code>"
            ],
            "text/plain": [
              "<IPython.core.display.HTML object>"
            ]
          },
          "metadata": {},
          "output_type": "display_data"
        },
        {
          "data": {
            "text/html": [
              "Tracking run with wandb version 0.19.10"
            ],
            "text/plain": [
              "<IPython.core.display.HTML object>"
            ]
          },
          "metadata": {},
          "output_type": "display_data"
        },
        {
          "data": {
            "text/html": [
              "Run data is saved locally in <code>/content/wandb/run-20250501_183349-momv6eag</code>"
            ],
            "text/plain": [
              "<IPython.core.display.HTML object>"
            ]
          },
          "metadata": {},
          "output_type": "display_data"
        },
        {
          "data": {
            "text/html": [
              "Syncing run <strong><a href='https://wandb.ai/wilfried-mvomoeto-university-of-li-ge/Few-Shot-Binary-Class-Training_gru_glove_fastText_Bahdanau-GRU-FastText-/runs/momv6eag' target=\"_blank\">GRU-FastText_K-150_Training</a></strong> to <a href='https://wandb.ai/wilfried-mvomoeto-university-of-li-ge/Few-Shot-Binary-Class-Training_gru_glove_fastText_Bahdanau-GRU-FastText-' target=\"_blank\">Weights & Biases</a> (<a href='https://wandb.me/developer-guide' target=\"_blank\">docs</a>)<br>"
            ],
            "text/plain": [
              "<IPython.core.display.HTML object>"
            ]
          },
          "metadata": {},
          "output_type": "display_data"
        },
        {
          "data": {
            "text/html": [
              " View project at <a href='https://wandb.ai/wilfried-mvomoeto-university-of-li-ge/Few-Shot-Binary-Class-Training_gru_glove_fastText_Bahdanau-GRU-FastText-' target=\"_blank\">https://wandb.ai/wilfried-mvomoeto-university-of-li-ge/Few-Shot-Binary-Class-Training_gru_glove_fastText_Bahdanau-GRU-FastText-</a>"
            ],
            "text/plain": [
              "<IPython.core.display.HTML object>"
            ]
          },
          "metadata": {},
          "output_type": "display_data"
        },
        {
          "data": {
            "text/html": [
              " View run at <a href='https://wandb.ai/wilfried-mvomoeto-university-of-li-ge/Few-Shot-Binary-Class-Training_gru_glove_fastText_Bahdanau-GRU-FastText-/runs/momv6eag' target=\"_blank\">https://wandb.ai/wilfried-mvomoeto-university-of-li-ge/Few-Shot-Binary-Class-Training_gru_glove_fastText_Bahdanau-GRU-FastText-/runs/momv6eag</a>"
            ],
            "text/plain": [
              "<IPython.core.display.HTML object>"
            ]
          },
          "metadata": {},
          "output_type": "display_data"
        },
        {
          "name": "stderr",
          "output_type": "stream",
          "text": [
            "Training GRU-FastText with 150-shot:   0%|          | 0/1000 [00:00<?, ?epoch/s]"
          ]
        },
        {
          "name": "stdout",
          "output_type": "stream",
          "text": [
            "Early stopping triggered at epoch 1\n",
            "Model GRU-FastText_K-150 saved with loss gap > 1.25 or accuracy gap > 10% at epoch 0.\n",
            "\n",
            "Training with 200-shot...\n"
          ]
        },
        {
          "name": "stderr",
          "output_type": "stream",
          "text": [
            "\n",
            "<ipython-input-10-f03193db776b>:44: UserWarning: To copy construct from a tensor, it is recommended to use sourceTensor.clone().detach() or sourceTensor.clone().detach().requires_grad_(True), rather than torch.tensor(sourceTensor).\n",
            "  self.X = torch.tensor(X_data, dtype=torch.long)\n",
            "<ipython-input-10-f03193db776b>:45: UserWarning: To copy construct from a tensor, it is recommended to use sourceTensor.clone().detach() or sourceTensor.clone().detach().requires_grad_(True), rather than torch.tensor(sourceTensor).\n",
            "  self.y = torch.tensor(y_data, dtype=torch.long)\n"
          ]
        },
        {
          "data": {
            "text/html": [
              "Finishing previous runs because reinit is set to 'default'."
            ],
            "text/plain": [
              "<IPython.core.display.HTML object>"
            ]
          },
          "metadata": {},
          "output_type": "display_data"
        },
        {
          "data": {
            "text/html": [],
            "text/plain": [
              "<IPython.core.display.HTML object>"
            ]
          },
          "metadata": {},
          "output_type": "display_data"
        },
        {
          "data": {
            "text/html": [
              "<br>    <style><br>        .wandb-row {<br>            display: flex;<br>            flex-direction: row;<br>            flex-wrap: wrap;<br>            justify-content: flex-start;<br>            width: 100%;<br>        }<br>        .wandb-col {<br>            display: flex;<br>            flex-direction: column;<br>            flex-basis: 100%;<br>            flex: 1;<br>            padding: 10px;<br>        }<br>    </style><br><div class=\"wandb-row\"><div class=\"wandb-col\"><h3>Run history:</h3><br/><table class=\"wandb\"><tr><td>epoch</td><td>▁</td></tr><tr><td>k_shot</td><td>▁</td></tr><tr><td>test_acc</td><td>▁</td></tr><tr><td>test_balanced_acc</td><td>▁</td></tr><tr><td>test_f1</td><td>▁</td></tr><tr><td>test_loss</td><td>▁</td></tr><tr><td>test_precision</td><td>▁</td></tr><tr><td>test_recall</td><td>▁</td></tr><tr><td>train_acc</td><td>▁</td></tr><tr><td>train_loss</td><td>▁</td></tr></table><br/></div><div class=\"wandb-col\"><h3>Run summary:</h3><br/><table class=\"wandb\"><tr><td>epoch</td><td>1</td></tr><tr><td>k_shot</td><td>150</td></tr><tr><td>test_acc</td><td>0.35507</td></tr><tr><td>test_balanced_acc</td><td>0.49979</td></tr><tr><td>test_f1</td><td>0.18914</td></tr><tr><td>test_loss</td><td>0.69525</td></tr><tr><td>test_precision</td><td>0.52285</td></tr><tr><td>test_recall</td><td>0.35507</td></tr><tr><td>train_acc</td><td>0.50333</td></tr><tr><td>train_loss</td><td>0.70638</td></tr></table><br/></div></div>"
            ],
            "text/plain": [
              "<IPython.core.display.HTML object>"
            ]
          },
          "metadata": {},
          "output_type": "display_data"
        },
        {
          "data": {
            "text/html": [
              " View run <strong style=\"color:#cdcd00\">GRU-FastText_K-150_Training</strong> at: <a href='https://wandb.ai/wilfried-mvomoeto-university-of-li-ge/Few-Shot-Binary-Class-Training_gru_glove_fastText_Bahdanau-GRU-FastText-/runs/momv6eag' target=\"_blank\">https://wandb.ai/wilfried-mvomoeto-university-of-li-ge/Few-Shot-Binary-Class-Training_gru_glove_fastText_Bahdanau-GRU-FastText-/runs/momv6eag</a><br> View project at: <a href='https://wandb.ai/wilfried-mvomoeto-university-of-li-ge/Few-Shot-Binary-Class-Training_gru_glove_fastText_Bahdanau-GRU-FastText-' target=\"_blank\">https://wandb.ai/wilfried-mvomoeto-university-of-li-ge/Few-Shot-Binary-Class-Training_gru_glove_fastText_Bahdanau-GRU-FastText-</a><br>Synced 5 W&B file(s), 0 media file(s), 0 artifact file(s) and 0 other file(s)"
            ],
            "text/plain": [
              "<IPython.core.display.HTML object>"
            ]
          },
          "metadata": {},
          "output_type": "display_data"
        },
        {
          "data": {
            "text/html": [
              "Find logs at: <code>./wandb/run-20250501_183349-momv6eag/logs</code>"
            ],
            "text/plain": [
              "<IPython.core.display.HTML object>"
            ]
          },
          "metadata": {},
          "output_type": "display_data"
        },
        {
          "data": {
            "text/html": [
              "Tracking run with wandb version 0.19.10"
            ],
            "text/plain": [
              "<IPython.core.display.HTML object>"
            ]
          },
          "metadata": {},
          "output_type": "display_data"
        },
        {
          "data": {
            "text/html": [
              "Run data is saved locally in <code>/content/wandb/run-20250501_183358-fek9pdgi</code>"
            ],
            "text/plain": [
              "<IPython.core.display.HTML object>"
            ]
          },
          "metadata": {},
          "output_type": "display_data"
        },
        {
          "data": {
            "text/html": [
              "Syncing run <strong><a href='https://wandb.ai/wilfried-mvomoeto-university-of-li-ge/Few-Shot-Binary-Class-Training_gru_glove_fastText_Bahdanau-GRU-Bah-Glove-/runs/fek9pdgi' target=\"_blank\">GRU-Bah-Glove_K-200_Training</a></strong> to <a href='https://wandb.ai/wilfried-mvomoeto-university-of-li-ge/Few-Shot-Binary-Class-Training_gru_glove_fastText_Bahdanau-GRU-Bah-Glove-' target=\"_blank\">Weights & Biases</a> (<a href='https://wandb.me/developer-guide' target=\"_blank\">docs</a>)<br>"
            ],
            "text/plain": [
              "<IPython.core.display.HTML object>"
            ]
          },
          "metadata": {},
          "output_type": "display_data"
        },
        {
          "data": {
            "text/html": [
              " View project at <a href='https://wandb.ai/wilfried-mvomoeto-university-of-li-ge/Few-Shot-Binary-Class-Training_gru_glove_fastText_Bahdanau-GRU-Bah-Glove-' target=\"_blank\">https://wandb.ai/wilfried-mvomoeto-university-of-li-ge/Few-Shot-Binary-Class-Training_gru_glove_fastText_Bahdanau-GRU-Bah-Glove-</a>"
            ],
            "text/plain": [
              "<IPython.core.display.HTML object>"
            ]
          },
          "metadata": {},
          "output_type": "display_data"
        },
        {
          "data": {
            "text/html": [
              " View run at <a href='https://wandb.ai/wilfried-mvomoeto-university-of-li-ge/Few-Shot-Binary-Class-Training_gru_glove_fastText_Bahdanau-GRU-Bah-Glove-/runs/fek9pdgi' target=\"_blank\">https://wandb.ai/wilfried-mvomoeto-university-of-li-ge/Few-Shot-Binary-Class-Training_gru_glove_fastText_Bahdanau-GRU-Bah-Glove-/runs/fek9pdgi</a>"
            ],
            "text/plain": [
              "<IPython.core.display.HTML object>"
            ]
          },
          "metadata": {},
          "output_type": "display_data"
        },
        {
          "name": "stderr",
          "output_type": "stream",
          "text": [
            "Training GRU-Bah-Glove with 200-shot:   0%|          | 0/1000 [00:01<?, ?epoch/s]"
          ]
        },
        {
          "name": "stdout",
          "output_type": "stream",
          "text": [
            "Early stopping triggered at epoch 1\n",
            "Model GRU-Bah-Glove_K-200 saved with loss gap > 1.25 or accuracy gap > 10% at epoch 0.\n"
          ]
        },
        {
          "name": "stderr",
          "output_type": "stream",
          "text": [
            "\n",
            "<ipython-input-10-f03193db776b>:44: UserWarning: To copy construct from a tensor, it is recommended to use sourceTensor.clone().detach() or sourceTensor.clone().detach().requires_grad_(True), rather than torch.tensor(sourceTensor).\n",
            "  self.X = torch.tensor(X_data, dtype=torch.long)\n",
            "<ipython-input-10-f03193db776b>:45: UserWarning: To copy construct from a tensor, it is recommended to use sourceTensor.clone().detach() or sourceTensor.clone().detach().requires_grad_(True), rather than torch.tensor(sourceTensor).\n",
            "  self.y = torch.tensor(y_data, dtype=torch.long)\n"
          ]
        },
        {
          "data": {
            "text/html": [
              "Finishing previous runs because reinit is set to 'default'."
            ],
            "text/plain": [
              "<IPython.core.display.HTML object>"
            ]
          },
          "metadata": {},
          "output_type": "display_data"
        },
        {
          "data": {
            "text/html": [],
            "text/plain": [
              "<IPython.core.display.HTML object>"
            ]
          },
          "metadata": {},
          "output_type": "display_data"
        },
        {
          "data": {
            "text/html": [
              "<br>    <style><br>        .wandb-row {<br>            display: flex;<br>            flex-direction: row;<br>            flex-wrap: wrap;<br>            justify-content: flex-start;<br>            width: 100%;<br>        }<br>        .wandb-col {<br>            display: flex;<br>            flex-direction: column;<br>            flex-basis: 100%;<br>            flex: 1;<br>            padding: 10px;<br>        }<br>    </style><br><div class=\"wandb-row\"><div class=\"wandb-col\"><h3>Run history:</h3><br/><table class=\"wandb\"><tr><td>epoch</td><td>▁</td></tr><tr><td>k_shot</td><td>▁</td></tr><tr><td>test_acc</td><td>▁</td></tr><tr><td>test_balanced_acc</td><td>▁</td></tr><tr><td>test_f1</td><td>▁</td></tr><tr><td>test_loss</td><td>▁</td></tr><tr><td>test_precision</td><td>▁</td></tr><tr><td>test_recall</td><td>▁</td></tr><tr><td>train_acc</td><td>▁</td></tr><tr><td>train_loss</td><td>▁</td></tr></table><br/></div><div class=\"wandb-col\"><h3>Run summary:</h3><br/><table class=\"wandb\"><tr><td>epoch</td><td>1</td></tr><tr><td>k_shot</td><td>200</td></tr><tr><td>test_acc</td><td>0.4845</td></tr><tr><td>test_balanced_acc</td><td>0.56844</td></tr><tr><td>test_f1</td><td>0.45797</td></tr><tr><td>test_loss</td><td>0.69317</td></tr><tr><td>test_precision</td><td>0.6441</td></tr><tr><td>test_recall</td><td>0.4845</td></tr><tr><td>train_acc</td><td>0.5525</td></tr><tr><td>train_loss</td><td>0.69956</td></tr></table><br/></div></div>"
            ],
            "text/plain": [
              "<IPython.core.display.HTML object>"
            ]
          },
          "metadata": {},
          "output_type": "display_data"
        },
        {
          "data": {
            "text/html": [
              " View run <strong style=\"color:#cdcd00\">GRU-Bah-Glove_K-200_Training</strong> at: <a href='https://wandb.ai/wilfried-mvomoeto-university-of-li-ge/Few-Shot-Binary-Class-Training_gru_glove_fastText_Bahdanau-GRU-Bah-Glove-/runs/fek9pdgi' target=\"_blank\">https://wandb.ai/wilfried-mvomoeto-university-of-li-ge/Few-Shot-Binary-Class-Training_gru_glove_fastText_Bahdanau-GRU-Bah-Glove-/runs/fek9pdgi</a><br> View project at: <a href='https://wandb.ai/wilfried-mvomoeto-university-of-li-ge/Few-Shot-Binary-Class-Training_gru_glove_fastText_Bahdanau-GRU-Bah-Glove-' target=\"_blank\">https://wandb.ai/wilfried-mvomoeto-university-of-li-ge/Few-Shot-Binary-Class-Training_gru_glove_fastText_Bahdanau-GRU-Bah-Glove-</a><br>Synced 5 W&B file(s), 0 media file(s), 0 artifact file(s) and 0 other file(s)"
            ],
            "text/plain": [
              "<IPython.core.display.HTML object>"
            ]
          },
          "metadata": {},
          "output_type": "display_data"
        },
        {
          "data": {
            "text/html": [
              "Find logs at: <code>./wandb/run-20250501_183358-fek9pdgi/logs</code>"
            ],
            "text/plain": [
              "<IPython.core.display.HTML object>"
            ]
          },
          "metadata": {},
          "output_type": "display_data"
        },
        {
          "data": {
            "text/html": [
              "Tracking run with wandb version 0.19.10"
            ],
            "text/plain": [
              "<IPython.core.display.HTML object>"
            ]
          },
          "metadata": {},
          "output_type": "display_data"
        },
        {
          "data": {
            "text/html": [
              "Run data is saved locally in <code>/content/wandb/run-20250501_183407-wtm1dwib</code>"
            ],
            "text/plain": [
              "<IPython.core.display.HTML object>"
            ]
          },
          "metadata": {},
          "output_type": "display_data"
        },
        {
          "data": {
            "text/html": [
              "Syncing run <strong><a href='https://wandb.ai/wilfried-mvomoeto-university-of-li-ge/Few-Shot-Binary-Class-Training_gru_glove_fastText_Bahdanau-GRU-Bah-FastText-/runs/wtm1dwib' target=\"_blank\">GRU-Bah-FastText_K-200_Training</a></strong> to <a href='https://wandb.ai/wilfried-mvomoeto-university-of-li-ge/Few-Shot-Binary-Class-Training_gru_glove_fastText_Bahdanau-GRU-Bah-FastText-' target=\"_blank\">Weights & Biases</a> (<a href='https://wandb.me/developer-guide' target=\"_blank\">docs</a>)<br>"
            ],
            "text/plain": [
              "<IPython.core.display.HTML object>"
            ]
          },
          "metadata": {},
          "output_type": "display_data"
        },
        {
          "data": {
            "text/html": [
              " View project at <a href='https://wandb.ai/wilfried-mvomoeto-university-of-li-ge/Few-Shot-Binary-Class-Training_gru_glove_fastText_Bahdanau-GRU-Bah-FastText-' target=\"_blank\">https://wandb.ai/wilfried-mvomoeto-university-of-li-ge/Few-Shot-Binary-Class-Training_gru_glove_fastText_Bahdanau-GRU-Bah-FastText-</a>"
            ],
            "text/plain": [
              "<IPython.core.display.HTML object>"
            ]
          },
          "metadata": {},
          "output_type": "display_data"
        },
        {
          "data": {
            "text/html": [
              " View run at <a href='https://wandb.ai/wilfried-mvomoeto-university-of-li-ge/Few-Shot-Binary-Class-Training_gru_glove_fastText_Bahdanau-GRU-Bah-FastText-/runs/wtm1dwib' target=\"_blank\">https://wandb.ai/wilfried-mvomoeto-university-of-li-ge/Few-Shot-Binary-Class-Training_gru_glove_fastText_Bahdanau-GRU-Bah-FastText-/runs/wtm1dwib</a>"
            ],
            "text/plain": [
              "<IPython.core.display.HTML object>"
            ]
          },
          "metadata": {},
          "output_type": "display_data"
        },
        {
          "name": "stderr",
          "output_type": "stream",
          "text": [
            "GRU-Bah-FastText K-200 Epoch 20/1000 - Train Loss: 0.3098, Test Loss: 0.3850, Train Acc: 90.75%, Test Acc: 89.54%, Test F1: 89.59%, Test Balanced Acc: 89.10%, Test Recall: 89.54%, Test Precision: 89.69%, Time: 1.06 sec:   2%|▏         | 20/1000 [00:21<17:20,  1.06s/epoch]"
          ]
        },
        {
          "name": "stdout",
          "output_type": "stream",
          "text": [
            "Early stopping triggered at epoch 21\n",
            "Model GRU-Bah-FastText_K-200 saved with loss gap > 1.25 or accuracy gap > 10% at epoch 20.\n"
          ]
        },
        {
          "name": "stderr",
          "output_type": "stream",
          "text": [
            "\n",
            "<ipython-input-10-f03193db776b>:44: UserWarning: To copy construct from a tensor, it is recommended to use sourceTensor.clone().detach() or sourceTensor.clone().detach().requires_grad_(True), rather than torch.tensor(sourceTensor).\n",
            "  self.X = torch.tensor(X_data, dtype=torch.long)\n",
            "<ipython-input-10-f03193db776b>:45: UserWarning: To copy construct from a tensor, it is recommended to use sourceTensor.clone().detach() or sourceTensor.clone().detach().requires_grad_(True), rather than torch.tensor(sourceTensor).\n",
            "  self.y = torch.tensor(y_data, dtype=torch.long)\n"
          ]
        },
        {
          "data": {
            "text/html": [
              "Finishing previous runs because reinit is set to 'default'."
            ],
            "text/plain": [
              "<IPython.core.display.HTML object>"
            ]
          },
          "metadata": {},
          "output_type": "display_data"
        },
        {
          "data": {
            "text/html": [],
            "text/plain": [
              "<IPython.core.display.HTML object>"
            ]
          },
          "metadata": {},
          "output_type": "display_data"
        },
        {
          "data": {
            "text/html": [
              "<br>    <style><br>        .wandb-row {<br>            display: flex;<br>            flex-direction: row;<br>            flex-wrap: wrap;<br>            justify-content: flex-start;<br>            width: 100%;<br>        }<br>        .wandb-col {<br>            display: flex;<br>            flex-direction: column;<br>            flex-basis: 100%;<br>            flex: 1;<br>            padding: 10px;<br>        }<br>    </style><br><div class=\"wandb-row\"><div class=\"wandb-col\"><h3>Run history:</h3><br/><table class=\"wandb\"><tr><td>epoch</td><td>▁▁▂▂▂▃▃▃▄▄▅▅▅▆▆▆▇▇▇██</td></tr><tr><td>k_shot</td><td>▁▁▁▁▁▁▁▁▁▁▁▁▁▁▁▁▁▁▁▁▁</td></tr><tr><td>test_acc</td><td>▂▁▂▃▃▄▅▅▅▆▇▇█████████</td></tr><tr><td>test_balanced_acc</td><td>▁▁▂▃▄▅▆▆▇▇▇██████████</td></tr><tr><td>test_f1</td><td>▁▁▂▃▄▄▅▅▆▆▇▇█████████</td></tr><tr><td>test_loss</td><td>██████▇▆▄▃▃▂▂▂▂▂▁▁▁▁▁</td></tr><tr><td>test_precision</td><td>▁▁▂▃▄▅▆▆▇▇▇██████████</td></tr><tr><td>test_recall</td><td>▂▁▂▃▃▄▅▅▅▆▇▇█████████</td></tr><tr><td>train_acc</td><td>▁▁▂▂▂▂▄▅▆▆▇▇▇▇▇▇▇▇███</td></tr><tr><td>train_loss</td><td>█████▇▇▆▅▄▄▃▃▃▂▂▂▂▂▂▁</td></tr></table><br/></div><div class=\"wandb-col\"><h3>Run summary:</h3><br/><table class=\"wandb\"><tr><td>epoch</td><td>21</td></tr><tr><td>k_shot</td><td>200</td></tr><tr><td>test_acc</td><td>0.89735</td></tr><tr><td>test_balanced_acc</td><td>0.89319</td></tr><tr><td>test_f1</td><td>0.89786</td></tr><tr><td>test_loss</td><td>0.37893</td></tr><tr><td>test_precision</td><td>0.89891</td></tr><tr><td>test_recall</td><td>0.89735</td></tr><tr><td>train_acc</td><td>0.9275</td></tr><tr><td>train_loss</td><td>0.2699</td></tr></table><br/></div></div>"
            ],
            "text/plain": [
              "<IPython.core.display.HTML object>"
            ]
          },
          "metadata": {},
          "output_type": "display_data"
        },
        {
          "data": {
            "text/html": [
              " View run <strong style=\"color:#cdcd00\">GRU-Bah-FastText_K-200_Training</strong> at: <a href='https://wandb.ai/wilfried-mvomoeto-university-of-li-ge/Few-Shot-Binary-Class-Training_gru_glove_fastText_Bahdanau-GRU-Bah-FastText-/runs/wtm1dwib' target=\"_blank\">https://wandb.ai/wilfried-mvomoeto-university-of-li-ge/Few-Shot-Binary-Class-Training_gru_glove_fastText_Bahdanau-GRU-Bah-FastText-/runs/wtm1dwib</a><br> View project at: <a href='https://wandb.ai/wilfried-mvomoeto-university-of-li-ge/Few-Shot-Binary-Class-Training_gru_glove_fastText_Bahdanau-GRU-Bah-FastText-' target=\"_blank\">https://wandb.ai/wilfried-mvomoeto-university-of-li-ge/Few-Shot-Binary-Class-Training_gru_glove_fastText_Bahdanau-GRU-Bah-FastText-</a><br>Synced 5 W&B file(s), 0 media file(s), 0 artifact file(s) and 0 other file(s)"
            ],
            "text/plain": [
              "<IPython.core.display.HTML object>"
            ]
          },
          "metadata": {},
          "output_type": "display_data"
        },
        {
          "data": {
            "text/html": [
              "Find logs at: <code>./wandb/run-20250501_183407-wtm1dwib/logs</code>"
            ],
            "text/plain": [
              "<IPython.core.display.HTML object>"
            ]
          },
          "metadata": {},
          "output_type": "display_data"
        },
        {
          "data": {
            "text/html": [
              "Tracking run with wandb version 0.19.10"
            ],
            "text/plain": [
              "<IPython.core.display.HTML object>"
            ]
          },
          "metadata": {},
          "output_type": "display_data"
        },
        {
          "data": {
            "text/html": [
              "Run data is saved locally in <code>/content/wandb/run-20250501_183436-5hwmdnui</code>"
            ],
            "text/plain": [
              "<IPython.core.display.HTML object>"
            ]
          },
          "metadata": {},
          "output_type": "display_data"
        },
        {
          "data": {
            "text/html": [
              "Syncing run <strong><a href='https://wandb.ai/wilfried-mvomoeto-university-of-li-ge/Few-Shot-Binary-Class-Training_gru_glove_fastText_Bahdanau-CNN_LSTM-/runs/5hwmdnui' target=\"_blank\">CNN_LSTM_K-200_Training</a></strong> to <a href='https://wandb.ai/wilfried-mvomoeto-university-of-li-ge/Few-Shot-Binary-Class-Training_gru_glove_fastText_Bahdanau-CNN_LSTM-' target=\"_blank\">Weights & Biases</a> (<a href='https://wandb.me/developer-guide' target=\"_blank\">docs</a>)<br>"
            ],
            "text/plain": [
              "<IPython.core.display.HTML object>"
            ]
          },
          "metadata": {},
          "output_type": "display_data"
        },
        {
          "data": {
            "text/html": [
              " View project at <a href='https://wandb.ai/wilfried-mvomoeto-university-of-li-ge/Few-Shot-Binary-Class-Training_gru_glove_fastText_Bahdanau-CNN_LSTM-' target=\"_blank\">https://wandb.ai/wilfried-mvomoeto-university-of-li-ge/Few-Shot-Binary-Class-Training_gru_glove_fastText_Bahdanau-CNN_LSTM-</a>"
            ],
            "text/plain": [
              "<IPython.core.display.HTML object>"
            ]
          },
          "metadata": {},
          "output_type": "display_data"
        },
        {
          "data": {
            "text/html": [
              " View run at <a href='https://wandb.ai/wilfried-mvomoeto-university-of-li-ge/Few-Shot-Binary-Class-Training_gru_glove_fastText_Bahdanau-CNN_LSTM-/runs/5hwmdnui' target=\"_blank\">https://wandb.ai/wilfried-mvomoeto-university-of-li-ge/Few-Shot-Binary-Class-Training_gru_glove_fastText_Bahdanau-CNN_LSTM-/runs/5hwmdnui</a>"
            ],
            "text/plain": [
              "<IPython.core.display.HTML object>"
            ]
          },
          "metadata": {},
          "output_type": "display_data"
        },
        {
          "name": "stderr",
          "output_type": "stream",
          "text": [
            "CNN_LSTM K-200 Epoch 1/1000 - Train Loss: 0.6983, Test Loss: 0.6750, Train Acc: 49.50%, Test Acc: 64.42%, Test F1: 51.13%, Test Balanced Acc: 50.07%, Test Recall: 64.42%, Test Precision: 55.88%, Time: 0.75 sec:   0%|          | 1/1000 [00:01<24:07,  1.45s/epoch]"
          ]
        },
        {
          "name": "stdout",
          "output_type": "stream",
          "text": [
            "Early stopping triggered at epoch 2\n",
            "Model CNN_LSTM_K-200 saved with loss gap > 1.25 or accuracy gap > 10% at epoch 1.\n"
          ]
        },
        {
          "name": "stderr",
          "output_type": "stream",
          "text": [
            "\n",
            "<ipython-input-10-f03193db776b>:44: UserWarning: To copy construct from a tensor, it is recommended to use sourceTensor.clone().detach() or sourceTensor.clone().detach().requires_grad_(True), rather than torch.tensor(sourceTensor).\n",
            "  self.X = torch.tensor(X_data, dtype=torch.long)\n",
            "<ipython-input-10-f03193db776b>:45: UserWarning: To copy construct from a tensor, it is recommended to use sourceTensor.clone().detach() or sourceTensor.clone().detach().requires_grad_(True), rather than torch.tensor(sourceTensor).\n",
            "  self.y = torch.tensor(y_data, dtype=torch.long)\n"
          ]
        },
        {
          "data": {
            "text/html": [
              "Finishing previous runs because reinit is set to 'default'."
            ],
            "text/plain": [
              "<IPython.core.display.HTML object>"
            ]
          },
          "metadata": {},
          "output_type": "display_data"
        },
        {
          "data": {
            "text/html": [],
            "text/plain": [
              "<IPython.core.display.HTML object>"
            ]
          },
          "metadata": {},
          "output_type": "display_data"
        },
        {
          "data": {
            "text/html": [
              "<br>    <style><br>        .wandb-row {<br>            display: flex;<br>            flex-direction: row;<br>            flex-wrap: wrap;<br>            justify-content: flex-start;<br>            width: 100%;<br>        }<br>        .wandb-col {<br>            display: flex;<br>            flex-direction: column;<br>            flex-basis: 100%;<br>            flex: 1;<br>            padding: 10px;<br>        }<br>    </style><br><div class=\"wandb-row\"><div class=\"wandb-col\"><h3>Run history:</h3><br/><table class=\"wandb\"><tr><td>epoch</td><td>▁█</td></tr><tr><td>k_shot</td><td>▁▁</td></tr><tr><td>test_acc</td><td>█▁</td></tr><tr><td>test_balanced_acc</td><td>█▁</td></tr><tr><td>test_f1</td><td>█▁</td></tr><tr><td>test_loss</td><td>▁█</td></tr><tr><td>test_precision</td><td>█▁</td></tr><tr><td>test_recall</td><td>█▁</td></tr><tr><td>train_acc</td><td>▁█</td></tr><tr><td>train_loss</td><td>█▁</td></tr></table><br/></div><div class=\"wandb-col\"><h3>Run summary:</h3><br/><table class=\"wandb\"><tr><td>epoch</td><td>2</td></tr><tr><td>k_shot</td><td>200</td></tr><tr><td>test_acc</td><td>0.35309</td></tr><tr><td>test_balanced_acc</td><td>0.49699</td></tr><tr><td>test_f1</td><td>0.18836</td></tr><tr><td>test_loss</td><td>0.69707</td></tr><tr><td>test_precision</td><td>0.37103</td></tr><tr><td>test_recall</td><td>0.35309</td></tr><tr><td>train_acc</td><td>0.51</td></tr><tr><td>train_loss</td><td>0.6951</td></tr></table><br/></div></div>"
            ],
            "text/plain": [
              "<IPython.core.display.HTML object>"
            ]
          },
          "metadata": {},
          "output_type": "display_data"
        },
        {
          "data": {
            "text/html": [
              " View run <strong style=\"color:#cdcd00\">CNN_LSTM_K-200_Training</strong> at: <a href='https://wandb.ai/wilfried-mvomoeto-university-of-li-ge/Few-Shot-Binary-Class-Training_gru_glove_fastText_Bahdanau-CNN_LSTM-/runs/5hwmdnui' target=\"_blank\">https://wandb.ai/wilfried-mvomoeto-university-of-li-ge/Few-Shot-Binary-Class-Training_gru_glove_fastText_Bahdanau-CNN_LSTM-/runs/5hwmdnui</a><br> View project at: <a href='https://wandb.ai/wilfried-mvomoeto-university-of-li-ge/Few-Shot-Binary-Class-Training_gru_glove_fastText_Bahdanau-CNN_LSTM-' target=\"_blank\">https://wandb.ai/wilfried-mvomoeto-university-of-li-ge/Few-Shot-Binary-Class-Training_gru_glove_fastText_Bahdanau-CNN_LSTM-</a><br>Synced 5 W&B file(s), 0 media file(s), 0 artifact file(s) and 0 other file(s)"
            ],
            "text/plain": [
              "<IPython.core.display.HTML object>"
            ]
          },
          "metadata": {},
          "output_type": "display_data"
        },
        {
          "data": {
            "text/html": [
              "Find logs at: <code>./wandb/run-20250501_183436-5hwmdnui/logs</code>"
            ],
            "text/plain": [
              "<IPython.core.display.HTML object>"
            ]
          },
          "metadata": {},
          "output_type": "display_data"
        },
        {
          "data": {
            "text/html": [
              "Tracking run with wandb version 0.19.10"
            ],
            "text/plain": [
              "<IPython.core.display.HTML object>"
            ]
          },
          "metadata": {},
          "output_type": "display_data"
        },
        {
          "data": {
            "text/html": [
              "Run data is saved locally in <code>/content/wandb/run-20250501_183445-m22k7x6u</code>"
            ],
            "text/plain": [
              "<IPython.core.display.HTML object>"
            ]
          },
          "metadata": {},
          "output_type": "display_data"
        },
        {
          "data": {
            "text/html": [
              "Syncing run <strong><a href='https://wandb.ai/wilfried-mvomoeto-university-of-li-ge/Few-Shot-Binary-Class-Training_gru_glove_fastText_Bahdanau-GRU-Glove-/runs/m22k7x6u' target=\"_blank\">GRU-Glove_K-200_Training</a></strong> to <a href='https://wandb.ai/wilfried-mvomoeto-university-of-li-ge/Few-Shot-Binary-Class-Training_gru_glove_fastText_Bahdanau-GRU-Glove-' target=\"_blank\">Weights & Biases</a> (<a href='https://wandb.me/developer-guide' target=\"_blank\">docs</a>)<br>"
            ],
            "text/plain": [
              "<IPython.core.display.HTML object>"
            ]
          },
          "metadata": {},
          "output_type": "display_data"
        },
        {
          "data": {
            "text/html": [
              " View project at <a href='https://wandb.ai/wilfried-mvomoeto-university-of-li-ge/Few-Shot-Binary-Class-Training_gru_glove_fastText_Bahdanau-GRU-Glove-' target=\"_blank\">https://wandb.ai/wilfried-mvomoeto-university-of-li-ge/Few-Shot-Binary-Class-Training_gru_glove_fastText_Bahdanau-GRU-Glove-</a>"
            ],
            "text/plain": [
              "<IPython.core.display.HTML object>"
            ]
          },
          "metadata": {},
          "output_type": "display_data"
        },
        {
          "data": {
            "text/html": [
              " View run at <a href='https://wandb.ai/wilfried-mvomoeto-university-of-li-ge/Few-Shot-Binary-Class-Training_gru_glove_fastText_Bahdanau-GRU-Glove-/runs/m22k7x6u' target=\"_blank\">https://wandb.ai/wilfried-mvomoeto-university-of-li-ge/Few-Shot-Binary-Class-Training_gru_glove_fastText_Bahdanau-GRU-Glove-/runs/m22k7x6u</a>"
            ],
            "text/plain": [
              "<IPython.core.display.HTML object>"
            ]
          },
          "metadata": {},
          "output_type": "display_data"
        },
        {
          "name": "stderr",
          "output_type": "stream",
          "text": [
            "Training GRU-Glove with 200-shot:   0%|          | 0/1000 [00:00<?, ?epoch/s]"
          ]
        },
        {
          "name": "stdout",
          "output_type": "stream",
          "text": [
            "Early stopping triggered at epoch 1\n",
            "Model GRU-Glove_K-200 saved with loss gap > 1.25 or accuracy gap > 10% at epoch 0.\n"
          ]
        },
        {
          "name": "stderr",
          "output_type": "stream",
          "text": [
            "\n",
            "<ipython-input-10-f03193db776b>:44: UserWarning: To copy construct from a tensor, it is recommended to use sourceTensor.clone().detach() or sourceTensor.clone().detach().requires_grad_(True), rather than torch.tensor(sourceTensor).\n",
            "  self.X = torch.tensor(X_data, dtype=torch.long)\n",
            "<ipython-input-10-f03193db776b>:45: UserWarning: To copy construct from a tensor, it is recommended to use sourceTensor.clone().detach() or sourceTensor.clone().detach().requires_grad_(True), rather than torch.tensor(sourceTensor).\n",
            "  self.y = torch.tensor(y_data, dtype=torch.long)\n"
          ]
        },
        {
          "data": {
            "text/html": [
              "Finishing previous runs because reinit is set to 'default'."
            ],
            "text/plain": [
              "<IPython.core.display.HTML object>"
            ]
          },
          "metadata": {},
          "output_type": "display_data"
        },
        {
          "data": {
            "text/html": [],
            "text/plain": [
              "<IPython.core.display.HTML object>"
            ]
          },
          "metadata": {},
          "output_type": "display_data"
        },
        {
          "data": {
            "text/html": [
              "<br>    <style><br>        .wandb-row {<br>            display: flex;<br>            flex-direction: row;<br>            flex-wrap: wrap;<br>            justify-content: flex-start;<br>            width: 100%;<br>        }<br>        .wandb-col {<br>            display: flex;<br>            flex-direction: column;<br>            flex-basis: 100%;<br>            flex: 1;<br>            padding: 10px;<br>        }<br>    </style><br><div class=\"wandb-row\"><div class=\"wandb-col\"><h3>Run history:</h3><br/><table class=\"wandb\"><tr><td>epoch</td><td>▁</td></tr><tr><td>k_shot</td><td>▁</td></tr><tr><td>test_acc</td><td>▁</td></tr><tr><td>test_balanced_acc</td><td>▁</td></tr><tr><td>test_f1</td><td>▁</td></tr><tr><td>test_loss</td><td>▁</td></tr><tr><td>test_precision</td><td>▁</td></tr><tr><td>test_recall</td><td>▁</td></tr><tr><td>train_acc</td><td>▁</td></tr><tr><td>train_loss</td><td>▁</td></tr></table><br/></div><div class=\"wandb-col\"><h3>Run summary:</h3><br/><table class=\"wandb\"><tr><td>epoch</td><td>1</td></tr><tr><td>k_shot</td><td>200</td></tr><tr><td>test_acc</td><td>0.35433</td></tr><tr><td>test_balanced_acc</td><td>0.49858</td></tr><tr><td>test_f1</td><td>0.18928</td></tr><tr><td>test_loss</td><td>0.75255</td></tr><tr><td>test_precision</td><td>0.44815</td></tr><tr><td>test_recall</td><td>0.35433</td></tr><tr><td>train_acc</td><td>0.505</td></tr><tr><td>train_loss</td><td>0.71455</td></tr></table><br/></div></div>"
            ],
            "text/plain": [
              "<IPython.core.display.HTML object>"
            ]
          },
          "metadata": {},
          "output_type": "display_data"
        },
        {
          "data": {
            "text/html": [
              " View run <strong style=\"color:#cdcd00\">GRU-Glove_K-200_Training</strong> at: <a href='https://wandb.ai/wilfried-mvomoeto-university-of-li-ge/Few-Shot-Binary-Class-Training_gru_glove_fastText_Bahdanau-GRU-Glove-/runs/m22k7x6u' target=\"_blank\">https://wandb.ai/wilfried-mvomoeto-university-of-li-ge/Few-Shot-Binary-Class-Training_gru_glove_fastText_Bahdanau-GRU-Glove-/runs/m22k7x6u</a><br> View project at: <a href='https://wandb.ai/wilfried-mvomoeto-university-of-li-ge/Few-Shot-Binary-Class-Training_gru_glove_fastText_Bahdanau-GRU-Glove-' target=\"_blank\">https://wandb.ai/wilfried-mvomoeto-university-of-li-ge/Few-Shot-Binary-Class-Training_gru_glove_fastText_Bahdanau-GRU-Glove-</a><br>Synced 5 W&B file(s), 0 media file(s), 0 artifact file(s) and 0 other file(s)"
            ],
            "text/plain": [
              "<IPython.core.display.HTML object>"
            ]
          },
          "metadata": {},
          "output_type": "display_data"
        },
        {
          "data": {
            "text/html": [
              "Find logs at: <code>./wandb/run-20250501_183445-m22k7x6u/logs</code>"
            ],
            "text/plain": [
              "<IPython.core.display.HTML object>"
            ]
          },
          "metadata": {},
          "output_type": "display_data"
        },
        {
          "data": {
            "text/html": [
              "Tracking run with wandb version 0.19.10"
            ],
            "text/plain": [
              "<IPython.core.display.HTML object>"
            ]
          },
          "metadata": {},
          "output_type": "display_data"
        },
        {
          "data": {
            "text/html": [
              "Run data is saved locally in <code>/content/wandb/run-20250501_183453-hxchjhdr</code>"
            ],
            "text/plain": [
              "<IPython.core.display.HTML object>"
            ]
          },
          "metadata": {},
          "output_type": "display_data"
        },
        {
          "data": {
            "text/html": [
              "Syncing run <strong><a href='https://wandb.ai/wilfried-mvomoeto-university-of-li-ge/Few-Shot-Binary-Class-Training_gru_glove_fastText_Bahdanau-GRU-FastText-/runs/hxchjhdr' target=\"_blank\">GRU-FastText_K-200_Training</a></strong> to <a href='https://wandb.ai/wilfried-mvomoeto-university-of-li-ge/Few-Shot-Binary-Class-Training_gru_glove_fastText_Bahdanau-GRU-FastText-' target=\"_blank\">Weights & Biases</a> (<a href='https://wandb.me/developer-guide' target=\"_blank\">docs</a>)<br>"
            ],
            "text/plain": [
              "<IPython.core.display.HTML object>"
            ]
          },
          "metadata": {},
          "output_type": "display_data"
        },
        {
          "data": {
            "text/html": [
              " View project at <a href='https://wandb.ai/wilfried-mvomoeto-university-of-li-ge/Few-Shot-Binary-Class-Training_gru_glove_fastText_Bahdanau-GRU-FastText-' target=\"_blank\">https://wandb.ai/wilfried-mvomoeto-university-of-li-ge/Few-Shot-Binary-Class-Training_gru_glove_fastText_Bahdanau-GRU-FastText-</a>"
            ],
            "text/plain": [
              "<IPython.core.display.HTML object>"
            ]
          },
          "metadata": {},
          "output_type": "display_data"
        },
        {
          "data": {
            "text/html": [
              " View run at <a href='https://wandb.ai/wilfried-mvomoeto-university-of-li-ge/Few-Shot-Binary-Class-Training_gru_glove_fastText_Bahdanau-GRU-FastText-/runs/hxchjhdr' target=\"_blank\">https://wandb.ai/wilfried-mvomoeto-university-of-li-ge/Few-Shot-Binary-Class-Training_gru_glove_fastText_Bahdanau-GRU-FastText-/runs/hxchjhdr</a>"
            ],
            "text/plain": [
              "<IPython.core.display.HTML object>"
            ]
          },
          "metadata": {},
          "output_type": "display_data"
        },
        {
          "name": "stderr",
          "output_type": "stream",
          "text": [
            "Training GRU-FastText with 200-shot:   0%|          | 0/1000 [00:00<?, ?epoch/s]"
          ]
        },
        {
          "name": "stdout",
          "output_type": "stream",
          "text": [
            "Early stopping triggered at epoch 1\n",
            "Model GRU-FastText_K-200 saved with loss gap > 1.25 or accuracy gap > 10% at epoch 0.\n",
            "\n",
            "Training with 400-shot...\n"
          ]
        },
        {
          "name": "stderr",
          "output_type": "stream",
          "text": [
            "\n",
            "<ipython-input-10-f03193db776b>:44: UserWarning: To copy construct from a tensor, it is recommended to use sourceTensor.clone().detach() or sourceTensor.clone().detach().requires_grad_(True), rather than torch.tensor(sourceTensor).\n",
            "  self.X = torch.tensor(X_data, dtype=torch.long)\n",
            "<ipython-input-10-f03193db776b>:45: UserWarning: To copy construct from a tensor, it is recommended to use sourceTensor.clone().detach() or sourceTensor.clone().detach().requires_grad_(True), rather than torch.tensor(sourceTensor).\n",
            "  self.y = torch.tensor(y_data, dtype=torch.long)\n"
          ]
        },
        {
          "data": {
            "text/html": [
              "Finishing previous runs because reinit is set to 'default'."
            ],
            "text/plain": [
              "<IPython.core.display.HTML object>"
            ]
          },
          "metadata": {},
          "output_type": "display_data"
        },
        {
          "data": {
            "text/html": [],
            "text/plain": [
              "<IPython.core.display.HTML object>"
            ]
          },
          "metadata": {},
          "output_type": "display_data"
        },
        {
          "data": {
            "text/html": [
              "<br>    <style><br>        .wandb-row {<br>            display: flex;<br>            flex-direction: row;<br>            flex-wrap: wrap;<br>            justify-content: flex-start;<br>            width: 100%;<br>        }<br>        .wandb-col {<br>            display: flex;<br>            flex-direction: column;<br>            flex-basis: 100%;<br>            flex: 1;<br>            padding: 10px;<br>        }<br>    </style><br><div class=\"wandb-row\"><div class=\"wandb-col\"><h3>Run history:</h3><br/><table class=\"wandb\"><tr><td>epoch</td><td>▁</td></tr><tr><td>k_shot</td><td>▁</td></tr><tr><td>test_acc</td><td>▁</td></tr><tr><td>test_balanced_acc</td><td>▁</td></tr><tr><td>test_f1</td><td>▁</td></tr><tr><td>test_loss</td><td>▁</td></tr><tr><td>test_precision</td><td>▁</td></tr><tr><td>test_recall</td><td>▁</td></tr><tr><td>train_acc</td><td>▁</td></tr><tr><td>train_loss</td><td>▁</td></tr></table><br/></div><div class=\"wandb-col\"><h3>Run summary:</h3><br/><table class=\"wandb\"><tr><td>epoch</td><td>1</td></tr><tr><td>k_shot</td><td>200</td></tr><tr><td>test_acc</td><td>0.35557</td></tr><tr><td>test_balanced_acc</td><td>0.49922</td></tr><tr><td>test_f1</td><td>0.19274</td></tr><tr><td>test_loss</td><td>0.71426</td></tr><tr><td>test_precision</td><td>0.50804</td></tr><tr><td>test_recall</td><td>0.35557</td></tr><tr><td>train_acc</td><td>0.4925</td></tr><tr><td>train_loss</td><td>0.73226</td></tr></table><br/></div></div>"
            ],
            "text/plain": [
              "<IPython.core.display.HTML object>"
            ]
          },
          "metadata": {},
          "output_type": "display_data"
        },
        {
          "data": {
            "text/html": [
              " View run <strong style=\"color:#cdcd00\">GRU-FastText_K-200_Training</strong> at: <a href='https://wandb.ai/wilfried-mvomoeto-university-of-li-ge/Few-Shot-Binary-Class-Training_gru_glove_fastText_Bahdanau-GRU-FastText-/runs/hxchjhdr' target=\"_blank\">https://wandb.ai/wilfried-mvomoeto-university-of-li-ge/Few-Shot-Binary-Class-Training_gru_glove_fastText_Bahdanau-GRU-FastText-/runs/hxchjhdr</a><br> View project at: <a href='https://wandb.ai/wilfried-mvomoeto-university-of-li-ge/Few-Shot-Binary-Class-Training_gru_glove_fastText_Bahdanau-GRU-FastText-' target=\"_blank\">https://wandb.ai/wilfried-mvomoeto-university-of-li-ge/Few-Shot-Binary-Class-Training_gru_glove_fastText_Bahdanau-GRU-FastText-</a><br>Synced 5 W&B file(s), 0 media file(s), 0 artifact file(s) and 0 other file(s)"
            ],
            "text/plain": [
              "<IPython.core.display.HTML object>"
            ]
          },
          "metadata": {},
          "output_type": "display_data"
        },
        {
          "data": {
            "text/html": [
              "Find logs at: <code>./wandb/run-20250501_183453-hxchjhdr/logs</code>"
            ],
            "text/plain": [
              "<IPython.core.display.HTML object>"
            ]
          },
          "metadata": {},
          "output_type": "display_data"
        },
        {
          "data": {
            "text/html": [
              "Tracking run with wandb version 0.19.10"
            ],
            "text/plain": [
              "<IPython.core.display.HTML object>"
            ]
          },
          "metadata": {},
          "output_type": "display_data"
        },
        {
          "data": {
            "text/html": [
              "Run data is saved locally in <code>/content/wandb/run-20250501_183502-g2q4phd1</code>"
            ],
            "text/plain": [
              "<IPython.core.display.HTML object>"
            ]
          },
          "metadata": {},
          "output_type": "display_data"
        },
        {
          "data": {
            "text/html": [
              "Syncing run <strong><a href='https://wandb.ai/wilfried-mvomoeto-university-of-li-ge/Few-Shot-Binary-Class-Training_gru_glove_fastText_Bahdanau-GRU-Bah-Glove-/runs/g2q4phd1' target=\"_blank\">GRU-Bah-Glove_K-400_Training</a></strong> to <a href='https://wandb.ai/wilfried-mvomoeto-university-of-li-ge/Few-Shot-Binary-Class-Training_gru_glove_fastText_Bahdanau-GRU-Bah-Glove-' target=\"_blank\">Weights & Biases</a> (<a href='https://wandb.me/developer-guide' target=\"_blank\">docs</a>)<br>"
            ],
            "text/plain": [
              "<IPython.core.display.HTML object>"
            ]
          },
          "metadata": {},
          "output_type": "display_data"
        },
        {
          "data": {
            "text/html": [
              " View project at <a href='https://wandb.ai/wilfried-mvomoeto-university-of-li-ge/Few-Shot-Binary-Class-Training_gru_glove_fastText_Bahdanau-GRU-Bah-Glove-' target=\"_blank\">https://wandb.ai/wilfried-mvomoeto-university-of-li-ge/Few-Shot-Binary-Class-Training_gru_glove_fastText_Bahdanau-GRU-Bah-Glove-</a>"
            ],
            "text/plain": [
              "<IPython.core.display.HTML object>"
            ]
          },
          "metadata": {},
          "output_type": "display_data"
        },
        {
          "data": {
            "text/html": [
              " View run at <a href='https://wandb.ai/wilfried-mvomoeto-university-of-li-ge/Few-Shot-Binary-Class-Training_gru_glove_fastText_Bahdanau-GRU-Bah-Glove-/runs/g2q4phd1' target=\"_blank\">https://wandb.ai/wilfried-mvomoeto-university-of-li-ge/Few-Shot-Binary-Class-Training_gru_glove_fastText_Bahdanau-GRU-Bah-Glove-/runs/g2q4phd1</a>"
            ],
            "text/plain": [
              "<IPython.core.display.HTML object>"
            ]
          },
          "metadata": {},
          "output_type": "display_data"
        },
        {
          "name": "stderr",
          "output_type": "stream",
          "text": [
            "GRU-Bah-Glove K-400 Epoch 19/1000 - Train Loss: 0.2875, Test Loss: 0.3431, Train Acc: 90.12%, Test Acc: 89.61%, Test F1: 89.70%, Test Balanced Acc: 89.63%, Test Recall: 89.61%, Test Precision: 89.97%, Time: 1.25 sec:   2%|▏         | 19/1000 [00:25<22:05,  1.35s/epoch]"
          ]
        },
        {
          "name": "stdout",
          "output_type": "stream",
          "text": [
            "Early stopping triggered at epoch 20\n",
            "Model GRU-Bah-Glove_K-400 saved with loss gap > 1.25 or accuracy gap > 10% at epoch 19.\n"
          ]
        },
        {
          "name": "stderr",
          "output_type": "stream",
          "text": [
            "\n",
            "<ipython-input-10-f03193db776b>:44: UserWarning: To copy construct from a tensor, it is recommended to use sourceTensor.clone().detach() or sourceTensor.clone().detach().requires_grad_(True), rather than torch.tensor(sourceTensor).\n",
            "  self.X = torch.tensor(X_data, dtype=torch.long)\n",
            "<ipython-input-10-f03193db776b>:45: UserWarning: To copy construct from a tensor, it is recommended to use sourceTensor.clone().detach() or sourceTensor.clone().detach().requires_grad_(True), rather than torch.tensor(sourceTensor).\n",
            "  self.y = torch.tensor(y_data, dtype=torch.long)\n"
          ]
        },
        {
          "data": {
            "text/html": [
              "Finishing previous runs because reinit is set to 'default'."
            ],
            "text/plain": [
              "<IPython.core.display.HTML object>"
            ]
          },
          "metadata": {},
          "output_type": "display_data"
        },
        {
          "data": {
            "text/html": [],
            "text/plain": [
              "<IPython.core.display.HTML object>"
            ]
          },
          "metadata": {},
          "output_type": "display_data"
        },
        {
          "data": {
            "text/html": [
              "<br>    <style><br>        .wandb-row {<br>            display: flex;<br>            flex-direction: row;<br>            flex-wrap: wrap;<br>            justify-content: flex-start;<br>            width: 100%;<br>        }<br>        .wandb-col {<br>            display: flex;<br>            flex-direction: column;<br>            flex-basis: 100%;<br>            flex: 1;<br>            padding: 10px;<br>        }<br>    </style><br><div class=\"wandb-row\"><div class=\"wandb-col\"><h3>Run history:</h3><br/><table class=\"wandb\"><tr><td>epoch</td><td>▁▁▂▂▂▃▃▄▄▄▅▅▅▆▆▇▇▇██</td></tr><tr><td>k_shot</td><td>▁▁▁▁▁▁▁▁▁▁▁▁▁▁▁▁▁▁▁▁</td></tr><tr><td>test_acc</td><td>▁▂▇█████████████████</td></tr><tr><td>test_balanced_acc</td><td>▁▃▇▇▇▇▇▇████████████</td></tr><tr><td>test_f1</td><td>▁▂▇█████████████████</td></tr><tr><td>test_loss</td><td>██▆▂▂▂▂▁▁▁▁▁▁▁▁▁▁▁▁▁</td></tr><tr><td>test_precision</td><td>▁▄▇▇▇▇▇▇████████████</td></tr><tr><td>test_recall</td><td>▁▂▇█████████████████</td></tr><tr><td>train_acc</td><td>▁▂▅▇▇▇▇▇▇███████████</td></tr><tr><td>train_loss</td><td>██▆▄▄▄▃▃▃▂▂▂▂▂▂▂▂▂▁▁</td></tr></table><br/></div><div class=\"wandb-col\"><h3>Run summary:</h3><br/><table class=\"wandb\"><tr><td>epoch</td><td>20</td></tr><tr><td>k_shot</td><td>400</td></tr><tr><td>test_acc</td><td>0.89611</td></tr><tr><td>test_balanced_acc</td><td>0.89634</td></tr><tr><td>test_f1</td><td>0.89701</td></tr><tr><td>test_loss</td><td>0.34189</td></tr><tr><td>test_precision</td><td>0.89969</td></tr><tr><td>test_recall</td><td>0.89611</td></tr><tr><td>train_acc</td><td>0.91</td></tr><tr><td>train_loss</td><td>0.26346</td></tr></table><br/></div></div>"
            ],
            "text/plain": [
              "<IPython.core.display.HTML object>"
            ]
          },
          "metadata": {},
          "output_type": "display_data"
        },
        {
          "data": {
            "text/html": [
              " View run <strong style=\"color:#cdcd00\">GRU-Bah-Glove_K-400_Training</strong> at: <a href='https://wandb.ai/wilfried-mvomoeto-university-of-li-ge/Few-Shot-Binary-Class-Training_gru_glove_fastText_Bahdanau-GRU-Bah-Glove-/runs/g2q4phd1' target=\"_blank\">https://wandb.ai/wilfried-mvomoeto-university-of-li-ge/Few-Shot-Binary-Class-Training_gru_glove_fastText_Bahdanau-GRU-Bah-Glove-/runs/g2q4phd1</a><br> View project at: <a href='https://wandb.ai/wilfried-mvomoeto-university-of-li-ge/Few-Shot-Binary-Class-Training_gru_glove_fastText_Bahdanau-GRU-Bah-Glove-' target=\"_blank\">https://wandb.ai/wilfried-mvomoeto-university-of-li-ge/Few-Shot-Binary-Class-Training_gru_glove_fastText_Bahdanau-GRU-Bah-Glove-</a><br>Synced 5 W&B file(s), 0 media file(s), 0 artifact file(s) and 0 other file(s)"
            ],
            "text/plain": [
              "<IPython.core.display.HTML object>"
            ]
          },
          "metadata": {},
          "output_type": "display_data"
        },
        {
          "data": {
            "text/html": [
              "Find logs at: <code>./wandb/run-20250501_183502-g2q4phd1/logs</code>"
            ],
            "text/plain": [
              "<IPython.core.display.HTML object>"
            ]
          },
          "metadata": {},
          "output_type": "display_data"
        },
        {
          "data": {
            "text/html": [
              "Tracking run with wandb version 0.19.10"
            ],
            "text/plain": [
              "<IPython.core.display.HTML object>"
            ]
          },
          "metadata": {},
          "output_type": "display_data"
        },
        {
          "data": {
            "text/html": [
              "Run data is saved locally in <code>/content/wandb/run-20250501_183536-8ejvjf6k</code>"
            ],
            "text/plain": [
              "<IPython.core.display.HTML object>"
            ]
          },
          "metadata": {},
          "output_type": "display_data"
        },
        {
          "data": {
            "text/html": [
              "Syncing run <strong><a href='https://wandb.ai/wilfried-mvomoeto-university-of-li-ge/Few-Shot-Binary-Class-Training_gru_glove_fastText_Bahdanau-GRU-Bah-FastText-/runs/8ejvjf6k' target=\"_blank\">GRU-Bah-FastText_K-400_Training</a></strong> to <a href='https://wandb.ai/wilfried-mvomoeto-university-of-li-ge/Few-Shot-Binary-Class-Training_gru_glove_fastText_Bahdanau-GRU-Bah-FastText-' target=\"_blank\">Weights & Biases</a> (<a href='https://wandb.me/developer-guide' target=\"_blank\">docs</a>)<br>"
            ],
            "text/plain": [
              "<IPython.core.display.HTML object>"
            ]
          },
          "metadata": {},
          "output_type": "display_data"
        },
        {
          "data": {
            "text/html": [
              " View project at <a href='https://wandb.ai/wilfried-mvomoeto-university-of-li-ge/Few-Shot-Binary-Class-Training_gru_glove_fastText_Bahdanau-GRU-Bah-FastText-' target=\"_blank\">https://wandb.ai/wilfried-mvomoeto-university-of-li-ge/Few-Shot-Binary-Class-Training_gru_glove_fastText_Bahdanau-GRU-Bah-FastText-</a>"
            ],
            "text/plain": [
              "<IPython.core.display.HTML object>"
            ]
          },
          "metadata": {},
          "output_type": "display_data"
        },
        {
          "data": {
            "text/html": [
              " View run at <a href='https://wandb.ai/wilfried-mvomoeto-university-of-li-ge/Few-Shot-Binary-Class-Training_gru_glove_fastText_Bahdanau-GRU-Bah-FastText-/runs/8ejvjf6k' target=\"_blank\">https://wandb.ai/wilfried-mvomoeto-university-of-li-ge/Few-Shot-Binary-Class-Training_gru_glove_fastText_Bahdanau-GRU-Bah-FastText-/runs/8ejvjf6k</a>"
            ],
            "text/plain": [
              "<IPython.core.display.HTML object>"
            ]
          },
          "metadata": {},
          "output_type": "display_data"
        },
        {
          "name": "stderr",
          "output_type": "stream",
          "text": [
            "GRU-Bah-FastText K-400 Epoch 15/1000 - Train Loss: 0.2860, Test Loss: 0.3369, Train Acc: 91.38%, Test Acc: 89.07%, Test F1: 89.07%, Test Balanced Acc: 88.14%, Test Recall: 89.07%, Test Precision: 89.09%, Time: 1.24 sec:   2%|▏         | 15/1000 [00:20<22:22,  1.36s/epoch]"
          ]
        },
        {
          "name": "stdout",
          "output_type": "stream",
          "text": [
            "Early stopping triggered at epoch 16\n",
            "Model GRU-Bah-FastText_K-400 saved with loss gap > 1.25 or accuracy gap > 10% at epoch 15.\n"
          ]
        },
        {
          "name": "stderr",
          "output_type": "stream",
          "text": [
            "\n",
            "<ipython-input-10-f03193db776b>:44: UserWarning: To copy construct from a tensor, it is recommended to use sourceTensor.clone().detach() or sourceTensor.clone().detach().requires_grad_(True), rather than torch.tensor(sourceTensor).\n",
            "  self.X = torch.tensor(X_data, dtype=torch.long)\n",
            "<ipython-input-10-f03193db776b>:45: UserWarning: To copy construct from a tensor, it is recommended to use sourceTensor.clone().detach() or sourceTensor.clone().detach().requires_grad_(True), rather than torch.tensor(sourceTensor).\n",
            "  self.y = torch.tensor(y_data, dtype=torch.long)\n"
          ]
        },
        {
          "data": {
            "text/html": [
              "Finishing previous runs because reinit is set to 'default'."
            ],
            "text/plain": [
              "<IPython.core.display.HTML object>"
            ]
          },
          "metadata": {},
          "output_type": "display_data"
        },
        {
          "data": {
            "text/html": [],
            "text/plain": [
              "<IPython.core.display.HTML object>"
            ]
          },
          "metadata": {},
          "output_type": "display_data"
        },
        {
          "data": {
            "text/html": [
              "<br>    <style><br>        .wandb-row {<br>            display: flex;<br>            flex-direction: row;<br>            flex-wrap: wrap;<br>            justify-content: flex-start;<br>            width: 100%;<br>        }<br>        .wandb-col {<br>            display: flex;<br>            flex-direction: column;<br>            flex-basis: 100%;<br>            flex: 1;<br>            padding: 10px;<br>        }<br>    </style><br><div class=\"wandb-row\"><div class=\"wandb-col\"><h3>Run history:</h3><br/><table class=\"wandb\"><tr><td>epoch</td><td>▁▁▂▂▃▃▄▄▅▅▆▆▇▇██</td></tr><tr><td>k_shot</td><td>▁▁▁▁▁▁▁▁▁▁▁▁▁▁▁▁</td></tr><tr><td>test_acc</td><td>▁▂▃▅▅▇▇█████████</td></tr><tr><td>test_balanced_acc</td><td>▁▂▄▄▅▇██████████</td></tr><tr><td>test_f1</td><td>▁▃▄▅▆▇▇█████████</td></tr><tr><td>test_loss</td><td>███▇▇▆▅▃▃▂▂▂▁▁▁▁</td></tr><tr><td>test_precision</td><td>▁▂▄▄▅▇▇█████████</td></tr><tr><td>test_recall</td><td>▁▂▃▅▅▇▇█████████</td></tr><tr><td>train_acc</td><td>▁▂▂▄▄▅▆▇▇███████</td></tr><tr><td>train_loss</td><td>██▇▇▆▆▅▄▃▃▃▂▂▂▁▁</td></tr></table><br/></div><div class=\"wandb-col\"><h3>Run summary:</h3><br/><table class=\"wandb\"><tr><td>epoch</td><td>16</td></tr><tr><td>k_shot</td><td>400</td></tr><tr><td>test_acc</td><td>0.89016</td></tr><tr><td>test_balanced_acc</td><td>0.88131</td></tr><tr><td>test_f1</td><td>0.8903</td></tr><tr><td>test_loss</td><td>0.33754</td></tr><tr><td>test_precision</td><td>0.89048</td></tr><tr><td>test_recall</td><td>0.89016</td></tr><tr><td>train_acc</td><td>0.9225</td></tr><tr><td>train_loss</td><td>0.25512</td></tr></table><br/></div></div>"
            ],
            "text/plain": [
              "<IPython.core.display.HTML object>"
            ]
          },
          "metadata": {},
          "output_type": "display_data"
        },
        {
          "data": {
            "text/html": [
              " View run <strong style=\"color:#cdcd00\">GRU-Bah-FastText_K-400_Training</strong> at: <a href='https://wandb.ai/wilfried-mvomoeto-university-of-li-ge/Few-Shot-Binary-Class-Training_gru_glove_fastText_Bahdanau-GRU-Bah-FastText-/runs/8ejvjf6k' target=\"_blank\">https://wandb.ai/wilfried-mvomoeto-university-of-li-ge/Few-Shot-Binary-Class-Training_gru_glove_fastText_Bahdanau-GRU-Bah-FastText-/runs/8ejvjf6k</a><br> View project at: <a href='https://wandb.ai/wilfried-mvomoeto-university-of-li-ge/Few-Shot-Binary-Class-Training_gru_glove_fastText_Bahdanau-GRU-Bah-FastText-' target=\"_blank\">https://wandb.ai/wilfried-mvomoeto-university-of-li-ge/Few-Shot-Binary-Class-Training_gru_glove_fastText_Bahdanau-GRU-Bah-FastText-</a><br>Synced 5 W&B file(s), 0 media file(s), 0 artifact file(s) and 0 other file(s)"
            ],
            "text/plain": [
              "<IPython.core.display.HTML object>"
            ]
          },
          "metadata": {},
          "output_type": "display_data"
        },
        {
          "data": {
            "text/html": [
              "Find logs at: <code>./wandb/run-20250501_183536-8ejvjf6k/logs</code>"
            ],
            "text/plain": [
              "<IPython.core.display.HTML object>"
            ]
          },
          "metadata": {},
          "output_type": "display_data"
        },
        {
          "data": {
            "text/html": [
              "Tracking run with wandb version 0.19.10"
            ],
            "text/plain": [
              "<IPython.core.display.HTML object>"
            ]
          },
          "metadata": {},
          "output_type": "display_data"
        },
        {
          "data": {
            "text/html": [
              "Run data is saved locally in <code>/content/wandb/run-20250501_183604-pro7461i</code>"
            ],
            "text/plain": [
              "<IPython.core.display.HTML object>"
            ]
          },
          "metadata": {},
          "output_type": "display_data"
        },
        {
          "data": {
            "text/html": [
              "Syncing run <strong><a href='https://wandb.ai/wilfried-mvomoeto-university-of-li-ge/Few-Shot-Binary-Class-Training_gru_glove_fastText_Bahdanau-CNN_LSTM-/runs/pro7461i' target=\"_blank\">CNN_LSTM_K-400_Training</a></strong> to <a href='https://wandb.ai/wilfried-mvomoeto-university-of-li-ge/Few-Shot-Binary-Class-Training_gru_glove_fastText_Bahdanau-CNN_LSTM-' target=\"_blank\">Weights & Biases</a> (<a href='https://wandb.me/developer-guide' target=\"_blank\">docs</a>)<br>"
            ],
            "text/plain": [
              "<IPython.core.display.HTML object>"
            ]
          },
          "metadata": {},
          "output_type": "display_data"
        },
        {
          "data": {
            "text/html": [
              " View project at <a href='https://wandb.ai/wilfried-mvomoeto-university-of-li-ge/Few-Shot-Binary-Class-Training_gru_glove_fastText_Bahdanau-CNN_LSTM-' target=\"_blank\">https://wandb.ai/wilfried-mvomoeto-university-of-li-ge/Few-Shot-Binary-Class-Training_gru_glove_fastText_Bahdanau-CNN_LSTM-</a>"
            ],
            "text/plain": [
              "<IPython.core.display.HTML object>"
            ]
          },
          "metadata": {},
          "output_type": "display_data"
        },
        {
          "data": {
            "text/html": [
              " View run at <a href='https://wandb.ai/wilfried-mvomoeto-university-of-li-ge/Few-Shot-Binary-Class-Training_gru_glove_fastText_Bahdanau-CNN_LSTM-/runs/pro7461i' target=\"_blank\">https://wandb.ai/wilfried-mvomoeto-university-of-li-ge/Few-Shot-Binary-Class-Training_gru_glove_fastText_Bahdanau-CNN_LSTM-/runs/pro7461i</a>"
            ],
            "text/plain": [
              "<IPython.core.display.HTML object>"
            ]
          },
          "metadata": {},
          "output_type": "display_data"
        },
        {
          "name": "stderr",
          "output_type": "stream",
          "text": [
            "Training CNN_LSTM with 400-shot:   0%|          | 0/1000 [00:00<?, ?epoch/s]"
          ]
        },
        {
          "name": "stdout",
          "output_type": "stream",
          "text": [
            "Early stopping triggered at epoch 1\n",
            "Model CNN_LSTM_K-400 saved with loss gap > 1.25 or accuracy gap > 10% at epoch 0.\n"
          ]
        },
        {
          "name": "stderr",
          "output_type": "stream",
          "text": [
            "\n",
            "<ipython-input-10-f03193db776b>:44: UserWarning: To copy construct from a tensor, it is recommended to use sourceTensor.clone().detach() or sourceTensor.clone().detach().requires_grad_(True), rather than torch.tensor(sourceTensor).\n",
            "  self.X = torch.tensor(X_data, dtype=torch.long)\n",
            "<ipython-input-10-f03193db776b>:45: UserWarning: To copy construct from a tensor, it is recommended to use sourceTensor.clone().detach() or sourceTensor.clone().detach().requires_grad_(True), rather than torch.tensor(sourceTensor).\n",
            "  self.y = torch.tensor(y_data, dtype=torch.long)\n"
          ]
        },
        {
          "data": {
            "text/html": [
              "Finishing previous runs because reinit is set to 'default'."
            ],
            "text/plain": [
              "<IPython.core.display.HTML object>"
            ]
          },
          "metadata": {},
          "output_type": "display_data"
        },
        {
          "data": {
            "text/html": [],
            "text/plain": [
              "<IPython.core.display.HTML object>"
            ]
          },
          "metadata": {},
          "output_type": "display_data"
        },
        {
          "data": {
            "text/html": [
              "<br>    <style><br>        .wandb-row {<br>            display: flex;<br>            flex-direction: row;<br>            flex-wrap: wrap;<br>            justify-content: flex-start;<br>            width: 100%;<br>        }<br>        .wandb-col {<br>            display: flex;<br>            flex-direction: column;<br>            flex-basis: 100%;<br>            flex: 1;<br>            padding: 10px;<br>        }<br>    </style><br><div class=\"wandb-row\"><div class=\"wandb-col\"><h3>Run history:</h3><br/><table class=\"wandb\"><tr><td>epoch</td><td>▁</td></tr><tr><td>k_shot</td><td>▁</td></tr><tr><td>test_acc</td><td>▁</td></tr><tr><td>test_balanced_acc</td><td>▁</td></tr><tr><td>test_f1</td><td>▁</td></tr><tr><td>test_loss</td><td>▁</td></tr><tr><td>test_precision</td><td>▁</td></tr><tr><td>test_recall</td><td>▁</td></tr><tr><td>train_acc</td><td>▁</td></tr><tr><td>train_loss</td><td>▁</td></tr></table><br/></div><div class=\"wandb-col\"><h3>Run summary:</h3><br/><table class=\"wandb\"><tr><td>epoch</td><td>1</td></tr><tr><td>k_shot</td><td>400</td></tr><tr><td>test_acc</td><td>0.35433</td></tr><tr><td>test_balanced_acc</td><td>0.5</td></tr><tr><td>test_f1</td><td>0.1854</td></tr><tr><td>test_loss</td><td>0.69792</td></tr><tr><td>test_precision</td><td>0.12555</td></tr><tr><td>test_recall</td><td>0.35433</td></tr><tr><td>train_acc</td><td>0.48125</td></tr><tr><td>train_loss</td><td>0.69733</td></tr></table><br/></div></div>"
            ],
            "text/plain": [
              "<IPython.core.display.HTML object>"
            ]
          },
          "metadata": {},
          "output_type": "display_data"
        },
        {
          "data": {
            "text/html": [
              " View run <strong style=\"color:#cdcd00\">CNN_LSTM_K-400_Training</strong> at: <a href='https://wandb.ai/wilfried-mvomoeto-university-of-li-ge/Few-Shot-Binary-Class-Training_gru_glove_fastText_Bahdanau-CNN_LSTM-/runs/pro7461i' target=\"_blank\">https://wandb.ai/wilfried-mvomoeto-university-of-li-ge/Few-Shot-Binary-Class-Training_gru_glove_fastText_Bahdanau-CNN_LSTM-/runs/pro7461i</a><br> View project at: <a href='https://wandb.ai/wilfried-mvomoeto-university-of-li-ge/Few-Shot-Binary-Class-Training_gru_glove_fastText_Bahdanau-CNN_LSTM-' target=\"_blank\">https://wandb.ai/wilfried-mvomoeto-university-of-li-ge/Few-Shot-Binary-Class-Training_gru_glove_fastText_Bahdanau-CNN_LSTM-</a><br>Synced 5 W&B file(s), 0 media file(s), 0 artifact file(s) and 0 other file(s)"
            ],
            "text/plain": [
              "<IPython.core.display.HTML object>"
            ]
          },
          "metadata": {},
          "output_type": "display_data"
        },
        {
          "data": {
            "text/html": [
              "Find logs at: <code>./wandb/run-20250501_183604-pro7461i/logs</code>"
            ],
            "text/plain": [
              "<IPython.core.display.HTML object>"
            ]
          },
          "metadata": {},
          "output_type": "display_data"
        },
        {
          "data": {
            "text/html": [
              "Tracking run with wandb version 0.19.10"
            ],
            "text/plain": [
              "<IPython.core.display.HTML object>"
            ]
          },
          "metadata": {},
          "output_type": "display_data"
        },
        {
          "data": {
            "text/html": [
              "Run data is saved locally in <code>/content/wandb/run-20250501_183613-f0kt0xfo</code>"
            ],
            "text/plain": [
              "<IPython.core.display.HTML object>"
            ]
          },
          "metadata": {},
          "output_type": "display_data"
        },
        {
          "data": {
            "text/html": [
              "Syncing run <strong><a href='https://wandb.ai/wilfried-mvomoeto-university-of-li-ge/Few-Shot-Binary-Class-Training_gru_glove_fastText_Bahdanau-GRU-Glove-/runs/f0kt0xfo' target=\"_blank\">GRU-Glove_K-400_Training</a></strong> to <a href='https://wandb.ai/wilfried-mvomoeto-university-of-li-ge/Few-Shot-Binary-Class-Training_gru_glove_fastText_Bahdanau-GRU-Glove-' target=\"_blank\">Weights & Biases</a> (<a href='https://wandb.me/developer-guide' target=\"_blank\">docs</a>)<br>"
            ],
            "text/plain": [
              "<IPython.core.display.HTML object>"
            ]
          },
          "metadata": {},
          "output_type": "display_data"
        },
        {
          "data": {
            "text/html": [
              " View project at <a href='https://wandb.ai/wilfried-mvomoeto-university-of-li-ge/Few-Shot-Binary-Class-Training_gru_glove_fastText_Bahdanau-GRU-Glove-' target=\"_blank\">https://wandb.ai/wilfried-mvomoeto-university-of-li-ge/Few-Shot-Binary-Class-Training_gru_glove_fastText_Bahdanau-GRU-Glove-</a>"
            ],
            "text/plain": [
              "<IPython.core.display.HTML object>"
            ]
          },
          "metadata": {},
          "output_type": "display_data"
        },
        {
          "data": {
            "text/html": [
              " View run at <a href='https://wandb.ai/wilfried-mvomoeto-university-of-li-ge/Few-Shot-Binary-Class-Training_gru_glove_fastText_Bahdanau-GRU-Glove-/runs/f0kt0xfo' target=\"_blank\">https://wandb.ai/wilfried-mvomoeto-university-of-li-ge/Few-Shot-Binary-Class-Training_gru_glove_fastText_Bahdanau-GRU-Glove-/runs/f0kt0xfo</a>"
            ],
            "text/plain": [
              "<IPython.core.display.HTML object>"
            ]
          },
          "metadata": {},
          "output_type": "display_data"
        },
        {
          "name": "stderr",
          "output_type": "stream",
          "text": [
            "GRU-Glove K-400 Epoch 1/1000 - Train Loss: 0.7097, Test Loss: 0.6781, Train Acc: 52.25%, Test Acc: 64.39%, Test F1: 50.81%, Test Balanced Acc: 49.94%, Test Recall: 64.39%, Test Precision: 52.09%, Time: 0.99 sec:   0%|          | 1/1000 [00:02<33:48,  2.03s/epoch]"
          ]
        },
        {
          "name": "stdout",
          "output_type": "stream",
          "text": [
            "Early stopping triggered at epoch 2\n",
            "Model GRU-Glove_K-400 saved with loss gap > 1.25 or accuracy gap > 10% at epoch 1.\n"
          ]
        },
        {
          "name": "stderr",
          "output_type": "stream",
          "text": [
            "\n",
            "<ipython-input-10-f03193db776b>:44: UserWarning: To copy construct from a tensor, it is recommended to use sourceTensor.clone().detach() or sourceTensor.clone().detach().requires_grad_(True), rather than torch.tensor(sourceTensor).\n",
            "  self.X = torch.tensor(X_data, dtype=torch.long)\n",
            "<ipython-input-10-f03193db776b>:45: UserWarning: To copy construct from a tensor, it is recommended to use sourceTensor.clone().detach() or sourceTensor.clone().detach().requires_grad_(True), rather than torch.tensor(sourceTensor).\n",
            "  self.y = torch.tensor(y_data, dtype=torch.long)\n"
          ]
        },
        {
          "data": {
            "text/html": [
              "Finishing previous runs because reinit is set to 'default'."
            ],
            "text/plain": [
              "<IPython.core.display.HTML object>"
            ]
          },
          "metadata": {},
          "output_type": "display_data"
        },
        {
          "data": {
            "text/html": [],
            "text/plain": [
              "<IPython.core.display.HTML object>"
            ]
          },
          "metadata": {},
          "output_type": "display_data"
        },
        {
          "data": {
            "text/html": [
              "<br>    <style><br>        .wandb-row {<br>            display: flex;<br>            flex-direction: row;<br>            flex-wrap: wrap;<br>            justify-content: flex-start;<br>            width: 100%;<br>        }<br>        .wandb-col {<br>            display: flex;<br>            flex-direction: column;<br>            flex-basis: 100%;<br>            flex: 1;<br>            padding: 10px;<br>        }<br>    </style><br><div class=\"wandb-row\"><div class=\"wandb-col\"><h3>Run history:</h3><br/><table class=\"wandb\"><tr><td>epoch</td><td>▁█</td></tr><tr><td>k_shot</td><td>▁▁</td></tr><tr><td>test_acc</td><td>█▁</td></tr><tr><td>test_balanced_acc</td><td>▁█</td></tr><tr><td>test_f1</td><td>█▁</td></tr><tr><td>test_loss</td><td>▁█</td></tr><tr><td>test_precision</td><td>▁█</td></tr><tr><td>test_recall</td><td>█▁</td></tr><tr><td>train_acc</td><td>█▁</td></tr><tr><td>train_loss</td><td>▁█</td></tr></table><br/></div><div class=\"wandb-col\"><h3>Run summary:</h3><br/><table class=\"wandb\"><tr><td>epoch</td><td>2</td></tr><tr><td>k_shot</td><td>400</td></tr><tr><td>test_acc</td><td>0.3878</td></tr><tr><td>test_balanced_acc</td><td>0.51598</td></tr><tr><td>test_f1</td><td>0.27537</td></tr><tr><td>test_loss</td><td>0.7005</td></tr><tr><td>test_precision</td><td>0.61814</td></tr><tr><td>test_recall</td><td>0.3878</td></tr><tr><td>train_acc</td><td>0.505</td></tr><tr><td>train_loss</td><td>0.7125</td></tr></table><br/></div></div>"
            ],
            "text/plain": [
              "<IPython.core.display.HTML object>"
            ]
          },
          "metadata": {},
          "output_type": "display_data"
        },
        {
          "data": {
            "text/html": [
              " View run <strong style=\"color:#cdcd00\">GRU-Glove_K-400_Training</strong> at: <a href='https://wandb.ai/wilfried-mvomoeto-university-of-li-ge/Few-Shot-Binary-Class-Training_gru_glove_fastText_Bahdanau-GRU-Glove-/runs/f0kt0xfo' target=\"_blank\">https://wandb.ai/wilfried-mvomoeto-university-of-li-ge/Few-Shot-Binary-Class-Training_gru_glove_fastText_Bahdanau-GRU-Glove-/runs/f0kt0xfo</a><br> View project at: <a href='https://wandb.ai/wilfried-mvomoeto-university-of-li-ge/Few-Shot-Binary-Class-Training_gru_glove_fastText_Bahdanau-GRU-Glove-' target=\"_blank\">https://wandb.ai/wilfried-mvomoeto-university-of-li-ge/Few-Shot-Binary-Class-Training_gru_glove_fastText_Bahdanau-GRU-Glove-</a><br>Synced 5 W&B file(s), 0 media file(s), 0 artifact file(s) and 0 other file(s)"
            ],
            "text/plain": [
              "<IPython.core.display.HTML object>"
            ]
          },
          "metadata": {},
          "output_type": "display_data"
        },
        {
          "data": {
            "text/html": [
              "Find logs at: <code>./wandb/run-20250501_183613-f0kt0xfo/logs</code>"
            ],
            "text/plain": [
              "<IPython.core.display.HTML object>"
            ]
          },
          "metadata": {},
          "output_type": "display_data"
        },
        {
          "data": {
            "text/html": [
              "Tracking run with wandb version 0.19.10"
            ],
            "text/plain": [
              "<IPython.core.display.HTML object>"
            ]
          },
          "metadata": {},
          "output_type": "display_data"
        },
        {
          "data": {
            "text/html": [
              "Run data is saved locally in <code>/content/wandb/run-20250501_183623-7qirreec</code>"
            ],
            "text/plain": [
              "<IPython.core.display.HTML object>"
            ]
          },
          "metadata": {},
          "output_type": "display_data"
        },
        {
          "data": {
            "text/html": [
              "Syncing run <strong><a href='https://wandb.ai/wilfried-mvomoeto-university-of-li-ge/Few-Shot-Binary-Class-Training_gru_glove_fastText_Bahdanau-GRU-FastText-/runs/7qirreec' target=\"_blank\">GRU-FastText_K-400_Training</a></strong> to <a href='https://wandb.ai/wilfried-mvomoeto-university-of-li-ge/Few-Shot-Binary-Class-Training_gru_glove_fastText_Bahdanau-GRU-FastText-' target=\"_blank\">Weights & Biases</a> (<a href='https://wandb.me/developer-guide' target=\"_blank\">docs</a>)<br>"
            ],
            "text/plain": [
              "<IPython.core.display.HTML object>"
            ]
          },
          "metadata": {},
          "output_type": "display_data"
        },
        {
          "data": {
            "text/html": [
              " View project at <a href='https://wandb.ai/wilfried-mvomoeto-university-of-li-ge/Few-Shot-Binary-Class-Training_gru_glove_fastText_Bahdanau-GRU-FastText-' target=\"_blank\">https://wandb.ai/wilfried-mvomoeto-university-of-li-ge/Few-Shot-Binary-Class-Training_gru_glove_fastText_Bahdanau-GRU-FastText-</a>"
            ],
            "text/plain": [
              "<IPython.core.display.HTML object>"
            ]
          },
          "metadata": {},
          "output_type": "display_data"
        },
        {
          "data": {
            "text/html": [
              " View run at <a href='https://wandb.ai/wilfried-mvomoeto-university-of-li-ge/Few-Shot-Binary-Class-Training_gru_glove_fastText_Bahdanau-GRU-FastText-/runs/7qirreec' target=\"_blank\">https://wandb.ai/wilfried-mvomoeto-university-of-li-ge/Few-Shot-Binary-Class-Training_gru_glove_fastText_Bahdanau-GRU-FastText-/runs/7qirreec</a>"
            ],
            "text/plain": [
              "<IPython.core.display.HTML object>"
            ]
          },
          "metadata": {},
          "output_type": "display_data"
        },
        {
          "name": "stderr",
          "output_type": "stream",
          "text": [
            "Training GRU-FastText with 400-shot:   0%|          | 0/1000 [00:00<?, ?epoch/s]"
          ]
        },
        {
          "name": "stdout",
          "output_type": "stream",
          "text": [
            "Early stopping triggered at epoch 1\n",
            "Model GRU-FastText_K-400 saved with loss gap > 1.25 or accuracy gap > 10% at epoch 0.\n",
            "\n",
            "Training with 600-shot...\n"
          ]
        },
        {
          "name": "stderr",
          "output_type": "stream",
          "text": [
            "\n",
            "<ipython-input-10-f03193db776b>:44: UserWarning: To copy construct from a tensor, it is recommended to use sourceTensor.clone().detach() or sourceTensor.clone().detach().requires_grad_(True), rather than torch.tensor(sourceTensor).\n",
            "  self.X = torch.tensor(X_data, dtype=torch.long)\n",
            "<ipython-input-10-f03193db776b>:45: UserWarning: To copy construct from a tensor, it is recommended to use sourceTensor.clone().detach() or sourceTensor.clone().detach().requires_grad_(True), rather than torch.tensor(sourceTensor).\n",
            "  self.y = torch.tensor(y_data, dtype=torch.long)\n"
          ]
        },
        {
          "data": {
            "text/html": [
              "Finishing previous runs because reinit is set to 'default'."
            ],
            "text/plain": [
              "<IPython.core.display.HTML object>"
            ]
          },
          "metadata": {},
          "output_type": "display_data"
        },
        {
          "data": {
            "text/html": [],
            "text/plain": [
              "<IPython.core.display.HTML object>"
            ]
          },
          "metadata": {},
          "output_type": "display_data"
        },
        {
          "data": {
            "text/html": [
              "<br>    <style><br>        .wandb-row {<br>            display: flex;<br>            flex-direction: row;<br>            flex-wrap: wrap;<br>            justify-content: flex-start;<br>            width: 100%;<br>        }<br>        .wandb-col {<br>            display: flex;<br>            flex-direction: column;<br>            flex-basis: 100%;<br>            flex: 1;<br>            padding: 10px;<br>        }<br>    </style><br><div class=\"wandb-row\"><div class=\"wandb-col\"><h3>Run history:</h3><br/><table class=\"wandb\"><tr><td>epoch</td><td>▁</td></tr><tr><td>k_shot</td><td>▁</td></tr><tr><td>test_acc</td><td>▁</td></tr><tr><td>test_balanced_acc</td><td>▁</td></tr><tr><td>test_f1</td><td>▁</td></tr><tr><td>test_loss</td><td>▁</td></tr><tr><td>test_precision</td><td>▁</td></tr><tr><td>test_recall</td><td>▁</td></tr><tr><td>train_acc</td><td>▁</td></tr><tr><td>train_loss</td><td>▁</td></tr></table><br/></div><div class=\"wandb-col\"><h3>Run summary:</h3><br/><table class=\"wandb\"><tr><td>epoch</td><td>1</td></tr><tr><td>k_shot</td><td>400</td></tr><tr><td>test_acc</td><td>0.35482</td></tr><tr><td>test_balanced_acc</td><td>0.49881</td></tr><tr><td>test_f1</td><td>0.19075</td></tr><tr><td>test_loss</td><td>0.71967</td></tr><tr><td>test_precision</td><td>0.47754</td></tr><tr><td>test_recall</td><td>0.35482</td></tr><tr><td>train_acc</td><td>0.4825</td></tr><tr><td>train_loss</td><td>0.72832</td></tr></table><br/></div></div>"
            ],
            "text/plain": [
              "<IPython.core.display.HTML object>"
            ]
          },
          "metadata": {},
          "output_type": "display_data"
        },
        {
          "data": {
            "text/html": [
              " View run <strong style=\"color:#cdcd00\">GRU-FastText_K-400_Training</strong> at: <a href='https://wandb.ai/wilfried-mvomoeto-university-of-li-ge/Few-Shot-Binary-Class-Training_gru_glove_fastText_Bahdanau-GRU-FastText-/runs/7qirreec' target=\"_blank\">https://wandb.ai/wilfried-mvomoeto-university-of-li-ge/Few-Shot-Binary-Class-Training_gru_glove_fastText_Bahdanau-GRU-FastText-/runs/7qirreec</a><br> View project at: <a href='https://wandb.ai/wilfried-mvomoeto-university-of-li-ge/Few-Shot-Binary-Class-Training_gru_glove_fastText_Bahdanau-GRU-FastText-' target=\"_blank\">https://wandb.ai/wilfried-mvomoeto-university-of-li-ge/Few-Shot-Binary-Class-Training_gru_glove_fastText_Bahdanau-GRU-FastText-</a><br>Synced 5 W&B file(s), 0 media file(s), 0 artifact file(s) and 0 other file(s)"
            ],
            "text/plain": [
              "<IPython.core.display.HTML object>"
            ]
          },
          "metadata": {},
          "output_type": "display_data"
        },
        {
          "data": {
            "text/html": [
              "Find logs at: <code>./wandb/run-20250501_183623-7qirreec/logs</code>"
            ],
            "text/plain": [
              "<IPython.core.display.HTML object>"
            ]
          },
          "metadata": {},
          "output_type": "display_data"
        },
        {
          "data": {
            "text/html": [
              "Tracking run with wandb version 0.19.10"
            ],
            "text/plain": [
              "<IPython.core.display.HTML object>"
            ]
          },
          "metadata": {},
          "output_type": "display_data"
        },
        {
          "data": {
            "text/html": [
              "Run data is saved locally in <code>/content/wandb/run-20250501_183632-jjg6w8iz</code>"
            ],
            "text/plain": [
              "<IPython.core.display.HTML object>"
            ]
          },
          "metadata": {},
          "output_type": "display_data"
        },
        {
          "data": {
            "text/html": [
              "Syncing run <strong><a href='https://wandb.ai/wilfried-mvomoeto-university-of-li-ge/Few-Shot-Binary-Class-Training_gru_glove_fastText_Bahdanau-GRU-Bah-Glove-/runs/jjg6w8iz' target=\"_blank\">GRU-Bah-Glove_K-600_Training</a></strong> to <a href='https://wandb.ai/wilfried-mvomoeto-university-of-li-ge/Few-Shot-Binary-Class-Training_gru_glove_fastText_Bahdanau-GRU-Bah-Glove-' target=\"_blank\">Weights & Biases</a> (<a href='https://wandb.me/developer-guide' target=\"_blank\">docs</a>)<br>"
            ],
            "text/plain": [
              "<IPython.core.display.HTML object>"
            ]
          },
          "metadata": {},
          "output_type": "display_data"
        },
        {
          "data": {
            "text/html": [
              " View project at <a href='https://wandb.ai/wilfried-mvomoeto-university-of-li-ge/Few-Shot-Binary-Class-Training_gru_glove_fastText_Bahdanau-GRU-Bah-Glove-' target=\"_blank\">https://wandb.ai/wilfried-mvomoeto-university-of-li-ge/Few-Shot-Binary-Class-Training_gru_glove_fastText_Bahdanau-GRU-Bah-Glove-</a>"
            ],
            "text/plain": [
              "<IPython.core.display.HTML object>"
            ]
          },
          "metadata": {},
          "output_type": "display_data"
        },
        {
          "data": {
            "text/html": [
              " View run at <a href='https://wandb.ai/wilfried-mvomoeto-university-of-li-ge/Few-Shot-Binary-Class-Training_gru_glove_fastText_Bahdanau-GRU-Bah-Glove-/runs/jjg6w8iz' target=\"_blank\">https://wandb.ai/wilfried-mvomoeto-university-of-li-ge/Few-Shot-Binary-Class-Training_gru_glove_fastText_Bahdanau-GRU-Bah-Glove-/runs/jjg6w8iz</a>"
            ],
            "text/plain": [
              "<IPython.core.display.HTML object>"
            ]
          },
          "metadata": {},
          "output_type": "display_data"
        },
        {
          "name": "stderr",
          "output_type": "stream",
          "text": [
            "GRU-Bah-Glove K-600 Epoch 14/1000 - Train Loss: 0.2719, Test Loss: 0.3265, Train Acc: 91.67%, Test Acc: 90.08%, Test F1: 90.11%, Test Balanced Acc: 89.48%, Test Recall: 90.08%, Test Precision: 90.16%, Time: 1.63 sec:   1%|▏         | 14/1000 [00:23<27:54,  1.70s/epoch]"
          ]
        },
        {
          "name": "stdout",
          "output_type": "stream",
          "text": [
            "Early stopping triggered at epoch 15\n",
            "Model GRU-Bah-Glove_K-600 saved with loss gap > 1.25 or accuracy gap > 10% at epoch 14.\n"
          ]
        },
        {
          "name": "stderr",
          "output_type": "stream",
          "text": [
            "\n",
            "<ipython-input-10-f03193db776b>:44: UserWarning: To copy construct from a tensor, it is recommended to use sourceTensor.clone().detach() or sourceTensor.clone().detach().requires_grad_(True), rather than torch.tensor(sourceTensor).\n",
            "  self.X = torch.tensor(X_data, dtype=torch.long)\n",
            "<ipython-input-10-f03193db776b>:45: UserWarning: To copy construct from a tensor, it is recommended to use sourceTensor.clone().detach() or sourceTensor.clone().detach().requires_grad_(True), rather than torch.tensor(sourceTensor).\n",
            "  self.y = torch.tensor(y_data, dtype=torch.long)\n"
          ]
        },
        {
          "data": {
            "text/html": [
              "Finishing previous runs because reinit is set to 'default'."
            ],
            "text/plain": [
              "<IPython.core.display.HTML object>"
            ]
          },
          "metadata": {},
          "output_type": "display_data"
        },
        {
          "data": {
            "text/html": [],
            "text/plain": [
              "<IPython.core.display.HTML object>"
            ]
          },
          "metadata": {},
          "output_type": "display_data"
        },
        {
          "data": {
            "text/html": [
              "<br>    <style><br>        .wandb-row {<br>            display: flex;<br>            flex-direction: row;<br>            flex-wrap: wrap;<br>            justify-content: flex-start;<br>            width: 100%;<br>        }<br>        .wandb-col {<br>            display: flex;<br>            flex-direction: column;<br>            flex-basis: 100%;<br>            flex: 1;<br>            padding: 10px;<br>        }<br>    </style><br><div class=\"wandb-row\"><div class=\"wandb-col\"><h3>Run history:</h3><br/><table class=\"wandb\"><tr><td>epoch</td><td>▁▁▂▃▃▃▄▅▅▅▆▇▇▇█</td></tr><tr><td>k_shot</td><td>▁▁▁▁▁▁▁▁▁▁▁▁▁▁▁</td></tr><tr><td>test_acc</td><td>▁▃▅▇███████████</td></tr><tr><td>test_balanced_acc</td><td>▁▃▅████████████</td></tr><tr><td>test_f1</td><td>▁▃▅▇███████████</td></tr><tr><td>test_loss</td><td>██▇▅▃▂▂▂▁▁▁▁▁▁▁</td></tr><tr><td>test_precision</td><td>▁▃▅▇███████████</td></tr><tr><td>test_recall</td><td>▁▃▅▇███████████</td></tr><tr><td>train_acc</td><td>▁▁▂▄▇▇█▇███████</td></tr><tr><td>train_loss</td><td>██▇▆▄▃▃▃▂▂▂▂▂▂▁</td></tr></table><br/></div><div class=\"wandb-col\"><h3>Run summary:</h3><br/><table class=\"wandb\"><tr><td>epoch</td><td>15</td></tr><tr><td>k_shot</td><td>600</td></tr><tr><td>test_acc</td><td>0.90255</td></tr><tr><td>test_balanced_acc</td><td>0.89344</td></tr><tr><td>test_f1</td><td>0.90255</td></tr><tr><td>test_loss</td><td>0.32011</td></tr><tr><td>test_precision</td><td>0.90254</td></tr><tr><td>test_recall</td><td>0.90255</td></tr><tr><td>train_acc</td><td>0.93083</td></tr><tr><td>train_loss</td><td>0.23706</td></tr></table><br/></div></div>"
            ],
            "text/plain": [
              "<IPython.core.display.HTML object>"
            ]
          },
          "metadata": {},
          "output_type": "display_data"
        },
        {
          "data": {
            "text/html": [
              " View run <strong style=\"color:#cdcd00\">GRU-Bah-Glove_K-600_Training</strong> at: <a href='https://wandb.ai/wilfried-mvomoeto-university-of-li-ge/Few-Shot-Binary-Class-Training_gru_glove_fastText_Bahdanau-GRU-Bah-Glove-/runs/jjg6w8iz' target=\"_blank\">https://wandb.ai/wilfried-mvomoeto-university-of-li-ge/Few-Shot-Binary-Class-Training_gru_glove_fastText_Bahdanau-GRU-Bah-Glove-/runs/jjg6w8iz</a><br> View project at: <a href='https://wandb.ai/wilfried-mvomoeto-university-of-li-ge/Few-Shot-Binary-Class-Training_gru_glove_fastText_Bahdanau-GRU-Bah-Glove-' target=\"_blank\">https://wandb.ai/wilfried-mvomoeto-university-of-li-ge/Few-Shot-Binary-Class-Training_gru_glove_fastText_Bahdanau-GRU-Bah-Glove-</a><br>Synced 5 W&B file(s), 0 media file(s), 0 artifact file(s) and 0 other file(s)"
            ],
            "text/plain": [
              "<IPython.core.display.HTML object>"
            ]
          },
          "metadata": {},
          "output_type": "display_data"
        },
        {
          "data": {
            "text/html": [
              "Find logs at: <code>./wandb/run-20250501_183632-jjg6w8iz/logs</code>"
            ],
            "text/plain": [
              "<IPython.core.display.HTML object>"
            ]
          },
          "metadata": {},
          "output_type": "display_data"
        },
        {
          "data": {
            "text/html": [
              "Tracking run with wandb version 0.19.10"
            ],
            "text/plain": [
              "<IPython.core.display.HTML object>"
            ]
          },
          "metadata": {},
          "output_type": "display_data"
        },
        {
          "data": {
            "text/html": [
              "Run data is saved locally in <code>/content/wandb/run-20250501_183703-oj4nv5gy</code>"
            ],
            "text/plain": [
              "<IPython.core.display.HTML object>"
            ]
          },
          "metadata": {},
          "output_type": "display_data"
        },
        {
          "data": {
            "text/html": [
              "Syncing run <strong><a href='https://wandb.ai/wilfried-mvomoeto-university-of-li-ge/Few-Shot-Binary-Class-Training_gru_glove_fastText_Bahdanau-GRU-Bah-FastText-/runs/oj4nv5gy' target=\"_blank\">GRU-Bah-FastText_K-600_Training</a></strong> to <a href='https://wandb.ai/wilfried-mvomoeto-university-of-li-ge/Few-Shot-Binary-Class-Training_gru_glove_fastText_Bahdanau-GRU-Bah-FastText-' target=\"_blank\">Weights & Biases</a> (<a href='https://wandb.me/developer-guide' target=\"_blank\">docs</a>)<br>"
            ],
            "text/plain": [
              "<IPython.core.display.HTML object>"
            ]
          },
          "metadata": {},
          "output_type": "display_data"
        },
        {
          "data": {
            "text/html": [
              " View project at <a href='https://wandb.ai/wilfried-mvomoeto-university-of-li-ge/Few-Shot-Binary-Class-Training_gru_glove_fastText_Bahdanau-GRU-Bah-FastText-' target=\"_blank\">https://wandb.ai/wilfried-mvomoeto-university-of-li-ge/Few-Shot-Binary-Class-Training_gru_glove_fastText_Bahdanau-GRU-Bah-FastText-</a>"
            ],
            "text/plain": [
              "<IPython.core.display.HTML object>"
            ]
          },
          "metadata": {},
          "output_type": "display_data"
        },
        {
          "data": {
            "text/html": [
              " View run at <a href='https://wandb.ai/wilfried-mvomoeto-university-of-li-ge/Few-Shot-Binary-Class-Training_gru_glove_fastText_Bahdanau-GRU-Bah-FastText-/runs/oj4nv5gy' target=\"_blank\">https://wandb.ai/wilfried-mvomoeto-university-of-li-ge/Few-Shot-Binary-Class-Training_gru_glove_fastText_Bahdanau-GRU-Bah-FastText-/runs/oj4nv5gy</a>"
            ],
            "text/plain": [
              "<IPython.core.display.HTML object>"
            ]
          },
          "metadata": {},
          "output_type": "display_data"
        },
        {
          "name": "stderr",
          "output_type": "stream",
          "text": [
            "GRU-Bah-FastText K-600 Epoch 14/1000 - Train Loss: 0.2767, Test Loss: 0.3344, Train Acc: 89.67%, Test Acc: 89.66%, Test F1: 89.76%, Test Balanced Acc: 89.80%, Test Recall: 89.66%, Test Precision: 90.08%, Time: 1.53 sec:   1%|▏         | 14/1000 [00:23<27:44,  1.69s/epoch]"
          ]
        },
        {
          "name": "stdout",
          "output_type": "stream",
          "text": [
            "Early stopping triggered at epoch 15\n",
            "Model GRU-Bah-FastText_K-600 saved with loss gap > 1.25 or accuracy gap > 10% at epoch 14.\n"
          ]
        },
        {
          "name": "stderr",
          "output_type": "stream",
          "text": [
            "\n",
            "<ipython-input-10-f03193db776b>:44: UserWarning: To copy construct from a tensor, it is recommended to use sourceTensor.clone().detach() or sourceTensor.clone().detach().requires_grad_(True), rather than torch.tensor(sourceTensor).\n",
            "  self.X = torch.tensor(X_data, dtype=torch.long)\n",
            "<ipython-input-10-f03193db776b>:45: UserWarning: To copy construct from a tensor, it is recommended to use sourceTensor.clone().detach() or sourceTensor.clone().detach().requires_grad_(True), rather than torch.tensor(sourceTensor).\n",
            "  self.y = torch.tensor(y_data, dtype=torch.long)\n"
          ]
        },
        {
          "data": {
            "text/html": [
              "Finishing previous runs because reinit is set to 'default'."
            ],
            "text/plain": [
              "<IPython.core.display.HTML object>"
            ]
          },
          "metadata": {},
          "output_type": "display_data"
        },
        {
          "data": {
            "text/html": [],
            "text/plain": [
              "<IPython.core.display.HTML object>"
            ]
          },
          "metadata": {},
          "output_type": "display_data"
        },
        {
          "data": {
            "text/html": [
              "<br>    <style><br>        .wandb-row {<br>            display: flex;<br>            flex-direction: row;<br>            flex-wrap: wrap;<br>            justify-content: flex-start;<br>            width: 100%;<br>        }<br>        .wandb-col {<br>            display: flex;<br>            flex-direction: column;<br>            flex-basis: 100%;<br>            flex: 1;<br>            padding: 10px;<br>        }<br>    </style><br><div class=\"wandb-row\"><div class=\"wandb-col\"><h3>Run history:</h3><br/><table class=\"wandb\"><tr><td>epoch</td><td>▁▁▂▃▃▃▄▅▅▅▆▇▇▇█</td></tr><tr><td>k_shot</td><td>▁▁▁▁▁▁▁▁▁▁▁▁▁▁▁</td></tr><tr><td>test_acc</td><td>▁▂▄████████████</td></tr><tr><td>test_balanced_acc</td><td>▁▂▄████████████</td></tr><tr><td>test_f1</td><td>▁▂▄████████████</td></tr><tr><td>test_loss</td><td>██▇▅▂▃▂▁▁▁▁▁▁▁▁</td></tr><tr><td>test_precision</td><td>▁▃▄████████████</td></tr><tr><td>test_recall</td><td>▁▂▄████████████</td></tr><tr><td>train_acc</td><td>▁▂▃▅▇▇▇▇▇▇█████</td></tr><tr><td>train_loss</td><td>█▇▇▆▄▄▄▃▃▃▂▂▂▁▁</td></tr></table><br/></div><div class=\"wandb-col\"><h3>Run summary:</h3><br/><table class=\"wandb\"><tr><td>epoch</td><td>15</td></tr><tr><td>k_shot</td><td>600</td></tr><tr><td>test_acc</td><td>0.89412</td></tr><tr><td>test_balanced_acc</td><td>0.8967</td></tr><tr><td>test_f1</td><td>0.89523</td></tr><tr><td>test_loss</td><td>0.34647</td></tr><tr><td>test_precision</td><td>0.89914</td></tr><tr><td>test_recall</td><td>0.89412</td></tr><tr><td>train_acc</td><td>0.90333</td></tr><tr><td>train_loss</td><td>0.2555</td></tr></table><br/></div></div>"
            ],
            "text/plain": [
              "<IPython.core.display.HTML object>"
            ]
          },
          "metadata": {},
          "output_type": "display_data"
        },
        {
          "data": {
            "text/html": [
              " View run <strong style=\"color:#cdcd00\">GRU-Bah-FastText_K-600_Training</strong> at: <a href='https://wandb.ai/wilfried-mvomoeto-university-of-li-ge/Few-Shot-Binary-Class-Training_gru_glove_fastText_Bahdanau-GRU-Bah-FastText-/runs/oj4nv5gy' target=\"_blank\">https://wandb.ai/wilfried-mvomoeto-university-of-li-ge/Few-Shot-Binary-Class-Training_gru_glove_fastText_Bahdanau-GRU-Bah-FastText-/runs/oj4nv5gy</a><br> View project at: <a href='https://wandb.ai/wilfried-mvomoeto-university-of-li-ge/Few-Shot-Binary-Class-Training_gru_glove_fastText_Bahdanau-GRU-Bah-FastText-' target=\"_blank\">https://wandb.ai/wilfried-mvomoeto-university-of-li-ge/Few-Shot-Binary-Class-Training_gru_glove_fastText_Bahdanau-GRU-Bah-FastText-</a><br>Synced 5 W&B file(s), 0 media file(s), 0 artifact file(s) and 0 other file(s)"
            ],
            "text/plain": [
              "<IPython.core.display.HTML object>"
            ]
          },
          "metadata": {},
          "output_type": "display_data"
        },
        {
          "data": {
            "text/html": [
              "Find logs at: <code>./wandb/run-20250501_183703-oj4nv5gy/logs</code>"
            ],
            "text/plain": [
              "<IPython.core.display.HTML object>"
            ]
          },
          "metadata": {},
          "output_type": "display_data"
        },
        {
          "data": {
            "text/html": [
              "Tracking run with wandb version 0.19.10"
            ],
            "text/plain": [
              "<IPython.core.display.HTML object>"
            ]
          },
          "metadata": {},
          "output_type": "display_data"
        },
        {
          "data": {
            "text/html": [
              "Run data is saved locally in <code>/content/wandb/run-20250501_183735-vbgitvem</code>"
            ],
            "text/plain": [
              "<IPython.core.display.HTML object>"
            ]
          },
          "metadata": {},
          "output_type": "display_data"
        },
        {
          "data": {
            "text/html": [
              "Syncing run <strong><a href='https://wandb.ai/wilfried-mvomoeto-university-of-li-ge/Few-Shot-Binary-Class-Training_gru_glove_fastText_Bahdanau-CNN_LSTM-/runs/vbgitvem' target=\"_blank\">CNN_LSTM_K-600_Training</a></strong> to <a href='https://wandb.ai/wilfried-mvomoeto-university-of-li-ge/Few-Shot-Binary-Class-Training_gru_glove_fastText_Bahdanau-CNN_LSTM-' target=\"_blank\">Weights & Biases</a> (<a href='https://wandb.me/developer-guide' target=\"_blank\">docs</a>)<br>"
            ],
            "text/plain": [
              "<IPython.core.display.HTML object>"
            ]
          },
          "metadata": {},
          "output_type": "display_data"
        },
        {
          "data": {
            "text/html": [
              " View project at <a href='https://wandb.ai/wilfried-mvomoeto-university-of-li-ge/Few-Shot-Binary-Class-Training_gru_glove_fastText_Bahdanau-CNN_LSTM-' target=\"_blank\">https://wandb.ai/wilfried-mvomoeto-university-of-li-ge/Few-Shot-Binary-Class-Training_gru_glove_fastText_Bahdanau-CNN_LSTM-</a>"
            ],
            "text/plain": [
              "<IPython.core.display.HTML object>"
            ]
          },
          "metadata": {},
          "output_type": "display_data"
        },
        {
          "data": {
            "text/html": [
              " View run at <a href='https://wandb.ai/wilfried-mvomoeto-university-of-li-ge/Few-Shot-Binary-Class-Training_gru_glove_fastText_Bahdanau-CNN_LSTM-/runs/vbgitvem' target=\"_blank\">https://wandb.ai/wilfried-mvomoeto-university-of-li-ge/Few-Shot-Binary-Class-Training_gru_glove_fastText_Bahdanau-CNN_LSTM-/runs/vbgitvem</a>"
            ],
            "text/plain": [
              "<IPython.core.display.HTML object>"
            ]
          },
          "metadata": {},
          "output_type": "display_data"
        },
        {
          "name": "stderr",
          "output_type": "stream",
          "text": [
            "Training CNN_LSTM with 600-shot:   0%|          | 0/1000 [00:01<?, ?epoch/s]"
          ]
        },
        {
          "name": "stdout",
          "output_type": "stream",
          "text": [
            "Early stopping triggered at epoch 1\n",
            "Model CNN_LSTM_K-600 saved with loss gap > 1.25 or accuracy gap > 10% at epoch 0.\n"
          ]
        },
        {
          "name": "stderr",
          "output_type": "stream",
          "text": [
            "\n",
            "<ipython-input-10-f03193db776b>:44: UserWarning: To copy construct from a tensor, it is recommended to use sourceTensor.clone().detach() or sourceTensor.clone().detach().requires_grad_(True), rather than torch.tensor(sourceTensor).\n",
            "  self.X = torch.tensor(X_data, dtype=torch.long)\n",
            "<ipython-input-10-f03193db776b>:45: UserWarning: To copy construct from a tensor, it is recommended to use sourceTensor.clone().detach() or sourceTensor.clone().detach().requires_grad_(True), rather than torch.tensor(sourceTensor).\n",
            "  self.y = torch.tensor(y_data, dtype=torch.long)\n"
          ]
        },
        {
          "data": {
            "text/html": [
              "Finishing previous runs because reinit is set to 'default'."
            ],
            "text/plain": [
              "<IPython.core.display.HTML object>"
            ]
          },
          "metadata": {},
          "output_type": "display_data"
        },
        {
          "data": {
            "text/html": [],
            "text/plain": [
              "<IPython.core.display.HTML object>"
            ]
          },
          "metadata": {},
          "output_type": "display_data"
        },
        {
          "data": {
            "text/html": [
              "<br>    <style><br>        .wandb-row {<br>            display: flex;<br>            flex-direction: row;<br>            flex-wrap: wrap;<br>            justify-content: flex-start;<br>            width: 100%;<br>        }<br>        .wandb-col {<br>            display: flex;<br>            flex-direction: column;<br>            flex-basis: 100%;<br>            flex: 1;<br>            padding: 10px;<br>        }<br>    </style><br><div class=\"wandb-row\"><div class=\"wandb-col\"><h3>Run history:</h3><br/><table class=\"wandb\"><tr><td>epoch</td><td>▁</td></tr><tr><td>k_shot</td><td>▁</td></tr><tr><td>test_acc</td><td>▁</td></tr><tr><td>test_balanced_acc</td><td>▁</td></tr><tr><td>test_f1</td><td>▁</td></tr><tr><td>test_loss</td><td>▁</td></tr><tr><td>test_precision</td><td>▁</td></tr><tr><td>test_recall</td><td>▁</td></tr><tr><td>train_acc</td><td>▁</td></tr><tr><td>train_loss</td><td>▁</td></tr></table><br/></div><div class=\"wandb-col\"><h3>Run summary:</h3><br/><table class=\"wandb\"><tr><td>epoch</td><td>1</td></tr><tr><td>k_shot</td><td>600</td></tr><tr><td>test_acc</td><td>0.35482</td></tr><tr><td>test_balanced_acc</td><td>0.4977</td></tr><tr><td>test_f1</td><td>0.19371</td></tr><tr><td>test_loss</td><td>0.69472</td></tr><tr><td>test_precision</td><td>0.46594</td></tr><tr><td>test_recall</td><td>0.35482</td></tr><tr><td>train_acc</td><td>0.485</td></tr><tr><td>train_loss</td><td>0.69478</td></tr></table><br/></div></div>"
            ],
            "text/plain": [
              "<IPython.core.display.HTML object>"
            ]
          },
          "metadata": {},
          "output_type": "display_data"
        },
        {
          "data": {
            "text/html": [
              " View run <strong style=\"color:#cdcd00\">CNN_LSTM_K-600_Training</strong> at: <a href='https://wandb.ai/wilfried-mvomoeto-university-of-li-ge/Few-Shot-Binary-Class-Training_gru_glove_fastText_Bahdanau-CNN_LSTM-/runs/vbgitvem' target=\"_blank\">https://wandb.ai/wilfried-mvomoeto-university-of-li-ge/Few-Shot-Binary-Class-Training_gru_glove_fastText_Bahdanau-CNN_LSTM-/runs/vbgitvem</a><br> View project at: <a href='https://wandb.ai/wilfried-mvomoeto-university-of-li-ge/Few-Shot-Binary-Class-Training_gru_glove_fastText_Bahdanau-CNN_LSTM-' target=\"_blank\">https://wandb.ai/wilfried-mvomoeto-university-of-li-ge/Few-Shot-Binary-Class-Training_gru_glove_fastText_Bahdanau-CNN_LSTM-</a><br>Synced 5 W&B file(s), 0 media file(s), 0 artifact file(s) and 0 other file(s)"
            ],
            "text/plain": [
              "<IPython.core.display.HTML object>"
            ]
          },
          "metadata": {},
          "output_type": "display_data"
        },
        {
          "data": {
            "text/html": [
              "Find logs at: <code>./wandb/run-20250501_183735-vbgitvem/logs</code>"
            ],
            "text/plain": [
              "<IPython.core.display.HTML object>"
            ]
          },
          "metadata": {},
          "output_type": "display_data"
        },
        {
          "data": {
            "text/html": [
              "Tracking run with wandb version 0.19.10"
            ],
            "text/plain": [
              "<IPython.core.display.HTML object>"
            ]
          },
          "metadata": {},
          "output_type": "display_data"
        },
        {
          "data": {
            "text/html": [
              "Run data is saved locally in <code>/content/wandb/run-20250501_183744-7xm4qtrp</code>"
            ],
            "text/plain": [
              "<IPython.core.display.HTML object>"
            ]
          },
          "metadata": {},
          "output_type": "display_data"
        },
        {
          "data": {
            "text/html": [
              "Syncing run <strong><a href='https://wandb.ai/wilfried-mvomoeto-university-of-li-ge/Few-Shot-Binary-Class-Training_gru_glove_fastText_Bahdanau-GRU-Glove-/runs/7xm4qtrp' target=\"_blank\">GRU-Glove_K-600_Training</a></strong> to <a href='https://wandb.ai/wilfried-mvomoeto-university-of-li-ge/Few-Shot-Binary-Class-Training_gru_glove_fastText_Bahdanau-GRU-Glove-' target=\"_blank\">Weights & Biases</a> (<a href='https://wandb.me/developer-guide' target=\"_blank\">docs</a>)<br>"
            ],
            "text/plain": [
              "<IPython.core.display.HTML object>"
            ]
          },
          "metadata": {},
          "output_type": "display_data"
        },
        {
          "data": {
            "text/html": [
              " View project at <a href='https://wandb.ai/wilfried-mvomoeto-university-of-li-ge/Few-Shot-Binary-Class-Training_gru_glove_fastText_Bahdanau-GRU-Glove-' target=\"_blank\">https://wandb.ai/wilfried-mvomoeto-university-of-li-ge/Few-Shot-Binary-Class-Training_gru_glove_fastText_Bahdanau-GRU-Glove-</a>"
            ],
            "text/plain": [
              "<IPython.core.display.HTML object>"
            ]
          },
          "metadata": {},
          "output_type": "display_data"
        },
        {
          "data": {
            "text/html": [
              " View run at <a href='https://wandb.ai/wilfried-mvomoeto-university-of-li-ge/Few-Shot-Binary-Class-Training_gru_glove_fastText_Bahdanau-GRU-Glove-/runs/7xm4qtrp' target=\"_blank\">https://wandb.ai/wilfried-mvomoeto-university-of-li-ge/Few-Shot-Binary-Class-Training_gru_glove_fastText_Bahdanau-GRU-Glove-/runs/7xm4qtrp</a>"
            ],
            "text/plain": [
              "<IPython.core.display.HTML object>"
            ]
          },
          "metadata": {},
          "output_type": "display_data"
        },
        {
          "name": "stderr",
          "output_type": "stream",
          "text": [
            "Training GRU-Glove with 600-shot:   0%|          | 0/1000 [00:01<?, ?epoch/s]"
          ]
        },
        {
          "name": "stdout",
          "output_type": "stream",
          "text": [
            "Early stopping triggered at epoch 1\n",
            "Model GRU-Glove_K-600 saved with loss gap > 1.25 or accuracy gap > 10% at epoch 0.\n"
          ]
        },
        {
          "name": "stderr",
          "output_type": "stream",
          "text": [
            "\n",
            "<ipython-input-10-f03193db776b>:44: UserWarning: To copy construct from a tensor, it is recommended to use sourceTensor.clone().detach() or sourceTensor.clone().detach().requires_grad_(True), rather than torch.tensor(sourceTensor).\n",
            "  self.X = torch.tensor(X_data, dtype=torch.long)\n",
            "<ipython-input-10-f03193db776b>:45: UserWarning: To copy construct from a tensor, it is recommended to use sourceTensor.clone().detach() or sourceTensor.clone().detach().requires_grad_(True), rather than torch.tensor(sourceTensor).\n",
            "  self.y = torch.tensor(y_data, dtype=torch.long)\n"
          ]
        },
        {
          "data": {
            "text/html": [
              "Finishing previous runs because reinit is set to 'default'."
            ],
            "text/plain": [
              "<IPython.core.display.HTML object>"
            ]
          },
          "metadata": {},
          "output_type": "display_data"
        },
        {
          "data": {
            "text/html": [],
            "text/plain": [
              "<IPython.core.display.HTML object>"
            ]
          },
          "metadata": {},
          "output_type": "display_data"
        },
        {
          "data": {
            "text/html": [
              "<br>    <style><br>        .wandb-row {<br>            display: flex;<br>            flex-direction: row;<br>            flex-wrap: wrap;<br>            justify-content: flex-start;<br>            width: 100%;<br>        }<br>        .wandb-col {<br>            display: flex;<br>            flex-direction: column;<br>            flex-basis: 100%;<br>            flex: 1;<br>            padding: 10px;<br>        }<br>    </style><br><div class=\"wandb-row\"><div class=\"wandb-col\"><h3>Run history:</h3><br/><table class=\"wandb\"><tr><td>epoch</td><td>▁</td></tr><tr><td>k_shot</td><td>▁</td></tr><tr><td>test_acc</td><td>▁</td></tr><tr><td>test_balanced_acc</td><td>▁</td></tr><tr><td>test_f1</td><td>▁</td></tr><tr><td>test_loss</td><td>▁</td></tr><tr><td>test_precision</td><td>▁</td></tr><tr><td>test_recall</td><td>▁</td></tr><tr><td>train_acc</td><td>▁</td></tr><tr><td>train_loss</td><td>▁</td></tr></table><br/></div><div class=\"wandb-col\"><h3>Run summary:</h3><br/><table class=\"wandb\"><tr><td>epoch</td><td>1</td></tr><tr><td>k_shot</td><td>600</td></tr><tr><td>test_acc</td><td>0.35408</td></tr><tr><td>test_balanced_acc</td><td>0.49823</td></tr><tr><td>test_f1</td><td>0.18918</td></tr><tr><td>test_loss</td><td>0.69977</td></tr><tr><td>test_precision</td><td>0.4311</td></tr><tr><td>test_recall</td><td>0.35408</td></tr><tr><td>train_acc</td><td>0.4825</td></tr><tr><td>train_loss</td><td>0.72061</td></tr></table><br/></div></div>"
            ],
            "text/plain": [
              "<IPython.core.display.HTML object>"
            ]
          },
          "metadata": {},
          "output_type": "display_data"
        },
        {
          "data": {
            "text/html": [
              " View run <strong style=\"color:#cdcd00\">GRU-Glove_K-600_Training</strong> at: <a href='https://wandb.ai/wilfried-mvomoeto-university-of-li-ge/Few-Shot-Binary-Class-Training_gru_glove_fastText_Bahdanau-GRU-Glove-/runs/7xm4qtrp' target=\"_blank\">https://wandb.ai/wilfried-mvomoeto-university-of-li-ge/Few-Shot-Binary-Class-Training_gru_glove_fastText_Bahdanau-GRU-Glove-/runs/7xm4qtrp</a><br> View project at: <a href='https://wandb.ai/wilfried-mvomoeto-university-of-li-ge/Few-Shot-Binary-Class-Training_gru_glove_fastText_Bahdanau-GRU-Glove-' target=\"_blank\">https://wandb.ai/wilfried-mvomoeto-university-of-li-ge/Few-Shot-Binary-Class-Training_gru_glove_fastText_Bahdanau-GRU-Glove-</a><br>Synced 5 W&B file(s), 0 media file(s), 0 artifact file(s) and 0 other file(s)"
            ],
            "text/plain": [
              "<IPython.core.display.HTML object>"
            ]
          },
          "metadata": {},
          "output_type": "display_data"
        },
        {
          "data": {
            "text/html": [
              "Find logs at: <code>./wandb/run-20250501_183744-7xm4qtrp/logs</code>"
            ],
            "text/plain": [
              "<IPython.core.display.HTML object>"
            ]
          },
          "metadata": {},
          "output_type": "display_data"
        },
        {
          "data": {
            "text/html": [
              "Tracking run with wandb version 0.19.10"
            ],
            "text/plain": [
              "<IPython.core.display.HTML object>"
            ]
          },
          "metadata": {},
          "output_type": "display_data"
        },
        {
          "data": {
            "text/html": [
              "Run data is saved locally in <code>/content/wandb/run-20250501_183753-wjmx4m1v</code>"
            ],
            "text/plain": [
              "<IPython.core.display.HTML object>"
            ]
          },
          "metadata": {},
          "output_type": "display_data"
        },
        {
          "data": {
            "text/html": [
              "Syncing run <strong><a href='https://wandb.ai/wilfried-mvomoeto-university-of-li-ge/Few-Shot-Binary-Class-Training_gru_glove_fastText_Bahdanau-GRU-FastText-/runs/wjmx4m1v' target=\"_blank\">GRU-FastText_K-600_Training</a></strong> to <a href='https://wandb.ai/wilfried-mvomoeto-university-of-li-ge/Few-Shot-Binary-Class-Training_gru_glove_fastText_Bahdanau-GRU-FastText-' target=\"_blank\">Weights & Biases</a> (<a href='https://wandb.me/developer-guide' target=\"_blank\">docs</a>)<br>"
            ],
            "text/plain": [
              "<IPython.core.display.HTML object>"
            ]
          },
          "metadata": {},
          "output_type": "display_data"
        },
        {
          "data": {
            "text/html": [
              " View project at <a href='https://wandb.ai/wilfried-mvomoeto-university-of-li-ge/Few-Shot-Binary-Class-Training_gru_glove_fastText_Bahdanau-GRU-FastText-' target=\"_blank\">https://wandb.ai/wilfried-mvomoeto-university-of-li-ge/Few-Shot-Binary-Class-Training_gru_glove_fastText_Bahdanau-GRU-FastText-</a>"
            ],
            "text/plain": [
              "<IPython.core.display.HTML object>"
            ]
          },
          "metadata": {},
          "output_type": "display_data"
        },
        {
          "data": {
            "text/html": [
              " View run at <a href='https://wandb.ai/wilfried-mvomoeto-university-of-li-ge/Few-Shot-Binary-Class-Training_gru_glove_fastText_Bahdanau-GRU-FastText-/runs/wjmx4m1v' target=\"_blank\">https://wandb.ai/wilfried-mvomoeto-university-of-li-ge/Few-Shot-Binary-Class-Training_gru_glove_fastText_Bahdanau-GRU-FastText-/runs/wjmx4m1v</a>"
            ],
            "text/plain": [
              "<IPython.core.display.HTML object>"
            ]
          },
          "metadata": {},
          "output_type": "display_data"
        },
        {
          "name": "stderr",
          "output_type": "stream",
          "text": [
            "Training GRU-FastText with 600-shot:   0%|          | 0/1000 [00:01<?, ?epoch/s]"
          ]
        },
        {
          "name": "stdout",
          "output_type": "stream",
          "text": [
            "Early stopping triggered at epoch 1\n",
            "Model GRU-FastText_K-600 saved with loss gap > 1.25 or accuracy gap > 10% at epoch 0.\n"
          ]
        },
        {
          "name": "stderr",
          "output_type": "stream",
          "text": [
            "\n"
          ]
        }
      ],
      "source": [
        "model_metrics = {}\n",
        "\n",
        "k_values = [5, 10, 20, 30, 50, 60, 70, 80, 100, 150, 200, 400, 600]\n",
        "for k in k_values:\n",
        "    print(f\"\\nTraining with {k}-shot...\")\n",
        "    for model_name, model in models_info.items():\n",
        "        if model_name not in optimizers:\n",
        "            print(f\"Skipping {model_name} — no optimizer found.\")\n",
        "            continue\n",
        "\n",
        "        optimizer = optimizers[model_name]\n",
        "\n",
        "        if model_name not in model_metrics:\n",
        "            model_metrics[model_name] = {\n",
        "                \"train_losses\": [],\n",
        "                \"test_losses\": [],\n",
        "                \"train_accuracies\": [],\n",
        "                \"test_accuracies\": [],\n",
        "                \"test_f1s\": [],\n",
        "                \"test_balanced_accs\": [],\n",
        "                \"test_recalls\": [],\n",
        "                \"test_precisions\": []\n",
        "            }\n",
        "\n",
        "        results = train_and_evaluate_model(\n",
        "            model=model,\n",
        "            k=k,\n",
        "            X_combined_tensor=X_combined_tensor,\n",
        "            y_combined_tensor=y_combined_tensor,\n",
        "            optimizer=optimizer,\n",
        "            loss_function=loss_function,\n",
        "            num_epochs=1000,\n",
        "            batch_size=batch_size ,\n",
        "            test_loader=test_loader,\n",
        "            model_name=model_name\n",
        "        )\n",
        "\n",
        "        for key in model_metrics[model_name]:\n",
        "            model_metrics[model_name][key].append(results[key])"
      ]
    },
    {
      "cell_type": "code",
      "execution_count": 23,
      "metadata": {
        "colab": {
          "base_uri": "https://localhost:8080/",
          "height": 549
        },
        "id": "rjTNKdFumABf",
        "outputId": "939cee20-65ea-403c-dabd-f265e548c8d7"
      },
      "outputs": [
        {
          "data": {
            "image/png": "[encoded data removed]",
            "text/plain": [
              "<Figure size 1800x600 with 4 Axes>"
            ]
          },
          "metadata": {},
          "output_type": "display_data"
        }
      ],
      "source": [
        "plot_max_metrics(model_metrics, k_values)"
      ]
    },
    {
      "cell_type": "markdown",
      "metadata": {
        "id": "y8E3KaQQ0-y_"
      },
      "source": [
        "---\n",
        "##Few-Shot Learning Performance Analysis\n",
        "\n",
        "1. **F1 Score**\n",
        "\n",
        "Glove-GRU-Bahdanau consistently achieves the highest F1 scores across all K values.\n",
        "Glove-GRU starts with very low F1 but improves significantly at higher K (e.g., 600).\n",
        "CNN_LSTM remains relatively flat and low throughout. We can interpret Glove-GRU-Bahdanau provides the best balance between precision and recall, even with fewer samples.\n",
        "\n",
        "2. **Balanced Accuracy**\n",
        "\n",
        "Glove-GRU-Bahdanau remains high and stable.\n",
        "Glove-GRU sees a sudden spike at K=600.\n",
        "CNN_LSTM performs poorly and shows almost no change. We can interpret Bahdanau-based models are more reliable for balanced class performance.\n",
        "\n",
        "3. **Recall**\n",
        "\n",
        "Glove-GRU-Bahdanau maintains high recall across all values.\n",
        "Glove-GRU increases significantly at K=600.\n",
        "CNN_LSTM remains consistently low. We can interpret Bahdanau is effective at identifying true positives, which is critical in many classification tasks.\n",
        "\n",
        "4. **Precision**\n",
        "Glove-GRU-Bahdanau demonstrates high precision even with fewer shots.\n",
        "Glove-GRU and CNN_LSTM start low but Glove-GRU shows some improvement.\n",
        "We can interpret Bahdanau makes fewer false-positive predictions, ensuring more trustworthy outputs.\n",
        "\n",
        "###Overall Conclusion\n",
        "Glove-GRU-Bahdanau is the most performant and stable model, especially in low-data scenarios (few-shot learning).\n",
        "Glove-GRU benefits significantly from more data but lags behind until high K.\n",
        "CNN_LSTM underperforms across all metrics and K values."
      ]
    }
  ],
  "metadata": {
    "accelerator": "GPU",
    "colab": {
      "gpuType": "T4",
      "provenance": [],
      "toc_visible": true
    },
    "kernelspec": {
      "display_name": "Python 3",
      "name": "python3"
    }
  },
  "nbformat": 4,
  "nbformat_minor": 0
}
